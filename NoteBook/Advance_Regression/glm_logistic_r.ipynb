{
  "nbformat": 4,
  "nbformat_minor": 0,
  "metadata": {
    "colab": {
      "provenance": [],
      "toc_visible": true,
      "authorship_tag": "ABX9TyOHMOu2RHs6MoeN1aDsH9zE",
      "include_colab_link": true
    },
    "kernelspec": {
      "name": "python3",
      "display_name": "Python 3"
    },
    "language_info": {
      "name": "python"
    }
  },
  "cells": [
    {
      "cell_type": "markdown",
      "metadata": {
        "id": "view-in-github",
        "colab_type": "text"
      },
      "source": [
        "<a href=\"https://colab.research.google.com/github/zia207/r-colab/blob/main/NoteBook/Advance_Regression/glm_logistic_r.ipynb\" target=\"_parent\"><img src=\"https://colab.research.google.com/assets/colab-badge.svg\" alt=\"Open In Colab\"/></a>"
      ]
    },
    {
      "cell_type": "markdown",
      "source": [
        "![alt text](http://drive.google.com/uc?export=view&id=1bLQ3nhDbZrCCqy_WCxxckOne2lgVvn3l)"
      ],
      "metadata": {
        "id": "KsBkpmP_qjLM"
      }
    },
    {
      "cell_type": "markdown",
      "source": [
        "# GLM Model with a Binary Response Variable (Logistic Regression)\n",
        "\n",
        "\n"
      ],
      "metadata": {
        "id": "Dzp9ZseROTcY"
      }
    },
    {
      "cell_type": "markdown",
      "source": [
        "\n",
        "## Introdduction\n",
        "\n",
        "Logistic regression is a statistical method useful in scenarios where the categorical outcome variable has only two possible classes. It is a binary classification method that predicts the probability of an instance belonging to a particular category or class. The method derives its name from its use of the logistic function to model the probability of a given class.\n",
        "\n",
        "Logistic regression falls under the category of supervised learning. This means that it makes predictions based on labeled data. The method is widely used in various fields, such as finance, healthcare, and marketing. Logistic regression is particularly useful in analyzing datasets with many variables and can be used to identify significant variables that influence the outcome variable.\n",
        "\n",
        "Despite its name, logistic regression is not used for regression but rather for classification. It is a powerful tool that can help businesses and researchers make informed decisions based on the probability of an event occurring.\n",
        "\n",
        "Here are the key concepts and components of logistic regression:\n",
        "\n",
        "1.  **Sigmoid Function (Logistic Function):** The logistic regression model uses the sigmoid function to map any real-valued number into a value between 0 and 1. The sigmoid function is defined as:\n",
        "\n",
        "$$ \\sigma(z) = \\frac{1}{1 + e^{-z}} $$\n",
        "\n",
        "where $z$ is a linear combination of the input features and their corresponding weights.\n",
        "\n",
        "2.  **Linear Combination:** The linear combination $z$ is given by:\n",
        "\n",
        "$$ z = b + w_1x_1 + w_2x_2 + \\ldots + w_nx_n $$\n",
        "\n",
        "Here, $b$ is the bias term, $w_i$ are the weights associated with each feature $x_i$, and $n$ is the number of features.\n",
        "\n",
        "3.  **Probability Prediction:** The output of the logistic regression model is the probability that a given input belongs to a particular class. The sigmoid function ensures that the output is bounded between 0 and 1.\n",
        "\n",
        "$$ P(Y=1) = \\sigma(z) $$ $$ P(Y=0) = 1 - \\sigma(z) $$\n",
        "\n",
        "4.  **Decision Boundary:** A decision boundary is a threshold used to classify instances into one of the two classes. If the predicted probability is above the threshold, the instance is assigned to class 1; otherwise, it is assigned to class 0.\n",
        "\n",
        "5.  **Cost Function (Log Loss):** The logistic regression model is trained by minimizing a cost function, typically the log loss (cross-entropy) function. The goal is to find the set of weights and bias that minimizes the difference between the predicted probabilities and the actual class labels in the training data. Given a set of observations with binary outcomes (0 or 1), the log loss for a single observation is defined as:\n",
        "\n",
        "$$ J(w,b) = -\\frac{1}{m} \\sum_{i=1}^{m} [y^{(i)} \\log(\\hat{y}^{(i)}) + (1 - y^{(i)}) \\log(1 - \\hat{y}^{(i)})] $$\n",
        "\n",
        "where $m$ is the number of training examples, $y^{(i)}$ is the true label for the i-th example, and $\\hat{y}^{(i)}$ is the predicted probability of class 1 for the i-th example.\n",
        "\n",
        "Logistic regression is widely used in various fields, including medicine, finance, and social sciences, for binary classification problems. It can be extended to handle multiclass classification through techniques such as one-vs-rest or one-vs-one."
      ],
      "metadata": {
        "id": "h0FPXx8mGylY"
      }
    },
    {
      "cell_type": "markdown",
      "source": [
        "## Install rpy2"
      ],
      "metadata": {
        "id": "SDp3ULld8Gb9"
      }
    },
    {
      "cell_type": "code",
      "source": [
        "!pip uninstall rpy2 -y\n",
        "!pip install rpy2==3.5.1\n",
        "%load_ext rpy2.ipython"
      ],
      "metadata": {
        "id": "CiM6y-Mw8AJp"
      },
      "execution_count": null,
      "outputs": []
    },
    {
      "cell_type": "markdown",
      "source": [
        "## Mount Google Drive"
      ],
      "metadata": {
        "id": "O1zeuaCowiBt"
      }
    },
    {
      "cell_type": "code",
      "source": [
        "from google.colab import drive\n",
        "drive.mount('/content/drive')"
      ],
      "metadata": {
        "colab": {
          "base_uri": "https://localhost:8080/"
        },
        "id": "9J-4ie4bwiJ1",
        "outputId": "c478d0ae-3cde-4eb9-92ff-a62568255995"
      },
      "execution_count": 2,
      "outputs": [
        {
          "output_type": "stream",
          "name": "stdout",
          "text": [
            "Mounted at /content/drive\n"
          ]
        }
      ]
    },
    {
      "cell_type": "markdown",
      "source": [
        "## Check and Install required R Packages"
      ],
      "metadata": {
        "id": "yXu-XY0mw1A8"
      }
    },
    {
      "cell_type": "code",
      "source": [
        "%%R\n",
        "pkg <- c('tidyverse',\n",
        "         'tidymodels',\n",
        "         'caret',\n",
        "         'broom',\n",
        "         'report',\n",
        "         'stargazer',\n",
        "         'performance',\n",
        "         'jtools',\n",
        "         'relaimpo',\n",
        "         'ggpmisc',\n",
        "         'see',\n",
        "         'Metrics',\n",
        "         'flextable',\n",
        "         'gt',\n",
        "         'rstatix',\n",
        "         'RColorBrewer',\n",
        "         'pROC',\n",
        "         'ROCR'\n",
        "         )\n",
        "new.packages <- pkg[!(pkg %in% installed.packages(lib='drive/My Drive/R/')[,\"Package\"])]\n",
        "if(length(new.packages)) install.packages(new.packages, lib='drive/My Drive/R/')\n"
      ],
      "metadata": {
        "id": "TeYB57l0wz5N"
      },
      "execution_count": null,
      "outputs": []
    },
    {
      "cell_type": "markdown",
      "source": [
        "## Load packages"
      ],
      "metadata": {
        "id": "MV7R29xfyWQz"
      }
    },
    {
      "cell_type": "code",
      "source": [
        "%%R\n",
        "# set library path\n",
        ".libPaths('drive/My Drive/R')\n",
        "library(tidyverse)\n",
        "library(broom)\n",
        "library(stargazer)\n",
        "library(report)\n",
        "library(performance)\n",
        "library(Metrics)\n",
        "library(ggpmisc)\n",
        "library(jtools)\n",
        "library(relaimpo)\n",
        "library(flextable)\n",
        "library(gt)\n",
        "library(plyr)\n",
        "library(patchwork)\n",
        "library(ggpmisc)\n",
        "library(pROC)\n",
        "library(caret)\n",
        "library(ROCR)"
      ],
      "metadata": {
        "id": "232jNAHBykUL"
      },
      "execution_count": null,
      "outputs": []
    },
    {
      "cell_type": "markdown",
      "source": [
        "## Data\n",
        "\n",
        "Our goal is to develop a GLM regression model to predict paddy soil arsenic (`SAs`) concentration using various irrigation water and soil properties. We have available data of 263 paired groundwater and paddy soil samples from arsenic contaminated areas in Tala Upazilla, Satkhira district, Bangladesh. This data was utilized in a publication titled \"Factors Affecting Paddy Soil Arsenic Concentration in Bangladesh: Prediction and Uncertainty of Geostatistical Risk Mapping\" which can be accessed via the this [URL](https://doi.org/10.1016/j.scitotenv.2011.10.008)\n",
        "\n",
        "We used this data set for [Assessing soil carbon vulnerability in the Western USA by geospatial modeling of pyrogenic and particulate carbon stocks](https://agupubs.onlinelibrary.wiley.com/doi/full/10.1002/2016JG003488).\n",
        "\n",
        "Full data set is available for download can download from my [Dropbox](https://www.dropbox.com/scl/fo/2rh6r68i9cxmgortvbw8q/h?rlkey=bvntt66n9mcywprmdki08ch3r&dl=0) or from my [Github](https://github.com/zia207/r-colab/tree/main/Data/Regression_analysis) accounts.\n",
        "\n",
        "We will use `read_csv()` function of **readr** package to import data as a **tidy** data."
      ],
      "metadata": {
        "id": "WViZ3IdLrzNs"
      }
    },
    {
      "cell_type": "code",
      "execution_count": 6,
      "metadata": {
        "colab": {
          "base_uri": "https://localhost:8080/"
        },
        "id": "CFpt_H01OPsa",
        "outputId": "1a33dbb6-7b09-45be-838e-1da41d1e08da"
      },
      "outputs": [
        {
          "output_type": "stream",
          "name": "stdout",
          "text": [
            "Rows: 263 Columns: 29\n",
            "── Column specification ────────────────────────────────────────────────────────\n",
            "Delimiter: \",\"\n",
            "chr  (1): Land_type\n",
            "dbl (28): ID, Longitude, Latitude, WAs, WP, WFe, WEc, WpH, WMg, WNa, WCa, WK...\n",
            "\n",
            "ℹ Use `spec()` to retrieve the full column specification for this data.\n",
            "ℹ Specify the column types or set `show_col_types = FALSE` to quiet this message.\n",
            "Rows: 26 Columns: 2\n",
            "── Column specification ────────────────────────────────────────────────────────\n",
            "Delimiter: \",\"\n",
            "chr (2): Variables, Description\n",
            "\n",
            "ℹ Use `spec()` to retrieve the full column specification for this data.\n",
            "ℹ Specify the column types or set `show_col_types = FALSE` to quiet this message.\n"
          ]
        }
      ],
      "source": [
        "%%R\n",
        "mf<-read_csv(\"https://github.com/zia207/r-colab/raw/main/Data/Regression_analysis/bd_soil_arsenic.csv\")\n",
        "meta.as<-read_csv(\"https://github.com/zia207/r-colab/raw/main/Data/Regression_analysis/bd_soil_arsenic_meta_data.csv\")"
      ]
    },
    {
      "cell_type": "code",
      "source": [
        "%%R\n",
        "meta.as"
      ],
      "metadata": {
        "colab": {
          "base_uri": "https://localhost:8080/"
        },
        "id": "HZIK9ZV7zZKI",
        "outputId": "bae0ba43-7c26-4dd3-ad46-bda5c439140c"
      },
      "execution_count": null,
      "outputs": [
        {
          "output_type": "stream",
          "name": "stdout",
          "text": [
            "# A tibble: 26 × 2\n",
            "   Variables Description              \n",
            "   <chr>     <chr>                    \n",
            " 1 WAs       Irrigation water  Arsenic\n",
            " 2 WP        Irrigation water P       \n",
            " 3 WFe       Irrigation water  Fe     \n",
            " 4 WEc       Irrigation water Ec      \n",
            " 5 WpH       Irrigation water  pH     \n",
            " 6 WMg       Irrigation water  Mg     \n",
            " 7 WNa       Irrigation water Na      \n",
            " 8 WCa       Irrigation water  Ca     \n",
            " 9 WK        Irrigation water K       \n",
            "10 WS        Irrigation water  S      \n",
            "# ℹ 16 more rows\n",
            "# ℹ Use `print(n = ...)` to see more rows\n"
          ]
        }
      ]
    },
    {
      "cell_type": "markdown",
      "source": [
        "## Create a binary response variable\n",
        "\n",
        "The `binary class` typically refers to a classification problem where there are only two possible classes or outcomes. As we see `SAs` is a continuous variable, but we need to convert it into binary class (contaminated and non-contaminated) based on our published paper. The paper suggests that we use the probability of exceeding the upper baseline soil arsenic concentration (14.8 mg/kg) to define soil samples as either As contaminated (`Yes`) or non-contaminated (`No`).\n",
        "\n",
        "Here we will convert `Soil As (SAs)` into two classes- `Yes = Contaminated`and `No = noncontaminated` and create a new binary response variables (`Class_As`) with two levels:\n",
        "\n",
        "Yes = `SAs` \\> 14.8 mg As/kg\n",
        "\n",
        "No = `SAs` \\< 14.8 mg As/kg"
      ],
      "metadata": {
        "id": "WaLbMQss-gul"
      }
    },
    {
      "cell_type": "code",
      "source": [
        "%%R\n",
        "mf$Class_As<- cut(mf$SAs,\n",
        "                   breaks=c(-Inf, 14.8, Inf),\n",
        "                   labels=c(\"No\", \"Yes\"))\n",
        "mf$Class_As<-as.factor(mf$Class_As)"
      ],
      "metadata": {
        "id": "a4fWoA7I-kNf"
      },
      "execution_count": 7,
      "outputs": []
    },
    {
      "cell_type": "markdown",
      "source": [
        "## Feature Engineering\n",
        "\n",
        "Feature engineering is a vital task in the data preparation process for data analysis, particularly for machine learning models. It creates new features from ones or transforms them to enhance the machine learning algorithm's performance. Doing so makes achieving higher accuracy, better generalization, and a more straightforward interpretation of the model possible. Some standard techniques used in feature engineering include dimensionality reduction, feature scaling, and feature extraction. When performing feature engineering, it is essential to consider the data type, distribution, and target variable, among other factors.\n",
        "\n",
        "We will apply following operation before fit a GLM regression model.\n",
        "\n",
        "1.  create a new features: We will create a new feature (Sand_Silt) by adding soil Silt and Sand percentage\n",
        "\n",
        "2.  Convert to factors: As Land_type is categorical variable representing distinct categories rather than numerical values, we need to convert them into factors. This process will allow us to analyze and interpret the data more accurately, facilitating a better understanding of the underlying patterns and trends."
      ],
      "metadata": {
        "id": "mLGsopcHr_Qn"
      }
    },
    {
      "cell_type": "code",
      "source": [
        "%%R\n",
        "df <- mf |>\n",
        "  # select variables\n",
        "  dplyr::select (WAs, WP, WFe,\n",
        "                WEc, WpH, SPAs, SAoFe, SpH, SOC,\n",
        "                Sand, Silt, SP, Elevation,\n",
        "                Year_Irrigation, Diastance_STW,\n",
        "                Land_type, Class_As) |>\n",
        "   # convert to factor\n",
        "   dplyr::mutate_at(vars(Land_type), funs(factor))  |>\n",
        "   dplyr::mutate_at(vars(Class_As), funs(factor))  |>\n",
        "   # create a variable\n",
        "   dplyr::mutate (Silt_Sand = Silt+Sand)  |>\n",
        "   # drop two variables\n",
        "   dplyr::select(-c(Silt,Sand)) |>\n",
        "   # relocate or organized variable\n",
        "   dplyr::relocate(Class_As, .after=Silt_Sand) |>\n",
        "   dplyr::relocate(Land_type, .after=Silt_Sand) |>\n",
        "   # normalize the all numerical features\n",
        "   dplyr::mutate_at(1:14,  funs((.-min(.))/max(.-min(.)))) |>\n",
        "   glimpse()"
      ],
      "metadata": {
        "colab": {
          "base_uri": "https://localhost:8080/"
        },
        "id": "C4Q559D8z6vd",
        "outputId": "b0e9e7fa-5422-40c8-f493-cfa002517212"
      },
      "execution_count": 8,
      "outputs": [
        {
          "output_type": "stream",
          "name": "stdout",
          "text": [
            "Rows: 263\n",
            "Columns: 16\n",
            "$ WAs             <dbl> 0.10738255, 0.10738255, 0.15212528, 0.24832215, 0.1364…\n",
            "$ WP              <dbl> 0.21949255, 0.39387837, 0.44341522, 0.53523963, 0.3020…\n",
            "$ WFe             <dbl> 0.1804348, 0.3423913, 0.8608696, 0.7391304, 0.3260870,…\n",
            "$ WEc             <dbl> 0.16976127, 0.18037135, 0.26790451, 0.11671088, 0.2732…\n",
            "$ WpH             <dbl> 0.4591837, 0.4897959, 0.2653061, 0.2755102, 0.3775510,…\n",
            "$ SPAs            <dbl> 0.649625668, 0.707379679, 0.362923351, 0.374474153, 0.…\n",
            "$ SAoFe           <dbl> 0.3807107, 0.4238579, 0.2944162, 0.3807107, 0.2690355,…\n",
            "$ SpH             <dbl> 0.5529954, 0.6129032, 0.6866359, 0.7050691, 0.5852535,…\n",
            "$ SOC             <dbl> 0.5333333, 0.3428571, 0.3904762, 0.5095238, 0.3428571,…\n",
            "$ SP              <dbl> 0.2277923, 0.2582715, 0.2628835, 0.2777221, 0.2360136,…\n",
            "$ Elevation       <dbl> 0.250, 0.500, 0.375, 0.250, 0.500, 0.125, 0.125, 0.250…\n",
            "$ Year_Irrigation <dbl> 0.68421053, 1.00000000, 0.47368421, 0.36842105, 0.4736…\n",
            "$ Diastance_STW   <dbl> 0.04761905, 0.07142857, 0.04761905, 0.11904762, 0.0476…\n",
            "$ Silt_Sand       <dbl> 0.6139456, 0.5918367, 0.5731293, 0.5323129, 0.6462585,…\n",
            "$ Land_type       <fct> MHL, MHL, MHL, MHL, MHL, MHL, MHL, MHL, MHL, MHL, MHL,…\n",
            "$ Class_As        <fct> Yes, Yes, Yes, Yes, Yes, Yes, Yes, Yes, Yes, No, Yes, …\n"
          ]
        }
      ]
    },
    {
      "cell_type": "markdown",
      "source": [
        "### Split data to training and test\n",
        "\n",
        "We will use the `ddply()` function of the **plyr** package to split soil carbon datainto homogeneous subgroups using **stratified random sampling**. This method involves dividing the population into strata and taking random samples from each stratum to ensure that each subgroup is proportionally represented in the sample. The goal is to obtain a representative sample of the population by adequately representing each stratum.\n"
      ],
      "metadata": {
        "id": "WWLOzlOe2YPv"
      }
    },
    {
      "cell_type": "code",
      "source": [
        "%%R\n",
        "seeds = 11076\n",
        "tr_prop = 0.70\n",
        "# training data (70% data)\n",
        "train= ddply(df,.(Land_type, Class_As),\n",
        "                 function(., seed) { set.seed(seed); .[sample(1:nrow(.), trunc(nrow(.) * tr_prop)), ] }, seed = 101)\n",
        "test = ddply(df, .(Land_type, Class_As),\n",
        "            function(., seed) { set.seed(seed); .[-sample(1:nrow(.), trunc(nrow(.) * tr_prop)), ] }, seed = 101)"
      ],
      "metadata": {
        "id": "RpMxXBXY2ZVA"
      },
      "execution_count": 9,
      "outputs": []
    },
    {
      "cell_type": "markdown",
      "source": [
        "Stratified random sampling is a technique for selecting a representative sample from a population, where the sample is chosen in a way that ensures that certain subgroups within the population are adequately represented in the sample."
      ],
      "metadata": {
        "id": "tLOhL6P_2nqP"
      }
    },
    {
      "cell_type": "code",
      "source": [
        "%%R\n",
        "print(prop.table(table(train$Class_As)))\n",
        "print(prop.table(table(test$Class_As)))"
      ],
      "metadata": {
        "colab": {
          "base_uri": "https://localhost:8080/"
        },
        "id": "VEYcn7v1_QRI",
        "outputId": "3afc7158-c632-4155-e219-abff3141d74b"
      },
      "execution_count": 10,
      "outputs": [
        {
          "output_type": "stream",
          "name": "stdout",
          "text": [
            "\n",
            "       No       Yes \n",
            "0.3551913 0.6448087 \n",
            "\n",
            "  No  Yes \n",
            "0.35 0.65 \n"
          ]
        }
      ]
    },
    {
      "cell_type": "markdown",
      "source": [],
      "metadata": {
        "id": "T-eQBQYf_Ox2"
      }
    },
    {
      "cell_type": "markdown",
      "source": [
        "## Fit a Logistic model\n",
        "\n",
        "We will use **logistic regression** to predict probability of soil As contamination (`Bi_Class_As`) based on elevation, year of irrigation, distance from STW, several irrigation water, and soil properties.\n"
      ],
      "metadata": {
        "id": "nDrDY2n63wDp"
      }
    },
    {
      "cell_type": "code",
      "source": [
        "%%R\n",
        "binom.glm<-glm(Class_As~., data= train,\n",
        "             family=binomial())"
      ],
      "metadata": {
        "id": "lcZ2Bqk23yWO"
      },
      "execution_count": 11,
      "outputs": []
    },
    {
      "cell_type": "markdown",
      "source": [
        "### Model Summary"
      ],
      "metadata": {
        "id": "VNzgM8lHBUG1"
      }
    },
    {
      "cell_type": "markdown",
      "source": [
        "The `summary()` function provides a summary of the fitted GLM model, including coefficients, standard errors, t-values, and p-values, among other statistics. This summary can help you interpret the relationship between the predictors and the response variable."
      ],
      "metadata": {
        "id": "pND9obXb35Oy"
      }
    },
    {
      "cell_type": "code",
      "source": [
        "%%R\n",
        "summary(binom.glm)"
      ],
      "metadata": {
        "colab": {
          "base_uri": "https://localhost:8080/"
        },
        "id": "vfKARaxg36w8",
        "outputId": "7f11864b-83c8-4997-f2be-38d953eac5c9"
      },
      "execution_count": 12,
      "outputs": [
        {
          "output_type": "stream",
          "name": "stdout",
          "text": [
            "\n",
            "Call:\n",
            "glm(formula = Class_As ~ ., family = binomial(), data = train)\n",
            "\n",
            "Coefficients:\n",
            "                Estimate Std. Error z value Pr(>|z|)    \n",
            "(Intercept)     -18.4909     6.3258  -2.923 0.003466 ** \n",
            "WAs              -0.4236     3.3794  -0.125 0.900241    \n",
            "WP               -0.6752     2.6184  -0.258 0.796500    \n",
            "WFe               7.0615     2.6803   2.635 0.008423 ** \n",
            "WEc               5.2968     1.9767   2.680 0.007370 ** \n",
            "WpH               4.4795     3.3682   1.330 0.183537    \n",
            "SPAs             45.7385    11.6567   3.924 8.72e-05 ***\n",
            "SAoFe             4.7727     2.7987   1.705 0.088133 .  \n",
            "SpH               6.7700     3.2379   2.091 0.036540 *  \n",
            "SOC              -1.8407     3.1364  -0.587 0.557272    \n",
            "SP                0.4601     4.9736   0.093 0.926299    \n",
            "Elevation        -9.2409     3.6181  -2.554 0.010646 *  \n",
            "Year_Irrigation   8.2526     2.4263   3.401 0.000671 ***\n",
            "Diastance_STW    -4.4892     3.2809  -1.368 0.171216    \n",
            "Silt_Sand         1.9182     2.8888   0.664 0.506685    \n",
            "Land_typeMHL     -0.6359     0.9197  -0.691 0.489330    \n",
            "---\n",
            "Signif. codes:  0 ‘***’ 0.001 ‘**’ 0.01 ‘*’ 0.05 ‘.’ 0.1 ‘ ’ 1\n",
            "\n",
            "(Dispersion parameter for binomial family taken to be 1)\n",
            "\n",
            "    Null deviance: 238.120  on 182  degrees of freedom\n",
            "Residual deviance:  59.386  on 167  degrees of freedom\n",
            "AIC: 91.386\n",
            "\n",
            "Number of Fisher Scoring iterations: 9\n",
            "\n"
          ]
        }
      ]
    },
    {
      "cell_type": "markdown",
      "source": [
        "The summary output of GLM has several components that provide valuable insights into the model's performance. The summary includes information on the call, residuals, and coefficients, which are analogous to the summary of a model fit using the `lm()` function. However, the GLM summary differs from the `lm()` function in providing additional information about the dispersion parameter and deviance values.\n",
        "\n",
        "The **intercept** represents the `log-odds` of the event happening when all independent variables are set to zero. In some cases, interpreting the intercept might not be meaningful, especially if setting all variables to zero is not a realistic or meaningful scenario in your context.\n",
        "\n",
        "Each **slope coefficient** represents the change in the `log-odd`s of the event happening for a one-unit change in the corresponding independent variable holding all other variables constant. If the slope is positive, an increase in the corresponding independent variable is associated with an increase in the log-odds of the event happening. If the slope is negative, an increase in the corresponding independent variable is associated with a decrease in the log-odds of the event happening.\n",
        "\n",
        "The **dispersion parameter** is a scaling factor that accounts for the variance of the response variable and is a crucial component of the GLM models. The deviance values are measures of the model's goodness of fit and are used to assess how well the model fits the observed data.\n",
        "\n",
        "In cases where quasi-family is not used, the dispersion value is set to 1. This value indicates that the model's variance equals the mean and performs adequately. By understanding the summary output of a GLM model, we can make informed decisions about the model's performance and take the necessary steps to improve its accuracy.\n",
        "\n",
        "We can use `reoprt()` function of **report** package to further explain the `binom.glm` object.\n",
        "\n"
      ],
      "metadata": {
        "id": "31QEa6pU4s6-"
      }
    },
    {
      "cell_type": "code",
      "source": [
        "%%R\n",
        "report(binom.glm)"
      ],
      "metadata": {
        "colab": {
          "base_uri": "https://localhost:8080/"
        },
        "id": "GvBTAQIv5Qvd",
        "outputId": "a659a030-0e5b-42f3-d143-8ca7d1940fff"
      },
      "execution_count": 16,
      "outputs": [
        {
          "output_type": "stream",
          "name": "stdout",
          "text": [
            "We fitted a logistic model (estimated using ML) to predict Class_As with WAs,\n",
            "WP, WFe, WEc, WpH, SPAs, SAoFe, SpH, SOC, SP, Elevation, Year_Irrigation,\n",
            "Diastance_STW, Silt_Sand and Land_type (formula: Class_As ~ WAs + WP + WFe +\n",
            "WEc + WpH + SPAs + SAoFe + SpH + SOC + SP + Elevation + Year_Irrigation +\n",
            "Diastance_STW + Silt_Sand + Land_type). The model's explanatory power is\n",
            "substantial (Tjur's R2 = 0.78). The model's intercept, corresponding to WAs =\n",
            "0, WP = 0, WFe = 0, WEc = 0, WpH = 0, SPAs = 0, SAoFe = 0, SpH = 0, SOC = 0, SP\n",
            "= 0, Elevation = 0, Year_Irrigation = 0, Diastance_STW = 0, Silt_Sand = 0 and\n",
            "Land_type = HL, is at -18.49 (95% CI [-32.93, -7.46], p = 0.003). Within this\n",
            "model:\n",
            "\n",
            "  - The effect of WAs is statistically non-significant and negative (beta =\n",
            "-0.42, 95% CI [-7.12, 6.30], p = 0.900; Std. beta = -0.08, 95% CI [-1.33,\n",
            "1.18])\n",
            "  - The effect of WP is statistically non-significant and negative (beta = -0.68,\n",
            "95% CI [-6.07, 4.40], p = 0.797; Std. beta = -0.10, 95% CI [-0.88, 0.64])\n",
            "  - The effect of WFe is statistically significant and positive (beta = 7.06, 95%\n",
            "CI [2.43, 13.16], p = 0.008; Std. beta = 1.55, 95% CI [0.53, 2.89])\n",
            "  - The effect of WEc is statistically significant and positive (beta = 5.30, 95%\n",
            "CI [1.72, 9.65], p = 0.007; Std. beta = 0.98, 95% CI [0.32, 1.79])\n",
            "  - The effect of WpH is statistically non-significant and positive (beta = 4.48,\n",
            "95% CI [-1.88, 11.65], p = 0.184; Std. beta = 0.67, 95% CI [-0.28, 1.73])\n",
            "  - The effect of SPAs is statistically significant and positive (beta = 45.74,\n",
            "95% CI [27.45, 74.67], p < .001; Std. beta = 7.06, 95% CI [4.24, 11.53])\n",
            "  - The effect of SAoFe is statistically non-significant and positive (beta =\n",
            "4.77, 95% CI [-0.28, 10.88], p = 0.088; Std. beta = 0.79, 95% CI [-0.05, 1.81])\n",
            "  - The effect of SpH is statistically significant and positive (beta = 6.77, 95%\n",
            "CI [0.71, 13.59], p = 0.037; Std. beta = 0.98, 95% CI [0.10, 1.97])\n",
            "  - The effect of SOC is statistically non-significant and negative (beta =\n",
            "-1.84, 95% CI [-8.29, 4.39], p = 0.557; Std. beta = -0.28, 95% CI [-1.27,\n",
            "0.67])\n",
            "  - The effect of SP is statistically non-significant and positive (beta = 0.46,\n",
            "95% CI [-9.44, 10.47], p = 0.926; Std. beta = 0.06, 95% CI [-1.19, 1.32])\n",
            "  - The effect of Elevation is statistically significant and negative (beta =\n",
            "-9.24, 95% CI [-17.71, -3.16], p = 0.011; Std. beta = -1.90, 95% CI [-3.63,\n",
            "-0.65])\n",
            "  - The effect of Year Irrigation is statistically significant and positive (beta\n",
            "= 8.25, 95% CI [3.99, 13.71], p < .001; Std. beta = 1.94, 95% CI [0.94, 3.22])\n",
            "  - The effect of Diastance STW is statistically non-significant and negative\n",
            "(beta = -4.49, 95% CI [-11.61, 1.50], p = 0.171; Std. beta = -0.65, 95% CI\n",
            "[-1.68, 0.22])\n",
            "  - The effect of Silt Sand is statistically non-significant and positive (beta =\n",
            "1.92, 95% CI [-3.89, 7.77], p = 0.507; Std. beta = 0.29, 95% CI [-0.58, 1.17])\n",
            "  - The effect of Land type [MHL] is statistically non-significant and negative\n",
            "(beta = -0.64, 95% CI [-2.55, 1.11], p = 0.489; Std. beta = -0.64, 95% CI\n",
            "[-2.55, 1.11])\n",
            "\n",
            "Standardized parameters were obtained by fitting the model on a standardized\n",
            "version of the dataset. 95% Confidence Intervals (CIs) and p-values were\n",
            "computed using a Wald z-distribution approximation.\n"
          ]
        }
      ]
    },
    {
      "cell_type": "markdown",
      "source": [
        "### Model Performance"
      ],
      "metadata": {
        "id": "9LvWgB985jhR"
      }
    },
    {
      "cell_type": "code",
      "source": [
        "%%R\n",
        "performance::performance(binom.glm)"
      ],
      "metadata": {
        "colab": {
          "base_uri": "https://localhost:8080/"
        },
        "id": "xYDEDbhB5jtN",
        "outputId": "a9848060-4169-43a4-9f56-a800be827751"
      },
      "execution_count": 17,
      "outputs": [
        {
          "output_type": "stream",
          "name": "stdout",
          "text": [
            "# Indices of model performance\n",
            "\n",
            "AIC    |   AICc |     BIC | Tjur's R2 |  RMSE | Sigma | Log_loss | Score_log | Score_spherical |   PCP\n",
            "------------------------------------------------------------------------------------------------------\n",
            "91.386 | 94.663 | 142.738 |     0.776 | 0.226 | 1.000 |    0.162 |      -Inf |           0.031 | 0.898\n"
          ]
        }
      ]
    },
    {
      "cell_type": "markdown",
      "source": [
        "**`Tjur's R²`**, also known as Tjur's coefficient of discrimination, is a measure of discrimination or predictive accuracy for binary outcomes in logistic regression. It assesses how well the model distinguishes between the two categories of the dependent variable. Tjur's R² is defined as the difference in the average predicted probabilities of the two outcomes.\n",
        "\n",
        "The formula for Tjur's R² is as follows:\n",
        "\n",
        "$$ R^2_{Tjur} = P(Y=1|\\hat{Y}=1) - P(Y=0|\\hat{Y}=1) $$\n",
        "\n",
        "Here:\n",
        "\n",
        "-   $P(Y=1|\\hat{Y}=1)$ is the probability of the actual outcome being 1 given that the predicted outcome is 1.\n",
        "\n",
        "-   $P(Y=0|\\hat{Y}=1)$ is the probability of the actual outcome being 0 given that the predicted outcome is 1.\n",
        "\n",
        "Tjur's R² ranges from -1 to 1, where a higher value indicates better discrimination. A positive value suggests that the model is better at predicting the positive class, while a negative value suggests better prediction for the negative class.\n",
        "\n",
        "In practice, Tjur's R² is not as commonly used as other metrics like the area under the ROC curve (AUC) or the Brier score, but it provides a measure of the practical significance of the logistic regression model in terms of discrimination. Keep in mind that the interpretation of Tjur's R² should be done in the context of the specific dataset and problem you are working on.\n",
        "\n",
        "**`Log_loss`**: Logarithmic Loss (Log Loss), also known as cross-entropy loss, is a commonly utilized loss function in machine learning, particularly in classification problems. It measures the performance of a classification model that outputs a probability value ranging from 0 to 1. Due to its versatility and capability to handle prediction errors, Logarithmic Loss is often preferred over alternative loss functions. Its formulation is mathematically rigorous, and its implementation is straightforward, making it an essential tool for any machine learning practitioner.\n",
        "\n",
        "The formula for Log Loss is:\n",
        "\n",
        "$$ {Log Loss} = -\\frac{1}{N} \\sum_{i=1}^{N} [y_i \\log(p_i) + (1 - y_i) \\log(1 - p_i)] $$\n",
        "\n",
        "Where:\n",
        "\n",
        "\\- $N$ is the number of samples in the dataset.\n",
        "\n",
        "\\- $y_i$ is the true label for the $i$ th sample (0 or 1 for binary classification, or one-hot encoded vectors for multiclass classification).\n",
        "\n",
        "-   $p_i$ is the predicted probability that the $i$ th sample belongs to the positive class.\n",
        "\n",
        "**`Score_spherical`**: A proper scoring rule is a mathematical function used to assess the accuracy of probabilistic predictions made by a model. It is called proper because it is designed to maximize the expected score when the model's predictions align with the actual probabilities of the outcomes.\n",
        "\n",
        "**`PCP`**: Percentage of Correct Predictions (PCP), also known as accuracy, is a common evaluation metric for models with binary outcomes. It measures the proportion of correctly predicted instances out of the total number of instances.\n",
        ":::"
      ],
      "metadata": {
        "id": "1qVpNAgVB99b"
      }
    },
    {
      "cell_type": "markdown",
      "source": [
        "### The Logistic Distribution of Intercept and Slopes\n",
        "\n",
        "The `plogis()` function is used to calculate the logistic cumulative distribution function (CDF) of Intercept and Slopes. The logistic CDF is the probability that a logistic random variable is less than or equal to a specified value. The `plogis()` function takes a numeric vector of values and returns the corresponding probabilities.\n",
        "\n",
        "The `plogis()` function is particularly useful in the context of logistic regression, where you might be interested in converting log-odds into probabilities. If you have a logistic regression model with coefficients (intercept and slopes), you can use the logistic function and `plogis` to calculate probabilities."
      ],
      "metadata": {
        "id": "YpHdzOK1CCJ1"
      }
    },
    {
      "cell_type": "code",
      "source": [
        "%%R\n",
        "## Intercept\n",
        "intercept = coef(binom.glm)[1]\n",
        "# Back-transform the  Slope of WAs\n",
        "slop_was = coef(binom.glm)[2]\n",
        "log_odds<-intercept + (slop_was*train$WAs)\n",
        "probabilities <- plogis(log_odds)\n",
        "age.prob<-data.frame(WAs = train$WAs, LogOdds = log_odds, Probability = probabilities) |>\n",
        "  glimpse()"
      ],
      "metadata": {
        "id": "-7EEVl0-CE4r",
        "outputId": "a459d2cb-959e-4565-b841-b6715bf3c4c9",
        "colab": {
          "base_uri": "https://localhost:8080/"
        }
      },
      "execution_count": 18,
      "outputs": [
        {
          "output_type": "stream",
          "name": "stdout",
          "text": [
            "Rows: 183\n",
            "Columns: 3\n",
            "$ WAs         <dbl> 0.01789709, 0.07158837, 0.05816555, 0.25727069, 0.01789709…\n",
            "$ LogOdds     <dbl> -18.49847, -18.52121, -18.51552, -18.59987, -18.49847, -18…\n",
            "$ Probability <dbl> 9.251633e-09, 9.043575e-09, 9.095147e-09, 8.359455e-09, 9.…\n"
          ]
        }
      ]
    },
    {
      "cell_type": "markdown",
      "source": [
        "### Visualization of model assumptions\n",
        "\n",
        "The package **performance** provides many functions to check model assumptions, like `check_collinearity()`, `check_normality()` or `check_heteroscedasticity()`. To get a comprehensive check, use `check_model()`."
      ],
      "metadata": {
        "id": "-QSMFsp76EzD"
      }
    },
    {
      "cell_type": "code",
      "source": [
        "%%R -w 750 -h 800 -u px\n",
        "performance::check_model(binom.glm)"
      ],
      "metadata": {
        "colab": {
          "base_uri": "https://localhost:8080/",
          "height": 817
        },
        "id": "vxdkmi--6FdO",
        "outputId": "5c08579b-891c-4e6a-c30b-4e372221bcd7"
      },
      "execution_count": 19,
      "outputs": [
        {
          "output_type": "display_data",
          "data": {
            "image/png": "[encoded data removed]"
          },
          "metadata": {}
        }
      ]
    },
    {
      "cell_type": "markdown",
      "source": [
        "### Regression Model visualization by jtools\n",
        "\n",
        "The “jtools” package consists of a series of functions to automate visualization regression model.\n"
      ],
      "metadata": {
        "id": "QkZSGYvk7oGD"
      }
    },
    {
      "cell_type": "code",
      "source": [
        "%%R\n",
        "jtools::summ(binom.glm)"
      ],
      "metadata": {
        "colab": {
          "base_uri": "https://localhost:8080/"
        },
        "id": "VnrcuBSS7o7s",
        "outputId": "6693b09d-baca-4758-f0f1-47f58a810c0b"
      },
      "execution_count": 20,
      "outputs": [
        {
          "output_type": "stream",
          "name": "stdout",
          "text": [
            "MODEL INFO:\n",
            "Observations: 183\n",
            "Dependent Variable: Class_As\n",
            "Type: Generalized linear model\n",
            "  Family: binomial \n",
            "  Link function: logit \n",
            "\n",
            "MODEL FIT:\n",
            "χ²(15) = 178.73, p = 0.00\n",
            "Pseudo-R² (Cragg-Uhler) = 0.86\n",
            "Pseudo-R² (McFadden) = 0.75\n",
            "AIC = 91.39, BIC = 142.74 \n",
            "\n",
            "Standard errors: MLE\n",
            "------------------------------------------------------\n",
            "                          Est.    S.E.   z val.      p\n",
            "--------------------- -------- ------- -------- ------\n",
            "(Intercept)             -18.49    6.33    -2.92   0.00\n",
            "WAs                      -0.42    3.38    -0.13   0.90\n",
            "WP                       -0.68    2.62    -0.26   0.80\n",
            "WFe                       7.06    2.68     2.63   0.01\n",
            "WEc                       5.30    1.98     2.68   0.01\n",
            "WpH                       4.48    3.37     1.33   0.18\n",
            "SPAs                     45.74   11.66     3.92   0.00\n",
            "SAoFe                     4.77    2.80     1.71   0.09\n",
            "SpH                       6.77    3.24     2.09   0.04\n",
            "SOC                      -1.84    3.14    -0.59   0.56\n",
            "SP                        0.46    4.97     0.09   0.93\n",
            "Elevation                -9.24    3.62    -2.55   0.01\n",
            "Year_Irrigation           8.25    2.43     3.40   0.00\n",
            "Diastance_STW            -4.49    3.28    -1.37   0.17\n",
            "Silt_Sand                 1.92    2.89     0.66   0.51\n",
            "Land_typeMHL             -0.64    0.92    -0.69   0.49\n",
            "------------------------------------------------------\n"
          ]
        }
      ]
    },
    {
      "cell_type": "markdown",
      "source": [
        "### Prediction at test locations\n",
        "\n"
      ],
      "metadata": {
        "id": "IwT54Ppr8Yjd"
      }
    },
    {
      "cell_type": "markdown",
      "source": [
        "#### Prediction\n",
        "\n",
        "The `predict()` function will be used to predict the amount of SOC present in the testing locations. This will help to validate the accuracy of the GLM regression model."
      ],
      "metadata": {
        "id": "jfrkW8Zz8cb8"
      }
    },
    {
      "cell_type": "code",
      "source": [
        "%%R\n",
        "# setting the cut-off probability\n",
        "test$Pred.prob<-predict(binom.glm, test, type = \"response\")"
      ],
      "metadata": {
        "id": "C-7eRTr48ZnL"
      },
      "execution_count": 25,
      "outputs": []
    },
    {
      "cell_type": "markdown",
      "source": [
        "#### Confusion Matrix at 50% Cut-Off Probability\n",
        "\n",
        "Now, we classified an sites in the test data set with a probability of As contamination is greater than 0.5, as `Yes`, otherwise `No`."
      ],
      "metadata": {
        "id": "A55_PkupD2_M"
      }
    },
    {
      "cell_type": "code",
      "source": [
        "%%R\n",
        "# setting the cut-off probability\n",
        "test$Class_Prob <- ifelse(test$Pred.prob > 0.5,\"Yes\",\"No\")"
      ],
      "metadata": {
        "id": "VBsxGsR7D-3Q"
      },
      "execution_count": 26,
      "outputs": []
    },
    {
      "cell_type": "markdown",
      "source": [
        "Then, we will order the both actual (`Class_As`) and predicted classes (`Class_Prob`):"
      ],
      "metadata": {
        "id": "OJoX7ht5Dk_m"
      }
    },
    {
      "cell_type": "code",
      "source": [
        "%%R\n",
        "# ordering the levels\n",
        "test$Class_Prob <- ordered(test$Class_Prob, levels = c(\"Yes\", \"No\"))\n",
        "test$Class_As <- ordered(test$Class_As , levels = c(\"Yes\", \"No\"))"
      ],
      "metadata": {
        "id": "bT0vkOh1Dl3F"
      },
      "execution_count": 28,
      "outputs": []
    },
    {
      "cell_type": "markdown",
      "source": [
        "#### Prediction Performance\n",
        "\n",
        "\n",
        "\n",
        "\n"
      ],
      "metadata": {
        "id": "HffNpARv8wZ4"
      }
    },
    {
      "cell_type": "markdown",
      "source": [
        "#### Overall classification accuracy\n",
        "\n",
        "Classification accuracy is a commonly used metric to evaluate the performance of a classification model. This metric is critical in machine learning applications where the model must predict a particular class or category based on input features. The classification accuracy represents the proportion of correct predictions made by the model to the total number of predictions it made. This metric is usually expressed as a percentage. For example, if a model makes 100 predictions and 80 of them are correct, the classification accuracy would be 80%.\n",
        "\n",
        "The formula used to calculate classification accuracy is straightforward. It is simply the ratio of the number of correct predictions to the total number of predictions made by the model, expressed as a percentage. The higher the classification accuracy, the better the performance of the model. Conversely, a lower classification accuracy indicates that the model made more incorrect predictions.\n",
        "\n",
        "$$ {Accuracy} = \\frac{\\text{Number of Correct Predictions}}{\\text{Total Number of Predictions}} \\times 100\\% $$\n",
        "\n",
        "The accuracy metric measures how often a model correctly predicts class labels. However, accuracy might not be the best way to evaluate a model's performance, especially if the dataset is imbalanced or misclassification errors have different costs. In such cases, other metrics like `precision`, `recall`, `F1-score`, or `area under the ROC curve (AUC-ROC)` might provide a more comprehensive understanding of the model's performance"
      ],
      "metadata": {
        "id": "fqVUSU-TExLB"
      }
    },
    {
      "cell_type": "code",
      "source": [
        "%%R\n",
        "accuracy <- mean(test$Class_As  == test$Class_Prob)\n",
        "accuracy"
      ],
      "metadata": {
        "id": "buutwaoiE2C_",
        "outputId": "c32a8814-881b-45f0-f0fb-ee2312060195",
        "colab": {
          "base_uri": "https://localhost:8080/"
        }
      },
      "execution_count": 29,
      "outputs": [
        {
          "output_type": "stream",
          "name": "stdout",
          "text": [
            "[1] 0.8\n"
          ]
        }
      ]
    },
    {
      "cell_type": "markdown",
      "source": [
        "The classification `error rate` is the percentage of observations that have been misclassified. It can be calculated by subtracting the accuracy from 1. The accuracy and error rate can be calculated by comparing the observed classes in the test data against the predicted classes by the model.\n"
      ],
      "metadata": {
        "id": "qePiupA-E8l2"
      }
    },
    {
      "cell_type": "code",
      "source": [
        "%%R\n",
        "error <- mean(test$Class_As != test$Class_Prob)\n",
        "error"
      ],
      "metadata": {
        "id": "bXJcaUWgE9RE",
        "outputId": "3b0a833f-9faa-41ae-f4a2-110c0b2909ce",
        "colab": {
          "base_uri": "https://localhost:8080/"
        }
      },
      "execution_count": 30,
      "outputs": [
        {
          "output_type": "stream",
          "name": "stdout",
          "text": [
            "[1] 0.2\n"
          ]
        }
      ]
    },
    {
      "cell_type": "markdown",
      "source": [
        "#### Confusion matrix\n",
        "\n",
        "A logistic model can make two types of errors while categorizing a site concerning As-contamination. Firstly, it can wrongly assign an As-contamination-positive site to the As-contamination-negative category. Secondly, it can wrongly assign an As-contamination-negative individual to the As-contamination-positive category.\n",
        "\n",
        "A **confusion matrix** needs to be created to determine the proportion of these errors. This matrix helps compare the predicted outcome values against the known outcome values. It compares the observed and the predicted outcome values and shows the number of correct and incorrect predictions categorized by type of outcome. The confusion matrix is organized into rows and columns. The rows represent the actual classes, while the columns represent the predicted classes. Each cell in the matrix represents the count (or proportion) of instances that belong to the actual class and were predicted to be in the predicted class.\n",
        "\n",
        "![alt text](http://drive.google.com/uc?export=view&id=1b-mfVANB-v7OXCpUuEN7GrMBrNRW66__)\n",
        "\n",
        "\n",
        "True Positive (TP) refers to instances that are actually positive and are correctly predicted as positive. False Negative (FN) refers to instances that are actually positive but are incorrectly predicted as negative. False Positive (FP) refers to instances that are actually negative but are incorrectly predicted as positive. True Negative (TN) refers to instances that are actually negative and are correctly predicted as negative.\n",
        "\n",
        "The R function `table()` can produce a confusion matrix to determine how many observations were correctly or incorrectly classified.\n"
      ],
      "metadata": {
        "id": "AaHTv--RFDdL"
      }
    },
    {
      "cell_type": "code",
      "source": [
        "%%R\n",
        "table(Actual = test$Class_As, Predicted =test$Class_Prob)"
      ],
      "metadata": {
        "id": "SwqZb1XSFfMj",
        "outputId": "70017e2d-8dce-4fff-80e0-916ed2bf9e68",
        "colab": {
          "base_uri": "https://localhost:8080/"
        }
      },
      "execution_count": 31,
      "outputs": [
        {
          "output_type": "stream",
          "name": "stdout",
          "text": [
            "      Predicted\n",
            "Actual Yes No\n",
            "   Yes  44  8\n",
            "   No    8 20\n"
          ]
        }
      ]
    },
    {
      "cell_type": "markdown",
      "source": [
        "The diagonal elements of the matrix represent the number of correct predictions, while the off-diagonal elements represent the number of incorrect predictions. To calculate the correct classification rate, you have to sum the number of correct predictions on the diagonal and then divide it by the total number of samples in the test data. In the example given, the correct classification rate can be calculated as this sum divided by the sample size of the test data (n= 80)."
      ],
      "metadata": {
        "id": "oR2XK1h9FmOb"
      }
    },
    {
      "cell_type": "code",
      "source": [
        "%%R\n",
        " (44+20)/80"
      ],
      "metadata": {
        "id": "gldPSCexFs3R",
        "outputId": "309951f1-5372-418e-bb4f-f6d03d3df29b",
        "colab": {
          "base_uri": "https://localhost:8080/"
        }
      },
      "execution_count": 32,
      "outputs": [
        {
          "output_type": "stream",
          "name": "stdout",
          "text": [
            "[1] 0.8\n"
          ]
        }
      ]
    },
    {
      "cell_type": "code",
      "source": [
        "%%R\n",
        "# Confusion matrix, proportion of cases\n",
        "table(Actual = test$Class_As, Predicted =test$Class_Prob) |>\n",
        "  prop.table() %>% round(digits = 3)"
      ],
      "metadata": {
        "id": "_OzlFp-yF3F6",
        "outputId": "7efbe2ab-156c-478f-92fc-3a84724f33cf",
        "colab": {
          "base_uri": "https://localhost:8080/"
        }
      },
      "execution_count": 33,
      "outputs": [
        {
          "output_type": "stream",
          "name": "stdout",
          "text": [
            "      Predicted\n",
            "Actual  Yes   No\n",
            "   Yes 0.55 0.10\n",
            "   No  0.10 0.25\n"
          ]
        }
      ]
    },
    {
      "cell_type": "markdown",
      "source": [
        "#### Precision\n",
        "\n",
        "Precision is a crucial metric used to evaluate the effectiveness of a classification model, especially in binary classification problems. It is a measure of the number of true positive predictions (correct positive predictions) among all the instances predicted as positive by the model. Precision is calculated using the following formula:\n",
        "\n",
        "$$ {Precision} = \\frac{\\text{True Positives (TP)}}{\\text{True Positives (TP)} + \\text{False Positives (FP)}} $$\n",
        "A high precision value indicates that the model has a low rate of false positives and is making accurate positive predictions. Conversely, a low precision value suggests that the model is making a significant number of false positive errors.\n",
        "\n",
        "\n",
        "Metrics Package which has a `precision()` function to get **precision** of binary classification model. But first, we need to convert `As_Classs` and `Prob.50` from `Yes` and `No` to `1`s and `0`."
      ],
      "metadata": {
        "id": "XhD5X1_WF7GP"
      }
    },
    {
      "cell_type": "code",
      "source": [
        "%%R\n",
        "test$Class_As_nu<- ifelse(test$Class_As==\"Yes\", 1, 0)\n",
        "test$Class_Prob_nu<- ifelse(test$Class_Prob==\"Yes\", 1, 0)"
      ],
      "metadata": {
        "id": "jS-CbsCCF-JP"
      },
      "execution_count": 34,
      "outputs": []
    },
    {
      "cell_type": "code",
      "source": [
        "%%R\n",
        "# to calculate precision\n",
        "Metrics::precision(test$Class_Prob_nu,test$Class_As_nu)"
      ],
      "metadata": {
        "id": "0QzRn5zIGDC-",
        "outputId": "41f13129-853e-4cf9-9d53-0427e8ac192b",
        "colab": {
          "base_uri": "https://localhost:8080/"
        }
      },
      "execution_count": 35,
      "outputs": [
        {
          "output_type": "stream",
          "name": "stdout",
          "text": [
            "[1] 0.8461538\n"
          ]
        }
      ]
    },
    {
      "cell_type": "markdown",
      "source": [
        "#### Sensitivity or Recall\n",
        "\n",
        "Sensitivity, also referred to as recall or true positive rate (TPR), is a measurement used to assess the effectiveness of a classification model, especially in binary classification cases. It calculates the ratio of accurate positive predictions (correctly optimistic predictions) among all real positive occurrences. In simpler terms, sensitivity measures how well a model identifies positive instances from all actual positive instances in the dataset. It focuses on minimizing false negatives, which occur when the model incorrectly predicts negative instances as positive.\n",
        "\n",
        "\n",
        "$$ {Sensitivity (Recall)} = \\frac{\\text{True Positives (TP)}}{\\text{True Positives (TP)} + \\text{False Negatives (FN)}} $$\n",
        "If a model has a high sensitivity value, it means that it has a low rate of false negative errors, which indicates that it is effectively capturing most of the positive instances. On the other hand, if a model has a low sensitivity value, it suggests that it is missing a significant number of positive instances.\n",
        "\n",
        "We will  use `recall()` function to get recall of binary model prediction:"
      ],
      "metadata": {
        "id": "jE0R6wVmGIAG"
      }
    },
    {
      "cell_type": "code",
      "source": [
        "%%R\n",
        "Metrics::recall(test$Class_Prob_nu,test$Class_As_nu)\n"
      ],
      "metadata": {
        "id": "WmX6c8_JGJzs",
        "outputId": "7a571cba-53b8-41e6-8451-f4ece43a6a23",
        "colab": {
          "base_uri": "https://localhost:8080/"
        }
      },
      "execution_count": 36,
      "outputs": [
        {
          "output_type": "stream",
          "name": "stdout",
          "text": [
            "[1] 0.8461538\n"
          ]
        }
      ]
    },
    {
      "cell_type": "markdown",
      "source": [
        "#### ROC curve\n",
        "\n",
        "The ROC curve is an important tool used in evaluating the performance of a binary classification model. It is a graphical plot that illustrates how well the model can distinguish between positive and negative classes at different threshold settings. The curve displays the trade-off between the true positive rate (sensitivity) and the false positive rate (1 - specificity) as the threshold for classification changes. The true positive rate measures the proportion of actual positive instances that are correctly identified by the model, while the false positive rate measures the proportion of actual negative instances that are incorrectly classified as positive by the model. By analyzing the ROC curve, one can determine the optimal threshold setting that maximizes the true positive rate and minimizes the false positive rate, thereby improving the overall accuracy of the classification model.\n",
        "\n",
        "The ROC curve is constructed in the following way:\n",
        "\n",
        "1. The classification model assigns a probability score or a decision value to each instance, which indicates the likelihood of it belonging to the positive class.\n",
        "\n",
        "2. By adjusting the decision threshold from 0 to 1, the model classifies instances as positive or negative. At each threshold, the true positive rate (sensitivity) and false positive rate (1 - specificity) are computed.\n",
        "\n",
        "3. These true positive rates and false positive rates are then plotted on the ROC curve.\n",
        "\n",
        "\n",
        "A typical ROC appears as a line that starts at the bottom left corner (0, 0) and extends towards the top right corner (1, 1). If the curve is closer to the top-left corner, it indicates better performance of the model. A diagonal line from (0, 0) to (1, 1) on the ROC curve represents the performance of a random classifier. A model with perfect discrimination will have an ROC curve passing through the top-left corner, indicating a true positive rate of 1 (sensitivity) and a false positive rate of 0 (specificity). The area under the ROC curve (AUC-ROC) is a widely used summary statistic for quantifying the performance of a classification model. AUC-ROC ranges from 0 to 1, with higher values indicating better discrimination. An AUC-ROC of 0.5 suggests that the model performs no better than random guessing, while an AUC-ROC of 1 indicates perfect classification. To summarize, the ROC curve provides a clear visualization of a classification model's performance across different threshold settings. This allows users to select an appropriate threshold based on their specific needs for sensitivity and specificity.\n",
        "\n",
        "\n",
        "The ROC analysis can be easily performed using `roc()` of **pROC** package."
      ],
      "metadata": {
        "id": "uu0JelBFGW58"
      }
    },
    {
      "cell_type": "code",
      "source": [
        "%%R -w 450 -h 400 -u px\n",
        "# Compute roc\n",
        "res.roc <- pROC::roc(test$Class_Prob, test$Class_As)\n",
        "plot.roc(res.roc, print.auc = TRUE)"
      ],
      "metadata": {
        "id": "6E0R2dqSGa8h",
        "outputId": "b59113cc-ed86-4e3c-b26e-3a0f0d53ba85",
        "colab": {
          "base_uri": "https://localhost:8080/",
          "height": 486
        }
      },
      "execution_count": 37,
      "outputs": [
        {
          "output_type": "stream",
          "name": "stderr",
          "text": [
            "WARNING:rpy2.rinterface_lib.callbacks:R[write to console]: Setting levels: control = Yes, case = No\n",
            "\n",
            "WARNING:rpy2.rinterface_lib.callbacks:R[write to console]: Setting direction: controls < cases\n",
            "\n"
          ]
        },
        {
          "output_type": "display_data",
          "data": {
            "image/png": "[encoded data removed]"
          },
          "metadata": {}
        }
      ]
    },
    {
      "cell_type": "markdown",
      "source": [
        "On a graph, the gray diagonal line represents a classifier's performance that is no better than random chance. In contrast, a high-performing classifier will exhibit a ROC curve that rises steeply towards the top-left corner. This indicates that it can correctly identify a large number of positives without misclassifying many negatives. The AUC metric is commonly used to evaluate the performance of a classifier. An AUC value close to 1, which is the maximum possible value, is indicative of a highly effective classifier. In this case, our classifier exhibits an AUC value of 0.79, suggesting that it is indeed good. By contrast, a classifier that performs no better than random chance would have an AUC value of 0.5 when assessed using an independent test set that was not used for training the model.\n"
      ],
      "metadata": {
        "id": "1Xs9L_PQGlL0"
      }
    },
    {
      "cell_type": "code",
      "source": [
        "%%R\n",
        "# Extract some interesting results\n",
        "roc.data <-tibble(\n",
        "  thresholds = res.roc$thresholds,\n",
        "  sensitivity = res.roc$sensitivities,\n",
        "  specificity = res.roc$specificities\n",
        ")\n",
        "# Get the probability threshold for specificity = 0.5\n",
        "roc.data  |>\n",
        "  filter(specificity >= 0.5)"
      ],
      "metadata": {
        "id": "BBBQJHEXGp2j",
        "outputId": "cd1bb238-5e0b-48a8-d02b-1bde72ca4bfc",
        "colab": {
          "base_uri": "https://localhost:8080/"
        }
      },
      "execution_count": 38,
      "outputs": [
        {
          "output_type": "stream",
          "name": "stdout",
          "text": [
            "# A tibble: 2 × 3\n",
            "  thresholds sensitivity specificity\n",
            "       <dbl>       <dbl>       <dbl>\n",
            "1        1.5       0.714       0.846\n",
            "2      Inf         0           1    \n"
          ]
        }
      ]
    },
    {
      "cell_type": "code",
      "source": [
        "%%R -w 450 -h 400 -u px\n",
        "plot.roc(res.roc, print.auc = TRUE, print.thres = \"best\")"
      ],
      "metadata": {
        "id": "EnLnR1avGt0h",
        "outputId": "ca9e41dd-6310-4303-d5aa-ab40375a9756",
        "colab": {
          "base_uri": "https://localhost:8080/",
          "height": 417
        }
      },
      "execution_count": 39,
      "outputs": [
        {
          "output_type": "display_data",
          "data": {
            "image/png": "[encoded data removed]"
          },
          "metadata": {}
        }
      ]
    },
    {
      "cell_type": "markdown",
      "source": [
        "##  Summary and Conclusion\n",
        "\n",
        "The logistic regression tutorial with `r-base`  package provides a comprehensive overview of using logistic regression for binary classification tasks. It covers the theoretical foundation of logistic regression and emphasizes its application in binary classification problems. The tutorial then demonstrates practical implementation steps using R and Caret, including data preprocessing, model building, and performance evaluation. Through hands-on examples, learners gain proficiency in constructing logistic regression models, optimizing them for predictive accuracy, and assessing their performance using metrics such as `ROC curves` and `confusion matrices`. By the end of the tutorial, participants will have a solid understanding of logistic regression in R and the practical skills to apply it effectively in real-world classification scenarios.\n"
      ],
      "metadata": {
        "id": "PrxOvvSJGn5V"
      }
    },
    {
      "cell_type": "markdown",
      "source": [
        "## References\n",
        "\n",
        "1.  [How to Perform Logistic Regression in R](https://www.statology.org/logistic-regression-in-r/)\n",
        "\n",
        "2.  [Evaluation of Classification Model Accuracy: Essentials](http://www.sthda.com/english/articles/36-classification-methods-essentials/143-evaluation-of-classification-model-accuracy-essentials/)\n",
        "\n",
        "3. [Precision, Recall and F1-Score using R](https://www.geeksforgeeks.org/precision-recall-and-f1-score-using-r/)\n",
        "\n"
      ],
      "metadata": {
        "id": "rUHrNY9J9lMg"
      }
    }
  ]
}