{
  "cells": [
    {
      "cell_type": "markdown",
      "metadata": {
        "id": "view-in-github",
        "colab_type": "text"
      },
      "source": [
        "<a href=\"https://colab.research.google.com/github/zia207/r-colab/blob/main/NoteBook/Advance_Regression/glm_logistic_r.ipynb\" target=\"_parent\"><img src=\"https://colab.research.google.com/assets/colab-badge.svg\" alt=\"Open In Colab\"/></a>"
      ]
    },
    {
      "cell_type": "markdown",
      "metadata": {
        "id": "KsBkpmP_qjLM"
      },
      "source": [
        "![alt text](http://drive.google.com/uc?export=view&id=1bLQ3nhDbZrCCqy_WCxxckOne2lgVvn3l)"
      ]
    },
    {
      "cell_type": "markdown",
      "metadata": {
        "id": "Dzp9ZseROTcY"
      },
      "source": [
        "# **Logistic Regression (Binary)**\n",
        "\n",
        "\n"
      ]
    },
    {
      "cell_type": "markdown",
      "metadata": {
        "id": "h0FPXx8mGylY"
      },
      "source": [
        "\n",
        "## Introduction\n",
        "\n",
        "Logistic regression is a statistical method useful in scenarios where the categorical outcome variable has only two possible classes. It is a binary classification method that predicts the probability of an instance belonging to a particular category or class. The method derives its name from its use of the logistic function to model the probability of a given class.\n",
        "\n",
        "Logistic regression falls under the category of supervised learning. This means that it makes predictions based on labeled data. The method is widely used in various fields, such as finance, healthcare, and marketing. Logistic regression is particularly useful in analyzing datasets with many variables and can be used to identify significant variables that influence the outcome variable.\n",
        "\n",
        "Despite its name, logistic regression is not used for regression but rather for classification. It is a powerful tool that can help businesses and researchers make informed decisions based on the probability of an event occurring.\n",
        "\n",
        "Here are the key concepts and components of logistic regression:\n",
        "\n",
        "1.  **Sigmoid Function (Logistic Function):** The logistic regression model uses the sigmoid function to map any real-valued number into a value between 0 and 1. The sigmoid function is defined as:\n",
        "\n",
        "$$ \\sigma(z) = \\frac{1}{1 + e^{-z}} $$\n",
        "\n",
        "where $z$ is a linear combination of the input features and their corresponding weights.\n",
        "\n",
        "2.  **Linear Combination:** The linear combination $z$ is given by:\n",
        "\n",
        "$$ z = b + w_1x_1 + w_2x_2 + \\ldots + w_nx_n $$\n",
        "\n",
        "Here, $b$ is the bias term, $w_i$ are the weights associated with each feature $x_i$, and $n$ is the number of features.\n",
        "\n",
        "3.  **Probability Prediction:** The output of the logistic regression model is the probability that a given input belongs to a particular class. The sigmoid function ensures that the output is bounded between 0 and 1.\n",
        "\n",
        "$$ P(Y=1) = \\sigma(z) $$ $$ P(Y=0) = 1 - \\sigma(z) $$\n",
        "\n",
        "4.  **Decision Boundary:** A decision boundary is a threshold used to classify instances into one of the two classes. If the predicted probability is above the threshold, the instance is assigned to class 1; otherwise, it is assigned to class 0.\n",
        "\n",
        "5.  **Cost Function (Log Loss):** The logistic regression model is trained by minimizing a cost function, typically the log loss (cross-entropy) function. The goal is to find the set of weights and bias that minimizes the difference between the predicted probabilities and the actual class labels in the training data. Given a set of observations with binary outcomes (0 or 1), the log loss for a single observation is defined as:\n",
        "\n",
        "$$ J(w,b) = -\\frac{1}{m} \\sum_{i=1}^{m} [y^{(i)} \\log(\\hat{y}^{(i)}) + (1 - y^{(i)}) \\log(1 - \\hat{y}^{(i)})] $$\n",
        "\n",
        "where $m$ is the number of training examples, $y^{(i)}$ is the true label for the i-th example, and $\\hat{y}^{(i)}$ is the predicted probability of class 1 for the i-th example.\n",
        "\n",
        "Logistic regression is widely used in various fields, including medicine, finance, and social sciences, for binary classification problems. It can be extended to handle multiclass classification through techniques such as one-vs-rest or one-vs-one."
      ]
    },
    {
      "cell_type": "markdown",
      "metadata": {
        "id": "SDp3ULld8Gb9"
      },
      "source": [
        "## Install rpy2"
      ]
    },
    {
      "cell_type": "code",
      "execution_count": 1,
      "metadata": {
        "id": "CiM6y-Mw8AJp",
        "colab": {
          "base_uri": "https://localhost:8080/"
        },
        "outputId": "6b297a1a-18fe-4e18-af76-03b659aeee30"
      },
      "outputs": [
        {
          "output_type": "stream",
          "name": "stdout",
          "text": [
            "Found existing installation: rpy2 3.4.2\n",
            "Uninstalling rpy2-3.4.2:\n",
            "  Successfully uninstalled rpy2-3.4.2\n",
            "Collecting rpy2==3.5.1\n",
            "  Downloading rpy2-3.5.1.tar.gz (201 kB)\n",
            "\u001b[2K     \u001b[90m━━━━━━━━━━━━━━━━━━━━━━━━━━━━━━━━━━━━━━━━\u001b[0m \u001b[32m201.7/201.7 kB\u001b[0m \u001b[31m3.5 MB/s\u001b[0m eta \u001b[36m0:00:00\u001b[0m\n",
            "\u001b[?25h  Preparing metadata (setup.py) ... \u001b[?25l\u001b[?25hdone\n",
            "Requirement already satisfied: cffi>=1.10.0 in /usr/local/lib/python3.10/dist-packages (from rpy2==3.5.1) (1.17.1)\n",
            "Requirement already satisfied: jinja2 in /usr/local/lib/python3.10/dist-packages (from rpy2==3.5.1) (3.1.4)\n",
            "Requirement already satisfied: pytz in /usr/local/lib/python3.10/dist-packages (from rpy2==3.5.1) (2024.2)\n",
            "Requirement already satisfied: tzlocal in /usr/local/lib/python3.10/dist-packages (from rpy2==3.5.1) (5.2)\n",
            "Requirement already satisfied: pycparser in /usr/local/lib/python3.10/dist-packages (from cffi>=1.10.0->rpy2==3.5.1) (2.22)\n",
            "Requirement already satisfied: MarkupSafe>=2.0 in /usr/local/lib/python3.10/dist-packages (from jinja2->rpy2==3.5.1) (2.1.5)\n",
            "Building wheels for collected packages: rpy2\n",
            "  Building wheel for rpy2 (setup.py) ... \u001b[?25l\u001b[?25hdone\n",
            "  Created wheel for rpy2: filename=rpy2-3.5.1-cp310-cp310-linux_x86_64.whl size=314948 sha256=64aadf383ddd8d280f1932bff33de340659e3b8a59d7897b53d494cd07a9dc12\n",
            "  Stored in directory: /root/.cache/pip/wheels/73/a6/ff/4e75dd1ce1cfa2b9a670cbccf6a1e41c553199e9b25f05d953\n",
            "Successfully built rpy2\n",
            "Installing collected packages: rpy2\n",
            "Successfully installed rpy2-3.5.1\n"
          ]
        }
      ],
      "source": [
        "!pip uninstall rpy2 -y\n",
        "!pip install rpy2==3.5.1\n",
        "%load_ext rpy2.ipython"
      ]
    },
    {
      "cell_type": "markdown",
      "metadata": {
        "id": "O1zeuaCowiBt"
      },
      "source": [
        "## Mount Google Drive"
      ]
    },
    {
      "cell_type": "code",
      "execution_count": 2,
      "metadata": {
        "id": "9J-4ie4bwiJ1",
        "colab": {
          "base_uri": "https://localhost:8080/"
        },
        "outputId": "16b884b3-0865-419c-c525-6345adb0aa7c"
      },
      "outputs": [
        {
          "output_type": "stream",
          "name": "stdout",
          "text": [
            "Mounted at /content/drive\n"
          ]
        }
      ],
      "source": [
        "from google.colab import drive\n",
        "drive.mount('/content/drive')"
      ]
    },
    {
      "cell_type": "markdown",
      "source": [
        "## Install necessary Python libraries"
      ],
      "metadata": {
        "id": "82MIZm_HVCLY"
      }
    },
    {
      "cell_type": "code",
      "source": [
        "!sudo apt-get install \\\n",
        "libssl-dev \\\n",
        "libcurl4-openssl-dev \\\n",
        "unixodbc-dev \\\n",
        "libxml2-dev \\\n",
        "libmariadb-dev \\\n",
        "libfontconfig1-dev \\\n",
        "libharfbuzz-dev \\\n",
        "libfribidi-dev \\\n",
        "libfreetype6-dev \\\n",
        "libpng-dev \\\n",
        "libtiff5-dev \\\n",
        "libjpeg-dev \\\n",
        "libcairo2-dev \\\n",
        "libgmp-dev \\\n",
        "libmpfr-dev \\\n",
        "liblapack-dev \\\n",
        "libcairo2-dev \\\n",
        "libzmq3-dev \\\n",
        "libharfbuzz-dev \\\n",
        "libpng-dev \\\n",
        "build-essential \\\n",
        "libcairo2-dev \\\n",
        "libmpfr-dev \\\n",
        "cmake \\\n",
        "gfortran"
      ],
      "metadata": {
        "id": "0fqz2-_NVGb4"
      },
      "execution_count": null,
      "outputs": []
    },
    {
      "cell_type": "code",
      "source": [
        "!sudo apt-get install ghostscript\n",
        "!sudo add-apt-repository ppa:dns/gnu\n",
        "!sudo apt-get update\n",
        "!sudo apt install libgsl-dev"
      ],
      "metadata": {
        "id": "oI1klEe4VLob"
      },
      "execution_count": null,
      "outputs": []
    },
    {
      "cell_type": "markdown",
      "metadata": {
        "id": "yXu-XY0mw1A8"
      },
      "source": [
        "## Check and Install required R Packages"
      ]
    },
    {
      "cell_type": "code",
      "execution_count": null,
      "metadata": {
        "id": "TeYB57l0wz5N"
      },
      "outputs": [],
      "source": [
        "%%R\n",
        "pkg <- c(\n",
        "\t\t 'devtools',\n",
        "\t   'remotes',\n",
        "\t\t 'tidyverse',\n",
        "     'plyr',\n",
        "\t\t 'gt',\n",
        "\t\t 'gtsummary',\n",
        "\t\t 'rstatix',\n",
        "\t  'report',\n",
        "\t\t 'performance',\n",
        "\t\t 'jtools',\n",
        "\t\t 'margins',\n",
        "\t\t 'marginaleffects',\n",
        "\t\t 'ggeffects',\n",
        "\t\t 'patchwork',\n",
        "\t\t 'Metrics',\n",
        "\t\t 'ggpmisc',\n",
        "\t\t 'caret',\n",
        "\t\t 'tidymodels',\n",
        "     'RColorBrewer',\n",
        "     'pROC',\n",
        "     'ROCR'\n",
        "      )\n",
        "new.packages <- pkg[!(pkg %in% installed.packages(lib='drive/My Drive/R/')[,\"Package\"])]\n",
        "if(length(new.packages)) install.packages(new.packages, lib='drive/My Drive/R/')\n"
      ]
    },
    {
      "cell_type": "code",
      "source": [
        "%%R\n",
        "install.packages(c\n",
        "(\"gsl\", \"enery\"), lib='drive/My Drive/R/')\n",
        "devtools::install_github(\"adriancorrendo/metrica\", lib='drive/My Drive/R/')"
      ],
      "metadata": {
        "id": "jEcG7ZiiVbOI"
      },
      "execution_count": null,
      "outputs": []
    },
    {
      "cell_type": "markdown",
      "metadata": {
        "id": "MV7R29xfyWQz"
      },
      "source": [
        "## Load packages"
      ]
    },
    {
      "cell_type": "code",
      "execution_count": 5,
      "metadata": {
        "id": "232jNAHBykUL",
        "collapsed": true
      },
      "outputs": [],
      "source": [
        "%%R\n",
        "# set library path\n",
        ".libPaths('drive/My Drive/R')\n",
        "library(tidyverse)\n",
        "library(plyr)\n",
        "library(gt)\n",
        "library(rstatix)\n",
        "library(gtsummary)\n",
        "library(report)\n",
        "library(performance)\n",
        "library(jtools)\n",
        "library(margins)\n",
        "library(marginaleffects)\n",
        "library(ggeffects)\n",
        "library(patchwork)\n",
        "library(Metrics)\n",
        "#library(metrica)\n",
        "library(ggpmisc)\n",
        "library(RColorBrewer)\n",
        "library(pROC)"
      ]
    },
    {
      "cell_type": "markdown",
      "metadata": {
        "id": "WViZ3IdLrzNs"
      },
      "source": [
        "## Data\n",
        "\n",
        "Our goal is to develop a logistic n model to predict paddy soil arsenic class using various irrigation water and soil properties. We have available data of 263 paired groundwater and paddy soil samples from arsenic contaminated areas in Tala Upazilla, Satkhira district, Bangladesh. This data was utilized in a publication titled \"Factors Affecting Paddy Soil Arsenic Concentration in Bangladesh: Prediction and Uncertainty of Geostatistical Risk Mapping\" which can be accessed via the this [URL](https://doi.org/10.1016/j.scitotenv.2011.10.008)\n",
        "\n",
        "Full data set is available for download from my [Dropbox](https://www.dropbox.com/scl/fo/2rh6r68i9cxmgortvbw8q/h?rlkey=bvntt66n9mcywprmdki08ch3r&dl=0) or from my [Github](https://github.com/zia207/r-colab/tree/main/Data/Regression_analysis) accounts.\n",
        "\n",
        "We will use `read_csv()` function of **readr** package to import data as a **tidy** data."
      ]
    },
    {
      "cell_type": "code",
      "execution_count": null,
      "metadata": {
        "colab": {
          "base_uri": "https://localhost:8080/"
        },
        "id": "CFpt_H01OPsa",
        "outputId": "51b10dac-4846-4fe0-8313-73a77f7d482c"
      },
      "outputs": [
        {
          "output_type": "stream",
          "name": "stdout",
          "text": [
            "Rows: 263 Columns: 29\n",
            "── Column specification ────────────────────────────────────────────────────────\n",
            "Delimiter: \",\"\n",
            "chr  (1): Land_type\n",
            "dbl (28): ID, Longitude, Latitude, WAs, WP, WFe, WEc, WpH, WMg, WNa, WCa, WK...\n",
            "\n",
            "ℹ Use `spec()` to retrieve the full column specification for this data.\n",
            "ℹ Specify the column types or set `show_col_types = FALSE` to quiet this message.\n",
            "Rows: 263\n",
            "Columns: 29\n",
            "$ ID              <dbl> 1, 2, 3, 4, 5, 6, 7, 8, 9, 10, 11, 12, 13, 14, 15, 16,…\n",
            "$ Longitude       <dbl> 89.1134, 89.1232, 89.1281, 89.1296, 89.1312, 89.1305, …\n",
            "$ Latitude        <dbl> 22.7544, 22.7576, 22.7499, 22.7568, 22.7366, 22.7297, …\n",
            "$ WAs             <dbl> 0.059, 0.059, 0.079, 0.122, 0.072, 0.042, 0.075, 0.064…\n",
            "$ WP              <dbl> 0.761, 1.194, 1.317, 1.545, 0.966, 1.058, 0.868, 0.890…\n",
            "$ WFe             <dbl> 3.44, 4.93, 9.70, 8.58, 4.78, 6.95, 7.81, 8.14, 8.99, …\n",
            "$ WEc             <dbl> 1.03, 1.07, 1.40, 0.83, 1.42, 1.82, 1.71, 1.74, 1.57, …\n",
            "$ WpH             <dbl> 7.03, 7.06, 6.84, 6.85, 6.95, 6.89, 6.86, 6.98, 6.82, …\n",
            "$ WMg             <dbl> 33.9, 34.1, 40.5, 28.4, 43.4, 43.2, 50.1, 51.5, 48.2, …\n",
            "$ WNa             <dbl> 69.4, 74.6, 89.4, 22.8, 93.0, 165.7, 110.5, 127.0, 96.…\n",
            "$ WCa             <dbl> 99.1, 94.3, 133.9, 103.8, 130.5, 153.3, 172.0, 163.2, …\n",
            "$ WK              <dbl> 5.3, 5.7, 6.0, 4.0, 5.3, 6.5, 5.9, 6.4, 6.5, 3.7, 4.4,…\n",
            "$ WS              <dbl> 2.936, 2.826, 2.307, 1.012, 2.511, 2.764, 2.792, 1.562…\n",
            "$ SAs             <dbl> 29.10, 45.10, 23.20, 23.80, 26.00, 25.60, 26.30, 31.60…\n",
            "$ SPAs            <dbl> 9.890, 10.700, 5.869, 6.031, 6.627, 9.530, 6.708, 8.63…\n",
            "$ SAoAs           <dbl> 13.280, 21.900, 12.266, 12.596, 13.805, 13.585, 13.969…\n",
            "$ SAoFe           <dbl> 2500, 2670, 2160, 2500, 2060, 2500, 2520, 2140, 2150, …\n",
            "$ SpH             <dbl> 7.74, 7.87, 8.03, 8.07, 7.81, 7.77, 7.66, 7.89, 8.00, …\n",
            "$ SEc             <dbl> 1.128, 1.021, 1.257, 1.067, 1.354, 1.442, 1.428, 1.385…\n",
            "$ SOC             <dbl> 1.66, 1.26, 1.36, 1.61, 1.26, 1.74, 1.71, 1.69, 1.41, …\n",
            "$ SP              <dbl> 13.79, 15.31, 15.54, 16.28, 14.20, 13.41, 13.26, 14.84…\n",
            "$ Sand            <dbl> 16.3, 11.1, 12.3, 12.7, 12.1, 16.7, 16.8, 13.7, 12.6, …\n",
            "$ Silt            <dbl> 44.8, 48.7, 46.4, 43.6, 50.9, 43.6, 43.4, 40.8, 44.9, …\n",
            "$ Clay            <dbl> 38.9, 40.2, 41.3, 43.7, 37.1, 39.8, 39.8, 45.5, 42.4, …\n",
            "$ Elevation       <dbl> 3, 5, 4, 3, 5, 2, 2, 3, 3, 3, 2, 5, 6, 6, 5, 5, 4, 6, …\n",
            "$ Year_Irrigation <dbl> 14, 20, 10, 8, 10, 9, 8, 10, 8, 2, 20, 4, 15, 10, 5, 4…\n",
            "$ Distance_STW    <dbl> 5, 6, 5, 8, 5, 5, 10, 8, 10, 8, 5, 5, 9, 5, 10, 10, 12…\n",
            "$ Land_type       <chr> \"MHL\", \"MHL\", \"MHL\", \"MHL\", \"MHL\", \"MHL\", \"MHL\", \"MHL\"…\n",
            "$ Land_type_ID    <dbl> 2, 2, 2, 2, 2, 2, 2, 2, 2, 2, 2, 1, 2, 1, 1, 1, 1, 1, …\n"
          ]
        }
      ],
      "source": [
        "%%R\n",
        "mf<-readr::read_csv(\"https://github.com/zia207/r-colab/raw/main/Data/Regression_analysis/bd_soil_arsenic.csv\")\n",
        "glimpse(mf)"
      ]
    },
    {
      "cell_type": "markdown",
      "metadata": {
        "id": "WaLbMQss-gul"
      },
      "source": [
        "## Create a binary response variable\n",
        "\n",
        "The `binary class` typically refers to a classification problem where there are only two possible classes or outcomes. As we see `SAs` is a continuous variable, but we need to convert it into binary class (contaminated and non-contaminated) based on our published paper. The paper suggests that we use the probability of exceeding the upper baseline soil arsenic concentration (14.8 mg/kg) to define soil samples as either As contaminated (`Yes`) or non-contaminated (`No`).\n",
        "\n",
        "Here we will convert `Soil As (SAs)` into two classes- `Yes = Contaminated`and `No = noncontaminated` and create a new binary response variables (`Class_As`) with two levels:\n",
        "\n",
        "Yes = `SAs` \\> 14.8 mg As/kg\n",
        "\n",
        "No = `SAs` \\< 14.8 mg As/kg"
      ]
    },
    {
      "cell_type": "code",
      "execution_count": null,
      "metadata": {
        "id": "a4fWoA7I-kNf"
      },
      "outputs": [],
      "source": [
        "%%R\n",
        "mf$Class_As<- cut(mf$SAs,\n",
        "                   breaks=c(-Inf, 14.8, Inf),\n",
        "                   labels=c(\"No\", \"Yes\"))\n",
        "mf$Class_As<-as.factor(mf$Class_As)"
      ]
    },
    {
      "cell_type": "markdown",
      "metadata": {
        "id": "mLGsopcHr_Qn"
      },
      "source": [
        "## Feature Engineering\n",
        "\n",
        "Feature engineering is a vital task in the data preparation process for data analysis, particularly for machine learning models. It creates new features from ones or transforms them to enhance the machine learning algorithm's performance. Doing so makes achieving higher accuracy, better generalization, and a more straightforward interpretation of the model possible. Some standard techniques used in feature engineering include dimensionality reduction, feature scaling, and feature extraction. When performing feature engineering, it is essential to consider the data type, distribution, and target variable, among other factors.\n",
        "\n",
        "We will apply following operation before fit a GLM regression model.\n",
        "\n",
        "1.  create a new features: We will create a new feature (Sand_Silt) by adding soil Silt and Sand percentage\n",
        "\n",
        "2.  Convert to factors: As Land_type is categorical variable representing distinct categories rather than numerical values, we need to convert them into factors. This process will allow us to analyze and interpret the data more accurately, facilitating a better understanding of the underlying patterns and trends."
      ]
    },
    {
      "cell_type": "code",
      "execution_count": null,
      "metadata": {
        "colab": {
          "base_uri": "https://localhost:8080/"
        },
        "id": "C4Q559D8z6vd",
        "outputId": "3a5750df-3408-48c5-c16b-5e7166f8250c"
      },
      "outputs": [
        {
          "output_type": "stream",
          "name": "stdout",
          "text": [
            "Rows: 263\n",
            "Columns: 8\n",
            "$ WAs             <dbl> 0.059, 0.059, 0.079, 0.122, 0.072, 0.042, 0.075, 0.064…\n",
            "$ WFe             <dbl> 3.44, 4.93, 9.70, 8.58, 4.78, 6.95, 7.81, 8.14, 8.99, …\n",
            "$ SAoFe           <dbl> 2500, 2670, 2160, 2500, 2060, 2500, 2520, 2140, 2150, …\n",
            "$ SOC             <dbl> 1.66, 1.26, 1.36, 1.61, 1.26, 1.74, 1.71, 1.69, 1.41, …\n",
            "$ Year_Irrigation <dbl> 14, 20, 10, 8, 10, 9, 8, 10, 8, 2, 20, 4, 15, 10, 5, 4…\n",
            "$ Distance_STW    <dbl> 5, 6, 5, 8, 5, 5, 10, 8, 10, 8, 5, 5, 9, 5, 10, 10, 12…\n",
            "$ Land_type       <fct> MHL, MHL, MHL, MHL, MHL, MHL, MHL, MHL, MHL, MHL, MHL,…\n",
            "$ Class_As        <fct> Yes, Yes, Yes, Yes, Yes, Yes, Yes, Yes, Yes, No, Yes, …\n"
          ]
        }
      ],
      "source": [
        "%%R\n",
        "df <- mf |>\n",
        "  # select variables\n",
        "  dplyr::select (WAs,  WFe,\n",
        "                SAoFe, SOC,\n",
        "                Year_Irrigation, Distance_STW,\n",
        "                Land_type, Class_As) |>\n",
        "   # convert to factor\n",
        "   dplyr::mutate_at(vars(Land_type), funs(factor))  |>\n",
        "   dplyr::mutate_at(vars(Class_As), funs(factor))  |>\n",
        "   # normalize the all numerical features\n",
        "   #dplyr::mutate_at(1:14,  funs((.-min(.))/max(.-min(.)))) |>\n",
        "   glimpse()\n"
      ]
    },
    {
      "cell_type": "markdown",
      "metadata": {
        "id": "WWLOzlOe2YPv"
      },
      "source": [
        "## Split data to training and test\n",
        "\n",
        "We will use the `ddply()` function of the **plyr** package to split soil carbon datainto homogeneous subgroups using **stratified random sampling**. This method involves dividing the population into strata and taking random samples from each stratum to ensure that each subgroup is proportionally represented in the sample. The goal is to obtain a representative sample of the population by adequately representing each stratum.\n"
      ]
    },
    {
      "cell_type": "code",
      "execution_count": null,
      "metadata": {
        "id": "RpMxXBXY2ZVA"
      },
      "outputs": [],
      "source": [
        "%%R\n",
        "seeds = 11076\n",
        "tr_prop = 0.70\n",
        "# training data (70% data)\n",
        "train= ddply(df,.(Land_type, Class_As),\n",
        "                 function(., seed) { set.seed(seed); .[sample(1:nrow(.), trunc(nrow(.) * tr_prop)), ] }, seed = 101)\n",
        "test = ddply(df, .(Land_type, Class_As),\n",
        "            function(., seed) { set.seed(seed); .[-sample(1:nrow(.), trunc(nrow(.) * tr_prop)), ] }, seed = 101)"
      ]
    },
    {
      "cell_type": "markdown",
      "metadata": {
        "id": "tLOhL6P_2nqP"
      },
      "source": [
        "Stratified random sampling is a technique for selecting a representative sample from a population, where the sample is chosen in a way that ensures that certain subgroups within the population are adequately represented in the sample."
      ]
    },
    {
      "cell_type": "code",
      "execution_count": null,
      "metadata": {
        "id": "VEYcn7v1_QRI",
        "colab": {
          "base_uri": "https://localhost:8080/"
        },
        "outputId": "f4127a33-d4bf-44b7-9176-e8af75100692"
      },
      "outputs": [
        {
          "output_type": "stream",
          "name": "stdout",
          "text": [
            "\n",
            "       No       Yes \n",
            "0.3551913 0.6448087 \n",
            "\n",
            "  No  Yes \n",
            "0.35 0.65 \n"
          ]
        }
      ],
      "source": [
        "%%R\n",
        "print(prop.table(table(train$Class_As)))\n",
        "print(prop.table(table(test$Class_As)))"
      ]
    },
    {
      "cell_type": "markdown",
      "metadata": {
        "id": "nDrDY2n63wDp"
      },
      "source": [
        "## Fit a Logistic Regression Model\n",
        "\n",
        "We will use **logistic regression** to predict probability of soil As contamination (`Class_As`) based on elevation, year of irrigation, distance from STW, several irrigation water, and soil properties. We will use `glm()` function with `family = binomial(link = \"logit\"))` for logistic regression. The `Class_As` variable will be used as a response variable, while all the other variables in the `train` will serve as predictors.\n"
      ]
    },
    {
      "cell_type": "code",
      "execution_count": null,
      "metadata": {
        "id": "lcZ2Bqk23yWO"
      },
      "outputs": [],
      "source": [
        "%%R\n",
        "fit.logit<-glm(Class_As~., data= train,\n",
        "             family = binomial(link = \"logit\"))"
      ]
    },
    {
      "cell_type": "markdown",
      "metadata": {
        "id": "pND9obXb35Oy"
      },
      "source": [
        "### Model Summary\n",
        "\n",
        "The `summary()` function provides a summary of the fitted GLM model, including coefficients, standard errors, t-values, and p-values, among other statistics. This summary can help you interpret the relationship between the predictors and the response variable."
      ]
    },
    {
      "cell_type": "code",
      "execution_count": null,
      "metadata": {
        "colab": {
          "base_uri": "https://localhost:8080/"
        },
        "id": "vfKARaxg36w8",
        "outputId": "3642c701-e234-4c8a-83b4-a86b4628dbad"
      },
      "outputs": [
        {
          "output_type": "stream",
          "name": "stdout",
          "text": [
            "\n",
            "Call:\n",
            "glm(formula = Class_As ~ ., family = binomial(link = \"logit\"), \n",
            "    data = train)\n",
            "\n",
            "Coefficients:\n",
            "                  Estimate Std. Error z value Pr(>|z|)    \n",
            "(Intercept)     -6.0706181  1.6731924  -3.628 0.000285 ***\n",
            "WAs             12.6331694  3.6215949   3.488 0.000486 ***\n",
            "WFe              0.3522814  0.1207831   2.917 0.003538 ** \n",
            "SAoFe            0.0002895  0.0003311   0.874 0.381870    \n",
            "SOC              0.5122031  0.8242187   0.621 0.534310    \n",
            "Year_Irrigation  0.2950081  0.0633646   4.656 3.23e-06 ***\n",
            "Distance_STW    -0.0592661  0.0327871  -1.808 0.070668 .  \n",
            "Land_typeMHL     1.1958251  0.4563288   2.621 0.008779 ** \n",
            "---\n",
            "Signif. codes:  0 ‘***’ 0.001 ‘**’ 0.01 ‘*’ 0.05 ‘.’ 0.1 ‘ ’ 1\n",
            "\n",
            "(Dispersion parameter for binomial family taken to be 1)\n",
            "\n",
            "    Null deviance: 238.12  on 182  degrees of freedom\n",
            "Residual deviance: 142.73  on 175  degrees of freedom\n",
            "AIC: 158.73\n",
            "\n",
            "Number of Fisher Scoring iterations: 6\n",
            "\n"
          ]
        }
      ],
      "source": [
        "%%R\n",
        "summary(fit.logit)"
      ]
    },
    {
      "cell_type": "markdown",
      "metadata": {
        "id": "31QEa6pU4s6-"
      },
      "source": [
        "The summary output of GLM has several components that provide valuable insights into the model's performance. The summary includes information on the call, residuals, and coefficients, which are analogous to the summary of a model fit using the `lm()` function. However, the GLM summary differs from the `lm()` function in providing additional information about the dispersion parameter and deviance values.\n",
        "\n",
        "The **intercept** represents the `log-odds` of the event happening when all independent variables are set to zero. In some cases, interpreting the intercept might not be meaningful, especially if setting all variables to zero is not a realistic or meaningful scenario in your context.\n",
        "\n",
        "Each **slope coefficient** represents the change in the `log-odd`s of the event happening for a one-unit change in the corresponding independent variable holding all other variables constant. If the slope is positive, an increase in the corresponding independent variable is associated with an increase in the log-odds of the event happening. If the slope is negative, an increase in the corresponding independent variable is associated with a decrease in the log-odds of the event happening.\n",
        "\n",
        "The **dispersion parameter** is a scaling factor that accounts for the variance of the response variable and is a crucial component of the GLM models. The deviance values are measures of the model's goodness of fit and are used to assess how well the model fits the observed data.\n",
        "\n",
        "In cases where quasi-family is not used, the dispersion value is set to 1. This value indicates that the model's variance equals the mean and performs adequately. By understanding the summary output of a GLM model, we can make informed decisions about the model's performance and take the necessary steps to improve its accuracy.\n"
      ]
    },
    {
      "cell_type": "markdown",
      "source": [
        "`summ` function of **jtools**  produce summary table of regression models:"
      ],
      "metadata": {
        "id": "hwKJWTJGOdJ7"
      }
    },
    {
      "cell_type": "code",
      "source": [
        "%%R\n",
        "jtools::summ(fit.logit)"
      ],
      "metadata": {
        "colab": {
          "base_uri": "https://localhost:8080/"
        },
        "id": "GlKRGj09OSQ_",
        "outputId": "f8dac57a-bf82-41ca-c49e-22d6f0b51952"
      },
      "execution_count": null,
      "outputs": [
        {
          "output_type": "stream",
          "name": "stdout",
          "text": [
            "MODEL INFO:\n",
            "Observations: 183\n",
            "Dependent Variable: Class_As\n",
            "Type: Generalized linear model\n",
            "  Family: binomial \n",
            "  Link function: logit \n",
            "\n",
            "MODEL FIT:\n",
            "χ²(7) = 95.39, p = 0.00\n",
            "Pseudo-R² (Cragg-Uhler) = 0.56\n",
            "Pseudo-R² (McFadden) = 0.40\n",
            "AIC = 158.73, BIC = 184.41 \n",
            "\n",
            "Standard errors:MLE\n",
            "----------------------------------------------------\n",
            "                         Est.   S.E.   z val.      p\n",
            "--------------------- ------- ------ -------- ------\n",
            "(Intercept)             -6.07   1.67    -3.63   0.00\n",
            "WAs                     12.63   3.62     3.49   0.00\n",
            "WFe                      0.35   0.12     2.92   0.00\n",
            "SAoFe                    0.00   0.00     0.87   0.38\n",
            "SOC                      0.51   0.82     0.62   0.53\n",
            "Year_Irrigation          0.30   0.06     4.66   0.00\n",
            "Distance_STW            -0.06   0.03    -1.81   0.07\n",
            "Land_typeMHL             1.20   0.46     2.62   0.01\n",
            "----------------------------------------------------\n"
          ]
        }
      ]
    },
    {
      "cell_type": "markdown",
      "metadata": {
        "id": "aJbZqs1B5DLY"
      },
      "source": [
        "### Interpretation of Logistic Model\n",
        "\n",
        "We can use `reoprt()` function of **report** package to further explain the `fit.glm` object."
      ]
    },
    {
      "cell_type": "code",
      "execution_count": null,
      "metadata": {
        "colab": {
          "base_uri": "https://localhost:8080/"
        },
        "id": "GvBTAQIv5Qvd",
        "outputId": "f16663e2-d6c1-4c3e-aba4-061dc9d51fcc"
      },
      "outputs": [
        {
          "output_type": "stream",
          "name": "stdout",
          "text": [
            "We fitted a logistic model (estimated using ML) to predict Class_As with WAs,\n",
            "WFe, SAoFe, SOC, Year_Irrigation, Distance_STW and Land_type (formula: Class_As\n",
            "~ WAs + WFe + SAoFe + SOC + Year_Irrigation + Distance_STW + Land_type). The\n",
            "model's explanatory power is substantial (Tjur's R2 = 0.46). The model's\n",
            "intercept, corresponding to WAs = 0, WFe = 0, SAoFe = 0, SOC = 0,\n",
            "Year_Irrigation = 0, Distance_STW = 0 and Land_type = HL, is at -6.07 (95% CI\n",
            "[-9.59, -2.99], p < .001). Within this model:\n",
            "\n",
            "  - The effect of WAs is statistically significant and positive (beta = 12.63,\n",
            "95% CI [5.95, 20.21], p < .001; Std. beta = 1.06, 95% CI [0.50, 1.69])\n",
            "  - The effect of WFe is statistically significant and positive (beta = 0.35, 95%\n",
            "CI [0.13, 0.60], p = 0.004; Std. beta = 0.71, 95% CI [0.26, 1.22])\n",
            "  - The effect of SAoFe is statistically non-significant and positive (beta =\n",
            "2.90e-04, 95% CI [-3.54e-04, 9.52e-04], p = 0.382; Std. beta = 0.19, 95% CI\n",
            "[-0.23, 0.62])\n",
            "  - The effect of SOC is statistically non-significant and positive (beta = 0.51,\n",
            "95% CI [-1.09, 2.15], p = 0.534; Std. beta = 0.16, 95% CI [-0.35, 0.69])\n",
            "  - The effect of Year Irrigation is statistically significant and positive (beta\n",
            "= 0.30, 95% CI [0.18, 0.43], p < .001; Std. beta = 1.32, 95% CI [0.80, 1.91])\n",
            "  - The effect of Distance STW is statistically non-significant and negative\n",
            "(beta = -0.06, 95% CI [-0.13, 3.67e-03], p = 0.071; Std. beta = -0.36, 95% CI\n",
            "[-0.77, 0.02])\n",
            "  - The effect of Land type [MHL] is statistically significant and positive (beta\n",
            "= 1.20, 95% CI [0.31, 2.11], p = 0.009; Std. beta = 1.20, 95% CI [0.31, 2.11])\n",
            "\n",
            "Standardized parameters were obtained by fitting the model on a standardized\n",
            "version of the dataset. 95% Confidence Intervals (CIs) and p-values were\n",
            "computed using a Wald z-distribution approximation.\n"
          ]
        }
      ],
      "source": [
        "%%R\n",
        "report::report(fit.glm)"
      ]
    },
    {
      "cell_type": "markdown",
      "metadata": {
        "id": "9LvWgB985jhR"
      },
      "source": [
        "### Model Performance"
      ]
    },
    {
      "cell_type": "code",
      "execution_count": null,
      "metadata": {
        "colab": {
          "base_uri": "https://localhost:8080/"
        },
        "id": "xYDEDbhB5jtN",
        "outputId": "44c24dc4-1fd6-4c63-8811-2b02ef0a5cc3"
      },
      "outputs": [
        {
          "output_type": "stream",
          "name": "stdout",
          "text": [
            "# Indices of model performance\n",
            "\n",
            "AIC     |    AICc |     BIC | Tjur's R2 |  RMSE | Sigma | Log_loss | Score_log | Score_spherical |   PCP\n",
            "--------------------------------------------------------------------------------------------------------\n",
            "158.731 | 159.559 | 184.407 |     0.456 | 0.354 | 1.000 |    0.390 |      -Inf |           0.011 | 0.751\n"
          ]
        }
      ],
      "source": [
        "%%R\n",
        "performance::model_performance(fit.logit)"
      ]
    },
    {
      "cell_type": "markdown",
      "source": [
        "**`Tjur's R²`**, also known as Tjur's coefficient of discrimination, is a measure of discrimination or predictive accuracy for binary outcomes in logistic regression. It assesses how well the model distinguishes between the two categories of the dependent variable. Tjur's R² is defined as the difference in the average predicted probabilities of the two outcomes.\n",
        "\n",
        "The formula for Tjur's R² is as follows:\n",
        "\n",
        "$$ R^2_{Tjur} = P(Y=1|\\hat{Y}=1) - P(Y=0|\\hat{Y}=1) $$\n",
        "\n",
        "Here:\n",
        "\n",
        "-   $P(Y=1|\\hat{Y}=1)$ is the probability of the actual outcome being 1 given that the predicted outcome is 1.\n",
        "\n",
        "-   $P(Y=0|\\hat{Y}=1)$ is the probability of the actual outcome being 0 given that the predicted outcome is 1.\n",
        "\n",
        "Tjur's R² ranges from -1 to 1, where a higher value indicates better discrimination. A positive value suggests that the model is better at predicting the positive class, while a negative value suggests better prediction for the negative class.\n",
        "\n",
        "In practice, Tjur's R² is not as commonly used as other metrics like the area under the ROC curve (AUC) or the Brier score, but it provides a measure of the practical significance of the logistic regression model in terms of discrimination. Keep in mind that the interpretation of Tjur's R² should be done in the context of the specific dataset and problem you are working on.\n",
        "\n",
        "**`Log_loss`**: Logarithmic Loss (Log Loss), also known as cross-entropy loss, is a commonly utilized loss function in machine learning, particularly in classification problems. It measures the performance of a classification model that outputs a probability value ranging from 0 to 1. Due to its versatility and capability to handle prediction errors, Logarithmic Loss is often preferred over alternative loss functions. Its formulation is mathematically rigorous, and its implementation is straightforward, making it an essential tool for any machine learning practitioner.\n",
        "\n",
        "The formula for Log Loss is:\n",
        "\n",
        "$$ {Log Loss} = -\\frac{1}{N} \\sum_{i=1}^{N} [y_i \\log(p_i) + (1 - y_i) \\log(1 - p_i)] $$\n",
        "\n",
        "Where:\n",
        "\n",
        "\\- $N$ is the number of samples in the dataset.\n",
        "\n",
        "\\- $y_i$ is the true label for the $i$ th sample (0 or 1 for binary classification, or one-hot encoded vectors for multiclass classification).\n",
        "\n",
        "-   $p_i$ is the predicted probability that the $i$ th sample belongs to the positive class.\n",
        "\n",
        "**`Score_spherical`**: A proper scoring rule is a mathematical function used to assess the accuracy of probabilistic predictions made by a model. It is called proper because it is designed to maximize the expected score when the model's predictions align with the actual probabilities of the outcomes.\n",
        "\n",
        "**`PCP`**: Percentage of Correct Predictions (PCP), also known as accuracy, is a common evaluation metric for models with binary outcomes. It measures the proportion of correctly predicted instances out of the total number of instances.\n",
        ":::"
      ],
      "metadata": {
        "id": "Kc6tBE3KM-4G"
      }
    },
    {
      "cell_type": "markdown",
      "metadata": {
        "id": "-QSMFsp76EzD"
      },
      "source": [
        "### Visualization of model assumptions\n",
        "\n",
        "The package **performance** provides many functions to check model assumptions, like `check_collinearity()`, `check_normality()` or `check_heteroscedasticity()`. To get a comprehensive check, use `check_model()`."
      ]
    },
    {
      "cell_type": "code",
      "execution_count": null,
      "metadata": {
        "colab": {
          "base_uri": "https://localhost:8080/",
          "height": 817
        },
        "id": "vxdkmi--6FdO",
        "outputId": "53938806-5aa3-4de0-fd16-204676cbc569"
      },
      "outputs": [
        {
          "output_type": "display_data",
          "data": {
            "image/png": "[encoded data removed]"
          },
          "metadata": {}
        }
      ],
      "source": [
        "%%R -w 750 -h 800 -u px\n",
        "performance::check_model(fit.logit)"
      ]
    },
    {
      "cell_type": "markdown",
      "metadata": {
        "id": "QkZSGYvk7oGD"
      },
      "source": [
        "### The Logistic Distribution of Intercept and Slopes\n",
        "\n",
        "The `plogis()` function is used to calculate the logistic cumulative distribution function (CDF) of Intercept and Slopes. The logistic CDF is the probability that a logistic random variable is less than or equal to a specified value. The `plogis()` function takes a numeric vector of values and returns the corresponding probabilities.\n",
        "\n",
        "The `plogis()` function is particularly useful in the context of logistic regression, where you might be interested in converting log-odds into probabilities. If you have a logistic regression model with coefficients (intercept and slopes), you can use the logistic function and `plogis` to calculate probabilities."
      ]
    },
    {
      "cell_type": "code",
      "source": [
        "%%R\n",
        "## Intercept\n",
        "intercept = coef(fit.logit)[1]\n",
        "# Back-transform the  Slope of WAs\n",
        "slop_was = coef(fit.logit)[2]\n",
        "log_odds<-intercept + (slop_was*train$WAs)\n",
        "probabilities <- plogis(log_odds)\n",
        "age.prob<-data.frame(WAs = train$WAs, LogOdds = log_odds, Probability = probabilities) |>\n",
        "  glimpse()"
      ],
      "metadata": {
        "colab": {
          "base_uri": "https://localhost:8080/"
        },
        "id": "CzSf33djP_S1",
        "outputId": "4849b131-8262-42e9-e2c3-3054f59f3869"
      },
      "execution_count": null,
      "outputs": [
        {
          "output_type": "stream",
          "name": "stdout",
          "text": [
            "Rows: 183\n",
            "Columns: 3\n",
            "$ WAs         <dbl> 0.019, 0.043, 0.037, 0.126, 0.019, 0.020, 0.207, 0.016, 0.…\n",
            "$ LogOdds     <dbl> -5.830588, -5.527392, -5.603191, -4.478839, -5.830588, -5.…\n",
            "$ Probability <dbl> 0.002927753, 0.003960598, 0.003672546, 0.011219281, 0.0029…\n"
          ]
        }
      ]
    },
    {
      "cell_type": "markdown",
      "source": [
        "### Marginal Effects and Adjusted Predictions\n",
        "\n",
        "The presentation of regression models, typically in the form of tables, is widely accepted as a clear and accessible method for interpreting results. However, for more intricate models that incorporate interaction or transformed terms, such as quadratic or spline terms, the use of raw regression coefficients may prove less effective, resulting in challenges when interpreting outcomes. In such cases, adjusted predictions or marginal means provide a more fitting solution. The use of visual aids can also assist in the comprehension of such effects or predictions, providing an intuitive understanding of the relationship between predictors and outcomes, even for complex models.\n",
        "\n",
        "If we want the marginal effects for \"Land_types\", you may use `margins()` function of \"margins\" package:"
      ],
      "metadata": {
        "id": "UuaV79CZcHI6"
      }
    },
    {
      "cell_type": "code",
      "source": [
        "%%R\n",
        "margins::margins(fit.logit, variables = \"WAs\")"
      ],
      "metadata": {
        "colab": {
          "base_uri": "https://localhost:8080/"
        },
        "id": "dh215d8ocInz",
        "outputId": "525cbf9d-fa23-45fb-acd2-c0a57642af74"
      },
      "execution_count": null,
      "outputs": [
        {
          "output_type": "stream",
          "name": "stderr",
          "text": [
            "WARNING:rpy2.rinterface_lib.callbacks:R[write to console]: Average marginal effects\n",
            "\n",
            "WARNING:rpy2.rinterface_lib.callbacks:R[write to console]: glm(formula = Class_As ~ ., family = binomial(link = \"logit\"),     data = train)\n",
            "\n",
            "\n"
          ]
        },
        {
          "output_type": "stream",
          "name": "stdout",
          "text": [
            "  WAs\n",
            " 1.57\n"
          ]
        }
      ]
    },
    {
      "cell_type": "markdown",
      "source": [
        "we get the same marginal effect using `avg_slopes()` function from the **marginaleffects** package"
      ],
      "metadata": {
        "id": "NVoKgj26f4b0"
      }
    },
    {
      "cell_type": "code",
      "source": [
        "%%R\n",
        "marginaleffects::avg_slopes(fit.logit, variables = \"WAs\")"
      ],
      "metadata": {
        "colab": {
          "base_uri": "https://localhost:8080/"
        },
        "id": "GtBYPg32f5fV",
        "outputId": "6b35906c-e02c-4536-ad7d-b3c39eef4c5b"
      },
      "execution_count": null,
      "outputs": [
        {
          "output_type": "stream",
          "name": "stdout",
          "text": [
            "\n",
            " Estimate Std. Error    z Pr(>|z|)    S 2.5 % 97.5 %\n",
            "     1.57      0.396 3.96   <0.001 13.7 0.794   2.35\n",
            "\n",
            "Term: WAs\n",
            "Type:  response \n",
            "Comparison: mean(dY/dX)\n",
            "Columns: term, contrast, estimate, std.error, statistic, p.value, s.value, conf.low, conf.high, predicted_lo, predicted_hi, predicted \n",
            "\n"
          ]
        }
      ]
    },
    {
      "cell_type": "markdown",
      "source": [
        "To calculate marginal effects and adjusted predictions, the `predict_response()` function is used. This function can return three types of predictions, namely, conditional effects, marginal effects or marginal means, and average marginal effects or counterfactual predictions. You can set the type of prediction you want by using the `margin` argument."
      ],
      "metadata": {
        "id": "NXutmZ6XgCOn"
      }
    },
    {
      "cell_type": "code",
      "source": [
        "%%R\n",
        "effect<-ggeffects::predict_response(fit.logit, \"WAs\", margin = \"empirical\")\n",
        "effect"
      ],
      "metadata": {
        "colab": {
          "base_uri": "https://localhost:8080/"
        },
        "id": "A0R86fSsgDAb",
        "outputId": "2982ab2f-ecc2-4152-d05c-198449aec959"
      },
      "execution_count": null,
      "outputs": [
        {
          "output_type": "stream",
          "name": "stderr",
          "text": [
            "WARNING:rpy2.rinterface_lib.callbacks:R[write to console]: Data were 'prettified'. Consider using `terms=\"WAs [all]\"` to get smooth\n",
            "  plots.\n",
            "\n"
          ]
        },
        {
          "output_type": "stream",
          "name": "stdout",
          "text": [
            "# Average predicted probabilities of Class_As\n",
            "\n",
            " WAs | Predicted |     95% CI\n",
            "-----------------------------\n",
            "0.00 |      0.36 | 0.17, 0.59\n",
            "0.20 |      0.87 | 0.77, 0.94\n",
            "0.40 |      0.99 | 0.92, 1.00\n",
            "0.60 |      1.00 | 0.97, 1.00\n",
            "\n"
          ]
        }
      ]
    },
    {
      "cell_type": "markdown",
      "source": [
        "The marginal effects of \"MHL\", relative to \"HL\" is:"
      ],
      "metadata": {
        "id": "p_7SskXfgJip"
      }
    },
    {
      "cell_type": "code",
      "source": [
        "%%R\n",
        "effect$predicted[2] - effect$predicted[1]"
      ],
      "metadata": {
        "colab": {
          "base_uri": "https://localhost:8080/"
        },
        "id": "VoozH-MxgKXi",
        "outputId": "b64479ff-d806-431a-ddb6-649bcd968a46"
      },
      "execution_count": null,
      "outputs": [
        {
          "output_type": "stream",
          "name": "stdout",
          "text": [
            "[1] 0.5179228\n"
          ]
        }
      ]
    },
    {
      "cell_type": "markdown",
      "source": [
        "**ggeffects** supports labelled data and the `plot()`- method automatically sets titles, axis - and legend-labels depending on the value and variable labels of the data."
      ],
      "metadata": {
        "id": "jXrvX-hSgQzB"
      }
    },
    {
      "cell_type": "code",
      "source": [
        "%%R -w 650 -h 400 -u px\n",
        "was.wfe <- predict_response(fit.logit, terms = c(\"WAs\", \"WFe\"))\n",
        "plot(was.wfe, facets = TRUE)"
      ],
      "metadata": {
        "colab": {
          "base_uri": "https://localhost:8080/",
          "height": 469
        },
        "id": "F3_nBQb6gRiW",
        "outputId": "b0e1793e-3db9-45a6-8468-85d1a6c96f59"
      },
      "execution_count": null,
      "outputs": [
        {
          "output_type": "stream",
          "name": "stderr",
          "text": [
            "WARNING:rpy2.rinterface_lib.callbacks:R[write to console]: Data were 'prettified'. Consider using `terms=\"WAs [all]\"` to get smooth\n",
            "  plots.\n",
            "\n"
          ]
        },
        {
          "output_type": "display_data",
          "data": {
            "image/png": "[encoded data removed]"
          },
          "metadata": {}
        }
      ]
    },
    {
      "cell_type": "code",
      "source": [
        "%%R\n",
        "was.year.wfe<- predict_response(fit.logit, terms = c(\"WAs\", \"Year_Irrigation\", \"WFe\"))\n",
        "was.year.wfe"
      ],
      "metadata": {
        "colab": {
          "base_uri": "https://localhost:8080/"
        },
        "id": "ujGFMaNWghpa",
        "outputId": "7df55da0-a120-41c1-f4d6-5eb345339113"
      },
      "execution_count": null,
      "outputs": [
        {
          "output_type": "stream",
          "name": "stderr",
          "text": [
            "WARNING:rpy2.rinterface_lib.callbacks:R[write to console]: Data were 'prettified'. Consider using `terms=\"WAs [all]\"` to get smooth\n",
            "  plots.\n",
            "\n"
          ]
        },
        {
          "output_type": "stream",
          "name": "stdout",
          "text": [
            "# Predicted probabilities of Class_As\n",
            "\n",
            "Year_Irrigation: 2.7\n",
            "WFe: 3.25\n",
            "\n",
            " WAs | Predicted |     95% CI\n",
            "-----------------------------\n",
            "0.00 |      0.04 | 0.01, 0.13\n",
            "0.20 |      0.32 | 0.16, 0.54\n",
            "0.40 |      0.86 | 0.45, 0.98\n",
            "0.60 |      0.99 | 0.73, 1.00\n",
            "\n",
            "Year_Irrigation: 2.7\n",
            "WFe: 5.27\n",
            "\n",
            " WAs | Predicted |     95% CI\n",
            "-----------------------------\n",
            "0.00 |      0.07 | 0.02, 0.21\n",
            "0.20 |      0.49 | 0.30, 0.69\n",
            "0.40 |      0.92 | 0.62, 0.99\n",
            "0.60 |      0.99 | 0.84, 1.00\n",
            "\n",
            "Year_Irrigation: 2.7\n",
            "WFe: 7.29\n",
            "\n",
            " WAs | Predicted |     95% CI\n",
            "-----------------------------\n",
            "0.00 |      0.14 | 0.04, 0.36\n",
            "0.20 |      0.66 | 0.42, 0.84\n",
            "0.40 |      0.96 | 0.75, 1.00\n",
            "0.60 |      1.00 | 0.91, 1.00\n",
            "\n",
            "Year_Irrigation: 7.2\n",
            "WFe: 3.25\n",
            "\n",
            " WAs | Predicted |     95% CI\n",
            "-----------------------------\n",
            "0.00 |      0.13 | 0.04, 0.31\n",
            "0.20 |      0.64 | 0.43, 0.81\n",
            "0.40 |      0.96 | 0.74, 0.99\n",
            "0.60 |      1.00 | 0.90, 1.00\n",
            "\n",
            "Year_Irrigation: 7.2\n",
            "WFe: 5.27\n",
            "\n",
            " WAs | Predicted |     95% CI\n",
            "-----------------------------\n",
            "0.00 |      0.23 | 0.09, 0.45\n",
            "0.20 |      0.79 | 0.61, 0.89\n",
            "0.40 |      0.98 | 0.85, 1.00\n",
            "0.60 |      1.00 | 0.95, 1.00\n",
            "\n",
            "Year_Irrigation: 7.2\n",
            "WFe: 7.29\n",
            "\n",
            " WAs | Predicted |     95% CI\n",
            "-----------------------------\n",
            "0.00 |      0.37 | 0.16, 0.65\n",
            "0.20 |      0.88 | 0.72, 0.96\n",
            "0.40 |      0.99 | 0.91, 1.00\n",
            "0.60 |      1.00 | 0.97, 1.00\n",
            "\n",
            "Year_Irrigation: 11.6\n",
            "WFe: 3.25\n",
            "\n",
            " WAs | Predicted |     95% CI\n",
            "-----------------------------\n",
            "0.00 |      0.34 | 0.14, 0.64\n",
            "0.20 |      0.87 | 0.68, 0.95\n",
            "0.40 |      0.99 | 0.90, 1.00\n",
            "0.60 |      1.00 | 0.97, 1.00\n",
            "\n",
            "Year_Irrigation: 11.6\n",
            "WFe: 5.27\n",
            "\n",
            " WAs | Predicted |     95% CI\n",
            "-----------------------------\n",
            "0.00 |      0.52 | 0.25, 0.77\n",
            "0.20 |      0.93 | 0.81, 0.98\n",
            "0.40 |      0.99 | 0.94, 1.00\n",
            "0.60 |      1.00 | 0.98, 1.00\n",
            "\n",
            "Year_Irrigation: 11.6\n",
            "WFe: 7.29\n",
            "\n",
            " WAs | Predicted |     95% CI\n",
            "-----------------------------\n",
            "0.00 |      0.69 | 0.37, 0.89\n",
            "0.20 |      0.96 | 0.87, 0.99\n",
            "0.40 |      1.00 | 0.97, 1.00\n",
            "0.60 |      1.00 | 0.99, 1.00\n",
            "\n",
            "Adjusted for:\n",
            "*        SAoFe = 2576.72\n",
            "*          SOC =    1.35\n",
            "* Distance_STW =    9.77\n",
            "*    Land_type =      HL\n"
          ]
        }
      ]
    },
    {
      "cell_type": "code",
      "source": [
        "%%R -w 650 -h 400 -u px\n",
        "# select specific levels for grouping terms\n",
        "ggplot(was.year.wfe, aes(x = x, y = predicted, colour = group)) +\n",
        "  stat_smooth(method = \"lm\", se = FALSE) +\n",
        "  facet_wrap(~facet) +\n",
        "  labs(\n",
        "    y = get_y_title(was.year.wfe),\n",
        "    x = get_x_title(was.year.wfe),\n",
        "    colour = get_legend_title(was.year.wfe)\n",
        "  )"
      ],
      "metadata": {
        "colab": {
          "base_uri": "https://localhost:8080/",
          "height": 434
        },
        "id": "oWsTUEX5go17",
        "outputId": "61bd2148-cdfe-4a17-e872-191ee8e962d6"
      },
      "execution_count": null,
      "outputs": [
        {
          "output_type": "stream",
          "name": "stdout",
          "text": [
            "`geom_smooth()` using formula = 'y ~ x'\n"
          ]
        },
        {
          "output_type": "display_data",
          "data": {
            "image/png": "[encoded data removed]"
          },
          "metadata": {}
        }
      ]
    },
    {
      "cell_type": "markdown",
      "source": [
        "`effect_plot()` function of **jtools** package plot simple effects in logitic regression models:"
      ],
      "metadata": {
        "id": "5FdofgYAg0gG"
      }
    },
    {
      "cell_type": "code",
      "source": [
        "%%R\n",
        "p1<-jtools::effect_plot(fit.logit,\n",
        "                    main.title = \"Water As\",\n",
        "                    pred = WAs,\n",
        "                    interval = TRUE,\n",
        "                    partial.residuals = TRUE)\n",
        "p2<-jtools::effect_plot(fit.logit,\n",
        "                    main.title = \"Year of Irrigation \",\n",
        "                    pred = Year_Irrigation,\n",
        "                    interval = TRUE,\n",
        "                    partial.residuals = TRUE)\n",
        "p3<-jtools::effect_plot(fit.logit,\n",
        "                    main.title = \"Diastance_STW\",\n",
        "                    pred = Distance_STW ,\n",
        "                    interval = TRUE,\n",
        "                    partial.residuals = TRUE)\n",
        "p4<-jtools::effect_plot(fit.logit,\n",
        "                    main.title = \"Land type\",\n",
        "                    pred = Land_type,\n",
        "                    interval = TRUE,\n",
        "                    partial.residuals = TRUE)\n",
        "library(patchwork)\n",
        "(p1+p2)/(p3 +p4)"
      ],
      "metadata": {
        "colab": {
          "base_uri": "https://localhost:8080/",
          "height": 497
        },
        "id": "nYFqMccig1U1",
        "outputId": "8f2e9639-920e-46b4-aca2-eeba29b03b32"
      },
      "execution_count": null,
      "outputs": [
        {
          "output_type": "display_data",
          "data": {
            "image/png": "[encoded data removed]"
          },
          "metadata": {}
        }
      ]
    },
    {
      "cell_type": "markdown",
      "metadata": {
        "id": "IwT54Ppr8Yjd"
      },
      "source": [
        "### Prediction and Model Evaluation\n",
        "\n",
        "The `predict()` function for logistic models returns the default predictions of log-odds, which are probabilities on the logit scale. When type = `response`, the function provides the predicted probabilities.\n",
        "\n"
      ]
    },
    {
      "cell_type": "code",
      "execution_count": null,
      "metadata": {
        "id": "C-7eRTr48ZnL"
      },
      "outputs": [],
      "source": [
        "%%R\n",
        "test$Pred.prob<-predict(fit.logit, test, type = \"response\")"
      ]
    },
    {
      "cell_type": "code",
      "source": [
        "%%R\n",
        "ggpredict(fit.logit, terms = \"WAs[0:0.50 by = 0.05]\")"
      ],
      "metadata": {
        "colab": {
          "base_uri": "https://localhost:8080/"
        },
        "id": "ZN9q08iMhJEe",
        "outputId": "1ceca885-45cc-40b0-f9e0-a73ea8b8d71d"
      },
      "execution_count": null,
      "outputs": [
        {
          "output_type": "stream",
          "name": "stdout",
          "text": [
            "# Predicted probabilities of Class_As\n",
            "\n",
            " WAs | Predicted |     95% CI\n",
            "-----------------------------\n",
            "0.00 |      0.23 | 0.09, 0.45\n",
            "0.05 |      0.35 | 0.20, 0.55\n",
            "0.15 |      0.66 | 0.50, 0.79\n",
            "0.20 |      0.78 | 0.61, 0.89\n",
            "0.25 |      0.87 | 0.69, 0.95\n",
            "0.30 |      0.93 | 0.76, 0.98\n",
            "0.35 |      0.96 | 0.81, 0.99\n",
            "0.50 |      0.99 | 0.91, 1.00\n",
            "\n",
            "Adjusted for:\n",
            "*             WFe =    5.27\n",
            "*           SAoFe = 2576.72\n",
            "*             SOC =    1.35\n",
            "* Year_Irrigation =    7.19\n",
            "*    Distance_STW =    9.77\n",
            "*       Land_type =      HL\n"
          ]
        },
        {
          "output_type": "stream",
          "name": "stderr",
          "text": [
            "WARNING:rpy2.rinterface_lib.callbacks:R[write to console]: \n",
            "Not all rows are shown in the output. Use `print(..., n = Inf)` to show\n",
            "  all rows.\n",
            "\n"
          ]
        }
      ]
    },
    {
      "cell_type": "markdown",
      "metadata": {
        "id": "HffNpARv8wZ4"
      },
      "source": [
        "### Confusion Matrix at 50% Cut-Off Probability\n",
        "\n",
        "Now, we classified an sites in the test data set with a probability of As contamination is greater than 0.5, as `Yes`, otherwise `No`.\n",
        "\n",
        "\n"
      ]
    },
    {
      "cell_type": "code",
      "execution_count": null,
      "metadata": {
        "id": "FeiYHGpS8xIJ"
      },
      "outputs": [],
      "source": [
        "%%R\n",
        "# setting the cut-off probability\n",
        "test$Class_Prob <- ifelse(test$Pred.prob > 0.5,\"Yes\",\"No\")"
      ]
    },
    {
      "cell_type": "markdown",
      "source": [
        "Then, we will order the both actual (`Class_As`) and predicted classes (`Class_Prob`):"
      ],
      "metadata": {
        "id": "bME5iOIpQdBW"
      }
    },
    {
      "cell_type": "code",
      "execution_count": null,
      "metadata": {
        "colab": {
          "base_uri": "https://localhost:8080/"
        },
        "id": "y9gKcrX689yt",
        "outputId": "ff04c4d6-8f99-49aa-85a0-bd9532c75f61"
      },
      "outputs": [
        {
          "output_type": "stream",
          "name": "stdout",
          "text": [
            "    WAs  WFe SAoFe  SOC Year_Irrigation Distance_STW Land_type Class_As\n",
            "1 0.213 5.69  2580 1.25               4            5        HL       No\n",
            "2 0.053 3.06  3200 1.25               5           10        HL       No\n",
            "3 0.018 2.83  2780 1.30               5           10        HL       No\n",
            "4 0.137 4.09  2380 1.27               4           20        HL       No\n",
            "5 0.157 3.15  2500 1.02               4           15        HL       No\n",
            "6 0.159 2.95  2500 1.26               5           20        HL       No\n",
            "   Pred.prob Class_Prob Class_As_nu Class_Prob_nu\n",
            "1 0.71005329        Yes           0             1\n",
            "2 0.13308130         No           0             0\n",
            "3 0.07633919         No           0             0\n",
            "4 0.17296185         No           0             0\n",
            "5 0.19150838         No           0             0\n",
            "6 0.20361976         No           0             0\n"
          ]
        }
      ],
      "source": [
        "%%R\n",
        "test$Class_Prob <- ordered(test$Class_Prob, levels = c(\"Yes\", \"No\"))\n",
        "test$Class_As <- ordered(test$Class_As , levels = c(\"Yes\", \"No\"))\n",
        "head(test)"
      ]
    },
    {
      "cell_type": "markdown",
      "metadata": {
        "id": "7NzFiB22C5hV"
      },
      "source": [
        "### Overall classification accuracy\n",
        "\n",
        "Classification accuracy is a commonly used metric to evaluate the performance of a classification model. This metric is critical in machine learning applications where the model must predict a particular class or category based on input features. The classification accuracy represents the proportion of correct predictions made by the model to the total number of predictions it made. This metric is usually expressed as a percentage. For example, if a model makes 100 predictions and 80 of them are correct, the classification accuracy would be 80%.\n",
        "\n",
        "The formula used to calculate classification accuracy is straightforward. It is simply the ratio of the number of correct predictions to the total number of predictions made by the model, expressed as a percentage. The higher the classification accuracy, the better the performance of the model. Conversely, a lower classification accuracy indicates that the model made more incorrect predictions.\n",
        "\n",
        "$$ {Accuracy} = \\frac{\\text{Number of Correct Predictions}}{\\text{Total Number of Predictions}} \\times 100\\% $$\n",
        "\n",
        "The accuracy metric measures how often a model correctly predicts class labels. However, accuracy might not be the best way to evaluate a model's performance, especially if the dataset is imbalanced or misclassification errors have different costs. In such cases, other metrics like `precision`, `recall`, `F1-score`, or `area under the ROC curve (AUC-ROC)` might provide a more comprehensive understanding of the model's performance\n"
      ]
    },
    {
      "cell_type": "code",
      "execution_count": null,
      "metadata": {
        "colab": {
          "base_uri": "https://localhost:8080/"
        },
        "id": "ZVsHVDDqC5qP",
        "outputId": "139a1864-06c4-4f12-e95a-17067aa700e7"
      },
      "outputs": [
        {
          "output_type": "stream",
          "name": "stdout",
          "text": [
            "[1] 0.75\n"
          ]
        }
      ],
      "source": [
        "%%R\n",
        "accuracy <- mean(test$Class_As  == test$Class_Prob)\n",
        "accuracy\n"
      ]
    },
    {
      "cell_type": "markdown",
      "metadata": {
        "id": "L8fQaEtMDHVB"
      },
      "source": [
        "The classification `error rate` is the percentage of observations that have been misclassified. It can be calculated by subtracting the accuracy from 1. The accuracy and error rate can be calculated by comparing the observed classes in the test data against the predicted classes by the model."
      ]
    },
    {
      "cell_type": "code",
      "execution_count": null,
      "metadata": {
        "colab": {
          "base_uri": "https://localhost:8080/"
        },
        "id": "lc8p9uDdDH-t",
        "outputId": "94feb9a5-8130-4890-8fc6-078aaec9a6a7"
      },
      "outputs": [
        {
          "output_type": "stream",
          "name": "stdout",
          "text": [
            "[1] 0.25\n"
          ]
        }
      ],
      "source": [
        "%%R\n",
        "error <- mean(test$Class_As != test$Class_Prob)\n",
        "error"
      ]
    },
    {
      "cell_type": "markdown",
      "source": [
        "### Confusion matrix\n",
        "\n",
        "A logistic model can make two types of errors while categorizing a site concerning As-contamination. Firstly, it can wrongly assign an As-contamination-positive site to the As-contamination-negative category. Secondly, it can wrongly assign an As-contamination-negative individual to the As-contamination-positive category.\n",
        "\n",
        "A **confusion matrix** needs to be created to determine the proportion of these errors. This matrix helps compare the predicted outcome values against the known outcome values. It compares the observed and the predicted outcome values and shows the number of correct and incorrect predictions categorized by type of outcome. The confusion matrix is organized into rows and columns. The rows represent the actual classes, while the columns represent the predicted classes. Each cell in the matrix represents the count (or proportion) of instances that belong to the actual class and were predicted to be in the predicted class.\n",
        "\n",
        "![alt text](http://drive.google.com/uc?export=view&id=1b-mfVANB-v7OXCpUuEN7GrMBrNRW66__)\n",
        "\n",
        "\n",
        "\n",
        "True Positive (TP) refers to instances that are actually positive and are correctly predicted as positive. False Negative (FN) refers to instances that are actually positive but are incorrectly predicted as negative. False Positive (FP) refers to instances that are actually negative but are incorrectly predicted as positive. True Negative (TN) refers to instances that are actually negative and are correctly predicted as negative.\n",
        "\n",
        "The R function `table()` can produce a confusion matrix to determine how many observations were correctly or incorrectly classified."
      ],
      "metadata": {
        "id": "qmKfflUuRE-y"
      }
    },
    {
      "cell_type": "code",
      "execution_count": null,
      "metadata": {
        "id": "eiS6r7YyDRNz",
        "colab": {
          "base_uri": "https://localhost:8080/"
        },
        "outputId": "daa07847-7f65-4326-85fd-6951458fa952"
      },
      "outputs": [
        {
          "output_type": "stream",
          "name": "stdout",
          "text": [
            "      Predicted\n",
            "Actual Yes No\n",
            "   Yes  43  9\n",
            "   No   11 17\n"
          ]
        }
      ],
      "source": [
        "%%R\n",
        "table(Actual = test$Class_As, Predicted =test$Class_Prob)"
      ]
    },
    {
      "cell_type": "markdown",
      "source": [
        "The diagonal elements of the matrix represent the number of correct predictions, while the off-diagonal elements represent the number of incorrect predictions. To calculate the correct classification rate, you have to sum the number of correct predictions on the diagonal and then divide it by the total number of samples in the test data. In the example given, the correct classification rate can be calculated as this sum divided by the sample size of the test data (n= 80)."
      ],
      "metadata": {
        "id": "DMzJuNlkR9cZ"
      }
    },
    {
      "cell_type": "code",
      "source": [
        "%%R\n",
        " (44 + 20)/80"
      ],
      "metadata": {
        "colab": {
          "base_uri": "https://localhost:8080/"
        },
        "id": "Vo65a5HcR8qp",
        "outputId": "8b99f9b6-8305-40a1-f609-95e5ad651ba9"
      },
      "execution_count": null,
      "outputs": [
        {
          "output_type": "stream",
          "name": "stdout",
          "text": [
            "[1] 0.8\n"
          ]
        }
      ]
    },
    {
      "cell_type": "code",
      "execution_count": null,
      "metadata": {
        "colab": {
          "base_uri": "https://localhost:8080/"
        },
        "id": "C20_P0dYDX9K",
        "outputId": "7c0a9ece-9b61-4c1a-d98c-9393833fd50b"
      },
      "outputs": [
        {
          "metadata": {
            "tags": null
          },
          "name": "stdout",
          "output_type": "stream",
          "text": [
            "      Predicted\n",
            "Actual   Yes    No\n",
            "   Yes 0.537 0.112\n",
            "   No  0.138 0.212\n"
          ]
        }
      ],
      "source": [
        "%%R\n",
        "# Confusion matrix, proportion of cases\n",
        "table(Actual = test$Class_As, Predicted =test$Class_Prob) |>\n",
        "  prop.table() %>% round(digits = 3)"
      ]
    },
    {
      "cell_type": "markdown",
      "metadata": {
        "id": "qjjlMnWgDj90"
      },
      "source": [
        "### Precision\n",
        "\n",
        "Precision is a crucial metric used to evaluate the effectiveness of a classification model, especially in binary classification problems. It is a measure of the number of true positive predictions (correct positive predictions) among all the instances predicted as positive by the model. Precision is calculated using the following formula:\n",
        "\n",
        "$$ {Precision} = \\frac{\\text{True Positives (TP)}}{\\text{True Positives (TP)} + \\text{False Positives (FP)}} $$ A high precision value indicates that the model has a low rate of false positives and is making accurate positive predictions. Conversely, a low precision value suggests that the model is making a significant number of false positive errors.\n",
        "\n",
        "Metrics Package which has a `precision()` function to get **precision** of binary classification model. But first, we need to convert `As_Classs` and `Prob.50` from `Yes` and `No` to `1`s and `0`."
      ]
    },
    {
      "cell_type": "code",
      "execution_count": null,
      "metadata": {
        "id": "RieAuXJ2Dkx0",
        "colab": {
          "base_uri": "https://localhost:8080/"
        },
        "outputId": "72f2802c-a0e1-49be-f15e-613c034a9e93"
      },
      "outputs": [
        {
          "output_type": "stream",
          "name": "stdout",
          "text": [
            "[1] 0.8269231\n"
          ]
        }
      ],
      "source": [
        "%%R\n",
        "test$Class_As_nu<- ifelse(test$Class_As==\"Yes\", 1, 0)\n",
        "test$Class_Prob_nu<- ifelse(test$Class_Prob==\"Yes\", 1, 0)\n",
        "# to calculate precision\n",
        "Metrics::precision(test$Class_Prob_nu,test$Class_As_nu)"
      ]
    },
    {
      "cell_type": "markdown",
      "metadata": {
        "id": "OniedQDQFnfa"
      },
      "source": [
        "### Sensitivity or Recall\n",
        "\n",
        "Sensitivity, also referred to as recall or true positive rate (TPR), is a measurement used to assess the effectiveness of a classification model, especially in binary classification cases. It calculates the ratio of accurate positive predictions (correctly optimistic predictions) among all real positive occurrences. In simpler terms, sensitivity measures how well a model identifies positive instances from all actual positive instances in the dataset. It focuses on minimizing false negatives, which occur when the model incorrectly predicts negative instances as positive.\n",
        "\n",
        "$$ {Sensitivity (Recall)} = \\frac{\\text{True Positives (TP)}}{\\text{True Positives (TP)} + \\text{False Negatives (FN)}} $$ If a model has a high sensitivity value, it means that it has a low rate of false negative errors, which indicates that it is effectively capturing most of the positive instances. On the other hand, if a model has a low sensitivity value, it suggests that it is missing a significant number of positive instances.\n",
        "\n",
        "We will use `recall()` function to get recall of binary model prediction:\n"
      ]
    },
    {
      "cell_type": "code",
      "execution_count": null,
      "metadata": {
        "id": "Fz2etg0kFoZn",
        "colab": {
          "base_uri": "https://localhost:8080/"
        },
        "outputId": "c8334e1b-79b3-4b9c-c17f-bbe326b338e1"
      },
      "outputs": [
        {
          "output_type": "stream",
          "name": "stdout",
          "text": [
            "[1] 0.7962963\n"
          ]
        }
      ],
      "source": [
        "%%R\n",
        "# to calculate recall\n",
        "Metrics::recall(test$Class_Prob_nu,test$Class_As_nu)"
      ]
    },
    {
      "cell_type": "markdown",
      "metadata": {
        "id": "Wtz0dTdMFujY"
      },
      "source": [
        "### ROC curve\n",
        "\n",
        "The ROC curve is an important tool used in evaluating the performance of a binary classification model. It is a graphical plot that illustrates how well the model can distinguish between positive and negative classes at different threshold settings. The curve displays the trade-off between the true positive rate (sensitivity) and the false positive rate (1 - specificity) as the threshold for classification changes. The true positive rate measures the proportion of actual positive instances that are correctly identified by the model, while the false positive rate measures the proportion of actual negative instances that are incorrectly classified as positive by the model. By analyzing the ROC curve, one can determine the optimal threshold setting that maximizes the true positive rate and minimizes the false positive rate, thereby improving the overall accuracy of the classification model.\n",
        "\n",
        "The ROC curve is constructed in the following way:\n",
        "\n",
        "1.  The classification model assigns a probability score or a decision value to each instance, which indicates the likelihood of it belonging to the positive class.\n",
        "\n",
        "2.  By adjusting the decision threshold from 0 to 1, the model classifies instances as positive or negative. At each threshold, the true positive rate (sensitivity) and false positive rate (1 - specificity) are computed.\n",
        "\n",
        "3.  These true positive rates and false positive rates are then plotted on the ROC curve.\n",
        "\n",
        "A typical ROC appears as a line that starts at the bottom left corner (0, 0) and extends towards the top right corner (1, 1). If the curve is closer to the top-left corner, it indicates better performance of the model. A diagonal line from (0, 0) to (1, 1) on the ROC curve represents the performance of a random classifier. A model with perfect discrimination will have an ROC curve passing through the top-left corner, indicating a true positive rate of 1 (sensitivity) and a false positive rate of 0 (specificity). The area under the ROC curve (AUC-ROC) is a widely used summary statistic for quantifying the performance of a classification model. AUC-ROC ranges from 0 to 1, with higher values indicating better discrimination. An AUC-ROC of 0.5 suggests that the model performs no better than random guessing, while an AUC-ROC of 1 indicates perfect classification. To summarize, the ROC curve provides a clear visualization of a classification model's performance across different threshold settings. This allows users to select an appropriate threshold based on their specific needs for sensitivity and specificity.\n",
        "\n",
        "The ROC analysis can be easily performed using `roc()` of **pROC** package."
      ]
    },
    {
      "cell_type": "code",
      "execution_count": null,
      "metadata": {
        "colab": {
          "base_uri": "https://localhost:8080/",
          "height": 486
        },
        "id": "U-CprD8tFuto",
        "outputId": "d586f6fa-deee-4415-9414-5de7550bed42"
      },
      "outputs": [
        {
          "output_type": "stream",
          "name": "stderr",
          "text": [
            "WARNING:rpy2.rinterface_lib.callbacks:R[write to console]: Setting levels: control = Yes, case = No\n",
            "\n",
            "WARNING:rpy2.rinterface_lib.callbacks:R[write to console]: Setting direction: controls < cases\n",
            "\n"
          ]
        },
        {
          "output_type": "display_data",
          "data": {
            "image/png": "[encoded data removed]"
          },
          "metadata": {}
        }
      ],
      "source": [
        "%%R -w 450 -h 400 -u px\n",
        "# Compute roc\n",
        "res.roc <- pROC::roc(test$Class_Prob, test$Class_As)\n",
        "plot.roc(res.roc, print.auc = TRUE)"
      ]
    },
    {
      "cell_type": "markdown",
      "metadata": {
        "id": "ZXNb9b_HF2ZB"
      },
      "source": [
        "On a graph, the gray diagonal line represents a classifier's performance that is no better than random chance. In contrast, a high-performing classifier will exhibit a ROC curve that rises steeply towards the top-left corner. This indicates that it can correctly identify a large number of positives without misclassifying many negatives. The AUC metric is commonly used to evaluate the performance of a classifier. An AUC value close to 1, which is the maximum possible value, is indicative of a highly effective classifier. In this case, our classifier exhibits an AUC value of 0.79, suggesting that it is indeed good. By contrast, a classifier that performs no better than random chance would have an AUC value of 0.5 when assessed using an independent test set that was not used for training the model."
      ]
    },
    {
      "cell_type": "code",
      "execution_count": null,
      "metadata": {
        "id": "Uqtk5tScF32M",
        "colab": {
          "base_uri": "https://localhost:8080/"
        },
        "outputId": "e73b3596-1452-4101-e058-83c7da0c75ad"
      },
      "outputs": [
        {
          "output_type": "stream",
          "name": "stdout",
          "text": [
            "# A tibble: 2 × 3\n",
            "  thresholds sensitivity specificity\n",
            "       <dbl>       <dbl>       <dbl>\n",
            "1        1.5       0.654       0.796\n",
            "2      Inf         0           1    \n"
          ]
        }
      ],
      "source": [
        "%%R\n",
        "# Extract some interesting results\n",
        "roc.data <-tibble(\n",
        "  thresholds = res.roc$thresholds,\n",
        "  sensitivity = res.roc$sensitivities,\n",
        "  specificity = res.roc$specificities\n",
        ")\n",
        "# Get the probability threshold for specificity = 0.5\n",
        "roc.data  |>\n",
        "  filter(specificity >= 0.5)"
      ]
    },
    {
      "cell_type": "code",
      "execution_count": null,
      "metadata": {
        "colab": {
          "base_uri": "https://localhost:8080/",
          "height": 417
        },
        "id": "3UtkNr3XF-Zj",
        "outputId": "42c3633e-a1d0-4d0d-9f80-0e43581457f7"
      },
      "outputs": [
        {
          "output_type": "display_data",
          "data": {
            "image/png": "[encoded data removed]"
          },
          "metadata": {}
        }
      ],
      "source": [
        "%%R -w 450 -h 400 -u px\n",
        "plot.roc(res.roc, print.auc = TRUE, print.thres = \"best\")"
      ]
    },
    {
      "cell_type": "code",
      "source": [
        "%%R\n",
        "rm(list=ls())"
      ],
      "metadata": {
        "id": "eKHNkUugcF_c"
      },
      "execution_count": null,
      "outputs": []
    },
    {
      "cell_type": "markdown",
      "source": [
        "## Logistic Model with Caret Package\n",
        "\n",
        "The [\"caret\"](https://topepo.github.io/caret/) (short for Classification And REgression Training) is a popular R package for machine learning. With its unified interface, the package offers a convenient way to use multiple machine-learning algorithms and pre-processing techniques. This makes it easier to compare and switch between different models, enhancing the process's accuracy and efficiency.\n",
        "\n",
        "Some of the key features of the Caret package include:\n",
        "\n",
        "**Data Preprocessing**: It provides a comprehensive set of tools to preprocess the data, such as missing value imputation, feature scaling, feature selection,and data partitioning.\n",
        "\n",
        "**Model Training:** It supports various machine learning algorithms for classification, regression, and survival analysis, including decision trees, random forests, support vector machines, gradient boosting, and neural networks.\n",
        "\n",
        "**Model Tuning**: It provides tools for tuning the hyperparameters of the models using various techniques such as grid search, random search, and Bayesian optimization.\n",
        "\n",
        "**Model Evaluation**: It provides tools for evaluating the performance of the models using various metrics such as accuracy, AUC, F1-score, and log-loss.\n",
        "\n"
      ],
      "metadata": {
        "id": "fH3kjhZ1n0oz"
      }
    },
    {
      "cell_type": "code",
      "source": [
        "%%R\n",
        ".libPaths('drive/My Drive/R')\n",
        "library(caret)\n",
        "library(ROCR)"
      ],
      "metadata": {
        "id": "jSKDxalzoB_f"
      },
      "execution_count": null,
      "outputs": []
    },
    {
      "cell_type": "markdown",
      "source": [
        "### Data\n",
        "We will use `read_csv()` function of **readr** package to import data as a **tidy** data."
      ],
      "metadata": {
        "id": "T1BKnO1HplzT"
      }
    },
    {
      "cell_type": "code",
      "source": [
        "%%R\n",
        "# Load data\n",
        "mf<-readr::read_csv(\"https://github.com/zia207/r-colab/raw/main/Data/Regression_analysis/bd_soil_arsenic.csv\")\n",
        "# Create a binary response variable\n",
        "mf$Class_As<- cut(mf$SAs,\n",
        "                   breaks=c(-Inf, 14.8, Inf),\n",
        "                   labels=c(\"No\", \"Yes\"))\n",
        "mf$Class_As<-as.factor(mf$Class_As)\n",
        "# select variables\n",
        "df <- mf |>\n",
        "dplyr::select (WAs,  WFe,\n",
        "                SAoFe, SOC,\n",
        "                Year_Irrigation, Distance_STW,\n",
        "                Land_type, Class_As)\n",
        "# Create dummy variables\n",
        "dummies <- dummyVars(Class_As ~ ., data = df)\n",
        "dummies.df<-as.data.frame(predict(dummies, newdata = df))\n",
        "dummies.df$Class_As<-df$Class_As\n",
        "# Data splitting\n",
        "set.seed(3456)\n",
        "trainIndex <- createDataPartition(dummies.df$Class_As, p = .70,\n",
        "                                  list = FALSE,\n",
        "                                  times = 1)\n",
        "df_train <- dummies.df[ trainIndex,]\n",
        "df_test  <- dummies.df[-trainIndex,]"
      ],
      "metadata": {
        "colab": {
          "base_uri": "https://localhost:8080/"
        },
        "id": "sGq3L5hDpl6s",
        "outputId": "eee6b77b-98aa-46b4-eadc-38ad0779a143"
      },
      "execution_count": 7,
      "outputs": [
        {
          "output_type": "stream",
          "name": "stdout",
          "text": [
            "Rows: 263 Columns: 29\n",
            "── Column specification ────────────────────────────────────────────────────────\n",
            "Delimiter: \",\"\n",
            "chr  (1): Land_type\n",
            "dbl (28): ID, Longitude, Latitude, WAs, WP, WFe, WEc, WpH, WMg, WNa, WCa, WK...\n",
            "\n",
            "ℹ Use `spec()` to retrieve the full column specification for this data.\n",
            "ℹ Specify the column types or set `show_col_types = FALSE` to quiet this message.\n"
          ]
        }
      ]
    },
    {
      "cell_type": "markdown",
      "source": [
        "### Set control prameters\n",
        "\n",
        "The function `traincontrol()` function is used for controlling the training process."
      ],
      "metadata": {
        "id": "RhKy-uafrCP2"
      }
    },
    {
      "cell_type": "code",
      "source": [
        "%%R\n",
        "set.seed(123)\n",
        "train.control <- trainControl(method = \"boot\",\n",
        "                           number = 2,\n",
        "                           returnResamp = 'none',\n",
        "                           summaryFunction = twoClassSummary,\n",
        "                           classProbs = TRUE,\n",
        "                           savePredictions = TRUE)"
      ],
      "metadata": {
        "id": "9Nb7SedYrDDE"
      },
      "execution_count": 8,
      "outputs": []
    },
    {
      "cell_type": "markdown",
      "source": [
        "### Train the model\n",
        "\n",
        "**train()** is used for training machine learning models. It provides a unified interface for a wide range of machine learning algorithms, making comparing and evaluating different models on a given dataset easier. It allows the dataset as input and allows you to specify the type of model to train, as well as various tuning parameters and performance metrics. It uses a resampling method specified by **trainControl()** to estimate the model's performance on new, unseen data, and returns a trained model object."
      ],
      "metadata": {
        "id": "kHJJ7xT3rJTV"
      }
    },
    {
      "cell_type": "code",
      "source": [
        "%%R\n",
        "model.logit <- train(Class_As~., data = df_train,\n",
        "                     method = \"glm\",\n",
        "                     trControl = train.control,\n",
        "                     metric = \"ROC\")\n",
        "summary(model.logit)"
      ],
      "metadata": {
        "colab": {
          "base_uri": "https://localhost:8080/"
        },
        "id": "8he3YYverKEN",
        "outputId": "2aabb4be-448c-4c83-ee49-c66e3072573e"
      },
      "execution_count": 9,
      "outputs": [
        {
          "output_type": "stream",
          "name": "stdout",
          "text": [
            "\n",
            "Call:\n",
            "NULL\n",
            "\n",
            "Coefficients: (1 not defined because of singularities)\n",
            "                  Estimate Std. Error z value Pr(>|z|)    \n",
            "(Intercept)     -2.051e+00  1.513e+00  -1.356   0.1750    \n",
            "WAs              9.993e+00  3.202e+00   3.121   0.0018 ** \n",
            "WFe              2.395e-01  1.095e-01   2.187   0.0288 *  \n",
            "SAoFe           -6.834e-05  3.471e-04  -0.197   0.8439    \n",
            "SOC             -3.798e-01  7.773e-01  -0.489   0.6251    \n",
            "Year_Irrigation  3.105e-01  6.180e-02   5.025 5.03e-07 ***\n",
            "Distance_STW    -6.360e-02  3.302e-02  -1.926   0.0541 .  \n",
            "Land_typeHL     -9.828e-01  4.345e-01  -2.262   0.0237 *  \n",
            "Land_typeMHL            NA         NA      NA       NA    \n",
            "---\n",
            "Signif. codes:  0 ‘***’ 0.001 ‘**’ 0.01 ‘*’ 0.05 ‘.’ 0.1 ‘ ’ 1\n",
            "\n",
            "(Dispersion parameter for binomial family taken to be 1)\n",
            "\n",
            "    Null deviance: 241.07  on 184  degrees of freedom\n",
            "Residual deviance: 160.71  on 177  degrees of freedom\n",
            "AIC: 176.71\n",
            "\n",
            "Number of Fisher Scoring iterations: 5\n",
            "\n"
          ]
        }
      ]
    },
    {
      "cell_type": "code",
      "source": [
        "%%R\n",
        "print(model.logit)"
      ],
      "metadata": {
        "colab": {
          "base_uri": "https://localhost:8080/"
        },
        "id": "_BuMHS-SrYvg",
        "outputId": "7b8ad95b-99fa-4d09-9224-bba171584b5e"
      },
      "execution_count": 10,
      "outputs": [
        {
          "output_type": "stream",
          "name": "stdout",
          "text": [
            "Generalized Linear Model \n",
            "\n",
            "185 samples\n",
            "  8 predictor\n",
            "  2 classes: 'No', 'Yes' \n",
            "\n",
            "No pre-processing\n",
            "Resampling: Bootstrapped (2 reps) \n",
            "Summary of sample sizes: 185, 185 \n",
            "Resampling results:\n",
            "\n",
            "  ROC        Sens       Spec     \n",
            "  0.8276761  0.7093301  0.7463768\n",
            "\n"
          ]
        }
      ]
    },
    {
      "cell_type": "markdown",
      "source": [
        "### Training Performance"
      ],
      "metadata": {
        "id": "SZJPgEZpYpmE"
      }
    },
    {
      "cell_type": "code",
      "source": [
        "%%R\n",
        "getTrainPerf(model.logit)"
      ],
      "metadata": {
        "colab": {
          "base_uri": "https://localhost:8080/"
        },
        "id": "yyxqD12ZreuH",
        "outputId": "a7a0e4f3-53e7-4443-e844-738dffda84af"
      },
      "execution_count": 11,
      "outputs": [
        {
          "output_type": "stream",
          "name": "stdout",
          "text": [
            "   TrainROC TrainSens TrainSpec method\n",
            "1 0.8276761 0.7093301 0.7463768    glm\n"
          ]
        }
      ]
    },
    {
      "cell_type": "markdown",
      "source": [
        "### Prediction at test locations\n",
        "\n",
        "\n"
      ],
      "metadata": {
        "id": "ZZMjn_NTrj2c"
      }
    },
    {
      "cell_type": "code",
      "source": [
        "%%R\n",
        "pred.test<-predict(model.logit, df_test, type = \"prob\")\n",
        "pred.test<-pred.test[,2]"
      ],
      "metadata": {
        "id": "94x27QrNY6qa"
      },
      "execution_count": null,
      "outputs": []
    },
    {
      "cell_type": "markdown",
      "source": [
        "#### Confussion Matrix"
      ],
      "metadata": {
        "id": "4ruyu-MrrpkQ"
      }
    },
    {
      "cell_type": "code",
      "source": [
        "%%R\n",
        "# setting the cut-off probability\n",
        "class.test<- ifelse(pred.test > 0.5,\"Yes\",\"No\")\n",
        "# ordering the levels\n",
        "class.test <- ordered(class.test, levels = c(\"Yes\", \"No\"))\n",
        "df_test$Class_As <- ordered(df_test$Class_As , levels = c(\"Yes\", \"No\"))\n",
        "# confusion matrix\n",
        "caret::confusionMatrix(table(Actual = df_test$Class_As, Predicted = class.test))"
      ],
      "metadata": {
        "colab": {
          "base_uri": "https://localhost:8080/"
        },
        "id": "RgytSPk8rrsw",
        "outputId": "9a422f87-d5b3-4989-89e1-b17dd30b91a0"
      },
      "execution_count": 13,
      "outputs": [
        {
          "output_type": "stream",
          "name": "stdout",
          "text": [
            "Confusion Matrix and Statistics\n",
            "\n",
            "      Predicted\n",
            "Actual Yes No\n",
            "   Yes  41 10\n",
            "   No    9 18\n",
            "                                         \n",
            "               Accuracy : 0.7564         \n",
            "                 95% CI : (0.646, 0.8465)\n",
            "    No Information Rate : 0.641          \n",
            "    P-Value [Acc > NIR] : 0.02018        \n",
            "                                         \n",
            "                  Kappa : 0.4665         \n",
            "                                         \n",
            " Mcnemar's Test P-Value : 1.00000        \n",
            "                                         \n",
            "            Sensitivity : 0.8200         \n",
            "            Specificity : 0.6429         \n",
            "         Pos Pred Value : 0.8039         \n",
            "         Neg Pred Value : 0.6667         \n",
            "             Prevalence : 0.6410         \n",
            "         Detection Rate : 0.5256         \n",
            "   Detection Prevalence : 0.6538         \n",
            "      Balanced Accuracy : 0.7314         \n",
            "                                         \n",
            "       'Positive' Class : Yes            \n",
            "                                         \n"
          ]
        }
      ]
    },
    {
      "cell_type": "markdown",
      "source": [
        "#### ROC Curve\n",
        "\n",
        "We wull **ROCR** package to visualize classification performance in R. To compute measures or combinations of a model's performance, you can use the `performance()` function and apply it to the prediction object. This will generate a performance object that can be visualized using the `plot` method. For instance, you can obtain an ROC curve that represents the tradeoff between the true positive rate and the false positive rates."
      ],
      "metadata": {
        "id": "9GeiET6yr0OU"
      }
    },
    {
      "cell_type": "code",
      "source": [
        "%%R\n",
        "pred.prob <-predict(model.logit, df_test, type = \"prob\")\n",
        "pred.logit <- ROCR::prediction((1-pred.prob[,2]),df_test$Class_As)\n",
        "perf.logit <- ROCR::performance(pred.logit, \"tpr\",\"fpr\")\n",
        "plot(perf.logit,main = \"ROC Curve\",col = 2,lwd = 2)\n",
        "abline(a = 0,b = 1,lwd = 2,lty = 3,col = \"black\")"
      ],
      "metadata": {
        "colab": {
          "base_uri": "https://localhost:8080/",
          "height": 497
        },
        "id": "Jpobk8zgr3Io",
        "outputId": "b5fad81d-f882-482c-92c2-798f10e1a3a3"
      },
      "execution_count": 14,
      "outputs": [
        {
          "output_type": "display_data",
          "data": {
            "image/png": "[encoded data removed]"
          },
          "metadata": {}
        }
      ]
    },
    {
      "cell_type": "markdown",
      "source": [
        "## Logistic Model with tidymodels\n",
        "\n",
        "**The [tidymodels](https://www.tidymodels.org/)** is a comprehensive suite of R packages that facilitate the execution of modeling and machine learning tasks. Its user-friendly and consistent interface enables users to perform various modeling techniques efficiently, including data preprocessing, model fitting, tuning, evaluation, and visualization. Tidymodels is built on the principles of the [tidyverse](https://www.tidyverse.org/), a collection of R packages that promote a streamlined and efficient workflow for data analysis. By leveraging the features of tidymodels, users can efficiently perform complex modeling tasks and achieve better outcomes.\n",
        "\n"
      ],
      "metadata": {
        "id": "Aziy8_oIsXrp"
      }
    },
    {
      "cell_type": "code",
      "source": [
        "%%R\n",
        "library(tidymodels)\n",
        "library(caret)"
      ],
      "metadata": {
        "colab": {
          "base_uri": "https://localhost:8080/"
        },
        "id": "FpM7IHvCZjuq",
        "outputId": "3c464d8b-8af1-43ed-9b03-4cb812c6fb2f"
      },
      "execution_count": 16,
      "outputs": [
        {
          "output_type": "stream",
          "name": "stderr",
          "text": [
            "WARNING:rpy2.rinterface_lib.callbacks:R[write to console]: ── Attaching packages ────────────────────────────────────── tidymodels 1.2.0 ──\n",
            "\n",
            "WARNING:rpy2.rinterface_lib.callbacks:R[write to console]: ✔ broom        1.0.6     ✔ rsample      1.2.1\n",
            "✔ dials        1.3.0     ✔ tune         1.2.1\n",
            "✔ infer        1.0.7     ✔ workflows    1.1.4\n",
            "✔ modeldata    1.4.0     ✔ workflowsets 1.1.0\n",
            "✔ parsnip      1.2.1     ✔ yardstick    1.3.1\n",
            "✔ recipes      1.1.0     \n",
            "\n",
            "WARNING:rpy2.rinterface_lib.callbacks:R[write to console]: ── Conflicts ───────────────────────────────────────── tidymodels_conflicts() ──\n",
            "✖ yardstick::accuracy()    masks Metrics::accuracy()\n",
            "✖ ggpp::annotate()         masks ggplot2::annotate()\n",
            "✖ plyr::arrange()          masks dplyr::arrange()\n",
            "✖ infer::chisq_test()      masks rstatix::chisq_test()\n",
            "✖ plyr::compact()          masks purrr::compact()\n",
            "✖ plyr::count()            masks dplyr::count()\n",
            "✖ rstatix::desc()          masks plyr::desc(), dplyr::desc()\n",
            "✖ scales::discard()        masks purrr::discard()\n",
            "✖ plyr::failwith()         masks dplyr::failwith()\n",
            "✖ rstatix::filter()        masks dplyr::filter(), stats::filter()\n",
            "✖ recipes::fixed()         masks stringr::fixed()\n",
            "✖ dials::get_n()           masks rstatix::get_n()\n",
            "✖ yardstick::get_weights() masks jtools::get_weights()\n",
            "✖ plyr::id()               masks dplyr::id()\n",
            "✖ dplyr::lag()             masks stats::lag()\n",
            "✖ caret::lift()            masks purrr::lift()\n",
            "✖ yardstick::mae()         masks Metrics::mae(), performance::mae()\n",
            "✖ yardstick::mape()        masks Metrics::mape()\n",
            "✖ yardstick::mase()        masks Metrics::mase()\n",
            "✖ gtsummary::mutate()      masks rstatix::mutate(), plyr::mutate(), dplyr::mutate()\n",
            "✖ yardstick::precision()   masks caret::precision(), Metrics::precision()\n",
            "✖ infer::prop_test()       masks rstatix::prop_test()\n",
            "✖ yardstick::recall()      masks caret::recall(), Metrics::recall()\n",
            "✖ plyr::rename()           masks dplyr::rename()\n",
            "✖ yardstick::rmse()        masks Metrics::rmse(), performance::rmse()\n",
            "✖ yardstick::sensitivity() masks caret::sensitivity()\n",
            "✖ yardstick::smape()       masks Metrics::smape()\n",
            "✖ yardstick::spec()        masks readr::spec()\n",
            "✖ yardstick::specificity() masks caret::specificity()\n",
            "✖ recipes::step()          masks stats::step()\n",
            "✖ plyr::summarise()        masks dplyr::summarise()\n",
            "✖ plyr::summarize()        masks dplyr::summarize()\n",
            "✖ infer::t_test()          masks rstatix::t_test()\n",
            "• Dig deeper into tidy modeling with R at https://www.tmwr.org\n",
            "\n"
          ]
        }
      ]
    },
    {
      "cell_type": "markdown",
      "source": [
        "### Data"
      ],
      "metadata": {
        "id": "dlHDcPnAZp1K"
      }
    },
    {
      "cell_type": "code",
      "source": [
        "%%R\n",
        "mf<-readr::read_csv(\"https://github.com/zia207/r-colab/raw/main/Data/Regression_analysis/bd_soil_arsenic.csv\")\n",
        "# Create a binary response variable\n",
        "mf$Class_As<- cut(mf$SAs,\n",
        "                   breaks=c(-Inf, 14.8, Inf),\n",
        "                   labels=c(\"No\", \"Yes\"))\n",
        "mf$Class_As<-as.factor(mf$Class_As)\n",
        "# select variables\n",
        "df <- mf |>\n",
        "dplyr::select (WAs,  WFe,\n",
        "                SAoFe, SOC,\n",
        "                Year_Irrigation, Distance_STW,\n",
        "                Land_type, Class_As)\n",
        "\n",
        "# Create dummy variables\n",
        "dummies <- dummyVars(Class_As ~ ., data = df)\n",
        "dummies.df<-as.data.frame(predict(dummies, newdata = df))\n",
        "dummies.df$Class_As<-df$Class_As\n",
        "# data split\n",
        "set.seed(1245)   # for reproducibility\n",
        "split <- initial_split(dummies.df, prop = 0.7, strata = Class_As)\n",
        "train <- split |>\n",
        "         training()\n",
        "test <-  split |>\n",
        "         testing()"
      ],
      "metadata": {
        "colab": {
          "base_uri": "https://localhost:8080/"
        },
        "id": "tQ1_Wr9NZrK6",
        "outputId": "d5f5fdfd-721a-4a96-9386-118e6f66ce1e"
      },
      "execution_count": 17,
      "outputs": [
        {
          "output_type": "stream",
          "name": "stdout",
          "text": [
            "Rows: 263 Columns: 29\n",
            "── Column specification ────────────────────────────────────────────────────────\n",
            "Delimiter: \",\"\n",
            "chr  (1): Land_type\n",
            "dbl (28): ID, Longitude, Latitude, WAs, WP, WFe, WEc, WpH, WMg, WNa, WCa, WK...\n",
            "\n",
            "ℹ Use `spec()` to retrieve the full column specification for this data.\n",
            "ℹ Specify the column types or set `show_col_types = FALSE` to quiet this message.\n"
          ]
        }
      ]
    },
    {
      "cell_type": "markdown",
      "source": [
        "\n",
        "### Create Recipe\n",
        "\n",
        "The `recipe()` function is a part of the **recipes** package in R, which is utilized for preprocessing and feature engineering in machine learning workflows. The `recipe()` function allows you to define a blueprint or a recipe for data preprocessing. It enables you to specify a sequence of steps to be applied to your data before modeling."
      ],
      "metadata": {
        "id": "SEMqm8PeZxLF"
      }
    },
    {
      "cell_type": "code",
      "source": [
        "%%R\n",
        "logit_recipe <-\n",
        "  recipe(Class_As ~ ., data = train)  |>\n",
        "  step_zv(all_predictors()) |>\n",
        "  step_normalize(all_numeric_predictors())"
      ],
      "metadata": {
        "id": "In1bAzo8ZxUC"
      },
      "execution_count": 18,
      "outputs": []
    },
    {
      "cell_type": "markdown",
      "source": [
        "### Build a model"
      ],
      "metadata": {
        "id": "ViZms60haC8-"
      }
    },
    {
      "cell_type": "code",
      "source": [
        "%%R\n",
        "logit_mod <-\n",
        "   logistic_reg()  |>\n",
        "   set_engine(\"glm\") |>\n",
        "   set_mode(\"classification\")"
      ],
      "metadata": {
        "id": "1Yx2dMgoaDHG"
      },
      "execution_count": 19,
      "outputs": []
    },
    {
      "cell_type": "markdown",
      "source": [
        "### Create Workflow"
      ],
      "metadata": {
        "id": "oYVF9IXfaKTc"
      }
    },
    {
      "cell_type": "code",
      "source": [
        "%%R\n",
        "logit_wflow <-\n",
        "  workflow()  |>\n",
        "  add_recipe(logit_recipe) |>\n",
        "  add_model(logit_mod)"
      ],
      "metadata": {
        "id": "-n3h9ZA5aNkJ"
      },
      "execution_count": 20,
      "outputs": []
    },
    {
      "cell_type": "markdown",
      "source": [
        "### Fit a GLM model\n",
        "\n",
        "Now, there is a single function that can be used to prepare the recipe and train the model from the resulting predictors:"
      ],
      "metadata": {
        "id": "QWaEtE3saU1-"
      }
    },
    {
      "cell_type": "code",
      "source": [
        "%%R\n",
        "logit_fit <-\n",
        "  logit_wflow  |>\n",
        "  fit(data = train)"
      ],
      "metadata": {
        "id": "ngaojZ4NaVnF"
      },
      "execution_count": 21,
      "outputs": []
    },
    {
      "cell_type": "markdown",
      "source": [
        "This object has the finalized recipe and fitted model objects inside. You may want to extract the model or recipe objects from the workflow. To do this, you can use the helper functions `extract_fit_parsnip()`:\n"
      ],
      "metadata": {
        "id": "AboHJO3sabvV"
      }
    },
    {
      "cell_type": "code",
      "source": [
        "%%R\n",
        "logit_fit %>%\n",
        "  extract_fit_parsnip() |>\n",
        "  tidy()"
      ],
      "metadata": {
        "colab": {
          "base_uri": "https://localhost:8080/"
        },
        "id": "f1KZV2Mqab-8",
        "outputId": "3c792ca9-406b-4c1a-9772-8f3d89370ab1"
      },
      "execution_count": 23,
      "outputs": [
        {
          "output_type": "stream",
          "name": "stdout",
          "text": [
            "# A tibble: 9 × 5\n",
            "  term            estimate std.error statistic    p.value\n",
            "  <chr>              <dbl>     <dbl>     <dbl>      <dbl>\n",
            "1 (Intercept)       0.957      0.218     4.39   0.0000115\n",
            "2 WAs               0.732      0.246     2.98   0.00292  \n",
            "3 WFe               0.556      0.235     2.37   0.0178   \n",
            "4 SAoFe            -0.0762     0.215    -0.354  0.723    \n",
            "5 SOC               0.144      0.248     0.580  0.562    \n",
            "6 Year_Irrigation   0.842      0.235     3.58   0.000341 \n",
            "7 Distance_STW     -0.194      0.204    -0.952  0.341    \n",
            "8 Land_typeHL      -0.785      0.229    -3.43   0.000610 \n",
            "9 Land_typeMHL     NA         NA        NA     NA        \n"
          ]
        }
      ]
    },
    {
      "cell_type": "markdown",
      "source": [
        "### Odds Ratio\n",
        "\n",
        "The interpretation of coefficients in the log-odds term does not make much sense if you need to report it in your article or publication. That is why the concept of odds ratio was introduced.\n"
      ],
      "metadata": {
        "id": "ZJ04xhVcajw9"
      }
    },
    {
      "cell_type": "code",
      "source": [
        "%%R\n",
        "tidy(logit_fit, exponentiate = TRUE)"
      ],
      "metadata": {
        "colab": {
          "base_uri": "https://localhost:8080/"
        },
        "id": "zgd5c9Juaj8W",
        "outputId": "f4de1fa5-ec1d-4a34-9609-6ea5ad6debd8"
      },
      "execution_count": 24,
      "outputs": [
        {
          "output_type": "stream",
          "name": "stdout",
          "text": [
            "# A tibble: 9 × 5\n",
            "  term            estimate std.error statistic    p.value\n",
            "  <chr>              <dbl>     <dbl>     <dbl>      <dbl>\n",
            "1 (Intercept)        2.60      0.218     4.39   0.0000115\n",
            "2 WAs                2.08      0.246     2.98   0.00292  \n",
            "3 WFe                1.74      0.235     2.37   0.0178   \n",
            "4 SAoFe              0.927     0.215    -0.354  0.723    \n",
            "5 SOC                1.15      0.248     0.580  0.562    \n",
            "6 Year_Irrigation    2.32      0.235     3.58   0.000341 \n",
            "7 Distance_STW       0.823     0.204    -0.952  0.341    \n",
            "8 Land_typeHL        0.456     0.229    -3.43   0.000610 \n",
            "9 Land_typeMHL      NA        NA        NA     NA        \n"
          ]
        }
      ]
    },
    {
      "cell_type": "markdown",
      "source": [
        " Here we filtered out the variables whose p-values are less than 0.05 (5%) significant level."
      ],
      "metadata": {
        "id": "Pq1F6yKba2IE"
      }
    },
    {
      "cell_type": "code",
      "source": [
        "%%R\n",
        "tidy(logit_fit, exponentiate = TRUE) |>\n",
        "  filter(p.value < 0.05)"
      ],
      "metadata": {
        "colab": {
          "base_uri": "https://localhost:8080/"
        },
        "id": "e5PugJIia2-H",
        "outputId": "3c941008-c0ad-4f05-abcb-1b39ef1e30ce"
      },
      "execution_count": 25,
      "outputs": [
        {
          "output_type": "stream",
          "name": "stdout",
          "text": [
            "# A tibble: 5 × 5\n",
            "  term            estimate std.error statistic   p.value\n",
            "  <chr>              <dbl>     <dbl>     <dbl>     <dbl>\n",
            "1 (Intercept)        2.60      0.218      4.39 0.0000115\n",
            "2 WAs                2.08      0.246      2.98 0.00292  \n",
            "3 WFe                1.74      0.235      2.37 0.0178   \n",
            "4 Year_Irrigation    2.32      0.235      3.58 0.000341 \n",
            "5 Land_typeHL        0.456     0.229     -3.43 0.000610 \n"
          ]
        }
      ]
    },
    {
      "cell_type": "markdown",
      "source": [
        "### Training Performance"
      ],
      "metadata": {
        "id": "EOmcd3vKa--M"
      }
    },
    {
      "cell_type": "code",
      "source": [
        "%%R\n",
        "# Prediction\n",
        "logit_training_pred <-\n",
        "  predict(logit_fit, train) %>%\n",
        "  bind_cols(predict(logit_fit, train, type = \"prob\")) %>%\n",
        "  bind_cols(train %>% select(Class_As))\n"
      ],
      "metadata": {
        "id": "kzsRNrS9bD-o"
      },
      "execution_count": 27,
      "outputs": []
    },
    {
      "cell_type": "code",
      "source": [
        "%%R\n",
        "# ROC\n",
        "logit_training_pred  |>\n",
        "  yardstick::roc_auc(truth = Class_As, .pred_No)"
      ],
      "metadata": {
        "id": "aX0WBvdybPHq"
      },
      "execution_count": null,
      "outputs": []
    },
    {
      "cell_type": "code",
      "source": [
        "%%R\n",
        "# Accuracy\n",
        "logit_training_pred |>\n",
        "  yardstick::accuracy(Class_As, .pred_class)"
      ],
      "metadata": {
        "colab": {
          "base_uri": "https://localhost:8080/"
        },
        "id": "IbtHx_8HbWXg",
        "outputId": "4b36ca70-469b-4a77-d873-ef5b8322bf27"
      },
      "execution_count": 28,
      "outputs": [
        {
          "output_type": "stream",
          "name": "stdout",
          "text": [
            "# A tibble: 1 × 3\n",
            "  .metric  .estimator .estimate\n",
            "  <chr>    <chr>          <dbl>\n",
            "1 accuracy binary         0.847\n"
          ]
        }
      ]
    },
    {
      "cell_type": "code",
      "source": [
        "%%R\n",
        "# ROC curve\n",
        "logit_training_pred |>\n",
        "  yardstick::roc_curve(Class_As, .pred_No) |>\n",
        "  autoplot()"
      ],
      "metadata": {
        "colab": {
          "base_uri": "https://localhost:8080/",
          "height": 497
        },
        "id": "iBvGgNdHbaiV",
        "outputId": "e8d2bd8a-b5a9-433b-9d11-e9e107d529c0"
      },
      "execution_count": 29,
      "outputs": [
        {
          "output_type": "display_data",
          "data": {
            "image/png": "[encoded data removed]"
          },
          "metadata": {}
        }
      ]
    },
    {
      "cell_type": "markdown",
      "source": [
        "### Test performance"
      ],
      "metadata": {
        "id": "03lu_lahbfdH"
      }
    },
    {
      "cell_type": "code",
      "source": [
        "%%R\n",
        "# Prediction\n",
        "logit_test_pred <-\n",
        "  predict(logit_fit, test) %>%\n",
        "  bind_cols(predict(logit_fit, test, type = \"prob\")) %>%\n",
        "  bind_cols(test %>% select(Class_As))"
      ],
      "metadata": {
        "id": "H9c6QKwzbilo"
      },
      "execution_count": 30,
      "outputs": []
    },
    {
      "cell_type": "code",
      "source": [
        "%%R\n",
        "# Confusion matrix\n",
        "conf_mat(logit_test_pred, truth = Class_As,\n",
        "         estimate = .pred_class)"
      ],
      "metadata": {
        "colab": {
          "base_uri": "https://localhost:8080/"
        },
        "id": "TIsvWdY_bl-D",
        "outputId": "d008b2e4-f59b-4816-abff-6dac290c1721"
      },
      "execution_count": 31,
      "outputs": [
        {
          "output_type": "stream",
          "name": "stdout",
          "text": [
            "          Truth\n",
            "Prediction No Yes\n",
            "       No  18   9\n",
            "       Yes 10  43\n"
          ]
        }
      ]
    },
    {
      "cell_type": "code",
      "source": [
        "%%R\n",
        "# ROC\n",
        "logit_test_pred  |>\n",
        "  yardstick::roc_auc(truth = Class_As, .pred_No)"
      ],
      "metadata": {
        "colab": {
          "base_uri": "https://localhost:8080/"
        },
        "id": "-pJeixeebsYt",
        "outputId": "11d61b44-dc81-4042-ac10-71da1e3f4f83"
      },
      "execution_count": 33,
      "outputs": [
        {
          "output_type": "stream",
          "name": "stdout",
          "text": [
            "# A tibble: 1 × 3\n",
            "  .metric .estimator .estimate\n",
            "  <chr>   <chr>          <dbl>\n",
            "1 roc_auc binary         0.829\n"
          ]
        }
      ]
    },
    {
      "cell_type": "code",
      "source": [
        "%%R\n",
        "# ROC curve\n",
        "logit_test_pred |>\n",
        "  yardstick::roc_curve(Class_As, .pred_No) |>\n",
        "  autoplot()"
      ],
      "metadata": {
        "colab": {
          "base_uri": "https://localhost:8080/",
          "height": 497
        },
        "id": "tkwdv5ejb4XK",
        "outputId": "167c3442-fd41-458d-9488-e4142b7e19ff"
      },
      "execution_count": 35,
      "outputs": [
        {
          "output_type": "display_data",
          "data": {
            "image/png": "[encoded data removed]"
          },
          "metadata": {}
        }
      ]
    },
    {
      "cell_type": "code",
      "source": [
        "%%R\n",
        "rm(list=ls())"
      ],
      "metadata": {
        "id": "2W6zvCrVcAEz"
      },
      "execution_count": 36,
      "outputs": []
    },
    {
      "cell_type": "markdown",
      "source": [
        "## Logistic Regression with h20\n",
        "\n",
        "The **H2O** package is a powerful open-source software that is specifically designed for data analysis and machine learning. It is known for being incredibly fast, scalable, and easy to use, making it a popular choice among data scientists and machine learning engineers.\n",
        "\n"
      ],
      "metadata": {
        "id": "7VpZFkawcSV-"
      }
    },
    {
      "cell_type": "markdown",
      "source": [
        "### Import h2o"
      ],
      "metadata": {
        "id": "CIjbQuqycU_P"
      }
    },
    {
      "cell_type": "code",
      "source": [
        "%%R\n",
        "library(h2o)\n",
        "h2o.init()\n",
        "#disable progress bar for RMarkdown\n",
        "h2o.no_progress()\n",
        "# Optional: remove anything from previous session\n",
        "h2o.removeAll()\n"
      ],
      "metadata": {
        "id": "ExEvsjELcRZy"
      },
      "execution_count": null,
      "outputs": []
    },
    {
      "cell_type": "markdown",
      "source": [
        "### Data"
      ],
      "metadata": {
        "id": "SUHMyMlFeLva"
      }
    },
    {
      "cell_type": "code",
      "source": [],
      "metadata": {
        "id": "wOLHfJ2NejYQ"
      },
      "execution_count": null,
      "outputs": []
    },
    {
      "cell_type": "code",
      "source": [
        "%%R\n",
        "# Load data\n",
        "mf<-readr::read_csv(\"https://github.com/zia207/r-colab/raw/main/Data/Regression_analysis/bd_soil_arsenic.csv\")\n",
        "# Create a binary response variable\n",
        "mf$Class_As<- cut(mf$SAs,\n",
        "                   breaks=c(-Inf, 14.8, Inf),\n",
        "                   labels=c(\"No\", \"Yes\"))\n",
        "mf$Class_As<-as.factor(mf$Class_As)\n",
        "# select variables\n",
        "df <- mf |>\n",
        "dplyr::select (WAs,  WFe,\n",
        "                SAoFe, SOC,\n",
        "                Year_Irrigation, Distance_STW,\n",
        "                Land_type, Class_As)"
      ],
      "metadata": {
        "colab": {
          "base_uri": "https://localhost:8080/"
        },
        "id": "C3P9f03reL5r",
        "outputId": "5b9982d3-af6b-4f6a-fa5e-2546f225cf45"
      },
      "execution_count": 39,
      "outputs": [
        {
          "output_type": "stream",
          "name": "stdout",
          "text": [
            "Rows: 263 Columns: 29\n",
            "── Column specification ────────────────────────────────────────────────────────\n",
            "Delimiter: \",\"\n",
            "chr  (1): Land_type\n",
            "dbl (28): ID, Longitude, Latitude, WAs, WP, WFe, WEc, WpH, WMg, WNa, WCa, WK...\n",
            "\n",
            "ℹ Use `spec()` to retrieve the full column specification for this data.\n",
            "ℹ Specify the column types or set `show_col_types = FALSE` to quiet this message.\n"
          ]
        }
      ]
    },
    {
      "cell_type": "markdown",
      "source": [
        "### Import data into h20 cluster\n"
      ],
      "metadata": {
        "id": "dw8h1WKdejPF"
      }
    },
    {
      "cell_type": "code",
      "source": [
        "%%R\n",
        "h_df=as.h2o(df)"
      ],
      "metadata": {
        "id": "yv30_4iIepEN"
      },
      "execution_count": 40,
      "outputs": []
    },
    {
      "cell_type": "markdown",
      "source": [
        "### Split Data"
      ],
      "metadata": {
        "id": "1y_CSPshexOq"
      }
    },
    {
      "cell_type": "code",
      "source": [
        "%%R\n",
        "# Split dataset giving the training dataset 75% of the data\n",
        "df_split <- h2o.splitFrame(data = h_df, ratios = 0.75)\n",
        "print(dim(df_split[[1]]))\n",
        "print(dim(df_split[[2]]))"
      ],
      "metadata": {
        "colab": {
          "base_uri": "https://localhost:8080/"
        },
        "id": "338dsYlde12t",
        "outputId": "21f4f02c-9ba0-4adf-e6c1-9595fb33c84f"
      },
      "execution_count": 42,
      "outputs": [
        {
          "output_type": "stream",
          "name": "stdout",
          "text": [
            "[1] 199   8\n",
            "[1] 64  8\n"
          ]
        }
      ]
    },
    {
      "cell_type": "code",
      "source": [
        "%%R\n",
        "# Create a training set from the 1st dataset in the split\n",
        "h_train <- df_split[[1]]\n",
        "# Create a testing set from the 2nd dataset in the split\n",
        "h_test <- df_split[[2]]"
      ],
      "metadata": {
        "id": "KjKR8sGefEF_"
      },
      "execution_count": 43,
      "outputs": []
    },
    {
      "cell_type": "markdown",
      "source": [
        "### Define response and predictors"
      ],
      "metadata": {
        "id": "l18IAqmNfKjm"
      }
    },
    {
      "cell_type": "code",
      "source": [
        "%%R\n",
        "y <- \"Class_As\"\n",
        "x <- setdiff(names(h_df), y)"
      ],
      "metadata": {
        "id": "e0YmoaqbfLQi"
      },
      "execution_count": 44,
      "outputs": []
    },
    {
      "cell_type": "markdown",
      "source": [
        "### Fit Logistic model\n",
        "\n",
        "We fit fit a GLM using **h2o.glm()** function with family = `binomial`  and link =`logit` arguments.   \n"
      ],
      "metadata": {
        "id": "lffy7qrxfRz5"
      }
    },
    {
      "cell_type": "code",
      "source": [
        "%%R\n",
        "logit_h2o <- h2o.glm(\n",
        "  training_frame = h_train,\n",
        "  # validation_frame = valid,\n",
        "  x=x,\n",
        "  y=y,\n",
        "  model_id = \"Logit_MODEL_ID\",\n",
        "  family = \"binomial\",\n",
        "  link= \"logit\",\n",
        "  compute_p_values = TRUE,\n",
        "  nfolds = 10,\n",
        "  keep_cross_validation_models = TRUE,\n",
        "  early_stopping = TRUE,\n",
        "  stopping_rounds = 2,\n",
        "  stopping_metric = \"logloss\",\n",
        "  remove_collinear_columns = TRUE,\n",
        "  standardize = TRUE,\n",
        "  seed = 212)"
      ],
      "metadata": {
        "id": "I4tCQ-GNfSnN"
      },
      "execution_count": 45,
      "outputs": []
    },
    {
      "cell_type": "code",
      "source": [
        "%%R\n",
        "summary(logit_h2o)"
      ],
      "metadata": {
        "colab": {
          "base_uri": "https://localhost:8080/"
        },
        "id": "8k8xdCSFfrvH",
        "outputId": "bc918ec1-84d5-4ce8-86eb-b890ea40adfb"
      },
      "execution_count": 46,
      "outputs": [
        {
          "output_type": "stream",
          "name": "stdout",
          "text": [
            "Model Details:\n",
            "==============\n",
            "\n",
            "H2OBinomialModel: glm\n",
            "Model Key:  Logit_MODEL_ID \n",
            "GLM Model: summary\n",
            "    family  link                                regularization\n",
            "1 binomial logit Elastic Net (alpha = 0.5, lambda = 3.525E-4 )\n",
            "  number_of_predictors_total number_of_active_predictors number_of_iterations\n",
            "1                          6                           6                   51\n",
            "   training_frame\n",
            "1 RTMP_sid_a523_4\n",
            "\n",
            "H2OBinomialMetrics: glm\n",
            "** Reported on training data. **\n",
            "\n",
            "MSE:  0.141391\n",
            "RMSE:  0.3760199\n",
            "LogLoss:  0.4422952\n",
            "Mean Per-Class Error:  0.2726467\n",
            "AUC:  0.8528239\n",
            "AUCPR:  0.8974802\n",
            "Gini:  0.7056478\n",
            "R^2:  0.379931\n",
            "Residual Deviance:  176.0335\n",
            "AIC:  190.0335\n",
            "\n",
            "Confusion Matrix (vertical: actual; across: predicted) for F1-optimal threshold:\n",
            "       No Yes    Error     Rate\n",
            "No     34  36 0.514286   =36/70\n",
            "Yes     4 125 0.031008   =4/129\n",
            "Totals 38 161 0.201005  =40/199\n",
            "\n",
            "Maximum Metrics: Maximum metrics at their respective thresholds\n",
            "                        metric threshold      value idx\n",
            "1                       max f1  0.318005   0.862069 160\n",
            "2                       max f2  0.203204   0.923521 176\n",
            "3                 max f0point5  0.694934   0.859519 102\n",
            "4                 max accuracy  0.586257   0.804020 127\n",
            "5                max precision  0.995783   1.000000   0\n",
            "6                   max recall  0.175629   1.000000 182\n",
            "7              max specificity  0.995783   1.000000   0\n",
            "8             max absolute_mcc  0.586257   0.571700 127\n",
            "9   max min_per_class_accuracy  0.634334   0.785714 116\n",
            "10 max mean_per_class_accuracy  0.649599   0.791473 114\n",
            "11                     max tns  0.995783  70.000000   0\n",
            "12                     max fns  0.995783 128.000000   0\n",
            "13                     max fps  0.013765  70.000000 198\n",
            "14                     max tps  0.175629 129.000000 182\n",
            "15                     max tnr  0.995783   1.000000   0\n",
            "16                     max fnr  0.995783   0.992248   0\n",
            "17                     max fpr  0.013765   1.000000 198\n",
            "18                     max tpr  0.175629   1.000000 182\n",
            "\n",
            "Gains/Lift Table: Extract with `h2o.gainsLift(<model>, <data>)` or `h2o.gainsLift(<model>, valid=<T/F>, xval=<T/F>)`\n",
            "\n",
            "H2OBinomialMetrics: glm\n",
            "** Reported on cross-validation data. **\n",
            "** 10-fold cross-validation on training data (Metrics computed for combined holdout predictions) **\n",
            "\n",
            "MSE:  0.1537304\n",
            "RMSE:  0.3920847\n",
            "LogLoss:  0.4790845\n",
            "Mean Per-Class Error:  0.2887597\n",
            "AUC:  0.8287929\n",
            "AUCPR:  0.8768328\n",
            "Gini:  0.6575858\n",
            "R^2:  0.3258164\n",
            "Residual Deviance:  190.6756\n",
            "AIC:  204.6756\n",
            "\n",
            "Confusion Matrix (vertical: actual; across: predicted) for F1-optimal threshold:\n",
            "       No Yes    Error     Rate\n",
            "No     35  35 0.500000   =35/70\n",
            "Yes    10 119 0.077519  =10/129\n",
            "Totals 45 154 0.226131  =45/199\n",
            "\n",
            "Maximum Metrics: Maximum metrics at their respective thresholds\n",
            "                        metric threshold      value idx\n",
            "1                       max f1  0.364163   0.840989 153\n",
            "2                       max f2  0.197536   0.914986 177\n",
            "3                 max f0point5  0.641953   0.848896 114\n",
            "4                 max accuracy  0.565465   0.788945 128\n",
            "5                max precision  0.996442   1.000000   0\n",
            "6                   max recall  0.119914   1.000000 189\n",
            "7              max specificity  0.996442   1.000000   0\n",
            "8             max absolute_mcc  0.641953   0.542309 114\n",
            "9   max min_per_class_accuracy  0.641953   0.775194 114\n",
            "10 max mean_per_class_accuracy  0.641953   0.780454 114\n",
            "11                     max tns  0.996442  70.000000   0\n",
            "12                     max fns  0.996442 128.000000   0\n",
            "13                     max fps  0.016270  70.000000 198\n",
            "14                     max tps  0.119914 129.000000 189\n",
            "15                     max tnr  0.996442   1.000000   0\n",
            "16                     max fnr  0.996442   0.992248   0\n",
            "17                     max fpr  0.016270   1.000000 198\n",
            "18                     max tpr  0.119914   1.000000 189\n",
            "\n",
            "Gains/Lift Table: Extract with `h2o.gainsLift(<model>, <data>)` or `h2o.gainsLift(<model>, valid=<T/F>, xval=<T/F>)`\n",
            "Cross-Validation Metrics Summary: \n",
            "               mean       sd cv_1_valid cv_2_valid cv_3_valid cv_4_valid\n",
            "accuracy   0.864716 0.090080   0.937500   0.857143   0.833333   1.000000\n",
            "aic       33.067562 9.462432  24.252110  30.697771  37.923622  19.041126\n",
            "auc        0.852863 0.097284   0.963636   0.866667   0.688312   1.000000\n",
            "err        0.135284 0.090080   0.062500   0.142857   0.166667   0.000000\n",
            "err_count  3.100000 3.034981   1.000000   3.000000   3.000000   0.000000\n",
            "          cv_5_valid cv_6_valid cv_7_valid cv_8_valid cv_9_valid cv_10_valid\n",
            "accuracy    0.666667   0.826087   0.933333   0.869565   0.823529    0.900000\n",
            "aic        54.520090  37.235850  29.416595  35.044376  30.594707   31.949394\n",
            "auc         0.734615   0.825397   0.820000   0.931818   0.818182    0.880000\n",
            "err         0.333333   0.173913   0.066667   0.130435   0.176471    0.100000\n",
            "err_count  11.000000   4.000000   1.000000   3.000000   3.000000    2.000000\n",
            "\n",
            "---\n",
            "                       mean       sd cv_1_valid cv_2_valid cv_3_valid\n",
            "precision          0.848964 0.095958   0.916667   0.833333   0.785714\n",
            "r2                 0.347491 0.180057   0.543012   0.378943   0.167113\n",
            "recall             0.971190 0.054853   1.000000   1.000000   1.000000\n",
            "residual_deviance 19.067564 9.462432  10.252109  16.697771  23.923620\n",
            "rmse               0.375963 0.067700   0.313339   0.356014   0.444903\n",
            "specificity        0.657796 0.226991   0.800000   0.500000   0.571429\n",
            "                  cv_4_valid cv_5_valid cv_6_valid cv_7_valid cv_8_valid\n",
            "precision           1.000000   0.655172   0.812500   0.909091   0.909091\n",
            "r2                  0.717219   0.116305   0.320082   0.380956   0.376606\n",
            "recall              1.000000   0.950000   0.928571   1.000000   0.833333\n",
            "residual_deviance   5.041126  40.520090  23.235851  15.416596  21.044378\n",
            "rmse                0.224049   0.459329   0.402426   0.370898   0.394403\n",
            "specificity         1.000000   0.230769   0.666667   0.800000   0.909091\n",
            "                  cv_9_valid cv_10_valid\n",
            "precision           0.785714    0.882353\n",
            "r2                  0.275409    0.199265\n",
            "recall              1.000000    1.000000\n",
            "residual_deviance  16.594707   17.949394\n",
            "rmse                0.406789    0.387476\n",
            "specificity         0.500000    0.600000\n",
            "\n",
            "Scoring History: \n",
            "            timestamp   duration iterations negative_log_likelihood objective\n",
            "1 2024-09-16 15:39:51  0.000 sec          0               129.05719   0.64853\n",
            "2 2024-09-16 15:39:51  0.002 sec          1                91.14109   0.45853\n",
            "3 2024-09-16 15:39:51  0.003 sec          2                88.16262   0.44378\n",
            "4 2024-09-16 15:39:51  0.003 sec          3                88.01728   0.44312\n",
            "5 2024-09-16 15:39:51  0.004 sec          4                88.01675   0.44312\n",
            "  training_rmse training_logloss training_r2 training_auc training_pr_auc\n",
            "1            NA               NA          NA           NA              NA\n",
            "2            NA               NA          NA           NA              NA\n",
            "3            NA               NA          NA           NA              NA\n",
            "4            NA               NA          NA           NA              NA\n",
            "5            NA               NA          NA           NA              NA\n",
            "  training_lift training_classification_error\n",
            "1            NA                            NA\n",
            "2            NA                            NA\n",
            "3            NA                            NA\n",
            "4            NA                            NA\n",
            "5            NA                            NA\n",
            "\n",
            "---\n",
            "             timestamp   duration iterations negative_log_likelihood objective\n",
            "47 2024-09-16 15:39:51  0.031 sec         46                88.01675   0.44312\n",
            "48 2024-09-16 15:39:51  0.032 sec         47                88.01675   0.44312\n",
            "49 2024-09-16 15:39:51  0.032 sec         48                88.01675   0.44312\n",
            "50 2024-09-16 15:39:51  0.033 sec         49                88.01675   0.44312\n",
            "51 2024-09-16 15:39:51  0.033 sec         50                88.01675   0.44312\n",
            "52 2024-09-16 15:39:51  0.034 sec         51                88.01675   0.44312\n",
            "   training_rmse training_logloss training_r2 training_auc training_pr_auc\n",
            "47            NA               NA          NA           NA              NA\n",
            "48            NA               NA          NA           NA              NA\n",
            "49            NA               NA          NA           NA              NA\n",
            "50            NA               NA          NA           NA              NA\n",
            "51            NA               NA          NA           NA              NA\n",
            "52       0.37602          0.44230     0.37993      0.85282         0.89748\n",
            "   training_lift training_classification_error\n",
            "47            NA                            NA\n",
            "48            NA                            NA\n",
            "49            NA                            NA\n",
            "50            NA                            NA\n",
            "51            NA                            NA\n",
            "52       0.77132                       0.20101\n",
            "\n",
            "Variable Importances: (Extract with `h2o.varimp`) \n",
            "=================================================\n",
            "\n",
            "Variable Importances: \n",
            "         variable relative_importance scaled_importance percentage\n",
            "1             WAs            0.908163          1.000000   0.261519\n",
            "2 Year_Irrigation            0.862651          0.949886   0.248413\n",
            "3             WFe            0.626848          0.690237   0.180510\n",
            "4             SOC            0.472360          0.520127   0.136023\n",
            "5    Distance_STW            0.447894          0.493186   0.128978\n",
            "6           SAoFe            0.154728          0.170375   0.044556\n"
          ]
        }
      ]
    },
    {
      "cell_type": "markdown",
      "source": [
        "### Retrieve a graphical plot of the standardized coefficient magnitudes"
      ],
      "metadata": {
        "id": "p0asqFWefxWC"
      }
    },
    {
      "cell_type": "code",
      "source": [
        "%%R\n",
        "h2o.std_coef_plot(logit_h2o)"
      ],
      "metadata": {
        "colab": {
          "base_uri": "https://localhost:8080/",
          "height": 497
        },
        "id": "cbiaHqwufyUX",
        "outputId": "b77b2e71-f2a3-4a66-f89d-0fc1989c5e2b"
      },
      "execution_count": 47,
      "outputs": [
        {
          "output_type": "display_data",
          "data": {
            "image/png": "[encoded data removed]"
          },
          "metadata": {}
        }
      ]
    },
    {
      "cell_type": "markdown",
      "source": [
        "### Model Performance"
      ],
      "metadata": {
        "id": "O-s699dZf6D3"
      }
    },
    {
      "cell_type": "code",
      "source": [
        "%%R\n",
        "# training performance\n",
        "perf.train<-h2o.performance(logit_h2o, h_train)\n",
        "perf.train"
      ],
      "metadata": {
        "colab": {
          "base_uri": "https://localhost:8080/"
        },
        "id": "hWFEOk93f-ET",
        "outputId": "08104673-a093-464f-93c3-db4c69eb4cef"
      },
      "execution_count": 48,
      "outputs": [
        {
          "output_type": "stream",
          "name": "stdout",
          "text": [
            "H2OBinomialMetrics: glm\n",
            "\n",
            "MSE:  0.141391\n",
            "RMSE:  0.3760199\n",
            "LogLoss:  0.4422952\n",
            "Mean Per-Class Error:  0.2726467\n",
            "AUC:  0.8528239\n",
            "AUCPR:  0.8974802\n",
            "Gini:  0.7056478\n",
            "R^2:  0.379931\n",
            "Residual Deviance:  176.0335\n",
            "AIC:  190.0335\n",
            "\n",
            "Confusion Matrix (vertical: actual; across: predicted) for F1-optimal threshold:\n",
            "       No Yes    Error     Rate\n",
            "No     34  36 0.514286   =36/70\n",
            "Yes     4 125 0.031008   =4/129\n",
            "Totals 38 161 0.201005  =40/199\n",
            "\n",
            "Maximum Metrics: Maximum metrics at their respective thresholds\n",
            "                        metric threshold      value idx\n",
            "1                       max f1  0.318005   0.862069 160\n",
            "2                       max f2  0.203204   0.923521 176\n",
            "3                 max f0point5  0.694934   0.859519 102\n",
            "4                 max accuracy  0.586257   0.804020 127\n",
            "5                max precision  0.995783   1.000000   0\n",
            "6                   max recall  0.175629   1.000000 182\n",
            "7              max specificity  0.995783   1.000000   0\n",
            "8             max absolute_mcc  0.586257   0.571700 127\n",
            "9   max min_per_class_accuracy  0.634334   0.785714 116\n",
            "10 max mean_per_class_accuracy  0.649599   0.791473 114\n",
            "11                     max tns  0.995783  70.000000   0\n",
            "12                     max fns  0.995783 128.000000   0\n",
            "13                     max fps  0.013765  70.000000 198\n",
            "14                     max tps  0.175629 129.000000 182\n",
            "15                     max tnr  0.995783   1.000000   0\n",
            "16                     max fnr  0.995783   0.992248   0\n",
            "17                     max fpr  0.013765   1.000000 198\n",
            "18                     max tpr  0.175629   1.000000 182\n",
            "\n",
            "Gains/Lift Table: Extract with `h2o.gainsLift(<model>, <data>)` or `h2o.gainsLift(<model>, valid=<T/F>, xval=<T/F>)`"
          ]
        }
      ]
    },
    {
      "cell_type": "code",
      "source": [
        "%%R\n",
        "# test performance\n",
        "perf.test<-h2o.performance(logit_h2o, h_test)\n",
        "perf.test"
      ],
      "metadata": {
        "colab": {
          "base_uri": "https://localhost:8080/"
        },
        "id": "n2wmg20ygD1X",
        "outputId": "9e190336-f464-4a5f-a0fd-5add26ba17f8"
      },
      "execution_count": 49,
      "outputs": [
        {
          "output_type": "stream",
          "name": "stdout",
          "text": [
            "H2OBinomialMetrics: glm\n",
            "\n",
            "MSE:  0.1649293\n",
            "RMSE:  0.4061149\n",
            "LogLoss:  0.5096314\n",
            "Mean Per-Class Error:  0.2974549\n",
            "AUC:  0.8154825\n",
            "AUCPR:  0.8625679\n",
            "Gini:  0.630965\n",
            "R^2:  0.2836157\n",
            "Residual Deviance:  65.23282\n",
            "AIC:  79.23282\n",
            "\n",
            "Confusion Matrix (vertical: actual; across: predicted) for F1-optimal threshold:\n",
            "       No Yes    Error    Rate\n",
            "No     11  12 0.521739  =12/23\n",
            "Yes     3  38 0.073171   =3/41\n",
            "Totals 14  50 0.234375  =15/64\n",
            "\n",
            "Maximum Metrics: Maximum metrics at their respective thresholds\n",
            "                        metric threshold     value idx\n",
            "1                       max f1  0.448936  0.835165  49\n",
            "2                       max f2  0.178604  0.915179  59\n",
            "3                 max f0point5  0.684171  0.864865  35\n",
            "4                 max accuracy  0.684171  0.796875  35\n",
            "5                max precision  0.999492  1.000000   0\n",
            "6                   max recall  0.178604  1.000000  59\n",
            "7              max specificity  0.999492  1.000000   0\n",
            "8             max absolute_mcc  0.684171  0.586692  35\n",
            "9   max min_per_class_accuracy  0.684171  0.780488  35\n",
            "10 max mean_per_class_accuracy  0.684171  0.803287  35\n",
            "11                     max tns  0.999492 23.000000   0\n",
            "12                     max fns  0.999492 40.000000   0\n",
            "13                     max fps  0.118450 23.000000  63\n",
            "14                     max tps  0.178604 41.000000  59\n",
            "15                     max tnr  0.999492  1.000000   0\n",
            "16                     max fnr  0.999492  0.975610   0\n",
            "17                     max fpr  0.118450  1.000000  63\n",
            "18                     max tpr  0.178604  1.000000  59\n",
            "\n",
            "Gains/Lift Table: Extract with `h2o.gainsLift(<model>, <data>)` or `h2o.gainsLift(<model>, valid=<T/F>, xval=<T/F>)`"
          ]
        }
      ]
    },
    {
      "cell_type": "code",
      "source": [
        "%%R\n",
        "# CV-performance\n",
        "h2o.performance(logit_h2o, xval=TRUE)"
      ],
      "metadata": {
        "id": "LaEnyHBHgIcY"
      },
      "execution_count": null,
      "outputs": []
    },
    {
      "cell_type": "markdown",
      "source": [
        "### ROC Curve"
      ],
      "metadata": {
        "id": "A7ScJDrqgUt-"
      }
    },
    {
      "cell_type": "code",
      "source": [
        "%%R\n",
        "plot(logit_h2o@model$training_metrics, type = \"roc\", col = \"blue\", typ = \"l\", main = \"\")\n",
        "title(main = \"Training: ROC curve\",\n",
        "      cex.main = 1.25,\n",
        "      )"
      ],
      "metadata": {
        "colab": {
          "base_uri": "https://localhost:8080/",
          "height": 497
        },
        "id": "udyYbXiygW2a",
        "outputId": "bcb88922-0dce-4795-b08e-75fd5208f8f3"
      },
      "execution_count": 50,
      "outputs": [
        {
          "output_type": "display_data",
          "data": {
            "image/png": "[encoded data removed]"
          },
          "metadata": {}
        }
      ]
    },
    {
      "cell_type": "code",
      "source": [
        "%%R\n",
        "roc.test <- data.frame(perf.test@metrics$thresholds_and_metric_scores) |>\n",
        "    select(c(tpr, fpr))\n",
        "plot(roc.test$fpr, roc.test$tpr, type= \"l\", col = \"blue\", xlab=\"\", ylab=\"\")\n",
        "title(main = \"Test Data: ROC curve\",\n",
        "      cex.main = 1.25,\n",
        "      xlab=\"False Positive Rate\",\n",
        "      ylab=\"True Positive Rate\"\n",
        "      )\n",
        "abline(0, 1, lty=2)"
      ],
      "metadata": {
        "colab": {
          "base_uri": "https://localhost:8080/",
          "height": 497
        },
        "id": "XCORBXKjgibT",
        "outputId": "016e5022-aa6b-4f58-d95c-a70058c98fad"
      },
      "execution_count": 51,
      "outputs": [
        {
          "output_type": "display_data",
          "data": {
            "image/png": "[encoded data removed]"
          },
          "metadata": {}
        }
      ]
    },
    {
      "cell_type": "markdown",
      "source": [
        "%%R\n",
        "rm(list=ls())"
      ],
      "metadata": {
        "id": "u0EOB-zvgwk8"
      }
    },
    {
      "cell_type": "markdown",
      "source": [
        "## Logistic model with Keras/Tensorflow\n",
        "[Keras](https://keras.io/) is a popular high-level deep learning library that provides a convenient and user-friendly API for building and training deep learning models. [TensorFlow](https://www.tensorflow.org/) is a powerful open-source deep learning framework that serves as the backend for Keras and provides efficient computation for training and running deep learning models.\n",
        "\n",
        "![alt text](http://drive.google.com/uc?export=view&id=1XW_i_SRQj4p9t4PJwU8TMoRl-oMV_HFy)\n",
        "\n",
        "While Keras is primarily known for its Python implementation, it also has support for other programming languages, including R. In R, you can use the [keras3 package](https://posit.co/blog/keras-for-r/) which provides an interface to the Keras library with [TensorFlow](https://tensorflow.rstudio.com/)\n",
        "\n",
        "In this excercise, we will run R code in a Colab notebook by creating an R runtime environment without  **rpy2** package.\n",
        "\n",
        "Here’s how you can set it up:\n",
        "\n",
        "1. In the toolbar, click on the “Runtime” menu and select “Change runtime type.”\n",
        "\n",
        "2. In the dialog box that appears, select “R” from the “Runtime type” dropdown.\n",
        "\n",
        "3. Click on the “Save” button to apply the changes.\n",
        "\n",
        "\n",
        "![alt text](http://drive.google.com/uc?export=view&id=1o_EmN1Z-NHyEiFzgu5QptKN6mK5i401b)\n",
        "\n",
        "\n",
        "Once you have set up the R runtime environment, you can start writing and executing R code in the notebook cells. To run a code cell, press Shift+Enter or click the “Play” button next to the cell.\n",
        "\n",
        "You can install R packages in Colab by using the **install.packages()** function."
      ],
      "metadata": {
        "id": "VhvwdfFlgyZN"
      }
    },
    {
      "cell_type": "markdown",
      "source": [
        "### Installation\n",
        "The packages tidymodel, keras and some important packages are not installed in google colab. We have to install these packages:"
      ],
      "metadata": {
        "id": "8rCYxJiKn7_N"
      }
    },
    {
      "cell_type": "code",
      "source": [
        "pkg <- c(\n",
        "\t\t 'tidyverse',\n",
        "\t\t 'caret',\n",
        "\t\t 'tidymodels',\n",
        "     'keras',\n",
        "     'tensorflow',\n",
        "     'Metrics'\n",
        "      )\n",
        "new.packages <- pkg[!(pkg %in% installed.packages()[,\"Package\"])]\n",
        "\t\tif(length(new.packages)) install.packages(new.packages, repos = \"http://cran.us.r-project.org\")"
      ],
      "metadata": {
        "id": "lTi1iTcTn6hO"
      },
      "execution_count": 5,
      "outputs": []
    },
    {
      "cell_type": "markdown",
      "source": [
        "### Load Packages"
      ],
      "metadata": {
        "id": "q1UkP4IOkkZ8"
      }
    },
    {
      "cell_type": "code",
      "source": [
        "library(tidyverse)\n",
        "library(tidymodels)\n",
        "library(tensorflow)\n",
        "library(keras)\n",
        "library(caret)"
      ],
      "metadata": {
        "id": "8xe3DR6Fkkji"
      },
      "execution_count": null,
      "outputs": []
    },
    {
      "cell_type": "markdown",
      "source": [
        "### Data"
      ],
      "metadata": {
        "id": "JMx1mDLcxvaQ"
      }
    },
    {
      "cell_type": "code",
      "source": [
        "mf<-readr::read_csv(\"https://github.com/zia207/r-colab/raw/main/Data/Regression_analysis/bd_soil_arsenic.csv\")\n",
        "# Create a binary response variable\n",
        "mf$Class_As<- cut(mf$SAs,\n",
        "                   breaks=c(-Inf, 14.8, Inf),\n",
        "                   labels=c(\"No\", \"Yes\"))\n",
        "mf$Class_As<-as.factor(mf$Class_As)\n",
        "# select variables\n",
        "df <- mf |>\n",
        "dplyr::select (WAs,  WFe,\n",
        "                SAoFe, SOC,\n",
        "                Year_Irrigation, Distance_STW,\n",
        "                Land_type, Class_As)\n",
        "\n",
        "# Create dummy variables\n",
        "dummies <- dummyVars(Class_As ~ ., data = df)\n",
        "dummies.df<-as.data.frame(predict(dummies, newdata = df))\n",
        "dummies.df$Class_As<-df$Class_As\n",
        "\n",
        "dataset <- recipe(Class_As ~ ., data = df) |>\n",
        "  step_zv(all_predictors()) |>\n",
        "  step_dummy(all_nominal()) |>\n",
        "  prep() |>\n",
        "  bake(new_data = NULL) |>\n",
        "  glimpse()"
      ],
      "metadata": {
        "colab": {
          "base_uri": "https://localhost:8080/"
        },
        "id": "oe58S98PxvlN",
        "outputId": "6effadb4-e94c-4c54-9263-e18204dd1102"
      },
      "execution_count": 7,
      "outputs": [
        {
          "output_type": "stream",
          "name": "stderr",
          "text": [
            "\u001b[1mRows: \u001b[22m\u001b[34m263\u001b[39m \u001b[1mColumns: \u001b[22m\u001b[34m29\u001b[39m\n",
            "\u001b[36m──\u001b[39m \u001b[1mColumn specification\u001b[22m \u001b[36m────────────────────────────────────────────────────────\u001b[39m\n",
            "\u001b[1mDelimiter:\u001b[22m \",\"\n",
            "\u001b[31mchr\u001b[39m  (1): Land_type\n",
            "\u001b[32mdbl\u001b[39m (28): ID, Longitude, Latitude, WAs, WP, WFe, WEc, WpH, WMg, WNa, WCa, WK...\n",
            "\n",
            "\u001b[36mℹ\u001b[39m Use `spec()` to retrieve the full column specification for this data.\n",
            "\u001b[36mℹ\u001b[39m Specify the column types or set `show_col_types = FALSE` to quiet this message.\n",
            "Warning message in model.frame.default(Terms, newdata, na.action = na.action, xlev = object$lvls):\n",
            "“variable 'Class_As' is not a factor”\n"
          ]
        },
        {
          "output_type": "stream",
          "name": "stdout",
          "text": [
            "Rows: 263\n",
            "Columns: 8\n",
            "$ WAs             \u001b[3m\u001b[90m<dbl>\u001b[39m\u001b[23m 0.059, 0.059, 0.079, 0.122, 0.072, 0.042, 0.075, 0.064…\n",
            "$ WFe             \u001b[3m\u001b[90m<dbl>\u001b[39m\u001b[23m 3.44, 4.93, 9.70, 8.58, 4.78, 6.95, 7.81, 8.14, 8.99, …\n",
            "$ SAoFe           \u001b[3m\u001b[90m<dbl>\u001b[39m\u001b[23m 2500, 2670, 2160, 2500, 2060, 2500, 2520, 2140, 2150, …\n",
            "$ SOC             \u001b[3m\u001b[90m<dbl>\u001b[39m\u001b[23m 1.66, 1.26, 1.36, 1.61, 1.26, 1.74, 1.71, 1.69, 1.41, …\n",
            "$ Year_Irrigation \u001b[3m\u001b[90m<dbl>\u001b[39m\u001b[23m 14, 20, 10, 8, 10, 9, 8, 10, 8, 2, 20, 4, 15, 10, 5, 4…\n",
            "$ Distance_STW    \u001b[3m\u001b[90m<dbl>\u001b[39m\u001b[23m 5, 6, 5, 8, 5, 5, 10, 8, 10, 8, 5, 5, 9, 5, 10, 10, 12…\n",
            "$ Land_type_MHL   \u001b[3m\u001b[90m<dbl>\u001b[39m\u001b[23m 1, 1, 1, 1, 1, 1, 1, 1, 1, 1, 1, 0, 1, 0, 0, 0, 0, 0, …\n",
            "$ Class_As_Yes    \u001b[3m\u001b[90m<dbl>\u001b[39m\u001b[23m 1, 1, 1, 1, 1, 1, 1, 1, 1, 0, 1, 0, 1, 1, 0, 1, 0, 0, …\n"
          ]
        }
      ]
    },
    {
      "cell_type": "markdown",
      "source": [
        "### Split the data into training and test sets"
      ],
      "metadata": {
        "id": "Mid5D5jUx22a"
      }
    },
    {
      "cell_type": "code",
      "source": [
        "split <- initial_split(dataset, 0.8)\n",
        "train_dataset <- training(split)\n",
        "test_dataset <- testing(split)"
      ],
      "metadata": {
        "id": "dOTSXQUDx3f_"
      },
      "execution_count": 8,
      "outputs": []
    },
    {
      "cell_type": "markdown",
      "source": [
        "### Split features from labels (Class_As)\n",
        "\n",
        "Separate the target or response value---the \"label\" (Class_As_Yes) from the features. This label is the value that you will train the model to predict. The next step is to prepare the data for Keras by scaling it. We’ll use the scale function to achieve this. We’ll then use the `to_categorical` function on the labels to ensure that they’re categorical."
      ],
      "metadata": {
        "id": "S7Hq88o-x-4y"
      }
    },
    {
      "cell_type": "code",
      "source": [
        "\n",
        "# training data set\n",
        "X_train <- train_dataset  |>\n",
        "  select(-Class_As_Yes) |>\n",
        "  scale()\n",
        "y_train <- to_categorical(train_dataset$Class_As_Yes)\n",
        "\n",
        "# test dataset\n",
        "X_test <- test_dataset  |>\n",
        "  select(-Class_As_Yes) |>\n",
        "  scale()\n",
        "y_test <- to_categorical(test_dataset$Class_As_Yes)"
      ],
      "metadata": {
        "id": "X6faB5rxx_x0"
      },
      "execution_count": null,
      "outputs": []
    },
    {
      "cell_type": "markdown",
      "source": [
        "### Build and fit the Keras Sequential model"
      ],
      "metadata": {
        "id": "9ejwEjYfymvP"
      }
    },
    {
      "cell_type": "code",
      "source": [
        "model <- keras_model_sequential()\n",
        "\n",
        "model |>\n",
        "  layer_dense(units = 1, activation = 'relu', input_shape = ncol(X_train))  |>\n",
        "  layer_dense(units = 2, activation = 'sigmoid')\n",
        "\n",
        "model |>  compile(\n",
        "  loss = 'binary_crossentropy',\n",
        "  optimizer = 'adam',\n",
        "  metrics = c('accuracy')\n",
        ")\n",
        "\n",
        "history<-model |> fit(\n",
        "  X_train, y_train,\n",
        "  epochs = 100,\n",
        "  batch_size = 5,\n",
        "  validation_split = 0.3\n",
        ")\n",
        "```"
      ],
      "metadata": {
        "id": "Sttge4KyynIt"
      },
      "execution_count": null,
      "outputs": []
    },
    {
      "cell_type": "code",
      "source": [
        "summary(model)"
      ],
      "metadata": {
        "id": "mn89yLNsyyAh"
      },
      "execution_count": null,
      "outputs": []
    },
    {
      "cell_type": "code",
      "source": [
        "plot(history)"
      ],
      "metadata": {
        "id": "OuScZ-s5y0oN"
      },
      "execution_count": null,
      "outputs": []
    },
    {
      "cell_type": "markdown",
      "source": [
        "### Model Performance"
      ],
      "metadata": {
        "id": "lFJQR9GRy5Wx"
      }
    },
    {
      "cell_type": "code",
      "source": [
        "score<-model |>  evaluate(X_test, y_test, bath_size=100)\n",
        "cat('Test loss:', score[[1]], '\\n')"
      ],
      "metadata": {
        "id": "YXqFWARVy5ga"
      },
      "execution_count": null,
      "outputs": []
    },
    {
      "cell_type": "code",
      "source": [
        "cat('Test accuracy:', score[[2]], '\\n')"
      ],
      "metadata": {
        "id": "C-gBZk8_y_rv"
      },
      "execution_count": null,
      "outputs": []
    },
    {
      "cell_type": "code",
      "source": [
        "predictions <- predict(model, X_test)\n",
        "pred_digits <- apply(predictions, 1, which.max) -1\n",
        "confusionMatrix(as.factor(pred_digits), as.factor(test_dataset$Class_As_Yes))"
      ],
      "metadata": {
        "id": "MCzsy1HvzEBQ"
      },
      "execution_count": null,
      "outputs": []
    },
    {
      "cell_type": "markdown",
      "source": [
        "## Summary and Conclusion\n",
        "\n",
        "This tutorial explains how to apply logistic regression to perform binary classification in R. It covers data preparation, model fitting, evaluation, and interpretation of results. It also provides insights into interpreting the coefficients of the logistic regression model and discusses potential challenges. By following this tutorial, readers can gain a solid understanding of logistic regression analysis in R.\n",
        "\n",
        "Using logistic regression in R, researchers and data analysts can make informed decisions, identify important factors influencing binary outcomes, and gain insights into the relationships between predictors and outcome probabilities.\n"
      ],
      "metadata": {
        "id": "obr7OxEWTcUa"
      }
    },
    {
      "cell_type": "markdown",
      "metadata": {
        "id": "rUHrNY9J9lMg"
      },
      "source": [
        "## References\n",
        "\n",
        "1.  [How to Perform Logistic Regression in R](https://www.statology.org/logistic-regression-in-r/)\n",
        "\n",
        "2.  [Evaluation of Classification Model Accuracy: Essentials](http://www.sthda.com/english/articles/36-classification-methods-essentials/143-evaluation-of-classification-model-accuracy-essentials/)\n",
        "\n",
        "3.  [Precision, Recall and F1-Score using R](https://www.geeksforgeeks.org/precision-recall-and-f1-score-using-r/)\n",
        "\n",
        "4.  [Chapter 6 Binary Logistic Regression](https://www.bookdown.org/rwnahhas/RMPH/blr.html)\n",
        "\n",
        "5.  [Chapter 10 Binary Logistic Regression](https://bookdown.org/chua/ber642_advanced_regression/binary-logistic-regression.html)\n",
        "\n",
        "6.  R Online Manual: [glm](http://stat.ethz.ch/R-manual/R-patched/library/stats/html/glm.html)\n",
        "\n",
        "7.  [Applied Logistic Regression (Second Edition)](https://stats.oarc.ucla.edu/examples/alr2/) by David Hosmer and Stanley Lemeshow\n",
        "\n",
        "8.  [Stat Books for Loan, Logistic Regression and Limited Dependent Variables](https://stats.oarc.ucla.edu/books/#Logistic%20Regression%20and%20Related%20Methods)\n",
        "\n",
        "\n",
        "\n"
      ]
    }
  ],
  "metadata": {
    "colab": {
      "provenance": [],
      "toc_visible": true,
      "authorship_tag": "ABX9TyOLLAVnPlDich6vxn+t7jHU",
      "include_colab_link": true
    },
    "kernelspec": {
      "display_name": "R",
      "name": "ir"
    },
    "language_info": {
      "name": "R"
    }
  },
  "nbformat": 4,
  "nbformat_minor": 0
}