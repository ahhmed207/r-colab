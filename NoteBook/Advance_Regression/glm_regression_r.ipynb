{
  "nbformat": 4,
  "nbformat_minor": 0,
  "metadata": {
    "colab": {
      "provenance": [],
      "toc_visible": true,
      "authorship_tag": "ABX9TyPaQHckDiaqL6s/8K1ZBSAl",
      "include_colab_link": true
    },
    "kernelspec": {
      "name": "python3",
      "display_name": "Python 3"
    },
    "language_info": {
      "name": "python"
    }
  },
  "cells": [
    {
      "cell_type": "markdown",
      "metadata": {
        "id": "view-in-github",
        "colab_type": "text"
      },
      "source": [
        "<a href=\"https://colab.research.google.com/github/zia207/r-colab/blob/main/NoteBook/Advance_Regression/glm_regression_r.ipynb\" target=\"_parent\"><img src=\"https://colab.research.google.com/assets/colab-badge.svg\" alt=\"Open In Colab\"/></a>"
      ]
    },
    {
      "cell_type": "markdown",
      "source": [
        "![alt text](http://drive.google.com/uc?export=view&id=1bLQ3nhDbZrCCqy_WCxxckOne2lgVvn3l)"
      ],
      "metadata": {
        "id": "KsBkpmP_qjLM"
      }
    },
    {
      "cell_type": "markdown",
      "source": [
        "# Generalized Linear Models in R\n",
        "\n",
        "\n",
        "\n"
      ],
      "metadata": {
        "id": "Dzp9ZseROTcY"
      }
    },
    {
      "cell_type": "markdown",
      "source": [
        "\n",
        "## Introdduction\n",
        "\n",
        "RThe Generalized Linear Model (GLM) is a sophisticated extension of linear regression designed to model relationships between a dependent variable and independent variables when the underlying assumptions of linear regression are unmet. The GLM was first introduced by Sir John Nelder and Robert Wedderburn, both acclaimed statisticians, in 1972.\n",
        "\n",
        "The GLM is an essential tool in modern data analysis, as it can be used to model a wide range of data types that may not conform to the assumptions of traditional linear regression. It allows for modeling non-normal distributions, non-linear relationships, and correlations between observations. By utilizing **maximum likelihood estimation (MLE)**, the GLM can also handle missing data and provide accurate estimates even when some observations are missing. This makes it a valuable tool in business and academia, where the ability to model complex relationships accurately is essential.\n",
        "\n",
        "In conclusion, the GLM is a powerful and flexible tool integral to modern data analysis. Its ability to model complex relationships between variables and handle missing data has made it a valuable asset in business and academia.\n",
        "\n",
        "::: callout-note\n",
        "**Maximum Likelihood Estimation (MLE)** is a statistical technique used to estimate the parameters of a model by analyzing the observed data. This method involves finding the optimal values for the model parameters by maximizing the likelihood function. The likelihood function measures how well the model can explain the observed data. The higher the likelihood function, the more accurate the model explains the data. MLE is widely used in fields such as finance, economics, and engineering to create models that can predict future outcomes based on the available data.\n",
        ":::\n",
        "\n",
        "### Key features of Generalized Linear Models:\n",
        "\n",
        "1.  **Link Function:** GLMs are characterized by a **link function** that connects the linear predictor, a combination of independent variables, to the mean of the dependent variable. This connection enables the estimation of the relationship between independent and dependent variables in a non-linear fashion.\n",
        "\n",
        "The selection of a link function in GLMs is contingent upon the nature of the data and the distribution of the response variable. The `identity` link function is utilized when the continuous response variable follows a normal distribution. The `logit` link function is employed when the response variable is binary, meaning it can only take on two values and follows a binomial distribution. The `log` link function is utilized when the response variable is count data and follows a Poisson distribution.\n",
        "\n",
        "Choosing an appropriate link function is a crucial aspect of modeling, as it impacts the interpretation of the estimated coefficients for independent variables. Therefore, a thorough understanding of the nature of the data and the response variable's distribution is necessary when selecting a link function.\n",
        "\n",
        "2.  **Distribution Family:** Unlike linear regression, which assumes a normal distribution for the residuals, GLMs allow for a variety of probability distributions for the response variable. The choice of distribution is based on the characteristics of the data. Commonly used distributions include:\n",
        "\n",
        "    -   **Normal distribution (Gaussian):** For continuous data.\n",
        "\n",
        "    -   **Binomial distribution:** For binary or dichotomous data.\n",
        "\n",
        "    -   **Poisson distribution:** For count data.\n",
        "\n",
        "    -   **Gamma distribution:** For continuous, positive, skewed data.\n",
        "\n",
        "3.  **Variance Function:** GLMs accommodate heteroscedasticity (unequal variances across levels of the independent variables) by allowing the variance of the response variable to be a function of the mean.\n",
        "\n",
        "4.  **Deviance:** Instead of using the sum of squared residuals as in linear regression, GLMs use deviance to measure lack of fit. Deviance compares the fit of the model to a saturated model (a model that perfectly fits the data).\n",
        "\n",
        "The **mathematical expression** of a Generalized Linear Model (GLM) involves the linear predictor, the link function, and the probability distribution of the response variable.\n",
        "\n",
        "Here's the general form of a GLM:\n",
        "\n",
        "1.  **Linear Predictor (η):**\n",
        "\n",
        "    $$ \\eta = \\beta_0 + \\beta_1x_1 + \\beta_2x_2 + \\ldots + \\beta_kx_k $$\n",
        "\n",
        "    where:\n",
        "\n",
        "-   $\\eta$ is the linear predictor,\n",
        "\n",
        "-   $\\beta_0, \\beta_1, \\ldots, \\beta_k$ are the coefficients,\n",
        "\n",
        "-   $x_1, x_2, \\ldots, x_k$ are the independent variables.\n",
        "\n",
        "2.  **Link Function (**g):\n",
        "\n",
        "$$ g(\\mu) = \\eta $$\n",
        "\n",
        "The link function connects the linear predictor to the mean of the response variable. It transforms the mean (μ) to the linear predictor (η). Common link functions include:\n",
        "\n",
        "-   Identity link (for normal distribution):\n",
        "\n",
        "$$ g(\\mu) = \\mu $$\n",
        "\n",
        "-   Logit link (for binary data in logistic regression):\n",
        "\n",
        "$$ g(\\mu) = log(\\frac{\\mu}{1-\\mu}) $$\n",
        "\n",
        "-   Log link(for Poisson regression):\n",
        "\n",
        "$$ g(\\mu) = \\log(\\mu )$$\n",
        "\n",
        "3.  **Probability Distribution:** The response variable follows a probability distribution from the exponential family. The distribution is chosen based on the nature of the data. Common choices include:\n",
        "\n",
        "    -   Normal distribution (Gaussian) for continuous data.\n",
        "\n",
        "    -   Binomial distribution for binary or dichotomous data.\n",
        "\n",
        "    -   Poisson distribution for count data.\n",
        "\n",
        "    -   Gamma distribution for continuous, positive, skewed data.\n",
        "\n",
        "Putting it all together, the probability mass function (PMF) or probability density function (PDF) for the response variable (Y) is expressed as:\n",
        "\n",
        "$$ f(y;\\theta,\\phi) = \\exp\\left(\\frac{y\\theta - b(\\theta)}{a(\\phi)} + c(y,\\phi)\\right) $$\n",
        "\n",
        "where:\n",
        "\n",
        "-   f(y;θ,ϕ) is the PMF or PDF,\n",
        "\n",
        "-   θ is the natural parameter,\n",
        "\n",
        "-   ϕ is the dispersion parameter,\n",
        "\n",
        "-   a(ϕ), b(θ), c(y,ϕ) are known functions.\n",
        "\n",
        "### GLM Models in R\n",
        "\n",
        "If you are using R, the `glm()` function can be used to fit Generalized Linear Models (GLMs). This function allows you to specify the type of response variable and choose the appropriate distribution and link function for your data.\n",
        "\n",
        "The basic form of the glm function is:\n",
        "\n",
        "> glm(formula , family= familytype(link=linkfunction), data=)\n",
        "\n",
        "Family objects are a convenient way to specify the models used by functions like `glm()`. See `help(family)` for other allowable `link` functions for each family.\n",
        "\n",
        "`binomial(link = \"logit\")`\n",
        "\n",
        "`gaussian(link = \"identity\")`\n",
        "\n",
        "`Gamma(link = \"inverse\")`\n",
        "\n",
        "`inverse.gaussian(link = \"1/mu\\^2\")`\n",
        "\n",
        "`poisson(link = \"log\")`\n",
        "\n",
        "`quasi(link = \"identity\", variance = \"constant\")`\n",
        "\n",
        "`quasibinomial(link = \"logit\")`\n",
        "\n",
        "`quasipoisson(link = \"log\")`\n",
        "\n",
        "There are several GLM model families depending on the make-up of the response variable. In this tutorial we will discuss four well-known GLM model families using `glm()` function:\n",
        "\n",
        "1.  Fit a GLM regression model using the `gaussian` family\n",
        "\n",
        "model \\<- glm(response_variable \\~ predictor_variable1 + predictor_variable2, family = gaussian(link = \"identity\"), data = data)\n",
        "\n",
        "2.  Fit a logistic regression model using the `binomial` family\n",
        "\n",
        "model \\<- glm(binary_response_variable \\~ predictor_variable1 + predictor_variable2, family = binomial(link = \"logit\"), data = data)\n",
        "\n",
        "3.  Fit a Po regression model using the `poisson` family\n",
        "\n",
        "model \\<- glm(count_response_variable \\~ predictor_variable1 + predictor_variable2, family = poisson(link = \"log\"), data = data)\n",
        "\n",
        "### Linear Regression vs Generalized Linear Models\n",
        "\n",
        "1.  Linear regression assumes that the response variable is normally distributed, while GLMs allow for different distributions, such as binomial or Poisson.\n",
        "\n",
        "2.  Linear regression models the mean of the response variable as a linear function of the predictor variables. In contrast, GLMs model the relationship between the predictor variables and the response variable through a link function and a linear combination of the predictor variables.\n",
        "\n",
        "3.  Linear regression is used for continuous response variables, while GLMs can be used for continuous and categorical response variables.\n",
        "\n",
        "4.  The assumptions of linear regression are more restrictive than those of GLMs, which makes GLMs more flexible and appropriate for a broader range of data.\n",
        "\n",
        "In summary, the GLM combines the linear predictor, link function, and probability distribution to model the relationship between the mean of the response variable and the predictors, allowing for flexibility in handling various data types. The specific form of the GLM will depend on the chosen link function and distribution."
      ],
      "metadata": {
        "id": "h0FPXx8mGylY"
      }
    },
    {
      "cell_type": "markdown",
      "source": [
        "## **Generalized Linear Regression Model**\n",
        "\n",
        "In this tutorial, you will learn about Generalized Linear Models (GLMs) and how to use them for regression analysis of continuous variables in R. GLMs are a versatile method for modeling the relationship between predictors and continuous response variables. They can accommodate various distributions and nonlinear relationships through link functions. We will explore how to fit GLMs using R-base functions and three popular R packages: [caret](https://cran.r-project.org/web/packages/caret/vignettes/caret.html), [tidymodels](https://www.tidymodels.org/), and [h2o](https://docs.h2o.ai/h2o/latest-stable/h2o-docs/faq/r.html). Each of these packages has unique advantages and functionalities that are tailored to different aspects of model development and deployment.\n",
        "\n",
        "At the end of this tutorial, you will have a comprehensive understanding of how to use these packages for GLM regression analysis, which will enable you to undertake various predictive modeling tasks with efficiency and confidence. Regardless of whether you are new to data science or an experienced practitioner, this tutorial will provide you with valuable insights and practical skills for utilizing GLMs in R for continuous variable prediction."
      ],
      "metadata": {
        "id": "6DjM_eceq9Wv"
      }
    },
    {
      "cell_type": "markdown",
      "source": [
        "## Install rpy2"
      ],
      "metadata": {
        "id": "SDp3ULld8Gb9"
      }
    },
    {
      "cell_type": "code",
      "source": [
        "!pip uninstall rpy2 -y\n",
        "!pip install rpy2==3.5.1\n",
        "%load_ext rpy2.ipython"
      ],
      "metadata": {
        "id": "CiM6y-Mw8AJp",
        "colab": {
          "base_uri": "https://localhost:8080/"
        },
        "outputId": "0415cead-fa54-4584-c95b-a21d10bf905b"
      },
      "execution_count": null,
      "outputs": [
        {
          "output_type": "stream",
          "name": "stdout",
          "text": [
            "Found existing installation: rpy2 3.4.2\n",
            "Uninstalling rpy2-3.4.2:\n",
            "  Successfully uninstalled rpy2-3.4.2\n",
            "Collecting rpy2==3.5.1\n",
            "  Downloading rpy2-3.5.1.tar.gz (201 kB)\n",
            "\u001b[2K     \u001b[90m━━━━━━━━━━━━━━━━━━━━━━━━━━━━━━━━━━━━━━━━\u001b[0m \u001b[32m201.7/201.7 kB\u001b[0m \u001b[31m4.3 MB/s\u001b[0m eta \u001b[36m0:00:00\u001b[0m\n",
            "\u001b[?25h  Preparing metadata (setup.py) ... \u001b[?25l\u001b[?25hdone\n",
            "Requirement already satisfied: cffi>=1.10.0 in /usr/local/lib/python3.10/dist-packages (from rpy2==3.5.1) (1.16.0)\n",
            "Requirement already satisfied: jinja2 in /usr/local/lib/python3.10/dist-packages (from rpy2==3.5.1) (3.1.3)\n",
            "Requirement already satisfied: pytz in /usr/local/lib/python3.10/dist-packages (from rpy2==3.5.1) (2023.4)\n",
            "Requirement already satisfied: tzlocal in /usr/local/lib/python3.10/dist-packages (from rpy2==3.5.1) (5.2)\n",
            "Requirement already satisfied: pycparser in /usr/local/lib/python3.10/dist-packages (from cffi>=1.10.0->rpy2==3.5.1) (2.21)\n",
            "Requirement already satisfied: MarkupSafe>=2.0 in /usr/local/lib/python3.10/dist-packages (from jinja2->rpy2==3.5.1) (2.1.5)\n",
            "Building wheels for collected packages: rpy2\n",
            "  Building wheel for rpy2 (setup.py) ... \u001b[?25l\u001b[?25hdone\n",
            "  Created wheel for rpy2: filename=rpy2-3.5.1-cp310-cp310-linux_x86_64.whl size=314934 sha256=f9735787493e030a29d4edec606aff046c6f14170e5d180272b7627711848357\n",
            "  Stored in directory: /root/.cache/pip/wheels/73/a6/ff/4e75dd1ce1cfa2b9a670cbccf6a1e41c553199e9b25f05d953\n",
            "Successfully built rpy2\n",
            "Installing collected packages: rpy2\n",
            "Successfully installed rpy2-3.5.1\n"
          ]
        }
      ]
    },
    {
      "cell_type": "markdown",
      "source": [
        "## Mount Google Drive"
      ],
      "metadata": {
        "id": "O1zeuaCowiBt"
      }
    },
    {
      "cell_type": "code",
      "source": [
        "from google.colab import drive\n",
        "drive.mount('/content/drive')"
      ],
      "metadata": {
        "colab": {
          "base_uri": "https://localhost:8080/"
        },
        "id": "9J-4ie4bwiJ1",
        "outputId": "0b36ef00-52f8-49ea-c4f9-7b6b852ce38c"
      },
      "execution_count": null,
      "outputs": [
        {
          "output_type": "stream",
          "name": "stdout",
          "text": [
            "Drive already mounted at /content/drive; to attempt to forcibly remount, call drive.mount(\"/content/drive\", force_remount=True).\n"
          ]
        }
      ]
    },
    {
      "cell_type": "markdown",
      "source": [
        "## Check and Install required R Packages"
      ],
      "metadata": {
        "id": "yXu-XY0mw1A8"
      }
    },
    {
      "cell_type": "code",
      "source": [
        "%%R\n",
        "pkg <- c('tidyverse',\n",
        "         'tidymodels',\n",
        "         'caret',\n",
        "         'broom',\n",
        "         'report',\n",
        "         'stargazer',\n",
        "         'performance',\n",
        "         'jtools',\n",
        "         'relaimpo',\n",
        "         'ggpmisc',\n",
        "         'see',\n",
        "         'Metrics',\n",
        "         'flextable',\n",
        "         'gt',\n",
        "         'rstatix',\n",
        "         'RColorBrewer'\n",
        "         )\n",
        "new.packages <- pkg[!(pkg %in% installed.packages(lib='drive/My Drive/R/')[,\"Package\"])]\n",
        "if(length(new.packages)) install.packages(new.packages, lib='drive/My Drive/R/')\n"
      ],
      "metadata": {
        "id": "TeYB57l0wz5N"
      },
      "execution_count": null,
      "outputs": []
    },
    {
      "cell_type": "markdown",
      "source": [
        "## Load packages"
      ],
      "metadata": {
        "id": "MV7R29xfyWQz"
      }
    },
    {
      "cell_type": "code",
      "source": [
        "%%R\n",
        "# set library path\n",
        ".libPaths('drive/My Drive/R')\n",
        "library(tidyverse)\n",
        "library(tidymodels)\n",
        "library(broom)\n",
        "library(stargazer)\n",
        "library(report)\n",
        "library(performance)\n",
        "library(Metrics)\n",
        "library(ggpmisc)\n",
        "library(jtools)\n",
        "library(relaimpo)\n",
        "library(flextable)\n",
        "library(gt)\n",
        "library(plyr)\n",
        "library(caret)\n",
        "library(rstatix)\n",
        "library(RColorBrewer)"
      ],
      "metadata": {
        "id": "232jNAHBykUL"
      },
      "execution_count": null,
      "outputs": []
    },
    {
      "cell_type": "markdown",
      "source": [
        "## Data\n",
        "\n",
        "Our goal is to develop a GLM regression model to predict paddy soil arsenic (`SAs`) concentration using various irrigation water and soil properties. We have available data of 263 paired groundwater and paddy soil samples from arsenic contaminated areas in Tala Upazilla, Satkhira district, Bangladesh. This data was utilized in a publication titled \"Factors Affecting Paddy Soil Arsenic Concentration in Bangladesh: Prediction and Uncertainty of Geostatistical Risk Mapping\" which can be accessed via the this [URL](https://doi.org/10.1016/j.scitotenv.2011.10.008)\n",
        "\n",
        "Full data set is available for download can download from my [Dropbox](https://www.dropbox.com/scl/fo/2rh6r68i9cxmgortvbw8q/h?rlkey=bvntt66n9mcywprmdki08ch3r&dl=0) or from my [Github](https://github.com/zia207/r-colab/tree/main/Data/Regression_analysis) accounts.\n",
        "\n",
        "We will use `read_csv()` function of **readr** package to import data as a **tidy** data."
      ],
      "metadata": {
        "id": "WViZ3IdLrzNs"
      }
    },
    {
      "cell_type": "code",
      "execution_count": null,
      "metadata": {
        "colab": {
          "base_uri": "https://localhost:8080/"
        },
        "id": "CFpt_H01OPsa",
        "outputId": "a4a6726d-988e-4993-c0f4-80a314d98f65"
      },
      "outputs": [
        {
          "output_type": "stream",
          "name": "stdout",
          "text": [
            "Rows: 263 Columns: 29\n",
            "── Column specification ────────────────────────────────────────────────────────\n",
            "Delimiter: \",\"\n",
            "chr  (1): Land_type\n",
            "dbl (28): ID, Longitude, Latitude, WAs, WP, WFe, WEc, WpH, WMg, WNa, WCa, WK...\n",
            "\n",
            "ℹ Use `spec()` to retrieve the full column specification for this data.\n",
            "ℹ Specify the column types or set `show_col_types = FALSE` to quiet this message.\n",
            "Rows: 26 Columns: 2\n",
            "── Column specification ────────────────────────────────────────────────────────\n",
            "Delimiter: \",\"\n",
            "chr (2): Variables, Description\n",
            "\n",
            "ℹ Use `spec()` to retrieve the full column specification for this data.\n",
            "ℹ Specify the column types or set `show_col_types = FALSE` to quiet this message.\n"
          ]
        }
      ],
      "source": [
        "%%R\n",
        "mf<-read_csv(\"https://github.com/zia207/r-colab/raw/main/Data/Regression_analysis/bd_soil_arsenic.csv\")\n",
        "meta.as<-read_csv(\"https://github.com/zia207/r-colab/raw/main/Data/Regression_analysis/bd_soil_arsenic_meta_data.csv\")"
      ]
    },
    {
      "cell_type": "code",
      "source": [
        "%%R\n",
        "meta.as"
      ],
      "metadata": {
        "colab": {
          "base_uri": "https://localhost:8080/"
        },
        "id": "HZIK9ZV7zZKI",
        "outputId": "bae0ba43-7c26-4dd3-ad46-bda5c439140c"
      },
      "execution_count": null,
      "outputs": [
        {
          "output_type": "stream",
          "name": "stdout",
          "text": [
            "# A tibble: 26 × 2\n",
            "   Variables Description              \n",
            "   <chr>     <chr>                    \n",
            " 1 WAs       Irrigation water  Arsenic\n",
            " 2 WP        Irrigation water P       \n",
            " 3 WFe       Irrigation water  Fe     \n",
            " 4 WEc       Irrigation water Ec      \n",
            " 5 WpH       Irrigation water  pH     \n",
            " 6 WMg       Irrigation water  Mg     \n",
            " 7 WNa       Irrigation water Na      \n",
            " 8 WCa       Irrigation water  Ca     \n",
            " 9 WK        Irrigation water K       \n",
            "10 WS        Irrigation water  S      \n",
            "# ℹ 16 more rows\n",
            "# ℹ Use `print(n = ...)` to see more rows\n"
          ]
        }
      ]
    },
    {
      "cell_type": "markdown",
      "source": [
        "## Data Exploration"
      ],
      "metadata": {
        "id": "mLGsopcHr_Qn"
      }
    },
    {
      "cell_type": "markdown",
      "source": [
        "### Suammary Staistics"
      ],
      "metadata": {
        "id": "i3NV_wzZzyd7"
      }
    },
    {
      "cell_type": "code",
      "source": [
        "%%R\n",
        "mf |>\n",
        "  # select variables\n",
        "  dplyr::select (WAs, WP, WFe,\n",
        "                WEc, WpH, SPAs, SAoFe, SpH, SOC,\n",
        "                Sand, Silt, SP, Elevation,\n",
        "                Year_Irrigation, Diastance_STW,\n",
        "                SAs) |>\n",
        "  rstatix::get_summary_stats (type = \"common\")"
      ],
      "metadata": {
        "colab": {
          "base_uri": "https://localhost:8080/"
        },
        "id": "C4Q559D8z6vd",
        "outputId": "600a5b64-6ecd-4aa0-fafa-a43139f8bea1"
      },
      "execution_count": null,
      "outputs": [
        {
          "output_type": "stream",
          "name": "stdout",
          "text": [
            "# A tibble: 16 × 10\n",
            "   variable      n     min     max  median     iqr    mean      sd     se     ci\n",
            "   <fct>     <dbl>   <dbl>   <dbl>   <dbl>   <dbl>   <dbl>   <dbl>  <dbl>  <dbl>\n",
            " 1 WAs         263 1.1 e-2 4.58e-1 1.19e-1   0.1      0.13   0.079  0.005  0.01 \n",
            " 2 WP          263 2.16e-1 2.70e+0 1.09e+0   0.456    1.11   0.368  0.023  0.045\n",
            " 3 WFe         263 1.78e+0 1.10e+1 5.06e+0   2.64     5.29   1.97   0.121  0.239\n",
            " 4 WEc         263 3.9 e-1 4.16e+0 1.08e+0   0.84     1.30   0.712  0.044  0.086\n",
            " 5 WpH         263 6.58e+0 7.56e+0 7.01e+0   0.18     7.01   0.14   0.009  0.017\n",
            " 6 SPAs        263 7.79e-1 1.48e+1 4.06e+0   2.72     4.41   2.24   0.138  0.271\n",
            " 7 SAoFe       263 1   e+3 4.94e+3 2.57e+3 565     2597.   626.    38.6   76.0  \n",
            " 8 SpH         263 6.54e+0 8.71e+0 8.17e+0   0.35     8.12   0.309  0.019  0.038\n",
            " 9 SOC         263 5.4 e-1 2.64e+0 1.35e+0   0.33     1.36   0.307  0.019  0.037\n",
            "10 Sand        263 4.9 e+0 2.79e+1 1.2 e+1   2.1     12.1    3.00   0.185  0.365\n",
            "11 Silt        263 1.63e+1 7.01e+1 4.56e+1   6.75    44.5    8.03   0.495  0.975\n",
            "12 SP          263 2.43e+0 5.23e+1 1.54e+1   3.61    15.6    5.9    0.364  0.716\n",
            "13 Elevation   263 1   e+0 9   e+0 4   e+0   2        4.28   1.71   0.105  0.208\n",
            "14 Year_Irr…   263 1   e+0 2   e+1 6   e+0   6        7.02   4.16   0.257  0.506\n",
            "15 Diastanc…   263 3   e+0 4.5 e+1 9   e+0   5        9.50   6.14   0.378  0.745\n",
            "16 SAs         263 4.7 e+0 5.18e+1 1.72e+1   9.35    17.9    7.39   0.456  0.897\n"
          ]
        }
      ]
    },
    {
      "cell_type": "markdown",
      "source": [
        "### Correlation"
      ],
      "metadata": {
        "id": "Udd_zNxe0CZV"
      }
    },
    {
      "cell_type": "code",
      "source": [
        "%%R\n",
        "mf |>\n",
        "  # select variables\n",
        "  dplyr::select (WAs, WP, WFe,\n",
        "                WEc, WpH, SPAs, SAoFe, SpH, SOC,\n",
        "                Sand, Silt, SP, Elevation,\n",
        "                Year_Irrigation, Diastance_STW,\n",
        "                SAs) |>\n",
        "  rstatix::cor_test (SAs)"
      ],
      "metadata": {
        "colab": {
          "base_uri": "https://localhost:8080/"
        },
        "id": "-c5oHdvp0Cma",
        "outputId": "f5018df1-da9a-41f8-e73c-4f7a09cdd92c"
      },
      "execution_count": null,
      "outputs": [
        {
          "output_type": "stream",
          "name": "stdout",
          "text": [
            "# A tibble: 15 × 8\n",
            "   var1  var2               cor statistic        p conf.low conf.high method \n",
            "   <chr> <chr>            <dbl>     <dbl>    <dbl>    <dbl>     <dbl> <chr>  \n",
            " 1 SAs   WAs              0.24      3.91  1.18e- 4  0.118      0.346  Pearson\n",
            " 2 SAs   WP               0.15      2.48  1.38e- 2  0.0313     0.268  Pearson\n",
            " 3 SAs   WFe              0.32      5.47  1.03e- 7  0.208      0.425  Pearson\n",
            " 4 SAs   WEc              0.15      2.38  1.81e- 2  0.0251     0.262  Pearson\n",
            " 5 SAs   WpH             -0.014    -0.232 8.17e- 1 -0.135      0.107  Pearson\n",
            " 6 SAs   SPAs             0.89     31.2   3.50e-90  0.860      0.911  Pearson\n",
            " 7 SAs   SAoFe           -0.11     -1.77  7.87e- 2 -0.227      0.0125 Pearson\n",
            " 8 SAs   SpH              0.019     0.311 7.56e- 1 -0.102      0.140  Pearson\n",
            " 9 SAs   SOC              0.34      5.81  1.79e- 8  0.227      0.441  Pearson\n",
            "10 SAs   Sand            -0.074    -1.21  2.29e- 1 -0.194      0.0470 Pearson\n",
            "11 SAs   Silt            -0.26     -4.42  1.47e- 5 -0.373     -0.147  Pearson\n",
            "12 SAs   SP               0.13      2.08  3.9 e- 2  0.00654    0.245  Pearson\n",
            "13 SAs   Elevation       -0.34     -5.85  1.45e- 8 -0.443     -0.229  Pearson\n",
            "14 SAs   Year_Irrigation  0.53     10.0   2.94e-20  0.434      0.610  Pearson\n",
            "15 SAs   Diastance_STW   -0.2      -3.32  1.04e- 3 -0.314     -0.0821 Pearson\n"
          ]
        }
      ]
    },
    {
      "cell_type": "markdown",
      "source": [
        "### Boxplot and Jitter Plots"
      ],
      "metadata": {
        "id": "XxiTQGOn0NOi"
      }
    },
    {
      "cell_type": "code",
      "source": [
        "%%R -w 450 -h 400 -u px\n",
        "\n",
        "# Create a custom color\n",
        "rgb.palette <-colorRampPalette(c(\"red\",\"yellow\",\"green\", \"blue\"),\n",
        "space = \"rgb\")\n",
        "\n",
        "# Create plot\n",
        "ggplot(mf, aes(y=SAs, x=Land_type)) +\n",
        "  geom_point(aes(colour=WAs),size = I(1.7),\n",
        "             position=position_jitter(width=0.05, height=0.05)) +\n",
        "  geom_boxplot(fill=NA, outlier.colour=NA) +\n",
        "  labs(title=\"\")+\n",
        "  # Change figure orientation\n",
        "  coord_flip()+\n",
        "  # add custom color plate and legend title\n",
        "  scale_colour_gradientn(name=\"Water As (mg/kg)\", colours =rgb.palette(10))+\n",
        "  theme(legend.text = element_text(size = 10),legend.title = element_text(size = 12))+\n",
        "  # add y-axis title and x-axis title leave blank\n",
        "  labs(y=\"Soil As (mg/kg)\", x = \"\")+\n",
        "  # add plot title\n",
        "  ggtitle(\"Soil As in relation to Water As in two Landtypes\")+\n",
        "  # customize plot themes\n",
        "  theme(\n",
        "        axis.line = element_line(colour = \"black\"),\n",
        "        # plot title position at center\n",
        "        plot.title = element_text(hjust = 0.5),\n",
        "        # axis title font size\n",
        "        axis.title.x = element_text(size = 12),\n",
        "        # X and  axis font size\n",
        "        axis.text.y=element_text(size=10,vjust = 0.5, hjust=0.5, colour='black'),\n",
        "        axis.text.x = element_text(size=12))\n"
      ],
      "metadata": {
        "colab": {
          "base_uri": "https://localhost:8080/",
          "height": 417
        },
        "id": "Dpyh0M5x0NXv",
        "outputId": "c27e6674-5bd5-45da-aaba-ede806bbb06b"
      },
      "execution_count": null,
      "outputs": [
        {
          "output_type": "display_data",
          "data": {
            "image/png": "[encoded data removed]"
          },
          "metadata": {}
        }
      ]
    },
    {
      "cell_type": "markdown",
      "source": [
        "## Fit a GLM regression model with R-base\n",
        "\n",
        "In R, the `glm()` function with `family = gaussian(link = \"identity\")` can be used to fit Generalized Linear Model (GLM) for a continuous response variable. We will fit a GLM model to predict `SAs` concentration irrigation water and paddy soil properties.\n",
        "\n",
        "> glm(formula , family = gaussian(link = \"identity\"), data=)\n",
        "\n",
        "We will fit a GLM model to predict `SAs` concentration irrgation water and paddy soil properties."
      ],
      "metadata": {
        "id": "Nm9xZd9T1lvW"
      }
    },
    {
      "cell_type": "markdown",
      "source": [
        "### Feature Engineering\n",
        "\n",
        "Feature engineering is a vital task in the data preparation process for data analysis, particularly for machine learning models. It is the practice of creating new features from existing ones or transforming them to enhance the machine learning algorithm's performance. Doing so makes achieving higher accuracy, better generalization, and a more straightforward interpretation of the model possible. Some standard techniques used in feature engineering include dimensionality reduction, feature scaling, and feature extraction. When performing feature engineering, it is essential to consider the data type, distribution, and target variable, among other factors.\n",
        "\n",
        "We will apply following operation before fit a GLM regression model.\n",
        "\n",
        "1.  Create new features: We will create a new feature (Sand_Silt) by adding soil Silt and Sand percentage\n",
        "\n",
        "2.  Convert to factors: As Land_type is categorical variable representing distinct categories rather than numerical values, we need to convert them into factors. This process will allow us to analyze and interpret the data more accurately, facilitating a better understanding of the underlying patterns and trends.\n",
        "\n",
        "3.  Data normalization: It is a technique used in data analysis and machine learning. It involves adjusting numerical values to a standard range, usually between 0 and 1 or with a mean of 0 and a standard deviation of 1. This helps to improve the efficiency and accuracy of machine learning algorithms. Data normalization is important because it helps machine learning models work better. By standardizing the data, the models can more easily identify patterns and relationships in the data, which leads to better predictions and results."
      ],
      "metadata": {
        "id": "iagEUBtD1pNf"
      }
    },
    {
      "cell_type": "code",
      "source": [
        "%%R\n",
        "df <- mf |>\n",
        "  # select variables\n",
        "  dplyr::select (WAs, WP, WFe,\n",
        "                WEc, WpH, SPAs, SAoFe, SpH, SOC,\n",
        "                Sand, Silt, SP, Elevation,\n",
        "                Year_Irrigation, Diastance_STW,\n",
        "                Land_type, SAs) |>\n",
        "   # convert to factor\n",
        "   dplyr::mutate_at(vars(Land_type), funs(factor))  |>\n",
        "   # create a variable\n",
        "   dplyr::mutate (Silt_Sand = Silt+Sand)  |>\n",
        "   # drop two variables\n",
        "   dplyr::select(-c(Silt,Sand)) |>\n",
        "   # relocate or organized variable\n",
        "   dplyr::relocate(SAs, .after=Silt_Sand) |>\n",
        "   dplyr::relocate(Land_type, .after=Silt_Sand) |>\n",
        "   # normalize the all numerical features\n",
        "   dplyr::mutate_at(1:14,  funs((.-min(.))/max(.-min(.)))) |>\n",
        "   glimpse()"
      ],
      "metadata": {
        "colab": {
          "base_uri": "https://localhost:8080/"
        },
        "id": "JANYSDcf2NfV",
        "outputId": "1d1385a7-7c14-4bd2-9fb4-8c4d0d6364f5"
      },
      "execution_count": null,
      "outputs": [
        {
          "output_type": "stream",
          "name": "stdout",
          "text": [
            "Rows: 263\n",
            "Columns: 16\n",
            "$ WAs             <dbl> 0.10738255, 0.10738255, 0.15212528, 0.24832215, 0.1364…\n",
            "$ WP              <dbl> 0.21949255, 0.39387837, 0.44341522, 0.53523963, 0.3020…\n",
            "$ WFe             <dbl> 0.1804348, 0.3423913, 0.8608696, 0.7391304, 0.3260870,…\n",
            "$ WEc             <dbl> 0.16976127, 0.18037135, 0.26790451, 0.11671088, 0.2732…\n",
            "$ WpH             <dbl> 0.4591837, 0.4897959, 0.2653061, 0.2755102, 0.3775510,…\n",
            "$ SPAs            <dbl> 0.649625668, 0.707379679, 0.362923351, 0.374474153, 0.…\n",
            "$ SAoFe           <dbl> 0.3807107, 0.4238579, 0.2944162, 0.3807107, 0.2690355,…\n",
            "$ SpH             <dbl> 0.5529954, 0.6129032, 0.6866359, 0.7050691, 0.5852535,…\n",
            "$ SOC             <dbl> 0.5333333, 0.3428571, 0.3904762, 0.5095238, 0.3428571,…\n",
            "$ SP              <dbl> 0.2277923, 0.2582715, 0.2628835, 0.2777221, 0.2360136,…\n",
            "$ Elevation       <dbl> 0.250, 0.500, 0.375, 0.250, 0.500, 0.125, 0.125, 0.250…\n",
            "$ Year_Irrigation <dbl> 0.68421053, 1.00000000, 0.47368421, 0.36842105, 0.4736…\n",
            "$ Diastance_STW   <dbl> 0.04761905, 0.07142857, 0.04761905, 0.11904762, 0.0476…\n",
            "$ Silt_Sand       <dbl> 0.6139456, 0.5918367, 0.5731293, 0.5323129, 0.6462585,…\n",
            "$ Land_type       <fct> MHL, MHL, MHL, MHL, MHL, MHL, MHL, MHL, MHL, MHL, MHL,…\n",
            "$ SAs             <dbl> 29.10, 45.10, 23.20, 23.80, 26.00, 25.60, 26.30, 31.60…\n"
          ]
        }
      ]
    },
    {
      "cell_type": "markdown",
      "source": [
        "### Split data to training and test\n",
        "\n",
        "We will use the `ddply()` function of the **plyr** package to split soil carbon datainto homogeneous subgroups using **stratified random sampling**. This method involves dividing the population into strata and taking random samples from each stratum to ensure that each subgroup is proportionally represented in the sample. The goal is to obtain a representative sample of the population by adequately representing each stratum.\n"
      ],
      "metadata": {
        "id": "WWLOzlOe2YPv"
      }
    },
    {
      "cell_type": "code",
      "source": [
        "%%R\n",
        "seeds = 11076\n",
        "tr_prop = 0.70\n",
        "# training data (70% data)\n",
        "train= ddply(df,.(Land_type),\n",
        "                 function(., seed) { set.seed(seed); .[sample(1:nrow(.), trunc(nrow(.) * tr_prop)), ] }, seed = 101)\n",
        "test = ddply(df, .(Land_type),\n",
        "            function(., seed) { set.seed(seed); .[-sample(1:nrow(.), trunc(nrow(.) * tr_prop)), ] }, seed = 101)"
      ],
      "metadata": {
        "id": "RpMxXBXY2ZVA"
      },
      "execution_count": null,
      "outputs": []
    },
    {
      "cell_type": "markdown",
      "source": [
        "Stratified random sampling is a technique for selecting a representative sample from a population, where the sample is chosen in a way that ensures that certain subgroups within the population are adequately represented in the sample."
      ],
      "metadata": {
        "id": "tLOhL6P_2nqP"
      }
    },
    {
      "cell_type": "markdown",
      "source": [
        "### Fit a GLM Regression Model\n",
        "\n",
        "In the context of a GLM with continuous response variables, the focus is on regression problems where the dependent variable, which is being predicted, is continuous. This implies that the variable can take any value within a specific range, and the objective is to identify a correlation between the dependent variable and the independent variables that can be used to make accurate predictions.\n",
        "\n",
        "To create a `GLM` (continuous response variables) in `R`, we will use the `glm()` function with `family=gaussian(link = \"identity\")`. The `SAs` variable will be yase as a response variable, while all the other variables in the `train` will serve as predictors\n"
      ],
      "metadata": {
        "id": "nDrDY2n63wDp"
      }
    },
    {
      "cell_type": "code",
      "source": [
        "%%R\n",
        "fit.glm<-glm(SAs~.,train,\n",
        "             family= gaussian(link = \"identity\")\n",
        "             )"
      ],
      "metadata": {
        "id": "lcZ2Bqk23yWO"
      },
      "execution_count": null,
      "outputs": []
    },
    {
      "cell_type": "markdown",
      "source": [
        "The `summary()` function provides a summary of the fitted GLM model, including coefficients, standard errors, t-values, and p-values, among other statistics. This summary can help you interpret the relationship between the predictors and the response variable."
      ],
      "metadata": {
        "id": "pND9obXb35Oy"
      }
    },
    {
      "cell_type": "code",
      "source": [
        "%%R\n",
        "summary(fit.glm)"
      ],
      "metadata": {
        "colab": {
          "base_uri": "https://localhost:8080/"
        },
        "id": "vfKARaxg36w8",
        "outputId": "19db50ed-6a19-4758-a162-69ffdfba59ab"
      },
      "execution_count": null,
      "outputs": [
        {
          "output_type": "stream",
          "name": "stdout",
          "text": [
            "\n",
            "Call:\n",
            "glm(formula = SAs ~ ., family = gaussian(link = \"identity\"), \n",
            "    data = train)\n",
            "\n",
            "Coefficients:\n",
            "                Estimate Std. Error t value Pr(>|t|)    \n",
            "(Intercept)      10.2352     2.7843   3.676 0.000319 ***\n",
            "WAs              -2.1798     1.8771  -1.161 0.247190    \n",
            "WP                1.4794     1.9162   0.772 0.441156    \n",
            "WFe               2.1017     1.4617   1.438 0.152334    \n",
            "WEc               1.1301     1.4510   0.779 0.437163    \n",
            "WpH               2.7052     2.0609   1.313 0.191108    \n",
            "SPAs             34.4248     2.2524  15.284  < 2e-16 ***\n",
            "SAoFe            -2.7430     1.5148  -1.811 0.071969 .  \n",
            "SpH               0.1116     2.0542   0.054 0.956747    \n",
            "SOC              -1.9444     2.1118  -0.921 0.358511    \n",
            "SP               -0.4986     2.0754  -0.240 0.810456    \n",
            "Elevation        -0.6130     1.5282  -0.401 0.688864    \n",
            "Year_Irrigation   4.6756     1.3205   3.541 0.000517 ***\n",
            "Diastance_STW    -4.2265     1.8370  -2.301 0.022642 *  \n",
            "Silt_Sand        -4.7696     1.6958  -2.813 0.005504 ** \n",
            "Land_typeMHL      0.7221     0.6789   1.064 0.288993    \n",
            "---\n",
            "Signif. codes:  0 ‘***’ 0.001 ‘**’ 0.01 ‘*’ 0.05 ‘.’ 0.1 ‘ ’ 1\n",
            "\n",
            "(Dispersion parameter for gaussian family taken to be 10.50138)\n",
            "\n",
            "    Null deviance: 9770.3  on 182  degrees of freedom\n",
            "Residual deviance: 1753.7  on 167  degrees of freedom\n",
            "AIC: 966.91\n",
            "\n",
            "Number of Fisher Scoring iterations: 2\n",
            "\n"
          ]
        }
      ]
    },
    {
      "cell_type": "markdown",
      "source": [
        "The adequacy of a model is typically determined by evaluating the difference between **Null deviance and Residual deviance**, with a larger discrepancy between the two values indicating a better fit. Null deviance denotes the value obtained when the equation comprises solely the intercept without any variables, while Residual deviance denotes the value calculated when all variables are taken into account. The model can be deemed an appropriate fit when the difference between the two values is substantial enough.\n",
        "\n",
        "To obtain the `AIC` (Akaike Information Criterion) values for a GLM model in R, you can use the `AIC()` function applied to the fitted model. The lower the AIC value, the better the model fits the data while penalizing for the number of parameters. You can compare AIC values between different models to assess their relative goodness-of-fit.\n"
      ],
      "metadata": {
        "id": "31QEa6pU4s6-"
      }
    },
    {
      "cell_type": "code",
      "source": [
        "%%R\n",
        "AIC(fit.glm)"
      ],
      "metadata": {
        "colab": {
          "base_uri": "https://localhost:8080/"
        },
        "id": "LZqXSrwM4ut8",
        "outputId": "39d1365a-7db5-44b7-9715-220cceebb772"
      },
      "execution_count": null,
      "outputs": [
        {
          "output_type": "stream",
          "name": "stdout",
          "text": [
            "[1] 966.914\n"
          ]
        }
      ]
    },
    {
      "cell_type": "markdown",
      "source": [
        "### Generate Report"
      ],
      "metadata": {
        "id": "aJbZqs1B5DLY"
      }
    },
    {
      "cell_type": "code",
      "source": [
        "%%R\n",
        "report::report(fit.glm)"
      ],
      "metadata": {
        "colab": {
          "base_uri": "https://localhost:8080/"
        },
        "id": "GvBTAQIv5Qvd",
        "outputId": "341a87f5-8491-4042-b28b-3a29a6b51e8c"
      },
      "execution_count": null,
      "outputs": [
        {
          "output_type": "stream",
          "name": "stdout",
          "text": [
            "We fitted a linear model (estimated using ML) to predict SAs with WAs, WP, WFe,\n",
            "WEc, WpH, SPAs, SAoFe, SpH, SOC, SP, Elevation, Year_Irrigation, Diastance_STW,\n",
            "Silt_Sand and Land_type (formula: SAs ~ WAs + WP + WFe + WEc + WpH + SPAs +\n",
            "SAoFe + SpH + SOC + SP + Elevation + Year_Irrigation + Diastance_STW +\n",
            "Silt_Sand + Land_type). The model's explanatory power is substantial (R2 =\n",
            "0.82). The model's intercept, corresponding to WAs = 0, WP = 0, WFe = 0, WEc =\n",
            "0, WpH = 0, SPAs = 0, SAoFe = 0, SpH = 0, SOC = 0, SP = 0, Elevation = 0,\n",
            "Year_Irrigation = 0, Diastance_STW = 0, Silt_Sand = 0 and Land_type = HL, is at\n",
            "10.24 (95% CI [4.78, 15.69], t(167) = 3.68, p < .001). Within this model:\n",
            "\n",
            "  - The effect of WAs is statistically non-significant and negative (beta =\n",
            "-2.18, 95% CI [-5.86, 1.50], t(167) = -1.16, p = 0.246; Std. beta = -0.05, 95%\n",
            "CI [-0.15, 0.04])\n",
            "  - The effect of WP is statistically non-significant and positive (beta = 1.48,\n",
            "95% CI [-2.28, 5.24], t(167) = 0.77, p = 0.440; Std. beta = 0.03, 95% CI\n",
            "[-0.05, 0.11])\n",
            "  - The effect of WFe is statistically non-significant and positive (beta = 2.10,\n",
            "95% CI [-0.76, 4.97], t(167) = 1.44, p = 0.150; Std. beta = 0.06, 95% CI\n",
            "[-0.02, 0.15])\n",
            "  - The effect of WEc is statistically non-significant and positive (beta = 1.13,\n",
            "95% CI [-1.71, 3.97], t(167) = 0.78, p = 0.436; Std. beta = 0.03, 95% CI\n",
            "[-0.04, 0.10])\n",
            "  - The effect of WpH is statistically non-significant and positive (beta = 2.71,\n",
            "95% CI [-1.33, 6.74], t(167) = 1.31, p = 0.189; Std. beta = 0.06, 95% CI\n",
            "[-0.03, 0.14])\n",
            "  - The effect of SPAs is statistically significant and positive (beta = 34.42,\n",
            "95% CI [30.01, 38.84], t(167) = 15.28, p < .001; Std. beta = 0.75, 95% CI\n",
            "[0.65, 0.85])\n",
            "  - The effect of SAoFe is statistically non-significant and negative (beta =\n",
            "-2.74, 95% CI [-5.71, 0.23], t(167) = -1.81, p = 0.070; Std. beta = -0.06, 95%\n",
            "CI [-0.13, 5.27e-03])\n",
            "  - The effect of SpH is statistically non-significant and positive (beta = 0.11,\n",
            "95% CI [-3.91, 4.14], t(167) = 0.05, p = 0.957; Std. beta = 2.20e-03, 95% CI\n",
            "[-0.08, 0.08])\n",
            "  - The effect of SOC is statistically non-significant and negative (beta =\n",
            "-1.94, 95% CI [-6.08, 2.19], t(167) = -0.92, p = 0.357; Std. beta = -0.04, 95%\n",
            "CI [-0.13, 0.05])\n",
            "  - The effect of SP is statistically non-significant and negative (beta = -0.50,\n",
            "95% CI [-4.57, 3.57], t(167) = -0.24, p = 0.810; Std. beta = -8.79e-03, 95% CI\n",
            "[-0.08, 0.06])\n",
            "  - The effect of Elevation is statistically non-significant and negative (beta =\n",
            "-0.61, 95% CI [-3.61, 2.38], t(167) = -0.40, p = 0.688; Std. beta = -0.02, 95%\n",
            "CI [-0.11, 0.07])\n",
            "  - The effect of Year Irrigation is statistically significant and positive (beta\n",
            "= 4.68, 95% CI [2.09, 7.26], t(167) = 3.54, p < .001; Std. beta = 0.14, 95% CI\n",
            "[0.06, 0.22])\n",
            "  - The effect of Diastance STW is statistically significant and negative (beta =\n",
            "-4.23, 95% CI [-7.83, -0.63], t(167) = -2.30, p = 0.021; Std. beta = -0.09, 95%\n",
            "CI [-0.16, -0.01])\n",
            "  - The effect of Silt Sand is statistically significant and negative (beta =\n",
            "-4.77, 95% CI [-8.09, -1.45], t(167) = -2.81, p = 0.005; Std. beta = -0.11, 95%\n",
            "CI [-0.18, -0.03])\n",
            "  - The effect of Land type [MHL] is statistically non-significant and positive\n",
            "(beta = 0.72, 95% CI [-0.61, 2.05], t(167) = 1.06, p = 0.287; Std. beta = 0.10,\n",
            "95% CI [-0.08, 0.28])\n",
            "\n",
            "Standardized parameters were obtained by fitting the model on a standardized\n",
            "version of the dataset. 95% Confidence Intervals (CIs) and p-values were\n",
            "computed using a Wald t-distribution approximation.\n"
          ]
        }
      ]
    },
    {
      "cell_type": "code",
      "source": [],
      "metadata": {
        "id": "vrIrKjcA6JGp"
      },
      "execution_count": null,
      "outputs": []
    },
    {
      "cell_type": "markdown",
      "source": [
        "### Model Performance"
      ],
      "metadata": {
        "id": "9LvWgB985jhR"
      }
    },
    {
      "cell_type": "code",
      "source": [
        "%%R\n",
        "performance::model_performance(fit.glm)"
      ],
      "metadata": {
        "colab": {
          "base_uri": "https://localhost:8080/"
        },
        "id": "xYDEDbhB5jtN",
        "outputId": "daa03bf6-fa3d-496d-8a7f-ee03212786b7"
      },
      "execution_count": null,
      "outputs": [
        {
          "output_type": "stream",
          "name": "stdout",
          "text": [
            "# Indices of model performance\n",
            "\n",
            "AIC     |    AICc |      BIC |    R2 |  RMSE | Sigma\n",
            "----------------------------------------------------\n",
            "966.914 | 970.623 | 1021.475 | 0.821 | 3.096 | 3.241\n"
          ]
        }
      ]
    },
    {
      "cell_type": "markdown",
      "source": [
        "### Visualization of model assumptions\n",
        "\n",
        "The package **performance** provides many functions to check model assumptions, like `check_collinearity()`, `check_normality()` or `check_heteroscedasticity()`. To get a comprehensive check, use `check_model()`."
      ],
      "metadata": {
        "id": "-QSMFsp76EzD"
      }
    },
    {
      "cell_type": "code",
      "source": [
        "%%R -w 750 -h 800 -u px\n",
        "performance::check_model(fit.glm)"
      ],
      "metadata": {
        "colab": {
          "base_uri": "https://localhost:8080/",
          "height": 817
        },
        "id": "vxdkmi--6FdO",
        "outputId": "c7965793-9352-442f-9027-57a861533c70"
      },
      "execution_count": null,
      "outputs": [
        {
          "output_type": "display_data",
          "data": {
            "image/png": "[encoded data removed]"
          },
          "metadata": {}
        }
      ]
    },
    {
      "cell_type": "markdown",
      "source": [
        "### Regression Model visualization by jtools\n",
        "\n",
        "The “jtools” package consists of a series of functions to automate visualization regression model.\n"
      ],
      "metadata": {
        "id": "QkZSGYvk7oGD"
      }
    },
    {
      "cell_type": "code",
      "source": [
        "%%R\n",
        "jtools::summ(fit.glm)"
      ],
      "metadata": {
        "colab": {
          "base_uri": "https://localhost:8080/"
        },
        "id": "VnrcuBSS7o7s",
        "outputId": "b3b83f8b-41e3-416c-883d-36a4d0d7dbf2"
      },
      "execution_count": null,
      "outputs": [
        {
          "output_type": "stream",
          "name": "stdout",
          "text": [
            "MODEL INFO:\n",
            "Observations: 183\n",
            "Dependent Variable: SAs\n",
            "Type: Linear regression \n",
            "\n",
            "MODEL FIT:\n",
            "χ²(15) = 8016.57, p = 0.00\n",
            "Pseudo-R² (Cragg-Uhler) = 0.82\n",
            "Pseudo-R² (McFadden) = 0.25\n",
            "AIC = 966.91, BIC = 1021.48 \n",
            "\n",
            "Standard errors: MLE\n",
            "----------------------------------------------------\n",
            "                         Est.   S.E.   t val.      p\n",
            "--------------------- ------- ------ -------- ------\n",
            "(Intercept)             10.24   2.78     3.68   0.00\n",
            "WAs                     -2.18   1.88    -1.16   0.25\n",
            "WP                       1.48   1.92     0.77   0.44\n",
            "WFe                      2.10   1.46     1.44   0.15\n",
            "WEc                      1.13   1.45     0.78   0.44\n",
            "WpH                      2.71   2.06     1.31   0.19\n",
            "SPAs                    34.42   2.25    15.28   0.00\n",
            "SAoFe                   -2.74   1.51    -1.81   0.07\n",
            "SpH                      0.11   2.05     0.05   0.96\n",
            "SOC                     -1.94   2.11    -0.92   0.36\n",
            "SP                      -0.50   2.08    -0.24   0.81\n",
            "Elevation               -0.61   1.53    -0.40   0.69\n",
            "Year_Irrigation          4.68   1.32     3.54   0.00\n",
            "Diastance_STW           -4.23   1.84    -2.30   0.02\n",
            "Silt_Sand               -4.77   1.70    -2.81   0.01\n",
            "Land_typeMHL             0.72   0.68     1.06   0.29\n",
            "----------------------------------------------------\n",
            "\n",
            "Estimated dispersion parameter = 10.5 \n"
          ]
        }
      ]
    },
    {
      "cell_type": "markdown",
      "source": [
        "### Plot simple effects in regression models (effect_plot())"
      ],
      "metadata": {
        "id": "si7Xq4zG8Gc-"
      }
    },
    {
      "cell_type": "code",
      "source": [
        "%%R -w 800 -h 800 -u px\n",
        "\n",
        "p1<-jtools::effect_plot(fit.glm,\n",
        "                    main.title = \"Water As\",\n",
        "                    pred = WAs,\n",
        "                    interval = TRUE,\n",
        "                    partial.residuals = TRUE)\n",
        "p2<-jtools::effect_plot(fit.glm,\n",
        "                    main.title = \"Phosphate Extractable As\",\n",
        "                    pred = SPAs,\n",
        "                    interval = TRUE,\n",
        "                    partial.residuals = TRUE)\n",
        "p3<-jtools::effect_plot(fit.glm,\n",
        "                    main.title = \"Amorphous FeO\",\n",
        "                    pred = SAoFe ,\n",
        "                    interval = TRUE,\n",
        "                    partial.residuals = TRUE)\n",
        "p4<-jtools::effect_plot(fit.glm,\n",
        "                    main.title = \"Soil Organic C\",\n",
        "                    pred = SOC,\n",
        "                    interval = TRUE,\n",
        "                    partial.residuals = TRUE)\n",
        "(p1+p2)/(p3 +p4)"
      ],
      "metadata": {
        "colab": {
          "base_uri": "https://localhost:8080/",
          "height": 817
        },
        "id": "nNK43nKB8Hj9",
        "outputId": "23d7f12e-c276-4275-a53e-d74f44e757c8"
      },
      "execution_count": null,
      "outputs": [
        {
          "output_type": "display_data",
          "data": {
            "image/png": "[encoded data removed]"
          },
          "metadata": {}
        }
      ]
    },
    {
      "cell_type": "markdown",
      "source": [
        "### Prediction at test locations\n",
        "\n"
      ],
      "metadata": {
        "id": "IwT54Ppr8Yjd"
      }
    },
    {
      "cell_type": "markdown",
      "source": [
        "#### Prediction\n",
        "\n",
        "The `predict()` function will be used to predict the amount of SOC present in the testing locations. This will help to validate the accuracy of the GLM regression model."
      ],
      "metadata": {
        "id": "jfrkW8Zz8cb8"
      }
    },
    {
      "cell_type": "code",
      "source": [
        "%%R\n",
        "test$Pred.SAs<-predict(fit.glm, test)"
      ],
      "metadata": {
        "id": "C-7eRTr48ZnL"
      },
      "execution_count": null,
      "outputs": []
    },
    {
      "cell_type": "markdown",
      "source": [
        "#### Prediction Performance\n",
        "\n",
        "The **Matrics** package offers serval useful functions to evalute the performance of a regression model. We use following four metrics to evaluate the model:\n",
        "\n",
        "1. Mean Squared Erro (MSE):\n",
        "\n",
        "Mean Squared Error (MSE) quantifies the average squared difference between the actual values and the predicted values produced by the model.\n",
        "\n",
        "$$ \\text{MSE} = \\frac{1}{n} \\sum_{i=1}^{n} (y_i - \\hat{y}_i)^2 $$\n",
        "\n",
        "2. \tMean Absolute Error (MAE)\n",
        "\n",
        "Mean Absolute Error (MAE) measures the average absolute difference between the actual values and the predicted values produced by the model.\n",
        "\n",
        "$$ \\text{MAE} = \\frac{1}{n} \\sum_{i=1}^{n} |y_i - \\hat{y}_i| $$\n",
        "\n",
        "\n",
        "3. Root Mean Squared Error (RMSE):\n",
        "\n",
        "It is a commonly used metric to evaluate the performance of regression models, particularly in the context of machine learning. It is essentially the square root of the Mean Squared Error (MSE) and provides a measure of the average magnitude of the errors between predicted and actual values, while still keeping the same scale as the original target variable.\n",
        "\n",
        "$$ \\text{RMSE} = \\sqrt{\\frac{1}{n} \\sum_{i=1}^{n} (y_i - \\hat{y}_i)^2} $$\n",
        "\n",
        "4. Median Absolute Error (MDAE)\n",
        "\n",
        "It is similar to Mean Absolute Error (MAE), but instead of averaging the absolute differences between the predicted and actual values, MdAE calculates the median of these absolute differences.\n",
        "\n",
        "$$ \\text{MSAE} = \\text{median}(|y_1 - \\hat{y}_1|, |y_2 - \\hat{y}_2|, ..., |y_n - \\hat{y}_n|) $$\n",
        "\n",
        "Where:\n",
        "- $n$ is the number of data points.\n",
        "- $y_i$ is the actual value of the target variable for the $i$ th data point.\n",
        "- $\\hat{y}_i$ is the predicted value of the target variable for the $i$ th data point.\n",
        "- $|\\cdot|$ denotes the absolute value\n",
        "\n",
        "\n"
      ],
      "metadata": {
        "id": "HffNpARv8wZ4"
      }
    },
    {
      "cell_type": "code",
      "source": [
        "%%R\n",
        "RMSE<- Metrics::rmse(test$SAs, test$Pred.SAs)\n",
        "MAE<- Metrics::mae(test$SAs, test$Pred.SAs)\n",
        "MSE<- Metrics::mse(test$SAs, test$Pred.SAs)\n",
        "MDAE<- Metrics::mdae(test$SAs, test$Pred.SAs)\n",
        "print(peformance.matrics<-cbind(\"RMSE\"=RMSE,\n",
        "                                \"MAE\" = MAE,\n",
        "                                \"MSE\" = MSE,\n",
        "                                \"MDAE\" = MDAE))"
      ],
      "metadata": {
        "colab": {
          "base_uri": "https://localhost:8080/"
        },
        "id": "FeiYHGpS8xIJ",
        "outputId": "eebf89a8-9008-4935-c462-f4a6b9775a10"
      },
      "execution_count": null,
      "outputs": [
        {
          "output_type": "stream",
          "name": "stdout",
          "text": [
            "         RMSE      MAE      MSE     MDAE\n",
            "[1,] 3.085736 2.380623 9.521766 1.771751\n"
          ]
        }
      ]
    },
    {
      "cell_type": "markdown",
      "source": [
        "#### 1:1 Plot\n",
        "\n",
        "We can plot observed and predicted values with fitted regression line with **ggplot2** and **ggpmisc** packages."
      ],
      "metadata": {
        "id": "1Ua0v9Et87kH"
      }
    },
    {
      "cell_type": "code",
      "source": [
        "%%R -w 450 -h 400 -u px\n",
        "\n",
        "formula<-y~x\n",
        "\n",
        "ggplot(test, aes(SAs,Pred.SAs)) +\n",
        "  geom_point() +\n",
        "  geom_smooth(method = \"lm\")+\n",
        "  stat_poly_eq(use_label(c(\"eq\", \"adj.R2\")), formula = formula) +\n",
        "  ggtitle(\"R-Base:Observed vs Predicted Soil As \") +\n",
        "  xlab(\"Observed\") + ylab(\"Predicted\") +\n",
        "  scale_x_continuous(limits=c(0,60), breaks=seq(0, 60, 10))+\n",
        "  scale_y_continuous(limits=c(0,60), breaks=seq(0, 60, 10)) +\n",
        "  # Flip the bars\n",
        "  theme(\n",
        "    panel.background = element_rect(fill = \"grey95\",colour = \"gray75\",size = 0.5, linetype = \"solid\"),\n",
        "    axis.line = element_line(colour = \"grey\"),\n",
        "    plot.title = element_text(size = 14, hjust = 0.5),\n",
        "    axis.title.x = element_text(size = 14),\n",
        "    axis.title.y = element_text(size = 14),\n",
        "    axis.text.x=element_text(size=13, colour=\"black\"),\n",
        "    axis.text.y=element_text(size=13,angle = 90,vjust = 0.5, hjust=0.5, colour='black'))"
      ],
      "metadata": {
        "colab": {
          "base_uri": "https://localhost:8080/",
          "height": 434
        },
        "id": "y9gKcrX689yt",
        "outputId": "e9a5b66f-e4a8-4a2c-8559-26e51e203c2a"
      },
      "execution_count": null,
      "outputs": [
        {
          "output_type": "stream",
          "name": "stdout",
          "text": [
            "`geom_smooth()` using formula = 'y ~ x'\n"
          ]
        },
        {
          "output_type": "display_data",
          "data": {
            "image/png": "[encoded data removed]"
          },
          "metadata": {}
        }
      ]
    },
    {
      "cell_type": "code",
      "source": [
        "%%R\n",
        "rm(list=ls())"
      ],
      "metadata": {
        "id": "XNsZpPZ6BRZN"
      },
      "execution_count": null,
      "outputs": []
    },
    {
      "cell_type": "markdown",
      "source": [
        "## GLM with Caret Package\n",
        "\n",
        "The [\"caret\"](https://topepo.github.io/caret/) (short for Classification And REgression Training) is a popular R package for machine learning. With its unified interface, the package offers a convenient way to use multiple machine-learning algorithms and pre-processing techniques. This makes it easier to compare and switch between different models, enhancing the process's accuracy and efficiency.\n",
        "\n",
        "![alt text](http://drive.google.com/uc?export=view&id=1vFGDLXvOc-wBaFRPGqt_YDub2s7hfnbz)\n",
        "\n",
        "Some of the key features of the Caret package include:\n",
        "\n",
        "**Data Preprocessing**: It provides a comprehensive set of tools to preprocess the data, such as missing value imputation, feature scaling, feature selection,and data partitioning.\n",
        "\n",
        "**Model Training:** It supports various machine learning algorithms for classification, regression, and survival analysis, including decision trees, random forests, support vector machines, gradient boosting, and neural networks.\n",
        "\n",
        "**Model Tuning**: It provides tools for tuning the hyperparameters of the models using various techniques such as grid search, random search, and Bayesian optimization.\n",
        "\n",
        "**Model Evaluation**: It provides tools for evaluating the performance of the models using various metrics such as accuracy, AUC, F1-score, and log-loss."
      ],
      "metadata": {
        "id": "nGUj6tPrBYCy"
      }
    },
    {
      "cell_type": "markdown",
      "source": [
        "### Load data"
      ],
      "metadata": {
        "id": "7NzFiB22C5hV"
      }
    },
    {
      "cell_type": "code",
      "source": [
        "%%R\n",
        "# Load data\n",
        "mf<-read_csv(\"https://github.com/zia207/r-colab/raw/main/Data/Regression_analysis/bd_soil_arsenic.csv\")\n",
        "# Create a data-frame\n",
        "df<- mf |>\n",
        "  dplyr::select (WAs, WP, WFe,\n",
        "                WEc, WpH, SPAs, SAoFe, SpH, SOC,\n",
        "                Sand, Silt, SP, Elevation,\n",
        "                Year_Irrigation, Diastance_STW,\n",
        "                Land_type, SAs)\n"
      ],
      "metadata": {
        "colab": {
          "base_uri": "https://localhost:8080/"
        },
        "id": "ZVsHVDDqC5qP",
        "outputId": "af5aae8a-8894-4615-a41d-f4fc7f9f488c"
      },
      "execution_count": null,
      "outputs": [
        {
          "output_type": "stream",
          "name": "stdout",
          "text": [
            "Rows: 263 Columns: 29\n",
            "── Column specification ────────────────────────────────────────────────────────\n",
            "Delimiter: \",\"\n",
            "chr  (1): Land_type\n",
            "dbl (28): ID, Longitude, Latitude, WAs, WP, WFe, WEc, WpH, WMg, WNa, WCa, WK...\n",
            "\n",
            "ℹ Use `spec()` to retrieve the full column specification for this data.\n",
            "ℹ Specify the column types or set `show_col_types = FALSE` to quiet this message.\n"
          ]
        }
      ]
    },
    {
      "cell_type": "markdown",
      "source": [
        "### Create Dummy Variables\n",
        "\n",
        "`dummyVars()` creates a full set of dummy variables (i.e. less than full rank parameterization)"
      ],
      "metadata": {
        "id": "L8fQaEtMDHVB"
      }
    },
    {
      "cell_type": "code",
      "source": [
        "%%R\n",
        "dummies <- dummyVars(SAs ~ ., data = df)\n",
        "dummies.df<-as.data.frame(predict(dummies, newdata = df))\n",
        "dummies.df$SAs<-df$SAs\n",
        "glimpse(dummies.df)"
      ],
      "metadata": {
        "colab": {
          "base_uri": "https://localhost:8080/"
        },
        "id": "lc8p9uDdDH-t",
        "outputId": "d353a2a1-4a36-4fb1-ed14-26e975a2abf2"
      },
      "execution_count": null,
      "outputs": [
        {
          "output_type": "stream",
          "name": "stdout",
          "text": [
            "Rows: 263\n",
            "Columns: 18\n",
            "$ WAs             <dbl> 0.059, 0.059, 0.079, 0.122, 0.072, 0.042, 0.075, 0.064…\n",
            "$ WP              <dbl> 0.761, 1.194, 1.317, 1.545, 0.966, 1.058, 0.868, 0.890…\n",
            "$ WFe             <dbl> 3.44, 4.93, 9.70, 8.58, 4.78, 6.95, 7.81, 8.14, 8.99, …\n",
            "$ WEc             <dbl> 1.03, 1.07, 1.40, 0.83, 1.42, 1.82, 1.71, 1.74, 1.57, …\n",
            "$ WpH             <dbl> 7.03, 7.06, 6.84, 6.85, 6.95, 6.89, 6.86, 6.98, 6.82, …\n",
            "$ SPAs            <dbl> 9.890, 10.700, 5.869, 6.031, 6.627, 9.530, 6.708, 8.63…\n",
            "$ SAoFe           <dbl> 2500, 2670, 2160, 2500, 2060, 2500, 2520, 2140, 2150, …\n",
            "$ SpH             <dbl> 7.74, 7.87, 8.03, 8.07, 7.81, 7.77, 7.66, 7.89, 8.00, …\n",
            "$ SOC             <dbl> 1.66, 1.26, 1.36, 1.61, 1.26, 1.74, 1.71, 1.69, 1.41, …\n",
            "$ Sand            <dbl> 16.3, 11.1, 12.3, 12.7, 12.1, 16.7, 16.8, 13.7, 12.6, …\n",
            "$ Silt            <dbl> 44.8, 48.7, 46.4, 43.6, 50.9, 43.6, 43.4, 40.8, 44.9, …\n",
            "$ SP              <dbl> 13.79, 15.31, 15.54, 16.28, 14.20, 13.41, 13.26, 14.84…\n",
            "$ Elevation       <dbl> 3, 5, 4, 3, 5, 2, 2, 3, 3, 3, 2, 5, 6, 6, 5, 5, 4, 6, …\n",
            "$ Year_Irrigation <dbl> 14, 20, 10, 8, 10, 9, 8, 10, 8, 2, 20, 4, 15, 10, 5, 4…\n",
            "$ Diastance_STW   <dbl> 5, 6, 5, 8, 5, 5, 10, 8, 10, 8, 5, 5, 9, 5, 10, 10, 12…\n",
            "$ Land_typeHL     <dbl> 0, 0, 0, 0, 0, 0, 0, 0, 0, 0, 0, 1, 0, 1, 1, 1, 1, 1, …\n",
            "$ Land_typeMHL    <dbl> 1, 1, 1, 1, 1, 1, 1, 1, 1, 1, 1, 0, 1, 0, 0, 0, 0, 0, …\n",
            "$ SAs             <dbl> 29.10, 45.10, 23.20, 23.80, 26.00, 25.60, 26.30, 31.60…\n"
          ]
        }
      ]
    },
    {
      "cell_type": "markdown",
      "source": [
        "### Data Splitting\n",
        "\n",
        "The function `createDataPartition()` can be used to create splits of the data into training and validation"
      ],
      "metadata": {
        "id": "5_WeIEW9DQeU"
      }
    },
    {
      "cell_type": "code",
      "source": [
        "%%R\n",
        "set.seed(3456)\n",
        "trainIndex <- createDataPartition(dummies.df$SAs, p = .70,\n",
        "                                  list = FALSE,\n",
        "                                  times = 1)\n",
        "df_train <- dummies.df[ trainIndex,]\n",
        "df_test  <- dummies.df[-trainIndex,]"
      ],
      "metadata": {
        "id": "eiS6r7YyDRNz"
      },
      "execution_count": null,
      "outputs": []
    },
    {
      "cell_type": "code",
      "source": [
        "%%R -w 400 -h 350 -u px\n",
        "# Density plot all, train and test data\n",
        "ggplot()+\n",
        "  geom_density(data = dummies.df, aes(SAs))+\n",
        "  geom_density(data = df_train, aes(SAs), color = \"green\")+\n",
        "  geom_density(data = df_test, aes(SAs), color = \"red\") +\n",
        "      xlab(\"Soil As (mg/kg)\") +\n",
        "     ylab(\"Density\")"
      ],
      "metadata": {
        "colab": {
          "base_uri": "https://localhost:8080/",
          "height": 367
        },
        "id": "C20_P0dYDX9K",
        "outputId": "75789eee-7b23-4e81-e774-77a6de140b09"
      },
      "execution_count": null,
      "outputs": [
        {
          "output_type": "display_data",
          "data": {
            "image/png": "[encoded data removed]"
          },
          "metadata": {}
        }
      ]
    },
    {
      "cell_type": "markdown",
      "source": [
        "### Set control prameters\n",
        "\n",
        "The function `traincontrol()` function is used for controlling the training process. It allows us to specify various options related to resampling, cross-validation, and model tuning during the training process."
      ],
      "metadata": {
        "id": "qjjlMnWgDj90"
      }
    },
    {
      "cell_type": "code",
      "source": [
        "%%R\n",
        "set.seed(123)\n",
        "train.control <- trainControl(method = \"repeatedcv\",\n",
        "                              number = 10, repeats = 5,\n",
        "                              preProc = c(\"center\", \"scale\", \"nzv\"))"
      ],
      "metadata": {
        "id": "RieAuXJ2Dkx0"
      },
      "execution_count": null,
      "outputs": []
    },
    {
      "cell_type": "markdown",
      "source": [
        "### Train the model\n",
        "\n",
        "**train()** is used for training machine learning models. It provides a unified interface for a wide range of machine learning algorithms, making comparing and evaluating different models on a given dataset easier. It allows the dataset as input and allows you to specify the type of model to train, as well as various tuning parameters and performance metrics. It uses a resampling method specified by **trainControl()** to estimate the model's performance on new, unseen data, and returns a trained model object."
      ],
      "metadata": {
        "id": "OniedQDQFnfa"
      }
    },
    {
      "cell_type": "code",
      "source": [
        "%%R\n",
        "# Train the model\n",
        "model.glm <- train(SAs ~., data = df_train,\n",
        "                     method = \"glm\",\n",
        "                     trControl = train.control)"
      ],
      "metadata": {
        "id": "Fz2etg0kFoZn"
      },
      "execution_count": null,
      "outputs": []
    },
    {
      "cell_type": "markdown",
      "source": [
        "### Model Summary"
      ],
      "metadata": {
        "id": "Wtz0dTdMFujY"
      }
    },
    {
      "cell_type": "code",
      "source": [
        "%%R\n",
        "print(model.glm)"
      ],
      "metadata": {
        "colab": {
          "base_uri": "https://localhost:8080/"
        },
        "id": "U-CprD8tFuto",
        "outputId": "00af5402-e4ab-409a-abf7-292c06223a11"
      },
      "execution_count": null,
      "outputs": [
        {
          "output_type": "stream",
          "name": "stdout",
          "text": [
            "Generalized Linear Model \n",
            "\n",
            "187 samples\n",
            " 17 predictor\n",
            "\n",
            "No pre-processing\n",
            "Resampling: Cross-Validated (10 fold, repeated 5 times) \n",
            "Summary of sample sizes: 169, 167, 168, 171, 168, 168, ... \n",
            "Resampling results:\n",
            "\n",
            "  RMSE    Rsquared   MAE     \n",
            "  3.4361  0.7771652  2.674747\n",
            "\n"
          ]
        }
      ]
    },
    {
      "cell_type": "markdown",
      "source": [
        "### Prediction with at test locations"
      ],
      "metadata": {
        "id": "ZXNb9b_HF2ZB"
      }
    },
    {
      "cell_type": "code",
      "source": [
        "%%R\n",
        "df_test$Pred.SAs = predict(model.glm, df_test)"
      ],
      "metadata": {
        "id": "Uqtk5tScF32M"
      },
      "execution_count": null,
      "outputs": []
    },
    {
      "cell_type": "code",
      "source": [
        "%%R\n",
        "# prediction performance\n",
        "RMSE<- Metrics::rmse(df_test$SAs, df_test$Pred.SAs)\n",
        "MAE<- Metrics::mae(df_test$SAs, df_test$Pred.SAs)\n",
        "MSE<- Metrics::mse(df_test$SAs, df_test$Pred.SAs)\n",
        "MDAE<- Metrics::mdae(df_test$SAs, df_test$Pred.SAs)\n",
        "print(peformance.matrics<-cbind(\"RMSE\"=RMSE,\n",
        "                                \"MAE\" = MAE,\n",
        "                                \"MSE\" = MSE,\n",
        "                                \"MDAE\" = MDAE))"
      ],
      "metadata": {
        "colab": {
          "base_uri": "https://localhost:8080/"
        },
        "id": "3UtkNr3XF-Zj",
        "outputId": "e6a6bc13-602a-49a3-8ec4-03ffed6a3dd0"
      },
      "execution_count": null,
      "outputs": [
        {
          "output_type": "stream",
          "name": "stdout",
          "text": [
            "         RMSE      MAE      MSE    MDAE\n",
            "[1,] 3.230838 2.550722 10.43831 2.19174\n"
          ]
        }
      ]
    },
    {
      "cell_type": "code",
      "source": [
        "%%R\n",
        "rm(list=ls())"
      ],
      "metadata": {
        "id": "6Zz2XSrpNSxl"
      },
      "execution_count": null,
      "outputs": []
    },
    {
      "cell_type": "markdown",
      "source": [
        "## GLM with tidymodels\n",
        "\n",
        "**The [tidymodels](https://www.tidymodels.org/)** is a comprehensive suite of R packages that facilitate the execution of modeling and machine learning tasks. Its user-friendly and consistent interface enables users to perform various modeling techniques efficiently, including data preprocessing, model fitting, tuning, evaluation, and visualization. Tidymodels is built on the principles of the [tidyverse](https://www.tidyverse.org/), a collection of R packages that promote a streamlined and efficient workflow for data analysis. By leveraging the features of tidymodels, users can efficiently perform complex modeling tasks and achieve better outcomes..\n",
        "\n",
        "![alt text](http://drive.google.com/uc?export=view&id=1M0MDYhenCanjC8PnUHPh6xyOzlPJjWUh)\n",
        "\n",
        "The core packages in tidymodels include:\n",
        "\n",
        "[parsnip](https://parsnip.tidymodels.org/): A package for creating a consistent interface to different model types.\n",
        "\n",
        "[rsample](https://rsample.tidymodels.org/): A package for resampling data to estimate model performance.\n",
        "\n",
        "[recipes](https://recipes.tidymodels.org/): A package for preprocessing data in a tidy way.\n",
        "\n",
        "[workflows](https://workflows.tidymodels.org/): A workflow is an object that can bundle together your pre-processing, modeling, and post-processing requests.\n",
        "\n",
        "[tune](https://tune.tidymodels.org/):tune helps you optimize the hyperparameters of your model and pre-processing steps\n",
        "\n",
        "[yardstick](https://www.tidymodels.org/packages/): yardstick measures the effectiveness of models using performance metrics\n",
        "\n",
        "[broom](https://broom.tidymodels.org/): broom converts the information in common statistical R objects into user-friendly, predictable formats.\n",
        "\n",
        "[dials](https://broom.tidymodels.org/):dials creates and manages tuning parameters and parameter grids\n",
        "\n",
        "These packages can be used together or separately to build and evaluate models using a tidy workflow. Tidymodels also integrates with other tidyverse packages like ggplot2 for visualization and purrr for functional programming.\n",
        "\n",
        "Overall, tidymodels provides a comprehensive framework for building, tuning, and evaluating machine learning models in R while following the principles of the tidyverse.\n",
        "\n",
        "The steps in most machine learning projects with tidy model are as follows:\n",
        "\n",
        "-   Loading necessary packages and data(`readr`)\n",
        "\n",
        "-   split data into train and test (`rsample`)\n",
        "\n",
        "-   light preprocessing (`recipes`)\n",
        "\n",
        "-   find the best hyperparameters by\n",
        "\n",
        "    -   creating crossvalidation folds (`rsample`)\n",
        "\n",
        "    -   creating a model specification (`tune`, `parsnip`, `treesnip`, `dials`)\n",
        "\n",
        "    -   creating a grid of values (`dials`)\n",
        "\n",
        "    -   using a workflow to contain the model and formula (`workflows`)\n",
        "\n",
        "    -   tune the model (`tune`)\n",
        "\n",
        "    -   find the best model from tuning\n",
        "\n",
        "-   retrain on entire test data\n",
        "\n",
        "-   evaluate on test data (`yardstick`)\n",
        "\n",
        "-   check residuals and model diagnostics"
      ],
      "metadata": {
        "id": "80CZjPKeMe9G"
      }
    },
    {
      "cell_type": "markdown",
      "source": [
        "### Load data"
      ],
      "metadata": {
        "id": "IL-lYTERNaKF"
      }
    },
    {
      "cell_type": "code",
      "source": [
        "%%R\n",
        "mf<-read_csv(\"https://github.com/zia207/r-colab/raw/main/Data/Regression_analysis/bd_soil_arsenic.csv\")\n",
        "# Create a data-frame\n",
        "df<- mf |>\n",
        "  dplyr::select (WAs, WP, WFe,\n",
        "                WEc, WpH, SPAs, SAoFe, SpH, SOC,\n",
        "                Sand, Silt, SP, Elevation,\n",
        "                Year_Irrigation, Diastance_STW,\n",
        "                Land_type, SAs)\n"
      ],
      "metadata": {
        "colab": {
          "base_uri": "https://localhost:8080/"
        },
        "id": "EuscCCjaNaoN",
        "outputId": "782d85fe-8264-4461-cb3e-65374fe23186"
      },
      "execution_count": null,
      "outputs": [
        {
          "output_type": "stream",
          "name": "stdout",
          "text": [
            "Rows: 263 Columns: 29\n",
            "── Column specification ────────────────────────────────────────────────────────\n",
            "Delimiter: \",\"\n",
            "chr  (1): Land_type\n",
            "dbl (28): ID, Longitude, Latitude, WAs, WP, WFe, WEc, WpH, WMg, WNa, WCa, WK...\n",
            "\n",
            "ℹ Use `spec()` to retrieve the full column specification for this data.\n",
            "ℹ Specify the column types or set `show_col_types = FALSE` to quiet this message.\n"
          ]
        }
      ]
    },
    {
      "cell_type": "markdown",
      "source": [
        "### Split Data\n",
        "\n",
        "We use **rsample** package, install with **tidymodels**, to split data into training (70%) and test data (30%) set with Stratified Random Sampling. `initial_split()` creates a single binary split of the data into a training set and testing se"
      ],
      "metadata": {
        "id": "i2r-QKAXNnWS"
      }
    },
    {
      "cell_type": "code",
      "source": [
        "%%R\n",
        "set.seed(1245)   # for reproducibility\n",
        "split <- initial_split(df, prop = 0.7, strata = SAs)\n",
        "train <- split |>\n",
        "         training()\n",
        "test <-  split |>\n",
        "         testing()"
      ],
      "metadata": {
        "id": "1fqRgy7zNoIr"
      },
      "execution_count": null,
      "outputs": []
    },
    {
      "cell_type": "markdown",
      "source": [
        "### Create Recipe\n",
        "\n",
        "The `recipe()` function is a part of the **recipes** package in R, which is utilized for preprocessing and feature engineering in machine learning workflows. The `recipe()` function allows you to define a blueprint or a recipe for data preprocessing. It enables you to specify a sequence of steps to be applied to your data before modeling.\n",
        "\n",
        "Here's a basic overview of how the `recipe()` function works:\n",
        "\n",
        "1.  **Create a Recipe Object**: You start by creating a recipe object using the `recipe() function`. This object will contain the blueprint for your data preprocessing steps.\n",
        "\n",
        "2.  **Specify Formula**: You specify a formula that describes the relationship between the predictors (independent variables) and the outcome variable (dependent variable) in your dataset. This formula is specified using the \\~ operator, with the outcome variable on the left-hand side and the predictors on the right-hand side.\n",
        "\n",
        "3.  **Add Preprocessing Steps**: You can then add various preprocessing steps to the recipe object using functions like `step_normalize()` for normalization, `step_center()` for centering, `step_dummy(`) for creating dummy variables, etc. These steps define how the data should be transformed before modeling.\n",
        "\n",
        "4.  **Finalize the Recipe**: Once you've added all the desired preprocessing steps, you can finalize the recipe using the `prep()` function. This step ensures that the recipe is ready to be applied to your data.\n",
        "\n",
        "5.  **Apply the Recipe**: Finally, you can apply the recipe to your dataset using the `bake()` function. This applies the specified preprocessing steps to your data, resulting in a preprocessed dataset ready for modeling.\n"
      ],
      "metadata": {
        "id": "ozbbuPR4Nv_W"
      }
    },
    {
      "cell_type": "code",
      "source": [
        "%%R\n",
        "# Create a recipe\n",
        "glm_recipe <-\n",
        "  recipe(SAs ~ ., data = train)  |>\n",
        "  step_zv(all_predictors()) |>\n",
        "  step_dummy(all_nominal())  |>\n",
        "  step_normalize(all_numeric_predictors())"
      ],
      "metadata": {
        "id": "I8c3a78uNw_c"
      },
      "execution_count": null,
      "outputs": []
    },
    {
      "cell_type": "markdown",
      "source": [
        "## Build a model\n",
        "\n",
        "The **parsnip** package in R is designed to facilitate modeling in a uniform, organized, and modular manner. It offers the `set_engine()` function, which enables you to specify the modeling engine you wish to use for fitting a specific model.\n",
        "\n",
        "Here's how `set_engine()` typically works:\n",
        "\n",
        "1.  **Choose a Model**: Start by selecting a modeling function from a modeling package. For example, if you want to fit a linear regression model, you might choose the `lm()` function from base R or the `glm()` function from the stats package.\n",
        "\n",
        "2.  **Specify the Engine**: Once you have selected the modeling function, you need to specify the modeling engine you want to use with that function. Use the `set_engine()` function to do this. The engine is the computational backend or implementation of the model.\n",
        "\n",
        "3.  **Engine Options**: You can specify different options for the engine, such as tuning parameters or other settings specific to the implementation. Use additional arguments in the `set_engine()` function to specify these options.\n",
        "\n",
        "4.  **Fit the Model**: After you have set the engine, use the modeling function along with the specified engine to fit the model to your data using the `fit()` function."
      ],
      "metadata": {
        "id": "pPIXkCb4OH7r"
      }
    },
    {
      "cell_type": "code",
      "source": [
        "%%R\n",
        "glm_mod <-\n",
        "   linear_reg()  |>\n",
        "   set_engine(\"glm\")"
      ],
      "metadata": {
        "id": "EDD1-f1SOI8L"
      },
      "execution_count": null,
      "outputs": []
    },
    {
      "cell_type": "markdown",
      "source": [
        "### Create a workflow\n",
        "\n",
        "The `workflows()` function belongs to the **workflows** package. This package is created to build, manage, and optimize machine learning workflows using the **tidymodels** framework. It lets you define a series of preprocessing, modeling, and post-processing steps in a modular and reproducible way. You can train your data using the `fit()` function.\n",
        "\n",
        "First you start by creating a workflow object using the **`workflows()`** function. This object serves as a blueprint for your machine learning workflow. Then, you combine the preprocessing steps and the modeling engine into a single workflow using the **`add_recipe()`** and **`add_model()`** functions. This links the preprocessing steps with the modeling engine so that they are applied together during model fitting.\n"
      ],
      "metadata": {
        "id": "iY1NUAklOP14"
      }
    },
    {
      "cell_type": "code",
      "source": [
        "%%R\n",
        "glm_wflow <-\n",
        "  workflow()  |>\n",
        "  add_recipe(glm_recipe) |>\n",
        "  add_model(glm_mod)"
      ],
      "metadata": {
        "id": "5Ksy8grUOQim"
      },
      "execution_count": null,
      "outputs": []
    },
    {
      "cell_type": "markdown",
      "source": [
        "### Fit GLM model\n",
        "\n",
        "Now, there is a single function that can be used to prepare the recipe and train the model from the resulting predictors:"
      ],
      "metadata": {
        "id": "nxHCb2nuOW_r"
      }
    },
    {
      "cell_type": "code",
      "source": [
        "%%R\n",
        "glm_fit <-\n",
        "  glm_wflow  |>\n",
        "  fit(data = train)"
      ],
      "metadata": {
        "id": "GsWQqUZQOXjt"
      },
      "execution_count": null,
      "outputs": []
    },
    {
      "cell_type": "markdown",
      "source": [
        "This object has the finalized recipe and fitted model objects inside. You may want to extract the model or recipe objects from the workflow. To do this, you can use the helper functions `extract_fit_parsnip()`:"
      ],
      "metadata": {
        "id": "ay6HMx4_Obyh"
      }
    },
    {
      "cell_type": "code",
      "source": [
        "%%R\n",
        "glm_fit %>%\n",
        "  extract_fit_parsnip() |>\n",
        "  tidy()"
      ],
      "metadata": {
        "colab": {
          "base_uri": "https://localhost:8080/"
        },
        "id": "pWJGUlLCOhP-",
        "outputId": "90b360dc-aa1d-406d-af71-c6c883fe46f5"
      },
      "execution_count": null,
      "outputs": [
        {
          "output_type": "stream",
          "name": "stdout",
          "text": [
            "# A tibble: 17 × 5\n",
            "   term            estimate std.error statistic   p.value\n",
            "   <chr>              <dbl>     <dbl>     <dbl>     <dbl>\n",
            " 1 (Intercept)      17.9        0.231    77.6   2.39e-132\n",
            " 2 WAs              -0.468      0.338    -1.39  1.68e-  1\n",
            " 3 WP                0.193      0.295     0.654 5.14e-  1\n",
            " 4 WFe               0.423      0.287     1.48  1.41e-  1\n",
            " 5 WEc              -0.139      0.277    -0.502 6.17e-  1\n",
            " 6 WpH               0.541      0.291     1.86  6.51e-  2\n",
            " 7 SPAs              5.93       0.338    17.5   1.20e- 39\n",
            " 8 SAoFe            -0.0717     0.249    -0.288 7.73e-  1\n",
            " 9 SpH               0.329      0.305     1.08  2.82e-  1\n",
            "10 SOC               0.112      0.339     0.331 7.41e-  1\n",
            "11 Sand             -0.408      0.254    -1.61  1.10e-  1\n",
            "12 Silt             -0.258      0.282    -0.913 3.63e-  1\n",
            "13 SP               -0.235      0.263    -0.894 3.72e-  1\n",
            "14 Elevation         0.0977     0.341     0.287 7.75e-  1\n",
            "15 Year_Irrigation   1.03       0.295     3.49  6.19e-  4\n",
            "16 Diastance_STW    -0.603      0.264    -2.28  2.37e-  2\n",
            "17 Land_type_MHL     0.538      0.317     1.70  9.12e-  2\n"
          ]
        }
      ]
    },
    {
      "cell_type": "markdown",
      "source": [
        "### Training Performance\n",
        "\n",
        "We can use **yardstick** package to estimate how well models are working using tidy data principles"
      ],
      "metadata": {
        "id": "MMtF5-xKOl-k"
      }
    },
    {
      "cell_type": "code",
      "source": [
        "%%R\n",
        "train.pred<- glm_fit |>\n",
        "             predict(train) |>\n",
        "             bind_cols(Obs_SAs=train$SAs) |>\n",
        "             dplyr::rename(Pred_SAs = .pred) |>\n",
        "             as.tibble()\n",
        "# train R2\n",
        "rsq(train.pred, Obs_SAs, Pred_SAs)"
      ],
      "metadata": {
        "colab": {
          "base_uri": "https://localhost:8080/"
        },
        "id": "nzdHs-mbOncT",
        "outputId": "d936f8d0-bbe2-4769-e759-092758e1deaf"
      },
      "execution_count": null,
      "outputs": [
        {
          "output_type": "stream",
          "name": "stdout",
          "text": [
            "# A tibble: 1 × 3\n",
            "  .metric .estimator .estimate\n",
            "  <chr>   <chr>          <dbl>\n",
            "1 rsq     standard       0.848\n"
          ]
        }
      ]
    },
    {
      "cell_type": "code",
      "source": [
        "%%R\n",
        "# training RMSE\n",
        "Metrics::rmse(train.pred$Obs_SAs, train.pred$Pred_SAs)"
      ],
      "metadata": {
        "colab": {
          "base_uri": "https://localhost:8080/"
        },
        "id": "_msxl7XWOwFb",
        "outputId": "247b88a1-7783-416b-b93d-8e7e60386ca8"
      },
      "execution_count": null,
      "outputs": [
        {
          "output_type": "stream",
          "name": "stdout",
          "text": [
            "[1] 2.973523\n"
          ]
        }
      ]
    },
    {
      "cell_type": "markdown",
      "source": [
        "### Predication at test locations"
      ],
      "metadata": {
        "id": "wGlfT75PO261"
      }
    },
    {
      "cell_type": "code",
      "source": [
        "%%R\n",
        "test.pred<- glm_fit |>\n",
        "             predict(test) |>\n",
        "             bind_cols(Obs_SAs=test$SAs) |>\n",
        "             dplyr::rename(Pred_SAs = .pred) |>\n",
        "             as.tibble()\n",
        "# Test R2\n",
        "rsq(test.pred, Obs_SAs, Pred_SAs)"
      ],
      "metadata": {
        "colab": {
          "base_uri": "https://localhost:8080/"
        },
        "id": "fXjwcl-jO3un",
        "outputId": "76095054-add0-4f12-999d-f330b427da92"
      },
      "execution_count": null,
      "outputs": [
        {
          "output_type": "stream",
          "name": "stdout",
          "text": [
            "# A tibble: 1 × 3\n",
            "  .metric .estimator .estimate\n",
            "  <chr>   <chr>          <dbl>\n",
            "1 rsq     standard       0.740\n"
          ]
        }
      ]
    },
    {
      "cell_type": "code",
      "source": [
        "%%R\n",
        "# Test RMSE\n",
        "Metrics::rmse(test.pred$Obs_SAs, test.pred$Pred_SAs)"
      ],
      "metadata": {
        "colab": {
          "base_uri": "https://localhost:8080/"
        },
        "id": "Vz1GQ5RTPJQB",
        "outputId": "17cc7e17-7b38-484b-ed76-91089c6f6ed9"
      },
      "execution_count": null,
      "outputs": [
        {
          "output_type": "stream",
          "name": "stdout",
          "text": [
            "[1] 3.498321\n"
          ]
        }
      ]
    },
    {
      "cell_type": "code",
      "source": [
        "%%R\n",
        "rm(list=ls())"
      ],
      "metadata": {
        "id": "cCSM3DIjPMi1"
      },
      "execution_count": null,
      "outputs": []
    },
    {
      "cell_type": "markdown",
      "source": [
        "## GLM with h20\n",
        "\n",
        "The **H2O** package is a powerful open-source software that is specifically designed for data analysis and machine learning. It is known for being incredibly fast, scalable, and easy to use, making it a popular choice among data scientists and machine learning engineers.\n",
        "\n",
        "The H2O package is compatible with a wide range of programming languages, including R, Python, and others, making it accessible to a large community of developers. It comes with a diverse set of machine learning algorithms that can be used for a variety of tasks, including deep learning, gradient boosting, generalized linear models, and more.\n",
        "\n",
        "One of the key advantages of the H2O package is that it can handle large datasets with ease, making it a great choice for big data applications. Additionally, it supports distributed computing, which allows users to run complex machine learning tasks across multiple machines, further improving performance and scalability. Overall, the H2O package is a valuable tool for anyone working with data analysis and machine learning. Its speed, scalability, and ease of use make it a popular choice among developers, and its diverse set of algorithms and compatibility with multiple programming languages make it a versatile tool for a variety of applications.\n",
        "\n",
        "![alt text](http://drive.google.com/uc?export=view&id=1vE3DVP9_IkK475p0KcMwZXAS9RmZS3-4)\n",
        "\n",
        "Some of the key features of the H2O package include:\n",
        "\n",
        "1.  Distributed computing: H2O can run on a cluster of machines and scale up to handle very large datasets. GPU acceleration: H2O supports GPU acceleration for certain algorithms, which can significantly speed up computation.\n",
        "\n",
        "2.  Automated machine learning: H2O's AutoML feature can automatically select the best algorithm and hyperparameters for a given dataset.\n",
        "\n",
        "3.  Interpretable machine learning: H2O provides tools for interpreting machine learning models and understanding their predictions.\n",
        "\n",
        "4.  Integration with popular programming languages: H2O can be used with R, Python, and other programming languages, making it accessible to a wide range of users.\n",
        "\n",
        "The h2o package provides an open-source implementation of GLM that is specifically designed for big data. To use the GLM function in h2o, you will need to first install and load the package in your R environment. Once the package is loaded, you can use the h2o.glm() function to fit a GLM model.\n",
        "\n",
        "### Downloading & Installing H2O\n",
        "\n",
        "Detail instruction of downloading & installing H2O in R could be found [here](https://docs.h2o.ai/h2o/latest-stable/h2o-docs/downloading.html)\n",
        "\n",
        "Anyway, perform the following steps in R to install H2O. Copy and paste these commands one line at a time.\n",
        "\n",
        "1.  The following two commands remove any previously installed H2O packages for R.\n",
        "\n",
        "> if (\"package:h2o\" %in% search()) { detach(\"package:h2o\", unload=TRUE) }\n",
        "\n",
        "> if (\"h2o\" %in% rownames(installed.packages())) { remove.packages(\"h2o\") }\n",
        "\n",
        "2.  Next, download packages that H2O depends on\n",
        "\n",
        "> pkgs \\<- c(\"RCurl\",\"jsonlite\")\n",
        "\n",
        "> for (pkg in pkgs) { if (! (pkg %in% rownames(installed.packages()))) { install.packages(pkg) } }\n",
        "\n",
        "3.  Download and install the H2O package for R.\n",
        "\n",
        "> install.packages(\"h2o\", type=\"source\", repos=(c(\"http://h2o-release.s3.amazonaws.com/h2o/latest_stable_R\")))"
      ],
      "metadata": {
        "id": "UgYvpOIiPP-F"
      }
    },
    {
      "cell_type": "markdown",
      "source": [
        "### Downloading & Installing H2O\n",
        "\n",
        "Detail instruction of downloading & installing H2O in R could be found [here](https://docs.h2o.ai/h2o/latest-stable/h2o-docs/downloading.html)\n",
        "\n",
        "Anyway, perform the following steps in R to install H2O. Copy and paste these commands one line at a time."
      ],
      "metadata": {
        "id": "3kBka-GRHQyO"
      }
    },
    {
      "cell_type": "code",
      "source": [
        "%%R\n",
        "# The following two commands remove any previously installed H2O packages for R.\n",
        "if (\"package:h2o\" %in% search()) { detach(\"package:h2o\", unload=TRUE) }\n",
        "if (\"h2o\" %in% rownames(installed.packages())) { remove.packages(\"h2o\") }\n",
        "\n",
        "# Next, download packages that H2O depends on\n",
        "pkgs <- c(\"RCurl\",\"jsonlite\")\n",
        "for (pkg in pkgs) {\n",
        "  if (! (pkg %in% rownames(installed.packages(lib='drive/My Drive/R/')))) { install.packages(pkg) }\n",
        "}\n",
        "\n",
        "# Download and install the latest vesion of H2O\n",
        "install.packages(\"h2o\", type=\"source\",lib='drive/My Drive/R/', repos=(c(\"http://h2o-release.s3.amazonaws.com/h2o/latest_stable_R\")))"
      ],
      "metadata": {
        "id": "fkDqJzg0y5Ag"
      },
      "execution_count": null,
      "outputs": []
    },
    {
      "cell_type": "markdown",
      "source": [
        "### Load h2o"
      ],
      "metadata": {
        "id": "HNRvMwTNHqtS"
      }
    },
    {
      "cell_type": "code",
      "source": [
        "%%R\n",
        "library(h2o)\n",
        "h2o.init()\n",
        "#disable progress bar for RMarkdown\n",
        "h2o.no_progress()\n",
        "# Optional: remove anything from previous session\n",
        "h2o.removeAll()"
      ],
      "metadata": {
        "id": "nXBRBmMv4tPC"
      },
      "execution_count": null,
      "outputs": []
    },
    {
      "cell_type": "markdown",
      "source": [
        "### Load data"
      ],
      "metadata": {
        "id": "PDk7rXlNHlCM"
      }
    },
    {
      "cell_type": "code",
      "source": [
        "%%R\n",
        "# load data\n",
        "mf<-read_csv(\"https://github.com/zia207/r-colab/raw/main/Data/Regression_analysis/bd_soil_arsenic.csv\")\n",
        "# Create a data-frame\n",
        "df<- mf |>\n",
        "  dplyr::select (SAs, WAs, WP, WFe,\n",
        "                WEc, WpH, SPAs, SAoFe, SpH, SOC,\n",
        "                Sand, Silt, SP, Elevation,\n",
        "                Year_Irrigation, Diastance_STW,\n",
        "                Land_type)"
      ],
      "metadata": {
        "colab": {
          "base_uri": "https://localhost:8080/"
        },
        "id": "1_7he8ivHa0M",
        "outputId": "ac6cef4c-fda7-4ba4-d35e-475cc48944b3"
      },
      "execution_count": null,
      "outputs": [
        {
          "output_type": "stream",
          "name": "stdout",
          "text": [
            "Rows: 263 Columns: 29\n",
            "── Column specification ────────────────────────────────────────────────────────\n",
            "Delimiter: \",\"\n",
            "chr  (1): Land_type\n",
            "dbl (28): ID, Longitude, Latitude, WAs, WP, WFe, WEc, WpH, WMg, WNa, WCa, WK...\n",
            "\n",
            "ℹ Use `spec()` to retrieve the full column specification for this data.\n",
            "ℹ Specify the column types or set `show_col_types = FALSE` to quiet this message.\n"
          ]
        }
      ]
    },
    {
      "cell_type": "markdown",
      "source": [
        "### Convert to factor"
      ],
      "metadata": {
        "id": "etc3cMyEQmtU"
      }
    },
    {
      "cell_type": "code",
      "source": [
        "%%R\n",
        "# Convert to factor\n",
        "df$Land_type <- as.factor(df$Land_type)"
      ],
      "metadata": {
        "id": "VOkB4VbgQm2D"
      },
      "execution_count": null,
      "outputs": []
    },
    {
      "cell_type": "markdown",
      "source": [
        "### Import data into h2o cluster"
      ],
      "metadata": {
        "id": "U9VoAMD_41Ne"
      }
    },
    {
      "cell_type": "code",
      "source": [
        "%%R\n",
        "h_df=as.h2o(df)"
      ],
      "metadata": {
        "id": "pYwe9B_J41Vo"
      },
      "execution_count": null,
      "outputs": []
    },
    {
      "cell_type": "markdown",
      "source": [
        "### Split data"
      ],
      "metadata": {
        "id": "5NX33pPwQxFJ"
      }
    },
    {
      "cell_type": "code",
      "source": [
        "%%R\n",
        "# Split dataset giving the training dataset 75% of the data\n",
        "df_split <- h2o.splitFrame(data = h_df, ratios = 0.75)\n",
        "print(dim(df_split[[1]]))\n",
        "print(dim(df_split[[2]]))"
      ],
      "metadata": {
        "colab": {
          "base_uri": "https://localhost:8080/"
        },
        "id": "VJPHr1eRRLGp",
        "outputId": "ce45a5b4-7946-4299-f0a5-46126f9d5ad3"
      },
      "execution_count": null,
      "outputs": [
        {
          "output_type": "stream",
          "name": "stdout",
          "text": [
            "[1] 187  17\n",
            "[1] 76 17\n"
          ]
        }
      ]
    },
    {
      "cell_type": "code",
      "source": [
        "%%R\n",
        "# Create a training set from the 1st dataset in the split\n",
        "h_train <- df_split[[1]]\n",
        "# Create a testing set from the 2nd dataset in the split\n",
        "h_test <- df_split[[2]]"
      ],
      "metadata": {
        "id": "RoWh4c2TQxQu"
      },
      "execution_count": null,
      "outputs": []
    },
    {
      "cell_type": "markdown",
      "source": [
        "### Define response and predictors"
      ],
      "metadata": {
        "id": "pyleQ6ei5jp5"
      }
    },
    {
      "cell_type": "code",
      "source": [
        "%%R\n",
        "y <- \"SAs\"\n",
        "x <- setdiff(names(h_df), y)"
      ],
      "metadata": {
        "id": "hJ_JILO65jxa"
      },
      "execution_count": null,
      "outputs": []
    },
    {
      "cell_type": "markdown",
      "source": [
        "### Fit GLM model\n",
        "\n",
        "We fit fit a GLM using **h2o.glm()** function with following parameters:\n",
        "\n",
        "-   family = \"gaussian\", Family. Use binomial for classification with logistic regression, others are for regression problems. Must be one of: \"AUTO\", \"gaussian\", \"binomial\", \"fractionalbinomial\", \"quasibinomial\", \"ordinal\", \"multinomial\", \"poisson\", \"gamma\", \"tweedie\", \"negativebinomial\". Defaults to AUTO.\n",
        "-   compute_p_values = TRUE, Logical. Request p-values computation, p-values work only with IRLSM solver and no regularization Defaults to FALSE.\n",
        "-   nfolds = 10, Number of folds for K-fold cross-validation, 0 to disable or \\>= 2). Defaults to 0.\n",
        "-   keep_cross_validation_models = TRUE, logical. Whether to keep the cross-validation models.Defaults to TRUE.\n",
        "-   early_stopping = TRUE, Logical. Stop early when there is no more relative improvement on train or validation (if provided). Defaults to TRUE\n",
        "-   stopping_rounds = 2, Early stopping based on convergence of stopping_metric. Stop if simple moving average of length k of the stopping_metric does not improve for k:=stopping_rounds scoring events (0 to disable). Defaults to 0.\n",
        "-   stopping_metric = \"RMSE\", Metric to use for early stopping\n",
        "-   remove_collinear_columns = TRUE, Logical. In case of linearly dependent columns, remove some of the dependent columns Defaults to FALSE.\n",
        "-   standardize = TRUE, Logical. Standardize numeric columns to have zero mean and unit variance Defaults to TRUE.\n",
        "- seed = 212, Set the random seed so that this can be reproduced."
      ],
      "metadata": {
        "id": "40cBHSNL5sDj"
      }
    },
    {
      "cell_type": "code",
      "source": [
        "%%R\n",
        "glm_h2o <- h2o.glm(\n",
        "  training_frame = h_train,\n",
        "  # validation_frame = valid,\n",
        "  x=x,\n",
        "  y=y,\n",
        "  model_id = \"GLM_MODEL_ID\",\n",
        "  family = \"gaussian\",\n",
        "  compute_p_values = TRUE,\n",
        "  nfolds = 10,\n",
        "  keep_cross_validation_models = TRUE,\n",
        "  early_stopping = TRUE,\n",
        "  stopping_rounds = 2,\n",
        "  stopping_metric = \"RMSE\",\n",
        "  remove_collinear_columns = TRUE,\n",
        "  standardize = TRUE,\n",
        "  seed = 212)"
      ],
      "metadata": {
        "id": "L_QrW_5V5sLc"
      },
      "execution_count": null,
      "outputs": []
    },
    {
      "cell_type": "markdown",
      "source": [
        "### Coefficients table"
      ],
      "metadata": {
        "id": "uFTm8I-cSkLi"
      }
    },
    {
      "cell_type": "code",
      "source": [
        "%%R\n",
        "glm_h2o@model$coefficients_table"
      ],
      "metadata": {
        "colab": {
          "base_uri": "https://localhost:8080/"
        },
        "id": "1TO5oa0sSkVZ",
        "outputId": "0608c234-1764-4224-ceac-416c9c7d39f3"
      },
      "execution_count": null,
      "outputs": [
        {
          "output_type": "stream",
          "name": "stdout",
          "text": [
            "Coefficients: glm coefficients\n",
            "             names coefficients std_error   z_value  p_value\n",
            "1        Intercept     7.563940  2.735241  2.765365 0.006285\n",
            "2     Land_type.HL    -1.169196  0.655496 -1.783683 0.076179\n",
            "3    Land_type.MHL     0.000000        NA        NA       NA\n",
            "4              WAs     0.851470  3.446239  0.247072 0.805137\n",
            "5               WP     0.000000        NA        NA       NA\n",
            "6              WFe     0.253077  0.136176  1.858451 0.064756\n",
            "7              WEc     0.000000        NA        NA       NA\n",
            "8              WpH     0.000000        NA        NA       NA\n",
            "9             SPAs     2.550033  0.139816 18.238432 0.000000\n",
            "10           SAoFe     0.000000        NA        NA       NA\n",
            "11             SpH     0.000000        NA        NA       NA\n",
            "12             SOC    -1.130712  1.003589 -1.126669 0.261399\n",
            "13            Sand     0.000000        NA        NA       NA\n",
            "14            Silt    -0.037913  0.033405 -1.134943 0.257925\n",
            "15              SP     0.000000        NA        NA       NA\n",
            "16       Elevation     0.009971  0.197088  0.050594 0.959706\n",
            "17 Year_Irrigation     0.208925  0.063757  3.276904 0.001262\n",
            "18   Diastance_STW     0.000000        NA        NA       NA\n",
            "   standardized_coefficients\n",
            "1                  18.634311\n",
            "2                  -1.169196\n",
            "3                   0.000000\n",
            "4                   0.062176\n",
            "5                   0.000000\n",
            "6                   0.478716\n",
            "7                   0.000000\n",
            "8                   0.000000\n",
            "9                   5.856345\n",
            "10                  0.000000\n",
            "11                  0.000000\n",
            "12                 -0.343263\n",
            "13                  0.000000\n",
            "14                 -0.288985\n",
            "15                  0.000000\n",
            "16                  0.016144\n",
            "17                  0.891626\n",
            "18                  0.000000\n"
          ]
        }
      ]
    },
    {
      "cell_type": "markdown",
      "source": [
        "### Retrieve a graphical plot of the standardized coefficient magnitudes"
      ],
      "metadata": {
        "id": "pHnQakip7y1e"
      }
    },
    {
      "cell_type": "code",
      "source": [
        "%%R\n",
        "h2o.std_coef_plot(glm_h2o)"
      ],
      "metadata": {
        "colab": {
          "base_uri": "https://localhost:8080/",
          "height": 497
        },
        "id": "GPfbNOV97y8f",
        "outputId": "bbb3a999-4be5-4a62-9819-969867539a45"
      },
      "execution_count": null,
      "outputs": [
        {
          "output_type": "display_data",
          "data": {
            "image/png": "[encoded data removed]"
          },
          "metadata": {}
        }
      ]
    },
    {
      "cell_type": "markdown",
      "source": [
        "### Model Performance"
      ],
      "metadata": {
        "id": "pjRUD5ab8DNW"
      }
    },
    {
      "cell_type": "code",
      "source": [
        "%%R\n",
        "# training performance\n",
        "h2o.performance(glm_h2o, h_train)"
      ],
      "metadata": {
        "colab": {
          "base_uri": "https://localhost:8080/"
        },
        "id": "hHBAVs5P8DVi",
        "outputId": "81aff408-482b-4fb0-8898-cc7175bbbba2"
      },
      "execution_count": null,
      "outputs": [
        {
          "output_type": "stream",
          "name": "stdout",
          "text": [
            "H2ORegressionMetrics: glm\n",
            "\n",
            "MSE:  9.851516\n",
            "RMSE:  3.138712\n",
            "MAE:  2.463503\n",
            "RMSLE:  0.1751373\n",
            "Mean Residual Deviance :  9.851516\n",
            "R^2 :  0.8196565\n",
            "Null Deviance :10215.14\n",
            "Null D.o.F. :186\n",
            "Residual Deviance :1842.233\n",
            "Residual D.o.F. :178\n",
            "AIC :978.469\n",
            "\n"
          ]
        }
      ]
    },
    {
      "cell_type": "code",
      "source": [
        "%%R\n",
        "# CV-performance\n",
        "h2o.performance(glm_h2o, xval=TRUE)"
      ],
      "metadata": {
        "colab": {
          "base_uri": "https://localhost:8080/"
        },
        "id": "NFPJfRpOTNzo",
        "outputId": "48446065-cb09-4c30-bcc1-1631dad3eae8"
      },
      "execution_count": null,
      "outputs": [
        {
          "output_type": "stream",
          "name": "stdout",
          "text": [
            "H2ORegressionMetrics: glm\n",
            "** Reported on cross-validation data. **\n",
            "** 10-fold cross-validation on training data (Metrics computed for combined holdout predictions) **\n",
            "\n",
            "MSE:  11.00018\n",
            "RMSE:  3.316651\n",
            "MAE:  2.597646\n",
            "RMSLE:  0.1841643\n",
            "Mean Residual Deviance :  11.00018\n",
            "R^2 :  0.798629\n",
            "Null Deviance :10350.87\n",
            "Null D.o.F. :186\n",
            "Residual Deviance :2057.033\n",
            "Residual D.o.F. :178\n",
            "AIC :999.0924\n",
            "\n"
          ]
        }
      ]
    },
    {
      "cell_type": "code",
      "source": [
        "%%R\n",
        "# test performance\n",
        "h2o.performance(glm_h2o, h_test)"
      ],
      "metadata": {
        "colab": {
          "base_uri": "https://localhost:8080/"
        },
        "id": "01QktXAsTSKZ",
        "outputId": "41908747-20e2-4179-f8f7-31866bb162ad"
      },
      "execution_count": null,
      "outputs": [
        {
          "output_type": "stream",
          "name": "stdout",
          "text": [
            "H2ORegressionMetrics: glm\n",
            "\n",
            "MSE:  11.48531\n",
            "RMSE:  3.388998\n",
            "MAE:  2.636082\n",
            "RMSLE:  0.2033084\n",
            "Mean Residual Deviance :  11.48531\n",
            "R^2 :  0.7852797\n",
            "Null Deviance :4092.168\n",
            "Null D.o.F. :75\n",
            "Residual Deviance :872.8836\n",
            "Residual D.o.F. :67\n",
            "AIC :421.1999\n",
            "\n"
          ]
        }
      ]
    },
    {
      "cell_type": "markdown",
      "source": [
        "### Prediction"
      ],
      "metadata": {
        "id": "AoBKNguM9AUx"
      }
    },
    {
      "cell_type": "code",
      "source": [
        "%%R\n",
        "test.xy<- as.data.frame(h_test)\n",
        "pred.glm <- as.data.frame(h2o.predict(object = glm_h2o, newdata = h_test))\n",
        "test.xy$Pred_SAs<-pred.glm$predict\n",
        "test.lm<-lm(SOC ~ Pred_SAs, test.xy)\n",
        "test.matrics <- cbind(\"RMSE\"=Metrics::rmse(test.xy$SAs, test.xy$Pred_SAs),\n",
        "              \"MAE\"=Metrics::mae(test.xy$SAs, test.xy$Pred_SAs),\n",
        "              \"MSE\"= Metrics::mse(test.xy$SAs, test.xy$Pred_SAs),\n",
        "              \"MDAE\"=Metrics::mdae(test.xy$SAs, test.xy$Pred_SAs),\n",
        "              \"R2\"= summary(test.lm)$r.squared\n",
        "              )\n",
        "test.matrics"
      ],
      "metadata": {
        "colab": {
          "base_uri": "https://localhost:8080/"
        },
        "id": "Il4g_lj39AdW",
        "outputId": "7c3c1f1f-c0d6-469b-bad5-89325ee55301"
      },
      "execution_count": null,
      "outputs": [
        {
          "output_type": "stream",
          "name": "stdout",
          "text": [
            "         RMSE      MAE      MSE     MDAE         R2\n",
            "[1,] 3.388999 2.636082 11.48531 2.086241 0.03723905\n"
          ]
        }
      ]
    },
    {
      "cell_type": "code",
      "source": [
        "%%R -w 400 -h 400 -u px\n",
        "\n",
        "formula<-y~x\n",
        "\n",
        "ggplot(test.xy, aes(SAs,Pred_SAs)) +\n",
        "  geom_point() +\n",
        "  geom_smooth(method = \"lm\")+\n",
        "  stat_poly_eq(use_label(c(\"eq\", \"adj.R2\")), formula = formula) +\n",
        "  ggtitle(\"H2O: Observed vs Predicted Soil As \") +\n",
        "  xlab(\"Observed\") + ylab(\"Predicted\") +\n",
        "  scale_x_continuous(limits=c(0,50), breaks=seq(0, 50, 10))+\n",
        "  scale_y_continuous(limits=c(0,50), breaks=seq(0, 50, 10)) +\n",
        "  # Flip the bars\n",
        "  theme(\n",
        "    panel.background = element_rect(fill = \"grey95\",colour = \"gray75\",size = 0.5, linetype = \"solid\"),\n",
        "    axis.line = element_line(colour = \"grey\"),\n",
        "    plot.title = element_text(size = 14, hjust = 0.5),\n",
        "    axis.title.x = element_text(size = 14),\n",
        "    axis.title.y = element_text(size = 14),\n",
        "    axis.text.x=element_text(size=13, colour=\"black\"),\n",
        "    axis.text.y=element_text(size=13,angle = 90,vjust = 0.5, hjust=0.5, colour='black'))"
      ],
      "metadata": {
        "colab": {
          "base_uri": "https://localhost:8080/",
          "height": 434
        },
        "id": "e_IiKkP79K9u",
        "outputId": "1cfff01f-dc9f-4440-b66f-f15163436353"
      },
      "execution_count": null,
      "outputs": [
        {
          "output_type": "stream",
          "name": "stdout",
          "text": [
            "`geom_smooth()` using formula = 'y ~ x'\n"
          ]
        },
        {
          "output_type": "display_data",
          "data": {
            "image/png": "[encoded data removed]"
          },
          "metadata": {}
        }
      ]
    },
    {
      "cell_type": "markdown",
      "source": [
        "## Summary and Conclusion\n",
        "\n",
        "In this tutorial, we explored different approaches to perform GLM regression analysis in R using various packages. Each package has its own set of advantages and is suitable for different use cases.\n",
        "\n",
        "R-base offers a powerful toolset for building GLM models and conducting diagnostics. If you want to train and evaluate GLM models, Caret simplifies the process, especially when comparing multiple algorithms.\n",
        "\n",
        "Tidymodels, on the other hand, provides a tidy and modular workflow for building complex modeling pipelines. It promotes reproducibility and ease of interpretation, making it a great option for anyone looking for a systematic approach.\n",
        "\n",
        "Lastly, if you're working with large datasets and need to scale GLM models using distributed computing, H2o is ideal. It's a powerful tool that can handle big data with ease.\n",
        "\n",
        "By familiarizing yourself with these different packages, you can choose the most appropriate toolset based on your specific needs. Whether you're looking for simplicity, flexibility, or scalability, you can conduct GLM regression analysis efficiently and effectively.\n",
        "\n"
      ],
      "metadata": {
        "id": "mIRMjL69VPVu"
      }
    },
    {
      "cell_type": "markdown",
      "source": [
        "## References\n",
        "\n",
        "1.  [GLM in R: Generalized Linear Model](https://www.datacamp.com/tutorial/generalized-linear-models)\n",
        "\n",
        "2.  [GLM in R: Generalized Linear Model with Example](https://www.guru99.com/r-generalized-linear-model.html)\n",
        "\n",
        "3.  [caret](https://topepo.github.io/caret/)\n",
        "\n",
        "4.  [tidymodels](https://www.tidymodels.org/)\n",
        "\n",
        "\n"
      ],
      "metadata": {
        "id": "rUHrNY9J9lMg"
      }
    }
  ]
}