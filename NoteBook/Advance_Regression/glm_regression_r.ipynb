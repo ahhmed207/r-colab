{
  "cells": [
    {
      "cell_type": "markdown",
      "metadata": {
        "id": "view-in-github",
        "colab_type": "text"
      },
      "source": [
        "<a href=\"https://colab.research.google.com/github/zia207/r-colab/blob/main/NoteBook/Advance_Regression/glm_regression_r.ipynb\" target=\"_parent\"><img src=\"https://colab.research.google.com/assets/colab-badge.svg\" alt=\"Open In Colab\"/></a>"
      ]
    },
    {
      "cell_type": "markdown",
      "metadata": {
        "id": "KsBkpmP_qjLM"
      },
      "source": [
        "![alt text](http://drive.google.com/uc?export=view&id=1bLQ3nhDbZrCCqy_WCxxckOne2lgVvn3l)"
      ]
    },
    {
      "cell_type": "markdown",
      "metadata": {
        "id": "Dzp9ZseROTcY"
      },
      "source": [
        "# **Generalized Linear Regression Model (Gaussian)**\n",
        "\n",
        "\n",
        "\n"
      ]
    },
    {
      "cell_type": "markdown",
      "metadata": {
        "id": "h0FPXx8mGylY"
      },
      "source": [
        "\n",
        "## Introdduction\n",
        "\n",
        "The Generalized Linear Model (GLM) is a sophisticated extension of linear regression designed to model relationships between a dependent variable and independent variables when the underlying assumptions of linear regression are unmet. The GLM was first introduced by Sir John Nelder and Robert Wedderburn, both acclaimed statisticians, in 1972.\n",
        "\n",
        "The GLM is an essential tool in modern data analysis, as it can be used to model a wide range of data types that may not conform to the assumptions of traditional linear regression. It allows for modeling non-normal distributions, non-linear relationships, and correlations between observations. By utilizing **maximum likelihood estimation (MLE)**, the GLM can also handle missing data and provide accurate estimates even when some observations are missing. This makes it a valuable tool in business and academia, where the ability to model complex relationships accurately is essential.\n",
        "\n",
        "In conclusion, the GLM is a powerful and flexible tool integral to modern data analysis. Its ability to model complex relationships between variables and handle missing data has made it a valuable asset in business and academia.\n",
        "\n",
        "::: callout-note\n",
        "**Maximum Likelihood Estimation (MLE)** is a statistical technique used to estimate the parameters of a model by analyzing the observed data. This method involves finding the optimal values for the model parameters by maximizing the likelihood function. The likelihood function measures how well the model can explain the observed data. The higher the likelihood function, the more accurate the model explains the data. MLE is widely used in fields such as finance, economics, and engineering to create models that can predict future outcomes based on the available data.\n",
        ":::\n",
        "\n",
        "### Key features of Generalized Linear Models:\n",
        "\n",
        "1.  **Link Function:** GLMs are characterized by a **link function** that connects the linear predictor, a combination of independent variables, to the mean of the dependent variable. This connection enables the estimation of the relationship between independent and dependent variables in a non-linear fashion.\n",
        "\n",
        "The selection of a link function in GLMs is contingent upon the nature of the data and the distribution of the response variable. The `identity` link function is utilized when the continuous response variable follows a normal distribution. The `logit` link function is employed when the response variable is binary, meaning it can only take on two values and follows a binomial distribution. The `log` link function is utilized when the response variable is count data and follows a Poisson distribution.\n",
        "\n",
        "Choosing an appropriate link function is a crucial aspect of modeling, as it impacts the interpretation of the estimated coefficients for independent variables. Therefore, a thorough understanding of the nature of the data and the response variable's distribution is necessary when selecting a link function.\n",
        "\n",
        "2.  **Distribution Family:** Unlike linear regression, which assumes a normal distribution for the residuals, GLMs allow for a variety of probability distributions for the response variable. The choice of distribution is based on the characteristics of the data. Commonly used distributions include:\n",
        "\n",
        "    -   **Normal distribution (Gaussian):** For continuous data.\n",
        "\n",
        "    -   **Binomial distribution:** For binary or dichotomous data.\n",
        "\n",
        "    -   **Poisson distribution:** For count data.\n",
        "\n",
        "    -   **Gamma distribution:** For continuous, positive, skewed data.\n",
        "\n",
        "3.  **Variance Function:** GLMs accommodate heteroscedasticity (unequal variances across levels of the independent variables) by allowing the variance of the response variable to be a function of the mean.\n",
        "\n",
        "4.  **Deviance:** Instead of using the sum of squared residuals as in linear regression, GLMs use deviance to measure lack of fit. Deviance compares the fit of the model to a saturated model (a model that perfectly fits the data).\n",
        "\n",
        "The **mathematical expression** of a Generalized Linear Model (GLM) involves the linear predictor, the link function, and the probability distribution of the response variable.\n",
        "\n",
        "Here's the general form of a GLM:\n",
        "\n",
        "1.  **Linear Predictor (η):**\n",
        "\n",
        "    $$ \\eta = \\beta_0 + \\beta_1x_1 + \\beta_2x_2 + \\ldots + \\beta_kx_k $$\n",
        "\n",
        "    where:\n",
        "\n",
        "-   $\\eta$ is the linear predictor,\n",
        "\n",
        "-   $\\beta_0, \\beta_1, \\ldots, \\beta_k$ are the coefficients,\n",
        "\n",
        "-   $x_1, x_2, \\ldots, x_k$ are the independent variables.\n",
        "\n",
        "2.  **Link Function (**g):\n",
        "\n",
        "$$ g(\\mu) = \\eta $$\n",
        "\n",
        "The link function connects the linear predictor to the mean of the response variable. It transforms the mean (μ) to the linear predictor (η). Common link functions include:\n",
        "\n",
        "-   Identity link (for normal distribution):\n",
        "\n",
        "$$ g(\\mu) = \\mu $$\n",
        "\n",
        "-   Logit link (for binary data in logistic regression):\n",
        "\n",
        "$$ g(\\mu) = log(\\frac{\\mu}{1-\\mu}) $$\n",
        "\n",
        "-   Log link(for Poisson regression):\n",
        "\n",
        "$$ g(\\mu) = \\log(\\mu )$$\n",
        "\n",
        "3.  **Probability Distribution:** The response variable follows a probability distribution from the exponential family. The distribution is chosen based on the nature of the data. Common choices include:\n",
        "\n",
        "    -   Normal distribution (Gaussian) for continuous data.\n",
        "\n",
        "    -   Binomial distribution for binary or dichotomous data.\n",
        "\n",
        "    -   Poisson distribution for count data.\n",
        "\n",
        "    -   Gamma distribution for continuous, positive, skewed data.\n",
        "\n",
        "Putting it all together, the probability mass function (PMF) or probability density function (PDF) for the response variable (Y) is expressed as:\n",
        "\n",
        "$$ f(y;\\theta,\\phi) = \\exp\\left(\\frac{y\\theta - b(\\theta)}{a(\\phi)} + c(y,\\phi)\\right) $$\n",
        "\n",
        "where:\n",
        "\n",
        "-   f(y;θ,ϕ) is the PMF or PDF,\n",
        "\n",
        "-   θ is the natural parameter,\n",
        "\n",
        "-   ϕ is the dispersion parameter,\n",
        "\n",
        "-   a(ϕ), b(θ), c(y,ϕ) are known functions.\n",
        "\n",
        "### GLM Models in R\n",
        "\n",
        "If you are using R, the `glm()` function can be used to fit Generalized Linear Models (GLMs). This function allows you to specify the type of response variable and choose the appropriate distribution and link function for your data.\n",
        "\n",
        "The basic form of the glm function is:\n",
        "\n",
        "> glm(formula , family= familytype(link=linkfunction), data=)\n",
        "\n",
        "Family objects are a convenient way to specify the models used by functions like `glm()`. See `help(family)` for other allowable `link` functions for each family.\n",
        "\n",
        "`binomial(link = \"logit\")`\n",
        "\n",
        "`gaussian(link = \"identity\")`\n",
        "\n",
        "`Gamma(link = \"inverse\")`\n",
        "\n",
        "`inverse.gaussian(link = \"1/mu\\^2\")`\n",
        "\n",
        "`poisson(link = \"log\")`\n",
        "\n",
        "`quasi(link = \"identity\", variance = \"constant\")`\n",
        "\n",
        "`quasibinomial(link = \"logit\")`\n",
        "\n",
        "`quasipoisson(link = \"log\")`\n",
        "\n",
        "There are several GLM model families depending on the make-up of the response variable. In this tutorial we will discuss four well-known GLM model families using `glm()` function:\n",
        "\n",
        "1.  Fit a GLM regression model using the `gaussian` family\n",
        "\n",
        "model \\<- glm(response_variable \\~ predictor_variable1 + predictor_variable2, family = gaussian(link = \"identity\"), data = data)\n",
        "\n",
        "2.  Fit a logistic regression model using the `binomial` family\n",
        "\n",
        "model \\<- glm(binary_response_variable \\~ predictor_variable1 + predictor_variable2, family = binomial(link = \"logit\"), data = data)\n",
        "\n",
        "3.  Fit a Po regression model using the `poisson` family\n",
        "\n",
        "model \\<- glm(count_response_variable \\~ predictor_variable1 + predictor_variable2, family = poisson(link = \"log\"), data = data)\n",
        "\n",
        "### Linear Regression vs Generalized Linear Models\n",
        "\n",
        "1.  Linear regression assumes that the response variable is normally distributed, while GLMs allow for different distributions, such as binomial or Poisson.\n",
        "\n",
        "2.  Linear regression models the mean of the response variable as a linear function of the predictor variables. In contrast, GLMs model the relationship between the predictor variables and the response variable through a link function and a linear combination of the predictor variables.\n",
        "\n",
        "3.  Linear regression is used for continuous response variables, while GLMs can be used for continuous and categorical response variables.\n",
        "\n",
        "4.  The assumptions of linear regression are more restrictive than those of GLMs, which makes GLMs more flexible and appropriate for a broader range of data.\n",
        "\n",
        "In summary, the GLM combines the linear predictor, link function, and probability distribution to model the relationship between the mean of the response variable and the predictors, allowing for flexibility in handling various data types. The specific form of the GLM will depend on the chosen link function and distribution."
      ]
    },
    {
      "cell_type": "markdown",
      "metadata": {
        "id": "6DjM_eceq9Wv"
      },
      "source": [
        "\n",
        "\n",
        "In this tutorial, you will learn about Generalized Linear Models (GLMs) and how to use them for regression analysis of continuous variables in R. GLMs are a versatile method for modeling the relationship between predictors and continuous response variables. They can accommodate various distributions and nonlinear relationships through link functions. We will explore how to fit GLMs using R-base functions and three popular R packages: [caret](https://cran.r-project.org/web/packages/caret/vignettes/caret.html), [tidymodels](https://www.tidymodels.org/), and [h2o](https://docs.h2o.ai/h2o/latest-stable/h2o-docs/faq/r.html). Each of these packages has unique advantages and functionalities that are tailored to different aspects of model development and deployment.\n",
        "\n",
        "At the end of this tutorial, you will have a comprehensive understanding of how to use these packages for GLM regression analysis, which will enable you to undertake various predictive modeling tasks with efficiency and confidence. Regardless of whether you are new to data science or an experienced practitioner, this tutorial will provide you with valuable insights and practical skills for utilizing GLMs in R for continuous variable prediction."
      ]
    },
    {
      "cell_type": "markdown",
      "metadata": {
        "id": "SDp3ULld8Gb9"
      },
      "source": [
        "## Install rpy2"
      ]
    },
    {
      "cell_type": "code",
      "execution_count": 3,
      "metadata": {
        "id": "CiM6y-Mw8AJp",
        "colab": {
          "base_uri": "https://localhost:8080/"
        },
        "outputId": "8f7f25c7-786c-46fe-f632-bc586d0e3731"
      },
      "outputs": [
        {
          "output_type": "stream",
          "name": "stdout",
          "text": [
            "Found existing installation: rpy2 3.4.2\n",
            "Uninstalling rpy2-3.4.2:\n",
            "  Successfully uninstalled rpy2-3.4.2\n",
            "Collecting rpy2==3.5.1\n",
            "  Downloading rpy2-3.5.1.tar.gz (201 kB)\n",
            "\u001b[2K     \u001b[90m━━━━━━━━━━━━━━━━━━━━━━━━━━━━━━━━━━━━━━━━\u001b[0m \u001b[32m201.7/201.7 kB\u001b[0m \u001b[31m5.3 MB/s\u001b[0m eta \u001b[36m0:00:00\u001b[0m\n",
            "\u001b[?25h  Preparing metadata (setup.py) ... \u001b[?25l\u001b[?25hdone\n",
            "Requirement already satisfied: cffi>=1.10.0 in /usr/local/lib/python3.10/dist-packages (from rpy2==3.5.1) (1.17.1)\n",
            "Requirement already satisfied: jinja2 in /usr/local/lib/python3.10/dist-packages (from rpy2==3.5.1) (3.1.4)\n",
            "Requirement already satisfied: pytz in /usr/local/lib/python3.10/dist-packages (from rpy2==3.5.1) (2024.2)\n",
            "Requirement already satisfied: tzlocal in /usr/local/lib/python3.10/dist-packages (from rpy2==3.5.1) (5.2)\n",
            "Requirement already satisfied: pycparser in /usr/local/lib/python3.10/dist-packages (from cffi>=1.10.0->rpy2==3.5.1) (2.22)\n",
            "Requirement already satisfied: MarkupSafe>=2.0 in /usr/local/lib/python3.10/dist-packages (from jinja2->rpy2==3.5.1) (2.1.5)\n",
            "Building wheels for collected packages: rpy2\n",
            "  Building wheel for rpy2 (setup.py) ... \u001b[?25l\u001b[?25hdone\n",
            "  Created wheel for rpy2: filename=rpy2-3.5.1-cp310-cp310-linux_x86_64.whl size=314950 sha256=da4d3e535a8bdfe6b642f7b9e7cab5db539784bc61c807e1e139bbbf0b099646\n",
            "  Stored in directory: /root/.cache/pip/wheels/73/a6/ff/4e75dd1ce1cfa2b9a670cbccf6a1e41c553199e9b25f05d953\n",
            "Successfully built rpy2\n",
            "Installing collected packages: rpy2\n",
            "Successfully installed rpy2-3.5.1\n"
          ]
        }
      ],
      "source": [
        "!pip uninstall rpy2 -y\n",
        "!pip install rpy2==3.5.1\n",
        "%load_ext rpy2.ipython"
      ]
    },
    {
      "cell_type": "markdown",
      "metadata": {
        "id": "O1zeuaCowiBt"
      },
      "source": [
        "## Mount Google Drive"
      ]
    },
    {
      "cell_type": "code",
      "execution_count": 1,
      "metadata": {
        "colab": {
          "base_uri": "https://localhost:8080/"
        },
        "id": "9J-4ie4bwiJ1",
        "outputId": "1db9a6f6-0686-4ea0-8dd1-f3c47b21be3f"
      },
      "outputs": [
        {
          "output_type": "stream",
          "name": "stdout",
          "text": [
            "Mounted at /content/drive\n"
          ]
        }
      ],
      "source": [
        "from google.colab import drive\n",
        "drive.mount('/content/drive')"
      ]
    },
    {
      "cell_type": "markdown",
      "metadata": {
        "id": "i1pXhyYzY2gW"
      },
      "source": [
        "## Install necessary Python libraries"
      ]
    },
    {
      "cell_type": "code",
      "execution_count": null,
      "metadata": {
        "collapsed": true,
        "id": "mCyBMWOqY2p_"
      },
      "outputs": [],
      "source": [
        "!sudo apt-get install \\\n",
        "libssl-dev \\\n",
        "libcurl4-openssl-dev \\\n",
        "unixodbc-dev \\\n",
        "libxml2-dev \\\n",
        "libmariadb-dev \\\n",
        "libfontconfig1-dev \\\n",
        "libharfbuzz-dev \\\n",
        "libfribidi-dev \\\n",
        "libfreetype6-dev \\\n",
        "libpng-dev \\\n",
        "libtiff5-dev \\\n",
        "libjpeg-dev \\\n",
        "libcairo2-dev \\\n",
        "libgmp-dev \\\n",
        "libmpfr-dev \\\n",
        "liblapack-dev \\\n",
        "libcairo2-dev \\\n",
        "libzmq3-dev \\\n",
        "libharfbuzz-dev \\\n",
        "libpng-dev \\\n",
        "build-essential \\\n",
        "libcairo2-dev \\\n",
        "libmpfr-dev \\\n",
        "cmake \\\n",
        "gfortran\n"
      ]
    },
    {
      "cell_type": "code",
      "execution_count": null,
      "metadata": {
        "collapsed": true,
        "id": "SIpnpdxtqPBn"
      },
      "outputs": [],
      "source": [
        "!sudo apt-get install ghostscript\n",
        "!sudo add-apt-repository ppa:dns/gnu\n",
        "!sudo apt-get update\n",
        "!sudo apt install libgsl-dev"
      ]
    },
    {
      "cell_type": "markdown",
      "metadata": {
        "id": "yXu-XY0mw1A8"
      },
      "source": [
        "## Check and Install Required R Packages"
      ]
    },
    {
      "cell_type": "code",
      "execution_count": null,
      "metadata": {
        "collapsed": true,
        "id": "TeYB57l0wz5N"
      },
      "outputs": [],
      "source": [
        "%%R\n",
        "pkg <- c(\n",
        "\t\t 'devtools',\n",
        "\t   'remotes',\n",
        "\t\t 'tidyverse',\n",
        "     'plyr',\n",
        "\t\t 'gt',\n",
        "\t\t 'gtsummary',\n",
        "\t\t 'rstatix',\n",
        "\t  'report',\n",
        "\t\t 'performance',\n",
        "\t\t 'jtools',\n",
        "\t\t 'margins',\n",
        "\t\t 'marginaleffects',\n",
        "\t\t 'ggeffects',\n",
        "\t\t 'patchwork',\n",
        "\t\t 'Metrics',\n",
        "\t\t 'ggpmisc',\n",
        "\t\t 'caret',\n",
        "\t\t 'tidymodels',\n",
        "     'RColorBrewer'\n",
        "      )\n",
        "new.packages <- pkg[!(pkg %in% installed.packages(lib='drive/My Drive/R/')[,\"Package\"])]\n",
        "if(length(new.packages)) install.packages(new.packages, lib='drive/My Drive/R/')\n"
      ]
    },
    {
      "cell_type": "code",
      "execution_count": null,
      "metadata": {
        "collapsed": true,
        "id": "-XAGJJYDwQYF"
      },
      "outputs": [],
      "source": [
        "%%R\n",
        "install.packages(c\n",
        "(\"gsl\", \"enery\"), lib='drive/My Drive/R/')\n",
        "devtools::install_github(\"adriancorrendo/metrica\", lib='drive/My Drive/R/')"
      ]
    },
    {
      "cell_type": "markdown",
      "metadata": {
        "id": "MV7R29xfyWQz"
      },
      "source": [
        "## Load packages"
      ]
    },
    {
      "cell_type": "code",
      "execution_count": null,
      "metadata": {
        "collapsed": true,
        "id": "232jNAHBykUL"
      },
      "outputs": [],
      "source": [
        "%%R\n",
        "# set library path\n",
        ".libPaths('drive/My Drive/R')\n",
        "library(tidyverse)\n",
        "library(plyr)\n",
        "library(gt)\n",
        "library(rstatix)\n",
        "library(gtsummary)\n",
        "library(report)\n",
        "library(performance)\n",
        "library(jtools)\n",
        "library(margins)\n",
        "library(marginaleffects)\n",
        "library(ggeffects)\n",
        "library(patchwork)\n",
        "library(Metrics)\n",
        "#library(metrica)\n",
        "library(ggpmisc)\n",
        "library(RColorBrewer)"
      ]
    },
    {
      "cell_type": "markdown",
      "metadata": {
        "id": "WViZ3IdLrzNs"
      },
      "source": [
        "## Data\n",
        "\n",
        "Our goal is to develop a GLM regression model to predict paddy soil arsenic (`SAs`) concentration using various irrigation water and soil properties. We have available data of 263 paired groundwater and paddy soil samples from arsenic contaminated areas in Tala Upazilla, Satkhira district, Bangladesh. This data was utilized in a publication titled \"Factors Affecting Paddy Soil Arsenic Concentration in Bangladesh: Prediction and Uncertainty of Geostatistical Risk Mapping\" which can be accessed via the this [URL](https://doi.org/10.1016/j.scitotenv.2011.10.008)\n",
        "\n",
        "Full data set is available for download can download from my [Dropbox](https://www.dropbox.com/scl/fo/2rh6r68i9cxmgortvbw8q/h?rlkey=bvntt66n9mcywprmdki08ch3r&dl=0) or from my [Github](https://github.com/zia207/r-colab/tree/main/Data/Regression_analysis) accounts.\n",
        "\n",
        "We will use `read_csv()` function of **readr** package to import data as a **tidy** data."
      ]
    },
    {
      "cell_type": "code",
      "execution_count": 5,
      "metadata": {
        "colab": {
          "base_uri": "https://localhost:8080/"
        },
        "id": "CFpt_H01OPsa",
        "outputId": "18b8388c-0414-4228-df3a-970345e3513c"
      },
      "outputs": [
        {
          "output_type": "stream",
          "name": "stdout",
          "text": [
            "Rows: 263 Columns: 29\n",
            "── Column specification ────────────────────────────────────────────────────────\n",
            "Delimiter: \",\"\n",
            "chr  (1): Land_type\n",
            "dbl (28): ID, Longitude, Latitude, WAs, WP, WFe, WEc, WpH, WMg, WNa, WCa, WK...\n",
            "\n",
            "ℹ Use `spec()` to retrieve the full column specification for this data.\n",
            "ℹ Specify the column types or set `show_col_types = FALSE` to quiet this message.\n",
            "Rows: 26 Columns: 2\n",
            "── Column specification ────────────────────────────────────────────────────────\n",
            "Delimiter: \",\"\n",
            "chr (2): Variables, Description\n",
            "\n",
            "ℹ Use `spec()` to retrieve the full column specification for this data.\n",
            "ℹ Specify the column types or set `show_col_types = FALSE` to quiet this message.\n"
          ]
        }
      ],
      "source": [
        "%%R\n",
        "mf<-read_csv(\"https://github.com/zia207/r-colab/raw/main/Data/Regression_analysis/bd_soil_arsenic.csv\")\n",
        "meta.as<-read_csv(\"https://github.com/zia207/r-colab/raw/main/Data/Regression_analysis/bd_soil_arsenic_meta_data.csv\")"
      ]
    },
    {
      "cell_type": "code",
      "execution_count": null,
      "metadata": {
        "colab": {
          "base_uri": "https://localhost:8080/"
        },
        "id": "HZIK9ZV7zZKI",
        "outputId": "fd4fc5c0-fb66-4d61-bacf-55455635fe5d"
      },
      "outputs": [
        {
          "output_type": "stream",
          "name": "stdout",
          "text": [
            "# A tibble: 26 × 2\n",
            "   Variables Description              \n",
            "   <chr>     <chr>                    \n",
            " 1 WAs       Irrigation water  Arsenic\n",
            " 2 WP        Irrigation water P       \n",
            " 3 WFe       Irrigation water  Fe     \n",
            " 4 WEc       Irrigation water Ec      \n",
            " 5 WpH       Irrigation water  pH     \n",
            " 6 WMg       Irrigation water  Mg     \n",
            " 7 WNa       Irrigation water Na      \n",
            " 8 WCa       Irrigation water  Ca     \n",
            " 9 WK        Irrigation water K       \n",
            "10 WS        Irrigation water  S      \n",
            "# ℹ 16 more rows\n",
            "# ℹ Use `print(n = ...)` to see more rows\n"
          ]
        }
      ],
      "source": [
        "%%R\n",
        "meta.as"
      ]
    },
    {
      "cell_type": "markdown",
      "metadata": {
        "id": "mLGsopcHr_Qn"
      },
      "source": [
        "## Data Exploration"
      ]
    },
    {
      "cell_type": "markdown",
      "metadata": {
        "id": "i3NV_wzZzyd7"
      },
      "source": [
        "### Summary Statistics"
      ]
    },
    {
      "cell_type": "code",
      "execution_count": 6,
      "metadata": {
        "colab": {
          "base_uri": "https://localhost:8080/"
        },
        "id": "C4Q559D8z6vd",
        "outputId": "ced2edb3-ab16-4bb0-fb26-0800b3c6e1ca"
      },
      "outputs": [
        {
          "output_type": "stream",
          "name": "stdout",
          "text": [
            "# A tibble: 15 × 10\n",
            "   variable      n     min     max  median     iqr    mean      sd     se     ci\n",
            "   <fct>     <dbl>   <dbl>   <dbl>   <dbl>   <dbl>   <dbl>   <dbl>  <dbl>  <dbl>\n",
            " 1 WAs         263 1.1 e-2 4.58e-1 1.19e-1   0.1      0.13   0.079  0.005  0.01 \n",
            " 2 WP          263 2.16e-1 2.70e+0 1.09e+0   0.456    1.11   0.368  0.023  0.045\n",
            " 3 WFe         263 1.78e+0 1.10e+1 5.06e+0   2.64     5.29   1.97   0.121  0.239\n",
            " 4 WEc         263 3.9 e-1 4.16e+0 1.08e+0   0.84     1.30   0.712  0.044  0.086\n",
            " 5 WpH         263 6.58e+0 7.56e+0 7.01e+0   0.18     7.01   0.14   0.009  0.017\n",
            " 6 SAoFe       263 1   e+3 4.94e+3 2.57e+3 565     2597.   626.    38.6   76.0  \n",
            " 7 SpH         263 6.54e+0 8.71e+0 8.17e+0   0.35     8.12   0.309  0.019  0.038\n",
            " 8 SOC         263 5.4 e-1 2.64e+0 1.35e+0   0.33     1.36   0.307  0.019  0.037\n",
            " 9 Sand        263 4.9 e+0 2.79e+1 1.2 e+1   2.1     12.1    3.00   0.185  0.365\n",
            "10 Silt        263 1.63e+1 7.01e+1 4.56e+1   6.75    44.5    8.03   0.495  0.975\n",
            "11 SP          263 2.43e+0 5.23e+1 1.54e+1   3.61    15.6    5.9    0.364  0.716\n",
            "12 Elevation   263 1   e+0 9   e+0 4   e+0   2        4.28   1.71   0.105  0.208\n",
            "13 Year_Irr…   263 1   e+0 2   e+1 6   e+0   6        7.02   4.16   0.257  0.506\n",
            "14 Distance…   263 3   e+0 4.5 e+1 9   e+0   5        9.50   6.14   0.378  0.745\n",
            "15 SAs         263 4.7 e+0 5.18e+1 1.72e+1   9.35    17.9    7.39   0.456  0.897\n"
          ]
        }
      ],
      "source": [
        "%%R\n",
        "mf |>\n",
        "  # select variables\n",
        "  dplyr::select (WAs, WP, WFe,\n",
        "                WEc, WpH, SAoFe, SpH, SOC,\n",
        "                Sand, Silt, SP, Elevation,\n",
        "                Year_Irrigation, Distance_STW,\n",
        "                SAs) |>\n",
        "  rstatix::get_summary_stats (type = \"common\")"
      ]
    },
    {
      "cell_type": "markdown",
      "metadata": {
        "id": "Udd_zNxe0CZV"
      },
      "source": [
        "### Correlation"
      ]
    },
    {
      "cell_type": "code",
      "execution_count": 7,
      "metadata": {
        "colab": {
          "base_uri": "https://localhost:8080/"
        },
        "id": "-c5oHdvp0Cma",
        "outputId": "849cf412-eba0-4233-e7c4-a19f460b56b0"
      },
      "outputs": [
        {
          "output_type": "stream",
          "name": "stdout",
          "text": [
            "# A tibble: 14 × 8\n",
            "   var1  var2               cor statistic        p conf.low conf.high method \n",
            "   <chr> <chr>            <dbl>     <dbl>    <dbl>    <dbl>     <dbl> <chr>  \n",
            " 1 SAs   WAs              0.24      3.91  1.18e- 4  0.118      0.346  Pearson\n",
            " 2 SAs   WP               0.15      2.48  1.38e- 2  0.0313     0.268  Pearson\n",
            " 3 SAs   WFe              0.32      5.47  1.03e- 7  0.208      0.425  Pearson\n",
            " 4 SAs   WEc              0.15      2.38  1.81e- 2  0.0251     0.262  Pearson\n",
            " 5 SAs   WpH             -0.014    -0.232 8.17e- 1 -0.135      0.107  Pearson\n",
            " 6 SAs   SAoFe           -0.11     -1.77  7.87e- 2 -0.227      0.0125 Pearson\n",
            " 7 SAs   SpH              0.019     0.311 7.56e- 1 -0.102      0.140  Pearson\n",
            " 8 SAs   SOC              0.34      5.81  1.79e- 8  0.227      0.441  Pearson\n",
            " 9 SAs   Sand            -0.074    -1.21  2.29e- 1 -0.194      0.0470 Pearson\n",
            "10 SAs   Silt            -0.26     -4.42  1.47e- 5 -0.373     -0.147  Pearson\n",
            "11 SAs   SP               0.13      2.08  3.9 e- 2  0.00654    0.245  Pearson\n",
            "12 SAs   Elevation       -0.34     -5.85  1.45e- 8 -0.443     -0.229  Pearson\n",
            "13 SAs   Year_Irrigation  0.53     10.0   2.94e-20  0.434      0.610  Pearson\n",
            "14 SAs   Distance_STW    -0.2      -3.32  1.04e- 3 -0.314     -0.0821 Pearson\n"
          ]
        }
      ],
      "source": [
        "%%R\n",
        "mf |>\n",
        "  # select variables\n",
        "  dplyr::select (WAs, WP, WFe,\n",
        "                WEc, WpH, SAoFe, SpH, SOC,\n",
        "                Sand, Silt, SP, Elevation,\n",
        "                Year_Irrigation, Distance_STW,\n",
        "                SAs) |>\n",
        "  rstatix::cor_test (SAs)"
      ]
    },
    {
      "cell_type": "markdown",
      "metadata": {
        "id": "XxiTQGOn0NOi"
      },
      "source": [
        "### Boxplot and Jitter Plots"
      ]
    },
    {
      "cell_type": "code",
      "execution_count": null,
      "metadata": {
        "colab": {
          "base_uri": "https://localhost:8080/",
          "height": 417
        },
        "id": "Dpyh0M5x0NXv",
        "outputId": "deb8d35f-1871-4f8a-a50d-3a6da1f686b5"
      },
      "outputs": [
        {
          "output_type": "display_data",
          "data": {
            "image/png": "[encoded data removed]"
          },
          "metadata": {}
        }
      ],
      "source": [
        "%%R -w 450 -h 400 -u px\n",
        "\n",
        "# Create a custom color\n",
        "rgb.palette <- colorRampPalette(c(\"red\",\"yellow\",\"green\", \"blue\"),\n",
        "space = \"rgb\")\n",
        "\n",
        "# Create plot\n",
        "ggplot(mf, aes(y=SAs, x=Land_type)) +\n",
        "  geom_point(aes(colour=WAs),size = I(1.7),\n",
        "             position=position_jitter(width=0.05, height=0.05)) +\n",
        "  geom_boxplot(fill=NA, outlier.colour=NA) +\n",
        "  labs(title=\"\")+\n",
        "  # Change figure orientation\n",
        "  coord_flip()+\n",
        "  # add custom color plate and legend title\n",
        "  scale_colour_gradientn(name=\"Water As (mg/kg)\", colours =rgb.palette(10))+\n",
        "  theme(legend.text = element_text(size = 10),legend.title = element_text(size = 12))+\n",
        "  # add y-axis title and x-axis title leave blank\n",
        "  labs(y=\"Soil As (mg/kg)\", x = \"\")+\n",
        "  # add plot title\n",
        "  ggtitle(\"Soil As in relation to Water As in two Landtypes\")+\n",
        "  # customize plot themes\n",
        "  theme(\n",
        "        axis.line = element_line(colour = \"black\"),\n",
        "        # plot title position at center\n",
        "        plot.title = element_text(hjust = 0.5),\n",
        "        # axis title font size\n",
        "        axis.title.x = element_text(size = 12),\n",
        "        # X and  axis font size\n",
        "        axis.text.y=element_text(size=10,vjust = 0.5, hjust=0.5, colour='black'),\n",
        "        axis.text.x = element_text(size=12))\n"
      ]
    },
    {
      "cell_type": "markdown",
      "metadata": {
        "id": "Nm9xZd9T1lvW"
      },
      "source": [
        "## GLM regression model with R-base\n",
        "\n",
        "IIn R, the `glm()` function with `family = gaussian(link = \"identity\")` can be used to fit Generalized Linear Model (GLM) for a continuous response variable. We will fit a GLM model to predict `SAs` concentration irrigation water and paddy soil properties.\n",
        "\n",
        "> glm(formula , family = gaussian(link = \"identity\"), data=)\n",
        "\n",
        "We will fit a GLM model to predict `SAs` concentration irrgation water and paddy soil properties."
      ]
    },
    {
      "cell_type": "markdown",
      "metadata": {
        "id": "iagEUBtD1pNf"
      },
      "source": [
        "### Feature Engineering\n",
        "\n",
        "Feature engineering is a vital task in the data preparation process for data analysis, particularly for machine learning models. It is the practice of creating new features from existing ones or transforming them to enhance the machine learning algorithm's performance. Doing so makes achieving higher accuracy, better generalization, and a more straightforward interpretation of the model possible. Some standard techniques used in feature engineering include dimensionality reduction, feature scaling, and feature extraction. When performing feature engineering, it is essential to consider the data type, distribution, and target variable, among other factors.\n",
        "\n",
        "We will apply following operation before fit a GLM regression model.\n",
        "\n",
        "1.  Create new features: We will create a new feature (Sand_Silt) by adding soil Silt and Sand percentage\n",
        "\n",
        "2.  Convert to factors: As Land_type is categorical variable representing distinct categories rather than numerical values, we need to convert them into factors. This process will allow us to analyze and interpret the data more accurately, facilitating a better understanding of the underlying patterns and trends.\n",
        "\n",
        "3.  Data normalization: It is a technique used in data analysis and machine learning. It involves adjusting numerical values to a standard range, usually between 0 and 1 or with a mean of 0 and a standard deviation of 1. This helps to improve the efficiency and accuracy of machine learning algorithms. Data normalization is important because it helps machine learning models work better. By standardizing the data, the models can more easily identify patterns and relationships in the data, which leads to better predictions and results."
      ]
    },
    {
      "cell_type": "code",
      "execution_count": 8,
      "metadata": {
        "colab": {
          "base_uri": "https://localhost:8080/"
        },
        "id": "JANYSDcf2NfV",
        "outputId": "5c4f087a-908d-4c71-fc2a-9014aec2fc81"
      },
      "outputs": [
        {
          "output_type": "stream",
          "name": "stdout",
          "text": [
            "Rows: 263\n",
            "Columns: 15\n",
            "$ WAs             <dbl> 0.059, 0.059, 0.079, 0.122, 0.072, 0.042, 0.075, 0.064…\n",
            "$ WP              <dbl> 0.761, 1.194, 1.317, 1.545, 0.966, 1.058, 0.868, 0.890…\n",
            "$ WFe             <dbl> 3.44, 4.93, 9.70, 8.58, 4.78, 6.95, 7.81, 8.14, 8.99, …\n",
            "$ WEc             <dbl> 1.03, 1.07, 1.40, 0.83, 1.42, 1.82, 1.71, 1.74, 1.57, …\n",
            "$ WpH             <dbl> 7.03, 7.06, 6.84, 6.85, 6.95, 6.89, 6.86, 6.98, 6.82, …\n",
            "$ SAoFe           <dbl> 2500, 2670, 2160, 2500, 2060, 2500, 2520, 2140, 2150, …\n",
            "$ SpH             <dbl> 7.74, 7.87, 8.03, 8.07, 7.81, 7.77, 7.66, 7.89, 8.00, …\n",
            "$ SOC             <dbl> 1.66, 1.26, 1.36, 1.61, 1.26, 1.74, 1.71, 1.69, 1.41, …\n",
            "$ SP              <dbl> 13.79, 15.31, 15.54, 16.28, 14.20, 13.41, 13.26, 14.84…\n",
            "$ Elevation       <dbl> 3, 5, 4, 3, 5, 2, 2, 3, 3, 3, 2, 5, 6, 6, 5, 5, 4, 6, …\n",
            "$ Year_Irrigation <dbl> 14, 20, 10, 8, 10, 9, 8, 10, 8, 2, 20, 4, 15, 10, 5, 4…\n",
            "$ Distance_STW    <dbl> 5, 6, 5, 8, 5, 5, 10, 8, 10, 8, 5, 5, 9, 5, 10, 10, 12…\n",
            "$ Silt_Sand       <dbl> 61.1, 59.8, 58.7, 56.3, 63.0, 60.3, 60.2, 54.5, 57.5, …\n",
            "$ Land_type       <fct> MHL, MHL, MHL, MHL, MHL, MHL, MHL, MHL, MHL, MHL, MHL,…\n",
            "$ SAs             <dbl> 29.10, 45.10, 23.20, 23.80, 26.00, 25.60, 26.30, 31.60…\n"
          ]
        }
      ],
      "source": [
        "%%R\n",
        "df <- mf |>\n",
        "  # select variables\n",
        "  dplyr::select (WAs, WP, WFe,\n",
        "                WEc, WpH, SAoFe, SpH, SOC,\n",
        "                Sand, Silt, SP, Elevation,\n",
        "                Year_Irrigation, Distance_STW,\n",
        "                Land_type, SAs) |>\n",
        "   # convert to factor\n",
        "   dplyr::mutate_at(vars(Land_type), funs(factor))  |>\n",
        "   # create a variable\n",
        "   dplyr::mutate (Silt_Sand = Silt+Sand)  |>\n",
        "   # drop two variables\n",
        "   dplyr::select(-c(Silt,Sand)) |>\n",
        "   # relocate or organized variable\n",
        "   dplyr::relocate(SAs, .after=Silt_Sand) |>\n",
        "   dplyr::relocate(Land_type, .after=Silt_Sand) |>\n",
        "   # normalize the all numerical features\n",
        "   #dplyr::mutate_at(1:13,  funs((.-min(.))/max(.-min(.)))) |>\n",
        "   glimpse()"
      ]
    },
    {
      "cell_type": "markdown",
      "metadata": {
        "id": "WWLOzlOe2YPv"
      },
      "source": [
        "### Split data to training and test\n",
        "\n",
        "We will use the `ddply()` function of the **plyr** package to split soil carbon datainto homogeneous subgroups using **stratified random sampling**. This method involves dividing the population into strata and taking random samples from each stratum to ensure that each subgroup is proportionally represented in the sample. The goal is to obtain a representative sample of the population by adequately representing each stratum.\n"
      ]
    },
    {
      "cell_type": "code",
      "execution_count": 9,
      "metadata": {
        "id": "RpMxXBXY2ZVA"
      },
      "outputs": [],
      "source": [
        "%%R\n",
        "seeds = 11076\n",
        "tr_prop = 0.70\n",
        "# training data (70% data)\n",
        "train= ddply(df,.(Land_type),\n",
        "                 function(., seed) { set.seed(seed); .[sample(1:nrow(.), trunc(nrow(.) * tr_prop)), ] }, seed = 101)\n",
        "test = ddply(df, .(Land_type),\n",
        "            function(., seed) { set.seed(seed); .[-sample(1:nrow(.), trunc(nrow(.) * tr_prop)), ] }, seed = 101)"
      ]
    },
    {
      "cell_type": "markdown",
      "metadata": {
        "id": "tLOhL6P_2nqP"
      },
      "source": [
        "**Stratified random sampling** is a technique for selecting a representative sample from a population, where the sample is chosen in a way that ensures that certain subgroups within the population are adequately represented in the sample."
      ]
    },
    {
      "cell_type": "markdown",
      "metadata": {
        "id": "nDrDY2n63wDp"
      },
      "source": [
        "### Fit a GLM Regression Model\n",
        "\n",
        "In the context of a GLM with continuous response variables, the focus is on regression problems where the dependent variable, which is being predicted, is continuous. This implies that the variable can take any value within a specific range, and the objective is to identify a correlation between the dependent variable and the independent variables that can be used to make accurate predictions.\n",
        "\n",
        "To create a `GLM` (continuous response variables) in `R`, we will use the `glm()` function with `family=gaussian(link = \"identity\")`. The `SAs` variable will be used as a response variable, while all the other variables in the `train` will serve as predictors\n"
      ]
    },
    {
      "cell_type": "code",
      "execution_count": 10,
      "metadata": {
        "id": "lcZ2Bqk23yWO"
      },
      "outputs": [],
      "source": [
        "%%R\n",
        "fit.glm<-glm(SAs~.,train,\n",
        "             family= gaussian(link = \"identity\")\n",
        "             )"
      ]
    },
    {
      "cell_type": "markdown",
      "metadata": {
        "id": "pND9obXb35Oy"
      },
      "source": [
        "### Model Summary\n",
        "\n",
        " The `summary()` function provides a summary of the fitted GLM model, including coefficients, standard errors, t-values, and p-values, among other statistics. This summary can help you interpret the relationship between the predictors and the response variable."
      ]
    },
    {
      "cell_type": "code",
      "execution_count": 11,
      "metadata": {
        "colab": {
          "base_uri": "https://localhost:8080/"
        },
        "id": "vfKARaxg36w8",
        "outputId": "a1557a82-ece2-41b8-8e26-cbdb3ee29f42"
      },
      "outputs": [
        {
          "output_type": "stream",
          "name": "stdout",
          "text": [
            "\n",
            "Call:\n",
            "glm(formula = SAs ~ ., family = gaussian(link = \"identity\"), \n",
            "    data = train)\n",
            "\n",
            "Coefficients:\n",
            "                  Estimate Std. Error t value Pr(>|t|)    \n",
            "(Intercept)     -0.7285499 26.0518562  -0.028 0.977723    \n",
            "WAs             11.7666296  6.2625664   1.879 0.061993 .  \n",
            "WP              -1.3422968  1.1754673  -1.142 0.255110    \n",
            "WFe              0.6589071  0.2414463   2.729 0.007029 ** \n",
            "WEc              0.5274807  0.5938845   0.888 0.375710    \n",
            "WpH              2.0223574  3.2464409   0.623 0.534165    \n",
            "SAoFe           -0.0010864  0.0005924  -1.834 0.068416 .  \n",
            "SpH              0.4987075  1.4610600   0.341 0.733280    \n",
            "SOC              1.2451379  1.5372884   0.810 0.419111    \n",
            "SP               0.1522753  0.0621375   2.451 0.015286 *  \n",
            "Elevation       -0.3070947  0.2940649  -1.044 0.297843    \n",
            "Year_Irrigation  0.7698443  0.0933677   8.245 4.53e-14 ***\n",
            "Distance_STW    -0.1758050  0.0671111  -2.620 0.009609 ** \n",
            "Silt_Sand       -0.1562487  0.0438829  -3.561 0.000481 ***\n",
            "Land_typeMHL     2.5514650  1.0318499   2.473 0.014405 *  \n",
            "---\n",
            "Signif. codes:  0 ‘***’ 0.001 ‘**’ 0.01 ‘*’ 0.05 ‘.’ 0.1 ‘ ’ 1\n",
            "\n",
            "(Dispersion parameter for gaussian family taken to be 25.04025)\n",
            "\n",
            "    Null deviance: 9770.3  on 182  degrees of freedom\n",
            "Residual deviance: 4206.8  on 168  degrees of freedom\n",
            "AIC: 1125\n",
            "\n",
            "Number of Fisher Scoring iterations: 2\n",
            "\n"
          ]
        }
      ],
      "source": [
        "%%R\n",
        "summary(fit.glm)"
      ]
    },
    {
      "cell_type": "markdown",
      "metadata": {
        "id": "31QEa6pU4s6-"
      },
      "source": [
        "The adequacy of a model is typically determined by evaluating the difference between **Null deviance and Residual deviance**, with a larger discrepancy between the two values indicating a better fit. Null deviance denotes the value obtained when the equation comprises solely the intercept without any variables, while Residual deviance denotes the value calculated when all variables are taken into account. The model can be deemed an appropriate fit when the difference between the two values is substantial enough.\n",
        "\n",
        "To obtain the `AIC` (Akaike Information Criterion) values for a GLM model in R, you can use the `AIC()` function applied to the fitted model. The lower the AIC value, the better the model fits the data while penalizing for the number of parameters. You can compare AIC values between different models to assess their relative goodness-of-fit.\n"
      ]
    },
    {
      "cell_type": "code",
      "execution_count": 12,
      "metadata": {
        "colab": {
          "base_uri": "https://localhost:8080/"
        },
        "id": "LZqXSrwM4ut8",
        "outputId": "0b01ab7d-8fb5-4944-8036-6024ae0c8a8f"
      },
      "outputs": [
        {
          "output_type": "stream",
          "name": "stdout",
          "text": [
            "[1] 1125.03\n"
          ]
        }
      ],
      "source": [
        "%%R\n",
        "AIC(fit.glm)"
      ]
    },
    {
      "cell_type": "markdown",
      "metadata": {
        "id": "aJbZqs1B5DLY"
      },
      "source": [
        "### Model  Interpretation\n",
        "\n",
        "You can create a report using `reoport()` function of **report** package"
      ]
    },
    {
      "cell_type": "code",
      "execution_count": 13,
      "metadata": {
        "colab": {
          "base_uri": "https://localhost:8080/"
        },
        "collapsed": true,
        "id": "GvBTAQIv5Qvd",
        "outputId": "852f557a-0f66-4ac9-d101-ee4336a412f1"
      },
      "outputs": [
        {
          "output_type": "stream",
          "name": "stdout",
          "text": [
            "We fitted a linear model (estimated using ML) to predict SAs with WAs, WP, WFe,\n",
            "WEc, WpH, SAoFe, SpH, SOC, SP, Elevation, Year_Irrigation, Distance_STW,\n",
            "Silt_Sand and Land_type (formula: SAs ~ WAs + WP + WFe + WEc + WpH + SAoFe +\n",
            "SpH + SOC + SP + Elevation + Year_Irrigation + Distance_STW + Silt_Sand +\n",
            "Land_type). The model's explanatory power is substantial (R2 = 0.57). The\n",
            "model's intercept, corresponding to WAs = 0, WP = 0, WFe = 0, WEc = 0, WpH = 0,\n",
            "SAoFe = 0, SpH = 0, SOC = 0, SP = 0, Elevation = 0, Year_Irrigation = 0,\n",
            "Distance_STW = 0, Silt_Sand = 0 and Land_type = HL, is at -0.73 (95% CI\n",
            "[-51.79, 50.33], t(168) = -0.03, p = 0.978). Within this model:\n",
            "\n",
            "  - The effect of WAs is statistically non-significant and positive (beta =\n",
            "11.77, 95% CI [-0.51, 24.04], t(168) = 1.88, p = 0.060; Std. beta = 0.13, 95%\n",
            "CI [-5.70e-03, 0.27])\n",
            "  - The effect of WP is statistically non-significant and negative (beta = -1.34,\n",
            "95% CI [-3.65, 0.96], t(168) = -1.14, p = 0.253; Std. beta = -0.07, 95% CI\n",
            "[-0.19, 0.05])\n",
            "  - The effect of WFe is statistically significant and positive (beta = 0.66, 95%\n",
            "CI [0.19, 1.13], t(168) = 2.73, p = 0.006; Std. beta = 0.18, 95% CI [0.05,\n",
            "0.31])\n",
            "  - The effect of WEc is statistically non-significant and positive (beta = 0.53,\n",
            "95% CI [-0.64, 1.69], t(168) = 0.89, p = 0.374; Std. beta = 0.05, 95% CI\n",
            "[-0.06, 0.16])\n",
            "  - The effect of WpH is statistically non-significant and positive (beta = 2.02,\n",
            "95% CI [-4.34, 8.39], t(168) = 0.62, p = 0.533; Std. beta = 0.04, 95% CI\n",
            "[-0.09, 0.17])\n",
            "  - The effect of SAoFe is statistically non-significant and negative (beta =\n",
            "-1.09e-03, 95% CI [-2.25e-03, 7.46e-05], t(168) = -1.83, p = 0.067; Std. beta =\n",
            "-0.10, 95% CI [-0.21, 6.85e-03])\n",
            "  - The effect of SpH is statistically non-significant and positive (beta = 0.50,\n",
            "95% CI [-2.36, 3.36], t(168) = 0.34, p = 0.733; Std. beta = 0.02, 95% CI\n",
            "[-0.10, 0.14])\n",
            "  - The effect of SOC is statistically non-significant and positive (beta = 1.25,\n",
            "95% CI [-1.77, 4.26], t(168) = 0.81, p = 0.418; Std. beta = 0.06, 95% CI\n",
            "[-0.08, 0.19])\n",
            "  - The effect of SP is statistically significant and positive (beta = 0.15, 95%\n",
            "CI [0.03, 0.27], t(168) = 2.45, p = 0.014; Std. beta = 0.13, 95% CI [0.03,\n",
            "0.24])\n",
            "  - The effect of Elevation is statistically non-significant and negative (beta =\n",
            "-0.31, 95% CI [-0.88, 0.27], t(168) = -1.04, p = 0.296; Std. beta = -0.07, 95%\n",
            "CI [-0.21, 0.06])\n",
            "  - The effect of Year Irrigation is statistically significant and positive (beta\n",
            "= 0.77, 95% CI [0.59, 0.95], t(168) = 8.25, p < .001; Std. beta = 0.44, 95% CI\n",
            "[0.34, 0.55])\n",
            "  - The effect of Distance STW is statistically significant and negative (beta =\n",
            "-0.18, 95% CI [-0.31, -0.04], t(168) = -2.62, p = 0.009; Std. beta = -0.15, 95%\n",
            "CI [-0.27, -0.04])\n",
            "  - The effect of Silt Sand is statistically significant and negative (beta =\n",
            "-0.16, 95% CI [-0.24, -0.07], t(168) = -3.56, p < .001; Std. beta = -0.20, 95%\n",
            "CI [-0.31, -0.09])\n",
            "  - The effect of Land type [MHL] is statistically significant and positive (beta\n",
            "= 2.55, 95% CI [0.53, 4.57], t(168) = 2.47, p = 0.013; Std. beta = 0.35, 95% CI\n",
            "[0.07, 0.62])\n",
            "\n",
            "Standardized parameters were obtained by fitting the model on a standardized\n",
            "version of the dataset. 95% Confidence Intervals (CIs) and p-values were\n",
            "computed using a Wald t-distribution approximation.\n"
          ]
        }
      ],
      "source": [
        "%%R\n",
        "report::report(fit.glm)"
      ]
    },
    {
      "cell_type": "markdown",
      "metadata": {
        "id": "9LvWgB985jhR"
      },
      "source": [
        "### Model Performance"
      ]
    },
    {
      "cell_type": "code",
      "execution_count": 14,
      "metadata": {
        "colab": {
          "base_uri": "https://localhost:8080/"
        },
        "id": "xYDEDbhB5jtN",
        "outputId": "6dd1a8f6-a96b-4ec6-e0b0-a7acc30faf59"
      },
      "outputs": [
        {
          "output_type": "stream",
          "name": "stdout",
          "text": [
            "# Indices of model performance\n",
            "\n",
            "AIC      |     AICc |      BIC |    R2 |  RMSE | Sigma\n",
            "------------------------------------------------------\n",
            "1125.030 | 1128.307 | 1176.381 | 0.569 | 4.795 | 5.004\n"
          ]
        }
      ],
      "source": [
        "%%R\n",
        "performance::model_performance(fit.glm)"
      ]
    },
    {
      "cell_type": "markdown",
      "metadata": {
        "id": "-QSMFsp76EzD"
      },
      "source": [
        "### Visualization of model assumptions\n",
        "\n",
        "The package **performance** provides many functions to check model assumptions, like `check_collinearity()`, `check_normality()` or `check_heteroscedasticity()`. To get a comprehensive check, use `check_model()`."
      ]
    },
    {
      "cell_type": "code",
      "execution_count": 15,
      "metadata": {
        "colab": {
          "base_uri": "https://localhost:8080/",
          "height": 817
        },
        "collapsed": true,
        "id": "vxdkmi--6FdO",
        "outputId": "231785aa-1341-4a07-a6cf-cab3b0f83b25"
      },
      "outputs": [
        {
          "output_type": "display_data",
          "data": {
            "image/png": "[encoded data removed]"
          },
          "metadata": {}
        }
      ],
      "source": [
        "%%R -w 750 -h 800 -u px\n",
        "performance::check_model(fit.glm)"
      ]
    },
    {
      "cell_type": "markdown",
      "metadata": {
        "id": "QkZSGYvk7oGD"
      },
      "source": [
        "### Regression Model visualization by jtools\n",
        "\n",
        "The **jtools** package consists of a series of functions to automate visualization regression model.\n"
      ]
    },
    {
      "cell_type": "code",
      "execution_count": null,
      "metadata": {
        "colab": {
          "base_uri": "https://localhost:8080/"
        },
        "id": "VnrcuBSS7o7s",
        "outputId": "d565f169-2971-4b21-eed2-9e9ae62d80cd"
      },
      "outputs": [
        {
          "output_type": "stream",
          "name": "stdout",
          "text": [
            "MODEL INFO:\n",
            "Observations: 183\n",
            "Dependent Variable: SAs\n",
            "Type: Linear regression \n",
            "\n",
            "MODEL FIT:\n",
            "χ²(14) = 5563.54, p = 0.00\n",
            "Pseudo-R² (Cragg-Uhler) = 0.57\n",
            "Pseudo-R² (McFadden) = 0.12\n",
            "AIC = 1125.03, BIC = 1176.38 \n",
            "\n",
            "Standard errors:MLE\n",
            "-----------------------------------------------------\n",
            "                         Est.    S.E.   t val.      p\n",
            "--------------------- ------- ------- -------- ------\n",
            "(Intercept)             -0.73   26.05    -0.03   0.98\n",
            "WAs                     11.77    6.26     1.88   0.06\n",
            "WP                      -1.34    1.18    -1.14   0.26\n",
            "WFe                      0.66    0.24     2.73   0.01\n",
            "WEc                      0.53    0.59     0.89   0.38\n",
            "WpH                      2.02    3.25     0.62   0.53\n",
            "SAoFe                   -0.00    0.00    -1.83   0.07\n",
            "SpH                      0.50    1.46     0.34   0.73\n",
            "SOC                      1.25    1.54     0.81   0.42\n",
            "SP                       0.15    0.06     2.45   0.02\n",
            "Elevation               -0.31    0.29    -1.04   0.30\n",
            "Year_Irrigation          0.77    0.09     8.25   0.00\n",
            "Distance_STW            -0.18    0.07    -2.62   0.01\n",
            "Silt_Sand               -0.16    0.04    -3.56   0.00\n",
            "Land_typeMHL             2.55    1.03     2.47   0.01\n",
            "-----------------------------------------------------\n",
            "\n",
            "Estimated dispersion parameter = 25.04 \n"
          ]
        }
      ],
      "source": [
        "%%R\n",
        "jtools::summ(fit.glm)"
      ]
    },
    {
      "cell_type": "markdown",
      "metadata": {
        "id": "mSkX8UyIyWzq"
      },
      "source": [
        "### Marginal Effects and Adjusted Predictions\n",
        "\n",
        "The presentation of regression models, typically in the form of tables, is widely accepted as a clear and accessible method for interpreting results. However, for more intricate models that incorporate interaction or transformed terms, such as quadratic or spline terms, the use of raw regression coefficients may prove less effective, resulting in challenges when interpreting outcomes. In such cases, adjusted predictions or marginal means provide a more fitting solution. The use of visual aids can also assist in the comprehension of such effects or predictions, providing an intuitive understanding of the relationship between predictors and outcomes, even for complex models.\n",
        "\n",
        "If we want the marginal effects for \"Land_types\", you may use `margins()` function of **margins** package:"
      ]
    },
    {
      "cell_type": "code",
      "execution_count": 16,
      "metadata": {
        "colab": {
          "base_uri": "https://localhost:8080/"
        },
        "id": "vbaAdYJsyY7d",
        "outputId": "3e0ac4e4-98cb-42f5-fc5a-2fda0b9451b4"
      },
      "outputs": [
        {
          "output_type": "stream",
          "name": "stderr",
          "text": [
            "WARNING:rpy2.rinterface_lib.callbacks:R[write to console]: Average marginal effects\n",
            "\n",
            "WARNING:rpy2.rinterface_lib.callbacks:R[write to console]: glm(formula = SAs ~ ., family = gaussian(link = \"identity\"),     data = train)\n",
            "\n",
            "\n"
          ]
        },
        {
          "output_type": "stream",
          "name": "stdout",
          "text": [
            " Land_typeMHL\n",
            "        2.551\n"
          ]
        }
      ],
      "source": [
        "%%R\n",
        "margins::margins(fit.glm, variables = \"Land_type\")"
      ]
    },
    {
      "cell_type": "markdown",
      "metadata": {
        "id": "F61yQa_OyiZl"
      },
      "source": [
        "**Marginal Effects**: These refer to the change in the dependent variable when an independent variable changes by one unit, while holding all other variables constant. In simpler terms, it tells us the impact of a small change in one variable on another variable, assuming everything else remains unchanged. Marginal effects are often calculated using derivatives in mathematical models. hey are not the same as marginal means or adjusted prediction"
      ]
    },
    {
      "cell_type": "markdown",
      "metadata": {
        "id": "R6dP842mylE1"
      },
      "source": [
        "we get the same marginal effect using `avg_slopes()` function from the **marginaleffects** package"
      ]
    },
    {
      "cell_type": "code",
      "execution_count": 17,
      "metadata": {
        "colab": {
          "base_uri": "https://localhost:8080/"
        },
        "id": "XIG6NHwHyl2P",
        "outputId": "9122a716-ca00-491c-8cdd-0c9fada9a9df"
      },
      "outputs": [
        {
          "output_type": "stream",
          "name": "stdout",
          "text": [
            "\n",
            " Estimate Std. Error    z Pr(>|z|)   S 2.5 % 97.5 %\n",
            "     2.55       1.03 2.47   0.0134 6.2 0.529   4.57\n",
            "\n",
            "Term: Land_type\n",
            "Type:  response \n",
            "Comparison: mean(MHL) - mean(HL)\n",
            "Columns: term, contrast, estimate, std.error, statistic, p.value, s.value, conf.low, conf.high, predicted_lo, predicted_hi, predicted \n",
            "\n"
          ]
        }
      ],
      "source": [
        "%%R\n",
        "marginaleffects::avg_slopes(fit.glm, variables = \"Land_type\")"
      ]
    },
    {
      "cell_type": "markdown",
      "metadata": {
        "id": "RbxyyOBkytmh"
      },
      "source": [
        "[ggeffects](https://strengejacke.github.io/ggeffects/) is a user-friendly package that helps to calculate adjusted predictions, also known as estimated marginal means, with ease. It allows you to calculate these predictions at the mean or representative values of covariates from statistical models. Additionally, you can compare pairwise contrasts, test predictions and differences in predictions for statistical significance, and produce visually appealing figures to display the results.\n",
        "\n",
        "![alt text](http://drive.google.com/uc?export=view&id=1s8gWVmKcwHdoJB5ZNufFRWNGWAtz4xCD)\n",
        "\n",
        "\n",
        "The package is built around three core functions:\n",
        "\n",
        "-   `predict_response()` (understand your results)\n",
        "\n",
        "-   `test_predictions()` (check for “significant” results)\n",
        "\n",
        "-   `plot()` (communicate your results)\n",
        "\n",
        "To calculate marginal effects and adjusted predictions, the `predict_response()` function is used. This function can return three types of predictions, namely, conditional effects, marginal effects or marginal means, and average marginal effects or counterfactual predictions. You can set the type of prediction you want by using the `margin` argument."
      ]
    },
    {
      "cell_type": "code",
      "execution_count": 18,
      "metadata": {
        "colab": {
          "base_uri": "https://localhost:8080/"
        },
        "id": "oHyIbtnFztZ8",
        "outputId": "b3f1d548-7df6-48ff-e46c-1787e3ffe2db"
      },
      "outputs": [
        {
          "output_type": "stream",
          "name": "stdout",
          "text": [
            "# Average predicted values of SAs\n",
            "\n",
            "Land_type | Predicted |       95% CI\n",
            "------------------------------------\n",
            "HL        |     16.63 | 15.31, 17.94\n",
            "MHL       |     19.18 | 17.98, 20.37\n",
            "\n"
          ]
        }
      ],
      "source": [
        "%%R\n",
        "effect<-ggeffects::predict_response(fit.glm, \"Land_type\", margin = \"empirical\")\n",
        "effect"
      ]
    },
    {
      "cell_type": "markdown",
      "metadata": {
        "id": "zua7b6b4z0eR"
      },
      "source": [
        "The marginal effects of \"MHL\", relative to \"HL\" is:"
      ]
    },
    {
      "cell_type": "code",
      "execution_count": 19,
      "metadata": {
        "colab": {
          "base_uri": "https://localhost:8080/"
        },
        "id": "BAv1aOyNzzWj",
        "outputId": "8a02c150-f831-422e-9c3d-09e546a68070"
      },
      "outputs": [
        {
          "output_type": "stream",
          "name": "stdout",
          "text": [
            "[1] 2.551465\n"
          ]
        }
      ],
      "source": [
        "%%R\n",
        "effect$predicted[2] - effect$predicted[1]"
      ]
    },
    {
      "cell_type": "markdown",
      "metadata": {
        "id": "QY8N2aLsz7ve"
      },
      "source": [
        "**ggeffects** supports labelled data and the `plot()`- method automatically sets titles, axis - and legend-labels depending on the value and variable labels of the data."
      ]
    },
    {
      "cell_type": "code",
      "execution_count": 20,
      "metadata": {
        "colab": {
          "base_uri": "https://localhost:8080/",
          "height": 617
        },
        "id": "dHVGuPIHz880",
        "outputId": "18e10fa5-4788-45b3-aafd-83e654cda5e6"
      },
      "outputs": [
        {
          "output_type": "display_data",
          "data": {
            "image/png": "[encoded data removed]"
          },
          "metadata": {}
        }
      ],
      "source": [
        "%%R -w 800 -h 600 -u px\n",
        "was.landtypes <- ggeffects::predict_response(fit.glm, terms = c(\"WAs\", \"Land_type\"))\n",
        "plot(was.landtypes, facets = TRUE)"
      ]
    },
    {
      "cell_type": "code",
      "execution_count": 21,
      "metadata": {
        "colab": {
          "base_uri": "https://localhost:8080/"
        },
        "id": "-Ec6xE5P0Hrd",
        "outputId": "32d84bb1-7252-4900-ae47-34710a5ca1c8"
      },
      "outputs": [
        {
          "output_type": "stream",
          "name": "stdout",
          "text": [
            "# Predicted values of SAs\n",
            "\n",
            "Year_Irrigation: 2.7\n",
            "Land_type: HL\n",
            "\n",
            " WAs | Predicted |       95% CI\n",
            "-------------------------------\n",
            "0.00 |     11.88 |  9.71, 14.05\n",
            "0.20 |     14.24 | 12.57, 15.90\n",
            "0.40 |     16.59 | 12.98, 20.20\n",
            "0.60 |     18.94 | 12.98, 24.91\n",
            "\n",
            "Year_Irrigation: 2.7\n",
            "Land_type: MHL\n",
            "\n",
            " WAs | Predicted |       95% CI\n",
            "-------------------------------\n",
            "0.00 |     14.43 | 12.30, 16.57\n",
            "0.20 |     16.79 | 15.02, 18.55\n",
            "0.40 |     19.14 | 15.41, 22.87\n",
            "0.60 |     21.49 | 15.42, 27.57\n",
            "\n",
            "Year_Irrigation: 6.9\n",
            "Land_type: HL\n",
            "\n",
            " WAs | Predicted |       95% CI\n",
            "-------------------------------\n",
            "0.00 |     15.12 | 12.98, 17.25\n",
            "0.20 |     17.47 | 15.93, 19.00\n",
            "0.40 |     19.82 | 16.30, 23.34\n",
            "0.60 |     22.18 | 16.29, 28.06\n",
            "\n",
            "Year_Irrigation: 6.9\n",
            "Land_type: MHL\n",
            "\n",
            " WAs | Predicted |       95% CI\n",
            "-------------------------------\n",
            "0.00 |     17.67 | 15.69, 19.64\n",
            "0.20 |     20.02 | 18.53, 21.51\n",
            "0.40 |     22.37 | 18.80, 25.95\n",
            "0.60 |     24.73 | 18.76, 30.69\n",
            "\n",
            "Year_Irrigation: 11.1\n",
            "Land_type: HL\n",
            "\n",
            " WAs | Predicted |       95% CI\n",
            "-------------------------------\n",
            "0.00 |     18.35 | 15.99, 20.71\n",
            "0.20 |     20.70 | 18.93, 22.47\n",
            "0.40 |     23.06 | 19.46, 26.65\n",
            "0.60 |     25.41 | 19.50, 31.32\n",
            "\n",
            "Year_Irrigation: 11.1\n",
            "Land_type: MHL\n",
            "\n",
            " WAs | Predicted |       95% CI\n",
            "-------------------------------\n",
            "0.00 |     20.90 | 18.79, 23.01\n",
            "0.20 |     23.25 | 21.66, 24.85\n",
            "0.40 |     25.61 | 22.02, 29.19\n",
            "0.60 |     27.96 | 22.01, 33.91\n",
            "\n",
            "Adjusted for:\n",
            "*           WP =    1.11\n",
            "*          WFe =    5.45\n",
            "*          WEc =    1.31\n",
            "*          WpH =    7.01\n",
            "*        SAoFe = 2586.34\n",
            "*          SpH =    8.11\n",
            "*          SOC =    1.37\n",
            "*           SP =   15.68\n",
            "*    Elevation =    4.30\n",
            "* Distance_STW =    9.46\n",
            "*    Silt_Sand =   56.14\n"
          ]
        }
      ],
      "source": [
        "%%R\n",
        "was.landtypes.year<- ggeffects::predict_response(fit.glm, terms = c(\"WAs\", \"Year_Irrigation\", \"Land_type\"))\n",
        "was.landtypes.year"
      ]
    },
    {
      "cell_type": "code",
      "execution_count": 22,
      "metadata": {
        "colab": {
          "base_uri": "https://localhost:8080/",
          "height": 434
        },
        "id": "l28fHVIS0ONj",
        "outputId": "50e279c6-dc02-402b-f6c4-44f6f836330a"
      },
      "outputs": [
        {
          "output_type": "stream",
          "name": "stdout",
          "text": [
            "`geom_smooth()` using formula = 'y ~ x'\n"
          ]
        },
        {
          "output_type": "display_data",
          "data": {
            "image/png": "[encoded data removed]"
          },
          "metadata": {}
        }
      ],
      "source": [
        "%%R -w 600 -h 400 -u px\n",
        "ggplot(was.landtypes.year, aes(x = x, y = predicted, colour = group)) +\n",
        "  stat_smooth(method = \"lm\", se = FALSE) +\n",
        "  facet_wrap(~facet) +\n",
        "  labs(\n",
        "    y = ggeffects::get_y_title(was.landtypes.year),\n",
        "    x = ggeffects::get_x_title(was.landtypes.year),\n",
        "    colour = ggeffects::get_legend_title(was.landtypes.year)\n",
        "  )"
      ]
    },
    {
      "cell_type": "markdown",
      "metadata": {
        "id": "si7Xq4zG8Gc-"
      },
      "source": [
        "\n",
        "`effect_plot()` function of **jtools** package also plot simple effects in GLM regression models:"
      ]
    },
    {
      "cell_type": "code",
      "execution_count": 23,
      "metadata": {
        "colab": {
          "base_uri": "https://localhost:8080/",
          "height": 817
        },
        "id": "nNK43nKB8Hj9",
        "outputId": "5b2671d0-178e-4d0b-eb88-16bb0d43a410"
      },
      "outputs": [
        {
          "output_type": "display_data",
          "data": {
            "image/png": "[encoded data removed]"
          },
          "metadata": {}
        }
      ],
      "source": [
        "%%R -w 800 -h 800 -u px\n",
        "\n",
        "p1<-jtools::effect_plot(fit.glm,\n",
        "                    main.title = \"Water As\",\n",
        "                    pred = WAs,\n",
        "                    interval = TRUE,\n",
        "                    partial.residuals = TRUE)\n",
        "p2<-jtools::effect_plot(fit.glm,\n",
        "                    main.title = \"Year of Irrigation \",\n",
        "                    pred = Year_Irrigation,\n",
        "                    interval = TRUE,\n",
        "                    partial.residuals = TRUE)\n",
        "p3<-jtools::effect_plot(fit.glm,\n",
        "                    main.title = \"Diastance_STW\",\n",
        "                    pred = Distance_STW ,\n",
        "                    interval = TRUE,\n",
        "                    partial.residuals = TRUE)\n",
        "p4<-jtools::effect_plot(fit.glm,\n",
        "                    main.title = \"Land type\",\n",
        "                    pred = Land_type,\n",
        "                    interval = TRUE,\n",
        "                    partial.residuals = TRUE)\n",
        ".libPaths('drive/My Drive/R')\n",
        "library(patchwork)\n",
        "(p1+p2)/(p3 +p4)"
      ]
    },
    {
      "cell_type": "markdown",
      "metadata": {
        "id": "IwT54Ppr8Yjd"
      },
      "source": [
        "### Prediction at test locations\n",
        "\n"
      ]
    },
    {
      "cell_type": "markdown",
      "metadata": {
        "id": "jfrkW8Zz8cb8"
      },
      "source": [
        "\n",
        "\n",
        "The `predict()` function will be used to predict the amount of SOC present in the testing locations. This will help to validate the accuracy of the GLM regression model."
      ]
    },
    {
      "cell_type": "code",
      "execution_count": 25,
      "metadata": {
        "id": "C-7eRTr48ZnL"
      },
      "outputs": [],
      "source": [
        "%%R\n",
        "test$Pred.SAs<-predict(fit.glm, test)"
      ]
    },
    {
      "cell_type": "markdown",
      "metadata": {
        "id": "HffNpARv8wZ4"
      },
      "source": [
        "#### Prediction Performance\n",
        "\n",
        "The **Matrics** package offers serval useful functions to evalute the performance of a regression model. We use following four metrics to evaluate the model:\n",
        "\n",
        "1. Mean Squared Erro (MSE):\n",
        "\n",
        "Mean Squared Error (MSE) quantifies the average squared difference between the actual values and the predicted values produced by the model.\n",
        "\n",
        "$$ \\text{MSE} = \\frac{1}{n} \\sum_{i=1}^{n} (y_i - \\hat{y}_i)^2 $$\n",
        "\n",
        "2. \tMean Absolute Error (MAE)\n",
        "\n",
        "Mean Absolute Error (MAE) measures the average absolute difference between the actual values and the predicted values produced by the model.\n",
        "\n",
        "$$ \\text{MAE} = \\frac{1}{n} \\sum_{i=1}^{n} |y_i - \\hat{y}_i| $$\n",
        "\n",
        "\n",
        "3. Root Mean Squared Error (RMSE):\n",
        "\n",
        "It is a commonly used metric to evaluate the performance of regression models, particularly in the context of machine learning. It is essentially the square root of the Mean Squared Error (MSE) and provides a measure of the average magnitude of the errors between predicted and actual values, while still keeping the same scale as the original target variable.\n",
        "\n",
        "$$ \\text{RMSE} = \\sqrt{\\frac{1}{n} \\sum_{i=1}^{n} (y_i - \\hat{y}_i)^2} $$\n",
        "\n",
        "4. Median Absolute Error (MDAE)\n",
        "\n",
        "It is similar to Mean Absolute Error (MAE), but instead of averaging the absolute differences between the predicted and actual values, MdAE calculates the median of these absolute differences.\n",
        "\n",
        "$$ \\text{MSAE} = \\text{median}(|y_1 - \\hat{y}_1|, |y_2 - \\hat{y}_2|, ..., |y_n - \\hat{y}_n|) $$\n",
        "\n",
        "Where:\n",
        "- $n$ is the number of data points.\n",
        "- $y_i$ is the actual value of the target variable for the $i$ th data point.\n",
        "- $\\hat{y}_i$ is the predicted value of the target variable for the $i$ th data point.\n",
        "- $|\\cdot|$ denotes the absolute value\n",
        "\n",
        "\n"
      ]
    },
    {
      "cell_type": "code",
      "execution_count": 26,
      "metadata": {
        "colab": {
          "base_uri": "https://localhost:8080/"
        },
        "id": "FeiYHGpS8xIJ",
        "outputId": "9cfedce5-8961-485b-c7fb-5e63ccaed906"
      },
      "outputs": [
        {
          "output_type": "stream",
          "name": "stdout",
          "text": [
            "         RMSE      MAE      MSE     MDAE\n",
            "[1,] 5.765459 3.892464 33.24052 2.543197\n"
          ]
        }
      ],
      "source": [
        "%%R\n",
        "RMSE<- Metrics::rmse(test$SAs, test$Pred.SAs)\n",
        "MAE<- Metrics::mae(test$SAs, test$Pred.SAs)\n",
        "MSE<- Metrics::mse(test$SAs, test$Pred.SAs)\n",
        "MDAE<- Metrics::mdae(test$SAs, test$Pred.SAs)\n",
        "print(peformance.matrics<-cbind(\"RMSE\"=RMSE,\n",
        "                                \"MAE\" = MAE,\n",
        "                                \"MSE\" = MSE,\n",
        "                                \"MDAE\" = MDAE))"
      ]
    },
    {
      "cell_type": "markdown",
      "metadata": {
        "id": "1Ua0v9Et87kH"
      },
      "source": [
        "#### 1:1 Plot\n",
        "\n",
        "We can plot observed and predicted values with fitted regression line with **ggplot2** and **ggpmisc** packages."
      ]
    },
    {
      "cell_type": "code",
      "execution_count": 27,
      "metadata": {
        "colab": {
          "base_uri": "https://localhost:8080/",
          "height": 434
        },
        "id": "y9gKcrX689yt",
        "outputId": "6a3e907e-fe7d-4d63-81d5-b37406a7f75c"
      },
      "outputs": [
        {
          "output_type": "stream",
          "name": "stdout",
          "text": [
            "`geom_smooth()` using formula = 'y ~ x'\n"
          ]
        },
        {
          "output_type": "display_data",
          "data": {
            "image/png": "[encoded data removed]"
          },
          "metadata": {}
        }
      ],
      "source": [
        "%%R -w 450 -h 400 -u px\n",
        "\n",
        "formula<-y~x\n",
        "\n",
        "ggplot(test, aes(SAs,Pred.SAs)) +\n",
        "  geom_point() +\n",
        "  geom_smooth(method = \"lm\")+\n",
        "  stat_poly_eq(use_label(c(\"eq\", \"adj.R2\")), formula = formula) +\n",
        "  ggtitle(\"R-Base:Observed vs Predicted Soil As \") +\n",
        "  xlab(\"Observed\") + ylab(\"Predicted\") +\n",
        "  scale_x_continuous(limits=c(0,60), breaks=seq(0, 60, 10))+\n",
        "  scale_y_continuous(limits=c(0,60), breaks=seq(0, 60, 10)) +\n",
        "  # Flip the bars\n",
        "  theme(\n",
        "    panel.background = element_rect(fill = \"grey95\",colour = \"gray75\",size = 0.5, linetype = \"solid\"),\n",
        "    axis.line = element_line(colour = \"grey\"),\n",
        "    plot.title = element_text(size = 14, hjust = 0.5),\n",
        "    axis.title.x = element_text(size = 14),\n",
        "    axis.title.y = element_text(size = 14),\n",
        "    axis.text.x=element_text(size=13, colour=\"black\"),\n",
        "    axis.text.y=element_text(size=13,angle = 90,vjust = 0.5, hjust=0.5, colour='black'))"
      ]
    },
    {
      "cell_type": "code",
      "execution_count": null,
      "metadata": {
        "id": "XNsZpPZ6BRZN"
      },
      "outputs": [],
      "source": [
        "%%R\n",
        "rm(list=ls())"
      ]
    },
    {
      "cell_type": "markdown",
      "metadata": {
        "id": "nGUj6tPrBYCy"
      },
      "source": [
        "## GLM with Caret Package\n",
        "\n",
        "The [\"caret\"](https://topepo.github.io/caret/) (short for Classification And REgression Training) is a popular R package for machine learning. With its unified interface, the package offers a convenient way to use multiple machine-learning algorithms and pre-processing techniques. This makes it easier to compare and switch between different models, enhancing the process's accuracy and efficiency.\n",
        "\n",
        "![alt text](http://drive.google.com/uc?export=view&id=1vFGDLXvOc-wBaFRPGqt_YDub2s7hfnbz)\n",
        "\n",
        "Some of the key features of the Caret package include:\n",
        "\n",
        "**Data Preprocessing**: It provides a comprehensive set of tools to preprocess the data, such as missing value imputation, feature scaling, feature selection,and data partitioning.\n",
        "\n",
        "**Model Training:** It supports various machine learning algorithms for classification, regression, and survival analysis, including decision trees, random forests, support vector machines, gradient boosting, and neural networks.\n",
        "\n",
        "**Model Tuning**: It provides tools for tuning the hyperparameters of the models using various techniques such as grid search, random search, and Bayesian optimization.\n",
        "\n",
        "**Model Evaluation**: It provides tools for evaluating the performance of the models using various metrics such as accuracy, AUC, F1-score, and log-loss."
      ]
    },
    {
      "cell_type": "code",
      "execution_count": null,
      "metadata": {
        "id": "eTvvXjMK12v0"
      },
      "outputs": [],
      "source": [
        "%%R\n",
        ".libPaths('drive/My Drive/R')\n",
        "library(caret)"
      ]
    },
    {
      "cell_type": "markdown",
      "metadata": {
        "id": "7NzFiB22C5hV"
      },
      "source": [
        "### Load data"
      ]
    },
    {
      "cell_type": "code",
      "execution_count": 29,
      "metadata": {
        "colab": {
          "base_uri": "https://localhost:8080/"
        },
        "id": "ZVsHVDDqC5qP",
        "outputId": "7fd819b1-bd3d-4a2f-eac2-5d163216e104"
      },
      "outputs": [
        {
          "output_type": "stream",
          "name": "stdout",
          "text": [
            "Rows: 263 Columns: 29\n",
            "── Column specification ────────────────────────────────────────────────────────\n",
            "Delimiter: \",\"\n",
            "chr  (1): Land_type\n",
            "dbl (28): ID, Longitude, Latitude, WAs, WP, WFe, WEc, WpH, WMg, WNa, WCa, WK...\n",
            "\n",
            "ℹ Use `spec()` to retrieve the full column specification for this data.\n",
            "ℹ Specify the column types or set `show_col_types = FALSE` to quiet this message.\n"
          ]
        }
      ],
      "source": [
        "%%R\n",
        "# Load data\n",
        "mf<-readr::read_csv(\"https://github.com/zia207/r-colab/raw/main/Data/Regression_analysis/bd_soil_arsenic.csv\")\n",
        "# Create a dataframe\n",
        "df<- mf |>\n",
        "  dplyr::select (WAs, WP, WFe,\n",
        "                WEc, WpH, SAoFe, SpH, SOC,\n",
        "                Sand, Silt, SP, Elevation,\n",
        "                Year_Irrigation, Distance_STW,\n",
        "                Land_type, SAs)\n"
      ]
    },
    {
      "cell_type": "markdown",
      "metadata": {
        "id": "L8fQaEtMDHVB"
      },
      "source": [
        "### Create Dummy Variables\n",
        "\n",
        "`dummyVars()` creates a full set of dummy variables (i.e. less than full rank parameterization)"
      ]
    },
    {
      "cell_type": "code",
      "execution_count": 30,
      "metadata": {
        "colab": {
          "base_uri": "https://localhost:8080/"
        },
        "id": "lc8p9uDdDH-t",
        "outputId": "6119f8c5-627b-4aca-943a-ec8ba1e280f4"
      },
      "outputs": [
        {
          "output_type": "stream",
          "name": "stdout",
          "text": [
            "Rows: 263\n",
            "Columns: 17\n",
            "$ WAs             <dbl> 0.059, 0.059, 0.079, 0.122, 0.072, 0.042, 0.075, 0.064…\n",
            "$ WP              <dbl> 0.761, 1.194, 1.317, 1.545, 0.966, 1.058, 0.868, 0.890…\n",
            "$ WFe             <dbl> 3.44, 4.93, 9.70, 8.58, 4.78, 6.95, 7.81, 8.14, 8.99, …\n",
            "$ WEc             <dbl> 1.03, 1.07, 1.40, 0.83, 1.42, 1.82, 1.71, 1.74, 1.57, …\n",
            "$ WpH             <dbl> 7.03, 7.06, 6.84, 6.85, 6.95, 6.89, 6.86, 6.98, 6.82, …\n",
            "$ SAoFe           <dbl> 2500, 2670, 2160, 2500, 2060, 2500, 2520, 2140, 2150, …\n",
            "$ SpH             <dbl> 7.74, 7.87, 8.03, 8.07, 7.81, 7.77, 7.66, 7.89, 8.00, …\n",
            "$ SOC             <dbl> 1.66, 1.26, 1.36, 1.61, 1.26, 1.74, 1.71, 1.69, 1.41, …\n",
            "$ Sand            <dbl> 16.3, 11.1, 12.3, 12.7, 12.1, 16.7, 16.8, 13.7, 12.6, …\n",
            "$ Silt            <dbl> 44.8, 48.7, 46.4, 43.6, 50.9, 43.6, 43.4, 40.8, 44.9, …\n",
            "$ SP              <dbl> 13.79, 15.31, 15.54, 16.28, 14.20, 13.41, 13.26, 14.84…\n",
            "$ Elevation       <dbl> 3, 5, 4, 3, 5, 2, 2, 3, 3, 3, 2, 5, 6, 6, 5, 5, 4, 6, …\n",
            "$ Year_Irrigation <dbl> 14, 20, 10, 8, 10, 9, 8, 10, 8, 2, 20, 4, 15, 10, 5, 4…\n",
            "$ Distance_STW    <dbl> 5, 6, 5, 8, 5, 5, 10, 8, 10, 8, 5, 5, 9, 5, 10, 10, 12…\n",
            "$ Land_typeHL     <dbl> 0, 0, 0, 0, 0, 0, 0, 0, 0, 0, 0, 1, 0, 1, 1, 1, 1, 1, …\n",
            "$ Land_typeMHL    <dbl> 1, 1, 1, 1, 1, 1, 1, 1, 1, 1, 1, 0, 1, 0, 0, 0, 0, 0, …\n",
            "$ SAs             <dbl> 29.10, 45.10, 23.20, 23.80, 26.00, 25.60, 26.30, 31.60…\n"
          ]
        }
      ],
      "source": [
        "%%R\n",
        "dummies <- dummyVars(SAs ~ ., data = df)\n",
        "dummies.df<-as.data.frame(predict(dummies, newdata = df))\n",
        "dummies.df$SAs<-df$SAs\n",
        "glimpse(dummies.df)"
      ]
    },
    {
      "cell_type": "markdown",
      "metadata": {
        "id": "5_WeIEW9DQeU"
      },
      "source": [
        "### Data Splitting\n",
        "\n",
        "The function `createDataPartition()` can be used to create splits of the data into training and validation"
      ]
    },
    {
      "cell_type": "code",
      "execution_count": 32,
      "metadata": {
        "id": "eiS6r7YyDRNz"
      },
      "outputs": [],
      "source": [
        "%%R\n",
        "set.seed(3456)\n",
        "trainIndex <- createDataPartition(dummies.df$SAs, p = .70,\n",
        "                                  list = FALSE,\n",
        "                                  times = 1)\n",
        "df_train <- dummies.df[ trainIndex,]\n",
        "df_test  <- dummies.df[-trainIndex,]"
      ]
    },
    {
      "cell_type": "code",
      "execution_count": 33,
      "metadata": {
        "colab": {
          "base_uri": "https://localhost:8080/",
          "height": 367
        },
        "id": "C20_P0dYDX9K",
        "outputId": "720e24d4-dc45-482e-e81b-37cb2be4f4c4"
      },
      "outputs": [
        {
          "output_type": "display_data",
          "data": {
            "image/png": "[encoded data removed]"
          },
          "metadata": {}
        }
      ],
      "source": [
        "%%R -w 400 -h 350 -u px\n",
        "# Density plot all, train and test data\n",
        "ggplot()+\n",
        "  geom_density(data = dummies.df, aes(SAs))+\n",
        "  geom_density(data = df_train, aes(SAs), color = \"green\")+\n",
        "  geom_density(data = df_test, aes(SAs), color = \"red\") +\n",
        "      xlab(\"Soil As (mg/kg)\") +\n",
        "     ylab(\"Density\")"
      ]
    },
    {
      "cell_type": "markdown",
      "metadata": {
        "id": "qjjlMnWgDj90"
      },
      "source": [
        "### Set control prameters\n",
        "\n",
        "The function `traincontrol()` function is used for controlling the training process. It allows us to specify various options related to resampling, cross-validation, and model tuning during the training process."
      ]
    },
    {
      "cell_type": "code",
      "execution_count": 34,
      "metadata": {
        "id": "RieAuXJ2Dkx0"
      },
      "outputs": [],
      "source": [
        "%%R\n",
        "set.seed(123)\n",
        "train.control <- trainControl(method = \"repeatedcv\",\n",
        "                              number = 10, repeats = 5,\n",
        "                              preProc = c(\"center\", \"scale\", \"nzv\"))"
      ]
    },
    {
      "cell_type": "markdown",
      "metadata": {
        "id": "OniedQDQFnfa"
      },
      "source": [
        "### Train the model\n",
        "\n",
        "**train()** is used for training machine learning models. It provides a unified interface for a wide range of machine learning algorithms, making comparing and evaluating different models on a given dataset easier. It allows the dataset as input and allows you to specify the type of model to train, as well as various tuning parameters and performance metrics. It uses a resampling method specified by **trainControl()** to estimate the model's performance on new, unseen data, and returns a trained model object."
      ]
    },
    {
      "cell_type": "code",
      "execution_count": 35,
      "metadata": {
        "id": "Fz2etg0kFoZn"
      },
      "outputs": [],
      "source": [
        "%%R\n",
        "model.glm <- train(SAs ~., data = df_train,\n",
        "                     method = \"glm\",\n",
        "                     trControl = train.control)"
      ]
    },
    {
      "cell_type": "markdown",
      "metadata": {
        "id": "Wtz0dTdMFujY"
      },
      "source": [
        "### Model Summary"
      ]
    },
    {
      "cell_type": "code",
      "execution_count": 36,
      "metadata": {
        "colab": {
          "base_uri": "https://localhost:8080/"
        },
        "id": "U-CprD8tFuto",
        "outputId": "a3466fe9-5159-445a-dbd6-186ef2c01de3"
      },
      "outputs": [
        {
          "output_type": "stream",
          "name": "stdout",
          "text": [
            "Generalized Linear Model \n",
            "\n",
            "187 samples\n",
            " 16 predictor\n",
            "\n",
            "No pre-processing\n",
            "Resampling: Cross-Validated (10 fold, repeated 5 times) \n",
            "Summary of sample sizes: 169, 167, 168, 171, 168, 168, ... \n",
            "Resampling results:\n",
            "\n",
            "  RMSE      Rsquared   MAE    \n",
            "  5.351085  0.4957544  3.98405\n",
            "\n"
          ]
        }
      ],
      "source": [
        "%%R\n",
        "print(model.glm)"
      ]
    },
    {
      "cell_type": "markdown",
      "metadata": {
        "id": "ZXNb9b_HF2ZB"
      },
      "source": [
        "### Prediction at test locations"
      ]
    },
    {
      "cell_type": "code",
      "execution_count": 37,
      "metadata": {
        "id": "Uqtk5tScF32M"
      },
      "outputs": [],
      "source": [
        "%%R\n",
        "df_test$Pred.SAs = predict(model.glm, df_test)"
      ]
    },
    {
      "cell_type": "code",
      "execution_count": null,
      "metadata": {
        "colab": {
          "base_uri": "https://localhost:8080/"
        },
        "id": "3UtkNr3XF-Zj",
        "outputId": "79fa4c19-0c6a-4e4f-9504-0b8e0ab92e2f"
      },
      "outputs": [
        {
          "output_type": "stream",
          "name": "stdout",
          "text": [
            "         RMSE      MAE      MSE     MDAE\n",
            "[1,] 5.810717 4.217929 33.76443 3.008352\n"
          ]
        }
      ],
      "source": [
        "%%R\n",
        "# prediction performance\n",
        "RMSE<- Metrics::rmse(df_test$SAs, df_test$Pred.SAs)\n",
        "MAE<- Metrics::mae(df_test$SAs, df_test$Pred.SAs)\n",
        "MSE<- Metrics::mse(df_test$SAs, df_test$Pred.SAs)\n",
        "MDAE<- Metrics::mdae(df_test$SAs, df_test$Pred.SAs)\n",
        "print(peformance.matrics<-cbind(\"RMSE\"=RMSE,\n",
        "                                \"MAE\" = MAE,\n",
        "                                \"MSE\" = MSE,\n",
        "                                \"MDAE\" = MDAE))"
      ]
    },
    {
      "cell_type": "code",
      "execution_count": 38,
      "metadata": {
        "id": "6Zz2XSrpNSxl"
      },
      "outputs": [],
      "source": [
        "%%R\n",
        "rm(list=ls())"
      ]
    },
    {
      "cell_type": "markdown",
      "metadata": {
        "id": "80CZjPKeMe9G"
      },
      "source": [
        "## GLM with tidymodels\n",
        "\n",
        "**The [tidymodels](https://www.tidymodels.org/)** is a comprehensive suite of R packages that facilitate the execution of modeling and machine learning tasks. Its user-friendly and consistent interface enables users to perform various modeling techniques efficiently, including data preprocessing, model fitting, tuning, evaluation, and visualization. Tidymodels is built on the principles of the [tidyverse](https://www.tidyverse.org/), a collection of R packages that promote a streamlined and efficient workflow for data analysis. By leveraging the features of tidymodels, users can efficiently perform complex modeling tasks and achieve better outcomes..\n",
        "\n",
        "![alt text](http://drive.google.com/uc?export=view&id=1M0MDYhenCanjC8PnUHPh6xyOzlPJjWUh)\n",
        "\n",
        "The core packages in tidymodels include:\n",
        "\n",
        "[parsnip](https://parsnip.tidymodels.org/): A package for creating a consistent interface to different model types.\n",
        "\n",
        "[rsample](https://rsample.tidymodels.org/): A package for resampling data to estimate model performance.\n",
        "\n",
        "[recipes](https://recipes.tidymodels.org/): A package for preprocessing data in a tidy way.\n",
        "\n",
        "[workflows](https://workflows.tidymodels.org/): A workflow is an object that can bundle together your pre-processing, modeling, and post-processing requests.\n",
        "\n",
        "[tune](https://tune.tidymodels.org/):tune helps you optimize the hyperparameters of your model and pre-processing steps\n",
        "\n",
        "[yardstick](https://www.tidymodels.org/packages/): yardstick measures the effectiveness of models using performance metrics\n",
        "\n",
        "[broom](https://broom.tidymodels.org/): broom converts the information in common statistical R objects into user-friendly, predictable formats.\n",
        "\n",
        "[dials](https://broom.tidymodels.org/):dials creates and manages tuning parameters and parameter grids\n",
        "\n",
        "These packages can be used together or separately to build and evaluate models using a tidy workflow. Tidymodels also integrates with other tidyverse packages like ggplot2 for visualization and purrr for functional programming.\n",
        "\n",
        "Overall, tidymodels provides a comprehensive framework for building, tuning, and evaluating machine learning models in R while following the principles of the tidyverse.\n",
        "\n",
        "The steps in most machine learning projects with tidy model are as follows:\n",
        "\n",
        "-   Loading necessary packages and data(`readr`)\n",
        "\n",
        "-   split data into train and test (`rsample`)\n",
        "\n",
        "-   light preprocessing (`recipes`)\n",
        "\n",
        "-   find the best hyperparameters by\n",
        "\n",
        "    -   creating crossvalidation folds (`rsample`)\n",
        "\n",
        "    -   creating a model specification (`tune`, `parsnip`, `treesnip`, `dials`)\n",
        "\n",
        "    -   creating a grid of values (`dials`)\n",
        "\n",
        "    -   using a workflow to contain the model and formula (`workflows`)\n",
        "\n",
        "    -   tune the model (`tune`)\n",
        "\n",
        "    -   find the best model from tuning\n",
        "\n",
        "-   retrain on entire test data\n",
        "\n",
        "-   evaluate on test data (`yardstick`)\n",
        "\n",
        "-   check residuals and model diagnostics"
      ]
    },
    {
      "cell_type": "code",
      "execution_count": null,
      "metadata": {
        "id": "4Y4B6c9-1vFi"
      },
      "outputs": [],
      "source": [
        "%%R\n",
        ".libPaths('drive/My Drive/R')\n",
        "library(tidymodels)"
      ]
    },
    {
      "cell_type": "markdown",
      "metadata": {
        "id": "IL-lYTERNaKF"
      },
      "source": [
        "### Load data"
      ]
    },
    {
      "cell_type": "code",
      "execution_count": 40,
      "metadata": {
        "colab": {
          "base_uri": "https://localhost:8080/"
        },
        "id": "EuscCCjaNaoN",
        "outputId": "dcf540c8-ea55-4003-e4b0-edc943bce2bc"
      },
      "outputs": [
        {
          "output_type": "stream",
          "name": "stdout",
          "text": [
            "Rows: 263 Columns: 29\n",
            "── Column specification ────────────────────────────────────────────────────────\n",
            "Delimiter: \",\"\n",
            "chr  (1): Land_type\n",
            "dbl (28): ID, Longitude, Latitude, WAs, WP, WFe, WEc, WpH, WMg, WNa, WCa, WK...\n",
            "\n",
            "ℹ Use `spec()` to retrieve the full column specification for this data.\n",
            "ℹ Specify the column types or set `show_col_types = FALSE` to quiet this message.\n"
          ]
        }
      ],
      "source": [
        "%%R\n",
        "mf<-readr::read_csv(\"https://github.com/zia207/r-colab/raw/main/Data/Regression_analysis/bd_soil_arsenic.csv\")\n",
        "# Create a data-frame\n",
        "df<- mf |>\n",
        "  dplyr::select (WAs, WP, WFe,\n",
        "                WEc, WpH, SAoFe, SpH, SOC,\n",
        "                Sand, Silt, SP, Elevation,\n",
        "                Year_Irrigation, Distance_STW,\n",
        "                Land_type, SAs)\n"
      ]
    },
    {
      "cell_type": "markdown",
      "metadata": {
        "id": "i2r-QKAXNnWS"
      },
      "source": [
        "### Split Data\n",
        "\n",
        "We use **rsample** package, install with **tidymodels**, to split data into training (70%) and test data (30%) set with Stratified Random Sampling. `initial_split()` creates a single binary split of the data into a training set and testing se"
      ]
    },
    {
      "cell_type": "code",
      "execution_count": 41,
      "metadata": {
        "id": "1fqRgy7zNoIr"
      },
      "outputs": [],
      "source": [
        "%%R\n",
        "set.seed(1245)   # for reproducibility\n",
        "split <- initial_split(df, prop = 0.7, strata = SAs)\n",
        "train <- split |>\n",
        "         training()\n",
        "test <-  split |>\n",
        "         testing()"
      ]
    },
    {
      "cell_type": "markdown",
      "metadata": {
        "id": "ozbbuPR4Nv_W"
      },
      "source": [
        "### Create Recipe\n",
        "\n",
        "The [recipe](https://recipes.tidymodels.org/) function is a part of the **recipes** package in R, which is utilized for preprocessing and feature engineering in machine learning workflows. The `recipe()` function allows you to define a blueprint or a recipe for data preprocessing. It enables you to specify a sequence of steps to be applied to your data before modeling.\n",
        "\n",
        "![alt text](http://drive.google.com/uc?export=view&id=12WtvvphFp1D9Zy0_DfTsTmWyB1tLmg7_)\n",
        "\n",
        "Here's a basic overview of how the `recipe()` function works:\n",
        "\n",
        "1.  **Create a Recipe Object**: You start by creating a recipe object using the `recipe() function`. This object will contain the blueprint for your data preprocessing steps.\n",
        "\n",
        "2.  **Specify Formula**: You specify a formula that describes the relationship between the predictors (independent variables) and the outcome variable (dependent variable) in your dataset. This formula is specified using the \\~ operator, with the outcome variable on the left-hand side and the predictors on the right-hand side.\n",
        "\n",
        "3.  **Add Preprocessing Steps**: You can then add various preprocessing steps to the recipe object using functions like `step_normalize()` for normalization, `step_center()` for centering, `step_dummy(`) for creating dummy variables, etc. These steps define how the data should be transformed before modeling.\n",
        "\n",
        "4.  **Finalize the Recipe**: Once you've added all the desired preprocessing steps, you can finalize the recipe using the `prep()` function. This step ensures that the recipe is ready to be applied to your data.\n",
        "\n",
        "5.  **Apply the Recipe**: Finally, you can apply the recipe to your dataset using the `bake()` function. This applies the specified preprocessing steps to your data, resulting in a preprocessed dataset ready for modeling.\n"
      ]
    },
    {
      "cell_type": "code",
      "execution_count": 42,
      "metadata": {
        "id": "I8c3a78uNw_c"
      },
      "outputs": [],
      "source": [
        "%%R\n",
        "# Create a recipe\n",
        "glm_recipe <-\n",
        "  recipe(SAs ~ ., data = train)  |>\n",
        "  step_zv(all_predictors()) |>\n",
        "  step_dummy(all_nominal())  |>\n",
        "  step_normalize(all_numeric_predictors())"
      ]
    },
    {
      "cell_type": "markdown",
      "metadata": {
        "id": "pPIXkCb4OH7r"
      },
      "source": [
        "### Build a model\n",
        "\n",
        "The [parsnip](https://parsnip.tidymodels.org/) package in R is designed to facilitate modeling in a uniform, organized, and modular manner. It offers the `set_engine()` function, which enables you to specify the modeling engine you wish to use for fitting a specific model.\n",
        "\n",
        "![alt text](http://drive.google.com/uc?export=view&id=1votvB0gvsjr4vOMPjFAZ_lOEsoSr7Y6L)\n",
        "\n",
        " It offers the `set_engine()` function, which enables you to specify the modeling engine you wish to use for fitting a specific model.\n",
        "\n",
        "Here's how `set_engine()` typically works:\n",
        "\n",
        "1.  **Choose a Model**: Start by selecting a modeling function from a modeling package. For example, if you want to fit a linear regression model, you might choose the `lm()` function from base R or the `glm()` function from the stats package.\n",
        "\n",
        "2.  **Specify the Engine**: Once you have selected the modeling function, you need to specify the modeling engine you want to use with that function. Use the `set_engine()` function to do this. The engine is the computational backend or implementation of the model. Following engines are  in `linear_reg()` models:\n",
        "\n",
        "* `lm` engine\n",
        "* `glm` engine\n",
        "* `glmnet` engine\n",
        "* `keras` engine\n",
        "* `stan` engine\n",
        "\n",
        "3.  **Engine Options**: You can specify different options for the engine, such as tuning parameters or other settings specific to the implementation. Use additional arguments in the `set_engine()` function to specify these options.\n",
        "\n",
        "4.  **Fit the Model**: After you have set the engine, use the modeling function along with the specified engine to fit the model to your data using the `fit()` function."
      ]
    },
    {
      "cell_type": "code",
      "execution_count": 43,
      "metadata": {
        "id": "EDD1-f1SOI8L"
      },
      "outputs": [],
      "source": [
        "%%R\n",
        "glm_mod <-\n",
        "   linear_reg()  |>\n",
        "   set_engine(\"glm\")"
      ]
    },
    {
      "cell_type": "markdown",
      "metadata": {
        "id": "iY1NUAklOP14"
      },
      "source": [
        "### Create a workflow\n",
        "\n",
        "The `workflows`function belongs to the [workflows](https://workflows.tidymodels.org/reference/workflows-package.html) package. This package is created to build, manage, and optimize machine learning workflows using the **tidymodels** framework. It lets you define a series of preprocessing, modeling, and post-processing steps in a modular and reproducible way. You can train your data using the `fit()` function.\n",
        "\n",
        "![alt text](http://drive.google.com/uc?export=view&id=19dlkSTwoi40E7fHUzQYfIEUmUNVAs6gA)\n",
        "\n",
        "First you start by creating a workflow object using the **`workflows()`** function. This object serves as a blueprint for your machine learning workflow. Then, you combine the preprocessing steps and the modeling engine into a single workflow using the **`add_recipe()`** and **`add_model()`** functions. This links the preprocessing steps with the modeling engine so that they are applied together during model fitting.\n"
      ]
    },
    {
      "cell_type": "code",
      "execution_count": 44,
      "metadata": {
        "id": "5Ksy8grUOQim"
      },
      "outputs": [],
      "source": [
        "%%R\n",
        "glm_wflow <-\n",
        "  workflow()  |>\n",
        "  add_recipe(glm_recipe) |>\n",
        "  add_model(glm_mod)"
      ]
    },
    {
      "cell_type": "markdown",
      "metadata": {
        "id": "nxHCb2nuOW_r"
      },
      "source": [
        "### Fit GLM model\n",
        "\n",
        "Now, there is a single function that can be used to prepare the recipe and train the model from the resulting predictors:"
      ]
    },
    {
      "cell_type": "code",
      "execution_count": 45,
      "metadata": {
        "id": "GsWQqUZQOXjt"
      },
      "outputs": [],
      "source": [
        "%%R\n",
        "glm_fit <-\n",
        "  glm_wflow  |>\n",
        "  fit(data = train)"
      ]
    },
    {
      "cell_type": "markdown",
      "metadata": {
        "id": "ay6HMx4_Obyh"
      },
      "source": [
        "This object has the finalized recipe and fitted model objects inside. You may want to extract the model or recipe objects from the workflow. To do this, you can use the helper functions `extract_fit_parsnip()`:"
      ]
    },
    {
      "cell_type": "code",
      "execution_count": 46,
      "metadata": {
        "colab": {
          "base_uri": "https://localhost:8080/"
        },
        "id": "pWJGUlLCOhP-",
        "outputId": "9ba4e27d-d295-4ee2-ec73-58ecd3379ae1"
      },
      "outputs": [
        {
          "output_type": "stream",
          "name": "stdout",
          "text": [
            "# A tibble: 16 × 5\n",
            "   term            estimate std.error statistic  p.value\n",
            "   <chr>              <dbl>     <dbl>     <dbl>    <dbl>\n",
            " 1 (Intercept)      17.9        0.389    46.1   7.47e-97\n",
            " 2 WAs               0.472      0.562     0.840 4.02e- 1\n",
            " 3 WP               -0.278      0.494    -0.562 5.75e- 1\n",
            " 4 WFe               0.770      0.481     1.60  1.11e- 1\n",
            " 5 WEc              -0.0968     0.466    -0.208 8.36e- 1\n",
            " 6 WpH               0.466      0.491     0.949 3.44e- 1\n",
            " 7 SAoFe            -0.495      0.417    -1.19  2.36e- 1\n",
            " 8 SpH               0.980      0.510     1.92  5.65e- 2\n",
            " 9 SOC               1.01       0.564     1.79  7.45e- 2\n",
            "10 Sand             -0.637      0.427    -1.49  1.37e- 1\n",
            "11 Silt             -0.531      0.475    -1.12  2.65e- 1\n",
            "12 SP                0.543      0.437     1.24  2.15e- 1\n",
            "13 Elevation        -0.681      0.569    -1.20  2.33e- 1\n",
            "14 Year_Irrigation   3.69       0.427     8.65  4.08e-15\n",
            "15 Distance_STW     -1.01       0.443    -2.27  2.44e- 2\n",
            "16 Land_type_MHL     1.51       0.525     2.88  4.53e- 3\n"
          ]
        }
      ],
      "source": [
        "%%R\n",
        "glm_fit %>%\n",
        "  extract_fit_parsnip() |>\n",
        "  tidy()"
      ]
    },
    {
      "cell_type": "markdown",
      "metadata": {
        "id": "MMtF5-xKOl-k"
      },
      "source": [
        "### Model Performance\n",
        "\n",
        "We can use [yardstick](https://yardstick.tidymodels.org/) package to estimate how well models are working using tidy data principles.\n",
        "\n",
        "![alt text](http://drive.google.com/uc?export=view&id=1UV0CktKNBPJWkjcELXV1ekghrNUBqoj4)\n",
        "\n",
        "The following [metric](https://yardstick.tidymodels.org/articles/metric-types.html) are available for a regression model evaluation:\n",
        "\n",
        "-   `ccc()`: Concordance correlation coefficient\n",
        "-   `huber_loss()`: Huber loss, a loss function used in robust regression\n",
        "-   `huber_loss_pseudo()`: Psuedo-Huber Loss\n",
        "-   `iic()`: Index of ideality of correlation\n",
        "-   `mae()`: Mean absolute error\n",
        "-   `mape()`: Mean absolute percent error\n",
        "-   `mase()`: Mean absolute scaled error\n",
        "-   `mpe()` : Mean percentage error\n",
        "-   `msd()` : Mean signed deviation\n",
        "-   `poisson_log_loss()`: Mean log loss for Poisson data\n",
        "-   `rmse()` : Root mean squared error\n",
        "-   `rpd()` : Ratio of performance to deviation\n",
        "-   `rpiq()` : Ratio of performance to inter-quartile\n",
        "-   `rsq()` : R squared, Calculate the coefficient of determination using correlation\n",
        "-   `rsq_trad()`: R squared - traditional\n",
        "-   `smape()` : Symmetric mean absolute percentage error"
      ]
    },
    {
      "cell_type": "code",
      "execution_count": 47,
      "metadata": {
        "id": "nzdHs-mbOncT"
      },
      "outputs": [],
      "source": [
        "%%R\n",
        "train.pred<- glm_fit |>\n",
        "             predict(train) |>\n",
        "             bind_cols(Obs_SAs=train$SAs) |>\n",
        "             dplyr::rename(Pred_SAs = .pred) |>\n",
        "             as.tibble()\n"
      ]
    },
    {
      "cell_type": "code",
      "execution_count": 48,
      "metadata": {
        "colab": {
          "base_uri": "https://localhost:8080/"
        },
        "id": "nMcQooVe3JWY",
        "outputId": "fab0a9bb-c208-4923-89d4-8e5df9c0c642"
      },
      "outputs": [
        {
          "output_type": "stream",
          "name": "stdout",
          "text": [
            "# A tibble: 1 × 3\n",
            "  .metric  .estimator .estimate\n",
            "  <chr>    <chr>          <dbl>\n",
            "1 rsq_trad standard       0.565\n"
          ]
        }
      ],
      "source": [
        "%%R\n",
        "# train R2\n",
        "yardstick::rsq_trad(train.pred, Obs_SAs, Pred_SAs)"
      ]
    },
    {
      "cell_type": "code",
      "execution_count": 49,
      "metadata": {
        "colab": {
          "base_uri": "https://localhost:8080/"
        },
        "id": "_msxl7XWOwFb",
        "outputId": "30022510-d76d-4ede-b9b0-000d583f2e84"
      },
      "outputs": [
        {
          "output_type": "stream",
          "name": "stdout",
          "text": [
            "# A tibble: 1 × 3\n",
            "  .metric .estimator .estimate\n",
            "  <chr>   <chr>          <dbl>\n",
            "1 rmse    standard        5.02\n"
          ]
        }
      ],
      "source": [
        "%%R\n",
        "# training RMSE\n",
        "yardstick::rmse(train.pred, Obs_SAs, Pred_SAs)"
      ]
    },
    {
      "cell_type": "markdown",
      "metadata": {
        "id": "wGlfT75PO261"
      },
      "source": [
        "### Predication at test locations"
      ]
    },
    {
      "cell_type": "code",
      "execution_count": 50,
      "metadata": {
        "colab": {
          "base_uri": "https://localhost:8080/"
        },
        "id": "fXjwcl-jO3un",
        "outputId": "29a7b8b6-1ccb-41a4-ef46-4c2e3a1166c5"
      },
      "outputs": [
        {
          "output_type": "stream",
          "name": "stdout",
          "text": [
            "# A tibble: 1 × 3\n",
            "  .metric .estimator .estimate\n",
            "  <chr>   <chr>          <dbl>\n",
            "1 rsq     standard       0.372\n"
          ]
        }
      ],
      "source": [
        "%%R\n",
        "test.pred<- glm_fit |>\n",
        "             predict(test) |>\n",
        "             bind_cols(Obs_SAs=test$SAs) |>\n",
        "             dplyr::rename(Pred_SAs = .pred) |>\n",
        "             as.tibble()\n",
        "# Test R2\n",
        "rsq(test.pred, Obs_SAs, Pred_SAs)"
      ]
    },
    {
      "cell_type": "code",
      "execution_count": 51,
      "metadata": {
        "colab": {
          "base_uri": "https://localhost:8080/"
        },
        "id": "Vz1GQ5RTPJQB",
        "outputId": "19b1e184-69e8-4604-e4f2-855046d9ad81"
      },
      "outputs": [
        {
          "output_type": "stream",
          "name": "stdout",
          "text": [
            "# A tibble: 1 × 3\n",
            "  .metric  .estimator .estimate\n",
            "  <chr>    <chr>          <dbl>\n",
            "1 rsq_trad standard       0.319\n"
          ]
        }
      ],
      "source": [
        "%%R\n",
        "# Test RMSE\n",
        "yardstick::rmse(test.pred, Obs_SAs, Pred_SAs)"
      ]
    },
    {
      "cell_type": "markdown",
      "source": [
        "### Model Evaluation with Resampling of Predicted Test data set"
      ],
      "metadata": {
        "id": "m8zuTEaYrxxj"
      }
    },
    {
      "cell_type": "code",
      "source": [
        "%%R\n",
        "set.seed(1234)\n",
        "size <- 100\n",
        "times <- 10\n",
        "\n",
        "# create 10 resamples\n",
        "test_resampled <- bind_rows(\n",
        "  replicate(\n",
        "    n = times,\n",
        "    expr = sample_n(test.pred, size, replace = TRUE),\n",
        "    simplify = FALSE\n",
        "  ),\n",
        "  .id = \"resample\"\n",
        ")\n",
        "\n",
        "# Compute the RMSE by group\n",
        "rmse_results <- test_resampled %>%\n",
        "  group_by(resample) %>%\n",
        "  rmse(Obs_SAs, Pred_SAs)\n",
        "\n",
        "rmse_results"
      ],
      "metadata": {
        "colab": {
          "base_uri": "https://localhost:8080/"
        },
        "id": "tJfyRzd_rv0V",
        "outputId": "26db1900-ead0-4459-e6ae-8c45bced1bb5"
      },
      "execution_count": 53,
      "outputs": [
        {
          "output_type": "stream",
          "name": "stdout",
          "text": [
            "# A tibble: 10 × 4\n",
            "   resample .metric .estimator .estimate\n",
            "   <chr>    <chr>   <chr>          <dbl>\n",
            " 1 1        rmse    standard        5.69\n",
            " 2 10       rmse    standard        6.43\n",
            " 3 2        rmse    standard        4.93\n",
            " 4 3        rmse    standard        5.31\n",
            " 5 4        rmse    standard        5.15\n",
            " 6 5        rmse    standard        6.25\n",
            " 7 6        rmse    standard        6.14\n",
            " 8 7        rmse    standard        6.20\n",
            " 9 8        rmse    standard        6.11\n",
            "10 9        rmse    standard        5.79\n"
          ]
        }
      ]
    },
    {
      "cell_type": "code",
      "source": [
        "%%R\n",
        "## Calculate CI\n",
        "rmse_results |>\n",
        "  dplyr::summarise(mean.rmse = mean(.estimate, na.rm = TRUE),\n",
        "            sd.rmse = sd(.estimate, na.rm = TRUE),\n",
        "            n.rmse = n()) |>\n",
        "  dplyr::mutate(se.rmse = sd.rmse / sqrt(n.rmse),\n",
        "         lower.ci.rmse = mean.rmse - qt(1 - (0.05 / 2), n.rmse - 1) * se.rmse,\n",
        "         upper.ci.rmse = mean.rmse + qt(1 - (0.05 / 2), n.rmse - 1) * se.rmse)"
      ],
      "metadata": {
        "colab": {
          "base_uri": "https://localhost:8080/"
        },
        "id": "b-hOszgNsJra",
        "outputId": "9458a384-07c8-42a7-ab55-1a820297275e"
      },
      "execution_count": 54,
      "outputs": [
        {
          "output_type": "stream",
          "name": "stdout",
          "text": [
            "# A tibble: 1 × 6\n",
            "  mean.rmse sd.rmse n.rmse se.rmse lower.ci.rmse upper.ci.rmse\n",
            "      <dbl>   <dbl>  <int>   <dbl>         <dbl>         <dbl>\n",
            "1      5.80   0.516     10   0.163          5.43          6.17\n"
          ]
        }
      ]
    },
    {
      "cell_type": "code",
      "execution_count": 55,
      "metadata": {
        "id": "cCSM3DIjPMi1"
      },
      "outputs": [],
      "source": [
        "%%R\n",
        "rm(list=ls())"
      ]
    },
    {
      "cell_type": "markdown",
      "metadata": {
        "id": "UgYvpOIiPP-F"
      },
      "source": [
        "## GLM with h20\n",
        "\n",
        "The **H2O** package is a powerful open-source software that is specifically designed for data analysis and machine learning. It is known for being incredibly fast, scalable, and easy to use, making it a popular choice among data scientists and machine learning engineers.\n",
        "\n",
        "The H2O package is compatible with a wide range of programming languages, including R, Python, and others, making it accessible to a large community of developers. It comes with a diverse set of machine learning algorithms that can be used for a variety of tasks, including deep learning, gradient boosting, generalized linear models, and more.\n",
        "\n",
        "One of the key advantages of the H2O package is that it can handle large datasets with ease, making it a great choice for big data applications. Additionally, it supports distributed computing, which allows users to run complex machine learning tasks across multiple machines, further improving performance and scalability. Overall, the H2O package is a valuable tool for anyone working with data analysis and machine learning. Its speed, scalability, and ease of use make it a popular choice among developers, and its diverse set of algorithms and compatibility with multiple programming languages make it a versatile tool for a variety of applications.\n",
        "\n",
        "![alt text](http://drive.google.com/uc?export=view&id=1vE3DVP9_IkK475p0KcMwZXAS9RmZS3-4)\n",
        "\n",
        "Some of the key features of the H2O package include:\n",
        "\n",
        "1.  Distributed computing: H2O can run on a cluster of machines and scale up to handle very large datasets. GPU acceleration: H2O supports GPU acceleration for certain algorithms, which can significantly speed up computation.\n",
        "\n",
        "2.  Automated machine learning: H2O's AutoML feature can automatically select the best algorithm and hyperparameters for a given dataset.\n",
        "\n",
        "3.  Interpretable machine learning: H2O provides tools for interpreting machine learning models and understanding their predictions.\n",
        "\n",
        "4.  Integration with popular programming languages: H2O can be used with R, Python, and other programming languages, making it accessible to a wide range of users.\n",
        "\n",
        "The h2o package provides an open-source implementation of GLM that is specifically designed for big data. To use the GLM function in h2o, you will need to first install and load the package in your R environment. Once the package is loaded, you can use the h2o.glm() function to fit a GLM model.\n",
        "\n",
        "### Downloading & Installing H2O\n",
        "\n",
        "Detail instruction of downloading & installing H2O in R could be found [here](https://docs.h2o.ai/h2o/latest-stable/h2o-docs/downloading.html)\n",
        "\n",
        "Anyway, perform the following steps in R to install H2O. Copy and paste these commands one line at a time.\n",
        "\n",
        "1.  The following two commands remove any previously installed H2O packages for R.\n",
        "\n",
        "> if (\"package:h2o\" %in% search()) { detach(\"package:h2o\", unload=TRUE) }\n",
        "\n",
        "> if (\"h2o\" %in% rownames(installed.packages())) { remove.packages(\"h2o\") }\n",
        "\n",
        "2.  Next, download packages that H2O depends on\n",
        "\n",
        "> pkgs \\<- c(\"RCurl\",\"jsonlite\")\n",
        "\n",
        "> for (pkg in pkgs) { if (! (pkg %in% rownames(installed.packages()))) { install.packages(pkg) } }\n",
        "\n",
        "3.  Download and install the H2O package for R.\n",
        "\n",
        "> install.packages(\"h2o\", type=\"source\", repos=(c(\"http://h2o-release.s3.amazonaws.com/h2o/latest_stable_R\")))"
      ]
    },
    {
      "cell_type": "markdown",
      "metadata": {
        "id": "3kBka-GRHQyO"
      },
      "source": [
        "### Downloading & Installing H2O\n",
        "\n",
        "Detail instruction of downloading & installing H2O in R could be found [here](https://docs.h2o.ai/h2o/latest-stable/h2o-docs/downloading.html)\n",
        "\n",
        "Anyway, perform the following steps in R to install H2O. Copy and paste these commands one line at a time."
      ]
    },
    {
      "cell_type": "code",
      "execution_count": null,
      "metadata": {
        "collapsed": true,
        "id": "fkDqJzg0y5Ag"
      },
      "outputs": [],
      "source": [
        "%%R\n",
        "# The following two commands remove any previously installed H2O packages for R.\n",
        "if (\"package:h2o\" %in% search()) { detach(\"package:h2o\", unload=TRUE) }\n",
        "if (\"h2o\" %in% rownames(installed.packages())) { remove.packages(\"h2o\") }\n",
        "\n",
        "# Next, download packages that H2O depends on\n",
        "pkgs <- c(\"RCurl\",\"jsonlite\")\n",
        "for (pkg in pkgs) {\n",
        "  if (! (pkg %in% rownames(installed.packages(lib='drive/My Drive/R/')))) { install.packages(pkg) }\n",
        "}\n",
        "\n",
        "# Download and install the latest vesion of H2O\n",
        "install.packages(\"h2o\", type=\"source\",lib='drive/My Drive/R/', repos=(c(\"http://h2o-release.s3.amazonaws.com/h2o/latest_stable_R\")))"
      ]
    },
    {
      "cell_type": "markdown",
      "metadata": {
        "id": "HNRvMwTNHqtS"
      },
      "source": [
        "### Load h2o"
      ]
    },
    {
      "cell_type": "code",
      "execution_count": null,
      "metadata": {
        "collapsed": true,
        "id": "nXBRBmMv4tPC"
      },
      "outputs": [],
      "source": [
        "%%R\n",
        ".libPaths('drive/My Drive/R')\n",
        "library(h2o)\n",
        "h2o.init()\n",
        "#disable progress bar for RMarkdown\n",
        "h2o.no_progress()\n",
        "# Optional: remove anything from previous session\n",
        "h2o.removeAll()"
      ]
    },
    {
      "cell_type": "markdown",
      "metadata": {
        "id": "PDk7rXlNHlCM"
      },
      "source": [
        "### Load data"
      ]
    },
    {
      "cell_type": "code",
      "execution_count": null,
      "metadata": {
        "colab": {
          "base_uri": "https://localhost:8080/"
        },
        "id": "1_7he8ivHa0M",
        "outputId": "e3f05fe6-6a01-445b-dd46-9539d3fd907c"
      },
      "outputs": [
        {
          "output_type": "stream",
          "name": "stdout",
          "text": [
            "Rows: 263 Columns: 29\n",
            "── Column specification ────────────────────────────────────────────────────────\n",
            "Delimiter: \",\"\n",
            "chr  (1): Land_type\n",
            "dbl (28): ID, Longitude, Latitude, WAs, WP, WFe, WEc, WpH, WMg, WNa, WCa, WK...\n",
            "\n",
            "ℹ Use `spec()` to retrieve the full column specification for this data.\n",
            "ℹ Specify the column types or set `show_col_types = FALSE` to quiet this message.\n"
          ]
        }
      ],
      "source": [
        "%%R\n",
        "# load data\n",
        "mf<-readr::read_csv(\"https://github.com/zia207/r-colab/raw/main/Data/Regression_analysis/bd_soil_arsenic.csv\")\n",
        "# Create a data-frame\n",
        "df<- mf |>\n",
        "  dplyr::select (SAs, WAs, WP, WFe,\n",
        "                WEc, WpH, SAoFe, SpH, SOC,\n",
        "                Sand, Silt, SP, Elevation,\n",
        "                Year_Irrigation, Distance_STW,\n",
        "                Land_type)"
      ]
    },
    {
      "cell_type": "markdown",
      "metadata": {
        "id": "etc3cMyEQmtU"
      },
      "source": [
        "### Convert to factor"
      ]
    },
    {
      "cell_type": "code",
      "execution_count": null,
      "metadata": {
        "id": "VOkB4VbgQm2D"
      },
      "outputs": [],
      "source": [
        "%%R\n",
        "# Convert to factor\n",
        "df$Land_type <- as.factor(df$Land_type)"
      ]
    },
    {
      "cell_type": "markdown",
      "metadata": {
        "id": "U9VoAMD_41Ne"
      },
      "source": [
        "### Import data into h2o cluster"
      ]
    },
    {
      "cell_type": "code",
      "execution_count": null,
      "metadata": {
        "id": "pYwe9B_J41Vo"
      },
      "outputs": [],
      "source": [
        "%%R\n",
        "h_df=as.h2o(df)"
      ]
    },
    {
      "cell_type": "markdown",
      "metadata": {
        "id": "5NX33pPwQxFJ"
      },
      "source": [
        "### Split data"
      ]
    },
    {
      "cell_type": "code",
      "execution_count": null,
      "metadata": {
        "colab": {
          "base_uri": "https://localhost:8080/"
        },
        "id": "VJPHr1eRRLGp",
        "outputId": "160f222b-f6f3-4823-85e5-98d32d8ba224"
      },
      "outputs": [
        {
          "output_type": "stream",
          "name": "stdout",
          "text": [
            "[1] 187  16\n",
            "[1] 76 16\n"
          ]
        }
      ],
      "source": [
        "%%R\n",
        "# Split dataset giving the training dataset 75% of the data\n",
        "df_split <- h2o.splitFrame(data = h_df, ratios = 0.75)\n",
        "print(dim(df_split[[1]]))\n",
        "print(dim(df_split[[2]]))"
      ]
    },
    {
      "cell_type": "code",
      "execution_count": null,
      "metadata": {
        "id": "RoWh4c2TQxQu"
      },
      "outputs": [],
      "source": [
        "%%R\n",
        "# Create a training set from the 1st dataset in the split\n",
        "h_train <- df_split[[1]]\n",
        "# Create a testing set from the 2nd dataset in the split\n",
        "h_test <- df_split[[2]]"
      ]
    },
    {
      "cell_type": "markdown",
      "metadata": {
        "id": "pyleQ6ei5jp5"
      },
      "source": [
        "### Define response and predictors"
      ]
    },
    {
      "cell_type": "code",
      "execution_count": null,
      "metadata": {
        "id": "hJ_JILO65jxa"
      },
      "outputs": [],
      "source": [
        "%%R\n",
        "y <- \"SAs\"\n",
        "x <- setdiff(names(h_df), y)"
      ]
    },
    {
      "cell_type": "markdown",
      "metadata": {
        "id": "40cBHSNL5sDj"
      },
      "source": [
        "### Fit a GLM model\n",
        "\n",
        "We fit fit a GLM using **h2o.glm()** function with following parameters:\n",
        "\n",
        "-   `family` = \"gaussian\", Family. Use binomial for classification with logistic regression, others are for regression problems. Must be one of: \"AUTO\", \"gaussian\", \"binomial\", \"fractionalbinomial\", \"quasibinomial\", \"ordinal\", \"multinomial\", \"poisson\", \"gamma\", \"tweedie\", \"negativebinomial\". Defaults to AUTO.\n",
        "-   `compute_p_values` = TRUE, Logical. Request p-values computation, p-values work only with IRLSM solver and no regularization Defaults to FALSE.\n",
        "-   `nfolds` = 10, Number of folds for K-fold cross-validation, 0 to disable or \\>= 2). Defaults to 0.\n",
        "-   `keep_cross_validation_models` = TRUE, logical. Whether to keep the cross-validation models.Defaults to TRUE.\n",
        "-   `early_stopping` = TRUE, Logical. Stop early when there is no more relative improvement on train or validation (if provided). Defaults to TRUE\n",
        "-   `stopping_rounds` = 2, Early stopping based on convergence of stopping_metric. Stop if simple moving average of length k of the stopping_metric does not improve for k:=stopping_rounds scoring events (0 to disable). Defaults to 0.\n",
        "-   `stopping_metric` = \"RMSE\", Metric to use for early stopping\n",
        "-   `remove_collinear_columns` = TRUE, Logical. In case of linearly dependent columns, remove some of the dependent columns Defaults to FALSE.\n",
        "-   `standardize` = TRUE, Logical. Standardize numeric columns to have zero mean and unit variance Defaults to TRUE.\n",
        "- `seed` = 212, Set the random seed so that this can be reproduced."
      ]
    },
    {
      "cell_type": "code",
      "execution_count": null,
      "metadata": {
        "id": "L_QrW_5V5sLc"
      },
      "outputs": [],
      "source": [
        "%%R\n",
        "glm_h2o <- h2o.glm(\n",
        "  training_frame = h_train,\n",
        "  # validation_frame = valid,\n",
        "  x=x,\n",
        "  y=y,\n",
        "  model_id = \"GLM_MODEL_ID\",\n",
        "  family = \"gaussian\",\n",
        "  compute_p_values = TRUE,\n",
        "  nfolds = 10,\n",
        "  keep_cross_validation_models = TRUE,\n",
        "  early_stopping = TRUE,\n",
        "  stopping_rounds = 2,\n",
        "  stopping_metric = \"RMSE\",\n",
        "  remove_collinear_columns = TRUE,\n",
        "  standardize = TRUE,\n",
        "  seed = 212)"
      ]
    },
    {
      "cell_type": "markdown",
      "metadata": {
        "id": "uFTm8I-cSkLi"
      },
      "source": [
        "### Coefficients table"
      ]
    },
    {
      "cell_type": "code",
      "execution_count": null,
      "metadata": {
        "colab": {
          "base_uri": "https://localhost:8080/"
        },
        "id": "1TO5oa0sSkVZ",
        "outputId": "890c45c9-6bc4-4499-d3ed-94464d75c05b"
      },
      "outputs": [
        {
          "output_type": "stream",
          "name": "stdout",
          "text": [
            "Coefficients: glm coefficients\n",
            "             names coefficients std_error   z_value  p_value\n",
            "1        Intercept    13.633247  5.231131  2.606176 0.009950\n",
            "2     Land_type.HL    -2.937805  1.131129 -2.597234 0.010202\n",
            "3    Land_type.MHL     0.000000        NA        NA       NA\n",
            "4              WAs    17.962076  7.119860  2.522813 0.012539\n",
            "5               WP    -1.608739  1.390159 -1.157234 0.248763\n",
            "6              WFe     0.640984  0.235154  2.725803 0.007071\n",
            "7              WEc     0.384433  0.624478  0.615607 0.538958\n",
            "8              WpH     0.000000        NA        NA       NA\n",
            "9            SAoFe    -0.000802  0.000680 -1.178663 0.240142\n",
            "10             SpH     0.000000        NA        NA       NA\n",
            "11             SOC     1.936220  1.762132  1.098794 0.273376\n",
            "12            Sand     0.000000        NA        NA       NA\n",
            "13            Silt    -0.086503  0.059603 -1.451334 0.148488\n",
            "14              SP     0.101496  0.075191  1.349847 0.178818\n",
            "15       Elevation    -0.332905  0.350014 -0.951120 0.342863\n",
            "16 Year_Irrigation     0.701848  0.098221  7.145608 0.000000\n",
            "17    Distance_STW    -0.043802  0.075582 -0.579531 0.562980\n",
            "   standardized_coefficients\n",
            "1                  19.504428\n",
            "2                  -2.937805\n",
            "3                   0.000000\n",
            "4                   1.311629\n",
            "5                  -0.574977\n",
            "6                   1.212474\n",
            "7                   0.279778\n",
            "8                   0.000000\n",
            "9                  -0.498257\n",
            "10                  0.000000\n",
            "11                  0.587799\n",
            "12                  0.000000\n",
            "13                 -0.659353\n",
            "14                  0.568960\n",
            "15                 -0.538976\n",
            "16                  2.995273\n",
            "17                 -0.255996\n"
          ]
        }
      ],
      "source": [
        "%%R\n",
        "glm_h2o@model$coefficients_table"
      ]
    },
    {
      "cell_type": "markdown",
      "metadata": {
        "id": "pHnQakip7y1e"
      },
      "source": [
        "### Retrieve a graphical plot of the standardized coefficient magnitudes"
      ]
    },
    {
      "cell_type": "code",
      "execution_count": null,
      "metadata": {
        "colab": {
          "base_uri": "https://localhost:8080/",
          "height": 497
        },
        "id": "GPfbNOV97y8f",
        "outputId": "d4eefe2b-f150-4890-8981-6293424b573a"
      },
      "outputs": [
        {
          "output_type": "display_data",
          "data": {
            "image/png": "[encoded data removed]"
          },
          "metadata": {}
        }
      ],
      "source": [
        "%%R\n",
        "h2o.std_coef_plot(glm_h2o)"
      ]
    },
    {
      "cell_type": "markdown",
      "metadata": {
        "id": "pjRUD5ab8DNW"
      },
      "source": [
        "### Model Performance\n",
        "\n",
        "Given a trained H2O model, the `h2o.performance()`  function computes a model’s performance on a given dataset. H2O-3 provides a variety of metrics that can be used for evaluating supervised and unsupervised models. The following evaluation metrics are available for regression models.\n",
        "\n",
        "* `R2` (R Squared)\n",
        "* `MSE` (Mean Squared Error)\n",
        "* `RMSE` (Root Mean Squared Error)\n",
        "* `RMSLE` (Root Mean Squared Logarithmic Error)\n",
        "* `MAE` (Mean Absolute Error)\n"
      ]
    },
    {
      "cell_type": "code",
      "execution_count": null,
      "metadata": {
        "colab": {
          "base_uri": "https://localhost:8080/"
        },
        "id": "hHBAVs5P8DVi",
        "outputId": "4f8b31c4-458a-4d37-ae3f-01cd20ec8b6c"
      },
      "outputs": [
        {
          "output_type": "stream",
          "name": "stdout",
          "text": [
            "H2ORegressionMetrics: glm\n",
            "\n",
            "MSE:  27.41434\n",
            "RMSE:  5.235871\n",
            "MAE:  3.873109\n",
            "RMSLE:  0.2692648\n",
            "Mean Residual Deviance :  27.41434\n",
            "R^2 :  0.4981486\n",
            "Null Deviance :10215.14\n",
            "Null D.o.F. :186\n",
            "Residual Deviance :5126.482\n",
            "Residual D.o.F. :174\n",
            "AIC :1177.852\n",
            "\n"
          ]
        }
      ],
      "source": [
        "%%R\n",
        "# training performance\n",
        "h2o.performance(glm_h2o, h_train)"
      ]
    },
    {
      "cell_type": "code",
      "execution_count": null,
      "metadata": {
        "colab": {
          "base_uri": "https://localhost:8080/"
        },
        "id": "NFPJfRpOTNzo",
        "outputId": "f900214d-8972-4334-bb9f-4a061824d579"
      },
      "outputs": [
        {
          "output_type": "stream",
          "name": "stdout",
          "text": [
            "H2ORegressionMetrics: glm\n",
            "** Reported on cross-validation data. **\n",
            "** 10-fold cross-validation on training data (Metrics computed for combined holdout predictions) **\n",
            "\n",
            "MSE:  31.65557\n",
            "RMSE:  5.626328\n",
            "MAE:  4.159423\n",
            "RMSLE:  0.2870255\n",
            "Mean Residual Deviance :  31.65557\n",
            "R^2 :  0.4205079\n",
            "Null Deviance :10350.87\n",
            "Null D.o.F. :186\n",
            "Residual Deviance :5919.592\n",
            "Residual D.o.F. :175\n",
            "AIC :1202.752\n",
            "\n"
          ]
        }
      ],
      "source": [
        "%%R\n",
        "# CV-performance\n",
        "h2o.performance(glm_h2o, xval=TRUE)"
      ]
    },
    {
      "cell_type": "code",
      "execution_count": null,
      "metadata": {
        "colab": {
          "base_uri": "https://localhost:8080/"
        },
        "id": "01QktXAsTSKZ",
        "outputId": "00656e49-bfc4-4bbf-f132-9eb72de82590"
      },
      "outputs": [
        {
          "output_type": "stream",
          "name": "stdout",
          "text": [
            "H2ORegressionMetrics: glm\n",
            "\n",
            "MSE:  25.94239\n",
            "RMSE:  5.093368\n",
            "MAE:  3.77712\n",
            "RMSLE:  0.2852583\n",
            "Mean Residual Deviance :  25.94239\n",
            "R^2 :  0.5150016\n",
            "Null Deviance :4092.168\n",
            "Null D.o.F. :75\n",
            "Residual Deviance :1971.622\n",
            "Residual D.o.F. :63\n",
            "AIC :491.1254\n",
            "\n"
          ]
        }
      ],
      "source": [
        "%%R\n",
        "# test performance\n",
        "h2o.performance(glm_h2o, h_test)"
      ]
    },
    {
      "cell_type": "markdown",
      "metadata": {
        "id": "AoBKNguM9AUx"
      },
      "source": [
        "### Prediction at test locations"
      ]
    },
    {
      "cell_type": "code",
      "execution_count": null,
      "metadata": {
        "colab": {
          "base_uri": "https://localhost:8080/"
        },
        "id": "Il4g_lj39AdW",
        "outputId": "41ab90c8-9e97-4c30-fb69-c5d9d4951a82"
      },
      "outputs": [
        {
          "output_type": "stream",
          "name": "stdout",
          "text": [
            "         RMSE     MAE      MSE     MDAE         R2\n",
            "[1,] 5.093368 3.77712 25.94239 2.745812 0.08872893\n"
          ]
        }
      ],
      "source": [
        "%%R\n",
        "test.xy<- as.data.frame(h_test)\n",
        "pred.glm <- as.data.frame(h2o.predict(object = glm_h2o, newdata = h_test))\n",
        "test.xy$Pred_SAs<-pred.glm$predict\n",
        "test.lm<-lm(SOC ~ Pred_SAs, test.xy)\n",
        "test.matrics <- cbind(\"RMSE\"=Metrics::rmse(test.xy$SAs, test.xy$Pred_SAs),\n",
        "              \"MAE\"=Metrics::mae(test.xy$SAs, test.xy$Pred_SAs),\n",
        "              \"MSE\"= Metrics::mse(test.xy$SAs, test.xy$Pred_SAs),\n",
        "              \"MDAE\"=Metrics::mdae(test.xy$SAs, test.xy$Pred_SAs),\n",
        "              \"R2\"= summary(test.lm)$r.squared\n",
        "              )\n",
        "test.matrics"
      ]
    },
    {
      "cell_type": "code",
      "execution_count": null,
      "metadata": {
        "colab": {
          "base_uri": "https://localhost:8080/",
          "height": 434
        },
        "id": "e_IiKkP79K9u",
        "outputId": "cf4a3c8f-8eb0-445e-b5e1-69a9456ae02a"
      },
      "outputs": [
        {
          "output_type": "stream",
          "name": "stdout",
          "text": [
            "`geom_smooth()` using formula = 'y ~ x'\n"
          ]
        },
        {
          "output_type": "display_data",
          "data": {
            "image/png": "[encoded data removed]"
          },
          "metadata": {}
        }
      ],
      "source": [
        "%%R -w 400 -h 400 -u px\n",
        "\n",
        "formula<-y~x\n",
        "\n",
        "ggplot(test.xy, aes(SAs,Pred_SAs)) +\n",
        "  geom_point() +\n",
        "  geom_smooth(method = \"lm\")+\n",
        "  stat_poly_eq(use_label(c(\"eq\", \"adj.R2\")), formula = formula) +\n",
        "  ggtitle(\"H2O: Observed vs Predicted Soil As \") +\n",
        "  xlab(\"Observed\") + ylab(\"Predicted\") +\n",
        "  scale_x_continuous(limits=c(0,50), breaks=seq(0, 50, 10))+\n",
        "  scale_y_continuous(limits=c(0,50), breaks=seq(0, 50, 10)) +\n",
        "  # Flip the bars\n",
        "  theme(\n",
        "    panel.background = element_rect(fill = \"grey95\",colour = \"gray75\",size = 0.5, linetype = \"solid\"),\n",
        "    axis.line = element_line(colour = \"grey\"),\n",
        "    plot.title = element_text(size = 14, hjust = 0.5),\n",
        "    axis.title.x = element_text(size = 14),\n",
        "    axis.title.y = element_text(size = 14),\n",
        "    axis.text.x=element_text(size=13, colour=\"black\"),\n",
        "    axis.text.y=element_text(size=13,angle = 90,vjust = 0.5, hjust=0.5, colour='black'))"
      ]
    },
    {
      "cell_type": "markdown",
      "metadata": {
        "id": "ZQ7HlO8D4hfu"
      },
      "source": [
        "## GLM with Keras/Tensorflow\n",
        "\n",
        "[Keras](https://keras.io/) is a popular high-level deep learning library that provides a convenient and user-friendly API for building and training deep learning models. [TensorFlow](https://www.tensorflow.org/) is a powerful open-source deep learning framework that serves as the backend for Keras and provides efficient computation for training and running deep learning models.\n",
        "\n",
        "![alt text](http://drive.google.com/uc?export=view&id=1XW_i_SRQj4p9t4PJwU8TMoRl-oMV_HFy)\n",
        "\n",
        "While Keras is primarily known for its Python implementation, it also has support for other programming languages, including R. In R, you can use the [keras3 package](https://posit.co/blog/keras-for-r/) which provides an interface to the Keras library with [TensorFlow](https://tensorflow.rstudio.com/)\n",
        "\n",
        "In this excercise, we will run R code in a Colab notebook by creating an R runtime environment without  **rpy2** package.\n",
        "\n",
        "Here’s how you can set it up:\n",
        "\n",
        "1. In the toolbar, click on the “Runtime” menu and select “Change runtime type.”\n",
        "\n",
        "2. In the dialog box that appears, select “R” from the “Runtime type” dropdown.\n",
        "\n",
        "3. Click on the “Save” button to apply the changes.\n",
        "\n",
        "\n",
        "![alt text](http://drive.google.com/uc?export=view&id=1o_EmN1Z-NHyEiFzgu5QptKN6mK5i401b)\n",
        "\n",
        "\n",
        "Once you have set up the R runtime environment, you can start writing and executing R code in the notebook cells. To run a code cell, press Shift+Enter or click the “Play” button next to the cell.\n",
        "\n",
        "You can install R packages in Colab by using the **install.packages()** function.\n",
        "\n",
        "\n",
        "\n"
      ]
    },
    {
      "cell_type": "markdown",
      "metadata": {
        "id": "QYyvGkunInkG"
      },
      "source": [
        "### Installation\n",
        "The packages [tidymodel](https://www.tidymodels.org/), [keras](https://tensorflow.rstudio.com/) and some important packages are not installed in google colab. We have to install these packages:"
      ]
    },
    {
      "cell_type": "code",
      "source": [
        "pkg <- c(\n",
        "\t\t 'tidyverse',\n",
        "\t\t 'caret',\n",
        "\t\t 'tidymodels',\n",
        "     'keras',\n",
        "     'tensorflow',\n",
        "     'Metrics'\n",
        "      )\n",
        "new.packages <- pkg[!(pkg %in% installed.packages()[,\"Package\"])]\n",
        "\t\tif(length(new.packages)) install.packages(new.packages, repos = \"http://cran.us.r-project.org\")\n"
      ],
      "metadata": {
        "colab": {
          "base_uri": "https://localhost:8080/"
        },
        "id": "25sbNYAfMQDU",
        "outputId": "0982864d-8e64-4f6a-e8df-2a59d9776487"
      },
      "execution_count": 2,
      "outputs": [
        {
          "metadata": {
            "tags": null
          },
          "name": "stderr",
          "output_type": "stream",
          "text": [
            "Installing packages into ‘/usr/local/lib/R/site-library’\n",
            "(as ‘lib’ is unspecified)\n",
            "\n",
            "also installing the dependencies ‘shape’, ‘numDeriv’, ‘progressr’, ‘SQUAREM’, ‘diagram’, ‘lava’, ‘prodlim’, ‘warp’, ‘future.apply’, ‘listenv’, ‘parallelly’, ‘lhs’, ‘proxy’, ‘iterators’, ‘clock’, ‘gower’, ‘ipred’, ‘timeDate’, ‘DiceDesign’, ‘sfd’, ‘patchwork’, ‘globals’, ‘furrr’, ‘slider’, ‘doFuture’, ‘future’, ‘GPfit’, ‘modelenv’, ‘RcppTOML’, ‘here’, ‘png’, ‘e1071’, ‘foreach’, ‘ModelMetrics’, ‘plyr’, ‘pROC’, ‘recipes’, ‘reshape2’, ‘dials’, ‘hardhat’, ‘infer’, ‘modeldata’, ‘parsnip’, ‘rsample’, ‘tune’, ‘workflows’, ‘workflowsets’, ‘yardstick’, ‘reticulate’, ‘tfruns’, ‘zeallot’, ‘config’, ‘tfautograph’\n",
            "\n",
            "\n"
          ]
        }
      ]
    },
    {
      "cell_type": "markdown",
      "metadata": {
        "id": "XFS4laj9K20X"
      },
      "source": [
        "### Load Packages"
      ]
    },
    {
      "cell_type": "code",
      "execution_count": 4,
      "metadata": {
        "collapsed": true,
        "id": "jz4cklDb6TYh",
        "colab": {
          "base_uri": "https://localhost:8080/"
        },
        "outputId": "5a8a5e2d-27be-41aa-e5d0-09f272fcbe40"
      },
      "outputs": [
        {
          "output_type": "stream",
          "name": "stderr",
          "text": [
            "── \u001b[1mAttaching core tidyverse packages\u001b[22m ──────────────────────── tidyverse 2.0.0 ──\n",
            "\u001b[32m✔\u001b[39m \u001b[34mdplyr    \u001b[39m 1.1.4     \u001b[32m✔\u001b[39m \u001b[34mreadr    \u001b[39m 2.1.5\n",
            "\u001b[32m✔\u001b[39m \u001b[34mforcats  \u001b[39m 1.0.0     \u001b[32m✔\u001b[39m \u001b[34mstringr  \u001b[39m 1.5.1\n",
            "\u001b[32m✔\u001b[39m \u001b[34mggplot2  \u001b[39m 3.5.1     \u001b[32m✔\u001b[39m \u001b[34mtibble   \u001b[39m 3.2.1\n",
            "\u001b[32m✔\u001b[39m \u001b[34mlubridate\u001b[39m 1.9.3     \u001b[32m✔\u001b[39m \u001b[34mtidyr    \u001b[39m 1.3.1\n",
            "\u001b[32m✔\u001b[39m \u001b[34mpurrr    \u001b[39m 1.0.2     \n",
            "── \u001b[1mConflicts\u001b[22m ────────────────────────────────────────── tidyverse_conflicts() ──\n",
            "\u001b[31m✖\u001b[39m \u001b[34mdplyr\u001b[39m::\u001b[32mfilter()\u001b[39m masks \u001b[34mstats\u001b[39m::filter()\n",
            "\u001b[31m✖\u001b[39m \u001b[34mdplyr\u001b[39m::\u001b[32mlag()\u001b[39m    masks \u001b[34mstats\u001b[39m::lag()\n",
            "\u001b[36mℹ\u001b[39m Use the conflicted package (\u001b[3m\u001b[34m<http://conflicted.r-lib.org/>\u001b[39m\u001b[23m) to force all conflicts to become errors\n",
            "── \u001b[1mAttaching packages\u001b[22m ────────────────────────────────────── tidymodels 1.2.0 ──\n",
            "\n",
            "\u001b[32m✔\u001b[39m \u001b[34mbroom       \u001b[39m 1.0.6     \u001b[32m✔\u001b[39m \u001b[34mrsample     \u001b[39m 1.2.1\n",
            "\u001b[32m✔\u001b[39m \u001b[34mdials       \u001b[39m 1.3.0     \u001b[32m✔\u001b[39m \u001b[34mtune        \u001b[39m 1.2.1\n",
            "\u001b[32m✔\u001b[39m \u001b[34minfer       \u001b[39m 1.0.7     \u001b[32m✔\u001b[39m \u001b[34mworkflows   \u001b[39m 1.1.4\n",
            "\u001b[32m✔\u001b[39m \u001b[34mmodeldata   \u001b[39m 1.4.0     \u001b[32m✔\u001b[39m \u001b[34mworkflowsets\u001b[39m 1.1.0\n",
            "\u001b[32m✔\u001b[39m \u001b[34mparsnip     \u001b[39m 1.2.1     \u001b[32m✔\u001b[39m \u001b[34myardstick   \u001b[39m 1.3.1\n",
            "\u001b[32m✔\u001b[39m \u001b[34mrecipes     \u001b[39m 1.1.0     \n",
            "\n",
            "── \u001b[1mConflicts\u001b[22m ───────────────────────────────────────── tidymodels_conflicts() ──\n",
            "\u001b[31m✖\u001b[39m \u001b[34mscales\u001b[39m::\u001b[32mdiscard()\u001b[39m masks \u001b[34mpurrr\u001b[39m::discard()\n",
            "\u001b[31m✖\u001b[39m \u001b[34mdplyr\u001b[39m::\u001b[32mfilter()\u001b[39m   masks \u001b[34mstats\u001b[39m::filter()\n",
            "\u001b[31m✖\u001b[39m \u001b[34mrecipes\u001b[39m::\u001b[32mfixed()\u001b[39m  masks \u001b[34mstringr\u001b[39m::fixed()\n",
            "\u001b[31m✖\u001b[39m \u001b[34mdplyr\u001b[39m::\u001b[32mlag()\u001b[39m      masks \u001b[34mstats\u001b[39m::lag()\n",
            "\u001b[31m✖\u001b[39m \u001b[34myardstick\u001b[39m::\u001b[32mspec()\u001b[39m masks \u001b[34mreadr\u001b[39m::spec()\n",
            "\u001b[31m✖\u001b[39m \u001b[34mrecipes\u001b[39m::\u001b[32mstep()\u001b[39m   masks \u001b[34mstats\u001b[39m::step()\n",
            "\u001b[34m•\u001b[39m Use \u001b[32mtidymodels_prefer()\u001b[39m to resolve common conflicts.\n",
            "\n",
            "\n",
            "Attaching package: ‘keras’\n",
            "\n",
            "\n",
            "The following object is masked from ‘package:yardstick’:\n",
            "\n",
            "    get_weights\n",
            "\n",
            "\n",
            "Loading required package: lattice\n",
            "\n",
            "\n",
            "Attaching package: ‘caret’\n",
            "\n",
            "\n",
            "The following object is masked from ‘package:tensorflow’:\n",
            "\n",
            "    train\n",
            "\n",
            "\n",
            "The following objects are masked from ‘package:yardstick’:\n",
            "\n",
            "    precision, recall, sensitivity, specificity\n",
            "\n",
            "\n",
            "The following object is masked from ‘package:purrr’:\n",
            "\n",
            "    lift\n",
            "\n",
            "\n",
            "\n",
            "Attaching package: ‘Metrics’\n",
            "\n",
            "\n",
            "The following objects are masked from ‘package:caret’:\n",
            "\n",
            "    precision, recall\n",
            "\n",
            "\n",
            "The following objects are masked from ‘package:yardstick’:\n",
            "\n",
            "    accuracy, mae, mape, mase, precision, recall, rmse, smape\n",
            "\n",
            "\n"
          ]
        }
      ],
      "source": [
        "library(tidyverse)\n",
        "library(tidymodels)\n",
        "library(tensorflow)\n",
        "library(keras)\n",
        "library(caret)\n",
        "library(Metrics)\n"
      ]
    },
    {
      "cell_type": "markdown",
      "metadata": {
        "id": "2Nd1ga_9DKiO"
      },
      "source": [
        "### Data"
      ]
    },
    {
      "cell_type": "code",
      "execution_count": 5,
      "metadata": {
        "colab": {
          "base_uri": "https://localhost:8080/"
        },
        "id": "blQcrva1DKr4",
        "outputId": "b467b06d-cbd5-486e-ea94-86972d6887c7"
      },
      "outputs": [
        {
          "output_type": "stream",
          "name": "stderr",
          "text": [
            "\u001b[1mRows: \u001b[22m\u001b[34m263\u001b[39m \u001b[1mColumns: \u001b[22m\u001b[34m29\u001b[39m\n",
            "\u001b[36m──\u001b[39m \u001b[1mColumn specification\u001b[22m \u001b[36m────────────────────────────────────────────────────────\u001b[39m\n",
            "\u001b[1mDelimiter:\u001b[22m \",\"\n",
            "\u001b[31mchr\u001b[39m  (1): Land_type\n",
            "\u001b[32mdbl\u001b[39m (28): ID, Longitude, Latitude, WAs, WP, WFe, WEc, WpH, WMg, WNa, WCa, WK...\n",
            "\n",
            "\u001b[36mℹ\u001b[39m Use `spec()` to retrieve the full column specification for this data.\n",
            "\u001b[36mℹ\u001b[39m Specify the column types or set `show_col_types = FALSE` to quiet this message.\n"
          ]
        },
        {
          "output_type": "stream",
          "name": "stdout",
          "text": [
            "Rows: 263\n",
            "Columns: 16\n",
            "$ WAs             \u001b[3m\u001b[90m<dbl>\u001b[39m\u001b[23m 0.059, 0.059, 0.079, 0.122, 0.072, 0.042, 0.075, 0.064…\n",
            "$ WP              \u001b[3m\u001b[90m<dbl>\u001b[39m\u001b[23m 0.761, 1.194, 1.317, 1.545, 0.966, 1.058, 0.868, 0.890…\n",
            "$ WFe             \u001b[3m\u001b[90m<dbl>\u001b[39m\u001b[23m 3.44, 4.93, 9.70, 8.58, 4.78, 6.95, 7.81, 8.14, 8.99, …\n",
            "$ WEc             \u001b[3m\u001b[90m<dbl>\u001b[39m\u001b[23m 1.03, 1.07, 1.40, 0.83, 1.42, 1.82, 1.71, 1.74, 1.57, …\n",
            "$ WpH             \u001b[3m\u001b[90m<dbl>\u001b[39m\u001b[23m 7.03, 7.06, 6.84, 6.85, 6.95, 6.89, 6.86, 6.98, 6.82, …\n",
            "$ SAoFe           \u001b[3m\u001b[90m<dbl>\u001b[39m\u001b[23m 2500, 2670, 2160, 2500, 2060, 2500, 2520, 2140, 2150, …\n",
            "$ SpH             \u001b[3m\u001b[90m<dbl>\u001b[39m\u001b[23m 7.74, 7.87, 8.03, 8.07, 7.81, 7.77, 7.66, 7.89, 8.00, …\n",
            "$ SOC             \u001b[3m\u001b[90m<dbl>\u001b[39m\u001b[23m 1.66, 1.26, 1.36, 1.61, 1.26, 1.74, 1.71, 1.69, 1.41, …\n",
            "$ Sand            \u001b[3m\u001b[90m<dbl>\u001b[39m\u001b[23m 16.3, 11.1, 12.3, 12.7, 12.1, 16.7, 16.8, 13.7, 12.6, …\n",
            "$ Silt            \u001b[3m\u001b[90m<dbl>\u001b[39m\u001b[23m 44.8, 48.7, 46.4, 43.6, 50.9, 43.6, 43.4, 40.8, 44.9, …\n",
            "$ SP              \u001b[3m\u001b[90m<dbl>\u001b[39m\u001b[23m 13.79, 15.31, 15.54, 16.28, 14.20, 13.41, 13.26, 14.84…\n",
            "$ Elevation       \u001b[3m\u001b[90m<dbl>\u001b[39m\u001b[23m 3, 5, 4, 3, 5, 2, 2, 3, 3, 3, 2, 5, 6, 6, 5, 5, 4, 6, …\n",
            "$ Year_Irrigation \u001b[3m\u001b[90m<dbl>\u001b[39m\u001b[23m 14, 20, 10, 8, 10, 9, 8, 10, 8, 2, 20, 4, 15, 10, 5, 4…\n",
            "$ Distance_STW    \u001b[3m\u001b[90m<dbl>\u001b[39m\u001b[23m 5, 6, 5, 8, 5, 5, 10, 8, 10, 8, 5, 5, 9, 5, 10, 10, 12…\n",
            "$ Land_type       \u001b[3m\u001b[90m<chr>\u001b[39m\u001b[23m \"MHL\", \"MHL\", \"MHL\", \"MHL\", \"MHL\", \"MHL\", \"MHL\", \"MHL\"…\n",
            "$ SAs             \u001b[3m\u001b[90m<dbl>\u001b[39m\u001b[23m 29.10, 45.10, 23.20, 23.80, 26.00, 25.60, 26.30, 31.60…\n"
          ]
        }
      ],
      "source": [
        "mf<-readr::read_csv(\"https://github.com/zia207/r-colab/raw/main/Data/Regression_analysis/bd_soil_arsenic.csv\")\n",
        "# Create a data-frame\n",
        "df<- mf |>\n",
        "  dplyr::select (WAs, WP, WFe,\n",
        "                WEc, WpH, SAoFe, SpH, SOC,\n",
        "                Sand, Silt, SP, Elevation,\n",
        "                Year_Irrigation, Distance_STW,\n",
        "                Land_type, SAs) |>\n",
        "        glimpse()"
      ]
    },
    {
      "cell_type": "markdown",
      "source": [
        "### Data Pre-processing"
      ],
      "metadata": {
        "id": "pUfSR50tQd-6"
      }
    },
    {
      "cell_type": "code",
      "source": [
        "dataset <- recipe(SAs ~ ., data = df) |>\n",
        "  step_zv(all_predictors()) |>\n",
        "  step_dummy(all_nominal()) |>\n",
        "  prep() |>\n",
        "  bake(new_data = NULL) |>\n",
        "  glimpse()"
      ],
      "metadata": {
        "colab": {
          "base_uri": "https://localhost:8080/"
        },
        "id": "a3aKhIsAQeOU",
        "outputId": "ce2bdb01-4402-45de-8039-0b9ea5372e3a"
      },
      "execution_count": 6,
      "outputs": [
        {
          "output_type": "stream",
          "name": "stdout",
          "text": [
            "Rows: 263\n",
            "Columns: 16\n",
            "$ WAs             \u001b[3m\u001b[90m<dbl>\u001b[39m\u001b[23m 0.059, 0.059, 0.079, 0.122, 0.072, 0.042, 0.075, 0.064…\n",
            "$ WP              \u001b[3m\u001b[90m<dbl>\u001b[39m\u001b[23m 0.761, 1.194, 1.317, 1.545, 0.966, 1.058, 0.868, 0.890…\n",
            "$ WFe             \u001b[3m\u001b[90m<dbl>\u001b[39m\u001b[23m 3.44, 4.93, 9.70, 8.58, 4.78, 6.95, 7.81, 8.14, 8.99, …\n",
            "$ WEc             \u001b[3m\u001b[90m<dbl>\u001b[39m\u001b[23m 1.03, 1.07, 1.40, 0.83, 1.42, 1.82, 1.71, 1.74, 1.57, …\n",
            "$ WpH             \u001b[3m\u001b[90m<dbl>\u001b[39m\u001b[23m 7.03, 7.06, 6.84, 6.85, 6.95, 6.89, 6.86, 6.98, 6.82, …\n",
            "$ SAoFe           \u001b[3m\u001b[90m<dbl>\u001b[39m\u001b[23m 2500, 2670, 2160, 2500, 2060, 2500, 2520, 2140, 2150, …\n",
            "$ SpH             \u001b[3m\u001b[90m<dbl>\u001b[39m\u001b[23m 7.74, 7.87, 8.03, 8.07, 7.81, 7.77, 7.66, 7.89, 8.00, …\n",
            "$ SOC             \u001b[3m\u001b[90m<dbl>\u001b[39m\u001b[23m 1.66, 1.26, 1.36, 1.61, 1.26, 1.74, 1.71, 1.69, 1.41, …\n",
            "$ Sand            \u001b[3m\u001b[90m<dbl>\u001b[39m\u001b[23m 16.3, 11.1, 12.3, 12.7, 12.1, 16.7, 16.8, 13.7, 12.6, …\n",
            "$ Silt            \u001b[3m\u001b[90m<dbl>\u001b[39m\u001b[23m 44.8, 48.7, 46.4, 43.6, 50.9, 43.6, 43.4, 40.8, 44.9, …\n",
            "$ SP              \u001b[3m\u001b[90m<dbl>\u001b[39m\u001b[23m 13.79, 15.31, 15.54, 16.28, 14.20, 13.41, 13.26, 14.84…\n",
            "$ Elevation       \u001b[3m\u001b[90m<dbl>\u001b[39m\u001b[23m 3, 5, 4, 3, 5, 2, 2, 3, 3, 3, 2, 5, 6, 6, 5, 5, 4, 6, …\n",
            "$ Year_Irrigation \u001b[3m\u001b[90m<dbl>\u001b[39m\u001b[23m 14, 20, 10, 8, 10, 9, 8, 10, 8, 2, 20, 4, 15, 10, 5, 4…\n",
            "$ Distance_STW    \u001b[3m\u001b[90m<dbl>\u001b[39m\u001b[23m 5, 6, 5, 8, 5, 5, 10, 8, 10, 8, 5, 5, 9, 5, 10, 10, 12…\n",
            "$ SAs             \u001b[3m\u001b[90m<dbl>\u001b[39m\u001b[23m 29.10, 45.10, 23.20, 23.80, 26.00, 25.60, 26.30, 31.60…\n",
            "$ Land_type_MHL   \u001b[3m\u001b[90m<dbl>\u001b[39m\u001b[23m 1, 1, 1, 1, 1, 1, 1, 1, 1, 1, 1, 0, 1, 0, 0, 0, 0, 0, …\n"
          ]
        }
      ]
    },
    {
      "cell_type": "markdown",
      "metadata": {
        "id": "FLieqTC6DfE1"
      },
      "source": [
        "### Split the data into training and test sets"
      ]
    },
    {
      "cell_type": "code",
      "execution_count": 7,
      "metadata": {
        "id": "SJLZk0n7DfOd"
      },
      "outputs": [],
      "source": [
        "split <- initial_split(dataset, 0.8)\n",
        "train_dataset <- training(split)\n",
        "test_dataset <- testing(split)"
      ]
    },
    {
      "cell_type": "markdown",
      "metadata": {
        "id": "AV2qvP0NDofC"
      },
      "source": [
        "### Split features from labels (SAs)\n",
        "\n",
        "Separate the target or response value---the \"label\" (SAs) from the features. This label is the value that you will train the model to predict."
      ]
    },
    {
      "cell_type": "code",
      "execution_count": 8,
      "metadata": {
        "id": "FBwgsPG_DpO_"
      },
      "outputs": [],
      "source": [
        "# training data set\n",
        "X_train <- train_dataset  |>\n",
        "  select(-SAs) |>\n",
        "  scale()\n",
        "y_train <- train_dataset$SAs\n",
        "# test dataset\n",
        "X_test <- test_dataset  |>\n",
        "  select(-SAs) |>\n",
        "  scale()\n",
        "y_test <- test_dataset$SAs"
      ]
    },
    {
      "cell_type": "markdown",
      "metadata": {
        "id": "G-i0FP9uNIka"
      },
      "source": [
        "### Build the Keras Sequential model\n",
        "\n",
        "In R, the keras package provides an interface to the Keras deep learning library. The `keras_model_sequential()` function in R is used to create a Sequential model, similar to its counterpart in Python. Sequential is a type of model in Keras. In Keras, you can define models either in a sequential manner or by creating more complex models using the functional API. The Sequential model is a linear stack of layers, where you can add layers one by one."
      ]
    },
    {
      "cell_type": "code",
      "execution_count": null,
      "metadata": {
        "id": "R3nq7pXUNJZQ"
      },
      "outputs": [],
      "source": [
        "model <- keras_model_sequential()\n",
        "model %>%\n",
        "  layer_dense(units = 1, input_shape = ncol(X_train))"
      ]
    },
    {
      "cell_type": "markdown",
      "source": [
        "### Compile Keras Model\n",
        "\n",
        "Once the model is built, configure the training procedure using the Keras `compile()` method. The most important arguments to compile are the `loss` and the `optimizer`, since these define what will be optimized (`mean_absolute_error`) and how (using the `optimizer_adam`)."
      ],
      "metadata": {
        "id": "am2_wAup-e3F"
      }
    },
    {
      "cell_type": "code",
      "execution_count": null,
      "metadata": {
        "id": "qRoL1y4_PFbN"
      },
      "outputs": [],
      "source": [
        "model |>  compile(\n",
        "  optimizer = optimizer_adam(learning_rate = 0.1),\n",
        "  loss = 'mean_absolute_error',\n",
        "  metrics = c('mean_absolute_error')\n",
        ")"
      ]
    },
    {
      "cell_type": "markdown",
      "source": [
        "An `optimizer` is an algorithm or method used to adjust the attributes of the neural network such as weights and learning rate in order to minimize the error (or loss) during training.\n",
        "\n",
        "During the training process, model learns from the data by iteratively updating its parameters to reduce the difference between the predicted output and the actual output. This difference is quantified by a `loss function`, which measures how well the model is performing on the training data.\n",
        "\n",
        "The `optimizer's` role is to minimize this `loss function` by adjusting the parameters (weights and biases) of the models. Different `optimizers` use different algorithms and strategies for updating these parameters. Some common optimizers include:\n",
        "\n",
        "1.  **Stochastic Gradient Descent (SGD)**: This is one of the simplest and most commonly used `optimizers`. It updates the parameters in the direction that reduces the loss by taking small steps proportional to the negative of the gradient of the loss function with respect to the parameters.\n",
        "\n",
        "2.  **Adam**: Adam stands for Adaptive Moment Estimation. It is a popular and efficient optimizer that computes `adaptive learning rates` (ability of the optimizer to automatically adjust the learning rate during the training process based on the behavior of the gradients or other factors) for each parameter. It combines the advantages of two other extensions of SGD, namely AdaGrad and RMSProp.\n",
        "\n",
        "3.  **RMSprop**: RMSprop (Root Mean Square Propagation) is another adaptive learning rate optimization algorithm. It maintains a moving average of squared gradients for each parameter and uses that to normalize the gradient updates.\n",
        "\n",
        "4.  **Adagrad**: Adagrad (Adaptive Gradient Algorithm) is an optimizer that adapts the learning rate to the parameters. It performs larger updates for infrequent parameters and smaller updates for frequent ones.\n",
        "\n",
        "5.  **Adamax**: `Adamax` is a variant of Adam based on the infinity norm.\n",
        "\n",
        "6.  **Nadam**: Nadam is Adam RMSprop with Nesterov momentum.\n",
        "\n",
        "Choosing the right optimizer is important as it can significantly affect the performance and convergence speed of your neural network model. It often requires experimentation and tuning to find the optimizer that works best for a particular problem domain and dataset."
      ],
      "metadata": {
        "id": "x1kbK3c7-njt"
      }
    },
    {
      "cell_type": "markdown",
      "source": [
        "### Fit Keras Model\n",
        "\n",
        "Use Keras `fit()` to execute the training for 100 epochs:"
      ],
      "metadata": {
        "id": "7-s6kP15-sQm"
      }
    },
    {
      "cell_type": "code",
      "source": [
        "history<-model |> fit(\n",
        "  X_train, y_train,\n",
        "  epochs = 100,\n",
        "  batch_size = 5,\n",
        "  validation_split = 0.3\n",
        ")"
      ],
      "metadata": {
        "id": "wvGUVpgG-v_w"
      },
      "execution_count": null,
      "outputs": []
    },
    {
      "cell_type": "code",
      "source": [
        "plot(history)"
      ],
      "metadata": {
        "id": "JfCcd1iTS3nW"
      },
      "execution_count": null,
      "outputs": []
    },
    {
      "cell_type": "markdown",
      "source": [
        "### Prediction\n"
      ],
      "metadata": {
        "id": "NoaBpfe4-2kc"
      }
    },
    {
      "cell_type": "code",
      "source": [
        "#### Prediction\n",
        "test_results <- list()\n",
        "\n",
        "test_results[['linear_model']] <- model  |>  evaluate(\n",
        "  X_test,\n",
        "  y_test,\n",
        "  verbose = 0\n",
        ")\n",
        "test_results"
      ],
      "metadata": {
        "id": "azLWW3IP-8Fv"
      },
      "execution_count": null,
      "outputs": []
    },
    {
      "cell_type": "code",
      "source": [
        "y_pred <- predict(model, X_test)\n",
        "RMSE<- Metrics::rmse(y_test,y_pred)\n",
        "MAE<- Metrics::mae(y_test,y_pred)\n",
        "\n",
        "# Print results\n",
        "paste0(\"RMSE: \", round(RMSE,2))\n",
        "paste0(\"MAE: \", round(MAE,2))"
      ],
      "metadata": {
        "id": "7rthM-gG_Gv3"
      },
      "execution_count": null,
      "outputs": []
    },
    {
      "cell_type": "markdown",
      "source": [
        "`scatter_plot()` function of **metrica** package draws a scatter plot of predictions and observations. The plot also includes the 1:1 line (solid line) and the linear regression line (dashed line).\n"
      ],
      "metadata": {
        "id": "ieeNIlDO_KOe"
      }
    },
    {
      "cell_type": "code",
      "source": [
        "my.metrics <- c(\"R2\",\"MAE\", \"RMSE\")\n",
        "metrica::scatter_plot(data = test_labels,\n",
        "                  obs = SAs,\n",
        "                  pred = Pred.SAs$V1,\n",
        "                  print_metrics = TRUE, metrics_list = my.metrics,\n",
        "                  position_metrics = c(x =5, y = 45)) +\n",
        "            theme_light()+\n",
        "            ggtitle(\"Keras GLM Model \")"
      ],
      "metadata": {
        "id": "Rzyvh6Qy_NGu"
      },
      "execution_count": null,
      "outputs": []
    },
    {
      "cell_type": "markdown",
      "metadata": {
        "id": "mIRMjL69VPVu"
      },
      "source": [
        "## Summary and Conclusion\n",
        "\n",
        "In this tutorial, we explored different approaches to perform GLM regression analysis in R using various packages. Each package has its own set of advantages and is suitable for different use cases.\n",
        "\n",
        "R-base offers a powerful toolset for building GLM models and conducting diagnostics. If you want to train and evaluate GLM models, Caret simplifies the process, especially when comparing multiple algorithms.\n",
        "\n",
        "Tidymodels, on the other hand, provides a tidy and modular workflow for building complex modeling pipelines. It promotes reproducibility and ease of interpretation, making it a great option for anyone looking for a systematic approach.\n",
        "\n",
        "Lastly, if you're working with large datasets and need to scale GLM models using distributed computing, H2o is ideal. It's a powerful tool that can handle big data with ease.\n",
        "\n",
        "By familiarizing yourself with these different packages, you can choose the most appropriate toolset based on your specific needs. Whether you're looking for simplicity, flexibility, or scalability, you can conduct GLM regression analysis efficiently and effectively.\n",
        "\n"
      ]
    },
    {
      "cell_type": "markdown",
      "metadata": {
        "id": "rUHrNY9J9lMg"
      },
      "source": [
        "## References\n",
        "\n",
        "1.  [GLM in R: Generalized Linear Model](https://www.datacamp.com/tutorial/generalized-linear-models)\n",
        "\n",
        "2.  [GLM in R: Generalized Linear Model with Example](https://www.guru99.com/r-generalized-linear-model.html)\n",
        "\n",
        "3.  [caret](https://topepo.github.io/caret/)\n",
        "\n",
        "4.  [tidymodels](https://www.tidymodels.org/)\n",
        "\n",
        "5.  [H2O Generalized Linear Model (GLM)](https://docs.h2o.ai/h2o/latest-stable/h2o-docs/data-science/glm.html)\n",
        "\n",
        "6.  [Keras examples](https://keras.posit.co/articles/examples/index.html#structured-data)\n",
        "\n",
        "7.  [Basic Regression with Tensorflow -R](https://tensorflow.rstudio.com/tutorials/keras/regression)\n",
        "\n",
        "\n",
        "\n"
      ]
    }
  ],
  "metadata": {
    "colab": {
      "provenance": [],
      "authorship_tag": "ABX9TyN926u9lI1rBIu6FkGnac2w",
      "include_colab_link": true
    },
    "kernelspec": {
      "display_name": "R",
      "name": "ir"
    },
    "language_info": {
      "name": "R"
    }
  },
  "nbformat": 4,
  "nbformat_minor": 0
}