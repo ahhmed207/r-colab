{
  "nbformat": 4,
  "nbformat_minor": 0,
  "metadata": {
    "colab": {
      "provenance": [],
      "toc_visible": true,
      "authorship_tag": "ABX9TyOMzw2MWFPHdBgzmbNLcfgc",
      "include_colab_link": true
    },
    "kernelspec": {
      "name": "python3",
      "display_name": "Python 3"
    },
    "language_info": {
      "name": "python"
    }
  },
  "cells": [
    {
      "cell_type": "markdown",
      "metadata": {
        "id": "view-in-github",
        "colab_type": "text"
      },
      "source": [
        "<a href=\"https://colab.research.google.com/github/zia207/r-colab/blob/main/NoteBook/Advance_Regression/survival-analysis-cox-regression-r.ipynb\" target=\"_parent\"><img src=\"https://colab.research.google.com/assets/colab-badge.svg\" alt=\"Open In Colab\"/></a>"
      ]
    },
    {
      "cell_type": "markdown",
      "source": [
        "![alt text](http://drive.google.com/uc?export=view&id=1bLQ3nhDbZrCCqy_WCxxckOne2lgVvn3l)"
      ],
      "metadata": {
        "id": "PYplqK-VsB8E"
      }
    },
    {
      "cell_type": "markdown",
      "source": [
        "# Cox Regression"
      ],
      "metadata": {
        "id": "k_8T6NOosR51"
      }
    },
    {
      "cell_type": "markdown",
      "source": [
        "## Introduction\n",
        "\n",
        "**Cox Regression**, also known as the **Cox Proportional Hazards Model**, is a statistical technique widely used in survival analysis to study the relationship between survival time (time-to-event) and one or more predictor variables (covariates). Developed by Sir David Cox in 1972, this semi-parametric model is particularly useful because it does not require the specification of a baseline hazard function, making it flexible for analyzing survival data.\n",
        "\n",
        "***Key Concepts of Cox Regression***:\n",
        "\n",
        "1. **Hazard Function**:\n",
        "   - The hazard function $h(t)$ represents the instantaneous rate at which events occur at time $t$, given that the subject has survived up to time $t$. It can be thought of as the risk of an event occurring in the next instant of time.\n",
        "\n",
        "2. **Proportional Hazards Assumption**:\n",
        "   - The key assumption of Cox regression is that the hazard ratios between different levels of the covariates are **proportional** over time. This means that the effect of the covariates on survival is constant and does not change as time progresses.\n",
        "\n",
        "3. **Semi-parametric Model**:\n",
        "   - The Cox model is called semi-parametric because it does not require a specific form for the baseline hazard function, \\( h_0(t) \\), making it flexible. It estimates the effect of covariates on the hazard function while leaving the baseline hazard unspecified.\n",
        "\n",
        "4. **Hazard Ratio (HR)**:\n",
        "   - The model estimates the **hazard ratio**, which quantifies the effect of a covariate on the hazard. A hazard ratio of:\n",
        "     - **HR = 1**: No effect (covariate does not influence the risk).\n",
        "     - **HR > 1**: Increased hazard (higher risk of the event).\n",
        "     - **HR < 1**: Decreased hazard (lower risk of the event).\n",
        "\n",
        "***Cox Proportional Hazards Model Equation:***\n",
        "\n",
        "The Cox model can be written as:\n",
        "\n",
        "$$ h(t|X) = h_0(t) \\cdot \\exp(\\beta_1 X_1 + \\beta_2 X_2 + \\dots + \\beta_p X_p) $$\n",
        "\n",
        "Where:\n",
        "- $h(t|X)$ is the hazard at time $t$ for an individual with covariates $X_1, X_2, \\dots, X_p$.\n",
        "- $h_0(t)$ is the baseline hazard function (the hazard when all covariates are zero).\n",
        "- $\\beta_1, \\beta_2, \\dots, \\beta_p$ are the coefficients that quantify the effect of each covariate on the hazard.\n",
        "- $X_1, X_2, \\dots, X_p$ are the covariates (predictors or risk factors).\n",
        "\n",
        "The quantity $\\exp(\\beta)$ is the hazard ratio (HR) for each covariate, which represents the relative risk associated with a one-unit increase in that covariate.\n",
        "\n",
        "***Steps in Cox Regression***:\n",
        "\n",
        "1. **Model Fitting**: Fit the Cox model to the survival data by estimating the regression coefficients $\\beta$ for the covariates.\n",
        "2. **Estimate Hazard Ratios**: Compute the hazard ratios $\\exp(\\beta)$, which tell how much the risk of the event changes with a one-unit increase in each covariate.\n",
        "3. **Check the Proportional Hazards Assumption**: Verify if the proportional hazards assumption holds by assessing whether the hazard ratios remain constant over time.\n",
        "4. **Interpretation**: Interpret the hazard ratios to understand how the covariates influence the time to event.\n",
        "\n",
        "\n",
        "\n"
      ],
      "metadata": {
        "id": "rYkF3LgwHflQ"
      }
    },
    {
      "cell_type": "markdown",
      "source": [
        "## Install rpy2"
      ],
      "metadata": {
        "id": "9n6LEpyGsycn"
      }
    },
    {
      "cell_type": "code",
      "source": [
        "!pip uninstall rpy2 -y\n",
        "!pip install rpy2==3.5.1\n",
        "%load_ext rpy2.ipython"
      ],
      "metadata": {
        "colab": {
          "base_uri": "https://localhost:8080/"
        },
        "id": "Sn1uQzxIs01n",
        "outputId": "392dd84a-b67a-482f-f3bb-bb1d2d828052"
      },
      "execution_count": null,
      "outputs": [
        {
          "output_type": "stream",
          "name": "stdout",
          "text": [
            "Found existing installation: rpy2 3.4.2\n",
            "Uninstalling rpy2-3.4.2:\n",
            "  Successfully uninstalled rpy2-3.4.2\n",
            "Collecting rpy2==3.5.1\n",
            "  Downloading rpy2-3.5.1.tar.gz (201 kB)\n",
            "\u001b[2K     \u001b[90m━━━━━━━━━━━━━━━━━━━━━━━━━━━━━━━━━━━━━━━━\u001b[0m \u001b[32m201.7/201.7 kB\u001b[0m \u001b[31m5.0 MB/s\u001b[0m eta \u001b[36m0:00:00\u001b[0m\n",
            "\u001b[?25h  Preparing metadata (setup.py) ... \u001b[?25l\u001b[?25hdone\n",
            "Requirement already satisfied: cffi>=1.10.0 in /usr/local/lib/python3.10/dist-packages (from rpy2==3.5.1) (1.17.1)\n",
            "Requirement already satisfied: jinja2 in /usr/local/lib/python3.10/dist-packages (from rpy2==3.5.1) (3.1.4)\n",
            "Requirement already satisfied: pytz in /usr/local/lib/python3.10/dist-packages (from rpy2==3.5.1) (2024.2)\n",
            "Requirement already satisfied: tzlocal in /usr/local/lib/python3.10/dist-packages (from rpy2==3.5.1) (5.2)\n",
            "Requirement already satisfied: pycparser in /usr/local/lib/python3.10/dist-packages (from cffi>=1.10.0->rpy2==3.5.1) (2.22)\n",
            "Requirement already satisfied: MarkupSafe>=2.0 in /usr/local/lib/python3.10/dist-packages (from jinja2->rpy2==3.5.1) (3.0.1)\n",
            "Building wheels for collected packages: rpy2\n",
            "  Building wheel for rpy2 (setup.py) ... \u001b[?25l\u001b[?25hdone\n",
            "  Created wheel for rpy2: filename=rpy2-3.5.1-cp310-cp310-linux_x86_64.whl size=314951 sha256=ac0cfc7651a0ebced7155d3cb534a79a61b8b2a5df19fb9d4a828d5d407d5fb1\n",
            "  Stored in directory: /root/.cache/pip/wheels/73/a6/ff/4e75dd1ce1cfa2b9a670cbccf6a1e41c553199e9b25f05d953\n",
            "Successfully built rpy2\n",
            "Installing collected packages: rpy2\n",
            "Successfully installed rpy2-3.5.1\n"
          ]
        }
      ]
    },
    {
      "cell_type": "markdown",
      "source": [
        "## Mount Google Drive"
      ],
      "metadata": {
        "id": "QC6sIX7Fs4dC"
      }
    },
    {
      "cell_type": "code",
      "source": [
        "from google.colab import drive\n",
        "drive.mount('/content/drive')"
      ],
      "metadata": {
        "colab": {
          "base_uri": "https://localhost:8080/"
        },
        "id": "FyS01C5Ss403",
        "outputId": "5587d56b-ceda-4c94-cb16-8fba67c6e3d9"
      },
      "execution_count": null,
      "outputs": [
        {
          "output_type": "stream",
          "name": "stdout",
          "text": [
            "Mounted at /content/drive\n"
          ]
        }
      ]
    },
    {
      "cell_type": "markdown",
      "source": [
        "### Cox Regression in R\n",
        "\n",
        "This tutorial is mostly used two R packages [{survival}](https://cran.r-project.org/web/packages/survival/index.html) and [{ggsurvfit}](https://www.danieldsjoberg.com/ggsurvfit/). Additionally we will use [{ggfortify}](https://github.com/sinhrks/ggfortify) which offers `fortify` and `autoplot` functions to allow automatic ggplot2 to visualize Kaplan-Meier plots.\n",
        "\n"
      ],
      "metadata": {
        "id": "wDq8HAf-J5as"
      }
    },
    {
      "cell_type": "markdown",
      "source": [
        "### Install Required R Packages\n",
        "\n"
      ],
      "metadata": {
        "id": "MBPB39h9tCoZ"
      }
    },
    {
      "cell_type": "code",
      "source": [
        "%%R\n",
        "pkg <- c('tidyverse',\n",
        "     'plyr',\n",
        "\t\t 'gt',\n",
        "\t\t 'DataExplorer',\n",
        "\t\t 'rstatix',\n",
        "\t\t 'report',\n",
        "\t\t 'performance',\n",
        "\t\t 'jtools',\n",
        "\t\t 'margins',\n",
        "\t\t 'marginaleffects',\n",
        "\t\t 'ggeffects',\n",
        "\t\t 'patchwork',\n",
        "\t\t 'Metrics',\n",
        "\t\t 'ggpmisc',\n",
        "\t\t 'caret',\n",
        "\t\t 'tidymodels',\n",
        "\t\t 'metrica',\n",
        "\t\t 'RColorBrewer',\n",
        "     'MASS',\n",
        "     'epiDisplay',\n",
        "\t\t 'survival',\n",
        "\t\t 'survminer',\n",
        "\t\t 'ggsurvfit',\n",
        "\t\t 'tidycmprsk',\n",
        "\t\t  'ggfortify'\n",
        "\t\t )\n",
        "new.packages <- pkg[!(pkg %in% installed.packages(lib='drive/My Drive/R/')[,\"Package\"])]\n",
        "if(length(new.packages)) install.packages(new.packages, lib='drive/My Drive/R/')"
      ],
      "metadata": {
        "id": "6gNs99XwtCvv"
      },
      "execution_count": null,
      "outputs": []
    },
    {
      "cell_type": "code",
      "source": [
        "%%R\n",
        "devtools::install_github(\"zabore/condsurv\", lib='drive/My Drive/R/')"
      ],
      "metadata": {
        "id": "W_i3qhShtTXQ"
      },
      "execution_count": null,
      "outputs": []
    },
    {
      "cell_type": "markdown",
      "source": [
        "### Load R packages"
      ],
      "metadata": {
        "id": "80gcu8ChJZCU"
      }
    },
    {
      "cell_type": "code",
      "source": [
        "%%R\n",
        "# set library path\n",
        ".libPaths('drive/My Drive/R')\n",
        "library(tidyverse)\n",
        "library(plyr)\n",
        "library(gt)\n",
        "library(rstatix)\n",
        "library(gtsummary)\n",
        "library(DataExplorer)\n",
        "library(report)\n",
        "library(performance)\n",
        "library(jtools)\n",
        "library(margins)\n",
        "library(marginaleffects)\n",
        "library(ggeffects)\n",
        "library(patchwork)\n",
        "library(Metrics)\n",
        "library(ggpmisc)\n",
        "library(RColorBrewer)\n",
        "library(MASS)\n",
        "library(epiDisplay)\n",
        "library(survival)\n",
        "library(survminer)\n",
        "library(ggsurvfit)\n",
        "library(tidycmprsk)\n",
        "library(condsurv)\n",
        "library(ggfortify)"
      ],
      "metadata": {
        "id": "qjPGGF1DJZPl"
      },
      "execution_count": null,
      "outputs": []
    },
    {
      "cell_type": "markdown",
      "source": [
        "### Data\n",
        "\n",
        "## Data\n",
        "\n",
        "We will be utilizing the `lung` dataset from the {survival} package, which serves as a valuable resource for analyzing survival data.\n",
        "\n",
        "Throughout this tutorial, we will concentrate on the variables that provide insight into the patients' demographics and clinical outcomes:\n",
        "\n",
        "* inst: Institution code\n",
        "* time: Survival time in days\n",
        "* status: censoring status 1=censored, 2=dead\n",
        "* age: Age in years\n",
        "* sex: Male=1 Female=2\n",
        "* ph.ecog: ECOG performance score (0=good 5=dead)\n",
        "* ph.karno: Karnofsky performance score (bad=0-good=100) rated by physician\n",
        "* pat.karno: Karnofsky performance score as rated by patient\n",
        "* meal.cal: Calories consumed at meals\n",
        "* wt.loss: Weight loss in last six months"
      ],
      "metadata": {
        "id": "3_7ytbp0L5WV"
      }
    },
    {
      "cell_type": "code",
      "source": [
        "%%R\n",
        "data(lung)\n",
        "glimpse(lung)"
      ],
      "metadata": {
        "colab": {
          "base_uri": "https://localhost:8080/"
        },
        "id": "Pcp4WjrXL6bT",
        "outputId": "0217992b-9765-44c4-d15c-d8d08cd1dbbf"
      },
      "execution_count": null,
      "outputs": [
        {
          "output_type": "stream",
          "name": "stdout",
          "text": [
            "Rows: 228\n",
            "Columns: 10\n",
            "$ inst      <dbl> 3, 3, 3, 5, 1, 12, 7, 11, 1, 7, 6, 16, 11, 21, 12, 1, 22, 16…\n",
            "$ time      <dbl> 306, 455, 1010, 210, 883, 1022, 310, 361, 218, 166, 170, 654…\n",
            "$ status    <dbl> 2, 2, 1, 2, 2, 1, 2, 2, 2, 2, 2, 2, 2, 2, 2, 2, 2, 2, 2, 2, …\n",
            "$ age       <dbl> 74, 68, 56, 57, 60, 74, 68, 71, 53, 61, 57, 68, 68, 60, 57, …\n",
            "$ sex       <dbl> 1, 1, 1, 1, 1, 1, 2, 2, 1, 1, 1, 2, 2, 1, 1, 1, 1, 1, 2, 1, …\n",
            "$ ph.ecog   <dbl> 1, 0, 0, 1, 0, 1, 2, 2, 1, 2, 1, 2, 1, NA, 1, 1, 1, 2, 2, 1,…\n",
            "$ ph.karno  <dbl> 90, 90, 90, 90, 100, 50, 70, 60, 70, 70, 80, 70, 90, 60, 80,…\n",
            "$ pat.karno <dbl> 100, 90, 90, 60, 90, 80, 60, 80, 80, 70, 80, 70, 90, 70, 70,…\n",
            "$ meal.cal  <dbl> 1175, 1225, NA, 1150, NA, 513, 384, 538, 825, 271, 1025, NA,…\n",
            "$ wt.loss   <dbl> NA, 15, 15, 11, 0, 0, 10, 1, 16, 34, 27, 23, 5, 32, 60, 15, …\n"
          ]
        }
      ]
    },
    {
      "cell_type": "markdown",
      "source": [
        "### Data processing\n",
        "\n",
        "Now we will re-code the data as 1=event, 0=censored:"
      ],
      "metadata": {
        "id": "RbdkIlydMCko"
      }
    },
    {
      "cell_type": "code",
      "source": [
        "%%R\n",
        "lung <-\n",
        "  lung |>\n",
        "  mutate(\n",
        "    status = recode(status, `1` = 0, `2` = 1)\n",
        "  )"
      ],
      "metadata": {
        "id": "z--oD0AGMCuo"
      },
      "execution_count": null,
      "outputs": []
    },
    {
      "cell_type": "markdown",
      "source": [
        "Now we have:\n",
        "\n",
        "-   time: Observed survival time in days\n",
        "-   status: censoring status 0=censored, 1=dead\n",
        "-   sex: 1=Male, 2=Female"
      ],
      "metadata": {
        "id": "3FkPJMUIMJqz"
      }
    },
    {
      "cell_type": "code",
      "source": [
        "%%R\n",
        "head(lung[, c(\"time\", \"status\", \"sex\")])"
      ],
      "metadata": {
        "colab": {
          "base_uri": "https://localhost:8080/"
        },
        "id": "y0amD-CwMKup",
        "outputId": "ff984e0c-ad81-491f-f424-81048863b07d"
      },
      "execution_count": null,
      "outputs": [
        {
          "output_type": "stream",
          "name": "stdout",
          "text": [
            "  time status sex\n",
            "1  306      1   1\n",
            "2  455      1   1\n",
            "3 1010      0   1\n",
            "4  210      1   1\n",
            "5  883      1   1\n",
            "6 1022      0   1\n"
          ]
        }
      ]
    },
    {
      "cell_type": "markdown",
      "source": [
        "## Fit a Cox Proportional Hazards Model\n",
        "\n",
        "In this example, we will model the relationship between survival time and covariates like age and sex. The `coxph()` function from the {survival} package is used to fit a Cox proportional hazards model in R.\n",
        "\n",
        "- coxph(formula, data, method)*italicized text*"
      ],
      "metadata": {
        "id": "ZDndu28eMgto"
      }
    },
    {
      "cell_type": "markdown",
      "source": [
        "### Univariate Cox regression\n",
        "\n",
        "We will fit Cox regression model with one covariate, `sex` to  see difference in survival rate between male and female participants."
      ],
      "metadata": {
        "id": "58DWS244YO2t"
      }
    },
    {
      "cell_type": "code",
      "source": [
        "%%R\n",
        "cox.fit.uni <- coxph(Surv(time, status) ~ sex,  data = lung)\n",
        "cox.fit.uni"
      ],
      "metadata": {
        "colab": {
          "base_uri": "https://localhost:8080/"
        },
        "id": "mytAiARfMi9i",
        "outputId": "9d0489d0-81a5-4ad4-a11a-28ab9dae618f"
      },
      "execution_count": null,
      "outputs": [
        {
          "output_type": "stream",
          "name": "stdout",
          "text": [
            "Call:\n",
            "coxph(formula = Surv(time, status) ~ sex, data = lung)\n",
            "\n",
            "       coef exp(coef) se(coef)      z       p\n",
            "sex -0.5310    0.5880   0.1672 -3.176 0.00149\n",
            "\n",
            "Likelihood ratio test=10.63  on 1 df, p=0.001111\n",
            "n= 228, number of events= 165 \n"
          ]
        }
      ]
    },
    {
      "cell_type": "code",
      "source": [
        "%%R\n",
        "summary(cox.fit.uni)"
      ],
      "metadata": {
        "colab": {
          "base_uri": "https://localhost:8080/"
        },
        "id": "dqMpJ-gyM8PH",
        "outputId": "9c0a151c-75be-4dd2-930b-734adc7dd049"
      },
      "execution_count": null,
      "outputs": [
        {
          "output_type": "stream",
          "name": "stdout",
          "text": [
            "Call:\n",
            "coxph(formula = Surv(time, status) ~ sex, data = lung)\n",
            "\n",
            "  n= 228, number of events= 165 \n",
            "\n",
            "       coef exp(coef) se(coef)      z Pr(>|z|)   \n",
            "sex -0.5310    0.5880   0.1672 -3.176  0.00149 **\n",
            "---\n",
            "Signif. codes:  0 ‘***’ 0.001 ‘**’ 0.01 ‘*’ 0.05 ‘.’ 0.1 ‘ ’ 1\n",
            "\n",
            "    exp(coef) exp(-coef) lower .95 upper .95\n",
            "sex     0.588      1.701    0.4237     0.816\n",
            "\n",
            "Concordance= 0.579  (se = 0.021 )\n",
            "Likelihood ratio test= 10.63  on 1 df,   p=0.001\n",
            "Wald test            = 10.09  on 1 df,   p=0.001\n",
            "Score (logrank) test = 10.33  on 1 df,   p=0.001\n",
            "\n"
          ]
        }
      ]
    },
    {
      "cell_type": "markdown",
      "source": [
        "**Statistical Significance**:  The column labeled `z` presents the `Wald statistic` value, which is calculated as the ratio of each regression coefficient to its standard error (`z = coef/se(coef)`). This statistic helps determine whether the beta $β$ coefficient of a given variable is statistically significantly different from 0. Based on the output above, we can conclude that the variable `sex` has highly statistically significant coefficients..\n",
        "\n",
        "The **regression coefficients** are an important aspect of the Cox model results. Notably, the sign of the regression coefficients (coef) indicates the relationship between the variable and the hazard (risk of death). A positive coefficient suggests that as the value of the variable increases, the hazard also increases, leading to a poorer prognosis for those subjects.\n",
        "\n",
        "**Hazard ratios**. The exponentiated coefficients (`exp(coef) = exp(-0.53) = 0.59`), also known as hazard ratios, give the effect size of covariates. So the `HR = 0.59` implies that 0.59 times as many females are dying as males, at any given time. Stated differently, females have a significantly lower hazard of death than males in these data.\n",
        "\n",
        "**Confidence intervals** for the hazard ratios are provided. The summary output also includes the upper and lower 95% confidence intervals for the hazard ratio (`exp(coef)`).\n",
        "\n",
        "The **global statistical significance of the model** is assessed using three alternative tests: the `likelihood-ratio test`, the `Wald test`, and the `score logrank statistic`. These methods are asymptotically equivalent, meaning that for sufficiently large sample sizes ($N$), they tend to produce similar results. However, for smaller sample sizes, the results may vary. Among these tests, the likelihood-ratio test is generally preferred because it performs better with small sample sizes."
      ],
      "metadata": {
        "id": "EJYkH8inNEnC"
      }
    },
    {
      "cell_type": "markdown",
      "source": [
        "You may use `report()` function of {report}  package to get a brief summary of fitted Cox regression model:"
      ],
      "metadata": {
        "id": "007I5JNnahv1"
      }
    },
    {
      "cell_type": "code",
      "source": [
        "%%R\n",
        "report::report(cox.fit.uni)"
      ],
      "metadata": {
        "colab": {
          "base_uri": "https://localhost:8080/"
        },
        "id": "-tc4EFJqNEw5",
        "outputId": "199554f4-92e2-4871-8f6b-4c756c40692e"
      },
      "execution_count": null,
      "outputs": [
        {
          "output_type": "stream",
          "name": "stderr",
          "text": [
            "WARNING:rpy2.rinterface_lib.callbacks:R[write to console]: Response residuals not available to calculate mean square error. (R)MSE\n",
            "  is probably not reliable.\n",
            "\n",
            "WARNING:rpy2.rinterface_lib.callbacks:R[write to console]: Response residuals not available to calculate mean square error. (R)MSE\n",
            "  is probably not reliable.\n",
            "\n"
          ]
        },
        {
          "output_type": "stream",
          "name": "stdout",
          "text": [
            "We fitted a logistic model to predict Surv(time, status) with sex (formula:\n",
            "Surv(time, status) ~ sex). The model's explanatory power is weak (Nagelkerke's\n",
            "R2 = 0.05).  Within this model:\n",
            "\n",
            "  - The effect of sex is statistically significant and negative (beta = -0.53,\n",
            "95% CI [-0.86, -0.20], p = 0.001; Std. beta = -0.23, 95% CI [-0.42, -0.05])\n",
            "\n",
            "Standardized parameters were obtained by fitting the model on a standardized\n",
            "version of the dataset. 95% Confidence Intervals (CIs) and p-values were\n",
            "computed using a Wald z-distribution approximation.\n"
          ]
        }
      ]
    },
    {
      "cell_type": "code",
      "source": [
        "%%R\n",
        "performance(cox.fit.uni)"
      ],
      "metadata": {
        "colab": {
          "base_uri": "https://localhost:8080/"
        },
        "id": "ZErlpMQ1NP0t",
        "outputId": "1dc80163-c8da-4956-8a43-9b7a719817b5"
      },
      "execution_count": null,
      "outputs": [
        {
          "output_type": "stream",
          "name": "stderr",
          "text": [
            "WARNING:rpy2.rinterface_lib.callbacks:R[write to console]: Response residuals not available to calculate mean square error. (R)MSE\n",
            "  is probably not reliable.\n",
            "\n"
          ]
        },
        {
          "output_type": "stream",
          "name": "stdout",
          "text": [
            "# Indices of model performance\n",
            "\n",
            "AIC      |     AICc |      BIC | Nagelkerke's R2 |  RMSE | Sigma\n",
            "----------------------------------------------------------------\n",
            "1491.186 | 1491.204 | 1494.615 |           0.046 | 0.859 | 0.000\n"
          ]
        }
      ]
    },
    {
      "cell_type": "markdown",
      "source": [
        "To apply the univariate `coxph` function to all covariates at once, we may use follwing code: (source: [Cox Proportional-Hazards Model](http://www.sthda.com/english/wiki/cox-proportional-hazards-model))\n"
      ],
      "metadata": {
        "id": "-0LpKVKqNh6b"
      }
    },
    {
      "cell_type": "code",
      "source": [
        "%%R\n",
        "covariates <- c(\"age\", \"sex\",  \"ph.karno\", \"ph.ecog\", \"wt.loss\")\n",
        "univ_formulas <- sapply(covariates,\n",
        "                        function(x) as.formula(paste('Surv(time, status)~', x)))\n",
        "\n",
        "univ_models <- lapply( univ_formulas, function(x){coxph(x, data = lung)})\n",
        "# Extract data\n",
        "univ_results <- lapply(univ_models,\n",
        "                       function(x){\n",
        "                          x <- summary(x)\n",
        "                          p.value<-signif(x$wald[\"pvalue\"], digits=2)\n",
        "                          wald.test<-signif(x$wald[\"test\"], digits=2)\n",
        "                          beta<-signif(x$coef[1], digits=2);#coeficient beta\n",
        "                          HR <-signif(x$coef[2], digits=2);#exp(beta)\n",
        "                          HR.confint.lower <- signif(x$conf.int[,\"lower .95\"], 2)\n",
        "                          HR.confint.upper <- signif(x$conf.int[,\"upper .95\"],2)\n",
        "                          HR <- paste0(HR, \" (\",\n",
        "                                       HR.confint.lower, \"-\", HR.confint.upper, \")\")\n",
        "                          res<-c(beta, HR, wald.test, p.value)\n",
        "                          names(res)<-c(\"beta\", \"HR (95% CI for HR)\", \"wald.test\",\n",
        "                                        \"p.value\")\n",
        "                          return(res)\n",
        "                          #return(exp(cbind(coef(x),confint(x))))\n",
        "                         })\n",
        "res <- t(as.data.frame(univ_results, check.names = FALSE))\n",
        "as.data.frame(res)"
      ],
      "metadata": {
        "colab": {
          "base_uri": "https://localhost:8080/"
        },
        "id": "PxJjppTANi0_",
        "outputId": "86e48756-9392-4e93-9396-a55b4c2e4b51"
      },
      "execution_count": null,
      "outputs": [
        {
          "output_type": "stream",
          "name": "stdout",
          "text": [
            "           beta HR (95% CI for HR) wald.test p.value\n",
            "age       0.019            1 (1-1)       4.1   0.042\n",
            "sex       -0.53   0.59 (0.42-0.82)        10  0.0015\n",
            "ph.karno -0.016      0.98 (0.97-1)       7.9   0.005\n",
            "ph.ecog    0.48        1.6 (1.3-2)        18 2.7e-05\n",
            "wt.loss  0.0013         1 (0.99-1)      0.05    0.83\n"
          ]
        }
      ]
    },
    {
      "cell_type": "markdown",
      "source": [
        "The output provides a detailed display of the regression beta coefficients, which quantify the relationship between each variable and overall survival. Additionally, it includes the hazard ratios that indicate the effect sizes associated with these variables, along with their statistical significance. Each factor is evaluated through distinct univariate Cox regression analyses, allowing for a clear understanding of how individual variables impact survival outcomes."
      ],
      "metadata": {
        "id": "peLYUW6BNuH3"
      }
    },
    {
      "cell_type": "markdown",
      "source": [
        "### Multivariate Cox regression analysis\n",
        "\n",
        "Our objective is to explore how several factors work together to affect survival outcomes. To achieve this, we will perform a multivariate Cox regression analysis, a statistical method that allows us to evaluate the impact of multiple variables simultaneously.\n",
        "\n",
        "In our initial univariate analysis, we found that the variable **ph.karno** did not show significant relevance to survival, leading us to exclude it from our multivariate model. Instead, we will focus on three key factors that are likely to influence survival: sex, age, and **ph.ecog**.\n",
        "\n",
        "The following is the specification for the Cox regression model, which examines the relationship between time to death and the selected time-constant covariates:"
      ],
      "metadata": {
        "id": "PkFnvSD1OCNW"
      }
    },
    {
      "cell_type": "code",
      "source": [
        "%%R\n",
        "cox.fit.multi <- coxph(Surv(time, status) ~ age + sex + ph.ecog, data =  lung)\n",
        "summary(cox.fit.multi)"
      ],
      "metadata": {
        "colab": {
          "base_uri": "https://localhost:8080/"
        },
        "id": "tEnZYBHGODGr",
        "outputId": "65e8763f-ac7c-49ef-e1f9-636d672696ad"
      },
      "execution_count": null,
      "outputs": [
        {
          "output_type": "stream",
          "name": "stdout",
          "text": [
            "Call:\n",
            "coxph(formula = Surv(time, status) ~ age + sex + ph.ecog, data = lung)\n",
            "\n",
            "  n= 227, number of events= 164 \n",
            "   (1 observation deleted due to missingness)\n",
            "\n",
            "             coef exp(coef)  se(coef)      z Pr(>|z|)    \n",
            "age      0.011067  1.011128  0.009267  1.194 0.232416    \n",
            "sex     -0.552612  0.575445  0.167739 -3.294 0.000986 ***\n",
            "ph.ecog  0.463728  1.589991  0.113577  4.083 4.45e-05 ***\n",
            "---\n",
            "Signif. codes:  0 ‘***’ 0.001 ‘**’ 0.01 ‘*’ 0.05 ‘.’ 0.1 ‘ ’ 1\n",
            "\n",
            "        exp(coef) exp(-coef) lower .95 upper .95\n",
            "age        1.0111     0.9890    0.9929    1.0297\n",
            "sex        0.5754     1.7378    0.4142    0.7994\n",
            "ph.ecog    1.5900     0.6289    1.2727    1.9864\n",
            "\n",
            "Concordance= 0.637  (se = 0.025 )\n",
            "Likelihood ratio test= 30.5  on 3 df,   p=1e-06\n",
            "Wald test            = 29.93  on 3 df,   p=1e-06\n",
            "Score (logrank) test = 30.5  on 3 df,   p=1e-06\n",
            "\n"
          ]
        }
      ]
    },
    {
      "cell_type": "markdown",
      "source": [
        "The `p-values` from the three tests (l`ikelihood, Wald, and score`) show that our model is significant. These tests check the overall hypothesis that all coefficients ($β$) are zero. In this case, the test results agree closely, allowing us to reject this hypothesis.\n",
        "\n",
        "In the multivariate Cox analysis, the variables sex and ph.ecog are significant ($p < 0.05$). However, the variable age is not significant ($p = 0.23$, which is greater than 0.05).\n",
        "\n",
        "The p-value for sex is 0.000986. The `hazard ratio (HR)` is `exp(coef) = 0.58`, meaning there is a strong link between sex and a lower risk of death. For example, when we keep other factors constant, being female (sex=2) reduces the risk by 42%. This suggests that being female is associated with a better outcome.\n",
        "\n",
        "The `p-value` for ph.ecog is 4.45e-05, with a hazard ratio (`HR`) of 1.59. This indicates a strong link between higher ph.ecog values and an increased risk of death. Keeping other factors constant, a higher ph.ecog score suggests poorer survival.\n",
        "\n",
        "In contrast, the p-value for age is p = 0.23. The hazard ratio (`HR`) is `exp(coef) = 1.01`, with a 95% confidence interval of 0.99 to 1.03. Since the confidence interval includes 1, this means age does not significantly affect the risk of death after adjusting for sex and ph.ecog values. An additional year of age increases the daily risk of death by about 1%, which is not significant."
      ],
      "metadata": {
        "id": "zy8kGX1ZOUzX"
      }
    },
    {
      "cell_type": "markdown",
      "source": [
        "### Plot the baseline survival function"
      ],
      "metadata": {
        "id": "wuqxwmw7bp2F"
      }
    },
    {
      "cell_type": "code",
      "source": [
        "%%R -h 500 -w 550 -u px\n",
        "\n",
        "autoplot(survfit(cox.fit.multi))\n"
      ],
      "metadata": {
        "colab": {
          "base_uri": "https://localhost:8080/",
          "height": 517
        },
        "id": "GZxvXet3OcWE",
        "outputId": "814d76d6-23dd-43a1-b4b7-d02fbaf6467d"
      },
      "execution_count": null,
      "outputs": [
        {
          "output_type": "display_data",
          "data": {
            "image/png": "[encoded data removed]"
          },
          "metadata": {}
        }
      ]
    },
    {
      "cell_type": "markdown",
      "source": [
        "## Summary and Conclusion:\n",
        "\n",
        "The Cox Proportional Hazards Model is a powerful tool for analyzing survival data and understanding how covariates impact the risk of an event over time. It is widely used in fields like medicine, epidemiology, and engineering, where time-to-event data is prevalent. The flexibility of not having to specify the baseline hazard makes it particularly popular for modeling survival data.\n",
        "\n",
        "In this article, we described the Cox regression model for assessing simultaneously the relationship between multiple risk factors and patient’s survival time.\n"
      ],
      "metadata": {
        "id": "p1VtRgcYP-WP"
      }
    },
    {
      "cell_type": "markdown",
      "source": [
        "## References\n",
        "\n",
        "1.  [Survival Analysis with R](https://rviews.rstudio.com/2017/09/25/survival-analysis-with-r/)\n",
        "\n",
        "2.  [Cox Proportional-Hazards Model](http://www.sthda.com/english/wiki/cox-proportional-hazards-model)\n",
        "\n",
        "3.  [Survival Analysis in R](https://www.emilyzabor.com/tutorials/survival_analysis_in_r_tutorial.html)\n",
        "\n",
        "4.  [Survival Analysis with R](https://bioconnector.github.io/workshops/r-survival.html)\n",
        ":"
      ],
      "metadata": {
        "id": "evpa9c53QAHh"
      }
    }
  ]
}