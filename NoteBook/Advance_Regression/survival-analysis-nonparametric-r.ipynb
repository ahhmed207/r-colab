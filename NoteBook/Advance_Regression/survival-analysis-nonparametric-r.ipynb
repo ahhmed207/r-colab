{
  "nbformat": 4,
  "nbformat_minor": 0,
  "metadata": {
    "colab": {
      "provenance": [],
      "toc_visible": true,
      "authorship_tag": "ABX9TyOqiqY0+8QMXhraKAgbb8nS",
      "include_colab_link": true
    },
    "kernelspec": {
      "name": "python3",
      "display_name": "Python 3"
    },
    "language_info": {
      "name": "python"
    }
  },
  "cells": [
    {
      "cell_type": "markdown",
      "metadata": {
        "id": "view-in-github",
        "colab_type": "text"
      },
      "source": [
        "<a href=\"https://colab.research.google.com/github/zia207/r-colab/blob/main/NoteBook/Advance_Regression/survival-analysis-nonparametric-r.ipynb\" target=\"_parent\"><img src=\"https://colab.research.google.com/assets/colab-badge.svg\" alt=\"Open In Colab\"/></a>"
      ]
    },
    {
      "cell_type": "markdown",
      "source": [
        "![alt text](http://drive.google.com/uc?export=view&id=1bLQ3nhDbZrCCqy_WCxxckOne2lgVvn3l)"
      ],
      "metadata": {
        "id": "PYplqK-VsB8E"
      }
    },
    {
      "cell_type": "markdown",
      "source": [
        "# Nonparametric Survival Analysis"
      ],
      "metadata": {
        "id": "k_8T6NOosR51"
      }
    },
    {
      "cell_type": "markdown",
      "source": [
        "## Introduction\n",
        "\n",
        "**Non-parametric survival analysis** refers to techniques used to analyze and estimate survival data without making assumptions about the underlying distribution of survival times. These methods are especially useful when you don't know the form of the hazard function or the distribution of survival times. The main non-parametric methods include the **Kaplan-Meier estimator** and the **log-rank test**.\n",
        "\n",
        "Here is a detailed explanation of these methods and concepts, along with how they work:\n",
        "\n",
        "***1.** Kaplan-Meier Estimator*\\*\\*\n",
        "\n",
        "The **Kaplan-Meier estimator** is a non-parametric statistic used to estimate the survival function from time-to-event data. It is particularly valuable when some data points are **censored**, meaning the event of interest (e.g., death, equipment failure) has not occurred for some subjects at the end of the study period.\n",
        "\n",
        "***Kaplan-Meier Survival Function***\n",
        "\n",
        "The survival function $S(t)$ estimates the probability that an individual survives beyond time $t$. The Kaplan-Meier estimator provides a step function that drops at each event time (e.g., death, failure). The survival probability at a given time is calculated as:\n",
        "\n",
        "$$ \\hat{S}(t) = \\prod_{t_i \\leq t} \\left( \\frac{n_i - d_i}{n_i} \\right) $$\n",
        "\n",
        "Where: - $t_i$ is the time of the $i$-th event (e.g., death). - $n_i$ is the number of subjects still at risk just before time $t_i$. - $d_i$ is the number of events (e.g., deaths) at time $t_i$. - The product of the ratios $\\frac{n_i - d_i}{n_i}$ across all event times up to $t$ gives the estimated survival probability at time ( t ).\n",
        "\n",
        "***Features of Kaplan-Meier Estimation***:\n",
        "\n",
        "-   **Non-parametric**: The Kaplan-Meier estimator does not assume any specific distribution of the survival times.\n",
        "-   **Stepwise Survival Curve**: The survival curve is a step function that drops at each event time and stays flat between events.\n",
        "-   **Censoring**: The Kaplan-Meier method can handle right-censored data, where we do not observe the event of interest for some subjects by the time the study ends. Censoring is denoted by ticks on the survival curve, showing the points where individuals were lost to follow-up or their event had not occurred by the study's end.\n",
        "\n",
        "***Kaplan-Meier Survival Curve Interpretation***:\n",
        "\n",
        "-   The curve starts at 1 (100% survival probability) and decreases over time as events occur. At each event time (e.g., death or failure), the curve steps down.\n",
        "-   The **Y-axis** shows the estimated survival probability, and the **X-axis** represents time.\n",
        "-   The rate of decline in the curve reflects the frequency of events (e.g., if there is a rapid decline, the event is occurring more frequently).\n",
        "-   **Censored data** points are marked with tick marks or other indicators along the curve. These represent individuals who did not experience the event during the study but were lost to follow-up or had not yet experienced the event at the end of the study.\n",
        "\n",
        "***Advantages of Non-Parametric Survival Analysis***:\n",
        "- **No Assumptions about the Survival Distribution**: Non-parametric methods like the Kaplan-Meier estimator and log-rank test do not assume any specific distribution (e.g., exponential or Weibull) for survival times, making them flexible and widely applicable.\n",
        "- **Handling of Censoring**: These methods can handle censored data, which is very common in survival analysis. Censoring occurs when individuals leave the study without experiencing the event of interest, and the methods appropriately account for this.\n",
        "- **Ease of Use**: These methods are relatively easy to implement and interpret, making them accessible for various fields such as medicine, engineering, and social sciences.\n",
        "\n",
        "***Limitations***:\n",
        "- **Limited Covariate Adjustment**: Non-parametric methods do not adjust for multiple covariates simultaneously, unlike semi-parametric methods like the **Cox proportional hazards model**, which can handle covariates more effectively.\n",
        "- **Less Flexibility for Complex Relationships**: In some cases, where relationships between survival times and covariates are more complex, non-parametric methods may not capture the full picture, requiring parametric or semi-parametric approaches.\n",
        "\n"
      ],
      "metadata": {
        "id": "rYkF3LgwHflQ"
      }
    },
    {
      "cell_type": "markdown",
      "source": [
        "## Install rpy2"
      ],
      "metadata": {
        "id": "9n6LEpyGsycn"
      }
    },
    {
      "cell_type": "code",
      "source": [
        "!pip uninstall rpy2 -y\n",
        "!pip install rpy2==3.5.1\n",
        "%load_ext rpy2.ipython"
      ],
      "metadata": {
        "colab": {
          "base_uri": "https://localhost:8080/"
        },
        "id": "Sn1uQzxIs01n",
        "outputId": "40fcb9a8-b990-4936-a8df-b971bbb60383"
      },
      "execution_count": null,
      "outputs": [
        {
          "output_type": "stream",
          "name": "stdout",
          "text": [
            "Found existing installation: rpy2 3.4.2\n",
            "Uninstalling rpy2-3.4.2:\n",
            "  Successfully uninstalled rpy2-3.4.2\n",
            "Collecting rpy2==3.5.1\n",
            "  Downloading rpy2-3.5.1.tar.gz (201 kB)\n",
            "\u001b[2K     \u001b[90m━━━━━━━━━━━━━━━━━━━━━━━━━━━━━━━━━━━━━━━━\u001b[0m \u001b[32m201.7/201.7 kB\u001b[0m \u001b[31m3.2 MB/s\u001b[0m eta \u001b[36m0:00:00\u001b[0m\n",
            "\u001b[?25h  Preparing metadata (setup.py) ... \u001b[?25l\u001b[?25hdone\n",
            "Requirement already satisfied: cffi>=1.10.0 in /usr/local/lib/python3.10/dist-packages (from rpy2==3.5.1) (1.17.1)\n",
            "Requirement already satisfied: jinja2 in /usr/local/lib/python3.10/dist-packages (from rpy2==3.5.1) (3.1.4)\n",
            "Requirement already satisfied: pytz in /usr/local/lib/python3.10/dist-packages (from rpy2==3.5.1) (2024.2)\n",
            "Requirement already satisfied: tzlocal in /usr/local/lib/python3.10/dist-packages (from rpy2==3.5.1) (5.2)\n",
            "Requirement already satisfied: pycparser in /usr/local/lib/python3.10/dist-packages (from cffi>=1.10.0->rpy2==3.5.1) (2.22)\n",
            "Requirement already satisfied: MarkupSafe>=2.0 in /usr/local/lib/python3.10/dist-packages (from jinja2->rpy2==3.5.1) (3.0.1)\n",
            "Building wheels for collected packages: rpy2\n",
            "  Building wheel for rpy2 (setup.py) ... \u001b[?25l\u001b[?25hdone\n",
            "  Created wheel for rpy2: filename=rpy2-3.5.1-cp310-cp310-linux_x86_64.whl size=314952 sha256=a424585748a039ac8184f58a982d116d3f6e030b56b157a1d095e5a6a3a08a5a\n",
            "  Stored in directory: /root/.cache/pip/wheels/73/a6/ff/4e75dd1ce1cfa2b9a670cbccf6a1e41c553199e9b25f05d953\n",
            "Successfully built rpy2\n",
            "Installing collected packages: rpy2\n",
            "Successfully installed rpy2-3.5.1\n"
          ]
        }
      ]
    },
    {
      "cell_type": "markdown",
      "source": [
        "## Mount Google Drive"
      ],
      "metadata": {
        "id": "QC6sIX7Fs4dC"
      }
    },
    {
      "cell_type": "code",
      "source": [
        "from google.colab import drive\n",
        "drive.mount('/content/drive')"
      ],
      "metadata": {
        "colab": {
          "base_uri": "https://localhost:8080/"
        },
        "id": "FyS01C5Ss403",
        "outputId": "05a76880-187b-4522-df67-1ad4176a1cfd"
      },
      "execution_count": null,
      "outputs": [
        {
          "output_type": "stream",
          "name": "stdout",
          "text": [
            "Drive already mounted at /content/drive; to attempt to forcibly remount, call drive.mount(\"/content/drive\", force_remount=True).\n"
          ]
        }
      ]
    },
    {
      "cell_type": "markdown",
      "source": [
        "## Nonparametric Survial Analysis in R\n",
        "\n",
        "This tutorial introduces survival analysis and how to conduct it in R. It primarily follows the Survival Analysis in R tutorials by [Emily C. Zabor](https://www.emilyzabor.com/tutorials/survival_analysis_in_r_tutorial.html) and [Joseph Rickert's](https://rviews.rstudio.com/2017/09/25/survival-analysis-with-r/) Survival Analysis in R tutorials.\n",
        "\n",
        "This tutorial is mostly used two R packages [survival](https://cran.r-project.org/web/packages/survival/index.html) and \\]ggsurvfit\\](https://www.danieldsjoberg.com/ggsurvfit/). The survival package in R is a powerful and widely used tool for survival analysis, which deals with the analysis of time-to-event data. It provides a suite of functions to handle various types of survival data, fit survival models, and visualize survival curves. This package is widely applied in medical research, reliability engineering, and many other fields where time-to-event data is of interest.\n",
        "\n",
        "![alt text](http://drive.google.com/uc?export=view&id=1W_XxpqdtQv-7mEPgijjFCT6Tekfxh30v)\n",
        "\n",
        "The **ggsurvfit** package eases the creation of time-to-event (aka survival) summary figures with ggplot2. The concise and modular code creates images that are ready for publication or sharing. Competing risks cumulative incidence is also supported via `ggcuminc()`. Additionally we will use [ggfortify](https://github.com/sinhrks/ggfortify) which offers `fortify` and `autoplot` functions to allow automatic ggplot2 to visualize Kaplan-Meier plots.\n",
        "\n",
        "![alt text](http://drive.google.com/uc?export=view&id=1n_2IaJaLdhxcAvYkAq4vNTmVWGqMZ8aL)"
      ],
      "metadata": {
        "id": "wDq8HAf-J5as"
      }
    },
    {
      "cell_type": "markdown",
      "source": [
        "### Install Required R Packages\n",
        "\n"
      ],
      "metadata": {
        "id": "MBPB39h9tCoZ"
      }
    },
    {
      "cell_type": "code",
      "source": [
        "%%R\n",
        "pkg <- c('tidyverse',\n",
        "     'plyr',\n",
        "\t\t 'gt',\n",
        "\t\t 'DataExplorer',\n",
        "\t\t 'rstatix',\n",
        "\t\t 'report',\n",
        "\t\t 'performance',\n",
        "\t\t 'jtools',\n",
        "\t\t 'margins',\n",
        "\t\t 'marginaleffects',\n",
        "\t\t 'ggeffects',\n",
        "\t\t 'patchwork',\n",
        "\t\t 'Metrics',\n",
        "\t\t 'ggpmisc',\n",
        "\t\t 'caret',\n",
        "\t\t 'tidymodels',\n",
        "\t\t 'metrica',\n",
        "\t\t 'RColorBrewer',\n",
        "     'MASS',\n",
        "     'epiDisplay',\n",
        "\t\t 'survival',\n",
        "\t\t 'survminer',\n",
        "\t\t 'ggsurvfit',\n",
        "\t\t 'tidycmprsk',\n",
        "\t\t  'ggfortify'\n",
        "\t\t )\n",
        "new.packages <- pkg[!(pkg %in% installed.packages(lib='drive/My Drive/R/')[,\"Package\"])]\n",
        "if(length(new.packages)) install.packages(new.packages, lib='drive/My Drive/R/')"
      ],
      "metadata": {
        "id": "6gNs99XwtCvv"
      },
      "execution_count": null,
      "outputs": []
    },
    {
      "cell_type": "code",
      "source": [
        "%%R\n",
        "devtools::install_github(\"zabore/condsurv\", lib='drive/My Drive/R/')"
      ],
      "metadata": {
        "id": "W_i3qhShtTXQ"
      },
      "execution_count": null,
      "outputs": []
    },
    {
      "cell_type": "markdown",
      "source": [
        "### Load R packages"
      ],
      "metadata": {
        "id": "80gcu8ChJZCU"
      }
    },
    {
      "cell_type": "code",
      "source": [
        "%%R\n",
        "# set library path\n",
        ".libPaths('drive/My Drive/R')\n",
        "library(tidyverse)\n",
        "library(plyr)\n",
        "library(gt)\n",
        "library(rstatix)\n",
        "library(gtsummary)\n",
        "library(DataExplorer)\n",
        "library(report)\n",
        "library(performance)\n",
        "library(jtools)\n",
        "library(margins)\n",
        "library(marginaleffects)\n",
        "library(ggeffects)\n",
        "library(patchwork)\n",
        "library(Metrics)\n",
        "library(ggpmisc)\n",
        "library(RColorBrewer)\n",
        "library(MASS)\n",
        "library(epiDisplay)\n",
        "library(survival)\n",
        "library(survminer)\n",
        "library(ggsurvfit)\n",
        "library(tidycmprsk)\n",
        "library(condsurv)\n",
        "library(ggfortify)"
      ],
      "metadata": {
        "id": "qjPGGF1DJZPl"
      },
      "execution_count": null,
      "outputs": []
    },
    {
      "cell_type": "markdown",
      "source": [
        "### Data\n",
        "\n",
        "We will be utilizing the `lung` dataset from the {survival} package, which serves as a valuable resource for analyzing survival data. This dataset comprises information from subjects diagnosed with advanced lung cancer, specifically gathered from the North Central Cancer Treatment Group, a prominent clinical trial network dedicated to cancer research.\n",
        "\n",
        "Throughout this tutorial, we will concentrate on the following key variables that provide insight into the patients' demographics and clinical outcomes:\n",
        "\n",
        "-   **Time**: This variable denotes the observed survival time in days, measuring the duration from the start of treatment until the event of interest occurs, whether that be death or censoring.\n",
        "\n",
        "-   **Status**: This variable represents the censoring status of each patient. A value of 1 indicates that the patient is censored, meaning they either withdrew from the study or were still alive at the end of the observation period. A value of 2 signifies that the patient has died, marking the occurrence of the event being studied.\n",
        "\n",
        "-   **Sex**: This variable captures the gender of the subjects, providing crucial demographic information. A value of 1 corresponds to Male and a value of 2 corresponds to Female. This distinction may be important for understanding potential differences in survival rates between genders."
      ],
      "metadata": {
        "id": "3_7ytbp0L5WV"
      }
    },
    {
      "cell_type": "code",
      "source": [
        "%%R\n",
        "data(lung)\n",
        "glimpse(lung)"
      ],
      "metadata": {
        "colab": {
          "base_uri": "https://localhost:8080/"
        },
        "id": "Pcp4WjrXL6bT",
        "outputId": "0d754b32-53b5-4ae7-b4ca-1e1ca0f80bf4"
      },
      "execution_count": null,
      "outputs": [
        {
          "output_type": "stream",
          "name": "stdout",
          "text": [
            "Rows: 228\n",
            "Columns: 10\n",
            "$ inst      <dbl> 3, 3, 3, 5, 1, 12, 7, 11, 1, 7, 6, 16, 11, 21, 12, 1, 22, 16…\n",
            "$ time      <dbl> 306, 455, 1010, 210, 883, 1022, 310, 361, 218, 166, 170, 654…\n",
            "$ status    <dbl> 2, 2, 1, 2, 2, 1, 2, 2, 2, 2, 2, 2, 2, 2, 2, 2, 2, 2, 2, 2, …\n",
            "$ age       <dbl> 74, 68, 56, 57, 60, 74, 68, 71, 53, 61, 57, 68, 68, 60, 57, …\n",
            "$ sex       <dbl> 1, 1, 1, 1, 1, 1, 2, 2, 1, 1, 1, 2, 2, 1, 1, 1, 1, 1, 2, 1, …\n",
            "$ ph.ecog   <dbl> 1, 0, 0, 1, 0, 1, 2, 2, 1, 2, 1, 2, 1, NA, 1, 1, 1, 2, 2, 1,…\n",
            "$ ph.karno  <dbl> 90, 90, 90, 90, 100, 50, 70, 60, 70, 70, 80, 70, 90, 60, 80,…\n",
            "$ pat.karno <dbl> 100, 90, 90, 60, 90, 80, 60, 80, 80, 70, 80, 70, 90, 70, 70,…\n",
            "$ meal.cal  <dbl> 1175, 1225, NA, 1150, NA, 513, 384, 538, 825, 271, 1025, NA,…\n",
            "$ wt.loss   <dbl> NA, 15, 15, 11, 0, 0, 10, 1, 16, 34, 27, 23, 5, 32, 60, 15, …\n"
          ]
        }
      ]
    },
    {
      "cell_type": "markdown",
      "source": [
        "### Data processing\n",
        "\n",
        "Now we will re-code the data as 1=event, 0=censored:"
      ],
      "metadata": {
        "id": "RbdkIlydMCko"
      }
    },
    {
      "cell_type": "code",
      "source": [
        "%%R\n",
        "lung <-\n",
        "  lung |>\n",
        "  mutate(\n",
        "    status = recode(status, `1` = 0, `2` = 1)\n",
        "  )"
      ],
      "metadata": {
        "id": "z--oD0AGMCuo"
      },
      "execution_count": null,
      "outputs": []
    },
    {
      "cell_type": "markdown",
      "source": [
        "Now we have:\n",
        "\n",
        "-   time: Observed survival time in days\n",
        "-   status: censoring status 0=censored, 1=dead\n",
        "-   sex: 1=Male, 2=Female"
      ],
      "metadata": {
        "id": "3FkPJMUIMJqz"
      }
    },
    {
      "cell_type": "code",
      "source": [
        "%%R\n",
        "head(lung[, c(\"time\", \"status\", \"sex\")])"
      ],
      "metadata": {
        "colab": {
          "base_uri": "https://localhost:8080/"
        },
        "id": "y0amD-CwMKup",
        "outputId": "801a6540-e3c7-459d-b224-ad98fbc330b7"
      },
      "execution_count": null,
      "outputs": [
        {
          "output_type": "stream",
          "name": "stdout",
          "text": [
            "  time status sex\n",
            "1  306      1   1\n",
            "2  455      1   1\n",
            "3 1010      0   1\n",
            "4  210      1   1\n",
            "5  883      1   1\n",
            "6 1022      0   1\n"
          ]
        }
      ]
    },
    {
      "cell_type": "markdown",
      "source": [
        "### Kaplan Meier Analysis\n",
        "\n",
        "The Kaplan-Meier method is the most common technique for estimating survival times and probabilities. It is a non-parametric approach that produces a step function, with a drop occurring each time an event takes place.\n",
        "\n",
        "The **survival** package is fundamental to the entire R survival analysis framework. It is not only feature-rich but also essential for creating the object produced by the `Surv()` function, which includes data on failure times and censoring. Each subject will have a single entry representing their survival time, followed by a \"+\" sign if the subject was censored. Let’s examine the first 15 observations:"
      ],
      "metadata": {
        "id": "ZDndu28eMgto"
      }
    },
    {
      "cell_type": "code",
      "source": [
        "%%R\n",
        "Surv(lung$time, lung$status)[1:15]"
      ],
      "metadata": {
        "colab": {
          "base_uri": "https://localhost:8080/"
        },
        "id": "mytAiARfMi9i",
        "outputId": "11412d20-869e-4d58-f965-8b1ab3fd5bc9"
      },
      "execution_count": null,
      "outputs": [
        {
          "output_type": "stream",
          "name": "stdout",
          "text": [
            " [1]  306   455  1010+  210   883  1022+  310   361   218   166   170   654 \n",
            "[13]  728    71   567 \n"
          ]
        }
      ]
    },
    {
      "cell_type": "markdown",
      "source": [
        "Subject 1 experienced a notable event at 306 days of observation, indicating a significant outcome in their progression. Subject 2 had a similar event occur later, at 455 days, suggesting varying timelines in their responses. Meanwhile, subject 3 was censored at 1010 days, meaning that their outcome could not be fully assessed due to the study's conclusion or loss to follow-up. This variation among subjects highlights the differences in individual experiences and response times within the study.\n",
        "\n",
        "\n",
        "Note: the `Surv()` function in the **survival** package accepts by default TRUE/FALSE, where TRUE is event and FALSE is censored; 1/0 where 1 is event and 0 is censored; or 2/1 where 2 is event and 1 is censored.\n",
        "\n",
        "\n",
        "The `survfit()` function plays a crucial role in survival analysis by generating survival curves based on the Kaplan-Meier method. This method is particularly useful for estimating the probability of survival over a specified time period, especially when dealing with censored data, which is common in medical research.\n",
        "\n",
        "To initiate our analysis, we start with the formula `Surv(futime, status) ~ 1`, where `time` represents the follow-up time until the event of interest or censoring occurs, and `status` indicates whether the event happened (usually coded as 1) or if the data is censored (coded as 0). The `survfit()` function utilizes this formula to calculate the Kaplan-Meier estimates, providing a stepwise approximation of the survival function. Additionally, the `summary()` function complements this analysis by offering a detailed summary of the survival estimates. Within this function, the `times` parameter allows researchers to specify particular time points at which they wish to view the survival probabilities. This feature is beneficial for focusing on time intervals of interest, enhancing the interpretability of the survival curves. Overall, these tools are essential for understanding patient survival trajectories and can inform clinical decision-making and research developments."
      ],
      "metadata": {
        "id": "zL98fcmJMqzM"
      }
    },
    {
      "cell_type": "code",
      "source": [
        "%%R\n",
        "km.fit<- survfit(Surv(time, status) ~ 1, data = lung)\n",
        "str(km.fit)"
      ],
      "metadata": {
        "colab": {
          "base_uri": "https://localhost:8080/"
        },
        "id": "dqMpJ-gyM8PH",
        "outputId": "c99046e5-94f8-4949-e96a-8af959094dc8"
      },
      "execution_count": null,
      "outputs": [
        {
          "output_type": "stream",
          "name": "stdout",
          "text": [
            "List of 17\n",
            " $ n        : int 228\n",
            " $ time     : num [1:186] 5 11 12 13 15 26 30 31 53 54 ...\n",
            " $ n.risk   : num [1:186] 228 227 224 223 221 220 219 218 217 215 ...\n",
            " $ n.event  : num [1:186] 1 3 1 2 1 1 1 1 2 1 ...\n",
            " $ n.censor : num [1:186] 0 0 0 0 0 0 0 0 0 0 ...\n",
            " $ surv     : num [1:186] 0.996 0.982 0.978 0.969 0.965 ...\n",
            " $ std.err  : num [1:186] 0.0044 0.00885 0.00992 0.01179 0.01263 ...\n",
            " $ cumhaz   : num [1:186] 0.00439 0.0176 0.02207 0.03103 0.03556 ...\n",
            " $ std.chaz : num [1:186] 0.00439 0.0088 0.00987 0.01173 0.01257 ...\n",
            " $ type     : chr \"right\"\n",
            " $ logse    : logi TRUE\n",
            " $ conf.int : num 0.95\n",
            " $ conf.type: chr \"log\"\n",
            " $ lower    : num [1:186] 0.987 0.966 0.959 0.947 0.941 ...\n",
            " $ upper    : num [1:186] 1 1 0.997 0.992 0.989 ...\n",
            " $ t0       : num 0\n",
            " $ call     : language survfit(formula = Surv(time, status) ~ 1, data = lung)\n",
            " - attr(*, \"class\")= chr \"survfit\"\n"
          ]
        }
      ]
    },
    {
      "cell_type": "markdown",
      "source": [
        "This model is designed to generate estimates for 1, 30, 60, and 90 days, and then every 90 days thereafter. It is the simplest possible model, requiring just three lines of R code to fit and produce both numerical and graphical summaries."
      ],
      "metadata": {
        "id": "EJYkH8inNEnC"
      }
    },
    {
      "cell_type": "code",
      "source": [
        "%%R\n",
        "summary(km.fit, times = c(1,30,60,90*(1:10)))"
      ],
      "metadata": {
        "colab": {
          "base_uri": "https://localhost:8080/"
        },
        "id": "-tc4EFJqNEw5",
        "outputId": "406f7a41-f5d7-4489-9a5c-d35810613d2c"
      },
      "execution_count": null,
      "outputs": [
        {
          "output_type": "stream",
          "name": "stdout",
          "text": [
            "Call: survfit(formula = Surv(time, status) ~ 1, data = lung)\n",
            "\n",
            " time n.risk n.event survival std.err lower 95% CI upper 95% CI\n",
            "    1    228       0   1.0000  0.0000       1.0000        1.000\n",
            "   30    219      10   0.9561  0.0136       0.9299        0.983\n",
            "   60    213       7   0.9254  0.0174       0.8920        0.960\n",
            "   90    201      10   0.8816  0.0214       0.8406        0.925\n",
            "  180    160      36   0.7217  0.0298       0.6655        0.783\n",
            "  270    108      30   0.5753  0.0338       0.5128        0.645\n",
            "  360     70      24   0.4340  0.0358       0.3693        0.510\n",
            "  450     48      16   0.3287  0.0356       0.2659        0.406\n",
            "  540     33      10   0.2554  0.0344       0.1962        0.333\n",
            "  630     22       7   0.1958  0.0330       0.1407        0.272\n",
            "  720     14       8   0.1246  0.0290       0.0789        0.197\n",
            "  810      7       5   0.0783  0.0246       0.0423        0.145\n",
            "  900      3       2   0.0503  0.0228       0.0207        0.123\n"
          ]
        }
      ]
    },
    {
      "cell_type": "markdown",
      "source": [
        "### Kaplan-Meier plots\n",
        "\n",
        "We will use the {ggsurvfit} package to generate Kaplan-Meier plots. This package simplifies the plotting of time-to-event endpoints by leveraging the capabilities of the {ggplot2} package. The {ggsurvfit} package works best when you create the survival object using the included `ggsurvfit::survfit2()` function. This function uses the same syntax as `survival::survfit()`, but `ggsurvfit::survfit2()` tracks the environment from the function call, which helps the plot have better default values for labeling and p-value reporting."
      ],
      "metadata": {
        "id": "H3ItQ8qkNN8H"
      }
    },
    {
      "cell_type": "code",
      "source": [
        "%%R -h 450 -w 500 -u px\n",
        "\n",
        "survfit2(Surv(time, status) ~ 1, data = lung) |>\n",
        "  ggsurvfit() +\n",
        "  labs(\n",
        "    x = \"Days\",\n",
        "    y = \"Overall survival probability\"\n",
        "  )"
      ],
      "metadata": {
        "colab": {
          "base_uri": "https://localhost:8080/",
          "height": 467
        },
        "id": "ZErlpMQ1NP0t",
        "outputId": "129d4bbe-0ec4-4d7a-dacc-0597005b49db"
      },
      "execution_count": null,
      "outputs": [
        {
          "output_type": "display_data",
          "data": {
            "image/png": "[encoded data removed]"
          },
          "metadata": {}
        }
      ]
    },
    {
      "cell_type": "markdown",
      "source": [
        "The default plot in `ggsurvfit()` shows the step function only. We can add the confidence interval using `add_confidence_interval()`:"
      ],
      "metadata": {
        "id": "-0LpKVKqNh6b"
      }
    },
    {
      "cell_type": "code",
      "source": [
        "%%R -h 450 -w 500 -u px\n",
        "\n",
        "survfit2(Surv(time, status) ~ 1, data = lung) |>\n",
        "  ggsurvfit() +\n",
        "  labs(\n",
        "    x = \"Days\",\n",
        "    y = \"Overall survival probability\"\n",
        "  ) +\n",
        "  add_confidence_interval()"
      ],
      "metadata": {
        "colab": {
          "base_uri": "https://localhost:8080/",
          "height": 467
        },
        "id": "PxJjppTANi0_",
        "outputId": "55e138d6-48a6-48b1-9c39-0d2d3fb61923"
      },
      "execution_count": null,
      "outputs": [
        {
          "output_type": "display_data",
          "data": {
            "image/png": "[encoded data removed]"
          },
          "metadata": {}
        }
      ]
    },
    {
      "cell_type": "markdown",
      "source": [
        "If we want to display the numbers at risk below the x-axis, we can achieve this by using `add_risktable()` :"
      ],
      "metadata": {
        "id": "peLYUW6BNuH3"
      }
    },
    {
      "cell_type": "code",
      "source": [
        "%%R -h 450 -w 500 -u px\n",
        "\n",
        "survfit2(Surv(time, status) ~ 1, data = lung) |>\n",
        "  ggsurvfit() +\n",
        "  labs(\n",
        "    x = \"Days\",\n",
        "    y = \"Overall survival probability\"\n",
        "  ) +\n",
        "  add_confidence_interval() +\n",
        " add_risktable()"
      ],
      "metadata": {
        "colab": {
          "base_uri": "https://localhost:8080/",
          "height": 467
        },
        "id": "0ELuyV7wNvZv",
        "outputId": "b908d41c-e80a-4bc9-d1f8-631bbfe75ddb"
      },
      "execution_count": null,
      "outputs": [
        {
          "output_type": "display_data",
          "data": {
            "image/png": "[encoded data removed]"
          },
          "metadata": {}
        }
      ]
    },
    {
      "cell_type": "markdown",
      "source": [
        "Alternatively, the **ggfortify** package allows you to create a simple survival plot with CI using the `autoplot()` function."
      ],
      "metadata": {
        "id": "PkFnvSD1OCNW"
      }
    },
    {
      "cell_type": "code",
      "source": [
        "%%R -h 450 -w 500 -u px\n",
        "autoplot(km.fit)"
      ],
      "metadata": {
        "colab": {
          "base_uri": "https://localhost:8080/",
          "height": 467
        },
        "id": "tEnZYBHGODGr",
        "outputId": "842e4c89-14c7-455f-f49d-d665be5c781b"
      },
      "execution_count": null,
      "outputs": [
        {
          "output_type": "display_data",
          "data": {
            "image/png": "[encoded data removed]"
          },
          "metadata": {}
        }
      ]
    },
    {
      "cell_type": "markdown",
      "source": [
        "### Estimating $x$-year survival\n",
        "\n",
        "In survival analysis, one key point of interest is the probability of surviving beyond a specific number of years. For instance, to estimate the probability of surviving up to one year, you can use the summary function with the times argument. Note that the time variable in the lung dataset is measured in days, so you should set times to 365.25."
      ],
      "metadata": {
        "id": "zy8kGX1ZOUzX"
      }
    },
    {
      "cell_type": "code",
      "source": [
        "%%R\n",
        "summary(survfit(Surv(time, status) ~ 1, data = lung), times = 365.25)"
      ],
      "metadata": {
        "colab": {
          "base_uri": "https://localhost:8080/"
        },
        "id": "klE5pG5cOVkZ",
        "outputId": "afbcf572-a58f-4be6-c71f-9a8bf9288991"
      },
      "execution_count": null,
      "outputs": [
        {
          "output_type": "stream",
          "name": "stdout",
          "text": [
            "Call: survfit(formula = Surv(time, status) ~ 1, data = lung)\n",
            "\n",
            " time n.risk n.event survival std.err lower 95% CI upper 95% CI\n",
            "  365     65     121    0.409  0.0358        0.345        0.486\n"
          ]
        }
      ]
    },
    {
      "cell_type": "code",
      "source": [
        "%%R -h 500 -w 550 -u px\n",
        "\n",
        "survfit2(Surv(time, status) ~ 1, data = lung)  |>\n",
        "  ggsurvfit() +\n",
        "  labs(\n",
        "    x = \"Days\",\n",
        "    y = \"Overall survival probability\"\n",
        "  ) +\n",
        " add_confidence_interval() +\n",
        "   add_risktable() +\n",
        "  geom_segment(x = 365.25, xend = 365.25, y = -0.05, yend = 0.4092416,\n",
        "               linewidth = 1.0) +\n",
        "  geom_segment(x = 365.25, xend = -40, y = 0.4092416, yend = 0.4092416,\n",
        "               linewidth = 1.0,\n",
        "               arrow = arrow(length = unit(0.2, \"inches\")))\n"
      ],
      "metadata": {
        "colab": {
          "base_uri": "https://localhost:8080/",
          "height": 517
        },
        "id": "GZxvXet3OcWE",
        "outputId": "ac4dda85-8c1b-4cc2-baa7-285d97ca45c2"
      },
      "execution_count": null,
      "outputs": [
        {
          "output_type": "display_data",
          "data": {
            "image/png": "[encoded data removed]"
          },
          "metadata": {}
        }
      ]
    },
    {
      "cell_type": "markdown",
      "source": [
        "By one year, 121 of the 228 lung patients had died, and if we ignore censoring, the one year probability of survival:"
      ],
      "metadata": {
        "id": "iCR6grQ7Oqun"
      }
    },
    {
      "cell_type": "code",
      "source": [
        "%%R\n",
        "(1-121/228)*100"
      ],
      "metadata": {
        "colab": {
          "base_uri": "https://localhost:8080/"
        },
        "id": "0HYFpkWKOrjC",
        "outputId": "6cb3a256-91d3-40a0-ce9c-7baf99e69c23"
      },
      "execution_count": null,
      "outputs": [
        {
          "output_type": "stream",
          "name": "stdout",
          "text": [
            "[1] 46.92982\n"
          ]
        }
      ]
    },
    {
      "cell_type": "markdown",
      "source": [
        "Ignoring the fact that 42 patients were censored before the one-year mark can lead to an inaccurate estimate of the one-year probability of survival (47%). The correct estimate, which takes censoring into account using the Kaplan-Meier method, is 41%. Ignoring censoring results in an overestimation of the overall survival probability. Consider two studies, each with 228 subjects, where both have 165 deaths. In one study (represented by the blue line), censoring is ignored, while in the other (shown by the yellow line), censoring is taken into account. Censored subjects only provide information for part of the follow-up period and then drop out of the risk set, which leads to a lower cumulative probability of survival. Ignoring censoring incorrectly assumes that censored patients remain part of the risk set for the entire follow-up period."
      ],
      "metadata": {
        "id": "HhaUyMW2OxDG"
      }
    },
    {
      "cell_type": "code",
      "source": [
        "%%R -h 500 -w 550 -u px\n",
        "\n",
        "lung2 <-\n",
        "  lung |>\n",
        "  mutate(\n",
        "    time = ifelse(status == 1, time, 1022),\n",
        "    group = \"Ignoring censoring\") |>\n",
        "  full_join(mutate(lung, group = \"With censoring\"))\n",
        "\n",
        "survfit2(Surv(time, status) ~ group, data = lung2) |>\n",
        "  ggsurvfit() +\n",
        "  labs(\n",
        "    x = \"Days\",\n",
        "    y = \"Overall survival probability\"\n",
        "    ) +\n",
        "  add_confidence_interval() +\n",
        "  add_risktable(risktable_stats = \"n.risk\")"
      ],
      "metadata": {
        "colab": {
          "base_uri": "https://localhost:8080/",
          "height": 552
        },
        "id": "Rd39ll0cOx6f",
        "outputId": "ac42bb29-dd88-4a53-b936-f27ab0c6ddd0"
      },
      "execution_count": null,
      "outputs": [
        {
          "output_type": "stream",
          "name": "stdout",
          "text": [
            "Joining with `by = join_by(inst, time, status, age, sex, ph.ecog, ph.karno,\n",
            "pat.karno, meal.cal, wt.loss, group)`\n"
          ]
        },
        {
          "output_type": "display_data",
          "data": {
            "image/png": "[encoded data removed]"
          },
          "metadata": {}
        }
      ]
    },
    {
      "cell_type": "markdown",
      "source": [
        "We can produce nice tables of $x$-time survival probability estimates using the `tbl_survfit()` function from the **gtsummary** package:"
      ],
      "metadata": {
        "id": "Z_swyNVrO-QC"
      }
    },
    {
      "cell_type": "code",
      "source": [
        "%%R\n",
        "tbl_survfit(\n",
        "  survfit(Surv(time, status) ~ 1, data = lung),\n",
        "  times = 365.25,\n",
        "  label_header = \"**1-year survival (95% CI)**\"\n",
        ")\n",
        "## Note fuction does not work"
      ],
      "metadata": {
        "id": "ufSIEznfO_H2"
      },
      "execution_count": null,
      "outputs": []
    },
    {
      "cell_type": "markdown",
      "source": [
        "### Median survival time\n",
        "\n",
        "In survival analysis, one important point to consider is the average survival time, which we typically measure using the median. Since survival times are usually not normally distributed, using the mean is not an appropriate way to summarize this data.\n",
        "\n",
        "The median survival time can be directly obtained from the `survfit` object."
      ],
      "metadata": {
        "id": "2V_ezn6ePPzP"
      }
    },
    {
      "cell_type": "code",
      "source": [
        "%%R\n",
        "survfit(Surv(time, status) ~ 1, data = lung)"
      ],
      "metadata": {
        "colab": {
          "base_uri": "https://localhost:8080/"
        },
        "id": "hSsMVcPvPQrr",
        "outputId": "53355654-3ee2-48e3-959d-585f3ce3b95e"
      },
      "execution_count": null,
      "outputs": [
        {
          "output_type": "stream",
          "name": "stdout",
          "text": [
            "Call: survfit(formula = Surv(time, status) ~ 1, data = lung)\n",
            "\n",
            "       n events median 0.95LCL 0.95UCL\n",
            "[1,] 228    165    310     285     363\n"
          ]
        }
      ]
    },
    {
      "cell_type": "markdown",
      "source": [
        "### Survival times between groups (male/female) using log-rank test\n",
        "\n",
        "The log-rank test is a non-parametric statistical method used to compare the survival distributions of two or more groups. It assesses whether there is a significant difference between the survival curves by giving equal weight to observations throughout the entire follow-up period.\n",
        "\n",
        "To calculate the log-rank p-value, we can use the **survdiff** function. For example, we can test for differences in survival time based on sex using the **lung** dataset."
      ],
      "metadata": {
        "id": "249R6jo0PWsJ"
      }
    },
    {
      "cell_type": "code",
      "source": [
        "%%R\n",
        "survdiff(Surv(time, status) ~ sex, data = lung)"
      ],
      "metadata": {
        "colab": {
          "base_uri": "https://localhost:8080/"
        },
        "id": "9dWhdxKXPXXp",
        "outputId": "fc3eaa01-5cc7-4a79-c7ad-2089ae5f68cf"
      },
      "execution_count": null,
      "outputs": [
        {
          "output_type": "stream",
          "name": "stdout",
          "text": [
            "Call:\n",
            "survdiff(formula = Surv(time, status) ~ sex, data = lung)\n",
            "\n",
            "        N Observed Expected (O-E)^2/E (O-E)^2/V\n",
            "sex=1 138      112     91.6      4.55      10.3\n",
            "sex=2  90       53     73.4      5.68      10.3\n",
            "\n",
            " Chisq= 10.3  on 1 degrees of freedom, p= 0.001 \n"
          ]
        }
      ]
    },
    {
      "cell_type": "markdown",
      "source": [
        "There is a significant difference in overall survival by sex in the lung data, with a p-value of 0.001.\n",
        "\n",
        "Next, we look at survival curves by sex.\n"
      ],
      "metadata": {
        "id": "BtjMhg7OPewl"
      }
    },
    {
      "cell_type": "code",
      "source": [
        "%%R -h 500 -w 550 -u px\n",
        "\n",
        "survfit2(Surv(time, status) ~ sex, data = lung) |>\n",
        "  ggsurvfit() +\n",
        "  labs(\n",
        "    x = \"Days\",\n",
        "    y = \"Overall survival probability\"\n",
        "  ) +\n",
        "  add_confidence_interval() +\n",
        "  add_risktable()"
      ],
      "metadata": {
        "colab": {
          "base_uri": "https://localhost:8080/",
          "height": 517
        },
        "id": "AKVArFeEPfoJ",
        "outputId": "06341c2a-b96e-468e-90b5-369f76b0540a"
      },
      "execution_count": null,
      "outputs": [
        {
          "output_type": "display_data",
          "data": {
            "image/png": "[encoded data removed]"
          },
          "metadata": {}
        }
      ]
    },
    {
      "cell_type": "markdown",
      "source": [
        "## Summary and Conclusion:\n",
        "\n",
        "**Non-parametric survival analysis**, especially using the **Kaplan-Meier estimator** and **log-rank test**, is a powerful tool for analyzing time-to-event data, particularly in situations where the distribution of survival times is unknown and when censoring is present. These techniques allow researchers to estimate and compare survival probabilities between groups, providing a foundation for more advanced survival analysis methods.\n",
        "\n",
        "These methods are fundamental in fields like clinical research, reliability engineering, and economics, where time-to-event outcomes and censored data are prevalent."
      ],
      "metadata": {
        "id": "p1VtRgcYP-WP"
      }
    },
    {
      "cell_type": "markdown",
      "source": [
        "## References\n",
        "\n",
        "1.  [Survival Analysis with R](https://rviews.rstudio.com/2017/09/25/survival-analysis-with-r/)\n",
        "\n",
        "2.  [Survival data analysis](https://www.karlin.mff.cuni.cz/~pesta/NMFM404/survival.html)\n",
        "\n",
        "3.  [Survival Analysis in R](https://www.emilyzabor.com/tutorials/survival_analysis_in_r_tutorial.html)\n",
        "\n",
        "4.  [Survival Analysis with R](https://bioconnector.github.io/workshops/r-survival.html)"
      ],
      "metadata": {
        "id": "evpa9c53QAHh"
      }
    }
  ]
}