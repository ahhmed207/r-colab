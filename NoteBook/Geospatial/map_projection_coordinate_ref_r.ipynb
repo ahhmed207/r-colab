{
  "nbformat": 4,
  "nbformat_minor": 0,
  "metadata": {
    "colab": {
      "provenance": [],
      "authorship_tag": "ABX9TyNvrC3cjYw13nXPTf+TM9b7",
      "include_colab_link": true
    },
    "kernelspec": {
      "name": "python3",
      "display_name": "Python 3"
    },
    "language_info": {
      "name": "python"
    }
  },
  "cells": [
    {
      "cell_type": "markdown",
      "metadata": {
        "id": "view-in-github",
        "colab_type": "text"
      },
      "source": [
        "<a href=\"https://colab.research.google.com/github/zia207/r-colab/blob/main/NoteBook/Geospatial/map_projection_coordinate_ref_r.ipynb\" target=\"_parent\"><img src=\"https://colab.research.google.com/assets/colab-badge.svg\" alt=\"Open In Colab\"/></a>"
      ]
    },
    {
      "cell_type": "markdown",
      "source": [
        "# Map Projection and Coordinate Reference Systems in R\n",
        "\n",
        "Zia Ahmed"
      ],
      "metadata": {
        "id": "utId4pI-Mz6G"
      }
    },
    {
      "cell_type": "markdown",
      "source": [
        "## Coordinate Reference Systems\n",
        "\n",
        "Coordinate Reference Systems (CRS) are used in cartography, geography,\n",
        "and GIS (Geographic Information Systems) to define the positions of\n",
        "points, lines, and areas on the Earth's surface. A CRS provides a\n",
        "framework for translating geographic locations, which are expressed as\n",
        "latitude and longitude or other coordinate values, into a specific\n",
        "location on a map or a two-dimensional plane.\n",
        "\n",
        "There are two main types of Coordinate Reference Systems:\n",
        "\n",
        "1.  Geographic Coordinate Systems (GCS): Geographic Coordinate Systems\n",
        "    use latitude and longitude to define locations on the Earth's\n",
        "    surface. Latitude measures the north-south position, while longitude\n",
        "    measures the east-west position. The coordinates are expressed in\n",
        "    degrees, minutes, and seconds or decimal degrees. Common GCS\n",
        "    examples include WGS 84 (World Geodetic System 1984) and NAD83\n",
        "    (North American Datum 1983).\n",
        "\n",
        "2.  Projected Coordinate Systems (PCS): Projected Coordinate Systems use\n",
        "    Cartesian coordinates (X, Y) to represent locations on a flat,\n",
        "    two-dimensional map. The projection converts the three-dimensional\n",
        "    geographic coordinates (latitude, longitude, and often elevation)\n",
        "    into these two-dimensional coordinates. Different map projections,\n",
        "    such as Mercator, Robinson, or UTM (Universal Transverse Mercator),\n",
        "    create projected coordinate systems.\n",
        "\n",
        "\n",
        "\n",
        "The equidistant lines that run east and west each have a constant latitude value called **parallels**. The **equator** is the largest circle and divides the earth in half. It is equal in distance from each of the poles, and the value of this latitude line is zero. Locations north of the equator has positive latitudes that range from **0 to +90 degrees**, while locations south of the equator have negative latitudes that range from **0 to -90 degrees**.\n",
        "\n",
        "The lines that run through north and south each have a constant longitude value and form circles of the same size around the earth known as **meridians**. The **prime meridian** is the line of longitude that defines the origin (zero degrees) for longitude coordinates. One of the most commonly used prime meridian locations is the line that passes through Greenwich, England. Locations east of the prime meridian up to its antipodal meridian (the continuation of the prime meridian on the other side of the globe) have positive longitudes ranging from **0 to +180 degrees**. Locations west of the prime meridian has negative longitudes ranging from **0 to -180 degrees**.\n",
        "\n",
        "The latitude and longitude lines cover the globe to form a grid that know as a **graticule**. The point of origin of the graticule is (0,0), where the equator and the prime meridian intersect. The equator is the only place on the graticule where the linear distance corresponding to one degree latitude is approximately equal the distance corresponding to one degree longitude. Because the longitude lines converge at the poles, the distance between two meridians is different at every parallel.\n",
        "\n",
        "To maintain accuracy in GIS and cartographic applications, it's essential to use the appropriate coordinate reference system and datum for the specific region or project. Choosing the wrong CRS can lead to distortions and inaccuracies when transforming between geographic locations and map coordinates.\n",
        "\n",
        "CRS is a fundamental aspect of spatial data management, as they allow for the integration of different data sources, analysis, and visualization of geographic information consistently and meaningfully. Understanding CRS is crucial for cartographers, GIS analysts, and anyone working with geographic data to ensure accurate spatial representation and analysis.\n",
        "\n"
      ],
      "metadata": {
        "id": "EQ_cTtbQQYVT"
      }
    },
    {
      "cell_type": "markdown",
      "source": [
        "## Map Projection\n",
        "\n",
        "Map projection is a method used to represent the three-dimensional\n",
        "surface of the Earth on a two-dimensional map. Since the Earth is a\n",
        "spherical object, it is challenging to depict its curved surface\n",
        "accurately on a flat surface. This problem arises because representing\n",
        "the entire curved surface of the Earth on a flat map results in\n",
        "distortions in shape, size, distance, or direction.\n",
        "\n",
        "Various map projections are available, each designed to address\n",
        "different needs and minimize certain types of distortion. Here are some\n",
        "common types of map projections:\n",
        "\n",
        "**Mercator Projection**: Developed by Gerardus Mercator in the 16th century,\n",
        "this projection preserves straight lines, making it useful for marine\n",
        "navigation. However, it distorts the sizes of landmasses, with areas\n",
        "near the poles appearing significantly more significant than they are.\n",
        "\n",
        "**Robinson Projection**: This compromise projection attempts to balance\n",
        "distortions in size, shape, and distance across the entire map. It's\n",
        "commonly used for world maps.\n",
        "\n",
        "**Conic Projection**: This projection involves projecting the Earth's\n",
        "surface onto a cone and then unrolling the cone to form a flat map. It\n",
        "preserves shapes and distances well within the area of the cone but can\n",
        "have significant distortions as one moves away from that central area.\n",
        "\n",
        "**Cylindrical Projection**: This projection wraps the Earth's surface around\n",
        "a cylinder. Examples include the Mercator projection mentioned earlier\n",
        "and the Miller projection, which preserves relative size but distorts\n",
        "shapes.\n",
        "\n",
        "**Azimuthal Projection**: These projections project the Earth's surface onto\n",
        "a plane from a specific point on the Earth's surface. They preserve\n",
        "directionality but can have considerable distortions in other aspects.\n",
        "\n",
        "**Goode's Homolosine Projection**: This projection combines the sinusoidal\n",
        "and Mollweide projection to reduce size distortion in landmasses,\n",
        "although it sacrifices shape accuracy.\n",
        "\n",
        "The choice of map projection depends on the intended use of the map, the\n",
        "area being represented, and the extent to which certain distortions are\n",
        "acceptable. No single projection can perfectly represent the entire\n",
        "Earth without any distortions, and mapmakers must make trade-offs based\n",
        "on their specific needs.\n",
        "\n",
        "It's important to understand that map projections are just one aspect of\n",
        "cartography, and producing accurate and useful maps often involves other\n",
        "techniques, such as generalization, symbolization, and labeling.\n",
        "\n",
        "\n"
      ],
      "metadata": {
        "id": "u20jPHPtNNZ9"
      }
    },
    {
      "cell_type": "markdown",
      "source": [
        "\n",
        "## The World Geodetic system 84\n",
        "\n",
        "The World Geodetic System 1984 (WGS 84) is a global geodetic reference system developed and maintained by the United States Department of Defense (DoD). It is widely used as the standard coordinate reference system for the Earth's surface in various applications, including mapping, navigation, surveying, and GPS (Global Positioning System).\n",
        "\n",
        "WGS 84 is an Earth-centered, Earth-fixed coordinate system known as a geocentric coordinate system. It defines a three-dimensional model of the Earth, where the center of the Earth serves as the origin, and the X, Y, and Z axes are oriented with respect to the Earth's rotation and equator.\n",
        "\n",
        "The key features of WGS 84 include:\n",
        "\n",
        "1.  Ellipsoid: WGS 84 uses the WGS 84 ellipsoid, a mathematically defined surface approximating the shape of the Earth. It is an oblate spheroid, slightly flattened at the poles and bulging at the equator.\n",
        "\n",
        "2.  Datum: WGS 84 defines a specific datum, which includes the ellipsoid's size, shape, and orientation in relation to the Earth's center. The datum is a reference frame for measuring positions on the Earth's surface.\n",
        "\n",
        "3.  Coordinate Units: WGS 84 uses degrees of latitude and longitude to express geographic positions. Latitude measures the north-south position, and longitude measures the east-west position.\n",
        "\n",
        "4.  GPS Reference Frame: WGS 84 is the coordinate system used by the Global Positioning System (GPS). GPS receivers use WGS 84 to accurately determine the user's position on the Earth's surface.\n",
        "\n",
        "5.  Constantly Updated: The WGS 84 reference frame is continuously refined and updated to account for crustal movements, which can affect the Earth's shape and position. As such, newer versions of WGS 84 have been released, with slight adjustments to improve accuracy.\n",
        "\n",
        "The adoption of WGS 84 as a global standard has been instrumental in enabling accurate navigation, mapping, and geospatial data exchange across the world. It ensures consistency and interoperability among different mapping and navigation systems, making it possible to integrate data from various sources into a coherent spatial framework."
      ],
      "metadata": {
        "id": "2OjWLLiMZzxF"
      }
    },
    {
      "cell_type": "code",
      "source": [
        "# GEOGCS[\"WGS 84\",\n",
        "#    DATUM[\"WGS_1984\",\n",
        "#      SPHEROID[\"WGS 84\",6378137,298.257223563,\n",
        "#            AUTHORITY[\"EPSG\",\"7030\"]],\n",
        "#            AUTHORITY[\"EPSG\",\"6326\"]],\n",
        "#      PRIMEM[\"Greenwich\",0,\n",
        "#      AUTHORITY[\"EPSG\",\"8901\"]],\n",
        "#    UNIT[\"degree\",0.01745329251994328,\n",
        "#      AUTHORITY[\"EPSG\",\"9122\"]],\n",
        "#    AUTHORITY[\"EPSG\",\"4326\"]]"
      ],
      "metadata": {
        "id": "tlXXGVp1Oy5v"
      },
      "execution_count": null,
      "outputs": []
    },
    {
      "cell_type": "markdown",
      "source": [
        "## Universal Transverse Mercator (UTM)\n",
        "\n",
        "The Universal Transverse Mercator (UTM) is a widely used map projection and coordinate reference system that divides the Earth's surface into a series of zones, each with its own unique coordinate system. It is designed to minimize distortion within each zone, making it suitable for accurate mapping and navigation in relatively small areas.\n",
        "\n",
        "The UTM projection is a type of cylindrical projection that projects the Earth's surface onto a cylinder. The cylinder is then unwrapped to create a flat map. The key features of the UTM system include:\n",
        "\n",
        "1.  Zone System: The Earth is divided into 60 longitudinal zones, each spanning 6 degrees of longitude. Each zone is 6 degrees wide, except for zones 1 and 60 around the poles, which are narrower to account for the convergence of meridians. Zones are numbered from 1 to 60, starting at the 180° meridian and progressing eastward.\n",
        "\n",
        "2.  Transverse Projection: Unlike the Mercator projection, which is based on a standard parallel, the UTM projection is transverse, meaning that the cylinder is oriented along the meridians rather than the equator. This results in better accuracy for regions closer to the equator.\n",
        "\n",
        "3.  Cartesian Coordinates: Each UTM zone's positions are expressed in a Cartesian coordinate system with X and Y values. The X-coordinate represents easting (measured in meters) from the central meridian of the zone, and the Y-coordinate represents northing (also measured in meters) from the equator. The origin of each zone is set at the equator and the central meridian of the zone, providing a local reference system.\n",
        "\n",
        "4.  False Easting and Northing: To ensure that all coordinates within a zone are positive, a false easting value (500,000 meters) is added to all X-coordinates, and a false northing value is added to all Y-coordinates. This creates a smooth coordinate system without negative values, simplifying calculations.\n",
        "\n",
        "5.  Scale Factor: UTM uses a varying scale factor along the central meridian of each zone to further minimize distortion. The scale factor is set to 0.9996, meaning that distances measured on the map are slightly shorter than the actual distances on the Earth's surface.\n",
        "\n",
        "The Bangladesh falls in zone 45N (EPSG1:32645) and zone 46N (EPSG:32646).\n",
        "\n",
        "UTM is widely used in various applications, including topographic mapping, GPS navigation, military operations, and geospatial data analysis. It is particularly useful for local mapping tasks, covering areas up to a few thousand kilometers in extent, where the distortion is generally kept within acceptable limits. However, it may not be suitable for global maps or large-scale mapping that requires extremely precise measurements over very large areas."
      ],
      "metadata": {
        "id": "vRB_cJlEPNyI"
      }
    },
    {
      "cell_type": "markdown",
      "source": [
        "### Data\n",
        "\n",
        "In this exercise, we will learn how to check and define CRS and projection of **vector** and **raster** data in R. This is a very important step for working with geospatial data with different projection systems from different sources. We will use following data set:\n",
        "\n",
        "1. Spatial polygon of the district of Bangladesh (bd_district.shp)\n",
        "\n",
        "2. SRTM DEM raster of Rajshahi division (raj_DEM_GCS.tif)\n",
        "\n",
        "3.  One tile of Landsat 9 for Rajshahi Division\n",
        "\n",
        "\n",
        "All data could be found [here](https://github.com/zia207/r-colab/tree/main/Data/Bangladesh/) for download."
      ],
      "metadata": {
        "id": "Z947t7egPw_u"
      }
    },
    {
      "cell_type": "markdown",
      "source": [
        "### Install rpy2"
      ],
      "metadata": {
        "id": "ocKuW0KaQpHS"
      }
    },
    {
      "cell_type": "code",
      "execution_count": 1,
      "metadata": {
        "colab": {
          "base_uri": "https://localhost:8080/"
        },
        "id": "Fqyh1LTENEDl",
        "outputId": "b75998dc-a334-4dea-aba9-ede7eabe6a9d"
      },
      "outputs": [
        {
          "output_type": "stream",
          "name": "stdout",
          "text": [
            "Found existing installation: rpy2 3.4.2\n",
            "Uninstalling rpy2-3.4.2:\n",
            "  Successfully uninstalled rpy2-3.4.2\n",
            "Collecting rpy2==3.5.1\n",
            "  Downloading rpy2-3.5.1.tar.gz (201 kB)\n",
            "\u001b[2K     \u001b[90m━━━━━━━━━━━━━━━━━━━━━━━━━━━━━━━━━━━━━━━\u001b[0m \u001b[32m201.7/201.7 kB\u001b[0m \u001b[31m3.5 MB/s\u001b[0m eta \u001b[36m0:00:00\u001b[0m\n",
            "\u001b[?25h  Preparing metadata (setup.py) ... \u001b[?25l\u001b[?25hdone\n",
            "Requirement already satisfied: cffi>=1.10.0 in /usr/local/lib/python3.10/dist-packages (from rpy2==3.5.1) (1.15.1)\n",
            "Requirement already satisfied: jinja2 in /usr/local/lib/python3.10/dist-packages (from rpy2==3.5.1) (3.1.2)\n",
            "Requirement already satisfied: pytz in /usr/local/lib/python3.10/dist-packages (from rpy2==3.5.1) (2023.3)\n",
            "Requirement already satisfied: tzlocal in /usr/local/lib/python3.10/dist-packages (from rpy2==3.5.1) (5.0.1)\n",
            "Requirement already satisfied: pycparser in /usr/local/lib/python3.10/dist-packages (from cffi>=1.10.0->rpy2==3.5.1) (2.21)\n",
            "Requirement already satisfied: MarkupSafe>=2.0 in /usr/local/lib/python3.10/dist-packages (from jinja2->rpy2==3.5.1) (2.1.3)\n",
            "Building wheels for collected packages: rpy2\n",
            "  Building wheel for rpy2 (setup.py) ... \u001b[?25l\u001b[?25hdone\n",
            "  Created wheel for rpy2: filename=rpy2-3.5.1-cp310-cp310-linux_x86_64.whl size=314932 sha256=291659194702d7b1e35fdb8bb4a852efa130e5c97fbd93ae311a89bfb978d09d\n",
            "  Stored in directory: /root/.cache/pip/wheels/73/a6/ff/4e75dd1ce1cfa2b9a670cbccf6a1e41c553199e9b25f05d953\n",
            "Successfully built rpy2\n",
            "Installing collected packages: rpy2\n",
            "Successfully installed rpy2-3.5.1\n"
          ]
        }
      ],
      "source": [
        "!pip uninstall rpy2 -y\n",
        "!pip install rpy2==3.5.1\n",
        "%load_ext rpy2.ipython"
      ]
    },
    {
      "cell_type": "markdown",
      "source": [
        "### Mount Google Drive"
      ],
      "metadata": {
        "id": "CJxlXzzfNpnM"
      }
    },
    {
      "cell_type": "code",
      "source": [
        "from google.colab import drive\n",
        "drive.mount('/content/drive')"
      ],
      "metadata": {
        "colab": {
          "base_uri": "https://localhost:8080/"
        },
        "id": "gBCeVXnfaCwl",
        "outputId": "b99819d0-0f49-44e6-d0b7-949c1f9d1d27"
      },
      "execution_count": 2,
      "outputs": [
        {
          "output_type": "stream",
          "name": "stdout",
          "text": [
            "Mounted at /content/drive\n"
          ]
        }
      ]
    },
    {
      "cell_type": "markdown",
      "source": [
        "### Install Required R Packages"
      ],
      "metadata": {
        "id": "T7ZrGz_maZK3"
      }
    },
    {
      "cell_type": "code",
      "source": [
        "%%R\n",
        "pkg <- c('tidyverse', 'raster', 'rgdal','terra', 'tidyterra', 'sf', 'maptools')\n",
        "new.packages <- pkg[!(pkg %in% installed.packages(lib='drive/My Drive/R/')[,\"Package\"])]\n",
        "if(length(new.packages)) install.packages(new.packages, lib='drive/My Drive/R/')"
      ],
      "metadata": {
        "id": "s8J7TePkaeuA"
      },
      "execution_count": 4,
      "outputs": []
    },
    {
      "cell_type": "markdown",
      "source": [
        "### Load library"
      ],
      "metadata": {
        "id": "_N2NMPr1bHfM"
      }
    },
    {
      "cell_type": "code",
      "source": [
        "%%R\n",
        ".libPaths('drive/My Drive/R')\n",
        "library(raster)\n",
        "library (rgdal)\n",
        "library(sf)\n",
        "library(maptools)\n",
        "library(terra)\n",
        "library(tidyterra)"
      ],
      "metadata": {
        "id": "hxrZ7jafbHm8"
      },
      "execution_count": null,
      "outputs": []
    },
    {
      "cell_type": "markdown",
      "source": [
        "## Coordinate Reference System of Vector data\n",
        "\n",
        "We will use bd_district shape files to check, define projection. We will use **shapefile()** function of raster package to load Vector data in R."
      ],
      "metadata": {
        "id": "KVWUg1FCfpRF"
      }
    },
    {
      "cell_type": "code",
      "source": [
        "%%R\n",
        "# reading shape file with raster or rgdal package from google drive\n",
        "#dist.GCS<-rgdal::readOGR(\"/content/drive/MyDrive/Data/Bangladesh/Shapefiles/bd_district.shp\")\n",
        "dist<-raster::shapefile('/content/drive/MyDrive/Data/Bangladesh/Shapefiles/bd_district.shp')\n",
        "# Reading shape file  sf package from github\n",
        "dist.st = sf::st_read(\"/vsicurl/https://github.com//zia207/r-colab/raw/main/Data/Bangladesh//Shapefiles/bd_district.shp\")"
      ],
      "metadata": {
        "id": "9u8n7YRPfpzU",
        "colab": {
          "base_uri": "https://localhost:8080/"
        },
        "outputId": "a3754142-342a-4427-c318-2443a1daa4b2"
      },
      "execution_count": 6,
      "outputs": [
        {
          "output_type": "stream",
          "name": "stdout",
          "text": [
            "Reading layer `bd_district' from data source \n",
            "  `/vsicurl/https://github.com//zia207/r-colab/raw/main/Data/Bangladesh//Shapefiles/bd_district.shp' \n",
            "  using driver `ESRI Shapefile'\n",
            "Simple feature collection with 64 features and 14 fields\n",
            "Geometry type: MULTIPOLYGON\n",
            "Dimension:     XY\n",
            "Bounding box:  xmin: 88.00863 ymin: 20.59061 xmax: 92.68031 ymax: 26.63451\n",
            "CRS:           NA\n"
          ]
        }
      ]
    },
    {
      "cell_type": "markdown",
      "source": [
        "### Check Projection\n",
        "\n",
        "We can check current CRS of dist.CGS objects using proj4string() or st_crs() of sf pcakages function:"
      ],
      "metadata": {
        "id": "agSxsuhWlnUA"
      }
    },
    {
      "cell_type": "code",
      "source": [
        "%%R\n",
        "print(proj4string(dist))"
      ],
      "metadata": {
        "colab": {
          "base_uri": "https://localhost:8080/"
        },
        "id": "WeHlyoa_kNJd",
        "outputId": "b5500525-d72f-4e18-d459-284c045ed038"
      },
      "execution_count": 7,
      "outputs": [
        {
          "output_type": "stream",
          "name": "stdout",
          "text": [
            "[1] NA\n"
          ]
        }
      ]
    },
    {
      "cell_type": "code",
      "source": [
        "%%R\n",
        "st_crs(dist)"
      ],
      "metadata": {
        "colab": {
          "base_uri": "https://localhost:8080/"
        },
        "id": "k57HYpd8mRQN",
        "outputId": "ea64fc25-2af4-44e2-9e0f-4b8d4ebe102f"
      },
      "execution_count": 8,
      "outputs": [
        {
          "output_type": "stream",
          "name": "stdout",
          "text": [
            "Coordinate Reference System: NA\n"
          ]
        }
      ]
    },
    {
      "cell_type": "markdown",
      "source": [
        "You notice that **.prj** file is not associated with this shape file."
      ],
      "metadata": {
        "id": "7jsi6ZtTmKLe"
      }
    },
    {
      "cell_type": "markdown",
      "source": [
        "We know that bd_district.shp file is in a geographic coordinate system. We can also check its coordinates system with the **summary()** function."
      ],
      "metadata": {
        "id": "hKG9w-uUm55u"
      }
    },
    {
      "cell_type": "code",
      "source": [
        "%%R\n",
        "summary(dist.GCS)"
      ],
      "metadata": {
        "colab": {
          "base_uri": "https://localhost:8080/"
        },
        "id": "YE3E3haNm73t",
        "outputId": "7b265388-69b5-477d-c5df-2bc1a9e8370d"
      },
      "execution_count": null,
      "outputs": [
        {
          "output_type": "stream",
          "name": "stdout",
          "text": [
            "Object of class SpatialPolygonsDataFrame\n",
            "Coordinates:\n",
            "       min      max\n",
            "x 88.00863 92.68031\n",
            "y 20.59061 26.63451\n",
            "Is projected: NA \n",
            "proj4string : [NA]\n",
            "Data attributes:\n",
            "   Shape_Leng       Shape_Area       ADM2_EN           ADM2_PCODE       \n",
            " Min.   : 1.743   Min.   :0.0623   Length:64          Length:64         \n",
            " 1st Qu.: 2.672   1st Qu.:0.1171   Class :character   Class :character  \n",
            " Median : 3.581   Median :0.1768   Mode  :character   Mode  :character  \n",
            " Mean   : 4.331   Mean   :0.1937                                        \n",
            " 3rd Qu.: 4.821   3rd Qu.:0.2416                                        \n",
            " Max.   :13.381   Max.   :0.5070                                        \n",
            "   ADM2_REF          ADM2ALT1EN         ADM2ALT2EN          ADM1_EN         \n",
            " Length:64          Length:64          Length:64          Length:64         \n",
            " Class :character   Class :character   Class :character   Class :character  \n",
            " Mode  :character   Mode  :character   Mode  :character   Mode  :character  \n",
            "                                                                            \n",
            "                                                                            \n",
            "                                                                            \n",
            "  ADM1_PCODE          ADM0_EN           ADM0_PCODE            date          \n",
            " Length:64          Length:64          Length:64          Length:64         \n",
            " Class :character   Class :character   Class :character   Class :character  \n",
            " Mode  :character   Mode  :character   Mode  :character   Mode  :character  \n",
            "                                                                            \n",
            "                                                                            \n",
            "                                                                            \n",
            "   validOn            ValidTo         \n",
            " Length:64          Length:64         \n",
            " Class :character   Class :character  \n",
            " Mode  :character   Mode  :character  \n",
            "                                      \n",
            "                                      \n",
            "                                      \n"
          ]
        }
      ]
    },
    {
      "cell_type": "markdown",
      "source": [
        "### Define CRS\n",
        "\n",
        "You notice that county shape file read as **SpatialPolygonsDataFrame** in R, and it's x-coordinate is from  88.00863 to 89.82498 and y-cordinate  23.80807 to  25.27759 and CRS has not been be defined yet (**Is projected: NA and proj4string : \\[NA\\]**) and **.PRJ** file is missing. So you need to define its current CRS (**WGS 1984 or EPSG:4326**) before you do any further analyses like re-projection etc.\n",
        "\n",
        "We use either of following function to define it's CRS."
      ],
      "metadata": {
        "id": "Worwj7Z6nnFd"
      }
    },
    {
      "cell_type": "code",
      "source": [
        "%%R\n",
        "# raster package\n",
        "proj4string(dist) = CRS(\"+proj=longlat +ellps=WGS84\")\n",
        "# or\n",
        "#proj4string(dist) <- CRS(\"+init=epsg:4326\")\n"
      ],
      "metadata": {
        "id": "sRR5N9icoa8p"
      },
      "execution_count": 9,
      "outputs": []
    },
    {
      "cell_type": "code",
      "source": [
        "%%R\n",
        "# sf object\n",
        "dist.st.gcs<-dist.st %>%\n",
        "          st_set_crs(st_crs(\"+proj=longlat +ellps=WGS84\"))\n"
      ],
      "metadata": {
        "id": "qjmUGFKaw85T"
      },
      "execution_count": 18,
      "outputs": []
    },
    {
      "cell_type": "markdown",
      "source": [
        "A new CRS, **WGS 1984** has been assigned to the shape file. You can check it again with **st_crs()** functions.\n",
        "\n"
      ],
      "metadata": {
        "id": "NFpqk1Jeol3z"
      }
    },
    {
      "cell_type": "code",
      "source": [
        "%%R\n",
        "st_crs(dist.st.gcs)"
      ],
      "metadata": {
        "colab": {
          "base_uri": "https://localhost:8080/"
        },
        "id": "9yyqU_IOok-g",
        "outputId": "72fd6778-b67b-4097-b56e-73368a1e6838"
      },
      "execution_count": 20,
      "outputs": [
        {
          "output_type": "stream",
          "name": "stdout",
          "text": [
            "Coordinate Reference System:\n",
            "  User input: +proj=longlat +ellps=WGS84 \n",
            "  wkt:\n",
            "GEOGCRS[\"unknown\",\n",
            "    DATUM[\"Unknown based on WGS84 ellipsoid\",\n",
            "        ELLIPSOID[\"WGS 84\",6378137,298.257223563,\n",
            "            LENGTHUNIT[\"metre\",1],\n",
            "            ID[\"EPSG\",7030]]],\n",
            "    PRIMEM[\"Greenwich\",0,\n",
            "        ANGLEUNIT[\"degree\",0.0174532925199433],\n",
            "        ID[\"EPSG\",8901]],\n",
            "    CS[ellipsoidal,2],\n",
            "        AXIS[\"longitude\",east,\n",
            "            ORDER[1],\n",
            "            ANGLEUNIT[\"degree\",0.0174532925199433,\n",
            "                ID[\"EPSG\",9122]]],\n",
            "        AXIS[\"latitude\",north,\n",
            "            ORDER[2],\n",
            "            ANGLEUNIT[\"degree\",0.0174532925199433,\n",
            "                ID[\"EPSG\",9122]]]]\n"
          ]
        }
      ]
    },
    {
      "cell_type": "markdown",
      "source": [
        "However, you need to save the file to make it permanent. You can use either,  will use **writeOGR()** function of **rgdal** package or **shapefile()** function of raster package or **st_write()**  function  of **sf**  to save it. It is a good practice to write a file with it's current CRS. After running this function, you can see a file named **raj_district_GCS.prj** has created in your working directory."
      ],
      "metadata": {
        "id": "-bhX42oLrPsr"
      }
    },
    {
      "cell_type": "code",
      "source": [
        "%%R\n",
        "shapefile(\"/content/drive/MyDrive/Data/Bangladesh/Shapefiles/bd_district_GCS.shp\", overwrite=TRUE)"
      ],
      "metadata": {
        "colab": {
          "base_uri": "https://localhost:8080/"
        },
        "id": "fEaLlt7drUI5",
        "outputId": "bfacc25b-89db-452c-9323-d2b1d458dc83"
      },
      "execution_count": 16,
      "outputs": [
        {
          "output_type": "stream",
          "name": "stdout",
          "text": [
            "class       : SpatialPolygonsDataFrame \n",
            "features    : 64 \n",
            "extent      : 88.00863, 92.68031, 20.59061, 26.63451  (xmin, xmax, ymin, ymax)\n",
            "crs         : +proj=longlat +ellps=WGS84 +no_defs \n",
            "variables   : 14\n",
            "names       :    Shape_Leng,      Shape_Area,    ADM2_EN, ADM2_PCODE,   ADM2_REF, ADM2ALT1EN, ADM2ALT2EN, ADM1_EN, ADM1_PCODE,    ADM0_EN, ADM0_PCODE,       date,    validOn, ValidTo \n",
            "min values  : 1.74310759514, 0.0622971562428,   Bagerhat,     BD1004, Coxs Bazar,         NA,         NA, Barisal,       BD10, Bangladesh,         BD, 2015/01/01, 2020/11/13,      NA \n",
            "max values  : 13.3806742856,   0.50697298682, Thakurgaon,     BD6091, Coxs Bazar,         NA,         NA,  Sylhet,       BD60, Bangladesh,         BD, 2015/01/01, 2020/11/13,      NA \n"
          ]
        }
      ]
    },
    {
      "cell_type": "markdown",
      "source": [
        "### Projection\n",
        "\n",
        "The **spTransform** function of raster or **st_tranform** of sf packages provide transformation between datum(s) and conversion between projections (also known as projection and/or re-projection) from one specified coordinate reference system to another. For simple projection, when no **+datum** tags are used, datum projection does not occur. When datum transformation is required, the **+datum** tag should be present with a valid value both in the CRS of the object to be transformed, and in the target CRS. In general **+datum=** is to be preferred to **+ellps=**, because the datum always fixes the ellipsoid, but the ellipsoid never fixes the datum.\n",
        "\n",
        "We will transform the shape file to Bangladesh Transverse Mercator [(EPSG:9677)](https://epsg.io/9677)\n",
        "\n",
        "Projection parameter of Bangladesh Transverse Mercator\n",
        "\n",
        "> \"proj=tmerc +lat_0=0 +lon_0=90 +k=0.9996 +x_0=500000 +y_0=-2000000\"\n"
      ],
      "metadata": {
        "id": "jIEUtUj9w9qt"
      }
    },
    {
      "cell_type": "code",
      "source": [
        "%%R\n",
        "btm = CRS(\"+proj=tmerc +lat_0=0 +lon_0=90 +k=0.9996 +x_0=500000 +y_0=-2000000 +datum=WGS84 +units=m +no_defs\" )\n",
        "# define new projection\n",
        "dist.PROJ<- spTransform(dist, btm)\n",
        "summary(dist.PROJ)"
      ],
      "metadata": {
        "colab": {
          "base_uri": "https://localhost:8080/"
        },
        "id": "RwSSbEOExiB3",
        "outputId": "3dc8f9fc-1c4f-46e1-a795-c85483c52dbc"
      },
      "execution_count": 21,
      "outputs": [
        {
          "output_type": "stream",
          "name": "stdout",
          "text": [
            "Object of class SpatialPolygonsDataFrame\n",
            "Coordinates:\n",
            "       min      max\n",
            "x 298487.8 778101.8\n",
            "y 278578.1 946939.2\n",
            "Is projected: TRUE \n",
            "proj4string :\n",
            "[+proj=tmerc +lat_0=0 +lon_0=90 +k=0.9996 +x_0=500000 +y_0=-2000000\n",
            "+datum=WGS84 +units=m +no_defs]\n",
            "Data attributes:\n",
            "   Shape_Leng       Shape_Area       ADM2_EN           ADM2_PCODE       \n",
            " Min.   : 1.743   Min.   :0.0623   Length:64          Length:64         \n",
            " 1st Qu.: 2.672   1st Qu.:0.1171   Class :character   Class :character  \n",
            " Median : 3.581   Median :0.1768   Mode  :character   Mode  :character  \n",
            " Mean   : 4.331   Mean   :0.1937                                        \n",
            " 3rd Qu.: 4.821   3rd Qu.:0.2416                                        \n",
            " Max.   :13.381   Max.   :0.5070                                        \n",
            "   ADM2_REF          ADM2ALT1EN         ADM2ALT2EN          ADM1_EN         \n",
            " Length:64          Length:64          Length:64          Length:64         \n",
            " Class :character   Class :character   Class :character   Class :character  \n",
            " Mode  :character   Mode  :character   Mode  :character   Mode  :character  \n",
            "                                                                            \n",
            "                                                                            \n",
            "                                                                            \n",
            "  ADM1_PCODE          ADM0_EN           ADM0_PCODE            date          \n",
            " Length:64          Length:64          Length:64          Length:64         \n",
            " Class :character   Class :character   Class :character   Class :character  \n",
            " Mode  :character   Mode  :character   Mode  :character   Mode  :character  \n",
            "                                                                            \n",
            "                                                                            \n",
            "                                                                            \n",
            "   validOn            ValidTo         \n",
            " Length:64          Length:64         \n",
            " Class :character   Class :character  \n",
            " Mode  :character   Mode  :character  \n",
            "                                      \n",
            "                                      \n",
            "                                      \n"
          ]
        }
      ]
    },
    {
      "cell_type": "markdown",
      "source": [
        "We notice that x and y -coordinates converted from degree-decimal to meter and **Is projected: TRUE**."
      ],
      "metadata": {
        "id": "dUM-4wnfyavA"
      }
    },
    {
      "cell_type": "markdown",
      "source": [
        "Or we can also use **st_transform** to st object to project the  vector data"
      ],
      "metadata": {
        "id": "oWPuifT0yDUa"
      }
    },
    {
      "cell_type": "code",
      "source": [
        "%%R\n",
        "dist.st.BTM<-st_transform(dist.st.gcs, crs=btm)\n",
        "st_crs(dist.st.BTM)"
      ],
      "metadata": {
        "colab": {
          "base_uri": "https://localhost:8080/"
        },
        "id": "9ERd1z_syDff",
        "outputId": "5fadb9e7-2219-4f5b-8bb2-f6b1fa12011f"
      },
      "execution_count": 22,
      "outputs": [
        {
          "output_type": "stream",
          "name": "stdout",
          "text": [
            "Coordinate Reference System:\n",
            "  User input: PROJCRS[\"unknown\",\n",
            "    BASEGEOGCRS[\"unknown\",\n",
            "        DATUM[\"World Geodetic System 1984\",\n",
            "            ELLIPSOID[\"WGS 84\",6378137,298.257223563,\n",
            "                LENGTHUNIT[\"metre\",1]],\n",
            "            ID[\"EPSG\",6326]],\n",
            "        PRIMEM[\"Greenwich\",0,\n",
            "            ANGLEUNIT[\"degree\",0.0174532925199433],\n",
            "            ID[\"EPSG\",8901]]],\n",
            "    CONVERSION[\"unknown\",\n",
            "        METHOD[\"Transverse Mercator\",\n",
            "            ID[\"EPSG\",9807]],\n",
            "        PARAMETER[\"Latitude of natural origin\",0,\n",
            "            ANGLEUNIT[\"degree\",0.0174532925199433],\n",
            "            ID[\"EPSG\",8801]],\n",
            "        PARAMETER[\"Longitude of natural origin\",90,\n",
            "            ANGLEUNIT[\"degree\",0.0174532925199433],\n",
            "            ID[\"EPSG\",8802]],\n",
            "        PARAMETER[\"Scale factor at natural origin\",0.9996,\n",
            "            SCALEUNIT[\"unity\",1],\n",
            "            ID[\"EPSG\",8805]],\n",
            "        PARAMETER[\"False easting\",500000,\n",
            "            LENGTHUNIT[\"metre\",1],\n",
            "            ID[\"EPSG\",8806]],\n",
            "        PARAMETER[\"False northing\",-2000000,\n",
            "            LENGTHUNIT[\"metre\",1],\n",
            "            ID[\"EPSG\",8807]]],\n",
            "    CS[Cartesian,2],\n",
            "        AXIS[\"(E)\",east,\n",
            "            ORDER[1],\n",
            "            LENGTHUNIT[\"metre\",1,\n",
            "                ID[\"EPSG\",9001]]],\n",
            "        AXIS[\"(N)\",north,\n",
            "            ORDER[2],\n",
            "            LENGTHUNIT[\"metre\",1,\n",
            "                ID[\"EPSG\",9001]]]] \n",
            "  wkt:\n",
            "PROJCRS[\"unknown\",\n",
            "    BASEGEOGCRS[\"unknown\",\n",
            "        DATUM[\"World Geodetic System 1984\",\n",
            "            ELLIPSOID[\"WGS 84\",6378137,298.257223563,\n",
            "                LENGTHUNIT[\"metre\",1]],\n",
            "            ID[\"EPSG\",6326]],\n",
            "        PRIMEM[\"Greenwich\",0,\n",
            "            ANGLEUNIT[\"degree\",0.0174532925199433],\n",
            "            ID[\"EPSG\",8901]]],\n",
            "    CONVERSION[\"unknown\",\n",
            "        METHOD[\"Transverse Mercator\",\n",
            "            ID[\"EPSG\",9807]],\n",
            "        PARAMETER[\"Latitude of natural origin\",0,\n",
            "            ANGLEUNIT[\"degree\",0.0174532925199433],\n",
            "            ID[\"EPSG\",8801]],\n",
            "        PARAMETER[\"Longitude of natural origin\",90,\n",
            "            ANGLEUNIT[\"degree\",0.0174532925199433],\n",
            "            ID[\"EPSG\",8802]],\n",
            "        PARAMETER[\"Scale factor at natural origin\",0.9996,\n",
            "            SCALEUNIT[\"unity\",1],\n",
            "            ID[\"EPSG\",8805]],\n",
            "        PARAMETER[\"False easting\",500000,\n",
            "            LENGTHUNIT[\"metre\",1],\n",
            "            ID[\"EPSG\",8806]],\n",
            "        PARAMETER[\"False northing\",-2000000,\n",
            "            LENGTHUNIT[\"metre\",1],\n",
            "            ID[\"EPSG\",8807]]],\n",
            "    CS[Cartesian,2],\n",
            "        AXIS[\"(E)\",east,\n",
            "            ORDER[1],\n",
            "            LENGTHUNIT[\"metre\",1,\n",
            "                ID[\"EPSG\",9001]]],\n",
            "        AXIS[\"(N)\",north,\n",
            "            ORDER[2],\n",
            "            LENGTHUNIT[\"metre\",1,\n",
            "                ID[\"EPSG\",9001]]]]\n"
          ]
        }
      ]
    },
    {
      "cell_type": "markdown",
      "source": [
        "Now plot WWGS 1984 and BTM projected map site by site."
      ],
      "metadata": {
        "id": "g59IfqeQ0EU9"
      }
    },
    {
      "cell_type": "code",
      "source": [
        "%%R\n",
        "par(mfrow=c(1,2))\n",
        "plot(dist, main=\"WGS 1984\")\n",
        "plot(dist.PROJ, main=\"BTM\")\n",
        "par(mfrow=c(1,1))"
      ],
      "metadata": {
        "colab": {
          "base_uri": "https://localhost:8080/",
          "height": 497
        },
        "id": "QiaMqDYwya5L",
        "outputId": "f665736c-98fd-4953-e447-98cf7616896c"
      },
      "execution_count": null,
      "outputs": [
        {
          "output_type": "display_data",
          "data": {
            "image/png": "[encoded data removed]"
          },
          "metadata": {}
        }
      ]
    },
    {
      "cell_type": "markdown",
      "source": [
        "We can save (write) this file as an ESRI shape with **writeOGR()** or **shapefile()** or **st_write()** function for future use."
      ],
      "metadata": {
        "id": "B9CvX7K2zG74"
      }
    },
    {
      "cell_type": "code",
      "source": [
        "%%R\n",
        "shapefile(dist.PROJ, \"/content/drive/MyDrive/Data/Bangladesh/Shapefiles/bd_district_BTM.shp\",overwrite=TRUE)"
      ],
      "metadata": {
        "id": "z3-I_d_nzHHC"
      },
      "execution_count": null,
      "outputs": []
    },
    {
      "cell_type": "markdown",
      "source": [
        "## Raster Data\n",
        "\n",
        "In this exercise, we will use SRTM 90 digital Elevation Model New York State which was downloaded from [CGIAR-CSI](http://www.cgiar-csi.org/data/srtm-90m-digital-elevation-database-v4-1). We will re-project it from WSG84 coordinate to Albers Equal Area Conic NAD83 projection system. In R, you can re-project a single or multiple raster in a batch mode."
      ],
      "metadata": {
        "id": "wNPPB4LS2deo"
      }
    },
    {
      "cell_type": "markdown",
      "source": [
        "### Projection of a Single Raster\n",
        "\n",
        "First, we will re-project DEM raster data from WGS 1984 CRS to BUTM projection system. You can load DEM raster in R using **raster()** function of **raster** package. If you want to check raster attribute, just simple type r-object name of this raster or use **crs()** function."
      ],
      "metadata": {
        "id": "FUo_Agfm2sfh"
      }
    },
    {
      "cell_type": "code",
      "source": [
        "%%R\n",
        "DEM.GCS<-raster(\"/content/drive/MyDrive/Data/Bangladesh/Raster/Raj_DEM_GCS.tif\")\n",
        "DEM.GCS\n",
        "# Or\n",
        "crs(DEM.GCS)"
      ],
      "metadata": {
        "colab": {
          "base_uri": "https://localhost:8080/"
        },
        "id": "p6c5zWh92zkx",
        "outputId": "2497667a-26c6-4e6b-d59b-c8c25a8cc05b"
      },
      "execution_count": 24,
      "outputs": [
        {
          "output_type": "stream",
          "name": "stdout",
          "text": [
            "Coordinate Reference System:\n",
            "Deprecated Proj.4 representation: +proj=longlat +datum=WGS84 +no_defs \n",
            "WKT2 2019 representation:\n",
            "GEOGCRS[\"unknown\",\n",
            "    DATUM[\"World Geodetic System 1984\",\n",
            "        ELLIPSOID[\"WGS 84\",6378137,298.257223563,\n",
            "            LENGTHUNIT[\"metre\",1]],\n",
            "        ID[\"EPSG\",6326]],\n",
            "    PRIMEM[\"Greenwich\",0,\n",
            "        ANGLEUNIT[\"degree\",0.0174532925199433],\n",
            "        ID[\"EPSG\",8901]],\n",
            "    CS[ellipsoidal,2],\n",
            "        AXIS[\"longitude\",east,\n",
            "            ORDER[1],\n",
            "            ANGLEUNIT[\"degree\",0.0174532925199433,\n",
            "                ID[\"EPSG\",9122]]],\n",
            "        AXIS[\"latitude\",north,\n",
            "            ORDER[2],\n",
            "            ANGLEUNIT[\"degree\",0.0174532925199433,\n",
            "                ID[\"EPSG\",9122]]]] \n"
          ]
        }
      ]
    },
    {
      "cell_type": "markdown",
      "source": [
        "You notice that CRS of this DEM has already been defined as **WGS 84**. Now, we will project from **WGS 84** to **BTM**. We will use **projectRaster()** function with proj.4 projection description of **Albers Equal Area Conic NAD83**. Be patient, it will take a while to project this DEM data."
      ],
      "metadata": {
        "id": "QL-QnC9k5O8b"
      }
    },
    {
      "cell_type": "code",
      "source": [
        "%%R\n",
        "DEM.PROJ<-projectRaster(DEM.GCS, crs=btm)\n",
        "DEM.PROJ"
      ],
      "metadata": {
        "colab": {
          "base_uri": "https://localhost:8080/"
        },
        "id": "fQolS0bk5YAk",
        "outputId": "937a4694-0425-4cad-a988-82946ec86342"
      },
      "execution_count": null,
      "outputs": [
        {
          "output_type": "stream",
          "name": "stdout",
          "text": [
            "class      : RasterLayer \n",
            "dimensions : 640, 783, 501120  (nrow, ncol, ncell)\n",
            "resolution : 241, 264  (x, y)\n",
            "extent     : 294912.3, 483615.3, 629891.1, 798851.1  (xmin, xmax, ymin, ymax)\n",
            "crs        : +proj=tmerc +lat_0=0 +lon_0=90 +k=0.9996 +x_0=500000 +y_0=-2000000 +datum=WGS84 +units=m +no_defs \n",
            "source     : memory\n",
            "names      : Band_1 \n",
            "values     : -7.961437, 52.49213  (min, max)\n",
            "\n"
          ]
        }
      ]
    },
    {
      "cell_type": "markdown",
      "source": [
        "We can use **project()** function to reproject SpatRaster object"
      ],
      "metadata": {
        "id": "wnKsaeo1ughV"
      }
    },
    {
      "cell_type": "code",
      "source": [
        "%%R\n",
        "dem.gcs<-terra::rast(\"/content/drive/MyDrive/Data/Bangladesh/Raster/Raj_DEM_GCS.tif\")\n",
        "dem.gcs\n",
        "# Or\n",
        "st_crs(dem.gcs)"
      ],
      "metadata": {
        "colab": {
          "base_uri": "https://localhost:8080/"
        },
        "id": "IDB9Cxl0ugrZ",
        "outputId": "3fa036a6-b749-4a31-efca-646e637fbd55"
      },
      "execution_count": 26,
      "outputs": [
        {
          "output_type": "stream",
          "name": "stdout",
          "text": [
            "Coordinate Reference System:\n",
            "  User input: WGS 84 \n",
            "  wkt:\n",
            "GEOGCRS[\"WGS 84\",\n",
            "    DATUM[\"World Geodetic System 1984\",\n",
            "        ELLIPSOID[\"WGS 84\",6378137,298.257223563,\n",
            "            LENGTHUNIT[\"metre\",1]]],\n",
            "    PRIMEM[\"Greenwich\",0,\n",
            "        ANGLEUNIT[\"degree\",0.0174532925199433]],\n",
            "    CS[ellipsoidal,2],\n",
            "        AXIS[\"geodetic latitude (Lat)\",north,\n",
            "            ORDER[1],\n",
            "            ANGLEUNIT[\"degree\",0.0174532925199433]],\n",
            "        AXIS[\"geodetic longitude (Lon)\",east,\n",
            "            ORDER[2],\n",
            "            ANGLEUNIT[\"degree\",0.0174532925199433]],\n",
            "    ID[\"EPSG\",4326]]\n"
          ]
        }
      ]
    },
    {
      "cell_type": "code",
      "source": [
        "%%R\n",
        "dem.btm<-terra::project(dem.gcs, crs(\"+proj=tmerc +lat_0=0 +lon_0=90 +k=0.9996 +x_0=500000 +y_0=-2000000 +datum=WGS84 +units=m +no_defs\"))\n",
        "dem.btm"
      ],
      "metadata": {
        "colab": {
          "base_uri": "https://localhost:8080/"
        },
        "id": "vLcJwwLnuxYf",
        "outputId": "d9be582c-19c4-4873-a217-670622ef4b80"
      },
      "execution_count": 27,
      "outputs": [
        {
          "output_type": "stream",
          "name": "stdout",
          "text": [
            "class       : SpatRaster \n",
            "dimensions  : 665, 744, 1  (nrow, ncol, nlyr)\n",
            "resolution  : 250.308, 250.308  (x, y)\n",
            "extent      : 296117.3, 482346.4, 631076.3, 797531.1  (xmin, xmax, ymin, ymax)\n",
            "coord. ref. : +proj=tmerc +lat_0=0 +lon_0=90 +k=0.9996 +x_0=500000 +y_0=-2000000 +datum=WGS84 +units=m +no_defs \n",
            "source(s)   : memory\n",
            "name        : Raj_DEM_GCS \n",
            "min value   :   -5.250126 \n",
            "max value   :   51.788570 \n"
          ]
        }
      ]
    },
    {
      "cell_type": "code",
      "source": [
        "%%R\n",
        "par(mfrow=c(1,2))\n",
        "plot(DEM.GCS, main=\"WGS 1984\")\n",
        "plot(DEM.PROJ, main=\"BTM\")\n",
        "par(mfrow=c(1,1))"
      ],
      "metadata": {
        "colab": {
          "base_uri": "https://localhost:8080/",
          "height": 497
        },
        "id": "z6yShdic5mWg",
        "outputId": "d6b275f3-2549-4b1f-85e4-6af0e583169c"
      },
      "execution_count": null,
      "outputs": [
        {
          "output_type": "display_data",
          "data": {
            "image/png": "[encoded data removed]"
          },
          "metadata": {}
        }
      ]
    },
    {
      "cell_type": "markdown",
      "source": [
        "Now we will save this projected raster using **writeRaster()** function of raster package"
      ],
      "metadata": {
        "id": "5DtRhFNo6C9d"
      }
    },
    {
      "cell_type": "code",
      "source": [
        "%%R\n",
        "writeRaster(DEM.PROJ,                                                                  # Input raster\n",
        "            '/content/drive/MyDrive/Data/Bangladesh/Raster/raj_DEM_BTM.tif',        # output folder and output raster\n",
        "            \"GTiff\",                                                                   # output raster file extension\n",
        "             overwrite=TRUE)"
      ],
      "metadata": {
        "id": "Il3rTOQf6DIp"
      },
      "execution_count": null,
      "outputs": []
    },
    {
      "cell_type": "markdown",
      "source": [
        "### Batch Projection of Multiple Raster\n",
        "\n",
        "In this exercise will project DEM raster of eight divisions in a loop. First, we will create a list of raster using **list.files()** function and then will create output raster using **gsub()** function"
      ],
      "metadata": {
        "id": "jaXowoox4GGe"
      }
    },
    {
      "cell_type": "code",
      "source": [
        "%%R\n",
        "DEM.input <- list.files(path= '/content/drive/MyDrive/Data/Bangladesh/Raster/BD_DEM/GCS',pattern='.tif$',full.names=T)\n",
        "DEM.input"
      ],
      "metadata": {
        "colab": {
          "base_uri": "https://localhost:8080/"
        },
        "id": "cg7xBPAV4Jjl",
        "outputId": "3bec83de-a9ca-48bc-f01d-7347c41fc81a"
      },
      "execution_count": null,
      "outputs": [
        {
          "output_type": "stream",
          "name": "stdout",
          "text": [
            "[1] \"/content/drive/MyDrive/Data/Bangladesh/Raster/BD_DEM/GCS/barisal_dem.tif\"    \n",
            "[2] \"/content/drive/MyDrive/Data/Bangladesh/Raster/BD_DEM/GCS/chittagoang_dem.tif\"\n",
            "[3] \"/content/drive/MyDrive/Data/Bangladesh/Raster/BD_DEM/GCS/dhaka_dem.tif\"      \n",
            "[4] \"/content/drive/MyDrive/Data/Bangladesh/Raster/BD_DEM/GCS/khulna_dem.tif\"     \n",
            "[5] \"/content/drive/MyDrive/Data/Bangladesh/Raster/BD_DEM/GCS/mymenshingl_dem.tif\"\n",
            "[6] \"/content/drive/MyDrive/Data/Bangladesh/Raster/BD_DEM/GCS/rajshahi_dem.tif\"   \n",
            "[7] \"/content/drive/MyDrive/Data/Bangladesh/Raster/BD_DEM/GCS/rangpur_dem.tif\"    \n",
            "[8] \"/content/drive/MyDrive/Data/Bangladesh/Raster/BD_DEM/GCS/sylhet_dem.tif\"     \n"
          ]
        }
      ]
    },
    {
      "cell_type": "code",
      "source": [
        "%%R\n",
        "# Output raster names\n",
        "DEM.output <- gsub(\"\\\\.tif$\", \"_PROJ.tif\", DEM.input)\n",
        "DEM.output"
      ],
      "metadata": {
        "colab": {
          "base_uri": "https://localhost:8080/"
        },
        "id": "cdCRN4g2bLiO",
        "outputId": "c9a1ccda-bb16-403c-9f53-12a8f7a02c3e"
      },
      "execution_count": null,
      "outputs": [
        {
          "output_type": "stream",
          "name": "stdout",
          "text": [
            "[1] \"/content/drive/MyDrive/Data/Bangladesh/Raster/BD_DEM/GCS/barisal_dem_PROJ.tif\"    \n",
            "[2] \"/content/drive/MyDrive/Data/Bangladesh/Raster/BD_DEM/GCS/chittagoang_dem_PROJ.tif\"\n",
            "[3] \"/content/drive/MyDrive/Data/Bangladesh/Raster/BD_DEM/GCS/dhaka_dem_PROJ.tif\"      \n",
            "[4] \"/content/drive/MyDrive/Data/Bangladesh/Raster/BD_DEM/GCS/khulna_dem_PROJ.tif\"     \n",
            "[5] \"/content/drive/MyDrive/Data/Bangladesh/Raster/BD_DEM/GCS/mymenshingl_dem_PROJ.tif\"\n",
            "[6] \"/content/drive/MyDrive/Data/Bangladesh/Raster/BD_DEM/GCS/rajshahi_dem_PROJ.tif\"   \n",
            "[7] \"/content/drive/MyDrive/Data/Bangladesh/Raster/BD_DEM/GCS/rangpur_dem_PROJ.tif\"    \n",
            "[8] \"/content/drive/MyDrive/Data/Bangladesh/Raster/BD_DEM/GCS/sylhet_dem_PROJ.tif\"     \n"
          ]
        }
      ]
    },
    {
      "cell_type": "markdown",
      "source": [
        "We will define proj.4 projection description of **BTM** as a mew projection and run **projectRaster()** function in a loop"
      ],
      "metadata": {
        "id": "Q-axRgh54_Yo"
      }
    },
    {
      "cell_type": "code",
      "source": [
        "%%R\n",
        "newproj <- \"+proj=tmerc +lat_0=0 +lon_0=90 +k=0.9996 +x_0=500000 +y_0=0 +datum=WGS84 +units=m +no_defs \"\n",
        "# Reprojection and write raster\n",
        "for (i in 1:8){\n",
        "    r <- raster(DEM.input[i])\n",
        "    PROJ <- projectRaster(r, crs=newproj, method = 'bilinear', filename = DEM.output[i], overwrite=TRUE)\n",
        "}"
      ],
      "metadata": {
        "id": "h54PL7gK5AbN"
      },
      "execution_count": null,
      "outputs": []
    },
    {
      "cell_type": "markdown",
      "source": [
        "\n",
        "### Further Reading\n",
        "\n",
        "1. [Using map projections](https://cran.r-project.org/web/packages/oce/vignettes/D_map_projections.html)\n",
        "\n",
        "2. [Map Projections in R](https://michaelminn.net/tutorials/r-projections/index.html)\n",
        "\n",
        "3. [Variations on map projections in R](https://www.happykhan.com/posts/map-projections-in-r/ )"
      ],
      "metadata": {
        "id": "msuLrysq7Hdj"
      }
    }
  ]
}