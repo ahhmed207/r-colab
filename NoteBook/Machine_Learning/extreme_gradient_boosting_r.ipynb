{
  "nbformat": 4,
  "nbformat_minor": 0,
  "metadata": {
    "colab": {
      "provenance": [],
      "authorship_tag": "ABX9TyOFKr1ehcf/57IAibYrNiBL",
      "include_colab_link": true
    },
    "kernelspec": {
      "name": "python3",
      "display_name": "Python 3"
    },
    "language_info": {
      "name": "python"
    }
  },
  "cells": [
    {
      "cell_type": "markdown",
      "metadata": {
        "id": "view-in-github",
        "colab_type": "text"
      },
      "source": [
        "<a href=\"https://colab.research.google.com/github/zia207/r-colab/blob/main/NoteBook/Machine_Learning/extreme_gradient_boosting_r.ipynb\" target=\"_parent\"><img src=\"https://colab.research.google.com/assets/colab-badge.svg\" alt=\"Open In Colab\"/></a>"
      ]
    },
    {
      "cell_type": "markdown",
      "source": [
        "# Extreme Gradient Boosting in R (XGBoost)\n",
        "\n",
        "Zia Ahmed, University at Buffalo"
      ],
      "metadata": {
        "id": "UenE4D1fFYp6"
      }
    },
    {
      "cell_type": "markdown",
      "source": [
        "XGBoost (eXtreme Gradient Boosting) is a popular open-source machine learning library that is used to build gradient boosting models. It was first introduced in 2016 and has since become one of the most widely used and highly regarded machine learning algorithms for structured data.\n",
        "\n",
        "The XGBoost algorithm works by building a series of decision trees, where each subsequent tree tries to correct the errors of the previous tree. The algorithm also employs a gradient-based optimization approach to find the optimal set of parameters for each decision tree.\n",
        "\n",
        "XGBoost has several key features that make it popular among data scientists and machine learning practitioners. Firstly, it can handle missing values in the data, which is a common problem in real-world datasets. Secondly, it supports parallel processing, which makes it scalable and efficient for large datasets. Thirdly, it has built-in support for regularization, which helps to prevent overfitting and improve the generalization performance of the model. Finally, it provides a variety of evaluation metrics to measure the performance of the model, including accuracy, precision, recall, and F1 score.\n",
        "\n",
        "Overall, XGBoost is a powerful and versatile machine learning algorithm that can be used for a wide range of structured data problems, including classification, regression, and ranking. Its ability to handle missing values, support parallel processing, and provide regularization makes it an excellent choice for building accurate and scalable machine learning models.\n",
        "\n",
        "The XGBoost algorithm works as follows:\n",
        "\n",
        "1.  Initialize the model with a single decision tree.\n",
        "\n",
        "2.  Calculate the error between the predicted values and the actual values for each sample in the training dataset.\n",
        "\n",
        "3.  Train a new decision tree to predict the errors of the previous tree.\n",
        "\n",
        "4.  Add the new tree to the model and update the predicted values by summing the predictions of all the trees in the model.\n",
        "\n",
        "5.  Repeat steps 2 to 4 until the model reaches a certain level of accuracy, or until a maximum number of trees is reached.\n",
        "\n",
        "#### Differences between LightGBM vs XGBoost\n",
        "\n",
        "LightGBM (Light Gradient Boosting Machine) and XGBoost (Extreme Gradient Boosting) are both gradient boosting algorithms that are widely used in machine learning. While they share many similarities, there are some key differences between the two algorithms:\n",
        "\n",
        "1.  Speed: LightGBM is generally faster than XGBoost. This is because it uses a more efficient algorithm for finding the best split points, and it employs parallel processing to speed up the training process.\n",
        "\n",
        "2.  Scalability: LightGBM is more scalable than XGBoost. It can handle larger datasets with higher dimensional features, and it has a smaller memory footprint than XGBoost.\n",
        "\n",
        "3.  Handling missing values: LightGBM has built-in support for handling missing values in the data, which can be a common problem in real-world datasets. XGBoost also supports handling missing values, but it requires the user to manually specify the missing value handling strategy.\n",
        "\n",
        "4.  Leaf-wise growth: LightGBM uses a \"Leaf-wise\" growth strategy, which grows the tree by splitting the leaf that yields the maximum reduction in the loss function, resulting in a more balanced and less deep tree. XGBoost uses a \"Level-wise\" growth strategy, which grows the tree level-by-level, resulting in a deeper and more unbalanced tree."
      ],
      "metadata": {
        "id": "fdqo2fMxFm7b"
      }
    },
    {
      "cell_type": "markdown",
      "source": [
        "### Install rpy2"
      ],
      "metadata": {
        "id": "oYH1O7X0GBkv"
      }
    },
    {
      "cell_type": "code",
      "execution_count": null,
      "metadata": {
        "colab": {
          "base_uri": "https://localhost:8080/"
        },
        "id": "HG9gdO0VFWqO",
        "outputId": "bd7211b8-d34e-4d65-bf4c-0ff91056bb98"
      },
      "outputs": [
        {
          "output_type": "stream",
          "name": "stdout",
          "text": [
            "Found existing installation: rpy2 3.4.2\n",
            "Uninstalling rpy2-3.4.2:\n",
            "  Successfully uninstalled rpy2-3.4.2\n",
            "Collecting rpy2==3.5.1\n",
            "  Downloading rpy2-3.5.1.tar.gz (201 kB)\n",
            "\u001b[2K     \u001b[90m━━━━━━━━━━━━━━━━━━━━━━━━━━━━━━━━━━━━━━━\u001b[0m \u001b[32m201.7/201.7 kB\u001b[0m \u001b[31m2.8 MB/s\u001b[0m eta \u001b[36m0:00:00\u001b[0m\n",
            "\u001b[?25h  Preparing metadata (setup.py) ... \u001b[?25l\u001b[?25hdone\n",
            "Requirement already satisfied: cffi>=1.10.0 in /usr/local/lib/python3.10/dist-packages (from rpy2==3.5.1) (1.15.1)\n",
            "Requirement already satisfied: jinja2 in /usr/local/lib/python3.10/dist-packages (from rpy2==3.5.1) (3.1.2)\n",
            "Requirement already satisfied: pytz in /usr/local/lib/python3.10/dist-packages (from rpy2==3.5.1) (2023.3)\n",
            "Requirement already satisfied: tzlocal in /usr/local/lib/python3.10/dist-packages (from rpy2==3.5.1) (5.0.1)\n",
            "Requirement already satisfied: pycparser in /usr/local/lib/python3.10/dist-packages (from cffi>=1.10.0->rpy2==3.5.1) (2.21)\n",
            "Requirement already satisfied: MarkupSafe>=2.0 in /usr/local/lib/python3.10/dist-packages (from jinja2->rpy2==3.5.1) (2.1.3)\n",
            "Building wheels for collected packages: rpy2\n",
            "  Building wheel for rpy2 (setup.py) ... \u001b[?25l\u001b[?25hdone\n",
            "  Created wheel for rpy2: filename=rpy2-3.5.1-cp310-cp310-linux_x86_64.whl size=314927 sha256=2593e80fd35c7b951a7701c46c04e55b30374a972a121c163d855fd65e785dd0\n",
            "  Stored in directory: /root/.cache/pip/wheels/73/a6/ff/4e75dd1ce1cfa2b9a670cbccf6a1e41c553199e9b25f05d953\n",
            "Successfully built rpy2\n",
            "Installing collected packages: rpy2\n",
            "Successfully installed rpy2-3.5.1\n"
          ]
        }
      ],
      "source": [
        "!pip uninstall rpy2 -y\n",
        "!pip install rpy2==3.5.1\n",
        "%load_ext rpy2.ipython"
      ]
    },
    {
      "cell_type": "markdown",
      "source": [
        "### Mount Google Drive"
      ],
      "metadata": {
        "id": "5SZ9UkOwGCPz"
      }
    },
    {
      "cell_type": "code",
      "source": [
        "from google.colab import drive\n",
        "drive.mount('/content/drive')"
      ],
      "metadata": {
        "colab": {
          "base_uri": "https://localhost:8080/"
        },
        "id": "eQS0lathGCYo",
        "outputId": "c721bcc4-c0c3-417a-dff6-3f6d45265e7b"
      },
      "execution_count": null,
      "outputs": [
        {
          "output_type": "stream",
          "name": "stdout",
          "text": [
            "Mounted at /content/drive\n"
          ]
        }
      ]
    },
    {
      "cell_type": "markdown",
      "source": [
        "### Install required R packages"
      ],
      "metadata": {
        "id": "rIjuTxvOGGi5"
      }
    },
    {
      "cell_type": "code",
      "source": [
        "%%R\n",
        "pkg <- c('tidyverse', 'tidymodels', 'caret', 'Metrics', 'ggpmisc', 'vip', 'patchwork','randomForest','ranger', 'lightgbm', 'fastDummies', 'bonsai', 'gbm', 'xgboost')\n",
        "new.packages <- pkg[!(pkg %in% installed.packages(lib='drive/My Drive/R/')[,\"Package\"])]\n",
        "if(length(new.packages)) install.packages(new.packages, lib='drive/My Drive/R/')"
      ],
      "metadata": {
        "id": "KEFGnztfGGuf"
      },
      "execution_count": null,
      "outputs": []
    },
    {
      "cell_type": "code",
      "source": [
        "%%R\n",
        "%%R\n",
        "# h20\n",
        "pkgs <- c(\"RCurl\",\"jsonlite\")\n",
        "for (pkg in pkgs) {\n",
        "  if (! (pkg %in% rownames(installed.packages(lib='drive/My Drive/R/')))) { install.packages(pkg) }\n",
        "}\n",
        "install.packages(\"h2o\", type=\"source\",lib='drive/My Drive/R/', repos=(c(\"http://h2o-release.s3.amazonaws.com/h2o/latest_stable_R\")))"
      ],
      "metadata": {
        "id": "laBh0cK0YjzW"
      },
      "execution_count": null,
      "outputs": []
    },
    {
      "cell_type": "markdown",
      "source": [
        "### Load Packages"
      ],
      "metadata": {
        "id": "IDQ_Fw9BGV1y"
      }
    },
    {
      "cell_type": "code",
      "source": [
        "%%R\n",
        "# set library path\n",
        ".libPaths('drive/My Drive/R')\n",
        "library(tidyverse)\n",
        "library(tidymodels)\n",
        "library(gbm)\n",
        "library(ggpmisc)\n",
        "library(vip)\n",
        "library(fastDummies)\n",
        "library(xgboost)\n",
        "library(bonsai)\n",
        "librar(caret)"
      ],
      "metadata": {
        "id": "WCVP2-UQGV-Y"
      },
      "execution_count": null,
      "outputs": []
    },
    {
      "cell_type": "markdown",
      "source": [
        "## Extreme Gradient Boosting with \"XGBoost\" package\n",
        "\n",
        "The XGBoost package in R provides an implementation of the XGBoost algorithm, a powerful and flexible gradient boosting framework. Here are some key features of the XGBoost R package:\n",
        "\n",
        "1.  High performance: XGBoost is designed to be highly efficient and scalable, making it well-suited for large datasets and high-dimensional feature spaces. The R package provides an interface to the underlying C++ library, which allows it to take advantage of multi-threading and other optimization techniques.\n",
        "\n",
        "2.  Cross-validation: The XGBoost R package provides tools for cross-validation, which can be used to tune hyperparameters and assess model performance.\n",
        "\n",
        "3.  Feature importance: XGBoost computes the feature importance by measuring the number of times each feature is split on in the tree building process. The more a feature is used for splitting, the more important it is considered to be. The R package provides functions for visualizing the feature importance and selecting the most important features.\n",
        "\n",
        "4.  Regularization: XGBoost provides several regularization techniques, such as L1 and L2 regularization, to prevent overfitting. The R package provides options for controlling the amount of regularization.\n",
        "\n",
        "5.  Missing value handling: XGBoost can handle missing values in the data, using a default direction at each node to handle missing values.\n",
        "\n",
        "6.  Flexibility: XGBoost can be used for a wide range of machine learning tasks, including regression, classification, and ranking."
      ],
      "metadata": {
        "id": "9QOhhx0AHvtR"
      }
    },
    {
      "cell_type": "markdown",
      "source": [
        "### Data\n",
        "\n",
        "In this exercise we will use following data se and use DEM, MAP, MAT, NAVI, NLCD, and FRG to fit a GBM regression model.\n",
        "\n",
        "[gp_soil_data.csv](https://www.dropbox.com/s/9ikm5yct36oflei/gp_soil_data.csv?dl=0)"
      ],
      "metadata": {
        "id": "sjJCLNPwMj_u"
      }
    },
    {
      "cell_type": "code",
      "source": [
        "%%R\n",
        "# load data from github\n",
        "urlfile = \"https://github.com//zia207/r-colab/raw/main/Data/USA/gp_soil_data.csv\"\n",
        "mf<-read_csv(url(urlfile))\n",
        "# Create a data-frame\n",
        "df<-mf %>% dplyr::select(SOC, DEM, Slope, Aspect, TPI, KFactor, SiltClay, MAT, MAP,NDVI, NLCD, FRG)%>%\n",
        "    glimpse()"
      ],
      "metadata": {
        "colab": {
          "base_uri": "https://localhost:8080/"
        },
        "id": "lXM3Izw1MkMX",
        "outputId": "ddbada5b-ae92-4a36-9cac-ce812412a8f1"
      },
      "execution_count": null,
      "outputs": [
        {
          "output_type": "stream",
          "name": "stdout",
          "text": [
            "Rows: 467 Columns: 19\n",
            "── Column specification ────────────────────────────────────────────────────────\n",
            "Delimiter: \",\"\n",
            "chr  (4): STATE, COUNTY, NLCD, FRG\n",
            "dbl (15): ID, FIPS, STATE_ID, Longitude, Latitude, SOC, DEM, Aspect, Slope, ...\n",
            "\n",
            "ℹ Use `spec()` to retrieve the full column specification for this data.\n",
            "ℹ Specify the column types or set `show_col_types = FALSE` to quiet this message.\n",
            "Rows: 467\n",
            "Columns: 12\n",
            "$ SOC      <dbl> 15.763, 15.883, 18.142, 10.745, 10.479, 16.987, 24.954, 6.288…\n",
            "$ DEM      <dbl> 2229.079, 1889.400, 2423.048, 2484.283, 2396.195, 2360.573, 2…\n",
            "$ Slope    <dbl> 5.6716146, 8.9138117, 4.7748051, 7.1218114, 7.9498644, 9.6632…\n",
            "$ Aspect   <dbl> 159.1877, 156.8786, 168.6124, 198.3536, 201.3215, 208.9732, 2…\n",
            "$ TPI      <dbl> -0.08572358, 4.55913162, 2.60588670, 5.14693117, 3.75570583, …\n",
            "$ KFactor  <dbl> 0.31999999, 0.26121211, 0.21619999, 0.18166667, 0.12551020, 0…\n",
            "$ SiltClay <dbl> 64.84270, 72.00455, 57.18700, 54.99166, 51.22857, 45.02000, 5…\n",
            "$ MAT      <dbl> 4.5951686, 3.8599243, 0.8855000, 0.4707811, 0.7588266, 1.3586…\n",
            "$ MAP      <dbl> 468.3245, 536.3522, 859.5509, 869.4724, 802.9743, 1121.2744, …\n",
            "$ NDVI     <dbl> 0.4139390, 0.6939532, 0.5466033, 0.6191013, 0.5844722, 0.6028…\n",
            "$ NLCD     <chr> \"Shrubland\", \"Shrubland\", \"Forest\", \"Forest\", \"Forest\", \"Fore…\n",
            "$ FRG      <chr> \"Fire Regime Group IV\", \"Fire Regime Group IV\", \"Fire Regime …\n"
          ]
        }
      ]
    },
    {
      "cell_type": "markdown",
      "source": [
        "### Data preparation"
      ],
      "metadata": {
        "id": "odLLY5qcOiP4"
      }
    },
    {
      "cell_type": "code",
      "source": [
        "%%R\n",
        "tmp <- df[, c(11:12)]\n",
        "# create dummy variables\n",
        "tmp1 <- dummy_cols(tmp)\n",
        "tmp1 <- tmp1[,3:12]\n",
        "\n",
        "# create a dataframe\n",
        "d <- data.frame(df[, c(1:10)], tmp1)\n",
        "m <- as.matrix(d)"
      ],
      "metadata": {
        "id": "C1cHHvkfOiWu"
      },
      "execution_count": null,
      "outputs": []
    },
    {
      "cell_type": "markdown",
      "source": [
        "### Create training and Test data set"
      ],
      "metadata": {
        "id": "-uRB9krEOxkF"
      }
    },
    {
      "cell_type": "code",
      "source": [
        "%%R\n",
        "set.seed(123)\n",
        "indices <- sample(1:nrow(df), size = 0.75 * nrow(df))\n",
        "train <- m[indices,]\n",
        "test <- m[-indices,]"
      ],
      "metadata": {
        "id": "x777TC8lOxwQ"
      },
      "execution_count": null,
      "outputs": []
    },
    {
      "cell_type": "markdown",
      "source": [
        "### Load the train and test data into the xgboost dataset object"
      ],
      "metadata": {
        "id": "0noL1cpqQVa8"
      }
    },
    {
      "cell_type": "code",
      "source": [
        "%%R\n",
        "#define predictor and response variables in training set\n",
        "train_x = data.matrix(train[, -1])\n",
        "train_y = train[,1]\n",
        "\n",
        "#define predictor and response variables in testing set\n",
        "test_x = data.matrix(test[, -1])\n",
        "test_y = test[, 1]\n",
        "\n",
        "#define final training and testing sets\n",
        "xgb_train = xgb.DMatrix(data = train_x, label = train_y)\n",
        "xgb_test = xgb.DMatrix(data = test_x, label = test_y)"
      ],
      "metadata": {
        "id": "HiBdWdKjQVi6"
      },
      "execution_count": null,
      "outputs": []
    },
    {
      "cell_type": "markdown",
      "source": [
        "### Fit XGBoost model\n",
        "\n",
        "Next, we'll fit the XGBoost model by using the xgb.train() function, which displays the training and testing RMSE (root mean squared error) for each round of boosting. We use a few tunning prameters with default values."
      ],
      "metadata": {
        "id": "8bU2I42dQlNX"
      }
    },
    {
      "cell_type": "code",
      "source": [
        "%%R\n",
        "#define watchlist\n",
        "watchlist = list(train=xgb_train,\n",
        "                 test=xgb_test)\n",
        "\n",
        "#fit XGBoost model and display training and testing data at each round\n",
        "xgboost_model = xgb.train(\n",
        "                data = xgb_train,\n",
        "                max.depth = 6, \t\t\t# max_depth maximum depth of a tree\n",
        "                eta = 0.3,\t\t\t\t\t# eta control learning rate\n",
        "                nround = 1000,\t\t\t# max number of boosting iterations.\n",
        "                watchlist = watchlist,\n",
        "                objective = \"reg:linear\",\t  # objective specify the learning task\n",
        "                early_stopping_rounds = 100, # round for early stopping\n",
        "                print_every_n = 500)\n",
        "xgboost_model\n"
      ],
      "metadata": {
        "colab": {
          "base_uri": "https://localhost:8080/"
        },
        "id": "KYV_CJZVQmAP",
        "outputId": "bb8f1b4d-0874-4588-b981-6886da708ebd"
      },
      "execution_count": null,
      "outputs": [
        {
          "output_type": "stream",
          "name": "stdout",
          "text": [
            "[15:14:22] WARNING: src/objective/regression_obj.cu:213: reg:linear is now deprecated in favor of reg:squarederror.\n",
            "[1]\ttrain-rmse:5.845926\ttest-rmse:6.275015 \n",
            "Multiple eval metrics are present. Will use test_rmse for early stopping.\n",
            "Will train until test_rmse hasn't improved in 100 rounds.\n",
            "\n",
            "Stopping. Best iteration:\n",
            "[7]\ttrain-rmse:2.065355\ttest-rmse:4.134119\n",
            "\n",
            "##### xgb.Booster\n",
            "raw: 269.8 Kb \n",
            "call:\n",
            "  xgb.train(data = xgb_train, nrounds = 1000, watchlist = watchlist, \n",
            "    print_every_n = 500, early_stopping_rounds = 100, max.depth = 6, \n",
            "    eta = 0.3, objective = \"reg:linear\")\n",
            "params (as set within xgb.train):\n",
            "  max_depth = \"6\", eta = \"0.3\", objective = \"reg:linear\", validate_parameters = \"TRUE\"\n",
            "xgb.attributes:\n",
            "  best_iteration, best_msg, best_ntreelimit, best_score, niter\n",
            "callbacks:\n",
            "  cb.print.evaluation(period = print_every_n)\n",
            "  cb.evaluation.log()\n",
            "  cb.early.stop(stopping_rounds = early_stopping_rounds, maximize = maximize, \n",
            "    verbose = verbose)\n",
            "# of features: 19 \n",
            "niter: 107\n",
            "best_iteration : 7 \n",
            "best_ntreelimit : 7 \n",
            "best_score : 4.134119 \n",
            "best_msg : [7]\ttrain-rmse:2.065355\ttest-rmse:4.134119 \n",
            "nfeatures : 19 \n",
            "evaluation_log:\n",
            "    iter train_rmse test_rmse\n",
            "       1  5.8459262  6.275015\n",
            "       2  4.5774327  5.383818\n",
            "---                          \n",
            "     106  0.1186750  4.543295\n",
            "     107  0.1185662  4.543125\n"
          ]
        }
      ]
    },
    {
      "cell_type": "markdown",
      "source": [
        "### Prediction"
      ],
      "metadata": {
        "id": "_YRbEEfdQvUc"
      }
    },
    {
      "cell_type": "code",
      "source": [
        "%%R\n",
        "yhat_fit_base <- predict(xgboost_model,train[,2:20])\n",
        "yhat_predict_base <- predict(xgboost_model,test[,2:20])"
      ],
      "metadata": {
        "id": "Ov14X7oVQx59"
      },
      "execution_count": null,
      "outputs": []
    },
    {
      "cell_type": "code",
      "source": [
        "%%R\n",
        "caret::RMSE(train_y,yhat_fit_base) # training\n"
      ],
      "metadata": {
        "colab": {
          "base_uri": "https://localhost:8080/"
        },
        "id": "P6cM1xINREXG",
        "outputId": "d7f3a87a-e217-43b2-cf1c-910ea9f3c7d1"
      },
      "execution_count": null,
      "outputs": [
        {
          "output_type": "stream",
          "name": "stdout",
          "text": [
            "[1] 2.065355\n"
          ]
        }
      ]
    },
    {
      "cell_type": "code",
      "source": [
        "%%R\n",
        "caret::RMSE(test_y,yhat_predict_base) # test"
      ],
      "metadata": {
        "colab": {
          "base_uri": "https://localhost:8080/"
        },
        "id": "sHFTqEKoR5bc",
        "outputId": "85902ab2-2f85-4377-c8b9-8606e36ee903"
      },
      "execution_count": null,
      "outputs": [
        {
          "output_type": "stream",
          "name": "stdout",
          "text": [
            "[1] 4.134118\n"
          ]
        }
      ]
    },
    {
      "cell_type": "markdown",
      "source": [
        "\n",
        "## Tunning XGBoost with tidymodel\n",
        "\n",
        "The tidymodels provides a comprehensive framework for building, tuning, and evaluating XGBoost model while following the principles of the tidyverse.\n"
      ],
      "metadata": {
        "id": "xyJ0BW2ZSJ4O"
      }
    },
    {
      "cell_type": "markdown",
      "source": [
        "### Load and process the Data"
      ],
      "metadata": {
        "id": "qTWHgBrkSTKw"
      }
    },
    {
      "cell_type": "code",
      "source": [
        "%%R\n",
        "urlfile = \"https://github.com//zia207/r-colab/raw/main/Data/USA/gp_soil_data.csv\"\n",
        "mf<-read_csv(url(urlfile))\n",
        "# Create a data-frame\n",
        "df<-mf %>% dplyr::select(SOC, DEM, Slope, Aspect, TPI, KFactor, SiltClay, MAT, MAP,NDVI, NLCD, FRG)\n",
        "# convrt factor\n",
        "df$NLCD <- as.factor(df$NLCD)\n",
        "df$FRG <- as.factor(df$FRG)\n",
        "# Split data\n",
        "set.seed(1245)   # for reproducibility\n",
        "split <- initial_split(df, prop = 0.8, strata = SOC)\n",
        "train <- split %>% training()\n",
        "test <-  split %>% testing()\n",
        "# Set 10 fold cross-validation data set\n",
        "cv_folds <- vfold_cv(train, v = 5)"
      ],
      "metadata": {
        "colab": {
          "base_uri": "https://localhost:8080/"
        },
        "id": "WjcjdJNYSTW-",
        "outputId": "7e44327e-1823-420d-dbc6-6a3f6fb65716"
      },
      "execution_count": null,
      "outputs": [
        {
          "output_type": "stream",
          "name": "stdout",
          "text": [
            "Rows: 467 Columns: 19\n",
            "── Column specification ────────────────────────────────────────────────────────\n",
            "Delimiter: \",\"\n",
            "chr  (4): STATE, COUNTY, NLCD, FRG\n",
            "dbl (15): ID, FIPS, STATE_ID, Longitude, Latitude, SOC, DEM, Aspect, Slope, ...\n",
            "\n",
            "ℹ Use `spec()` to retrieve the full column specification for this data.\n",
            "ℹ Specify the column types or set `show_col_types = FALSE` to quiet this message.\n"
          ]
        }
      ]
    },
    {
      "cell_type": "markdown",
      "source": [
        "### Create Recipe\n",
        "\n",
        "A recipe is a description of the steps to be applied to a data set in order to prepare it for data analysis. Before training the model, we can use a recipe to do some pre-processing required by the model."
      ],
      "metadata": {
        "id": "zYCeBF3aScR3"
      }
    },
    {
      "cell_type": "code",
      "source": [
        "%%R\n",
        "# Create a recipe\n",
        "xgboost_recipe <-\n",
        "  recipe(SOC ~ ., data = train) %>%\n",
        "  step_zv(all_predictors()) %>%\n",
        "  step_dummy(all_nominal()) %>%\n",
        "  step_normalize(all_numeric_predictors())"
      ],
      "metadata": {
        "id": "m9qJjQ-NSdMr"
      },
      "execution_count": null,
      "outputs": []
    },
    {
      "cell_type": "markdown",
      "source": [
        "### Specify tunable Hypermeters of XGBoost\n",
        "\n",
        "We will tune following Hypermeters:\n",
        "\n",
        "-   mtry\n",
        "\n",
        "-   trees\n",
        "\n",
        "-   min_n\n",
        "\n",
        "-   tree_depth\n",
        "\n",
        "-   learn_rate (eta)\n",
        "\n",
        "-   loss_reduction\n",
        "\n",
        "-   sample_size"
      ],
      "metadata": {
        "id": "XDPW-wZJSrPH"
      }
    },
    {
      "cell_type": "code",
      "source": [
        "%%R\n",
        "xgboost_model <- boost_tree(\n",
        "  trees = 1000,\n",
        "  tree_depth = tune(),\n",
        "  min_n = tune(),\n",
        "  loss_reduction = tune(),\n",
        "  sample_size = tune(),\n",
        "  mtry = tune(),\n",
        "  learn_rate = tune()\n",
        ") %>%\n",
        "  set_mode(\"regression\") %>%\n",
        "  set_engine(\"xgboost\")\n",
        "\n",
        "xgboost_model"
      ],
      "metadata": {
        "colab": {
          "base_uri": "https://localhost:8080/"
        },
        "id": "R18GwGKkSty6",
        "outputId": "225b3eba-7bdb-442e-edf3-8752fc15408f"
      },
      "execution_count": null,
      "outputs": [
        {
          "output_type": "stream",
          "name": "stdout",
          "text": [
            "Boosted Tree Model Specification (regression)\n",
            "\n",
            "Main Arguments:\n",
            "  mtry = tune()\n",
            "  trees = 1000\n",
            "  min_n = tune()\n",
            "  tree_depth = tune()\n",
            "  learn_rate = tune()\n",
            "  loss_reduction = tune()\n",
            "  sample_size = tune()\n",
            "\n",
            "Computational engine: xgboost \n",
            "\n"
          ]
        }
      ]
    },
    {
      "cell_type": "markdown",
      "source": [
        "### Create a workflow"
      ],
      "metadata": {
        "id": "k8u0Npf7Sy1T"
      }
    },
    {
      "cell_type": "code",
      "source": [
        "%%R\n",
        "xgboost_wf <- workflow() %>%\n",
        "    add_model(xgboost_model) %>%\n",
        "    add_recipe(xgboost_recipe)\n",
        "\n",
        "xgboost_wf"
      ],
      "metadata": {
        "colab": {
          "base_uri": "https://localhost:8080/"
        },
        "id": "kzd2B_OqSy_o",
        "outputId": "6f46fe0e-0b0e-482d-ee82-09b1fbc19780"
      },
      "execution_count": null,
      "outputs": [
        {
          "output_type": "stream",
          "name": "stdout",
          "text": [
            "══ Workflow ════════════════════════════════════════════════════════════════════\n",
            "Preprocessor: Recipe\n",
            "Model: boost_tree()\n",
            "\n",
            "── Preprocessor ────────────────────────────────────────────────────────────────\n",
            "3 Recipe Steps\n",
            "\n",
            "• step_zv()\n",
            "• step_dummy()\n",
            "• step_normalize()\n",
            "\n",
            "── Model ───────────────────────────────────────────────────────────────────────\n",
            "Boosted Tree Model Specification (regression)\n",
            "\n",
            "Main Arguments:\n",
            "  mtry = tune()\n",
            "  trees = 1000\n",
            "  min_n = tune()\n",
            "  tree_depth = tune()\n",
            "  learn_rate = tune()\n",
            "  loss_reduction = tune()\n",
            "  sample_size = tune()\n",
            "\n",
            "Computational engine: xgboost \n",
            "\n"
          ]
        }
      ]
    },
    {
      "cell_type": "markdown",
      "source": [
        "### Define grid parameters\n",
        "\n",
        "For grid search we will use use Grid Latin Hypercube (GLH) technique which select a representative subset of parameter combinations in a high-dimensional search space to find the optimal combination of hyperparameters. The GLH technique is a useful tool for hyperparameter tuning and optimization in machine learning, especially when dealing with high-dimensional search spaces and limited computational resources.\n",
        "\n",
        "The GLH technique works by dividing the search space into a grid of equal-sized cells, and then randomly selecting one point within each cell. This ensures that the selected points are evenly spaced across the search space, while also avoiding redundancy and oversampling in certain regions. The resulting subset of parameter combinations can then be used to train and evaluate machine learning models, and to select the optimal hyperparameters based on performance metrics."
      ],
      "metadata": {
        "id": "3PzRZpIDS8jQ"
      }
    },
    {
      "cell_type": "code",
      "source": [
        "%%R\n",
        "xgboost_grid <- parameters(xgboost_model) %>%\n",
        "    finalize(train) %>%\n",
        "    grid_latin_hypercube(size = 30)\n",
        "head(xgboost_grid)"
      ],
      "metadata": {
        "colab": {
          "base_uri": "https://localhost:8080/"
        },
        "id": "cpz41ZxuS-H_",
        "outputId": "3721f7e5-6fe8-4f6a-ce61-2fac07341bf5"
      },
      "execution_count": null,
      "outputs": [
        {
          "output_type": "stream",
          "name": "stdout",
          "text": [
            "# A tibble: 6 × 6\n",
            "   mtry min_n tree_depth learn_rate loss_reduction sample_size\n",
            "  <int> <int>      <int>      <dbl>          <dbl>       <dbl>\n",
            "1     3    30          4     0.189   4.79                0.190\n",
            "2     8    19          6     0.0170  0.00000169          0.857\n",
            "3     1    39          3     0.0494  0.00000000292       0.572\n",
            "4     1    37          2     0.232   0.00000497          0.396\n",
            "5    10    24          1     0.0134  0.0179              0.882\n",
            "6    11    10          8     0.0195  0.000000164         0.334\n"
          ]
        }
      ]
    },
    {
      "cell_type": "code",
      "source": [
        "%%R\n",
        "set.seed(345)\n",
        "# grid search\n",
        "xgboost_tune_grid <- xgboost_wf %>%\n",
        "    tune_grid(\n",
        "        resamples = cv_folds,\n",
        "        grid = xgboost_grid,\n",
        "        control = control_grid(verbose = F),\n",
        "        metrics = metric_set(rmse, rsq, mae)\n",
        "    )"
      ],
      "metadata": {
        "colab": {
          "base_uri": "https://localhost:8080/"
        },
        "id": "K_E2pcWHTGNf",
        "outputId": "6a5beb4d-1ec8-4b96-8dd4-982144e34b40"
      },
      "execution_count": null,
      "outputs": [
        {
          "output_type": "stream",
          "name": "stdout",
          "text": [
            "→ A | warning: A correlation computation is required, but `estimate` is constant and has 0 standard deviation, resulting in a divide by 0 error. `NA` will be returned.\n",
            "There were issues with some computations   A: x1\n",
            "There were issues with some computations   A: x2\n",
            "There were issues with some computations   A: x3\n",
            "There were issues with some computations   A: x4\n",
            "There were issues with some computations   A: x5\n",
            "There were issues with some computations   A: x5\n",
            "\n"
          ]
        }
      ]
    },
    {
      "cell_type": "code",
      "source": [
        "%%R\n",
        "collect_metrics(xgboost_tune_grid )"
      ],
      "metadata": {
        "colab": {
          "base_uri": "https://localhost:8080/"
        },
        "id": "b_krwXaNTvFj",
        "outputId": "85e89f83-2960-4e2f-e68f-1b43188cf2ea"
      },
      "execution_count": null,
      "outputs": [
        {
          "output_type": "stream",
          "name": "stdout",
          "text": [
            "# A tibble: 90 × 12\n",
            "    mtry min_n tree_depth learn_rate loss_reduction sample_size .metric\n",
            "   <int> <int>      <int>      <dbl>          <dbl>       <dbl> <chr>  \n",
            " 1     3    30          4     0.189   4.79                0.190 mae    \n",
            " 2     3    30          4     0.189   4.79                0.190 rmse   \n",
            " 3     3    30          4     0.189   4.79                0.190 rsq    \n",
            " 4     8    19          6     0.0170  0.00000169          0.857 mae    \n",
            " 5     8    19          6     0.0170  0.00000169          0.857 rmse   \n",
            " 6     8    19          6     0.0170  0.00000169          0.857 rsq    \n",
            " 7     1    39          3     0.0494  0.00000000292       0.572 mae    \n",
            " 8     1    39          3     0.0494  0.00000000292       0.572 rmse   \n",
            " 9     1    39          3     0.0494  0.00000000292       0.572 rsq    \n",
            "10     1    37          2     0.232   0.00000497          0.396 mae    \n",
            "# ℹ 80 more rows\n",
            "# ℹ 5 more variables: .estimator <chr>, mean <dbl>, n <int>, std_err <dbl>,\n",
            "#   .config <chr>\n",
            "# ℹ Use `print(n = ...)` to see more rows\n"
          ]
        }
      ]
    },
    {
      "cell_type": "code",
      "source": [
        "%%R -w 550 -h 550 -u px\n",
        "xgboost_tune_grid %>%\n",
        "  collect_metrics() %>%\n",
        "  filter(.metric == \"rmse\") %>%\n",
        "  select(mean, mtry:sample_size) %>%\n",
        "  pivot_longer(mtry:sample_size,\n",
        "               values_to = \"value\",\n",
        "               names_to = \"parameter\"\n",
        "  ) %>%\n",
        "  ggplot(aes(value, mean, color = parameter)) +\n",
        "  geom_point(alpha = 0.8, show.legend = FALSE) +\n",
        "  facet_wrap(~parameter, scales = \"free_x\") +\n",
        "  labs(x = NULL, y = \"RMSE\")"
      ],
      "metadata": {
        "colab": {
          "base_uri": "https://localhost:8080/",
          "height": 567
        },
        "id": "dmzm6HmeT3WY",
        "outputId": "5120b11a-5b37-4ea1-cc23-121183463dd4"
      },
      "execution_count": null,
      "outputs": [
        {
          "output_type": "display_data",
          "data": {
            "image/png": "[encoded data removed]"
          },
          "metadata": {}
        }
      ]
    },
    {
      "cell_type": "markdown",
      "source": [
        "### The XGBoost Model"
      ],
      "metadata": {
        "id": "1sXzpXwmUFrx"
      }
    },
    {
      "cell_type": "code",
      "source": [
        "%%R\n",
        "best_rmse <- select_best(xgboost_tune_grid , \"rmse\")\n",
        "\n",
        "xgboost_final <- finalize_model(\n",
        "  xgboost_model,\n",
        "  best_rmse\n",
        ")\n",
        "\n",
        "xgboost_final"
      ],
      "metadata": {
        "colab": {
          "base_uri": "https://localhost:8080/"
        },
        "id": "ULah4dXOUGKp",
        "outputId": "4a0ae802-243b-4a76-d20d-cde198e0d59e"
      },
      "execution_count": null,
      "outputs": [
        {
          "output_type": "stream",
          "name": "stdout",
          "text": [
            "Boosted Tree Model Specification (regression)\n",
            "\n",
            "Main Arguments:\n",
            "  mtry = 4\n",
            "  trees = 1000\n",
            "  min_n = 38\n",
            "  tree_depth = 8\n",
            "  learn_rate = 0.00478133186845477\n",
            "  loss_reduction = 1.00366765721158e-05\n",
            "  sample_size = 0.548877141447738\n",
            "\n",
            "Computational engine: xgboost \n",
            "\n"
          ]
        }
      ]
    },
    {
      "cell_type": "markdown",
      "source": [
        "### Fit the model\n",
        "\n",
        "We can either fit final_tree to training data using fit() or to the testing/training split using last_fit(), which will give us some other results along with the fitted output."
      ],
      "metadata": {
        "id": "AijOfTnOURl_"
      }
    },
    {
      "cell_type": "code",
      "source": [
        "%%R\n",
        "final_fit <- fit(xgboost_final, SOC ~ .,train)"
      ],
      "metadata": {
        "id": "F_fIty5dUSW_"
      },
      "execution_count": null,
      "outputs": []
    },
    {
      "cell_type": "markdown",
      "source": [
        "### Prediction"
      ],
      "metadata": {
        "id": "E1spW5bcUX5Y"
      }
    },
    {
      "cell_type": "code",
      "source": [
        "%%R\n",
        "test$SOC.pred = predict(final_fit,test)"
      ],
      "metadata": {
        "id": "MAuL001WUbZ7"
      },
      "execution_count": null,
      "outputs": []
    },
    {
      "cell_type": "code",
      "source": [
        "%%R\n",
        "RMSE<- Metrics::rmse(test$SOC, test$SOC.pred$.pred)\n",
        "RMSE"
      ],
      "metadata": {
        "colab": {
          "base_uri": "https://localhost:8080/"
        },
        "id": "cQD5Uao2UhnJ",
        "outputId": "a23b3c32-dd54-43e3-d1c3-9f266bd9ac1d"
      },
      "execution_count": null,
      "outputs": [
        {
          "output_type": "stream",
          "name": "stdout",
          "text": [
            "[1] 3.515955\n"
          ]
        }
      ]
    },
    {
      "cell_type": "markdown",
      "source": [
        "### 1:1 Plot of Predicted vs Observed values"
      ],
      "metadata": {
        "id": "WUnnk4cqUt64"
      }
    },
    {
      "cell_type": "code",
      "source": [
        "%%R -w 450 -h 400 -u px\n",
        "formula<-y~x\n",
        "\n",
        "ggplot(test, aes(SOC,SOC.pred$.pred)) +\n",
        "  geom_point() +\n",
        "  geom_smooth(method = \"lm\")+\n",
        "  stat_poly_eq(use_label(c(\"eq\", \"adj.R2\")), formula = formula) +\n",
        "  ggtitle(\"XGBoost\") +\n",
        "  xlab(\"Observed\") + ylab(\"Predicted\") +\n",
        "  scale_x_continuous(limits=c(0,25), breaks=seq(0, 25, 5))+\n",
        "  scale_y_continuous(limits=c(0,25), breaks=seq(0, 25, 5)) +\n",
        "  # Flip the bars\n",
        "  theme(\n",
        "    panel.background = element_rect(fill = \"grey95\",colour = \"gray75\",size = 0.5, linetype = \"solid\"),\n",
        "    axis.line = element_line(colour = \"grey\"),\n",
        "    plot.title = element_text(size = 14, hjust = 0.5),\n",
        "    axis.title.x = element_text(size = 14),\n",
        "    axis.title.y = element_text(size = 14),\n",
        "    axis.text.x=element_text(size=13, colour=\"black\"),\n",
        "    axis.text.y=element_text(size=13,angle = 90,vjust = 0.5, hjust=0.5, colour='black'))"
      ],
      "metadata": {
        "colab": {
          "base_uri": "https://localhost:8080/",
          "height": 435
        },
        "id": "10bykwMnUuB6",
        "outputId": "e4858081-839b-4521-ab65-b1303154607e"
      },
      "execution_count": null,
      "outputs": [
        {
          "output_type": "stream",
          "name": "stdout",
          "text": [
            "`geom_smooth()` using formula = 'y ~ x'\n"
          ]
        },
        {
          "output_type": "display_data",
          "data": {
            "image/png": "[encoded data removed]"
          },
          "metadata": {}
        }
      ]
    },
    {
      "cell_type": "markdown",
      "source": [
        "### Variable Importance"
      ],
      "metadata": {
        "id": "8LGvN8ZLVAVm"
      }
    },
    {
      "cell_type": "code",
      "source": [
        "%%R -w 350 -h 450 -u px\n",
        "xgboost_final %>%\n",
        "  fit( SOC ~ .,train) %>%\n",
        "  vip(geom = \"col\")"
      ],
      "metadata": {
        "colab": {
          "base_uri": "https://localhost:8080/",
          "height": 467
        },
        "id": "sS3OAv2PVAdK",
        "outputId": "e54ba81e-b88b-4020-9fc4-5b0ad96deb7c"
      },
      "execution_count": 36,
      "outputs": [
        {
          "output_type": "display_data",
          "data": {
            "image/png": "[encoded data removed]"
          },
          "metadata": {}
        }
      ]
    },
    {
      "cell_type": "markdown",
      "source": [
        "## XGBoost with h20\n",
        "\n",
        "XGBoost is a popular and powerful gradient boosting algorithm that is widely used for supervised machine learning tasks, especially structured data problems like classification and regression. H2O.ai is a platform that provides machine learning and deep learning tools, including an implementation of XGBoost for the R programming language.\n",
        "\n",
        "**XGBoost is not currently supported on Windows or on the new Apple M1 chip.** It is only supported on  Linux"
      ],
      "metadata": {
        "id": "fBYrxHAeYQxN"
      }
    },
    {
      "cell_type": "markdown",
      "source": [
        "### Import h2o"
      ],
      "metadata": {
        "id": "TbKTrZGNYcvv"
      }
    },
    {
      "cell_type": "code",
      "source": [
        "%%R\n",
        ".libPaths('drive/My Drive/R')\n",
        "library(h2o)\n",
        "h2o.init(nthreads = -1, max_mem_size = \"10g\", enable_assertions = FALSE)\n",
        "#disable progress bar for RMarkdown\n",
        "h2o.no_progress()\n",
        "# Optional: remove anything from previous session\n",
        "h2o.removeAll()"
      ],
      "metadata": {
        "colab": {
          "base_uri": "https://localhost:8080/"
        },
        "id": "0uFFSmwHYc9E",
        "outputId": "8c882120-6079-4809-d7b7-77780d68e88c"
      },
      "execution_count": 39,
      "outputs": [
        {
          "output_type": "stream",
          "name": "stderr",
          "text": [
            "WARNING:rpy2.rinterface_lib.callbacks:R[write to console]: \n",
            "----------------------------------------------------------------------\n",
            "\n",
            "Your next step is to start H2O:\n",
            "    > h2o.init()\n",
            "\n",
            "For H2O package documentation, ask for help:\n",
            "    > ??h2o\n",
            "\n",
            "After starting H2O, you can use the Web UI at http://localhost:54321\n",
            "For more information visit https://docs.h2o.ai\n",
            "\n",
            "----------------------------------------------------------------------\n",
            "\n",
            "\n",
            "WARNING:rpy2.rinterface_lib.callbacks:R[write to console]: \n",
            "Attaching package: ‘h2o’\n",
            "\n",
            "\n",
            "WARNING:rpy2.rinterface_lib.callbacks:R[write to console]: The following objects are masked from ‘package:lubridate’:\n",
            "\n",
            "    day, hour, month, week, year\n",
            "\n",
            "\n",
            "WARNING:rpy2.rinterface_lib.callbacks:R[write to console]: The following objects are masked from ‘package:stats’:\n",
            "\n",
            "    cor, sd, var\n",
            "\n",
            "\n",
            "WARNING:rpy2.rinterface_lib.callbacks:R[write to console]: The following objects are masked from ‘package:base’:\n",
            "\n",
            "    &&, %*%, %in%, ||, apply, as.factor, as.numeric, colnames,\n",
            "    colnames<-, ifelse, is.character, is.factor, is.numeric, log,\n",
            "    log10, log1p, log2, round, signif, trunc\n",
            "\n",
            "\n"
          ]
        },
        {
          "output_type": "stream",
          "name": "stdout",
          "text": [
            "\n",
            "H2O is not running yet, starting it now...\n",
            "\n",
            "Note:  In case of errors look at the following log files:\n",
            "    /tmp/RtmpR59DYw/file81136ae308/h2o_UnknownUser_started_from_r.out\n",
            "    /tmp/RtmpR59DYw/file814404ef7b/h2o_UnknownUser_started_from_r.err\n",
            "\n",
            "\n",
            "Starting H2O JVM and connecting: ............................. Connection successful!\n",
            "\n",
            "R is connected to the H2O cluster: \n",
            "    H2O cluster uptime:         4 seconds 556 milliseconds \n",
            "    H2O cluster timezone:       Etc/UTC \n",
            "    H2O data parsing timezone:  UTC \n",
            "    H2O cluster version:        3.42.0.2 \n",
            "    H2O cluster version age:    1 month \n",
            "    H2O cluster name:           H2O_started_from_R_root_qtu738 \n",
            "    H2O cluster total nodes:    1 \n",
            "    H2O cluster total memory:   10.00 GB \n",
            "    H2O cluster total cores:    2 \n",
            "    H2O cluster allowed cores:  2 \n",
            "    H2O cluster healthy:        TRUE \n",
            "    H2O Connection ip:          localhost \n",
            "    H2O Connection port:        54321 \n",
            "    H2O Connection proxy:       NA \n",
            "    H2O Internal Security:      FALSE \n",
            "    R Version:                  R version 4.3.1 (2023-06-16) \n",
            "\n"
          ]
        }
      ]
    },
    {
      "cell_type": "markdown",
      "source": [
        "### Load and Process Data"
      ],
      "metadata": {
        "id": "aK9OOC0wYoV6"
      }
    },
    {
      "cell_type": "code",
      "source": [
        "%%R\n",
        "# loda data from you github\n",
        "urlfile = \"https://github.com//zia207/r-colab/raw/main/Data/USA/gp_soil_data.csv\"\n",
        "mf<-read_csv(url(urlfile))\n",
        "# Create a data-frame\n",
        "df<-mf %>% dplyr::select(SOC, DEM, Slope, Aspect, TPI, KFactor, SiltClay, MAT, MAP,NDVI, NLCD, FRG)\n",
        "# convrt factor\n",
        "df$NLCD <- as.factor(df$NLCD)\n",
        "df$FRG <- as.factor(df$FRG)\n",
        "# Split data\n",
        "set.seed(1245)   # for reproducibility\n",
        "split <- initial_split(df, prop = 0.8, strata = SOC)\n",
        "train <- split %>% training()\n",
        "test <-  split %>% testing()\n",
        "# Scale data\n",
        "train[-c(1, 11,12)] = scale(train[-c(1,11,12)])\n",
        "test[-c(1, 11,12)] = scale(test[-c(1,11,12)])"
      ],
      "metadata": {
        "colab": {
          "base_uri": "https://localhost:8080/"
        },
        "id": "oEwry9TFYod8",
        "outputId": "171063b9-2235-4d1f-b8c6-98560033aa26"
      },
      "execution_count": 37,
      "outputs": [
        {
          "output_type": "stream",
          "name": "stdout",
          "text": [
            "Rows: 467 Columns: 19\n",
            "── Column specification ────────────────────────────────────────────────────────\n",
            "Delimiter: \",\"\n",
            "chr  (4): STATE, COUNTY, NLCD, FRG\n",
            "dbl (15): ID, FIPS, STATE_ID, Longitude, Latitude, SOC, DEM, Aspect, Slope, ...\n",
            "\n",
            "ℹ Use `spec()` to retrieve the full column specification for this data.\n",
            "ℹ Specify the column types or set `show_col_types = FALSE` to quiet this message.\n"
          ]
        }
      ]
    },
    {
      "cell_type": "markdown",
      "source": [
        "### Load data to h2o cluster"
      ],
      "metadata": {
        "id": "cvCmG4MLYtlo"
      }
    },
    {
      "cell_type": "code",
      "source": [
        "%%R\n",
        "h_df=as.h2o(df)\n",
        "h_train = as.h2o(train)\n",
        "h_test = as.h2o(test)"
      ],
      "metadata": {
        "id": "M0X9LxrxYttG"
      },
      "execution_count": 40,
      "outputs": []
    },
    {
      "cell_type": "code",
      "source": [
        "%%R\n",
        "CV.xy<- as.data.frame(h_train)\n",
        "test.xy<- as.data.frame(h_test)"
      ],
      "metadata": {
        "id": "CqteI3j6Y5F5"
      },
      "execution_count": 67,
      "outputs": []
    },
    {
      "cell_type": "markdown",
      "source": [],
      "metadata": {
        "id": "YmmPYVMeY6Eu"
      }
    },
    {
      "cell_type": "code",
      "source": [
        "%%R\n",
        "y <- \"SOC\"\n",
        "x <- setdiff(names(h_df), y)"
      ],
      "metadata": {
        "id": "Ke9WBC-oY6M4"
      },
      "execution_count": 41,
      "outputs": []
    },
    {
      "cell_type": "markdown",
      "source": [
        "### Fit XGBoost model\n",
        "\n",
        "We will fit a XGBoost model with following prameters:\n",
        "* ntrees = Specify the number of trees to build. This option defaults to 50.\n",
        "* max_depth = Specify the maximum tree depth. Higher values will make the model more complex and can lead to overfitting. Setting this value to 0 specifies no limit. Note that a max_depth limit must be used if grow_policy=depthwise (default). This value defaults to 6.\n",
        "* min_rows = Specify the minimum number of observations for a leaf (nodesize in R). This option defaults to 1,\n",
        "* learn_rate = Specify the learning rate by which to shrink the feature weights. Shrinking feature weights after each boosting step makes the boosting process more\n",
        "* sample_rate =  Specify the row sampling ratio of the training instance (x-axis). This method samples without replacement. For example, setting this value to 0.5 tells XGBoost to randomly collect half of the data instances to grow trees. Higher values may improve training accuracy. Test accuracy improves when either columns or rows are sampled. For details, refer to “Stochastic Gradient Boosting” (Friedman, 1999). This option defaults to 1, and the range is 0.0 to 1.0.,\n",
        "* col_sample_rate = pecify the column sampling rate (y-axis) for each split in each level. This method samples without replacement. Higher values may improve training accuracy. Test accuracy improves when either columns or rows are sampled. For details, refer to “Stochastic Gradient Boosting” (Friedman, 1999). This value defaults to 1.0, and the range is 0.0 to 1.0.\n",
        "* col_sample_rate_per_tree = specify the column subsampling rate per tree. This method samples without replacement. Note that it is multiplicative with col_sample_rate and colsample_bynode, so setting all parameters to 0.8, for example, results in 51% of columns being considered at any given node to split. This value defaults to 1.0 and can be a value from 0.0 to 1.0.\n",
        "* nfolds=10,\n",
        "* keep_cross_validation_predictions =  Enable this option to keep the cross-validation predictions. This option defaults to False (disabled).\n",
        "* keep_cross_validation_models = Specify whether to keep the cross-validated models. Keeping cross-validation models may consume significantly more memory in the H2O cluster. This option defaults to True (enabled).\n",
        "* Dart Booster Options: XGBoost mostly combines a huge number of regression trees with a small learning rate. In this situation  trees added early are significant and trees added late are unimportant. Vinayak and Gilad-Bachrach proposed a new method to add dropout techniques from the deep neural net community to boosted trees, and reported better results in some situations.\n",
        "This is a instruction of new tree booster dart.\n",
        "\n",
        "The following additional parameters can be configured when booster=dart:\n",
        "\n",
        "* sample_type\n",
        "\n",
        "* normalize_type\n",
        "\n",
        "* rate_drop\n",
        "\n",
        "* one_drop\n",
        "\n",
        "* skip_drop"
      ],
      "metadata": {
        "id": "GT0QJDjZauwm"
      }
    },
    {
      "cell_type": "code",
      "source": [
        "%%R\n",
        "xgb_h2o <- h2o.xgboost(x =x,\n",
        "                           y = y,\n",
        "                           model_id = \"XGBoost_MODEL_ID\",\n",
        "                           training_frame = h_train,\n",
        "                           ntrees = 500,\n",
        "                           #max_depth = 5,\n",
        "                           #min_rows = 10,\n",
        "                           #learn_rate = 0.01,\n",
        "                           #sample_rate = 1,\n",
        "                           #col_sample_rate = 0.05,\n",
        "                           #col_sample_rate_per_tree = 0.4,\n",
        "                           nfolds = 10,\n",
        "                           keep_cross_validation_models = TRUE,\n",
        "                           keep_cross_validation_predictions = TRUE,\n",
        "                           booster = \"dart\",\n",
        "                           normalize_type = \"tree\",\n",
        "                           sample_type = \"uniform\",\n",
        "                           rate_drop = 0.6,\n",
        "                           seed = 1234)"
      ],
      "metadata": {
        "id": "wS9DRErhazXB"
      },
      "execution_count": 54,
      "outputs": []
    },
    {
      "cell_type": "code",
      "source": [
        "%%R\n",
        "summary(xgb_h2o)"
      ],
      "metadata": {
        "colab": {
          "base_uri": "https://localhost:8080/"
        },
        "id": "IAhPhShahAgg",
        "outputId": "46d814a2-1c5b-47bc-fbce-6c8a94447597"
      },
      "execution_count": 57,
      "outputs": [
        {
          "output_type": "stream",
          "name": "stdout",
          "text": [
            "Model Details:\n",
            "==============\n",
            "\n",
            "H2ORegressionModel: xgboost\n",
            "Model Key:  XGBoost_MODEL_ID \n",
            "Model Summary: \n",
            "  number_of_trees\n",
            "1             500\n",
            "\n",
            "H2ORegressionMetrics: xgboost\n",
            "** Reported on training data. **\n",
            "\n",
            "MSE:  4.766075\n",
            "RMSE:  2.183134\n",
            "MAE:  1.406554\n",
            "RMSLE:  0.2645947\n",
            "Mean Residual Deviance :  4.766075\n",
            "\n",
            "\n",
            "\n",
            "H2ORegressionMetrics: xgboost\n",
            "** Reported on cross-validation data. **\n",
            "** 10-fold cross-validation on training data (Metrics computed for combined holdout predictions) **\n",
            "\n",
            "MSE:  19.11642\n",
            "RMSE:  4.372233\n",
            "MAE:  2.945398\n",
            "RMSLE:  0.5293303\n",
            "Mean Residual Deviance :  19.11642\n",
            "\n",
            "\n",
            "Cross-Validation Metrics Summary: \n",
            "                            mean       sd cv_1_valid cv_2_valid cv_3_valid\n",
            "mae                     2.878758 0.446375   2.628440   3.819841   3.084841\n",
            "mean_residual_deviance 18.108053 7.555121  17.187157  32.999985  19.700863\n",
            "mse                    18.108053 7.555121  17.187157  32.999985  19.700863\n",
            "r2                      0.210398 0.148868   0.108851   0.259486   0.383157\n",
            "residual_deviance      18.108053 7.555121  17.187157  32.999985  19.700863\n",
            "rmse                    4.173056 0.877912   4.145740   5.744562   4.438565\n",
            "rmsle                   0.517883 0.066696   0.526701   0.605117   0.532184\n",
            "                       cv_4_valid cv_5_valid cv_6_valid cv_7_valid cv_8_valid\n",
            "mae                      2.697993   2.753044   3.035358   2.359495   2.386592\n",
            "mean_residual_deviance  12.676621  16.797346  22.783920   9.841080   8.420766\n",
            "mse                     12.676621  16.797346  22.783920   9.841080   8.420766\n",
            "r2                      -0.002302   0.149379   0.200502   0.435382   0.238809\n",
            "residual_deviance       12.676621  16.797346  22.783920   9.841080   8.420766\n",
            "rmse                     3.560424   4.098456   4.773251   3.137049   2.901856\n",
            "rmsle                    0.540007   0.545059   0.584314   0.425050   0.429128\n",
            "                       cv_9_valid cv_10_valid\n",
            "mae                      2.708781    3.313196\n",
            "mean_residual_deviance  14.707707   25.965094\n",
            "mse                     14.707707   25.965094\n",
            "r2                       0.327135    0.003585\n",
            "residual_deviance       14.707707   25.965094\n",
            "rmse                     3.835063    5.095595\n",
            "rmsle                    0.428489    0.562781\n",
            "\n",
            "Scoring History: \n",
            "            timestamp          duration number_of_trees training_rmse\n",
            "1 2023-08-25 16:39:19  1 min  6.715 sec               0       7.68038\n",
            "2 2023-08-25 16:39:19  1 min  6.771 sec               1       5.86809\n",
            "3 2023-08-25 16:39:19  1 min  6.797 sec               2       4.56271\n",
            "4 2023-08-25 16:39:19  1 min  6.805 sec               3       3.63987\n",
            "5 2023-08-25 16:39:19  1 min  6.814 sec               4       3.42212\n",
            "  training_mae training_deviance\n",
            "1      5.82497          58.98826\n",
            "2      4.24794          34.43447\n",
            "3      3.16034          20.81833\n",
            "4      2.41507          13.24868\n",
            "5      2.21522          11.71094\n",
            "\n",
            "---\n",
            "              timestamp          duration number_of_trees training_rmse\n",
            "171 2023-08-25 16:39:23  1 min 10.637 sec             170       2.25412\n",
            "172 2023-08-25 16:39:23  1 min 10.662 sec             171       2.25324\n",
            "173 2023-08-25 16:39:23  1 min 10.686 sec             172       2.25264\n",
            "174 2023-08-25 16:39:23  1 min 10.710 sec             173       2.25197\n",
            "175 2023-08-25 16:39:23  1 min 10.734 sec             174       2.25137\n",
            "176 2023-08-25 16:39:26  1 min 14.318 sec             500       2.18313\n",
            "    training_mae training_deviance\n",
            "171      1.43290           5.08106\n",
            "172      1.43239           5.07711\n",
            "173      1.43212           5.07439\n",
            "174      1.43180           5.07137\n",
            "175      1.43143           5.06865\n",
            "176      1.40655           4.76608\n",
            "\n",
            "Variable Importances: (Extract with `h2o.varimp`) \n",
            "=================================================\n",
            "\n",
            "Variable Importances: \n",
            "                    variable relative_importance scaled_importance percentage\n",
            "1                       NDVI       716551.875000          1.000000   0.582177\n",
            "2                        MAP       122045.781250          0.170324   0.099159\n",
            "3                      Slope       105782.328125          0.147627   0.085945\n",
            "4                   SiltClay        74713.617188          0.104268   0.060703\n",
            "5                     Aspect        58570.070312          0.081739   0.047586\n",
            "6                        DEM        47792.671875          0.066698   0.038830\n",
            "7                        MAT        43787.335938          0.061108   0.035576\n",
            "8                    KFactor        38052.738281          0.053105   0.030917\n",
            "9                        TPI        14440.162109          0.020152   0.011732\n",
            "10   FRG.Fire Regime Group I         3694.614746          0.005156   0.003002\n",
            "11            NLCD.Shrubland         3587.886719          0.005007   0.002915\n",
            "12   FRG.Fire Regime Group V         1550.638428          0.002164   0.001260\n",
            "13 FRG.Fire Regime Group III           77.416771          0.000108   0.000063\n",
            "14  FRG.Fire Regime Group II           71.777992          0.000100   0.000058\n",
            "15           NLCD.Herbaceous           46.466301          0.000065   0.000038\n",
            "16  FRG.Fire Regime Group IV           35.567963          0.000050   0.000029\n",
            "17   NLCD.Planted/Cultivated            8.096827          0.000011   0.000007\n",
            "18     FRG.Indeterminate FRG            2.608153          0.000004   0.000002\n",
            "19               NLCD.Forest            1.988893          0.000003   0.000002\n"
          ]
        }
      ]
    },
    {
      "cell_type": "code",
      "source": [
        "%%R\n",
        "h2o.performance(xgb_h2o, h_train)\n",
        "h2o.performance(xgb_h2o, xval = TRUE)\n",
        "h2o.performance(xgb_h2o, newdata =h_test)"
      ],
      "metadata": {
        "colab": {
          "base_uri": "https://localhost:8080/"
        },
        "id": "cLaFxtTUkB7S",
        "outputId": "cf488f33-d443-47d5-a919-5c3e897ea597"
      },
      "execution_count": 56,
      "outputs": [
        {
          "output_type": "stream",
          "name": "stdout",
          "text": [
            "H2ORegressionMetrics: xgboost\n",
            "\n",
            "MSE:  12.45111\n",
            "RMSE:  3.528613\n",
            "MAE:  2.65026\n",
            "RMSLE:  0.4911706\n",
            "Mean Residual Deviance :  12.45111\n",
            "\n"
          ]
        }
      ]
    },
    {
      "cell_type": "markdown",
      "source": [
        "### Fit XGBoost model with grid serach"
      ],
      "metadata": {
        "id": "13_3dzAwa3lO"
      }
    },
    {
      "cell_type": "markdown",
      "source": [
        "#### Hyper prameters and Search Criteria"
      ],
      "metadata": {
        "id": "cLQ6yTwGY95f"
      }
    },
    {
      "cell_type": "code",
      "source": [
        "%%R\n",
        "# hyper parameters\n",
        "XGBoost_hyper_params = list( ntrees = seq(50,500,50),\n",
        "                     max_depth = seq(1,120,1),\n",
        "                     min_rows = c(1,5,10,20,50,100),\n",
        "                     learn_rate = seq(0.001,0.01,0.001),\n",
        "                     sample_rate = seq(0.3,1,0.05),\n",
        "                     col_sample_rate = seq(0.3,1,0.05),\n",
        "                     col_sample_rate_per_tree = seq(0.3,1,0.05))\n",
        "\n",
        "# Search Criteria\n",
        "XGBoost_search_criteria <- list(strategy = \"RandomDiscrete\",\n",
        "                        max_models = 40,\n",
        "                        max_runtime_secs = 900,\n",
        "                        stopping_tolerance = 0.001,\n",
        "                        stopping_rounds = 2,\n",
        "                        seed = 1345767)\n"
      ],
      "metadata": {
        "id": "oQDWHlGtY-ZL"
      },
      "execution_count": 60,
      "outputs": []
    },
    {
      "cell_type": "markdown",
      "source": [
        "#### Grid search"
      ],
      "metadata": {
        "id": "OV3EJuq-ZYQO"
      }
    },
    {
      "cell_type": "code",
      "source": [
        "%%R\n",
        "# Gird Search\n",
        "XGBoost_grid <- h2o.grid(\n",
        "                  algorithm=\"xgboost\",\n",
        "                  grid_id = \"XGBoost_grid_ID\",\n",
        "                  x= x,\n",
        "                  y = y,\n",
        "                  training_frame = h_train,\n",
        "                  #validation_frame = h_valid,\n",
        "                  stopping_metric = \"rmse\",\n",
        "                  #fold_assignment =\"Stratified\",\n",
        "                  nfolds=10,\n",
        "                  keep_cross_validation_predictions = TRUE,\n",
        "                  keep_cross_validation_models = TRUE,\n",
        "                  hyper_params = XGBoost_hyper_params,\n",
        "                  search_criteria = XGBoost_search_criteria,\n",
        "                  booster = \"dart\",\n",
        "                  normalize_type = \"tree\",\n",
        "                  seed = 42)"
      ],
      "metadata": {
        "id": "rel3Db_ZZYZl"
      },
      "execution_count": 61,
      "outputs": []
    },
    {
      "cell_type": "markdown",
      "source": [
        "#### Number of XGBoost models trained"
      ],
      "metadata": {
        "id": "p5BZAaDqZb-p"
      }
    },
    {
      "cell_type": "code",
      "source": [
        "%%R\n",
        "length(XGBoost_grid@model_ids)"
      ],
      "metadata": {
        "colab": {
          "base_uri": "https://localhost:8080/"
        },
        "id": "AwWJjpLxZcGB",
        "outputId": "e3000e78-0484-45c3-ecdb-aef3cd2994d6"
      },
      "execution_count": 62,
      "outputs": [
        {
          "output_type": "stream",
          "name": "stdout",
          "text": [
            "[1] 20\n"
          ]
        }
      ]
    },
    {
      "cell_type": "markdown",
      "source": [
        "#### The best XGBoost Model"
      ],
      "metadata": {
        "id": "eUiiUh5aZgh4"
      }
    },
    {
      "cell_type": "code",
      "source": [
        "%%R\n",
        "XGBoost_get_grid <- h2o.getGrid(\"XGBoost_grid_ID\",sort_by=\"rmse\",decreasing=FALSE)\n",
        "best_XGBoost <- h2o.getModel(XGBoost_get_grid@model_ids[[1]])\n",
        "best_XGBoost"
      ],
      "metadata": {
        "colab": {
          "base_uri": "https://localhost:8080/"
        },
        "id": "NNJ63_XHZgq7",
        "outputId": "8bfdd33c-d652-468f-a5c4-66db12cb8986"
      },
      "execution_count": 63,
      "outputs": [
        {
          "output_type": "stream",
          "name": "stdout",
          "text": [
            "Model Details:\n",
            "==============\n",
            "\n",
            "H2ORegressionModel: xgboost\n",
            "Model ID:  XGBoost_grid_ID_model_13 \n",
            "Model Summary: \n",
            "  number_of_trees\n",
            "1             450\n",
            "\n",
            "\n",
            "H2ORegressionMetrics: xgboost\n",
            "** Reported on training data. **\n",
            "\n",
            "MSE:  9.387405\n",
            "RMSE:  3.063887\n",
            "MAE:  2.046725\n",
            "RMSLE:  0.3719108\n",
            "Mean Residual Deviance :  9.387405\n",
            "\n",
            "\n",
            "\n",
            "H2ORegressionMetrics: xgboost\n",
            "** Reported on cross-validation data. **\n",
            "** 10-fold cross-validation on training data (Metrics computed for combined holdout predictions) **\n",
            "\n",
            "MSE:  15.89775\n",
            "RMSE:  3.987199\n",
            "MAE:  2.758367\n",
            "RMSLE:  0.4954589\n",
            "Mean Residual Deviance :  15.89775\n",
            "\n",
            "\n",
            "Cross-Validation Metrics Summary: \n",
            "                            mean       sd cv_1_valid cv_2_valid cv_3_valid\n",
            "mae                     2.761355 0.442237   2.254106   2.849813   3.225714\n",
            "mean_residual_deviance 15.822640 5.020673  11.035502  16.995440  20.728458\n",
            "mse                    15.822640 5.020673  11.035502  16.995440  20.728458\n",
            "r2                      0.343554 0.096070   0.269261   0.345833   0.156154\n",
            "residual_deviance      15.822640 5.020673  11.035502  16.995440  20.728458\n",
            "rmse                    3.936911 0.599415   3.321973   4.122552   4.552852\n",
            "rmsle                   0.491151 0.065105   0.486770   0.562758   0.582084\n",
            "                       cv_4_valid cv_5_valid cv_6_valid cv_7_valid cv_8_valid\n",
            "mae                      2.695334   2.612360   2.225859   3.312427   3.468278\n",
            "mean_residual_deviance  14.660617  14.192349  10.562471  17.651863  26.941708\n",
            "mse                     14.660617  14.192349  10.562471  17.651863  26.941708\n",
            "r2                       0.426068   0.375849   0.312929   0.490130   0.299217\n",
            "residual_deviance       14.660617  14.192349  10.562471  17.651863  26.941708\n",
            "rmse                     3.828918   3.767273   3.249996   4.201412   5.190540\n",
            "rmsle                    0.495027   0.421190   0.435832   0.558535   0.532117\n",
            "                       cv_9_valid cv_10_valid\n",
            "mae                      2.415065    2.554591\n",
            "mean_residual_deviance  12.134561   13.323433\n",
            "mse                     12.134561   13.323433\n",
            "r2                       0.318740    0.441357\n",
            "residual_deviance       12.134561   13.323433\n",
            "rmse                     3.483469    3.650128\n",
            "rmsle                    0.415719    0.421481\n"
          ]
        }
      ]
    },
    {
      "cell_type": "markdown",
      "source": [
        "#### Model Performance"
      ],
      "metadata": {
        "id": "SbPYmheCZsOg"
      }
    },
    {
      "cell_type": "code",
      "source": [
        "%%R\n",
        "h2o.performance(best_XGBoost, h_train)\n",
        "h2o.performance(best_XGBoost, xval = TRUE)\n",
        "h2o.performance(best_XGBoost, newdata =h_test)"
      ],
      "metadata": {
        "colab": {
          "base_uri": "https://localhost:8080/"
        },
        "id": "hc3d7yz-Zsqz",
        "outputId": "ae737133-4467-4b60-863c-c293e6b5c4ca"
      },
      "execution_count": 64,
      "outputs": [
        {
          "output_type": "stream",
          "name": "stdout",
          "text": [
            "H2ORegressionMetrics: xgboost\n",
            "\n",
            "MSE:  12.02313\n",
            "RMSE:  3.467439\n",
            "MAE:  2.43589\n",
            "RMSLE:  0.4797234\n",
            "Mean Residual Deviance :  12.02313\n",
            "\n"
          ]
        }
      ]
    },
    {
      "cell_type": "markdown",
      "source": [
        "#### Prediction"
      ],
      "metadata": {
        "id": "2svZSdLjZ7n0"
      }
    },
    {
      "cell_type": "code",
      "source": [
        "%%R\n",
        "test.pred.best_xgb<-as.data.frame(h2o.predict(object = best_XGBoost, newdata = h_test))\n",
        "test.xy$best_XGB_SOC<-test.pred.best_xgb$predict\n"
      ],
      "metadata": {
        "id": "z9cLwYo5Z8FK"
      },
      "execution_count": 68,
      "outputs": []
    },
    {
      "cell_type": "markdown",
      "source": [
        "### 1:1 Plot of Observed vs Predicted Values"
      ],
      "metadata": {
        "id": "zq6JN6uOpDdm"
      }
    },
    {
      "cell_type": "code",
      "source": [
        "%%R -w 450 -h 450 -u px\n",
        "formula<-y~x\n",
        "\n",
        "ggplot(test.xy, aes(SOC,best_XGB_SOC)) +\n",
        "  geom_point() +\n",
        "  geom_smooth(method = \"lm\")+\n",
        "  stat_poly_eq(use_label(c(\"eq\", \"adj.R2\")), formula = formula) +\n",
        "  ggtitle(\"H2O: The Best XGBoost: Observed vs Predicted SOC \") +\n",
        "  xlab(\"Observed\") + ylab(\"Predicted\") +\n",
        "  scale_x_continuous(limits=c(0,25), breaks=seq(0, 25, 5))+\n",
        "  scale_y_continuous(limits=c(0,25), breaks=seq(0, 25, 5)) +\n",
        "  # Flip the bars\n",
        "  theme(\n",
        "    panel.background = element_rect(fill = \"grey95\",colour = \"gray75\",size = 0.5, linetype = \"solid\"),\n",
        "    axis.line = element_line(colour = \"grey\"),\n",
        "    plot.title = element_text(size = 14, hjust = 0.5),\n",
        "    axis.title.x = element_text(size = 14),\n",
        "    axis.title.y = element_text(size = 14),\n",
        "    axis.text.x=element_text(size=13, colour=\"black\"),\n",
        "    axis.text.y=element_text(size=13,angle = 90,vjust = 0.5, hjust=0.5, colour='black'))"
      ],
      "metadata": {
        "colab": {
          "base_uri": "https://localhost:8080/",
          "height": 485
        },
        "id": "bx23ZGb1pDmp",
        "outputId": "49002987-1567-47db-8983-0b5ef885baa9"
      },
      "execution_count": 70,
      "outputs": [
        {
          "output_type": "stream",
          "name": "stdout",
          "text": [
            "`geom_smooth()` using formula = 'y ~ x'\n"
          ]
        },
        {
          "output_type": "display_data",
          "data": {
            "image/png": "[encoded data removed]"
          },
          "metadata": {}
        }
      ]
    },
    {
      "cell_type": "markdown",
      "source": [
        "### Variable Importnace"
      ],
      "metadata": {
        "id": "lqBWxgMSpg1o"
      }
    },
    {
      "cell_type": "code",
      "source": [
        "%%R\n",
        "h2o.varimp(best_XGBoost)"
      ],
      "metadata": {
        "colab": {
          "base_uri": "https://localhost:8080/"
        },
        "id": "MM8_tedTpaGh",
        "outputId": "fe993832-3298-4292-c270-3c0a02f326b6"
      },
      "execution_count": 71,
      "outputs": [
        {
          "output_type": "stream",
          "name": "stdout",
          "text": [
            "Variable Importances: \n",
            "                    variable relative_importance scaled_importance percentage\n",
            "1                       NDVI        86942.664062          1.000000   0.274164\n",
            "2                        MAP        46542.355469          0.535322   0.146766\n",
            "3                      Slope        40200.593750          0.462381   0.126768\n",
            "4                        MAT        30801.824219          0.354277   0.097130\n",
            "5                   SiltClay        24854.867188          0.285877   0.078377\n",
            "6                    KFactor        22102.652344          0.254221   0.069698\n",
            "7                        DEM        21357.250000          0.245648   0.067348\n",
            "8                     Aspect        19893.771484          0.228815   0.062733\n",
            "9                        TPI        14021.918945          0.161278   0.044217\n",
            "10               NLCD.Forest         5381.011719          0.061891   0.016968\n",
            "11  FRG.Fire Regime Group II         1557.324463          0.017912   0.004911\n",
            "12            NLCD.Shrubland         1116.920288          0.012847   0.003522\n",
            "13   NLCD.Planted/Cultivated          733.630798          0.008438   0.002313\n",
            "14           NLCD.Herbaceous          725.991455          0.008350   0.002289\n",
            "15 FRG.Fire Regime Group III          691.163696          0.007950   0.002180\n",
            "16  FRG.Fire Regime Group IV          195.282013          0.002246   0.000616\n"
          ]
        }
      ]
    },
    {
      "cell_type": "code",
      "source": [
        "%%R -w 400 -h 450 -u px\n",
        "h2o.varimp_plot(best_XGBoost)"
      ],
      "metadata": {
        "colab": {
          "base_uri": "https://localhost:8080/",
          "height": 467
        },
        "id": "P4VQIWdopnFJ",
        "outputId": "7185da75-2b80-462a-f0f2-5803601d5628"
      },
      "execution_count": 73,
      "outputs": [
        {
          "output_type": "display_data",
          "data": {
            "image/png": "[encoded data removed]"
          },
          "metadata": {}
        }
      ]
    },
    {
      "cell_type": "markdown",
      "source": [
        "### SHAP Local Explanation"
      ],
      "metadata": {
        "id": "V_tIMdm0pxxB"
      }
    },
    {
      "cell_type": "code",
      "source": [
        "%%R -w 550 -h 450 -u px\n",
        "h2o.shap_summary_plot(best_XGBoost, h_train)"
      ],
      "metadata": {
        "colab": {
          "base_uri": "https://localhost:8080/",
          "height": 467
        },
        "id": "WdWdi-jVpx40",
        "outputId": "a00661c0-4018-4bc8-c5ac-061cd27b2a8e"
      },
      "execution_count": 74,
      "outputs": [
        {
          "output_type": "display_data",
          "data": {
            "image/png": "[encoded data removed]"
          },
          "metadata": {}
        }
      ]
    },
    {
      "cell_type": "markdown",
      "source": [
        "#### Partial Dependence (PD) Plots"
      ],
      "metadata": {
        "id": "RB0V8aUkp7my"
      }
    },
    {
      "cell_type": "code",
      "source": [
        "%%R -w 500 -h 450 -u px\n",
        "h2o.pd_multi_plot(best_XGBoost, h_train, \"NDVI\")"
      ],
      "metadata": {
        "colab": {
          "base_uri": "https://localhost:8080/",
          "height": 467
        },
        "id": "ETXuDy0up7xN",
        "outputId": "06fa7ad6-a278-4f29-8a93-3d5de8e930b1"
      },
      "execution_count": 75,
      "outputs": [
        {
          "output_type": "display_data",
          "data": {
            "image/png": "[encoded data removed]"
          },
          "metadata": {}
        }
      ]
    },
    {
      "cell_type": "markdown",
      "source": [
        "### Further Reading\n",
        "\n",
        "1.  [Gradient Boosting and Parameter Tuning in R](https://www.kaggle.com/code/camnugent/gradient-boosting-and-parameter-tuning-in-r/)\n",
        "\n",
        "2.  [XGBoost in R: A Step-by-Step Example](https://www.statology.org/xgboost-in-r/)\n",
        "\n",
        "3.  [Tune XGBoost with tidymodels](https://juliasilge.com/blog/xgboost-tune-volleyball/)\n",
        "\n",
        "4. [XGBoost in h20](https://docs.h2o.ai/h2o/latest-stable/h2o-docs/data-science/xgboost.html)\n",
        "\n",
        "###  YouTube Video\n",
        "\n",
        "1. XGBoost Part 1 (of 4): Regression\n",
        "\n",
        "{{< video https://www.youtube.com/watch?v=OtD8wVaFm6E >}}\n",
        "\n",
        "Source: [StatQuest with Josh Starme](https://www.youtube.com/@statquest)"
      ],
      "metadata": {
        "id": "W2vdxUouqJ-V"
      }
    }
  ]
}