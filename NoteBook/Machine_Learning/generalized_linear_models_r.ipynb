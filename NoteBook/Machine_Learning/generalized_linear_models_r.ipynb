{
  "cells": [
    {
      "cell_type": "markdown",
      "metadata": {
        "id": "view-in-github",
        "colab_type": "text"
      },
      "source": [
        "<a href=\"https://colab.research.google.com/github/zia207/r-colab/blob/main/NoteBook/Machine_Learning/generalized_linear_models_r.ipynb\" target=\"_parent\"><img src=\"https://colab.research.google.com/assets/colab-badge.svg\" alt=\"Open In Colab\"/></a>"
      ]
    },
    {
      "cell_type": "markdown",
      "metadata": {
        "id": "OY52m_L2yP0p"
      },
      "source": [
        "# Generalized Linear Models in R\n",
        "\n",
        "Zia Ahmed, University At Buffalo\n",
        "\n"
      ]
    },
    {
      "cell_type": "markdown",
      "source": [
        "A generalized linear model (GLM) is a statistical framework that extends the traditional linear regression model to accommodate a broader range of response variables and model assumptions. The GLM allows for the response variable to follow a distribution other than the normal distribution, and allows for the relationship between the response variable and the predictor variables to be modeled using a nonlinear function.\n",
        "\n",
        "The GLM consists of three components:\n",
        "\n",
        "The random component: specifies the distribution of the response variable (e.g., normal, Poisson, binomial, gamma, etc.). The distribution is chosen based on the nature of the response variable and the assumptions of the model.\n",
        "\n",
        "The systematic component: specifies the linear predictor function that relates the predictor variables to the response variable. The predictor function is modeled using a combination of linear and nonlinear functions.\n",
        "\n",
        "The link function: relates the expected value of the response variable to the linear predictor function. The link function can be used to transform the response variable to ensure that it follows the appropriate distribution for the model. For example, in logistic regression, which is used to model binary data, the link function is the logistic function, which maps the linear predictor to a probability between 0 and 1. In Poisson regression, which is used to model count data, the link function is the natural logarithm function, which maps the linear predictor to the mean of the Poisson distribution.\n",
        "\n",
        "The GLM is a flexible framework that can be used for a wide range of statistical applications, including regression analysis, classification, and survival analysis. It allows for the modeling of complex relationships between the response variable and the predictor variables, and can accommodate both continuous and discrete response variables.\n",
        "\n",
        "### Linear Regression vs Generalized Linear Models\n",
        "\n",
        "1.  Linear regression assumes that the response variable is normally distributed, while GLMs allow for different distributions, such as binomial or Poisson.\n",
        "\n",
        "2.  Linear regression models the mean of the response variable as a linear function of the predictor variables. In contrast, GLMs model the relationship between the predictor variables and the response variable through a link function and a linear combination of the predictor variables.\n",
        "\n",
        "3.  Linear regression is used for continuous response variables, while GLMs can be used for continuous and categorical response variables.\n",
        "\n",
        "4.  The assumptions of linear regression are more restrictive than those of GLMs, which makes GLMs more flexible and appropriate for a wider range of data."
      ],
      "metadata": {
        "id": "nvKOzj3L6PhQ"
      }
    },
    {
      "cell_type": "markdown",
      "metadata": {
        "id": "Iady-vjHj36v"
      },
      "source": [
        "### Install rpy2\n",
        "\n",
        "rpy2 is an interface to R running embedded in a Python process."
      ]
    },
    {
      "cell_type": "code",
      "execution_count": null,
      "metadata": {
        "id": "Tude9Sh0jxBf",
        "colab": {
          "base_uri": "https://localhost:8080/"
        },
        "outputId": "2b9b6da7-1a98-4e8c-def5-4f87ff644d5b"
      },
      "outputs": [
        {
          "output_type": "stream",
          "name": "stdout",
          "text": [
            "Found existing installation: rpy2 3.4.2\n",
            "Uninstalling rpy2-3.4.2:\n",
            "  Successfully uninstalled rpy2-3.4.2\n",
            "Collecting rpy2==3.5.1\n",
            "  Downloading rpy2-3.5.1.tar.gz (201 kB)\n",
            "\u001b[2K     \u001b[90m━━━━━━━━━━━━━━━━━━━━━━━━━━━━━━━━━━━━━━━\u001b[0m \u001b[32m201.7/201.7 kB\u001b[0m \u001b[31m4.7 MB/s\u001b[0m eta \u001b[36m0:00:00\u001b[0m\n",
            "\u001b[?25h  Preparing metadata (setup.py) ... \u001b[?25l\u001b[?25hdone\n",
            "Requirement already satisfied: cffi>=1.10.0 in /usr/local/lib/python3.10/dist-packages (from rpy2==3.5.1) (1.15.1)\n",
            "Requirement already satisfied: jinja2 in /usr/local/lib/python3.10/dist-packages (from rpy2==3.5.1) (3.1.2)\n",
            "Requirement already satisfied: pytz in /usr/local/lib/python3.10/dist-packages (from rpy2==3.5.1) (2023.3)\n",
            "Requirement already satisfied: tzlocal in /usr/local/lib/python3.10/dist-packages (from rpy2==3.5.1) (5.0.1)\n",
            "Requirement already satisfied: pycparser in /usr/local/lib/python3.10/dist-packages (from cffi>=1.10.0->rpy2==3.5.1) (2.21)\n",
            "Requirement already satisfied: MarkupSafe>=2.0 in /usr/local/lib/python3.10/dist-packages (from jinja2->rpy2==3.5.1) (2.1.3)\n",
            "Building wheels for collected packages: rpy2\n",
            "  Building wheel for rpy2 (setup.py) ... \u001b[?25l\u001b[?25hdone\n",
            "  Created wheel for rpy2: filename=rpy2-3.5.1-cp310-cp310-linux_x86_64.whl size=314934 sha256=e10611c626170ebe22ccb0536b5e2ec7eeddc521002079e0c73a509c1626da15\n",
            "  Stored in directory: /root/.cache/pip/wheels/73/a6/ff/4e75dd1ce1cfa2b9a670cbccf6a1e41c553199e9b25f05d953\n",
            "Successfully built rpy2\n",
            "Installing collected packages: rpy2\n",
            "Successfully installed rpy2-3.5.1\n"
          ]
        }
      ],
      "source": [
        "!pip uninstall rpy2 -y\n",
        "!pip install rpy2==3.5.1\n",
        "%load_ext rpy2.ipython"
      ]
    },
    {
      "cell_type": "markdown",
      "source": [
        "### Mount Google Drive"
      ],
      "metadata": {
        "id": "fFDUXXrLalEG"
      }
    },
    {
      "cell_type": "code",
      "execution_count": null,
      "metadata": {
        "id": "Gm6T9jK6kOuj",
        "colab": {
          "base_uri": "https://localhost:8080/"
        },
        "outputId": "91dad800-2381-4b61-8045-3259026dd4d6"
      },
      "outputs": [
        {
          "output_type": "stream",
          "name": "stdout",
          "text": [
            "Mounted at /content/drive\n"
          ]
        }
      ],
      "source": [
        "from google.colab import drive\n",
        "drive.mount('/content/drive')"
      ]
    },
    {
      "cell_type": "markdown",
      "source": [
        "### Install required R packages"
      ],
      "metadata": {
        "id": "ktIDJn9eNUyj"
      }
    },
    {
      "cell_type": "code",
      "source": [
        "%%R\n",
        "pkg <- c('tidyverse', 'tidymodels', 'caret', 'Metrics', 'ggpmisc')\n",
        "new.packages <- pkg[!(pkg %in% installed.packages(lib='drive/My Drive/R/')[,\"Package\"])]\n",
        "if(length(new.packages)) install.packages(new.packages, lib='drive/My Drive/R/')"
      ],
      "metadata": {
        "id": "L3iAMwv-NXnL"
      },
      "execution_count": null,
      "outputs": []
    },
    {
      "cell_type": "markdown",
      "source": [
        "### Downloading & Installing H2O\n",
        "\n",
        "Detail instruction of downloading & installing H2O in R could be found [here](https://docs.h2o.ai/h2o/latest-stable/h2o-docs/downloading.html)\n",
        "\n",
        "Anyway, perform the following steps in R to install H2O. Copy and paste these commands one line at a time.\n"
      ],
      "metadata": {
        "id": "eS2H2Sov1G8F"
      }
    },
    {
      "cell_type": "code",
      "source": [
        "%%R\n",
        "# The following two commands remove any previously installed H2O packages for R.\n",
        "if (\"package:h2o\" %in% search()) { detach(\"package:h2o\", unload=TRUE) }\n",
        "if (\"h2o\" %in% rownames(installed.packages())) { remove.packages(\"h2o\") }\n",
        "\n",
        "# Next, download packages that H2O depends on\n",
        "pkgs <- c(\"RCurl\",\"jsonlite\")\n",
        "for (pkg in pkgs) {\n",
        "  if (! (pkg %in% rownames(installed.packages(lib='drive/My Drive/R/')))) { install.packages(pkg) }\n",
        "}\n",
        "\n",
        "# Download and install the latest vesion of H2O\n",
        "install.packages(\"h2o\", type=\"source\",lib='drive/My Drive/R/', repos=(c(\"http://h2o-release.s3.amazonaws.com/h2o/latest_stable_R\")))"
      ],
      "metadata": {
        "id": "jSel2Abn0otq"
      },
      "execution_count": null,
      "outputs": []
    },
    {
      "cell_type": "markdown",
      "source": [
        "### Load pacakges"
      ],
      "metadata": {
        "id": "845Zor27RSNv"
      }
    },
    {
      "cell_type": "code",
      "source": [
        "%%R\n",
        "# set library path\n",
        ".libPaths('drive/My Drive/R')\n",
        "library(tidyverse)\n",
        "library(tidymodels)\n",
        "library(caret)\n",
        "library(Metrics)\n",
        "library(ggpmisc)"
      ],
      "metadata": {
        "id": "B5GRDKTmRBil",
        "colab": {
          "base_uri": "https://localhost:8080/"
        },
        "outputId": "22a09c82-3169-4a6a-f74f-ca850a64bcde"
      },
      "execution_count": null,
      "outputs": [
        {
          "output_type": "stream",
          "name": "stderr",
          "text": [
            "WARNING:rpy2.rinterface_lib.callbacks:R[write to console]: ── Attaching packages ────────────────────────────────────── tidymodels 1.1.0 ──\n",
            "\n",
            "WARNING:rpy2.rinterface_lib.callbacks:R[write to console]: ✔ broom        1.0.5     ✔ rsample      1.1.1\n",
            "✔ dials        1.2.0     ✔ tune         1.1.1\n",
            "✔ infer        1.0.4     ✔ workflows    1.1.3\n",
            "✔ modeldata    1.1.0     ✔ workflowsets 1.0.1\n",
            "✔ parsnip      1.1.0     ✔ yardstick    1.2.0\n",
            "✔ recipes      1.0.6     \n",
            "\n",
            "WARNING:rpy2.rinterface_lib.callbacks:R[write to console]: ── Conflicts ───────────────────────────────────────── tidymodels_conflicts() ──\n",
            "✖ scales::discard() masks purrr::discard()\n",
            "✖ dplyr::filter()   masks stats::filter()\n",
            "✖ recipes::fixed()  masks stringr::fixed()\n",
            "✖ dplyr::lag()      masks stats::lag()\n",
            "✖ yardstick::spec() masks readr::spec()\n",
            "✖ recipes::step()   masks stats::step()\n",
            "• Dig deeper into tidy modeling with R at https://www.tmwr.org\n",
            "\n",
            "WARNING:rpy2.rinterface_lib.callbacks:R[write to console]: Loading required package: lattice\n",
            "\n",
            "WARNING:rpy2.rinterface_lib.callbacks:R[write to console]: \n",
            "Attaching package: ‘caret’\n",
            "\n",
            "\n",
            "WARNING:rpy2.rinterface_lib.callbacks:R[write to console]: The following objects are masked from ‘package:yardstick’:\n",
            "\n",
            "    precision, recall, sensitivity, specificity\n",
            "\n",
            "\n",
            "WARNING:rpy2.rinterface_lib.callbacks:R[write to console]: The following object is masked from ‘package:purrr’:\n",
            "\n",
            "    lift\n",
            "\n",
            "\n",
            "WARNING:rpy2.rinterface_lib.callbacks:R[write to console]: \n",
            "Attaching package: ‘Metrics’\n",
            "\n",
            "\n",
            "WARNING:rpy2.rinterface_lib.callbacks:R[write to console]: The following objects are masked from ‘package:caret’:\n",
            "\n",
            "    precision, recall\n",
            "\n",
            "\n",
            "WARNING:rpy2.rinterface_lib.callbacks:R[write to console]: The following objects are masked from ‘package:yardstick’:\n",
            "\n",
            "    accuracy, mae, mape, mase, precision, recall, rmse, smape\n",
            "\n",
            "\n",
            "WARNING:rpy2.rinterface_lib.callbacks:R[write to console]: Loading required package: ggpp\n",
            "\n",
            "WARNING:rpy2.rinterface_lib.callbacks:R[write to console]: \n",
            "Attaching package: ‘ggpp’\n",
            "\n",
            "\n",
            "WARNING:rpy2.rinterface_lib.callbacks:R[write to console]: The following object is masked from ‘package:ggplot2’:\n",
            "\n",
            "    annotate\n",
            "\n",
            "\n",
            "WARNING:rpy2.rinterface_lib.callbacks:R[write to console]: Registered S3 method overwritten by 'ggpmisc':\n",
            "  method                  from   \n",
            "  as.character.polynomial polynom\n",
            "\n"
          ]
        }
      ]
    },
    {
      "cell_type": "markdown",
      "metadata": {
        "id": "5yZMA6jPzy8r"
      },
      "source": [
        "### Data\n",
        "\n",
        "In this exercise we will use following data set.\n",
        "\n",
        "[gp_soil_data_syn.csv](https://www.dropbox.com/s/9ikm5yct36oflei/gp_soil_data.csv?dl=0)."
      ]
    },
    {
      "cell_type": "code",
      "execution_count": null,
      "metadata": {
        "colab": {
          "base_uri": "https://localhost:8080/"
        },
        "id": "JcemTJe9yBJX",
        "outputId": "3a0b47e2-c90d-47c3-9283-e6453c324dbd"
      },
      "outputs": [
        {
          "output_type": "stream",
          "name": "stdout",
          "text": [
            "Rows: 1408 Columns: 10\n",
            "── Column specification ────────────────────────────────────────────────────────\n",
            "Delimiter: \",\"\n",
            "chr (2): NLCD, FRG\n",
            "dbl (8): ID, SOC, DEM, Slope, TPI, MAP, MAT, NDVI\n",
            "\n",
            "ℹ Use `spec()` to retrieve the full column specification for this data.\n",
            "ℹ Specify the column types or set `show_col_types = FALSE` to quiet this message.\n",
            "Rows: 1,408\n",
            "Columns: 9\n",
            "$ SOC   <dbl> 1.900, 2.644, 0.800, 0.736, 15.641, 8.818, 3.782, 6.641, 4.803, …\n",
            "$ DEM   <dbl> 2825.1111, 2535.1086, 1716.3300, 1649.8933, 2675.3113, 2581.4839…\n",
            "$ Slope <dbl> 18.981682, 14.182393, 1.585145, 9.399726, 12.569353, 6.358553, 1…\n",
            "$ TPI   <dbl> -0.91606224, -0.15259802, -0.39078590, -2.54008722, 7.40076303, …\n",
            "$ MAT   <dbl> 4.709227, 4.648000, 6.360833, 10.265385, 2.798550, 6.358550, 7.0…\n",
            "$ MAP   <dbl> 613.6979, 597.7912, 201.5091, 298.2608, 827.4680, 679.1392, 508.…\n",
            "$ NDVI  <dbl> 0.6845260, 0.7557631, 0.2215059, 0.2785148, 0.7337426, 0.7017139…\n",
            "$ NLCD  <chr> \"Forest\", \"Forest\", \"Shrubland\", \"Shrubland\", \"Forest\", \"Forest\"…\n",
            "$ FRG   <chr> \"Fire Regime Group IV\", \"Fire Regime Group IV\", \"Fire Regime Gro…\n"
          ]
        }
      ],
      "source": [
        "%%R\n",
        "# load data from github\n",
        "urlfile = \"https://github.com//zia207/r-colab/raw/main/Data/USA/gp_soil_data_syn.csv\"\n",
        "mf<-read_csv(url(urlfile))\n",
        "# Create a data-frame\n",
        "df<-mf %>% dplyr::select(SOC, DEM, Slope, TPI,MAT, MAP,NDVI, NLCD, FRG)%>%\n",
        "    glimpse()"
      ]
    },
    {
      "cell_type": "markdown",
      "metadata": {
        "id": "UvbSK6eAxCeM"
      },
      "source": [
        "## GLM with Caret Package"
      ]
    },
    {
      "cell_type": "markdown",
      "metadata": {
        "id": "KMYJt17SzAgg"
      },
      "source": [
        "The [\"caret\"](https://topepo.github.io/caret/) (short for Classification And REgression Training) is a popular R package for machine learning. It provides a consistent interface to train and evaluate a wide range of machine learning models. It provides a unified interface to train and tune machine learning models.\n",
        "\n",
        "Some of the key features of the Caret package include:\n",
        "\n",
        "**Data Preprocessing**: It provides a comprehensive set of tools to preprocess the data, such as missing value imputation, feature scaling, feature selection,and data partitioning.\n",
        "\n",
        "**Model Training:** It supports various machine learning algorithms for classification, regression, and survival analysis, including decision trees, random forests, support vector machines, gradient boosting, and neural networks.\n",
        "\n",
        "**Model Tuning**: It provides tools for tuning the hyperparameters of the models using various techniques such as grid search, random search, and Bayesian optimization.\n",
        "\n",
        "**Model Evaluation**: It provides tools for evaluating the performance of the models using various metrics such as accuracy, AUC, F1-score, and log-loss."
      ]
    },
    {
      "cell_type": "markdown",
      "metadata": {
        "id": "L1GIts3NxNyL"
      },
      "source": [
        "#### Create Dummy Variables\n",
        "\n",
        "**dummyVars()** function creates a full set of dummy variables (i.e. less than full rank parameterization)"
      ]
    },
    {
      "cell_type": "code",
      "execution_count": null,
      "metadata": {
        "id": "SoqmDPQRxN9Y",
        "colab": {
          "base_uri": "https://localhost:8080/"
        },
        "outputId": "a9e13087-698a-4a32-8d81-466f7eb6753e"
      },
      "outputs": [
        {
          "output_type": "stream",
          "name": "stdout",
          "text": [
            "Rows: 1,408\n",
            "Columns: 17\n",
            "$ DEM                        <dbl> 2825.1111, 2535.1086, 1716.3300, 1649.8933,…\n",
            "$ Slope                      <dbl> 18.981682, 14.182393, 1.585145, 9.399726, 1…\n",
            "$ TPI                        <dbl> -0.91606224, -0.15259802, -0.39078590, -2.5…\n",
            "$ MAT                        <dbl> 4.709227, 4.648000, 6.360833, 10.265385, 2.…\n",
            "$ MAP                        <dbl> 613.6979, 597.7912, 201.5091, 298.2608, 827…\n",
            "$ NDVI                       <dbl> 0.6845260, 0.7557631, 0.2215059, 0.2785148,…\n",
            "$ NLCDForest                 <dbl> 1, 1, 0, 0, 1, 1, 1, 1, 1, 1, 1, 1, 0, 0, 1…\n",
            "$ NLCDHerbaceous             <dbl> 0, 0, 0, 0, 0, 0, 0, 0, 0, 0, 0, 0, 1, 1, 0…\n",
            "$ `NLCDPlanted/Cultivated`   <dbl> 0, 0, 0, 0, 0, 0, 0, 0, 0, 0, 0, 0, 0, 0, 0…\n",
            "$ NLCDShrubland              <dbl> 0, 0, 1, 1, 0, 0, 0, 0, 0, 0, 0, 0, 0, 0, 0…\n",
            "$ `FRGFire Regime Group I`   <dbl> 0, 0, 0, 0, 0, 1, 1, 0, 0, 0, 0, 0, 0, 0, 0…\n",
            "$ `FRGFire Regime Group II`  <dbl> 0, 0, 0, 0, 0, 0, 0, 0, 0, 0, 0, 0, 1, 0, 0…\n",
            "$ `FRGFire Regime Group III` <dbl> 0, 0, 0, 0, 0, 0, 0, 1, 1, 1, 0, 0, 0, 1, 0…\n",
            "$ `FRGFire Regime Group IV`  <dbl> 1, 1, 1, 0, 0, 0, 0, 0, 0, 0, 1, 1, 0, 0, 1…\n",
            "$ `FRGFire Regime Group V`   <dbl> 0, 0, 0, 1, 1, 0, 0, 0, 0, 0, 0, 0, 0, 0, 0…\n",
            "$ `FRGIndeterminate FRG`     <dbl> 0, 0, 0, 0, 0, 0, 0, 0, 0, 0, 0, 0, 0, 0, 0…\n",
            "$ SOC                        <dbl> 1.900, 2.644, 0.800, 0.736, 15.641, 8.818, …\n"
          ]
        }
      ],
      "source": [
        "%%R\n",
        "dummies <- dummyVars(SOC ~ ., data = df)\n",
        "dummies.df<-as.data.frame(predict(dummies, newdata = df))\n",
        "dummies.df$SOC<-df$SOC\n",
        "glimpse(dummies.df)"
      ]
    },
    {
      "cell_type": "markdown",
      "metadata": {
        "id": "E0-Ep52Kxd4P"
      },
      "source": [
        "#### Data Splitting\n",
        "\n",
        "The function **createDataPartition()** can be used to create splits of the data into training and validation"
      ]
    },
    {
      "cell_type": "code",
      "execution_count": null,
      "metadata": {
        "id": "OHqqjlyDxeBA"
      },
      "outputs": [],
      "source": [
        "%%R\n",
        "trainIndex <- createDataPartition(dummies.df$SOC, p = .80,\n",
        "                                  list = FALSE,\n",
        "                                  times = 1)\n",
        "df_train <- dummies.df[ trainIndex,]\n",
        "df_test  <- dummies.df[-trainIndex,]"
      ]
    },
    {
      "cell_type": "code",
      "execution_count": null,
      "metadata": {
        "colab": {
          "base_uri": "https://localhost:8080/",
          "height": 417
        },
        "id": "TMkGGXIexlqO",
        "outputId": "5cc2ecaa-c5c3-4304-d7f0-d2760f8274f4"
      },
      "outputs": [
        {
          "output_type": "display_data",
          "data": {
            "image/png": "[encoded data removed]"
          },
          "metadata": {}
        }
      ],
      "source": [
        "%%R -w 450 -h 400 -u px\n",
        "# Density plot all, train and test data\n",
        "ggplot()+\n",
        "  geom_density(data = dummies.df, aes(SOC))+\n",
        "  geom_density(data = df_train, aes(SOC), color = \"green\")+\n",
        "  geom_density(data = df_test, aes(SOC), color = \"red\") +\n",
        "     xlab(\"Soil Organic Carbon (kg/g)\") +\n",
        "     ylab(\"Density\")"
      ]
    },
    {
      "cell_type": "markdown",
      "metadata": {
        "id": "IPYJnHZ8xozE"
      },
      "source": [
        "#### Set control prameters\n",
        "\n",
        "The function **traincontrol()** is used for controlling the training process. It allows us to specify various options related to resampling, cross-validation, and model tuning during the training process."
      ]
    },
    {
      "cell_type": "code",
      "execution_count": null,
      "metadata": {
        "id": "1W1mOvh5xtWJ"
      },
      "outputs": [],
      "source": [
        "%%R\n",
        "set.seed(123)\n",
        "train.control <- trainControl(method = \"repeatedcv\",\n",
        "                              number = 10, repeats = 5,\n",
        "                              preProc = c(\"center\", \"scale\", \"nzv\"))"
      ]
    },
    {
      "cell_type": "markdown",
      "metadata": {
        "id": "Oowq7vUgxy97"
      },
      "source": [
        "#### Train the model\n",
        "\n",
        "**train()**  is used for training machine learning models. It provides a unified interface for a wide range of machine learning algorithms, making comparing and evaluating different models on a given dataset easier. It allows the dataset as input and allows you to specify the type of model to train, as well as various tuning parameters and performance metrics. It uses a resampling method specified by **trainControl()** to estimate the model's performance on new, unseen data, and returns a trained model object."
      ]
    },
    {
      "cell_type": "code",
      "execution_count": null,
      "metadata": {
        "id": "ZVFYvM4fxzHr"
      },
      "outputs": [],
      "source": [
        "%%R\n",
        "model.glm <- train(SOC ~., data = df_train,\n",
        "                     method = \"glm\",\n",
        "                     trControl = train.control)"
      ]
    },
    {
      "cell_type": "markdown",
      "source": [
        "### Model summary"
      ],
      "metadata": {
        "id": "7mPNW37Zw0Gk"
      }
    },
    {
      "cell_type": "code",
      "execution_count": null,
      "metadata": {
        "colab": {
          "base_uri": "https://localhost:8080/"
        },
        "id": "8sX0NPE2x8WN",
        "outputId": "3b6d07e8-868e-4f66-c9e7-eeadb84df75b"
      },
      "outputs": [
        {
          "output_type": "stream",
          "name": "stdout",
          "text": [
            "Generalized Linear Model \n",
            "\n",
            "1127 samples\n",
            "  16 predictor\n",
            "\n",
            "No pre-processing\n",
            "Resampling: Cross-Validated (10 fold, repeated 5 times) \n",
            "Summary of sample sizes: 1014, 1015, 1014, 1015, 1014, 1014, ... \n",
            "Resampling results:\n",
            "\n",
            "  RMSE      Rsquared  MAE     \n",
            "  3.896103  0.408546  2.779847\n",
            "\n"
          ]
        }
      ],
      "source": [
        "%%R\n",
        "print(model.glm)"
      ]
    },
    {
      "cell_type": "markdown",
      "metadata": {
        "id": "GLEAeI4zyBDP"
      },
      "source": [
        "#### Training Performance"
      ]
    },
    {
      "cell_type": "code",
      "execution_count": null,
      "metadata": {
        "colab": {
          "base_uri": "https://localhost:8080/"
        },
        "id": "o04feJ2ZyBVw",
        "outputId": "bd80eef6-f1a7-4c07-fdae-b328c7acb301"
      },
      "outputs": [
        {
          "output_type": "stream",
          "name": "stdout",
          "text": [
            "  TrainRMSE TrainRsquared TrainMAE method\n",
            "1  3.896103      0.408546 2.779847    glm\n"
          ]
        }
      ],
      "source": [
        "%%R\n",
        "getTrainPerf(model.glm)"
      ]
    },
    {
      "cell_type": "markdown",
      "metadata": {
        "id": "SNehtz5ayGvU"
      },
      "source": [
        "#### Prediction"
      ]
    },
    {
      "cell_type": "code",
      "execution_count": null,
      "metadata": {
        "id": "sIm_AxZfyG7S"
      },
      "outputs": [],
      "source": [
        "%%R\n",
        "df_test$Pred.SOC = predict(model.glm, df_test)"
      ]
    },
    {
      "cell_type": "markdown",
      "metadata": {
        "id": "OmyXB_RdyS0v"
      },
      "source": [
        "### Prediction Performance"
      ]
    },
    {
      "cell_type": "code",
      "execution_count": null,
      "metadata": {
        "colab": {
          "base_uri": "https://localhost:8080/"
        },
        "id": "vLMQwNNSyS8b",
        "outputId": "e967d049-1cff-4acc-b36e-a4725e234004"
      },
      "outputs": [
        {
          "output_type": "stream",
          "name": "stdout",
          "text": [
            "[1] \"RMSE: 3.85\"\n"
          ]
        }
      ],
      "source": [
        "%%R\n",
        "RMSE<- Metrics::rmse(df_test$SOC, df_test$Pred.SOC)\n",
        "paste0(\"RMSE: \", round(RMSE,2))\n"
      ]
    },
    {
      "cell_type": "code",
      "execution_count": null,
      "metadata": {
        "colab": {
          "base_uri": "https://localhost:8080/"
        },
        "id": "WSBODGbl0jHs",
        "outputId": "2710ba61-96e7-4bcc-c3cf-f9560d93c45c"
      },
      "outputs": [
        {
          "output_type": "stream",
          "name": "stdout",
          "text": [
            "[1] \"MAE: 2.73\"\n"
          ]
        }
      ],
      "source": [
        "%%R\n",
        "MAE<- Metrics::mae(df_test$SOC, df_test$Pred.SOC)\n",
        "paste0(\"MAE: \", round(MAE,2));"
      ]
    },
    {
      "cell_type": "markdown",
      "source": [
        "### 1:1 Plot Predicted vs Observed values"
      ],
      "metadata": {
        "id": "DoKHNtQsxcOz"
      }
    },
    {
      "cell_type": "markdown",
      "metadata": {
        "id": "Rba_wwAeyh3J"
      },
      "source": [
        "We can plot observed and predicted values with fitted regression line with ggplot2"
      ]
    },
    {
      "cell_type": "code",
      "execution_count": null,
      "metadata": {
        "colab": {
          "base_uri": "https://localhost:8080/",
          "height": 434
        },
        "id": "ihp615Rvyi2O",
        "outputId": "e162932e-922a-43aa-e665-8d0a56496570"
      },
      "outputs": [
        {
          "output_type": "stream",
          "name": "stdout",
          "text": [
            "`geom_smooth()` using formula = 'y ~ x'\n"
          ]
        },
        {
          "output_type": "display_data",
          "data": {
            "image/png": "[encoded data removed]"
          },
          "metadata": {}
        }
      ],
      "source": [
        "%%R -w 450 -h 400 -u px\n",
        "formula<-y~x\n",
        "ggplot(df_test, aes(SOC,Pred.SOC)) +\n",
        "  geom_point() +\n",
        "  geom_smooth(method = \"lm\")+\n",
        "  stat_poly_eq(use_label(c(\"eq\", \"adj.R2\")), formula = formula) +\n",
        "  ggtitle(\"Caret:Observed vs Predicted SOC \") +\n",
        "  xlab(\"Observed\") + ylab(\"Predicted\") +\n",
        "  scale_x_continuous(limits=c(0,25), breaks=seq(0, 25, 5))+\n",
        "  scale_y_continuous(limits=c(0,25), breaks=seq(0, 25, 5)) +\n",
        "  # Flip the bars\n",
        "  theme(\n",
        "    panel.background = element_rect(fill = \"grey95\",colour = \"gray75\",size = 0.5, linetype = \"solid\"),\n",
        "    axis.line = element_line(colour = \"grey\"),\n",
        "    plot.title = element_text(size = 14, hjust = 0.5),\n",
        "    axis.title.x = element_text(size = 14),\n",
        "    axis.title.y = element_text(size = 14),\n",
        "    axis.text.x=element_text(size=13, colour=\"black\"),\n",
        "    axis.text.y=element_text(size=13,angle = 90,vjust = 0.5, hjust=0.5, colour='black'))"
      ]
    },
    {
      "cell_type": "markdown",
      "metadata": {
        "id": "n1-xUTzPytUJ"
      },
      "source": [
        "### GLM with tidymodels"
      ]
    },
    {
      "cell_type": "markdown",
      "metadata": {
        "id": "Yq2zoTjlyw5k"
      },
      "source": [
        "Tidymodels is a collection of R packages for modeling and machine learning using a tidyverse approach. The tidyverse is a set of R packages that share a common philosophy of data manipulation and visualization. Tidymodels extends this philosophy to modeling by providing a consistent set of functions for modeling, resampling, and tuning models.\n",
        "\n",
        "The core packages in tidymodels include:\n",
        "\n",
        "**parsnip**: A package for creating a consistent interface to different model types.\n",
        "\n",
        "**dials**: A package for tuning model hyperparameters using a tidy interface.\n",
        "\n",
        "**rsample**: A package for resampling data to estimate model performance.\n",
        "\n",
        "**recipes**: A package for preprocessing data in a tidy way.\n",
        "\n",
        "**infer**: A package for statistical inference using tidy data principles.\n",
        "\n",
        "These packages can be used together or separately to build and evaluate models using a tidy workflow. Tidymodels also integrates with other tidyverse packages like ggplot2 for visualization and purrr for functional programming.\n",
        "\n",
        "Overall, tidymodels provides a comprehensive framework for building, tuning, and evaluating machine learning models in R while following the principles of the tidyverse.\n",
        "\n",
        "The steps in most machine learning projects with tidy model are as follows:\n",
        "\n",
        "-   Loading necessary packages and data\n",
        "\n",
        "-   split data into train and test (rsample)\n",
        "\n",
        "-   light preprocessing (recipes)\n",
        "\n",
        "-   find the best hyperparameters by\n",
        "\n",
        "    -   creating crossvalidation folds (rsample)\n",
        "\n",
        "    -   creating a model specification (tune, parsnip, treesnip, dials)\n",
        "\n",
        "    -   creating a grid of values (dials)\n",
        "\n",
        "    -   using a workflow to contain the model and formula (workflows)\n",
        "\n",
        "    -   tune the model (tune)\n",
        "\n",
        "    -   find the best model from tuning\n",
        "\n",
        "-   retrain on entire test data\n",
        "\n",
        "-   evaluate on test data (yardstick)\n",
        "\n",
        "-   check residuals and model diagnostics"
      ]
    },
    {
      "cell_type": "markdown",
      "metadata": {
        "id": "NxRO1VMSy2h4"
      },
      "source": [
        "### Split Data\n",
        "\n",
        "We use **rsample** package (installed with **tidymodels**) to split data into training (70%) and test data (30%) set with Stratified Random Sampling. initial_split() creates a single binary data split into a training and testing set.\n",
        "\n",
        "Stratified random sampling is a technique for selecting a representative sample from a population, where the sample is chosen in a way that ensures that certain subgroups within the population are adequately represented in the sample."
      ]
    },
    {
      "cell_type": "code",
      "execution_count": null,
      "metadata": {
        "colab": {
          "base_uri": "https://localhost:8080/",
          "height": 417
        },
        "id": "G5rLsFRoy2sY",
        "outputId": "9cd98009-a8b9-407d-d957-7269864fe6b4"
      },
      "outputs": [
        {
          "output_type": "display_data",
          "data": {
            "image/png": "[encoded data removed]"
          },
          "metadata": {}
        }
      ],
      "source": [
        "%%R  -w 450 -h 400 -u px\n",
        "set.seed(1245)   # for reproducibility\n",
        "split <- initial_split(df, prop = 0.8, strata = SOC)\n",
        "train <- split %>% training()\n",
        "test <-  split %>% testing()\n",
        "\n",
        "# Density plot all, train and test data\n",
        "ggplot()+\n",
        "  geom_density(data = df, aes(SOC))+\n",
        "  geom_density(data = train, aes(SOC), color = \"green\")+\n",
        "  geom_density(data = test, aes(SOC), color = \"red\") +\n",
        "      xlab(\"Soil Organic Carbon (kg/g)\") +\n",
        "     ylab(\"Density\")"
      ]
    },
    {
      "cell_type": "markdown",
      "metadata": {
        "id": "ZeB8EHnBy-oC"
      },
      "source": [
        "### Create Recipe\n",
        "\n",
        "A **recipe** is a description of the steps to be applied to a data set in order to prepare it for data analysis. Before training the model, we can use a recipe to do some preprocessing required by the model."
      ]
    },
    {
      "cell_type": "code",
      "execution_count": null,
      "metadata": {
        "id": "Z8qZCO1Dzlxq"
      },
      "outputs": [],
      "source": [
        "%%R\n",
        "# Create a recipe\n",
        "glm_recipe <-\n",
        "  recipe(SOC ~ ., data = train) %>%\n",
        "  step_zv(all_predictors()) %>%\n",
        "  step_dummy(all_nominal()) %>%\n",
        "  step_normalize(all_numeric_predictors())"
      ]
    },
    {
      "cell_type": "markdown",
      "metadata": {
        "id": "qyzzvQztzpsD"
      },
      "source": [
        "### Build a model\n",
        "\n",
        "**set_engine()** is used to specify which package or system will be used to fit the model, along with any arguments specific to that software. We will use \"glm\" without any regularization parameters"
      ]
    },
    {
      "cell_type": "code",
      "execution_count": null,
      "metadata": {
        "id": "cbfd1dIFzp2G"
      },
      "outputs": [],
      "source": [
        "%%R\n",
        "glm_mod <-\n",
        "   linear_reg() %>%\n",
        "   set_engine(\"glm\")"
      ]
    },
    {
      "cell_type": "markdown",
      "metadata": {
        "id": "v47Mt3Gxzvnc"
      },
      "source": [
        "### Creatae a workflow\n",
        "\n",
        "A **workflow** is a container object that aggregates information required to fit and predict from a model. This information might be a recipe used in preprocessing, specified through add_recipe(), or the model specification to fit, specified through add_model()."
      ]
    },
    {
      "cell_type": "code",
      "execution_count": null,
      "metadata": {
        "id": "vtc7puu9z1BT"
      },
      "outputs": [],
      "source": [
        "%%R\n",
        "glm_wflow <-\n",
        "  workflow() %>%\n",
        "  add_model(glm_mod) %>%\n",
        "  add_recipe(glm_recipe)"
      ]
    },
    {
      "cell_type": "markdown",
      "metadata": {
        "id": "xtDwSD7kz3k2"
      },
      "source": [
        "### Fit GLM model\n",
        "\n",
        "Now, there is a single function that can be used to prepare the recipe and train the model from the resulting predictors:"
      ]
    },
    {
      "cell_type": "code",
      "execution_count": null,
      "metadata": {
        "id": "imSpRB38z3uU"
      },
      "outputs": [],
      "source": [
        "%%R\n",
        "glm_fit <-\n",
        "  glm_wflow %>%\n",
        "  fit(data = train)"
      ]
    },
    {
      "cell_type": "markdown",
      "metadata": {
        "id": "y-GFX7VYz-7_"
      },
      "source": [
        "This object has the finalized recipe and fitted model objects inside. You may want to extract the model or recipe objects from the workflow. To do this, you can use the helper functions **extract_fit_parsnip()**:"
      ]
    },
    {
      "cell_type": "code",
      "execution_count": null,
      "metadata": {
        "colab": {
          "base_uri": "https://localhost:8080/"
        },
        "id": "Fmv41nBNz_NJ",
        "outputId": "c66e0524-2082-4725-802a-65c1521a9d11"
      },
      "outputs": [
        {
          "output_type": "stream",
          "name": "stdout",
          "text": [
            "# A tibble: 15 × 5\n",
            "   term                      estimate std.error statistic   p.value\n",
            "   <chr>                        <dbl>     <dbl>     <dbl>     <dbl>\n",
            " 1 (Intercept)                 6.06       0.116    52.3   7.22e-302\n",
            " 2 DEM                        -0.0532     0.295    -0.181 8.57e-  1\n",
            " 3 Slope                       0.594      0.197     3.01  2.70e-  3\n",
            " 4 TPI                         0.0886     0.123     0.717 4.73e-  1\n",
            " 5 MAT                        -0.900      0.222    -4.05  5.38e-  5\n",
            " 6 MAP                         0.850      0.186     4.57  5.35e-  6\n",
            " 7 NDVI                        1.56       0.224     6.97  5.52e- 12\n",
            " 8 NLCD_Herbaceous            -0.671      0.261    -2.57  1.04e-  2\n",
            " 9 NLCD_Planted.Cultivated    -0.832      0.235    -3.54  4.12e-  4\n",
            "10 NLCD_Shrubland             -0.335      0.231    -1.45  1.48e-  1\n",
            "11 FRG_Fire.Regime.Group.II    0.613      0.359     1.71  8.83e-  2\n",
            "12 FRG_Fire.Regime.Group.III  -0.0725     0.266    -0.272 7.85e-  1\n",
            "13 FRG_Fire.Regime.Group.IV   -0.0257     0.251    -0.103 9.18e-  1\n",
            "14 FRG_Fire.Regime.Group.V     0.0270     0.161     0.167 8.67e-  1\n",
            "15 FRG_Indeterminate.FRG      -0.0476     0.129    -0.369 7.12e-  1\n"
          ]
        }
      ],
      "source": [
        "%%R\n",
        "glm_fit %>%\n",
        "  extract_fit_parsnip() %>%\n",
        "  tidy()"
      ]
    },
    {
      "cell_type": "markdown",
      "metadata": {
        "id": "njRtbH_70FU4"
      },
      "source": [
        "### Prediction"
      ]
    },
    {
      "cell_type": "code",
      "execution_count": null,
      "metadata": {
        "id": "2e67yg6t0FeF"
      },
      "outputs": [],
      "source": [
        "%%R\n",
        "test_df<-as.data.frame(test)\n",
        "test_df$GLM.SOC<-predict(glm_fit, new_data = test)\n"
      ]
    },
    {
      "cell_type": "code",
      "execution_count": null,
      "metadata": {
        "id": "cJhmG-Mt2rS9",
        "colab": {
          "base_uri": "https://localhost:8080/"
        },
        "outputId": "aca449bf-482b-4f64-aa2a-a51814b7c39a"
      },
      "outputs": [
        {
          "output_type": "stream",
          "name": "stdout",
          "text": [
            "[1] \"GLM.RMSE: 3.82\"\n"
          ]
        }
      ],
      "source": [
        "%%R\n",
        "GLM.RMSE<- Metrics::rmse(test_df$SOC, test_df$GLM.SOC$.pred)\n",
        "paste0(\"GLM.RMSE: \", round(GLM.RMSE,2))\n"
      ]
    },
    {
      "cell_type": "code",
      "execution_count": null,
      "metadata": {
        "colab": {
          "base_uri": "https://localhost:8080/"
        },
        "id": "JrGCLUuL2zNx",
        "outputId": "8971fe07-5ce3-48bf-8f03-475feb46c8f3"
      },
      "outputs": [
        {
          "output_type": "stream",
          "name": "stdout",
          "text": [
            "[1] \"GLM.MAE: 2.72\"\n"
          ]
        }
      ],
      "source": [
        "%%R\n",
        "GLM.MAE<- Metrics::mae(test_df$SOC, test_df$GLM.SOC$.pred)\n",
        "paste0(\"GLM.MAE: \", round(GLM.MAE,2))"
      ]
    },
    {
      "cell_type": "markdown",
      "source": [
        "### 1: 1 Plot of Predicted vs Observed values"
      ],
      "metadata": {
        "id": "ORsjNuji3HaW"
      }
    },
    {
      "cell_type": "code",
      "source": [
        "%%R -w 450 -h 400 -u px\n",
        "formula<-y~x\n",
        "\n",
        "ggplot(test_df, aes(SOC,GLM.SOC$.pred)) +\n",
        "  geom_point() +\n",
        "  geom_smooth(method = \"lm\")+\n",
        "  stat_poly_eq(use_label(c(\"eq\", \"adj.R2\")), formula = formula) +\n",
        "  ggtitle(\"Tidymodels: Observed vs Predicted SOC \") +\n",
        "  xlab(\"Observed\") + ylab(\"Predicted\") +\n",
        "  scale_x_continuous(limits=c(0,25), breaks=seq(0, 25, 5))+\n",
        "  scale_y_continuous(limits=c(0,25), breaks=seq(0, 25, 5)) +\n",
        "  # Flip the bars\n",
        "  theme(\n",
        "    panel.background = element_rect(fill = \"grey95\",colour = \"gray75\",size = 0.5, linetype = \"solid\"),\n",
        "    axis.line = element_line(colour = \"grey\"),\n",
        "    plot.title = element_text(size = 14, hjust = 0.5),\n",
        "    axis.title.x = element_text(size = 14),\n",
        "    axis.title.y = element_text(size = 14),\n",
        "    axis.text.x=element_text(size=13, colour=\"black\"),\n",
        "    axis.text.y=element_text(size=13,angle = 90,vjust = 0.5, hjust=0.5, colour='black'))"
      ],
      "metadata": {
        "colab": {
          "base_uri": "https://localhost:8080/",
          "height": 434
        },
        "id": "ZO29R4MvcIYg",
        "outputId": "aad1d2a6-a4cd-4bbd-d4da-b66176a33b79"
      },
      "execution_count": null,
      "outputs": [
        {
          "output_type": "stream",
          "name": "stdout",
          "text": [
            "`geom_smooth()` using formula = 'y ~ x'\n"
          ]
        },
        {
          "output_type": "display_data",
          "data": {
            "image/png": "[encoded data removed]"
          },
          "metadata": {}
        }
      ]
    },
    {
      "cell_type": "markdown",
      "metadata": {
        "id": "69Kwgfs56TLz"
      },
      "source": [
        "## GLM with h20"
      ]
    },
    {
      "cell_type": "markdown",
      "metadata": {
        "id": "NlyH4vW86W5O"
      },
      "source": [
        "The H2O package is an open-source software for data analysis and machine learning. It is designed to be fast, scalable, and easy to use. The package can be used in R, Python, and other programming languages, and it provides a variety of machine learning algorithms, including deep learning, gradient boosting, generalized linear models, and others.\n",
        "\n",
        "H2O is particularly well-suited for large datasets and can run on a single machine or a distributed cluster. It also offers automated machine learning (AutoML) capabilities, which can help users select the best algorithm and hyperparameters for their data.\n",
        "\n",
        "Some of the key features of the H2O package include:\n",
        "\n",
        "1.  Distributed computing: H2O can run on a cluster of machines and scale up to handle very large datasets. GPU acceleration: H2O supports GPU acceleration for certain algorithms, which can significantly speed up computation.\n",
        "\n",
        "2.  Automated machine learning: H2O's AutoML feature can automatically select the best algorithm and hyperparameters for a given dataset.\n",
        "\n",
        "3.  Interpretable machine learning: H2O provides tools for interpreting machine learning models and understanding their predictions.\n",
        "\n",
        "4.  Integration with popular programming languages: H2O can be used with R, Python, and other programming languages, making it accessible to a wide range of users.\n",
        "\n",
        "The h2o package provides an open-source implementation of GLM that is specifically designed for big data. To use the GLM function in h2o, you will need to first install and load the package in your R environment. Once the package is loaded, you can use the h2o.glm() function to fit a GLM model.\n",
        "\n",
        "#### Downloading & Installing H2O\n",
        "\n",
        "Detail instruction of downloading & installing H2O in R could be found [here](https://docs.h2o.ai/h2o/latest-stable/h2o-docs/downloading.html)\n",
        "\n",
        "Anyway, perform the following steps in R to install H2O. Copy and paste these commands one line at a time.\n",
        "\n",
        "1.  The following two commands remove any previously installed H2O packages for R.\n",
        "\n",
        "> if (\"package:h2o\" %in% search()) { detach(\"package:h2o\", unload=TRUE) }\n",
        "\n",
        "> if (\"h2o\" %in% rownames(installed.packages())) { remove.packages(\"h2o\") }\n",
        "\n",
        "2.  Next, download packages that H2O depends on\n",
        "\n",
        "> pkgs \\<- c(\"RCurl\",\"jsonlite\")\n",
        "\n",
        "> for (pkg in pkgs) { if (! (pkg %in% rownames(installed.packages()))) { install.packages(pkg) } }\n",
        "\n",
        "3.  Download and install the H2O package for R.\n",
        "\n",
        "> install.packages(\"h2o\", type=\"source\", repos=(c(\"http://h2o-release.s3.amazonaws.com/h2o/latest_stable_R\")))"
      ]
    },
    {
      "cell_type": "markdown",
      "source": [
        "### Import h2o"
      ],
      "metadata": {
        "id": "qV9gfKIj329k"
      }
    },
    {
      "cell_type": "code",
      "source": [
        "%%R\n",
        "library(h2o)\n",
        "h2o.init()\n",
        "#disable progress bar for RMarkdown\n",
        "h2o.no_progress()\n",
        "# Optional: remove anything from previous session\n",
        "h2o.removeAll()"
      ],
      "metadata": {
        "colab": {
          "base_uri": "https://localhost:8080/"
        },
        "id": "9ZBVe2gE39DZ",
        "outputId": "0cf7bece-5c13-4628-f0b8-08af082c7ce2"
      },
      "execution_count": null,
      "outputs": [
        {
          "output_type": "stream",
          "name": "stderr",
          "text": [
            "WARNING:rpy2.rinterface_lib.callbacks:R[write to console]: \n",
            "----------------------------------------------------------------------\n",
            "\n",
            "Your next step is to start H2O:\n",
            "    > h2o.init()\n",
            "\n",
            "For H2O package documentation, ask for help:\n",
            "    > ??h2o\n",
            "\n",
            "After starting H2O, you can use the Web UI at http://localhost:54321\n",
            "For more information visit https://docs.h2o.ai\n",
            "\n",
            "----------------------------------------------------------------------\n",
            "\n",
            "\n",
            "WARNING:rpy2.rinterface_lib.callbacks:R[write to console]: \n",
            "Attaching package: ‘h2o’\n",
            "\n",
            "\n",
            "WARNING:rpy2.rinterface_lib.callbacks:R[write to console]: The following objects are masked from ‘package:lubridate’:\n",
            "\n",
            "    day, hour, month, week, year\n",
            "\n",
            "\n",
            "WARNING:rpy2.rinterface_lib.callbacks:R[write to console]: The following objects are masked from ‘package:stats’:\n",
            "\n",
            "    cor, sd, var\n",
            "\n",
            "\n",
            "WARNING:rpy2.rinterface_lib.callbacks:R[write to console]: The following objects are masked from ‘package:base’:\n",
            "\n",
            "    &&, %*%, %in%, ||, apply, as.factor, as.numeric, colnames,\n",
            "    colnames<-, ifelse, is.character, is.factor, is.numeric, log,\n",
            "    log10, log1p, log2, round, signif, trunc\n",
            "\n",
            "\n"
          ]
        },
        {
          "output_type": "stream",
          "name": "stdout",
          "text": [
            "\n",
            "H2O is not running yet, starting it now...\n",
            "\n",
            "Note:  In case of errors look at the following log files:\n",
            "    /tmp/Rtmpt852cf/file11472b5056b/h2o_UnknownUser_started_from_r.out\n",
            "    /tmp/Rtmpt852cf/file11433f9ef00/h2o_UnknownUser_started_from_r.err\n",
            "\n",
            "\n",
            "Starting H2O JVM and connecting: ............ Connection successful!\n",
            "\n",
            "R is connected to the H2O cluster: \n",
            "    H2O cluster uptime:         3 seconds 455 milliseconds \n",
            "    H2O cluster timezone:       Etc/UTC \n",
            "    H2O data parsing timezone:  UTC \n",
            "    H2O cluster version:        3.42.0.2 \n",
            "    H2O cluster version age:    30 days \n",
            "    H2O cluster name:           H2O_started_from_R_root_yqz807 \n",
            "    H2O cluster total nodes:    1 \n",
            "    H2O cluster total memory:   3.17 GB \n",
            "    H2O cluster total cores:    2 \n",
            "    H2O cluster allowed cores:  2 \n",
            "    H2O cluster healthy:        TRUE \n",
            "    H2O Connection ip:          localhost \n",
            "    H2O Connection port:        54321 \n",
            "    H2O Connection proxy:       NA \n",
            "    H2O Internal Security:      FALSE \n",
            "    R Version:                  R version 4.3.1 (2023-06-16) \n",
            "\n"
          ]
        }
      ]
    },
    {
      "cell_type": "markdown",
      "source": [
        "### Data"
      ],
      "metadata": {
        "id": "4bNfuQ_n3qSD"
      }
    },
    {
      "cell_type": "code",
      "source": [
        "%%R\n",
        "# load data\n",
        "urlfile = \"https://github.com//zia207/r-colab/raw/main/Data/USA/gp_soil_data.csv\"\n",
        "mf<-read_csv(url(urlfile))\n",
        "# Create a data-frame\n",
        "df<-mf %>% dplyr::select(SOC, DEM, Slope, Aspect, TPI, KFactor, SiltClay, MAT, MAP,NDVI, NLCD, FRG)\n",
        "# convrt factor\n",
        "df$NLCD <- as.factor(df$NLCD)\n",
        "df$FRG <- as.factor(df$FRG)\n",
        "# Split data\n",
        "set.seed(1245)   # for reproducibility\n",
        "split <- initial_split(df, prop = 0.8, strata = SOC)\n",
        "train <- split %>% training()\n",
        "test <-  split %>% testing()\n",
        "# Scale data\n",
        "train[-c(1, 11,12)] = scale(train[-c(1,11,12)])\n",
        "test[-c(1, 11,12)] = scale(test[-c(1,11,12)])"
      ],
      "metadata": {
        "colab": {
          "base_uri": "https://localhost:8080/"
        },
        "id": "-HaCt00m3sGg",
        "outputId": "2002aa9f-1830-4235-dcf1-97079f1abfe7"
      },
      "execution_count": null,
      "outputs": [
        {
          "output_type": "stream",
          "name": "stdout",
          "text": [
            "Rows: 467 Columns: 19\n",
            "── Column specification ────────────────────────────────────────────────────────\n",
            "Delimiter: \",\"\n",
            "chr  (4): STATE, COUNTY, NLCD, FRG\n",
            "dbl (15): ID, FIPS, STATE_ID, Longitude, Latitude, SOC, DEM, Aspect, Slope, ...\n",
            "\n",
            "ℹ Use `spec()` to retrieve the full column specification for this data.\n",
            "ℹ Specify the column types or set `show_col_types = FALSE` to quiet this message.\n"
          ]
        }
      ]
    },
    {
      "cell_type": "markdown",
      "metadata": {
        "id": "PsNyG9N_7d8Q"
      },
      "source": [
        "#### Import data to h2o cluster"
      ]
    },
    {
      "cell_type": "code",
      "execution_count": null,
      "metadata": {
        "id": "8ylVHjNd7eEE"
      },
      "outputs": [],
      "source": [
        "%%R\n",
        "h_df=as.h2o(df)\n",
        "h_train = as.h2o(train)\n",
        "h_test = as.h2o(test)"
      ]
    },
    {
      "cell_type": "code",
      "execution_count": null,
      "metadata": {
        "id": "Axl-qwFd7jUA"
      },
      "outputs": [],
      "source": [
        "%%R\n",
        "CV.xy<- as.data.frame(h_train)\n",
        "test.xy<- as.data.frame(h_test)"
      ]
    },
    {
      "cell_type": "markdown",
      "metadata": {
        "id": "f1B08sTl7sWS"
      },
      "source": [
        "### Define response and predictors"
      ]
    },
    {
      "cell_type": "code",
      "execution_count": null,
      "metadata": {
        "id": "xj3-yaLV7sgA"
      },
      "outputs": [],
      "source": [
        "%%R\n",
        "y <- \"SOC\"\n",
        "x <- setdiff(names(h_df), y)"
      ]
    },
    {
      "cell_type": "markdown",
      "metadata": {
        "id": "WwRz7UQh73I5"
      },
      "source": [
        "### Fit a GLM\n",
        "\n",
        "We fit fit a GLM using **h2o.glm()** function with following parameters:\n",
        "\n",
        " * family = \"gaussian\",  Family. Use binomial for classification with logistic regression, others are for regression problems. Must be one of: \"AUTO\", \"gaussian\", \"binomial\", \"fractionalbinomial\", \"quasibinomial\", \"ordinal\", \"multinomial\", \"poisson\", \"gamma\", \"tweedie\", \"negativebinomial\". Defaults to AUTO.\n",
        " *  compute_p_values = TRUE, Logical. Request p-values computation, p-values work only with IRLSM solver and no regularization Defaults to FALSE.\n",
        " * nfolds = 10, Number of folds for K-fold cross-validation, 0 to disable or >= 2). Defaults to 0.\n",
        " * keep_cross_validation_models = TRUE, logical. Whether to keep the cross-validation models.Defaults to TRUE.\n",
        " * early_stopping = TRUE, Logical. Stop early when there is no more relative improvement on train or validation (if provided). Defaults to TRUE\n",
        " * stopping_rounds = 2, Early stopping based on convergence of stopping_metric.  Stop if simple moving average of length k of the stopping_metric does not improve for k:=stopping_rounds scoring events (0 to disable). Defaults to 0.\n",
        " * stopping_metric = \"RMSE\", Metric to use for early stopping\n",
        " * remove_collinear_columns = TRUE, Logical. In case of linearly dependent columns, remove some of the dependent columns Defaults to FALSE.\n",
        " * standardize = FALSE, Logical. Standardize numeric columns to have zero mean  and unit variance Defaults to TRUE.\n",
        " seed = 212, Set the random seed so that this can be reproduced."
      ]
    },
    {
      "cell_type": "code",
      "execution_count": null,
      "metadata": {
        "id": "V-jj_AWD73rk"
      },
      "outputs": [],
      "source": [
        "%%R\n",
        "glm_h2o <- h2o.glm(                    ## h2o.glm function\n",
        "  training_frame = h_train,            ## the H2O frame for training\n",
        "  # validation_frame = valid,          ## the H2O frame for validation (not required)\n",
        "  x=x,                                 ## the predictor columns, by column index\n",
        "  y=y,                                 ## the target index (what we are predicting)\n",
        "  model_id = \"GLM_MODEL_ID\",           ## name the model in H2O\n",
        "  family = \"gaussian\",\n",
        "  compute_p_values = TRUE,\n",
        "  nfolds = 10,\n",
        "  keep_cross_validation_models = TRUE,\n",
        "  early_stopping = TRUE,\n",
        "  stopping_rounds = 2,\n",
        "  stopping_metric = \"RMSE\",\n",
        "  remove_collinear_columns = TRUE,\n",
        "  standardize = FALSE,\n",
        "  seed = 212)"
      ]
    },
    {
      "cell_type": "markdown",
      "metadata": {
        "id": "08A4wZxy8GVR"
      },
      "source": [
        "### Coefficients table"
      ]
    },
    {
      "cell_type": "code",
      "execution_count": null,
      "metadata": {
        "colab": {
          "base_uri": "https://localhost:8080/"
        },
        "id": "t9lFN-iQ8Ge0",
        "outputId": "b75d6134-0ecf-443d-d66d-e3a467a3de6c"
      },
      "outputs": [
        {
          "output_type": "stream",
          "name": "stdout",
          "text": [
            "Coefficients: glm coefficients\n",
            "                       names coefficients std_error   z_value  p_value\n",
            "1                  Intercept     5.661200  1.864668  3.036037 0.002575\n",
            "2    FRG.Fire Regime Group I    -1.883452  2.076237 -0.907147 0.364948\n",
            "3   FRG.Fire Regime Group II     1.435515  1.794847  0.799798 0.424366\n",
            "4  FRG.Fire Regime Group III    -0.313904  1.930391 -0.162611 0.870917\n",
            "5   FRG.Fire Regime Group IV     0.091602  1.937823  0.047270 0.962324\n",
            "6    FRG.Fire Regime Group V    -1.971971  2.332038 -0.845600 0.398349\n",
            "7      FRG.Indeterminate FRG     0.000000        NA        NA       NA\n",
            "8                NLCD.Forest     1.287993  0.937674  1.373604 0.170436\n",
            "9            NLCD.Herbaceous    -0.216973  0.736699 -0.294521 0.768533\n",
            "10   NLCD.Planted/Cultivated    -0.500605  0.926760 -0.540167 0.589423\n",
            "11            NLCD.Shrubland     0.000000        NA        NA       NA\n",
            "12                       DEM    -0.069317  0.651929 -0.106326 0.915384\n",
            "13                     Slope     0.859260  0.384628  2.234001 0.026109\n",
            "14                    Aspect     0.103049  0.227290  0.453381 0.650553\n",
            "15                       TPI    -0.109284  0.208101 -0.525149 0.599809\n",
            "16                   KFactor     0.033215  0.318965  0.104133 0.917123\n",
            "17                  SiltClay     0.410322  0.313778  1.307686 0.191831\n",
            "18                       MAT    -1.338293  0.504557 -2.652410 0.008353\n",
            "19                       MAP     1.268694  0.451311  2.811132 0.005212\n",
            "20                      NDVI     1.114825  0.481752  2.314104 0.021236\n",
            "   standardized_coefficients\n",
            "1                   5.661200\n",
            "2                  -1.883452\n",
            "3                   1.435515\n",
            "4                  -0.313904\n",
            "5                   0.091602\n",
            "6                  -1.971971\n",
            "7                   0.000000\n",
            "8                   1.287993\n",
            "9                  -0.216973\n",
            "10                 -0.500605\n",
            "11                  0.000000\n",
            "12                 -0.069317\n",
            "13                  0.859260\n",
            "14                  0.103049\n",
            "15                 -0.109284\n",
            "16                  0.033215\n",
            "17                  0.410322\n",
            "18                 -1.338293\n",
            "19                  1.268694\n",
            "20                  1.114825\n"
          ]
        }
      ],
      "source": [
        "%%R\n",
        "glm_h2o@model$coefficients_table"
      ]
    },
    {
      "cell_type": "markdown",
      "metadata": {
        "id": "OhSAh21y8QQ-"
      },
      "source": [
        "### Retrieve a graphical plot of the standardized coefficient magnitudes"
      ]
    },
    {
      "cell_type": "code",
      "execution_count": null,
      "metadata": {
        "colab": {
          "base_uri": "https://localhost:8080/",
          "height": 517
        },
        "id": "Z_TwkyEh8QZY",
        "outputId": "e197bc2b-12ec-47d3-9b83-cddee0378fdf"
      },
      "outputs": [
        {
          "output_type": "display_data",
          "data": {
            "image/png": "[encoded data removed]"
          },
          "metadata": {}
        }
      ],
      "source": [
        "%%R -w 450 -h 500 -u px\n",
        "h2o.std_coef_plot(glm_h2o)"
      ]
    },
    {
      "cell_type": "markdown",
      "metadata": {
        "id": "ii7pgDHi8cIN"
      },
      "source": [
        "### Model Performance"
      ]
    },
    {
      "cell_type": "code",
      "execution_count": null,
      "metadata": {
        "colab": {
          "base_uri": "https://localhost:8080/"
        },
        "id": "jdodZIWx8cQ-",
        "outputId": "eaf8d846-2706-4b64-f18f-e8777473e1e5"
      },
      "outputs": [
        {
          "output_type": "stream",
          "name": "stdout",
          "text": [
            "H2ORegressionMetrics: glm\n",
            "\n",
            "MSE:  14.37004\n",
            "RMSE:  3.790783\n",
            "MAE:  2.635867\n",
            "RMSLE:  0.4941047\n",
            "Mean Residual Deviance :  14.37004\n",
            "R^2 :  0.4267247\n",
            "Null Deviance :9299.692\n",
            "Null D.o.F. :370\n",
            "Residual Deviance :5331.283\n",
            "Residual D.o.F. :353\n",
            "AIC :2079.621\n",
            "\n"
          ]
        }
      ],
      "source": [
        "%%R\n",
        "# training\n",
        "h2o.performance(glm_h2o, h_train)"
      ]
    },
    {
      "cell_type": "code",
      "execution_count": null,
      "metadata": {
        "colab": {
          "base_uri": "https://localhost:8080/"
        },
        "id": "2UFDlco34Ykk",
        "outputId": "d29379bc-64fe-4a19-f5b8-c08585ac2614"
      },
      "outputs": [
        {
          "output_type": "stream",
          "name": "stdout",
          "text": [
            "H2ORegressionMetrics: glm\n",
            "** Reported on cross-validation data. **\n",
            "** 10-fold cross-validation on training data (Metrics computed for combined holdout predictions) **\n",
            "\n",
            "MSE:  16.02854\n",
            "RMSE:  4.003567\n",
            "MAE:  2.775821\n",
            "RMSLE:  0.5177218\n",
            "Mean Residual Deviance :  16.02854\n",
            "R^2 :  0.3605605\n",
            "Null Deviance :9384.695\n",
            "Null D.o.F. :370\n",
            "Residual Deviance :5946.59\n",
            "Residual D.o.F. :353\n",
            "AIC :2120.144\n",
            "\n"
          ]
        }
      ],
      "source": [
        "%%R\n",
        "# CV-performance\n",
        "h2o.performance(glm_h2o, xval=TRUE)"
      ]
    },
    {
      "cell_type": "code",
      "execution_count": null,
      "metadata": {
        "colab": {
          "base_uri": "https://localhost:8080/"
        },
        "id": "vuXnrEuT4YuD",
        "outputId": "bf31c77e-1392-4d18-b9be-94bc681c6a0b"
      },
      "outputs": [
        {
          "output_type": "stream",
          "name": "stdout",
          "text": [
            "H2ORegressionMetrics: glm\n",
            "\n",
            "MSE:  12.27149\n",
            "RMSE:  3.503068\n",
            "MAE:  2.671704\n",
            "RMSLE:  NaN\n",
            "Mean Residual Deviance :  12.27149\n",
            "R^2 :  0.5401077\n",
            "Null Deviance :2563.204\n",
            "Null D.o.F. :95\n",
            "Residual Deviance :1178.063\n",
            "Residual D.o.F. :78\n",
            "AIC :551.1349\n",
            "\n"
          ]
        }
      ],
      "source": [
        "%%R\n",
        "# test performance\n",
        "h2o.performance(glm_h2o, h_test)"
      ]
    },
    {
      "cell_type": "markdown",
      "metadata": {
        "id": "qA7RmH8J8hLx"
      },
      "source": [
        "### Prediction"
      ]
    },
    {
      "cell_type": "code",
      "execution_count": null,
      "metadata": {
        "id": "mneYlJpF8hXe"
      },
      "outputs": [],
      "source": [
        "%%R\n",
        "pred.glm <- as.data.frame(h2o.predict(object = glm_h2o, newdata = h_test))\n",
        "test.xy$GLM_SOC<-pred.glm$predict"
      ]
    },
    {
      "cell_type": "code",
      "execution_count": null,
      "metadata": {
        "colab": {
          "base_uri": "https://localhost:8080/",
          "height": 434
        },
        "id": "HM5feaxc848a",
        "outputId": "a9a7c0eb-1a2a-4ebb-fed1-8c7ab59e9804"
      },
      "outputs": [
        {
          "output_type": "stream",
          "name": "stdout",
          "text": [
            "`geom_smooth()` using formula = 'y ~ x'\n"
          ]
        },
        {
          "output_type": "display_data",
          "data": {
            "image/png": "[encoded data removed]"
          },
          "metadata": {}
        }
      ],
      "source": [
        "%%R -w 450 -h 400 -u px\n",
        "formula<-y~x\n",
        "ggplot(test.xy, aes(SOC,GLM_SOC)) +\n",
        "  geom_point() +\n",
        "  geom_smooth(method = \"lm\")+\n",
        "  stat_poly_eq(use_label(c(\"eq\", \"adj.R2\")), formula = formula) +\n",
        "  ggtitle(\"H2O: Observed vs Predicted SOC \") +\n",
        "  xlab(\"Observed\") + ylab(\"Predicted\") +\n",
        "  scale_x_continuous(limits=c(0,25), breaks=seq(0, 25, 5))+\n",
        "  scale_y_continuous(limits=c(0,25), breaks=seq(0, 25, 5)) +\n",
        "  # Flip the bars\n",
        "  theme(\n",
        "    panel.background = element_rect(fill = \"grey95\",colour = \"gray75\",size = 0.5, linetype = \"solid\"),\n",
        "    axis.line = element_line(colour = \"grey\"),\n",
        "    plot.title = element_text(size = 14, hjust = 0.5),\n",
        "    axis.title.x = element_text(size = 14),\n",
        "    axis.title.y = element_text(size = 14),\n",
        "    axis.text.x=element_text(size=13, colour=\"black\"),\n",
        "    axis.text.y=element_text(size=13,angle = 90,vjust = 0.5, hjust=0.5, colour='black'))"
      ]
    },
    {
      "cell_type": "markdown",
      "source": [
        "### Further Reading\n",
        "\n",
        "1.  [GLM in R: Generalized Linear Model](https://www.datacamp.com/tutorial/generalized-linear-models)\n",
        "\n",
        "2.  [GLM in R: Generalized Linear Model with Example](https://www.guru99.com/r-generalized-linear-model.html)\n",
        "\n",
        "3.  [useR! Machine Learning Tutorial](https://koalaverse.github.io/machine-learning-in-R/)\n",
        "\n",
        "4.  [caret](https://topepo.github.io/caret/)\n",
        "\n",
        "5.  [tidymodels](https://www.tidymodels.org/)\n",
        "\n",
        "6.  [H2O Generalized Linear Model (GLM)](https://docs.h2o.ai/h2o/latest-stable/h2o-docs/data-science/glm.html)\n"
      ],
      "metadata": {
        "id": "CDODHnPoacDu"
      }
    }
  ],
  "metadata": {
    "colab": {
      "provenance": [],
      "authorship_tag": "ABX9TyOCmfMfj6bsEzvRwax5dBKM",
      "include_colab_link": true
    },
    "kernelspec": {
      "display_name": "Python 3",
      "name": "python3"
    },
    "language_info": {
      "name": "python"
    }
  },
  "nbformat": 4,
  "nbformat_minor": 0
}