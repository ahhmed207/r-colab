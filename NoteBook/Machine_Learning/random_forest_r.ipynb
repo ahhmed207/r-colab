{
  "nbformat": 4,
  "nbformat_minor": 0,
  "metadata": {
    "colab": {
      "provenance": [],
      "authorship_tag": "ABX9TyPptu4QGoZ5xWyjetR6gANf",
      "include_colab_link": true
    },
    "kernelspec": {
      "name": "python3",
      "display_name": "Python 3"
    },
    "language_info": {
      "name": "python"
    }
  },
  "cells": [
    {
      "cell_type": "markdown",
      "metadata": {
        "id": "view-in-github",
        "colab_type": "text"
      },
      "source": [
        "<a href=\"https://colab.research.google.com/github/zia207/r-colab/blob/main/NoteBook/Machine_Learning/random_forest_r.ipynb\" target=\"_parent\"><img src=\"https://colab.research.google.com/assets/colab-badge.svg\" alt=\"Open In Colab\"/></a>"
      ]
    },
    {
      "cell_type": "markdown",
      "source": [
        "# Random Forest (RF) Regreesion Model in R\n",
        "\n",
        "Zia Ahmed, University at Buffalo"
      ],
      "metadata": {
        "id": "4k-GCfu6jwEm"
      }
    },
    {
      "cell_type": "markdown",
      "source": [
        "Random Forest (RF) is a tree-based machine learning algorithm used for classification, regression, and other tasks in data analysis. It is a popular and robust algorithm that builds multiple decision trees and combines their predictions to make a final prediction. RF is a modification of Bagging (bootstrap aggregating) regression trees that builds a large collection of de-correlated trees and has become a very popular \"out-of-the-box\" learning algorithm that has low variance and higher predictive power than traditional bagging models.\n",
        "\n",
        "Each decision tree in the Random Forest is constructed by randomly selecting a subset of the available features and then building a tree based on those features. This process is repeated a specified number of times, resulting in multiple decision trees. When a new data point needs to be classified, each tree in the forest is used to make a prediction, and the final prediction is based on the most common prediction made by all the trees.\n",
        "\n",
        "Random Forest is a robust algorithm because it can handle large datasets with many features and is also resistant to overfitting, which can occur when a model is too complex and fits the training data too closely. Random Forest works by using ensemble learning, which means combining the predictions of multiple models to improve accuracy and reduce errors.\n",
        "\n",
        "\n",
        "Here is how Random Forest works step by step:\n",
        "\n",
        "1.  Randomly select a subset of the dataset.\n",
        "\n",
        "2.  Construct a decision tree on the selected subset of the dataset.\n",
        "\n",
        "3.  Repeat steps 1 and 2 to construct multiple decision trees.\n",
        "\n",
        "4.  Pass each input through all the decision trees and record their outputs.\n",
        "\n",
        "5.  Determine the final output based on the majority vote (classification) or mean prediction (regression) of the decision trees."
      ],
      "metadata": {
        "id": "X1zi94Yn3lqx"
      }
    },
    {
      "cell_type": "markdown",
      "source": [
        "### Install Python Package  rpy2"
      ],
      "metadata": {
        "id": "NqEJtwHrmD5q"
      }
    },
    {
      "cell_type": "code",
      "source": [
        "!pip uninstall rpy2 -y\n",
        "!pip install rpy2==3.5.1\n",
        "%load_ext rpy2.ipython"
      ],
      "metadata": {
        "id": "E_N8gl2bl7PK",
        "colab": {
          "base_uri": "https://localhost:8080/"
        },
        "outputId": "f02fe945-d6a2-4478-bda7-32d7778aeaf7"
      },
      "execution_count": null,
      "outputs": [
        {
          "output_type": "stream",
          "name": "stdout",
          "text": [
            "Found existing installation: rpy2 3.5.1\n",
            "Uninstalling rpy2-3.5.1:\n",
            "  Successfully uninstalled rpy2-3.5.1\n",
            "Collecting rpy2==3.5.1\n",
            "  Using cached rpy2-3.5.1-cp310-cp310-linux_x86_64.whl\n",
            "Requirement already satisfied: cffi>=1.10.0 in /usr/local/lib/python3.10/dist-packages (from rpy2==3.5.1) (1.15.1)\n",
            "Requirement already satisfied: jinja2 in /usr/local/lib/python3.10/dist-packages (from rpy2==3.5.1) (3.1.2)\n",
            "Requirement already satisfied: pytz in /usr/local/lib/python3.10/dist-packages (from rpy2==3.5.1) (2023.3)\n",
            "Requirement already satisfied: tzlocal in /usr/local/lib/python3.10/dist-packages (from rpy2==3.5.1) (5.0.1)\n",
            "Requirement already satisfied: pycparser in /usr/local/lib/python3.10/dist-packages (from cffi>=1.10.0->rpy2==3.5.1) (2.21)\n",
            "Requirement already satisfied: MarkupSafe>=2.0 in /usr/local/lib/python3.10/dist-packages (from jinja2->rpy2==3.5.1) (2.1.3)\n",
            "Installing collected packages: rpy2\n",
            "Successfully installed rpy2-3.5.1\n"
          ]
        }
      ]
    },
    {
      "cell_type": "markdown",
      "source": [
        "### Mount Google Drive"
      ],
      "metadata": {
        "id": "ZxeSpc8emJa4"
      }
    },
    {
      "cell_type": "code",
      "source": [
        "from google.colab import drive\n",
        "drive.mount('/content/drive')"
      ],
      "metadata": {
        "colab": {
          "base_uri": "https://localhost:8080/"
        },
        "id": "aqn-uBZ8mJkg",
        "outputId": "b2d5167c-76da-4046-b7fa-f9aae70ff0a7"
      },
      "execution_count": null,
      "outputs": [
        {
          "output_type": "stream",
          "name": "stdout",
          "text": [
            "Drive already mounted at /content/drive; to attempt to forcibly remount, call drive.mount(\"/content/drive\", force_remount=True).\n"
          ]
        }
      ]
    },
    {
      "cell_type": "markdown",
      "source": [
        "### Install Required R Packages"
      ],
      "metadata": {
        "id": "NBw7KRZymOoo"
      }
    },
    {
      "cell_type": "code",
      "source": [
        "%%R\n",
        "pkg <- c('tidyverse', 'tidymodels', 'caret', 'Metrics', 'ggpmisc', 'vip', 'patchwork','randomForest','ranger')\n",
        "new.packages <- pkg[!(pkg %in% installed.packages(lib='drive/My Drive/R/')[,\"Package\"])]\n",
        "if(length(new.packages)) install.packages(new.packages, lib='drive/My Drive/R/')"
      ],
      "metadata": {
        "id": "lru0YQwAIKNm"
      },
      "execution_count": null,
      "outputs": []
    },
    {
      "cell_type": "markdown",
      "source": [
        "### Downloading & Installing H2O\n",
        "\n",
        "Detail instruction of downloading & installing H2O in R could be found [here](https://docs.h2o.ai/h2o/latest-stable/h2o-docs/downloading.html)\n",
        "\n",
        "Anyway, perform the following steps in R to install H2O. Copy and paste these commands one line at a time."
      ],
      "metadata": {
        "id": "CDj3JYL9K0hq"
      }
    },
    {
      "cell_type": "code",
      "source": [
        "%%R\n",
        "# The following two commands remove any previously installed H2O packages for R.\n",
        "if (\"package:h2o\" %in% search()) { detach(\"package:h2o\", unload=TRUE) }\n",
        "if (\"h2o\" %in% rownames(installed.packages())) { remove.packages(\"h2o\") }\n",
        "\n",
        "# Next, download packages that H2O depends on\n",
        "pkgs <- c(\"RCurl\",\"jsonlite\")\n",
        "for (pkg in pkgs) {\n",
        "  if (! (pkg %in% rownames(installed.packages(lib='drive/My Drive/R/')))) { install.packages(pkg) }\n",
        "}\n",
        "\n",
        "# Download and install the latest vesion of H2O\n",
        "install.packages(\"h2o\", type=\"source\",lib='drive/My Drive/R/', repos=(c(\"http://h2o-release.s3.amazonaws.com/h2o/latest_stable_R\"))"
      ],
      "metadata": {
        "id": "6jI0MOmDnNjM"
      },
      "execution_count": null,
      "outputs": []
    },
    {
      "cell_type": "markdown",
      "source": [
        "### Load Packages"
      ],
      "metadata": {
        "id": "HBGfcbhAnRqG"
      }
    },
    {
      "cell_type": "code",
      "execution_count": null,
      "metadata": {
        "id": "97Ww9yFOeNp0"
      },
      "outputs": [],
      "source": [
        "%%R\n",
        "# set library path\n",
        ".libPaths('drive/My Drive/R')\n",
        "library(tidyverse)\n",
        "library(tidymodels)\n",
        "library(caret)\n",
        "library(randomForest)\n",
        "library(ranger)\n",
        "library(ggpmisc)\n",
        "library(vip)"
      ]
    },
    {
      "cell_type": "markdown",
      "source": [
        "### Data\n",
        "\n",
        "In this exercise we will use the following data set to fit an RF regression model.\n",
        "\n",
        "[gp_soil_data.csv](https://www.dropbox.com/s/9ikm5yct36oflei/gp_soil_data.csv?dl=0)"
      ],
      "metadata": {
        "id": "tcnKM7-ZoOgQ"
      }
    },
    {
      "cell_type": "code",
      "source": [
        "%%R\n",
        "# Read file from github\n",
        "urlfile = \"https://github.com//zia207/r-colab/raw/main/Data/USA/gp_soil_data.csv\"\n",
        "mf<-read_csv(url(urlfile))\n",
        "# Create a data-frame\n",
        "df<-mf %>% dplyr::select(SOC, DEM, Slope, Aspect, TPI, KFactor, SiltClay, MAT, MAP,NDVI, NLCD, FRG)%>%\n",
        "    glimpse()"
      ],
      "metadata": {
        "colab": {
          "base_uri": "https://localhost:8080/"
        },
        "id": "Bg2Nr19coNQ0",
        "outputId": "8bbaa31c-42ab-4969-bd5f-a21fccea722f"
      },
      "execution_count": null,
      "outputs": [
        {
          "output_type": "stream",
          "name": "stdout",
          "text": [
            "Rows: 467 Columns: 19\n",
            "── Column specification ────────────────────────────────────────────────────────\n",
            "Delimiter: \",\"\n",
            "chr  (4): STATE, COUNTY, NLCD, FRG\n",
            "dbl (15): ID, FIPS, STATE_ID, Longitude, Latitude, SOC, DEM, Aspect, Slope, ...\n",
            "\n",
            "ℹ Use `spec()` to retrieve the full column specification for this data.\n",
            "ℹ Specify the column types or set `show_col_types = FALSE` to quiet this message.\n",
            "Rows: 467\n",
            "Columns: 12\n",
            "$ SOC      <dbl> 15.763, 15.883, 18.142, 10.745, 10.479, 16.987, 24.954, 6.288…\n",
            "$ DEM      <dbl> 2229.079, 1889.400, 2423.048, 2484.283, 2396.195, 2360.573, 2…\n",
            "$ Slope    <dbl> 5.6716146, 8.9138117, 4.7748051, 7.1218114, 7.9498644, 9.6632…\n",
            "$ Aspect   <dbl> 159.1877, 156.8786, 168.6124, 198.3536, 201.3215, 208.9732, 2…\n",
            "$ TPI      <dbl> -0.08572358, 4.55913162, 2.60588670, 5.14693117, 3.75570583, …\n",
            "$ KFactor  <dbl> 0.31999999, 0.26121211, 0.21619999, 0.18166667, 0.12551020, 0…\n",
            "$ SiltClay <dbl> 64.84270, 72.00455, 57.18700, 54.99166, 51.22857, 45.02000, 5…\n",
            "$ MAT      <dbl> 4.5951686, 3.8599243, 0.8855000, 0.4707811, 0.7588266, 1.3586…\n",
            "$ MAP      <dbl> 468.3245, 536.3522, 859.5509, 869.4724, 802.9743, 1121.2744, …\n",
            "$ NDVI     <dbl> 0.4139390, 0.6939532, 0.5466033, 0.6191013, 0.5844722, 0.6028…\n",
            "$ NLCD     <chr> \"Shrubland\", \"Shrubland\", \"Forest\", \"Forest\", \"Forest\", \"Fore…\n",
            "$ FRG      <chr> \"Fire Regime Group IV\", \"Fire Regime Group IV\", \"Fire Regime …\n"
          ]
        }
      ]
    },
    {
      "cell_type": "markdown",
      "source": [
        "### Data Pre-processing"
      ],
      "metadata": {
        "id": "OmFzqLnEoLNc"
      }
    },
    {
      "cell_type": "markdown",
      "source": [
        "### Convert to factors\n",
        "\n",
        "**as.factor()** function is used to convert the passed object(usually Vector) into a Factor."
      ],
      "metadata": {
        "id": "p6wzAUUuoVhU"
      }
    },
    {
      "cell_type": "code",
      "source": [
        "%%R\n",
        "df$NLCD <- as.factor(df$NLCD)\n",
        "df$FRG <- as.factor(df$FRG)"
      ],
      "metadata": {
        "id": "64UXUS5Voa7M"
      },
      "execution_count": null,
      "outputs": []
    },
    {
      "cell_type": "markdown",
      "source": [
        "#### Split data to training and validation\n",
        "\n",
        "We use **rsample** package (installed with **tidymodels**), to split data into training (70%) and test data (30%) set with Stratified Random Sampling. initial_split() creates a single binary split of the data into a training set and testing set.\n",
        "\n",
        "**Stratified random sampling** is a technique for selecting a representative sample from a population, where the sample is chosen in a way that ensures that certain subgroups within the population are adequately represented in the sample."
      ],
      "metadata": {
        "id": "9ka7BqlGoLcu"
      }
    },
    {
      "cell_type": "code",
      "source": [
        "%%R -w 450 -h 400 -u px\n",
        "# set seed for reproducibility\n",
        "set.seed(1245)\n",
        "split <- initial_split(df, prop = 0.8, strata = SOC)\n",
        "# training data\n",
        "train <- split %>% training()\n",
        "# Validation data\n",
        "test <-  split %>% testing()\n",
        "\n",
        "# Density plot all, train and test data\n",
        "ggplot()+\n",
        "  geom_density(data = df, aes(SOC))+\n",
        "  geom_density(data = train, aes(SOC), color = \"green\")+\n",
        "  geom_density(data = test, aes(SOC), color = \"red\") +\n",
        "      xlab(\"Soil Organic Carbon (kg/g)\") +\n",
        "     ylab(\"Density\")"
      ],
      "metadata": {
        "colab": {
          "base_uri": "https://localhost:8080/",
          "height": 417
        },
        "id": "MqZF0BMToKh3",
        "outputId": "2fb59446-d105-47f8-dcbc-49a9c967b28b"
      },
      "execution_count": null,
      "outputs": [
        {
          "output_type": "display_data",
          "data": {
            "image/png": "[encoded data removed]"
          },
          "metadata": {}
        }
      ]
    },
    {
      "cell_type": "markdown",
      "source": [
        "### Feature Scaling\n",
        "\n",
        "**Scale()** is a built-in R function that centers and/or scales the columns of a numeric matrix by default."
      ],
      "metadata": {
        "id": "mRm_R-QEozVN"
      }
    },
    {
      "cell_type": "code",
      "source": [
        "%%R\n",
        "train[-c(1, 11,12)] = scale(train[-c(1,11,12)])\n",
        "test[-c(1, 11,12)] = scale(test[-c(1,11,12)])"
      ],
      "metadata": {
        "id": "WKcRTop6ozcv"
      },
      "execution_count": null,
      "outputs": []
    },
    {
      "cell_type": "markdown",
      "source": [
        "## Random Forest Regression Model with randomForest package\n",
        "\n",
        "The randomForest R package widely implements the random forest algorithm for building decision trees in machine learning. Random forests are an ensemble learning method that builds multiple decision trees and aggregates their predictions to make a final prediction. This can help to reduce overfitting and increase the accuracy of the model.\n",
        "\n",
        "The randomForest package in R provides a simple interface for building random forests. It allows the user to specify the number of trees to build, the number of variables to sample at each split, and other hyperparameters. The package also includes functions for visualizing the random forest model, as well as methods for predicting new data and assessing model performance.\n",
        "\n",
        "To get started with the randomForest package, you can install it from CRAN using the following code:\n",
        "\n",
        "> install.packages(\"randomForest)"
      ],
      "metadata": {
        "id": "fz3I9PAKl3XW"
      }
    },
    {
      "cell_type": "markdown",
      "source": [
        "\n",
        "\n",
        "We can fit a random forest model using the **randomForest()** function, which implements Breiman's random forest algorithm (based on Breiman and Cutler's original Fortran code) for classification and regression. It can also be used in unsupervised mode for assessing proximities among data points.\n",
        "\n",
        "The following parametrs will be used to fit a RF model:\n",
        "\n",
        "-   ntree: 100, Number of trees to grow. This should not be set to too small a number, to ensure that every input row gets predicted at least a few time\n",
        "\n",
        "-   mtry: 8, Number of variables randomly sampled as candidates at each split. Note that the default values are different for classification (sqrt(p) where p is number of variables in x) and regression (p/3)\n",
        "\n",
        "-   nodesize: 5, Minimum size of terminal nodes. Setting this number larger causes smaller trees to be grown (and thus take less time). Note that the default values are different for classification (1) and regression (5).\n",
        "\n",
        "-   maxnode: 5, Maximum number of terminal nodes trees in the forest can have. If not given, trees are grown to the maximum possible (subject to limits by nodesize). If set larger than maximum possible, a warning is issued.\n",
        "\n",
        "-   keep.forest:  TRUE, If set to FALSE, the forest will not be retained in the output object. If xtest is given, defaults to FALSE.\n",
        "\n",
        "-   importance: TRUE, Should importance of predictors be assessed\n",
        "\n",
        "\n"
      ],
      "metadata": {
        "id": "cFiEg3zjo_vE"
      }
    },
    {
      "cell_type": "code",
      "source": [
        "%%R\n",
        "# for reproducibility\n",
        "set.seed(123)\n",
        "# fit RF model\n",
        "rf.fit <- randomForest(SOC ~ ., data=train,\n",
        "                       ntree=500,\n",
        "                       mtry = 8,\n",
        "                       nodesize = 110,\n",
        "                       #maxnode = 5,\n",
        "                       importance=TRUE)\n",
        "# model summary\n",
        "print(rf.fit)"
      ],
      "metadata": {
        "id": "Ag3tGZbVnYuv",
        "colab": {
          "base_uri": "https://localhost:8080/"
        },
        "outputId": "4cfabb3f-f13d-4282-8a0f-a4543e9483ad"
      },
      "execution_count": null,
      "outputs": [
        {
          "output_type": "stream",
          "name": "stdout",
          "text": [
            "\n",
            "Call:\n",
            " randomForest(formula = SOC ~ ., data = train, ntree = 500, mtry = 8,      nodesize = 110, importance = TRUE) \n",
            "               Type of random forest: regression\n",
            "                     Number of trees: 500\n",
            "No. of variables tried at each split: 8\n",
            "\n",
            "          Mean of squared residuals: 16.26973\n",
            "                    % Var explained: 35.09\n"
          ]
        }
      ]
    },
    {
      "cell_type": "markdown",
      "source": [
        "### Plot model error"
      ],
      "metadata": {
        "id": "UQjpxKSWbZX9"
      }
    },
    {
      "cell_type": "code",
      "source": [
        "%%R -w 425 -h 400 -u px\n",
        "plot(rf.fit, main= \"RF Model Error\")"
      ],
      "metadata": {
        "colab": {
          "base_uri": "https://localhost:8080/",
          "height": 417
        },
        "id": "r8amfXJIpUwo",
        "outputId": "453e6d3f-7df0-4ac7-bd84-4b21c16b73f9"
      },
      "execution_count": null,
      "outputs": [
        {
          "output_type": "display_data",
          "data": {
            "image/png": "[encoded data removed]"
          },
          "metadata": {}
        }
      ]
    },
    {
      "cell_type": "markdown",
      "source": [
        "### Feature Importance\n",
        "\n",
        "The feature importance in Random Forest is a measure of the influence of each feature on the model's accuracy. It is calculated by dividing the importance of each variable by its relative influence on the tree building process (i.e., whether the variable was chosen to split on) and the squared error (decreased across all trees) as a result of this. The significance of a feature in Random Forest is the sum of its importance across all decision trees.\n",
        "\n",
        "There are different methods to calculate feature importance in Random Forest. The most commonly used methods are:\n",
        "\n",
        "***Gini Importance***: It measures the total reduction of the Gini index, which is a measure of impurity, that is achieved by each feature. A higher reduction in the Gini index indicates a higher importance of the feature.\n",
        "\n",
        "***Permutation Importance**: It measures the decrease in the accuracy of the model when a feature is randomly permuted. A higher decrease in accuracy indicates a higher importance of the feature.\n",
        "\n",
        "***Mean Decrease Impurity***:\n",
        "In a Random Forest algorithm, node purity is a measure of how homogeneous the group of data points at a particular node is with respect to their target labels. The algorithm builds a decision tree by recursively splitting the data into smaller subsets based on the features and their values, with the aim of maximizing the node purity at each level.It measures the average reduction in impurity over all decision trees in the Random Forest when a feature is used to split a node. A higher reduction in impurity indicates a higher importance of the feature.\n",
        "\n",
        "In regression, the feature importance is calculated based on the mean decrease in impurity of the regression tree nodes or measures the variability of the target variable within the node. The impurity measure used for regression is the mean squared error (MSE) instead of the Gini index used in classification.\n",
        "\n",
        "The importance of a feature is calculated by taking the total reduction in the MSE across all trees in the forest when the feature is used for splitting the nodes. A feature that reduces the MSE by a large amount is considered more important than a feature that reduces it by a smaller amount.\n",
        "\n",
        "The feature importance scores can be normalized to add up to one. This allows for easy comparison of the relative importance of different features.\n",
        "\n",
        "Once the feature importance is calculated, it can be used to select the most important features for the model or to interpret the model by understanding which features drive the predictions.\n",
        "\n",
        "###  Feature Importance plot\n",
        "\n",
        "**varImpPlot()** function create dotchart of variable importance as measured by a Random Forest"
      ],
      "metadata": {
        "id": "BiqlWekapb28"
      }
    },
    {
      "cell_type": "code",
      "source": [
        "%%R -w 600 -h 400 -u px\n",
        "varImpPlot(rf.fit, main = \"RF Variable Importance\")"
      ],
      "metadata": {
        "colab": {
          "base_uri": "https://localhost:8080/",
          "height": 417
        },
        "id": "QAKr-vGWpgrR",
        "outputId": "791ea3bd-10eb-44c0-a717-0ac6fd847a5f"
      },
      "execution_count": null,
      "outputs": [
        {
          "output_type": "display_data",
          "data": {
            "image/png": "[encoded data removed]"
          },
          "metadata": {}
        }
      ]
    },
    {
      "cell_type": "markdown",
      "source": [
        "We can create a customized variable importance plot with ggplot2:"
      ],
      "metadata": {
        "id": "32pumcPFdnZS"
      }
    },
    {
      "cell_type": "code",
      "source": [
        "%%R\n",
        "# get variable importance from the model fit\n",
        "ImpData <- as.data.frame(randomForest::importance(rf.fit))\n",
        "ImpData$Var.Names <- row.names(ImpData)\n",
        "ImpData"
      ],
      "metadata": {
        "colab": {
          "base_uri": "https://localhost:8080/"
        },
        "id": "yjrtx0RUayKj",
        "outputId": "1d790c09-f5be-491b-ae73-6520d4f8be73"
      },
      "execution_count": null,
      "outputs": [
        {
          "output_type": "stream",
          "name": "stdout",
          "text": [
            "           %IncMSE IncNodePurity Var.Names\n",
            "DEM       7.628828     148.12050       DEM\n",
            "Slope    11.875047     306.06320     Slope\n",
            "Aspect    3.362965     149.79050    Aspect\n",
            "TPI       1.655997     102.85038       TPI\n",
            "KFactor   5.635433     139.76361   KFactor\n",
            "SiltClay 10.119163     165.20119  SiltClay\n",
            "MAT       9.853377     191.75502       MAT\n",
            "MAP      13.158569     641.19592       MAP\n",
            "NDVI     35.930804    2354.00904      NDVI\n",
            "NLCD      2.613661      27.05833      NLCD\n",
            "FRG       1.042877      11.19863       FRG\n"
          ]
        }
      ]
    },
    {
      "cell_type": "code",
      "source": [
        "%%R -w 500 -h 400 -u px\n",
        "# Plot importance\n",
        "ggplot(ImpData, aes(y=`%IncMSE`, x=reorder(Var.Names, +`%IncMSE`))) +\n",
        "  geom_segment( aes(x=reorder(Var.Names, +`%IncMSE`), xend=Var.Names, y=0, yend=`%IncMSE`), color=\"skyblue\") +\n",
        "  geom_point(aes(size = IncNodePurity), color=\"blue\", alpha=0.8) +\n",
        "  ylab('`%IncMSE`') +\n",
        "  xlab('')+\n",
        "  theme_bw() +\n",
        "  theme(axis.line = element_line(colour = \"black\"),\n",
        "        panel.grid.major = element_blank(),\n",
        "        axis.text.y=element_text(size=12),\n",
        "        axis.text.x = element_text(size=12),\n",
        "        axis.title.x = element_text(size=12),\n",
        "        axis.title.y = element_text(size=12))+\n",
        "  coord_flip()+\n",
        "  ggtitle(\"Random Forest Feature Importance\")"
      ],
      "metadata": {
        "colab": {
          "base_uri": "https://localhost:8080/",
          "height": 417
        },
        "id": "FmrbMYXMpn_n",
        "outputId": "a840e039-c166-435f-9031-dbc031ac19d4"
      },
      "execution_count": null,
      "outputs": [
        {
          "output_type": "display_data",
          "data": {
            "image/png": "[encoded data removed]"
          },
          "metadata": {}
        }
      ]
    },
    {
      "cell_type": "markdown",
      "source": [
        "An alternative approach is to use the **vip** package, which provides ggplot2 plots. vip also provides an additional measure of variable importance based on partial dependence measures and is a common variable importance plotting framework for many machine learning models"
      ],
      "metadata": {
        "id": "aj2JJhsqp3KZ"
      }
    },
    {
      "cell_type": "code",
      "source": [
        "%%R -w 350 -h 400 -u px\n",
        "vip(rf.fit)+\n",
        "  ggtitle(\"RF Variable Importance\") +\n",
        "  theme(plot.title = element_text(hjust = 0.5))\n",
        "\n"
      ],
      "metadata": {
        "colab": {
          "base_uri": "https://localhost:8080/",
          "height": 417
        },
        "id": "aZ2IyEa6p4Un",
        "outputId": "48bbb5be-6985-49d3-f6e0-002c18d5b196"
      },
      "execution_count": null,
      "outputs": [
        {
          "output_type": "display_data",
          "data": {
            "image/png": "[encoded data removed]"
          },
          "metadata": {}
        }
      ]
    },
    {
      "cell_type": "markdown",
      "source": [
        "### Prediction\n",
        "\n",
        "We use **predict()** function for prediction of test data using random forest."
      ],
      "metadata": {
        "id": "w8vWoSKZqNzz"
      }
    },
    {
      "cell_type": "code",
      "source": [
        "%%R\n",
        "test$SOC.pred.rf = predict(rf.fit, newdata = test)"
      ],
      "metadata": {
        "id": "r-NVEOh8qQdD"
      },
      "execution_count": null,
      "outputs": []
    },
    {
      "cell_type": "code",
      "source": [
        "%%R\n",
        "RMSE<- Metrics::rmse(test$SOC, test$SOC.pred.rf)\n",
        "RMSE"
      ],
      "metadata": {
        "colab": {
          "base_uri": "https://localhost:8080/"
        },
        "id": "NBX5uBVaqYZT",
        "outputId": "a42c58e9-fb1e-4ced-809b-873ade915da7"
      },
      "execution_count": null,
      "outputs": [
        {
          "output_type": "stream",
          "name": "stdout",
          "text": [
            "[1] 3.646275\n"
          ]
        }
      ]
    },
    {
      "cell_type": "code",
      "source": [
        "%%R\n",
        "MAE<- Metrics::mae(test$SOC, test$SOC.pred.rf)\n",
        "MAE"
      ],
      "metadata": {
        "colab": {
          "base_uri": "https://localhost:8080/"
        },
        "id": "Yf-S2y4Qgmfl",
        "outputId": "fd1f8ed7-1dd4-426f-ac35-1ad36cd67c1b"
      },
      "execution_count": null,
      "outputs": [
        {
          "output_type": "stream",
          "name": "stdout",
          "text": [
            "[1] 2.72598\n"
          ]
        }
      ]
    },
    {
      "cell_type": "code",
      "source": [
        "%%R -w 450 -h 400 -u px\n",
        "\n",
        "formula<-y~x\n",
        "\n",
        "ggplot(test, aes(SOC,SOC.pred.rf)) +\n",
        "  geom_point() +\n",
        "  geom_smooth(method = \"lm\")+\n",
        "  stat_poly_eq(use_label(c(\"eq\", \"adj.R2\")), formula = formula) +\n",
        "  ggtitle(\"Random Forest: Predicted vs Observed SOC\") +\n",
        "  xlab(\"Observed\") + ylab(\"Predicted\") +\n",
        "  scale_x_continuous(limits=c(0,25), breaks=seq(0, 25, 5))+\n",
        "  scale_y_continuous(limits=c(0,25), breaks=seq(0, 25, 5)) +\n",
        "  # Flip the bars\n",
        "  theme(\n",
        "    panel.background = element_rect(fill = \"grey95\",colour = \"gray75\",size = 0.5, linetype = \"solid\"),\n",
        "    axis.line = element_line(colour = \"grey\"),\n",
        "    plot.title = element_text(size = 14, hjust = 0.5),\n",
        "    axis.title.x = element_text(size = 14),\n",
        "    axis.title.y = element_text(size = 14),\n",
        "    axis.text.x=element_text(size=13, colour=\"black\"),\n",
        "    axis.text.y=element_text(size=13,angle = 90,vjust = 0.5, hjust=0.5, colour='black'))"
      ],
      "metadata": {
        "colab": {
          "base_uri": "https://localhost:8080/",
          "height": 434
        },
        "id": "pwdUKem2qn4n",
        "outputId": "7c566f21-967b-457b-a847-5c293c27cb40"
      },
      "execution_count": null,
      "outputs": [
        {
          "output_type": "stream",
          "name": "stdout",
          "text": [
            "`geom_smooth()` using formula = 'y ~ x'\n"
          ]
        },
        {
          "output_type": "display_data",
          "data": {
            "image/png": "[encoded data removed]"
          },
          "metadata": {}
        }
      ]
    },
    {
      "cell_type": "markdown",
      "source": [
        "## Random Forest with tidymodel\n",
        "\n",
        "The [tidymodels](https://www.tidymodels.org/) is an R package library that aims to simplify and simplify the modeling and machine learning workflow in R. It is based on the “tidyverse” ecosystem, which includes well-known packages such as ggplot2, dplyr, and tidyr, which are well-known for their consistent and easy-to-understand syntax.\n",
        "\n",
        "The tidymodels provides a comprehensive framework for building, tuning, and evaluating RF model while following the principles of the tidyverse.\n",
        "\n",
        "\n"
      ],
      "metadata": {
        "id": "jlbhZcnMqt-V"
      }
    },
    {
      "cell_type": "markdown",
      "source": [
        "### Load data and preprocesing"
      ],
      "metadata": {
        "id": "WUjf_EzN5-eb"
      }
    },
    {
      "cell_type": "code",
      "source": [
        "%%R\n",
        "urlfile = \"https://github.com//zia207/r-colab/raw/main/Data/USA/gp_soil_data.csv\"\n",
        "mf<-read_csv(url(urlfile))\n",
        "# Create a data-frame\n",
        "df<-mf %>% dplyr::select(SOC, DEM, Slope, Aspect, TPI, KFactor, SiltClay, MAT, MAP,NDVI, NLCD, FRG)\n",
        "# convrt factor\n",
        "df$NLCD <- as.factor(df$NLCD)\n",
        "df$FRG <- as.factor(df$FRG)\n",
        "# Split data\n",
        "set.seed(1245)   # for reproducibility\n",
        "split <- initial_split(df, prop = 0.8, strata = SOC)\n",
        "train <- split %>% training()\n",
        "test <-  split %>% testing()\n",
        "# Set 10 fold cross-validation data set\n",
        "cv_folds <- vfold_cv(train, v = 5)"
      ],
      "metadata": {
        "id": "6tn-Ads_5-vG"
      },
      "execution_count": null,
      "outputs": []
    },
    {
      "cell_type": "markdown",
      "source": [
        "### Create Recipe\n",
        "\n",
        "A recipe is a description of the steps to be applied to a data set in order to prepare it for data analysis. Before training the model, we can use a recipe to do some pre-processing required by the model."
      ],
      "metadata": {
        "id": "M0xkiv2UsgUw"
      }
    },
    {
      "cell_type": "code",
      "source": [
        "%%R\n",
        "rf_recipe <-\n",
        "  recipe(SOC ~ ., data = train) %>%\n",
        "  step_zv(all_predictors()) %>%\n",
        "  step_dummy(all_nominal()) %>%\n",
        "  step_normalize(all_numeric_predictors())"
      ],
      "metadata": {
        "id": "RjtUqyKSsqZX"
      },
      "execution_count": null,
      "outputs": []
    },
    {
      "cell_type": "markdown",
      "source": [
        "### Specify tunable Hypermeters of Random Forest\n",
        "\n",
        "Random Forest is an ensemble learning method that is highly flexible and has a large number of hyperparameters that can be tuned to optimize the performance of the model.\n",
        "\n",
        "Some of the most important hyperparameters of a Random Forest model are:\n",
        "\n",
        "1.  Number of trees: The number of trees in the forest. Increasing the number of trees generally improves the performance of the model, but also increases the computation time.\n",
        "\n",
        "2.  Maximum depth of the trees: The maximum depth of the trees in the forest. Deeper trees can capture more complex relationships in the data, but can also lead to overfitting.\n",
        "\n",
        "3.  Minimum number of samples required to split a node: The minimum number of samples required to split an internal node in the tree. Increasing this parameter can help to reduce overfitting.\n",
        "\n",
        "4.  Minimum number of samples required to be at a leaf node: The minimum number of samples required to be at a leaf node. Increasing this parameter can help to reduce overfitting.\n",
        "\n",
        "5.  Maximum number of features to consider for each split: The maximum number of features to consider when searching for the best split at each node. Restricting the number of features can help to reduce overfitting and improve generalization.\n",
        "\n",
        "6.  Bootstrap samples: Whether to use bootstrap samples when building trees. Bootstrap samples can help to reduce overfitting and improve generalization.\n",
        "\n",
        "7.  Random state: A seed value that is used to initialize the random number generator. This ensures that the results of the model are reproducible.\n",
        "\n",
        "These hyperparameters can be tuned using various techniques, such as grid search or random search, to find the optimal combination for a particular dataset and problem.\n",
        "\n",
        "We will create a model specification for a random forest where we will tune tree (numbrr of tree), mtry (the number of predictors to sample at each split) and min_n (the number of observations needed to keep splitting nodes). Will will use [ranger](https://cran.r-project.org/web/packages/ranger/index.html) package that provides a fast implementation of the Random Forest algorithm for classification and regression problems. It is designed to handle large datasets with many features, and offers several features that make it a popular choice for machine learning tasks."
      ],
      "metadata": {
        "id": "C5DERUI2s561"
      }
    },
    {
      "cell_type": "code",
      "source": [
        "%%R\n",
        "rf_model <- rand_forest(\n",
        "  mtry = tune(),\n",
        "  trees = tune(),\n",
        "  min_n = tune()\n",
        "  ) %>%\n",
        "  set_mode(\"regression\") %>%\n",
        "  set_engine(\"ranger\")\n",
        "\n",
        "rf_model"
      ],
      "metadata": {
        "colab": {
          "base_uri": "https://localhost:8080/"
        },
        "id": "9vW5cQwEs8mU",
        "outputId": "f31b6fd2-a85c-4533-c71b-20b0d7ac22f3"
      },
      "execution_count": null,
      "outputs": [
        {
          "output_type": "stream",
          "name": "stdout",
          "text": [
            "Random Forest Model Specification (regression)\n",
            "\n",
            "Main Arguments:\n",
            "  mtry = tune()\n",
            "  trees = tune()\n",
            "  min_n = tune()\n",
            "\n",
            "Computational engine: ranger \n",
            "\n"
          ]
        }
      ]
    },
    {
      "cell_type": "markdown",
      "source": [
        "### Define workflow"
      ],
      "metadata": {
        "id": "Rwx8kWLOtGtP"
      }
    },
    {
      "cell_type": "code",
      "source": [
        "%%R\n",
        "rf_wf <- workflow() %>%\n",
        "  add_recipe(rf_recipe) %>%\n",
        "  add_model(rf_model)"
      ],
      "metadata": {
        "id": "p074kFuxtLYo"
      },
      "execution_count": null,
      "outputs": []
    },
    {
      "cell_type": "markdown",
      "source": [
        "### Define possible grid parameter\n",
        "\n",
        "We use grid_regular() function of dials package (installed with tidymodesl) to create grids of tuning parameters"
      ],
      "metadata": {
        "id": "w45wBSn-tQ8I"
      }
    },
    {
      "cell_type": "code",
      "source": [
        "%%R\n",
        "rf_grid <- grid_regular(\n",
        "  trees(range = c(20, 100)),\n",
        "  mtry(range = c(10, 20)),\n",
        "  min_n(range = c(1, 5)),\n",
        "  levels = 5\n",
        ")\n",
        "\n",
        "rf_grid"
      ],
      "metadata": {
        "colab": {
          "base_uri": "https://localhost:8080/"
        },
        "id": "3Q9Q90JCtRVW",
        "outputId": "4f7d408f-b4a4-49ea-a55f-38d39bef1115"
      },
      "execution_count": null,
      "outputs": [
        {
          "output_type": "stream",
          "name": "stdout",
          "text": [
            "# A tibble: 125 × 3\n",
            "   trees  mtry min_n\n",
            "   <int> <int> <int>\n",
            " 1    20    10     1\n",
            " 2    40    10     1\n",
            " 3    60    10     1\n",
            " 4    80    10     1\n",
            " 5   100    10     1\n",
            " 6    20    12     1\n",
            " 7    40    12     1\n",
            " 8    60    12     1\n",
            " 9    80    12     1\n",
            "10   100    12     1\n",
            "# ℹ 115 more rows\n",
            "# ℹ Use `print(n = ...)` to see more rows\n"
          ]
        }
      ]
    },
    {
      "cell_type": "markdown",
      "source": [
        "### Hyperparameters tunning\n",
        "\n",
        "Now we will fit the models with all the possible parameter values on all our resampled (cv.fold) datasets. tune_grid() of tune package (installed with tidymodels) computes a set of performance metrics (e.g. accuracy or RMSE) for a pre-defined set of tuning parameters that correspond to a model or recipe across one or more resamples of the data.\n",
        "\n",
        "We will use parallel processing to run RF model faster, since the different parts of the grid are independent. Let's use grid = 20 to choose 20 grid points automatically.\n",
        "\n",
        "tune_grid() computes a set of performance metrics (e.g. accuracy or RMSE) for a pre-defined set of tuning parameters that correspond to a model or recipe across one or more resamples of the data."
      ],
      "metadata": {
        "id": "DbDVKoaqtdby"
      }
    },
    {
      "cell_type": "code",
      "source": [
        "%%R\n",
        "# Set 10 fold cross-validation data set\n",
        "cv_folds <- vfold_cv(train, v = 10)"
      ],
      "metadata": {
        "id": "iSbXq3b3jUwc"
      },
      "execution_count": null,
      "outputs": []
    },
    {
      "cell_type": "code",
      "source": [
        "%%R\n",
        "set.seed(345)\n",
        "rf_tune <- tune_grid(\n",
        "  rf_wf,\n",
        "  resamples = cv_folds,\n",
        "  grid = rf_grid,\n",
        ")\n",
        "\n",
        "rf_tune"
      ],
      "metadata": {
        "id": "_gnFB4QTtm78"
      },
      "execution_count": null,
      "outputs": []
    },
    {
      "cell_type": "code",
      "source": [
        "%%R\n",
        "collect_metrics(rf_tune)"
      ],
      "metadata": {
        "colab": {
          "base_uri": "https://localhost:8080/"
        },
        "id": "gk0tLqY4t7at",
        "outputId": "587f714c-1118-4884-9fdf-b6916f10c37b"
      },
      "execution_count": null,
      "outputs": [
        {
          "output_type": "stream",
          "name": "stdout",
          "text": [
            "# A tibble: 250 × 9\n",
            "    mtry trees min_n .metric .estimator  mean     n std_err .config             \n",
            "   <int> <int> <int> <chr>   <chr>      <dbl> <int>   <dbl> <chr>               \n",
            " 1    10    20     1 rmse    standard   3.90     10  0.262  Preprocessor1_Model…\n",
            " 2    10    20     1 rsq     standard   0.401    10  0.0386 Preprocessor1_Model…\n",
            " 3    10    40     1 rmse    standard   3.93     10  0.280  Preprocessor1_Model…\n",
            " 4    10    40     1 rsq     standard   0.392    10  0.0493 Preprocessor1_Model…\n",
            " 5    10    60     1 rmse    standard   3.88     10  0.260  Preprocessor1_Model…\n",
            " 6    10    60     1 rsq     standard   0.399    10  0.0459 Preprocessor1_Model…\n",
            " 7    10    80     1 rmse    standard   3.91     10  0.267  Preprocessor1_Model…\n",
            " 8    10    80     1 rsq     standard   0.400    10  0.0479 Preprocessor1_Model…\n",
            " 9    10   100     1 rmse    standard   3.89     10  0.258  Preprocessor1_Model…\n",
            "10    10   100     1 rsq     standard   0.402    10  0.0472 Preprocessor1_Model…\n",
            "# ℹ 240 more rows\n",
            "# ℹ Use `print(n = ...)` to see more rows\n"
          ]
        }
      ]
    },
    {
      "cell_type": "markdown",
      "source": [
        "We can plot RMSE:"
      ],
      "metadata": {
        "id": "1wOoF7lWk2Kt"
      }
    },
    {
      "cell_type": "code",
      "source": [
        "%%R -w 450 -h 400 -u px\n",
        "rf_tune %>%\n",
        "  collect_metrics() %>%\n",
        "  filter(.metric == \"rmse\") %>%\n",
        "  mutate(min_n = factor(min_n)) %>%\n",
        "  ggplot(aes(mtry, mean, color = min_n)) +\n",
        "  geom_line(alpha = 0.5, size = 1.5) +\n",
        "  geom_point() +\n",
        "  labs(y = \"RMSE\")"
      ],
      "metadata": {
        "colab": {
          "base_uri": "https://localhost:8080/",
          "height": 417
        },
        "id": "g6OdM9U5t-v0",
        "outputId": "4b9184b3-f6c8-4c98-8f0d-9286b20d44be"
      },
      "execution_count": null,
      "outputs": [
        {
          "output_type": "display_data",
          "data": {
            "image/png": "[encoded data removed]"
          },
          "metadata": {}
        }
      ]
    },
    {
      "cell_type": "markdown",
      "source": [
        "### The best RF model"
      ],
      "metadata": {
        "id": "zjOjimbTtnYU"
      }
    },
    {
      "cell_type": "code",
      "source": [
        "%%R\n",
        "best_rmse <- select_best(rf_tune, \"rmse\")\n",
        "\n",
        "rf_final <- finalize_model(\n",
        "  rf_model,\n",
        "  best_rmse\n",
        ")\n",
        "\n",
        "rf_final"
      ],
      "metadata": {
        "colab": {
          "base_uri": "https://localhost:8080/"
        },
        "id": "mGkmA-KUuFbp",
        "outputId": "87479b6a-d9ea-4b83-f479-911e447da4e6"
      },
      "execution_count": null,
      "outputs": [
        {
          "output_type": "stream",
          "name": "stdout",
          "text": [
            "Random Forest Model Specification (regression)\n",
            "\n",
            "Main Arguments:\n",
            "  mtry = 10\n",
            "  trees = 80\n",
            "  min_n = 5\n",
            "\n",
            "Computational engine: ranger \n",
            "\n"
          ]
        }
      ]
    },
    {
      "cell_type": "markdown",
      "source": [
        "We can either fit final_tree to training data using fit() or to the testing/training split using last_fit(), which will give us some other results along with the fitted output."
      ],
      "metadata": {
        "id": "ulfUrSKzuIIj"
      }
    },
    {
      "cell_type": "code",
      "source": [
        "%%R\n",
        "final_fit <- fit(rf_final, SOC ~ .,train)"
      ],
      "metadata": {
        "id": "TsVNvwe4uK1W"
      },
      "execution_count": null,
      "outputs": []
    },
    {
      "cell_type": "markdown",
      "source": [
        "### Prediction"
      ],
      "metadata": {
        "id": "QR8LdL6quMmN"
      }
    },
    {
      "cell_type": "code",
      "source": [
        "%%R\n",
        "test$SOC.pred_ranger = predict(final_fit,test)"
      ],
      "metadata": {
        "id": "yxLxUEnZuSDt"
      },
      "execution_count": null,
      "outputs": []
    },
    {
      "cell_type": "code",
      "source": [
        "%%R\n",
        "RMSE<- Metrics::rmse(test$SOC, test$SOC.pred_ranger$.pred)\n",
        "RMSE"
      ],
      "metadata": {
        "colab": {
          "base_uri": "https://localhost:8080/"
        },
        "id": "PA358yEluVcn",
        "outputId": "d66a99f4-4f25-4179-8047-ae25e789fc90"
      },
      "execution_count": null,
      "outputs": [
        {
          "output_type": "stream",
          "name": "stdout",
          "text": [
            "[1] 3.542123\n"
          ]
        }
      ]
    },
    {
      "cell_type": "markdown",
      "source": [
        "### 1:1 Plot Predicted vs Observed values"
      ],
      "metadata": {
        "id": "mErMkfb1ltlN"
      }
    },
    {
      "cell_type": "code",
      "source": [
        "%%R -w 450 -h 400 -u px\n",
        "formula<-y~x\n",
        "\n",
        "ggplot(test, aes(SOC,SOC.pred_ranger$.pred)) +\n",
        "  geom_point() +\n",
        "  geom_smooth(method = \"lm\")+\n",
        "  stat_poly_eq(use_label(c(\"eq\", \"adj.R2\")), formula = formula) +\n",
        "  ggtitle(\"ranger: Random Forest\") +\n",
        "  xlab(\"Observed\") + ylab(\"Predicted\") +\n",
        "  scale_x_continuous(limits=c(0,25), breaks=seq(0, 25, 5))+\n",
        "  scale_y_continuous(limits=c(0,25), breaks=seq(0, 25, 5)) +\n",
        "  # Flip the bars\n",
        "  theme(\n",
        "    panel.background = element_rect(fill = \"grey95\",colour = \"gray75\",size = 0.5, linetype = \"solid\"),\n",
        "    axis.line = element_line(colour = \"grey\"),\n",
        "    plot.title = element_text(size = 14, hjust = 0.5),\n",
        "    axis.title.x = element_text(size = 14),\n",
        "    axis.title.y = element_text(size = 14),\n",
        "    axis.text.x=element_text(size=13, colour=\"black\"),\n",
        "    axis.text.y=element_text(size=13,angle = 90,vjust = 0.5, hjust=0.5, colour='black'))"
      ],
      "metadata": {
        "colab": {
          "base_uri": "https://localhost:8080/",
          "height": 434
        },
        "id": "rb8DMsGCuaBx",
        "outputId": "fd870fc9-95f0-49a3-8489-e6f6f0284bd6"
      },
      "execution_count": null,
      "outputs": [
        {
          "output_type": "stream",
          "name": "stdout",
          "text": [
            "`geom_smooth()` using formula = 'y ~ x'\n"
          ]
        },
        {
          "output_type": "display_data",
          "data": {
            "image/png": "[encoded data removed]"
          },
          "metadata": {}
        }
      ]
    },
    {
      "cell_type": "markdown",
      "source": [
        "### Variable importance plots\n",
        "\n",
        "**vip()** function can plot variable importance scores for the predictors in a model."
      ],
      "metadata": {
        "id": "U2iGnkcSu5fz"
      }
    },
    {
      "cell_type": "code",
      "source": [
        "%%R -w 400 -h 400 -u px\n",
        "rf_prep <- prep(rf_recipe)\n",
        "juiced <- juice(rf_prep)\n",
        "\n",
        "rf_final %>%\n",
        "  set_engine(\"ranger\", importance = \"permutation\") %>%\n",
        "  fit(SOC ~ .,\n",
        "    data = juice(rf_prep)\n",
        "  ) %>%\n",
        "  vip(geom = \"point\")+\n",
        "     ggtitle(\"ranger: RF Variable Importance\") +\n",
        "     theme(plot.title = element_text(hjust = 0.5))"
      ],
      "metadata": {
        "colab": {
          "base_uri": "https://localhost:8080/",
          "height": 417
        },
        "id": "HqVF7hxXu44o",
        "outputId": "ebe4c7a4-976c-4b83-8a75-339d758e8c97"
      },
      "execution_count": null,
      "outputs": [
        {
          "output_type": "display_data",
          "data": {
            "image/png": "[encoded data removed]"
          },
          "metadata": {}
        }
      ]
    },
    {
      "cell_type": "markdown",
      "source": [
        "## Random Forest with h20\n",
        "\n",
        "RF in h20 is also referred to as a distributed random forest (DRF), which is a parallel implementation of Random Forest. In a DRF, individual trees are trained on a subset of the data rows and columns. This randomization helps to minimize overfitting and enhance model accuracy and stability. The individual tree predictions are then combined to form a final prediction.\n",
        "\n",
        "DRF also offers a range of hyperparameter values that can be adjusted to improve the model's performance, he number of trees, the depth of the trees, and the sampling rate for each tree. The algorithm can also be used to automatically fine-tune hyperparameters using either grid or random search.\n",
        "\n",
        "Overall, DRF in H2O provides a powerful and scalable tool for building accurate and robust predictive models on large datasets by distributing the computation across a cluster of machines, DRF can handle datasets that would be too large to process on a single machine, making it a valuable tool for big data applications."
      ],
      "metadata": {
        "id": "dd6SwSJ5vG1C"
      }
    },
    {
      "cell_type": "markdown",
      "source": [
        "### Import h20"
      ],
      "metadata": {
        "id": "E6WMXM4yv-Om"
      }
    },
    {
      "cell_type": "code",
      "source": [
        "%%R\n",
        "library(h2o)\n",
        "h2o.init()\n",
        "#disable progress bar for RMarkdown\n",
        "h2o.no_progress()\n",
        "# Optional: remove anything from previous session\n",
        "h2o.removeAll()"
      ],
      "metadata": {
        "id": "6xifN83Kv-W7"
      },
      "execution_count": null,
      "outputs": []
    },
    {
      "cell_type": "markdown",
      "source": [
        "### Load and process data"
      ],
      "metadata": {
        "id": "c7CWZBkrqh2u"
      }
    },
    {
      "cell_type": "code",
      "source": [
        "%%R\n",
        "# load data\n",
        "urlfile = \"https://github.com//zia207/r-colab/raw/main/Data/USA/gp_soil_data.csv\"\n",
        "mf<-read_csv(url(urlfile))\n",
        "# Create a data-frame\n",
        "df<-mf %>% dplyr::select(SOC, DEM, Slope, Aspect, TPI, KFactor, SiltClay, MAT, MAP,NDVI, NLCD, FRG)\n",
        "# convrt factor\n",
        "df$NLCD <- as.factor(df$NLCD)\n",
        "df$FRG <- as.factor(df$FRG)\n",
        "# Split data\n",
        "set.seed(1245)   # for reproducibility\n",
        "split <- initial_split(df, prop = 0.8, strata = SOC)\n",
        "train <- split %>% training()\n",
        "test <-  split %>% testing()\n",
        "# Scale data\n",
        "train[-c(1, 11,12)] = scale(train[-c(1,11,12)])\n",
        "test[-c(1, 11,12)] = scale(test[-c(1,11,12)])"
      ],
      "metadata": {
        "colab": {
          "base_uri": "https://localhost:8080/"
        },
        "id": "ZbHYTVdXjV6d",
        "outputId": "76da4d4c-abf6-4462-ac8d-9bcf6f44a931"
      },
      "execution_count": null,
      "outputs": [
        {
          "output_type": "stream",
          "name": "stdout",
          "text": [
            "Rows: 467 Columns: 19\n",
            "── Column specification ────────────────────────────────────────────────────────\n",
            "Delimiter: \",\"\n",
            "chr  (4): STATE, COUNTY, NLCD, FRG\n",
            "dbl (15): ID, FIPS, STATE_ID, Longitude, Latitude, SOC, DEM, Aspect, Slope, ...\n",
            "\n",
            "ℹ Use `spec()` to retrieve the full column specification for this data.\n",
            "ℹ Specify the column types or set `show_col_types = FALSE` to quiet this message.\n"
          ]
        }
      ]
    },
    {
      "cell_type": "markdown",
      "source": [
        "### Import data to h2o cluster"
      ],
      "metadata": {
        "id": "g3yokVXewL-V"
      }
    },
    {
      "cell_type": "code",
      "source": [
        "%%R\n",
        "h_df=as.h2o(df)\n",
        "h_train = as.h2o(train)\n",
        "h_test = as.h2o(test)"
      ],
      "metadata": {
        "id": "mWBVpgxewMIX"
      },
      "execution_count": null,
      "outputs": []
    },
    {
      "cell_type": "code",
      "source": [
        "%%R\n",
        "CV.xy<- as.data.frame(h_train)\n",
        "test.xy<- as.data.frame(h_test)"
      ],
      "metadata": {
        "id": "9FNz4lo7wcBO"
      },
      "execution_count": null,
      "outputs": []
    },
    {
      "cell_type": "markdown",
      "source": [
        "### Define response and predictors"
      ],
      "metadata": {
        "id": "daHie5hqwgvy"
      }
    },
    {
      "cell_type": "code",
      "source": [
        "%%R\n",
        "y <- \"SOC\"\n",
        "x <- setdiff(names(h_df), y)"
      ],
      "metadata": {
        "id": "3qVQusOawg35"
      },
      "execution_count": null,
      "outputs": []
    },
    {
      "cell_type": "markdown",
      "source": [
        "### Fit DRF model\n",
        "\n",
        "First we will fit a h2o DRF model with lfollowing parameters:\n",
        "\n",
        "*  ntrees = 200,  Number of trees. Defaults to 50.\n",
        "\n",
        "* max_depth = 25, Maximum tree depth (0 for unlimited). Defaults to 20.\n",
        "\n",
        "* sample_rate = 0.8, Row sample rate per tree (from 0.0 to 1.0) Defaults to 0.632.\n",
        "\n",
        "*  stopping_rounds = 2, Early stopping based on convergence of stopping_metric. Stop if simple moving average of length k of the stopping_metric does not improve for k:=stopping_rounds scoring events (0 to disable) Defaults to 0.\n",
        "\n",
        "* stopping_metric=\"RMSE\", Metric to use for early stopping (AUTO: logloss for classification, deviance for regression and anomaly_score for Isolation Forest). Note that custom and custom_increasing can only be used in GBM and DRF with the Python client. Must be one of: \"AUTO\", \"deviance\", \"logloss\", \"MSE\", \"RMSE\", \"MAE\", \"RMSLE\", \"AUC\", \"AUCPR\", \"lift_top_group\", \"misclassification\", \"mean_per_class_error\", \"custom\", \"custom_increasing\". Defaults to AUTO.\n",
        "\n",
        "*  nfolds = 10, Number of folds for K-fold cross-validation (0 to disable or >= 2). Defaults to 0.\n",
        "\n",
        "* keep_cross_validation_models =TRUE, Logical. Whether to keep the cross-validation models. Defaults to TRUE.\n",
        "\n",
        "* keep_cross_validation_predictions = TRUR, Logical. Whether to keep the predictions of the cross-validation models. Defaults to FALSE."
      ],
      "metadata": {
        "id": "5f4ONJZbvXzf"
      }
    },
    {
      "cell_type": "markdown",
      "source": [
        "#### Fit model"
      ],
      "metadata": {
        "id": "dtkQi6SGsaSE"
      }
    },
    {
      "cell_type": "code",
      "source": [
        "%%R\n",
        "drf_h2o <- h2o.randomForest(\n",
        "  training_frame = h_train,\n",
        "  # validation_frame = valid,\n",
        "  x=x,\n",
        "  y=y,\n",
        "  model_id = \"RF_MODEL_IDs\",\n",
        "  ntrees = 200,\n",
        "  max_depth =25,\n",
        "  sample_rate = 0.8,\n",
        "  stopping_rounds = 2,\n",
        "  stopping_metric = \"RMSE\",\n",
        "  nfolds = 10,\n",
        "  keep_cross_validation_models = TRUE,\n",
        "  keep_cross_validation_predictions =TRUE,\n",
        "  seed = 1000000)\n"
      ],
      "metadata": {
        "id": "UkjnzWxAwqkE"
      },
      "execution_count": null,
      "outputs": []
    },
    {
      "cell_type": "markdown",
      "source": [
        "#### Model summary"
      ],
      "metadata": {
        "id": "4DBEQgyssXg3"
      }
    },
    {
      "cell_type": "code",
      "source": [
        "%%R\n",
        "# model summary\n",
        "summary(drf_h2o)"
      ],
      "metadata": {
        "colab": {
          "base_uri": "https://localhost:8080/"
        },
        "id": "KG6bQBvGw1Fq",
        "outputId": "cd74321e-afa0-4806-8563-1400ddb7f395"
      },
      "execution_count": null,
      "outputs": [
        {
          "output_type": "stream",
          "name": "stdout",
          "text": [
            "Model Details:\n",
            "==============\n",
            "\n",
            "H2ORegressionModel: drf\n",
            "Model Key:  RF_MODEL_IDs \n",
            "Model Summary: \n",
            "  number_of_trees number_of_internal_trees model_size_in_bytes min_depth\n",
            "1              12                       12               44724        16\n",
            "  max_depth mean_depth min_leaves max_leaves mean_leaves\n",
            "1        22   18.41667        280        305   292.16666\n",
            "\n",
            "H2ORegressionMetrics: drf\n",
            "** Reported on training data. **\n",
            "** Metrics reported on Out-Of-Bag training samples **\n",
            "\n",
            "MSE:  22.11228\n",
            "RMSE:  4.70237\n",
            "MAE:  3.290161\n",
            "RMSLE:  0.5888373\n",
            "Mean Residual Deviance :  22.11228\n",
            "\n",
            "\n",
            "\n",
            "H2ORegressionMetrics: drf\n",
            "** Reported on cross-validation data. **\n",
            "** 10-fold cross-validation on training data (Metrics computed for combined holdout predictions) **\n",
            "\n",
            "MSE:  16.49581\n",
            "RMSE:  4.061503\n",
            "MAE:  2.86872\n",
            "RMSLE:  0.5277316\n",
            "Mean Residual Deviance :  16.49581\n",
            "\n",
            "\n",
            "Cross-Validation Metrics Summary: \n",
            "                            mean       sd cv_1_valid cv_2_valid cv_3_valid\n",
            "mae                     2.938290 0.537295   3.744029   2.929060   2.322824\n",
            "mean_residual_deviance 17.137068 6.020885  25.422718  18.902353   8.777311\n",
            "mse                    17.137068 6.020885  25.422718  18.902353   8.777311\n",
            "r2                      0.164901 0.437563   0.221968   0.442168   0.313004\n",
            "residual_deviance      17.137068 6.020885  25.422718  18.902353   8.777311\n",
            "rmse                    4.076128 0.761760   5.042095   4.347684   2.962653\n",
            "rmsle                   0.531422 0.054120   0.616169   0.474080   0.575889\n",
            "                       cv_4_valid cv_5_valid cv_6_valid cv_7_valid cv_8_valid\n",
            "mae                      3.388841   1.959395   2.608803   3.264883   3.187023\n",
            "mean_residual_deviance  22.268700   8.587559  14.676350  19.016582  23.918617\n",
            "mse                     22.268700   8.587559  14.676350  19.016582  23.918617\n",
            "r2                      -0.391504   0.706595   0.301102   0.218483   0.336353\n",
            "residual_deviance       22.268700   8.587559  14.676350  19.016582  23.918617\n",
            "rmse                     4.718972   2.930454   3.830972   4.360801   4.890667\n",
            "rmsle                    0.534026   0.474714   0.546630   0.539184   0.539214\n",
            "                       cv_9_valid cv_10_valid\n",
            "mae                      3.240620    2.737423\n",
            "mean_residual_deviance  18.030258   11.770221\n",
            "mse                     18.030258   11.770221\n",
            "r2                       0.308837   -0.807996\n",
            "residual_deviance       18.030258   11.770221\n",
            "rmse                     4.246205    3.430776\n",
            "rmsle                    0.439478    0.574841\n",
            "\n",
            "Scoring History: \n",
            "             timestamp   duration number_of_trees training_rmse training_mae\n",
            "1  2023-08-24 18:43:35  2.577 sec               0            NA           NA\n",
            "2  2023-08-24 18:43:35  2.595 sec               1       5.17129      3.81261\n",
            "3  2023-08-24 18:43:35  2.635 sec               2       5.13664      3.71193\n",
            "4  2023-08-24 18:43:35  2.646 sec               3       5.27648      3.64938\n",
            "5  2023-08-24 18:43:35  2.661 sec               4       5.20620      3.60389\n",
            "6  2023-08-24 18:43:35  2.674 sec               5       5.03068      3.48409\n",
            "7  2023-08-24 18:43:35  2.692 sec               6       4.73445      3.33247\n",
            "8  2023-08-24 18:43:35  2.702 sec               7       4.77534      3.33994\n",
            "9  2023-08-24 18:43:35  2.716 sec               8       4.71425      3.31691\n",
            "10 2023-08-24 18:43:35  2.731 sec               9       4.70486      3.30700\n",
            "11 2023-08-24 18:43:35  2.744 sec              10       4.80802      3.36943\n",
            "12 2023-08-24 18:43:35  2.759 sec              11       4.74167      3.30409\n",
            "13 2023-08-24 18:43:35  2.769 sec              12       4.70237      3.29016\n",
            "   training_deviance\n",
            "1                 NA\n",
            "2           26.74226\n",
            "3           26.38512\n",
            "4           27.84120\n",
            "5           27.10454\n",
            "6           25.30775\n",
            "7           22.41502\n",
            "8           22.80387\n",
            "9           22.22416\n",
            "10          22.13567\n",
            "11          23.11706\n",
            "12          22.48342\n",
            "13          22.11228\n",
            "\n",
            "Variable Importances: (Extract with `h2o.varimp`) \n",
            "=================================================\n",
            "\n",
            "Variable Importances: \n",
            "   variable relative_importance scaled_importance percentage\n",
            "1      NDVI        16810.208984          1.000000   0.181461\n",
            "2       MAP        15058.751953          0.895810   0.162555\n",
            "3     Slope        11184.482422          0.665339   0.120733\n",
            "4       DEM         9998.001953          0.594758   0.107926\n",
            "5  SiltClay         8319.717773          0.494921   0.089809\n",
            "6   KFactor         8088.090332          0.481142   0.087309\n",
            "7       MAT         6525.350098          0.388178   0.070439\n",
            "8    Aspect         6109.158203          0.363420   0.065947\n",
            "9       TPI         5126.684570          0.304974   0.055341\n",
            "10     NLCD         3206.688965          0.190758   0.034615\n",
            "11      FRG         2210.801270          0.131515   0.023865\n"
          ]
        }
      ]
    },
    {
      "cell_type": "markdown",
      "source": [
        "#### Model performance"
      ],
      "metadata": {
        "id": "GqNlyVIAyhER"
      }
    },
    {
      "cell_type": "code",
      "source": [
        "%%R\n",
        "# training performance\n",
        "h2o.performance(drf_h2o, h_train)"
      ],
      "metadata": {
        "colab": {
          "base_uri": "https://localhost:8080/"
        },
        "id": "Q2PAoLW8w_8t",
        "outputId": "774f0839-1db8-4fba-a2ba-1e90ffd16acf"
      },
      "execution_count": null,
      "outputs": [
        {
          "output_type": "stream",
          "name": "stdout",
          "text": [
            "H2ORegressionMetrics: drf\n",
            "\n",
            "MSE:  1.016003\n",
            "RMSE:  1.00797\n",
            "MAE:  0.6409741\n",
            "RMSLE:  0.1456079\n",
            "Mean Residual Deviance :  1.016003\n",
            "\n"
          ]
        }
      ]
    },
    {
      "cell_type": "code",
      "source": [
        "%%R\n",
        "# CV-performance\n",
        "h2o.performance(drf_h2o, xval=TRUE)"
      ],
      "metadata": {
        "colab": {
          "base_uri": "https://localhost:8080/"
        },
        "id": "WRQeXGSoxDCB",
        "outputId": "b1898060-4edf-40d0-f0e9-310ece6f5d17"
      },
      "execution_count": null,
      "outputs": [
        {
          "output_type": "stream",
          "name": "stdout",
          "text": [
            "H2ORegressionMetrics: drf\n",
            "** Reported on cross-validation data. **\n",
            "** 10-fold cross-validation on training data (Metrics computed for combined holdout predictions) **\n",
            "\n",
            "MSE:  16.49581\n",
            "RMSE:  4.061503\n",
            "MAE:  2.86872\n",
            "RMSLE:  0.5277316\n",
            "Mean Residual Deviance :  16.49581\n",
            "\n"
          ]
        }
      ]
    },
    {
      "cell_type": "code",
      "source": [
        "%%R\n",
        "# test performance\n",
        "h2o.performance(drf_h2o, h_test)"
      ],
      "metadata": {
        "colab": {
          "base_uri": "https://localhost:8080/"
        },
        "id": "9WXs4DOaxIxb",
        "outputId": "7030b6f7-f534-4344-c20e-8df252169ac6"
      },
      "execution_count": null,
      "outputs": [
        {
          "output_type": "stream",
          "name": "stdout",
          "text": [
            "H2ORegressionMetrics: drf\n",
            "\n",
            "MSE:  12.266\n",
            "RMSE:  3.502285\n",
            "MAE:  2.608164\n",
            "RMSLE:  0.5240374\n",
            "Mean Residual Deviance :  12.266\n",
            "\n"
          ]
        }
      ]
    },
    {
      "cell_type": "markdown",
      "source": [
        "#### Prediction"
      ],
      "metadata": {
        "id": "z7X4wsrtxN0D"
      }
    },
    {
      "cell_type": "code",
      "source": [
        "%%R\n",
        "pred.drf <- as.data.frame(h2o.predict(object = drf_h2o, newdata = h_test))\n",
        "test.xy$DRF_SOC<-pred.drf$predict"
      ],
      "metadata": {
        "id": "exGhqZ4axN96"
      },
      "execution_count": null,
      "outputs": []
    },
    {
      "cell_type": "code",
      "source": [
        "%%R -w 400 -h 400 -u px\n",
        "formula<-y~x\n",
        "\n",
        "ggplot(test.xy, aes(SOC,DRF_SOC)) +\n",
        "  geom_point() +\n",
        "  geom_smooth(method = \"lm\")+\n",
        "  stat_poly_eq(use_label(c(\"eq\", \"adj.R2\")), formula = formula) +\n",
        "  ggtitle(\"h2o-DRF: Observed vs Predicted SOC \") +\n",
        "  xlab(\"Observed\") + ylab(\"Predicted\") +\n",
        "  scale_x_continuous(limits=c(0,25), breaks=seq(0, 25, 5))+\n",
        "  scale_y_continuous(limits=c(0,25), breaks=seq(0, 25, 5)) +\n",
        "  # Flip the bars\n",
        "  theme(\n",
        "    panel.background = element_rect(fill = \"grey95\",colour = \"gray75\",size = 0.5, linetype = \"solid\"),\n",
        "    axis.line = element_line(colour = \"grey\"),\n",
        "    plot.title = element_text(size = 14, hjust = 0.5),\n",
        "    axis.title.x = element_text(size = 14),\n",
        "    axis.title.y = element_text(size = 14),\n",
        "    axis.text.x=element_text(size=13, colour=\"black\"),\n",
        "    axis.text.y=element_text(size=13,angle = 90,vjust = 0.5, hjust=0.5, colour='black'))"
      ],
      "metadata": {
        "colab": {
          "base_uri": "https://localhost:8080/",
          "height": 434
        },
        "id": "dTXCEXoGxY8C",
        "outputId": "d1c55710-726c-4698-a6cb-86561b152278"
      },
      "execution_count": null,
      "outputs": [
        {
          "output_type": "stream",
          "name": "stdout",
          "text": [
            "`geom_smooth()` using formula = 'y ~ x'\n"
          ]
        },
        {
          "output_type": "display_data",
          "data": {
            "image/png": "[encoded data removed]"
          },
          "metadata": {}
        }
      ]
    },
    {
      "cell_type": "markdown",
      "source": [
        "### Fit the Best RF model with hyperparameter tunning\n",
        "\n",
        "H2O Grid Search is a hyperparameter optimization technique used in the H2O machine learning framework. It involves a systematic search through a specified subset of hyperparameters of a machine learning model to find the optimal combination of hyperparameters that maximizes the performance metric of interest, such as RMSE or AUC.\n",
        "\n",
        "In a grid search, a set of hyperparameters is defined, and a range of values is specified for each hyperparameter. The grid search algorithm then systematically evaluates all possible combinations of hyperparameter values, training and evaluating a model for each combination, and selecting the combination that performs the best on the validation set.\n",
        "\n",
        "H2O Grid Search can be used with various machine learning models, including generalized linear models, random forest, gradient boosting machines, and deep learning models. It can help improve the performance of machine learning models by fine-tuning their hyperparameters and reducing overfitting.\n",
        "\n",
        "* ntrees :  number of trees\n",
        "* mtries:  number of variables randomly sampled as candidates at each split.\n",
        "* max_depth:  Maximum tree depth (0 for unlimited). Defaults to 20.\n",
        "* min_rows:   Fewest allowed (weighted) observations in a leaf.\n",
        "* sample_rate: Row sample rate per tree (from 0.0 to 1.0) Defaults to 0.632.\n",
        "\n",
        "**Search Criteria** is a parameter that can be used to specify the stopping criteria for a grid search or a random grid search. By setting the search_criteria parameter, you can control the runtime and complexity of the grid search, and avoid overfitting by early stopping based on the validation metric.\n",
        "\n",
        "search_criteria is a dictionary that contains one or more of the following parameters:\n",
        "\n",
        "**strategy**: H2O supports two types of grid search -- traditional (or \"cartesian\") grid search and random grid search. In a cartesian grid search, users specify a set of values for each hyperparameter that they want to search over, and H2O will train a model for every combination of the hyperparameter values. This means that if you have three hyperparameters and you specify 5, 10 and 2 values for each, your grid will contain a total of 5*10*2 = 100 models.\n",
        "\n",
        "**max_models**: The maximum number of models to build. The default is NULL, which means to build all possible models.\n",
        "\n",
        "**max_runtime_secs**: The maximum amount of time in seconds that the grid search can run. The default is NULL, which means to run until the other stopping criteria are met.\n",
        "\n",
        "**stopping_rounds**: The number of consecutive builds without an improvement in the validation metric that triggers early stopping. The default is 0, which means to disable early stopping.\n",
        "\n",
        "**stopping_tolerance**: The relative tolerance for the metric-based stopping criterion. The default is 0.001.\n",
        "\n",
        "**stopping_metric**: The metric to use for the metric-based stopping criterion. The default is \"AUTO\", which means to use the default metric for the specified problem type.\n",
        "\n",
        "RandomDiscrete grid search involves randomly sampling hyperparameters from a predefined set of discrete values and evaluating the performance of the model with each combination of hyperparameters.\n",
        "\n",
        "This method is useful when the search space for hyperparameters is large and discrete, meaning that the values are distinct and finite. In contrast to a regular grid search, which evaluates all possible combinations of hyperparameters, a random search selects a random subset of hyperparameters to evaluate.\n",
        "\n",
        "The advantage of using RandomDiscrete grid search is that it can be more efficient than a regular grid search, especially when many of the hyperparameters are not critical to the performance of the model. It can also help to prevent overfitting, as it encourages the exploration of a wider range of hyperparameters.\n",
        "\n",
        "For example, to specify a maximum of 20 models to build and a maximum runtime of 600 seconds for a grid search, you can set the search_criteria parameter as follows:"
      ],
      "metadata": {
        "id": "86U0ehK6xpcl"
      }
    },
    {
      "cell_type": "code",
      "source": [
        "%%R\n",
        "# Hyperparameter\n",
        "RF_hyper_params <- list(\n",
        "  ntrees      = seq(10, 500, by = 20),\n",
        "  mtries      = seq(10, 40, by = 10),\n",
        "  max_depth   = seq(20, 40, by = 5),\n",
        "  min_rows    = seq(1, 5, by = 1),\n",
        "  sample_rate = c(0.5, 0.6, 0.7, 0.8, 0.9))\n",
        "# Search criteria\n",
        "RF_search_criteria <- list(strategy = \"RandomDiscrete\",\n",
        "                        max_models = 200,\n",
        "                        max_runtime_secs = 900,\n",
        "                        stopping_tolerance = 0.001,\n",
        "                        stopping_rounds = 2,\n",
        "                        seed = 42)\n",
        "RF_hyper_params"
      ],
      "metadata": {
        "colab": {
          "base_uri": "https://localhost:8080/"
        },
        "id": "0Qa0iHkixtRh",
        "outputId": "49013cf7-b70e-4e3f-a8da-b79871f400bb"
      },
      "execution_count": null,
      "outputs": [
        {
          "output_type": "stream",
          "name": "stdout",
          "text": [
            "$ntrees\n",
            " [1]  10  30  50  70  90 110 130 150 170 190 210 230 250 270 290 310 330 350 370\n",
            "[20] 390 410 430 450 470 490\n",
            "\n",
            "$mtries\n",
            "[1] 10 20 30 40\n",
            "\n",
            "$max_depth\n",
            "[1] 20 25 30 35 40\n",
            "\n",
            "$min_rows\n",
            "[1] 1 2 3 4 5\n",
            "\n",
            "$sample_rate\n",
            "[1] 0.5 0.6 0.7 0.8 0.9\n",
            "\n"
          ]
        }
      ]
    },
    {
      "cell_type": "markdown",
      "source": [
        "### Fit DRF with Grid Search\n",
        "\n",
        "h2o.grid() provides a set of functions to launch a grid search and get its results:\n"
      ],
      "metadata": {
        "id": "IU0g2HKkyAmV"
      }
    },
    {
      "cell_type": "code",
      "source": [
        "%%R\n",
        "rf_grid <- h2o.grid(\n",
        "                  algorithm=\"randomForest\",\n",
        "                  grid_id = \"RF_grid_IDs\",\n",
        "                  x = x,\n",
        "                  y = y,\n",
        "                  training_frame = h_train,\n",
        "                  #validation_frame = h_valid,\n",
        "                  stopping_metric = \"RMSE\",\n",
        "                  #fold_assignment =\"Stratified\",\n",
        "                  nfolds=10,\n",
        "                  keep_cross_validation_predictions = TRUE,\n",
        "                  keep_cross_validation_models = TRUE,\n",
        "                  hyper_params = RF_hyper_params,\n",
        "                  search_criteria = RF_search_criteria,\n",
        "                  seed = 42)"
      ],
      "metadata": {
        "id": "htninoklyJEF"
      },
      "execution_count": null,
      "outputs": []
    },
    {
      "cell_type": "code",
      "source": [
        "%%R\n",
        "# number of RF models\n",
        "length(rf_grid@model_ids)"
      ],
      "metadata": {
        "colab": {
          "base_uri": "https://localhost:8080/"
        },
        "id": "YpSF_BfEyUVz",
        "outputId": "271e9b25-ce4a-40e1-8479-232a9a749e1e"
      },
      "execution_count": null,
      "outputs": [
        {
          "output_type": "stream",
          "name": "stdout",
          "text": [
            "[1] 27\n"
          ]
        }
      ]
    },
    {
      "cell_type": "markdown",
      "source": [
        "### The best DRF model"
      ],
      "metadata": {
        "id": "kQfnXeLcyAzD"
      }
    },
    {
      "cell_type": "code",
      "source": [
        "%%R\n",
        "DRF_get_grid <- h2o.getGrid(\"RF_grid_IDs\",\n",
        "                           sort_by=\"RMSE\",\n",
        "                           decreasing=F)\n",
        "# Get the best RF model\n",
        "best_DRF <- h2o.getModel(DRF_get_grid@model_ids[[1]])\n",
        "best_DRF"
      ],
      "metadata": {
        "colab": {
          "base_uri": "https://localhost:8080/"
        },
        "id": "EE7fS_8eyXSK",
        "outputId": "a3494f2b-541f-4c75-b2a6-622385cf16fb"
      },
      "execution_count": null,
      "outputs": [
        {
          "output_type": "stream",
          "name": "stdout",
          "text": [
            "Model Details:\n",
            "==============\n",
            "\n",
            "H2ORegressionModel: drf\n",
            "Model ID:  RF_grid_IDs_model_84 \n",
            "Model Summary: \n",
            "  number_of_trees number_of_internal_trees model_size_in_bytes min_depth\n",
            "1             270                      270              144141         7\n",
            "  max_depth mean_depth min_leaves max_leaves mean_leaves\n",
            "1        14    9.42593         32         43    37.67037\n",
            "\n",
            "\n",
            "H2ORegressionMetrics: drf\n",
            "** Reported on training data. **\n",
            "** Metrics reported on Out-Of-Bag training samples **\n",
            "\n",
            "MSE:  15.94351\n",
            "RMSE:  3.992933\n",
            "MAE:  2.806285\n",
            "RMSLE:  0.5039699\n",
            "Mean Residual Deviance :  15.94351\n",
            "\n",
            "\n",
            "\n",
            "H2ORegressionMetrics: drf\n",
            "** Reported on cross-validation data. **\n",
            "** 10-fold cross-validation on training data (Metrics computed for combined holdout predictions) **\n",
            "\n",
            "MSE:  16.315\n",
            "RMSE:  4.039183\n",
            "MAE:  2.866356\n",
            "RMSLE:  0.5111034\n",
            "Mean Residual Deviance :  16.315\n",
            "\n",
            "\n",
            "Cross-Validation Metrics Summary: \n",
            "                            mean       sd cv_1_valid cv_2_valid cv_3_valid\n",
            "mae                     2.860874 0.449045   2.267499   3.102017   3.216739\n",
            "mean_residual_deviance 16.097328 5.188074  11.034856  19.885280  20.089426\n",
            "mse                    16.097328 5.188074  11.034856  19.885280  20.089426\n",
            "r2                      0.329811 0.111791   0.269303   0.234600   0.182169\n",
            "residual_deviance      16.097328 5.188074  11.034856  19.885280  20.089426\n",
            "rmse                    3.970386 0.608607   3.321875   4.459291   4.482123\n",
            "rmsle                   0.505293 0.072686   0.494297   0.596576   0.584740\n",
            "                       cv_4_valid cv_5_valid cv_6_valid cv_7_valid cv_8_valid\n",
            "mae                      2.567617   2.691599   2.588361   3.342045   3.689473\n",
            "mean_residual_deviance  14.322351  14.035218  11.880959  16.494905  27.811340\n",
            "mse                     14.322351  14.035218  11.880959  16.494905  27.811340\n",
            "r2                       0.439310   0.382760   0.227164   0.523548   0.276597\n",
            "residual_deviance       14.322351  14.035218  11.880959  16.494905  27.811340\n",
            "rmse                     3.784488   3.746361   3.446877   4.061392   5.273646\n",
            "rmsle                    0.508224   0.416755   0.447670   0.591769   0.554744\n",
            "                       cv_9_valid cv_10_valid\n",
            "mae                      2.529162    2.614226\n",
            "mean_residual_deviance  12.069532   13.349416\n",
            "mse                     12.069532   13.349416\n",
            "r2                       0.322390    0.440267\n",
            "residual_deviance       12.069532   13.349416\n",
            "rmse                     3.474123    3.653685\n",
            "rmsle                    0.422950    0.435203\n"
          ]
        }
      ]
    },
    {
      "cell_type": "markdown",
      "source": [
        "### Model performance"
      ],
      "metadata": {
        "id": "PwCYdGcFymIv"
      }
    },
    {
      "cell_type": "code",
      "source": [
        "%%R\n",
        "# training performance\n",
        "h2o.performance(best_DRF, h_train)"
      ],
      "metadata": {
        "colab": {
          "base_uri": "https://localhost:8080/"
        },
        "id": "7OuomzBwyqeG",
        "outputId": "a2252cae-ddb5-4668-bc79-76dffdf338c6"
      },
      "execution_count": null,
      "outputs": [
        {
          "output_type": "stream",
          "name": "stdout",
          "text": [
            "H2ORegressionMetrics: drf\n",
            "\n",
            "MSE:  7.687139\n",
            "RMSE:  2.772569\n",
            "MAE:  1.908002\n",
            "RMSLE:  0.3592962\n",
            "Mean Residual Deviance :  7.687139\n",
            "\n"
          ]
        }
      ]
    },
    {
      "cell_type": "code",
      "source": [
        "%%R\n",
        "# CV-performance\n",
        "h2o.performance(best_DRF, xval=TRUE)"
      ],
      "metadata": {
        "colab": {
          "base_uri": "https://localhost:8080/"
        },
        "id": "nneFTMAVyqtu",
        "outputId": "52b2c07f-40e2-4efd-93e5-1513f8df3142"
      },
      "execution_count": null,
      "outputs": [
        {
          "output_type": "stream",
          "name": "stdout",
          "text": [
            "H2ORegressionMetrics: drf\n",
            "** Reported on cross-validation data. **\n",
            "** 10-fold cross-validation on training data (Metrics computed for combined holdout predictions) **\n",
            "\n",
            "MSE:  16.315\n",
            "RMSE:  4.039183\n",
            "MAE:  2.866356\n",
            "RMSLE:  0.5111034\n",
            "Mean Residual Deviance :  16.315\n",
            "\n"
          ]
        }
      ]
    },
    {
      "cell_type": "code",
      "source": [
        "%%R\n",
        "# test performance\n",
        "h2o.performance(best_DRF, h_test)"
      ],
      "metadata": {
        "colab": {
          "base_uri": "https://localhost:8080/"
        },
        "id": "o-KQ3e6Hyq8E",
        "outputId": "613311a1-6984-47b4-ed89-99acfa738b48"
      },
      "execution_count": null,
      "outputs": [
        {
          "output_type": "stream",
          "name": "stdout",
          "text": [
            "H2ORegressionMetrics: drf\n",
            "\n",
            "MSE:  12.5432\n",
            "RMSE:  3.541639\n",
            "MAE:  2.565853\n",
            "RMSLE:  0.497662\n",
            "Mean Residual Deviance :  12.5432\n",
            "\n"
          ]
        }
      ]
    },
    {
      "cell_type": "markdown",
      "source": [
        "### Prediction"
      ],
      "metadata": {
        "id": "fo_a2eVXy4V0"
      }
    },
    {
      "cell_type": "code",
      "source": [
        "%%R\n",
        "test.pred.DRF_best<-as.data.frame(h2o.predict(object = best_DRF, newdata = h_test))\n",
        "test.xy$best_DRF_SOC<-test.pred.DRF_best$predict"
      ],
      "metadata": {
        "id": "xrnEvUcsy4kK"
      },
      "execution_count": null,
      "outputs": []
    },
    {
      "cell_type": "markdown",
      "source": [
        "#### 1:1 Plot Observed vs Predicted values\n",
        "\n",
        "We can plot observed and predicted values with fitted regression line with ggplot2"
      ],
      "metadata": {
        "id": "snEH_B9v1Rtd"
      }
    },
    {
      "cell_type": "code",
      "source": [
        "%%R -w 400 -h 400 -u px\n",
        "formula<-y~x\n",
        "\n",
        "ggplot(test.xy, aes(SOC,best_DRF_SOC)) +\n",
        "  geom_point() +\n",
        "  geom_smooth(method = \"lm\")+\n",
        "  stat_poly_eq(use_label(c(\"eq\", \"adj.R2\")), formula = formula) +\n",
        "  ggtitle(\"H2O: The Best DRF: Observed vs Predicted SOC \") +\n",
        "  xlab(\"Observed\") + ylab(\"Predicted\") +\n",
        "  scale_x_continuous(limits=c(0,25), breaks=seq(0, 25, 5))+\n",
        "  scale_y_continuous(limits=c(0,25), breaks=seq(0, 25, 5)) +\n",
        "  # Flip the bars\n",
        "  theme(\n",
        "    panel.background = element_rect(fill = \"grey95\",colour = \"gray75\",size = 0.5, linetype = \"solid\"),\n",
        "    axis.line = element_line(colour = \"grey\"),\n",
        "    plot.title = element_text(size = 14, hjust = 0.5),\n",
        "    axis.title.x = element_text(size = 14),\n",
        "    axis.title.y = element_text(size = 14),\n",
        "    axis.text.x=element_text(size=13, colour=\"black\"),\n",
        "    axis.text.y=element_text(size=13,angle = 90,vjust = 0.5, hjust=0.5, colour='black'))"
      ],
      "metadata": {
        "colab": {
          "base_uri": "https://localhost:8080/",
          "height": 434
        },
        "id": "Dh7-Ui41zBB0",
        "outputId": "19981d44-a2a9-4890-ed05-71f37e42544a"
      },
      "execution_count": null,
      "outputs": [
        {
          "output_type": "stream",
          "name": "stdout",
          "text": [
            "`geom_smooth()` using formula = 'y ~ x'\n"
          ]
        },
        {
          "output_type": "display_data",
          "data": {
            "image/png": "[encoded data removed]"
          },
          "metadata": {}
        }
      ]
    },
    {
      "cell_type": "markdown",
      "source": [
        "### Model Explainability\n",
        "\n",
        "Model explainability refers to the ability to understand and interpret the decisions made by a machine learning model. In other words, it is the ability to explain how a model arrives at its predictions or classifications.\n",
        "\n",
        "Explainability is particularly important in applications where decisions made by the model have significant real-world consequences, such as in healthcare, finance, and legal fields. It is also important for regulatory compliance, where models must be auditable and transparent.\n",
        "\n",
        "The h2o.explain() function generates a list of explanations -- individual units of explanation such as a Partial Dependence plot or a Variable Importance plot. Most of the explanations are visual -- these plots can also be created by individual utility functions outside the h2o.explain() function."
      ],
      "metadata": {
        "id": "DdfmfVN1zJPE"
      }
    },
    {
      "cell_type": "markdown",
      "source": [
        "#### Variable importance."
      ],
      "metadata": {
        "id": "boPci1I4zNcI"
      }
    },
    {
      "cell_type": "code",
      "source": [
        "%%R\n",
        "h2o.varimp(best_DRF)"
      ],
      "metadata": {
        "colab": {
          "base_uri": "https://localhost:8080/"
        },
        "id": "NyCHUOZizNmh",
        "outputId": "b5f3b3de-8844-42cc-879e-52bcec004b4b"
      },
      "execution_count": null,
      "outputs": [
        {
          "output_type": "stream",
          "name": "stdout",
          "text": [
            "Variable Importances: \n",
            "   variable relative_importance scaled_importance percentage\n",
            "1      NDVI       731981.187500          1.000000   0.569060\n",
            "2     Slope        96032.351562          0.131195   0.074658\n",
            "3       MAP        95423.500000          0.130363   0.074185\n",
            "4  SiltClay        71684.015625          0.097931   0.055729\n",
            "5   KFactor        65044.726562          0.088861   0.050567\n",
            "6    Aspect        58552.929688          0.079992   0.045520\n",
            "7       MAT        57641.214844          0.078747   0.044812\n",
            "8       TPI        50425.214844          0.068889   0.039202\n",
            "9       DEM        36839.414062          0.050328   0.028640\n",
            "10      FRG        16002.115234          0.021861   0.012440\n",
            "11     NLCD         6672.872070          0.009116   0.005188\n"
          ]
        }
      ]
    },
    {
      "cell_type": "markdown",
      "source": [
        "#### Variable Importance Plot"
      ],
      "metadata": {
        "id": "v65haBuGzY5q"
      }
    },
    {
      "cell_type": "code",
      "source": [
        "%%R -w 400 -h 400 -u px\n",
        "h2o.varimp_plot(best_DRF)"
      ],
      "metadata": {
        "colab": {
          "base_uri": "https://localhost:8080/",
          "height": 417
        },
        "id": "ApdeeLou1-LN",
        "outputId": "8997c108-910c-45ff-e47a-8e62a68bbdee"
      },
      "execution_count": null,
      "outputs": [
        {
          "output_type": "display_data",
          "data": {
            "image/png": "[encoded data removed]"
          },
          "metadata": {}
        }
      ]
    },
    {
      "cell_type": "markdown",
      "source": [
        "### SHAP Local Explanation\n",
        "\n",
        "SHAP (SHapley Additive exPlanations) values are a method for explaining the output of any machine learning model. SHAP values provide a way to attribute the prediction of an individual feature to its contribution to the final prediction, taking into account the interaction with other features in the model.\n",
        "\n",
        "SHAP values are based on the Shapley value from cooperative game theory, which attributes a value to each player in a game based on their contribution to the game's outcome. In the context of machine learning, the \"players\" are the input features of the model, and the \"game\" is the prediction made by the model.\n",
        "\n",
        "The SHAP value for a particular feature is calculated by comparing the model's prediction for a specific data point with and without that feature's value included. This comparison is done for all possible subsets of features, and the contributions of each feature are averaged using the Shapley value formula.\n",
        "\n",
        "The resulting SHAP values represent the contribution of each feature to the final prediction, with positive values indicating a positive impact on the prediction and negative values indicating a negative impact.\n",
        "\n",
        "SHAP values can be used to provide insights into how a model is making its predictions and to identify which features are most important for a particular prediction. They can also be used to identify bias in a model and to ensure that the model is making predictions fairly and transparently.\n",
        "\n",
        "H2O implements TreeSHAP which when the features are correlated, can increase contribution of a feature that had no influence on the prediction."
      ],
      "metadata": {
        "id": "zUf7pB8XzgLj"
      }
    },
    {
      "cell_type": "code",
      "source": [
        "%%R -w 450 -h 500 -u px\n",
        "h2o.shap_summary_plot(best_DRF, h_train)"
      ],
      "metadata": {
        "colab": {
          "base_uri": "https://localhost:8080/"
        },
        "id": "aG6JV6LozZB2",
        "outputId": "a01c39aa-5736-4522-f033-f2ab4d6da395"
      },
      "execution_count": null,
      "outputs": [
        {
          "output_type": "stream",
          "name": "stderr",
          "text": [
            "UsageError: Cell magic `%%R` not found.\n"
          ]
        }
      ]
    },
    {
      "cell_type": "markdown",
      "source": [
        "### Partial Dependence (PD) Plots\n",
        "\n",
        "A partial dependence plot (PDP) is a graphical tool for understanding the relationship between a particular input feature and the output of a machine learning model.\n",
        "\n",
        "A PDP shows the marginal effect of a single feature on the predicted outcome while holding all other features at a fixed value or their average value. The PDP can help to visualize the shape and direction of the relationship between the feature and the output, and can also help to identify any non-linearities or interactions between the feature and other features in the model.\n",
        "\n",
        "To create a PDP, the value of the feature of interest is varied over its range, and the model's predicted output is recorded for each value. The resulting data is then plotted on a graph, with the feature's value on the x-axis and the predicted output on the y-axis.\n",
        "\n",
        "PDPs can be used to gain insights into how a model is making its predictions and to identify which features are most important for the model's output. They can also be used to identify potential biases in the model or to detect interactions between features that may be difficult to detect using other methods."
      ],
      "metadata": {
        "id": "lqOs_C-Jzl1x"
      }
    },
    {
      "cell_type": "code",
      "source": [
        "%%R -w 450 -h 400 -u px\n",
        "h2o.pd_multi_plot(best_DRF, h_train, \"NDVI\")"
      ],
      "metadata": {
        "colab": {
          "base_uri": "https://localhost:8080/"
        },
        "id": "xPI_5p93zl9x",
        "outputId": "fccc1b31-beea-43c3-cad1-242f1a48acef"
      },
      "execution_count": null,
      "outputs": [
        {
          "output_type": "stream",
          "name": "stderr",
          "text": [
            "UsageError: Cell magic `%%R` not found.\n"
          ]
        }
      ]
    },
    {
      "cell_type": "markdown",
      "source": [
        "#### Residual Analysis\n",
        "\n",
        "Residual Analysis plots the fitted values vs residuals on a test dataset. Ideally, residuals should be randomly distributed. Patterns in this plot can indicate potential problems with the model selection, e.g., using simpler model than necessary, not accounting for heteroscedasticity, autocorrelation, etc. Note that if you see \"striped\" lines of residuals, that is an artifact of having an integer valued (vs a real valued) response variable"
      ],
      "metadata": {
        "id": "nVHAX0eb0R3Q"
      }
    },
    {
      "cell_type": "code",
      "source": [
        "%%R -w 450 -h 400 -u px\n",
        "h2o.residual_analysis_plot(best_DRF, h_train)"
      ],
      "metadata": {
        "colab": {
          "base_uri": "https://localhost:8080/"
        },
        "id": "4OExM6vm0SPS",
        "outputId": "b103c491-012f-48aa-b866-c0c227967c51"
      },
      "execution_count": null,
      "outputs": [
        {
          "output_type": "stream",
          "name": "stderr",
          "text": [
            "UsageError: Cell magic `%%R` not found.\n"
          ]
        }
      ]
    },
    {
      "cell_type": "markdown",
      "source": [
        "## Further Reading\n",
        "\n",
        "1.  [Random Forest in R](https://www.r-bloggers.com/2021/04/random-forest-in-r/)\n",
        "\n",
        "2.  [Tuning random forest hyperparameters with #TidyTuesday trees data](https://juliasilge.com/blog/sf-trees-random-tuning/)\n",
        "\n",
        "3.  [GBM_RandomForest_Example.R](https://github.com/h2oai/h2o-tutorials/blob/master/tutorials/gbm-randomforest/GBM_RandomForest_Example.R)\n",
        "\n",
        "4.  [Training and Turning Parameters for Random Forest Using h2o Package](https://rpubs.com/chidungkt/449576)"
      ],
      "metadata": {
        "id": "ogLAC_sy0fXM"
      }
    },
    {
      "cell_type": "markdown",
      "source": [
        "### YouTube Video\n",
        "\n",
        "1.  Visual Guide to Random Forest\n",
        "\n",
        "{{< video https://www.youtube.com/watch?v=cIbj0WuK41w&t=224s >}}\n",
        "\n",
        "Source: [Econoscent](https://www.youtube.com/@Econoscent)\n",
        "\n",
        "2.  StatQuest: Random Forests Part 1 - Building, Using and Evaluating\n",
        "\n",
        "{{< video https://www.youtube.com/watch?v=J4Wdy0Wc_xQ >}}\n",
        "\n",
        "Source: [StatQuest with Josh Starme](https://www.youtube.com/@statquest)"
      ],
      "metadata": {
        "id": "-BiJoAw10hfB"
      }
    }
  ]
}