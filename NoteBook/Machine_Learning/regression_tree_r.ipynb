{
  "nbformat": 4,
  "nbformat_minor": 0,
  "metadata": {
    "colab": {
      "provenance": [],
      "authorship_tag": "ABX9TyNsWLJAG2zeUO2yVjApNXIJ",
      "include_colab_link": true
    },
    "kernelspec": {
      "name": "python3",
      "display_name": "Python 3"
    },
    "language_info": {
      "name": "python"
    }
  },
  "cells": [
    {
      "cell_type": "markdown",
      "metadata": {
        "id": "view-in-github",
        "colab_type": "text"
      },
      "source": [
        "<a href=\"https://colab.research.google.com/github/zia207/r-colab/blob/main/NoteBook/Machine_Learning/regression_tree_r.ipynb\" target=\"_parent\"><img src=\"https://colab.research.google.com/assets/colab-badge.svg\" alt=\"Open In Colab\"/></a>"
      ]
    },
    {
      "cell_type": "markdown",
      "source": [
        "# Regression Trees in R\n",
        "\n",
        "Zia Ahmed, University at Buffalo\n",
        "\n",
        "A regression tree is a decision tree used for predicting continuous numerical values rather than categorical ones. Like a decision tree, a regression tree consists of nodes that represent tests on input features. These branches represent possible outcomes of these tests, and leaf nodes that represent final predictions.\n",
        "\n",
        "The tree is constructed by recursively splitting the data into subsets based on the most informative feature or attribute until a stopping criterion is met. At each split, the goal is to minimize the variance of the target variable within each subset. This is typically done by finding the split that results in the most significant reduction in variance. Once the tree is constructed, it can be used to make predictions by following the path from the root node to a leaf node that corresponds to the input features. The prediction is then the mean or median of the target values of the training examples that belong to the leaf node.\n",
        "\n",
        "Here are the steps involved in building a regression tree:\n",
        "\n",
        "Select a split point: Select a feature that will best split the data into two groups. The goal is to minimize the variance of each group. At each node, the algorithm selects a split point for one of the input variables that divides the data into two subsets, such that the variance of the target variable is minimized within each subset.\n",
        "\n",
        "Calculate the split criteria: A split criteria is calculated to determine the quality of the split. The most commonly used split criteria is the mean squared error (MSE) or the sum of squared errors (SSE).\n",
        "\n",
        "Repeat for each subset (step 1 and 2): The algorithm then recursively repeats this process on each subset until a stopping criterion is met. This stopping criterion could be a maximum tree depth or a minimum number of data points in a node.\n",
        "\n",
        "Prediction: Once the tree is built, the prediction is made by traversing the tree from the root node to a leaf node, which corresponds to a final prediction. The prediction is the mean or median value of the target variable within the leaf node."
      ],
      "metadata": {
        "id": "AhJkEmHP_XNx"
      }
    },
    {
      "cell_type": "markdown",
      "source": [
        "### Install rpy2\n",
        "rpy2 is an interface to R running embedded in a Python process."
      ],
      "metadata": {
        "id": "ENC9bjyW7C40"
      }
    },
    {
      "cell_type": "code",
      "source": [
        "!pip uninstall rpy2 -y\n",
        "!pip install rpy2==3.5.1\n",
        "%load_ext rpy2.ipython"
      ],
      "metadata": {
        "id": "jMaWAurT6_e1"
      },
      "execution_count": null,
      "outputs": []
    },
    {
      "cell_type": "markdown",
      "source": [
        "### Mount Google Drive"
      ],
      "metadata": {
        "id": "NHKpncys7IQw"
      }
    },
    {
      "cell_type": "code",
      "execution_count": null,
      "metadata": {
        "colab": {
          "base_uri": "https://localhost:8080/"
        },
        "id": "ndujq97Y_R17",
        "outputId": "f2b8b9a2-8f96-4560-c429-542a26314210"
      },
      "outputs": [
        {
          "output_type": "stream",
          "name": "stdout",
          "text": [
            "Drive already mounted at /content/drive; to attempt to forcibly remount, call drive.mount(\"/content/drive\", force_remount=True).\n"
          ]
        }
      ],
      "source": [
        "from google.colab import drive\n",
        "drive.mount('/content/drive')"
      ]
    },
    {
      "cell_type": "markdown",
      "source": [],
      "metadata": {
        "id": "zwx8gHvB7Ui6"
      }
    },
    {
      "cell_type": "code",
      "source": [
        "#%%R\n",
        "#install.packages(c('tidyverse', 'tidymodels', 'caret', 'Metrics', 'ggmisc'), lib='drive/My Drive/R/', repos='http://cran.rstudio.com/')\n"
      ],
      "metadata": {
        "id": "PryGaH5x7Urv"
      },
      "execution_count": null,
      "outputs": []
    },
    {
      "cell_type": "code",
      "source": [
        "%%R\n",
        "install.packages('rpart', lib='drive/My Drive/R/', repos='http://cran.rstudio.com/') # it is not available repos='http://cran.rstudio.com/\n"
      ],
      "metadata": {
        "id": "IASAywxp7tG8"
      },
      "execution_count": null,
      "outputs": []
    },
    {
      "cell_type": "code",
      "source": [
        "%%R\n",
        "install.packages('rpart.plot', lib='drive/My Drive/R/')"
      ],
      "metadata": {
        "id": "xF62YzS7Twe9"
      },
      "execution_count": null,
      "outputs": []
    },
    {
      "cell_type": "code",
      "source": [
        "%%R\n",
        "install.packages('vip', lib='drive/My Drive/R/')"
      ],
      "metadata": {
        "id": "2vL2pqh6VfDn"
      },
      "execution_count": null,
      "outputs": []
    },
    {
      "cell_type": "markdown",
      "source": [
        "### Load packages"
      ],
      "metadata": {
        "id": "5kTWDEgZF-me"
      }
    },
    {
      "cell_type": "code",
      "source": [
        "%%R\n",
        "# set library path\n",
        ".libPaths('drive/My Drive/R')"
      ],
      "metadata": {
        "id": "i05mOpooF-uk"
      },
      "execution_count": null,
      "outputs": []
    },
    {
      "cell_type": "code",
      "source": [
        "%%R\n",
        "library(tidyverse)\n",
        "library(tidymodels)\n",
        "library(caret)"
      ],
      "metadata": {
        "id": "TeeoEAZmGHUA"
      },
      "execution_count": null,
      "outputs": []
    },
    {
      "cell_type": "markdown",
      "source": [
        "### Data\n",
        "\n",
        "In this exercise we will use following data set.\n",
        "\n",
        "[gp_soil_data.csv](https://www.dropbox.com/s/9ikm5yct36oflei/gp_soil_data.csv?dl=0)"
      ],
      "metadata": {
        "id": "BFlXP_3iGPI8"
      }
    },
    {
      "cell_type": "code",
      "source": [
        "%%R\n",
        "urlfile = \"https://github.com//zia207/r-colab/raw/main/Data/USA/gp_soil_data.csv\"\n",
        "mf<-read_csv(url(urlfile))\n",
        "# Create a data-frame\n",
        "df<-mf %>% dplyr::select(SOC, DEM, Slope, TPI,MAT, MAP,NDVI, NLCD, FRG)%>%\n",
        "    glimpse()"
      ],
      "metadata": {
        "colab": {
          "base_uri": "https://localhost:8080/"
        },
        "id": "tx98yf_rGPSU",
        "outputId": "11f11290-6127-44f4-c6ac-0084dac37758"
      },
      "execution_count": null,
      "outputs": [
        {
          "output_type": "stream",
          "name": "stdout",
          "text": [
            "Rows: 467 Columns: 19\n",
            "── Column specification ────────────────────────────────────────────────────────\n",
            "Delimiter: \",\"\n",
            "chr  (4): STATE, COUNTY, NLCD, FRG\n",
            "dbl (15): ID, FIPS, STATE_ID, Longitude, Latitude, SOC, DEM, Aspect, Slope, ...\n",
            "\n",
            "ℹ Use `spec()` to retrieve the full column specification for this data.\n",
            "ℹ Specify the column types or set `show_col_types = FALSE` to quiet this message.\n",
            "Rows: 467\n",
            "Columns: 9\n",
            "$ SOC   <dbl> 15.763, 15.883, 18.142, 10.745, 10.479, 16.987, 24.954, 6.288, 2…\n",
            "$ DEM   <dbl> 2229.079, 1889.400, 2423.048, 2484.283, 2396.195, 2360.573, 2254…\n",
            "$ Slope <dbl> 5.6716146, 8.9138117, 4.7748051, 7.1218114, 7.9498644, 9.6632147…\n",
            "$ TPI   <dbl> -0.08572358, 4.55913162, 2.60588670, 5.14693117, 3.75570583, 6.5…\n",
            "$ MAT   <dbl> 4.5951686, 3.8599243, 0.8855000, 0.4707811, 0.7588266, 1.3586667…\n",
            "$ MAP   <dbl> 468.3245, 536.3522, 859.5509, 869.4724, 802.9743, 1121.2744, 610…\n",
            "$ NDVI  <dbl> 0.4139390, 0.6939532, 0.5466033, 0.6191013, 0.5844722, 0.6028353…\n",
            "$ NLCD  <chr> \"Shrubland\", \"Shrubland\", \"Forest\", \"Forest\", \"Forest\", \"Forest\"…\n",
            "$ FRG   <chr> \"Fire Regime Group IV\", \"Fire Regime Group IV\", \"Fire Regime Gro…\n"
          ]
        }
      ]
    },
    {
      "cell_type": "markdown",
      "source": [
        "## Regression tree with rpart\n",
        "\n",
        "The rpart package is an R package for building classification and regression trees using the Recursive Partitioning And Regression Trees (RPART) algorithm. This algorithm uses a top-down, greedy approach to recursively partition the data into smaller subsets, where each subset is homogeneous with respect to the target variable.\n",
        "\n",
        "The rpart package provides functions for fitting and predicting with regression trees, as well as for visualizing the resulting tree. Some of the main functions in the rpart package include:\n",
        "\n",
        "rpart(): This function is used to fit a regression or classification tree to the data. It takes a formula, a data frame, and optional arguments for controlling the tree-building process.\n",
        "\n",
        "predict.rpart(): This function is used to predict the target variable for new data using a fitted regression or classification tree.\n",
        "\n",
        "printcp(): This function is used to print the complexity parameter table for a fitted regression or classification tree. This table shows the cross-validated error rate for different values of the complexity parameter, which controls the size of the tree.\n",
        "\n",
        "plot(): This function is used to visualize a fitted regression or classification tree. It produces a graphical representation of the tree with the nodes and branches labeled."
      ],
      "metadata": {
        "id": "_Ayt3Y5WGfkm"
      }
    },
    {
      "cell_type": "code",
      "source": [
        "%%R\n",
        "library(rpart) #for fitting decision trees\n",
        "library(rpart.plot) #for plotting decision trees"
      ],
      "metadata": {
        "id": "1EHSqeYfGfvA"
      },
      "execution_count": null,
      "outputs": []
    },
    {
      "cell_type": "markdown",
      "source": [
        "### Data Split"
      ],
      "metadata": {
        "id": "fHRZo9MFHYKu"
      }
    },
    {
      "cell_type": "code",
      "source": [
        "%%R\n",
        "set.seed(1245)   # for reproducibility\n",
        "split.df <- initial_split(df, prop = 0.8, strata = SOC)\n",
        "train.df <- split.df %>% training()\n",
        "test.df <-  split.df %>% testing()"
      ],
      "metadata": {
        "id": "Lxn4h5DAHOI_"
      },
      "execution_count": null,
      "outputs": []
    },
    {
      "cell_type": "markdown",
      "source": [
        "### Build the initial regression tree\n",
        "\n",
        "The rpart() function takes as input a formula specifying the target variable to be predicted and the predictors to be used in the model, as well as a data set containing the observations. It then recursively partitions the data based on the predictors, creating a tree structure in which each internal node represents a decision based on a predictor and each leaf node represents a predicted value for the target variable.\n",
        "\n",
        "First, we'll build a large initial regression tree. We can ensure that the tree is large by using a small value for cp, which stands for \"complexity parameter.\"\n",
        "\n",
        "We'll then use the printcp() function to print the results of the model:"
      ],
      "metadata": {
        "id": "oIlALsNGHfbp"
      }
    },
    {
      "cell_type": "code",
      "source": [
        "%%R\n",
        "in.fit <- rpart(SOC ~ ., data=train.df,\n",
        "              control=rpart.control(cp=.0001),\n",
        "              method = \"anova\")\n",
        "\n",
        "#view results\n",
        "printcp(in.fit)"
      ],
      "metadata": {
        "colab": {
          "base_uri": "https://localhost:8080/"
        },
        "id": "XVR81rLBHhnw",
        "outputId": "47b4960f-b60f-4aab-9c99-00a0d59fc6e6"
      },
      "execution_count": null,
      "outputs": [
        {
          "output_type": "stream",
          "name": "stdout",
          "text": [
            "\n",
            "Regression tree:\n",
            "rpart(formula = SOC ~ ., data = train.df, method = \"anova\", control = rpart.control(cp = 1e-04))\n",
            "\n",
            "Variables actually used in tree construction:\n",
            "[1] DEM   MAP   MAT   NDVI  Slope TPI  \n",
            "\n",
            "Root node error: 9299.7/371 = 25.067\n",
            "\n",
            "n= 371 \n",
            "\n",
            "           CP nsplit rel error  xerror     xstd\n",
            "1  0.26043041      0   1.00000 1.01148 0.115282\n",
            "2  0.08739231      1   0.73957 0.76861 0.091215\n",
            "3  0.03981695      2   0.65218 0.71171 0.089400\n",
            "4  0.02968373      3   0.61236 0.72457 0.087274\n",
            "5  0.02772462      4   0.58268 0.72593 0.086536\n",
            "6  0.01720801      5   0.55495 0.69395 0.079646\n",
            "7  0.01431336      6   0.53774 0.71741 0.082321\n",
            "8  0.01427435      7   0.52343 0.71149 0.082248\n",
            "9  0.01138460      9   0.49488 0.70991 0.082360\n",
            "10 0.00941973     10   0.48350 0.71513 0.084972\n",
            "11 0.00828430     11   0.47408 0.71070 0.084374\n",
            "12 0.00726562     12   0.46579 0.71850 0.084522\n",
            "13 0.00668445     14   0.45126 0.74686 0.085528\n",
            "14 0.00656314     15   0.44458 0.73642 0.083937\n",
            "15 0.00514674     17   0.43145 0.73066 0.083153\n",
            "16 0.00410671     19   0.42116 0.74794 0.083536\n",
            "17 0.00367566     20   0.41705 0.76025 0.084265\n",
            "18 0.00361023     21   0.41338 0.75826 0.084291\n",
            "19 0.00253657     23   0.40615 0.76433 0.084755\n",
            "20 0.00246964     25   0.40108 0.76479 0.084621\n",
            "21 0.00203912     26   0.39861 0.76680 0.084640\n",
            "22 0.00162964     27   0.39657 0.76987 0.084323\n",
            "23 0.00117553     28   0.39494 0.77229 0.084231\n",
            "24 0.00064774     29   0.39377 0.77535 0.084544\n",
            "25 0.00061119     30   0.39312 0.77522 0.084535\n",
            "26 0.00042612     31   0.39251 0.77570 0.084534\n",
            "27 0.00010000     32   0.39208 0.77506 0.084536\n"
          ]
        }
      ]
    },
    {
      "cell_type": "markdown",
      "source": [
        "We can use the plotcp() function to visualize the cross-validated error for each level of tree complexity:"
      ],
      "metadata": {
        "id": "7ighFaMzIYHt"
      }
    },
    {
      "cell_type": "code",
      "source": [
        "%%R\n",
        "plotcp(in.fit)"
      ],
      "metadata": {
        "colab": {
          "base_uri": "https://localhost:8080/",
          "height": 497
        },
        "id": "gweCNioYIYOy",
        "outputId": "70a26d3c-ba71-49e1-fcb7-dc967e2fb73f"
      },
      "execution_count": null,
      "outputs": [
        {
          "output_type": "display_data",
          "data": {
            "image/png": "[encoded data removed]"
          },
          "metadata": {}
        }
      ]
    },
    {
      "cell_type": "markdown",
      "source": [
        "### Prune the tree\n",
        "\n",
        "Pruning is a technique used to reduce the size of a regression tree by removing some of the branches that do not contribute much to the prediction accuracy. Pruning can help to avoid overfitting and improve the generalization performance of the model.\n",
        "\n",
        "Next, we'll prune the regression tree to find the optimal value to use for cp (the complexity parameter) that leads to the lowest test error. Use the prune() function to prune the tree to the desired complexity level. For example, to prune the tree to the level with the lowest cross-validated error.\n",
        "\n",
        "Note that the optimal value for cp is the one that leads to the lowest xerror in the previous output, which represents the error on the observations from the cross-validation data.\n",
        "\n",
        "First, #identify best cp value to use:"
      ],
      "metadata": {
        "id": "5QsAJeCAIjBj"
      }
    },
    {
      "cell_type": "code",
      "source": [
        "%%R\n",
        "best_cp <-in.fit$cptable[which.min(in.fit$cptable[,\"xerror\"]),\"CP\"]\n",
        "best_cp"
      ],
      "metadata": {
        "colab": {
          "base_uri": "https://localhost:8080/"
        },
        "id": "xmt4PW5_Ikig",
        "outputId": "2cbc673e-c6cc-49ce-e8a2-e50acb68c1b9"
      },
      "execution_count": null,
      "outputs": [
        {
          "output_type": "stream",
          "name": "stdout",
          "text": [
            "[1] 0.01720801\n"
          ]
        }
      ]
    },
    {
      "cell_type": "markdown",
      "source": [
        "We use use this cp value to prune the tree:"
      ],
      "metadata": {
        "id": "ZUXn8PJ6Irw1"
      }
    },
    {
      "cell_type": "code",
      "source": [
        "%%R\n",
        "pruned.fit <- rpart::prune(in.fit, cp = best_cp)\n",
        "summary(pruned.fit)"
      ],
      "metadata": {
        "colab": {
          "base_uri": "https://localhost:8080/"
        },
        "id": "Ts27h4Q6Ir79",
        "outputId": "5b0b6c77-bfa7-4f79-fc45-3359842ddaad"
      },
      "execution_count": null,
      "outputs": [
        {
          "output_type": "stream",
          "name": "stdout",
          "text": [
            "Call:\n",
            "rpart(formula = SOC ~ ., data = train.df, method = \"anova\", control = rpart.control(cp = 1e-04))\n",
            "  n= 371 \n",
            "\n",
            "          CP nsplit rel error    xerror       xstd\n",
            "1 0.26043041      0 1.0000000 1.0114796 0.11528232\n",
            "2 0.08739231      1 0.7395696 0.7686088 0.09121486\n",
            "3 0.03981695      2 0.6521773 0.7117057 0.08939984\n",
            "4 0.02968373      3 0.6123603 0.7245669 0.08727429\n",
            "5 0.02772462      4 0.5826766 0.7259339 0.08653580\n",
            "6 0.01720801      5 0.5549520 0.6939516 0.07964616\n",
            "\n",
            "Variable importance\n",
            " NDVI   MAP   DEM Slope   MAT   FRG  NLCD   TPI \n",
            "   36    19    15    10     6     6     5     2 \n",
            "\n",
            "Node number 1: 371 observations,    complexity param=0.2604304\n",
            "  mean=6.324235, MSE=25.06656 \n",
            "  left son=2 (296 obs) right son=3 (75 obs)\n",
            "  Primary splits:\n",
            "      NDVI  < 0.5842654 to the left,  improve=0.2604304, (0 missing)\n",
            "      MAP   < 532.8792  to the left,  improve=0.2155606, (0 missing)\n",
            "      Slope < 7.58043   to the left,  improve=0.1564041, (0 missing)\n",
            "      DEM   < 2224.082  to the left,  improve=0.1470950, (0 missing)\n",
            "      NLCD  splits as  RLLL, improve=0.1438367, (0 missing)\n",
            "  Surrogate splits:\n",
            "      MAP   < 571.6627  to the left,  agree=0.881, adj=0.413, (0 split)\n",
            "      DEM   < 434.4941  to the right, agree=0.860, adj=0.307, (0 split)\n",
            "      Slope < 13.61135  to the left,  agree=0.819, adj=0.107, (0 split)\n",
            "      TPI   < -12.78235 to the right, agree=0.801, adj=0.013, (0 split)\n",
            "\n",
            "Node number 2: 296 observations,    complexity param=0.08739231\n",
            "  mean=5.038125, MSE=15.01387 \n",
            "  left son=4 (134 obs) right son=5 (162 obs)\n",
            "  Primary splits:\n",
            "      NDVI  < 0.3528117 to the left,  improve=0.18287630, (0 missing)\n",
            "      MAP   < 387.1482  to the left,  improve=0.11492150, (0 missing)\n",
            "      Slope < 4.752073  to the left,  improve=0.10102130, (0 missing)\n",
            "      DEM   < 2224.159  to the left,  improve=0.08812804, (0 missing)\n",
            "      MAT   < 4.677448  to the right, improve=0.08112037, (0 missing)\n",
            "  Surrogate splits:\n",
            "      MAP  < 379.2133  to the left,  agree=0.807, adj=0.575, (0 split)\n",
            "      NLCD splits as  RRRL, agree=0.713, adj=0.366, (0 split)\n",
            "      MAT  < 13.13257  to the right, agree=0.642, adj=0.209, (0 split)\n",
            "      DEM  < 1279.093  to the right, agree=0.632, adj=0.187, (0 split)\n",
            "      FRG  splits as  RRRLRL, agree=0.618, adj=0.157, (0 split)\n",
            "\n",
            "Node number 3: 75 observations,    complexity param=0.03981695\n",
            "  mean=11.40008, MSE=32.44885 \n",
            "  left son=6 (62 obs) right son=7 (13 obs)\n",
            "  Primary splits:\n",
            "      Slope < 14.4491   to the left,  improve=0.15215140, (0 missing)\n",
            "      MAT   < 4.337716  to the right, improve=0.12463470, (0 missing)\n",
            "      TPI   < -6.247421 to the right, improve=0.10937240, (0 missing)\n",
            "      DEM   < 2662.899  to the left,  improve=0.08923955, (0 missing)\n",
            "      FRG   splits as  LLRRLL, improve=0.08595199, (0 missing)\n",
            "  Surrogate splits:\n",
            "      DEM < 2941.671  to the left,  agree=0.907, adj=0.462, (0 split)\n",
            "      TPI < 7.98983   to the left,  agree=0.867, adj=0.231, (0 split)\n",
            "\n",
            "Node number 4: 134 observations\n",
            "  mean=3.216201, MSE=7.07873 \n",
            "\n",
            "Node number 5: 162 observations,    complexity param=0.02968373\n",
            "  mean=6.545148, MSE=16.56071 \n",
            "  left son=10 (93 obs) right son=11 (69 obs)\n",
            "  Primary splits:\n",
            "      Slope < 3.711134  to the left,  improve=0.10289470, (0 missing)\n",
            "      MAT   < 7.698525  to the right, improve=0.09969410, (0 missing)\n",
            "      DEM   < 2221.589  to the left,  improve=0.04757807, (0 missing)\n",
            "      FRG   splits as  LLLRR-, improve=0.04470613, (0 missing)\n",
            "      TPI   < -6.121288 to the right, improve=0.04145276, (0 missing)\n",
            "  Surrogate splits:\n",
            "      DEM  < 1948.863  to the left,  agree=0.901, adj=0.768, (0 split)\n",
            "      FRG  splits as  RLRRR-, agree=0.901, adj=0.768, (0 split)\n",
            "      MAT  < 7.698525  to the right, agree=0.877, adj=0.710, (0 split)\n",
            "      NLCD splits as  RLLR, agree=0.870, adj=0.696, (0 split)\n",
            "      TPI  < -1.128563 to the right, agree=0.728, adj=0.362, (0 split)\n",
            "\n",
            "Node number 6: 62 observations\n",
            "  mean=10.38263, MSE=18.84759 \n",
            "\n",
            "Node number 7: 13 observations\n",
            "  mean=16.25254, MSE=68.8329 \n",
            "\n",
            "Node number 10: 93 observations\n",
            "  mean=5.420753, MSE=9.754629 \n",
            "\n",
            "Node number 11: 69 observations,    complexity param=0.02772462\n",
            "  mean=8.060638, MSE=21.73339 \n",
            "  left son=22 (62 obs) right son=23 (7 obs)\n",
            "  Primary splits:\n",
            "      MAP   < 564.6852  to the left,  improve=0.17193230, (0 missing)\n",
            "      FRG   splits as  LRLRR-, improve=0.09124332, (0 missing)\n",
            "      MAT   < 1.144284  to the right, improve=0.04186447, (0 missing)\n",
            "      Slope < 8.952535  to the right, improve=0.04069068, (0 missing)\n",
            "      DEM   < 1515.267  to the right, improve=0.03584497, (0 missing)\n",
            "  Surrogate splits:\n",
            "      MAT < 1.144284  to the right, agree=0.971, adj=0.714, (0 split)\n",
            "      FRG splits as  LLLLR-, agree=0.971, adj=0.714, (0 split)\n",
            "      DEM < 3242.956  to the left,  agree=0.913, adj=0.143, (0 split)\n",
            "\n",
            "Node number 22: 62 observations\n",
            "  mean=7.411113, MSE=16.42328 \n",
            "\n",
            "Node number 23: 7 observations\n",
            "  mean=13.81357, MSE=31.93295 \n",
            "\n"
          ]
        }
      ]
    },
    {
      "cell_type": "markdown",
      "source": [
        "We can use rpart.plot() function to plot  the regression tree:"
      ],
      "metadata": {
        "id": "HXuGh7QQIzxP"
      }
    },
    {
      "cell_type": "code",
      "source": [
        "%%R\n",
        "rpart.plot(pruned.fit)"
      ],
      "metadata": {
        "colab": {
          "base_uri": "https://localhost:8080/",
          "height": 497
        },
        "id": "HTBiC7U5Iz6d",
        "outputId": "481d280c-b005-43eb-dcae-026ff0c03071"
      },
      "execution_count": null,
      "outputs": [
        {
          "output_type": "display_data",
          "data": {
            "image/png": "[encoded data removed]"
          },
          "metadata": {}
        }
      ]
    },
    {
      "cell_type": "markdown",
      "source": [
        "### Prediction"
      ],
      "metadata": {
        "id": "IG9R3jtmJJi0"
      }
    },
    {
      "cell_type": "code",
      "source": [
        "%%R\n",
        "test.df$SOC.tree<-predict(pruned.fit, test.df)"
      ],
      "metadata": {
        "id": "knyrUnEGJJsW"
      },
      "execution_count": null,
      "outputs": []
    },
    {
      "cell_type": "code",
      "source": [
        "%%R\n",
        "RMSE<- Metrics::rmse(test.df$SOC, test.df$SOC.tree)\n",
        "RMSE"
      ],
      "metadata": {
        "colab": {
          "base_uri": "https://localhost:8080/"
        },
        "id": "SAM-MW7MJXuO",
        "outputId": "3ad00494-0d52-418f-98ab-418b8d89c69f"
      },
      "execution_count": null,
      "outputs": [
        {
          "output_type": "stream",
          "name": "stdout",
          "text": [
            "[1] 3.522476\n"
          ]
        }
      ]
    },
    {
      "cell_type": "code",
      "source": [
        "%%R\n",
        "library(ggpmisc)"
      ],
      "metadata": {
        "id": "bfxtrf0tWDsp"
      },
      "execution_count": null,
      "outputs": []
    },
    {
      "cell_type": "code",
      "source": [
        "%%R\n",
        "\n",
        "formula<-y~x\n",
        "\n",
        "ggplot(test.df, aes(SOC,SOC.tree)) +\n",
        "  geom_point() +\n",
        "  geom_smooth(method = \"lm\")+\n",
        "  stat_poly_eq(use_label(c(\"eq\", \"adj.R2\")), formula = formula) +\n",
        "  ggtitle(\"Regression Tree\") +\n",
        "  xlab(\"Observed\") + ylab(\"Predicted\") +\n",
        "  scale_x_continuous(limits=c(0,25), breaks=seq(0, 25, 5))+\n",
        "  scale_y_continuous(limits=c(0,25), breaks=seq(0, 25, 5)) +\n",
        "  # Flip the bars\n",
        "  theme(\n",
        "    panel.background = element_rect(fill = \"grey95\",colour = \"gray75\",size = 0.5, linetype = \"solid\"),\n",
        "    axis.line = element_line(colour = \"grey\"),\n",
        "    plot.title = element_text(size = 14, hjust = 0.5),\n",
        "    axis.title.x = element_text(size = 14),\n",
        "    axis.title.y = element_text(size = 14),\n",
        "    axis.text.x=element_text(size=13, colour=\"black\"),\n",
        "    axis.text.y=element_text(size=13,angle = 90,vjust = 0.5, hjust=0.5, colour='black'))"
      ],
      "metadata": {
        "colab": {
          "base_uri": "https://localhost:8080/",
          "height": 514
        },
        "id": "vqCLoVOsPK7G",
        "outputId": "5f7f5d8f-2205-4698-af04-d280bda168b3"
      },
      "execution_count": null,
      "outputs": [
        {
          "output_type": "stream",
          "name": "stdout",
          "text": [
            "`geom_smooth()` using formula = 'y ~ x'\n"
          ]
        },
        {
          "output_type": "display_data",
          "data": {
            "image/png": "[encoded data removed]"
          },
          "metadata": {}
        }
      ]
    },
    {
      "cell_type": "markdown",
      "source": [
        "## Regression Tree with caret package\n",
        "\n",
        "#### Set control parameters"
      ],
      "metadata": {
        "id": "TJK28AqKPXUa"
      }
    },
    {
      "cell_type": "code",
      "source": [
        "%%R\n",
        "set.seed(123)\n",
        "train.control <- trainControl(method = \"repeatedcv\",\n",
        "                              number = 10, repeats = 5,\n",
        "                              preProc = c(\"center\", \"scale\", \"nzv\"))"
      ],
      "metadata": {
        "id": "__zZp595PaHg"
      },
      "execution_count": null,
      "outputs": []
    },
    {
      "cell_type": "markdown",
      "source": [
        "### Train the model"
      ],
      "metadata": {
        "id": "lO17lkBmPveW"
      }
    },
    {
      "cell_type": "code",
      "source": [
        "%%R\n",
        "set.seed(2)\n",
        "train.rpart <- caret::train(SOC ~., data = train.df,\n",
        "                     method = \"rpart\",\n",
        "                     tuneLength = 50,\n",
        "                     trControl = train.control ,\n",
        "                     tuneGrid = expand.grid(cp = seq(0,0.4,0.01)))"
      ],
      "metadata": {
        "id": "roxHWbm4PvlT"
      },
      "execution_count": null,
      "outputs": []
    },
    {
      "cell_type": "code",
      "source": [
        "%%R\n",
        "train.rpart"
      ],
      "metadata": {
        "colab": {
          "base_uri": "https://localhost:8080/"
        },
        "id": "QXRUxuO6QBtt",
        "outputId": "a68f9f1d-7c0b-417f-b23c-277a39032ee0"
      },
      "execution_count": null,
      "outputs": [
        {
          "output_type": "stream",
          "name": "stdout",
          "text": [
            "CART \n",
            "\n",
            "371 samples\n",
            "  8 predictor\n",
            "\n",
            "No pre-processing\n",
            "Resampling: Cross-Validated (10 fold, repeated 5 times) \n",
            "Summary of sample sizes: 334, 333, 334, 334, 334, 334, ... \n",
            "Resampling results across tuning parameters:\n",
            "\n",
            "  cp    RMSE      Rsquared      MAE     \n",
            "  0.00  4.509316  2.769299e-01  3.231612\n",
            "  0.01  4.323208  3.072242e-01  3.032395\n",
            "  0.02  4.257813  3.158449e-01  2.998006\n",
            "  0.03  4.314825  2.956942e-01  3.049286\n",
            "  0.04  4.294635  2.931849e-01  3.022898\n",
            "  0.05  4.253645  3.052001e-01  3.017513\n",
            "  0.06  4.201570  3.150752e-01  3.011249\n",
            "  0.07  4.173444  3.175855e-01  3.004081\n",
            "  0.08  4.222658  3.033084e-01  3.043568\n",
            "  0.09  4.388515  2.488704e-01  3.191270\n",
            "  0.10  4.405598  2.423928e-01  3.243067\n",
            "  0.11  4.405598  2.423928e-01  3.243067\n",
            "  0.12  4.405598  2.423928e-01  3.243067\n",
            "  0.13  4.405598  2.423928e-01  3.243067\n",
            "  0.14  4.405598  2.423928e-01  3.243067\n",
            "  0.15  4.405598  2.423928e-01  3.243067\n",
            "  0.16  4.405598  2.423928e-01  3.243067\n",
            "  0.17  4.405598  2.423928e-01  3.243067\n",
            "  0.18  4.405598  2.423928e-01  3.243067\n",
            "  0.19  4.405598  2.423928e-01  3.243067\n",
            "  0.20  4.405598  2.423928e-01  3.243067\n",
            "  0.21  4.405598  2.423928e-01  3.243067\n",
            "  0.22  4.405598  2.423928e-01  3.243067\n",
            "  0.23  4.459716  2.308527e-01  3.287461\n",
            "  0.24  4.480471  2.278248e-01  3.300437\n",
            "  0.25  4.646920  1.945108e-01  3.441228\n",
            "  0.26  4.796143  1.580023e-01  3.587896\n",
            "  0.27  4.921510  1.206834e-01  3.721628\n",
            "  0.28  4.960463  7.138244e-02  3.760534\n",
            "  0.29  4.969457  1.861139e-05  3.789281\n",
            "  0.30  4.960423           NaN  3.787247\n",
            "  0.31  4.960423           NaN  3.787247\n",
            "  0.32  4.960423           NaN  3.787247\n",
            "  0.33  4.960423           NaN  3.787247\n",
            "  0.34  4.960423           NaN  3.787247\n",
            "  0.35  4.960423           NaN  3.787247\n",
            "  0.36  4.960423           NaN  3.787247\n",
            "  0.37  4.960423           NaN  3.787247\n",
            "  0.38  4.960423           NaN  3.787247\n",
            "  0.39  4.960423           NaN  3.787247\n",
            "  0.40  4.960423           NaN  3.787247\n",
            "\n",
            "RMSE was used to select the optimal model using the smallest value.\n",
            "The final value used for the model was cp = 0.07.\n"
          ]
        }
      ]
    },
    {
      "cell_type": "code",
      "source": [
        "%%R\n",
        "rpart.plot(train.rpart$finalModel)"
      ],
      "metadata": {
        "colab": {
          "base_uri": "https://localhost:8080/",
          "height": 497
        },
        "id": "bOo2Go8TQIE8",
        "outputId": "393daa3b-5fa8-40fd-9161-1b0bbd67958f"
      },
      "execution_count": null,
      "outputs": [
        {
          "output_type": "display_data",
          "data": {
            "image/png": "[encoded data removed]"
          },
          "metadata": {}
        }
      ]
    },
    {
      "cell_type": "markdown",
      "source": [
        "## Regression Tree with tidymodel\n",
        "\n",
        "The tidymodels provides a comprehensive framework for building, tuning, and fit regression tree models while following the principles of the tidyverse.\n"
      ],
      "metadata": {
        "id": "sUA2Oa5UQN8y"
      }
    },
    {
      "cell_type": "markdown",
      "source": [
        "### Data split"
      ],
      "metadata": {
        "id": "-LQ1GC-PQUHK"
      }
    },
    {
      "cell_type": "code",
      "source": [
        "%%R\n",
        "set.seed(1245)   # for reproducibility\n",
        "split <- initial_split(df, prop = 0.8, strata = SOC)\n",
        "train <- split %>% training()\n",
        "test <-  split %>% testing()\n",
        "\n",
        "# Set 10 fold cross-validation data set\n",
        "cv_folds <- vfold_cv(train, v = 10)\n"
      ],
      "metadata": {
        "id": "fPx6eI4rQUVQ"
      },
      "execution_count": null,
      "outputs": []
    },
    {
      "cell_type": "markdown",
      "source": [
        "### Create Recipe\n",
        "\n",
        "A recipe is a description of the steps to be applied to a data set in order to prepare it for data analysis. Before training the model, we can use a recipe to do some preprocessing required by the model."
      ],
      "metadata": {
        "id": "1eIZEajTQe8X"
      }
    },
    {
      "cell_type": "code",
      "source": [
        "%%R\n",
        "tree_recipe <-\n",
        "  recipe(SOC ~ ., data = train) %>%\n",
        "  step_zv(all_predictors()) %>%\n",
        "  step_dummy(all_nominal()) %>%\n",
        "  step_normalize(all_numeric_predictors())"
      ],
      "metadata": {
        "id": "6zYkpFi5QhSq"
      },
      "execution_count": null,
      "outputs": []
    },
    {
      "cell_type": "markdown",
      "source": [
        "### Specify tunable decision tree model\n",
        "\n",
        "decision_tree() from parsnip package (installed with tidymodels) defines a model as a set of ⁠if/then⁠ statements that creates a tree-based structure. This function can fit classification, regression, and censored regression models. We will use **rpart** to create a regression tree model"
      ],
      "metadata": {
        "id": "DC9Rd6rlQoF6"
      }
    },
    {
      "cell_type": "code",
      "source": [
        "%%R\n",
        "tree_model<- decision_tree(\n",
        "  cost_complexity = tune(),\n",
        "  tree_depth = tune(),\n",
        "  min_n = tune()\n",
        ") %>%\n",
        "  set_engine(\"rpart\") %>%\n",
        "  set_mode(\"regression\")\n",
        "tree_model"
      ],
      "metadata": {
        "colab": {
          "base_uri": "https://localhost:8080/"
        },
        "id": "QsxmObnQQqBl",
        "outputId": "682f3010-f049-4670-a320-98d3de33d37c"
      },
      "execution_count": null,
      "outputs": [
        {
          "output_type": "stream",
          "name": "stdout",
          "text": [
            "Decision Tree Model Specification (regression)\n",
            "\n",
            "Main Arguments:\n",
            "  cost_complexity = tune()\n",
            "  tree_depth = tune()\n",
            "  min_n = tune()\n",
            "\n",
            "Computational engine: rpart \n",
            "\n"
          ]
        }
      ]
    },
    {
      "cell_type": "markdown",
      "source": [
        "### Define workflow"
      ],
      "metadata": {
        "id": "nGdxWR1WQvPP"
      }
    },
    {
      "cell_type": "code",
      "source": [
        "%%R\n",
        "tree_wf <- workflow() %>%\n",
        "  add_recipe(tree_recipe) %>%\n",
        "  add_model(tree_model)"
      ],
      "metadata": {
        "id": "ziF50i0fQvZT"
      },
      "execution_count": null,
      "outputs": []
    },
    {
      "cell_type": "markdown",
      "source": [
        "### Define possible grid parameter\n"
      ],
      "metadata": {
        "id": "u6AT1rA-Q7f_"
      }
    },
    {
      "cell_type": "code",
      "source": [
        "%%R\n",
        "tree_grid <- grid_regular(cost_complexity(),\n",
        "                          tree_depth(),\n",
        "                          min_n(),\n",
        "                          levels = 4)\n",
        "head(tree_grid)"
      ],
      "metadata": {
        "colab": {
          "base_uri": "https://localhost:8080/"
        },
        "id": "E5f38jU6Q7pJ",
        "outputId": "3f796974-6b76-407b-f4e5-f8b28893ce95"
      },
      "execution_count": null,
      "outputs": [
        {
          "output_type": "stream",
          "name": "stdout",
          "text": [
            "# A tibble: 6 × 3\n",
            "  cost_complexity tree_depth min_n\n",
            "            <dbl>      <int> <int>\n",
            "1    0.0000000001          1     2\n",
            "2    0.0000001             1     2\n",
            "3    0.0001                1     2\n",
            "4    0.1                   1     2\n",
            "5    0.0000000001          5     2\n",
            "6    0.0000001             5     2\n"
          ]
        }
      ]
    },
    {
      "cell_type": "markdown",
      "source": [
        "### Model tuning via grid search\n",
        "\n",
        "Now we will fit the models with all the possible parameter values on all our resampled (cv.fold) datasets. tune_grid() of tune package (installed with tidymodels) computes a set of performance metrics (e.g. accuracy or RMSE) for a pre-defined set of tuning parameters that correspond to a model or recipe across one or more resamples of the data.\n",
        "\n",
        "tune_grid() computes a set of performance metrics (e.g. accuracy or RMSE) for a pre-defined set of tuning parameters that correspond to a model or recipe across one or more resamples of the data.\n"
      ],
      "metadata": {
        "id": "uY8FCJC2RKhK"
      }
    },
    {
      "cell_type": "code",
      "source": [
        "%%R\n",
        "set.seed(345)\n",
        "tree_tune <- tune_grid(\n",
        "  tree_wf,\n",
        "  resamples = cv_folds,\n",
        "  grid = tree_grid,\n",
        "  metrics = metric_set(rmse, rsq, mae, mape)\n",
        ")\n",
        "tree_tune"
      ],
      "metadata": {
        "colab": {
          "base_uri": "https://localhost:8080/"
        },
        "id": "1dI7XCdNRQJJ",
        "outputId": "44dd2291-6370-4edf-adfa-97b19adfa9dc"
      },
      "execution_count": null,
      "outputs": [
        {
          "output_type": "stream",
          "name": "stdout",
          "text": [
            "# Tuning results\n",
            "# 10-fold cross-validation \n",
            "# A tibble: 10 × 4\n",
            "   splits           id     .metrics           .notes          \n",
            "   <list>           <chr>  <list>             <list>          \n",
            " 1 <split [333/38]> Fold01 <tibble [256 × 7]> <tibble [0 × 3]>\n",
            " 2 <split [334/37]> Fold02 <tibble [256 × 7]> <tibble [0 × 3]>\n",
            " 3 <split [334/37]> Fold03 <tibble [256 × 7]> <tibble [0 × 3]>\n",
            " 4 <split [334/37]> Fold04 <tibble [256 × 7]> <tibble [0 × 3]>\n",
            " 5 <split [334/37]> Fold05 <tibble [256 × 7]> <tibble [0 × 3]>\n",
            " 6 <split [334/37]> Fold06 <tibble [256 × 7]> <tibble [0 × 3]>\n",
            " 7 <split [334/37]> Fold07 <tibble [256 × 7]> <tibble [0 × 3]>\n",
            " 8 <split [334/37]> Fold08 <tibble [256 × 7]> <tibble [0 × 3]>\n",
            " 9 <split [334/37]> Fold09 <tibble [256 × 7]> <tibble [0 × 3]>\n",
            "10 <split [334/37]> Fold10 <tibble [256 × 7]> <tibble [0 × 3]>\n"
          ]
        }
      ]
    },
    {
      "cell_type": "markdown",
      "source": [
        "### Evaluate model\n",
        "\n",
        "collect_metrics() of tune package (installed with tidymodels) obtain and format results by tuneing function:"
      ],
      "metadata": {
        "id": "sA1FNjwQTdy5"
      }
    },
    {
      "cell_type": "code",
      "source": [
        "%%R\n",
        "collect_metrics(tree_tune)"
      ],
      "metadata": {
        "colab": {
          "base_uri": "https://localhost:8080/"
        },
        "id": "pQcTX7YsTd_x",
        "outputId": "e75a2802-1015-458b-c74a-1d2fdcb93b56"
      },
      "execution_count": null,
      "outputs": [
        {
          "output_type": "stream",
          "name": "stdout",
          "text": [
            "# A tibble: 256 × 9\n",
            "   cost_complexity tree_depth min_n .metric .estimator    mean     n std_err\n",
            "             <dbl>      <int> <int> <chr>   <chr>        <dbl> <int>   <dbl>\n",
            " 1    0.0000000001          1     2 mae     standard     3.19     10  0.175 \n",
            " 2    0.0000000001          1     2 mape    standard   103.       10  8.73  \n",
            " 3    0.0000000001          1     2 rmse    standard     4.29     10  0.307 \n",
            " 4    0.0000000001          1     2 rsq     standard     0.255    10  0.0282\n",
            " 5    0.0000001             1     2 mae     standard     3.19     10  0.175 \n",
            " 6    0.0000001             1     2 mape    standard   103.       10  8.73  \n",
            " 7    0.0000001             1     2 rmse    standard     4.29     10  0.307 \n",
            " 8    0.0000001             1     2 rsq     standard     0.255    10  0.0282\n",
            " 9    0.0001                1     2 mae     standard     3.19     10  0.175 \n",
            "10    0.0001                1     2 mape    standard   103.       10  8.73  \n",
            "# ℹ 246 more rows\n",
            "# ℹ 1 more variable: .config <chr>\n",
            "# ℹ Use `print(n = ...)` to see more rows\n"
          ]
        }
      ]
    },
    {
      "cell_type": "markdown",
      "source": [
        "we can also visualize the tuning parameters:"
      ],
      "metadata": {
        "id": "mcrqfOK7UY68"
      }
    },
    {
      "cell_type": "code",
      "source": [
        "%%R\n",
        "autoplot(tree_tune) + theme_light(base_family = \"IBMPlexSans\")"
      ],
      "metadata": {
        "colab": {
          "base_uri": "https://localhost:8080/",
          "height": 497
        },
        "id": "RIUU4q7vUZE9",
        "outputId": "97e067c6-b7c5-407f-d336-34c5c16e16f6"
      },
      "execution_count": null,
      "outputs": [
        {
          "output_type": "display_data",
          "data": {
            "image/png": "[encoded data removed]"
          },
          "metadata": {}
        }
      ]
    },
    {
      "cell_type": "markdown",
      "source": [
        "### The best tuning parameters\n",
        "\n",
        "show_best() of tune package displays the top sub-models and their performance estimates."
      ],
      "metadata": {
        "id": "D6Klghf9Un59"
      }
    },
    {
      "cell_type": "code",
      "source": [
        "%%R\n",
        "show_best(tree_tune, \"rmse\")"
      ],
      "metadata": {
        "colab": {
          "base_uri": "https://localhost:8080/"
        },
        "id": "AQtj7Hw3UpS6",
        "outputId": "4f7d1a31-aae8-49e3-c45c-01d580b0c88c"
      },
      "execution_count": null,
      "outputs": [
        {
          "output_type": "stream",
          "name": "stdout",
          "text": [
            "# A tibble: 5 × 9\n",
            "  cost_complexity tree_depth min_n .metric .estimator  mean     n std_err\n",
            "            <dbl>      <int> <int> <chr>   <chr>      <dbl> <int>   <dbl>\n",
            "1    0.0000000001          1     2 rmse    standard    4.29    10   0.307\n",
            "2    0.0000001             1     2 rmse    standard    4.29    10   0.307\n",
            "3    0.0001                1     2 rmse    standard    4.29    10   0.307\n",
            "4    0.1                   1     2 rmse    standard    4.29    10   0.307\n",
            "5    0.0000000001          1    14 rmse    standard    4.29    10   0.307\n",
            "# ℹ 1 more variable: .config <chr>\n"
          ]
        }
      ]
    },
    {
      "cell_type": "markdown",
      "source": [
        "select_best() finds the tuning parameter combination with the best performance values."
      ],
      "metadata": {
        "id": "5WOdcuCSUxcR"
      }
    },
    {
      "cell_type": "code",
      "source": [
        "%%R\n",
        "select_best(tree_tune, \"rmse\")"
      ],
      "metadata": {
        "colab": {
          "base_uri": "https://localhost:8080/"
        },
        "id": "KpZ3JNPFU0J_",
        "outputId": "0cd1ac76-0d97-40e0-8aee-349bf602e948"
      },
      "execution_count": null,
      "outputs": [
        {
          "output_type": "stream",
          "name": "stdout",
          "text": [
            "# A tibble: 1 × 4\n",
            "  cost_complexity tree_depth min_n .config              \n",
            "            <dbl>      <int> <int> <chr>                \n",
            "1    0.0000000001          1     2 Preprocessor1_Model01\n"
          ]
        }
      ]
    },
    {
      "cell_type": "markdown",
      "source": [
        "### Final model"
      ],
      "metadata": {
        "id": "mrlcfzAkU4Bc"
      }
    },
    {
      "cell_type": "code",
      "source": [
        "%%R\n",
        "tree_final <- finalize_model(tree_model, select_best(tree_tune, \"rmse\"))\n",
        "tree_final"
      ],
      "metadata": {
        "colab": {
          "base_uri": "https://localhost:8080/"
        },
        "id": "XP9dkPf2U7dK",
        "outputId": "30aa7778-3bab-476f-9c43-7155ed08933c"
      },
      "execution_count": null,
      "outputs": [
        {
          "output_type": "stream",
          "name": "stdout",
          "text": [
            "Decision Tree Model Specification (regression)\n",
            "\n",
            "Main Arguments:\n",
            "  cost_complexity = 1e-10\n",
            "  tree_depth = 1\n",
            "  min_n = 2\n",
            "\n",
            "Computational engine: rpart \n",
            "\n"
          ]
        }
      ]
    },
    {
      "cell_type": "markdown",
      "source": [
        "We can either fit final_tree to training data using fit() or to the testing/training split using last_fit(), which will give us some other results along with the fitted output."
      ],
      "metadata": {
        "id": "GE7aXeqNVDh9"
      }
    },
    {
      "cell_type": "code",
      "source": [
        "%%R\n",
        "final_fit <- fit(tree_final, SOC ~ .,train)\n",
        "final_reg <- last_fit(tree_final, SOC ~ ., split)"
      ],
      "metadata": {
        "id": "73CZ6KqaVCor"
      },
      "execution_count": null,
      "outputs": []
    },
    {
      "cell_type": "code",
      "source": [
        "%%R\n",
        "collect_metrics(final_reg)"
      ],
      "metadata": {
        "colab": {
          "base_uri": "https://localhost:8080/"
        },
        "id": "3UB8EslQVLXG",
        "outputId": "26de95c6-dfdd-43ee-f29f-7e81059c6ee7"
      },
      "execution_count": null,
      "outputs": [
        {
          "output_type": "stream",
          "name": "stdout",
          "text": [
            "# A tibble: 2 × 4\n",
            "  .metric .estimator .estimate .config             \n",
            "  <chr>   <chr>          <dbl> <chr>               \n",
            "1 rmse    standard       4.50  Preprocessor1_Model1\n",
            "2 rsq     standard       0.243 Preprocessor1_Model1\n"
          ]
        }
      ]
    },
    {
      "cell_type": "markdown",
      "source": [
        "### Prediction"
      ],
      "metadata": {
        "id": "eKdeazbFVQdC"
      }
    },
    {
      "cell_type": "code",
      "source": [
        "%%R\n",
        "predict(final_fit,test)"
      ],
      "metadata": {
        "colab": {
          "base_uri": "https://localhost:8080/"
        },
        "id": "uU447k4AVOyr",
        "outputId": "f15a380d-474d-444b-c1ce-00a677c4c902"
      },
      "execution_count": null,
      "outputs": [
        {
          "output_type": "stream",
          "name": "stdout",
          "text": [
            "# A tibble: 96 × 1\n",
            "   .pred\n",
            "   <dbl>\n",
            " 1 11.4 \n",
            " 2 11.4 \n",
            " 3 11.4 \n",
            " 4  5.04\n",
            " 5  5.04\n",
            " 6  5.04\n",
            " 7  5.04\n",
            " 8  5.04\n",
            " 9  5.04\n",
            "10  5.04\n",
            "# ℹ 86 more rows\n",
            "# ℹ Use `print(n = ...)` to see more rows\n"
          ]
        }
      ]
    },
    {
      "cell_type": "markdown",
      "source": [
        "### Variable importance plot\n",
        "\n",
        "vip() function can plot variable importance scores for the predictors in a model."
      ],
      "metadata": {
        "id": "EGc59J2XVtzG"
      }
    },
    {
      "cell_type": "code",
      "source": [
        "%%R\n",
        "library(vip)"
      ],
      "metadata": {
        "id": "t_BnAAGaV0-m"
      },
      "execution_count": null,
      "outputs": []
    },
    {
      "cell_type": "code",
      "source": [
        "%%R\n",
        "library(vip)\n",
        "final_fit %>%\n",
        "  vip(geom = \"col\", aesthetics = list(fill = \"midnightblue\", alpha = 0.8)) +\n",
        "  scale_y_continuous(expand = c(0, 0))"
      ],
      "metadata": {
        "colab": {
          "base_uri": "https://localhost:8080/",
          "height": 497
        },
        "id": "1NgcN7FkV3et",
        "outputId": "01dcee8a-82b7-42ae-e78e-f6b15022b063"
      },
      "execution_count": null,
      "outputs": [
        {
          "output_type": "display_data",
          "data": {
            "image/png": "[encoded data removed]"
          },
          "metadata": {}
        }
      ]
    },
    {
      "cell_type": "markdown",
      "source": [
        "### Further Reading\n",
        "\n",
        "1.  [Tune and interpret decision trees for #TidyTuesday wind turbines](https://juliasilge.com/blog/wind-turbine/)\n",
        "\n",
        "2.  [ISLR8 - Decision Trees in R (Regression)](https://rstudio-pubs-static.s3.amazonaws.com/446972_323b4475ff0749228fe4057c4d7685f5.html)\n",
        "\n",
        "3.  https://www.r-bloggers.com/2021/04/decision-trees-in-r/\n",
        "\n",
        "### YouTube Video\n",
        "\n",
        "1.  Visual Guide to Regression Trees\n",
        "\n",
        "{{< video https://www.youtube.com/watch?v=g9c66TUylZ4 >}}\n",
        "\n",
        "Source: [StatQuest with Josh Starme](https://www.youtube.com/@statquest)\n"
      ],
      "metadata": {
        "id": "qFscQQalWaA7"
      }
    }
  ]
}