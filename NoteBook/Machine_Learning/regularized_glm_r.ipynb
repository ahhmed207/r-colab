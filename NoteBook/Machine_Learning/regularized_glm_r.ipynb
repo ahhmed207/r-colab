{
  "nbformat": 4,
  "nbformat_minor": 0,
  "metadata": {
    "colab": {
      "provenance": [],
      "authorship_tag": "ABX9TyOXewJmeCnnd2cHllwct8Xk",
      "include_colab_link": true
    },
    "kernelspec": {
      "name": "python3",
      "display_name": "Python 3"
    },
    "language_info": {
      "name": "python"
    }
  },
  "cells": [
    {
      "cell_type": "markdown",
      "metadata": {
        "id": "view-in-github",
        "colab_type": "text"
      },
      "source": [
        "<a href=\"https://colab.research.google.com/github/zia207/r-colab/blob/main/NoteBook/Machine_Learning/regularized_glm_r.ipynb\" target=\"_parent\"><img src=\"https://colab.research.google.com/assets/colab-badge.svg\" alt=\"Open In Colab\"/></a>"
      ]
    },
    {
      "cell_type": "markdown",
      "source": [
        "# Regularized Generalized Linear Models in R\n",
        "\n",
        "Zia Ahmed, University at Buffalo.\n",
        "\n"
      ],
      "metadata": {
        "id": "Dzp9ZseROTcY"
      }
    },
    {
      "cell_type": "markdown",
      "source": [
        "Regularized Generalized Linear Models (GLMs) are a family of statistical models that combine the benefits of generalized linear models (GLMs) with regularization techniques to improve generalization performance and reduce overfitting. Overfitting occurs when a model becomes too complex and starts fitting the noise in the data, resulting in poor performance on new, unseen data. Regularization addresses this issue by adding a penalty term to the loss function that the model is trying to minimize.\n",
        "\n",
        "Several types of regularization techniques include L1 regularization (Lasso), L2 regularization (Ridge), and Elastic Net regularization. Like classical linear regression, Ridge and Lasso also build the linear model, but their fundamental peculiarity is regularization. These methods aim to improve the loss function so that it depends on the sum of the squared differences and the regression coefficients.\n",
        "\n",
        "**L1 regularization** adds a penalty term proportional to the coefficients' absolute value, resulting in sparse solutions where some coefficients are precisely zero. This can be used for feature selection, as it tends to set coefficients of less important features to zero.\n",
        "\n",
        "**L2 regularization** adds a penalty term proportional to the square of the coefficients, which tends to shrink the coefficients towards zero, but does not set them precisely to zero. This can be useful when all the features are considered necessary, but some may have minimal effects.\n",
        "\n",
        "Elastic Net regularization combines both L1 and L2 regularization and balances feature selection and coefficient shrinkage.\n",
        "\n",
        "Regularization can be a powerful tool for improving the performance of machine learning models, particularly when dealing with high-dimensional data or datasets with a limited number of observations. It can help to prevent overfitting, improve the interpretability of the model, and provide insights into the importance of different features in the data.\n",
        "\n",
        "**Loss function**: In machine learning, a loss function is a mathematical function that measures the difference between the predicted output of a model and the true output, given a set of input data. The loss function quantifies how well the model is performing and provides a way to optimize the model's parameters during training.\n",
        "\n",
        "The goal of machine learning is to minimize the loss function, which represents the error between the predicted output of the model and the actual output. By minimizing the loss function, the model learns to make better predictions on new data that it has not seen before."
      ],
      "metadata": {
        "id": "h0FPXx8mGylY"
      }
    },
    {
      "cell_type": "markdown",
      "source": [
        "### Ridge, Lasso, and Elastic Net Regressions\n",
        "\n",
        "Lasso and Ridge and regression is a linear regression technique that adds an L1 and L2 regularization term to the cost function to prevent overfitting, respectively. The regularization term adds a penalty to the sum of squared regression coefficients, which shrinks the coefficients towards zero. The regularization parameter, alpha, controls the strength of the regularization. Larger values of alpha result in more shrinkage of the coefficients towards zero, and can lead to a simpler model with reduced variance, but potentially increased bias. Smaller values of alpha result in less shrinkage and a model that is closer to ordinary linear regression.\n",
        "\n",
        "Ridge and Lasso regressions can be used when there is multicollinearity among the predictor variables, which can cause instability in the estimates of the regression coefficients. By adding the regularization term, ridge regression can help to stabilize the estimates and improve the accuracy of the model.\n",
        "\n",
        "Elastic Net regularization is a combination of Lasso and Ridge regularization techniques. Elastic Net regularization adds two penalty terms to the cost function of a linear regression model: the L1 penalty and the L2 penalty. The L1 penalty encourages sparsity in the model by setting some of the coefficients to zero, while the L2 penalty shrinks the magnitude of the coefficients towards zero.\n",
        "\n",
        "The Elastic Net penalty term is a weighted sum of the L1 and L2 penalties, controlled by a hyperparameter called alpha. When alpha is set to zero, Elastic Net is equivalent to Ridge regularization, and when alpha is set to one, Elastic Net is equivalent to Lasso regularization.\n",
        "\n",
        "The “glmnet” method in caret has an alpha argument that determines what type of model is fit. If alpha = 0 then a ridge regression model is fit,  if alpha = 1 then a lasso model is fi, a a value between 0 and 1 (say 0.3) for elastic net regression will be fit. Here we’ll use caret as a wrapper for glment package."
      ],
      "metadata": {
        "id": "U1aGkFPAOx7p"
      }
    },
    {
      "cell_type": "markdown",
      "source": [
        "### Install rpy2"
      ],
      "metadata": {
        "id": "SDp3ULld8Gb9"
      }
    },
    {
      "cell_type": "code",
      "source": [
        "!pip uninstall rpy2 -y\n",
        "!pip install rpy2==3.5.1\n",
        "%load_ext rpy2.ipython"
      ],
      "metadata": {
        "id": "CiM6y-Mw8AJp",
        "colab": {
          "base_uri": "https://localhost:8080/"
        },
        "outputId": "d6d6a86f-158e-4385-e008-33d3ab7e1e34"
      },
      "execution_count": 1,
      "outputs": [
        {
          "output_type": "stream",
          "name": "stdout",
          "text": [
            "Found existing installation: rpy2 3.4.2\n",
            "Uninstalling rpy2-3.4.2:\n",
            "  Successfully uninstalled rpy2-3.4.2\n",
            "Collecting rpy2==3.5.1\n",
            "  Downloading rpy2-3.5.1.tar.gz (201 kB)\n",
            "\u001b[2K     \u001b[90m━━━━━━━━━━━━━━━━━━━━━━━━━━━━━━━━━━━━━━━\u001b[0m \u001b[32m201.7/201.7 kB\u001b[0m \u001b[31m3.5 MB/s\u001b[0m eta \u001b[36m0:00:00\u001b[0m\n",
            "\u001b[?25h  Preparing metadata (setup.py) ... \u001b[?25l\u001b[?25hdone\n",
            "Requirement already satisfied: cffi>=1.10.0 in /usr/local/lib/python3.10/dist-packages (from rpy2==3.5.1) (1.15.1)\n",
            "Requirement already satisfied: jinja2 in /usr/local/lib/python3.10/dist-packages (from rpy2==3.5.1) (3.1.2)\n",
            "Requirement already satisfied: pytz in /usr/local/lib/python3.10/dist-packages (from rpy2==3.5.1) (2023.3)\n",
            "Requirement already satisfied: tzlocal in /usr/local/lib/python3.10/dist-packages (from rpy2==3.5.1) (5.0.1)\n",
            "Requirement already satisfied: pycparser in /usr/local/lib/python3.10/dist-packages (from cffi>=1.10.0->rpy2==3.5.1) (2.21)\n",
            "Requirement already satisfied: MarkupSafe>=2.0 in /usr/local/lib/python3.10/dist-packages (from jinja2->rpy2==3.5.1) (2.1.3)\n",
            "Building wheels for collected packages: rpy2\n",
            "  Building wheel for rpy2 (setup.py) ... \u001b[?25l\u001b[?25hdone\n",
            "  Created wheel for rpy2: filename=rpy2-3.5.1-cp310-cp310-linux_x86_64.whl size=314928 sha256=1830788c928ad6fd0bde03903972b709517fbce8bef87208b8ae4aa8dbaf5940\n",
            "  Stored in directory: /root/.cache/pip/wheels/73/a6/ff/4e75dd1ce1cfa2b9a670cbccf6a1e41c553199e9b25f05d953\n",
            "Successfully built rpy2\n",
            "Installing collected packages: rpy2\n",
            "Successfully installed rpy2-3.5.1\n"
          ]
        }
      ]
    },
    {
      "cell_type": "markdown",
      "source": [
        "### Mount Google Drive"
      ],
      "metadata": {
        "id": "O1zeuaCowiBt"
      }
    },
    {
      "cell_type": "code",
      "source": [
        "from google.colab import drive\n",
        "drive.mount('/content/drive')"
      ],
      "metadata": {
        "colab": {
          "base_uri": "https://localhost:8080/"
        },
        "id": "9J-4ie4bwiJ1",
        "outputId": "d67838d7-312d-4616-bf10-649861d6ed52"
      },
      "execution_count": 2,
      "outputs": [
        {
          "output_type": "stream",
          "name": "stdout",
          "text": [
            "Mounted at /content/drive\n"
          ]
        }
      ]
    },
    {
      "cell_type": "markdown",
      "source": [
        "### Install required R Packages"
      ],
      "metadata": {
        "id": "yXu-XY0mw1A8"
      }
    },
    {
      "cell_type": "code",
      "source": [
        "%%R\n",
        "pkg <- c('tidyverse', 'tidymodels', 'caret', 'Metrics', 'ggpmisc', 'glmnet', 'patchwork')\n",
        "new.packages <- pkg[!(pkg %in% installed.packages(lib='drive/My Drive/R/')[,\"Package\"])]\n",
        "if(length(new.packages)) install.packages(new.packages, lib='drive/My Drive/R/')\n"
      ],
      "metadata": {
        "id": "TeYB57l0wz5N"
      },
      "execution_count": 3,
      "outputs": []
    },
    {
      "cell_type": "markdown",
      "source": [
        "### Downloading & Installing H2O\n",
        "\n",
        "Detail instruction of downloading & installing H2O in R could be found [here](https://docs.h2o.ai/h2o/latest-stable/h2o-docs/downloading.html)\n",
        "\n",
        "Anyway, perform the following steps in R to install H2O. Copy and paste these commands one line at a time."
      ],
      "metadata": {
        "id": "3kBka-GRHQyO"
      }
    },
    {
      "cell_type": "code",
      "source": [
        "%%R\n",
        "# The following two commands remove any previously installed H2O packages for R.\n",
        "if (\"package:h2o\" %in% search()) { detach(\"package:h2o\", unload=TRUE) }\n",
        "if (\"h2o\" %in% rownames(installed.packages())) { remove.packages(\"h2o\") }\n",
        "\n",
        "# Next, download packages that H2O depends on\n",
        "pkgs <- c(\"RCurl\",\"jsonlite\")\n",
        "for (pkg in pkgs) {\n",
        "  if (! (pkg %in% rownames(installed.packages(lib='drive/My Drive/R/')))) { install.packages(pkg) }\n",
        "}\n",
        "\n",
        "# Download and install the latest vesion of H2O\n",
        "install.packages(\"h2o\", type=\"source\",lib='drive/My Drive/R/', repos=(c(\"http://h2o-release.s3.amazonaws.com/h2o/latest_stable_R\")))"
      ],
      "metadata": {
        "id": "fkDqJzg0y5Ag"
      },
      "execution_count": null,
      "outputs": []
    },
    {
      "cell_type": "markdown",
      "source": [
        "### Load packages"
      ],
      "metadata": {
        "id": "MV7R29xfyWQz"
      }
    },
    {
      "cell_type": "code",
      "source": [
        "%%R\n",
        "# set library path\n",
        ".libPaths('drive/My Drive/R')\n",
        "library(tidyverse)\n",
        "library(tidymodels)\n",
        "library(caret)\n",
        "library(glmnet)\n",
        "library(patchwork)\n",
        "library(ggpmisc)"
      ],
      "metadata": {
        "id": "232jNAHBykUL",
        "colab": {
          "base_uri": "https://localhost:8080/"
        },
        "outputId": "e36abbf6-aee5-4d89-e79d-2dbb06842ec1"
      },
      "execution_count": 18,
      "outputs": [
        {
          "output_type": "stream",
          "name": "stderr",
          "text": [
            "WARNING:rpy2.rinterface_lib.callbacks:R[write to console]: Loading required package: ggpp\n",
            "\n",
            "WARNING:rpy2.rinterface_lib.callbacks:R[write to console]: \n",
            "Attaching package: ‘ggpp’\n",
            "\n",
            "\n",
            "WARNING:rpy2.rinterface_lib.callbacks:R[write to console]: The following object is masked from ‘package:ggplot2’:\n",
            "\n",
            "    annotate\n",
            "\n",
            "\n",
            "WARNING:rpy2.rinterface_lib.callbacks:R[write to console]: Registered S3 method overwritten by 'ggpmisc':\n",
            "  method                  from   \n",
            "  as.character.polynomial polynom\n",
            "\n"
          ]
        }
      ]
    },
    {
      "cell_type": "markdown",
      "source": [
        "### Data\n",
        "\n",
        "In this exercise we will use following data set.\n",
        "\n",
        "[gp_soil_data.csv](https://www.dropbox.com/s/9ikm5yct36oflei/gp_soil_data.csv?dl=0)"
      ],
      "metadata": {
        "id": "rSJqB05rO5ES"
      }
    },
    {
      "cell_type": "code",
      "execution_count": 5,
      "metadata": {
        "colab": {
          "base_uri": "https://localhost:8080/"
        },
        "id": "CFpt_H01OPsa",
        "outputId": "b6c0c95e-40a9-4fb2-91f9-41419785803d"
      },
      "outputs": [
        {
          "output_type": "stream",
          "name": "stdout",
          "text": [
            "Rows: 1408 Columns: 10\n",
            "── Column specification ────────────────────────────────────────────────────────\n",
            "Delimiter: \",\"\n",
            "chr (2): NLCD, FRG\n",
            "dbl (8): ID, SOC, DEM, Slope, TPI, MAP, MAT, NDVI\n",
            "\n",
            "ℹ Use `spec()` to retrieve the full column specification for this data.\n",
            "ℹ Specify the column types or set `show_col_types = FALSE` to quiet this message.\n",
            "Rows: 1,408\n",
            "Columns: 9\n",
            "$ SOC   <dbl> 1.900, 2.644, 0.800, 0.736, 15.641, 8.818, 3.782, 6.641, 4.803, …\n",
            "$ DEM   <dbl> 2825.1111, 2535.1086, 1716.3300, 1649.8933, 2675.3113, 2581.4839…\n",
            "$ Slope <dbl> 18.981682, 14.182393, 1.585145, 9.399726, 12.569353, 6.358553, 1…\n",
            "$ TPI   <dbl> -0.91606224, -0.15259802, -0.39078590, -2.54008722, 7.40076303, …\n",
            "$ MAT   <dbl> 4.709227, 4.648000, 6.360833, 10.265385, 2.798550, 6.358550, 7.0…\n",
            "$ MAP   <dbl> 613.6979, 597.7912, 201.5091, 298.2608, 827.4680, 679.1392, 508.…\n",
            "$ NDVI  <dbl> 0.6845260, 0.7557631, 0.2215059, 0.2785148, 0.7337426, 0.7017139…\n",
            "$ NLCD  <chr> \"Forest\", \"Forest\", \"Shrubland\", \"Shrubland\", \"Forest\", \"Forest\"…\n",
            "$ FRG   <chr> \"Fire Regime Group IV\", \"Fire Regime Group IV\", \"Fire Regime Gro…\n"
          ]
        }
      ],
      "source": [
        "%%R\n",
        "# load data from Github\n",
        "urlfile = \"https://github.com//zia207/r-colab/raw/main/Data/USA/gp_soil_data_syn.csv\"\n",
        "mf<-read_csv(url(urlfile))\n",
        "# Create a data-frame\n",
        "df<-mf %>% dplyr::select(SOC, DEM, Slope, TPI,MAT, MAP,NDVI, NLCD, FRG)%>%\n",
        "    glimpse()"
      ]
    },
    {
      "cell_type": "markdown",
      "source": [
        "## Ridge, Lasso, and Elastic Net Regressions with caret package\n",
        "\n",
        "The \"glmnet\" method in caret has an alpha argument that determines what type of model is fit. If alpha = 0 then a ridge regression model is fit; if alpha = 1 then a lasso model is fi, a a value between 0 and 1 (say 0.3) for elastic net regression will be fit. Here we'll use caret as a wrapper for **glment** package.\n"
      ],
      "metadata": {
        "id": "Wbv0HBRaPPnU"
      }
    },
    {
      "cell_type": "markdown",
      "source": [
        "### Create A Full Set of Dummy Variables\n",
        "The **dummyVars()** function from caret package creates a full set of dummy variables (i.e. less than full rank parameterization)"
      ],
      "metadata": {
        "id": "dxU1bYMWPd82"
      }
    },
    {
      "cell_type": "code",
      "source": [
        "%%R\n",
        "# create dummy variable\n",
        "dummies <- dummyVars(SOC ~ ., data = df)\n",
        "dummies.df<-as.data.frame(predict(dummies, newdata = df))\n",
        "dummies.df$SOC<-df$SOC\n"
      ],
      "metadata": {
        "id": "8ixZccb4PPvc"
      },
      "execution_count": 6,
      "outputs": []
    },
    {
      "cell_type": "markdown",
      "source": [
        "### Data  Splitting\n",
        "\n",
        "The function **createDataPartition** of caret package can be used to create balanced splits of the data"
      ],
      "metadata": {
        "id": "ZliFa6NNIN-u"
      }
    },
    {
      "cell_type": "code",
      "source": [
        "%%R\n",
        "set.seed(3456)\n",
        "trainIndex <- createDataPartition(dummies.df$SOC, p = .80,\n",
        "                                  list = FALSE,\n",
        "                                  times = 1)\n",
        "df_train <- dummies.df[ trainIndex,]\n",
        "df_test  <- dummies.df[-trainIndex,]"
      ],
      "metadata": {
        "id": "hYIgLGafUx-O"
      },
      "execution_count": 7,
      "outputs": []
    },
    {
      "cell_type": "code",
      "source": [
        "%%R -w 450 -h 400 -u px\n",
        "ggplot()+\n",
        "  geom_density(data = dummies.df, aes(SOC))+\n",
        "  geom_density(data = df_train, aes(SOC), color = \"green\")+\n",
        "  geom_density(data = df_test, aes(SOC), color = \"red\") +\n",
        "      xlab(\"Soil Organic Carbon (kg/g)\") +\n",
        "     ylab(\"Density\")"
      ],
      "metadata": {
        "colab": {
          "base_uri": "https://localhost:8080/",
          "height": 417
        },
        "id": "A2JpdWnyIS9N",
        "outputId": "a6b54a40-e70c-40fd-d49d-373710ece57a"
      },
      "execution_count": 8,
      "outputs": [
        {
          "output_type": "display_data",
          "data": {
            "image/png": "[encoded data removed]"
          },
          "metadata": {}
        }
      ]
    },
    {
      "cell_type": "markdown",
      "source": [
        "### Set control prameters"
      ],
      "metadata": {
        "id": "nlp8BuN1Iaxt"
      }
    },
    {
      "cell_type": "code",
      "source": [
        "%%R\n",
        "train.control <- trainControl(method = \"repeatedcv\",\n",
        "                              number = 10, repeats = 5,\n",
        "                              preProc = c(\"center\", \"scale\", \"nzv\"))"
      ],
      "metadata": {
        "id": "jlOoNaGhIgVM"
      },
      "execution_count": 9,
      "outputs": []
    },
    {
      "cell_type": "markdown",
      "source": [
        "### Lesso Regression"
      ],
      "metadata": {
        "id": "HNGwI3J-ImJJ"
      }
    },
    {
      "cell_type": "code",
      "source": [
        "%%R\n",
        "model.lasso <- train(SOC ~., data = df_train,\n",
        "                     method = \"glmnet\",\n",
        "                     tuneGrid = expand.grid(alpha =1, lambda =1),\n",
        "                     trControl = train.control)\n",
        "print(model.lasso)"
      ],
      "metadata": {
        "id": "P-GlgV4xIp3W",
        "colab": {
          "base_uri": "https://localhost:8080/"
        },
        "outputId": "520c2e8a-3063-4db8-fd36-a7dcb769a97f"
      },
      "execution_count": 10,
      "outputs": [
        {
          "output_type": "stream",
          "name": "stdout",
          "text": [
            "glmnet \n",
            "\n",
            "1127 samples\n",
            "  16 predictor\n",
            "\n",
            "No pre-processing\n",
            "Resampling: Cross-Validated (10 fold, repeated 5 times) \n",
            "Summary of sample sizes: 1015, 1015, 1013, 1015, 1014, 1014, ... \n",
            "Resampling results:\n",
            "\n",
            "  RMSE      Rsquared   MAE     \n",
            "  4.085638  0.3993098  2.979998\n",
            "\n",
            "Tuning parameter 'alpha' was held constant at a value of 1\n",
            "Tuning\n",
            " parameter 'lambda' was held constant at a value of 1\n"
          ]
        }
      ]
    },
    {
      "cell_type": "markdown",
      "source": [
        "### Ridge Regression"
      ],
      "metadata": {
        "id": "-6LorkoxJR6I"
      }
    },
    {
      "cell_type": "code",
      "source": [
        "%%R\n",
        "model.ridge <- train(SOC ~., data = df_train,\n",
        "                     method = \"glmnet\",\n",
        "                     tuneGrid = expand.grid(alpha =0, lambda =1),\n",
        "                     trControl = train.control)\n",
        "print(model.ridge)"
      ],
      "metadata": {
        "id": "w6Jfj-SDJSGz",
        "colab": {
          "base_uri": "https://localhost:8080/"
        },
        "outputId": "d14484fc-b247-4c77-eceb-c0771e01df78"
      },
      "execution_count": 11,
      "outputs": [
        {
          "output_type": "stream",
          "name": "stdout",
          "text": [
            "glmnet \n",
            "\n",
            "1127 samples\n",
            "  16 predictor\n",
            "\n",
            "No pre-processing\n",
            "Resampling: Cross-Validated (10 fold, repeated 5 times) \n",
            "Summary of sample sizes: 1015, 1014, 1014, 1015, 1014, 1015, ... \n",
            "Resampling results:\n",
            "\n",
            "  RMSE      Rsquared   MAE     \n",
            "  3.903191  0.4089925  2.811483\n",
            "\n",
            "Tuning parameter 'alpha' was held constant at a value of 0\n",
            "Tuning\n",
            " parameter 'lambda' was held constant at a value of 1\n"
          ]
        }
      ]
    },
    {
      "cell_type": "markdown",
      "source": [
        "### Prediction"
      ],
      "metadata": {
        "id": "cm45AgwSJxLY"
      }
    },
    {
      "cell_type": "code",
      "source": [
        "%%R\n",
        "df_test$Pred.lasso = predict(model.lasso, df_test)\n",
        "df_test$Pred.ridge = predict(model.ridge, df_test)"
      ],
      "metadata": {
        "id": "4zlm-CPaJwYe"
      },
      "execution_count": 12,
      "outputs": []
    },
    {
      "cell_type": "markdown",
      "source": [
        "### Model Performance"
      ],
      "metadata": {
        "id": "cX5V2rSaJ_1n"
      }
    },
    {
      "cell_type": "code",
      "source": [
        "%%R\n",
        "RMSE.lasso<- Metrics::rmse(df_test$SOC, df_test$Pred.lasso)\n",
        "RMSE.ridge<- Metrics::rmse(df_test$SOC, df_test$Pred.ridge)"
      ],
      "metadata": {
        "id": "yvjtZ41bKFBh"
      },
      "execution_count": 13,
      "outputs": []
    },
    {
      "cell_type": "code",
      "source": [
        "%%R\n",
        "RMSE.lasso"
      ],
      "metadata": {
        "colab": {
          "base_uri": "https://localhost:8080/"
        },
        "id": "EuUE2KNIK5Vh",
        "outputId": "7519aa94-cee4-4687-ec52-bce01333b9bd"
      },
      "execution_count": 14,
      "outputs": [
        {
          "output_type": "stream",
          "name": "stdout",
          "text": [
            "[1] 4.011978\n"
          ]
        }
      ]
    },
    {
      "cell_type": "code",
      "source": [
        "%%R\n",
        "RMSE.ridge"
      ],
      "metadata": {
        "colab": {
          "base_uri": "https://localhost:8080/"
        },
        "id": "tMXXYGMaK5zO",
        "outputId": "88fd6062-91f2-48b2-b747-ec6a2b22f401"
      },
      "execution_count": 15,
      "outputs": [
        {
          "output_type": "stream",
          "name": "stdout",
          "text": [
            "[1] 3.830918\n"
          ]
        }
      ]
    },
    {
      "cell_type": "markdown",
      "source": [
        "\n",
        "### 1:1 Plot of Predicted vs Observed values\n",
        "\n",
        "We can plot observed and predicted values with fitted regression line with ggplot2"
      ],
      "metadata": {
        "id": "j9Q_GFLlLMdw"
      }
    },
    {
      "cell_type": "code",
      "source": [
        "%%R\n",
        "formula<-y~x\n",
        "# Lasso Regression\n",
        "p1=ggplot(df_test, aes(SOC,Pred.lasso)) +\n",
        "  geom_point() +\n",
        "  geom_smooth(method = \"lm\")+\n",
        "  stat_poly_eq(use_label(c(\"eq\", \"adj.R2\")), formula = formula) +\n",
        "  ggtitle(\"Lasso Regression \") +\n",
        "  xlab(\"Observed\") + ylab(\"Predicted\") +\n",
        "  scale_x_continuous(limits=c(0,25), breaks=seq(0, 25, 5))+\n",
        "  scale_y_continuous(limits=c(0,25), breaks=seq(0, 25, 5)) +\n",
        "  # Flip the bars\n",
        "  theme(\n",
        "    panel.background = element_rect(fill = \"grey95\",colour = \"gray75\",size = 0.5, linetype = \"solid\"),\n",
        "    axis.line = element_line(colour = \"grey\"),\n",
        "    plot.title = element_text(size = 14, hjust = 0.5),\n",
        "    axis.title.x = element_text(size = 14),\n",
        "    axis.title.y = element_text(size = 14),\n",
        "    axis.text.x=element_text(size=13, colour=\"black\"),\n",
        "    axis.text.y=element_text(size=13,angle = 90,vjust = 0.5, hjust=0.5, colour='black'))\n",
        "\n",
        "# Ridge Regression\n",
        "\n",
        "formula<-y~x\n",
        "p2=ggplot(df_test, aes(SOC,Pred.ridge)) +\n",
        "  geom_point() +\n",
        "  geom_smooth(method = \"lm\")+\n",
        "  stat_poly_eq(use_label(c(\"eq\", \"adj.R2\")), formula = formula) +\n",
        "  ggtitle(\"Ridge Regression\") +\n",
        "  xlab(\"Observed\") + ylab(\"Predicted\") +\n",
        "  scale_x_continuous(limits=c(0,25), breaks=seq(0, 25, 5))+\n",
        "  scale_y_continuous(limits=c(0,25), breaks=seq(0, 25, 5)) +\n",
        "  # Flip the bars\n",
        "  theme(\n",
        "    panel.background = element_rect(fill = \"grey95\",colour = \"gray75\",size = 0.5, linetype = \"solid\"),\n",
        "    axis.line = element_line(colour = \"grey\"),\n",
        "    plot.title = element_text(size = 14, hjust = 0.5),\n",
        "    axis.title.x = element_text(size = 14),\n",
        "    axis.title.y = element_text(size = 14),\n",
        "    axis.text.x=element_text(size=13, colour=\"black\"),\n",
        "    axis.text.y=element_text(size=13,angle = 90,vjust = 0.5, hjust=0.5, colour='black'))\n",
        "\n"
      ],
      "metadata": {
        "id": "un2cdvbeLMqa"
      },
      "execution_count": 19,
      "outputs": []
    },
    {
      "cell_type": "markdown",
      "source": [
        "### Plot side by sise"
      ],
      "metadata": {
        "id": "2r-bkZpHL2_C"
      }
    },
    {
      "cell_type": "code",
      "source": [
        "%%R -w 750 -h 400 -u px\n",
        "p1+p2"
      ],
      "metadata": {
        "colab": {
          "base_uri": "https://localhost:8080/",
          "height": 452
        },
        "id": "WEtRMBiuL0Jb",
        "outputId": "8b818a21-778f-4a83-ba4c-bec0b075947a"
      },
      "execution_count": 20,
      "outputs": [
        {
          "output_type": "stream",
          "name": "stdout",
          "text": [
            "`geom_smooth()` using formula = 'y ~ x'\n",
            "`geom_smooth()` using formula = 'y ~ x'\n"
          ]
        },
        {
          "output_type": "display_data",
          "data": {
            "image/png": "[encoded data removed]"
          },
          "metadata": {}
        }
      ]
    },
    {
      "cell_type": "markdown",
      "source": [
        "### Train Elastic Net Regessiion\n",
        "\n",
        "The elastic net regression can be easily computed using the caret workflow, with glmnet package. Caret to automatically select the best tuning parameters alpha and lambda. This packages tests a range of possible alpha and lambda values, then selects the best values for lambda and alpha, resulting to a final model that is an elastic net model.\n",
        "\n",
        "Here, we’ll test the combination of 10 different values for alpha and lambda. This is specified using the option tuneLength. The best alpha and lambda values are those values that minimize the cross-validation error.\n"
      ],
      "metadata": {
        "id": "5jU_fo4ZMJPq"
      }
    },
    {
      "cell_type": "code",
      "source": [
        "%%R\n",
        "# Elastic Net Regression\n",
        "model.elasticNet <- train(SOC ~., data = df_train,\n",
        "                     method = \"glmnet\",\n",
        "                     trControl = train.control,\n",
        "                     tuneLength = 10)"
      ],
      "metadata": {
        "id": "Dvqi7TntMHIQ"
      },
      "execution_count": 21,
      "outputs": []
    },
    {
      "cell_type": "markdown",
      "source": [
        "#### The Best tuning parameter\n"
      ],
      "metadata": {
        "id": "cB9Jc4y_MYsb"
      }
    },
    {
      "cell_type": "code",
      "source": [
        "%%R\n",
        "model.elasticNet$bestTune"
      ],
      "metadata": {
        "colab": {
          "base_uri": "https://localhost:8080/"
        },
        "id": "XW3cabITMdcD",
        "outputId": "0fc2c400-c1f3-4cde-dcfd-a962e4ec9ed8"
      },
      "execution_count": 22,
      "outputs": [
        {
          "output_type": "stream",
          "name": "stdout",
          "text": [
            "   alpha    lambda\n",
            "33   0.4 0.2066255\n"
          ]
        }
      ]
    },
    {
      "cell_type": "markdown",
      "source": [
        "#### Model coefficients"
      ],
      "metadata": {
        "id": "CGXU4CqFMnAL"
      }
    },
    {
      "cell_type": "code",
      "source": [
        "%%R\n",
        "coef(model.elasticNet$finalModel, model.elasticNet$bestTune$lambda)"
      ],
      "metadata": {
        "colab": {
          "base_uri": "https://localhost:8080/"
        },
        "id": "TgGcEM1NMrmV",
        "outputId": "c1e2ffb6-7f76-49d6-84ca-a55c9e8c914b"
      },
      "execution_count": 23,
      "outputs": [
        {
          "output_type": "stream",
          "name": "stdout",
          "text": [
            "17 x 1 sparse Matrix of class \"dgCMatrix\"\n",
            "                                     s1\n",
            "(Intercept)                -0.047733077\n",
            "DEM                         .          \n",
            "Slope                       0.108541471\n",
            "TPI                         0.009711866\n",
            "MAT                        -0.174860510\n",
            "MAP                         0.006529288\n",
            "NDVI                        9.833128195\n",
            "NLCDForest                  0.344862763\n",
            "NLCDHerbaceous              .          \n",
            "`NLCDPlanted/Cultivated`   -0.370638998\n",
            "NLCDShrubland               .          \n",
            "`FRGFire Regime Group I`    .          \n",
            "`FRGFire Regime Group II`   0.009074569\n",
            "`FRGFire Regime Group III` -0.221335283\n",
            "`FRGFire Regime Group IV`   .          \n",
            "`FRGFire Regime Group V`    .          \n",
            "`FRGIndeterminate FRG`     -0.182487865\n"
          ]
        }
      ]
    },
    {
      "cell_type": "markdown",
      "source": [
        "### Prediction"
      ],
      "metadata": {
        "id": "9QKzql-PM1n2"
      }
    },
    {
      "cell_type": "code",
      "source": [
        "%%R\n",
        "df_test$Pred.elasticNET = predict(model.elasticNet, df_test)"
      ],
      "metadata": {
        "id": "of3LwoHUM1xD"
      },
      "execution_count": 24,
      "outputs": []
    },
    {
      "cell_type": "code",
      "source": [
        "%%R\n",
        "RMSE.elasticNET<- Metrics::rmse(df_test$SOC, df_test$Pred.elasticNET)\n",
        "RMSE.elasticNET"
      ],
      "metadata": {
        "colab": {
          "base_uri": "https://localhost:8080/"
        },
        "id": "A3BNHxklNJHB",
        "outputId": "67d0aa4f-6442-47fc-c2ee-4168edb98a4f"
      },
      "execution_count": 25,
      "outputs": [
        {
          "output_type": "stream",
          "name": "stdout",
          "text": [
            "[1] 3.855277\n"
          ]
        }
      ]
    },
    {
      "cell_type": "code",
      "source": [
        "%%R -w 450 -h 400 -u px\n",
        "formula<-y~x\n",
        "ggplot(df_test, aes(SOC,Pred.elasticNET)) +\n",
        "  geom_point() +\n",
        "  geom_smooth(method = \"lm\")+\n",
        "  stat_poly_eq(use_label(c(\"eq\", \"adj.R2\")), formula = formula) +\n",
        "  ggtitle(\"Elastic Net Regression\") +\n",
        "  xlab(\"Observed\") + ylab(\"Predicted\") +\n",
        "  scale_x_continuous(limits=c(0,25), breaks=seq(0, 25, 5))+\n",
        "  scale_y_continuous(limits=c(0,25), breaks=seq(0, 25, 5)) +\n",
        "  # Flip the bars\n",
        "  theme(\n",
        "    panel.background = element_rect(fill = \"grey95\",colour = \"gray75\",size = 0.5, linetype = \"solid\"),\n",
        "    axis.line = element_line(colour = \"grey\"),\n",
        "    plot.title = element_text(size = 14, hjust = 0.5),\n",
        "    axis.title.x = element_text(size = 14),\n",
        "    axis.title.y = element_text(size = 14),\n",
        "    axis.text.x=element_text(size=13, colour=\"black\"),\n",
        "    axis.text.y=element_text(size=13,angle = 90,vjust = 0.5, hjust=0.5, colour='black'))"
      ],
      "metadata": {
        "colab": {
          "base_uri": "https://localhost:8080/",
          "height": 434
        },
        "id": "aQR77AVsNOqb",
        "outputId": "f0375a9e-19bf-4b5a-8d18-1ae63d7924b6"
      },
      "execution_count": 26,
      "outputs": [
        {
          "output_type": "stream",
          "name": "stdout",
          "text": [
            "`geom_smooth()` using formula = 'y ~ x'\n"
          ]
        },
        {
          "output_type": "display_data",
          "data": {
            "image/png": "[encoded data removed]"
          },
          "metadata": {}
        }
      ]
    },
    {
      "cell_type": "markdown",
      "source": [
        "## Ridge Regressions with tidymodels\n",
        "\n",
        "The tidymodels provides a comprehensive framework for building, tuning, and evaluating regularized GLM models in R while following the principles of the tidyverse."
      ],
      "metadata": {
        "id": "5wk4R_H9NW3A"
      }
    },
    {
      "cell_type": "markdown",
      "source": [
        "### Data split\n",
        "\n",
        "We use **rsample** package, install with **tidymodels**, to split data into training (70%) and test data (30%) set with Stratified Random Sampling. initial_split() creates a single binary split of the data into a training set and testing set."
      ],
      "metadata": {
        "id": "IaUKFaZRQG20"
      }
    },
    {
      "cell_type": "code",
      "source": [
        "%%R\n",
        "set.seed(1245)   # for reproducibility\n",
        "split <- initial_split(df, prop = 0.8, strata = SOC)\n",
        "train <- split %>% training()\n",
        "test <-  split %>% testing()\n",
        "# Set 10 fold cross-validation data set\n",
        "cv_fold <- vfold_cv(train, v = 10)"
      ],
      "metadata": {
        "id": "ZQ9hQmkiQGMo"
      },
      "execution_count": 28,
      "outputs": []
    },
    {
      "cell_type": "markdown",
      "source": [
        "### Create Recipe\n",
        "\n",
        "A recipe is a description of the steps to be applied to a data set in order to prepare it for data analysis. Before training the model, we can use a recipe to do some preprocessing required by the model."
      ],
      "metadata": {
        "id": "NG3qXUao1U9J"
      }
    },
    {
      "cell_type": "code",
      "source": [
        "%%R\n",
        "model_recipe <-\n",
        "  recipe(SOC ~ ., data = train) %>%\n",
        "  step_zv(all_predictors()) %>%\n",
        "  step_dummy(all_nominal()) %>%\n",
        "  step_normalize(all_numeric_predictors())"
      ],
      "metadata": {
        "id": "oS8hKmZO1VJv"
      },
      "execution_count": 29,
      "outputs": []
    },
    {
      "cell_type": "markdown",
      "source": [
        "### Build a Ridge Regression model\n",
        "\n",
        "The function **set_engine()** is used to specify which package or system will be used to fit the model, along with any arguments specific to that software. We will use \"glm\" without any regularization parameters. The mixture argument specifies the amount of different types of regularization; mixture = 0 specifies only ridge regularization and mixture = 1 specifies only lasso regularization. When using the glmnet engine, we also need to set a penalty to be able to fit the model. The penalty = tune() tells tune_grid() that penalty parameter should be tuned."
      ],
      "metadata": {
        "id": "G2MOCwbM1gk8"
      }
    },
    {
      "cell_type": "code",
      "source": [
        "%%R\n",
        "ridge_mod <-\n",
        "   linear_reg(mixture = 0, penalty = tune()) %>%\n",
        "\n",
        "   set_mode(\"regression\") %>%\n",
        "   set_engine(\"glmnet\")"
      ],
      "metadata": {
        "id": "F5Qb3hHb1gse"
      },
      "execution_count": 30,
      "outputs": []
    },
    {
      "cell_type": "markdown",
      "source": [
        "#### Creatae a workflow\n",
        "\n",
        "A workflow is a container object that aggregates information required to fit and predict from a model. This information might be a recipe used in pre-processing, specified through add_recipe(), or the model specification to fit, specified through add_model()."
      ],
      "metadata": {
        "id": "M-3RnN6z122Q"
      }
    },
    {
      "cell_type": "code",
      "source": [
        "%%R\n",
        "ridge_wflow <-\n",
        "  workflow() %>%\n",
        "  add_model(ridge_mod) %>%\n",
        "  add_recipe(model_recipe)"
      ],
      "metadata": {
        "id": "5xouR-v013BB"
      },
      "execution_count": 31,
      "outputs": []
    },
    {
      "cell_type": "markdown",
      "source": [
        "#### Set Penalty Grid\n",
        "\n",
        "This can be created using grid_regular() which creates a grid of evenly spaces parameter values. We use the penalty() function from the dials package to denote the parameter and set the range of the grid we are searching for. Note that this range is log-scaled."
      ],
      "metadata": {
        "id": "q-uCR6eb2FJv"
      }
    },
    {
      "cell_type": "code",
      "source": [
        "%%R\n",
        "penalty_grid <- grid_regular(penalty(range = c(-5, 5)), levels = 50)\n",
        "penalty_grid"
      ],
      "metadata": {
        "colab": {
          "base_uri": "https://localhost:8080/"
        },
        "id": "XAqkknOf2GN7",
        "outputId": "04b5b251-3d62-46a3-de98-42ddfa308ab9"
      },
      "execution_count": 32,
      "outputs": [
        {
          "output_type": "stream",
          "name": "stdout",
          "text": [
            "# A tibble: 50 × 1\n",
            "     penalty\n",
            "       <dbl>\n",
            " 1 0.00001  \n",
            " 2 0.0000160\n",
            " 3 0.0000256\n",
            " 4 0.0000409\n",
            " 5 0.0000655\n",
            " 6 0.000105 \n",
            " 7 0.000168 \n",
            " 8 0.000268 \n",
            " 9 0.000429 \n",
            "10 0.000687 \n",
            "# ℹ 40 more rows\n",
            "# ℹ Use `print(n = ...)` to see more rows\n"
          ]
        }
      ]
    },
    {
      "cell_type": "markdown",
      "source": [
        "#### Grid search for the best penalty"
      ],
      "metadata": {
        "id": "H5YoEk6o2NhG"
      }
    },
    {
      "cell_type": "code",
      "source": [
        "%%R\n",
        "tune_res <- tune_grid(\n",
        "  ridge_wflow,\n",
        "  resamples = cv_fold,\n",
        "  grid = penalty_grid\n",
        ")\n",
        "\n",
        "tune_res"
      ],
      "metadata": {
        "id": "Rw2xWoMv2Nvr",
        "colab": {
          "base_uri": "https://localhost:8080/"
        },
        "outputId": "41537e9a-4aae-499d-b70b-50d2d332bebc"
      },
      "execution_count": 33,
      "outputs": [
        {
          "output_type": "stream",
          "name": "stdout",
          "text": [
            "→ A | warning: A correlation computation is required, but `estimate` is constant and has 0 standard deviation, resulting in a divide by 0 error. `NA` will be returned.\n",
            "There were issues with some computations   A: x1\n",
            "There were issues with some computations   A: x2\n",
            "There were issues with some computations   A: x3\n",
            "There were issues with some computations   A: x4\n",
            "There were issues with some computations   A: x5\n",
            "There were issues with some computations   A: x6\n",
            "There were issues with some computations   A: x7\n",
            "There were issues with some computations   A: x8\n",
            "There were issues with some computations   A: x9\n",
            "There were issues with some computations   A: x10\n",
            "There were issues with some computations   A: x10\n",
            "\n",
            "# Tuning results\n",
            "# 10-fold cross-validation \n",
            "# A tibble: 10 × 4\n",
            "   splits             id     .metrics           .notes          \n",
            "   <list>             <chr>  <list>             <list>          \n",
            " 1 <split [1013/113]> Fold01 <tibble [100 × 5]> <tibble [1 × 3]>\n",
            " 2 <split [1013/113]> Fold02 <tibble [100 × 5]> <tibble [1 × 3]>\n",
            " 3 <split [1013/113]> Fold03 <tibble [100 × 5]> <tibble [1 × 3]>\n",
            " 4 <split [1013/113]> Fold04 <tibble [100 × 5]> <tibble [1 × 3]>\n",
            " 5 <split [1013/113]> Fold05 <tibble [100 × 5]> <tibble [1 × 3]>\n",
            " 6 <split [1013/113]> Fold06 <tibble [100 × 5]> <tibble [1 × 3]>\n",
            " 7 <split [1014/112]> Fold07 <tibble [100 × 5]> <tibble [1 × 3]>\n",
            " 8 <split [1014/112]> Fold08 <tibble [100 × 5]> <tibble [1 × 3]>\n",
            " 9 <split [1014/112]> Fold09 <tibble [100 × 5]> <tibble [1 × 3]>\n",
            "10 <split [1014/112]> Fold10 <tibble [100 × 5]> <tibble [1 × 3]>\n",
            "\n",
            "There were issues with some computations:\n",
            "\n",
            "  - Warning(s) x10: A correlation computation is required, but `estimate` is constant...\n",
            "\n",
            "Run `show_notes(.Last.tune.result)` for more information.\n"
          ]
        }
      ]
    },
    {
      "cell_type": "markdown",
      "source": [
        "The output of tune_grid() can be visualize with autoplot() function:"
      ],
      "metadata": {
        "id": "DcOzTEzT26J5"
      }
    },
    {
      "cell_type": "code",
      "source": [
        "%%R -w 400 -h 400 -u px\n",
        "autoplot(tune_res)"
      ],
      "metadata": {
        "colab": {
          "base_uri": "https://localhost:8080/",
          "height": 417
        },
        "id": "KcxtnnJG267i",
        "outputId": "3fc76585-674f-4b42-d577-06323a983b33"
      },
      "execution_count": 34,
      "outputs": [
        {
          "output_type": "display_data",
          "data": {
            "image/png": "[encoded data removed]"
          },
          "metadata": {}
        }
      ]
    },
    {
      "cell_type": "markdown",
      "source": [
        "We can also see the raw metrics that created this chart by calling collect_matrics():"
      ],
      "metadata": {
        "id": "zy-HrptH3ARB"
      }
    },
    {
      "cell_type": "code",
      "source": [
        "%%R\n",
        "collect_metrics(tune_res)"
      ],
      "metadata": {
        "colab": {
          "base_uri": "https://localhost:8080/"
        },
        "id": "zE5kFxUR3AaP",
        "outputId": "5feed7d4-1f20-4e1f-d63d-0f4562b82ec7"
      },
      "execution_count": null,
      "outputs": [
        {
          "output_type": "stream",
          "name": "stdout",
          "text": [
            "# A tibble: 100 × 7\n",
            "     penalty .metric .estimator  mean     n std_err .config              \n",
            "       <dbl> <chr>   <chr>      <dbl> <int>   <dbl> <chr>                \n",
            " 1 0.00001   rmse    standard   3.90     10  0.300  Preprocessor1_Model01\n",
            " 2 0.00001   rsq     standard   0.393    10  0.0399 Preprocessor1_Model01\n",
            " 3 0.0000160 rmse    standard   3.90     10  0.300  Preprocessor1_Model02\n",
            " 4 0.0000160 rsq     standard   0.393    10  0.0399 Preprocessor1_Model02\n",
            " 5 0.0000256 rmse    standard   3.90     10  0.300  Preprocessor1_Model03\n",
            " 6 0.0000256 rsq     standard   0.393    10  0.0399 Preprocessor1_Model03\n",
            " 7 0.0000409 rmse    standard   3.90     10  0.300  Preprocessor1_Model04\n",
            " 8 0.0000409 rsq     standard   0.393    10  0.0399 Preprocessor1_Model04\n",
            " 9 0.0000655 rmse    standard   3.90     10  0.300  Preprocessor1_Model05\n",
            "10 0.0000655 rsq     standard   0.393    10  0.0399 Preprocessor1_Model05\n",
            "# ℹ 90 more rows\n",
            "# ℹ Use `print(n = ...)` to see more rows\n"
          ]
        }
      ]
    },
    {
      "cell_type": "markdown",
      "source": [
        "The “best” values of this can be selected using select_best(), this function requires us to specify a matric that it should select against."
      ],
      "metadata": {
        "id": "I3p3HlcT3L-z"
      }
    },
    {
      "cell_type": "code",
      "source": [
        "%%R\n",
        "best_penalty <- select_best(tune_res, metric = \"rsq\")\n",
        "best_penalty"
      ],
      "metadata": {
        "colab": {
          "base_uri": "https://localhost:8080/"
        },
        "id": "7Te-d80Y3NHj",
        "outputId": "82fcbb73-0bc7-4ce1-d0ef-b5e870bdc7b1"
      },
      "execution_count": 35,
      "outputs": [
        {
          "output_type": "stream",
          "name": "stdout",
          "text": [
            "# A tibble: 1 × 2\n",
            "  penalty .config              \n",
            "    <dbl> <chr>                \n",
            "1   0.309 Preprocessor1_Model23\n"
          ]
        }
      ]
    },
    {
      "cell_type": "markdown",
      "source": [
        "#### Fit the model with the best penalty value\n",
        "\n",
        "This value of penalty can then be used with finalize_workflow() to update/finalize the recipe by replacing tune() with the value of best_penalty. Now, this model should be fit again, this time using the whole training data set."
      ],
      "metadata": {
        "id": "Pivt4Xtl3T9B"
      }
    },
    {
      "cell_type": "code",
      "source": [
        "%%R\n",
        "# update penalty\n",
        "ridge_final <- finalize_workflow(ridge_wflow, best_penalty)\n",
        "# fit the model\n",
        "ridge_final_fit <- fit(ridge_final,\n",
        "                       data = train)"
      ],
      "metadata": {
        "id": "xZXOoCL13ZF-"
      },
      "execution_count": 36,
      "outputs": []
    },
    {
      "cell_type": "markdown",
      "source": [
        "This object has the finalized recipe and fitted model objects inside. You may want to extract the model or recipe objects from the workflow. To do this, you can use the helper functions extract_fit_parsnip():"
      ],
      "metadata": {
        "id": "70sNps3P3eDN"
      }
    },
    {
      "cell_type": "code",
      "source": [
        "%%R\n",
        "ridge_final_fit %>%\n",
        "  extract_fit_parsnip() %>%\n",
        "  tidy()"
      ],
      "metadata": {
        "colab": {
          "base_uri": "https://localhost:8080/"
        },
        "id": "Fe4k7Bl63ggh",
        "outputId": "e565db07-acc4-4500-88ee-6e68d23f21ee"
      },
      "execution_count": 37,
      "outputs": [
        {
          "output_type": "stream",
          "name": "stdout",
          "text": [
            "# A tibble: 15 × 3\n",
            "   term                      estimate penalty\n",
            "   <chr>                        <dbl>   <dbl>\n",
            " 1 (Intercept)                6.06      0.309\n",
            " 2 DEM                        0.113     0.309\n",
            " 3 Slope                      0.615     0.309\n",
            " 4 TPI                        0.0896    0.309\n",
            " 5 MAT                       -0.790     0.309\n",
            " 6 MAP                        0.867     0.309\n",
            " 7 NDVI                       1.46      0.309\n",
            " 8 NLCD_Herbaceous           -0.443     0.309\n",
            " 9 NLCD_Planted.Cultivated   -0.573     0.309\n",
            "10 NLCD_Shrubland            -0.252     0.309\n",
            "11 FRG_Fire.Regime.Group.II   0.388     0.309\n",
            "12 FRG_Fire.Regime.Group.III -0.140     0.309\n",
            "13 FRG_Fire.Regime.Group.IV  -0.0826    0.309\n",
            "14 FRG_Fire.Regime.Group.V   -0.00578   0.309\n",
            "15 FRG_Indeterminate.FRG     -0.0725    0.309\n"
          ]
        }
      ]
    },
    {
      "cell_type": "markdown",
      "source": [
        "### Prediction"
      ],
      "metadata": {
        "id": "sNr2dFcF3mv_"
      }
    },
    {
      "cell_type": "code",
      "source": [
        "%%R\n",
        "test$ridge.SOC<-as.data.frame(predict(ridge_final_fit, new_data = test))"
      ],
      "metadata": {
        "id": "Dy5mb9KK3lvN"
      },
      "execution_count": 38,
      "outputs": []
    },
    {
      "cell_type": "code",
      "source": [
        "%%R\n",
        "RMSE<- Metrics::rmse(test$SOC, test$ridge.SOC$.pred)\n",
        "RMSE"
      ],
      "metadata": {
        "colab": {
          "base_uri": "https://localhost:8080/"
        },
        "id": "7tysigpJ3xzu",
        "outputId": "2ff52fce-8141-4e29-c8f6-535138f88b4a"
      },
      "execution_count": 39,
      "outputs": [
        {
          "output_type": "stream",
          "name": "stdout",
          "text": [
            "[1] 3.811666\n"
          ]
        }
      ]
    },
    {
      "cell_type": "code",
      "source": [
        "%%R\n",
        "MAE<- Metrics::mae(test$SOC, test$ridge.SOC$.pred)\n",
        "MAE"
      ],
      "metadata": {
        "colab": {
          "base_uri": "https://localhost:8080/"
        },
        "id": "IfwCAzYF30Pf",
        "outputId": "0656743a-6b18-4e1e-bac1-98387ec2c916"
      },
      "execution_count": 40,
      "outputs": [
        {
          "output_type": "stream",
          "name": "stdout",
          "text": [
            "[1] 2.7097\n"
          ]
        }
      ]
    },
    {
      "cell_type": "code",
      "source": [
        "%%R\n",
        "augment(ridge_final_fit, new_data = test) %>%\n",
        "  rsq(truth = SOC, estimate = .pred)"
      ],
      "metadata": {
        "colab": {
          "base_uri": "https://localhost:8080/"
        },
        "id": "_i8ytIB94E3E",
        "outputId": "b3c48b99-7d16-476c-a35f-c8ba68d5d718"
      },
      "execution_count": 41,
      "outputs": [
        {
          "output_type": "stream",
          "name": "stdout",
          "text": [
            "# A tibble: 1 × 3\n",
            "  .metric .estimator .estimate\n",
            "  <chr>   <chr>          <dbl>\n",
            "1 rsq     standard       0.408\n"
          ]
        }
      ]
    },
    {
      "cell_type": "code",
      "source": [
        "%%R -w 400 -h 400 -u px\n",
        "formula<-y~x\n",
        "ggplot(test, aes(SOC,ridge.SOC$.pred)) +\n",
        "  geom_point() +\n",
        "  geom_smooth(method = \"lm\")+\n",
        "  stat_poly_eq(use_label(c(\"eq\", \"adj.R2\")), formula = formula) +\n",
        "  ggtitle(\"Ridge Regressin  with Grid Search \") +\n",
        "  xlab(\"Observed\") + ylab(\"Predicted\") +\n",
        "  scale_x_continuous(limits=c(0,25), breaks=seq(0, 25, 5))+\n",
        "  scale_y_continuous(limits=c(0,25), breaks=seq(0, 25, 5)) +\n",
        "  # Flip the bars\n",
        "  theme(\n",
        "    panel.background = element_rect(fill = \"grey95\",colour = \"gray75\",size = 0.5, linetype = \"solid\"),\n",
        "    axis.line = element_line(colour = \"grey\"),\n",
        "    plot.title = element_text(size = 14, hjust = 0.5),\n",
        "    axis.title.x = element_text(size = 14),\n",
        "    axis.title.y = element_text(size = 14),\n",
        "    axis.text.x=element_text(size=13, colour=\"black\"),\n",
        "    axis.text.y=element_text(size=13,angle = 90,vjust = 0.5, hjust=0.5, colour='black'))"
      ],
      "metadata": {
        "colab": {
          "base_uri": "https://localhost:8080/",
          "height": 434
        },
        "id": "3Xo8Rx1f4IJ-",
        "outputId": "4d84b60d-bff6-4570-8af6-4b112b33781e"
      },
      "execution_count": 42,
      "outputs": [
        {
          "output_type": "stream",
          "name": "stdout",
          "text": [
            "`geom_smooth()` using formula = 'y ~ x'\n"
          ]
        },
        {
          "output_type": "display_data",
          "data": {
            "image/png": "[encoded data removed]"
          },
          "metadata": {}
        }
      ]
    },
    {
      "cell_type": "markdown",
      "source": [
        "## GLM with h20\n",
        "\n",
        "The h2o package provides an open-source implementation of GLM that is specifically designed for big data. To use the GLM function in h2o, you will need to first install and load the package in your R environment.\n",
        "\n",
        "H2O supports elastic net regularization, which is a combination of the l1 and l2 penalties parametrized by the alpha and lambda arguments.\n",
        "\n",
        "**alpha** controls the elastic net penalty distribution between the l1 and l2 norms. It can have any value in the [0; 1] range or a vector of values (which triggers grid search). If alpha = 0, H2O solves the GLM using ridge regression. If alpha = 1, the Lasso penalty is used.\n",
        "\n",
        "**lambda** controls the penalty strength. The range is any positive value or a vector of values (which triggers grid search).\n",
        "\n",
        "We will use Random Grid Search (RGS) to find the optimal parameters for  the GLM models. We employ  the K-fold cross validation method to determine the optimal hyper-parameters from a set of all possible hyper-parameter value combinations of alpha and lambda.\n",
        "\n",
        "We can view the results of the grid search by printing the grid object. We can use this information to select the best model based on its CV performance  and then use it to make predictions on new data."
      ],
      "metadata": {
        "id": "yumiGMS-4Rgi"
      }
    },
    {
      "cell_type": "markdown",
      "source": [
        "### Load h2o"
      ],
      "metadata": {
        "id": "HNRvMwTNHqtS"
      }
    },
    {
      "cell_type": "code",
      "source": [
        "%%R\n",
        "library(h2o)\n",
        "h2o.init()\n",
        "#disable progress bar for RMarkdown\n",
        "h2o.no_progress()\n",
        "# Optional: remove anything from previous session\n",
        "h2o.removeAll()"
      ],
      "metadata": {
        "id": "nXBRBmMv4tPC"
      },
      "execution_count": null,
      "outputs": []
    },
    {
      "cell_type": "markdown",
      "source": [
        "### Data"
      ],
      "metadata": {
        "id": "PDk7rXlNHlCM"
      }
    },
    {
      "cell_type": "code",
      "source": [
        "%%R\n",
        "# load data\n",
        "urlfile = \"https://github.com//zia207/r-colab/raw/main/Data/USA/gp_soil_data.csv\"\n",
        "mf<-read_csv(url(urlfile))\n",
        "# Create a data-frame\n",
        "df<-mf %>% dplyr::select(SOC, DEM, Slope, Aspect, TPI, KFactor, SiltClay, MAT, MAP,NDVI, NLCD, FRG)\n",
        "# convrt factor\n",
        "df$NLCD <- as.factor(df$NLCD)\n",
        "df$FRG <- as.factor(df$FRG)\n",
        "# Split data\n",
        "set.seed(1245)   # for reproducibility\n",
        "split <- initial_split(df, prop = 0.8, strata = SOC)\n",
        "train <- split %>% training()\n",
        "test <-  split %>% testing()\n",
        "# Scale data\n",
        "train[-c(1, 11,12)] = scale(train[-c(1,11,12)])\n",
        "test[-c(1, 11,12)] = scale(test[-c(1,11,12)])"
      ],
      "metadata": {
        "colab": {
          "base_uri": "https://localhost:8080/"
        },
        "id": "1_7he8ivHa0M",
        "outputId": "03dcb25a-d706-40eb-b22a-36198b731f49"
      },
      "execution_count": 44,
      "outputs": [
        {
          "output_type": "stream",
          "name": "stdout",
          "text": [
            "Rows: 467 Columns: 19\n",
            "── Column specification ────────────────────────────────────────────────────────\n",
            "Delimiter: \",\"\n",
            "chr  (4): STATE, COUNTY, NLCD, FRG\n",
            "dbl (15): ID, FIPS, STATE_ID, Longitude, Latitude, SOC, DEM, Aspect, Slope, ...\n",
            "\n",
            "ℹ Use `spec()` to retrieve the full column specification for this data.\n",
            "ℹ Specify the column types or set `show_col_types = FALSE` to quiet this message.\n"
          ]
        }
      ]
    },
    {
      "cell_type": "markdown",
      "source": [
        "### Import data into h2o cluster"
      ],
      "metadata": {
        "id": "U9VoAMD_41Ne"
      }
    },
    {
      "cell_type": "code",
      "source": [
        "%%R\n",
        "h_df=as.h2o(df)\n",
        "h_train = as.h2o(train)\n",
        "h_test = as.h2o(test)"
      ],
      "metadata": {
        "id": "pYwe9B_J41Vo"
      },
      "execution_count": 45,
      "outputs": []
    },
    {
      "cell_type": "code",
      "source": [
        "%%R\n",
        "CV.xy<- as.data.frame(h_train)\n",
        "test.xy<- as.data.frame(h_test)"
      ],
      "metadata": {
        "id": "cZYJUJne5fKl"
      },
      "execution_count": 46,
      "outputs": []
    },
    {
      "cell_type": "markdown",
      "source": [
        "### Define response and predictors"
      ],
      "metadata": {
        "id": "pyleQ6ei5jp5"
      }
    },
    {
      "cell_type": "code",
      "source": [
        "%%R\n",
        "y <- \"SOC\"\n",
        "x <- setdiff(names(h_df), y)"
      ],
      "metadata": {
        "id": "hJ_JILO65jxa"
      },
      "execution_count": 47,
      "outputs": []
    },
    {
      "cell_type": "markdown",
      "source": [
        "### Grid Search for Hyperprameter\n",
        "\n",
        "We must find the optimal values of the alpha and lambda regularization parameters to get the best possible model. To find the optimal values, H2O provides grid search over alpha and lambda and a particular form of grid search called \"lambda search\" over lambda. For a detailed explanation, refer to Regularization. The recommended way to find optimal regularization settings on H2O is to do a grid search over a few alpha values with an automatic lambda search for each alpha.\n",
        "\n",
        "The alpha parameter controls the distribution between the l1 (Lasso) and l2 (Ridge regression) penalties. A value of 1.0 for alpha represents Lasso, and an alpha value of 0.0 produces ridge regression. The lambda parameter controls the amount of regularization applied. If lambda is 0.0, no regularization is applied and the alpha parameter is ignored. The default value for lambda is calculated by H2O using a heuristic based on the training data. If you let H2O calculate the value for lambda, you can see the chosen value in the model output."
      ],
      "metadata": {
        "id": "40cBHSNL5sDj"
      }
    },
    {
      "cell_type": "markdown",
      "source": [
        "To perform a hyperparameter grid search in h2o R, you can use the h2o.grid() function. This function takes a set of hyperparameters and their corresponding values, and trains and evaluates models with all possible combinations of those hyperparameters."
      ],
      "metadata": {
        "id": "Yosdswxx6i6y"
      }
    },
    {
      "cell_type": "code",
      "source": [
        "%%R\n",
        "# prameters\n",
        "glm_hyper_params <-list(\n",
        "             alpha = c(0,0.25,0.5,0.75,1),\n",
        "             lambda = c(1, 0.5, 0.1, 0.01, 0.001, 0.0001, 0.00001, 0))\n",
        "glm_grid <- h2o.grid(\n",
        "                  algorithm=\"glm\",\n",
        "                  grid_id = \"glm_grid_ID\",\n",
        "                  x= x,\n",
        "                  y = y,\n",
        "                  training_frame = h_train,\n",
        "                  standardize = TRUE,\n",
        "                  nfolds=10,\n",
        "                  keep_cross_validation_predictions = TRUE,\n",
        "                  hyper_params = glm_hyper_params,\n",
        "                  seed = 42)"
      ],
      "metadata": {
        "id": "L_QrW_5V5sLc"
      },
      "execution_count": 48,
      "outputs": []
    },
    {
      "cell_type": "markdown",
      "source": [
        "### Grid parameters"
      ],
      "metadata": {
        "id": "pHnQakip7y1e"
      }
    },
    {
      "cell_type": "code",
      "source": [
        "%%R\n",
        "glm_get_grid <- h2o.getGrid(\"glm_grid_ID\",sort_by=\"RMSE\",decreasing=FALSE)\n",
        "glm_get_grid@summary_table[1,]\n",
        "# number of models\n",
        "length(glm_grid@model_ids)"
      ],
      "metadata": {
        "colab": {
          "base_uri": "https://localhost:8080/"
        },
        "id": "GPfbNOV97y8f",
        "outputId": "81417776-474e-4d2a-ac50-3742295c1a49"
      },
      "execution_count": 49,
      "outputs": [
        {
          "output_type": "stream",
          "name": "stdout",
          "text": [
            "[1] 40\n"
          ]
        }
      ]
    },
    {
      "cell_type": "markdown",
      "source": [
        "### The best GLM"
      ],
      "metadata": {
        "id": "pjRUD5ab8DNW"
      }
    },
    {
      "cell_type": "code",
      "source": [
        "%%R\n",
        "best_glm <- h2o.getModel(glm_get_grid@model_ids[[1]])\n",
        "summary(best_glm)"
      ],
      "metadata": {
        "colab": {
          "base_uri": "https://localhost:8080/"
        },
        "id": "hHBAVs5P8DVi",
        "outputId": "b23bb4f1-8ff2-464d-d33d-7305eb29a5bd"
      },
      "execution_count": 50,
      "outputs": [
        {
          "output_type": "stream",
          "name": "stdout",
          "text": [
            "Model Details:\n",
            "==============\n",
            "\n",
            "H2ORegressionModel: glm\n",
            "Model Key:  glm_grid_ID_model_14 \n",
            "GLM Model: summary\n",
            "    family     link                            regularization\n",
            "1 gaussian identity Elastic Net (alpha = 0.75, lambda = 0.1 )\n",
            "  number_of_predictors_total number_of_active_predictors number_of_iterations\n",
            "1                         19                           8                    2\n",
            "    training_frame\n",
            "1 train_sid_a0ed_3\n",
            "\n",
            "H2ORegressionMetrics: glm\n",
            "** Reported on training data. **\n",
            "\n",
            "MSE:  14.79506\n",
            "RMSE:  3.846435\n",
            "MAE:  2.684092\n",
            "RMSLE:  0.4910106\n",
            "Mean Residual Deviance :  14.79506\n",
            "R^2 :  0.4097689\n",
            "Null Deviance :9299.692\n",
            "Null D.o.F. :370\n",
            "Residual Deviance :5488.967\n",
            "Residual D.o.F. :362\n",
            "AIC :2072.435\n",
            "\n",
            "\n",
            "\n",
            "H2ORegressionMetrics: glm\n",
            "** Reported on cross-validation data. **\n",
            "** 10-fold cross-validation on training data (Metrics computed for combined holdout predictions) **\n",
            "\n",
            "MSE:  15.83711\n",
            "RMSE:  3.979587\n",
            "MAE:  2.767983\n",
            "RMSLE:  0.5027996\n",
            "Mean Residual Deviance :  15.83711\n",
            "R^2 :  0.3681975\n",
            "Null Deviance :9353.5\n",
            "Null D.o.F. :370\n",
            "Residual Deviance :5875.569\n",
            "Residual D.o.F. :362\n",
            "AIC :2097.687\n",
            "\n",
            "\n",
            "Cross-Validation Metrics Summary: \n",
            "                             mean         sd cv_1_valid  cv_2_valid cv_3_valid\n",
            "mae                      2.780505   0.556972   2.262140    2.816260   3.523586\n",
            "mean_residual_deviance  15.804888   5.645949  11.926979   16.053085  22.922935\n",
            "mse                     15.804888   5.645949  11.926979   16.053085  22.922935\n",
            "null_deviance          935.350000 347.376740 653.781400 1423.715800 719.756200\n",
            "r2                       0.340638   0.157166   0.210230    0.382105   0.066818\n",
            "residual_deviance      587.556900 241.561570 465.152160  850.813540 664.765140\n",
            "rmse                     3.922452   0.682524   3.453546    4.006630   4.787790\n",
            "rmsle                    0.499673   0.076804   0.490024    0.532909   0.616595\n",
            "                       cv_4_valid  cv_5_valid cv_6_valid  cv_7_valid\n",
            "mae                      2.898708    2.573803   2.252031    3.400846\n",
            "mean_residual_deviance  16.834517   14.355487   9.801908   15.777113\n",
            "mse                     16.834517   14.355487   9.801908   15.777113\n",
            "null_deviance          874.229250 1055.323900 485.732200 1076.116000\n",
            "r2                       0.340965    0.368675   0.362403    0.544282\n",
            "residual_deviance      555.539060  645.996950 303.859160  489.090500\n",
            "rmse                     4.102989    3.788864   3.130800    3.972041\n",
            "rmsle                    0.534765    0.441743   0.423654    0.591546\n",
            "                        cv_8_valid cv_9_valid cv_10_valid\n",
            "mae                       3.563235   2.467792    2.046644\n",
            "mean_residual_deviance   27.432510  13.614654    9.329691\n",
            "mse                      27.432510  13.614654    9.329691\n",
            "null_deviance          1556.020800 629.988040  878.836500\n",
            "r2                        0.286451   0.235644    0.608812\n",
            "residual_deviance      1097.300400 476.512880  326.539180\n",
            "rmse                      5.237606   3.689804    3.054454\n",
            "rmsle                     0.546760   0.430427    0.388310\n",
            "\n",
            "Scoring History: \n",
            "            timestamp   duration iterations negative_log_likelihood objective\n",
            "1 2023-08-25 01:57:51  0.000 sec          0              9299.69196  25.06656\n",
            "2 2023-08-25 01:57:51  0.008 sec          2                      NA        NA\n",
            "  training_rmse training_deviance training_mae training_r2\n",
            "1            NA                NA           NA          NA\n",
            "2       3.84643          14.79506      2.68409     0.40977\n",
            "\n",
            "Variable Importances: (Extract with `h2o.varimp`) \n",
            "=================================================\n",
            "\n",
            "Variable Importances: \n",
            "                    variable relative_importance scaled_importance percentage\n",
            "1                       NDVI            1.428084          1.000000   0.275518\n",
            "2                        MAT            1.032379          0.722912   0.199175\n",
            "3                        MAP            0.953076          0.667381   0.183875\n",
            "4                      Slope            0.844157          0.591111   0.162862\n",
            "5   FRG.Fire Regime Group II            0.513842          0.359812   0.099135\n",
            "6                   SiltClay            0.317600          0.222396   0.061274\n",
            "7                        TPI            0.068080          0.047672   0.013135\n",
            "8                     Aspect            0.026052          0.018243   0.005026\n",
            "9    FRG.Fire Regime Group I            0.000000          0.000000   0.000000\n",
            "10 FRG.Fire Regime Group III            0.000000          0.000000   0.000000\n",
            "11  FRG.Fire Regime Group IV            0.000000          0.000000   0.000000\n",
            "12   FRG.Fire Regime Group V            0.000000          0.000000   0.000000\n",
            "13     FRG.Indeterminate FRG            0.000000          0.000000   0.000000\n",
            "14               NLCD.Forest            0.000000          0.000000   0.000000\n",
            "15           NLCD.Herbaceous            0.000000          0.000000   0.000000\n",
            "16   NLCD.Planted/Cultivated            0.000000          0.000000   0.000000\n",
            "17            NLCD.Shrubland            0.000000          0.000000   0.000000\n",
            "18                       DEM            0.000000          0.000000   0.000000\n",
            "19                   KFactor            0.000000          0.000000   0.000000\n"
          ]
        }
      ]
    },
    {
      "cell_type": "markdown",
      "source": [
        "### Model Performance"
      ],
      "metadata": {
        "id": "48dj5kRS8bSi"
      }
    },
    {
      "cell_type": "code",
      "source": [
        "%%R\n",
        "# training\n",
        " h2o.performance(best_glm, h_train)\n"
      ],
      "metadata": {
        "colab": {
          "base_uri": "https://localhost:8080/"
        },
        "id": "7G7qnH9p8bXn",
        "outputId": "08cb989d-1548-4eb7-abcf-70f5242e9f08"
      },
      "execution_count": 51,
      "outputs": [
        {
          "output_type": "stream",
          "name": "stdout",
          "text": [
            "H2ORegressionMetrics: glm\n",
            "\n",
            "MSE:  14.79506\n",
            "RMSE:  3.846435\n",
            "MAE:  2.684092\n",
            "RMSLE:  0.4910106\n",
            "Mean Residual Deviance :  14.79506\n",
            "R^2 :  0.4097689\n",
            "Null Deviance :9299.692\n",
            "Null D.o.F. :370\n",
            "Residual Deviance :5488.967\n",
            "Residual D.o.F. :362\n",
            "AIC :2072.435\n",
            "\n"
          ]
        }
      ]
    },
    {
      "cell_type": "code",
      "source": [
        "%%R\n",
        "# CV - prediction\n",
        "pred.cv<-as.data.frame(h2o.getFrame(best_glm@model[[\"cross_validation_holdout_predictions_frame_id\"]][[\"name\"]]))\n",
        "# Get CV predicted values\n",
        "CV.xy$SOC.pred<-pred.cv$predict\n",
        "# Get several Metrics\n",
        "cv.lm<-lm(SOC ~ SOC.pred, CV.xy)\n",
        "cv.matrics <- cbind(\"RMSE\"=Metrics::rmse(CV.xy$SOC, CV.xy$SOC.pred),\n",
        "              \"MAE\"=Metrics::mae(CV.xy$SOC, CV.xy$SOC.pred),\n",
        "              \"Bias\"=Metrics::bias(CV.xy$SOC, CV.xy$SOC.pred),\n",
        "              \"MSE\"= Metrics::mse(CV.xy$SOC, CV.xy$SOC.pred),\n",
        "              \"MDAE\"=Metrics::mdae(CV.xy$SOC, CV.xy$SOC.pred),\n",
        "               \"R2\"= summary(cv.lm)$r.squared\n",
        "                  )\n",
        "cv.matrics"
      ],
      "metadata": {
        "colab": {
          "base_uri": "https://localhost:8080/"
        },
        "id": "QFMsft4N8qKI",
        "outputId": "96e87001-994f-4a19-c9a3-b991e9515039"
      },
      "execution_count": 54,
      "outputs": [
        {
          "output_type": "stream",
          "name": "stdout",
          "text": [
            "         RMSE      MAE        Bias      MSE     MDAE        R2\n",
            "[1,] 3.979587 2.767983 -0.01749009 15.83711 1.852055 0.3682142\n"
          ]
        }
      ]
    },
    {
      "cell_type": "code",
      "source": [
        "%%R\n",
        "# test performance\n",
        "h2o.performance(best_glm, h_test)\n",
        "\n",
        "\n"
      ],
      "metadata": {
        "colab": {
          "base_uri": "https://localhost:8080/"
        },
        "id": "g4QFIvhf8yrD",
        "outputId": "8045b362-f18c-4457-bdab-7a12e44e7605"
      },
      "execution_count": 58,
      "outputs": [
        {
          "output_type": "stream",
          "name": "stdout",
          "text": [
            "H2ORegressionMetrics: glm\n",
            "\n",
            "MSE:  11.84644\n",
            "RMSE:  3.441866\n",
            "MAE:  2.557466\n",
            "RMSLE:  0.4886231\n",
            "Mean Residual Deviance :  11.84644\n",
            "R^2 :  0.5560368\n",
            "Null Deviance :2563.204\n",
            "Null D.o.F. :95\n",
            "Residual Deviance :1137.258\n",
            "Residual D.o.F. :87\n",
            "AIC :529.7508\n",
            "\n"
          ]
        }
      ]
    },
    {
      "cell_type": "markdown",
      "source": [
        "### Prediction"
      ],
      "metadata": {
        "id": "AoBKNguM9AUx"
      }
    },
    {
      "cell_type": "code",
      "source": [
        "%%R\n",
        "test.pred<-as.data.frame(h2o.predict(object = best_glm,newdata = h_test))\n",
        "test.xy$SOC.pred<-test.pred$predict\n",
        "test.lm<-lm(SOC ~ SOC.pred, test.xy)\n",
        "test.matrics <- cbind(\"RMSE\"=Metrics::rmse(test.xy$SOC, test.xy$SOC.pred),\n",
        "              \"MAE\"=Metrics::mae(test.xy$SOC, test.xy$SOC.pred),\n",
        "              \"Bias\"=Metrics::bias(test.xy$SOC, test.xy$SOC.pred),\n",
        "              \"MSE\"= Metrics::mse(test.xy$SOC, test.xy$SOC.pred),\n",
        "              \"MDAE\"=Metrics::mdae(test.xy$SOC, CV.xy$SOC.pred),\n",
        "              \"R2\"= summary(test.lm)$r.squared\n",
        "              )\n",
        "test.matrics"
      ],
      "metadata": {
        "colab": {
          "base_uri": "https://localhost:8080/"
        },
        "id": "Il4g_lj39AdW",
        "outputId": "5a4ee5ca-f214-4926-cc7f-84e7885f1aea"
      },
      "execution_count": 59,
      "outputs": [
        {
          "output_type": "stream",
          "name": "stdout",
          "text": [
            "         RMSE      MAE      Bias      MSE    MDAE        R2\n",
            "[1,] 3.441866 2.557467 0.1384233 11.84644 3.30778 0.5798946\n"
          ]
        }
      ]
    },
    {
      "cell_type": "code",
      "source": [
        "%%R -w 400 -h 400 -u px\n",
        "test.pred<-as.data.frame(h2o.predict(object = best_glm,newdata = h_test))\n",
        "test.xy$SOC.pred<-test.pred$predict\n",
        "formula<-y~x\n",
        "\n",
        "ggplot(test.xy, aes(SOC,SOC.pred)) +\n",
        "  geom_point() +\n",
        "  geom_smooth(method = \"lm\")+\n",
        "  stat_poly_eq(use_label(c(\"eq\", \"adj.R2\")), formula = formula) +\n",
        "  ggtitle(\"H2O GLM: Observed vs Predicted SOC \") +\n",
        "  xlab(\"Observed\") + ylab(\"Predicted\") +\n",
        "  scale_x_continuous(limits=c(0,25), breaks=seq(0, 25, 5))+\n",
        "  scale_y_continuous(limits=c(0,25), breaks=seq(0, 25, 5)) +\n",
        "  # Flip the bars\n",
        "  theme(\n",
        "    panel.background = element_rect(fill = \"grey95\",colour = \"gray75\",size = 0.5, linetype = \"solid\"),\n",
        "    axis.line = element_line(colour = \"grey\"),\n",
        "    plot.title = element_text(size = 14, hjust = 0.5),\n",
        "    axis.title.x = element_text(size = 14),\n",
        "    axis.title.y = element_text(size = 14),\n",
        "    axis.text.x=element_text(size=13, colour=\"black\"),\n",
        "    axis.text.y=element_text(size=13,angle = 90,vjust = 0.5, hjust=0.5, colour='black'))"
      ],
      "metadata": {
        "colab": {
          "base_uri": "https://localhost:8080/",
          "height": 434
        },
        "id": "e_IiKkP79K9u",
        "outputId": "7abfebed-ac8f-475f-c452-90b6a82459de"
      },
      "execution_count": 60,
      "outputs": [
        {
          "output_type": "stream",
          "name": "stdout",
          "text": [
            "`geom_smooth()` using formula = 'y ~ x'\n"
          ]
        },
        {
          "output_type": "display_data",
          "data": {
            "image/png": "[encoded data removed]"
          },
          "metadata": {}
        }
      ]
    },
    {
      "cell_type": "markdown",
      "source": [
        "### Variable Importnace\n",
        "\n",
        "Variable importance in GLM regression model represents the coefficient magnitudes. The standardized coefficients are returned if the standardize option is enabled (which is the default). These are the predictor weights of the standardized data and are included only for informational purposes like comparing the relative variable importance."
      ],
      "metadata": {
        "id": "KosCc_n29TU1"
      }
    },
    {
      "cell_type": "code",
      "source": [
        "%%R\n",
        "h2o.varimp(best_glm)"
      ],
      "metadata": {
        "colab": {
          "base_uri": "https://localhost:8080/"
        },
        "id": "uP2lwsq89VY2",
        "outputId": "16870e45-9236-4f96-92ae-598f31bcd6c3"
      },
      "execution_count": null,
      "outputs": [
        {
          "output_type": "stream",
          "name": "stdout",
          "text": [
            "Variable Importances: \n",
            "  variable relative_importance scaled_importance percentage\n",
            "1     NDVI            1.469057          1.000000   0.326869\n",
            "2      MAP            0.960991          0.654155   0.213823\n",
            "3      MAT            0.929065          0.632423   0.206719\n",
            "4    Slope            0.742492          0.505421   0.165206\n",
            "5 SiltClay            0.314929          0.214375   0.070073\n",
            "6      TPI            0.073287          0.049887   0.016306\n",
            "7  KFactor            0.004513          0.003072   0.001004\n",
            "8      DEM            0.000000          0.000000   0.000000\n",
            "9   Aspect            0.000000          0.000000   0.000000\n"
          ]
        }
      ]
    },
    {
      "cell_type": "markdown",
      "source": [
        "To plot variable importance for the model, we use the h2o.varimp_plot() function and pass the trained model as an argument. The function generates a bar plot of the relative importance of each input variable, sorted in descending order by importance.\n",
        "\n",
        "The h2o.varimp_plot() function also has several optional arguments that you can use to customize the appearance of the plot, such as num_of_features to limit the number of features displayed on the plot, title to set a title for the plot, and col to set the color of the bars."
      ],
      "metadata": {
        "id": "itJEoeEf9b2c"
      }
    },
    {
      "cell_type": "code",
      "source": [
        "%%R -w 400 -h 500 -u px\n",
        "h2o.varimp_plot(best_glm)"
      ],
      "metadata": {
        "colab": {
          "base_uri": "https://localhost:8080/",
          "height": 517
        },
        "id": "GhiFW5VX9cv0",
        "outputId": "e42943aa-9c94-4d72-aeaa-6e850c0e8a76"
      },
      "execution_count": 61,
      "outputs": [
        {
          "output_type": "display_data",
          "data": {
            "image/png": "[encoded data removed]"
          },
          "metadata": {}
        }
      ]
    },
    {
      "cell_type": "markdown",
      "source": [
        "### Further Reading\n",
        "\n",
        "1. [Linear Model Selection and Regularization](https://emilhvitfeldt.github.io/ISLR-tidymodels-labs/06-regularization.html)\n",
        "\n",
        "2. [Grid Search H20](https://docs.h2o.ai/h2o/latest-stable/h2o-docs/grid-search.html)\n",
        "\n",
        "3. [H20 variable importance](https://docs.h2o.ai/h2o/latest-stable/h2o-docs/variable-importance.html)\n",
        "\n",
        "\n",
        "###  YouTube Video\n",
        "\n",
        "1. Regularization Part 1: Ridge (L2) Regression\n",
        "\n",
        "{{< video https://www.youtube.com/watch?v=Q81RR3yKn30 >}}\n",
        "\n",
        "Source: [StatQuest with Josh Starme](https://www.youtube.com/@statquest)\n",
        "\n",
        "2. Regularization Part 2: Lasso (L1) Regression\n",
        "\n",
        "{{< video https://www.youtube.com/watch?v=Q81RR3yKn30 >}}\n",
        "\n",
        "Source: [StatQuest with Josh Starme](https://www.youtube.com/@statquest)"
      ],
      "metadata": {
        "id": "rUHrNY9J9lMg"
      }
    }
  ]
}