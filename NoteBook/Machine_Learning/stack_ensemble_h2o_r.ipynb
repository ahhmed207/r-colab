{
  "nbformat": 4,
  "nbformat_minor": 0,
  "metadata": {
    "colab": {
      "provenance": [],
      "authorship_tag": "ABX9TyMsOq0DNOnzR0hq78m/m9Xz",
      "include_colab_link": true
    },
    "kernelspec": {
      "name": "python3",
      "display_name": "Python 3"
    },
    "language_info": {
      "name": "python"
    }
  },
  "cells": [
    {
      "cell_type": "markdown",
      "metadata": {
        "id": "view-in-github",
        "colab_type": "text"
      },
      "source": [
        "<a href=\"https://colab.research.google.com/github/zia207/r-colab/blob/main/NoteBook/Machine_Learning/stack_ensemble_h2o_r.ipynb\" target=\"_parent\"><img src=\"https://colab.research.google.com/assets/colab-badge.svg\" alt=\"Open In Colab\"/></a>"
      ]
    },
    {
      "cell_type": "markdown",
      "source": [
        "# **Stack-Ensemble Model with H20 in R**\n",
        "\n",
        "Zia Ahmed, University at Buffalo, NY\n",
        "\n"
      ],
      "metadata": {
        "id": "-lNUT13vjnqE"
      }
    },
    {
      "cell_type": "markdown",
      "source": [
        "H2O\\'s Stacked Ensemble method is a supervised ensemble machine learning algorithm that finds the optimal combination of a collection of different types of ML models using stacking. Like all supervised models in H2O, Stacked Ensemble supports regression, binary classification, and multiclass classification.\n",
        "\n",
        "To create stacked ensembles with H2O in R, you can follow these general steps:\n",
        "\n",
        "1.   **Set up the Ensemble:** Specify a list of L base algorithms (with a specific set of model parameters) and specify a meta-learning algorithm\n",
        "\n",
        "2.   **Grid Search**: Find the best base model for each L-base algorithm using a hyperparameter grid search\n",
        "\n",
        "3.  **Train L-base models**: Perform k-fold cross-validation on each learner and collect the cross-validated predicted values from each L algorithm.\n",
        "\n",
        "4.   **Prediction**: The N cross-validated predicted values from each of the L algorithms can be combined to form a new N x L matrix. This matrix, along with the original response vector, is called the \\\"level-one\\\" data. (N = number of rows in the training set.\n",
        "\n",
        "5.  T**rain with the Metalearner**: Train the metalearning algorithm on the level-one data. The \\\"ensemble model\\\" consists of the L base learning models and the metalearning model, which can then be used to generate predictions on a test set.\n",
        "\n",
        "6.   **Predict with the stacked ensemble**: Once the stack ensemble is trained, you can use it to make predictions on new, unseen data.\n",
        "\n",
        "7.  **Shutdown the H2O cluster**: After you have finished using H2O, it's good practice to shut down the H2O cluster by running **`h2o.shutdown()`**."
      ],
      "metadata": {
        "id": "4nF84slpaRI1"
      }
    },
    {
      "cell_type": "markdown",
      "source": [
        "### Install rpy2"
      ],
      "metadata": {
        "id": "pRpRd7YtJTiR"
      }
    },
    {
      "cell_type": "code",
      "source": [
        "!pip uninstall rpy2 -y\n",
        "!pip install rpy2==3.5.1\n",
        "%load_ext rpy2.ipython"
      ],
      "metadata": {
        "id": "6cyPM8GfJTr8"
      },
      "execution_count": null,
      "outputs": []
    },
    {
      "cell_type": "markdown",
      "source": [
        "### Mount Google Drive"
      ],
      "metadata": {
        "id": "EX6yLdZvJT43"
      }
    },
    {
      "cell_type": "code",
      "source": [
        "from google.colab import drive\n",
        "drive.mount('/content/drive')"
      ],
      "metadata": {
        "id": "pwvY31iKJUBN",
        "colab": {
          "base_uri": "https://localhost:8080/"
        },
        "outputId": "101dbd2b-081d-42aa-8e2d-6bc3f49887e6"
      },
      "execution_count": 4,
      "outputs": [
        {
          "output_type": "stream",
          "name": "stdout",
          "text": [
            "Drive already mounted at /content/drive; to attempt to forcibly remount, call drive.mount(\"/content/drive\", force_remount=True).\n"
          ]
        }
      ]
    },
    {
      "cell_type": "markdown",
      "source": [
        "### Check amd Install Required R Packages"
      ],
      "metadata": {
        "id": "dnGk9jUgjyCP"
      }
    },
    {
      "cell_type": "code",
      "execution_count": null,
      "metadata": {
        "colab": {
          "base_uri": "https://localhost:8080/"
        },
        "id": "W66HtIxrjdZH",
        "outputId": "f858ad93-4529-42e4-87ee-725362796cf3"
      },
      "outputs": [
        {
          "output_type": "stream",
          "name": "stderr",
          "text": [
            "Installing package into ‘/usr/local/lib/R/site-library’\n",
            "(as ‘lib’ is unspecified)\n",
            "\n",
            "also installing the dependencies ‘bitops’, ‘RCurl’\n",
            "\n",
            "\n",
            "Installing package into ‘/usr/local/lib/R/site-library’\n",
            "(as ‘lib’ is unspecified)\n",
            "\n",
            "also installing the dependencies ‘shape’, ‘future.apply’, ‘numDeriv’, ‘progressr’, ‘SQUAREM’, ‘Rcpp’, ‘diagram’, ‘lava’, ‘listenv’, ‘parallelly’, ‘prodlim’, ‘future’, ‘warp’, ‘iterators’, ‘lhs’, ‘DiceDesign’, ‘patchwork’, ‘globals’, ‘clock’, ‘gower’, ‘ipred’, ‘timeDate’, ‘furrr’, ‘slider’, ‘foreach’, ‘GPfit’, ‘modelenv’, ‘dials’, ‘hardhat’, ‘infer’, ‘modeldata’, ‘parsnip’, ‘recipes’, ‘rsample’, ‘tune’, ‘workflows’, ‘workflowsets’, ‘yardstick’\n",
            "\n",
            "\n",
            "Installing package into ‘/usr/local/lib/R/site-library’\n",
            "(as ‘lib’ is unspecified)\n",
            "\n"
          ]
        }
      ],
      "source": [
        "%%R\n",
        "pkg <- c('tidyverse','tidymodels', 'gridExtra', 'devtools', 'data.table', 'Hmisc','corrplot',\n",
        "        'ggpmisc', 'plyr', 'Metrics','patchwork' )\n",
        "new.packages <- pkg[!(pkg %in% installed.packages(lib='drive/My Drive/R/')[,\"Package\"])]\n",
        "if(length(new.packages)) install.packages(new.packages, lib='drive/My Drive/R/')"
      ]
    },
    {
      "cell_type": "markdown",
      "source": [
        "### Install H2O"
      ],
      "metadata": {
        "id": "1Yj9PhOGZsFf"
      }
    },
    {
      "cell_type": "code",
      "source": [
        "%%R\n",
        "pkgs <- c(\"RCurl\",\"jsonlite\")\n",
        "for (pkg in pkgs) {\n",
        "  if (! (pkg %in% rownames(installed.packages(lib='drive/My Drive/R/')))) { install.packages(pkg) }\n",
        "}\n",
        "install.packages(\"h2o\", type=\"source\",lib='drive/My Drive/R/', repos=(c(\"http://h2o-release.s3.amazonaws.com/h2o/latest_stable_R\")))"
      ],
      "metadata": {
        "id": "D1IwA21cZ_xw"
      },
      "execution_count": null,
      "outputs": []
    },
    {
      "cell_type": "markdown",
      "source": [
        "### Load Packages"
      ],
      "metadata": {
        "id": "99f3OBtFn8UP"
      }
    },
    {
      "cell_type": "code",
      "source": [
        "%%R\n",
        "# set library path\n",
        ".libPaths('drive/My Drive/R')\n",
        "library(tidyverse)\n",
        "library(tidymodels)\n",
        "library(Metrics)\n",
        "library(ggpmisc)\n",
        "library(vip)\n",
        "library(gridExtra)"
      ],
      "metadata": {
        "id": "8qjCM-3Nn8dm"
      },
      "execution_count": null,
      "outputs": []
    },
    {
      "cell_type": "markdown",
      "source": [
        "### Data\n",
        "\n",
        "The data use in this excersise could be found in my [Dropbox](https://www.dropbox.com/scl/fo/6cswerwra1k7qs6fzxieq/h?rlkey=6kqt1ztnkgrdt7cjmaqfkd7fd&dl=0) or [Github](https://github.com/zia207/r-colab/tree/main/Data/Machine_Learning) folder. Or you can load in directly in R using following comand."
      ],
      "metadata": {
        "id": "6mrRDSl_oH65"
      }
    },
    {
      "cell_type": "code",
      "source": [
        "%%R\n",
        "urlfile = \"https://github.com//zia207/r-colab/raw/main/Data/Machine_Learning/GP_all_data.csv\"\n",
        "mf<-read_csv(url(urlfile))\n",
        "#mf<-read_csv(\"/content/drive/MyDrive/R_Website/Machine_Learning/Data/gp_soil_data_syn.csv\")"
      ],
      "metadata": {
        "colab": {
          "base_uri": "https://localhost:8080/"
        },
        "id": "PlPLgTKNoIGs",
        "outputId": "ef60662d-1cad-43e8-dc97-3a8e33a35ea8"
      },
      "execution_count": 8,
      "outputs": [
        {
          "output_type": "stream",
          "name": "stdout",
          "text": [
            "Rows: 471 Columns: 21\n",
            "── Column specification ────────────────────────────────────────────────────────\n",
            "Delimiter: \",\"\n",
            "chr  (4): STATE, COUNTY, NLCD_DES, FRG_DES\n",
            "dbl (17): ID, STATE_ID, FIPS, x, y, SOC, ELEV, Aspect, Slope, TPI, K_Factor,...\n",
            "\n",
            "ℹ Use `spec()` to retrieve the full column specification for this data.\n",
            "ℹ Specify the column types or set `show_col_types = FALSE` to quiet this message.\n"
          ]
        }
      ]
    },
    {
      "cell_type": "code",
      "source": [
        "%%R\n",
        "# Create a data-frame\n",
        "df<-mf %>% dplyr::select(SOC, ELEV, Slope, Aspect, TPI, K_Factor, Silt_Clay, MAT, MAP,NDVI, NLCD, FRG)%>%\n",
        "    glimpse()"
      ],
      "metadata": {
        "colab": {
          "base_uri": "https://localhost:8080/"
        },
        "id": "GGn6D-BOcQpK",
        "outputId": "ec6586ad-bf48-4e00-9f64-bd4b3014eff4"
      },
      "execution_count": 13,
      "outputs": [
        {
          "output_type": "stream",
          "name": "stdout",
          "text": [
            "Rows: 471\n",
            "Columns: 12\n",
            "$ SOC       <dbl> 7.256, 4.594, 5.995, 11.220, 5.388, 1.619, 3.842, 10.276, 0.…\n",
            "$ ELEV      <dbl> 272.6797, 2261.7820, 2404.1121, 2281.4246, 277.6634, 2317.49…\n",
            "$ Slope     <dbl> 1.429968, 4.874323, 6.680480, 7.745950, 2.923675, 2.635038, …\n",
            "$ Aspect    <dbl> 185.0404, 222.3785, 183.5729, 173.1285, 168.1043, 193.8056, …\n",
            "$ TPI       <dbl> 1.0744587, -1.4409482, 7.7656183, -3.2823703, -0.4226714, -1…\n",
            "$ K_Factor  <dbl> 0.3255294, 0.2486000, 0.0590000, 0.2847475, 0.3750685, 0.249…\n",
            "$ Silt_Clay <dbl> 77.16470, 40.66200, 53.73600, 46.83738, 62.83973, 38.42100, …\n",
            "$ MAT       <dbl> 13.748117, 8.162200, 6.890750, 8.533788, 14.152466, 8.189600…\n",
            "$ MAP       <dbl> 1099.3408, 410.5008, 568.7746, 391.4978, 1013.7034, 368.2008…\n",
            "$ NDVI      <dbl> 0.6943141, 0.3705533, 0.6434158, 0.3530265, 0.7292835, 0.283…\n",
            "$ NLCD      <dbl> 7, 4, 4, 4, 6, 5, 4, 4, 5, 4, 4, 6, 4, 4, 4, 5, 4, 5, 4, 5, …\n",
            "$ FRG       <dbl> 1, 1, 1, 1, 1, 1, 1, 1, 1, 1, 1, 1, 1, 1, 1, 1, 1, 1, 1, 2, …\n"
          ]
        }
      ]
    },
    {
      "cell_type": "markdown",
      "source": [
        "### Data Preprocessing"
      ],
      "metadata": {
        "id": "IQRmzXvrovem"
      }
    },
    {
      "cell_type": "markdown",
      "source": [
        "#### Convert to factor"
      ],
      "metadata": {
        "id": "Rexb4lAKodqN"
      }
    },
    {
      "cell_type": "code",
      "source": [
        "%%R\n",
        "df$NLCD <- as.factor(df$NLCD)\n",
        "df$FRG <- as.factor(df$FRG)"
      ],
      "metadata": {
        "id": "Pcl7TMJVodzJ"
      },
      "execution_count": 14,
      "outputs": []
    },
    {
      "cell_type": "markdown",
      "source": [
        "#### Data Split"
      ],
      "metadata": {
        "id": "mKL1OQtEokVs"
      }
    },
    {
      "cell_type": "code",
      "source": [
        "%%R\n",
        "set.seed(1245)   # for reproducibility\n",
        "split_01 <- initial_split(df, prop = 0.8, strata = SOC)\n",
        "train <- split_01 %>% training()\n",
        "test <-  split_01 %>% testing()"
      ],
      "metadata": {
        "id": "bsHc8ujsokcx"
      },
      "execution_count": 15,
      "outputs": []
    },
    {
      "cell_type": "markdown",
      "source": [
        "#### Data Scaling"
      ],
      "metadata": {
        "id": "hJY1Lxf3o_Sx"
      }
    },
    {
      "cell_type": "code",
      "source": [
        "%%R\n",
        "train[-c(1,11,12)] = scale(train[-c(1,11,12)])\n",
        "test[-c(1,11,12)] = scale(test[-c(1,11,12)])"
      ],
      "metadata": {
        "id": "7c8bgcJSotHW"
      },
      "execution_count": 16,
      "outputs": []
    },
    {
      "cell_type": "markdown",
      "source": [
        "### Import h2o"
      ],
      "metadata": {
        "id": "aH6ofrhGpFub"
      }
    },
    {
      "cell_type": "code",
      "source": [
        "%%R\n",
        "library(h2o)\n",
        "h2o.init()\n",
        "#disable progress bar for RMarkdown\n",
        "h2o.no_progress()\n",
        "# Optional: remove anything from previous session\n",
        "h2o.removeAll()"
      ],
      "metadata": {
        "id": "LxbZ5vVGo97E"
      },
      "execution_count": null,
      "outputs": []
    },
    {
      "cell_type": "markdown",
      "source": [
        "### Import data to h2o cluster"
      ],
      "metadata": {
        "id": "OTs-7M6upTD0"
      }
    },
    {
      "cell_type": "code",
      "source": [
        "%%R\n",
        "h_df=as.h2o(df)\n",
        "h_train = as.h2o(train)\n",
        "h_test = as.h2o(test)"
      ],
      "metadata": {
        "id": "2c9Uy8dxpTL_"
      },
      "execution_count": 18,
      "outputs": []
    },
    {
      "cell_type": "code",
      "source": [
        "%%R\n",
        "train.xy<- as.data.frame(h_train)\n",
        "test.xy<- as.data.frame(h_test)"
      ],
      "metadata": {
        "id": "zOgbacsmpdv4"
      },
      "execution_count": 19,
      "outputs": []
    },
    {
      "cell_type": "markdown",
      "source": [
        "### Define response and predictors"
      ],
      "metadata": {
        "id": "EPNkErcYpiLG"
      }
    },
    {
      "cell_type": "code",
      "source": [
        "%%R\n",
        "y <- \"SOC\"\n",
        "x <- setdiff(names(h_df), y)"
      ],
      "metadata": {
        "id": "0vqDqO2LpiSg"
      },
      "execution_count": 20,
      "outputs": []
    },
    {
      "cell_type": "markdown",
      "source": [
        "## **Train Base-Learners with Grid Search**"
      ],
      "metadata": {
        "id": "rDmlftMGppVw"
      }
    },
    {
      "cell_type": "markdown",
      "source": [
        "### 1. **Generalized Linear Models (GLM)**\n",
        "\n",
        "A generalized linear model (GLM) is a statistical framework that extends the traditional linear regression model to accommodate a broader range of response variables and model assumptions. The GLM allows for the response variable to follow a distribution other than the normal distribution, and allows for the relationship between the response variable and the predictor variables to be modeled using a nonlinear function."
      ],
      "metadata": {
        "id": "NswWX0PtpttC"
      }
    },
    {
      "cell_type": "code",
      "source": [
        "%%R\n",
        "# GLM Hyperprameter\n",
        "glm_hyper_params <-list(\n",
        "             alpha = c(0,0.25,0.5,0.75,1),\n",
        "             lambda = c(1, 0.5, 0.1, 0.01, 0.001, 0.0001, 0.00001, 0))\n",
        "\n",
        "# GLM Hyperprameter Grid Search\n",
        "GLM_grid <- h2o.grid(\n",
        "                  algorithm=\"glm\",\n",
        "                  grid_id = \"glm_grid_IDs\",\n",
        "                  x= x,\n",
        "                  y = y,\n",
        "                  training_frame = h_train,\n",
        "                  #validation_frame = h_valid,\n",
        "                  standardize = TRUE,\n",
        "                  nfolds=5,\n",
        "                  keep_cross_validation_predictions = TRUE,\n",
        "                  hyper_params = glm_hyper_params,\n",
        "                  seed = 42)\n",
        "\n",
        "# Get GLM Grid parameters\n",
        "glm_get_grid <- h2o.getGrid(\"glm_grid_IDs\",sort_by=\"RMSE\",decreasing=FALSE)\n",
        "glm_get_grid@summary_table[1,]\n",
        "\n",
        "# Number of GLM models\n",
        "length(GLM_grid@model_ids)\n",
        "\n",
        "# The Best GLM Model\n",
        "best_GLM <- h2o.getModel(glm_get_grid@model_ids[[1]])\n",
        "summary(best_GLM)"
      ],
      "metadata": {
        "colab": {
          "base_uri": "https://localhost:8080/"
        },
        "id": "ovrZcB5Np_LS",
        "outputId": "7d718b76-c50f-4a9c-fd9a-947b41137e5a"
      },
      "execution_count": 21,
      "outputs": [
        {
          "output_type": "stream",
          "name": "stdout",
          "text": [
            "Model Details:\n",
            "==============\n",
            "\n",
            "H2ORegressionModel: glm\n",
            "Model Key:  glm_grid_IDs_model_15 \n",
            "GLM Model: summary\n",
            "    family     link        regularization number_of_predictors_total\n",
            "1 gaussian identity Lasso (lambda = 0.1 )                         19\n",
            "  number_of_active_predictors number_of_iterations   training_frame\n",
            "1                           6                    1 train_sid_9baa_3\n",
            "\n",
            "H2ORegressionMetrics: glm\n",
            "** Reported on training data. **\n",
            "\n",
            "MSE:  13.82339\n",
            "RMSE:  3.717982\n",
            "MAE:  2.619295\n",
            "RMSLE:  0.5055727\n",
            "Mean Residual Deviance :  13.82339\n",
            "R^2 :  0.4226326\n",
            "Null Deviance :8978.288\n",
            "Null D.o.F. :374\n",
            "Residual Deviance :5183.771\n",
            "Residual D.o.F. :368\n",
            "AIC :2065.09\n",
            "\n",
            "\n",
            "\n",
            "H2ORegressionMetrics: glm\n",
            "** Reported on cross-validation data. **\n",
            "** 5-fold cross-validation on training data (Metrics computed for combined holdout predictions) **\n",
            "\n",
            "MSE:  14.79692\n",
            "RMSE:  3.846677\n",
            "MAE:  2.6804\n",
            "RMSLE:  0.517457\n",
            "Mean Residual Deviance :  14.79692\n",
            "R^2 :  0.3819707\n",
            "Null Deviance :9086.593\n",
            "Null D.o.F. :374\n",
            "Residual Deviance :5548.846\n",
            "Residual D.o.F. :367\n",
            "AIC :2092.611\n",
            "\n",
            "\n",
            "Cross-Validation Metrics Summary: \n",
            "                              mean         sd  cv_1_valid  cv_2_valid\n",
            "mae                       2.670020   0.304620    2.898831    3.083305\n",
            "mean_residual_deviance   14.818359   3.590104   20.353777   16.005350\n",
            "mse                      14.818359   3.590104   20.353777   16.005350\n",
            "null_deviance          1817.318600 411.063200 2533.519800 1542.472700\n",
            "r2                        0.354989   0.186407    0.411198    0.028271\n",
            "residual_deviance      1109.769200 281.541400 1465.471900 1360.454700\n",
            "rmse                      3.827802   0.455919    4.511516    4.000668\n",
            "rmsle                     0.509064   0.081137    0.463950    0.638736\n",
            "                        cv_3_valid  cv_4_valid  cv_5_valid\n",
            "mae                       2.490885    2.504714    2.372366\n",
            "mean_residual_deviance   13.975356   12.747924   11.009391\n",
            "mse                      13.975356   12.747924   11.009391\n",
            "null_deviance          1579.856400 1643.842500 1786.901900\n",
            "r2                        0.389339    0.469929    0.476210\n",
            "residual_deviance       964.299560  866.858800  891.760600\n",
            "rmse                      3.738363    3.570424    3.318040\n",
            "rmsle                     0.468032    0.536556    0.438047\n",
            "\n",
            "Scoring History: \n",
            "            timestamp   duration iterations negative_log_likelihood objective\n",
            "1 2023-10-26 01:33:03  0.000 sec          0              8978.28845  23.94210\n",
            "2 2023-10-26 01:33:03  0.011 sec          1                      NA        NA\n",
            "  training_rmse training_deviance training_mae training_r2\n",
            "1            NA                NA           NA          NA\n",
            "2       3.71798          13.82339      2.61929     0.42263\n",
            "\n",
            "Variable Importances: (Extract with `h2o.varimp`) \n",
            "=================================================\n",
            "\n",
            "Variable Importances: \n",
            "    variable relative_importance scaled_importance percentage\n",
            "1       NDVI            1.405971          1.000000   0.314417\n",
            "2        MAP            0.984422          0.700172   0.220146\n",
            "3        MAT            0.969810          0.689780   0.216879\n",
            "4      Slope            0.666680          0.474178   0.149090\n",
            "5  Silt_Clay            0.401436          0.285522   0.089773\n",
            "6     Aspect            0.043355          0.030836   0.009695\n",
            "7      FRG.1            0.000000          0.000000   0.000000\n",
            "8    FRG.133            0.000000          0.000000   0.000000\n",
            "9      FRG.2            0.000000          0.000000   0.000000\n",
            "10     FRG.3            0.000000          0.000000   0.000000\n",
            "11     FRG.4            0.000000          0.000000   0.000000\n",
            "12     FRG.5            0.000000          0.000000   0.000000\n",
            "13    NLCD.4            0.000000          0.000000   0.000000\n",
            "14    NLCD.5            0.000000          0.000000   0.000000\n",
            "15    NLCD.6            0.000000          0.000000   0.000000\n",
            "16    NLCD.7            0.000000          0.000000   0.000000\n",
            "17      ELEV            0.000000          0.000000   0.000000\n",
            "18       TPI            0.000000          0.000000   0.000000\n",
            "19  K_Factor            0.000000          0.000000   0.000000\n"
          ]
        }
      ]
    },
    {
      "cell_type": "markdown",
      "source": [
        "### **2. Distributaed Random Forest (DRF)**\n",
        "\n",
        "RF in h20 is also referred to as a distributed random forest (DRF), which is a parallel implementation of Random Forest. In a DRF, individual trees are trained on a subset of the data rows and columns. This randomization helps to minimize overfitting and enhance model accuracy and stability. The individual tree predictions are then combined to form a final prediction."
      ],
      "metadata": {
        "id": "qXVXKzjyqGQl"
      }
    },
    {
      "cell_type": "code",
      "source": [
        "%%R\n",
        "# RF Hyper-parameters\n",
        "RF_hyper_params <-list(\n",
        "              ntrees  = seq(100, 5000, by = 100),\n",
        "              max_depth=c(10,20,30,40,50),\n",
        "              sample_rate=c(0.7, 0.8, 0.9, 1.0)\n",
        "              )\n",
        "\n",
        "# RF Hyper-parameters Search Criteria\n",
        "RF_search_criteria <- list(strategy = \"RandomDiscrete\",\n",
        "                        max_models = 100,\n",
        "                        max_runtime_secs = 300,\n",
        "                        stopping_tolerance = 0.001,\n",
        "                        stopping_rounds = 2,\n",
        "                        seed = 42)\n",
        "\n",
        "# RF Grid Search\n",
        "RF_grid <- h2o.grid(\n",
        "                  algorithm=\"randomForest\",\n",
        "                  grid_id = \"RF_grid_IDs\",\n",
        "                  x = x,\n",
        "                  y = y,\n",
        "                  training_frame = h_train,\n",
        "                  #validation_frame = h_valid,\n",
        "                  stopping_metric = \"RMSE\",\n",
        "                  #fold_assignment =\"Stratified\",\n",
        "                  nfolds=5,\n",
        "                  keep_cross_validation_predictions = TRUE,\n",
        "                  keep_cross_validation_models = TRUE,\n",
        "                  hyper_params = RF_hyper_params,\n",
        "                  search_criteria = RF_search_criteria,\n",
        "                  seed = 42)\n",
        "\n",
        "# Number RF models\n",
        "length(RF_grid@model_ids)\n",
        "\n",
        "# Get RF Grid parameters\n",
        "RF_get_grid <- h2o.getGrid(\"RF_grid_IDs\",\n",
        "                           sort_by=\"RMSE\",\n",
        "                           decreasing=F)\n",
        "# The Best RF model\n",
        "best_RF <- h2o.getModel(RF_get_grid@model_ids[[1]])\n",
        "best_RF"
      ],
      "metadata": {
        "colab": {
          "base_uri": "https://localhost:8080/"
        },
        "id": "U2c1r4tkqGau",
        "outputId": "3f0392c0-7b46-4a47-8f84-80484cbff465"
      },
      "execution_count": 27,
      "outputs": [
        {
          "output_type": "stream",
          "name": "stdout",
          "text": [
            "Model Details:\n",
            "==============\n",
            "\n",
            "H2ORegressionModel: drf\n",
            "Model ID:  RF_grid_IDs_model_5 \n",
            "Model Summary: \n",
            "  number_of_trees number_of_internal_trees model_size_in_bytes min_depth\n",
            "1            1472                     1472             5577083        14\n",
            "  max_depth mean_depth min_leaves max_leaves mean_leaves\n",
            "1        20   18.12568        281        317   296.89540\n",
            "\n",
            "\n",
            "H2ORegressionMetrics: drf\n",
            "** Reported on training data. **\n",
            "** Metrics reported on Out-Of-Bag training samples **\n",
            "\n",
            "MSE:  13.54631\n",
            "RMSE:  3.680531\n",
            "MAE:  2.665098\n",
            "RMSLE:  0.5118363\n",
            "Mean Residual Deviance :  13.54631\n",
            "\n",
            "\n",
            "\n",
            "H2ORegressionMetrics: drf\n",
            "** Reported on cross-validation data. **\n",
            "** 5-fold cross-validation on training data (Metrics computed for combined holdout predictions) **\n",
            "\n",
            "MSE:  13.64646\n",
            "RMSE:  3.694112\n",
            "MAE:  2.642237\n",
            "RMSLE:  0.5101867\n",
            "Mean Residual Deviance :  13.64646\n",
            "\n",
            "\n",
            "Cross-Validation Metrics Summary: \n",
            "                            mean       sd cv_1_valid cv_2_valid cv_3_valid\n",
            "mae                     2.636468 0.199784   2.806008   2.877734   2.603642\n",
            "mean_residual_deviance 13.696613 2.696862  17.548225  14.232263  14.210169\n",
            "mse                    13.696613 2.696862  17.548225  14.232263  14.210169\n",
            "r2                      0.402039 0.157611   0.492358   0.135920   0.379079\n",
            "residual_deviance      13.696613 2.696862  17.548225  14.232263  14.210169\n",
            "rmse                    3.686540 0.364071   4.189060   3.772567   3.769638\n",
            "rmsle                   0.504801 0.069879   0.460584   0.603627   0.492056\n",
            "                       cv_4_valid cv_5_valid\n",
            "mae                      2.457212   2.437743\n",
            "mean_residual_deviance  12.167539  10.324875\n",
            "mse                     12.167539  10.324875\n",
            "r2                       0.494062   0.508777\n",
            "residual_deviance       12.167539  10.324875\n",
            "rmse                     3.488200   3.213234\n",
            "rmsle                    0.542057   0.425681\n"
          ]
        }
      ]
    },
    {
      "cell_type": "markdown",
      "source": [
        "### **3. Gradient Boosting Machine (GBM)**\n",
        "\n",
        "Gradient Boosting Machine (GBM) is a powerful and popular supervised learning algorithm used for both regression and classification tasks. It belongs to the family of ensemble methods, which combine multiple weak learners to form a stronger model. The idea behind gradient boosting is to iteratively improve a model's predictions by fitting a new model to the residuals or errors of the previous models.\n",
        "\n",
        "Whereas random forests build an ensemble of deep independent trees, GBMs build an ensemble of shallow and weak successive trees with each tree learning and improving on the previous. When combined, these many weak successive trees produce a powerful \"committee\" that are often hard to beat with other algorithms."
      ],
      "metadata": {
        "id": "UAm33yetqqVt"
      }
    },
    {
      "cell_type": "code",
      "source": [
        "%%R\n",
        "# GBM Hyper-parameters\n",
        "GBM_hyper_params = list( ntrees = c(100,500, 1000, 5000),\n",
        "                     max_depth = c(2,5,8),\n",
        "                     min_rows = c(8,10, 12),\n",
        "                     learn_rate = c(0.001,0.05,0.06),\n",
        "                     sample_rate = c(0.4,0.5,0.6, 0.7),\n",
        "                     col_sample_rate = c(0.4,0.5,0.6),\n",
        "                     col_sample_rate_per_tree = c(0.4,0.5,0.6))\n",
        "\n",
        "# GBM Hyper-parameters Search Criteria\n",
        "GBM_search_criteria <- list(strategy = \"RandomDiscrete\",\n",
        "                        max_models = 20,\n",
        "                        max_runtime_secs = 300,\n",
        "                        stopping_tolerance = 0.001,\n",
        "                        stopping_rounds = 2,\n",
        "                        seed = 42)\n",
        "\n",
        "# GBM Hyper-parameters Grid Search\n",
        "GBM_grid <- h2o.grid(\n",
        "                  algorithm=\"gbm\",\n",
        "                  grid_id = \"GBM_grid_ID\",\n",
        "                  x= x,\n",
        "                  y = y,\n",
        "                  training_frame = h_train,\n",
        "                  #validation_frame = h_valid,\n",
        "                  distribution =\"AUTO\",\n",
        "                  stopping_metric = \"RMSE\",\n",
        "                  #fold_assignment =\"Stratified\",\n",
        "                  nfolds=5,\n",
        "                  keep_cross_validation_predictions = TRUE,\n",
        "                  keep_cross_validation_models = TRUE,\n",
        "                  hyper_params = GBM_hyper_params,\n",
        "                  search_criteria = GBM_search_criteria,\n",
        "                  seed = 42)\n",
        "\n",
        "# Number GBM models\n",
        "length(GBM_grid@model_ids)\n",
        "\n",
        "# Get GBM Grid parameters\n",
        "GBM_get_grid <- h2o.getGrid(\"GBM_grid_ID\",\n",
        "                           sort_by=\"RMSE\",\n",
        "                           decreasing=F)\n",
        "#  the Best GBM Model\n",
        "best_GBM <- h2o.getModel(GBM_get_grid@model_ids[[1]])\n",
        "best_GBM"
      ],
      "metadata": {
        "colab": {
          "base_uri": "https://localhost:8080/"
        },
        "id": "8jN_3Yq6qqfH",
        "outputId": "d5f3bdbb-2aef-4497-81db-93a5b9be3092"
      },
      "execution_count": 28,
      "outputs": [
        {
          "output_type": "stream",
          "name": "stdout",
          "text": [
            "Model Details:\n",
            "==============\n",
            "\n",
            "H2ORegressionModel: gbm\n",
            "Model ID:  GBM_grid_ID_model_13 \n",
            "Model Summary: \n",
            "  number_of_trees number_of_internal_trees model_size_in_bytes min_depth\n",
            "1            5000                     5000              528722         2\n",
            "  max_depth mean_depth min_leaves max_leaves mean_leaves\n",
            "1         2    2.00000          3          4     3.61260\n",
            "\n",
            "\n",
            "H2ORegressionMetrics: gbm\n",
            "** Reported on training data. **\n",
            "\n",
            "MSE:  10.19296\n",
            "RMSE:  3.192642\n",
            "MAE:  2.302968\n",
            "RMSLE:  0.4633825\n",
            "Mean Residual Deviance :  10.19296\n",
            "\n",
            "\n",
            "\n",
            "H2ORegressionMetrics: gbm\n",
            "** Reported on cross-validation data. **\n",
            "** 5-fold cross-validation on training data (Metrics computed for combined holdout predictions) **\n",
            "\n",
            "MSE:  14.32359\n",
            "RMSE:  3.784652\n",
            "MAE:  2.695643\n",
            "RMSLE:  0.5244795\n",
            "Mean Residual Deviance :  14.32359\n",
            "\n",
            "\n",
            "Cross-Validation Metrics Summary: \n",
            "                            mean       sd cv_1_valid cv_2_valid cv_3_valid\n",
            "mae                     2.681142 0.276308   2.826907   3.072784   2.603828\n",
            "mean_residual_deviance 14.284904 2.975810  18.374525  16.034182  13.974797\n",
            "mse                    14.284904 2.975810  18.374525  16.034182  13.974797\n",
            "r2                      0.371010 0.199849   0.468455   0.026520   0.389364\n",
            "residual_deviance      14.284904 2.975810  18.374525  16.034182  13.974797\n",
            "rmse                    3.763333 0.390882   4.286551   4.004271   3.738288\n",
            "rmsle                   0.517482 0.069072   0.462834   0.633946   0.501640\n",
            "                       cv_4_valid cv_5_valid\n",
            "mae                      2.353798   2.548394\n",
            "mean_residual_deviance  11.162141  11.878875\n",
            "mse                     11.162141  11.878875\n",
            "r2                       0.535867   0.434843\n",
            "residual_deviance       11.162141  11.878875\n",
            "rmse                     3.340979   3.446574\n",
            "rmsle                    0.519248   0.469741\n"
          ]
        }
      ]
    },
    {
      "cell_type": "markdown",
      "source": [
        "## **4. eXtreme Gradient Boosting (XGBoost)**\n",
        "\n",
        "The XGBoost algorithm works by building a series of decision trees, where each subsequent tree tries to correct the errors of the previous tree. The algorithm also employs a gradient-based optimization approach to find the optimal set of parameters for each decision tree."
      ],
      "metadata": {
        "id": "WXlwwjCkrCjJ"
      }
    },
    {
      "cell_type": "code",
      "source": [
        "%%R\n",
        "# hyper parameters\n",
        "XGBoost_hyper_params = list( ntrees = seq(50,500,50),\n",
        "                     max_depth = seq(1,120,1),\n",
        "                     min_rows = c(1,5,10,20,50,100),\n",
        "                     learn_rate = seq(0.001,0.01,0.001),\n",
        "                     sample_rate = seq(0.3,1,0.05),\n",
        "                     col_sample_rate = seq(0.3,1,0.05),\n",
        "                     col_sample_rate_per_tree = seq(0.3,1,0.05))\n",
        "\n",
        "# Search Criteria\n",
        "XGBoost_search_criteria <- list(strategy = \"RandomDiscrete\",\n",
        "                        max_models = 200,\n",
        "                        max_runtime_secs = 300,\n",
        "                        stopping_tolerance = 0.001,\n",
        "                        stopping_rounds = 2,\n",
        "                        seed = 1345767)\n",
        "# Gird Search\n",
        "XGBoost_grid <- h2o.grid(\n",
        "                  algorithm=\"xgboost\",\n",
        "                  grid_id = \"XGBoost_grid_ID\",\n",
        "                  x= x,\n",
        "                  y = y,\n",
        "                  training_frame = h_train,\n",
        "                  stopping_metric = \"rmse\",\n",
        "                  #fold_assignment =\"Stratified\",\n",
        "                  nfolds=10,\n",
        "                  keep_cross_validation_predictions = TRUE,\n",
        "                  keep_cross_validation_models = TRUE,\n",
        "                  hyper_params = XGBoost_hyper_params,\n",
        "                  search_criteria = XGBoost_search_criteria,\n",
        "                  seed = 42)\n",
        "\n",
        "# Number XGBoost models\n",
        "length(XGBoost_grid@model_ids)\n",
        "\n",
        "# Get XGBoost Grid parameters\n",
        "XGBoost_get_grid <- h2o.getGrid(\"XGBoost_grid_ID\",\n",
        "                           sort_by=\"RMSE\",\n",
        "                           decreasing=F)\n",
        "#  the Best XGBoost Model\n",
        "best_XGBoost <- h2o.getModel(XGBoost_get_grid@model_ids[[1]])\n",
        "best_XGBoost"
      ],
      "metadata": {
        "colab": {
          "base_uri": "https://localhost:8080/"
        },
        "id": "XjECmrKGrCrK",
        "outputId": "f6f1da26-2e09-4bb1-ffd0-c8372d08a08f"
      },
      "execution_count": 29,
      "outputs": [
        {
          "output_type": "stream",
          "name": "stdout",
          "text": [
            "Model Details:\n",
            "==============\n",
            "\n",
            "H2ORegressionModel: xgboost\n",
            "Model ID:  XGBoost_grid_ID_model_25 \n",
            "Model Summary: \n",
            "  number_of_trees\n",
            "1             350\n",
            "\n",
            "\n",
            "H2ORegressionMetrics: xgboost\n",
            "** Reported on training data. **\n",
            "\n",
            "MSE:  7.19878\n",
            "RMSE:  2.683054\n",
            "MAE:  1.756419\n",
            "RMSLE:  0.3491602\n",
            "Mean Residual Deviance :  7.19878\n",
            "\n",
            "\n",
            "\n",
            "H2ORegressionMetrics: xgboost\n",
            "** Reported on cross-validation data. **\n",
            "** 10-fold cross-validation on training data (Metrics computed for combined holdout predictions) **\n",
            "\n",
            "MSE:  14.48835\n",
            "RMSE:  3.806357\n",
            "MAE:  2.634807\n",
            "RMSLE:  0.5064981\n",
            "Mean Residual Deviance :  14.48835\n",
            "\n",
            "\n",
            "Cross-Validation Metrics Summary: \n",
            "                            mean       sd cv_1_valid cv_2_valid cv_3_valid\n",
            "mae                     2.614362 0.485994   3.038212   3.256584   3.028240\n",
            "mean_residual_deviance 14.140247 6.373582  27.264172  18.903288  13.860534\n",
            "mse                    14.140247 6.373582  27.264172  18.903288  13.860534\n",
            "r2                      0.388399 0.270300   0.406661  -0.319179   0.386317\n",
            "residual_deviance      14.140247 6.373582  27.264172  18.903288  13.860534\n",
            "rmse                    3.672254 0.852969   5.221510   4.347791   3.722974\n",
            "rmsle                   0.491519 0.098569   0.476736   0.675800   0.553963\n",
            "                       cv_4_valid cv_5_valid cv_6_valid cv_7_valid cv_8_valid\n",
            "mae                      3.036552   2.355056   2.607088   2.423432   2.349081\n",
            "mean_residual_deviance  18.519030   8.844090  11.231217   9.127360  15.412084\n",
            "mse                     18.519030   8.844090  11.231217   9.127360  15.412084\n",
            "r2                       0.421618   0.530916   0.444306   0.540237   0.330353\n",
            "residual_deviance       18.519030   8.844090  11.231217   9.127360  15.412084\n",
            "rmse                     4.303374   2.973902   3.351301   3.021152   3.925823\n",
            "rmsle                    0.630533   0.403852   0.446039   0.470796   0.466366\n",
            "                       cv_9_valid cv_10_valid\n",
            "mae                      1.628124    2.421257\n",
            "mean_residual_deviance   4.774666   13.466031\n",
            "mse                      4.774666   13.466031\n",
            "r2                       0.710354    0.432404\n",
            "residual_deviance        4.774666   13.466031\n",
            "rmse                     2.185101    3.669609\n",
            "rmsle                    0.375472    0.415636\n"
          ]
        }
      ]
    },
    {
      "cell_type": "markdown",
      "source": [
        "### **5. Deep Neural Network (DNN)**\n",
        "\n",
        "H2O’s Deep Learning is based on a multi-layer feedforward artificial neural network that is trained with stochastic gradient descent using back-propagation. The network can contain a large number of hidden layers consisting of neurons with tanh, rectifier, and maxout activation functions. Advanced features such as adaptive learning rate, rate annealing, momentum training, dropout, L1 or L2 regularization, checkpointing, and grid search enable high predictive accuracy. Each compute node trains a copy of the global model parameters on its local data with multi-threading (asynchronously) and contributes periodically to the global model via model averaging across the network."
      ],
      "metadata": {
        "id": "cJIk8UaFskkQ"
      }
    },
    {
      "cell_type": "code",
      "source": [
        "%%R\n",
        "# DNN Hyper-parameters\n",
        "DNN_hyper_params <- list(\n",
        "                     activation = c(\"Rectifier\",\n",
        "                                    \"Maxout\",\n",
        "                                    \"Tanh\",\n",
        "                                    \"RectifierWithDropout\",\n",
        "                                    \"MaxoutWithDropout\",\n",
        "                                    \"TanhWithDropout\"),\n",
        "                     hidden = list( c(50, 50, 50, 50),\n",
        "                                   c(100, 100, 100), c(200, 200, 200)),\n",
        "                     epochs = c(50, 100, 200, 500),\n",
        "                     l1 = c(0, 0.00001, 0.0001),\n",
        "                     l2 = c(0, 0.00001, 0.0001),\n",
        "                     rate = c(0, 01, 0.005, 0.001),\n",
        "                     rate_decay = c(0.5, 1.0, 1.5),\n",
        "                     rate_annealing = c(1e-5, 1e-6, 1e-5),\n",
        "                     rho = c(0.9, 0.95, 0.99, 0.999),\n",
        "                     epsilon = c(1e-06, 1e-08, 1e-09),\n",
        "                     momentum_start = c(0, 0.5),\n",
        "                     momentum_stable = c(0.99, 0.5, 0),\n",
        "                     regression_stop = c(1e-05, 1e-06,1e-07),\n",
        "                     input_dropout_ratio = c(0, 0.0001, 0.001),\n",
        "                     max_w2 = c(10, 100, 1000, 3.4028235e+38)\n",
        "                     )\n",
        "\n",
        "# DNN Hyper-parameters Search criteria\n",
        "DNN_search_criteria <- list(strategy = \"RandomDiscrete\",\n",
        "                        max_models = 100,\n",
        "                        max_runtime_secs = 300,\n",
        "                        stopping_tolerance = 0.001,\n",
        "                        stopping_rounds = 3,\n",
        "                        seed = 1345767)\n",
        "\n",
        "# DNN Hyper-parameters Grid Search\n",
        "DNN_grid <- h2o.grid(\n",
        "                  algorithm=\"deeplearning\",\n",
        "                  grid_id = \"DNN_grid_IDs\",\n",
        "                  x= x,\n",
        "                  y = y,\n",
        "                  standardize = TRUE,\n",
        "                  shuffle_training_data = TRUE,\n",
        "                  training_frame = h_train,\n",
        "                  #validation_frame = h_valid,\n",
        "                  distribution =\"AUTO\",\n",
        "                  stopping_metric = \"RMSE\",\n",
        "                  nfolds= 5,\n",
        "                  keep_cross_validation_predictions = TRUE,\n",
        "                  keep_cross_validation_models = TRUE,\n",
        "                  hyper_params = DNN_hyper_params,\n",
        "                  search_criteria = DNN_search_criteria,\n",
        "                  seed = 42)\n",
        "\n",
        "# Number DNN models\n",
        "length(DNN_grid@model_ids)\n",
        "\n",
        "# Get DNN Grid parameters\n",
        "DNN_get_grid <- h2o.getGrid(\"DNN_grid_IDs\",\n",
        "                           sort_by=\"RMSE\",\n",
        "                           decreasing=F)\n",
        "#The Best DNN model\n",
        "best_DNN <- h2o.getModel(DNN_get_grid@model_ids[[1]])\n",
        "best_DNN"
      ],
      "metadata": {
        "colab": {
          "base_uri": "https://localhost:8080/"
        },
        "id": "pKQJvP7BsrIo",
        "outputId": "b4c71b1e-d779-40b0-ab7b-ecfa0114ae1a"
      },
      "execution_count": 30,
      "outputs": [
        {
          "output_type": "stream",
          "name": "stdout",
          "text": [
            "Model Details:\n",
            "==============\n",
            "\n",
            "H2ORegressionModel: deeplearning\n",
            "Model ID:  DNN_grid_IDs_model_1 \n",
            "Status of Neuron Layers: predicting SOC, regression, gaussian distribution, Quadratic loss, 22,501 weights/biases, 272.2 KB, 19,697 training samples, mini-batch size 1\n",
            "  layer units        type dropout       l1       l2 mean_rate rate_rms momentum\n",
            "1     1    21       Input  0.10 %       NA       NA        NA       NA       NA\n",
            "2     2   100 TanhDropout 50.00 % 0.000100 0.000010  0.094333 0.282138 0.000000\n",
            "3     3   100 TanhDropout 50.00 % 0.000100 0.000010  0.004738 0.004002 0.000000\n",
            "4     4   100 TanhDropout 50.00 % 0.000100 0.000010  0.010781 0.048108 0.000000\n",
            "5     5     1      Linear      NA 0.000100 0.000010  0.000347 0.000101 0.000000\n",
            "  mean_weight weight_rms mean_bias bias_rms\n",
            "1          NA         NA        NA       NA\n",
            "2    0.000822   0.137732  0.002965 0.051917\n",
            "3    0.000559   0.102039 -0.002017 0.096587\n",
            "4    0.001133   0.097662  0.005839 0.047680\n",
            "5   -0.013204   0.118152  0.082533 0.000000\n",
            "\n",
            "\n",
            "H2ORegressionMetrics: deeplearning\n",
            "** Reported on training data. **\n",
            "** Metrics reported on full training frame **\n",
            "\n",
            "MSE:  15.43533\n",
            "RMSE:  3.928782\n",
            "MAE:  2.712998\n",
            "RMSLE:  0.517646\n",
            "Mean Residual Deviance :  15.43533\n",
            "\n",
            "\n",
            "\n",
            "H2ORegressionMetrics: deeplearning\n",
            "** Reported on cross-validation data. **\n",
            "** 5-fold cross-validation on training data (Metrics computed for combined holdout predictions) **\n",
            "\n",
            "MSE:  18.10347\n",
            "RMSE:  4.254817\n",
            "MAE:  2.845798\n",
            "RMSLE:  0.5288863\n",
            "Mean Residual Deviance :  18.10347\n",
            "\n",
            "\n",
            "Cross-Validation Metrics Summary: \n",
            "                            mean       sd cv_1_valid cv_2_valid cv_3_valid\n",
            "mae                     2.842789 0.293234   3.255418   2.664974   2.632047\n",
            "mean_residual_deviance 18.255920 6.595172  29.554308  12.634801  15.280952\n",
            "mse                    18.255920 6.595172  29.554308  12.634801  15.280952\n",
            "r2                      0.239343 0.095820   0.145042   0.232906   0.332291\n",
            "residual_deviance      18.255920 6.595172  29.554308  12.634801  15.280952\n",
            "rmse                    4.223816 0.720500   5.436388   3.554546   3.909086\n",
            "rmsle                   0.526074 0.028449   0.525901   0.568700   0.503721\n",
            "                       cv_4_valid cv_5_valid\n",
            "mae                      2.610113   3.051390\n",
            "mean_residual_deviance  15.848133  17.961407\n",
            "mse                     15.848133  17.961407\n",
            "r2                       0.341019   0.145457\n",
            "residual_deviance       15.848133  17.961407\n",
            "rmse                     3.980971   4.238090\n",
            "rmsle                    0.497066   0.534982\n"
          ]
        }
      ]
    },
    {
      "cell_type": "markdown",
      "source": [
        "## **Stack-Ensemble Model: The Best of Families**"
      ],
      "metadata": {
        "id": "uHD6AboYs67R"
      }
    },
    {
      "cell_type": "code",
      "source": [
        "%%R\n",
        "# rf-parameters\n",
        "rf_params <-   list(\n",
        "                    ntrees = 2000,\n",
        "                    max_depth =25,\n",
        "                    sample_rate = 0.8,\n",
        "                    stopping_tolerance = 0.001,\n",
        "                    stopping_rounds = 3,\n",
        "                    stopping_metric = \"RMSE\")\n",
        "\n",
        "\n",
        "stack_best <-h2o.stackedEnsemble(\n",
        "                               model_id = \"stack_RF_ID\",\n",
        "                               x= x,\n",
        "                               y = y,\n",
        "                               training_frame = h_train,\n",
        "                               #validation_frame = h_valid,\n",
        "                               base_models = list(best_GLM,\n",
        "                                                  best_RF,\n",
        "                                                  best_GBM,\n",
        "                                                  best_XGBoost,\n",
        "                                                  best_DNN\n",
        "                                                  ),\n",
        "                               metalearner_algorithm = \"drf\",\n",
        "                               metalearner_params = rf_params,\n",
        "                               metalearner_nfolds = 5,\n",
        "                               seed = 42\n",
        "                               )\n",
        "stack_best"
      ],
      "metadata": {
        "colab": {
          "base_uri": "https://localhost:8080/"
        },
        "id": "ZSwg8N2Vs-QP",
        "outputId": "de63296c-b226-4cab-8d41-058a91239747"
      },
      "execution_count": 32,
      "outputs": [
        {
          "output_type": "stream",
          "name": "stdout",
          "text": [
            "Model Details:\n",
            "==============\n",
            "\n",
            "H2ORegressionModel: stackedensemble\n",
            "Model ID:  stack_RF_ID \n",
            "Model Summary for Stacked Ensemble: \n",
            "                                         key\n",
            "1                          Stacking strategy\n",
            "2       Number of base models (used / total)\n",
            "3           # GBM base models (used / total)\n",
            "4       # XGBoost base models (used / total)\n",
            "5           # GLM base models (used / total)\n",
            "6           # DRF base models (used / total)\n",
            "7  # DeepLearning base models (used / total)\n",
            "8                      Metalearner algorithm\n",
            "9         Metalearner fold assignment scheme\n",
            "10                        Metalearner nfolds\n",
            "11                   Metalearner fold_column\n",
            "12        Custom metalearner hyperparameters\n",
            "                                                                                                                                                                  value\n",
            "1                                                                                                                                                      cross_validation\n",
            "2                                                                                                                                                                   5/5\n",
            "3                                                                                                                                                                   1/1\n",
            "4                                                                                                                                                                   1/1\n",
            "5                                                                                                                                                                   1/1\n",
            "6                                                                                                                                                                   1/1\n",
            "7                                                                                                                                                                   1/1\n",
            "8                                                                                                                                                                   DRF\n",
            "9                                                                                                                                                                Random\n",
            "10                                                                                                                                                                    5\n",
            "11                                                                                                                                                                   NA\n",
            "12 {\\n  \"ntrees\": [2000],\\n  \"max_depth\": [25],\\n  \"sample_rate\": [0.8],\\n  \"stopping_tolerance\": [0.001],\\n  \"stopping_rounds\": [3],\\n  \"stopping_metric\": [\"RMSE\"]\\n}\n",
            "\n",
            "\n",
            "H2ORegressionMetrics: stackedensemble\n",
            "** Reported on training data. **\n",
            "\n",
            "MSE:  9.560232\n",
            "RMSE:  3.091963\n",
            "MAE:  2.163197\n",
            "RMSLE:  0.46674\n",
            "Mean Residual Deviance :  9.560232\n",
            "\n",
            "\n",
            "\n",
            "H2ORegressionMetrics: stackedensemble\n",
            "** Reported on cross-validation data. **\n",
            "** 5-fold cross-validation on training data (Metrics computed for combined holdout predictions) **\n",
            "\n",
            "MSE:  15.91949\n",
            "RMSE:  3.989924\n",
            "MAE:  2.868081\n",
            "RMSLE:  0.5506033\n",
            "Mean Residual Deviance :  15.91949\n",
            "\n",
            "\n",
            "Cross-Validation Metrics Summary: \n",
            "                            mean       sd cv_1_valid cv_2_valid cv_3_valid\n",
            "mae                     2.877132 0.244399   2.852997   3.305316   2.758361\n",
            "mean_residual_deviance 16.042015 2.533762  18.072080  19.400618  14.264750\n",
            "mse                    16.042015 2.533762  18.072080  19.400618  14.264750\n",
            "r2                      0.282007 0.261566   0.477204  -0.177866   0.376694\n",
            "residual_deviance      16.042015 2.533762  18.072080  19.400618  14.264750\n",
            "rmse                    3.995485 0.312480   4.251127   4.404613   3.776870\n",
            "rmsle                   0.545641 0.082986   0.454757   0.656534   0.521866\n",
            "                       cv_4_valid cv_5_valid\n",
            "mae                      2.744507   2.724477\n",
            "mean_residual_deviance  14.783411  13.689216\n",
            "mse                     14.783411  13.689216\n",
            "r2                       0.385291   0.348713\n",
            "residual_deviance       14.783411  13.689216\n",
            "rmse                     3.844920   3.699894\n",
            "rmsle                    0.604169   0.490880\n"
          ]
        }
      ]
    },
    {
      "cell_type": "markdown",
      "source": [
        "#### Prediction"
      ],
      "metadata": {
        "id": "aeCfqIb_6XVr"
      }
    },
    {
      "cell_type": "code",
      "source": [
        "%%R\n",
        "stack.test.best<-as.data.frame(h2o.predict(object = stack_best, newdata = h_test))\n",
        "test.xy$Stack_SOC_best<-stack.test.best$predict"
      ],
      "metadata": {
        "id": "Rx4LoCNh6XeX"
      },
      "execution_count": 33,
      "outputs": []
    },
    {
      "cell_type": "code",
      "source": [
        "%%R\n",
        "RMSE.best<- Metrics::rmse(test.xy$SOC, test.xy$Stack_SOC_best)\n",
        "MAE.best<- Metrics::mae(test.xy$SOC, test.xy$Stack_SOC_best)\n",
        "\n",
        "# Print results\n",
        "paste0(\"RMSE: \", round(RMSE.best,2))\n",
        "paste0(\"MAE: \", round(MAE.best,2))"
      ],
      "metadata": {
        "colab": {
          "base_uri": "https://localhost:8080/"
        },
        "id": "nkvgrfbgGVl7",
        "outputId": "93212b2d-2036-4cac-c896-1e49e98628e7"
      },
      "execution_count": 35,
      "outputs": [
        {
          "output_type": "stream",
          "name": "stdout",
          "text": [
            "[1] \"MAE: 3.19\"\n"
          ]
        }
      ]
    },
    {
      "cell_type": "code",
      "source": [
        "%%R -w 450 -h 450 -u px\n",
        "\n",
        "formula<-y~x\n",
        "\n",
        "ggplot(test.xy, aes(SOC,Stack_SOC_best)) +\n",
        "  geom_point() +\n",
        "  geom_smooth(method = \"lm\")+\n",
        "  stat_poly_eq(use_label(c(\"eq\", \"adj.R2\")), formula = formula) +\n",
        "  ggtitle(\"Stack-Ensemble: The Best of Family\") +\n",
        "  xlab(\"Observed\") + ylab(\"Predicted\") +\n",
        "  scale_x_continuous(limits=c(0,25), breaks=seq(0, 25, 5))+\n",
        "  scale_y_continuous(limits=c(0,25), breaks=seq(0, 25, 5)) +\n",
        "  # Flip the bars\n",
        "  theme(\n",
        "    panel.background = element_rect(fill = \"grey95\",colour = \"gray75\",size = 0.5, linetype = \"solid\"),\n",
        "    axis.line = element_line(colour = \"grey\"),\n",
        "    plot.title = element_text(size = 14, hjust = 0.5),\n",
        "    axis.title.x = element_text(size = 14),\n",
        "    axis.title.y = element_text(size = 14),\n",
        "    axis.text.x=element_text(size=13, colour=\"black\"),\n",
        "    axis.text.y=element_text(size=13,angle = 90,vjust = 0.5, hjust=0.5, colour='black'))"
      ],
      "metadata": {
        "colab": {
          "base_uri": "https://localhost:8080/",
          "height": 484
        },
        "id": "DVYEKi3c6dND",
        "outputId": "c5f6d290-b719-48c2-dbcf-8d933710c61c"
      },
      "execution_count": 37,
      "outputs": [
        {
          "output_type": "stream",
          "name": "stdout",
          "text": [
            "`geom_smooth()` using formula = 'y ~ x'\n"
          ]
        },
        {
          "output_type": "display_data",
          "data": {
            "image/png": "[encoded data removed]"
          },
          "metadata": {}
        }
      ]
    },
    {
      "cell_type": "markdown",
      "source": [
        "## **Stack-Ensemble Model - All Models**"
      ],
      "metadata": {
        "id": "PNYWW4MX6i0L"
      }
    },
    {
      "cell_type": "code",
      "source": [
        "%%R\n",
        "all_01 = append(GLM_grid@model_ids, RF_grid@model_ids)\n",
        "all_02<-append(all_01, XGBoost_grid@model_ids)\n",
        "all_03<-append(all_02,DNN_grid@model_ids)\n",
        "all_04<-append(all_03,GBM_grid@model_ids)\n",
        "length(all_04)"
      ],
      "metadata": {
        "colab": {
          "base_uri": "https://localhost:8080/"
        },
        "id": "GRXk6oGU6i8R",
        "outputId": "3046c0c4-6594-4f16-c7e0-c4fff25f7126"
      },
      "execution_count": 38,
      "outputs": [
        {
          "output_type": "stream",
          "name": "stdout",
          "text": [
            "[1] 113\n"
          ]
        }
      ]
    },
    {
      "cell_type": "code",
      "source": [
        "%%R\n",
        "stack_all<- h2o.stackedEnsemble(\n",
        "                               model_id = \"stack_Model_ALL_IDs\",\n",
        "                               x= x,\n",
        "                               y = y,\n",
        "                               training_frame = h_train,\n",
        "                               base_models = all_04,\n",
        "                               metalearner_algorithm = \"drf\",\n",
        "                               metalearner_nfolds = 5,\n",
        "                               metalearner_params = rf_params,\n",
        "                               keep_levelone_frame = TRUE,\n",
        "                               seed=123)\n",
        "stack_all"
      ],
      "metadata": {
        "colab": {
          "base_uri": "https://localhost:8080/"
        },
        "id": "rCGJkqzC7H_S",
        "outputId": "e1d88fd9-1bb7-4037-e5b0-7b7d8f835dd0"
      },
      "execution_count": 39,
      "outputs": [
        {
          "output_type": "stream",
          "name": "stdout",
          "text": [
            "Model Details:\n",
            "==============\n",
            "\n",
            "H2ORegressionModel: stackedensemble\n",
            "Model ID:  stack_Model_ALL_IDs \n",
            "Model Summary for Stacked Ensemble: \n",
            "                                         key\n",
            "1                          Stacking strategy\n",
            "2       Number of base models (used / total)\n",
            "3           # GBM base models (used / total)\n",
            "4       # XGBoost base models (used / total)\n",
            "5           # GLM base models (used / total)\n",
            "6           # DRF base models (used / total)\n",
            "7  # DeepLearning base models (used / total)\n",
            "8                      Metalearner algorithm\n",
            "9         Metalearner fold assignment scheme\n",
            "10                        Metalearner nfolds\n",
            "11                   Metalearner fold_column\n",
            "12        Custom metalearner hyperparameters\n",
            "                                                                                                                                                                  value\n",
            "1                                                                                                                                                      cross_validation\n",
            "2                                                                                                                                                               113/113\n",
            "3                                                                                                                                                                 13/13\n",
            "4                                                                                                                                                                 44/44\n",
            "5                                                                                                                                                                 40/40\n",
            "6                                                                                                                                                                   8/8\n",
            "7                                                                                                                                                                   8/8\n",
            "8                                                                                                                                                                   DRF\n",
            "9                                                                                                                                                                Random\n",
            "10                                                                                                                                                                    5\n",
            "11                                                                                                                                                                   NA\n",
            "12 {\\n  \"ntrees\": [2000],\\n  \"max_depth\": [25],\\n  \"sample_rate\": [0.8],\\n  \"stopping_tolerance\": [0.001],\\n  \"stopping_rounds\": [3],\\n  \"stopping_metric\": [\"RMSE\"]\\n}\n",
            "\n",
            "\n",
            "H2ORegressionMetrics: stackedensemble\n",
            "** Reported on training data. **\n",
            "\n",
            "MSE:  7.409038\n",
            "RMSE:  2.721955\n",
            "MAE:  1.956548\n",
            "RMSLE:  0.4580438\n",
            "Mean Residual Deviance :  7.409038\n",
            "\n",
            "\n",
            "\n",
            "H2ORegressionMetrics: stackedensemble\n",
            "** Reported on cross-validation data. **\n",
            "** 5-fold cross-validation on training data (Metrics computed for combined holdout predictions) **\n",
            "\n",
            "MSE:  16.14888\n",
            "RMSE:  4.018567\n",
            "MAE:  2.862859\n",
            "RMSLE:  0.5448411\n",
            "Mean Residual Deviance :  16.14888\n",
            "\n",
            "\n",
            "Cross-Validation Metrics Summary: \n",
            "                            mean       sd cv_1_valid cv_2_valid cv_3_valid\n",
            "mae                     2.877600 0.265598   3.223500   2.716174   3.092373\n",
            "mean_residual_deviance 16.291304 5.136513  25.188206  13.468116  16.143726\n",
            "mse                    16.291304 5.136513  25.188206  13.468116  16.143726\n",
            "r2                      0.315537 0.116339   0.224148   0.472244   0.206263\n",
            "residual_deviance      16.291304 5.136513  25.188206  13.468116  16.143726\n",
            "rmse                    4.001209 0.593327   5.018785   3.669893   4.017926\n",
            "rmsle                   0.541929 0.040131   0.532802   0.555924   0.603650\n",
            "                       cv_4_valid cv_5_valid\n",
            "mae                      2.605045   2.750909\n",
            "mean_residual_deviance  12.684608  13.971865\n",
            "mse                     12.684608  13.971865\n",
            "r2                       0.402025   0.273004\n",
            "residual_deviance       12.684608  13.971865\n",
            "rmse                     3.561546   3.737896\n",
            "rmsle                    0.516882   0.500386\n"
          ]
        }
      ]
    },
    {
      "cell_type": "markdown",
      "source": [
        "##### Prediction"
      ],
      "metadata": {
        "id": "2j3xyhCw7UZl"
      }
    },
    {
      "cell_type": "code",
      "source": [
        "%%R\n",
        "stack.test.all<-as.data.frame(h2o.predict(object = stack_all, newdata = h_test))\n",
        "test.xy$Stack_SOC_all<-stack.test.all$predict"
      ],
      "metadata": {
        "id": "Opt7Mr7Q7Uld"
      },
      "execution_count": 40,
      "outputs": []
    },
    {
      "cell_type": "code",
      "source": [
        "%%R\n",
        "RMSE.all<- Metrics::rmse(test.xy$SOC, test.xy$Stack_SOC_all)\n",
        "MAE.all<- Metrics::mae(test.xy$SOC, test.xy$Stack_SOC_all)\n",
        "\n",
        "# Print results\n",
        "paste0(\"RMSE: \", round(RMSE.all,2))\n",
        "paste0(\"MAE: \", round(MAE.all,2))"
      ],
      "metadata": {
        "colab": {
          "base_uri": "https://localhost:8080/"
        },
        "id": "AiGbmPujF59B",
        "outputId": "f18340b7-8779-4f82-d31d-46eddc720771"
      },
      "execution_count": 41,
      "outputs": [
        {
          "output_type": "stream",
          "name": "stdout",
          "text": [
            "[1] \"MAE: 2.91\"\n"
          ]
        }
      ]
    },
    {
      "cell_type": "code",
      "source": [
        "%%R -w 450 -h 450 -u px\n",
        "formula<-y~x\n",
        "ggplot(test.xy, aes(SOC,Stack_SOC_all)) +\n",
        "  geom_point() +\n",
        "  geom_smooth(method = \"lm\")+\n",
        "  stat_poly_eq(use_label(c(\"eq\", \"adj.R2\")), formula = formula) +\n",
        "  ggtitle(\"Stack-Ensemble: All Models\") +\n",
        "  xlab(\"Observed\") + ylab(\"Predicted\") +\n",
        "  scale_x_continuous(limits=c(0,25), breaks=seq(0, 25, 5))+\n",
        "  scale_y_continuous(limits=c(0,25), breaks=seq(0, 25, 5)) +\n",
        "  # Flip the bars\n",
        "  theme(\n",
        "    panel.background = element_rect(fill = \"grey95\",colour = \"gray75\",size = 0.5, linetype = \"solid\"),\n",
        "    axis.line = element_line(colour = \"grey\"),\n",
        "    plot.title = element_text(size = 14, hjust = 0.5),\n",
        "    axis.title.x = element_text(size = 14),\n",
        "    axis.title.y = element_text(size = 14),\n",
        "    axis.text.x=element_text(size=13, colour=\"black\"),\n",
        "    axis.text.y=element_text(size=13,angle = 90,vjust = 0.5, hjust=0.5, colour='black'))"
      ],
      "metadata": {
        "colab": {
          "base_uri": "https://localhost:8080/",
          "height": 484
        },
        "id": "bMhRkqwT7cvU",
        "outputId": "27e98e7d-1e5b-4612-b294-1a37772a905a"
      },
      "execution_count": 42,
      "outputs": [
        {
          "output_type": "stream",
          "name": "stdout",
          "text": [
            "`geom_smooth()` using formula = 'y ~ x'\n"
          ]
        },
        {
          "output_type": "display_data",
          "data": {
            "image/png": "[encoded data removed]"
          },
          "metadata": {}
        }
      ]
    },
    {
      "cell_type": "markdown",
      "source": [
        "### Further Reading"
      ],
      "metadata": {
        "id": "PXB5AOmTpzZP"
      }
    },
    {
      "cell_type": "markdown",
      "source": [
        "1. [Stacked Ensembles](https://docs.h2o.ai/h2o/latest-stable/h2o-docs/data-science/stacked-ensembles.html)\n",
        "\n",
        "2. [Chapter 15 Stacked Models](https://bradleyboehmke.github.io/HOML/stacking.html)"
      ],
      "metadata": {
        "id": "lN4rFv3as8n3"
      }
    }
  ]
}