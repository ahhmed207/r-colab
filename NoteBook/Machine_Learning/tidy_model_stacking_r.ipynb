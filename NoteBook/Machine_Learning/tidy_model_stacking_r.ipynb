{
  "nbformat": 4,
  "nbformat_minor": 0,
  "metadata": {
    "colab": {
      "provenance": [],
      "authorship_tag": "ABX9TyMFWG55Ah7Ad4gvQMIuuJ0k",
      "include_colab_link": true
    },
    "kernelspec": {
      "name": "python3",
      "display_name": "Python 3"
    },
    "language_info": {
      "name": "python"
    }
  },
  "cells": [
    {
      "cell_type": "markdown",
      "metadata": {
        "id": "view-in-github",
        "colab_type": "text"
      },
      "source": [
        "<a href=\"https://colab.research.google.com/github/zia207/r-colab/blob/main/NoteBook/Machine_Learning/tidy_model_stacking_r.ipynb\" target=\"_parent\"><img src=\"https://colab.research.google.com/assets/colab-badge.svg\" alt=\"Open In Colab\"/></a>"
      ]
    },
    {
      "cell_type": "markdown",
      "source": [
        "# **Tidymodel Stacking with R**\n",
        "\n",
        "Zia Ahmed, University at Buffalo"
      ],
      "metadata": {
        "id": "K0cwxtm0Qq4S"
      }
    },
    {
      "cell_type": "markdown",
      "source": [
        "[**stacks**](https://stacks.tidymodels.org/index.html) is an R package for model stacking that aligns with the tidy models. Model stacking is an ensembling method that combines the outputs of many models and combines them to generate a new model---an ensemble in this package that generates predictions informed by each of its members.\n",
        "\n",
        "The process goes something like this:\n",
        "\n",
        "1.  Define candidate ensemble members using functionality from [rsample](https://rsample.tidymodels.org/), [parsnip](https://parsnip.tidymodels.org/), [workflows](https://workflows.tidymodels.org/), [recipes](https://recipes.tidymodels.org/), and [tune](https://tune.tidymodels.org/).\n",
        "\n",
        "2.  Initialize a `data_stack` object with [`stacks()`](https://stacks.tidymodels.org/reference/stacks.html)\n",
        "\n",
        "3.  Iteratively add candidate ensemble members (base models) to the `data_stack` with [`add_candidates()`](https://stacks.tidymodels.org/reference/add_candidates.html)\n",
        "\n",
        "4.  Evaluate how to combine their predictions with [`blend_predictions()`](https://stacks.tidymodels.org/reference/blend_predictions.html)\n",
        "\n",
        "5.  Fit candidate ensemble members with non-zero stacking coefficients with [`fit_members()`](https://stacks.tidymodels.org/reference/fit_members.html)\n",
        "\n",
        "6.  Predict on new data with [`predict()`](https://rdrr.io/r/stats/predict.html)\n",
        "\n",
        "\n",
        "\n"
      ],
      "metadata": {
        "id": "TaHv1fXXRSFU"
      }
    },
    {
      "cell_type": "markdown",
      "source": [
        "### Install rpy2"
      ],
      "metadata": {
        "id": "DsjzFUDIU9dj"
      }
    },
    {
      "cell_type": "code",
      "source": [
        "!pip uninstall rpy2 -y\n",
        "!pip install rpy2==3.5.1\n",
        "%load_ext rpy2.ipython"
      ],
      "metadata": {
        "colab": {
          "base_uri": "https://localhost:8080/"
        },
        "id": "oi4kzmlExtuV",
        "outputId": "b05efa94-7f08-497e-d1b6-ad8fd1fbccdf"
      },
      "execution_count": null,
      "outputs": [
        {
          "output_type": "stream",
          "name": "stdout",
          "text": [
            "Found existing installation: rpy2 3.4.2\n",
            "Uninstalling rpy2-3.4.2:\n",
            "  Successfully uninstalled rpy2-3.4.2\n",
            "Collecting rpy2==3.5.1\n",
            "  Downloading rpy2-3.5.1.tar.gz (201 kB)\n",
            "\u001b[2K     \u001b[90m━━━━━━━━━━━━━━━━━━━━━━━━━━━━━━━━━━━━━━━━\u001b[0m \u001b[32m201.7/201.7 kB\u001b[0m \u001b[31m3.5 MB/s\u001b[0m eta \u001b[36m0:00:00\u001b[0m\n",
            "\u001b[?25h  Preparing metadata (setup.py) ... \u001b[?25l\u001b[?25hdone\n",
            "Requirement already satisfied: cffi>=1.10.0 in /usr/local/lib/python3.10/dist-packages (from rpy2==3.5.1) (1.16.0)\n",
            "Requirement already satisfied: jinja2 in /usr/local/lib/python3.10/dist-packages (from rpy2==3.5.1) (3.1.2)\n",
            "Requirement already satisfied: pytz in /usr/local/lib/python3.10/dist-packages (from rpy2==3.5.1) (2023.3.post1)\n",
            "Requirement already satisfied: tzlocal in /usr/local/lib/python3.10/dist-packages (from rpy2==3.5.1) (5.1)\n",
            "Requirement already satisfied: pycparser in /usr/local/lib/python3.10/dist-packages (from cffi>=1.10.0->rpy2==3.5.1) (2.21)\n",
            "Requirement already satisfied: MarkupSafe>=2.0 in /usr/local/lib/python3.10/dist-packages (from jinja2->rpy2==3.5.1) (2.1.3)\n",
            "Building wheels for collected packages: rpy2\n",
            "  Building wheel for rpy2 (setup.py) ... \u001b[?25l\u001b[?25hdone\n",
            "  Created wheel for rpy2: filename=rpy2-3.5.1-cp310-cp310-linux_x86_64.whl size=314926 sha256=61969803144d02341f290141ca6fbc8caa1ef81570368871b4401dbd89a03ecb\n",
            "  Stored in directory: /root/.cache/pip/wheels/73/a6/ff/4e75dd1ce1cfa2b9a670cbccf6a1e41c553199e9b25f05d953\n",
            "Successfully built rpy2\n",
            "Installing collected packages: rpy2\n",
            "Successfully installed rpy2-3.5.1\n"
          ]
        }
      ]
    },
    {
      "cell_type": "markdown",
      "source": [
        "### Mount Google Drive"
      ],
      "metadata": {
        "id": "ap8kkeZawUNz"
      }
    },
    {
      "cell_type": "code",
      "source": [
        "from google.colab import drive\n",
        "drive.mount('/content/drive')"
      ],
      "metadata": {
        "colab": {
          "base_uri": "https://localhost:8080/"
        },
        "id": "Rd6Z5L-QKqaV",
        "outputId": "03e36dee-8e2c-492b-94f6-706846b2232b"
      },
      "execution_count": null,
      "outputs": [
        {
          "output_type": "stream",
          "name": "stdout",
          "text": [
            "Mounted at /content/drive\n"
          ]
        }
      ]
    },
    {
      "cell_type": "markdown",
      "source": [
        "### Check and Install Required R Packages"
      ],
      "metadata": {
        "id": "llQa2LKNwiMV"
      }
    },
    {
      "cell_type": "code",
      "source": [
        "%%R\n",
        "pkg <- c('tidyverse','tidymodels','stacks','glmnet',\n",
        "         'ranger', 'lightgbm', 'bonsai', 'rules', 'Cubist', 'kernlab', 'nnet',\n",
        "         'gridExtra', 'devtools', 'data.table', 'Hmisc','corrplot',\n",
        "        'ggpmisc', 'see', 'Metrics','patchwork' )\n",
        "new.packages <- pkg[!(pkg %in% installed.packages(lib='drive/My Drive/R/')[,\"Package\"])]\n",
        "if(length(new.packages)) install.packages(new.packages, lib='drive/My Drive/R/')"
      ],
      "metadata": {
        "id": "OrXUZKsJwiTH"
      },
      "execution_count": null,
      "outputs": []
    },
    {
      "cell_type": "markdown",
      "source": [
        "### Load R packages"
      ],
      "metadata": {
        "id": "u1IggDwfwtnu"
      }
    },
    {
      "cell_type": "code",
      "source": [
        "%%R\n",
        "# set library path\n",
        ".libPaths('drive/My Drive/R')\n",
        "library(tidyverse)\n",
        "library(tidymodels)\n",
        "library(Metrics)\n",
        "library(ggpmisc)\n",
        "library(vip)\n",
        "library(gridExtra)\n",
        "library(stacks)\n",
        "library(see)\n"
      ],
      "metadata": {
        "id": "MhK-za2Gwtw1"
      },
      "execution_count": null,
      "outputs": []
    },
    {
      "cell_type": "markdown",
      "source": [
        "### Data\n",
        "\n",
        "The data used in this exercise can be found in my [Dropbox](https://www.dropbox.com/scl/fo/6cswerwra1k7qs6fzxieq/h?rlkey=6kqt1ztnkgrdt7cjmaqfkd7fd&dl=0) or [Github](https://github.com/zia207/r-colab/tree/main/Data/Machine_Learning) folder. Or you can load it directly in R using the following command."
      ],
      "metadata": {
        "id": "p3izCJsRWgsV"
      }
    },
    {
      "cell_type": "code",
      "source": [
        "%%R\n",
        "urlfile = \"https://github.com//zia207/r-colab/raw/main/Data/Machine_Learning/GP_all_data.csv\"\n",
        "mf<-read_csv(url(urlfile)) %>%\n",
        "glimpse()"
      ],
      "metadata": {
        "colab": {
          "base_uri": "https://localhost:8080/"
        },
        "id": "s7M8Cx-kWg7e",
        "outputId": "4630db92-645c-4a42-fc11-d1e3c0ccf5fd"
      },
      "execution_count": null,
      "outputs": [
        {
          "output_type": "stream",
          "name": "stdout",
          "text": [
            "Rows: 471 Columns: 21\n",
            "── Column specification ────────────────────────────────────────────────────────\n",
            "Delimiter: \",\"\n",
            "chr  (4): STATE, COUNTY, NLCD_DES, FRG_DES\n",
            "dbl (17): ID, STATE_ID, FIPS, x, y, SOC, ELEV, Aspect, Slope, TPI, K_Factor,...\n",
            "\n",
            "ℹ Use `spec()` to retrieve the full column specification for this data.\n",
            "ℹ Specify the column types or set `show_col_types = FALSE` to quiet this message.\n",
            "Rows: 471\n",
            "Columns: 21\n",
            "$ ID        <dbl> 466, 55, 51, 67, 449, 86, 82, 265, 68, 216, 75, 454, 35, 87,…\n",
            "$ STATE_ID  <dbl> 20, 35, 8, 35, 20, 35, 35, 35, 35, 35, 35, 20, 35, 35, 35, 5…\n",
            "$ STATE     <chr> \"Kansas\", \"New Mexico\", \"Colorado\", \"New Mexico\", \"Kansas\", …\n",
            "$ FIPS      <dbl> 20099, 35031, 8033, 35003, 20019, 35003, 35003, 35015, 35017…\n",
            "$ COUNTY    <chr> \"Labette County\", \"McKinley County\", \"Dolores County\", \"Catr…\n",
            "$ x         <dbl> 45935.33, -1137299.01, -1106344.79, -1145173.13, -19769.53, …\n",
            "$ y         <dbl> 1580239, 1446994, 1716869, 1281595, 1552489, 1322861, 123920…\n",
            "$ SOC       <dbl> 7.256, 4.594, 5.995, 11.220, 5.388, 1.619, 3.842, 10.276, 0.…\n",
            "$ ELEV      <dbl> 272.6797, 2261.7820, 2404.1121, 2281.4246, 277.6634, 2317.49…\n",
            "$ Aspect    <dbl> 185.0404, 222.3785, 183.5729, 173.1285, 168.1043, 193.8056, …\n",
            "$ Slope     <dbl> 1.429968, 4.874323, 6.680480, 7.745950, 2.923675, 2.635038, …\n",
            "$ TPI       <dbl> 1.0744587, -1.4409482, 7.7656183, -3.2823703, -0.4226714, -1…\n",
            "$ K_Factor  <dbl> 0.3255294, 0.2486000, 0.0590000, 0.2847475, 0.3750685, 0.249…\n",
            "$ MAP       <dbl> 1099.3408, 410.5008, 568.7746, 391.4978, 1013.7034, 368.2008…\n",
            "$ MAT       <dbl> 13.748117, 8.162200, 6.890750, 8.533788, 14.152466, 8.189600…\n",
            "$ NDVI      <dbl> 0.6943141, 0.3705533, 0.6434158, 0.3530265, 0.7292835, 0.283…\n",
            "$ Silt_Clay <dbl> 77.16470, 40.66200, 53.73600, 46.83738, 62.83973, 38.42100, …\n",
            "$ NLCD      <dbl> 7, 4, 4, 4, 6, 5, 4, 4, 5, 4, 4, 6, 4, 4, 4, 5, 4, 5, 4, 5, …\n",
            "$ FRG       <dbl> 1, 1, 1, 1, 1, 1, 1, 1, 1, 1, 1, 1, 1, 1, 1, 1, 1, 1, 1, 2, …\n",
            "$ NLCD_DES  <chr> \"Planted/Cultivated\", \"Forest\", \"Forest\", \"Forest\", \"Herbace…\n",
            "$ FRG_DES   <chr> \"Fire Regime Group I\", \"Fire Regime Group I\", \"Fire Regime G…\n"
          ]
        }
      ]
    },
    {
      "cell_type": "code",
      "source": [
        "%%R\n",
        "# Create a data-frame\n",
        "df<-mf %>% dplyr::select(SOC, ELEV, Slope, Aspect, K_Factor, Silt_Clay,TPI, MAT, MAP,NDVI, NLCD_DES, FRG_DES)%>%\n",
        "    glimpse()"
      ],
      "metadata": {
        "id": "gWUrqYNp1BNh",
        "colab": {
          "base_uri": "https://localhost:8080/"
        },
        "outputId": "455d0f92-3e03-4bb7-b992-ed5698942ce5"
      },
      "execution_count": null,
      "outputs": [
        {
          "output_type": "stream",
          "name": "stdout",
          "text": [
            "Rows: 471\n",
            "Columns: 12\n",
            "$ SOC       <dbl> 7.256, 4.594, 5.995, 11.220, 5.388, 1.619, 3.842, 10.276, 0.…\n",
            "$ ELEV      <dbl> 272.6797, 2261.7820, 2404.1121, 2281.4246, 277.6634, 2317.49…\n",
            "$ Slope     <dbl> 1.429968, 4.874323, 6.680480, 7.745950, 2.923675, 2.635038, …\n",
            "$ Aspect    <dbl> 185.0404, 222.3785, 183.5729, 173.1285, 168.1043, 193.8056, …\n",
            "$ K_Factor  <dbl> 0.3255294, 0.2486000, 0.0590000, 0.2847475, 0.3750685, 0.249…\n",
            "$ Silt_Clay <dbl> 77.16470, 40.66200, 53.73600, 46.83738, 62.83973, 38.42100, …\n",
            "$ TPI       <dbl> 1.0744587, -1.4409482, 7.7656183, -3.2823703, -0.4226714, -1…\n",
            "$ MAT       <dbl> 13.748117, 8.162200, 6.890750, 8.533788, 14.152466, 8.189600…\n",
            "$ MAP       <dbl> 1099.3408, 410.5008, 568.7746, 391.4978, 1013.7034, 368.2008…\n",
            "$ NDVI      <dbl> 0.6943141, 0.3705533, 0.6434158, 0.3530265, 0.7292835, 0.283…\n",
            "$ NLCD_DES  <chr> \"Planted/Cultivated\", \"Forest\", \"Forest\", \"Forest\", \"Herbace…\n",
            "$ FRG_DES   <chr> \"Fire Regime Group I\", \"Fire Regime Group I\", \"Fire Regime G…\n"
          ]
        }
      ]
    },
    {
      "cell_type": "markdown",
      "source": [
        "### Split data"
      ],
      "metadata": {
        "id": "1qN6w20RXDSE"
      }
    },
    {
      "cell_type": "code",
      "source": [
        "%%R\n",
        "set.seed(1245)   # for reproducibility\n",
        "split <- rsample::initial_split(df, prop = 0.8, strata = SOC)\n",
        "train <- split %>% training()\n",
        "test <-  split %>% testing()\n",
        "\n",
        "# Set 10 fold cross-validation data set\n",
        "set.seed(136)\n",
        "cv_folds <- vfold_cv(train, v = 5)"
      ],
      "metadata": {
        "id": "tk9kNJpBXDeC"
      },
      "execution_count": null,
      "outputs": []
    },
    {
      "cell_type": "markdown",
      "source": [
        "### The basic recipe used in all models"
      ],
      "metadata": {
        "id": "x679KKvhXHKL"
      }
    },
    {
      "cell_type": "code",
      "source": [
        "%%R\n",
        "soc_rec <-\n",
        "  recipe(SOC ~ ., data = train) %>%\n",
        "  step_zv(all_predictors()) %>%\n",
        "  step_dummy(all_nominal()) %>%\n",
        "  step_normalize(all_numeric_predictors())"
      ],
      "metadata": {
        "id": "JV8owhGjXHUA"
      },
      "execution_count": null,
      "outputs": []
    },
    {
      "cell_type": "markdown",
      "source": [
        "### Basic workflow"
      ],
      "metadata": {
        "id": "ilzhuT8MXT2c"
      }
    },
    {
      "cell_type": "code",
      "source": [
        "%%R\n",
        "soc_wf <-\n",
        "  workflow() %>%\n",
        "  add_recipe(soc_rec)"
      ],
      "metadata": {
        "id": "vtWH9crpXUC3"
      },
      "execution_count": null,
      "outputs": []
    },
    {
      "cell_type": "markdown",
      "source": [
        "### Control Rapper Function\n",
        "\n",
        "Supply these light wrappers as the control argument in a tune::tune_grid(), tune::tune_bayes(), or tune::fit_resamples() call to return the needed elements for use in a data stack. These functions will return the appropriate control grid to ensure that assessment set predictions and information on model specifications and preprocessors is supplied in the resampling results object!\n",
        "\n",
        "To integrate stack settings with your existing control settings, note that these functions call the appropriate ⁠tune::control_*⁠ function with the arguments ⁠save_pred = TRUE, save_workflow = TRUE⁠."
      ],
      "metadata": {
        "id": "AmvjMcbiXdag"
      }
    },
    {
      "cell_type": "code",
      "source": [
        "%%R\n",
        "ctrl_grid <- control_stack_grid()\n",
        "ctrl_res <- control_stack_resamples()"
      ],
      "metadata": {
        "id": "cZnRjaiYXdj0"
      },
      "execution_count": null,
      "outputs": []
    },
    {
      "cell_type": "markdown",
      "source": [
        "## **Train Base-Learners with Grid Search**\n",
        "\n",
        "In this excercise we will train following models as learners:\n",
        "\n",
        "1. Generalized Linear Models (GLM)\n",
        "\n",
        "2. Fandom Forest\n",
        "\n",
        "3. Light GBM\n",
        "\n",
        "4. Cubist\n",
        "\n",
        "5. Support Vector Machine Regression\n",
        "\n",
        "6. Neural Network"
      ],
      "metadata": {
        "id": "O0CHScssXm8p"
      }
    },
    {
      "cell_type": "markdown",
      "source": [
        "### **1. Generalized Linear Models (GLM)**\n",
        "\n",
        "Generalized Linear Models (GLMs) with regularization, often referred to as regularized regression, are extensions of the traditional linear regression that add regularization terms to the cost function. Regularization helps prevent overfitting and can improve the model's generalization performance by discouraging overly complex models.\n",
        "\n",
        "In traditional linear regression, the objective is to minimize the sum of squared errors (SSE) between the predicted values and the actual target values. However, in regularized regression, an additional penalty term is added to the cost function. There are two common types of regularization used in regularized regression:"
      ],
      "metadata": {
        "id": "nkSq2JadX1x_"
      }
    },
    {
      "cell_type": "code",
      "source": [
        "%%R\n",
        "# Model Specification\n",
        "glm_spec <-\n",
        "  linear_reg(\n",
        "   penalty = tune(),\n",
        "   mixture=tune(),\n",
        "  ) %>%\n",
        "  set_mode(\"regression\") %>%\n",
        "  set_engine(\"glmnet\")\n",
        "\n",
        "# Workflow\n",
        "glm_wflow <-\n",
        "  soc_wf %>%\n",
        "  add_model(glm_spec)\n",
        "\n",
        "# Recipe\n",
        "set.seed(1)\n",
        "glm_res <-\n",
        "  tune_grid(\n",
        "    object = glm_wflow,\n",
        "    resamples = cv_folds,\n",
        "    grid = 20,\n",
        "    control = ctrl_grid\n",
        "  )"
      ],
      "metadata": {
        "id": "aqYiGjyRXnEw"
      },
      "execution_count": null,
      "outputs": []
    },
    {
      "cell_type": "markdown",
      "source": [
        "### **2. Fandom Forest**\n",
        "\n",
        "We will use the **ranger** package to build random forest models. ranger is a fast and efficient implementation of random forest algorithms, known for its speed and scalability. The tidymodels provides a comprehensive framework for building, tuning, and evaluating random forest model while following the principles of the tidyverse."
      ],
      "metadata": {
        "id": "YY1ak2POYHvA"
      }
    },
    {
      "cell_type": "code",
      "source": [
        "%%R\n",
        "# Model Specification\n",
        "rf_spec <-\n",
        "  rand_forest(\n",
        "    mtry = tune(),\n",
        "    min_n = tune(),\n",
        "    trees = 500\n",
        "  ) %>%\n",
        "  set_mode(\"regression\") %>%\n",
        "  set_engine(\"ranger\")\n",
        "\n",
        "# Workflow\n",
        "rf_wflow <-\n",
        "  soc_wf %>%\n",
        "  add_model(rf_spec)\n",
        "\n",
        "# Recipe\n",
        "set.seed(1)\n",
        "rf_res <-\n",
        "  tune_grid(\n",
        "    object = rf_wflow,\n",
        "    resamples = cv_folds,\n",
        "    grid = 20,\n",
        "    control = ctrl_grid\n",
        "  )"
      ],
      "metadata": {
        "colab": {
          "base_uri": "https://localhost:8080/"
        },
        "id": "izGTYFGCYN0X",
        "outputId": "43a739c3-d8aa-4f38-c927-989a0425a308"
      },
      "execution_count": null,
      "outputs": [
        {
          "output_type": "stream",
          "name": "stderr",
          "text": [
            "WARNING:rpy2.rinterface_lib.callbacks:R[write to console]: i Creating pre-processing data to finalize unknown parameter: mtry\n",
            "\n"
          ]
        }
      ]
    },
    {
      "cell_type": "markdown",
      "source": [
        "### **3. Light GBM**\n",
        "\n",
        "The tidymodels provides a comprehensive framework for building, tuning, and evaluating **LightGBM** model while following the principles of the tidyverse.\n",
        "\n",
        "Parsnip could not support an implementation for boost_tree regression model specifications using the lightgbm engine. The parsnip extension package **bonsai** implements support for this specification. We need to install it and load to continue."
      ],
      "metadata": {
        "id": "1a88OKv6ZMtm"
      }
    },
    {
      "cell_type": "code",
      "source": [
        "%%R\n",
        "# Model Specification\n",
        "lightgbm_spec<-\n",
        "  boost_tree(\n",
        "    mtry = tune(),\n",
        "    trees = 500,\n",
        "    min_n = tune(),\n",
        "    tree_depth = tune(),\n",
        "    loss_reduction = tune(),\n",
        "    learn_rate = tune(),\n",
        "    sample_size = 0.75\n",
        "  ) %>%\n",
        "  set_mode(\"regression\") %>%\n",
        "  set_engine(\"lightgbm\")\n",
        "\n",
        "# Workflow\n",
        "library(bonsai)\n",
        "lightgbm_wflow <-\n",
        "  soc_wf %>%\n",
        "  add_model(lightgbm_spec)\n",
        "\n",
        "# Recipe\n",
        "set.seed(1)\n",
        "lightgbm_res <-\n",
        "  tune_grid(\n",
        "    object = lightgbm_wflow,\n",
        "    resamples = cv_folds,\n",
        "    grid = 20,\n",
        "    control = ctrl_grid\n",
        "  )"
      ],
      "metadata": {
        "colab": {
          "base_uri": "https://localhost:8080/"
        },
        "id": "3BNEt0ctZwgt",
        "outputId": "9f5606dc-df8e-48b0-81b0-7ce99d2eed6a"
      },
      "execution_count": null,
      "outputs": [
        {
          "output_type": "stream",
          "name": "stderr",
          "text": [
            "WARNING:rpy2.rinterface_lib.callbacks:R[write to console]: i Creating pre-processing data to finalize unknown parameter: mtry\n",
            "\n"
          ]
        }
      ]
    },
    {
      "cell_type": "markdown",
      "source": [
        "### **4. Cubist**\n",
        "\n",
        "Cubist is a rule-based regression and classification model that combines decision trees with linear models to capture complex relationships in the data.\n",
        "\n",
        "**rules** is a **parsnip** extension package with model definitions for rule-based models, including:\n",
        "\n",
        "**cubist** models that have discrete rule sets that contain linear models with an ensemble method similar to boosting\n",
        "\n",
        "**classification rules** where a ruleset is derived from an initial tree fit\n",
        "\n",
        "**rule-fit** models that begin with rules extracted from a tree ensemble which are then added to a regularized linear or logistic regression."
      ],
      "metadata": {
        "id": "q1QDjrtpZmkn"
      }
    },
    {
      "cell_type": "code",
      "source": [
        "%%R\n",
        "# Model Specification\n",
        "cubist_spec <-\n",
        "  cubist_rules(\n",
        "    committees = tune(),\n",
        "    neighbors = tune(),\n",
        "    max_rules = tune()\n",
        "  )\n",
        "\n",
        "# Workflow\n",
        "library(rules)\n",
        "cubist_wflow <-\n",
        "  soc_wf %>%\n",
        "  add_model(cubist_spec)\n",
        "\n",
        "# Recipe\n",
        "set.seed(1)\n",
        "cubist_res <-\n",
        "  tune_grid(\n",
        "    object = cubist_wflow,\n",
        "    resamples = cv_folds,\n",
        "    grid = 20,\n",
        "    control = ctrl_grid\n",
        "  )"
      ],
      "metadata": {
        "id": "w-0vvUpoZ0Mg"
      },
      "execution_count": null,
      "outputs": []
    },
    {
      "cell_type": "markdown",
      "source": [
        "### **5. Support Vector Machine Regression**\n",
        "\n",
        "A Support Vector Machine (SVM) is a powerful supervised learning algorithm used for classification and regression tasks. SVMs are particularly effective when working with high-dimensional data and can handle both linear and non-linear relationships between variables.\n",
        "\n",
        "The main idea behind SVM is to find an optimal hyperplane that separates data points of different classes with the largest possible margin. In other words, SVM tries to create a decision boundary that maximally separates the classes in the feature space. The data points that lie closest to the decision boundary are called support vectors."
      ],
      "metadata": {
        "id": "gp28y9e7aN2z"
      }
    },
    {
      "cell_type": "code",
      "source": [
        "%%R\n",
        "# Model Specification\n",
        "svm_spec <-\n",
        "  svm_rbf(\n",
        "    cost = tune(),\n",
        "    rbf_sigma = tune()\n",
        "  ) %>%\n",
        "  set_engine(\"kernlab\") %>%\n",
        "  set_mode(\"regression\")\n",
        "\n",
        "# add it to a workflow\n",
        "svm_wflow <-\n",
        "  soc_wf %>%\n",
        "  add_model(svm_spec)\n",
        "\n",
        "# tune cost and rbf_sigma and fit to the 5-fold cv\n",
        "set.seed(1)\n",
        "svm_res <-\n",
        "  tune_grid(\n",
        "    svm_wflow,\n",
        "    resamples = cv_folds,\n",
        "    grid = 20,\n",
        "    control = ctrl_grid\n",
        "  )"
      ],
      "metadata": {
        "id": "CloPavtVacRb"
      },
      "execution_count": null,
      "outputs": []
    },
    {
      "cell_type": "markdown",
      "source": [
        "### **6. Neural Network**\n",
        "\n",
        "A Neural Network (NN) is a type of artificial intelligence model inspired by the structure and functioning of the human brain. It is a powerful machine learning algorithm that can learn complex patterns and relationships in data to perform tasks such as classification, regression, pattern recognition, and more."
      ],
      "metadata": {
        "id": "vFWlyKDiacqa"
      }
    },
    {
      "cell_type": "code",
      "source": [
        "%%R\n",
        "# Model Specification\n",
        "nnet_spec <-\n",
        "  mlp(\n",
        "    hidden_units = tune(),\n",
        "    penalty = tune(),\n",
        "    epochs = tune()\n",
        "  ) %>%\n",
        "  set_mode(\"regression\") %>%\n",
        "  set_engine(\"nnet\")\n",
        "\n",
        "nnet_wflow <-\n",
        "  soc_wf %>%\n",
        "  add_model(nnet_spec)\n",
        "\n",
        "nnet_res <-\n",
        "  tune_grid(\n",
        "    object = nnet_wflow,\n",
        "    resamples = cv_folds,\n",
        "    grid = 20,\n",
        "    control = ctrl_grid\n",
        "  )"
      ],
      "metadata": {
        "id": "EaG17isXczYD"
      },
      "execution_count": null,
      "outputs": []
    },
    {
      "cell_type": "markdown",
      "source": [
        "## **Fitting all base models**\n",
        "\n",
        "We will use a simple function called **finalizer()** from [here](https://www.hfshr.xyz/posts/2020-11-30-model-stacking/) that selects the best model, updates the workflow, fits the final model with the best parameters and pulls out the metrics."
      ],
      "metadata": {
        "id": "4fQRcZgQf_83"
      }
    },
    {
      "cell_type": "code",
      "source": [
        "%%R\n",
        "finalizer <- function(tuned, wkflow, split, model) {\n",
        "  best_mod <- tuned %>%\n",
        "    select_best(\"rmse\")\n",
        "\n",
        "  final_wf <- wkflow %>%\n",
        "    finalize_workflow(best_mod)\n",
        "\n",
        "  final_fit <-\n",
        "    final_wf %>%\n",
        "    last_fit(split)\n",
        "\n",
        "  final_fit %>%\n",
        "    collect_metrics() %>%\n",
        "    mutate(model = model)\n",
        "}"
      ],
      "metadata": {
        "id": "HZ_AVKWXgAED"
      },
      "execution_count": null,
      "outputs": []
    },
    {
      "cell_type": "markdown",
      "source": [
        "We have fitted 100 models, 20 models for each type (glm, random forest, lightgbm,cubist, and neural net). We can do a quick check of how well each of these models performed using finalize() function:"
      ],
      "metadata": {
        "id": "SVqUKj6SgUXj"
      }
    },
    {
      "cell_type": "code",
      "source": [
        "%%R\n",
        "bind_rows(\n",
        "  finalizer(glm_res, glm_wflow, split, \"glm\"),\n",
        "  finalizer(rf_res, rf_wflow, split, \"rf\"),\n",
        "  finalizer(lightgbm_res, lightgbm_wflow, split, \"lightgbm\"),\n",
        "  finalizer(cubist_res, cubist_wflow, split, \"cubist\"),\n",
        "  finalizer(svm_res, svm_wflow, split, \"svm\"),\n",
        "  finalizer(nnet_res, nnet_wflow, split, \"nnet\"),\n",
        ") %>%\n",
        "  select(model, .metric, .estimate) %>%\n",
        "  pivot_wider(names_from = .metric, values_from = .estimate) %>%\n",
        "  arrange(rmse)"
      ],
      "metadata": {
        "colab": {
          "base_uri": "https://localhost:8080/"
        },
        "id": "NVKtHrqJgVhp",
        "outputId": "68272263-f969-4389-df9d-24aeb1006f9f"
      },
      "execution_count": null,
      "outputs": [
        {
          "output_type": "stream",
          "name": "stdout",
          "text": [
            "# A tibble: 6 × 3\n",
            "  model     rmse   rsq\n",
            "  <chr>    <dbl> <dbl>\n",
            "1 rf        3.98 0.557\n",
            "2 cubist    4.04 0.505\n",
            "3 glm       4.13 0.551\n",
            "4 lightgbm  4.15 0.484\n",
            "5 svm       4.31 0.533\n",
            "6 nnet      4.93 0.283\n"
          ]
        }
      ]
    },
    {
      "cell_type": "markdown",
      "source": [
        "We can see that the cubist model has the best performance, followed by the rf."
      ],
      "metadata": {
        "id": "FYs8s3wygddd"
      }
    },
    {
      "cell_type": "markdown",
      "source": [
        "## **Stack Ensemble Model**\n",
        "\n",
        "First, we start by initialising the stack with `stacks()` then add each candidate model with `add_candidates()`. Next we evaluate the candidate models with `blend_predictions()`, before finally training the non-zero members on the training data with `fit_members()`."
      ],
      "metadata": {
        "id": "yxSukXQcgeUz"
      }
    },
    {
      "cell_type": "markdown",
      "source": [
        "### Adding Candidates to a Data Stack\n",
        "\n",
        "Candidate members are first assembled in data_stack objects using **add_candidate()** function. These objects are basically tibbles. The first column represents the true result in the evaluation set, while the remaining columns represent the predictions of each member of the candidate ensemble. When the result is a number, there is only one column for each member in the candidate ensemble.\n",
        "\n",
        "The **add_candidates()** function adds candidate ensemble members to the data stack!"
      ],
      "metadata": {
        "id": "DgMEZfbeZZbh"
      }
    },
    {
      "cell_type": "code",
      "source": [
        "%%R\n",
        "soc_stack <-\n",
        "  # initialize the stack\n",
        "  stacks() %>%\n",
        "  # add each of the models\n",
        "  add_candidates(glm_res) %>%\n",
        "  add_candidates(rf_res) %>%\n",
        "  add_candidates(lightgbm_res) %>%\n",
        "  add_candidates(cubist_res) %>%\n",
        "  add_candidates(svm_res) %>%\n",
        "  add_candidates(nnet_res)\n"
      ],
      "metadata": {
        "id": "f0lXhcHugqNm"
      },
      "execution_count": null,
      "outputs": []
    },
    {
      "cell_type": "markdown",
      "source": [
        "Checking out the actual data:"
      ],
      "metadata": {
        "id": "qX3I0qG-aNIc"
      }
    },
    {
      "cell_type": "code",
      "source": [
        "%%R\n",
        "as_tibble(soc_stack)"
      ],
      "metadata": {
        "colab": {
          "base_uri": "https://localhost:8080/"
        },
        "id": "3IusWCjxXtfy",
        "outputId": "fb4fd224-06d7-4cb1-bf95-e13d434c79b9"
      },
      "execution_count": null,
      "outputs": [
        {
          "output_type": "stream",
          "name": "stdout",
          "text": [
            "# A tibble: 375 × 121\n",
            "     SOC glm_res_1_08 glm_res_1_15 glm_res_1_01 glm_res_1_16 glm_res_1_05\n",
            "   <dbl>        <dbl>        <dbl>        <dbl>        <dbl>        <dbl>\n",
            " 1 1.62         1.45         1.44         1.42         1.44         1.43 \n",
            " 2 0.494        2.36         2.36         2.35         2.36         2.36 \n",
            " 3 1.82         8.42         8.41         8.39         8.41         8.40 \n",
            " 4 1.33         5.07         5.08         5.07         5.08         5.07 \n",
            " 5 1.12         0.948        0.948        0.951        0.948        0.951\n",
            " 6 1.71         0.941        0.943        0.942        0.943        0.942\n",
            " 7 2.18         1.23         1.23         1.23         1.23         1.23 \n",
            " 8 2.21         0.786        0.787        0.782        0.787        0.787\n",
            " 9 0.93        -0.920       -0.921       -0.917       -0.921       -0.920\n",
            "10 2.73         1.36         1.36         1.36         1.36         1.37 \n",
            "# ℹ 365 more rows\n",
            "# ℹ 115 more variables: glm_res_1_10 <dbl>, glm_res_1_13 <dbl>,\n",
            "#   glm_res_1_11 <dbl>, glm_res_1_07 <dbl>, glm_res_1_04 <dbl>,\n",
            "#   glm_res_1_02 <dbl>, glm_res_1_17 <dbl>, glm_res_1_03 <dbl>,\n",
            "#   glm_res_1_06 <dbl>, glm_res_1_20 <dbl>, glm_res_1_18 <dbl>,\n",
            "#   glm_res_1_09 <dbl>, glm_res_1_12 <dbl>, glm_res_1_19 <dbl>,\n",
            "#   glm_res_1_14 <dbl>, rf_res_1_02 <dbl>, rf_res_1_04 <dbl>, …\n",
            "# ℹ Use `print(n = ...)` to see more rows, and `colnames()` to see all variable names\n"
          ]
        }
      ]
    },
    {
      "cell_type": "markdown",
      "source": [
        "### Creating A Model Stack\n",
        "\n",
        "Once you've done that, you can look at the data stack using the function **blend_predictions()**. This will tell you how to best combine the outputs of each candidate member. It's likely that each member's outputs are pretty close together. So, depending on how much regularization you want to use, the coefficient for the input of (maybe) a bunch of members will be zero—their predictions won't affect the end result, so those terms will be thrown out.\n"
      ],
      "metadata": {
        "id": "bY5bJ3gVaWAP"
      }
    },
    {
      "cell_type": "code",
      "source": [
        "%%R\n",
        "soc_stack <- soc_stack %>%\n",
        "  blend_predictions()"
      ],
      "metadata": {
        "id": "v9gHpa_EgtZ2"
      },
      "execution_count": null,
      "outputs": []
    },
    {
      "cell_type": "code",
      "source": [
        "%%R\n",
        "soc_stack"
      ],
      "metadata": {
        "colab": {
          "base_uri": "https://localhost:8080/"
        },
        "id": "pxPv8yuKY0Xq",
        "outputId": "dcdcb306-5ae5-4d25-d028-2cf5d933ad24"
      },
      "execution_count": null,
      "outputs": [
        {
          "output_type": "stream",
          "name": "stdout",
          "text": [
            "── A stacked ensemble model ─────────────────────────────────────\n",
            "\n",
            "Out of 120 possible candidate members, the ensemble retained 10.\n",
            "Penalty: 0.1.\n",
            "Mixture: 1.\n",
            "\n",
            "The 10 highest weighted members are:\n",
            "# A tibble: 10 × 3\n",
            "   member            type        weight\n",
            "   <chr>             <chr>        <dbl>\n",
            " 1 rf_res_1_09       rand_forest 0.535 \n",
            " 2 glm_res_1_14      linear_reg  0.161 \n",
            " 3 lightgbm_res_1_13 boost_tree  0.151 \n",
            " 4 lightgbm_res_1_05 boost_tree  0.121 \n",
            " 5 nnet_res_1_15     mlp         0.0404\n",
            " 6 nnet_res_1_16     mlp         0.0186\n",
            " 7 nnet_res_1_08     mlp         0.0164\n",
            " 8 nnet_res_1_05     mlp         0.0147\n",
            " 9 nnet_res_1_04     mlp         0.0138\n",
            "10 nnet_res_1_09     mlp         0.0113\n",
            "\n",
            "Members have not yet been fitted with `fit_members()`.\n"
          ]
        }
      ]
    },
    {
      "cell_type": "code",
      "source": [
        "%%R\n",
        "#install.packages(\"see\")\n",
        "#library(see) # for nice theme\n",
        "autoplot(soc_stack, type = \"weights\") +\n",
        "  theme_lucid()"
      ],
      "metadata": {
        "colab": {
          "base_uri": "https://localhost:8080/",
          "height": 497
        },
        "id": "9sP-KCd8gyyr",
        "outputId": "0a140680-b466-4167-d7ad-3207181bf767"
      },
      "execution_count": null,
      "outputs": [
        {
          "output_type": "display_data",
          "data": {
            "image/png": "[encoded data removed]"
          },
          "metadata": {}
        }
      ]
    },
    {
      "cell_type": "markdown",
      "source": [
        "The **blend_predictions** function determines how member model output will ultimately be combined in the final prediction, and is how we’ll calculate our stacking coefficients. Now that we know how to combine our model output, we can fit the models that we now know we need on the full training set. Any candidate ensemble member that has a stacking coefficient of zero doesn’t need to be refitted!"
      ],
      "metadata": {
        "id": "XZNaEIZMblOo"
      }
    },
    {
      "cell_type": "code",
      "source": [
        "%%R\n",
        "soc_stack <- soc_stack %>%\n",
        "  fit_members()"
      ],
      "metadata": {
        "id": "ck7SSJGJblcA"
      },
      "execution_count": null,
      "outputs": []
    },
    {
      "cell_type": "markdown",
      "source": [
        "### **Prediction with stack-ensemble**\n",
        "\n"
      ],
      "metadata": {
        "id": "uHnYp6vVg85Z"
      }
    },
    {
      "cell_type": "code",
      "source": [
        "%%R\n",
        "test <-\n",
        "  test %>%\n",
        "  bind_cols(predict(soc_stack, .))"
      ],
      "metadata": {
        "id": "CCpLl6SVa-25"
      },
      "execution_count": null,
      "outputs": []
    },
    {
      "cell_type": "code",
      "source": [
        "%%R\n",
        "test %>%\n",
        "  ggplot() +\n",
        "  aes(\n",
        "    x = SOC,\n",
        "    y = .pred\n",
        "  ) +\n",
        "  geom_point() +\n",
        "  coord_obs_pred()+\n",
        "  labs(x = \"Observed\", y = \"Predicted\") +\n",
        "  geom_abline(linetype = \"dashed\")\n"
      ],
      "metadata": {
        "colab": {
          "base_uri": "https://localhost:8080/",
          "height": 497
        },
        "id": "r1BLBT4vhqGb",
        "outputId": "02b7d411-5b08-463d-a6b1-faaebaf92f94"
      },
      "execution_count": null,
      "outputs": [
        {
          "output_type": "display_data",
          "data": {
            "image/png": "[encoded data removed]"
          },
          "metadata": {}
        }
      ]
    },
    {
      "cell_type": "markdown",
      "source": [
        "### Prediction with candidate member models\n",
        "\n",
        "We can use the type = \"members\" argument to generate predictions from each of the ensemble members."
      ],
      "metadata": {
        "id": "EChcJ--phx-d"
      }
    },
    {
      "cell_type": "code",
      "source": [
        "%%R\n",
        "member_preds <-\n",
        "  test %>%\n",
        "  select(SOC) %>%\n",
        "  bind_cols(\n",
        "    predict(\n",
        "      soc_stack,\n",
        "      test,\n",
        "      members = TRUE\n",
        "    )\n",
        "  )\n",
        "member_preds"
      ],
      "metadata": {
        "id": "CLgjGt6IhxGp",
        "colab": {
          "base_uri": "https://localhost:8080/"
        },
        "outputId": "d1219bef-178c-4962-cf1a-0b287e6c6883"
      },
      "execution_count": null,
      "outputs": [
        {
          "output_type": "stream",
          "name": "stdout",
          "text": [
            "# A tibble: 96 × 12\n",
            "     SOC .pred glm_res_1_14 rf_res_1_09 lightgbm_res_1_13 lightgbm_res_1_05\n",
            "   <dbl> <dbl>        <dbl>       <dbl>             <dbl>             <dbl>\n",
            " 1 6.00  10.3          8.80       11.1               8.62             11.4 \n",
            " 2 7.60   7.17         7.62        6.88              6.87              7.26\n",
            " 3 3.78   6.20         8.34        5.56              7.60              6.13\n",
            " 4 6.5    3.56         4.37        3.72              4.15              4.24\n",
            " 5 0.471  2.81         2.36        3.37              3.74              3.35\n",
            " 6 9.45   5.05         4.97        5.14              5.37              5.75\n",
            " 7 1.30   1.09         1.90        1.36              3.11              1.26\n",
            " 8 3.14   4.58         5.07        4.95              4.66              4.84\n",
            " 9 3.33   4.76         4.68        5.16              4.96              4.97\n",
            "10 3.57   3.22         3.02        3.40              4.67              2.23\n",
            "# ℹ 86 more rows\n",
            "# ℹ 6 more variables: nnet_res_1_15 <dbl>, nnet_res_1_04 <dbl>,\n",
            "#   nnet_res_1_09 <dbl>, nnet_res_1_08 <dbl>, nnet_res_1_16 <dbl>,\n",
            "#   nnet_res_1_05 <dbl>\n",
            "# ℹ Use `print(n = ...)` to see more rows\n"
          ]
        }
      ]
    },
    {
      "cell_type": "markdown",
      "source": [
        "## **Model Performances**"
      ],
      "metadata": {
        "id": "eSb1g5k4iEoU"
      }
    },
    {
      "cell_type": "markdown",
      "source": [
        "#### Mean percentage error (MPE)\n",
        "\n",
        "This metric is in relative units. It can be used as a measure of the estimate's bias."
      ],
      "metadata": {
        "id": "QDxc6eE2h_wV"
      }
    },
    {
      "cell_type": "code",
      "source": [
        "%%R\n",
        "\n",
        "colnames(member_preds) %>%\n",
        "  map_dfr(\n",
        "    .f = mpe,\n",
        "    truth = SOC,\n",
        "    data = member_preds\n",
        "  ) %>%\n",
        "  mutate(member = colnames(member_preds))"
      ],
      "metadata": {
        "colab": {
          "base_uri": "https://localhost:8080/"
        },
        "id": "alzonVXlh6fw",
        "outputId": "1b40d14d-9f5a-4924-cf2a-536a4365bc48"
      },
      "execution_count": null,
      "outputs": [
        {
          "output_type": "stream",
          "name": "stdout",
          "text": [
            "# A tibble: 12 × 4\n",
            "   .metric .estimator .estimate member           \n",
            "   <chr>   <chr>          <dbl> <chr>            \n",
            " 1 mpe     standard         0   SOC              \n",
            " 2 mpe     standard       -42.6 .pred            \n",
            " 3 mpe     standard       -58.7 glm_res_1_14     \n",
            " 4 mpe     standard       -47.6 rf_res_1_09      \n",
            " 5 mpe     standard       -80.3 lightgbm_res_1_13\n",
            " 6 mpe     standard       -45.5 lightgbm_res_1_05\n",
            " 7 mpe     standard       -30.7 nnet_res_1_15    \n",
            " 8 mpe     standard       -28.4 nnet_res_1_04    \n",
            " 9 mpe     standard       -58.7 nnet_res_1_09    \n",
            "10 mpe     standard       -33.4 nnet_res_1_08    \n",
            "11 mpe     standard       -31.5 nnet_res_1_16    \n",
            "12 mpe     standard       -60.1 nnet_res_1_05    \n"
          ]
        }
      ]
    },
    {
      "cell_type": "markdown",
      "source": [
        "#### R2"
      ],
      "metadata": {
        "id": "FbeLnCBtiNeg"
      }
    },
    {
      "cell_type": "code",
      "source": [
        "%%R\n",
        "colnames(member_preds) %>%\n",
        "  map_dfr(\n",
        "    .f = rsq,\n",
        "    truth = SOC,\n",
        "    data = member_preds\n",
        "  ) %>%\n",
        "  mutate(member = colnames(member_preds))"
      ],
      "metadata": {
        "colab": {
          "base_uri": "https://localhost:8080/"
        },
        "id": "8_dINOXGiNpS",
        "outputId": "8e8f5a95-3fdc-428f-d3d5-54011eb8150f"
      },
      "execution_count": null,
      "outputs": [
        {
          "output_type": "stream",
          "name": "stdout",
          "text": [
            "# A tibble: 12 × 4\n",
            "   .metric .estimator .estimate member           \n",
            "   <chr>   <chr>          <dbl> <chr>            \n",
            " 1 rsq     standard       1     SOC              \n",
            " 2 rsq     standard       0.567 .pred            \n",
            " 3 rsq     standard       0.550 glm_res_1_14     \n",
            " 4 rsq     standard       0.558 rf_res_1_09      \n",
            " 5 rsq     standard       0.528 lightgbm_res_1_13\n",
            " 6 rsq     standard       0.500 lightgbm_res_1_05\n",
            " 7 rsq     standard       0.403 nnet_res_1_15    \n",
            " 8 rsq     standard       0.372 nnet_res_1_04    \n",
            " 9 rsq     standard       0.429 nnet_res_1_09    \n",
            "10 rsq     standard       0.398 nnet_res_1_08    \n",
            "11 rsq     standard       0.352 nnet_res_1_16    \n",
            "12 rsq     standard       0.348 nnet_res_1_05    \n"
          ]
        }
      ]
    },
    {
      "cell_type": "markdown",
      "source": [
        "### Further Reading\n",
        "\n",
        "1. [A Gentle Introduction to Tidy Model Stacking](https://blog--simonpcouch.netlify.app/blog/gentle-intro-stacks/)\n",
        "\n",
        "2. [Ensembles of Models](https://www.tmwr.org/ensembles.html)\n",
        "\n",
        "3. [When one model is not enough: Stacking models with stacks](https://www.hfshr.xyz/posts/2020-11-30-model-stacking/)"
      ],
      "metadata": {
        "id": "iNxAeWSu0Sjo"
      }
    }
  ]
}