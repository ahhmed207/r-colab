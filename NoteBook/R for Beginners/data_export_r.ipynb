{
  "cells": [
    {
      "cell_type": "markdown",
      "metadata": {
        "id": "view-in-github",
        "colab_type": "text"
      },
      "source": [
        "<a href=\"https://colab.research.google.com/github/zia207/r-colab/blob/main/NoteBook/R%20for%20Beginners/data_export_r.ipynb\" target=\"_parent\"><img src=\"https://colab.research.google.com/assets/colab-badge.svg\" alt=\"Open In Colab\"/></a>"
      ]
    },
    {
      "cell_type": "markdown",
      "metadata": {
        "id": "MGoP0AbXEAUx"
      },
      "source": [
        "#  Data Export From R\n",
        "\n",
        "Zia AHMED, University at Buffalo"
      ]
    },
    {
      "cell_type": "markdown",
      "metadata": {
        "id": "kroLnhoOPPoV"
      },
      "source": [
        "There are multiple ways to export data from R, and the choice of format depends on the user's specific requirements. Some of the most widely used methods include exporting data in CSV, Excel, or JSON formats. CSV (Comma Separated Values) files are commonly used for storing large datasets and can be easily imported into other software tools. Excel files are a preferred format for sharing data with colleagues who might not have programming skills. JSON (JavaScript Object Notation) is a lightweight data interchange format that is widely used for web applications. These are some of the popular methods for exporting data from R, and selecting the right format can significantly impact the ease of sharing and analyzing data."
      ]
    },
    {
      "cell_type": "markdown",
      "metadata": {
        "id": "CdQJ-mgsEU9J"
      },
      "source": [
        "## Install rpy2\n",
        "\n",
        "Easy way to run R in Colab with Python runtime using **rpy2** python package. We have to install this package using the pip command:"
      ]
    },
    {
      "cell_type": "code",
      "execution_count": null,
      "metadata": {
        "id": "qOD7NpajDy5k",
        "colab": {
          "base_uri": "https://localhost:8080/"
        },
        "outputId": "288fb9c0-f201-463b-9551-2c067f49581d"
      },
      "outputs": [
        {
          "output_type": "stream",
          "name": "stdout",
          "text": [
            "Found existing installation: rpy2 3.4.2\n",
            "Uninstalling rpy2-3.4.2:\n",
            "  Successfully uninstalled rpy2-3.4.2\n",
            "Collecting rpy2==3.5.1\n",
            "  Downloading rpy2-3.5.1.tar.gz (201 kB)\n",
            "\u001b[2K     \u001b[90m━━━━━━━━━━━━━━━━━━━━━━━━━━━━━━━━━━━━━━━━\u001b[0m \u001b[32m201.7/201.7 kB\u001b[0m \u001b[31m2.0 MB/s\u001b[0m eta \u001b[36m0:00:00\u001b[0m\n",
            "\u001b[?25h  Preparing metadata (setup.py) ... \u001b[?25l\u001b[?25hdone\n",
            "Requirement already satisfied: cffi>=1.10.0 in /usr/local/lib/python3.10/dist-packages (from rpy2==3.5.1) (1.16.0)\n",
            "Requirement already satisfied: jinja2 in /usr/local/lib/python3.10/dist-packages (from rpy2==3.5.1) (3.1.2)\n",
            "Requirement already satisfied: pytz in /usr/local/lib/python3.10/dist-packages (from rpy2==3.5.1) (2023.3.post1)\n",
            "Requirement already satisfied: tzlocal in /usr/local/lib/python3.10/dist-packages (from rpy2==3.5.1) (5.2)\n",
            "Requirement already satisfied: pycparser in /usr/local/lib/python3.10/dist-packages (from cffi>=1.10.0->rpy2==3.5.1) (2.21)\n",
            "Requirement already satisfied: MarkupSafe>=2.0 in /usr/local/lib/python3.10/dist-packages (from jinja2->rpy2==3.5.1) (2.1.3)\n",
            "Building wheels for collected packages: rpy2\n",
            "  Building wheel for rpy2 (setup.py) ... \u001b[?25l\u001b[?25hdone\n",
            "  Created wheel for rpy2: filename=rpy2-3.5.1-cp310-cp310-linux_x86_64.whl size=314938 sha256=72eacc805b9e4585bea7faa1ca4ee8df5301fc093a7e6c9ff6e44853ceb1a2a6\n",
            "  Stored in directory: /root/.cache/pip/wheels/73/a6/ff/4e75dd1ce1cfa2b9a670cbccf6a1e41c553199e9b25f05d953\n",
            "Successfully built rpy2\n",
            "Installing collected packages: rpy2\n",
            "Successfully installed rpy2-3.5.1\n"
          ]
        }
      ],
      "source": [
        "!pip uninstall rpy2 -y\n",
        "! pip install rpy2==3.5.1\n",
        "%load_ext rpy2.ipython"
      ]
    },
    {
      "cell_type": "markdown",
      "metadata": {
        "id": "qmEDD0ccEurf"
      },
      "source": [
        "##  Mount Google Drive\n",
        "\n",
        "Then you must create a folder in Goole drive named \"R\" to install all packages permanently. Before installing R-package in Python runtime. You have to mount Google Drive and follow on-screen instruction:"
      ]
    },
    {
      "cell_type": "code",
      "execution_count": null,
      "metadata": {
        "id": "lClKZUW1Eu_G",
        "colab": {
          "base_uri": "https://localhost:8080/"
        },
        "outputId": "19272272-f6ac-42a1-b825-14120af32ed0"
      },
      "outputs": [
        {
          "output_type": "stream",
          "name": "stdout",
          "text": [
            "Mounted at /content/drive\n"
          ]
        }
      ],
      "source": [
        "from google.colab import drive\n",
        "drive.mount('/content/drive')"
      ]
    },
    {
      "cell_type": "markdown",
      "metadata": {
        "id": "oTvvrCXfF5AC"
      },
      "source": [
        "In this exercise, we will use the following R-packages:\n",
        "\n",
        "1.   [readxl](https://readxl.tidyverse.org/): to read MS **Excel** file.  usually comes with [tidyverse](https://www.tidyverse.org/)\n",
        "2. [writexl](https://docs.ropensci.org/writexl/):Portable, light-weight data frame to xlsx exporter based on libxlsxwriter. No Java or Excel required.\n",
        "3.  [rjson](https://github.com/alexcb/rjson): to read **.json** file\n",
        "4.  [foreign](https://cran.r-project.org/web/packages/foreign/index.html): to read data stored by **Minitab**, **S**, **SAS**, **SPSS**, **Stata**, **Systat**, **dBase**, and so forth.\n",
        "5.  [haven](https://haven.tidyverse.org/): read and write data from different statistical packages. It usually comes with [tidyverse](https://www.tidyverse.org/)\n"
      ]
    },
    {
      "cell_type": "code",
      "source": [
        "%%R\n",
        "pkg <- c('readxl','writexl','rjson', 'foreign', 'haven')\n",
        "new.packages <- pkg[!(pkg %in% installed.packages(lib='drive/My Drive/R/')[,\"Package\"])]\n",
        "if(length(new.packages)) install.packages(new.packages, lib='drive/My Drive/R/')"
      ],
      "metadata": {
        "id": "Nan0amGMyBv5"
      },
      "execution_count": null,
      "outputs": []
    },
    {
      "cell_type": "markdown",
      "source": [
        "## Laod Libaray"
      ],
      "metadata": {
        "id": "1ldcblnJYfks"
      }
    },
    {
      "cell_type": "code",
      "source": [
        "%%R\n",
        "# set library path\n",
        ".libPaths('drive/My Drive/R')\n",
        "library(readxl)\n",
        "library(writexl)\n",
        "library(rjson)\n",
        "library(foreign)\n",
        "library(haven)"
      ],
      "metadata": {
        "id": "nCnpYUs9YftD"
      },
      "execution_count": null,
      "outputs": []
    },
    {
      "cell_type": "markdown",
      "source": [
        "## Data\n",
        "\n",
        "\n",
        "All data set use in this exercise can be downloaded from my [Dropbox](https://www.dropbox.com/scl/fo/fohioij7h503duitpl040/h?rlkey=3voumajiklwhgqw75fe8kby3o&dl=0) or from my [Github](https://github.com/zia207/r-colab/tree/main/Data/R_Beginners) accounts.\n",
        "\n",
        "It would be best if you created a working directory in R to read and write files locally. The following example shows how to create the working directory in R.\n",
        "\n",
        "Before creating a working directory, you may check the directory of your current R session; the function `getwd()` will print the current working directory path as a string.\n",
        "\n",
        "If you want to change the working directory in R you just need to call the `setwd()` function, specifying as argument the path of the new working directory folder.\n",
        "\n",
        "> setwd(\"F:\\\\R-Project\")\n",
        "\n",
        "> setwd(\"F:/R-Project\")\n",
        "\n",
        "Remember that you must use the forward slash `/` or double backslash `\\\\ in R! The Windows format of single backslash will not work.\n",
        "\n",
        "The files under in a directory can check using `dir()` function\n",
        "\n",
        "> dir()"
      ],
      "metadata": {
        "id": "pcn48RSJ2Xnk"
      }
    },
    {
      "cell_type": "markdown",
      "metadata": {
        "id": "IrmMavWXGoM_"
      },
      "source": [
        "## Write as CSV Files\n",
        "\n",
        "First of all, let create a data frame that we will going to export as a text/CSV file.\n",
        "\n"
      ]
    },
    {
      "cell_type": "code",
      "source": [
        "%%R\n",
        "Variety =c(\"BR1\",\"BR3\", \"BR16\", \"BR17\", \"BR18\", \"BR19\",\"BR26\",\n",
        "\t      \"BR27\",\"BR28\",\"BR29\",\"BR35\",\"BR36\") # create a text vector\n",
        "Yield = c(5.2,6.0,6.6,5.6,4.7,5.2,5.7,\n",
        "\t            5.9,5.3,6.8,6.2,5.8) # create numerical vector\n",
        "rice.data= data.frame(Variety, Yield)\n",
        "head(rice.data)"
      ],
      "metadata": {
        "colab": {
          "base_uri": "https://localhost:8080/"
        },
        "id": "8RKMtTHI6l3u",
        "outputId": "b7b1c956-f00c-4823-a2cf-f5f087eae89e"
      },
      "execution_count": null,
      "outputs": [
        {
          "output_type": "stream",
          "name": "stdout",
          "text": [
            "  Variety Yield\n",
            "1     BR1   5.2\n",
            "2     BR3   6.0\n",
            "3    BR16   6.6\n",
            "4    BR17   5.6\n",
            "5    BR18   4.7\n",
            "6    BR19   5.2\n"
          ]
        }
      ]
    },
    {
      "cell_type": "markdown",
      "source": [
        "The popular R base functions for writing data are `write.table()`, `write.csv()`, `write.csv2()` and `write.delim()` functions.\n",
        "\n",
        "Before start, you need to specify the working or destination directory in where you will save the data."
      ],
      "metadata": {
        "id": "QGMv7X8v74LC"
      }
    },
    {
      "cell_type": "code",
      "execution_count": null,
      "metadata": {
        "id": "gXfSYaGPGpbl"
      },
      "outputs": [],
      "source": [
        "%%R\n",
        "dataFolder<- \"/content/drive/MyDrive/R_Website/R_Bigenner/Data/\"\n",
        "write.csv(rice.data, paste0(dataFolder, \"rice_data.csv\"), row.names = F) # no row names\n"
      ]
    },
    {
      "cell_type": "markdown",
      "source": [
        "## Write as Excel File\n",
        "\n",
        "Exporting data from R to Excel can be achieved with several packages. The most known package to export data frames or tables as Excel is **writexl**, that provides the ``write_xlsx()` functions."
      ],
      "metadata": {
        "id": "SqJQoPMbC4sA"
      }
    },
    {
      "cell_type": "code",
      "execution_count": null,
      "metadata": {
        "id": "dKU4UEAtHTHd"
      },
      "outputs": [],
      "source": [
        "%%R\n",
        "dataFolder<- \"/content/drive/MyDrive/R_Website/R_Bigenner/Data/\"\n",
        "# write as xlsx file\n",
        "writexl::write_xlsx(rice.data, paste0(dataFolder, \"rice_data.xlsx\"))"
      ]
    },
    {
      "cell_type": "markdown",
      "source": [
        "## Write as JSON Objects\n",
        "\n",
        "To write JSON Object to file, the `toJSON()` function from the **rjson** library can be used to prepare a JSON object and then use the `write()` function for writing the JSON object to a local file."
      ],
      "metadata": {
        "id": "LoHVxqxLz9UZ"
      }
    },
    {
      "cell_type": "code",
      "source": [
        "%%R\n",
        "dataFolder<-\"/content/drive/MyDrive/R_Website/R_Bigenner/Data/\"\n",
        "# create a JSON object\n",
        "jsonData <-rjson::toJSON(rice.data)\n",
        "# write JSON objects\n",
        "write(jsonData, file= paste0(dataFolder,\"rice_data.json\"))"
      ],
      "metadata": {
        "id": "zh615aRi0Ev4"
      },
      "execution_count": null,
      "outputs": []
    },
    {
      "cell_type": "markdown",
      "source": [
        "## R Data File\n",
        "\n",
        "If you want to share the data from R as Objects and share those with your colleagues through different systems so that they can use it right away into their R-workspace. These objects are of two types **.rda/.RData** which can be used to store some or all objects, functions from R global environment.\n",
        "\n",
        "The `save()` function allows us to save multiple objects into our global environment:."
      ],
      "metadata": {
        "id": "l1vfNT2E3YY9"
      }
    },
    {
      "cell_type": "code",
      "source": [
        "%%R\n",
        "dataFolder<-\"/content/drive/MyDrive/R_Website/R_Bigenner/Data/\"\n",
        "save(rice.data, Variety, Yield,  file= paste0(dataFolder,\"rice_data.RData\"))"
      ],
      "metadata": {
        "id": "1e7cYHTK5LO9"
      },
      "execution_count": null,
      "outputs": []
    },
    {
      "cell_type": "markdown",
      "source": [
        "If you specify `save.image(file = \"R_objects.RData\")` Export all objects (the workspace image).\n",
        "\n",
        "To save only one object it is more recommended saving it as RDS with the `saveRDS()` function:"
      ],
      "metadata": {
        "id": "iHCT14aE5nmP"
      }
    },
    {
      "cell_type": "code",
      "source": [
        "%%R\n",
        "saveRDS(rice.data,  file= paste0(dataFolder,\"rice_data.rds\"))"
      ],
      "metadata": {
        "id": "RjFh0Wg-5nZg"
      },
      "execution_count": null,
      "outputs": []
    },
    {
      "cell_type": "markdown",
      "source": [
        "If you specify `compress = TRUE` as argument of the above functions the file will be compressed by default as gzip."
      ],
      "metadata": {
        "id": "v6J0ZHqV-hRi"
      }
    },
    {
      "cell_type": "markdown",
      "source": [
        "## Export to Other Statistcal Software\n"
      ],
      "metadata": {
        "id": "tSo8Vwdd6A-w"
      }
    },
    {
      "cell_type": "markdown",
      "source": [
        "### Write STATA File (.dta)\n",
        "\n",
        "If you want export data from R to STATA, you will need to use the `write.dta()` function of the **foreign** package. This package provides functions for r"
      ],
      "metadata": {
        "id": "QZbz3R8n6QI5"
      }
    },
    {
      "cell_type": "code",
      "source": [
        "%%R\n",
        "dataFolder<-\"/content/drive/MyDrive/R_Website/R_Bigenner/Data/\"\n",
        "foreign::write.dta(rice.data, file= paste0(dataFolder,\"rice_data.dta\"))"
      ],
      "metadata": {
        "id": "mOuTgYNI6Ugi"
      },
      "execution_count": null,
      "outputs": []
    },
    {
      "cell_type": "markdown",
      "source": [
        "### SPSS File\n",
        "\n",
        "Haven enables R to read and write various data formats used by other statistical packages by wrapping with [ReadStat](https://github.com/WizardMac/ReadStat) C library. written b Haven is part of the tidyverse. Current it support **SAS**, **SPSS** and **Stata** files\n",
        "\n",
        "The `write_sav()` function of **haven** package can be used to export R-object to SPSS"
      ],
      "metadata": {
        "id": "pfzxWJ246wwf"
      }
    },
    {
      "cell_type": "markdown",
      "source": [],
      "metadata": {
        "id": "nwEGyfAQ2zsu"
      }
    },
    {
      "cell_type": "code",
      "source": [
        "%%R\n",
        "dataFolder<-\"/content/drive/MyDrive/R_Website/R_Bigenner/Data/\"\n",
        "# write .sav file\n",
        "haven::write_sav(rice.data, \"/content/drive/MyDrive/R_Website/R_Bigenner/Data/rice_data.sav\")"
      ],
      "metadata": {
        "id": "hFXtvic563B2"
      },
      "execution_count": null,
      "outputs": []
    },
    {
      "cell_type": "markdown",
      "source": [
        "### Write as a SAS File (.sas7bdat)\n",
        "\n",
        "The `write_sas()` function of **haven** package can be used to export R-object to SAS (.sas7bdat)."
      ],
      "metadata": {
        "id": "mMaUFPt87U-G"
      }
    },
    {
      "cell_type": "code",
      "source": [
        "%%R\n",
        "haven::write_sas(rice.data, \"/content/drive/MyDrive/R_Website/R_Bigenner/Data/rice_data.sas7bdat\")"
      ],
      "metadata": {
        "id": "Jy6k8tga7bwk"
      },
      "execution_count": null,
      "outputs": []
    },
    {
      "cell_type": "markdown",
      "source": [
        "## Conclusion\n",
        "\n",
        "This comprehensive tutorial provides an in-depth guide on exporting data from R, emphasizing the critical role of effective data dissemination in the data analysis workflow. The tutorial covers various methods to export data to different formats and other statistical software, including CSV, Excel, SAS, SPSS, and Stata. Understanding these techniques is pivotal for sharing your findings and insights with others or integrating your results into different applications. In addition to the methods for exporting data, the tutorial also covers essential considerations during the export process. For instance, it highlights the importance of handling factors like row and column names, specifying delimiters, and addressing potential challenges that may arise. By paying attention to these details, you can ensure that the exported data maintains its integrity and is readily usable by others. The tutorial also emphasizes that the ability to export data efficiently is not just about generating output but also about facilitating collaboration and communication. Whether you're sharing results with colleagues, collaborating on research, or integrating data into external systems, the skills learned in this tutorial empower you to present your findings in a clear and accessible manner. As your data analysis journey progresses, the tutorial encourages you to explore advanced export techniques, such as connecting to databases for direct exports or automating data export processes. Expanding your knowledge in this area will enhance your capabilities and streamline your workflow, allowing you to spend more time analyzing data and less time on data management tasks. Ultimately, the tutorial stresses that effective data export is crucial to transforming your analysis into actionable insights. To achieve this, it recommends practicing these export techniques on diverse datasets, adapting them to your specific needs, and embracing the opportunities to communicate your findings effectively. With these skills, you'll be well-equipped to share your data-driven discoveries with the world, making a meaningful impact in your field."
      ],
      "metadata": {
        "id": "axPydBgf2xdd"
      }
    },
    {
      "cell_type": "markdown",
      "metadata": {
        "id": "0Ovc25MJTsD8"
      },
      "source": [
        "## Further Reading\n",
        "\n",
        "1.  [How do I read data into R?](https://www.datafiles.samhsa.gov/get-help/format-specific-issues/how-do-i-read-data-r)\n",
        "\n",
        "2.  [R Coder](https://r-coder.com/export-data-r/)\n",
        "\n",
        "3.  [Introduction to bioinformatics](https://uclouvain-cbio.github.io/WSBIM1207/sec-bioinfo.html)\n",
        "\n",
        "4.  [Many Ways of Reading Data Into R --- 1](https://medium.com/analytics-vidhya/many-ways-of-reading-data-into-r-1-52b02825cb27)"
      ]
    }
  ],
  "metadata": {
    "colab": {
      "provenance": [],
      "toc_visible": true,
      "authorship_tag": "ABX9TyO4iTBWZsirFRXyZjtWbdpv",
      "include_colab_link": true
    },
    "kernelspec": {
      "display_name": "Python 3",
      "name": "python3"
    },
    "language_info": {
      "name": "python"
    }
  },
  "nbformat": 4,
  "nbformat_minor": 0
}