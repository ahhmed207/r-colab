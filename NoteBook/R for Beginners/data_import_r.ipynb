{
  "cells": [
    {
      "cell_type": "markdown",
      "metadata": {
        "id": "view-in-github",
        "colab_type": "text"
      },
      "source": [
        "<a href=\"https://colab.research.google.com/github/zia207/r-colab/blob/main/NoteBook/R%20for%20Beginners/data_import_r.ipynb\" target=\"_parent\"><img src=\"https://colab.research.google.com/assets/colab-badge.svg\" alt=\"Open In Colab\"/></a>"
      ]
    },
    {
      "cell_type": "markdown",
      "metadata": {
        "id": "MGoP0AbXEAUx"
      },
      "source": [
        "#  Data Import into R\n",
        "\n",
        "Zia AHMED, University at Buffalo"
      ]
    },
    {
      "cell_type": "markdown",
      "metadata": {
        "id": "kroLnhoOPPoV"
      },
      "source": [
        "One of the most important steps in data analysis is importing data into R. This process can be done using various functions depending on the format of the data, such as CSV, Excel, or SQL. In this context, it is essential to learn some of the most common ways to read and write data with R. By importing data into R, users can perform a wide range of data analysis, from simple data visualization to complex machine learning algorithms. Therefore, mastering data importation in R is a fundamental skill for any data scientist or analyst."
      ]
    },
    {
      "cell_type": "markdown",
      "metadata": {
        "id": "CdQJ-mgsEU9J"
      },
      "source": [
        "## Install rpy2\n",
        "\n",
        "Easy way to run R in Colab with Python runtime using **rpy2** python package. We have to install this package using the pip command:"
      ]
    },
    {
      "cell_type": "code",
      "execution_count": 1,
      "metadata": {
        "id": "qOD7NpajDy5k",
        "colab": {
          "base_uri": "https://localhost:8080/"
        },
        "outputId": "dd2a8c69-1406-485c-d5e5-df7aadba4417"
      },
      "outputs": [
        {
          "output_type": "stream",
          "name": "stdout",
          "text": [
            "Found existing installation: rpy2 3.5.1\n",
            "Uninstalling rpy2-3.5.1:\n",
            "  Successfully uninstalled rpy2-3.5.1\n",
            "Collecting rpy2==3.5.1\n",
            "  Using cached rpy2-3.5.1-cp310-cp310-linux_x86_64.whl\n",
            "Requirement already satisfied: cffi>=1.10.0 in /usr/local/lib/python3.10/dist-packages (from rpy2==3.5.1) (1.16.0)\n",
            "Requirement already satisfied: jinja2 in /usr/local/lib/python3.10/dist-packages (from rpy2==3.5.1) (3.1.2)\n",
            "Requirement already satisfied: pytz in /usr/local/lib/python3.10/dist-packages (from rpy2==3.5.1) (2023.3.post1)\n",
            "Requirement already satisfied: tzlocal in /usr/local/lib/python3.10/dist-packages (from rpy2==3.5.1) (5.2)\n",
            "Requirement already satisfied: pycparser in /usr/local/lib/python3.10/dist-packages (from cffi>=1.10.0->rpy2==3.5.1) (2.21)\n",
            "Requirement already satisfied: MarkupSafe>=2.0 in /usr/local/lib/python3.10/dist-packages (from jinja2->rpy2==3.5.1) (2.1.3)\n",
            "Installing collected packages: rpy2\n",
            "Successfully installed rpy2-3.5.1\n"
          ]
        }
      ],
      "source": [
        "!pip uninstall rpy2 -y\n",
        "! pip install rpy2==3.5.1\n",
        "%load_ext rpy2.ipython"
      ]
    },
    {
      "cell_type": "markdown",
      "metadata": {
        "id": "qmEDD0ccEurf"
      },
      "source": [
        "##  Mount Google Drive\n",
        "\n",
        "Then you must create a folder in Goole drive named \"R\" to install all packages permanently. Before installing R-package in Python runtime. You have to mount Google Drive and follow on-screen instruction:"
      ]
    },
    {
      "cell_type": "code",
      "execution_count": 2,
      "metadata": {
        "id": "lClKZUW1Eu_G",
        "colab": {
          "base_uri": "https://localhost:8080/"
        },
        "outputId": "a1c42b84-69a4-411b-bc57-5b3b2e3ab656"
      },
      "outputs": [
        {
          "output_type": "stream",
          "name": "stdout",
          "text": [
            "Mounted at /content/drive\n"
          ]
        }
      ],
      "source": [
        "from google.colab import drive\n",
        "drive.mount('/content/drive')"
      ]
    },
    {
      "cell_type": "markdown",
      "metadata": {
        "id": "oTvvrCXfF5AC"
      },
      "source": [
        "In this exercise, we will use the following R-packages:\n",
        "\n",
        "1.  [readxl](https://readxl.tidyverse.org/): to read MS **Excel** file.  usually comes with [tidyverse](https://www.tidyverse.org/)\n",
        "2.  [rjson](https://github.com/alexcb/rjson): to read **.json** file\n",
        "3.  [foreign](https://cran.r-project.org/web/packages/foreign/index.html): to read data stored by **Minitab**, **S**, **SAS**, **SPSS**, **Stata**, **Systat**, **dBase**, and so forth.\n",
        "4.  [haven](https://haven.tidyverse.org/): read and write data from different statistical packages. It usually comes with [tidyverse](https://www.tidyverse.org/)"
      ]
    },
    {
      "cell_type": "code",
      "source": [
        "%%R\n",
        "pkg <- c('readxl','rjson', 'foreign', 'haven')\n",
        "new.packages <- pkg[!(pkg %in% installed.packages(lib='drive/My Drive/R/')[,\"Package\"])]\n",
        "if(length(new.packages)) install.packages(new.packages, lib='drive/My Drive/R/')"
      ],
      "metadata": {
        "id": "Nan0amGMyBv5"
      },
      "execution_count": null,
      "outputs": []
    },
    {
      "cell_type": "markdown",
      "source": [
        "## Laod Libaray"
      ],
      "metadata": {
        "id": "1ldcblnJYfks"
      }
    },
    {
      "cell_type": "code",
      "source": [
        "%%R\n",
        "# set library path\n",
        ".libPaths('drive/My Drive/R')\n",
        "library(readxl)\n",
        "library(rjson)\n",
        "library(foreign)\n",
        "library(haven)"
      ],
      "metadata": {
        "id": "nCnpYUs9YftD"
      },
      "execution_count": 3,
      "outputs": []
    },
    {
      "cell_type": "markdown",
      "source": [
        "## Data\n",
        "\n",
        "\n",
        "All data set use in this exercise can be downloaded from my [Dropbox](https://www.dropbox.com/scl/fo/fohioij7h503duitpl040/h?rlkey=3voumajiklwhgqw75fe8kby3o&dl=0) or from my [Github](https://github.com/zia207/r-colab/tree/main/Data/R_Beginners) accounts.\n",
        "\n",
        "It would be best if you created a working directory in R to read and write files locally. The following example shows how to create the working directory in R.\n",
        "\n",
        "Before creating a working directory, you may check the directory of your current R session; the function `getwd()` will print the current working directory path as a string.\n",
        "\n",
        "If you want to change the working directory in R you just need to call the `setwd()` function, specifying as argument the path of the new working directory folder.\n",
        "\n",
        "> setwd(\"F:\\\\R-Project\")\n",
        "\n",
        "> setwd(\"F:/R-Project\")\n",
        "\n",
        "Remember that you must use the forward slash `/` or double backslash `\\\\` in R! The Windows format of single backslash will not work.\n",
        "\n",
        "The files under in a directory can check using `dir()` function:\n",
        "\n",
        "> dir()"
      ],
      "metadata": {
        "id": "pcn48RSJ2Xnk"
      }
    },
    {
      "cell_type": "markdown",
      "metadata": {
        "id": "mOk85Ol6GQfH"
      },
      "source": [
        "## Importing data using R-Studio IDE\n",
        "\n",
        "Importing data into R becomes time-intensive. The easiest way to import data into R is by using RStudio IDE. This feature can be accessed from the **Environment pane** or from the **tools menu**. The importers are grouped into three categories: Text data, Excel data, and statistical data. The details can be found [here](https://support.posit.co/hc/en-us/articles/218611977-Importing-Data-with-the-RStudio-IDE).\n"
      ]
    },
    {
      "cell_type": "markdown",
      "source": [
        "To access this feature, use the \"Import Dataset\" dropdown from the \"Environment\" pane:\n",
        "\n"
      ],
      "metadata": {
        "id": "bq9U2wHv7ZRr"
      }
    },
    {
      "cell_type": "markdown",
      "source": [
        "![alt text](http://drive.google.com/uc?export=view&id=1nRZoZ5qU-jzpC3n0FAk63VVqQHCFVDaH)\n",
        "\n",
        "\n",
        "\n",
        "\n"
      ],
      "metadata": {
        "id": "44DCrUHI8bkX"
      }
    },
    {
      "cell_type": "markdown",
      "source": [
        "Or through the \"File\" menu, followed by the \"Import Dataset\" submenu:\n",
        "\n"
      ],
      "metadata": {
        "id": "azTkcZ1c8b34"
      }
    },
    {
      "cell_type": "markdown",
      "source": [
        "![alt text](http://drive.google.com/uc?export=view&id=1nKfmrVXro6rSlCizhJXF_rS6ZFIldNUn)\n",
        "\n"
      ],
      "metadata": {
        "id": "NJsri85Rx7Mp"
      }
    },
    {
      "cell_type": "markdown",
      "metadata": {
        "id": "IrmMavWXGoM_"
      },
      "source": [
        "## Read Text File (.txt)\n",
        "\n",
        "The easiest form of data to import into R is a simple text file. The primary function to import from a text file is `read.table()`.\n",
        "\n",
        "> read.table(file, header = FALSE, sep = \"\", quote =\"\"'\",.....)"
      ]
    },
    {
      "cell_type": "code",
      "execution_count": 4,
      "metadata": {
        "colab": {
          "base_uri": "https://localhost:8080/"
        },
        "id": "gXfSYaGPGpbl",
        "outputId": "2657feb4-dd34-46c8-944f-6a3eda8f8aa6"
      },
      "outputs": [
        {
          "output_type": "stream",
          "name": "stdout",
          "text": [
            "   ID treat  var rep    PH   TN   PN   GW ster   DTM   SW   GAs  STAs\n",
            "1 Low    As BR01   1  84.0 28.3 27.7 35.7 20.5 126.0 28.4 0.762 14.60\n",
            "2 Low    As BR01   2 111.7 34.0 30.0 58.1 14.8 119.0 36.7 0.722 10.77\n",
            "3 Low    As BR01   3 102.3 27.7 24.0 44.6  5.8 119.7 32.9 0.858 12.69\n",
            "4 Low    As BR06   1 118.0 23.3 19.7 46.4 20.3 119.0 40.0 1.053 18.23\n",
            "5 Low    As BR06   2 115.3 16.7 12.3 19.9 32.3 120.0 28.2 1.130 13.72\n",
            "6 Low    As BR06   3 111.0 19.0 15.3 35.9 14.9 116.3 42.3 1.011 15.97\n"
          ]
        }
      ],
      "source": [
        "%%R\n",
        "# read .txt file\n",
        "df.txt<-read.table(\"/content/drive/MyDrive/R_Website/R_Bigenner/Data/test_data.txt\", header= TRUE)\n",
        "head(df.txt)"
      ]
    },
    {
      "cell_type": "markdown",
      "source": [
        "Or you can driectly load data directly from my [Github data folder](https://github.com/zia207/r-colab/raw/main/Data/R_Beginners/test_data.txt) using following code:"
      ],
      "metadata": {
        "id": "QoRpKaVp-gRC"
      }
    },
    {
      "cell_type": "code",
      "source": [
        "%%R\n",
        "df.txt<-read.table(\"https://github.com/zia207/r-colab/raw/main/Data/R_Beginners/test_data.txt\",\n",
        "                    header= TRUE)\n",
        "head(df.txt)"
      ],
      "metadata": {
        "colab": {
          "base_uri": "https://localhost:8080/"
        },
        "id": "CBXiV8FK9zHJ",
        "outputId": "7630c02b-dae8-4ddc-ef6b-26a0949837ab"
      },
      "execution_count": 5,
      "outputs": [
        {
          "output_type": "stream",
          "name": "stdout",
          "text": [
            "   ID treat  var rep    PH   TN   PN   GW ster   DTM   SW   GAs  STAs\n",
            "1 Low    As BR01   1  84.0 28.3 27.7 35.7 20.5 126.0 28.4 0.762 14.60\n",
            "2 Low    As BR01   2 111.7 34.0 30.0 58.1 14.8 119.0 36.7 0.722 10.77\n",
            "3 Low    As BR01   3 102.3 27.7 24.0 44.6  5.8 119.7 32.9 0.858 12.69\n",
            "4 Low    As BR06   1 118.0 23.3 19.7 46.4 20.3 119.0 40.0 1.053 18.23\n",
            "5 Low    As BR06   2 115.3 16.7 12.3 19.9 32.3 120.0 28.2 1.130 13.72\n",
            "6 Low    As BR06   3 111.0 19.0 15.3 35.9 14.9 116.3 42.3 1.011 15.97\n"
          ]
        }
      ]
    },
    {
      "cell_type": "markdown",
      "source": [
        "However, `scan()` function could be used to scan and read data. It is usually used to read data into vector or list or from file in R Language.\n",
        "\n",
        "> scan(scan(file = \"\", what = double(), nmax = -1, n = -1, sep =\"\",..)"
      ],
      "metadata": {
        "id": "DtUOksnbCl6B"
      }
    },
    {
      "cell_type": "code",
      "execution_count": 6,
      "metadata": {
        "colab": {
          "base_uri": "https://localhost:8080/"
        },
        "id": "6Lm8_XGaG8Il",
        "outputId": "cc8df76b-fc8a-4afa-8b54-9208babc2c3e"
      },
      "outputs": [
        {
          "output_type": "stream",
          "name": "stderr",
          "text": [
            "WARNING:rpy2.rinterface_lib.callbacks:R[write to console]: Read 201 records\n",
            "\n"
          ]
        }
      ],
      "source": [
        "%%R\n",
        "# Scan data\n",
        "df.scan<-scan(\"https://github.com/zia207/r-colab/raw/main/Data/R_Beginners/test_data.txt\",  what = list(\"\", \"\", \"\"))"
      ]
    },
    {
      "cell_type": "markdown",
      "source": [
        "## Read Comma-Separated File (.csv)\n",
        "\n",
        "A comma delimited or comma-separated file (CSV) is one where each value in the file is separated by a comma, although other characters can be used. Reading data from a CSV file is made easy by the `read.csv()`, an extension of `read.table()`. It facilitates the direct import of data from CSV"
      ],
      "metadata": {
        "id": "SqJQoPMbC4sA"
      }
    },
    {
      "cell_type": "code",
      "execution_count": 7,
      "metadata": {
        "colab": {
          "base_uri": "https://localhost:8080/"
        },
        "id": "dKU4UEAtHTHd",
        "outputId": "c24c2b38-baf4-4218-f7dd-2ab80bef253e"
      },
      "outputs": [
        {
          "output_type": "stream",
          "name": "stdout",
          "text": [
            "  ID  treat  var rep    PH   TN   PN   GW ster   DTM   SW   GAs  STAs\n",
            "1  1 Low As BR01   1  84.0 28.3 27.7 35.7 20.5 126.0 28.4 0.762 14.60\n",
            "2  2 Low As BR01   2 111.7 34.0 30.0 58.1 14.8 119.0 36.7 0.722 10.77\n",
            "3  3 Low As BR01   3 102.3 27.7 24.0 44.6  5.8 119.7 32.9 0.858 12.69\n",
            "4  4 Low As BR06   1 118.0 23.3 19.7 46.4 20.3 119.0 40.0 1.053 18.23\n",
            "5  5 Low As BR06   2 115.3 16.7 12.3 19.9 32.3 120.0 28.2 1.130 13.72\n",
            "6  6 Low As BR06   3 111.0 19.0 15.3 35.9 14.9 116.3 42.3 1.011 15.97\n"
          ]
        }
      ],
      "source": [
        "%%R\n",
        "df.csv<-read.csv(\"/content/drive/MyDrive/R_Website/R_Bigenner/Data/test_data.csv\", header= TRUE)\n",
        "head(df.csv)"
      ]
    },
    {
      "cell_type": "markdown",
      "source": [
        "Or you can driectly load data directly from my Github data folder using following code:"
      ],
      "metadata": {
        "id": "IBv57CQV1ZKR"
      }
    },
    {
      "cell_type": "code",
      "source": [
        "%%R\n",
        "df.csv<-read.csv(\"https://github.com/zia207/r-colab/raw/main/Data/R_Beginners/test_data.csv\",\n",
        "                  header= TRUE)\n",
        "head(df.csv)"
      ],
      "metadata": {
        "colab": {
          "base_uri": "https://localhost:8080/"
        },
        "id": "NKhJzcrC0lGY",
        "outputId": "0659298f-340d-491e-8ddf-e5d57b1670c3"
      },
      "execution_count": 8,
      "outputs": [
        {
          "output_type": "stream",
          "name": "stdout",
          "text": [
            "  ID  treat  var rep    PH   TN   PN   GW ster   DTM   SW   GAs  STAs\n",
            "1  1 Low As BR01   1  84.0 28.3 27.7 35.7 20.5 126.0 28.4 0.762 14.60\n",
            "2  2 Low As BR01   2 111.7 34.0 30.0 58.1 14.8 119.0 36.7 0.722 10.77\n",
            "3  3 Low As BR01   3 102.3 27.7 24.0 44.6  5.8 119.7 32.9 0.858 12.69\n",
            "4  4 Low As BR06   1 118.0 23.3 19.7 46.4 20.3 119.0 40.0 1.053 18.23\n",
            "5  5 Low As BR06   2 115.3 16.7 12.3 19.9 32.3 120.0 28.2 1.130 13.72\n",
            "6  6 Low As BR06   3 111.0 19.0 15.3 35.9 14.9 116.3 42.3 1.011 15.97\n"
          ]
        }
      ]
    },
    {
      "cell_type": "markdown",
      "source": [
        "## Excel Files (.xlsx)\n",
        "\n",
        "If you want to get data from Excel into R, one of the easiest ways to do it is to export the Excel file to a CSV file and then import it using the above method. But if you don't want to do that, you can use the 'readxl' package. It's easy to use since it has no extra dependencies, so thato you can install it on any operating system.\n",
        "\n",
        "**readxl** supports both the legacy `.xls` format and the modern xml-based `.xlsx` format. The libxls C library is used to support `.xls`, which abstracts away many of the complexities of the underlying binary format. To parse .`xlsx,` we use the RapidXML C++ library.\n",
        "\n",
        "`read_excel()` reads both `xls` and `xlsx` files and detects the format from the extension."
      ],
      "metadata": {
        "id": "LoHVxqxLz9UZ"
      }
    },
    {
      "cell_type": "code",
      "source": [
        "%%R\n",
        "df.xl <- readxl::read_excel(\"/content/drive/MyDrive/R_Website/R_Bigenner/Data/test_data.xlsx\", 1)\n",
        "head(df.xl)"
      ],
      "metadata": {
        "colab": {
          "base_uri": "https://localhost:8080/"
        },
        "id": "zh615aRi0Ev4",
        "outputId": "f55730ea-20b4-4a70-b7f3-00ea244cca70"
      },
      "execution_count": 9,
      "outputs": [
        {
          "output_type": "stream",
          "name": "stdout",
          "text": [
            "# A tibble: 6 × 13\n",
            "     ID treat  var     rep    PH    TN    PN    GW  ster   DTM    SW   GAs  STAs\n",
            "  <dbl> <chr>  <chr> <dbl> <dbl> <dbl> <dbl> <dbl> <dbl> <dbl> <dbl> <dbl> <dbl>\n",
            "1     1 Low As BR01      1   84   28.3  27.7  35.7  20.5  126   28.4 0.762  14.6\n",
            "2     2 Low As BR01      2  112.  34    30    58.1  14.8  119   36.7 0.722  10.8\n",
            "3     3 Low As BR01      3  102.  27.7  24    44.6   5.8  120.  32.9 0.858  12.7\n",
            "4     4 Low As BR06      1  118   23.3  19.7  46.4  20.3  119   40   1.05   18.2\n",
            "5     5 Low As BR06      2  115.  16.7  12.3  19.9  32.3  120   28.2 1.13   13.7\n",
            "6     6 Low As BR06      3  111   19    15.3  35.9  14.9  116.  42.3 1.01   16.0\n"
          ]
        }
      ]
    },
    {
      "cell_type": "markdown",
      "source": [
        "## JSON Files (.json)\n",
        "\n",
        "JSON is an open standard file and lightweight data-interchange format that stands for *J*ava*S*cript *O*bject *N*otation. The JSON file is a text file that is language independent, self-describing, and easy to understand.\n",
        "\n",
        "The JSON file is read by R as a `list` using the function `fromJSON()` of **rjson** package."
      ],
      "metadata": {
        "id": "l1vfNT2E3YY9"
      }
    },
    {
      "cell_type": "code",
      "source": [
        "%%R\n",
        "dataFolder<-\"/content/drive/MyDrive/R_Website/R_Bigenner/Data/\"\n",
        "# read .json file\n",
        "df.json <- rjson::fromJSON(file= paste0(dataFolder, \"test_data.json\"),  simplify=TRUE)\n",
        "print(df.json)"
      ],
      "metadata": {
        "id": "1e7cYHTK5LO9",
        "colab": {
          "base_uri": "https://localhost:8080/"
        },
        "outputId": "3354f10b-b82f-41a3-c467-525065952226"
      },
      "execution_count": 10,
      "outputs": [
        {
          "output_type": "stream",
          "name": "stdout",
          "text": [
            "$ID\n",
            " [1]  1  2  3  4  5  6  7  8  9 10 11 12 13 14 15 16 17 18 19 20 21 22 23 24 25\n",
            "[26] 26 27 28 29 30 31 32 33 34 35 36 37 38 39 40 41 42\n",
            "\n",
            "$treat\n",
            " [1] \"Low As\"   \"Low As\"   \"Low As\"   \"Low As\"   \"Low As\"   \"Low As\"  \n",
            " [7] \"Low As\"   \"Low As\"   \"Low As\"   \"Low As\"   \"Low As\"   \"Low As\"  \n",
            "[13] \"Low As\"   \"Low As\"   \"Low As\"   \"Low As\"   \"Low As\"   \"Low As\"  \n",
            "[19] \"Low As\"   \"Low As\"   \"Low As\"   \"High As \" \"High As \" \"High As \"\n",
            "[25] \"High As \" \"High As \" \"High As \" \"High As \" \"High As \" \"High As \"\n",
            "[31] \"High As \" \"High As \" \"High As \" \"High As \" \"High As \" \"High As \"\n",
            "[37] \"High As \" \"High As \" \"High As \" \"High As \" \"High As \" \"High As \"\n",
            "\n",
            "$var\n",
            " [1] \"BR01\"      \"BR01\"      \"BR01\"      \"BR06\"      \"BR06\"      \"BR06\"     \n",
            " [7] \"BR28\"      \"BR28\"      \"BR28\"      \"BR35\"      \"BR35\"      \"BR35\"     \n",
            "[13] \"BR36\"      \"BR36\"      \"BR36\"      \"Jefferson\" \"Jefferson\" \"Jefferson\"\n",
            "[19] \"Kaybonnet\" \"Kaybonnet\" \"Kaybonnet\" \"BR01\"      \"BR01\"      \"BR01\"     \n",
            "[25] \"BR06\"      \"BR06\"      \"BR06\"      \"BR28\"      \"BR28\"      \"BR28\"     \n",
            "[31] \"BR35\"      \"BR35\"      \"BR35\"      \"BR36\"      \"BR36\"      \"BR36\"     \n",
            "[37] \"Jefferson\" \"Jefferson\" \"Jefferson\" \"Kaybonnet\" \"Kaybonnet\" \"Kaybonnet\"\n",
            "\n",
            "$rep\n",
            " [1] 1 2 3 1 2 3 1 2 3 1 2 3 1 2 3 1 2 3 1 2 3 1 2 3 1 2 3 1 2 3 1 2 3 1 2 3 1 2\n",
            "[39] 3 1 2 3\n",
            "\n",
            "$PH\n",
            " [1]  84.0 111.7 102.3 118.0 115.3 111.0 114.3 124.0 120.3 130.0 133.3 129.0\n",
            "[13] 113.0 118.3 118.3  96.7  94.7  97.3 134.7 120.7 123.7  73.0  77.0  71.7\n",
            "[25]  97.7  90.3  91.0  97.0  92.3  91.3  94.3 102.7  97.3 101.3  94.7  93.7\n",
            "[37]  72.7  72.3  80.0  96.7 101.0 105.3\n",
            "\n",
            "$TN\n",
            " [1] 28.3 34.0 27.7 23.3 16.7 19.0 21.7 25.3 23.0 19.7 21.0 17.7 18.0 23.0 29.7\n",
            "[16]  8.7  9.7 12.3 11.7 15.3 12.7 32.0 36.3 24.3 20.7 21.3 18.3 19.7 26.3 24.3\n",
            "[31] 22.7 26.3 22.7 19.7 22.0 19.7 10.3  9.7 13.3 14.3 15.7 13.7\n",
            "\n",
            "$PN\n",
            " [1] 27.7 30.0 24.0 19.7 12.3 15.3 19.3 21.0 19.0 14.7 16.3 14.3 15.7 17.3 16.3\n",
            "[16]  8.7  9.7 10.3  9.7  9.3  9.3 21.0 31.0 20.7 14.3 18.3 14.3 15.0 17.7 18.3\n",
            "[31] 12.3 17.7 14.0 14.0 17.7 15.3  9.0  8.3 11.0  7.7  8.0 10.0\n",
            "\n",
            "$GW\n",
            " [1] 35.7 58.1 44.6 46.4 19.9 35.9 56.2 49.2 48.6 36.6 39.9 43.0 39.0 35.8 45.8\n",
            "[16] 15.9 18.0 18.9 34.9 28.9 32.4 21.8 31.7 21.8 21.2 18.9 13.2 17.0 21.1 23.6\n",
            "[31] 10.0 18.2 22.2 16.8 24.5 17.6 11.5 14.1 23.0  5.4  5.2 15.0\n",
            "\n",
            "$ster\n",
            " [1] 20.5 14.8  5.8 20.3 32.3 14.9  6.1  9.2  4.2 12.1 11.5  8.7 13.2 28.0  6.9\n",
            "[16] 21.5 18.6 16.7  7.8  4.9 10.4 22.5 20.1 20.2 11.8 34.4 58.2 13.5 21.3 27.8\n",
            "[31] 55.9 46.6 52.5 24.4 28.5 49.5 26.6 18.2 12.6 57.2 82.8 54.7\n",
            "\n",
            "$DTM\n",
            " [1] 126.0 119.0 119.7 119.0 120.0 116.3 123.7 114.3 113.3 126.0 130.7 132.3\n",
            "[13] 121.7 121.7 117.0 121.3 116.7 116.7 115.7 114.0 113.3 132.3 129.3 134.3\n",
            "[25] 131.0 133.7 132.7 128.3 126.0 128.7 154.0 152.3 151.7 133.0 133.7 134.3\n",
            "[37] 127.0 128.7 127.0 131.7 130.7 128.7\n",
            "\n",
            "$SW\n",
            " [1]  28.4  36.7  32.9  40.0  28.2  42.3  35.4  60.6  69.8  57.3  53.0  32.6\n",
            "[13]  45.8  44.1 114.3  16.8  16.7  19.0  35.6  29.0  29.4  30.3  34.3  17.6\n",
            "[25]  25.6  24.6  24.5  21.2  28.7  16.7  35.2  41.2  43.3  34.2  30.8  31.2\n",
            "[37]  14.2  11.6  16.3  18.2  28.7  28.5\n",
            "\n",
            "$GAs\n",
            " [1] 0.762 0.722 0.858 1.053 1.130 1.011 0.965 0.969 0.893 1.358 1.359 1.290\n",
            "[13] 0.832 0.903 0.932 0.610 0.605 0.629 1.005 1.020 0.946 1.482 1.548 1.564\n",
            "[25] 1.451 1.413 1.396 1.521 1.553 1.698 2.448 2.493 2.458 1.881 1.997 1.934\n",
            "[37] 1.897 1.872 2.007 1.888 1.889 1.767\n",
            "\n",
            "$STAs\n",
            " [1] 14.60 10.77 12.69 18.23 13.72 15.97 14.49 16.02 15.25 21.23 19.37 20.30\n",
            "[13] 19.23 12.34 15.78 13.50  9.32 11.41 15.89  9.30 12.59 25.41 19.12 22.27\n",
            "[25] 24.15 18.77 21.46 28.49 30.96 29.73 26.22 20.97 23.59 24.75 19.40 22.08\n",
            "[37] 23.45 18.60 21.02 20.27 22.51 21.39\n",
            "\n"
          ]
        }
      ]
    },
    {
      "cell_type": "markdown",
      "source": [
        "We can convert a JESON file to a regilar data frame:"
      ],
      "metadata": {
        "id": "iHCT14aE5nmP"
      }
    },
    {
      "cell_type": "code",
      "source": [
        "%%R\n",
        "df.json <- as.data.frame(df.json)\n",
        "head(df.json)"
      ],
      "metadata": {
        "colab": {
          "base_uri": "https://localhost:8080/"
        },
        "id": "RjFh0Wg-5nZg",
        "outputId": "761b6153-25bf-4fc2-b475-00ebe9c6bc1f"
      },
      "execution_count": 11,
      "outputs": [
        {
          "output_type": "stream",
          "name": "stdout",
          "text": [
            "  ID  treat  var rep    PH   TN   PN   GW ster   DTM   SW   GAs  STAs\n",
            "1  1 Low As BR01   1  84.0 28.3 27.7 35.7 20.5 126.0 28.4 0.762 14.60\n",
            "2  2 Low As BR01   2 111.7 34.0 30.0 58.1 14.8 119.0 36.7 0.722 10.77\n",
            "3  3 Low As BR01   3 102.3 27.7 24.0 44.6  5.8 119.7 32.9 0.858 12.69\n",
            "4  4 Low As BR06   1 118.0 23.3 19.7 46.4 20.3 119.0 40.0 1.053 18.23\n",
            "5  5 Low As BR06   2 115.3 16.7 12.3 19.9 32.3 120.0 28.2 1.130 13.72\n",
            "6  6 Low As BR06   3 111.0 19.0 15.3 35.9 14.9 116.3 42.3 1.011 15.97\n"
          ]
        }
      ]
    },
    {
      "cell_type": "markdown",
      "source": [
        "## Import Data from Other Statistical Software\n",
        "\n",
        "**foreign** packages is mostly used to read data stored by **Minitab**, **S**, **SAS**, **SPSS**, **Stata**, **Systat**, **dBase**, and so forth.\n",
        "\n",
        "> install.packages(\"foreign\")\n",
        "\n",
        "**Haven** enables R to read and write various data formats used by other statistical packages by wrapping with [ReadStat](https://github.com/WizardMac/ReadStat) C library. written b Haven is part of the tidyverse. Current it support **SAS**, **SPSS** and **Stata** files\n",
        "\n",
        "`read.dta()` function from **foreign** package can reads a file in Stata version 5-12 binary format (`.dta`) into a data frame."
      ],
      "metadata": {
        "id": "tSo8Vwdd6A-w"
      }
    },
    {
      "cell_type": "markdown",
      "source": [
        "### Read STATA File (.dta)"
      ],
      "metadata": {
        "id": "QZbz3R8n6QI5"
      }
    },
    {
      "cell_type": "code",
      "source": [
        "%%R\n",
        "dataFolder<-\"/content/drive/MyDrive/R_Website/R_Bigenner/Data/\"\n",
        "# Foreign - read.dta()\n",
        "df.dta_01 <- foreign::read.dta(paste0(dataFolder,\"test_data.dta\"))\n",
        "# Haven - read_dta()\n",
        "df.dta_02 <- haven::read_dta(paste0(dataFolder,\"test_data.dta\"))\n",
        "head(df.dta_02)"
      ],
      "metadata": {
        "colab": {
          "base_uri": "https://localhost:8080/"
        },
        "id": "mOuTgYNI6Ugi",
        "outputId": "32ad9de1-0a05-48b5-a88a-35e415414831"
      },
      "execution_count": 12,
      "outputs": [
        {
          "output_type": "stream",
          "name": "stdout",
          "text": [
            "# A tibble: 6 × 13\n",
            "     ID treat  var     rep    PH    TN    PN    GW  ster   DTM    SW   GAs  STAs\n",
            "  <dbl> <chr>  <chr> <dbl> <dbl> <dbl> <dbl> <dbl> <dbl> <dbl> <dbl> <dbl> <dbl>\n",
            "1     1 Low As BR01      1   84   28.3  27.7  35.7  20.5  126   28.4 0.762  14.6\n",
            "2     2 Low As BR01      2  112.  34    30    58.1  14.8  119   36.7 0.722  10.8\n",
            "3     3 Low As BR01      3  102.  27.7  24    44.6   5.8  120.  32.9 0.858  12.7\n",
            "4     4 Low As BR06      1  118   23.3  19.7  46.4  20.3  119   40   1.05   18.2\n",
            "5     5 Low As BR06      2  115.  16.7  12.3  19.9  32.3  120   28.2 1.13   13.7\n",
            "6     6 Low As BR06      3  111   19    15.3  35.9  14.9  116.  42.3 1.01   16.0\n"
          ]
        }
      ]
    },
    {
      "cell_type": "markdown",
      "source": [
        "### Read SPSS File (.sav)"
      ],
      "metadata": {
        "id": "pfzxWJ246wwf"
      }
    },
    {
      "cell_type": "code",
      "source": [
        "%%R\n",
        "dataFolder<-\"/content/drive/MyDrive/R_Website/R_Bigenner/Data/\"\n",
        "# Foreign - read.spss()\n",
        "df.sav_01 <- foreign::read.spss(paste0(dataFolder,\"test_data.sav\"))\n",
        "# Haven - read_sav()\n",
        "df.sav_02 <- haven::read_sav(paste0(dataFolder,\"test_data.sav\"))\n",
        "head(df.sav_02)"
      ],
      "metadata": {
        "colab": {
          "base_uri": "https://localhost:8080/"
        },
        "id": "hFXtvic563B2",
        "outputId": "4429cfa6-b662-47dc-c2b3-bb6a2dd642a3"
      },
      "execution_count": null,
      "outputs": [
        {
          "output_type": "stream",
          "name": "stdout",
          "text": [
            "# A tibble: 6 × 13\n",
            "     ID treat  var     rep    PH    TN    PN    GW  ster   DTM    SW   GAs  STAs\n",
            "  <dbl> <chr>  <chr> <dbl> <dbl> <dbl> <dbl> <dbl> <dbl> <dbl> <dbl> <dbl> <dbl>\n",
            "1     1 Low As BR01      1   84   28.3  27.7  35.7  20.5  126   28.4 0.762  14.6\n",
            "2     2 Low As BR01      2  112.  34    30    58.1  14.8  119   36.7 0.722  10.8\n",
            "3     3 Low As BR01      3  102.  27.7  24    44.6   5.8  120.  32.9 0.858  12.7\n",
            "4     4 Low As BR06      1  118   23.3  19.7  46.4  20.3  119   40   1.05   18.2\n",
            "5     5 Low As BR06      2  115.  16.7  12.3  19.9  32.3  120   28.2 1.13   13.7\n",
            "6     6 Low As BR06      3  111   19    15.3  35.9  14.9  116.  42.3 1.01   16.0\n"
          ]
        }
      ]
    },
    {
      "cell_type": "markdown",
      "source": [
        "### Read SAS File (.sas7bdat)\n",
        "\n",
        "`read_sas()` function from haven package can read sas (.sas7bdat) file easily."
      ],
      "metadata": {
        "id": "mMaUFPt87U-G"
      }
    },
    {
      "cell_type": "code",
      "source": [
        "%%R\n",
        "# read .sas7bdat file\n",
        "df.sas <- haven::read_sas(paste0(dataFolder,\"test_data.sas7bdat\"))\n",
        "head(df.sas)"
      ],
      "metadata": {
        "colab": {
          "base_uri": "https://localhost:8080/"
        },
        "id": "Jy6k8tga7bwk",
        "outputId": "041aa12a-0eeb-4bbc-d152-e973c626a563"
      },
      "execution_count": 13,
      "outputs": [
        {
          "output_type": "stream",
          "name": "stdout",
          "text": [
            "# A tibble: 6 × 13\n",
            "     ID treat  var     rep    PH    TN    PN    GW  ster   DTM    SW   GAs  STAs\n",
            "  <dbl> <chr>  <chr> <dbl> <dbl> <dbl> <dbl> <dbl> <dbl> <dbl> <dbl> <dbl> <dbl>\n",
            "1     1 Low As BR01      1   84   28.3  27.7  35.7  20.5  126   28.4 0.762  14.6\n",
            "2     2 Low As BR01      2  112.  34    30    58.1  14.8  119   36.7 0.722  10.8\n",
            "3     3 Low As BR01      3  102.  27.7  24    44.6   5.8  120.  32.9 0.858  12.7\n",
            "4     4 Low As BR06      1  118   23.3  19.7  46.4  20.3  119   40   1.05   18.2\n",
            "5     5 Low As BR06      2  115.  16.7  12.3  19.9  32.3  120   28.2 1.13   13.7\n",
            "6     6 Low As BR06      3  111   19    15.3  35.9  14.9  116.  42.3 1.01   16.0\n"
          ]
        }
      ]
    },
    {
      "cell_type": "markdown",
      "metadata": {
        "id": "0Ovc25MJTsD8"
      },
      "source": [
        "## Further Reading\n",
        "\n",
        "1.  [How do I read data into R?](https://www.datafiles.samhsa.gov/get-help/format-specific-issues/how-do-i-read-data-r)\n",
        "\n",
        "2.  [R Coder](https://r-coder.com/export-data-r/)\n",
        "\n",
        "3.  [Introduction to bioinformatics](https://uclouvain-cbio.github.io/WSBIM1207/sec-bioinfo.html)\n",
        "\n",
        "4.  [Many Ways of Reading Data Into R --- 1](https://medium.com/analytics-vidhya/many-ways-of-reading-data-into-r-1-52b02825cb27)"
      ]
    }
  ],
  "metadata": {
    "colab": {
      "provenance": [],
      "toc_visible": true,
      "authorship_tag": "ABX9TyPlL0h2L7acJ3CMFSy27q74",
      "include_colab_link": true
    },
    "kernelspec": {
      "display_name": "Python 3",
      "name": "python3"
    },
    "language_info": {
      "name": "python"
    }
  },
  "nbformat": 4,
  "nbformat_minor": 0
}