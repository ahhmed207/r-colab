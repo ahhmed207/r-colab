{
  "cells": [
    {
      "cell_type": "markdown",
      "metadata": {
        "id": "view-in-github",
        "colab_type": "text"
      },
      "source": [
        "<a href=\"https://colab.research.google.com/github/zia207/r-colab/blob/main/NoteBook/R%20for%20Beginners/data_import_r.ipynb\" target=\"_parent\"><img src=\"https://colab.research.google.com/assets/colab-badge.svg\" alt=\"Open In Colab\"/></a>"
      ]
    },
    {
      "cell_type": "markdown",
      "metadata": {
        "id": "MGoP0AbXEAUx"
      },
      "source": [
        "#  Data Import into R\n",
        "\n",
        "Zia AHMED, University at Buffalo"
      ]
    },
    {
      "cell_type": "markdown",
      "metadata": {
        "id": "kroLnhoOPPoV"
      },
      "source": [
        "One of the most important steps in data analysis is importing data into R. This process can be done using various functions depending on the format of the data, such as CSV, Excel, or SQL. In this context, it is essential to learn some of the most common ways to read and write data with R. By importing data into R, users can perform a wide range of data analysis, from simple data visualization to complex machine learning algorithms. Therefore, mastering data importation in R is a fundamental skill for any data scientist or analyst."
      ]
    },
    {
      "cell_type": "markdown",
      "metadata": {
        "id": "CdQJ-mgsEU9J"
      },
      "source": [
        "## Install rpy2\n",
        "\n",
        "Easy way to run R in Colab with Python runtime using **rpy2** python package. We have to install this package using the pip command:"
      ]
    },
    {
      "cell_type": "code",
      "execution_count": 3,
      "metadata": {
        "id": "qOD7NpajDy5k",
        "colab": {
          "base_uri": "https://localhost:8080/"
        },
        "outputId": "ff2a9d4b-94c5-4e71-c861-f5865679a077"
      },
      "outputs": [
        {
          "output_type": "stream",
          "name": "stdout",
          "text": [
            "Found existing installation: rpy2 3.4.2\n",
            "Uninstalling rpy2-3.4.2:\n",
            "  Successfully uninstalled rpy2-3.4.2\n",
            "Collecting rpy2==3.5.1\n",
            "  Downloading rpy2-3.5.1.tar.gz (201 kB)\n",
            "\u001b[2K     \u001b[90m━━━━━━━━━━━━━━━━━━━━━━━━━━━━━━━━━━━━━━━━\u001b[0m \u001b[32m201.7/201.7 kB\u001b[0m \u001b[31m2.5 MB/s\u001b[0m eta \u001b[36m0:00:00\u001b[0m\n",
            "\u001b[?25h  Preparing metadata (setup.py) ... \u001b[?25l\u001b[?25hdone\n",
            "Requirement already satisfied: cffi>=1.10.0 in /usr/local/lib/python3.10/dist-packages (from rpy2==3.5.1) (1.16.0)\n",
            "Requirement already satisfied: jinja2 in /usr/local/lib/python3.10/dist-packages (from rpy2==3.5.1) (3.1.2)\n",
            "Requirement already satisfied: pytz in /usr/local/lib/python3.10/dist-packages (from rpy2==3.5.1) (2023.3.post1)\n",
            "Requirement already satisfied: tzlocal in /usr/local/lib/python3.10/dist-packages (from rpy2==3.5.1) (5.2)\n",
            "Requirement already satisfied: pycparser in /usr/local/lib/python3.10/dist-packages (from cffi>=1.10.0->rpy2==3.5.1) (2.21)\n",
            "Requirement already satisfied: MarkupSafe>=2.0 in /usr/local/lib/python3.10/dist-packages (from jinja2->rpy2==3.5.1) (2.1.3)\n",
            "Building wheels for collected packages: rpy2\n",
            "  Building wheel for rpy2 (setup.py) ... \u001b[?25l\u001b[?25hdone\n",
            "  Created wheel for rpy2: filename=rpy2-3.5.1-cp310-cp310-linux_x86_64.whl size=314934 sha256=fd0a4e8884e9d689eeb7ca9803c3b2ab110254b2795d4205bed23d8a11e3b9e6\n",
            "  Stored in directory: /root/.cache/pip/wheels/73/a6/ff/4e75dd1ce1cfa2b9a670cbccf6a1e41c553199e9b25f05d953\n",
            "Successfully built rpy2\n",
            "Installing collected packages: rpy2\n",
            "Successfully installed rpy2-3.5.1\n"
          ]
        }
      ],
      "source": [
        "!pip uninstall rpy2 -y\n",
        "! pip install rpy2==3.5.1\n",
        "%load_ext rpy2.ipython"
      ]
    },
    {
      "cell_type": "markdown",
      "metadata": {
        "id": "qmEDD0ccEurf"
      },
      "source": [
        "##  Mount Google Drive\n",
        "\n",
        "Then you must create a folder in Goole drive named \"R\" to install all packages permanently. Before installing R-package in Python runtime. You have to mount Google Drive and follow on-screen instruction:"
      ]
    },
    {
      "cell_type": "code",
      "execution_count": 4,
      "metadata": {
        "id": "lClKZUW1Eu_G",
        "colab": {
          "base_uri": "https://localhost:8080/"
        },
        "outputId": "9124c651-6484-4460-837c-1c8f24a3db21"
      },
      "outputs": [
        {
          "output_type": "stream",
          "name": "stdout",
          "text": [
            "Mounted at /content/drive\n"
          ]
        }
      ],
      "source": [
        "from google.colab import drive\n",
        "drive.mount('/content/drive')"
      ]
    },
    {
      "cell_type": "markdown",
      "metadata": {
        "id": "oTvvrCXfF5AC"
      },
      "source": [
        "In this exercise, we will use the following R-packages:\n",
        "\n",
        "1.  [readxl](https://readxl.tidyverse.org/): to read MS **Excel** file.  usually comes with [tidyverse](https://www.tidyverse.org/)\n",
        "2.  [rjson](https://github.com/alexcb/rjson): to read **.json** file\n",
        "3.  [foreign](https://cran.r-project.org/web/packages/foreign/index.html): to read data stored by **Minitab**, **S**, **SAS**, **SPSS**, **Stata**, **Systat**, **dBase**, and so forth.\n",
        "4.  [haven](https://haven.tidyverse.org/): read and write data from different statistical packages. It usually comes with [tidyverse](https://www.tidyverse.org/)"
      ]
    },
    {
      "cell_type": "code",
      "source": [
        "%%R\n",
        "pkg <- c('readxl','rjson', 'foreign', 'haven')\n",
        "new.packages <- pkg[!(pkg %in% installed.packages(lib='drive/My Drive/R/')[,\"Package\"])]\n",
        "if(length(new.packages)) install.packages(new.packages, lib='drive/My Drive/R/')"
      ],
      "metadata": {
        "id": "Nan0amGMyBv5"
      },
      "execution_count": 5,
      "outputs": []
    },
    {
      "cell_type": "markdown",
      "source": [
        "## Laod Libaray"
      ],
      "metadata": {
        "id": "1ldcblnJYfks"
      }
    },
    {
      "cell_type": "code",
      "source": [
        "%%R\n",
        "# set library path\n",
        ".libPaths('drive/My Drive/R')\n",
        "library(readxl)\n",
        "library(rjson)\n",
        "library(foreign)\n",
        "library(haven)"
      ],
      "metadata": {
        "id": "nCnpYUs9YftD"
      },
      "execution_count": 7,
      "outputs": []
    },
    {
      "cell_type": "markdown",
      "source": [
        "## Data\n",
        "\n",
        "\n",
        "All data set use in this exercise can be downloaded from my [Dropbox](https://www.dropbox.com/scl/fo/fohioij7h503duitpl040/h?rlkey=3voumajiklwhgqw75fe8kby3o&dl=0) or from my [Github](https://github.com/zia207/r-colab/tree/main/Data/R_Beginners) accounts.\n",
        "\n",
        "It would be best if you created a working directory in R to read and write files locally. The following example shows how to create the working directory in R.\n",
        "\n",
        "Before creating a working directory, you may check the directory of your current R session; the function **getwd()** will print the current working directory path as a string.\n",
        "\n",
        "If you want to change the working directory in R you just need to call the **setwd()** function, specifying as argument the path of the new working directory folder.\n",
        "\n",
        "> setwd(\"F:\\\\R-Project\")\n",
        "\n",
        "> setwd(\"F:/R-Project\")\n",
        "\n",
        "Remember that you must use the forward slash **/** or double backslash **\\\\** in R! The Windows format of single backslash will not work.\n",
        "\n",
        "The files under in a directory can check using **dir()** function\n",
        "\n",
        "> dir()"
      ],
      "metadata": {
        "id": "pcn48RSJ2Xnk"
      }
    },
    {
      "cell_type": "markdown",
      "metadata": {
        "id": "mOk85Ol6GQfH"
      },
      "source": [
        "## Importing data using R-Studio IDE\n",
        "\n",
        "Importing data into R becomes time-intensive. The easiest way to import data into R is by using RStudio IDE. This feature can be accessed from the **Environment pane** or from the **tools menu**. The importers are grouped into three categories: Text data, Excel data, and statistical data. The details can be found [here](https://support.posit.co/hc/en-us/articles/218611977-Importing-Data-with-the-RStudio-IDE).\n"
      ]
    },
    {
      "cell_type": "markdown",
      "source": [
        "To access this feature, use the \"Import Dataset\" dropdown from the \"Environment\" pane:\n",
        "\n"
      ],
      "metadata": {
        "id": "bq9U2wHv7ZRr"
      }
    },
    {
      "cell_type": "markdown",
      "source": [
        "![alt text](http://drive.google.com/uc?export=view&id=1nRZoZ5qU-jzpC3n0FAk63VVqQHCFVDaH)\n",
        "\n",
        "\n",
        "\n",
        "\n"
      ],
      "metadata": {
        "id": "44DCrUHI8bkX"
      }
    },
    {
      "cell_type": "markdown",
      "source": [
        "Or through the \"File\" menu, followed by the \"Import Dataset\" submenu:\n",
        "\n"
      ],
      "metadata": {
        "id": "azTkcZ1c8b34"
      }
    },
    {
      "cell_type": "markdown",
      "source": [
        "![alt text](http://drive.google.com/uc?export=view&id=1nKfmrVXro6rSlCizhJXF_rS6ZFIldNUn)\n",
        "\n"
      ],
      "metadata": {
        "id": "NJsri85Rx7Mp"
      }
    },
    {
      "cell_type": "markdown",
      "metadata": {
        "id": "IrmMavWXGoM_"
      },
      "source": [
        "## Read Text File (.txt)\n",
        "\n",
        "The easiest form of data to import into R is a simple text file. The primary function to import from a text file is **read.table()**.\n",
        "\n",
        "> read.table(file, header = FALSE, sep = \"\", quote =\"\"'\",.....)"
      ]
    },
    {
      "cell_type": "code",
      "execution_count": null,
      "metadata": {
        "colab": {
          "base_uri": "https://localhost:8080/"
        },
        "id": "gXfSYaGPGpbl",
        "outputId": "66903b06-7510-4b77-d332-e619811fbe4a"
      },
      "outputs": [
        {
          "output_type": "stream",
          "name": "stdout",
          "text": [
            "   ID treat  var rep    PH   TN   PN   GW ster   DTM   SW   GAs  STAs\n",
            "1 Low    As BR01   1  84.0 28.3 27.7 35.7 20.5 126.0 28.4 0.762 14.60\n",
            "2 Low    As BR01   2 111.7 34.0 30.0 58.1 14.8 119.0 36.7 0.722 10.77\n",
            "3 Low    As BR01   3 102.3 27.7 24.0 44.6  5.8 119.7 32.9 0.858 12.69\n",
            "4 Low    As BR06   1 118.0 23.3 19.7 46.4 20.3 119.0 40.0 1.053 18.23\n",
            "5 Low    As BR06   2 115.3 16.7 12.3 19.9 32.3 120.0 28.2 1.130 13.72\n",
            "6 Low    As BR06   3 111.0 19.0 15.3 35.9 14.9 116.3 42.3 1.011 15.97\n"
          ]
        }
      ],
      "source": [
        "%%R\n",
        "# read .txt file\n",
        "df.txt<-read.table(\"/content/drive/MyDrive/R_Website/R_Bigenner/Data/test_data.txt\", header= TRUE)\n",
        "head(df.txt)"
      ]
    },
    {
      "cell_type": "markdown",
      "source": [
        "Or you can driectly load data directly from my [Github data folder](https://github.com/zia207/r-colab/raw/main/Data/R_Beginners/test_data.txt) using following code:"
      ],
      "metadata": {
        "id": "QoRpKaVp-gRC"
      }
    },
    {
      "cell_type": "code",
      "source": [
        "%%R\n",
        "df.txt<-read.table(\"https://github.com/zia207/r-colab/raw/main/Data/R_Beginners/test_data.txt\",\n",
        "                    header= TRUE)\n",
        "head(df.txt)"
      ],
      "metadata": {
        "colab": {
          "base_uri": "https://localhost:8080/"
        },
        "id": "CBXiV8FK9zHJ",
        "outputId": "e64dc2f6-69f7-46ac-ff43-28abe6a2ff1f"
      },
      "execution_count": null,
      "outputs": [
        {
          "output_type": "stream",
          "name": "stdout",
          "text": [
            "   ID treat  var rep    PH   TN   PN   GW ster   DTM   SW   GAs  STAs\n",
            "1 Low    As BR01   1  84.0 28.3 27.7 35.7 20.5 126.0 28.4 0.762 14.60\n",
            "2 Low    As BR01   2 111.7 34.0 30.0 58.1 14.8 119.0 36.7 0.722 10.77\n",
            "3 Low    As BR01   3 102.3 27.7 24.0 44.6  5.8 119.7 32.9 0.858 12.69\n",
            "4 Low    As BR06   1 118.0 23.3 19.7 46.4 20.3 119.0 40.0 1.053 18.23\n",
            "5 Low    As BR06   2 115.3 16.7 12.3 19.9 32.3 120.0 28.2 1.130 13.72\n",
            "6 Low    As BR06   3 111.0 19.0 15.3 35.9 14.9 116.3 42.3 1.011 15.97\n"
          ]
        }
      ]
    },
    {
      "cell_type": "markdown",
      "source": [
        "However, **scan()** function could be used to scan and read data. It is usually used to read data into vector or list or from file in R Language.\n",
        "\n",
        "> scan(scan(file = \"\", what = double(), nmax = -1, n = -1, sep =\"\",..)"
      ],
      "metadata": {
        "id": "DtUOksnbCl6B"
      }
    },
    {
      "cell_type": "code",
      "execution_count": null,
      "metadata": {
        "colab": {
          "base_uri": "https://localhost:8080/"
        },
        "id": "6Lm8_XGaG8Il",
        "outputId": "2cf28671-61ff-4174-967a-02c326b4cc9d"
      },
      "outputs": [
        {
          "output_type": "stream",
          "name": "stderr",
          "text": [
            "WARNING:rpy2.rinterface_lib.callbacks:R[write to console]: Read 201 records\n",
            "\n"
          ]
        }
      ],
      "source": [
        "%%R\n",
        "# Scan data\n",
        "df.scan<-scan(\"https://github.com/zia207/r-colab/raw/main/Data/R_Beginners/test_data.txt\",  what = list(\"\", \"\", \"\"))"
      ]
    },
    {
      "cell_type": "markdown",
      "source": [
        "## Read Comma-Separated File (.csv)\n",
        "\n",
        "A comma delimited or comma-separated file (CSV) is one where each value in the file is separated by a comma, although other characters can be used. Reading data from a CSV file is made easy by the **read.csv()**, an extension of **read.table()**. It facilitates the direct import of data from CSV"
      ],
      "metadata": {
        "id": "SqJQoPMbC4sA"
      }
    },
    {
      "cell_type": "code",
      "execution_count": null,
      "metadata": {
        "colab": {
          "base_uri": "https://localhost:8080/"
        },
        "id": "dKU4UEAtHTHd",
        "outputId": "4cddee6d-07f5-4977-f354-f177448cdbb0"
      },
      "outputs": [
        {
          "output_type": "stream",
          "name": "stdout",
          "text": [
            "  ID  treat  var rep    PH   TN   PN   GW ster   DTM   SW   GAs  STAs\n",
            "1  1 Low As BR01   1  84.0 28.3 27.7 35.7 20.5 126.0 28.4 0.762 14.60\n",
            "2  2 Low As BR01   2 111.7 34.0 30.0 58.1 14.8 119.0 36.7 0.722 10.77\n",
            "3  3 Low As BR01   3 102.3 27.7 24.0 44.6  5.8 119.7 32.9 0.858 12.69\n",
            "4  4 Low As BR06   1 118.0 23.3 19.7 46.4 20.3 119.0 40.0 1.053 18.23\n",
            "5  5 Low As BR06   2 115.3 16.7 12.3 19.9 32.3 120.0 28.2 1.130 13.72\n",
            "6  6 Low As BR06   3 111.0 19.0 15.3 35.9 14.9 116.3 42.3 1.011 15.97\n"
          ]
        }
      ],
      "source": [
        "%%R\n",
        "df.csv<-read.csv(\"/content/drive/MyDrive/R_Website/R_Bigenner/Data/test_data.csv\", header= TRUE)\n",
        "head(df.csv)"
      ]
    },
    {
      "cell_type": "markdown",
      "source": [
        "Or you can driectly load data directly from my Github data folder using following code:"
      ],
      "metadata": {
        "id": "IBv57CQV1ZKR"
      }
    },
    {
      "cell_type": "code",
      "source": [
        "%%R\n",
        "df.csv<-read.csv(\"https://github.com/zia207/r-colab/raw/main/Data/R_Beginners/test_data.csv\",\n",
        "                  header= TRUE)\n",
        "head(df.csv)"
      ],
      "metadata": {
        "colab": {
          "base_uri": "https://localhost:8080/"
        },
        "id": "NKhJzcrC0lGY",
        "outputId": "c4e7f6ae-0caa-40b4-dd3b-28304e91b3e9"
      },
      "execution_count": null,
      "outputs": [
        {
          "output_type": "stream",
          "name": "stdout",
          "text": [
            "  ID  treat  var rep    PH   TN   PN   GW ster   DTM   SW   GAs  STAs\n",
            "1  1 Low As BR01   1  84.0 28.3 27.7 35.7 20.5 126.0 28.4 0.762 14.60\n",
            "2  2 Low As BR01   2 111.7 34.0 30.0 58.1 14.8 119.0 36.7 0.722 10.77\n",
            "3  3 Low As BR01   3 102.3 27.7 24.0 44.6  5.8 119.7 32.9 0.858 12.69\n",
            "4  4 Low As BR06   1 118.0 23.3 19.7 46.4 20.3 119.0 40.0 1.053 18.23\n",
            "5  5 Low As BR06   2 115.3 16.7 12.3 19.9 32.3 120.0 28.2 1.130 13.72\n",
            "6  6 Low As BR06   3 111.0 19.0 15.3 35.9 14.9 116.3 42.3 1.011 15.97\n"
          ]
        }
      ]
    },
    {
      "cell_type": "markdown",
      "source": [
        "## Excel Files (.xlsx)\n",
        "\n",
        "If you want to get data from Excel into R, one of the easiest ways to do it is to export the Excel file to a CSV file and then import it using the above method. But if you don't want to do that, you can use the 'readxl' package. It's easy to use since it has no extra dependencies, so thato you can install it on any operating system.\n",
        "\n",
        "**readxl** supports both the legacy .xls format and the modern xml-based .xlsx format. The libxls C library is used to support .xls, which abstracts away many of the complexities of the underlying binary format. To parse .xlsx, we use the RapidXML C++ library.\n",
        "\n",
        "**read_excel()** reads both xls and xlsx files and detects the format from the extension."
      ],
      "metadata": {
        "id": "LoHVxqxLz9UZ"
      }
    },
    {
      "cell_type": "code",
      "source": [
        "%%R\n",
        "df.xl <- readxl::read_excel(\"/content/drive/MyDrive/R_Website/R_Bigenner/Data/test_data.xlsx\", 1)\n",
        "head(df.xl)"
      ],
      "metadata": {
        "colab": {
          "base_uri": "https://localhost:8080/"
        },
        "id": "zh615aRi0Ev4",
        "outputId": "790d17ec-28a3-4c3d-aa4e-2259342130f8"
      },
      "execution_count": null,
      "outputs": [
        {
          "output_type": "stream",
          "name": "stdout",
          "text": [
            "# A tibble: 6 × 13\n",
            "     ID treat  var     rep    PH    TN    PN    GW  ster   DTM    SW   GAs  STAs\n",
            "  <dbl> <chr>  <chr> <dbl> <dbl> <dbl> <dbl> <dbl> <dbl> <dbl> <dbl> <dbl> <dbl>\n",
            "1     1 Low As BR01      1   84   28.3  27.7  35.7  20.5  126   28.4 0.762  14.6\n",
            "2     2 Low As BR01      2  112.  34    30    58.1  14.8  119   36.7 0.722  10.8\n",
            "3     3 Low As BR01      3  102.  27.7  24    44.6   5.8  120.  32.9 0.858  12.7\n",
            "4     4 Low As BR06      1  118   23.3  19.7  46.4  20.3  119   40   1.05   18.2\n",
            "5     5 Low As BR06      2  115.  16.7  12.3  19.9  32.3  120   28.2 1.13   13.7\n",
            "6     6 Low As BR06      3  111   19    15.3  35.9  14.9  116.  42.3 1.01   16.0\n"
          ]
        }
      ]
    },
    {
      "cell_type": "markdown",
      "source": [
        "## JSON Files (.json)\n",
        "\n",
        "JSON is an open standard file and lightweight data-interchange format that stands for *J*ava*S*cript *O*bject *N*otation. The JSON file is a text file that is language independent, self-describing, and easy to understand.\n",
        "\n",
        "The JSON file is read by R as a **list** using the function **fromJSON()** of **rjson** package."
      ],
      "metadata": {
        "id": "l1vfNT2E3YY9"
      }
    },
    {
      "cell_type": "code",
      "source": [
        "%%R\n",
        "dataFolder<-\"/content/drive/MyDrive/R_Website/R_Bigenner/Data/\"\n",
        "# read .json file\n",
        "df.json <- rjson::fromJSON(file= paste0(dataFolder, \"test_data.json\"),  simplify=TRUE)\n",
        "print(df.json)"
      ],
      "metadata": {
        "id": "1e7cYHTK5LO9"
      },
      "execution_count": null,
      "outputs": []
    },
    {
      "cell_type": "markdown",
      "source": [
        "We can convert to data frame"
      ],
      "metadata": {
        "id": "iHCT14aE5nmP"
      }
    },
    {
      "cell_type": "code",
      "source": [
        "%%R\n",
        "df.json <- as.data.frame(df.json)\n",
        "head(df.json)"
      ],
      "metadata": {
        "colab": {
          "base_uri": "https://localhost:8080/"
        },
        "id": "RjFh0Wg-5nZg",
        "outputId": "c2ac7e87-c587-4ad1-9233-3788755e10c3"
      },
      "execution_count": null,
      "outputs": [
        {
          "output_type": "stream",
          "name": "stdout",
          "text": [
            "  ID  treat  var rep    PH   TN   PN   GW ster   DTM   SW   GAs  STAs\n",
            "1  1 Low As BR01   1  84.0 28.3 27.7 35.7 20.5 126.0 28.4 0.762 14.60\n",
            "2  2 Low As BR01   2 111.7 34.0 30.0 58.1 14.8 119.0 36.7 0.722 10.77\n",
            "3  3 Low As BR01   3 102.3 27.7 24.0 44.6  5.8 119.7 32.9 0.858 12.69\n",
            "4  4 Low As BR06   1 118.0 23.3 19.7 46.4 20.3 119.0 40.0 1.053 18.23\n",
            "5  5 Low As BR06   2 115.3 16.7 12.3 19.9 32.3 120.0 28.2 1.130 13.72\n",
            "6  6 Low As BR06   3 111.0 19.0 15.3 35.9 14.9 116.3 42.3 1.011 15.97\n"
          ]
        }
      ]
    },
    {
      "cell_type": "markdown",
      "source": [
        "## Import Data from Other Statistical Software\n",
        "\n",
        "**foreign** packages is mostly used to read data stored by **Minitab**, **S**, **SAS**, **SPSS**, **Stata**, **Systat**, **dBase**, and so forth.\n",
        "\n",
        "**Haven** enables R to read and write various data formats used by other statistical packages by wrapping with [ReadStat](https://github.com/WizardMac/ReadStat) C library. written b Haven is part of the tidyverse. Current it support **SAS**, **SPSS** and **Stata** files\n",
        "\n",
        "read.dta() function from **foreign** package can reads a file in Stata version 5-12 binary format (.dta) into a data frame."
      ],
      "metadata": {
        "id": "tSo8Vwdd6A-w"
      }
    },
    {
      "cell_type": "markdown",
      "source": [
        "### Read STATA File (.dta)"
      ],
      "metadata": {
        "id": "QZbz3R8n6QI5"
      }
    },
    {
      "cell_type": "code",
      "source": [
        "%%R\n",
        "dataFolder<-\"/content/drive/MyDrive/R_Website/R_Bigenner/Data/\"\n",
        "# Foreign - read.dta()\n",
        "df.dta_01 <- foreign::read.dta(paste0(dataFolder,\"test_data.dta\"))\n",
        "# Haven - read_dta()\n",
        "df.dta_02 <- haven::read_dta(paste0(dataFolder,\"test_data.dta\"))\n",
        "head(df.dta_02)"
      ],
      "metadata": {
        "colab": {
          "base_uri": "https://localhost:8080/"
        },
        "id": "mOuTgYNI6Ugi",
        "outputId": "0ccd8482-8b90-4c70-c8d2-18ee5b6247a4"
      },
      "execution_count": null,
      "outputs": [
        {
          "output_type": "stream",
          "name": "stdout",
          "text": [
            "# A tibble: 6 × 13\n",
            "     ID treat  var     rep    PH    TN    PN    GW  ster   DTM    SW   GAs  STAs\n",
            "  <dbl> <chr>  <chr> <dbl> <dbl> <dbl> <dbl> <dbl> <dbl> <dbl> <dbl> <dbl> <dbl>\n",
            "1     1 Low As BR01      1   84   28.3  27.7  35.7  20.5  126   28.4 0.762  14.6\n",
            "2     2 Low As BR01      2  112.  34    30    58.1  14.8  119   36.7 0.722  10.8\n",
            "3     3 Low As BR01      3  102.  27.7  24    44.6   5.8  120.  32.9 0.858  12.7\n",
            "4     4 Low As BR06      1  118   23.3  19.7  46.4  20.3  119   40   1.05   18.2\n",
            "5     5 Low As BR06      2  115.  16.7  12.3  19.9  32.3  120   28.2 1.13   13.7\n",
            "6     6 Low As BR06      3  111   19    15.3  35.9  14.9  116.  42.3 1.01   16.0\n"
          ]
        }
      ]
    },
    {
      "cell_type": "markdown",
      "source": [
        "### Read SPSS File (.sav)"
      ],
      "metadata": {
        "id": "pfzxWJ246wwf"
      }
    },
    {
      "cell_type": "code",
      "source": [
        "%%R\n",
        "dataFolder<-\"/content/drive/MyDrive/R_Website/R_Bigenner/Data/\"\n",
        "# Foreign - read.spss()\n",
        "df.sav_01 <- foreign::read.spss(paste0(dataFolder,\"test_data.sav\"))\n",
        "# Haven - read_sav()\n",
        "df.sav_02 <- haven::read_sav(paste0(dataFolder,\"test_data.sav\"))\n",
        "head(df.sav_02)"
      ],
      "metadata": {
        "colab": {
          "base_uri": "https://localhost:8080/"
        },
        "id": "hFXtvic563B2",
        "outputId": "4429cfa6-b662-47dc-c2b3-bb6a2dd642a3"
      },
      "execution_count": null,
      "outputs": [
        {
          "output_type": "stream",
          "name": "stdout",
          "text": [
            "# A tibble: 6 × 13\n",
            "     ID treat  var     rep    PH    TN    PN    GW  ster   DTM    SW   GAs  STAs\n",
            "  <dbl> <chr>  <chr> <dbl> <dbl> <dbl> <dbl> <dbl> <dbl> <dbl> <dbl> <dbl> <dbl>\n",
            "1     1 Low As BR01      1   84   28.3  27.7  35.7  20.5  126   28.4 0.762  14.6\n",
            "2     2 Low As BR01      2  112.  34    30    58.1  14.8  119   36.7 0.722  10.8\n",
            "3     3 Low As BR01      3  102.  27.7  24    44.6   5.8  120.  32.9 0.858  12.7\n",
            "4     4 Low As BR06      1  118   23.3  19.7  46.4  20.3  119   40   1.05   18.2\n",
            "5     5 Low As BR06      2  115.  16.7  12.3  19.9  32.3  120   28.2 1.13   13.7\n",
            "6     6 Low As BR06      3  111   19    15.3  35.9  14.9  116.  42.3 1.01   16.0\n"
          ]
        }
      ]
    },
    {
      "cell_type": "markdown",
      "source": [
        "### Read SAS File (.sas7bdat)\n",
        "\n",
        "**read_sas()** function from haven package can read sas (.sas7bdat) file easily."
      ],
      "metadata": {
        "id": "mMaUFPt87U-G"
      }
    },
    {
      "cell_type": "code",
      "source": [
        "%%R\n",
        "# read .sas7bdat file\n",
        "df.sas <- haven::read_sas(paste0(dataFolder,\"test_data.sas7bdat\"))\n",
        "head(df.sas)"
      ],
      "metadata": {
        "colab": {
          "base_uri": "https://localhost:8080/"
        },
        "id": "Jy6k8tga7bwk",
        "outputId": "e172bb27-fba9-4100-bec1-dd721a97260e"
      },
      "execution_count": null,
      "outputs": [
        {
          "output_type": "stream",
          "name": "stdout",
          "text": [
            "# A tibble: 6 × 13\n",
            "     ID treat  var     rep    PH    TN    PN    GW  ster   DTM    SW   GAs  STAs\n",
            "  <dbl> <chr>  <chr> <dbl> <dbl> <dbl> <dbl> <dbl> <dbl> <dbl> <dbl> <dbl> <dbl>\n",
            "1     1 Low As BR01      1   84   28.3  27.7  35.7  20.5  126   28.4 0.762  14.6\n",
            "2     2 Low As BR01      2  112.  34    30    58.1  14.8  119   36.7 0.722  10.8\n",
            "3     3 Low As BR01      3  102.  27.7  24    44.6   5.8  120.  32.9 0.858  12.7\n",
            "4     4 Low As BR06      1  118   23.3  19.7  46.4  20.3  119   40   1.05   18.2\n",
            "5     5 Low As BR06      2  115.  16.7  12.3  19.9  32.3  120   28.2 1.13   13.7\n",
            "6     6 Low As BR06      3  111   19    15.3  35.9  14.9  116.  42.3 1.01   16.0\n"
          ]
        }
      ]
    },
    {
      "cell_type": "markdown",
      "metadata": {
        "id": "0Ovc25MJTsD8"
      },
      "source": [
        "## Further Reading\n",
        "\n",
        "1.  [How do I read data into R?](https://www.datafiles.samhsa.gov/get-help/format-specific-issues/how-do-i-read-data-r)\n",
        "\n",
        "2.  [R Coder](https://r-coder.com/export-data-r/)\n",
        "\n",
        "3.  [Introduction to bioinformatics](https://uclouvain-cbio.github.io/WSBIM1207/sec-bioinfo.html)\n",
        "\n",
        "4.  [Many Ways of Reading Data Into R --- 1](https://medium.com/analytics-vidhya/many-ways-of-reading-data-into-r-1-52b02825cb27)"
      ]
    }
  ],
  "metadata": {
    "colab": {
      "provenance": [],
      "authorship_tag": "ABX9TyN/+alXeAtbB77POL+RRaQi",
      "include_colab_link": true
    },
    "kernelspec": {
      "display_name": "Python 3",
      "name": "python3"
    },
    "language_info": {
      "name": "python"
    }
  },
  "nbformat": 4,
  "nbformat_minor": 0
}