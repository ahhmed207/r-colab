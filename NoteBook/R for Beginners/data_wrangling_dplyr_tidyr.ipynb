{
  "nbformat": 4,
  "nbformat_minor": 0,
  "metadata": {
    "colab": {
      "provenance": [],
      "authorship_tag": "ABX9TyP8Zvd3W1v1dcIvl8JPPQRn",
      "include_colab_link": true
    },
    "kernelspec": {
      "name": "python3",
      "display_name": "Python 3"
    },
    "language_info": {
      "name": "python"
    }
  },
  "cells": [
    {
      "cell_type": "markdown",
      "metadata": {
        "id": "view-in-github",
        "colab_type": "text"
      },
      "source": [
        "<a href=\"https://colab.research.google.com/github/zia207/r-colab/blob/main/NoteBook/R%20for%20Beginners/data_wrangling_dplyr_tidyr.ipynb\" target=\"_parent\"><img src=\"https://colab.research.google.com/assets/colab-badge.svg\" alt=\"Open In Colab\"/></a>"
      ]
    },
    {
      "cell_type": "markdown",
      "source": [
        "# Data Wrangling with dplyr and tidyr\n",
        "\n",
        "Zia AHMED, University Buffalo"
      ],
      "metadata": {
        "id": "BCRHzO46q_nO"
      }
    },
    {
      "cell_type": "markdown",
      "source": [
        "In the upcoming section, you will delve deeper into data manipulation using two of the most widely used and versatile R-packages: **tidyr** and **dplyr**. Both these packages are part of the [tidyverse](https://www.tidyverse.org/), a comprehensive suite of R packages specially designed for data science applications. By mastering the functionalists of these two packages, you will be able to seamlessly transform, clean, and manipulate data in a streamlined and efficient manner. The **tidyr** package provides a set of tools to tidy data in a consistent and structured manner. In contrast, the **dplyr** package offers a range of functions to filter, sort, group, and summarize data frames efficiently. With the combined power of these two packages, you will be well-equipped to handle complex data manipulation tasks and derive meaningful insights from your data."
      ],
      "metadata": {
        "id": "pgLz4ILRrG4l"
      }
    },
    {
      "cell_type": "markdown",
      "source": [
        "### **tidyr - Package**\n",
        "\n",
        "[**tidyr**](https://tidyr.tidyverse.org/) is a powerful data manipulation package that enables users to create **tidy** data, a specific format that makes it easy to work with, model, and visualize data. Tidy data follows a set of principles for organizing data into tables, where each column represents a variable, and each row represents an observation. The variables should have clear, descriptive names that are easy to understand, and the observations should be organized in a logical order. Tidy data is essential because it makes it easier to perform data analysis and visualization. Data in this format can be easily filtered, sorted, and summarized, which is particularly important when working with large datasets. Moreover, it allows users to apply a wide range of data analysis techniques, including regression, clustering, and machine learning, without having to worry about data formatting issues. Tidy data is the preferred format for many data analysis tools and techniques, including the popular R programming language.\n",
        "\n",
        "![alt text](http://drive.google.com/uc?export=view&id=1s2ve_z1T_bXG4BXNUjyHWkvsg4HJHnMh)\n",
        "\n",
        "**tidyr**, package provides a suite of functions for cleaning, reshaping, and transforming data into a tidy format. It allows users to split, combine, and pivot data frames, which are essential operations when working with messy data. Overall, tidyr is a powerful tool that helps users to create tidy data, which is a structured and organized format that makes it easier to analyze and visualize data. Tidy data is a fundamental concept in data science and is widely used in many data analysis tools and techniques.\n",
        "\n",
        "**tidyr** functions fall into five main categories:\n",
        "\n",
        "-   **Pivotting** which converts between long(**pivot_longer()**) and wide forms (**pivot_wider()**), replacing\n",
        "\n",
        "-   **Rectangling**, which turns deeply nested lists (as from JSON) into tidy tibbles.\n",
        "\n",
        "-   **Nesting** converts grouped data to a form where each group becomes a single row containing a nested data frame\n",
        "\n",
        "-   **Splitting and combining character columns**. Use **separate()** and **extract()** to pull a single character column into multiple columns;\n",
        "\n",
        "-   Make implicit missing values explicit with **complete()**; make explicit missing values implicit with **drop_na()**; replace missing values with next/previous value with **fill()**, or a known value with **replace_na()**."
      ],
      "metadata": {
        "id": "M2zEdeqyrWmM"
      }
    },
    {
      "cell_type": "markdown",
      "source": [
        "### **dplyr - Package**\n",
        "\n",
        "[**dplyr**](https://dplyr.tidyverse.org/) provides data manipulation grammar and a set of functions to efficiently clean, process, and aggregate data. It offers a tibble data structure, which is similar to a data frame but designed for easier use and better efficiency. Also, it provides a set of verbs for data manipulation, such as filter(), arrange(), select(), mutate(), and summarize(), to perform various data operations. Additionally, dplyr has a chainable syntax with pipe (%\\>% or \\|\\>), making it easy to execute multiple operations in a single line of code. Finally, it also supports working with remote data sources, including databases and big data systems.\n",
        "\n",
        "![alt text](http://drive.google.com/uc?export=view&id=1rzkAr_dhjcJKHgn9ae_4No8_BR7_W3xw)\n",
        "\n",
        "In addition to data frames/tibbles, dplyr makes working with following packages:\n",
        "\n",
        "[**dtplyr**](https://dtplyr.tidyverse.org/): for large, in-memory datasets. Translates your dplyr code to high performance data.table code.\n",
        "\n",
        "[**dbplyr**](https://dbplyr.tidyverse.org/): for data stored in a relational database. Translates your dplyr code to SQL.\n",
        "\n",
        "[**sparklyr**](https://spark.rstudio.com/): for very large datasets stored in Apache Spark.\n",
        "\n",
        "### Cheat-sheet\n",
        "\n",
        "Here below data Wrangling with [dplyr and tidyr Cheat Sheets](https://www.rstudio.com/wp-content/uploads/2015/02/data-wrangling-cheatsheet.pdf):\n",
        "\n",
        "![Data Wragling with dplyrand tidyr Cheat sheet-2](Image/data_wragling%20cheat_sheet_01.png){#fig-dplyr_tidyr_01}\n",
        "\n",
        "![Data Wragling with dplyrand tidyr Cheat sheet-1](Image/data_wragling%20cheat_sheet_02.png){fig-dplyr_tidyr_02}\n",
        "\n",
        "In addition to tidyr, and dplyr, there are five packages (including stringr and forcats) which are designed to work with specific types of data:\n",
        "\n",
        "-   **lubridate** for dates and date-times.\n",
        "\n",
        "-   **hms** for time-of-day values.\n",
        "\n",
        "-   **blob** for storing blob (binary) data"
      ],
      "metadata": {
        "id": "vj5ihvPIrnAl"
      }
    },
    {
      "cell_type": "code",
      "execution_count": null,
      "metadata": {
        "id": "sjOZglh3qlYP"
      },
      "outputs": [],
      "source": []
    }
  ]
}