{
  "nbformat": 4,
  "nbformat_minor": 0,
  "metadata": {
    "colab": {
      "provenance": [],
      "toc_visible": true,
      "authorship_tag": "ABX9TyOE9EWwMXLHRGegIrWZawIj",
      "include_colab_link": true
    },
    "kernelspec": {
      "name": "python3",
      "display_name": "Python 3"
    },
    "language_info": {
      "name": "python"
    }
  },
  "cells": [
    {
      "cell_type": "markdown",
      "metadata": {
        "id": "view-in-github",
        "colab_type": "text"
      },
      "source": [
        "<a href=\"https://colab.research.google.com/github/zia207/r-colab/blob/main/NoteBook/R%20for%20Beginners/data_wrangling_dplyr_tidyr.ipynb\" target=\"_parent\"><img src=\"https://colab.research.google.com/assets/colab-badge.svg\" alt=\"Open In Colab\"/></a>"
      ]
    },
    {
      "cell_type": "markdown",
      "source": [
        "# Data Wrangling with dplyr and tidyr\n",
        "\n",
        "Zia AHMED, University Buffalo"
      ],
      "metadata": {
        "id": "BCRHzO46q_nO"
      }
    },
    {
      "cell_type": "markdown",
      "source": [
        "In the upcoming section, you will delve deeper into data manipulation using two of the most widely used and versatile R-packages: **tidyr** and **dplyr**. Both these packages are part of the [tidyverse](https://www.tidyverse.org/), a comprehensive suite of R packages specially designed for data science applications. By mastering the functionalists of these two packages, you will be able to seamlessly transform, clean, and manipulate data in a streamlined and efficient manner. The **tidyr** package provides a set of tools to tidy data in a consistent and structured manner. In contrast, the **dplyr** package offers a range of functions to filter, sort, group, and summarize data frames efficiently. With the combined power of these two packages, you will be well-equipped to handle complex data manipulation tasks and derive meaningful insights from your data."
      ],
      "metadata": {
        "id": "pgLz4ILRrG4l"
      }
    },
    {
      "cell_type": "markdown",
      "source": [
        "### **tidyr - Package**\n",
        "\n",
        "[**tidyr**](https://tidyr.tidyverse.org/) is a powerful data manipulation package that enables users to create **tidy** data, a specific format that makes it easy to work with, model, and visualize data. Tidy data follows a set of principles for organizing data into tables, where each column represents a variable, and each row represents an observation. The variables should have clear, descriptive names that are easy to understand, and the observations should be organized in a logical order. Tidy data is essential because it makes it easier to perform data analysis and visualization. Data in this format can be easily filtered, sorted, and summarized, which is particularly important when working with large datasets. Moreover, it allows users to apply a wide range of data analysis techniques, including regression, clustering, and machine learning, without having to worry about data formatting issues. Tidy data is the preferred format for many data analysis tools and techniques, including the popular R programming language.\n",
        "\n",
        "![alt text](http://drive.google.com/uc?export=view&id=1s2ve_z1T_bXG4BXNUjyHWkvsg4HJHnMh)\n",
        "\n",
        "**tidyr**, package provides a suite of functions for cleaning, reshaping, and transforming data into a tidy format. It allows users to split, combine, and pivot data frames, which are essential operations when working with messy data. Overall, tidyr is a powerful tool that helps users to create tidy data, which is a structured and organized format that makes it easier to analyze and visualize data. Tidy data is a fundamental concept in data science and is widely used in many data analysis tools and techniques.\n",
        "\n",
        "**tidyr** functions fall into five main categories:\n",
        "\n",
        "-   **Pivotting** which converts between long(**pivot_longer()**) and wide forms (**pivot_wider()**), replacing\n",
        "\n",
        "-   **Rectangling**, which turns deeply nested lists (as from JSON) into tidy tibbles.\n",
        "\n",
        "-   **Nesting** converts grouped data to a form where each group becomes a single row containing a nested data frame\n",
        "\n",
        "-   **Splitting and combining character columns**. Use **separate()** and **extract()** to pull a single character column into multiple columns;\n",
        "\n",
        "-   Make implicit missing values explicit with **complete()**; make explicit missing values implicit with **drop_na()**; replace missing values with next/previous value with **fill()**, or a known value with **replace_na()**."
      ],
      "metadata": {
        "id": "M2zEdeqyrWmM"
      }
    },
    {
      "cell_type": "markdown",
      "source": [
        "### **dplyr - Package**\n",
        "\n",
        "[**dplyr**](https://dplyr.tidyverse.org/) provides data manipulation grammar and a set of functions to efficiently clean, process, and aggregate data. It offers a tibble data structure, which is similar to a data frame but designed for easier use and better efficiency. Also, it provides a set of verbs for data manipulation, such as filter(), arrange(), select(), mutate(), and summarize(), to perform various data operations. Additionally, dplyr has a chainable syntax with pipe (%\\>% or \\|\\>), making it easy to execute multiple operations in a single line of code. Finally, it also supports working with remote data sources, including databases and big data systems.\n",
        "\n",
        "![alt text](http://drive.google.com/uc?export=view&id=1rzkAr_dhjcJKHgn9ae_4No8_BR7_W3xw)\n",
        "\n",
        "In addition to data frames/tibbles, dplyr makes working with following packages:\n",
        "\n",
        "[**dtplyr**](https://dtplyr.tidyverse.org/): for large, in-memory datasets. Translates your dplyr code to high performance data.table code.\n",
        "\n",
        "[**dbplyr**](https://dbplyr.tidyverse.org/): for data stored in a relational database. Translates your dplyr code to SQL.\n",
        "\n",
        "[**sparklyr**](https://spark.rstudio.com/): for very large datasets stored in Apache Spark.\n",
        "\n",
        "\n",
        "In addition to tidyr, and dplyr, there are five packages (including stringr and forcats) which are designed to work with specific types of data:\n",
        "\n",
        "-   **lubridate** for dates and date-times.\n",
        "\n",
        "-   **hms** for time-of-day values.\n",
        "\n",
        "-   **blob** for storing blob (binary) data"
      ],
      "metadata": {
        "id": "vj5ihvPIrnAl"
      }
    },
    {
      "cell_type": "markdown",
      "source": [
        "### Cheat-sheet\n",
        "\n",
        "Here below data Wrangling with [dplyr and tidyr Cheat Sheets](https://www.rstudio.com/wp-content/uploads/2015/02/data-wrangling-cheatsheet.pdf):\n",
        "\n",
        "![alt text](http://drive.google.com/uc?export=view&id=1mceCqNLcjsckcXod2BRuJx7pjAB9EBBz)"
      ],
      "metadata": {
        "id": "gGaWv3e9sb6N"
      }
    },
    {
      "cell_type": "markdown",
      "source": [
        "![alt text](http://drive.google.com/uc?export=view&id=1o04SlxwbZI9v3UJ8kqdb7Pw689fiyqdr)"
      ],
      "metadata": {
        "id": "XnL3wXU1sj5_"
      }
    },
    {
      "cell_type": "markdown",
      "source": [
        "## Install rpy2\n",
        "\n",
        "Easy way to run R in Colab with Python runtime using **rpy2** python package. We have to install this package using the `pip` command:"
      ],
      "metadata": {
        "id": "sUnOomm8spzN"
      }
    },
    {
      "cell_type": "code",
      "source": [
        "!pip uninstall rpy2 -y\n",
        "! pip install rpy2==3.5.1\n",
        "%load_ext rpy2.ipython"
      ],
      "metadata": {
        "id": "YWz_caZts02T"
      },
      "execution_count": null,
      "outputs": []
    },
    {
      "cell_type": "markdown",
      "source": [
        "##  Mount Google Drive\n",
        "\n",
        "Then you must create a folder in Goole drive named \"R\" to install all packages permanently. Before installing R-package in Python runtime. You have to mount Google Drive and follow on-screen instruction:"
      ],
      "metadata": {
        "id": "Zijt5D86tAwC"
      }
    },
    {
      "cell_type": "code",
      "source": [
        "from google.colab import drive\n",
        "drive.mount('/content/drive')"
      ],
      "metadata": {
        "colab": {
          "base_uri": "https://localhost:8080/"
        },
        "id": "HNfLPdrztBgs",
        "outputId": "7b05d4fa-eb90-4e0a-b41c-2492d86a6844"
      },
      "execution_count": 2,
      "outputs": [
        {
          "output_type": "stream",
          "name": "stdout",
          "text": [
            "Mounted at /content/drive\n"
          ]
        }
      ]
    },
    {
      "cell_type": "markdown",
      "source": [
        "## Check and Install Required R Packages"
      ],
      "metadata": {
        "id": "qyRISiZatLs4"
      }
    },
    {
      "cell_type": "code",
      "source": [
        "%%R\n",
        "pkg <- c('tidyverse')\n",
        "new.packages <- pkg[!(pkg %in% installed.packages(lib='drive/My Drive/R/')[,\"Package\"])]\n",
        "if(length(new.packages)) install.packages(new.packages, lib='drive/My Drive/R/')"
      ],
      "metadata": {
        "id": "seKozcRZtOj2"
      },
      "execution_count": null,
      "outputs": []
    },
    {
      "cell_type": "markdown",
      "source": [
        "## Load R package"
      ],
      "metadata": {
        "id": "jIN5G5GMtVjQ"
      }
    },
    {
      "cell_type": "code",
      "source": [
        "%%R\n",
        "# set library path\n",
        ".libPaths('drive/My Drive/R')\n",
        "library(tidyverse)"
      ],
      "metadata": {
        "colab": {
          "base_uri": "https://localhost:8080/"
        },
        "id": "2xF32WuqtVrE",
        "outputId": "ff9fc43c-70a5-4fd6-ce86-eed365914ebd"
      },
      "execution_count": 3,
      "outputs": [
        {
          "output_type": "stream",
          "name": "stdout",
          "text": [
            "── Attaching core tidyverse packages ──────────────────────── tidyverse 2.0.0 ──\n",
            "✔ dplyr     1.1.4     ✔ readr     2.1.4\n",
            "✔ forcats   1.0.0     ✔ stringr   1.5.1\n",
            "✔ ggplot2   3.4.4     ✔ tibble    3.2.1\n",
            "✔ lubridate 1.9.2     ✔ tidyr     1.3.0\n",
            "✔ purrr     1.0.2     \n",
            "── Conflicts ────────────────────────────────────────── tidyverse_conflicts() ──\n",
            "✖ dplyr::filter() masks stats::filter()\n",
            "✖ dplyr::lag()    masks stats::lag()\n",
            "ℹ Use the conflicted package (<http://conflicted.r-lib.org/>) to force all conflicts to become errors\n"
          ]
        }
      ]
    },
    {
      "cell_type": "markdown",
      "source": [
        "## Data\n",
        "\n",
        "In this exercise we will use following CSV files:\n",
        "\n",
        "1.  usa_division.csv: USA division names with IDs\n",
        "\n",
        "2.  usa_state.csv: USA State names with ID and division ID.\n",
        "\n",
        "3.  usa_corn_production.csv: USA grain crop production by state from 2012-2022\n",
        "\n",
        "4.  gp_soil_data.csv: Soil carbon with co-variate from four states in the Greatplain region in the USA\n",
        "\n",
        "5.  usa_geochemical_raw.csv: Soil geochemical data for the USA, but not cleaned\n",
        "\n",
        "All data set use in this exercise can be downloaded from my [Dropbox](https://www.dropbox.com/scl/fo/fohioij7h503duitpl040/h?rlkey=3voumajiklwhgqw75fe8kby3o&dl=0) or from my [Github](https://github.com/zia207/r-colab/tree/main/Data/R_Beginners) accounts.\n",
        "\n",
        "We will use `read_csv()` function of **readr** package to import data as a **tidy** data."
      ],
      "metadata": {
        "id": "K4dvpXFmtn22"
      }
    },
    {
      "cell_type": "code",
      "source": [
        "%%R\n",
        "div<-read_csv(\"https://github.com/zia207/r-colab/raw/main/Data/R_Beginners/usa_division.csv\")\n",
        "state<-read_csv(\"https://github.com/zia207/r-colab/raw/main/Data/R_Beginners/usa_state.csv\")\n",
        "corn<-read_csv(\"https://github.com/zia207/r-colab/raw/main/Data/R_Beginners/usa_corn_production.csv\")\n",
        "soil<-read_csv(\"https://github.com/zia207/r-colab/raw/main/Data/R_Beginners/gp_soil_data.csv\")\n",
        "head(soil)"
      ],
      "metadata": {
        "colab": {
          "base_uri": "https://localhost:8080/"
        },
        "id": "32G9cFVeuFm7",
        "outputId": "161926df-9238-4ff9-84aa-789e3751b598"
      },
      "execution_count": 4,
      "outputs": [
        {
          "output_type": "stream",
          "name": "stdout",
          "text": [
            "Rows: 9 Columns: 2\n",
            "── Column specification ────────────────────────────────────────────────────────\n",
            "Delimiter: \",\"\n",
            "chr (1): DIVISION_NAME\n",
            "dbl (1): DIVISION_ID\n",
            "\n",
            "ℹ Use `spec()` to retrieve the full column specification for this data.\n",
            "ℹ Specify the column types or set `show_col_types = FALSE` to quiet this message.\n",
            "Rows: 48 Columns: 3\n",
            "── Column specification ────────────────────────────────────────────────────────\n",
            "Delimiter: \",\"\n",
            "chr (1): STATE_NAME\n",
            "dbl (2): STATE_ID, DIVISION_ID\n",
            "\n",
            "ℹ Use `spec()` to retrieve the full column specification for this data.\n",
            "ℹ Specify the column types or set `show_col_types = FALSE` to quiet this message.\n",
            "Rows: 465 Columns: 3\n",
            "── Column specification ────────────────────────────────────────────────────────\n",
            "Delimiter: \",\"\n",
            "dbl (3): STATE_ID, YEAR, MT\n",
            "\n",
            "ℹ Use `spec()` to retrieve the full column specification for this data.\n",
            "ℹ Specify the column types or set `show_col_types = FALSE` to quiet this message.\n",
            "Rows: 467 Columns: 19\n",
            "── Column specification ────────────────────────────────────────────────────────\n",
            "Delimiter: \",\"\n",
            "chr  (4): STATE, COUNTY, NLCD, FRG\n",
            "dbl (15): ID, FIPS, STATE_ID, Longitude, Latitude, SOC, DEM, Aspect, Slope, ...\n",
            "\n",
            "ℹ Use `spec()` to retrieve the full column specification for this data.\n",
            "ℹ Specify the column types or set `show_col_types = FALSE` to quiet this message.\n",
            "# A tibble: 6 × 19\n",
            "     ID  FIPS STATE_ID STATE  COUNTY Longitude Latitude   SOC   DEM Aspect Slope\n",
            "  <dbl> <dbl>    <dbl> <chr>  <chr>      <dbl>    <dbl> <dbl> <dbl>  <dbl> <dbl>\n",
            "1     1 56041       56 Wyomi… Uinta…     -111.     41.1  15.8 2229.   159.  5.67\n",
            "2     2 56023       56 Wyomi… Linco…     -111.     42.9  15.9 1889.   157.  8.91\n",
            "3     3 56039       56 Wyomi… Teton…     -111.     44.5  18.1 2423.   169.  4.77\n",
            "4     4 56039       56 Wyomi… Teton…     -111.     44.4  10.7 2484.   198.  7.12\n",
            "5     5 56029       56 Wyomi… Park …     -111.     44.8  10.5 2396.   201.  7.95\n",
            "6     6 56039       56 Wyomi… Teton…     -111.     44.1  17.0 2361.   209.  9.66\n",
            "# ℹ 8 more variables: TPI <dbl>, KFactor <dbl>, MAP <dbl>, MAT <dbl>,\n",
            "#   NDVI <dbl>, SiltClay <dbl>, NLCD <chr>, FRG <chr>\n"
          ]
        }
      ]
    }
  ]
}