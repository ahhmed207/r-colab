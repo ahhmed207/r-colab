{
  "cells": [
    {
      "cell_type": "markdown",
      "metadata": {
        "id": "view-in-github",
        "colab_type": "text"
      },
      "source": [
        "<a href=\"https://colab.research.google.com/github/zia207/r-colab/blob/main/NoteBook/R%20for%20Beginners/inferential_statistics_r.ipynb\" target=\"_parent\"><img src=\"https://colab.research.google.com/assets/colab-badge.svg\" alt=\"Open In Colab\"/></a>"
      ]
    },
    {
      "cell_type": "markdown",
      "metadata": {
        "id": "MGoP0AbXEAUx"
      },
      "source": [
        "# Inferential Statistics With R\n",
        "\n",
        "Zia AHMED, University at Buffalo"
      ]
    },
    {
      "cell_type": "markdown",
      "metadata": {
        "id": "kroLnhoOPPoV"
      },
      "source": [
        "**Inferential statistics** is a crucial branch of statistics that deals with utilizing a sample of data to draw conclusions or make predictions about a larger population. It involves using various statistical methods and techniques to analyze the data and infer results beyond the observed data.\n",
        "\n",
        "The main goal of inferential statistics is to estimate unknown parameters of a population, such as its mean or variance, based on the information gathered from a sample. By doing so, it helps researchers make informed decisions and draw reliable conclusions about the larger population, even with limited data. In summary, inferential statistics plays a significant role in the field of research by providing a framework for statistical inference and prediction.\n",
        "\n",
        "## Key Concepts in Inferential Statistics\n",
        "\n",
        "Inferential statistics is the branch of statistics that deals with making inferences about a population based on data from a sample. This involves several key concepts used to estimate and test hypotheses about population parameters.\n",
        "\n",
        "1.  **Population and Sample**: A population is the entire group of individuals, objects, or events being studied. A sample is a subset of the population used to represent the whole. Choosing a sample representative of the population is important to ensure accurate inferences.\n",
        "\n",
        "2.  **Estimation**: Estimation is using sample data to estimate population parameters. There are two types of estimation. Point Estimation involves using sample data to estimate a single value (such as the mean or proportion) for the population. - Interval Estimation: This involves estimating a range within which the population parameter lies. This is typically done using confidence intervals, which provide a range of values with a certain confidence level.\n",
        "\n",
        "3.  **Sampling Distributions**: Sampling distributions are the probability distributions of sample statistics (such as the mean or proportion) calculated from repeated random samples drawn from the population. The most important sampling distribution is the sampling distribution of the sample mean, used to make inferences about the population mean.\n",
        "\n",
        "4.  **Hypothesis Testing**: Hypothesis testing uses sample data to test hypotheses about population parameters. The key concepts in hypothesis testing are:\n",
        "\n",
        "-   ***Null Hypothesis (H0)***: This is a statement that there is no effect or no difference between groups.\n",
        "\n",
        "-   ***Alternative Hypothesis (Ha)***: This statement contradicts the null hypothesis.\n",
        "\n",
        "-   ***Significance Level (α)***: This is the threshold used to assess the strength of evidence against the null hypothesis.\n",
        "\n",
        "-   ***p-value***: This is the probability of observing the data given that the null hypothesis is true.\n",
        "\n",
        "-   ***Types of Errors***: There are two types of errors in hypothesis testing: Type I (rejecting a true null hypothesis) and Type II (failing to reject a false null hypothesis).\n",
        "\n",
        "5.  **Regression and Correlation**: Regression and correlation are statistical methods used to analyze the relationships between variables in a population. Regression is used to predict one variable's value based on the values of other variables. In contrast, correlation measures the strength and direction of the relationship between two variables.\n",
        "\n",
        "6.  **Analysis of Variance (ANOVA)** is a statistical method to compare means among three or more groups. It tests hypotheses related to mean differences of multiple groups for a given variable. One-Way ANOVA is used when comparing means of a single dependent variable across three or more independent categorical groups. It helps researchers identify significant differences in mean values of the dependent variable across different categories of the independent variable. The results guide further research or interventions aimed at improving outcomes for those groups.\n"
      ]
    },
    {
      "cell_type": "markdown",
      "metadata": {
        "id": "CdQJ-mgsEU9J"
      },
      "source": [
        "## Install rpy2\n",
        "\n",
        "Easy way to run R in Colab with Python runtime using **rpy2** python package. We have to install this package using the pip command:"
      ]
    },
    {
      "cell_type": "code",
      "execution_count": null,
      "metadata": {
        "id": "qOD7NpajDy5k"
      },
      "outputs": [],
      "source": [
        "!pip uninstall rpy2 -y\n",
        "! pip install rpy2==3.5.1\n",
        "%load_ext rpy2.ipython"
      ]
    },
    {
      "cell_type": "markdown",
      "metadata": {
        "id": "qmEDD0ccEurf"
      },
      "source": [
        "##  Mount Google Drive\n",
        "\n",
        "Then you must create a folder in Goole drive named \"R\" to install all packages permanently. Before installing R-package in Python runtime. You have to mount Google Drive and follow on-screen instruction:"
      ]
    },
    {
      "cell_type": "code",
      "execution_count": null,
      "metadata": {
        "id": "lClKZUW1Eu_G",
        "colab": {
          "base_uri": "https://localhost:8080/"
        },
        "outputId": "5e78a358-892a-409c-8d32-59fcb9a895b1"
      },
      "outputs": [
        {
          "output_type": "stream",
          "name": "stdout",
          "text": [
            "Mounted at /content/drive\n"
          ]
        }
      ],
      "source": [
        "from google.colab import drive\n",
        "drive.mount('/content/drive')"
      ]
    },
    {
      "cell_type": "markdown",
      "source": [
        "## Data\n",
        "\n",
        "\n",
        "All data set use in this exercise can be downloaded from my [Dropbox](https://www.dropbox.com/scl/fo/fohioij7h503duitpl040/h?rlkey=3voumajiklwhgqw75fe8kby3o&dl=0) or from my [Github](https://github.com/zia207/r-colab/tree/main/Data/R_Beginners) accounts.\n",
        "\n"
      ],
      "metadata": {
        "id": "pcn48RSJ2Xnk"
      }
    },
    {
      "cell_type": "code",
      "source": [
        "%%R\n",
        "df<-read.csv(\"https://github.com/zia207/r-colab/raw/main/Data/R_Beginners/rice_arsenic_data.csv\",\n",
        "                  header= TRUE)\n",
        "head(df)"
      ],
      "metadata": {
        "colab": {
          "base_uri": "https://localhost:8080/"
        },
        "id": "NKhJzcrC0lGY",
        "outputId": "a56aee96-0433-4afc-d30f-5827dab41de8"
      },
      "execution_count": null,
      "outputs": [
        {
          "output_type": "stream",
          "name": "stdout",
          "text": [
            "  ID TREAT_ID  TREAT  VAR        PH        TN        PN      ster      DTM\n",
            "1  1        1 Low As BR01 119.74870 16.701608 15.509622  1.121060 116.6888\n",
            "2  2        1 Low As BR01  98.69824 27.946359 26.738585 11.272871 119.4231\n",
            "3  3        1 Low As BR01 133.87754  6.416868  2.846243 15.267027 121.3140\n",
            "4  4        1 Low As BR01 123.00719 20.932223 16.971565  4.953537 120.9241\n",
            "5  5        1 Low As BR01  89.49716 25.957307 21.515372  3.814338 115.3630\n",
            "6  6        1 Low As BR01  96.75960 26.157779 21.662071 15.783027 120.6012\n",
            "        GY       SW       GAs     STAs\n",
            "1 43.91485 24.44901 0.8626439 15.23764\n",
            "2 47.81307 30.65842 0.8442584 13.36959\n",
            "3 21.87595 25.88831 1.1382471 16.65208\n",
            "4 48.43976 54.92401 1.0445282 20.77017\n",
            "5 44.40447 57.38066 0.6864139 13.67052\n",
            "6 32.03458 48.69373 0.9225152 14.07802\n"
          ]
        }
      ]
    },
    {
      "cell_type": "markdown",
      "metadata": {
        "id": "mOk85Ol6GQfH"
      },
      "source": [
        "## Population and Samples\n",
        "\n",
        "When conducting research or gathering data, it's important to understand the concepts of **population** and **sample**. The population refers to the entire group or collection of items or individuals that you're interested in studying or collecting data from. For example, if you want to know the heights of all individuals in a country, the entire set of heights of every person in that country would constitute the population.\n",
        "\n",
        "A **population parameter** is a characteristic of the entire population, such as the mean, standard deviation, proportion, or other measurable attribute. These parameters can be difficult or impossible to determine for the entire population, which is why researchers often rely on samples.\n",
        "\n",
        "A sample is a subset or smaller group selected from the population. It's usually not feasible to measure or collect data from every individual in a population, so researchers will select a smaller group to represent the population. For example, if you want to estimate the average height of individuals in a country, you might take a sample of 500 individuals and measure their heights. This smaller group represents the sample.\n",
        "\n",
        "A **sample statistic** is a characteristic or measure computed from the sample that is used to estimate or infer the population parameter. For example, if you measure the heights of 500 individuals in a country, you can calculate the average height of the sample, which is a sample statistic. This statistic can be used to estimate the population parameter, such as the average height of all individuals in the country.\n",
        "\n"
      ]
    },
    {
      "cell_type": "markdown",
      "source": [
        "## Estimation\n",
        "\n",
        "**Estimation** is a statistical technique that uses sample data to make inferences about population parameters. The ultimate goal of estimation is to get as close as possible to the true value of the parameter for the entire population based on information obtained from a representative subset of that population.\n",
        "\n",
        "There are two main types of estimation: **point estimation** and **interval estimation**. Point estimation involves using sample data to estimate a single numerical value for the population parameter, such as the mean or proportion. This approach assumes that the sample is representative of the population and that the parameter being estimated is fixed and known. Interval estimation, on the other hand, involves estimating a range of values within which the population parameter is likely to exist. This is typically done using confidence intervals, which provide a range of values with a certain confidence level. In other words, if the same sample were taken multiple times, the confidence interval would contain the true population parameter in a certain percentage of cases.\n",
        "\n",
        "Interval estimation is generally considered more informative than point estimation, as it provides a range of values rather than a single-point estimate. However, it also requires more data and assumptions about the population distribution being studied. Ultimately, the choice between point estimation and interval estimation depends on the specific research question, the available data, and the precision required for the analysis.\n",
        "\n"
      ],
      "metadata": {
        "id": "bq9U2wHv7ZRr"
      }
    },
    {
      "cell_type": "markdown",
      "source": [
        "### Point Estimation"
      ],
      "metadata": {
        "id": "NZCNlb75inu-"
      }
    },
    {
      "cell_type": "code",
      "execution_count": null,
      "metadata": {
        "id": "gXfSYaGPGpbl",
        "colab": {
          "base_uri": "https://localhost:8080/"
        },
        "outputId": "4712ffa4-afc1-422e-8a7c-6a1fd52c1c4e"
      },
      "outputs": [
        {
          "output_type": "stream",
          "name": "stdout",
          "text": [
            "[1] 1.36003\n"
          ]
        }
      ],
      "source": [
        "%%R\n",
        "#  Estimating the Population Mean\n",
        "# Calculating the sample mean (point estimate for the population mean)\n",
        "sample_mean <- mean(df$GAs)\n",
        "sample_mean"
      ]
    },
    {
      "cell_type": "code",
      "source": [
        "%%R\n",
        "# Calculating the sample proportion (point estimate for the population proportion)\n",
        "data<-df$TREAT\n",
        "sample_proportion <- sum(data == \"Low As\") / length(data)\n",
        "sample_proportion"
      ],
      "metadata": {
        "colab": {
          "base_uri": "https://localhost:8080/"
        },
        "id": "fFOKam9niuon",
        "outputId": "3d903e6e-fd6e-4798-e6a1-cfcc07ad4b0b"
      },
      "execution_count": null,
      "outputs": [
        {
          "output_type": "stream",
          "name": "stdout",
          "text": [
            "[1] 0.5\n"
          ]
        }
      ]
    },
    {
      "cell_type": "markdown",
      "source": [
        "### Interval Estimation\n",
        "\n",
        "In statistical analysis, interval estimation is a technique used to estimate the value of an unknown population parameter with a degree of certainty. This technique involves calculating a range, or interval, of values within which the true value of the parameter is likely to fall, based on a sample of data. This interval provides researchers with a measure of the uncertainty around the point estimate of the population parameter, and enables them to make inferences about the population with a known level of confidence."
      ],
      "metadata": {
        "id": "M-Q9xWCLit23"
      }
    },
    {
      "cell_type": "code",
      "source": [
        "%%R\n",
        "# Confidence Interval for Population Mean\n",
        "data <- df$GAs\n",
        "\n",
        "# Calculating the sample mean and standard deviation\n",
        "sample_mean <- mean(data)\n",
        "sample_std_dev <- sd(data)\n",
        "\n",
        "# Calculating the confidence interval for the population mean (assuming normal distribution)\n",
        "confidence_level <- 0.95  # Adjust as needed\n",
        "alpha <- 1 - confidence_level\n",
        "n <- length(data)\n",
        "\n",
        "# Calculating margin of error\n",
        "margin_of_error <- qt(1 - alpha / 2, n - 1) * (sample_std_dev / sqrt(n))\n",
        "\n",
        "# Calculating lower and upper bounds of the confidence interval\n",
        "lower_bound <- sample_mean - margin_of_error\n",
        "upper_bound <- sample_mean + margin_of_error\n",
        "\n",
        "# Outputting the confidence interval\n",
        "print(paste(\"Confidence Interval for Population Mean (95%):\",\n",
        "            round(lower_bound, 2), \"to\", round(upper_bound, 2)))"
      ],
      "metadata": {
        "colab": {
          "base_uri": "https://localhost:8080/"
        },
        "id": "CBXiV8FK9zHJ",
        "outputId": "a0abbc46-46b5-42f3-8d15-e12412e53fc0"
      },
      "execution_count": null,
      "outputs": [
        {
          "output_type": "stream",
          "name": "stdout",
          "text": [
            "[1] \"Confidence Interval for Population Mean (95%): 1.28 to 1.44\"\n"
          ]
        }
      ]
    },
    {
      "cell_type": "markdown",
      "source": [
        "To compute an interval, we use the sample mean, sample standard deviation, and the t-distribution. This accounts for any uncertainty. If you adjust the confidence_level variable, you can change the confidence level for the interval estimation. Understanding interval estimation is important as it helps you quantify the uncertainty around point estimates. It also provides a range of values where the true population parameter is likely to fall."
      ],
      "metadata": {
        "id": "kHcm6AgHi8bK"
      }
    },
    {
      "cell_type": "markdown",
      "source": [
        "## Sample Distribution\n",
        "\n",
        "The **sampling distribution** is a statistical concept that refers to the probability distribution of a statistic, such as the mean, variance, or proportion, obtained from multiple random samples taken from the same population. It helps illustrate how sample statistics might vary if multiple samples were drawn from the same population. This distribution is a theoretical representation of all possible sample statistics obtained from repeated sampling from the same population. Understanding the sampling distribution is critical in statistical inference, as it helps determine the probability of obtaining a particular sample statistic and, consequently, the likelihood of making accurate inferences about the population"
      ],
      "metadata": {
        "id": "1jX5VaKM0MMV"
      }
    },
    {
      "cell_type": "code",
      "execution_count": null,
      "metadata": {
        "id": "6Lm8_XGaG8Il"
      },
      "outputs": [],
      "source": [
        "%%R\n",
        "set.seed(42)  # Setting seed for reproducibility\n",
        "# Number of samples to draw\n",
        "num_samples <- 1000\n",
        "sample_size <- 30  # Size of each sample\n",
        "\n",
        "# Creating an empty vector to store sample means\n",
        "sample_means <- numeric(num_samples)\n",
        "\n",
        "# Generating multiple samples and calculating sample means\n",
        "for (i in 1:num_samples) {\n",
        "  sample <- sample(df$GAs, sample_size)\n",
        "  sample_means[i] <- mean(sample)\n",
        "}"
      ]
    },
    {
      "cell_type": "markdown",
      "source": [
        "We use hist() function to create a histogram of means:"
      ],
      "metadata": {
        "id": "d35_rXRfjFxp"
      }
    },
    {
      "cell_type": "code",
      "source": [
        "%%R -w 450 -h 400 -u px\n",
        "hist(sample_means, breaks = 30, col = \"skyblue\", main = \"Sampling Distribution of the Mean\")\n",
        "abline(v=mean(df$As), col=\"red\")\n"
      ],
      "metadata": {
        "id": "hwrCDAJZjF45",
        "colab": {
          "base_uri": "https://localhost:8080/",
          "height": 417
        },
        "outputId": "df6a402f-55fd-4d73-edc2-5336aef75ff4"
      },
      "execution_count": null,
      "outputs": [
        {
          "output_type": "display_data",
          "data": {
            "image/png": "[encoded data removed]"
          },
          "metadata": {}
        }
      ]
    },
    {
      "cell_type": "markdown",
      "source": [
        "In the above example, we draw 1000 samples of size 30 from this population. For each of these samples, we calculate their means. Finally, we plot a histogram of these sample means, which shows the approximate normal distribution. This means that as the sample size increases, the sample means tend to approach a normal distribution, regardless of the shape of the population distribution. The **Central Limit Theorem** is a fundamental statistical concept that allows us to make inferences about a population based on a sample. Red line on plot show the population mean.\n",
        "\n",
        "The **Central Limit Theorem** is a statistical concept that explains how the distribution of sample means tends to be normally distributed, regardless of the underlying population distribution, as the sample size increases. In simpler terms, if we were to take several random samples from a population, the average of each sample would create a normal distribution, even if the original population is not normally distributed. This theorem is widely used in statistical analysis and is essential in making inferences about the population based on the sample data.."
      ],
      "metadata": {
        "id": "SqJQoPMbC4sA"
      }
    },
    {
      "cell_type": "markdown",
      "source": [
        "## Hypothesis Testing\n",
        "\n",
        "Hypothesis testing is a widely used statistical approach that enables researchers to conclude a population parameter based on the sample data. It is a technique used to evaluate the validity of a hypothesis by examining the evidence presented through the data. It involves setting up two competing hypotheses: a **null hypothesis** and an **alternative hypothesis**. The null hypothesis is generally considered the default hypothesis, stating that there is no significant difference between the sample and the population. The alternative hypothesis, on the other hand, is the hypothesis that is tested against the null hypothesis and is generally the researcher's primary hypothesis. After setting up the hypotheses, the researcher collects data to determine which hypothesis is more likely to be true. The process involves analyzing the evidence presented by the data to either accept or reject the null hypothesis. Hypothesis testing is a powerful tool that allows researchers to make informed decisions based on statistical evidence.\n",
        "\n",
        "**Key Steps in Hypothesis Testing:**\n",
        "\n",
        "1.  **Formulating Hypotheses:**\n",
        "\n",
        "    -   **Null Hypothesis (H0):** Represents the status quo or no effect.\n",
        "\n",
        "    -   **Alternative Hypothesis (Ha):** Contradicts the null hypothesis, suggesting an effect or difference.\n",
        "\n",
        "2.  **Choosing a Significance Level (α):**\n",
        "\n",
        "    -   The significance level is the threshold for rejecting the null hypothesis.\n",
        "\n",
        "    -   Commonly used values are 0.05 or 0.01.\n",
        "\n",
        "3.  **Collecting and Analyzing Data:**\n",
        "\n",
        "    -   Use sample data to compute a test statistic that helps determine the likelihood of observing the data under the null hypothesis.\n",
        "\n",
        "4.  **Making a Decision:**\n",
        "\n",
        "    -   Compare the test statistic to a critical value (from a statistical distribution) or calculate a p-value.\n",
        "\n",
        "    -   If the test statistic falls into the rejection region (extreme values), reject the null hypothesis. Otherwise, fail to reject it.\n",
        "\n",
        "5.  **Drawing Conclusion:**\n",
        "\n",
        "    -   Based on the analysis, decide whether there is enough evidence to support the alternative hypothesis or if there's insufficient evidence to reject the null hypothesis."
      ],
      "metadata": {
        "id": "XugoFtb7jy5c"
      }
    },
    {
      "cell_type": "markdown",
      "source": [
        "## T-test\n",
        "\n",
        "A **t-test** is a statistical hypothesis test that compares the means of two groups or samples to determine if they are significantly different from each other. A commonly used parametric test assumes the data follows a normal distribution. There are two types of t-tests: **One-sample t-test** and **Two-sample t-test**. The one-samples t-test is used to determine if a sample mean is significantly different from a known population mean. While A two-sample t-test is a statistical test used to determine if two sets of data are significantly different from each other.\n",
        "\n",
        "The t-test calculates the t-value and then compares it to a critical value from the t-distribution to determine if the difference between the means is statistically significant. If the t-value is greater than the critical value, then we conclude that there is a significant difference between the means of the two groups or samples. We will cover t-test details in the \\[Exploratory Data Analysis section\\]."
      ],
      "metadata": {
        "id": "kiLSZvYZ2Re_"
      }
    },
    {
      "cell_type": "code",
      "execution_count": null,
      "metadata": {
        "id": "dKU4UEAtHTHd",
        "colab": {
          "base_uri": "https://localhost:8080/"
        },
        "outputId": "fc018893-588c-49e8-d4fb-d773ec31efad"
      },
      "outputs": [
        {
          "output_type": "stream",
          "name": "stdout",
          "text": [
            "\n",
            "\tOne Sample t-test\n",
            "\n",
            "data:  sample_data\n",
            "t = -0.033051, df = 49, p-value = 0.9738\n",
            "alternative hypothesis: true mean is not equal to 1.36003\n",
            "95 percent confidence interval:\n",
            " 1.214169 1.501171\n",
            "sample estimates:\n",
            "mean of x \n",
            "  1.35767 \n",
            "\n"
          ]
        }
      ],
      "source": [
        "%%R\n",
        "# One-sample t-test\n",
        "set.seed(42)  # Setting seed for reproducibility\n",
        "# sample\n",
        "sample_data <- sample(df$GAs, 50)\n",
        "sample_mean<-mean(sample)\n",
        "sample_mean\n",
        "# population\n",
        "population_mean<-mean(df$GAs)\n",
        "population_mean\n",
        "# One-sample t-test (testing if the sample_mean is significantly different population_mean)\n",
        "t_test_result <- t.test(sample_data, mu = population_mean)\n",
        "print(t_test_result)"
      ]
    },
    {
      "cell_type": "markdown",
      "source": [
        "In this example, a one-sample t-test is performed in R to determine if the mean of the sample is significantly different from true mean. The t.test() function computes the test statistic, the p-value, and provides information to decide whether to reject the null hypothesis.Since the p-value is greater than the level of significance (α) = 0.05, we may to accept the null hypothesis and means sample and population are not significantly different.\n",
        "\n",
        "A nice and easy way to report results in R is with the **report()** function from the report package. The primary goal of package report is to bridge the gap between R's output and the formatted results contained in your manuscript. It automatically produces reports of models and data frames according to best practices guidelines, ensuring standardization and quality in results reporting."
      ],
      "metadata": {
        "id": "PA_POhKSj_ZT"
      }
    },
    {
      "cell_type": "markdown",
      "source": [
        "![alt text](http://drive.google.com/uc?export=view&id=1s33_XUj_ZJ-UUrcMNAmHspfJKUXQ4zqs)\n",
        "\n"
      ],
      "metadata": {
        "id": "Jg-EpM99kAWd"
      }
    },
    {
      "cell_type": "code",
      "source": [
        "%%R\n",
        "install.packages(\"report\", lib='drive/My Drive/R/')"
      ],
      "metadata": {
        "id": "d7aVcx1wkxXf"
      },
      "execution_count": null,
      "outputs": []
    },
    {
      "cell_type": "code",
      "source": [
        "%%R\n",
        ".libPaths('drive/My Drive/R')\n",
        "library(report)"
      ],
      "metadata": {
        "id": "uBiwbThVlOE_"
      },
      "execution_count": null,
      "outputs": []
    },
    {
      "cell_type": "code",
      "source": [
        "%%R\n",
        "report(t_test_result)"
      ],
      "metadata": {
        "colab": {
          "base_uri": "https://localhost:8080/"
        },
        "id": "RimFV-HylSYe",
        "outputId": "0936d438-2677-4283-a435-8f8e30b3ed47"
      },
      "execution_count": null,
      "outputs": [
        {
          "output_type": "stream",
          "name": "stdout",
          "text": [
            "Effect sizes were labelled following Cohen's (1988) recommendations.\n",
            "\n",
            "The One Sample t-test testing the difference between sample_data (mean = 1.36)\n",
            "and mu = 1.36002985712143 suggests that the effect is negative, statistically\n",
            "not significant, and very small (difference = -2.36e-03, 95% CI [1.21, 1.50],\n",
            "t(49) = -0.03, p = 0.974; Cohen's d = -4.67e-03, 95% CI [-0.28, 0.27])\n"
          ]
        }
      ]
    },
    {
      "cell_type": "markdown",
      "source": [
        "## Regression and Correlation Analyses\n",
        "\n",
        "**Regression and correlation** are two statistical techniques used to analyze the relationship between variables. Regression analysis helps to identify the extent to which changes in one variable are associated with changes in another variable. It is commonly used to predict the value of a dependent variable based on the value of one or more independent variables. On the other hand, correlation analysis helps to identify the strength and direction of the relationship between two variables. It is used to determine the extent to which the values of two variables are related. Both techniques are widely used in various fields, such as economics, finance, psychology, and social sciences.\n",
        "\n",
        "### Correlation Analysis\n",
        "\n",
        "Correlation is a statistical measure that helps determine the strength and direction of the linear relationship between two continuous variables. It indicates how closely two variables are related to each other. The **correlation coefficient (r)** measures the degree of association between two variables. The r value ranges from -1 to 1, where 1 indicates a perfect positive correlation, -1 indicates a perfect negative correlation, and 0 indicates no linear relationship between the two variables.\n",
        "\n",
        "However, it is important to note that correlation does not imply causation. This means that just because two variables are found to be correlated, it does not necessarily mean that one variable causes the other. There could be other factors involved that might influence the relationship between the two variables. Therefore, it is essential to exercise caution while interpreting correlation results and avoid making any causal inferences.We will cover correlation in the [Exploratory Data Analysis section]\n",
        "\n",
        "We can calculate the Pearson correlation coefficient using the **cor()** function. method is a character string indicating which correlation coefficient (or covariance) is to be computed. One of pearson (default, kendall, or spearman can be abbreviated. Here's an example:"
      ],
      "metadata": {
        "id": "LoHVxqxLz9UZ"
      }
    },
    {
      "cell_type": "code",
      "source": [
        "%%R\n",
        "# Calculating Pearson's correlation coefficient\n",
        "correlation <- cor(df$GY, df$GAs)\n",
        "print(paste(\"Correlation coefficient:\", round(correlation, 2)))"
      ],
      "metadata": {
        "colab": {
          "base_uri": "https://localhost:8080/"
        },
        "id": "zh615aRi0Ev4",
        "outputId": "67c19a83-6758-4c16-d0a2-ab5593083806"
      },
      "execution_count": null,
      "outputs": [
        {
          "output_type": "stream",
          "name": "stdout",
          "text": [
            "[1] \"Correlation coefficient: -0.6\"\n"
          ]
        }
      ]
    },
    {
      "cell_type": "markdown",
      "source": [
        "The **cor.test()** function is used to test the significance of the correlation coefficient between two variables (both r-and p-values):"
      ],
      "metadata": {
        "id": "DQMVgQZwoWkX"
      }
    },
    {
      "cell_type": "code",
      "source": [
        "%%R\n",
        "cor_test=cor.test(df$GY, df$GAs)\n",
        "cor_test"
      ],
      "metadata": {
        "colab": {
          "base_uri": "https://localhost:8080/"
        },
        "id": "OuwezKCcoZZn",
        "outputId": "266b92de-8f38-40bc-82af-f299040f5dbb"
      },
      "execution_count": null,
      "outputs": [
        {
          "output_type": "stream",
          "name": "stdout",
          "text": [
            "\n",
            "\tPearson's product-moment correlation\n",
            "\n",
            "data:  df$GY and df$GAs\n",
            "t = -8.7924, df = 138, p-value = 5.235e-15\n",
            "alternative hypothesis: true correlation is not equal to 0\n",
            "95 percent confidence interval:\n",
            " -0.6959320 -0.4811396\n",
            "sample estimates:\n",
            "       cor \n",
            "-0.5992121 \n",
            "\n"
          ]
        }
      ]
    },
    {
      "cell_type": "code",
      "source": [
        "%%R\n",
        "report(cor_test)\n"
      ],
      "metadata": {
        "colab": {
          "base_uri": "https://localhost:8080/"
        },
        "id": "bAqHRPj0ofr6",
        "outputId": "e0154833-b82e-4a91-ce8f-a7b7d6b25ece"
      },
      "execution_count": null,
      "outputs": [
        {
          "output_type": "stream",
          "name": "stdout",
          "text": [
            "Effect sizes were labelled following Funder's (2019) recommendations.\n",
            "\n",
            "The Pearson's product-moment correlation between df$GY and df$GAs is negative,\n",
            "statistically significant, and very large (r = -0.60, 95% CI [-0.70, -0.48],\n",
            "t(138) = -8.79, p < .001)\n"
          ]
        }
      ]
    },
    {
      "cell_type": "markdown",
      "source": [
        "### Regression Analysis\n",
        "\n",
        "**Regression** is a statistical technique often used to study the relationship between a response or dependent variable and one or more predictor or independent variables. Linear Regression is a type of regression analysis that assumes that the relationship between the variables is linear or straight-line. The main objective of linear regression is to identify the best-fit line that can describe the relationship between the variables in question. The best-fit line is determined by minimizing the sum of the squared differences between the observed data points and the predicted values on the line. Linear regression can be used to make predictions and gain insights into the impact of the independent variable(s) on the dependent variable. We will cover regression in the [Regression Analysis Chapter]"
      ],
      "metadata": {
        "id": "l1vfNT2E3YY9"
      }
    },
    {
      "cell_type": "code",
      "source": [
        "%%R\n",
        "x<-df$GAs\n",
        "y<-df$GY\n",
        "# Performing linear regression\n",
        "lm_model <- lm(y ~ x)\n",
        "\n",
        "# Summary of the regression model\n",
        "summary(lm_model)"
      ],
      "metadata": {
        "id": "1e7cYHTK5LO9",
        "colab": {
          "base_uri": "https://localhost:8080/"
        },
        "outputId": "ef085bb5-3003-4f24-9e6e-4438bf0dde2c"
      },
      "execution_count": null,
      "outputs": [
        {
          "output_type": "stream",
          "name": "stdout",
          "text": [
            "\n",
            "Call:\n",
            "lm(formula = y ~ x)\n",
            "\n",
            "Residuals:\n",
            "    Min      1Q  Median      3Q     Max \n",
            "-32.308  -5.749  -0.707   6.801  34.242 \n",
            "\n",
            "Coefficients:\n",
            "            Estimate Std. Error t value Pr(>|t|)    \n",
            "(Intercept)   50.983      2.697  18.901  < 2e-16 ***\n",
            "x            -16.410      1.866  -8.792 5.23e-15 ***\n",
            "---\n",
            "Signif. codes:  0 ‘***’ 0.001 ‘**’ 0.01 ‘*’ 0.05 ‘.’ 0.1 ‘ ’ 1\n",
            "\n",
            "Residual standard error: 10.8 on 138 degrees of freedom\n",
            "Multiple R-squared:  0.3591,\tAdjusted R-squared:  0.3544 \n",
            "F-statistic: 77.31 on 1 and 138 DF,  p-value: 5.235e-15\n",
            "\n"
          ]
        }
      ]
    },
    {
      "cell_type": "code",
      "source": [
        "%%R\n",
        "report(lm_model)"
      ],
      "metadata": {
        "colab": {
          "base_uri": "https://localhost:8080/"
        },
        "id": "KAGtr1jpoxV-",
        "outputId": "84fe0cf9-d392-47af-eb58-2957ecf84331"
      },
      "execution_count": null,
      "outputs": [
        {
          "output_type": "stream",
          "name": "stdout",
          "text": [
            "We fitted a linear model (estimated using OLS) to predict y with x (formula: y\n",
            "~ x). The model explains a statistically significant and substantial proportion\n",
            "of variance (R2 = 0.36, F(1, 138) = 77.31, p < .001, adj. R2 = 0.35). The\n",
            "model's intercept, corresponding to x = 0, is at 50.98 (95% CI [45.65, 56.32],\n",
            "t(138) = 18.90, p < .001). Within this model:\n",
            "\n",
            "  - The effect of x is statistically significant and negative (beta = -16.41, 95%\n",
            "CI [-20.10, -12.72], t(138) = -8.79, p < .001; Std. beta = -0.60, 95% CI\n",
            "[-0.73, -0.46])\n",
            "\n",
            "Standardized parameters were obtained by fitting the model on a standardized\n",
            "version of the dataset. 95% Confidence Intervals (CIs) and p-values were\n",
            "computed using a Wald t-distribution approximation.\n"
          ]
        }
      ]
    },
    {
      "cell_type": "markdown",
      "source": [
        "### Analysis of Variance (ANOVA)\n",
        "\n",
        "Analysis of Variance (ANOVA) is a statistical technique that is commonly used in data analysis to determine if there are any significant differences between the means of two or more groups. The primary purpose of ANOVA is to analyze the variance in a dataset, which involves comparing the variance within each group to the variance between the groups. If there is a significant difference in the variance between the groups, then it can be concluded that there is a significant difference between the means of the groups.\n",
        "\n",
        "There are different types of ANOVA, including one-way ANOVA, two-way ANOVA, and repeated measures ANOVA. One-way ANOVA is used when there is only one independent variable or factor, while two-way ANOVA is used when there are two independent variables or factors. Repeated measures ANOVA, on the other hand, is used when the same group of participants is tested multiple times, and the researcher wants to compare the means of these multiple measurements.\n",
        "\n",
        "ANOVA is a powerful statistical tool that provides valuable insights into the differences between groups and the factors that influence these differences. However, it is important to use ANOVA appropriately and to interpret the results carefully, as incorrect use or interpretation of ANOVA can lead to erroneous conclusions and inaccurate findings.\n",
        "\n",
        "One-Way ANOVA is used when comparing the means of a single dependent variable across three or more independent (categorical) groups."
      ],
      "metadata": {
        "id": "iHCT14aE5nmP"
      }
    },
    {
      "cell_type": "code",
      "source": [
        "%%R\n",
        "anova.one=aov (GAs ~VAR, data = df) # analysis variance\n",
        "anova (anova.one)"
      ],
      "metadata": {
        "colab": {
          "base_uri": "https://localhost:8080/"
        },
        "id": "RjFh0Wg-5nZg",
        "outputId": "e05c6256-5539-44c7-8dc6-7098c05b61a8"
      },
      "execution_count": null,
      "outputs": [
        {
          "output_type": "stream",
          "name": "stdout",
          "text": [
            "Analysis of Variance Table\n",
            "\n",
            "Response: GAs\n",
            "           Df Sum Sq Mean Sq F value Pr(>F)\n",
            "VAR         6  0.319 0.05323  0.2136 0.9719\n",
            "Residuals 133 33.137 0.24915               \n"
          ]
        }
      ]
    },
    {
      "cell_type": "code",
      "source": [
        "%%R\n",
        "report(anova.one)"
      ],
      "metadata": {
        "colab": {
          "base_uri": "https://localhost:8080/"
        },
        "id": "QqdGV2gro-bH",
        "outputId": "12bd1e74-01cf-4162-b904-aa39958037ea"
      },
      "execution_count": null,
      "outputs": [
        {
          "output_type": "stream",
          "name": "stdout",
          "text": [
            "The ANOVA (formula: GAs ~ VAR) suggests that:\n",
            "\n",
            "  - The main effect of VAR is statistically not significant and very small (F(6,\n",
            "133) = 0.21, p = 0.972; Eta2 = 9.55e-03, 95% CI [0.00, 1.00])\n",
            "\n",
            "Effect sizes were labelled following Field's (2013) recommendations.\n"
          ]
        }
      ]
    },
    {
      "cell_type": "markdown",
      "metadata": {
        "id": "0Ovc25MJTsD8"
      },
      "source": [
        "## Further Reading\n",
        "\n",
        "1.  [Basic Inferential Statistics using R](https://ladal.edu.au/basicstatz.html)\n",
        "\n",
        "2.  [Chapter 15 Statistical inference](https://rafalab.dfci.harvard.edu/dsbook/inference.html)\n",
        "\n",
        "3.  [Chapter 4 Statistical Inference](https://bookdown.org/mrenna/statbook/statistical-inference.html)\n",
        "\n",
        "4.  [Introduction to basic statistics with R](https://ucdavisdatalab.github.io/basic_stats_r_1/#introduction)\n",
        "\n",
        "5.  [Introduction to statistics with R](https://rafalab.dfci.harvard.edu/dsbook/introduction-to-statistics-with-r.html)"
      ]
    }
  ],
  "metadata": {
    "colab": {
      "provenance": [],
      "authorship_tag": "ABX9TyPzTP8fefA0jUkKAV4ovE8Y",
      "include_colab_link": true
    },
    "kernelspec": {
      "display_name": "Python 3",
      "name": "python3"
    },
    "language_info": {
      "name": "python"
    }
  },
  "nbformat": 4,
  "nbformat_minor": 0
}