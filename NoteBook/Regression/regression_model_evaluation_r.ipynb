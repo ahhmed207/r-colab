{
  "nbformat": 4,
  "nbformat_minor": 0,
  "metadata": {
    "colab": {
      "provenance": [],
      "authorship_tag": "ABX9TyOdOGN5eELWdyK9wDCcs+De",
      "include_colab_link": true
    },
    "kernelspec": {
      "name": "python3",
      "display_name": "Python 3"
    },
    "language_info": {
      "name": "python"
    }
  },
  "cells": [
    {
      "cell_type": "markdown",
      "metadata": {
        "id": "view-in-github",
        "colab_type": "text"
      },
      "source": [
        "<a href=\"https://colab.research.google.com/github/zia207/r-colab/blob/main/NoteBook/Regression/regression_model_evaluation_r.ipynb\" target=\"_parent\"><img src=\"https://colab.research.google.com/assets/colab-badge.svg\" alt=\"Open In Colab\"/></a>"
      ]
    },
    {
      "cell_type": "markdown",
      "source": [
        "# Regression Model Validation\n",
        "\n",
        "Zia Ahmed, University at Buffalo"
      ],
      "metadata": {
        "id": "BIYufyfw1KRE"
      }
    },
    {
      "cell_type": "markdown",
      "source": [
        "Validation of regression models is a critical step in the model building process to ensure that the model is accurate and reliable. It is important to validate models to ensure that they can make accurate predictions on new, unseen data.\n",
        "\n",
        "1.  Holdout validation: This technique involves splitting the data into a training set and a validation set. The model is trained on the training set, and its performance is evaluated on the validation set.\n",
        "\n",
        "2.  Cross-validation: This technique involves splitting the data into multiple folds, training the model on one fold, and testing it on the remaining folds. This process is repeated multiple times, and the results are averaged to get a more accurate estimate of model performance.\n",
        "\n",
        "3.  Bootstrap validation: This technique involves creating multiple bootstrap samples of the data and using each sample to train and test the model. The results are averaged to get a more accurate estimate of model performance.\n",
        "\n",
        "4.  Randomized validation: This technique involves randomly splitting the data into training and validation sets multiple times and evaluating the model's performance on each split. The results are averaged to get a more accurate estimate of model performance."
      ],
      "metadata": {
        "id": "0ZHLdNp91ZXM"
      }
    },
    {
      "cell_type": "markdown",
      "source": [
        "### Install rpy2"
      ],
      "metadata": {
        "id": "HNG7Sw5-2NDy"
      }
    },
    {
      "cell_type": "code",
      "source": [
        "!pip uninstall rpy2 -y\n",
        "!pip install rpy2==3.5.1\n",
        "%load_ext rpy2.ipython"
      ],
      "metadata": {
        "colab": {
          "base_uri": "https://localhost:8080/"
        },
        "id": "_QtmP44E1uR3",
        "outputId": "b65e98da-d109-423e-edbd-2b1b2f1eab57"
      },
      "execution_count": 1,
      "outputs": [
        {
          "output_type": "stream",
          "name": "stdout",
          "text": [
            "Found existing installation: rpy2 3.4.2\n",
            "Uninstalling rpy2-3.4.2:\n",
            "  Successfully uninstalled rpy2-3.4.2\n",
            "Collecting rpy2==3.5.1\n",
            "  Downloading rpy2-3.5.1.tar.gz (201 kB)\n",
            "\u001b[2K     \u001b[90m━━━━━━━━━━━━━━━━━━━━━━━━━━━━━━━━━━━━━━━\u001b[0m \u001b[32m201.7/201.7 kB\u001b[0m \u001b[31m3.0 MB/s\u001b[0m eta \u001b[36m0:00:00\u001b[0m\n",
            "\u001b[?25h  Preparing metadata (setup.py) ... \u001b[?25l\u001b[?25hdone\n",
            "Requirement already satisfied: cffi>=1.10.0 in /usr/local/lib/python3.10/dist-packages (from rpy2==3.5.1) (1.15.1)\n",
            "Requirement already satisfied: jinja2 in /usr/local/lib/python3.10/dist-packages (from rpy2==3.5.1) (3.1.2)\n",
            "Requirement already satisfied: pytz in /usr/local/lib/python3.10/dist-packages (from rpy2==3.5.1) (2023.3)\n",
            "Requirement already satisfied: tzlocal in /usr/local/lib/python3.10/dist-packages (from rpy2==3.5.1) (5.0.1)\n",
            "Requirement already satisfied: pycparser in /usr/local/lib/python3.10/dist-packages (from cffi>=1.10.0->rpy2==3.5.1) (2.21)\n",
            "Requirement already satisfied: MarkupSafe>=2.0 in /usr/local/lib/python3.10/dist-packages (from jinja2->rpy2==3.5.1) (2.1.3)\n",
            "Building wheels for collected packages: rpy2\n",
            "  Building wheel for rpy2 (setup.py) ... \u001b[?25l\u001b[?25hdone\n",
            "  Created wheel for rpy2: filename=rpy2-3.5.1-cp310-cp310-linux_x86_64.whl size=314931 sha256=8a9eb18c651aa3ee1659207cceb53c21d5d79aa6479dc9987749a3d85ae29cad\n",
            "  Stored in directory: /root/.cache/pip/wheels/73/a6/ff/4e75dd1ce1cfa2b9a670cbccf6a1e41c553199e9b25f05d953\n",
            "Successfully built rpy2\n",
            "Installing collected packages: rpy2\n",
            "Successfully installed rpy2-3.5.1\n"
          ]
        }
      ]
    },
    {
      "cell_type": "markdown",
      "source": [
        "### Mount Google Drive"
      ],
      "metadata": {
        "id": "xTIh9KCZ2OU0"
      }
    },
    {
      "cell_type": "code",
      "source": [
        "from google.colab import drive\n",
        "drive.mount('/content/drive')"
      ],
      "metadata": {
        "colab": {
          "base_uri": "https://localhost:8080/"
        },
        "id": "vDLEHrwO1ubV",
        "outputId": "b9c3f1dd-cabd-492c-b4e3-ac371d1623d8"
      },
      "execution_count": 2,
      "outputs": [
        {
          "output_type": "stream",
          "name": "stdout",
          "text": [
            "Mounted at /content/drive\n"
          ]
        }
      ]
    },
    {
      "cell_type": "markdown",
      "source": [
        "### Install R-Packages"
      ],
      "metadata": {
        "id": "SS9FRguy2XDk"
      }
    },
    {
      "cell_type": "code",
      "source": [
        "%%R\n",
        "install.packages(c('tidyverse', 'Metrics', 'ggpmisc', 'broom', 'stargazer',\n",
        "                   'report', 'performance', 'see', 'jtools', 'relaimpo', 'MASS', 'leap', 'caret' ),\n",
        "                    lib='drive/My Drive/R/', repos='http://cran.rstudio.com/')"
      ],
      "metadata": {
        "id": "lqmt_zgE1ulB"
      },
      "execution_count": null,
      "outputs": []
    },
    {
      "cell_type": "code",
      "source": [
        "%%R\n",
        "install.packages(c('tidymodels'), lib='drive/My Drive/R/', repos='http://cran.rstudio.com/')"
      ],
      "metadata": {
        "id": "QLxIgz9O1u7g"
      },
      "execution_count": null,
      "outputs": []
    },
    {
      "cell_type": "markdown",
      "source": [
        "### Load Packagess"
      ],
      "metadata": {
        "id": "aFCsOZpM2clV"
      }
    },
    {
      "cell_type": "code",
      "execution_count": 7,
      "metadata": {
        "id": "E570_TpEzKpw"
      },
      "outputs": [],
      "source": [
        "%%R\n",
        ".libPaths('drive/My Drive/R')\n",
        "library(tidyverse)\n",
        "library(broom)\n",
        "library(stargazer)\n",
        "library(report)\n",
        "library(performance)\n",
        "library(Metrics)\n",
        "library(ggpmisc)\n",
        "library(jtools)\n",
        "library(relaimpo)\n",
        "library(MASS)\n",
        "library(leaps)\n",
        "library(caret)\n",
        "library(tidymodels)\n",
        "# library(caret)\n",
        "\n"
      ]
    },
    {
      "cell_type": "markdown",
      "source": [
        "### Data\n",
        "\n",
        "In this exercise we will use [gp_soil_data_na.csv](https://www.dropbox.com/s/9ikm5yct36oflei/gp_soil_data.csv?dl=0) data set."
      ],
      "metadata": {
        "id": "-4qjH0co4V6Z"
      }
    },
    {
      "cell_type": "code",
      "source": [
        "%%R\n",
        "urlfile = \"https://github.com//zia207/r-colab/raw/main/Data/USA/gp_soil_data.csv\"\n",
        "mf<-read_csv(url(urlfile))\n",
        "# create a data-frame\n",
        "df<- mf %>% dplyr::select(SOC, DEM, Slope, MAT, MAP,NDVI, NLCD)\n"
      ],
      "metadata": {
        "colab": {
          "base_uri": "https://localhost:8080/"
        },
        "id": "0JYaypGT4WAj",
        "outputId": "0dbdb355-8cb5-48e6-de1e-dec38d65010c"
      },
      "execution_count": 8,
      "outputs": [
        {
          "output_type": "stream",
          "name": "stdout",
          "text": [
            "Rows: 467 Columns: 19\n",
            "── Column specification ────────────────────────────────────────────────────────\n",
            "Delimiter: \",\"\n",
            "chr  (4): STATE, COUNTY, NLCD, FRG\n",
            "dbl (15): ID, FIPS, STATE_ID, Longitude, Latitude, SOC, DEM, Aspect, Slope, ...\n",
            "\n",
            "ℹ Use `spec()` to retrieve the full column specification for this data.\n",
            "ℹ Specify the column types or set `show_col_types = FALSE` to quiet this message.\n"
          ]
        }
      ]
    },
    {
      "cell_type": "markdown",
      "source": [
        "### Holdout validation\n",
        "\n",
        "Holdout validation is used to evaluate the performance of a regression model. It involves splitting the available dataset into two parts: a training set and a validation or test set. The model is trained on the training set, and its performance is evaluated on the validation set. The validation set is usually a randomly selected subset of the original dataset that was not used during training.\n",
        "\n",
        "The holdout validation technique helps to prevent overfitting, which is a common problem where the model becomes too complex and fits the training data too well, resulting in poor generalization to new data. By using a separate validation set, we can get an estimate of the model's performance on new, unseen data and adjust its parameters or architecture to improve its generalization.\n",
        "\n",
        "To do so, the basic strategy is to:\n",
        "\n",
        "1.  Split data - training and validation or test data\n",
        "\n",
        "2.  Build the model on a training data set\n",
        "\n",
        "3.  Apply the model on a new test data set to make predictions\n",
        "\n",
        "4.  Model Evaluation"
      ],
      "metadata": {
        "id": "9b1yz9Uh4tHF"
      }
    },
    {
      "cell_type": "markdown",
      "source": [
        "#### Split Data\n",
        "\n",
        "We use \\*rsample\" package to split data into training (70%) and test data (30%) set with Stratified Random Sampling. initial_split() creates a single binary split of the data into a training set and testing set.\n",
        "\n",
        "**Stratified random sampling** is a technique for selecting a representative sample from a population, where the sample is chosen in a way that ensures that certain subgroups within the population are adequately represented in the sample."
      ],
      "metadata": {
        "id": "Zei9t3I15EJO"
      }
    },
    {
      "cell_type": "code",
      "source": [
        "%%R\n",
        "set.seed(1245)   # for reproducibility\n",
        "df_split <- initial_split(df, prop = 0.70, strata = NLCD)\n",
        "\n",
        "df_train <- training(df_split)\n",
        "df_test  <- testing(df_split)"
      ],
      "metadata": {
        "id": "gRLQcSGQ5NIX"
      },
      "execution_count": 9,
      "outputs": []
    },
    {
      "cell_type": "code",
      "source": [
        "%%R -w 450 -h 450 -u px\n",
        "# Desnsity plot all, train and test data\n",
        "ggplot()+\n",
        "  geom_density(data = df, aes(SOC))+\n",
        "  geom_density(data = df_train, aes(SOC), color = \"green\")+\n",
        "  geom_density(data = df_test, aes(SOC), color = \"red\") +\n",
        "      xlab(\"Soil Organic Carbon (kg/g)\") +\n",
        "      ylab(\"Density\")"
      ],
      "metadata": {
        "colab": {
          "base_uri": "https://localhost:8080/",
          "height": 467
        },
        "id": "G2EOy9YH5RSg",
        "outputId": "316ada5d-8830-4f6d-ac20-0720637923aa"
      },
      "execution_count": 12,
      "outputs": [
        {
          "output_type": "display_data",
          "data": {
            "image/png": "[encoded data removed]"
          },
          "metadata": {}
        }
      ]
    },
    {
      "cell_type": "markdown",
      "source": [
        "#### Training the model\n",
        "\n",
        "We will train a MLR model with selected predictors:"
      ],
      "metadata": {
        "id": "1wO-ry315qnB"
      }
    },
    {
      "cell_type": "code",
      "source": [
        "%%R\n",
        "# Build the model\n",
        "model <- lm(SOC ~., data = df_train)\n",
        "summary(model)"
      ],
      "metadata": {
        "colab": {
          "base_uri": "https://localhost:8080/"
        },
        "id": "WFwn0l-15xI7",
        "outputId": "287855eb-fa24-4e6e-b4dc-05061ab2adfc"
      },
      "execution_count": 13,
      "outputs": [
        {
          "output_type": "stream",
          "name": "stdout",
          "text": [
            "\n",
            "Call:\n",
            "lm(formula = SOC ~ ., data = df_train)\n",
            "\n",
            "Residuals:\n",
            "     Min       1Q   Median       3Q      Max \n",
            "-10.6734  -2.1107  -0.3629   1.5035  16.1818 \n",
            "\n",
            "Coefficients:\n",
            "                         Estimate Std. Error t value Pr(>|t|)    \n",
            "(Intercept)             6.8788435  2.9917952   2.299 0.022143 *  \n",
            "DEM                    -0.0012209  0.0007619  -1.602 0.110048    \n",
            "Slope                   0.1351551  0.0778406   1.736 0.083484 .  \n",
            "MAT                    -0.4057325  0.1032154  -3.931 0.000104 ***\n",
            "MAP                     0.0073889  0.0018703   3.951 9.62e-05 ***\n",
            "NDVI                    5.7768657  2.7201779   2.124 0.034471 *  \n",
            "NLCDHerbaceous         -1.8260715  0.9712617  -1.880 0.061014 .  \n",
            "NLCDPlanted/Cultivated -2.8156619  1.1251168  -2.503 0.012835 *  \n",
            "NLCDShrubland          -2.2404223  0.9175233  -2.442 0.015162 *  \n",
            "---\n",
            "Signif. codes:  0 ‘***’ 0.001 ‘**’ 0.01 ‘*’ 0.05 ‘.’ 0.1 ‘ ’ 1\n",
            "\n",
            "Residual standard error: 3.878 on 316 degrees of freedom\n",
            "Multiple R-squared:  0.4722,\tAdjusted R-squared:  0.4589 \n",
            "F-statistic: 35.35 on 8 and 316 DF,  p-value: < 2.2e-16\n",
            "\n"
          ]
        }
      ]
    },
    {
      "cell_type": "markdown",
      "source": [
        "#### Make Prediction\n",
        "\n",
        "We will use predict() function to predict SOC on test locations."
      ],
      "metadata": {
        "id": "q_TKgT7n51FT"
      }
    },
    {
      "cell_type": "code",
      "source": [
        "%%R\n",
        "df_test$Pred.SOC <- model %>% predict(df_test)"
      ],
      "metadata": {
        "id": "BBDRHI4x516c"
      },
      "execution_count": 14,
      "outputs": []
    },
    {
      "cell_type": "markdown",
      "source": [
        "#### Model Evaluation\n",
        "\n",
        "We will use **Metrics** package to compute several metrics to evaluate the model. All functions in the Metrics package take at least two arguments: **actual** and **predicted**.\n",
        "\n",
        "Following metrices can be calculated using Metrics packages. It is recommended to use multiple evaluation metrics to assess the performance of the regression model as each metric provides a different perspective on the model's accuracy."
      ],
      "metadata": {
        "id": "6aLFGeGb562D"
      }
    },
    {
      "cell_type": "code",
      "source": [
        "%%R\n",
        "RMSE<- Metrics::rmse(df_test$SOC, df_test$Pred.SOC)\n",
        "RMSE"
      ],
      "metadata": {
        "colab": {
          "base_uri": "https://localhost:8080/"
        },
        "id": "ujzeYghs58ot",
        "outputId": "f59610a3-2e01-4503-ebd1-939e250faec9"
      },
      "execution_count": 15,
      "outputs": [
        {
          "output_type": "stream",
          "name": "stdout",
          "text": [
            "[1] 3.739934\n"
          ]
        }
      ]
    },
    {
      "cell_type": "code",
      "source": [
        "%%R\n",
        "MAE<- Metrics::mae(df_test$SOC, df_test$Pred.SOC)\n",
        "MAE"
      ],
      "metadata": {
        "colab": {
          "base_uri": "https://localhost:8080/"
        },
        "id": "KjApAezZ6HNH",
        "outputId": "9adc15c6-c887-42ca-f099-2f41f8717177"
      },
      "execution_count": 16,
      "outputs": [
        {
          "output_type": "stream",
          "name": "stdout",
          "text": [
            "[1] 2.711196\n"
          ]
        }
      ]
    },
    {
      "cell_type": "markdown",
      "source": [
        "We can plot observed and predicted values with fitted regression line with ggplot2"
      ],
      "metadata": {
        "id": "avSCEtwK6OPb"
      }
    },
    {
      "cell_type": "code",
      "source": [
        "%%R -w 450 -h 450 -u px\n",
        "formula<-y~x\n",
        "\n",
        "ggplot(df_test, aes(SOC,Pred.SOC)) +\n",
        "  geom_point() +\n",
        "  geom_smooth(method = \"lm\")+\n",
        "  stat_poly_eq(use_label(c(\"eq\", \"adj.R2\")), formula = formula) +\n",
        "  ggtitle(\"Figure: Observed vs Predicted SOC \") +\n",
        "  xlab(\"Observed\") + ylab(\"Predicted\") +\n",
        "  scale_x_continuous(limits=c(0,20), breaks=seq(0, 20, 5))+\n",
        "  scale_y_continuous(limits=c(0,20), breaks=seq(0, 20, 5)) +\n",
        "  # Flip the bars\n",
        "  theme(\n",
        "    panel.background = element_rect(fill = \"grey95\",colour = \"gray75\",size = 0.5, linetype = \"solid\"),\n",
        "    axis.line = element_line(colour = \"grey\"),\n",
        "    plot.title = element_text(size = 14, hjust = 0.5),\n",
        "    axis.title.x = element_text(size = 14),\n",
        "    axis.title.y = element_text(size = 14),\n",
        "    axis.text.x=element_text(size=13, colour=\"black\"),\n",
        "    axis.text.y=element_text(size=13,angle = 90,vjust = 0.5, hjust=0.5, colour='black'))"
      ],
      "metadata": {
        "colab": {
          "base_uri": "https://localhost:8080/",
          "height": 484
        },
        "id": "aipdx1YI6OXl",
        "outputId": "d7bcd170-d9a7-428c-f3f5-a65dfa7ac8d2"
      },
      "execution_count": 17,
      "outputs": [
        {
          "output_type": "stream",
          "name": "stdout",
          "text": [
            "`geom_smooth()` using formula = 'y ~ x'\n"
          ]
        },
        {
          "output_type": "display_data",
          "data": {
            "image/png": "[encoded data removed]"
          },
          "metadata": {}
        }
      ]
    },
    {
      "cell_type": "markdown",
      "source": [
        "### Cross Validation\n",
        "\n",
        "Cross-validation is a technique used to assess the performance and generalizability of a model. The basic idea is to split the data into several subsets, or folds, and use each subset in turn to evaluate the model trained on the remaining data.\n",
        "\n",
        "Three major types of cross-validation techniques are usually use for model evaluation:\n",
        "\n",
        "-   k-fold Cross Validation\n",
        "\n",
        "-   Repeated k-fold Cross Validation\n",
        "\n",
        "-   Leave One Out Cross Validation"
      ],
      "metadata": {
        "id": "fjFZhtux6da6"
      }
    },
    {
      "cell_type": "markdown",
      "source": [
        "#### K-fold Cross Validation\n",
        "\n",
        "The most common form of cross-validation is k-fold cross-validation, in which the data is divided into k non-overlapping folds of roughly equal size. The model is then trained on k-1 of the folds and evaluated on the remaining fold. This process is repeated k times, with each fold used as the validation set exactly once. The performance of the model is typically assessed by averaging the evaluation results across the k folds.\n",
        "\n",
        "To perform cross-validation using the **caret** package, one can use the trainControl() function to specify the details of the cross-validation procedure, such as the number of folds and the type of resampling. Then, the train() function can be used to fit a model using the specified cross-validation procedure."
      ],
      "metadata": {
        "id": "1pbQwh1B6eTd"
      }
    },
    {
      "cell_type": "code",
      "source": [
        "%%R\n",
        "# Define training control\n",
        "set.seed(123)\n",
        "train.control <- trainControl(method = \"cv\", number = 10)\n",
        "# Train the model\n",
        "model.kfcv <- caret::train(SOC ~., data = df_train,\n",
        "                           method = \"lm\",\n",
        "                          trControl = train.control)\n",
        "# Summarize the results\n",
        "print(model.kfcv)"
      ],
      "metadata": {
        "colab": {
          "base_uri": "https://localhost:8080/"
        },
        "id": "HJAhxFUN6m-k",
        "outputId": "9d454a88-ff8f-4164-8db0-e1fdd8b5c16a"
      },
      "execution_count": 18,
      "outputs": [
        {
          "output_type": "stream",
          "name": "stdout",
          "text": [
            "Linear Regression \n",
            "\n",
            "325 samples\n",
            "  6 predictor\n",
            "\n",
            "No pre-processing\n",
            "Resampling: Cross-Validated (10 fold) \n",
            "Summary of sample sizes: 292, 292, 292, 293, 293, 293, ... \n",
            "Resampling results:\n",
            "\n",
            "  RMSE      Rsquared   MAE   \n",
            "  3.878269  0.4431111  2.8183\n",
            "\n",
            "Tuning parameter 'intercept' was held constant at a value of TRUE\n"
          ]
        }
      ]
    },
    {
      "cell_type": "markdown",
      "source": [
        "#### Repeated k-fold Cross Validation\n",
        "\n",
        "It is similar to k-fold cross-validation, but the process is repeated multiple times with different random splits of the data. In k-fold cross-validation, the data is divided into k equally sized folds, and the model is trained and tested k times, with each fold being used once as the testing data and the remaining folds as training data. The average of these k performance measures is then used as an estimate of the model's performance.\n",
        "\n",
        "The following example uses 10-fold cross validation with 3 repeats:"
      ],
      "metadata": {
        "id": "D9TEY0Qa6t1b"
      }
    },
    {
      "cell_type": "code",
      "source": [
        "%%R\n",
        "set.seed(123)\n",
        "train.control <- trainControl(method = \"repeatedcv\",\n",
        "                              number = 10, repeats = 5)\n",
        "# Train the model\n",
        "model.rkfcv <- train(SOC ~., data = df_train, method = \"lm\",\n",
        "               trControl = train.control)\n",
        "# Summarize the results\n",
        "print(model.rkfcv)"
      ],
      "metadata": {
        "colab": {
          "base_uri": "https://localhost:8080/"
        },
        "id": "P-MIoabD6utC",
        "outputId": "e4849187-a992-4a16-9e3f-2cab47ee4cfb"
      },
      "execution_count": 19,
      "outputs": [
        {
          "output_type": "stream",
          "name": "stdout",
          "text": [
            "Linear Regression \n",
            "\n",
            "325 samples\n",
            "  6 predictor\n",
            "\n",
            "No pre-processing\n",
            "Resampling: Cross-Validated (10 fold, repeated 5 times) \n",
            "Summary of sample sizes: 292, 292, 292, 293, 293, 293, ... \n",
            "Resampling results:\n",
            "\n",
            "  RMSE      Rsquared   MAE     \n",
            "  3.902973  0.4660419  2.824213\n",
            "\n",
            "Tuning parameter 'intercept' was held constant at a value of TRUE\n"
          ]
        }
      ]
    },
    {
      "cell_type": "markdown",
      "source": [
        "#### Leave One Out Cross Validation or LOOCV\n",
        "\n",
        "Leave One Out Cross Validation (LOOCV) is a type of cross-validation method used in statistical analysis and machine learning to evaluate the performance of a model. In LOOCV, the data is split into training and testing sets in such a way that each observation is used as a testing sample exactly once.\n",
        "\n",
        "The LOOCV process involves removing one observation from the data set and training the model on the remaining n-1 observations. The removed observation is then used as the test set, and the performance of the model is evaluated on this single observation. This process is repeated for each observation in the data set, resulting in n performance measures. The average of these performance measures is then used as an estimate of the model's performance.\n",
        "\n",
        "The advantage of the **LOOCV** method is that we make use all data points reducing potential bias. However, the process is repeated as many times as there are data points, resulting to a higher execution time when n is extremely large."
      ],
      "metadata": {
        "id": "RiKnwOqB61Rl"
      }
    },
    {
      "cell_type": "code",
      "source": [
        "%%R\n",
        "# Define training control\n",
        "train.control <- trainControl(method = \"LOOCV\")\n",
        "# Train the model\n",
        "model.loocv <- train(SOC ~., data = df_train, method = \"lm\",\n",
        "               trControl = train.control)\n",
        "# Summarize the results\n",
        "print(model.loocv)"
      ],
      "metadata": {
        "colab": {
          "base_uri": "https://localhost:8080/"
        },
        "id": "UzCPWz7t62Rd",
        "outputId": "e37404f0-8339-4be3-fa6f-757a1d34267f"
      },
      "execution_count": 20,
      "outputs": [
        {
          "output_type": "stream",
          "name": "stdout",
          "text": [
            "Linear Regression \n",
            "\n",
            "325 samples\n",
            "  6 predictor\n",
            "\n",
            "No pre-processing\n",
            "Resampling: Leave-One-Out Cross-Validation \n",
            "Summary of sample sizes: 324, 324, 324, 324, 324, 324, ... \n",
            "Resampling results:\n",
            "\n",
            "  RMSE      Rsquared   MAE     \n",
            "  3.952533  0.4370173  2.828391\n",
            "\n",
            "Tuning parameter 'intercept' was held constant at a value of TRUE\n"
          ]
        }
      ]
    },
    {
      "cell_type": "markdown",
      "source": [
        "### Bootstrap validation\n",
        "\n",
        "Bootstrap validation is a resampling technique used to estimate the uncertainty of a model's performance."
      ],
      "metadata": {
        "id": "TCukFEia67nI"
      }
    },
    {
      "cell_type": "code",
      "source": [
        "%%R\n",
        "# Define training control\n",
        "train.control <- trainControl(method = \"boot\", number = 100)\n",
        "# Train the model\n",
        "model.boot <- train(SOC ~., data = df_train, method = \"lm\",\n",
        "               trControl = train.control)\n",
        "# Summarize the results\n",
        "print(model.boot)"
      ],
      "metadata": {
        "colab": {
          "base_uri": "https://localhost:8080/"
        },
        "id": "N_fbPsQN7A0A",
        "outputId": "0f96307d-b2cb-4ff6-d5e4-3ca61b31f56d"
      },
      "execution_count": 21,
      "outputs": [
        {
          "output_type": "stream",
          "name": "stdout",
          "text": [
            "Linear Regression \n",
            "\n",
            "325 samples\n",
            "  6 predictor\n",
            "\n",
            "No pre-processing\n",
            "Resampling: Bootstrapped (100 reps) \n",
            "Summary of sample sizes: 325, 325, 325, 325, 325, 325, ... \n",
            "Resampling results:\n",
            "\n",
            "  RMSE    Rsquared   MAE     \n",
            "  4.0037  0.4227783  2.871766\n",
            "\n",
            "Tuning parameter 'intercept' was held constant at a value of TRUE\n"
          ]
        }
      ]
    }
  ]
}