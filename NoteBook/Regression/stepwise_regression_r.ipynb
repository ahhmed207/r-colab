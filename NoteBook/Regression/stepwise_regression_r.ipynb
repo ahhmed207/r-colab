{
  "nbformat": 4,
  "nbformat_minor": 0,
  "metadata": {
    "colab": {
      "provenance": [],
      "authorship_tag": "ABX9TyPkvApbeMNEmeQM4UzfzOvQ",
      "include_colab_link": true
    },
    "kernelspec": {
      "name": "python3",
      "display_name": "Python 3"
    },
    "language_info": {
      "name": "python"
    }
  },
  "cells": [
    {
      "cell_type": "markdown",
      "metadata": {
        "id": "view-in-github",
        "colab_type": "text"
      },
      "source": [
        "<a href=\"https://colab.research.google.com/github/zia207/r-colab/blob/main/NoteBook/Regression/stepwise_regression_r.ipynb\" target=\"_parent\"><img src=\"https://colab.research.google.com/assets/colab-badge.svg\" alt=\"Open In Colab\"/></a>"
      ]
    },
    {
      "cell_type": "markdown",
      "source": [
        "# Step-wise Regression Analysis in R\n",
        "\n",
        "Zia Ahmed"
      ],
      "metadata": {
        "id": "GwFj5Nbp0Fps"
      }
    },
    {
      "cell_type": "markdown",
      "source": [
        "Stepwise regression analysis is a statistical method used to select a subset of predictor variables that best explain the variation in a response variable. It involves adding or removing variables from a multiple regression model based on their contribution to the model's overall predictive power.\n",
        "\n",
        "The two main types of stepwise regression are forward stepwise regression and backward stepwise regression. In forward stepwise regression, variables are added to the model one at a time, starting with the variable that has the strongest correlation with the response variable. In backward stepwise regression, variables are removed from the model one at a time, starting with the variable that has the weakest correlation with the response variable. Bidirectional Stepwise Regression is a combination of forward selection (for adding significant terms) and backward selection (for removing nonsignificant terms). As in forward selection, we start with only the intercept and add the most significant term to the model. We continue to add the most significant variables, one at a time. We use a p-value threshold to determine when to stop adding terms to the model."
      ],
      "metadata": {
        "id": "fcg-EaYy0ixe"
      }
    },
    {
      "cell_type": "markdown",
      "source": [
        "### Install rpy2"
      ],
      "metadata": {
        "id": "qZemCIE00HW2"
      }
    },
    {
      "cell_type": "code",
      "execution_count": 1,
      "metadata": {
        "id": "m7N9T-Liy7Oy",
        "colab": {
          "base_uri": "https://localhost:8080/"
        },
        "outputId": "9b1adde2-3efc-48a0-c10f-e95de229f140"
      },
      "outputs": [
        {
          "output_type": "stream",
          "name": "stdout",
          "text": [
            "Found existing installation: rpy2 3.4.2\n",
            "Uninstalling rpy2-3.4.2:\n",
            "  Successfully uninstalled rpy2-3.4.2\n",
            "Collecting rpy2==3.5.1\n",
            "  Downloading rpy2-3.5.1.tar.gz (201 kB)\n",
            "\u001b[2K     \u001b[90m━━━━━━━━━━━━━━━━━━━━━━━━━━━━━━━━━━━━━━━\u001b[0m \u001b[32m201.7/201.7 kB\u001b[0m \u001b[31m3.9 MB/s\u001b[0m eta \u001b[36m0:00:00\u001b[0m\n",
            "\u001b[?25h  Preparing metadata (setup.py) ... \u001b[?25l\u001b[?25hdone\n",
            "Requirement already satisfied: cffi>=1.10.0 in /usr/local/lib/python3.10/dist-packages (from rpy2==3.5.1) (1.15.1)\n",
            "Requirement already satisfied: jinja2 in /usr/local/lib/python3.10/dist-packages (from rpy2==3.5.1) (3.1.2)\n",
            "Requirement already satisfied: pytz in /usr/local/lib/python3.10/dist-packages (from rpy2==3.5.1) (2023.3)\n",
            "Requirement already satisfied: tzlocal in /usr/local/lib/python3.10/dist-packages (from rpy2==3.5.1) (5.0.1)\n",
            "Requirement already satisfied: pycparser in /usr/local/lib/python3.10/dist-packages (from cffi>=1.10.0->rpy2==3.5.1) (2.21)\n",
            "Requirement already satisfied: MarkupSafe>=2.0 in /usr/local/lib/python3.10/dist-packages (from jinja2->rpy2==3.5.1) (2.1.3)\n",
            "Building wheels for collected packages: rpy2\n",
            "  Building wheel for rpy2 (setup.py) ... \u001b[?25l\u001b[?25hdone\n",
            "  Created wheel for rpy2: filename=rpy2-3.5.1-cp310-cp310-linux_x86_64.whl size=314922 sha256=cf040c000801b87e5ce312ba3a569f5d40b2d17a4530ae2e0453b1d742eb8dfc\n",
            "  Stored in directory: /root/.cache/pip/wheels/73/a6/ff/4e75dd1ce1cfa2b9a670cbccf6a1e41c553199e9b25f05d953\n",
            "Successfully built rpy2\n",
            "Installing collected packages: rpy2\n",
            "Successfully installed rpy2-3.5.1\n"
          ]
        }
      ],
      "source": [
        "!pip uninstall rpy2 -y\n",
        "!pip install rpy2==3.5.1\n",
        "%load_ext rpy2.ipython"
      ]
    },
    {
      "cell_type": "markdown",
      "source": [
        "### Mount Google Drive"
      ],
      "metadata": {
        "id": "9QGaiT2M0OLc"
      }
    },
    {
      "cell_type": "code",
      "source": [
        "from google.colab import drive\n",
        "drive.mount('/content/drive')"
      ],
      "metadata": {
        "id": "LnfmZ6cFzQX0",
        "colab": {
          "base_uri": "https://localhost:8080/"
        },
        "outputId": "1823378f-c752-4194-cd85-b3f28b0d026e"
      },
      "execution_count": 2,
      "outputs": [
        {
          "output_type": "stream",
          "name": "stdout",
          "text": [
            "Mounted at /content/drive\n"
          ]
        }
      ]
    },
    {
      "cell_type": "markdown",
      "source": [
        "### Install Packages"
      ],
      "metadata": {
        "id": "dMCj6JkZ0R2I"
      }
    },
    {
      "cell_type": "code",
      "source": [
        "%%R\n",
        "install.packages(c('tidyverse', 'Metrics', 'ggpmisc', 'broom', 'stargazer', 'report', 'performance', 'see', 'jtools', 'relaimpo'), lib='drive/My Drive/R/', repos='http://cran.rstudio.com/')\n"
      ],
      "metadata": {
        "id": "rH_bc3fUzXgI"
      },
      "execution_count": null,
      "outputs": []
    },
    {
      "cell_type": "code",
      "source": [
        "%%R\n",
        "install.packages(c('MASS', 'leaps', 'caret'), lib='drive/My Drive/R/', repos='http://cran.rstudio.com/')"
      ],
      "metadata": {
        "id": "fBWWDolpzrAL"
      },
      "execution_count": null,
      "outputs": []
    },
    {
      "cell_type": "markdown",
      "source": [
        "### Load Packages"
      ],
      "metadata": {
        "id": "MHh1gvo20chj"
      }
    },
    {
      "cell_type": "code",
      "source": [
        "%%R\n",
        ".libPaths('drive/My Drive/R')\n",
        "library(tidyverse)\n",
        "library(broom)\n",
        "library(stargazer)\n",
        "library(report)\n",
        "library(performance)\n",
        "library(Metrics)\n",
        "library(ggpmisc)\n",
        "library(jtools)\n",
        "library(relaimpo)\n",
        "library(MASS)\n",
        "library(leaps)\n",
        "library(caret)"
      ],
      "metadata": {
        "id": "zAef6dOnzdTd"
      },
      "execution_count": null,
      "outputs": []
    },
    {
      "cell_type": "markdown",
      "source": [
        "###Data\n",
        "In this exercise we will use following data set.\n",
        "\n",
        "[gp_soil_data.csv](https://www.dropbox.com/s/9ikm5yct36oflei/gp_soil_data.csv?dl=0)"
      ],
      "metadata": {
        "id": "vzkx8Msd0V6m"
      }
    },
    {
      "cell_type": "code",
      "source": [
        "\n",
        "%%R\n",
        "urlfile = \"https://github.com//zia207/r-colab/raw/main/Data/USA/gp_soil_data.csv\"\n",
        "mf<-read_csv(url(urlfile))"
      ],
      "metadata": {
        "id": "h5VcVkIwziC5",
        "colab": {
          "base_uri": "https://localhost:8080/"
        },
        "outputId": "fa73c4fc-9716-4e78-fcd3-2a954dceec3b"
      },
      "execution_count": 6,
      "outputs": [
        {
          "output_type": "stream",
          "name": "stdout",
          "text": [
            "Rows: 467 Columns: 19\n",
            "── Column specification ────────────────────────────────────────────────────────\n",
            "Delimiter: \",\"\n",
            "chr  (4): STATE, COUNTY, NLCD, FRG\n",
            "dbl (15): ID, FIPS, STATE_ID, Longitude, Latitude, SOC, DEM, Aspect, Slope, ...\n",
            "\n",
            "ℹ Use `spec()` to retrieve the full column specification for this data.\n",
            "ℹ Specify the column types or set `show_col_types = FALSE` to quiet this message.\n"
          ]
        }
      ]
    },
    {
      "cell_type": "markdown",
      "source": [
        "First, we create a dataframe with five predictors ('DEM', 'Slope', 'MAT', 'MAP','NDVI') and create a training and test data set."
      ],
      "metadata": {
        "id": "pwpcS98Q1P3n"
      }
    },
    {
      "cell_type": "code",
      "source": [
        "%%R\n",
        "# Create a data-frame\n",
        "df<-mf %>% dplyr::select(SOC, DEM, Slope, MAT, MAP,NDVI)"
      ],
      "metadata": {
        "id": "UYvKACXB1TkJ"
      },
      "execution_count": 7,
      "outputs": []
    },
    {
      "cell_type": "markdown",
      "source": [
        "There are many functions and R packages for computing stepwise regression. These include:\n",
        "\n",
        "### Stepwise Regression with MASS Package\n",
        "\n",
        "The MASS package in R provides a function called stepAIC() that can be used to perform stepwise regression analysis with either forward selection, backward elimination, or both."
      ],
      "metadata": {
        "id": "-D0e0f-01jGa"
      }
    },
    {
      "cell_type": "markdown",
      "source": [
        "#### Full Model\n",
        "\n",
        "First,  you have to fit a MLR model with all predictors:"
      ],
      "metadata": {
        "id": "286p1f4n1u88"
      }
    },
    {
      "cell_type": "code",
      "source": [
        "%%R\n",
        "model.full <- lm(SOC ~., data = df)\n",
        "anova(model.full)"
      ],
      "metadata": {
        "id": "xWSKtK_51mJV",
        "colab": {
          "base_uri": "https://localhost:8080/"
        },
        "outputId": "a8d15e03-6010-4751-939c-ac12a6a06bc5"
      },
      "execution_count": 8,
      "outputs": [
        {
          "output_type": "stream",
          "name": "stdout",
          "text": [
            "Analysis of Variance Table\n",
            "\n",
            "Response: SOC\n",
            "           Df Sum Sq Mean Sq F value    Pr(>F)    \n",
            "DEM         1  329.6  329.61  22.686 2.559e-06 ***\n",
            "Slope       1 1941.4 1941.39 133.621 < 2.2e-16 ***\n",
            "MAT         1 1180.8 1180.77  81.270 < 2.2e-16 ***\n",
            "MAP         1 1458.0 1458.03 100.352 < 2.2e-16 ***\n",
            "NDVI        1  254.9  254.88  17.543 3.367e-05 ***\n",
            "Residuals 461 6697.9   14.53                      \n",
            "---\n",
            "Signif. codes:  0 ‘***’ 0.001 ‘**’ 0.01 ‘*’ 0.05 ‘.’ 0.1 ‘ ’ 1\n"
          ]
        }
      ]
    },
    {
      "cell_type": "markdown",
      "source": [
        "#### Choose a model by AIC in a Stepwise Algorithm\n",
        "\n",
        "**stepAIC()** function in **MASS package**, which choose the best model by **Akaike Information Criterion (AIC)**. It has an option named **direction**, which can take the following values:\n",
        "\n",
        "**both** - for stepwise regression, both forward and backward selection\n",
        "\n",
        "**backward**- for backward selection\n",
        "\n",
        "**forward** - for forward selection)"
      ],
      "metadata": {
        "id": "ONTeP0qm1wg3"
      }
    },
    {
      "cell_type": "code",
      "source": [
        "%%R\n",
        "# Stepwise regression model both forward and backward selection\n",
        "model.MASS <- MASS::stepAIC(model.full, direction = \"both\",\n",
        "                      trace = FALSE)\n",
        "summary(model.MASS)"
      ],
      "metadata": {
        "id": "HNGb13nz10DL",
        "colab": {
          "base_uri": "https://localhost:8080/"
        },
        "outputId": "b7dd3ebc-ab84-4ffa-ddfd-e0abee42f8a9"
      },
      "execution_count": 9,
      "outputs": [
        {
          "output_type": "stream",
          "name": "stdout",
          "text": [
            "\n",
            "Call:\n",
            "lm(formula = SOC ~ Slope + MAT + MAP + NDVI, data = df)\n",
            "\n",
            "Residuals:\n",
            "     Min       1Q   Median       3Q      Max \n",
            "-13.6203  -2.1059  -0.4424   1.3312  16.2115 \n",
            "\n",
            "Coefficients:\n",
            "             Estimate Std. Error t value Pr(>|t|)    \n",
            "(Intercept)  1.088559   0.845323   1.288  0.19848    \n",
            "Slope        0.139063   0.050332   2.763  0.00596 ** \n",
            "MAT         -0.284372   0.059988  -4.741 2.84e-06 ***\n",
            "MAP          0.006439   0.001565   4.115 4.59e-05 ***\n",
            "NDVI         8.903651   2.041594   4.361 1.60e-05 ***\n",
            "---\n",
            "Signif. codes:  0 ‘***’ 0.001 ‘**’ 0.01 ‘*’ 0.05 ‘.’ 0.1 ‘ ’ 1\n",
            "\n",
            "Residual standard error: 3.81 on 462 degrees of freedom\n",
            "Multiple R-squared:  0.4348,\tAdjusted R-squared:  0.4299 \n",
            "F-statistic: 88.84 on 4 and 462 DF,  p-value: < 2.2e-16\n",
            "\n"
          ]
        }
      ]
    },
    {
      "cell_type": "markdown",
      "source": [
        "We can explain the output with report package:"
      ],
      "metadata": {
        "id": "GwGWzzSOwSZI"
      }
    },
    {
      "cell_type": "code",
      "source": [
        "%%R\n",
        "report::report(model.MASS)"
      ],
      "metadata": {
        "colab": {
          "base_uri": "https://localhost:8080/"
        },
        "id": "y_zq7BYpwSiS",
        "outputId": "0102ecee-2cc2-4378-b332-d726562de77e"
      },
      "execution_count": 10,
      "outputs": [
        {
          "output_type": "stream",
          "name": "stdout",
          "text": [
            "We fitted a linear model (estimated using OLS) to predict SOC with Slope, MAT,\n",
            "MAP and NDVI (formula: SOC ~ Slope + MAT + MAP + NDVI). The model explains a\n",
            "statistically significant and substantial proportion of variance (R2 = 0.43,\n",
            "F(4, 462) = 88.84, p < .001, adj. R2 = 0.43). The model's intercept,\n",
            "corresponding to Slope = 0, MAT = 0, MAP = 0 and NDVI = 0, is at 1.09 (95% CI\n",
            "[-0.57, 2.75], t(462) = 1.29, p = 0.198). Within this model:\n",
            "\n",
            "  - The effect of Slope is statistically significant and positive (beta = 0.14,\n",
            "95% CI [0.04, 0.24], t(462) = 2.76, p = 0.006; Std. beta = 0.13, 95% CI [0.04,\n",
            "0.22])\n",
            "  - The effect of MAT is statistically significant and negative (beta = -0.28,\n",
            "95% CI [-0.40, -0.17], t(462) = -4.74, p < .001; Std. beta = -0.23, 95% CI\n",
            "[-0.33, -0.14])\n",
            "  - The effect of MAP is statistically significant and positive (beta = 6.44e-03,\n",
            "95% CI [3.36e-03, 9.51e-03], t(462) = 4.11, p < .001; Std. beta = 0.26, 95% CI\n",
            "[0.14, 0.39])\n",
            "  - The effect of NDVI is statistically significant and positive (beta = 8.90,\n",
            "95% CI [4.89, 12.92], t(462) = 4.36, p < .001; Std. beta = 0.29, 95% CI [0.16,\n",
            "0.41])\n",
            "\n",
            "Standardized parameters were obtained by fitting the model on a standardized\n",
            "version of the dataset. 95% Confidence Intervals (CIs) and p-values were\n",
            "computed using a Wald t-distribution approximation.\n"
          ]
        }
      ]
    },
    {
      "cell_type": "markdown",
      "source": [
        "### Stepwise Regression with leap Package\n",
        "\n",
        "The leap package in R provides functions for performing stepwise regression analysis using various criteria for model selection, including AIC, BIC, and adjusted R-squared\n",
        "\n",
        "#### Model selection by exhaustive search, forward or backward stepwise, or sequential replacement\n",
        "\n",
        "**regsubsets()** from **leaps** package, which has the tuning parameter **nvmax** specifying the maximal number of predictors to incorporate in the model. It returns multiple models with different size up to **nvmax**. We need to compare the performance of the different models for choosing the best one. **regsubsets()** has the option method, which can take the values **backward**, **forward** and **seqrep** (seqrep = sequential replacement, combination of forward and backward selections)."
      ],
      "metadata": {
        "id": "OnI58u5jwc8d"
      }
    },
    {
      "cell_type": "code",
      "source": [
        "%%R\n",
        "model.leaps <- leaps::regsubsets(SOC~., data =df, nvmax = 5,\n",
        "                     method = \"seqrep\")\n",
        "summary(model.leaps)"
      ],
      "metadata": {
        "colab": {
          "base_uri": "https://localhost:8080/"
        },
        "id": "zLSnTSdnweK5",
        "outputId": "ec69f5c0-95b8-42af-c619-e3bbac9644e2"
      },
      "execution_count": 11,
      "outputs": [
        {
          "output_type": "stream",
          "name": "stdout",
          "text": [
            "Subset selection object\n",
            "Call: regsubsets.formula(SOC ~ ., data = df, nvmax = 5, method = \"seqrep\")\n",
            "5 Variables  (and intercept)\n",
            "      Forced in Forced out\n",
            "DEM       FALSE      FALSE\n",
            "Slope     FALSE      FALSE\n",
            "MAT       FALSE      FALSE\n",
            "MAP       FALSE      FALSE\n",
            "NDVI      FALSE      FALSE\n",
            "1 subsets of each size up to 5\n",
            "Selection Algorithm: 'sequential replacement'\n",
            "         DEM Slope MAT MAP NDVI\n",
            "1  ( 1 ) \" \" \" \"   \" \" \" \" \"*\" \n",
            "2  ( 1 ) \" \" \" \"   \"*\" \" \" \"*\" \n",
            "3  ( 1 ) \" \" \" \"   \"*\" \"*\" \"*\" \n",
            "4  ( 1 ) \" \" \"*\"   \"*\" \"*\" \"*\" \n",
            "5  ( 1 ) \"*\" \"*\"   \"*\" \"*\" \"*\" \n"
          ]
        }
      ]
    },
    {
      "cell_type": "markdown",
      "source": [
        "#### Extract Model Coefficients"
      ],
      "metadata": {
        "id": "Pin6q88rwo6K"
      }
    },
    {
      "cell_type": "code",
      "source": [
        "%%R\n",
        "coef(model.leaps, 1:5)"
      ],
      "metadata": {
        "colab": {
          "base_uri": "https://localhost:8080/"
        },
        "id": "-ANAPIQYwp0c",
        "outputId": "a1731b77-067d-4274-f359-6dc9ee80a59d"
      },
      "execution_count": 12,
      "outputs": [
        {
          "output_type": "stream",
          "name": "stdout",
          "text": [
            "[[1]]\n",
            "(Intercept)        NDVI \n",
            "  -1.643239   18.299763 \n",
            "\n",
            "[[2]]\n",
            "(Intercept)         MAT        NDVI \n",
            "  1.7404457  -0.3019544  16.6916581 \n",
            "\n",
            "[[3]]\n",
            " (Intercept)          MAT          MAP         NDVI \n",
            " 2.312513577 -0.384202169  0.006789594  9.269312903 \n",
            "\n",
            "[[4]]\n",
            "(Intercept)       Slope         MAT         MAP        NDVI \n",
            " 1.08855877  0.13906306 -0.28437213  0.00643859  8.90365110 \n",
            "\n",
            "[[5]]\n",
            "  (Intercept)           DEM         Slope           MAT           MAP \n",
            " 2.2088309462 -0.0003852617  0.1660844917 -0.3239458581  0.0061025986 \n",
            "         NDVI \n",
            " 8.6687409551 \n",
            "\n"
          ]
        }
      ]
    },
    {
      "cell_type": "markdown",
      "source": [
        "#### Variance-Covariance Matrix\n",
        "\n",
        "The variance-covariance matrix (also known as the covariance matrix or the dispersion matrix) is a matrix that summarizes the variances and covariances of a set of variables. In statistical analysis, it is used to describe the relationships between two or more variables."
      ],
      "metadata": {
        "id": "IMmysvvywvJ6"
      }
    },
    {
      "cell_type": "code",
      "source": [
        "%%R\n",
        "vcov(model.leaps, 5)"
      ],
      "metadata": {
        "colab": {
          "base_uri": "https://localhost:8080/"
        },
        "id": "CuhfnXBOwwVh",
        "outputId": "d090639d-fc1d-4ca5-81e2-e33d154fb674"
      },
      "execution_count": 13,
      "outputs": [
        {
          "output_type": "stream",
          "name": "stdout",
          "text": [
            "              (Intercept)           DEM         Slope           MAT\n",
            "(Intercept)  3.2407929391 -8.685001e-04  3.859343e-02 -1.294394e-01\n",
            "DEM         -0.0008685001  2.986772e-07 -2.094859e-05  3.067986e-05\n",
            "Slope        0.0385934317 -2.094859e-05  4.005389e-03 -3.312149e-04\n",
            "MAT         -0.1294394368  3.067986e-05 -3.312149e-04  6.753831e-03\n",
            "MAP         -0.0004959253  2.604798e-07 -2.467079e-05 -7.335917e-06\n",
            "NDVI        -1.3307235274  1.821160e-04 -1.944182e-02  5.648719e-02\n",
            "                      MAP         NDVI\n",
            "(Intercept) -4.959253e-04 -1.330723527\n",
            "DEM          2.604798e-07  0.000182116\n",
            "Slope       -2.467079e-05 -0.019441820\n",
            "MAT         -7.335917e-06  0.056487186\n",
            "MAP          2.678305e-06 -0.002486248\n",
            "NDVI        -2.486248e-03  4.283693218\n"
          ]
        }
      ]
    },
    {
      "cell_type": "markdown",
      "source": [
        "### Stepwise regression with caret package\n",
        "\n",
        "The R package [caret (Classification And REgression Training)](https://cran.r-project.org/web/packages/caret/vignettes/caret.html) is a widely used package in machine learning for building predictive models. It provides a unified interface for performing data preparation, feature selection, model tuning, and model evaluation.\n",
        "\n",
        "The **train()\\* function** caret\\*\\* package provides an easy workflow to perform stepwise selections using the **leaps** and the **MASS** packages. It has an option named method, which can take the following values:\n",
        "\n",
        "**leapBackward**, to fit linear regression with backward selection\n",
        "\n",
        "**leapForward**, to fit linear regression with forward selection\n",
        "\n",
        "**leapSeq**, to fit linear regression with stepwise selection"
      ],
      "metadata": {
        "id": "W0dgI3m6w31y"
      }
    },
    {
      "cell_type": "code",
      "source": [
        "%%R\n",
        "# Set seed for reproducibility\n",
        "set.seed(123)\n",
        "# Set up repeated k-fold cross-validation\n",
        "train.control <- trainControl(method = \"cv\", number = 10)\n",
        "# Train the model\n",
        "model.caret.leaps <- train(SOC ~., data = df,\n",
        "                    method = \"leapBackward\",\n",
        "                    tuneGrid = data.frame(nvmax = 1:5),\n",
        "                    trControl = train.control\n",
        "                    )\n",
        "model.caret.leaps$results"
      ],
      "metadata": {
        "colab": {
          "base_uri": "https://localhost:8080/"
        },
        "id": "y_5i_HRVw2yK",
        "outputId": "33bc7f96-84ff-4f30-d7df-95c0dcbf6390"
      },
      "execution_count": 14,
      "outputs": [
        {
          "output_type": "stream",
          "name": "stdout",
          "text": [
            "  nvmax     RMSE  Rsquared      MAE    RMSESD RsquaredSD     MAESD\n",
            "1     1 4.318065 0.2878492 3.054081 0.3522772 0.07295631 0.2556071\n",
            "2     2 4.018065 0.3868724 2.864126 0.3538864 0.11208172 0.2817436\n",
            "3     3 3.887540 0.4245143 2.768027 0.3838066 0.11380657 0.2566427\n",
            "4     4 3.830983 0.4399608 2.716350 0.3703366 0.12380366 0.2705464\n",
            "5     5 3.831526 0.4399150 2.717833 0.3792621 0.12552049 0.2801233\n"
          ]
        }
      ]
    },
    {
      "cell_type": "markdown",
      "source": [
        "The function **summary()** reports the best set of variables for each model size, up to the best 4-variables model."
      ],
      "metadata": {
        "id": "MqYVWE4bxAGS"
      }
    },
    {
      "cell_type": "code",
      "source": [
        "%%R\n",
        "summary(model.caret.leaps$finalModel)"
      ],
      "metadata": {
        "colab": {
          "base_uri": "https://localhost:8080/"
        },
        "id": "CcOqoQWyxA29",
        "outputId": "2c72e257-792d-4485-9ed8-14114207a83d"
      },
      "execution_count": 15,
      "outputs": [
        {
          "output_type": "stream",
          "name": "stdout",
          "text": [
            "Subset selection object\n",
            "5 Variables  (and intercept)\n",
            "      Forced in Forced out\n",
            "DEM       FALSE      FALSE\n",
            "Slope     FALSE      FALSE\n",
            "MAT       FALSE      FALSE\n",
            "MAP       FALSE      FALSE\n",
            "NDVI      FALSE      FALSE\n",
            "1 subsets of each size up to 4\n",
            "Selection Algorithm: backward\n",
            "         DEM Slope MAT MAP NDVI\n",
            "1  ( 1 ) \" \" \" \"   \" \" \" \" \"*\" \n",
            "2  ( 1 ) \" \" \" \"   \"*\" \" \" \"*\" \n",
            "3  ( 1 ) \" \" \" \"   \"*\" \"*\" \"*\" \n",
            "4  ( 1 ) \" \" \"*\"   \"*\" \"*\" \"*\" \n"
          ]
        }
      ]
    },
    {
      "cell_type": "markdown",
      "source": [
        "An asterisk specifies that a given variable is included in the corresponding model. For example, it can be seen that the best 5-variables model contains Slope, MAT, MAP, NDVI."
      ],
      "metadata": {
        "id": "UXacrukAxHsw"
      }
    },
    {
      "cell_type": "code",
      "source": [
        "%%R\n",
        "coef(model.caret.leaps$finalModel, 4)"
      ],
      "metadata": {
        "colab": {
          "base_uri": "https://localhost:8080/"
        },
        "id": "Ek-p-cNJxIut",
        "outputId": "6d66cd18-efe1-4ac5-dac4-6e75c7ba335e"
      },
      "execution_count": 16,
      "outputs": [
        {
          "output_type": "stream",
          "name": "stdout",
          "text": [
            "(Intercept)       Slope         MAT         MAP        NDVI \n",
            " 1.08855877  0.13906306 -0.28437213  0.00643859  8.90365110 \n"
          ]
        }
      ]
    },
    {
      "cell_type": "markdown",
      "source": [
        "#### lmStepAIC\n",
        "\n",
        "Additionally, the caret package has method to compute stepwise regression using the MASS package **(method = \"lmStepAIC\")**:"
      ],
      "metadata": {
        "id": "XugO5up7xORe"
      }
    },
    {
      "cell_type": "code",
      "source": [
        "%%R\n",
        "# Train the model\n",
        "model.caret.mass <- train(SOC ~., data = df,\n",
        "                    method = \"lmStepAIC\",\n",
        "                    trControl = train.control,\n",
        "                    trace = FALSE\n",
        "                    )\n",
        "# # Model accuracy\n",
        "model.caret.mass$results"
      ],
      "metadata": {
        "colab": {
          "base_uri": "https://localhost:8080/"
        },
        "id": "xi9tPiFWxQ06",
        "outputId": "a53f612a-9244-4de8-feae-c851c60b7f07"
      },
      "execution_count": 19,
      "outputs": [
        {
          "output_type": "stream",
          "name": "stdout",
          "text": [
            "  parameter     RMSE  Rsquared      MAE    RMSESD RsquaredSD     MAESD\n",
            "1      none 3.840586 0.4272267 2.739227 0.4395569  0.1103143 0.2726723\n"
          ]
        }
      ]
    },
    {
      "cell_type": "code",
      "source": [
        "%%R\n",
        "# Final model coefficients\n",
        "model.caret.mass$finalModel"
      ],
      "metadata": {
        "colab": {
          "base_uri": "https://localhost:8080/"
        },
        "id": "eryw3wDZxmkb",
        "outputId": "96331427-851a-4b7e-9501-3a6af1d332ce"
      },
      "execution_count": 20,
      "outputs": [
        {
          "output_type": "stream",
          "name": "stdout",
          "text": [
            "\n",
            "Call:\n",
            "lm(formula = .outcome ~ Slope + MAT + MAP + NDVI, data = dat)\n",
            "\n",
            "Coefficients:\n",
            "(Intercept)        Slope          MAT          MAP         NDVI  \n",
            "   1.088559     0.139063    -0.284372     0.006439     8.903651  \n",
            "\n"
          ]
        }
      ]
    },
    {
      "cell_type": "code",
      "source": [
        "%%R\n",
        "# Summary of the model\n",
        "summary(model.caret.mass$finalModel)"
      ],
      "metadata": {
        "colab": {
          "base_uri": "https://localhost:8080/"
        },
        "id": "6C8SnvO_xtV2",
        "outputId": "f57df41c-3912-4387-813e-e461517712be"
      },
      "execution_count": 21,
      "outputs": [
        {
          "output_type": "stream",
          "name": "stdout",
          "text": [
            "\n",
            "Call:\n",
            "lm(formula = .outcome ~ Slope + MAT + MAP + NDVI, data = dat)\n",
            "\n",
            "Residuals:\n",
            "     Min       1Q   Median       3Q      Max \n",
            "-13.6203  -2.1059  -0.4424   1.3312  16.2115 \n",
            "\n",
            "Coefficients:\n",
            "             Estimate Std. Error t value Pr(>|t|)    \n",
            "(Intercept)  1.088559   0.845323   1.288  0.19848    \n",
            "Slope        0.139063   0.050332   2.763  0.00596 ** \n",
            "MAT         -0.284372   0.059988  -4.741 2.84e-06 ***\n",
            "MAP          0.006439   0.001565   4.115 4.59e-05 ***\n",
            "NDVI         8.903651   2.041594   4.361 1.60e-05 ***\n",
            "---\n",
            "Signif. codes:  0 ‘***’ 0.001 ‘**’ 0.01 ‘*’ 0.05 ‘.’ 0.1 ‘ ’ 1\n",
            "\n",
            "Residual standard error: 3.81 on 462 degrees of freedom\n",
            "Multiple R-squared:  0.4348,\tAdjusted R-squared:  0.4299 \n",
            "F-statistic: 88.84 on 4 and 462 DF,  p-value: < 2.2e-16\n",
            "\n"
          ]
        }
      ]
    },
    {
      "cell_type": "markdown",
      "source": [
        "### Compare the Models\n",
        "\n",
        "We can compare the performance the MLR models with sub-set of predictors compare_performance() function."
      ],
      "metadata": {
        "id": "5jKch-pjxxwY"
      }
    },
    {
      "cell_type": "code",
      "source": [
        "%%R\n",
        "performance::compare_performance(model.full, model.caret.leaps$finalModel, model.caret.mass$finalModel)"
      ],
      "metadata": {
        "colab": {
          "base_uri": "https://localhost:8080/"
        },
        "id": "b3Km46Qkxyeq",
        "outputId": "1184207e-3b4d-4f76-80db-b9c85e0205c0"
      },
      "execution_count": 22,
      "outputs": [
        {
          "output_type": "stream",
          "name": "stdout",
          "text": [
            "# Comparison of Model Performance Indices\n",
            "\n",
            "Name | Model |  AIC (weights) | AICc (weights) |  BIC (weights) |    R2 | R2 (adj.) |  RMSE | Sigma\n",
            "---------------------------------------------------------------------------------------------------\n",
            "..1  |    lm | 2583.0 (0.321) | 2583.3 (0.315) | 2612.0 (0.056) | 0.435 |     0.429 | 3.787 | 3.812\n",
            "..3  |    lm | 2581.5 (0.679) | 2581.7 (0.685) | 2606.4 (0.944) | 0.435 |     0.430 | 3.789 | 3.810\n"
          ]
        }
      ]
    },
    {
      "cell_type": "markdown",
      "source": [
        "### Further Reading\n",
        "\n",
        "1.  [Model Selection Essentials in R](http://www.sthda.com/english/articles/37-model-selection-essentials-in-r/154-stepwise-regression-essentials-in-r/)\n",
        "\n",
        "2.  [Variable Selection in Multiple Regression](https://www.jmp.com/en_us/statistics-knowledge-portal/what-is-multiple-regression/variable-selection.html)\n",
        "\n",
        "3.  [Akaike Information Criterion](https://www.scribbr.com/statistics/akaike-information-criterion/)\n",
        "\n",
        "4.  [caret](https://cran.r-project.org/web/packages/caret/vignettes/caret.html)"
      ],
      "metadata": {
        "id": "IkoGa9A1x7js"
      }
    }
  ]
}