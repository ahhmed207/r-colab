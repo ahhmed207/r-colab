{
  "nbformat": 4,
  "nbformat_minor": 0,
  "metadata": {
    "colab": {
      "provenance": [],
      "gpuType": "T4",
      "authorship_tag": "ABX9TyO5p/IMuf4EDSkTW4sFAcLk",
      "include_colab_link": true
    },
    "kernelspec": {
      "name": "python3",
      "display_name": "Python 3"
    },
    "language_info": {
      "name": "python"
    }
  },
  "cells": [
    {
      "cell_type": "markdown",
      "metadata": {
        "id": "view-in-github",
        "colab_type": "text"
      },
      "source": [
        "<a href=\"https://colab.research.google.com/github/zia207/r-colab/blob/main/NoteBook/Remote%20Sensing/image_classification__dnn_h2o_r.ipynb\" target=\"_parent\"><img src=\"https://colab.research.google.com/assets/colab-badge.svg\" alt=\"Open In Colab\"/></a>"
      ]
    },
    {
      "cell_type": "markdown",
      "source": [
        "# Deep Neural Network - Supervised Image Classification in H20 R\n",
        "\n",
        "Zia Ahmed, University at Buffalo"
      ],
      "metadata": {
        "id": "ug5LKfFU8Qq4"
      }
    },
    {
      "cell_type": "markdown",
      "source": [
        "H2O’s Deep Learning is based on a multi-layer feedforward artificial neural netmax-outained with stochastic gradient descent using a bacmanye network. It can contain many hidden layers consisting of neurons with tanh, rectifier, and max out activation functions. Advanced features such as adaptive learning rate, rate annealing, momentum training, dropout, L1 or L2 regularization, checkpointing, and grid search enable high predictive accuracy. Each compute node trains a copy of the global model parameters on its local data with multi-threading (asynchronously) and contributes periodically to the global model via model averaging across the network.\n",
        "\n",
        "H2O is a powerful, open-source platform that lets you build machine learning models and predictive analytics on big data. It's written in Java and can read data from a distributed and local cluster. You can access H2O's capabilities from any external program or script using JSON over HTTP. H2O's web interface, R binding, and Python binding all use the Rest API."
      ],
      "metadata": {
        "id": "Z8AKCA988buS"
      }
    },
    {
      "cell_type": "markdown",
      "source": [
        "### Insatll rpy2"
      ],
      "metadata": {
        "id": "g9yZJbOMGsHM"
      }
    },
    {
      "cell_type": "code",
      "source": [
        "!pip uninstall rpy2 -y\n",
        "!pip install rpy2==3.5.1\n",
        "%load_ext rpy2.ipython"
      ],
      "metadata": {
        "colab": {
          "base_uri": "https://localhost:8080/"
        },
        "id": "4RGEPlLBHT9x",
        "outputId": "abe274cc-cfc7-4444-a156-410dce0659db"
      },
      "execution_count": 1,
      "outputs": [
        {
          "output_type": "stream",
          "name": "stdout",
          "text": [
            "Found existing installation: rpy2 3.5.1\n",
            "Uninstalling rpy2-3.5.1:\n",
            "  Successfully uninstalled rpy2-3.5.1\n",
            "Collecting rpy2==3.5.1\n",
            "  Using cached rpy2-3.5.1-cp310-cp310-linux_x86_64.whl\n",
            "Requirement already satisfied: cffi>=1.10.0 in /usr/local/lib/python3.10/dist-packages (from rpy2==3.5.1) (1.15.1)\n",
            "Requirement already satisfied: jinja2 in /usr/local/lib/python3.10/dist-packages (from rpy2==3.5.1) (3.1.2)\n",
            "Requirement already satisfied: pytz in /usr/local/lib/python3.10/dist-packages (from rpy2==3.5.1) (2023.3.post1)\n",
            "Requirement already satisfied: tzlocal in /usr/local/lib/python3.10/dist-packages (from rpy2==3.5.1) (5.0.1)\n",
            "Requirement already satisfied: pycparser in /usr/local/lib/python3.10/dist-packages (from cffi>=1.10.0->rpy2==3.5.1) (2.21)\n",
            "Requirement already satisfied: MarkupSafe>=2.0 in /usr/local/lib/python3.10/dist-packages (from jinja2->rpy2==3.5.1) (2.1.3)\n",
            "Installing collected packages: rpy2\n",
            "Successfully installed rpy2-3.5.1\n"
          ]
        }
      ]
    },
    {
      "cell_type": "markdown",
      "source": [
        "### Mount Google Drive"
      ],
      "metadata": {
        "id": "_3RBfXl4IMhy"
      }
    },
    {
      "cell_type": "code",
      "source": [
        "from google.colab import drive\n",
        "drive.mount('/content/drive')"
      ],
      "metadata": {
        "colab": {
          "base_uri": "https://localhost:8080/"
        },
        "id": "ntPptE7zIIat",
        "outputId": "03719f96-e6bf-4ac4-d6b5-7c72e0f9e97e"
      },
      "execution_count": 2,
      "outputs": [
        {
          "output_type": "stream",
          "name": "stdout",
          "text": [
            "Drive already mounted at /content/drive; to attempt to forcibly remount, call drive.mount(\"/content/drive\", force_remount=True).\n"
          ]
        }
      ]
    },
    {
      "cell_type": "markdown",
      "source": [
        "### Install Required Packages"
      ],
      "metadata": {
        "id": "hRl_qyuRIU3K"
      }
    },
    {
      "cell_type": "code",
      "source": [
        "%%R\n",
        "pkg <- c('tidyverse', 'raster', 'rgdal','terra','tidyterra', 'maptools', 'sf', 'classInt',\n",
        "         'RColorBrewer', 'tmap','tmaptools', 'gridExtra', 'devtools', 'data.table')\n",
        "new.packages <- pkg[!(pkg %in% installed.packages(lib='drive/My Drive/R/')[,\"Package\"])]\n",
        "if(length(new.packages)) install.packages(new.packages, lib='drive/My Drive/R/')\n"
      ],
      "metadata": {
        "id": "JO89Sw0uIVAR"
      },
      "execution_count": null,
      "outputs": []
    },
    {
      "cell_type": "markdown",
      "source": [
        "#### Install h2o"
      ],
      "metadata": {
        "id": "0uPtsm7g80aL"
      }
    },
    {
      "cell_type": "code",
      "source": [
        "%%R\n",
        "pkgs <- c(\"RCurl\",\"jsonlite\")\n",
        "for (pkg in pkgs) {\n",
        "  if (! (pkg %in% rownames(installed.packages(lib='drive/My Drive/R/')))) { install.packages(pkg) }\n",
        "}\n",
        "install.packages(\"h2o\", type=\"source\",lib='drive/My Drive/R/', repos=\"https://h2o-release.s3.amazonaws.com/h2o/rel-3.42.0/2/R\")"
      ],
      "metadata": {
        "id": "GoBTI039Ifbc"
      },
      "execution_count": null,
      "outputs": []
    },
    {
      "cell_type": "markdown",
      "source": [
        "### Load Packages"
      ],
      "metadata": {
        "id": "AgdbeBiaJpE8"
      }
    },
    {
      "cell_type": "code",
      "source": [
        "%%R\n",
        "# set library path\n",
        ".libPaths('drive/My Drive/R')\n",
        "library (terra)\n",
        "library (tidyterra)\n",
        "library(tidymodels)\n",
        "library(sf)\n",
        "library(raster)\n",
        "library(rgdal)\n",
        "library(tidyverse)\n",
        "library(raster)\n",
        "library(RColorBrewer)\n",
        "library(RStoolbox)\n",
        "library(gridExtra)\n",
        "library(data.table)"
      ],
      "metadata": {
        "id": "RpLYJzd-Jg8f"
      },
      "execution_count": null,
      "outputs": []
    },
    {
      "cell_type": "markdown",
      "source": [
        "### Data\n",
        "\n",
        "In this lesson, we will use a sub-set of Landsat 9 satellite covering the central part of the country. We have already prepared this data and will use them for pixel-based classification using h2o-DNN model in R.\n",
        "\n",
        "We will train the DNN model with four feature classes extracted from Google Earth imagery: (1) Home stage vegetation, (2) cropland, (3) Bare soil/Developed, and (4) water bodies.\n",
        "\n",
        "The data  can be found [here](https://github.com/zia207/r-colab/tree/main/Data/DSM_AOI/Landsat_Subset/AOI_1)."
      ],
      "metadata": {
        "id": "uJdW40159Gik"
      }
    },
    {
      "cell_type": "code",
      "source": [
        "%%R\n",
        "# training data\n",
        "point<-read_csv(\"/content/drive/MyDrive/Data/DSM_AOI/Image_Classification_Landsat9/Landsat_Subset/AOI_1/point_data_class.csv\") %>%\n",
        "glimpse()"
      ],
      "metadata": {
        "id": "HlKb4RZ69Gq1",
        "colab": {
          "base_uri": "https://localhost:8080/"
        },
        "outputId": "1551260f-584c-47e0-8c49-93aa01dbd352"
      },
      "execution_count": 12,
      "outputs": [
        {
          "output_type": "stream",
          "name": "stdout",
          "text": [
            "Rows: 215854 Columns: 12\n",
            "── Column specification ────────────────────────────────────────────────────────\n",
            "Delimiter: \",\"\n",
            "chr  (2): Class, Description\n",
            "dbl (10): x, y, Id, B2, B3, B4, B5, B6, B7, dem\n",
            "\n",
            "ℹ Use `spec()` to retrieve the full column specification for this data.\n",
            "ℹ Specify the column types or set `show_col_types = FALSE` to quiet this message.\n",
            "Rows: 215,854\n",
            "Columns: 12\n",
            "$ x           <dbl> 152170, 152180, 152000, 152010, 152020, 152030, 152040, 15…\n",
            "$ y           <dbl> 2588310, 2588310, 2588300, 2588300, 2588300, 2588300, 2588…\n",
            "$ Id          <dbl> 2, 2, 2, 2, 2, 2, 2, 2, 2, 2, 2, 2, 2, 2, 2, 2, 2, 2, 2, 2…\n",
            "$ B2          <dbl> 12573, 12554, 12559, 12559, 12559, 12577, 12577, 12577, 12…\n",
            "$ B3          <dbl> 14378, 14299, 14336, 14336, 14336, 14338, 14338, 14338, 14…\n",
            "$ B4          <dbl> 15320, 15181, 15347, 15347, 15347, 15272, 15272, 15272, 15…\n",
            "$ B5          <dbl> 18372, 18142, 18525, 18525, 18525, 18304, 18304, 18304, 18…\n",
            "$ B6          <dbl> 21751, 21507, 21824, 21824, 21824, 21778, 21778, 21778, 21…\n",
            "$ B7          <dbl> 21393, 21176, 21448, 21448, 21448, 21467, 21467, 21467, 21…\n",
            "$ dem         <dbl> 5.126486, 5.851623, 5.102431, 4.999510, 4.999510, 4.999510…\n",
            "$ Class       <chr> \"Class_3\", \"Class_3\", \"Class_3\", \"Class_3\", \"Class_3\", \"Cl…\n",
            "$ Description <chr> \"Bare soil/Developed\", \"Bare soil/Developed\", \"Bare soil/D…\n"
          ]
        }
      ]
    },
    {
      "cell_type": "code",
      "source": [
        "%%R\n",
        "# training data\n",
        "point.df<-point[,4:11] %>%\n",
        "glimpse()"
      ],
      "metadata": {
        "colab": {
          "base_uri": "https://localhost:8080/"
        },
        "id": "7qSWdjpeBSjZ",
        "outputId": "362e47b1-c66a-4623-9330-2409346bb146"
      },
      "execution_count": 13,
      "outputs": [
        {
          "output_type": "stream",
          "name": "stdout",
          "text": [
            "Rows: 215,854\n",
            "Columns: 8\n",
            "$ B2    <dbl> 12573, 12554, 12559, 12559, 12559, 12577, 12577, 12577, 12605, 1…\n",
            "$ B3    <dbl> 14378, 14299, 14336, 14336, 14336, 14338, 14338, 14338, 14333, 1…\n",
            "$ B4    <dbl> 15320, 15181, 15347, 15347, 15347, 15272, 15272, 15272, 15257, 1…\n",
            "$ B5    <dbl> 18372, 18142, 18525, 18525, 18525, 18304, 18304, 18304, 18288, 1…\n",
            "$ B6    <dbl> 21751, 21507, 21824, 21824, 21824, 21778, 21778, 21778, 21682, 2…\n",
            "$ B7    <dbl> 21393, 21176, 21448, 21448, 21448, 21467, 21467, 21467, 21421, 2…\n",
            "$ dem   <dbl> 5.126486, 5.851623, 5.102431, 4.999510, 4.999510, 4.999510, 5.00…\n",
            "$ Class <chr> \"Class_3\", \"Class_3\", \"Class_3\", \"Class_3\", \"Class_3\", \"Class_3\"…\n"
          ]
        }
      ]
    },
    {
      "cell_type": "code",
      "source": [
        "%%R\n",
        "# prediction grid\n",
        "grid<-read_csv(\"/content/drive/MyDrive/Data/DSM_AOI/Image_Classification_Landsat9/Landsat_Subset/AOI_1/prediction_grid_data.csv\") %>%\n",
        "glimpse()"
      ],
      "metadata": {
        "id": "8aO3QSozBGi8",
        "colab": {
          "base_uri": "https://localhost:8080/"
        },
        "outputId": "a860e7fd-d7c5-448c-dabe-e52183c18af5"
      },
      "execution_count": 15,
      "outputs": [
        {
          "output_type": "stream",
          "name": "stdout",
          "text": [
            "Rows: 1000000 Columns: 10\n",
            "── Column specification ────────────────────────────────────────────────────────\n",
            "Delimiter: \",\"\n",
            "dbl (10): x, y, ID, B2, B3, B4, B5, B6, B7, dem\n",
            "\n",
            "ℹ Use `spec()` to retrieve the full column specification for this data.\n",
            "ℹ Specify the column types or set `show_col_types = FALSE` to quiet this message.\n",
            "Rows: 1,000,000\n",
            "Columns: 10\n",
            "$ x   <dbl> 150930, 150960, 150990, 151020, 151050, 151080, 151110, 151140, 15…\n",
            "$ y   <dbl> 2588550, 2588550, 2588550, 2588550, 2588550, 2588550, 2588550, 258…\n",
            "$ ID  <dbl> 1, 2, 3, 4, 5, 6, 7, 8, 9, 10, 11, 12, 13, 14, 15, 16, 17, 18, 19,…\n",
            "$ B2  <dbl> 9289, 9333, 9526, 9635, 9532, 9615, 9646, 9694, 9854, 9894, 9720, …\n",
            "$ B3  <dbl> 10661, 10657, 10988, 11020, 10766, 10925, 11037, 10975, 11276, 112…\n",
            "$ B4  <dbl> 10019, 10261, 10927, 11013, 10420, 10522, 10951, 10864, 11087, 112…\n",
            "$ B5  <dbl> 18168, 17364, 16623, 16162, 16683, 17598, 16579, 16572, 16866, 160…\n",
            "$ B6  <dbl> 14338, 14709, 15744, 15363, 15173, 15571, 15894, 15761, 16444, 157…\n",
            "$ B7  <dbl> 11357, 11819, 13262, 12782, 12286, 12710, 13399, 12748, 14141, 137…\n",
            "$ dem <dbl> 9.827662, 14.767797, 2.985770, 2.595814, 2.571604, 8.822142, 3.505…\n"
          ]
        }
      ]
    },
    {
      "cell_type": "code",
      "source": [
        "%%R\n",
        "# grid features\n",
        "grid.df<-grid[,4:10] %>%\n",
        "glimpse()"
      ],
      "metadata": {
        "id": "rW1O8HKE9tJ4",
        "colab": {
          "base_uri": "https://localhost:8080/"
        },
        "outputId": "fa315a08-41d7-4cd9-e32e-c6ab664eeb6f"
      },
      "execution_count": 16,
      "outputs": [
        {
          "output_type": "stream",
          "name": "stdout",
          "text": [
            "Rows: 1,000,000\n",
            "Columns: 7\n",
            "$ B2  <dbl> 9289, 9333, 9526, 9635, 9532, 9615, 9646, 9694, 9854, 9894, 9720, …\n",
            "$ B3  <dbl> 10661, 10657, 10988, 11020, 10766, 10925, 11037, 10975, 11276, 112…\n",
            "$ B4  <dbl> 10019, 10261, 10927, 11013, 10420, 10522, 10951, 10864, 11087, 112…\n",
            "$ B5  <dbl> 18168, 17364, 16623, 16162, 16683, 17598, 16579, 16572, 16866, 160…\n",
            "$ B6  <dbl> 14338, 14709, 15744, 15363, 15173, 15571, 15894, 15761, 16444, 157…\n",
            "$ B7  <dbl> 11357, 11819, 13262, 12782, 12286, 12710, 13399, 12748, 14141, 137…\n",
            "$ dem <dbl> 9.827662, 14.767797, 2.985770, 2.595814, 2.571604, 8.822142, 3.505…\n"
          ]
        }
      ]
    },
    {
      "cell_type": "code",
      "source": [
        "%%R\n",
        "# grid prediction location\n",
        "grid.xy<-grid[c(1:2)]"
      ],
      "metadata": {
        "id": "JzMir066FSnp"
      },
      "execution_count": 17,
      "outputs": []
    },
    {
      "cell_type": "markdown",
      "source": [
        "### Import h20"
      ],
      "metadata": {
        "id": "hCMvq63y-TpX"
      }
    },
    {
      "cell_type": "code",
      "source": [
        "%%R\n",
        ".libPaths('drive/My Drive/R')\n",
        "library(h2o)\n",
        "h2o.init()\n",
        "#disable progress bar\n",
        "h2o.no_progress()\n",
        "# Optional: remove anything from previous session\n",
        "h2o.removeAll()"
      ],
      "metadata": {
        "id": "zf-nuAYO-T1e",
        "colab": {
          "base_uri": "https://localhost:8080/"
        },
        "outputId": "3997f0ee-78a3-451b-f352-5e6c5e036753"
      },
      "execution_count": 51,
      "outputs": [
        {
          "output_type": "stream",
          "name": "stdout",
          "text": [
            "\n",
            "H2O is not running yet, starting it now...\n",
            "\n",
            "Note:  In case of errors look at the following log files:\n",
            "    /tmp/RtmpodZX4A/file660379ff08c4/h2o_UnknownUser_started_from_r.out\n",
            "    /tmp/RtmpodZX4A/file6603c3d4ad8/h2o_UnknownUser_started_from_r.err\n",
            "\n",
            "\n",
            "Starting H2O JVM and connecting: ...... Connection successful!\n",
            "\n",
            "R is connected to the H2O cluster: \n",
            "    H2O cluster uptime:         4 seconds 46 milliseconds \n",
            "    H2O cluster timezone:       Etc/UTC \n",
            "    H2O data parsing timezone:  UTC \n",
            "    H2O cluster version:        3.42.0.2 \n",
            "    H2O cluster version age:    2 months \n",
            "    H2O cluster name:           H2O_started_from_R_root_rkq134 \n",
            "    H2O cluster total nodes:    1 \n",
            "    H2O cluster total memory:   3.17 GB \n",
            "    H2O cluster total cores:    2 \n",
            "    H2O cluster allowed cores:  2 \n",
            "    H2O cluster healthy:        TRUE \n",
            "    H2O Connection ip:          localhost \n",
            "    H2O Connection port:        54321 \n",
            "    H2O Connection proxy:       NA \n",
            "    H2O Internal Security:      FALSE \n",
            "    R Version:                  R version 4.3.1 (2023-06-16) \n",
            "\n"
          ]
        }
      ]
    },
    {
      "cell_type": "markdown",
      "source": [
        "### Import data to h2o cluster"
      ],
      "metadata": {
        "id": "0ow4hiK7-kBe"
      }
    },
    {
      "cell_type": "code",
      "source": [
        "%%R\n",
        "df<-  as.h2o(point.df)\n",
        "grid<- as.h2o(grid.df)\n"
      ],
      "metadata": {
        "id": "mqwDEASv-kKu"
      },
      "execution_count": 52,
      "outputs": []
    },
    {
      "cell_type": "markdown",
      "source": [
        "### Split data"
      ],
      "metadata": {
        "id": "CNXkvuGquMVh"
      }
    },
    {
      "cell_type": "code",
      "source": [
        "%%R\n",
        "df$Class= as.factor(df$Class)\n",
        "splits <- h2o.splitFrame(df, c(0.6,0.2), seed=1234)\n",
        "train  <- h2o.assign(splits[[1]], \"train.hex\") # 60%\n",
        "valid  <- h2o.assign(splits[[2]], \"valid.hex\") # 20%\n",
        "test   <- h2o.assign(splits[[3]], \"test.hex\")  # 20%"
      ],
      "metadata": {
        "id": "9HhUBMnx5-Zl"
      },
      "execution_count": 55,
      "outputs": []
    },
    {
      "cell_type": "markdown",
      "source": [
        "#### Define response and predictors"
      ],
      "metadata": {
        "id": "DzM5tU9G-r5I"
      }
    },
    {
      "cell_type": "code",
      "source": [
        "%%R\n",
        "response <- \"Class\"\n",
        "predictors <- setdiff(names(df), response)\n",
        "predictors"
      ],
      "metadata": {
        "id": "FX6js5EN-sBm",
        "colab": {
          "base_uri": "https://localhost:8080/"
        },
        "outputId": "33bc8287-32dd-4b68-f5ea-09763f8b5749"
      },
      "execution_count": 56,
      "outputs": [
        {
          "output_type": "stream",
          "name": "stdout",
          "text": [
            "[1] \"B2\"  \"B3\"  \"B4\"  \"B5\"  \"B6\"  \"B7\"  \"dem\"\n"
          ]
        }
      ]
    },
    {
      "cell_type": "markdown",
      "source": [
        "## Fit DNN model\n",
        "\n",
        "We will fit DNN model with following parameters:\n",
        "\n",
        "standardize: logical. If enabled, automatically standardize the data.\n",
        "\n",
        "distribution:\n",
        "\n",
        "activation: Specify the activation function. One of:\n",
        "\n",
        "  - tanh\n",
        "  \n",
        "  - tanh_with_dropout\n",
        "  \n",
        "  - rectifier (default)\n",
        "  \n",
        "  - rectifier_with_dropout\n",
        "\n",
        "  - maxout (not supported when autoencoder is enabled)\n",
        "  \n",
        "  - maxout_with_dropout\n",
        "  \n",
        "hidden: Specify the hidden layer sizes (e.g., (100,100)). The value must be positive. This option defaults to (200,200).\n",
        "\n",
        "adaptive_rate: Specify whether to enable the adaptive learning rate (ADADELTA). This option defaults to True (enabled).\n",
        "\n",
        "epochs: Specify the number of times to iterate (stream) the dataset. The value can be a fraction. This option defaults to 10.\n",
        "\n",
        "epsilon: (Applicable only if adaptive_rate=True) Specify the adaptive learning rate time smoothing factor to avoid dividing by zero. This option defaults to 1e-08.\n",
        "\n",
        "input_dropout_ratio: Specify the input layer dropout ratio to improve generalization. Suggested values are 0.1 or 0.2. This option defaults to 0.\n",
        "\n",
        "l1: Specify the L1 regularization to add stability and improve generalization; sets the value of many weights to 0 (default).\n",
        "\n",
        "l2: Specify the L2 regularization to add stability and improve generalization; sets the value of many weights to smaller values. Defaults to 0.\n",
        "\n",
        "max_w2: Specify the constraint for the squared sum of the incoming weights per unit (e.g. for rectifier). Defaults to 3.4028235e+38.\n",
        "\n",
        "momentum_start: (Applicable only if adaptive_rate=False) Specify the initial momentum at the beginning of training; we suggest 0.5. This option defaults to 0.\n",
        "\n",
        "rate: (Applicable only if adaptive_rate=False) Specify the learning rate. Higher values result in a less stable model, while lower values lead to slower convergence. This option defaults to 0.005.\n",
        "\n",
        "rate_annealing: Learning rate decay, (Applicable only if adaptive_rate=False) Specify the rate annealing value. rate(1+ rate_annealing × samples), This option defaults to 1e-06.\n",
        "\n",
        "rate_decay: (Applicable only if adaptive_rate=False) Specify the rate decay factor between layers. N-th layer: rate × rate_decay(n−1). This options defaults to 1.\n",
        "\n",
        "rho: (Applicable only if adaptive_rate is enabled) Specify the adaptive learning rate time decay factor. This option defaults to 0.99.\n",
        "\n",
        "shuffle_training_data: Specify whether to shuffle the training data. This option is recommended if the training data is replicated and the value of train_samples_per_iteration is close to the number of nodes times the number of rows. This option defaults to False (disabled).\n",
        "\n",
        "stopping_tolerance = Relative tolerance for metric-based stopping criterion\n",
        "\n",
        "stopping_rounds = Early stopping based on convergence of stopping_metric.Defaults to 5.\n",
        "\n",
        "stopping_metric = Metric to use for early stopping\n",
        "\n",
        "variable_importances: Specify whether to compute variable importance. This option defaults to True (enabled)."
      ],
      "metadata": {
        "id": "CDdhBKmzW6KF"
      }
    },
    {
      "cell_type": "code",
      "source": [
        "%%R\n",
        "dnn_model <- h2o.deeplearning(\n",
        "                       model_id=\"DNN_model_ID\",\n",
        "                       training_frame= train,\n",
        "                       validation_frame= valid,\n",
        "                       x=predictors,\n",
        "                       y=response,\n",
        "                       distribution =\"AUTO\",\n",
        "                       standardize = TRUE,\n",
        "                       shuffle_training_data = TRUE,\n",
        "                       activation = \"Rectifier\",\n",
        "                       hidden = c(128, 128, 100),\n",
        "                       epochs = 100,\n",
        "                       adaptive_rate = TRUE,\n",
        "                       rate = 0.001,\n",
        "                       rate_annealing = 1e-06,\n",
        "                       rate_decay = 1,\n",
        "                       rho = 0.99,\n",
        "                       epsilon = 1e-08,\n",
        "                       momentum_start = 0.2,\n",
        "                       momentum_stable =0.6,\n",
        "                       input_dropout_ratio = 0.0001,\n",
        "                       l1 = 0.0005,\n",
        "                       l2 = 0.0001,\n",
        "                       max_w2 = 3.4028235e+38,\n",
        "                       stopping_tolerance = 0.001,\n",
        "                       stopping_rounds = 2,\n",
        "                       stopping_metric = \"logloss\",\n",
        "                       nfolds = 5,\n",
        "                       keep_cross_validation_models = TRUE,\n",
        "                       keep_cross_validation_predictions = TRUE,\n",
        "                       variable_importances = TRUE,\n",
        "                       seed=1256\n",
        "                       )"
      ],
      "metadata": {
        "id": "iTBk4zW-YW6C"
      },
      "execution_count": 57,
      "outputs": []
    },
    {
      "cell_type": "markdown",
      "source": [
        "### The Model Summary"
      ],
      "metadata": {
        "id": "fujC1ELPZ9aR"
      }
    },
    {
      "cell_type": "code",
      "source": [
        "%%R\n",
        "summary(dnn_model)"
      ],
      "metadata": {
        "colab": {
          "base_uri": "https://localhost:8080/"
        },
        "id": "LcWXhZFFvFor",
        "outputId": "33875680-4765-4f61-854d-7e39891cd36f"
      },
      "execution_count": 58,
      "outputs": [
        {
          "output_type": "stream",
          "name": "stdout",
          "text": [
            "Model Details:\n",
            "==============\n",
            "\n",
            "H2OMultinomialModel: deeplearning\n",
            "Model Key:  DNN_model_ID \n",
            "Status of Neuron Layers: predicting Class, 4-class classification, multinomial distribution, CrossEntropy loss, 30,840 weights/biases, 370.5 KB, 1,458,409 training samples, mini-batch size 1\n",
            "  layer units      type dropout       l1       l2 mean_rate rate_rms momentum\n",
            "1     1     7     Input  0.01 %       NA       NA        NA       NA       NA\n",
            "2     2   128 Rectifier  0.00 % 0.000500 0.000100  0.032737 0.073771 0.000000\n",
            "3     3   128 Rectifier  0.00 % 0.000500 0.000100  0.196245 0.148931 0.000000\n",
            "4     4   100 Rectifier  0.00 % 0.000500 0.000100  0.168143 0.128543 0.000000\n",
            "5     5     4   Softmax      NA 0.000500 0.000100  0.299844 0.229250 0.000000\n",
            "  mean_weight weight_rms mean_bias bias_rms\n",
            "1          NA         NA        NA       NA\n",
            "2    0.003558   0.117847  0.025694 0.086135\n",
            "3   -0.001488   0.044447  0.042777 0.304682\n",
            "4   -0.000382   0.052717  0.011981 0.093022\n",
            "5   -0.031798   0.292329  0.000779 0.008004\n",
            "\n",
            "H2OMultinomialMetrics: deeplearning\n",
            "** Reported on training data. **\n",
            "** Metrics reported on temporary training frame with 9947 samples **\n",
            "\n",
            "Training Set Metrics: \n",
            "=====================\n",
            "\n",
            "MSE: (Extract with `h2o.mse`) 0.05683923\n",
            "RMSE: (Extract with `h2o.rmse`) 0.2384098\n",
            "Logloss: (Extract with `h2o.logloss`) 0.2668431\n",
            "Mean Per-Class Error: 0.11446\n",
            "AUC: (Extract with `h2o.auc`) NaN\n",
            "AUCPR: (Extract with `h2o.aucpr`) NaN\n",
            "Confusion Matrix: Extract with `h2o.confusionMatrix(<model>,train = TRUE)`)\n",
            "=========================================================================\n",
            "Confusion Matrix: Row labels: Actual class; Column labels: Predicted class\n",
            "        Class_1 Class_2 Class_3 Class_4  Error          Rate\n",
            "Class_1    1714     431      12      10 0.2090 = 453 / 2,167\n",
            "Class_2      17    5772      12      40 0.0118 =  69 / 5,841\n",
            "Class_3      36      78     415       3 0.2199 =   117 / 532\n",
            "Class_4       1      19       4    1383 0.0171 =  24 / 1,407\n",
            "Totals     1768    6300     443    1436 0.0667 = 663 / 9,947\n",
            "\n",
            "Hit Ratio Table: Extract with `h2o.hit_ratio_table(<model>,train = TRUE)`\n",
            "=======================================================================\n",
            "Top-4 Hit Ratios: \n",
            "  k hit_ratio\n",
            "1 1  0.933347\n",
            "2 2  0.993666\n",
            "3 3  0.999698\n",
            "4 4  1.000000\n",
            "\n",
            "\n",
            "\n",
            "\n",
            "H2OMultinomialMetrics: deeplearning\n",
            "** Reported on validation data. **\n",
            "** Metrics reported on full validation frame **\n",
            "\n",
            "Validation Set Metrics: \n",
            "=====================\n",
            "\n",
            "Extract validation frame with `h2o.getFrame(\"valid.hex\")`\n",
            "MSE: (Extract with `h2o.mse`) 0.05479177\n",
            "RMSE: (Extract with `h2o.rmse`) 0.2340764\n",
            "Logloss: (Extract with `h2o.logloss`) 0.2608656\n",
            "Mean Per-Class Error: 0.1116696\n",
            "AUC: (Extract with `h2o.auc`) NaN\n",
            "AUCPR: (Extract with `h2o.aucpr`) NaN\n",
            "Confusion Matrix: Extract with `h2o.confusionMatrix(<model>,valid = TRUE)`)\n",
            "=========================================================================\n",
            "Confusion Matrix: Row labels: Actual class; Column labels: Predicted class\n",
            "        Class_1 Class_2 Class_3 Class_4  Error             Rate\n",
            "Class_1    7203    1752      52      60 0.2056 =  1,864 / 9,067\n",
            "Class_2      57   25648      48     205 0.0119 =   310 / 25,958\n",
            "Class_3     131     299    1683      18 0.2102 =    448 / 2,131\n",
            "Class_4       9      94       9    5806 0.0189 =    112 / 5,918\n",
            "Totals     7400   27793    1792    6089 0.0635 = 2,734 / 43,074\n",
            "\n",
            "Hit Ratio Table: Extract with `h2o.hit_ratio_table(<model>,valid = TRUE)`\n",
            "=======================================================================\n",
            "Top-4 Hit Ratios: \n",
            "  k hit_ratio\n",
            "1 1  0.936528\n",
            "2 2  0.993732\n",
            "3 3  0.999698\n",
            "4 4  1.000000\n",
            "\n",
            "\n",
            "\n",
            "\n",
            "H2OMultinomialMetrics: deeplearning\n",
            "** Reported on cross-validation data. **\n",
            "** 5-fold cross-validation on training data (Metrics computed for combined holdout predictions) **\n",
            "\n",
            "Cross-Validation Set Metrics: \n",
            "=====================\n",
            "\n",
            "Extract cross-validation frame with `h2o.getFrame(\"train.hex\")`\n",
            "MSE: (Extract with `h2o.mse`) 0.05699222\n",
            "RMSE: (Extract with `h2o.rmse`) 0.2387304\n",
            "Logloss: (Extract with `h2o.logloss`) 0.2649967\n",
            "Mean Per-Class Error: 0.1091849\n",
            "AUC: (Extract with `h2o.auc`) NaN\n",
            "AUCPR: (Extract with `h2o.aucpr`) NaN\n",
            "Hit Ratio Table: Extract with `h2o.hit_ratio_table(<model>,xval = TRUE)`\n",
            "=======================================================================\n",
            "Top-4 Hit Ratios: \n",
            "  k hit_ratio\n",
            "1 1  0.934464\n",
            "2 2  0.991750\n",
            "3 3  0.998951\n",
            "4 4  1.000000\n",
            "\n",
            "\n",
            "\n",
            "\n",
            "Cross-Validation Metrics Summary: \n",
            "                               mean         sd  cv_1_valid  cv_2_valid\n",
            "accuracy                   0.934481   0.005938    0.929911    0.936143\n",
            "auc                              NA   0.000000          NA          NA\n",
            "err                        0.065519   0.005938    0.070089    0.063857\n",
            "err_count               1700.000000 160.377690 1820.000000 1659.000000\n",
            "logloss                    0.264954   0.017545    0.283153    0.277376\n",
            "max_per_class_error        0.211322   0.022725    0.219319    0.203487\n",
            "mean_per_class_accuracy    0.891008   0.012603    0.884633    0.896397\n",
            "mean_per_class_error       0.108992   0.012603    0.115367    0.103603\n",
            "mse                        0.056981   0.004135    0.060604    0.056189\n",
            "pr_auc                           NA   0.000000          NA          NA\n",
            "r2                         0.929226   0.004995    0.925475    0.930810\n",
            "rmse                       0.238580   0.008674    0.246178    0.237042\n",
            "                         cv_3_valid  cv_4_valid  cv_5_valid\n",
            "accuracy                   0.927094    0.937410    0.941847\n",
            "auc                              NA          NA          NA\n",
            "err                        0.072906    0.062590    0.058153\n",
            "err_count               1903.000000 1613.000000 1505.000000\n",
            "logloss                    0.270585    0.252172    0.241487\n",
            "max_per_class_error        0.246142    0.201451    0.186213\n",
            "mean_per_class_accuracy    0.873647    0.893255    0.907108\n",
            "mean_per_class_error       0.126353    0.106745    0.092892\n",
            "mse                        0.061658    0.054739    0.051713\n",
            "pr_auc                           NA          NA          NA\n",
            "r2                         0.922829    0.931833    0.935184\n",
            "rmse                       0.248310    0.233963    0.227406\n",
            "\n",
            "Scoring History: \n",
            "             timestamp          duration training_speed   epochs iterations\n",
            "1  2023-09-26 02:16:43         0.000 sec             NA  0.00000          0\n",
            "2  2023-09-26 02:16:51 11 min  3.764 sec   2015 obs/sec  0.13466          1\n",
            "3  2023-09-26 02:17:10 11 min 22.674 sec   2672 obs/sec  0.53634          4\n",
            "4  2023-09-26 02:17:27 11 min 38.741 sec   3861 obs/sec  1.20740          9\n",
            "5  2023-09-26 02:17:43 11 min 54.702 sec   5683 obs/sec  2.40998         18\n",
            "6  2023-09-26 02:17:58 12 min 10.568 sec   7272 obs/sec  3.88046         29\n",
            "7  2023-09-26 02:18:15 12 min 27.599 sec   8606 obs/sec  5.62067         42\n",
            "8  2023-09-26 02:18:31 12 min 42.885 sec   9516 obs/sec  7.22779         54\n",
            "9  2023-09-26 02:18:46 12 min 58.761 sec  10317 obs/sec  8.96693         67\n",
            "10 2023-09-26 02:19:04 13 min 17.773 sec  11053 obs/sec 10.97675         82\n",
            "11 2023-09-26 02:19:09 13 min 22.803 sec  11118 obs/sec 11.24448         84\n",
            "          samples training_rmse training_logloss training_r2\n",
            "1        0.000000            NA               NA          NA\n",
            "2    17465.000000       0.28699          0.41449     0.89993\n",
            "3    69563.000000       0.28328          0.40010     0.90250\n",
            "4   156600.000000       0.27570          0.34590     0.90765\n",
            "5   312575.000000       0.27369          0.33886     0.90899\n",
            "6   503296.000000       0.23434          0.26656     0.93328\n",
            "7   729001.000000       0.26470          0.31560     0.91487\n",
            "8   937444.000000       0.23779          0.27282     0.93130\n",
            "9  1163011.000000       0.24999          0.30199     0.92407\n",
            "10 1423685.000000       0.25869          0.30932     0.91869\n",
            "11 1458409.000000       0.23841          0.26684     0.93094\n",
            "   training_classification_error training_auc training_pr_auc validation_rmse\n",
            "1                             NA           NA              NA              NA\n",
            "2                        0.09752           NA              NA         0.27836\n",
            "3                        0.09581           NA              NA         0.27524\n",
            "4                        0.09078           NA              NA         0.26908\n",
            "5                        0.08857           NA              NA         0.26721\n",
            "6                        0.06374           NA              NA         0.23023\n",
            "7                        0.08284           NA              NA         0.25941\n",
            "8                        0.06474           NA              NA         0.23295\n",
            "9                        0.07258           NA              NA         0.24499\n",
            "10                       0.07701           NA              NA         0.25325\n",
            "11                       0.06665           NA              NA         0.23408\n",
            "   validation_logloss validation_r2 validation_classification_error\n",
            "1                  NA            NA                              NA\n",
            "2             0.40316       0.90273                         0.09140\n",
            "3             0.38942       0.90490                         0.08901\n",
            "4             0.33614       0.90911                         0.08578\n",
            "5             0.33047       0.91037                         0.08460\n",
            "6             0.26199       0.93346                         0.06101\n",
            "7             0.30796       0.91552                         0.07931\n",
            "8             0.26619       0.93188                         0.06194\n",
            "9             0.29524       0.92465                         0.06881\n",
            "10            0.30250       0.91949                         0.07401\n",
            "11            0.26087       0.93122                         0.06347\n",
            "   validation_auc validation_pr_auc\n",
            "1              NA                NA\n",
            "2              NA                NA\n",
            "3              NA                NA\n",
            "4              NA                NA\n",
            "5              NA                NA\n",
            "6              NA                NA\n",
            "7              NA                NA\n",
            "8              NA                NA\n",
            "9              NA                NA\n",
            "10             NA                NA\n",
            "11             NA                NA\n",
            "\n",
            "Variable Importances: (Extract with `h2o.varimp`) \n",
            "=================================================\n",
            "\n",
            "Variable Importances: \n",
            "  variable relative_importance scaled_importance percentage\n",
            "1      dem            1.000000          1.000000   0.221341\n",
            "2       B5            0.970343          0.970343   0.214777\n",
            "3       B6            0.627910          0.627910   0.138982\n",
            "4       B7            0.540660          0.540660   0.119670\n",
            "5       B3            0.488708          0.488708   0.108171\n",
            "6       B4            0.463692          0.463692   0.102634\n",
            "7       B2            0.426606          0.426606   0.094425\n"
          ]
        }
      ]
    },
    {
      "cell_type": "code",
      "source": [
        "%%R\n",
        "h2o.mean_per_class_error(dnn_model, train = TRUE, valid = TRUE, xval = TRUE)"
      ],
      "metadata": {
        "colab": {
          "base_uri": "https://localhost:8080/"
        },
        "id": "YJ0Q_Db7aKZ_",
        "outputId": "c254259a-07ab-45ff-8fff-b1a3a7ed30d3"
      },
      "execution_count": 59,
      "outputs": [
        {
          "output_type": "stream",
          "name": "stdout",
          "text": [
            "    train     valid      xval \n",
            "0.1144600 0.1116696 0.1091849 \n"
          ]
        }
      ]
    },
    {
      "cell_type": "markdown",
      "source": [
        "### Soring"
      ],
      "metadata": {
        "id": "S-KCSe16XPmX"
      }
    },
    {
      "cell_type": "code",
      "source": [
        "%%R\n",
        "scoring_history<-dnn_model@model$scoring_history\n",
        "scoring_history"
      ],
      "metadata": {
        "colab": {
          "base_uri": "https://localhost:8080/"
        },
        "id": "8VVFXdP3XPtY",
        "outputId": "a9e0b2d4-3f0d-4f17-b02d-e12dcacdc1cb"
      },
      "execution_count": 60,
      "outputs": [
        {
          "output_type": "stream",
          "name": "stdout",
          "text": [
            "Scoring History: \n",
            "             timestamp          duration training_speed   epochs iterations\n",
            "1  2023-09-26 02:16:43         0.000 sec             NA  0.00000          0\n",
            "2  2023-09-26 02:16:51 11 min  3.764 sec   2015 obs/sec  0.13466          1\n",
            "3  2023-09-26 02:17:10 11 min 22.674 sec   2672 obs/sec  0.53634          4\n",
            "4  2023-09-26 02:17:27 11 min 38.741 sec   3861 obs/sec  1.20740          9\n",
            "5  2023-09-26 02:17:43 11 min 54.702 sec   5683 obs/sec  2.40998         18\n",
            "6  2023-09-26 02:17:58 12 min 10.568 sec   7272 obs/sec  3.88046         29\n",
            "7  2023-09-26 02:18:15 12 min 27.599 sec   8606 obs/sec  5.62067         42\n",
            "8  2023-09-26 02:18:31 12 min 42.885 sec   9516 obs/sec  7.22779         54\n",
            "9  2023-09-26 02:18:46 12 min 58.761 sec  10317 obs/sec  8.96693         67\n",
            "10 2023-09-26 02:19:04 13 min 17.773 sec  11053 obs/sec 10.97675         82\n",
            "11 2023-09-26 02:19:09 13 min 22.803 sec  11118 obs/sec 11.24448         84\n",
            "          samples training_rmse training_logloss training_r2\n",
            "1        0.000000            NA               NA          NA\n",
            "2    17465.000000       0.28699          0.41449     0.89993\n",
            "3    69563.000000       0.28328          0.40010     0.90250\n",
            "4   156600.000000       0.27570          0.34590     0.90765\n",
            "5   312575.000000       0.27369          0.33886     0.90899\n",
            "6   503296.000000       0.23434          0.26656     0.93328\n",
            "7   729001.000000       0.26470          0.31560     0.91487\n",
            "8   937444.000000       0.23779          0.27282     0.93130\n",
            "9  1163011.000000       0.24999          0.30199     0.92407\n",
            "10 1423685.000000       0.25869          0.30932     0.91869\n",
            "11 1458409.000000       0.23841          0.26684     0.93094\n",
            "   training_classification_error training_auc training_pr_auc validation_rmse\n",
            "1                             NA           NA              NA              NA\n",
            "2                        0.09752           NA              NA         0.27836\n",
            "3                        0.09581           NA              NA         0.27524\n",
            "4                        0.09078           NA              NA         0.26908\n",
            "5                        0.08857           NA              NA         0.26721\n",
            "6                        0.06374           NA              NA         0.23023\n",
            "7                        0.08284           NA              NA         0.25941\n",
            "8                        0.06474           NA              NA         0.23295\n",
            "9                        0.07258           NA              NA         0.24499\n",
            "10                       0.07701           NA              NA         0.25325\n",
            "11                       0.06665           NA              NA         0.23408\n",
            "   validation_logloss validation_r2 validation_classification_error\n",
            "1                  NA            NA                              NA\n",
            "2             0.40316       0.90273                         0.09140\n",
            "3             0.38942       0.90490                         0.08901\n",
            "4             0.33614       0.90911                         0.08578\n",
            "5             0.33047       0.91037                         0.08460\n",
            "6             0.26199       0.93346                         0.06101\n",
            "7             0.30796       0.91552                         0.07931\n",
            "8             0.26619       0.93188                         0.06194\n",
            "9             0.29524       0.92465                         0.06881\n",
            "10            0.30250       0.91949                         0.07401\n",
            "11            0.26087       0.93122                         0.06347\n",
            "   validation_auc validation_pr_auc\n",
            "1              NA                NA\n",
            "2              NA                NA\n",
            "3              NA                NA\n",
            "4              NA                NA\n",
            "5              NA                NA\n",
            "6              NA                NA\n",
            "7              NA                NA\n",
            "8              NA                NA\n",
            "9              NA                NA\n",
            "10             NA                NA\n",
            "11             NA                NA\n"
          ]
        }
      ]
    },
    {
      "cell_type": "markdown",
      "source": [
        "### Plot the classification error"
      ],
      "metadata": {
        "id": "tXO9pjsvXfAT"
      }
    },
    {
      "cell_type": "code",
      "source": [
        "%%R -w 450 -h 450 -u px\n",
        "plot(dnn_model,\n",
        "     timestep = \"epochs\",\n",
        "     metric = \"classification_error\")"
      ],
      "metadata": {
        "colab": {
          "base_uri": "https://localhost:8080/",
          "height": 467
        },
        "id": "JFKgmAETXfIk",
        "outputId": "1ebf9ef9-2325-4831-8ac1-b86073220a43"
      },
      "execution_count": 61,
      "outputs": [
        {
          "output_type": "display_data",
          "data": {
            "image/png": "[encoded data removed]"
          },
          "metadata": {}
        }
      ]
    },
    {
      "cell_type": "markdown",
      "source": [
        "### Confusion matrix"
      ],
      "metadata": {
        "id": "3hk8oc20LE4D"
      }
    },
    {
      "cell_type": "code",
      "source": [
        "%%R\n",
        "# training\n",
        "train.cf<-h2o.confusionMatrix(dnn_model)\n",
        "print(train.cf)"
      ],
      "metadata": {
        "colab": {
          "base_uri": "https://localhost:8080/"
        },
        "id": "0c1ho397LFYe",
        "outputId": "e4447231-2649-4507-ede6-896bc873a2a5"
      },
      "execution_count": 62,
      "outputs": [
        {
          "output_type": "stream",
          "name": "stdout",
          "text": [
            "Confusion Matrix: Row labels: Actual class; Column labels: Predicted class\n",
            "        Class_1 Class_2 Class_3 Class_4  Error          Rate\n",
            "Class_1    1714     431      12      10 0.2090 = 453 / 2,167\n",
            "Class_2      17    5772      12      40 0.0118 =  69 / 5,841\n",
            "Class_3      36      78     415       3 0.2199 =   117 / 532\n",
            "Class_4       1      19       4    1383 0.0171 =  24 / 1,407\n",
            "Totals     1768    6300     443    1436 0.0667 = 663 / 9,947\n"
          ]
        }
      ]
    },
    {
      "cell_type": "code",
      "source": [
        "%%R\n",
        "# validation\n",
        "valid.cf<-h2o.confusionMatrix(dnn_model,valid=TRUE)\n",
        "print(valid.cf)"
      ],
      "metadata": {
        "colab": {
          "base_uri": "https://localhost:8080/"
        },
        "id": "e5sJTZkpLSn2",
        "outputId": "f23399db-1e3c-4c91-a195-7489d3a1cf46"
      },
      "execution_count": 63,
      "outputs": [
        {
          "output_type": "stream",
          "name": "stdout",
          "text": [
            "Confusion Matrix: Row labels: Actual class; Column labels: Predicted class\n",
            "        Class_1 Class_2 Class_3 Class_4  Error             Rate\n",
            "Class_1    7203    1752      52      60 0.2056 =  1,864 / 9,067\n",
            "Class_2      57   25648      48     205 0.0119 =   310 / 25,958\n",
            "Class_3     131     299    1683      18 0.2102 =    448 / 2,131\n",
            "Class_4       9      94       9    5806 0.0189 =    112 / 5,918\n",
            "Totals     7400   27793    1792    6089 0.0635 = 2,734 / 43,074\n"
          ]
        }
      ]
    },
    {
      "cell_type": "code",
      "source": [
        "%%R\n",
        "# test\n",
        "test.cf<-h2o.confusionMatrix(dnn_model,test)\n",
        "print(test.cf)"
      ],
      "metadata": {
        "colab": {
          "base_uri": "https://localhost:8080/"
        },
        "id": "s4UWx0ubLeqi",
        "outputId": "a3d691b3-04a6-45f4-a030-6c17e55bc01a"
      },
      "execution_count": 64,
      "outputs": [
        {
          "output_type": "stream",
          "name": "stdout",
          "text": [
            "Confusion Matrix: Row labels: Actual class; Column labels: Predicted class\n",
            "        Class_1 Class_2 Class_3 Class_4  Error             Rate\n",
            "Class_1    7302    1915      69      53 0.2181 =  2,037 / 9,339\n",
            "Class_2      61   25203      55     212 0.0128 =   328 / 25,531\n",
            "Class_3     101     338    1742      20 0.2085 =    459 / 2,201\n",
            "Class_4      16      88       7    5898 0.0185 =    111 / 6,009\n",
            "Totals     7480   27544    1873    6183 0.0681 = 2,935 / 43,080\n"
          ]
        }
      ]
    },
    {
      "cell_type": "markdown",
      "source": [
        "### Grid Prediction"
      ],
      "metadata": {
        "id": "au6mQc1baUVG"
      }
    },
    {
      "cell_type": "code",
      "source": [
        "%%R\n",
        "g.predict = as.data.frame(h2o.predict(object = dnn_model,\n",
        "                                      newdata = grid))"
      ],
      "metadata": {
        "id": "M5E6kVS_L_wF"
      },
      "execution_count": 65,
      "outputs": []
    },
    {
      "cell_type": "markdown",
      "source": [
        "### Stop h2o cluster"
      ],
      "metadata": {
        "id": "JYzipbqyMH_k"
      }
    },
    {
      "cell_type": "code",
      "source": [
        "%%R\n",
        "h2o.shutdown(prompt=FALSE)"
      ],
      "metadata": {
        "id": "CMOPA_KUMM9A"
      },
      "execution_count": 66,
      "outputs": []
    },
    {
      "cell_type": "markdown",
      "source": [
        "### Extract Prediction Class"
      ],
      "metadata": {
        "id": "gKEnLy_OMqPm"
      }
    },
    {
      "cell_type": "code",
      "source": [
        "%%R\n",
        "grid.xy$Class<-g.predict$predict\n",
        "head(grid.xy)"
      ],
      "metadata": {
        "colab": {
          "base_uri": "https://localhost:8080/"
        },
        "id": "t82v3uHsMqXD",
        "outputId": "6e090be3-c380-4766-8816-ecbf58edcca5"
      },
      "execution_count": 67,
      "outputs": [
        {
          "output_type": "stream",
          "name": "stdout",
          "text": [
            "# A tibble: 6 × 3\n",
            "       x       y Class  \n",
            "   <dbl>   <dbl> <fct>  \n",
            "1 150930 2588550 Class_2\n",
            "2 150960 2588550 Class_2\n",
            "3 150990 2588550 Class_2\n",
            "4 151020 2588550 Class_2\n",
            "5 151050 2588550 Class_2\n",
            "6 151080 2588550 Class_2\n"
          ]
        }
      ]
    },
    {
      "cell_type": "code",
      "source": [
        "%%R\n",
        "ID<-read_csv(\"/content/drive/MyDrive/Data/DSM_AOI/Image_Classification_Landsat9/Landsat_Subset/AOI_1/landuse_id.csv\")\n",
        "ID"
      ],
      "metadata": {
        "colab": {
          "base_uri": "https://localhost:8080/"
        },
        "id": "3i6lWe_dNMLH",
        "outputId": "bc2d5d81-49f9-4ac9-9891-0d22f503bd49"
      },
      "execution_count": 68,
      "outputs": [
        {
          "output_type": "stream",
          "name": "stdout",
          "text": [
            "Rows: 4 Columns: 3\n",
            "── Column specification ────────────────────────────────────────────────────────\n",
            "Delimiter: \",\"\n",
            "chr (2): Class, Description\n",
            "dbl (1): Id\n",
            "\n",
            "ℹ Use `spec()` to retrieve the full column specification for this data.\n",
            "ℹ Specify the column types or set `show_col_types = FALSE` to quiet this message.\n",
            "# A tibble: 4 × 3\n",
            "     Id Class   Description         \n",
            "  <dbl> <chr>   <chr>               \n",
            "1     0 Class_1 Homestead vegetation\n",
            "2     1 Class_2 Cropland            \n",
            "3     2 Class_3 Bare soil/Developed \n",
            "4     3 Class_4 Water body          \n"
          ]
        }
      ]
    },
    {
      "cell_type": "code",
      "source": [
        "%%R\n",
        "# Join landuse ID\n",
        "grid.new<-inner_join(grid.xy, ID)\n",
        "# Omit missing values\n",
        "grid.new.na<-na.omit(grid.new)\n",
        "head(grid.new.na)"
      ],
      "metadata": {
        "colab": {
          "base_uri": "https://localhost:8080/"
        },
        "id": "dISEyw-2NbGq",
        "outputId": "0d1d6ea1-0fc6-4839-e0ac-de6f820b7ec9"
      },
      "execution_count": 69,
      "outputs": [
        {
          "output_type": "stream",
          "name": "stdout",
          "text": [
            "Joining with `by = join_by(Class)`\n",
            "# A tibble: 6 × 5\n",
            "       x       y Class      Id Description\n",
            "   <dbl>   <dbl> <chr>   <dbl> <chr>      \n",
            "1 150930 2588550 Class_2     1 Cropland   \n",
            "2 150960 2588550 Class_2     1 Cropland   \n",
            "3 150990 2588550 Class_2     1 Cropland   \n",
            "4 151020 2588550 Class_2     1 Cropland   \n",
            "5 151050 2588550 Class_2     1 Cropland   \n",
            "6 151080 2588550 Class_2     1 Cropland   \n"
          ]
        }
      ]
    },
    {
      "cell_type": "markdown",
      "source": [
        "### Convert to raster"
      ],
      "metadata": {
        "id": "EANSIE1EODAw"
      }
    },
    {
      "cell_type": "code",
      "source": [
        "%%R\n",
        "x<-SpatialPointsDataFrame(as.data.frame(grid.new.na)[, c(\"x\", \"y\")], data = grid.new.na)\n",
        "r <- rasterFromXYZ(as.data.frame(x)[, c(\"x\", \"y\", \"Id\")])"
      ],
      "metadata": {
        "id": "IioFwri2ODHE"
      },
      "execution_count": 70,
      "outputs": []
    },
    {
      "cell_type": "code",
      "source": [
        "%%R -w 450 -h 450 -u px\n",
        "\n",
        "# Create color palette\n",
        "myPalette <- colorRampPalette(c(\"red\",\"forestgreen\",\"orange\", \"blue\"))\n",
        "# Plot Map\n",
        "LU<-spplot(r,\"Id\", main=\"Supervised Image Classification: H20-R\" ,\n",
        "      colorkey = list(space=\"right\",tick.number=1,height=1, width=1.5,\n",
        "              labels = list(at = seq(0,3,length=4),cex=1.25,\n",
        "              lab = c(\"Homestead vegetation\" ,\"Cropland\", \"Bare soil/Developed \", \"Waterbody\"))),\n",
        "              col.regions=myPalette,cut=3)\n",
        "LU"
      ],
      "metadata": {
        "colab": {
          "base_uri": "https://localhost:8080/",
          "height": 467
        },
        "id": "JvKJ9CNGas2V",
        "outputId": "e3d69fd8-ea73-4ade-c92c-e2880bb0d9e8"
      },
      "execution_count": 71,
      "outputs": [
        {
          "output_type": "display_data",
          "data": {
            "image/png": "[encoded data removed]"
          },
          "metadata": {}
        }
      ]
    }
  ]
}