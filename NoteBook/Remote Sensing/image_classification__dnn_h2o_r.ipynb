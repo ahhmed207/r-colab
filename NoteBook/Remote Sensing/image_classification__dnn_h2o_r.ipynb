{
  "cells": [
    {
      "cell_type": "markdown",
      "metadata": {
        "id": "view-in-github",
        "colab_type": "text"
      },
      "source": [
        "<a href=\"https://colab.research.google.com/github/zia207/r-colab/blob/main/NoteBook/Remote%20Sensing/image_classification__dnn_h2o_r.ipynb\" target=\"_parent\"><img src=\"https://colab.research.google.com/assets/colab-badge.svg\" alt=\"Open In Colab\"/></a>"
      ]
    },
    {
      "cell_type": "markdown",
      "metadata": {
        "id": "ug5LKfFU8Qq4"
      },
      "source": [
        "# Deep Neural Network - Supervised Image Classification in H20 R\n",
        "\n",
        "Zia Ahmed, University at Buffalo"
      ]
    },
    {
      "cell_type": "markdown",
      "metadata": {
        "id": "Z8AKCA988buS"
      },
      "source": [
        "H2O’s Deep Learning is based on a multi-layer feedforward artificial neural netmax-outained with stochastic gradient descent using a bacmanye network. It can contain many hidden layers consisting of neurons with tanh, rectifier, and max out activation functions. Advanced features such as adaptive learning rate, rate annealing, momentum training, dropout, L1 or L2 regularization, checkpointing, and grid search enable high predictive accuracy. Each compute node trains a copy of the global model parameters on its local data with multi-threading (asynchronously) and contributes periodically to the global model via model averaging across the network.\n",
        "\n",
        "H2O is a powerful, open-source platform that lets you build machine learning models and predictive analytics on big data. It's written in Java and can read data from a distributed and local cluster. You can access H2O's capabilities from any external program or script using JSON over HTTP. H2O's web interface, R binding, and Python binding all use the Rest API.\n",
        "\n"
      ]
    },
    {
      "cell_type": "markdown",
      "metadata": {
        "id": "g9yZJbOMGsHM"
      },
      "source": [
        "### Insatll rpy2"
      ]
    },
    {
      "cell_type": "code",
      "execution_count": 1,
      "metadata": {
        "id": "4RGEPlLBHT9x",
        "colab": {
          "base_uri": "https://localhost:8080/"
        },
        "outputId": "7655003f-c5d6-4818-947e-3f7a0f77d67b"
      },
      "outputs": [
        {
          "output_type": "stream",
          "name": "stdout",
          "text": [
            "Found existing installation: rpy2 3.4.2\n",
            "Uninstalling rpy2-3.4.2:\n",
            "  Successfully uninstalled rpy2-3.4.2\n",
            "Collecting rpy2==3.5.1\n",
            "  Downloading rpy2-3.5.1.tar.gz (201 kB)\n",
            "\u001b[2K     \u001b[90m━━━━━━━━━━━━━━━━━━━━━━━━━━━━━━━━━━━━━━━\u001b[0m \u001b[32m201.7/201.7 kB\u001b[0m \u001b[31m4.3 MB/s\u001b[0m eta \u001b[36m0:00:00\u001b[0m\n",
            "\u001b[?25h  Preparing metadata (setup.py) ... \u001b[?25l\u001b[?25hdone\n",
            "Requirement already satisfied: cffi>=1.10.0 in /usr/local/lib/python3.10/dist-packages (from rpy2==3.5.1) (1.15.1)\n",
            "Requirement already satisfied: jinja2 in /usr/local/lib/python3.10/dist-packages (from rpy2==3.5.1) (3.1.2)\n",
            "Requirement already satisfied: pytz in /usr/local/lib/python3.10/dist-packages (from rpy2==3.5.1) (2023.3.post1)\n",
            "Requirement already satisfied: tzlocal in /usr/local/lib/python3.10/dist-packages (from rpy2==3.5.1) (5.0.1)\n",
            "Requirement already satisfied: pycparser in /usr/local/lib/python3.10/dist-packages (from cffi>=1.10.0->rpy2==3.5.1) (2.21)\n",
            "Requirement already satisfied: MarkupSafe>=2.0 in /usr/local/lib/python3.10/dist-packages (from jinja2->rpy2==3.5.1) (2.1.3)\n",
            "Building wheels for collected packages: rpy2\n",
            "  Building wheel for rpy2 (setup.py) ... \u001b[?25l\u001b[?25hdone\n",
            "  Created wheel for rpy2: filename=rpy2-3.5.1-cp310-cp310-linux_x86_64.whl size=314928 sha256=d50d5624085abffe2a32fe42de8431670c29473eae5279155ca80b22661c1cc5\n",
            "  Stored in directory: /root/.cache/pip/wheels/73/a6/ff/4e75dd1ce1cfa2b9a670cbccf6a1e41c553199e9b25f05d953\n",
            "Successfully built rpy2\n",
            "Installing collected packages: rpy2\n",
            "Successfully installed rpy2-3.5.1\n"
          ]
        }
      ],
      "source": [
        "!pip uninstall rpy2 -y\n",
        "!pip install rpy2==3.5.1\n",
        "%load_ext rpy2.ipython"
      ]
    },
    {
      "cell_type": "markdown",
      "metadata": {
        "id": "_3RBfXl4IMhy"
      },
      "source": [
        "### Mount Google Drive"
      ]
    },
    {
      "cell_type": "code",
      "execution_count": 2,
      "metadata": {
        "colab": {
          "base_uri": "https://localhost:8080/"
        },
        "id": "ntPptE7zIIat",
        "outputId": "a444cd15-8e3c-47d7-f970-4e7c52a469fa"
      },
      "outputs": [
        {
          "output_type": "stream",
          "name": "stdout",
          "text": [
            "Mounted at /content/drive\n"
          ]
        }
      ],
      "source": [
        "from google.colab import drive\n",
        "drive.mount('/content/drive')"
      ]
    },
    {
      "cell_type": "markdown",
      "metadata": {
        "id": "hRl_qyuRIU3K"
      },
      "source": [
        "### Install Required Packages"
      ]
    },
    {
      "cell_type": "code",
      "execution_count": null,
      "metadata": {
        "id": "JO89Sw0uIVAR"
      },
      "outputs": [],
      "source": [
        "%%R\n",
        "pkg <- c('tidyverse', 'raster', 'rgdal','terra','tidyterra', 'maptools', 'sf', 'classInt',\n",
        "         'RColorBrewer', 'tmap','tmaptools', 'gridExtra', 'devtools', 'data.table')\n",
        "new.packages <- pkg[!(pkg %in% installed.packages(lib='drive/My Drive/R/')[,\"Package\"])]\n",
        "if(length(new.packages)) install.packages(new.packages, lib='drive/My Drive/R/')\n"
      ]
    },
    {
      "cell_type": "markdown",
      "metadata": {
        "id": "0uPtsm7g80aL"
      },
      "source": [
        "#### Install h2o"
      ]
    },
    {
      "cell_type": "code",
      "execution_count": null,
      "metadata": {
        "id": "GoBTI039Ifbc"
      },
      "outputs": [],
      "source": [
        "%%R\n",
        "pkgs <- c(\"RCurl\",\"jsonlite\")\n",
        "for (pkg in pkgs) {\n",
        "  if (! (pkg %in% rownames(installed.packages(lib='drive/My Drive/R/')))) { install.packages(pkg) }\n",
        "}\n",
        "install.packages(\"h2o\", type=\"source\",lib='drive/My Drive/R/', repos=\"https://h2o-release.s3.amazonaws.com/h2o/rel-3.42.0/2/R\")"
      ]
    },
    {
      "cell_type": "markdown",
      "metadata": {
        "id": "AgdbeBiaJpE8"
      },
      "source": [
        "### Load Packages"
      ]
    },
    {
      "cell_type": "code",
      "execution_count": null,
      "metadata": {
        "id": "RpLYJzd-Jg8f"
      },
      "outputs": [],
      "source": [
        "%%R\n",
        "# set library path\n",
        ".libPaths('drive/My Drive/R')\n",
        "library (terra)\n",
        "library (tidyterra)\n",
        "library(tidymodels)\n",
        "library(sf)\n",
        "library(raster)\n",
        "library(tidyverse)\n",
        "library(raster)\n",
        "library(RColorBrewer)\n",
        "library(RStoolbox)\n",
        "library(gridExtra)\n",
        "library(data.table)"
      ]
    },
    {
      "cell_type": "markdown",
      "metadata": {
        "id": "uJdW40159Gik"
      },
      "source": [
        "### Data\n",
        "\n",
        "In this lesson, we will use a sub-set of Landsat 9 satellite covering the central part of the country. We have already prepared this data and created two dataframe (point_data and prediction grid data) and we  will use them for pixel-based classification using h2o-DNN model in R.\n",
        "\n",
        "1. Training Data: AOI-1\n",
        "2. Test Data: AO1-2\n",
        "3. Pprediction grid: AO1 and AOI 2\n",
        "\n",
        "The data can be found [here](https://github.com/zia207/r-colab/tree/main/Data/DSM_AOI/Landsat_Subset/AOI_1).\n",
        "\n",
        "We will train the DNN model with five feature classes extracted from Google Earth imagery: (1) home stage vegetation, (2) cropland, (3) Bare soil/Developed, and (4) water bodies, (5) wet-fallow. Detail was described in previous [section](https://github.com/zia207/r-colab/blob/main/NoteBook/Remote%20Sensing/training_data_processing_classification.ipynb).\n",
        "\n"
      ]
    },
    {
      "cell_type": "code",
      "execution_count": 4,
      "metadata": {
        "colab": {
          "base_uri": "https://localhost:8080/"
        },
        "id": "HlKb4RZ69Gq1",
        "outputId": "03663af8-3abf-4aae-abf5-7ac70b74474a"
      },
      "outputs": [
        {
          "output_type": "stream",
          "name": "stdout",
          "text": [
            "Rows: 245,459\n",
            "Columns: 8\n",
            "$ B2       <int> 9169, 9169, 9169, 9169, 9119, 9119, 9119, 9108, 9108, 9108, 9…\n",
            "$ B3       <int> 10301, 10301, 10301, 10301, 10279, 10279, 10279, 10298, 10298…\n",
            "$ B4       <int> 9516, 9516, 9516, 9516, 9490, 9490, 9490, 9545, 9545, 9545, 9…\n",
            "$ B5       <int> 9919, 9919, 9919, 9919, 9919, 9919, 9919, 9939, 9939, 9939, 9…\n",
            "$ B6       <int> 8417, 8417, 8417, 8417, 8409, 8409, 8409, 8418, 8418, 8418, 8…\n",
            "$ B7       <int> 7970, 7970, 7970, 7970, 7962, 7962, 7962, 7963, 7963, 7963, 7…\n",
            "$ dem      <dbl> 2, 2, 2, 2, 2, 2, 2, 2, 2, 2, 2, 2, 2, 2, 2, 2, 2, 2, 2, 2, 2…\n",
            "$ Class_ID <int> 3, 3, 3, 3, 3, 3, 3, 3, 3, 3, 3, 3, 3, 3, 3, 3, 3, 3, 3, 3, 3…\n"
          ]
        }
      ],
      "source": [
        "%%R\n",
        "# training data\n",
        "point<-fread(\"/content/drive/MyDrive/Data/DSM_AOI/Image_Classification_Landsat9/Landsat_Subset/AOI_1/point_data.csv\")\n",
        "point.df<-point[,3:10] %>%\n",
        "glimpse()"
      ]
    },
    {
      "cell_type": "code",
      "execution_count": null,
      "metadata": {
        "id": "8aO3QSozBGi8"
      },
      "outputs": [],
      "source": [
        "%%R\n",
        "# prediction grid\n",
        "# AOI-1\n",
        "grid_01<-fread(\"/content/drive/MyDrive/Data/DSM_AOI/Image_Classification_Landsat9/Landsat_Subset/AOI_1/prediction_grid_data_01.csv\")\n",
        "# AOI-2\n",
        "grid_02<-fread(\"/content/drive/MyDrive/Data/DSM_AOI/Image_Classification_Landsat9/Landsat_Subset/AOI_1/prediction_grid_data_02.csv\") %>%\n",
        "glimpse()"
      ]
    },
    {
      "cell_type": "code",
      "execution_count": 6,
      "metadata": {
        "colab": {
          "base_uri": "https://localhost:8080/"
        },
        "id": "rW1O8HKE9tJ4",
        "outputId": "8b85e366-46c7-48d8-a629-7969bf3e0eee"
      },
      "outputs": [
        {
          "output_type": "stream",
          "name": "stdout",
          "text": [
            "Rows: 1,000,000\n",
            "Columns: 7\n",
            "$ B2  <int> 8459, 8440, 8405, 8453, 8461, 8424, 8433, 8435, 8452, 8545, 8473, …\n",
            "$ B3  <int> 10037, 9984, 9943, 9972, 10052, 10075, 10089, 10023, 10048, 10150,…\n",
            "$ B4  <int> 9552, 9508, 9478, 9517, 9515, 9507, 9516, 9414, 9496, 9703, 9592, …\n",
            "$ B5  <int> 10785, 10670, 10395, 11683, 11521, 10427, 10604, 10920, 10728, 104…\n",
            "$ B6  <int> 8723, 8742, 8476, 9858, 9530, 8649, 8902, 9204, 9069, 8501, 8852, …\n",
            "$ B7  <int> 8083, 8139, 7983, 8874, 8642, 8078, 8300, 8477, 8418, 8010, 8214, …\n",
            "$ dem <dbl> 4.824776, 5.421584, 4.683115, 4.545923, 5.788843, 6.390258, 6.0717…\n"
          ]
        }
      ],
      "source": [
        "%%R\n",
        "# grid features\n",
        "grid.df_01<-grid_01[,4:10]\n",
        "grid.df_02<-grid_02[,4:10] %>%\n",
        "glimpse()"
      ]
    },
    {
      "cell_type": "code",
      "execution_count": 7,
      "metadata": {
        "id": "JzMir066FSnp",
        "colab": {
          "base_uri": "https://localhost:8080/"
        },
        "outputId": "bb9e945c-2194-459e-d0c3-a0ec14883ba6"
      },
      "outputs": [
        {
          "output_type": "stream",
          "name": "stdout",
          "text": [
            "Rows: 1,000,000\n",
            "Columns: 2\n",
            "$ x <int> 150930, 150960, 150990, 151020, 151050, 151080, 151110, 151140, 1511…\n",
            "$ y <int> 2558550, 2558550, 2558550, 2558550, 2558550, 2558550, 2558550, 25585…\n"
          ]
        }
      ],
      "source": [
        "%%R\n",
        "# grid prediction locations\n",
        "grid.xy_01<-grid_01[,1:2]\n",
        "grid.xy_02<-grid_02[,1:2] %>%\n",
        " glimpse()"
      ]
    },
    {
      "cell_type": "code",
      "source": [
        "%%R\n",
        "# test data: AOI-2\n",
        "point_02<-fread(\"/content/drive/MyDrive/Data/DSM_AOI/Image_Classification_Landsat9/Landsat_Subset/AOI_2/point_data_test_aoi_2.csv\")\n",
        "test.df_02<-point_02[,3:10] %>%\n",
        "glimpse()"
      ],
      "metadata": {
        "colab": {
          "base_uri": "https://localhost:8080/"
        },
        "id": "ILmTT6JUl1wU",
        "outputId": "f730e1c1-d31e-4045-d011-94480a6196be"
      },
      "execution_count": 11,
      "outputs": [
        {
          "output_type": "stream",
          "name": "stdout",
          "text": [
            "Rows: 42,847\n",
            "Columns: 8\n",
            "$ B2       <int> 9523, 9523, 9523, 9492, 9492, 9492, 9558, 9558, 9558, 9580, 9…\n",
            "$ B3       <int> 10909, 10909, 10909, 10905, 10905, 10905, 10933, 10933, 10933…\n",
            "$ B4       <int> 10741, 10741, 10741, 10701, 10701, 10701, 10695, 10695, 10695…\n",
            "$ B5       <int> 10114, 10114, 10114, 10037, 10037, 10037, 9947, 9947, 9947, 9…\n",
            "$ B6       <int> 8206, 8206, 8206, 8182, 8182, 8182, 8181, 8181, 8181, 8196, 8…\n",
            "$ B7       <int> 7799, 7799, 7799, 7796, 7796, 7796, 7802, 7802, 7802, 7799, 7…\n",
            "$ dem      <dbl> 1, 1, 1, 1, 1, 1, 1, 1, 1, 1, 1, 1, 1, 1, 1, 1, 1, 1, 1, 1, 1…\n",
            "$ Class_ID <int> 3, 3, 3, 3, 3, 3, 3, 3, 3, 3, 3, 3, 3, 3, 3, 3, 3, 3, 3, 3, 3…\n"
          ]
        }
      ]
    },
    {
      "cell_type": "markdown",
      "metadata": {
        "id": "hCMvq63y-TpX"
      },
      "source": [
        "### Import h2o"
      ]
    },
    {
      "cell_type": "code",
      "execution_count": null,
      "metadata": {
        "id": "zf-nuAYO-T1e"
      },
      "outputs": [],
      "source": [
        "%%R\n",
        ".libPaths('drive/My Drive/R')\n",
        "library(h2o)\n",
        "h2o.init()\n",
        "#disable progress bar\n",
        "h2o.no_progress()\n",
        "# Optional: remove anything from previous session\n",
        "h2o.removeAll()"
      ]
    },
    {
      "cell_type": "markdown",
      "metadata": {
        "id": "0ow4hiK7-kBe"
      },
      "source": [
        "### Import data to h2o cluster"
      ]
    },
    {
      "cell_type": "code",
      "execution_count": 12,
      "metadata": {
        "id": "mqwDEASv-kKu"
      },
      "outputs": [],
      "source": [
        "%%R\n",
        "df<-  as.h2o(point.df)\n",
        "grid_01<- as.h2o(grid.df_01)\n",
        "grid_02<- as.h2o(grid.df_02)\n",
        "test_02<- as.h2o(test.df_02)\n"
      ]
    },
    {
      "cell_type": "markdown",
      "metadata": {
        "id": "CNXkvuGquMVh"
      },
      "source": [
        "### Split data"
      ]
    },
    {
      "cell_type": "code",
      "execution_count": 13,
      "metadata": {
        "id": "9HhUBMnx5-Zl"
      },
      "outputs": [],
      "source": [
        "%%R\n",
        "df$Class_ID= as.factor(df$Class_ID)\n",
        "splits <- h2o.splitFrame(df, c(0.75,0.125), seed=1234)\n",
        "train  <- h2o.assign(splits[[1]], \"train.hex\") # 75%\n",
        "valid  <- h2o.assign(splits[[2]], \"valid.hex\") # 12%\n",
        "test   <- h2o.assign(splits[[3]], \"test.hex\")  # 13%"
      ]
    },
    {
      "cell_type": "markdown",
      "metadata": {
        "id": "DzM5tU9G-r5I"
      },
      "source": [
        "#### Define response and predictors"
      ]
    },
    {
      "cell_type": "code",
      "execution_count": 14,
      "metadata": {
        "colab": {
          "base_uri": "https://localhost:8080/"
        },
        "id": "FX6js5EN-sBm",
        "outputId": "795284da-13a2-4bfb-a86f-2b6d2818a026"
      },
      "outputs": [
        {
          "output_type": "stream",
          "name": "stdout",
          "text": [
            "[1] \"B2\"  \"B3\"  \"B4\"  \"B5\"  \"B6\"  \"B7\"  \"dem\"\n"
          ]
        }
      ],
      "source": [
        "%%R\n",
        "response <- \"Class_ID\"\n",
        "predictors <- setdiff(names(df), response)\n",
        "predictors"
      ]
    },
    {
      "cell_type": "markdown",
      "metadata": {
        "id": "CDdhBKmzW6KF"
      },
      "source": [
        "## Fit DNN model\n",
        "\n",
        "We will fit DNN model with following parameters:\n",
        "\n",
        "standardize: logical. If enabled, automatically standardize the data.\n",
        "\n",
        "distribution:\n",
        "\n",
        "activation: Specify the activation function. One of:\n",
        "\n",
        "  - tanh\n",
        "  \n",
        "  - tanh_with_dropout\n",
        "  \n",
        "  - rectifier (default)\n",
        "  \n",
        "  - rectifier_with_dropout\n",
        "\n",
        "  - maxout (not supported when autoencoder is enabled)\n",
        "  \n",
        "  - maxout_with_dropout\n",
        "  \n",
        "hidden: Specify the hidden layer sizes (e.g., (100,100)). The value must be positive. This option defaults to (200,200).\n",
        "\n",
        "adaptive_rate: Specify whether to enable the adaptive learning rate (ADADELTA). This option defaults to True (enabled).\n",
        "\n",
        "epochs: Specify the number of times to iterate (stream) the dataset. The value can be a fraction. This option defaults to 10.\n",
        "\n",
        "epsilon: (Applicable only if adaptive_rate=True) Specify the adaptive learning rate time smoothing factor to avoid dividing by zero. This option defaults to 1e-08.\n",
        "\n",
        "input_dropout_ratio: Specify the input layer dropout ratio to improve generalization. Suggested values are 0.1 or 0.2. This option defaults to 0.\n",
        "\n",
        "l1: Specify the L1 regularization to add stability and improve generalization; sets the value of many weights to 0 (default).\n",
        "\n",
        "l2: Specify the L2 regularization to add stability and improve generalization; sets the value of many weights to smaller values. Defaults to 0.\n",
        "\n",
        "max_w2: Specify the constraint for the squared sum of the incoming weights per unit (e.g. for rectifier). Defaults to 3.4028235e+38.\n",
        "\n",
        "momentum_start: (Applicable only if adaptive_rate=False) Specify the initial momentum at the beginning of training; we suggest 0.5. This option defaults to 0.\n",
        "\n",
        "rate: (Applicable only if adaptive_rate=False) Specify the learning rate. Higher values result in a less stable model, while lower values lead to slower convergence. This option defaults to 0.005.\n",
        "\n",
        "rate_annealing: Learning rate decay, (Applicable only if adaptive_rate=False) Specify the rate annealing value. rate(1+ rate_annealing × samples), This option defaults to 1e-06.\n",
        "\n",
        "rate_decay: (Applicable only if adaptive_rate=False) Specify the rate decay factor between layers. N-th layer: rate × rate_decay(n−1). This options defaults to 1.\n",
        "\n",
        "rho: (Applicable only if adaptive_rate is enabled) Specify the adaptive learning rate time decay factor. This option defaults to 0.99.\n",
        "\n",
        "shuffle_training_data: Specify whether to shuffle the training data. This option is recommended if the training data is replicated and the value of train_samples_per_iteration is close to the number of nodes times the number of rows. This option defaults to False (disabled).\n",
        "\n",
        "stopping_tolerance = Relative tolerance for metric-based stopping criterion\n",
        "\n",
        "stopping_rounds = Early stopping based on convergence of stopping_metric.Defaults to 5.\n",
        "\n",
        "stopping_metric = Metric to use for early stopping\n",
        "\n",
        "variable_importances: Specify whether to compute variable importance. This option defaults to True (enabled)."
      ]
    },
    {
      "cell_type": "code",
      "execution_count": 15,
      "metadata": {
        "id": "iTBk4zW-YW6C"
      },
      "outputs": [],
      "source": [
        "%%R\n",
        "dnn_model <- h2o.deeplearning(\n",
        "                       model_id=\"DNN_model_ID\",\n",
        "                       training_frame= train,\n",
        "                       validation_frame= valid,\n",
        "                       x=predictors,\n",
        "                       y=response,\n",
        "                       distribution =\"AUTO\",\n",
        "                       standardize = TRUE,\n",
        "                       shuffle_training_data = TRUE,\n",
        "                       activation = \"Rectifier\",\n",
        "                       hidden = c(128, 128, 128),\n",
        "                       epochs = 100,\n",
        "                       adaptive_rate = TRUE,\n",
        "                       rate = 0.001,\n",
        "                       rate_annealing = 1e-06,\n",
        "                       rate_decay = 1,\n",
        "                       rho = 0.99,\n",
        "                       epsilon = 1e-08,\n",
        "                       momentum_start = 0.2,\n",
        "                       momentum_stable =0.6,\n",
        "                       input_dropout_ratio = 0.0001,\n",
        "                       l1 = 0.0005,\n",
        "                       l2 = 0.0001,\n",
        "                       max_w2 = 3.4028235e+38,\n",
        "                       stopping_tolerance = 0.001,\n",
        "                       stopping_rounds = 2,\n",
        "                       stopping_metric = \"logloss\",\n",
        "                       nfolds = 5,\n",
        "                       keep_cross_validation_models = TRUE,\n",
        "                       keep_cross_validation_predictions = TRUE,\n",
        "                       variable_importances = TRUE,\n",
        "                       seed=1256\n",
        "                       )"
      ]
    },
    {
      "cell_type": "markdown",
      "metadata": {
        "id": "fujC1ELPZ9aR"
      },
      "source": [
        "### The Model Summary"
      ]
    },
    {
      "cell_type": "code",
      "execution_count": 16,
      "metadata": {
        "colab": {
          "base_uri": "https://localhost:8080/"
        },
        "id": "LcWXhZFFvFor",
        "outputId": "69c9ba46-ce51-4ec7-ddcc-a235b3a6cfbe"
      },
      "outputs": [
        {
          "output_type": "stream",
          "name": "stdout",
          "text": [
            "Model Details:\n",
            "==============\n",
            "\n",
            "H2OMultinomialModel: deeplearning\n",
            "Model Key:  DNN_model_ID \n",
            "Status of Neuron Layers: predicting Class_ID, 5-class classification, multinomial distribution, CrossEntropy loss, 34,693 weights/biases, 416.0 KB, 1,494,814 training samples, mini-batch size 1\n",
            "  layer units      type dropout       l1       l2 mean_rate rate_rms momentum\n",
            "1     1     7     Input  0.01 %       NA       NA        NA       NA       NA\n",
            "2     2   128 Rectifier  0.00 % 0.000500 0.000100  0.018961 0.018180 0.000000\n",
            "3     3   128 Rectifier  0.00 % 0.000500 0.000100  0.264334 0.170630 0.000000\n",
            "4     4   128 Rectifier  0.00 % 0.000500 0.000100  0.193853 0.174127 0.000000\n",
            "5     5     5   Softmax      NA 0.000500 0.000100  0.383439 0.276899 0.000000\n",
            "  mean_weight weight_rms mean_bias bias_rms\n",
            "1          NA         NA        NA       NA\n",
            "2   -0.002367   0.117532  0.045826 0.124766\n",
            "3   -0.001723   0.048621  0.013681 0.105050\n",
            "4   -0.000377   0.051554  0.042043 0.221737\n",
            "5   -0.045468   0.348718 -0.004216 0.006136\n",
            "\n",
            "H2OMultinomialMetrics: deeplearning\n",
            "** Reported on training data. **\n",
            "** Metrics reported on temporary training frame with 9915 samples **\n",
            "\n",
            "Training Set Metrics: \n",
            "=====================\n",
            "\n",
            "MSE: (Extract with `h2o.mse`) 0.07039386\n",
            "RMSE: (Extract with `h2o.rmse`) 0.2653184\n",
            "Logloss: (Extract with `h2o.logloss`) 0.3544428\n",
            "Mean Per-Class Error: 0.1395742\n",
            "AUC: (Extract with `h2o.auc`) NaN\n",
            "AUCPR: (Extract with `h2o.aucpr`) NaN\n",
            "Confusion Matrix: Extract with `h2o.confusionMatrix(<model>,train = TRUE)`)\n",
            "=========================================================================\n",
            "Confusion Matrix: Row labels: Actual class; Column labels: Predicted class\n",
            "          0    1   2    3   4  Error          Rate\n",
            "0      1738  359  44    3   1 0.1897 = 407 / 2,145\n",
            "1        16 5189  18   11   5 0.0095 =  50 / 5,239\n",
            "2         9   73 556    1   0 0.1299 =    83 / 639\n",
            "3         2   51   2 1246  16 0.0539 =  71 / 1,317\n",
            "4         0   58   1  122 394 0.3148 =   181 / 575\n",
            "Totals 1765 5730 621 1383 416 0.0799 = 792 / 9,915\n",
            "\n",
            "Hit Ratio Table: Extract with `h2o.hit_ratio_table(<model>,train = TRUE)`\n",
            "=======================================================================\n",
            "Top-5 Hit Ratios: \n",
            "  k hit_ratio\n",
            "1 1  0.920121\n",
            "2 2  0.975794\n",
            "3 3  0.997882\n",
            "4 4  0.999597\n",
            "5 5  1.000000\n",
            "\n",
            "\n",
            "\n",
            "\n",
            "H2OMultinomialMetrics: deeplearning\n",
            "** Reported on validation data. **\n",
            "** Metrics reported on full validation frame **\n",
            "\n",
            "Validation Set Metrics: \n",
            "=====================\n",
            "\n",
            "Extract validation frame with `h2o.getFrame(\"valid.hex\")`\n",
            "MSE: (Extract with `h2o.mse`) 0.07319399\n",
            "RMSE: (Extract with `h2o.rmse`) 0.2705439\n",
            "Logloss: (Extract with `h2o.logloss`) 0.3657632\n",
            "Mean Per-Class Error: 0.1517461\n",
            "AUC: (Extract with `h2o.auc`) NaN\n",
            "AUCPR: (Extract with `h2o.aucpr`) NaN\n",
            "Confusion Matrix: Extract with `h2o.confusionMatrix(<model>,valid = TRUE)`)\n",
            "=========================================================================\n",
            "Confusion Matrix: Row labels: Actual class; Column labels: Predicted class\n",
            "          0     1    2    3    4  Error             Rate\n",
            "0      5299  1079  114   10    6 0.1858 =  1,209 / 6,508\n",
            "1        45 15822   81   19   17 0.0101 =   162 / 15,984\n",
            "2        33   273 1749    5    1 0.1514 =    312 / 2,061\n",
            "3        14   225    3 3832   31 0.0665 =    273 / 4,105\n",
            "4         0   189    0  465 1242 0.3449 =    654 / 1,896\n",
            "Totals 5391 17588 1947 4331 1297 0.0854 = 2,610 / 30,554\n",
            "\n",
            "Hit Ratio Table: Extract with `h2o.hit_ratio_table(<model>,valid = TRUE)`\n",
            "=======================================================================\n",
            "Top-5 Hit Ratios: \n",
            "  k hit_ratio\n",
            "1 1  0.914578\n",
            "2 2  0.978235\n",
            "3 3  0.997480\n",
            "4 4  0.999509\n",
            "5 5  1.000000\n",
            "\n",
            "\n",
            "\n",
            "\n",
            "H2OMultinomialMetrics: deeplearning\n",
            "** Reported on cross-validation data. **\n",
            "** 5-fold cross-validation on training data (Metrics computed for combined holdout predictions) **\n",
            "\n",
            "Cross-Validation Set Metrics: \n",
            "=====================\n",
            "\n",
            "Extract cross-validation frame with `h2o.getFrame(\"train.hex\")`\n",
            "MSE: (Extract with `h2o.mse`) 0.0749954\n",
            "RMSE: (Extract with `h2o.rmse`) 0.2738529\n",
            "Logloss: (Extract with `h2o.logloss`) 0.3579014\n",
            "Mean Per-Class Error: 0.1412872\n",
            "AUC: (Extract with `h2o.auc`) NaN\n",
            "AUCPR: (Extract with `h2o.aucpr`) NaN\n",
            "Hit Ratio Table: Extract with `h2o.hit_ratio_table(<model>,xval = TRUE)`\n",
            "=======================================================================\n",
            "Top-5 Hit Ratios: \n",
            "  k hit_ratio\n",
            "1 1  0.912120\n",
            "2 2  0.969216\n",
            "3 3  0.992003\n",
            "4 4  0.998865\n",
            "5 5  1.000000\n",
            "\n",
            "\n",
            "\n",
            "\n",
            "Cross-Validation Metrics Summary: \n",
            "                               mean         sd  cv_1_valid  cv_2_valid\n",
            "accuracy                   0.912138   0.008390    0.907285    0.905549\n",
            "auc                              NA   0.000000          NA          NA\n",
            "err                        0.087862   0.008390    0.092715    0.094451\n",
            "err_count               3237.200000 317.068900 3430.000000 3481.000000\n",
            "logloss                    0.357810   0.030860    0.382970    0.371952\n",
            "max_per_class_error        0.320520   0.117379    0.388130    0.492747\n",
            "mean_per_class_accuracy    0.858560   0.026701    0.838857    0.824779\n",
            "mean_per_class_error       0.141440   0.026701    0.161143    0.175221\n",
            "mse                        0.074983   0.006764    0.078376    0.079321\n",
            "pr_auc                           NA   0.000000          NA          NA\n",
            "r2                         0.941504   0.004949    0.939469    0.937595\n",
            "rmse                       0.273593   0.012741    0.279956    0.281640\n",
            "                         cv_3_valid  cv_4_valid  cv_5_valid\n",
            "accuracy                   0.910358    0.910875    0.926623\n",
            "auc                              NA          NA          NA\n",
            "err                        0.089642    0.089125    0.073377\n",
            "err_count               3326.000000 3257.000000 2692.000000\n",
            "logloss                    0.373235    0.355353    0.305539\n",
            "max_per_class_error        0.265112    0.208291    0.248322\n",
            "mean_per_class_accuracy    0.861900    0.888829    0.878438\n",
            "mean_per_class_error       0.138100    0.111171    0.121562\n",
            "mse                        0.076922    0.077296    0.063002\n",
            "pr_auc                           NA          NA          NA\n",
            "r2                         0.940369    0.939934    0.950153\n",
            "rmse                       0.277347    0.278021    0.251002\n",
            "\n",
            "Scoring History: \n",
            "             timestamp          duration training_speed  epochs iterations\n",
            "1  2023-09-26 23:57:33         0.000 sec             NA 0.00000          0\n",
            "2  2023-09-26 23:57:38  6 min 21.706 sec   4357 obs/sec 0.13021          1\n",
            "3  2023-09-26 23:57:54  6 min 36.217 sec   7491 obs/sec 0.78575          6\n",
            "4  2023-09-26 23:58:01  6 min 43.270 sec  10301 obs/sec 1.44032         11\n",
            "5  2023-09-26 23:58:08  6 min 50.395 sec  11980 obs/sec 2.09781         16\n",
            "6  2023-09-26 23:58:15  6 min 57.910 sec  14341 obs/sec 3.01474         23\n",
            "7  2023-09-26 23:58:26  7 min  8.183 sec  16957 obs/sec 4.45310         34\n",
            "8  2023-09-26 23:58:32  7 min 14.976 sec  17684 obs/sec 5.23646         40\n",
            "9  2023-09-26 23:58:39  7 min 21.584 sec  19114 obs/sec 6.28256         48\n",
            "10 2023-09-26 23:58:46  7 min 28.052 sec  19609 obs/sec 7.06867         54\n",
            "11 2023-09-26 23:58:52  7 min 34.495 sec  20700 obs/sec 8.11587         62\n",
            "          samples training_rmse training_logloss training_r2\n",
            "1        0.000000            NA               NA          NA\n",
            "2    23983.000000       0.28176          0.40443     0.93655\n",
            "3   144722.000000       0.31346          0.46627     0.92147\n",
            "4   265283.000000       0.29216          0.41868     0.93178\n",
            "5   386383.000000       0.29555          0.39238     0.93019\n",
            "6   555267.000000       0.28510          0.37238     0.93504\n",
            "7   820189.000000       0.28449          0.39396     0.93532\n",
            "8   964472.000000       0.25377          0.31639     0.94853\n",
            "9  1157147.000000       0.28224          0.37946     0.93633\n",
            "10 1301935.000000       0.25921          0.33598     0.94630\n",
            "11 1494814.000000       0.26532          0.35444     0.94374\n",
            "   training_classification_error training_auc training_pr_auc validation_rmse\n",
            "1                             NA           NA              NA              NA\n",
            "2                        0.08976           NA              NA         0.28889\n",
            "3                        0.12002           NA              NA         0.32215\n",
            "4                        0.10237           NA              NA         0.29895\n",
            "5                        0.10640           NA              NA         0.30319\n",
            "6                        0.09682           NA              NA         0.29143\n",
            "7                        0.09430           NA              NA         0.28839\n",
            "8                        0.07201           NA              NA         0.25646\n",
            "9                        0.09400           NA              NA         0.28755\n",
            "10                       0.07786           NA              NA         0.26420\n",
            "11                       0.07988           NA              NA         0.27054\n",
            "   validation_logloss validation_r2 validation_classification_error\n",
            "1                  NA            NA                              NA\n",
            "2             0.41940       0.93483                         0.09504\n",
            "3             0.48518       0.91896                         0.12761\n",
            "4             0.43249       0.93022                         0.10729\n",
            "5             0.40829       0.92822                         0.11226\n",
            "6             0.38417       0.93368                         0.10162\n",
            "7             0.39804       0.93506                         0.09887\n",
            "8             0.32222       0.94864                         0.07551\n",
            "9             0.39175       0.93543                         0.09773\n",
            "10            0.34497       0.94550                         0.08104\n",
            "11            0.36576       0.94285                         0.08542\n",
            "   validation_auc validation_pr_auc\n",
            "1              NA                NA\n",
            "2              NA                NA\n",
            "3              NA                NA\n",
            "4              NA                NA\n",
            "5              NA                NA\n",
            "6              NA                NA\n",
            "7              NA                NA\n",
            "8              NA                NA\n",
            "9              NA                NA\n",
            "10             NA                NA\n",
            "11             NA                NA\n",
            "\n",
            "Variable Importances: (Extract with `h2o.varimp`) \n",
            "=================================================\n",
            "\n",
            "Variable Importances: \n",
            "  variable relative_importance scaled_importance percentage\n",
            "1       B5            1.000000          1.000000   0.198465\n",
            "2      dem            0.952572          0.952572   0.189052\n",
            "3       B6            0.754130          0.754130   0.149668\n",
            "4       B3            0.663782          0.663782   0.131737\n",
            "5       B4            0.605471          0.605471   0.120165\n",
            "6       B7            0.582067          0.582067   0.115520\n",
            "7       B2            0.480651          0.480651   0.095392\n"
          ]
        }
      ],
      "source": [
        "%%R\n",
        "summary(dnn_model)"
      ]
    },
    {
      "cell_type": "code",
      "execution_count": 17,
      "metadata": {
        "colab": {
          "base_uri": "https://localhost:8080/"
        },
        "id": "YJ0Q_Db7aKZ_",
        "outputId": "9f7f9487-9348-4b03-ef53-baeac53cd7b9"
      },
      "outputs": [
        {
          "output_type": "stream",
          "name": "stdout",
          "text": [
            "    train     valid      xval \n",
            "0.1395742 0.1517461 0.1412872 \n"
          ]
        }
      ],
      "source": [
        "%%R\n",
        "h2o.mean_per_class_error(dnn_model, train = TRUE, valid = TRUE, xval = TRUE)"
      ]
    },
    {
      "cell_type": "markdown",
      "metadata": {
        "id": "S-KCSe16XPmX"
      },
      "source": [
        "### Soring"
      ]
    },
    {
      "cell_type": "code",
      "execution_count": null,
      "metadata": {
        "id": "8VVFXdP3XPtY"
      },
      "outputs": [],
      "source": [
        "%%R\n",
        "scoring_history<-dnn_model@model$scoring_history\n",
        "scoring_history"
      ]
    },
    {
      "cell_type": "markdown",
      "metadata": {
        "id": "tXO9pjsvXfAT"
      },
      "source": [
        "### Plot the classification error"
      ]
    },
    {
      "cell_type": "code",
      "execution_count": 19,
      "metadata": {
        "colab": {
          "base_uri": "https://localhost:8080/",
          "height": 467
        },
        "id": "JFKgmAETXfIk",
        "outputId": "0ab889bb-88f4-45df-ed93-9a43508cd918"
      },
      "outputs": [
        {
          "output_type": "display_data",
          "data": {
            "image/png": "[encoded data removed]"
          },
          "metadata": {}
        }
      ],
      "source": [
        "%%R -w 450 -h 450 -u px\n",
        "plot(dnn_model,\n",
        "     timestep = \"epochs\",\n",
        "     metric = \"classification_error\")"
      ]
    },
    {
      "cell_type": "markdown",
      "metadata": {
        "id": "3hk8oc20LE4D"
      },
      "source": [
        "### Confusion matrix"
      ]
    },
    {
      "cell_type": "code",
      "execution_count": 20,
      "metadata": {
        "colab": {
          "base_uri": "https://localhost:8080/"
        },
        "id": "0c1ho397LFYe",
        "outputId": "175023ea-9803-4915-f2d1-bc2ff17f0d89"
      },
      "outputs": [
        {
          "output_type": "stream",
          "name": "stdout",
          "text": [
            "Confusion Matrix: Row labels: Actual class; Column labels: Predicted class\n",
            "          0    1   2    3   4  Error          Rate\n",
            "0      1738  359  44    3   1 0.1897 = 407 / 2,145\n",
            "1        16 5189  18   11   5 0.0095 =  50 / 5,239\n",
            "2         9   73 556    1   0 0.1299 =    83 / 639\n",
            "3         2   51   2 1246  16 0.0539 =  71 / 1,317\n",
            "4         0   58   1  122 394 0.3148 =   181 / 575\n",
            "Totals 1765 5730 621 1383 416 0.0799 = 792 / 9,915\n"
          ]
        }
      ],
      "source": [
        "%%R\n",
        "# training\n",
        "train.cf<-h2o.confusionMatrix(dnn_model)\n",
        "print(train.cf)"
      ]
    },
    {
      "cell_type": "code",
      "execution_count": 21,
      "metadata": {
        "colab": {
          "base_uri": "https://localhost:8080/"
        },
        "id": "e5sJTZkpLSn2",
        "outputId": "9e2c444d-3e4c-49bc-f024-7c4bae9e7015"
      },
      "outputs": [
        {
          "output_type": "stream",
          "name": "stdout",
          "text": [
            "Confusion Matrix: Row labels: Actual class; Column labels: Predicted class\n",
            "          0     1    2    3    4  Error             Rate\n",
            "0      5299  1079  114   10    6 0.1858 =  1,209 / 6,508\n",
            "1        45 15822   81   19   17 0.0101 =   162 / 15,984\n",
            "2        33   273 1749    5    1 0.1514 =    312 / 2,061\n",
            "3        14   225    3 3832   31 0.0665 =    273 / 4,105\n",
            "4         0   189    0  465 1242 0.3449 =    654 / 1,896\n",
            "Totals 5391 17588 1947 4331 1297 0.0854 = 2,610 / 30,554\n"
          ]
        }
      ],
      "source": [
        "%%R\n",
        "# validation\n",
        "valid.cf<-h2o.confusionMatrix(dnn_model,valid=TRUE)\n",
        "print(valid.cf)"
      ]
    },
    {
      "cell_type": "code",
      "execution_count": 22,
      "metadata": {
        "colab": {
          "base_uri": "https://localhost:8080/"
        },
        "id": "s4UWx0ubLeqi",
        "outputId": "e6fb2b80-e296-41ba-b560-c0fbe00328e5"
      },
      "outputs": [
        {
          "output_type": "stream",
          "name": "stdout",
          "text": [
            "Confusion Matrix: Row labels: Actual class; Column labels: Predicted class\n",
            "          0     1    2    3    4  Error             Rate\n",
            "0      5419  1124  105    6    4 0.1861 =  1,239 / 6,658\n",
            "1        45 15798   67   28   12 0.0095 =   152 / 15,950\n",
            "2        37   233 1791    2    0 0.1318 =    272 / 2,063\n",
            "3        10   213    7 3889   44 0.0658 =    274 / 4,163\n",
            "4         0   187    1  475 1224 0.3514 =    663 / 1,887\n",
            "Totals 5511 17555 1971 4400 1284 0.0846 = 2,600 / 30,721\n"
          ]
        }
      ],
      "source": [
        "%%R\n",
        "# test\n",
        "test.cf<-h2o.confusionMatrix(dnn_model,test)\n",
        "print(test.cf)"
      ]
    },
    {
      "cell_type": "code",
      "source": [
        "%%R\n",
        "# test - AOI-2\n",
        "test.cf.02<-h2o.confusionMatrix(dnn_model,test_02)\n",
        "print(test.cf.02)"
      ],
      "metadata": {
        "colab": {
          "base_uri": "https://localhost:8080/"
        },
        "id": "VPiQM-5wy06i",
        "outputId": "b1c96b97-3011-4af6-a5fd-1e502684766b"
      },
      "execution_count": 24,
      "outputs": [
        {
          "output_type": "stream",
          "name": "stdout",
          "text": [
            "Confusion Matrix: Row labels: Actual class; Column labels: Predicted class\n",
            "          0     1    2     3    4  Error              Rate\n",
            "0      4720   822  314    24    0 0.1973 =   1,160 / 5,880\n",
            "1         0  6260    9    15    0 0.0038 =      24 / 6,284\n",
            "2         1  2085 3610    26    0 0.3691 =   2,112 / 5,722\n",
            "3         0     6    9  3322    0 0.0045 =      15 / 3,337\n",
            "4       188 12797    0  6990 1649 0.9237 = 19,975 / 21,624\n",
            "Totals 4909 21970 3942 10377 1649 0.5435 = 23,286 / 42,847\n"
          ]
        }
      ]
    },
    {
      "cell_type": "markdown",
      "metadata": {
        "id": "au6mQc1baUVG"
      },
      "source": [
        "### Grid Prediction"
      ]
    },
    {
      "cell_type": "code",
      "execution_count": 23,
      "metadata": {
        "id": "M5E6kVS_L_wF"
      },
      "outputs": [],
      "source": [
        "%%R\n",
        "# AOI-1\n",
        "g.predict_01 = as.data.frame(h2o.predict(object = dnn_model,newdata = grid_01))"
      ]
    },
    {
      "cell_type": "code",
      "source": [
        "%%R\n",
        "# AOI-2\n",
        "g.predict_02 = as.data.frame(h2o.predict(object = dnn_model, newdata = grid_02))"
      ],
      "metadata": {
        "id": "JEu3IEiQov4B"
      },
      "execution_count": 25,
      "outputs": []
    },
    {
      "cell_type": "markdown",
      "metadata": {
        "id": "JYzipbqyMH_k"
      },
      "source": [
        "### Stop h2o cluster"
      ]
    },
    {
      "cell_type": "code",
      "execution_count": null,
      "metadata": {
        "id": "CMOPA_KUMM9A"
      },
      "outputs": [],
      "source": [
        "%%R\n",
        "h2o.shutdown(prompt=FALSE)"
      ]
    },
    {
      "cell_type": "markdown",
      "metadata": {
        "id": "gKEnLy_OMqPm"
      },
      "source": [
        "### Extract Prediction Class"
      ]
    },
    {
      "cell_type": "code",
      "execution_count": 26,
      "metadata": {
        "colab": {
          "base_uri": "https://localhost:8080/"
        },
        "id": "t82v3uHsMqXD",
        "outputId": "bb8bf36b-aa53-4407-fa45-81e1395ed09a"
      },
      "outputs": [
        {
          "output_type": "stream",
          "name": "stdout",
          "text": [
            "        x       y Class_ID\n",
            "1: 150930 2588550        1\n",
            "2: 150960 2588550        0\n",
            "3: 150990 2588550        1\n",
            "4: 151020 2588550        1\n",
            "5: 151050 2588550        1\n",
            "6: 151080 2588550        1\n"
          ]
        }
      ],
      "source": [
        "%%R\n",
        "grid.xy_01$Class_ID<-g.predict_01$predict\n",
        "grid.xy_02$Class_ID<-g.predict_02$predict\n",
        "head(grid.xy_01)"
      ]
    },
    {
      "cell_type": "code",
      "source": [
        "%%R\n",
        "glimpse(grid.xy_01)"
      ],
      "metadata": {
        "colab": {
          "base_uri": "https://localhost:8080/"
        },
        "id": "MSHdRuYlbM0W",
        "outputId": "1fe38fbb-daea-41f2-c71b-a2fa9b233c9a"
      },
      "execution_count": 27,
      "outputs": [
        {
          "output_type": "stream",
          "name": "stdout",
          "text": [
            "Rows: 1,000,000\n",
            "Columns: 3\n",
            "$ x        <int> 150930, 150960, 150990, 151020, 151050, 151080, 151110, 15114…\n",
            "$ y        <int> 2588550, 2588550, 2588550, 2588550, 2588550, 2588550, 2588550…\n",
            "$ Class_ID <fct> 1, 0, 1, 1, 1, 1, 1, 1, 2, 2, 2, 2, 2, 2, 2, 1, 1, 1, 2, 2, 2…\n"
          ]
        }
      ]
    },
    {
      "cell_type": "code",
      "execution_count": 28,
      "metadata": {
        "colab": {
          "base_uri": "https://localhost:8080/"
        },
        "id": "3i6lWe_dNMLH",
        "outputId": "dd2d7342-8b16-4fd8-d226-da7c62d3904a"
      },
      "outputs": [
        {
          "output_type": "stream",
          "name": "stdout",
          "text": [
            "Rows: 5 Columns: 3\n",
            "── Column specification ────────────────────────────────────────────────────────\n",
            "Delimiter: \",\"\n",
            "chr (2): Class, Description\n",
            "dbl (1): Class_ID\n",
            "\n",
            "ℹ Use `spec()` to retrieve the full column specification for this data.\n",
            "ℹ Specify the column types or set `show_col_types = FALSE` to quiet this message.\n",
            "# A tibble: 5 × 3\n",
            "  Class_ID Class   Description         \n",
            "  <fct>    <chr>   <chr>               \n",
            "1 0        Class_1 Homestead vegetation\n",
            "2 1        Class_2 Cropland            \n",
            "3 2        Class_3 Bare soil/Developed \n",
            "4 3        Class_4 Water body          \n",
            "5 4        Class_5 Wet fallow          \n"
          ]
        }
      ],
      "source": [
        "%%R\n",
        "ID<-read_csv(\"/content/drive/MyDrive/Data/DSM_AOI/Image_Classification_Landsat9/Landsat_Subset/AOI_1/landuse_id.csv\")\n",
        "ID$Class_ID<-as.factor(ID$Class_ID)\n",
        "ID"
      ]
    },
    {
      "cell_type": "code",
      "execution_count": 29,
      "metadata": {
        "colab": {
          "base_uri": "https://localhost:8080/"
        },
        "id": "dISEyw-2NbGq",
        "outputId": "fbd97049-27c5-48fa-9d30-ab943e6db525"
      },
      "outputs": [
        {
          "output_type": "stream",
          "name": "stdout",
          "text": [
            "Joining with `by = join_by(Class_ID)`\n",
            "Joining with `by = join_by(Class_ID)`\n"
          ]
        }
      ],
      "source": [
        "%%R\n",
        "# Join landuse ID\n",
        "grid.new_01<-inner_join(grid.xy_01, ID)\n",
        "grid.new_02<-inner_join(grid.xy_02, ID)"
      ]
    },
    {
      "cell_type": "code",
      "source": [
        "%%R\n",
        "# Omit missing values\n",
        "grid.new.na_01<-na.omit(grid.new_01)\n",
        "grid.new.na_02<-na.omit(grid.new_02)\n",
        "head(grid.new_02)"
      ],
      "metadata": {
        "colab": {
          "base_uri": "https://localhost:8080/"
        },
        "id": "UYCpA6SBawkL",
        "outputId": "1e6b31a7-b001-4697-ae33-0e8c1eca5a13"
      },
      "execution_count": 30,
      "outputs": [
        {
          "output_type": "stream",
          "name": "stdout",
          "text": [
            "        x       y Class_ID   Class Description\n",
            "1: 150930 2558550        4 Class_5  Wet fallow\n",
            "2: 150960 2558550        4 Class_5  Wet fallow\n",
            "3: 150990 2558550        4 Class_5  Wet fallow\n",
            "4: 151020 2558550        4 Class_5  Wet fallow\n",
            "5: 151050 2558550        4 Class_5  Wet fallow\n",
            "6: 151080 2558550        4 Class_5  Wet fallow\n"
          ]
        }
      ]
    },
    {
      "cell_type": "markdown",
      "metadata": {
        "id": "EANSIE1EODAw"
      },
      "source": [
        "### Convert to raster"
      ]
    },
    {
      "cell_type": "code",
      "execution_count": 31,
      "metadata": {
        "id": "IioFwri2ODHE"
      },
      "outputs": [],
      "source": [
        "%%R\n",
        "# AOI-1\n",
        "x1<-SpatialPointsDataFrame(as.data.frame(grid.new.na_01)[, c(\"x\", \"y\")], data = grid.new.na_01)\n",
        "r1 <- rasterFromXYZ(as.data.frame(x1)[, c(\"x\", \"y\", \"Class_ID\")])"
      ]
    },
    {
      "cell_type": "code",
      "source": [
        "%%R\n",
        "# AOI-2\n",
        "x2<-SpatialPointsDataFrame(as.data.frame(grid.new.na_01)[, c(\"x\", \"y\")], data = grid.new.na_02)\n",
        "r2 <- rasterFromXYZ(as.data.frame(x2)[, c(\"x\", \"y\", \"Class_ID\")])"
      ],
      "metadata": {
        "id": "SPnNQfo9b2Q3"
      },
      "execution_count": 32,
      "outputs": []
    },
    {
      "cell_type": "code",
      "execution_count": 36,
      "metadata": {
        "colab": {
          "base_uri": "https://localhost:8080/",
          "height": 367
        },
        "id": "JvKJ9CNGas2V",
        "outputId": "5939ab10-cdea-461a-d288-076de726b887"
      },
      "outputs": [
        {
          "output_type": "display_data",
          "data": {
            "image/png": "[encoded data removed]"
          },
          "metadata": {}
        }
      ],
      "source": [
        "%%R -w 750 -h 350 -u px\n",
        "\n",
        "# Create color palette\n",
        "myPalette <- colorRampPalette(c(\"red\",\"forestgreen\",\"orange\", \"blue\", \"sky blue\"))\n",
        "# Plot Map\n",
        "p1<-spplot(r1,\"Class_ID\", main=\"AOI-1: Supervised Image Classification-H20-R\" ,\n",
        "      colorkey = list(space=\"right\",tick.number=1,height=1, width=1.5,\n",
        "              labels = list(at = seq(0,3.75,length=5),cex=1.25,\n",
        "              lab = c(\"Homestead vegetation\" ,\"Cropland\", \"Bare soil/Developed \", \"Waterbody\",  \"Wet fallow\"))),\n",
        "              col.regions=myPalette,cut=4)\n",
        "\n",
        "# Plot Map\n",
        "p2<-spplot(r2,\"Class_ID\", main=\"AOI-2: Supervised Image Classification -H20-R\" ,\n",
        "      colorkey = list(space=\"right\",tick.number=1,height=1, width=1.5,\n",
        "              labels = list(at = seq(0,4,length=5),cex=1.25,\n",
        "              lab = c(\"Homestead vegetation\" ,\"Cropland\", \"Bare soil/Developed \", \"Waterbody\", \" Wet fallow\"))),\n",
        "              col.regions=myPalette,cut=4)\n",
        "\n",
        "\n",
        "grid.arrange(p1, p2, ncol=2)"
      ]
    },
    {
      "cell_type": "markdown",
      "source": [
        "### Write raster"
      ],
      "metadata": {
        "id": "tT4W9XzP08rI"
      }
    },
    {
      "cell_type": "code",
      "source": [
        "%%R\n",
        "writeRaster(r1, filename = \"/content/drive/MyDrive/Data/DSM_AOI/Image_Classification_Landsat9/Landsat_Subset/AOI_1/h20_predicted_class_aoi_1.tiff\", overwrite=T)\n",
        "writeRaster(r2, filename = \"/content/drive/MyDrive/Data/DSM_AOI/Image_Classification_Landsat9/Landsat_Subset/AOI_1/h20_predicted_class_aoi_2.tiff\", overwrite=T)"
      ],
      "metadata": {
        "id": "Myc9fp4Z084U"
      },
      "execution_count": 37,
      "outputs": []
    }
  ],
  "metadata": {
    "colab": {
      "provenance": [],
      "authorship_tag": "ABX9TyPsdla+jkC4gSIjcdHpypG9",
      "include_colab_link": true
    },
    "kernelspec": {
      "display_name": "Python 3",
      "name": "python3"
    },
    "language_info": {
      "name": "python"
    }
  },
  "nbformat": 4,
  "nbformat_minor": 0
}