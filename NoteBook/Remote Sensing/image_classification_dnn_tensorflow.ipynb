{
  "nbformat": 4,
  "nbformat_minor": 0,
  "metadata": {
    "colab": {
      "provenance": [],
      "gpuType": "T4",
      "authorship_tag": "ABX9TyPmM/aGxFsilb2rpo/2CwiB",
      "include_colab_link": true
    },
    "kernelspec": {
      "name": "python3",
      "display_name": "Python 3"
    },
    "language_info": {
      "name": "python"
    },
    "accelerator": "GPU"
  },
  "cells": [
    {
      "cell_type": "markdown",
      "metadata": {
        "id": "view-in-github",
        "colab_type": "text"
      },
      "source": [
        "<a href=\"https://colab.research.google.com/github/zia207/r-colab/blob/main/NoteBook/Remote%20Sensing/image_classification_dnn_tensorflow.ipynb\" target=\"_parent\"><img src=\"https://colab.research.google.com/assets/colab-badge.svg\" alt=\"Open In Colab\"/></a>"
      ]
    },
    {
      "cell_type": "markdown",
      "source": [
        "# Deep Neural Network Supervised Image Classification with Keras/TensorFlow in R\n",
        "\n",
        "Zia Amed, University at Buffalo"
      ],
      "metadata": {
        "id": "W59D_SmZUKPR"
      }
    },
    {
      "cell_type": "markdown",
      "source": [
        "**Deep neural networks (DNNs)**, also known as neural networks or artificial neural networks, are machine learning models based on the structure and operation of neurons in the human brain. An artificial neural network is a network made up of multiple layers of connected nodes or neurons. Each layer is composed of an input layer, an output layer, and one or more layers of hidden nodes or neurons.\n",
        "\n",
        "A neural network with many hidden layers (more than one or two) is considered a deep neural network. Deep learning models can automatically learn hierarchical representations of data, making them suitable for complex tasks such as image recognition, natural language processing, and more.\n",
        "\n",
        "Deep neural networks have been highly successful in various fields, including computer vision, natural language processing, speech recognition, and reinforcement learning. They have revolutionized the field of artificial intelligence and continue to drive advances in machine learning research and applications."
      ],
      "metadata": {
        "id": "9_NYoUvGdB53"
      }
    },
    {
      "cell_type": "markdown",
      "source": [
        "Here are some key characteristics and components of a Deep Neural Network:\n",
        "\n",
        "1. **Neurons (Nodes):** Neurons are the basic building blocks of a neural network. Each neuron processes information by performing a weighted sum of its inputs, applying an activation function to the sum, and passing the result to the next layer. Neurons in the input layer represent the features of the data, while neurons in the output layer produce the network's predictions.\n",
        "\n",
        "2. **Layers:** A neural network is organized into layers, which are typically divided into three types:\n",
        "   - **Input Layer:** This is the first layer that receives the raw input data, such as images, text, or numerical features.\n",
        "   - **Hidden Layers:** These layers come between the input and output layers and are responsible for learning complex patterns and representations from the input data. Deep neural networks have multiple hidden layers, allowing them to model intricate relationships.\n",
        "   - **Output Layer:** The final layer produces the network's predictions or output values. The number of neurons in this layer depends on the nature of the task (e.g., regression, classification).\n",
        "\n",
        "3. **Weights and Biases:** Each connection between neurons has an associated weight and a bias term. These parameters are learned during the training process, allowing the network to adjust its behavior and make accurate predictions.\n",
        "\n",
        "4. **Activation Functions:** Activation functions introduce non-linearity to the network. Common activation functions include ReLU (Rectified Linear Unit), sigmoid, and tanh. They determine whether a neuron should be activated or not based on its input.\n",
        "\n",
        "5. **Forward Propagation:** During the forward pass, data flows through the network from the input layer to the output layer. Neurons in each layer compute their weighted sum and apply the activation function to produce their output, which becomes the input for the next layer.\n",
        "\n",
        "6. **Loss Function:** The loss function quantifies how well the network's predictions match the actual target values (labels) for a given set of inputs. The goal during training is to minimize this loss.\n",
        "\n",
        "7. **Backpropagation:** Backpropagation is the process of updating the network's weights and biases in the reverse direction, from the output layer back to the input layer. It uses the gradient of the loss function with respect to the network's parameters to adjust them in a way that reduces the loss.\n",
        "\n",
        "8. **Training:** Neural networks are trained using optimization algorithms like gradient descent. The training process involves iteratively adjusting the weights and biases to minimize the loss function on a labeled dataset.\n",
        "\n"
      ],
      "metadata": {
        "id": "2ZRH16ojdFs7"
      }
    },
    {
      "cell_type": "markdown",
      "source": [
        "This tutorial  you will learn how to implement [Deep Neural Network](https://en.wikipedia.org/wiki/Deep_learning) for [pixel based](https://gis.stackexchange.com/questions/237461/distinction-between-pixel-based-and-object-based-classification) [supervised classification ](https://articles.extension.org/pages/40214/whats-the-difference-between-a-supervised-and-unsupervised-image-classification) of [Sentinel-2 multispectral images](https://sentinel.esa.int/web/sentinel/missions/sentinel-2) using [keras](https://keras.rstudio.com/) package in [R](https://cloud.r-project.org/) in Google Colab with GPU support.\n",
        "\n",
        "[keras](https://keras.rstudio.com/) is a popular Python package for deep neural networks with multiple back ends, including [TensorFlow](https://www.tensorflow.org/), [Microsoft Cognitive Toolkit (CNTK)](https://docs.microsoft.com/en-us/cognitive-toolkit/), and [Theano](http://deeplearning.net/software/theano/). Two R packages allow you  to use Keras from R:  [keras](https://keras.rstudio.com/) and  [kerasR](https://github.com/statsmaths/kerasR).\n",
        "\n",
        "The **keras** package is able to provide a flexible and feature-rich API and can run both [CPU and GUP version of TensorFlow](https://www.tensorflow.org/install/install_windows) in both Windows and Linux. The default build of TensorFlow will use an NVIDIA® GPU if it is available and the appropriate drivers are installed, and otherwise fallback to using the CPU only.\n",
        "\n",
        "Note that on all platforms (except macOS) you must be running an NVIDIA® GPU with CUDA® Compute Capability 3.5 or higher. See the list of CUDA-enabled GPU cards. To enable TensorFlow to use a local NVIDIA® GPU, you can install the following:\n",
        "\n",
        "* [NVIDIA GUP](https://developer.nvidia.com/cuda-gpus): First, you must make sure weather your computer is running with [NVIDIA® GPU](https://developer.nvidia.com/cuda-gpus) or not. Follow the instruction as described  [here](http://nvidia.custhelp.com/app/answers/detail/a_id/2040/~/identifying-the-graphics-card-model-and-device-id-in-a-pc)\n",
        "\n",
        "* [CUDA Toolkit v11.8](https://developer.nvidia.com/cuda-90-download-archive?target_os=Windows&target_arch=x86_64&target_version=10&target_type=exelocal): If you have an NVIDIA® GPU in your system, you need to download and install [CUDA Toolkit  v9.0](https://developer.nvidia.com/cuda-90-download-archive?target_os=Windows&target_arch=x86_64&target_version=10&target_type=exelocal).\n",
        "\n",
        "* [cuDNN v8.6](https://developer.nvidia.com/cudnn): The download the zip file version [cuDNN v8.0](https://developer.nvidia.com/cudnn) for your CUDA Toolkit v9.0.You need to extract the zip file and add the location where you extracted it to your system PATH.  Detail installation steps can be found here [here](F:\\DeepLearning_tutorial\\Satellite_Image_Calssification\\h20_R_ImageCalssification\\keras_R\\Detail installation steps are described here).\n",
        "\n",
        "Detail installation steps of Keras back-end GPU or CUP version of Tensorflow can be found [here](https://tensorflow.rstudio.com/install/local_gpu).\n",
        "\n"
      ],
      "metadata": {
        "id": "h7NEyRzgeHFC"
      }
    },
    {
      "cell_type": "markdown",
      "source": [
        "### Install rpy2"
      ],
      "metadata": {
        "id": "ktIwpmD2UMkq"
      }
    },
    {
      "cell_type": "code",
      "execution_count": 6,
      "metadata": {
        "colab": {
          "base_uri": "https://localhost:8080/",
          "height": 391
        },
        "id": "SJ7m1HzsKYRe",
        "outputId": "f7ff6c98-a7c8-4c6b-e831-2a7ea40293f0"
      },
      "outputs": [
        {
          "output_type": "stream",
          "name": "stdout",
          "text": [
            "Found existing installation: rpy2 3.5.1\n",
            "Uninstalling rpy2-3.5.1:\n",
            "  Successfully uninstalled rpy2-3.5.1\n",
            "Collecting rpy2==3.5.1\n",
            "  Using cached rpy2-3.5.1-cp310-cp310-linux_x86_64.whl\n",
            "Requirement already satisfied: cffi>=1.10.0 in /usr/local/lib/python3.10/dist-packages (from rpy2==3.5.1) (1.15.1)\n",
            "Requirement already satisfied: jinja2 in /usr/local/lib/python3.10/dist-packages (from rpy2==3.5.1) (3.1.2)\n",
            "Requirement already satisfied: pytz in /usr/local/lib/python3.10/dist-packages (from rpy2==3.5.1) (2023.3.post1)\n",
            "Requirement already satisfied: tzlocal in /usr/local/lib/python3.10/dist-packages (from rpy2==3.5.1) (5.0.1)\n",
            "Requirement already satisfied: pycparser in /usr/local/lib/python3.10/dist-packages (from cffi>=1.10.0->rpy2==3.5.1) (2.21)\n",
            "Requirement already satisfied: MarkupSafe>=2.0 in /usr/local/lib/python3.10/dist-packages (from jinja2->rpy2==3.5.1) (2.1.3)\n",
            "Installing collected packages: rpy2\n",
            "Successfully installed rpy2-3.5.1\n"
          ]
        },
        {
          "output_type": "display_data",
          "data": {
            "application/vnd.colab-display-data+json": {
              "pip_warning": {
                "packages": [
                  "_rinterface_cffi_api",
                  "rpy2"
                ]
              }
            }
          },
          "metadata": {}
        },
        {
          "output_type": "stream",
          "name": "stdout",
          "text": [
            "The rpy2.ipython extension is already loaded. To reload it, use:\n",
            "  %reload_ext rpy2.ipython\n"
          ]
        }
      ],
      "source": [
        "!pip uninstall rpy2 -y\n",
        "!pip install rpy2==3.5.1\n",
        "%load_ext rpy2.ipython"
      ]
    },
    {
      "cell_type": "markdown",
      "source": [
        "### Mount Google Drive"
      ],
      "metadata": {
        "id": "L3_rmNHTKzH_"
      }
    },
    {
      "cell_type": "code",
      "source": [
        "from google.colab import drive\n",
        "drive.mount('/content/drive')"
      ],
      "metadata": {
        "colab": {
          "base_uri": "https://localhost:8080/"
        },
        "id": "umIbZjGeKzSI",
        "outputId": "c48b7f90-1cdd-4fdd-c3ac-201858ee9a2c"
      },
      "execution_count": 7,
      "outputs": [
        {
          "output_type": "stream",
          "name": "stdout",
          "text": [
            "Drive already mounted at /content/drive; to attempt to forcibly remount, call drive.mount(\"/content/drive\", force_remount=True).\n"
          ]
        }
      ]
    },
    {
      "cell_type": "markdown",
      "source": [
        "Install Required R Package"
      ],
      "metadata": {
        "id": "RxuRZclHK3PG"
      }
    },
    {
      "cell_type": "code",
      "source": [
        "%%R\n",
        "pkg <- c('tidyverse', 'raster', 'rgdal','terra','tidyterra', 'maptools', 'sf', 'classInt',\n",
        "         'RColorBrewer', 'tmap','tmaptools', 'gridExtra', 'devtools')\n",
        "new.packages <- pkg[!(pkg %in% installed.packages(lib='drive/My Drive/R/')[,\"Package\"])]\n",
        "if(length(new.packages)) install.packages(new.packages, lib='drive/My Drive/R/')"
      ],
      "metadata": {
        "id": "KSRxhtXcK3YS"
      },
      "execution_count": null,
      "outputs": []
    },
    {
      "cell_type": "markdown",
      "source": [
        "### Install tensorflow and Keras"
      ],
      "metadata": {
        "id": "hGmYV4xvK4up"
      }
    },
    {
      "cell_type": "code",
      "source": [
        "%%R\n",
        "remotes::install_github(\"rstudio/tensorflow\", lib='drive/My Drive/R/')"
      ],
      "metadata": {
        "id": "O0YZntNjK42C"
      },
      "execution_count": null,
      "outputs": []
    },
    {
      "cell_type": "code",
      "source": [
        "%%R\n",
        "install.packages(\"keras\",lib='drive/My Drive/R/' )"
      ],
      "metadata": {
        "id": "kDjlMv2fP7BR"
      },
      "execution_count": null,
      "outputs": []
    },
    {
      "cell_type": "markdown",
      "source": [
        "### Load Library"
      ],
      "metadata": {
        "id": "XulZP82nLU03"
      }
    },
    {
      "cell_type": "code",
      "source": [
        "%%R\n",
        ".libPaths('drive/My Drive/R')\n",
        "library (terra)\n",
        "library (tidyterra)\n",
        "library(sf)\n",
        "library(raster)\n",
        "library(rgdal)\n",
        "library(tidyverse)\n",
        "library(raster)\n",
        "library(RColorBrewer)\n",
        "library(RStoolbox)\n",
        "library(gridExtra)\n",
        "library(keras)\n",
        "library(tensorflow)\n",
        "library(data.table)"
      ],
      "metadata": {
        "id": "aJaQWinNLU8r"
      },
      "execution_count": 8,
      "outputs": []
    },
    {
      "cell_type": "markdown",
      "source": [
        "### Test\n",
        "You can test if TensorFlow can use a local GPU by running the following:"
      ],
      "metadata": {
        "id": "UXnnN3OrRTYA"
      }
    },
    {
      "cell_type": "code",
      "source": [
        "%%R\n",
        "tensorflow::tf_gpu_configured()"
      ],
      "metadata": {
        "colab": {
          "base_uri": "https://localhost:8080/"
        },
        "id": "6AUsZ_S4RTfl",
        "outputId": "316595f6-763e-4b18-a747-67f79575e4de"
      },
      "execution_count": 9,
      "outputs": [
        {
          "output_type": "stream",
          "name": "stdout",
          "text": [
            "TensorFlow built with CUDA:  TRUE \n",
            "GPU device name:  /device:GPU:0[1] TRUE\n"
          ]
        }
      ]
    },
    {
      "cell_type": "markdown",
      "source": [
        "### Data\n",
        "\n",
        "In this lesson, we will use a sub-set of Landsat 9 satellite megapixel-based in the central part of the country. We will prepare them for pixel-based classification using machine learning algorithms. The images were already radiometrically and atmospherically corrected.\n",
        "\n",
        "We will train the a DNN model with four feature classes extracted from Google Earth imagery: (1) Home stage vegetation, (2) cropland, (3) Bare soil/Developed, and (4) water bodies."
      ],
      "metadata": {
        "id": "Y3cmxuXDhfQ_"
      }
    },
    {
      "cell_type": "code",
      "source": [
        "%%R\n",
        "point<-fread(\"/content/drive/MyDrive/Data/DSM_AOI/Image_Classification_Landsat9/Landsat_Subset/AOI_1/point_data.csv\") %>%\n",
        "glimpse()"
      ],
      "metadata": {
        "colab": {
          "base_uri": "https://localhost:8080/"
        },
        "id": "yMHU591q0969",
        "outputId": "6d952cbb-3068-4352-ae02-f57b8d21cdeb"
      },
      "execution_count": 10,
      "outputs": [
        {
          "output_type": "stream",
          "name": "stdout",
          "text": [
            "Rows: 215,854\n",
            "Columns: 10\n",
            "$ x   <int> 152170, 152180, 152000, 152010, 152020, 152030, 152040, 152050, 15…\n",
            "$ y   <int> 2588310, 2588310, 2588300, 2588300, 2588300, 2588300, 2588300, 258…\n",
            "$ Id  <int> 2, 2, 2, 2, 2, 2, 2, 2, 2, 2, 2, 2, 2, 2, 2, 2, 2, 2, 2, 2, 2, 2, …\n",
            "$ B2  <int> 12573, 12554, 12559, 12559, 12559, 12577, 12577, 12577, 12605, 126…\n",
            "$ B3  <int> 14378, 14299, 14336, 14336, 14336, 14338, 14338, 14338, 14333, 143…\n",
            "$ B4  <int> 15320, 15181, 15347, 15347, 15347, 15272, 15272, 15272, 15257, 152…\n",
            "$ B5  <int> 18372, 18142, 18525, 18525, 18525, 18304, 18304, 18304, 18288, 182…\n",
            "$ B6  <int> 21751, 21507, 21824, 21824, 21824, 21778, 21778, 21778, 21682, 216…\n",
            "$ B7  <int> 21393, 21176, 21448, 21448, 21448, 21467, 21467, 21467, 21421, 214…\n",
            "$ dem <dbl> 5.126486, 5.851623, 5.102431, 4.999510, 4.999510, 4.999510, 5.0063…\n"
          ]
        }
      ]
    },
    {
      "cell_type": "markdown",
      "source": [
        "### Create Dataframe"
      ],
      "metadata": {
        "id": "SgxzEzX2juDt"
      }
    },
    {
      "cell_type": "code",
      "source": [
        "%%R\n",
        "# training data\n",
        "point.df<-point[,c(4:10, 3)] %>%\n",
        "glimpse()"
      ],
      "metadata": {
        "colab": {
          "base_uri": "https://localhost:8080/"
        },
        "id": "xOXxCCp9nYwN",
        "outputId": "5589e23a-c48d-448c-b0ed-1a9a91b860dd"
      },
      "execution_count": 12,
      "outputs": [
        {
          "output_type": "stream",
          "name": "stdout",
          "text": [
            "Rows: 215,854\n",
            "Columns: 8\n",
            "$ B2  <int> 12573, 12554, 12559, 12559, 12559, 12577, 12577, 12577, 12605, 126…\n",
            "$ B3  <int> 14378, 14299, 14336, 14336, 14336, 14338, 14338, 14338, 14333, 143…\n",
            "$ B4  <int> 15320, 15181, 15347, 15347, 15347, 15272, 15272, 15272, 15257, 152…\n",
            "$ B5  <int> 18372, 18142, 18525, 18525, 18525, 18304, 18304, 18304, 18288, 182…\n",
            "$ B6  <int> 21751, 21507, 21824, 21824, 21824, 21778, 21778, 21778, 21682, 216…\n",
            "$ B7  <int> 21393, 21176, 21448, 21448, 21448, 21467, 21467, 21467, 21421, 214…\n",
            "$ dem <dbl> 5.126486, 5.851623, 5.102431, 4.999510, 4.999510, 4.999510, 5.0063…\n",
            "$ Id  <int> 2, 2, 2, 2, 2, 2, 2, 2, 2, 2, 2, 2, 2, 2, 2, 2, 2, 2, 2, 2, 2, 2, …\n"
          ]
        }
      ]
    },
    {
      "cell_type": "code",
      "source": [
        "%%R\n",
        "levels(as.factor(point.df$Id))"
      ],
      "metadata": {
        "colab": {
          "base_uri": "https://localhost:8080/"
        },
        "id": "9q9Sl11ZvCnY",
        "outputId": "ce505717-5ad6-46d2-8d4d-35509315c60b"
      },
      "execution_count": 13,
      "outputs": [
        {
          "output_type": "stream",
          "name": "stdout",
          "text": [
            "[1] \"0\" \"1\" \"2\" \"3\"\n"
          ]
        }
      ]
    },
    {
      "cell_type": "code",
      "source": [
        "%%R\n",
        "grid<-read_csv(\"/content/drive/MyDrive/Data/DSM_AOI/Image_Classification_Landsat9/Landsat_Subset/AOI_1/prediction_grid_data.csv\")\n",
        "glimpse(grid)"
      ],
      "metadata": {
        "colab": {
          "base_uri": "https://localhost:8080/"
        },
        "id": "9ahnY-ZcikuV",
        "outputId": "7d88937b-03dc-4884-8fa0-48e465cefdc3"
      },
      "execution_count": 14,
      "outputs": [
        {
          "output_type": "stream",
          "name": "stdout",
          "text": [
            "Rows: 1000000 Columns: 10\n",
            "── Column specification ────────────────────────────────────────────────────────\n",
            "Delimiter: \",\"\n",
            "dbl (10): x, y, ID, B2, B3, B4, B5, B6, B7, dem\n",
            "\n",
            "ℹ Use `spec()` to retrieve the full column specification for this data.\n",
            "ℹ Specify the column types or set `show_col_types = FALSE` to quiet this message.\n",
            "Rows: 1,000,000\n",
            "Columns: 10\n",
            "$ x   <dbl> 150930, 150960, 150990, 151020, 151050, 151080, 151110, 151140, 15…\n",
            "$ y   <dbl> 2588550, 2588550, 2588550, 2588550, 2588550, 2588550, 2588550, 258…\n",
            "$ ID  <dbl> 1, 2, 3, 4, 5, 6, 7, 8, 9, 10, 11, 12, 13, 14, 15, 16, 17, 18, 19,…\n",
            "$ B2  <dbl> 9289, 9333, 9526, 9635, 9532, 9615, 9646, 9694, 9854, 9894, 9720, …\n",
            "$ B3  <dbl> 10661, 10657, 10988, 11020, 10766, 10925, 11037, 10975, 11276, 112…\n",
            "$ B4  <dbl> 10019, 10261, 10927, 11013, 10420, 10522, 10951, 10864, 11087, 112…\n",
            "$ B5  <dbl> 18168, 17364, 16623, 16162, 16683, 17598, 16579, 16572, 16866, 160…\n",
            "$ B6  <dbl> 14338, 14709, 15744, 15363, 15173, 15571, 15894, 15761, 16444, 157…\n",
            "$ B7  <dbl> 11357, 11819, 13262, 12782, 12286, 12710, 13399, 12748, 14141, 137…\n",
            "$ dem <dbl> 9.827662, 14.767797, 2.985770, 2.595814, 2.571604, 8.822142, 3.505…\n"
          ]
        }
      ]
    },
    {
      "cell_type": "code",
      "source": [
        "%%R\n",
        "grid.df<-grid[c(4:10)] %>%\n",
        "glimpse()\n",
        "\n",
        "grid.xy<-grid[c(1:2)]"
      ],
      "metadata": {
        "id": "ELkcWiybitR9",
        "colab": {
          "base_uri": "https://localhost:8080/"
        },
        "outputId": "735e9956-795a-49eb-d08f-25306e622034"
      },
      "execution_count": 16,
      "outputs": [
        {
          "output_type": "stream",
          "name": "stdout",
          "text": [
            "Rows: 1,000,000\n",
            "Columns: 7\n",
            "$ B2  <dbl> 9289, 9333, 9526, 9635, 9532, 9615, 9646, 9694, 9854, 9894, 9720, …\n",
            "$ B3  <dbl> 10661, 10657, 10988, 11020, 10766, 10925, 11037, 10975, 11276, 112…\n",
            "$ B4  <dbl> 10019, 10261, 10927, 11013, 10420, 10522, 10951, 10864, 11087, 112…\n",
            "$ B5  <dbl> 18168, 17364, 16623, 16162, 16683, 17598, 16579, 16572, 16866, 160…\n",
            "$ B6  <dbl> 14338, 14709, 15744, 15363, 15173, 15571, 15894, 15761, 16444, 157…\n",
            "$ B7  <dbl> 11357, 11819, 13262, 12782, 12286, 12710, 13399, 12748, 14141, 137…\n",
            "$ dem <dbl> 9.827662, 14.767797, 2.985770, 2.595814, 2.571604, 8.822142, 3.505…\n"
          ]
        }
      ]
    },
    {
      "cell_type": "markdown",
      "source": [
        "### Convert data as matrix"
      ],
      "metadata": {
        "id": "B4aWeocrsf68"
      }
    },
    {
      "cell_type": "code",
      "source": [
        "%%R\n",
        "point.df<- as.matrix(point.df)\n",
        "grid.df <- as.matrix(grid.df)"
      ],
      "metadata": {
        "id": "KCbyTA7JskO8"
      },
      "execution_count": 17,
      "outputs": []
    },
    {
      "cell_type": "markdown",
      "source": [
        "### Set  `dimnames` to `NULL`:"
      ],
      "metadata": {
        "id": "wkHkOfcassxN"
      }
    },
    {
      "cell_type": "code",
      "source": [
        "%%R\n",
        "dimnames(point.df) <- NULL\n",
        "dimnames(grid.df) <- NULL"
      ],
      "metadata": {
        "id": "-yyvDoTfswaA"
      },
      "execution_count": 18,
      "outputs": []
    },
    {
      "cell_type": "code",
      "source": [
        "%%R\n",
        "head(point.df)\n"
      ],
      "metadata": {
        "colab": {
          "base_uri": "https://localhost:8080/"
        },
        "id": "7SN53ancNngX",
        "outputId": "46c385be-2ed5-4065-88da-0519463105e1"
      },
      "execution_count": 19,
      "outputs": [
        {
          "output_type": "stream",
          "name": "stdout",
          "text": [
            "      [,1]  [,2]  [,3]  [,4]  [,5]  [,6]     [,7] [,8]\n",
            "[1,] 12573 14378 15320 18372 21751 21393 5.126486    2\n",
            "[2,] 12554 14299 15181 18142 21507 21176 5.851623    2\n",
            "[3,] 12559 14336 15347 18525 21824 21448 5.102431    2\n",
            "[4,] 12559 14336 15347 18525 21824 21448 4.999510    2\n",
            "[5,] 12559 14336 15347 18525 21824 21448 4.999510    2\n",
            "[6,] 12577 14338 15272 18304 21778 21467 4.999510    2\n"
          ]
        }
      ]
    },
    {
      "cell_type": "markdown",
      "source": [
        "### Standardize_the data: ((x-mean(x))/sd(x))"
      ],
      "metadata": {
        "id": "nvp-VC2eszcY"
      }
    },
    {
      "cell_type": "code",
      "source": [
        "%%R\n",
        "point.df[, 1:7] = scale(point.df[, 1:7])\n",
        "grid.df[, 1:7] = scale(grid.df[, 1:7])"
      ],
      "metadata": {
        "id": "WM-RgsQys4Gd"
      },
      "execution_count": 20,
      "outputs": []
    },
    {
      "cell_type": "markdown",
      "source": [
        "#### Split data  training and test"
      ],
      "metadata": {
        "id": "GwBaBHHjtS_2"
      }
    },
    {
      "cell_type": "code",
      "source": [
        "%%R\n",
        "##  Determine sample size\n",
        "ind <- sample(2, nrow(point.df), replace=TRUE, prob=c(0.80, 0.20))\n",
        "# Split the `Split data\n",
        "training_x <- point.df[ind==1, 1:7]\n",
        "test_x <- point.df[ind==2, 1:7]\n",
        "# Split the class attribute\n",
        "training_y <- point.df[ind==1, 8]\n",
        "test_y <- point.df[ind==2, 8]\n"
      ],
      "metadata": {
        "id": "21hEdfj6tVqT"
      },
      "execution_count": 21,
      "outputs": []
    },
    {
      "cell_type": "markdown",
      "source": [
        "### Hyperparameter flag"
      ],
      "metadata": {
        "id": "jUaBmZVDthmX"
      }
    },
    {
      "cell_type": "code",
      "source": [
        "%%R\n",
        "FLAGS <- flags(\n",
        "  flag_numeric('dropout_1', 0.2, 'First dropout'),\n",
        "  flag_numeric('dropout_2', 0.2, 'Second dropout'),\n",
        "  flag_numeric('dropout_3', 0.1, 'Third dropout'),\n",
        "  flag_numeric('dropout_4', 0.1, 'Forth dropout')\n",
        "  )"
      ],
      "metadata": {
        "id": "Cyl18v45tkX5"
      },
      "execution_count": 22,
      "outputs": []
    },
    {
      "cell_type": "markdown",
      "source": [
        "### Define model parameters with 4 hidden layers with 100 neurons"
      ],
      "metadata": {
        "id": "MZeeDKU8trMV"
      }
    },
    {
      "cell_type": "code",
      "source": [
        "%%R\n",
        "model <- keras_model_sequential()\n",
        "model %>%\n",
        "  # Imput layer\n",
        "  layer_dense(units = 200, activation = 'relu',\n",
        "              kernel_regularizer =regularizer_l1_l2(l1 = 0.00001, l2 = 0.00001),input_shape = c(7)) %>%\n",
        "  layer_dropout(rate = FLAGS$dropout_1,seed = 1) %>%\n",
        "  # Hidden layers\n",
        "  layer_dense(units = 200, activation = 'relu',\n",
        "              kernel_regularizer = regularizer_l1_l2(l1 = 0.00001, l2 = 0.00001)) %>%\n",
        "  layer_dropout(rate = FLAGS$dropout_2,seed = 1) %>%\n",
        "  layer_dense(units = 200, activation = 'relu',\n",
        "              kernel_regularizer = regularizer_l1_l2(l1 = 0.00001, l2 = 0.00001)) %>%\n",
        "  layer_dropout(rate = FLAGS$dropout_3,seed = 1) %>%\n",
        "  layer_dense(units = 200, activation = 'relu',\n",
        "              kernel_regularizer = regularizer_l1_l2(l1 = 0.0001, l2 = 0.00001)) %>%\n",
        "  layer_dropout(rate = FLAGS$dropout_4) %>%\n",
        "  # Output layer\n",
        "  layer_dense(units = 4, activation = 'softmax')\n",
        "\n"
      ],
      "metadata": {
        "id": "7UD8WwxltxJm"
      },
      "execution_count": 23,
      "outputs": []
    },
    {
      "cell_type": "code",
      "source": [
        "%%R\n",
        "summary(model)"
      ],
      "metadata": {
        "colab": {
          "base_uri": "https://localhost:8080/"
        },
        "id": "AYc160bJt9NE",
        "outputId": "4bd90f63-ef0f-43e7-e278-8f6dafa6799e"
      },
      "execution_count": 24,
      "outputs": [
        {
          "output_type": "stream",
          "name": "stdout",
          "text": [
            "Model: \"sequential\"\n",
            "________________________________________________________________________________\n",
            " Layer (type)                       Output Shape                    Param #     \n",
            "================================================================================\n",
            " dense_4 (Dense)                    (None, 200)                     1600        \n",
            " dropout_3 (Dropout)                (None, 200)                     0           \n",
            " dense_3 (Dense)                    (None, 200)                     40200       \n",
            " dropout_2 (Dropout)                (None, 200)                     0           \n",
            " dense_2 (Dense)                    (None, 200)                     40200       \n",
            " dropout_1 (Dropout)                (None, 200)                     0           \n",
            " dense_1 (Dense)                    (None, 200)                     40200       \n",
            " dropout (Dropout)                  (None, 200)                     0           \n",
            " dense (Dense)                      (None, 4)                       804         \n",
            "================================================================================\n",
            "Total params: 123004 (480.48 KB)\n",
            "Trainable params: 123004 (480.48 KB)\n",
            "Non-trainable params: 0 (0.00 Byte)\n",
            "________________________________________________________________________________\n"
          ]
        }
      ]
    },
    {
      "cell_type": "markdown",
      "source": [
        "### Define an optimizer (Stochastic gradient descent optimizer)"
      ],
      "metadata": {
        "id": "GHfbwM-5uIKM"
      }
    },
    {
      "cell_type": "code",
      "source": [
        "%%R\n",
        "optimizer <- optimizer_sgd(learning_rate=0.001)"
      ],
      "metadata": {
        "id": "nccM_7vXuJ5s"
      },
      "execution_count": 25,
      "outputs": []
    },
    {
      "cell_type": "markdown",
      "source": [
        "### Compile the model:"
      ],
      "metadata": {
        "id": "qX0V7ybquPnT"
      }
    },
    {
      "cell_type": "code",
      "source": [
        "%%R\n",
        "model %>% compile(\n",
        "  loss = 'sparse_categorical_crossentropy',\n",
        "  optimizer = optimizer,\n",
        "  metrics = 'accuracy'\n",
        ")\n"
      ],
      "metadata": {
        "id": "maceA2iZuPvA"
      },
      "execution_count": 26,
      "outputs": []
    },
    {
      "cell_type": "markdown",
      "source": [
        "### Fit the model to the data"
      ],
      "metadata": {
        "id": "4BK5mv73uZQ7"
      }
    },
    {
      "cell_type": "code",
      "source": [
        "%%R\n",
        "history<-model %>% fit(\n",
        "  training_x, training_y,\n",
        "  epochs = 50,\n",
        "  batch_size = 100,\n",
        "  shuffle = TRUE,\n",
        "  validation_split = 0.2\n",
        "  )"
      ],
      "metadata": {
        "id": "cmXg3N-8ucU4"
      },
      "execution_count": null,
      "outputs": []
    },
    {
      "cell_type": "markdown",
      "source": [
        "#### Plot history"
      ],
      "metadata": {
        "id": "i7uKuPCWuyk7"
      }
    },
    {
      "cell_type": "code",
      "source": [
        "%%R\n",
        "plot(history)"
      ],
      "metadata": {
        "colab": {
          "base_uri": "https://localhost:8080/",
          "height": 497
        },
        "id": "gKcxDtO8u1hs",
        "outputId": "e16de951-27bb-47fb-afe5-8ac7d7f98109"
      },
      "execution_count": 28,
      "outputs": [
        {
          "output_type": "display_data",
          "data": {
            "image/png": "[encoded data removed]"
          },
          "metadata": {}
        }
      ]
    },
    {
      "cell_type": "markdown",
      "source": [
        "### Evaluate the model"
      ],
      "metadata": {
        "id": "rP9qkTUMu-WM"
      }
    },
    {
      "cell_type": "code",
      "source": [
        "%%R\n",
        "score <- model %>% evaluate(test_x, test_y, batch_size = 100)\n",
        "cat('Test loss:', score[[1]], '\\n')\n",
        "cat('Test accuracy:', score[[2]], '\\n')"
      ],
      "metadata": {
        "colab": {
          "base_uri": "https://localhost:8080/"
        },
        "id": "GbZls6Cku-cu",
        "outputId": "45ac813e-3bac-4c49-8f4e-d9061cdfff0f"
      },
      "execution_count": 30,
      "outputs": [
        {
          "output_type": "stream",
          "name": "stdout",
          "text": [
            "433/433 [==============================] - 1s 3ms/step - loss: 0.4621 - accuracy: 0.9464\n",
            "433/433 [==============================] - 1s 3ms/step - loss: 0.4621 - accuracy: 0.9464\n",
            "Test loss: 0.4621169 \n",
            "Test accuracy: 0.9463575 \n"
          ]
        }
      ]
    },
    {
      "cell_type": "markdown",
      "source": [
        "### Prediction & confusion matrix - test data"
      ],
      "metadata": {
        "id": "P55t3VTmvK3I"
      }
    },
    {
      "cell_type": "code",
      "source": [
        "%%R\n",
        "class_test <- model %>% predict(test_x) %>%\n",
        "              k_argmax()\n"
      ],
      "metadata": {
        "colab": {
          "base_uri": "https://localhost:8080/"
        },
        "id": "0NokgYJdvLFV",
        "outputId": "2174a719-5737-4bf3-9d10-9c28f677b16d"
      },
      "execution_count": 31,
      "outputs": [
        {
          "output_type": "stream",
          "name": "stdout",
          "text": [
            "1351/1351 [==============================] - 3s 2ms/step\n",
            "1351/1351 [==============================] - 3s 2ms/step\n"
          ]
        }
      ]
    },
    {
      "cell_type": "code",
      "source": [
        "%%R\n",
        "class_test"
      ],
      "metadata": {
        "colab": {
          "base_uri": "https://localhost:8080/"
        },
        "id": "1B9DSJg58L6-",
        "outputId": "541650ef-876b-45f1-c301-078986d6ab36"
      },
      "execution_count": 32,
      "outputs": [
        {
          "output_type": "stream",
          "name": "stdout",
          "text": [
            "tf.Tensor([2 2 2 ... 0 0 0], shape=(43212), dtype=int64)\n"
          ]
        }
      ]
    },
    {
      "cell_type": "code",
      "source": [
        "%%R\n",
        " test_pred<-as.matrix(class_test)"
      ],
      "metadata": {
        "id": "_JoXdfgvwYe6"
      },
      "execution_count": 33,
      "outputs": []
    },
    {
      "cell_type": "code",
      "source": [
        "%%R\n",
        "table(test_y,test_pred)"
      ],
      "metadata": {
        "colab": {
          "base_uri": "https://localhost:8080/"
        },
        "id": "8DUNMn8lL_Zl",
        "outputId": "d704e0e0-a46e-4b2c-e907-f535d3946499"
      },
      "execution_count": 35,
      "outputs": [
        {
          "output_type": "stream",
          "name": "stdout",
          "text": [
            "      test_pred\n",
            "test_y     0     1     2     3\n",
            "     0  8101  1128    99    35\n",
            "     1   234 25222   114   225\n",
            "     2   114   162  1864    16\n",
            "     3    18   161    12  5707\n"
          ]
        }
      ]
    },
    {
      "cell_type": "markdown",
      "source": [
        "### Prediction at grid locations:"
      ],
      "metadata": {
        "id": "5nldd_5NMXbS"
      }
    },
    {
      "cell_type": "code",
      "source": [
        "%%R\n",
        "class_grid <- model %>% predict(grid.df) %>%\n",
        "              k_argmax()"
      ],
      "metadata": {
        "colab": {
          "base_uri": "https://localhost:8080/"
        },
        "id": "d0zSs6nxMZUb",
        "outputId": "fa856c88-ba1e-4791-bec6-0a3a57cfd56e"
      },
      "execution_count": 36,
      "outputs": [
        {
          "output_type": "stream",
          "name": "stdout",
          "text": [
            "31250/31250 [==============================] - 59s 2ms/step\n",
            "31250/31250 [==============================] - 59s 2ms/step\n"
          ]
        }
      ]
    },
    {
      "cell_type": "code",
      "source": [
        "%%R\n",
        "class_grid"
      ],
      "metadata": {
        "colab": {
          "base_uri": "https://localhost:8080/"
        },
        "id": "IW_r-B8-fsap",
        "outputId": "a2e8a22e-efb7-406b-ec7d-dc7113f7e74a"
      },
      "execution_count": 37,
      "outputs": [
        {
          "output_type": "stream",
          "name": "stdout",
          "text": [
            "tf.Tensor([1 0 2 ... 1 1 1], shape=(1000000), dtype=int64)\n"
          ]
        }
      ]
    },
    {
      "cell_type": "code",
      "source": [
        "%%R\n",
        "class<-as.matrix(class_grid)\n",
        "new.grid<-cbind(x=grid.xy$x, y=grid.xy$y,Class_ID=class )\n",
        "colnames(new.grid)[3]<-\"Class_ID\"\n",
        "new.grid.na<-as.data.frame(na.omit(new.grid))\n",
        "\n"
      ],
      "metadata": {
        "id": "SUym-V3wZzny"
      },
      "execution_count": 39,
      "outputs": []
    },
    {
      "cell_type": "code",
      "source": [
        "%%R\n",
        "head(new.grid.na)"
      ],
      "metadata": {
        "colab": {
          "base_uri": "https://localhost:8080/"
        },
        "id": "qPbMRNAY9kDq",
        "outputId": "e7289e13-7aed-4545-e3f7-d8d405e75c6c"
      },
      "execution_count": 41,
      "outputs": [
        {
          "output_type": "stream",
          "name": "stdout",
          "text": [
            "       x       y Class_ID\n",
            "1 150930 2588550        1\n",
            "2 150960 2588550        0\n",
            "3 150990 2588550        2\n",
            "4 151020 2588550        2\n",
            "5 151050 2588550        1\n",
            "6 151080 2588550        2\n"
          ]
        }
      ]
    },
    {
      "cell_type": "code",
      "source": [
        "%%R\n",
        "levels(as.factor(new.grid.na$Class_ID))"
      ],
      "metadata": {
        "colab": {
          "base_uri": "https://localhost:8080/"
        },
        "id": "TFR4Tc8ieeee",
        "outputId": "b39329a6-e386-4027-dd90-0b77ebe7ff22"
      },
      "execution_count": 40,
      "outputs": [
        {
          "output_type": "stream",
          "name": "stdout",
          "text": [
            "[1] \"0\" \"1\" \"2\" \"3\"\n"
          ]
        }
      ]
    },
    {
      "cell_type": "code",
      "source": [
        "%%R\n",
        "ID<-read_csv(\"/content/drive/MyDrive/Data/DSM_AOI/Image_Classification_Landsat9/Landsat_Subset/AOI_1/landuse_id.csv\")\n",
        "ID"
      ],
      "metadata": {
        "colab": {
          "base_uri": "https://localhost:8080/"
        },
        "id": "TyLG31LBaxot",
        "outputId": "df860e77-a720-4bfc-b866-1ea2fa7c3ecb"
      },
      "execution_count": 42,
      "outputs": [
        {
          "output_type": "stream",
          "name": "stdout",
          "text": [
            "Rows: 4 Columns: 3\n",
            "── Column specification ────────────────────────────────────────────────────────\n",
            "Delimiter: \",\"\n",
            "chr (2): Class, Description\n",
            "dbl (1): Id\n",
            "\n",
            "ℹ Use `spec()` to retrieve the full column specification for this data.\n",
            "ℹ Specify the column types or set `show_col_types = FALSE` to quiet this message.\n",
            "# A tibble: 4 × 3\n",
            "     Id Class   Description         \n",
            "  <dbl> <chr>   <chr>               \n",
            "1     0 Class_1 Homestead vegetation\n",
            "2     1 Class_2 Cropland            \n",
            "3     2 Class_3 Bare soil/Developed \n",
            "4     3 Class_4 Water body          \n"
          ]
        }
      ]
    },
    {
      "cell_type": "markdown",
      "source": [
        "### Convert to raster"
      ],
      "metadata": {
        "id": "t0CDqpVzbYPf"
      }
    },
    {
      "cell_type": "code",
      "source": [
        "%%R\n",
        "x<-as.data.frame(new.grid.na)\n",
        "r <- rasterFromXYZ(as.data.frame(x)[, c(\"x\", \"y\", \"Class_ID\")])\n"
      ],
      "metadata": {
        "id": "v3kZxnyfaxwy"
      },
      "execution_count": 43,
      "outputs": []
    },
    {
      "cell_type": "code",
      "source": [
        "%%R\n",
        "# Create color palette\n",
        "myPalette <- colorRampPalette(c(\"red\",\"forestgreen\",\"orange\", \"blue\"))\n",
        "# Plot Map\n",
        "LU<-spplot(r,\"Class_ID\", main=\"Supervised Image Classification: DNN keras-R\" ,\n",
        "      colorkey = list(space=\"right\",tick.number=1,height=1, width=1.5,\n",
        "              labels = list(at = seq(0,3,length=4),cex=1.25,\n",
        "              lab = c(\"Homestead vegetation\" ,\"Cropland\", \"Bare soil/Developed \", \"Waterbody\"))),\n",
        "              col.regions=myPalette,cut=3)\n",
        "LU"
      ],
      "metadata": {
        "colab": {
          "base_uri": "https://localhost:8080/",
          "height": 497
        },
        "id": "NVUHs2gYciYH",
        "outputId": "186def74-cd9a-468d-b93e-99cb2dcf038e"
      },
      "execution_count": 48,
      "outputs": [
        {
          "output_type": "display_data",
          "data": {
            "image/png": "[encoded data removed]"
          },
          "metadata": {}
        }
      ]
    },
    {
      "cell_type": "code",
      "source": [
        "%%R\n",
        "writeRaster(r, filename = \"/content/drive/MyDrive/Data/DSM_AOI/Image_Classification_Landsat9/Landsat_Subset/AOI_1/predicted_class_aoi_1.tiff\", overwrite=T)"
      ],
      "metadata": {
        "id": "SpA4JEXD_CC6"
      },
      "execution_count": 52,
      "outputs": []
    }
  ]
}