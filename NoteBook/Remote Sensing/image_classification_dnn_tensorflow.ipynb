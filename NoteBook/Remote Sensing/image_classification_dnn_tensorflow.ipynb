{
  "nbformat": 4,
  "nbformat_minor": 0,
  "metadata": {
    "colab": {
      "provenance": [],
      "gpuType": "T4",
      "mount_file_id": "19veN0T92eMsWBKMuydKYbwF7XqU7niLj",
      "authorship_tag": "ABX9TyNu3JKgFDVPgXMx3miCYRP4",
      "include_colab_link": true
    },
    "kernelspec": {
      "name": "python3",
      "display_name": "Python 3"
    },
    "language_info": {
      "name": "python"
    },
    "accelerator": "GPU"
  },
  "cells": [
    {
      "cell_type": "markdown",
      "metadata": {
        "id": "view-in-github",
        "colab_type": "text"
      },
      "source": [
        "<a href=\"https://colab.research.google.com/github/zia207/r-colab/blob/main/NoteBook/Remote%20Sensing/image_classification_dnn_tensorflow.ipynb\" target=\"_parent\"><img src=\"https://colab.research.google.com/assets/colab-badge.svg\" alt=\"Open In Colab\"/></a>"
      ]
    },
    {
      "cell_type": "markdown",
      "source": [
        "# Deep Neural Network Supervised Image Classification with Keras/TensorFlow in R\n",
        "\n",
        "Zia Amed, University at Buffalo"
      ],
      "metadata": {
        "id": "W59D_SmZUKPR"
      }
    },
    {
      "cell_type": "markdown",
      "source": [
        "**Deep neural networks (DNNs)**, also known as neural networks or artificial neural networks, are machine learning models based on the structure and operation of neurons in the human brain. An artificial neural network is a network made up of multiple layers of connected nodes or neurons. Each layer is composed of an input layer, an output layer, and one or more layers of hidden nodes or neurons.\n",
        "\n",
        "A neural network with many hidden layers (more than one or two) is considered a deep neural network. Deep learning models can automatically learn hierarchical representations of data, making them suitable for complex tasks such as image recognition, natural language processing, and more.\n",
        "\n",
        "Deep neural networks have been highly successful in various fields, including computer vision, natural language processing, speech recognition, and reinforcement learning. They have revolutionized the field of artificial intelligence and continue to drive advances in machine learning research and applications."
      ],
      "metadata": {
        "id": "9_NYoUvGdB53"
      }
    },
    {
      "cell_type": "markdown",
      "source": [
        "Here are some key characteristics and components of a Deep Neural Network:\n",
        "\n",
        "1. **Neurons (Nodes):** Neurons are the basic building blocks of a neural network. Each neuron processes information by performing a weighted sum of its inputs, applying an activation function to the sum, and passing the result to the next layer. Neurons in the input layer represent the features of the data, while neurons in the output layer produce the network's predictions.\n",
        "\n",
        "2. **Layers:** A neural network is organized into layers, which are typically divided into three types:\n",
        "   - **Input Layer:** This is the first layer that receives the raw input data, such as images, text, or numerical features.\n",
        "   - **Hidden Layers:** These layers come between the input and output layers and are responsible for learning complex patterns and representations from the input data. Deep neural networks have multiple hidden layers, allowing them to model intricate relationships.\n",
        "   - **Output Layer:** The final layer produces the network's predictions or output values. The number of neurons in this layer depends on the nature of the task (e.g., regression, classification).\n",
        "\n",
        "3. **Weights and Biases:** Each connection between neurons has an associated weight and a bias term. These parameters are learned during the training process, allowing the network to adjust its behavior and make accurate predictions.\n",
        "\n",
        "4. **Activation Functions:** Activation functions introduce non-linearity to the network. Common activation functions include ReLU (Rectified Linear Unit), sigmoid, and tanh. They determine whether a neuron should be activated or not based on its input.\n",
        "\n",
        "5. **Forward Propagation:** During the forward pass, data flows through the network from the input layer to the output layer. Neurons in each layer compute their weighted sum and apply the activation function to produce their output, which becomes the input for the next layer.\n",
        "\n",
        "6. **Loss Function:** The loss function quantifies how well the network's predictions match the actual target values (labels) for a given set of inputs. The goal during training is to minimize this loss.\n",
        "\n",
        "7. **Backpropagation:** Backpropagation is the process of updating the network's weights and biases in the reverse direction, from the output layer back to the input layer. It uses the gradient of the loss function with respect to the network's parameters to adjust them in a way that reduces the loss.\n",
        "\n",
        "8. **Training:** Neural networks are trained using optimization algorithms like gradient descent. The training process involves iteratively adjusting the weights and biases to minimize the loss function on a labeled dataset.\n",
        "\n"
      ],
      "metadata": {
        "id": "2ZRH16ojdFs7"
      }
    },
    {
      "cell_type": "markdown",
      "source": [
        "This tutorial  you will learn how to implement [Deep Neural Network](https://en.wikipedia.org/wiki/Deep_learning) for [pixel based](https://gis.stackexchange.com/questions/237461/distinction-between-pixel-based-and-object-based-classification) [supervised classification ](https://articles.extension.org/pages/40214/whats-the-difference-between-a-supervised-and-unsupervised-image-classification) of [Sentinel-2 multispectral images](https://sentinel.esa.int/web/sentinel/missions/sentinel-2) using [keras](https://keras.rstudio.com/) package in [R](https://cloud.r-project.org/) in Google Colab with GPU support.\n",
        "\n",
        "[keras](https://keras.rstudio.com/) is a popular Python package for deep neural networks with multiple back ends, including [TensorFlow](https://www.tensorflow.org/), [Microsoft Cognitive Toolkit (CNTK)](https://docs.microsoft.com/en-us/cognitive-toolkit/), and [Theano](http://deeplearning.net/software/theano/). Two R packages allow you  to use Keras from R:  [keras](https://keras.rstudio.com/) and  [kerasR](https://github.com/statsmaths/kerasR).\n",
        "\n",
        "The **keras** package is able to provide a flexible and feature-rich API and can run both [CPU and GUP version of TensorFlow](https://www.tensorflow.org/install/install_windows) in both Windows and Linux. The default build of TensorFlow will use an NVIDIA® GPU if it is available and the appropriate drivers are installed, and otherwise fallback to using the CPU only.\n",
        "\n",
        "Note that on all platforms (except macOS) you must be running an NVIDIA® GPU with CUDA® Compute Capability 3.5 or higher. See the list of CUDA-enabled GPU cards. To enable TensorFlow to use a local NVIDIA® GPU, you can install the following:\n",
        "\n",
        "* [NVIDIA GUP](https://developer.nvidia.com/cuda-gpus): First, you must make sure weather your computer is running with [NVIDIA® GPU](https://developer.nvidia.com/cuda-gpus) or not. Follow the instruction as described  [here](http://nvidia.custhelp.com/app/answers/detail/a_id/2040/~/identifying-the-graphics-card-model-and-device-id-in-a-pc)\n",
        "\n",
        "* [CUDA Toolkit v11.8](https://developer.nvidia.com/cuda-90-download-archive?target_os=Windows&target_arch=x86_64&target_version=10&target_type=exelocal): If you have an NVIDIA® GPU in your system, you need to download and install [CUDA Toolkit  v9.0](https://developer.nvidia.com/cuda-90-download-archive?target_os=Windows&target_arch=x86_64&target_version=10&target_type=exelocal).\n",
        "\n",
        "* [cuDNN v8.6](https://developer.nvidia.com/cudnn): The download the zip file version [cuDNN v8.0](https://developer.nvidia.com/cudnn) for your CUDA Toolkit v9.0.You need to extract the zip file and add the location where you extracted it to your system PATH.  Detail installation steps can be found here [here](F:\\DeepLearning_tutorial\\Satellite_Image_Calssification\\h20_R_ImageCalssification\\keras_R\\Detail installation steps are described here).\n",
        "\n",
        "Detail installation steps of Keras back-end GPU or CUP version of Tensorflow can be found [here](https://tensorflow.rstudio.com/install/local_gpu).\n",
        "\n"
      ],
      "metadata": {
        "id": "h7NEyRzgeHFC"
      }
    },
    {
      "cell_type": "markdown",
      "source": [
        "### Install rpy2"
      ],
      "metadata": {
        "id": "ktIwpmD2UMkq"
      }
    },
    {
      "cell_type": "code",
      "execution_count": 1,
      "metadata": {
        "colab": {
          "base_uri": "https://localhost:8080/"
        },
        "id": "SJ7m1HzsKYRe",
        "outputId": "6e7405c1-3fa3-4097-9e4a-c7fa6794b8e0"
      },
      "outputs": [
        {
          "output_type": "stream",
          "name": "stdout",
          "text": [
            "Found existing installation: rpy2 3.5.1\n",
            "Uninstalling rpy2-3.5.1:\n",
            "  Successfully uninstalled rpy2-3.5.1\n",
            "Collecting rpy2==3.5.1\n",
            "  Using cached rpy2-3.5.1-cp310-cp310-linux_x86_64.whl\n",
            "Requirement already satisfied: cffi>=1.10.0 in /usr/local/lib/python3.10/dist-packages (from rpy2==3.5.1) (1.15.1)\n",
            "Requirement already satisfied: jinja2 in /usr/local/lib/python3.10/dist-packages (from rpy2==3.5.1) (3.1.2)\n",
            "Requirement already satisfied: pytz in /usr/local/lib/python3.10/dist-packages (from rpy2==3.5.1) (2023.3.post1)\n",
            "Requirement already satisfied: tzlocal in /usr/local/lib/python3.10/dist-packages (from rpy2==3.5.1) (5.0.1)\n",
            "Requirement already satisfied: pycparser in /usr/local/lib/python3.10/dist-packages (from cffi>=1.10.0->rpy2==3.5.1) (2.21)\n",
            "Requirement already satisfied: MarkupSafe>=2.0 in /usr/local/lib/python3.10/dist-packages (from jinja2->rpy2==3.5.1) (2.1.3)\n",
            "Installing collected packages: rpy2\n",
            "Successfully installed rpy2-3.5.1\n"
          ]
        }
      ],
      "source": [
        "!pip uninstall rpy2 -y\n",
        "!pip install rpy2==3.5.1\n",
        "%load_ext rpy2.ipython"
      ]
    },
    {
      "cell_type": "markdown",
      "source": [
        "### Mount Google Drive"
      ],
      "metadata": {
        "id": "L3_rmNHTKzH_"
      }
    },
    {
      "cell_type": "code",
      "source": [
        "from google.colab import drive\n",
        "drive.mount('/content/drive')"
      ],
      "metadata": {
        "colab": {
          "base_uri": "https://localhost:8080/"
        },
        "id": "umIbZjGeKzSI",
        "outputId": "d90a5911-3d41-4601-fa1a-8267aa903da7"
      },
      "execution_count": 2,
      "outputs": [
        {
          "output_type": "stream",
          "name": "stdout",
          "text": [
            "Drive already mounted at /content/drive; to attempt to forcibly remount, call drive.mount(\"/content/drive\", force_remount=True).\n"
          ]
        }
      ]
    },
    {
      "cell_type": "markdown",
      "source": [
        "Install Required R Package"
      ],
      "metadata": {
        "id": "RxuRZclHK3PG"
      }
    },
    {
      "cell_type": "code",
      "source": [
        "%%R\n",
        "pkg <- c('tidyverse', 'raster', 'rgdal','terra','tidyterra', 'maptools', 'sf', 'classInt',\n",
        "         'RColorBrewer', 'tmap','tmaptools', 'gridExtra', 'devtools')\n",
        "new.packages <- pkg[!(pkg %in% installed.packages(lib='drive/My Drive/R/')[,\"Package\"])]\n",
        "if(length(new.packages)) install.packages(new.packages, lib='drive/My Drive/R/')"
      ],
      "metadata": {
        "id": "KSRxhtXcK3YS",
        "colab": {
          "base_uri": "https://localhost:8080/"
        },
        "outputId": "ff472b19-506a-4cc9-e549-2f53fe10645f"
      },
      "execution_count": null,
      "outputs": [
        {
          "output_type": "stream",
          "name": "stderr",
          "text": [
            "UsageError: Cell magic `%%R` not found.\n"
          ]
        }
      ]
    },
    {
      "cell_type": "markdown",
      "source": [
        "### Install tensorflow and Keras"
      ],
      "metadata": {
        "id": "hGmYV4xvK4up"
      }
    },
    {
      "cell_type": "code",
      "source": [
        "%%R\n",
        "remotes::install_github(\"rstudio/tensorflow\", lib='drive/My Drive/R/')"
      ],
      "metadata": {
        "id": "O0YZntNjK42C"
      },
      "execution_count": null,
      "outputs": []
    },
    {
      "cell_type": "code",
      "source": [
        "%%R\n",
        "install.packages(\"keras\",lib='drive/My Drive/R/' )"
      ],
      "metadata": {
        "id": "kDjlMv2fP7BR"
      },
      "execution_count": null,
      "outputs": []
    },
    {
      "cell_type": "markdown",
      "source": [
        "### Load Library"
      ],
      "metadata": {
        "id": "XulZP82nLU03"
      }
    },
    {
      "cell_type": "code",
      "source": [
        "%%R\n",
        ".libPaths('drive/My Drive/R')\n",
        "library (terra)\n",
        "library (tidyterra)\n",
        "library(tidymodels)\n",
        "library(sf)\n",
        "library(raster)\n",
        "library(rgdal)\n",
        "library(tidyverse)\n",
        "library(raster)\n",
        "library(RColorBrewer)\n",
        "library(RStoolbox)\n",
        "library(gridExtra)\n",
        "library(keras)\n",
        "library(tensorflow)\n",
        "library(data.table)"
      ],
      "metadata": {
        "id": "aJaQWinNLU8r"
      },
      "execution_count": null,
      "outputs": []
    },
    {
      "cell_type": "markdown",
      "source": [
        "### Test\n",
        "You can test if TensorFlow can use a local GPU by running the following:"
      ],
      "metadata": {
        "id": "UXnnN3OrRTYA"
      }
    },
    {
      "cell_type": "code",
      "source": [
        "%%R\n",
        "tensorflow::tf_gpu_configured()"
      ],
      "metadata": {
        "colab": {
          "base_uri": "https://localhost:8080/"
        },
        "id": "6AUsZ_S4RTfl",
        "outputId": "4607e1a4-bd54-4ebb-8f2f-d1b22671e8a7"
      },
      "execution_count": 4,
      "outputs": [
        {
          "output_type": "stream",
          "name": "stdout",
          "text": [
            "TensorFlow built with CUDA:  TRUE \n",
            "GPU device name:  /device:GPU:0[1] TRUE\n"
          ]
        }
      ]
    },
    {
      "cell_type": "markdown",
      "source": [
        "### Data\n",
        "\n",
        "In this lesson, we will use a sub-set of Landsat 9 satellite covering the central part of the country. We have already prepared this data and created two dataframe (point_data and prediction grid data) and we will use them for pixel-based classification using Tensorflow in R.\n",
        "\n",
        "Training Data: AOI-1\n",
        "Test Data: AO1-2\n",
        "Pprediction grid: AO1 and AOI 2\n",
        "The data can be found here.\n",
        "\n",
        "We will train the DNN model with five feature classes extracted from Google Earth imagery: (1) home stage vegetation, (2) cropland, (3) Bare soil/Developed, and (4) water bodies, (5) wet-fallow. Detail was described in previous [section](https://github.com/zia207/r-colab/blob/main/NoteBook/Remote%20Sensing/training_data_processing_classification.ipynb)."
      ],
      "metadata": {
        "id": "Y3cmxuXDhfQ_"
      }
    },
    {
      "cell_type": "code",
      "source": [
        "%%R\n",
        "# AOI-1: training data\n",
        "point<-fread(\"/content/drive/MyDrive/Data/DSM_AOI/Image_Classification_Landsat9/Landsat_Subset/AOI_1/point_data.csv\")\n",
        "point.df<-point[,3:10] %>%\n",
        "glimpse()"
      ],
      "metadata": {
        "colab": {
          "base_uri": "https://localhost:8080/"
        },
        "id": "yMHU591q0969",
        "outputId": "f0982dc6-6afb-486b-8bc0-736772248f1d"
      },
      "execution_count": 4,
      "outputs": [
        {
          "output_type": "stream",
          "name": "stdout",
          "text": [
            "Rows: 245,459\n",
            "Columns: 8\n",
            "$ B2       <int> 9169, 9169, 9169, 9169, 9119, 9119, 9119, 9108, 9108, 9108, 9…\n",
            "$ B3       <int> 10301, 10301, 10301, 10301, 10279, 10279, 10279, 10298, 10298…\n",
            "$ B4       <int> 9516, 9516, 9516, 9516, 9490, 9490, 9490, 9545, 9545, 9545, 9…\n",
            "$ B5       <int> 9919, 9919, 9919, 9919, 9919, 9919, 9919, 9939, 9939, 9939, 9…\n",
            "$ B6       <int> 8417, 8417, 8417, 8417, 8409, 8409, 8409, 8418, 8418, 8418, 8…\n",
            "$ B7       <int> 7970, 7970, 7970, 7970, 7962, 7962, 7962, 7963, 7963, 7963, 7…\n",
            "$ dem      <dbl> 2, 2, 2, 2, 2, 2, 2, 2, 2, 2, 2, 2, 2, 2, 2, 2, 2, 2, 2, 2, 2…\n",
            "$ Class_ID <int> 3, 3, 3, 3, 3, 3, 3, 3, 3, 3, 3, 3, 3, 3, 3, 3, 3, 3, 3, 3, 3…\n"
          ]
        }
      ]
    },
    {
      "cell_type": "code",
      "source": [
        "%%R\n",
        "# test data: AOI-2\n",
        "point_02<-fread(\"/content/drive/MyDrive/Data/DSM_AOI/Image_Classification_Landsat9/Landsat_Subset/AOI_2/point_data_test_aoi_2.csv\")\n",
        "test.df_02<-point_02[,3:10] %>%\n",
        "glimpse()"
      ],
      "metadata": {
        "colab": {
          "base_uri": "https://localhost:8080/"
        },
        "id": "msLyxETA6ndW",
        "outputId": "cece5228-dce5-42ed-9fdf-a60180a392e6"
      },
      "execution_count": 5,
      "outputs": [
        {
          "output_type": "stream",
          "name": "stdout",
          "text": [
            "Rows: 42,847\n",
            "Columns: 8\n",
            "$ B2       <int> 9523, 9523, 9523, 9492, 9492, 9492, 9558, 9558, 9558, 9580, 9…\n",
            "$ B3       <int> 10909, 10909, 10909, 10905, 10905, 10905, 10933, 10933, 10933…\n",
            "$ B4       <int> 10741, 10741, 10741, 10701, 10701, 10701, 10695, 10695, 10695…\n",
            "$ B5       <int> 10114, 10114, 10114, 10037, 10037, 10037, 9947, 9947, 9947, 9…\n",
            "$ B6       <int> 8206, 8206, 8206, 8182, 8182, 8182, 8181, 8181, 8181, 8196, 8…\n",
            "$ B7       <int> 7799, 7799, 7799, 7796, 7796, 7796, 7802, 7802, 7802, 7799, 7…\n",
            "$ dem      <dbl> 1, 1, 1, 1, 1, 1, 1, 1, 1, 1, 1, 1, 1, 1, 1, 1, 1, 1, 1, 1, 1…\n",
            "$ Class_ID <int> 3, 3, 3, 3, 3, 3, 3, 3, 3, 3, 3, 3, 3, 3, 3, 3, 3, 3, 3, 3, 3…\n"
          ]
        }
      ]
    },
    {
      "cell_type": "markdown",
      "source": [
        "### Processing data"
      ],
      "metadata": {
        "id": "B4aWeocrsf68"
      }
    },
    {
      "cell_type": "code",
      "source": [
        "%%R\n",
        "# Train- AOI-1 data\n",
        "# Convert data as matrix\n",
        "point.df<- as.matrix(point.df)\n",
        "# Set dimnames to NULL:\n",
        "dimnames(point.df) <- NULL\n",
        "# Standardize_the data: ((x-mean(x))/sd(x))\n",
        "point.df[, 1:7] = scale(point.df[, 1:7])\n",
        "head(point.df)"
      ],
      "metadata": {
        "id": "KCbyTA7JskO8",
        "colab": {
          "base_uri": "https://localhost:8080/"
        },
        "outputId": "520a921c-64af-473b-d271-75b324aaa917"
      },
      "execution_count": 6,
      "outputs": [
        {
          "output_type": "stream",
          "name": "stdout",
          "text": [
            "          [,1]      [,2]        [,3]     [,4]      [,5]      [,6]      [,7]\n",
            "[1,] 0.4552620 0.3225361 -0.03358973 -1.88865 -1.713911 -1.194730 -1.206227\n",
            "[2,] 0.4552620 0.3225361 -0.03358973 -1.88865 -1.713911 -1.194730 -1.206227\n",
            "[3,] 0.4552620 0.3225361 -0.03358973 -1.88865 -1.713911 -1.194730 -1.206227\n",
            "[4,] 0.4552620 0.3225361 -0.03358973 -1.88865 -1.713911 -1.194730 -1.206227\n",
            "[5,] 0.3778374 0.2907596 -0.06138669 -1.88865 -1.717332 -1.198728 -1.206227\n",
            "[6,] 0.3778374 0.2907596 -0.06138669 -1.88865 -1.717332 -1.198728 -1.206227\n",
            "     [,8]\n",
            "[1,]    3\n",
            "[2,]    3\n",
            "[3,]    3\n",
            "[4,]    3\n",
            "[5,]    3\n",
            "[6,]    3\n"
          ]
        }
      ]
    },
    {
      "cell_type": "code",
      "source": [
        "%%R\n",
        "# test- AOI-2 data\n",
        "# Convert data as matrix\n",
        "test.df<- as.matrix(test.df_02)\n",
        "# Set dimnames to NULL:\n",
        "dimnames(test.df) <- NULL\n",
        "# Standardize_the data: ((x-mean(x))/sd(x))\n",
        "test.df[, 1:7] = scale(test.df[, 1:7])\n",
        "head(test.df)"
      ],
      "metadata": {
        "colab": {
          "base_uri": "https://localhost:8080/"
        },
        "id": "ARgGcYs66YWA",
        "outputId": "785d5719-2996-4d03-dc04-867df0f8df77"
      },
      "execution_count": 7,
      "outputs": [
        {
          "output_type": "stream",
          "name": "stdout",
          "text": [
            "         [,1]     [,2]     [,3]      [,4]      [,5]      [,6]      [,7] [,8]\n",
            "[1,] 1.154577 1.873378 1.750637 -2.002910 -1.968993 -1.600339 -1.223043    3\n",
            "[2,] 1.154577 1.873378 1.750637 -2.002910 -1.968993 -1.600339 -1.223043    3\n",
            "[3,] 1.154577 1.873378 1.750637 -2.002910 -1.968993 -1.600339 -1.223043    3\n",
            "[4,] 1.085600 1.865281 1.684991 -2.035395 -1.980912 -1.602396 -1.223043    3\n",
            "[5,] 1.085600 1.865281 1.684991 -2.035395 -1.980912 -1.602396 -1.223043    3\n",
            "[6,] 1.085600 1.865281 1.684991 -2.035395 -1.980912 -1.602396 -1.223043    3\n"
          ]
        }
      ]
    },
    {
      "cell_type": "markdown",
      "source": [
        "#### Split  data"
      ],
      "metadata": {
        "id": "GwBaBHHjtS_2"
      }
    },
    {
      "cell_type": "code",
      "source": [
        "%%R\n",
        "##  Determine sample size\n",
        "ind <- sample(2, nrow(point.df), replace=TRUE, prob=c(0.80, 0.20))\n",
        "# Split the `Split data\n",
        "training_x <- point.df[ind==1, 1:7]\n",
        "test_x <- point.df[ind==2, 1:7]\n",
        "# Split the class attribute\n",
        "training_y <- point.df[ind==1, 8]\n",
        "test_y <- point.df[ind==2, 8]\n",
        "training_y <- point.df[ind==1, 8]\n",
        "test_y <- point.df[ind==2, 8]"
      ],
      "metadata": {
        "id": "21hEdfj6tVqT"
      },
      "execution_count": 8,
      "outputs": []
    },
    {
      "cell_type": "code",
      "source": [
        "%%R\n",
        "test_02_x <- test.df[, 1:7]\n",
        "test_02_y <- test.df[,8]"
      ],
      "metadata": {
        "id": "gBFVcEar7ONe"
      },
      "execution_count": 9,
      "outputs": []
    },
    {
      "cell_type": "markdown",
      "source": [
        "### Hyperparameter flag"
      ],
      "metadata": {
        "id": "jUaBmZVDthmX"
      }
    },
    {
      "cell_type": "code",
      "source": [
        "%%R\n",
        "FLAGS <- flags(\n",
        "  flag_numeric('dropout_1', 0.2, 'First dropout'),\n",
        "  flag_numeric('dropout_2', 0.2, 'Second dropout'),\n",
        "  flag_numeric('dropout_3', 0.1, 'Third dropout'),\n",
        "  flag_numeric('dropout_4', 0.1, 'Forth dropout')\n",
        "  )"
      ],
      "metadata": {
        "id": "Cyl18v45tkX5"
      },
      "execution_count": 10,
      "outputs": []
    },
    {
      "cell_type": "markdown",
      "source": [
        "### Define model parameters with 4 hidden layers with 100 neurons"
      ],
      "metadata": {
        "id": "MZeeDKU8trMV"
      }
    },
    {
      "cell_type": "code",
      "source": [
        "%%R\n",
        "model <- keras_model_sequential()\n",
        "model %>%\n",
        "  # Imput layer\n",
        "  layer_dense(units = 100, activation = 'relu',\n",
        "              kernel_regularizer =regularizer_l1_l2(l1 = 0.00001, l2 = 0.00001),input_shape = c(7)) %>%\n",
        "  layer_dropout(rate = FLAGS$dropout_1,seed = 1) %>%\n",
        "  # Hidden layers\n",
        "  layer_dense(units = 100, activation = 'relu',\n",
        "              kernel_regularizer = regularizer_l1_l2(l1 = 0.00001, l2 = 0.00001)) %>%\n",
        "  layer_dropout(rate = FLAGS$dropout_2,seed = 1) %>%\n",
        "  layer_dense(units = 100, activation = 'relu',\n",
        "              kernel_regularizer = regularizer_l1_l2(l1 = 0.00001, l2 = 0.00001)) %>%\n",
        "  layer_dropout(rate = FLAGS$dropout_3,seed = 1) %>%\n",
        "  layer_dense(units = 100, activation = 'relu',\n",
        "              kernel_regularizer = regularizer_l1_l2(l1 = 0.0001, l2 = 0.00001)) %>%\n",
        "  layer_dropout(rate = FLAGS$dropout_4) %>%\n",
        "  # Output layer\n",
        "  layer_dense(units = 5, activation = 'softmax')\n",
        "\n"
      ],
      "metadata": {
        "id": "7UD8WwxltxJm"
      },
      "execution_count": 11,
      "outputs": []
    },
    {
      "cell_type": "code",
      "source": [
        "%%R\n",
        "summary(model)"
      ],
      "metadata": {
        "colab": {
          "base_uri": "https://localhost:8080/"
        },
        "id": "AYc160bJt9NE",
        "outputId": "7d92b6cf-f7a8-444d-b7bd-ed30d34bb32d"
      },
      "execution_count": 12,
      "outputs": [
        {
          "output_type": "stream",
          "name": "stdout",
          "text": [
            "Model: \"sequential\"\n",
            "________________________________________________________________________________\n",
            " Layer (type)                       Output Shape                    Param #     \n",
            "================================================================================\n",
            " dense_4 (Dense)                    (None, 100)                     800         \n",
            " dropout_3 (Dropout)                (None, 100)                     0           \n",
            " dense_3 (Dense)                    (None, 100)                     10100       \n",
            " dropout_2 (Dropout)                (None, 100)                     0           \n",
            " dense_2 (Dense)                    (None, 100)                     10100       \n",
            " dropout_1 (Dropout)                (None, 100)                     0           \n",
            " dense_1 (Dense)                    (None, 100)                     10100       \n",
            " dropout (Dropout)                  (None, 100)                     0           \n",
            " dense (Dense)                      (None, 5)                       505         \n",
            "================================================================================\n",
            "Total params: 31605 (123.46 KB)\n",
            "Trainable params: 31605 (123.46 KB)\n",
            "Non-trainable params: 0 (0.00 Byte)\n",
            "________________________________________________________________________________\n"
          ]
        }
      ]
    },
    {
      "cell_type": "markdown",
      "source": [
        "### Define an optimizer (Stochastic gradient descent optimizer)"
      ],
      "metadata": {
        "id": "GHfbwM-5uIKM"
      }
    },
    {
      "cell_type": "code",
      "source": [
        "%%R\n",
        "optimizer <- optimizer_sgd(learning_rate=0.001)"
      ],
      "metadata": {
        "id": "nccM_7vXuJ5s"
      },
      "execution_count": 13,
      "outputs": []
    },
    {
      "cell_type": "markdown",
      "source": [
        "### Compile the model:"
      ],
      "metadata": {
        "id": "qX0V7ybquPnT"
      }
    },
    {
      "cell_type": "code",
      "source": [
        "%%R\n",
        "model %>% compile(\n",
        "  loss = 'sparse_categorical_crossentropy',\n",
        "  optimizer = optimizer,\n",
        "  metrics = 'accuracy'\n",
        ")\n"
      ],
      "metadata": {
        "id": "maceA2iZuPvA"
      },
      "execution_count": 14,
      "outputs": []
    },
    {
      "cell_type": "markdown",
      "source": [
        "### Fit the model to the data"
      ],
      "metadata": {
        "id": "4BK5mv73uZQ7"
      }
    },
    {
      "cell_type": "code",
      "source": [
        "%%R\n",
        "history<-model %>% fit(\n",
        "  training_x, training_y,\n",
        "  epochs = 50,\n",
        "  batch_size = 100,\n",
        "  shuffle = TRUE,\n",
        "  validation_split = 0.2\n",
        "  )"
      ],
      "metadata": {
        "id": "cmXg3N-8ucU4",
        "colab": {
          "base_uri": "https://localhost:8080/"
        },
        "outputId": "6158ccef-b80a-421f-b74a-113b783de47a"
      },
      "execution_count": 15,
      "outputs": [
        {
          "output_type": "stream",
          "name": "stdout",
          "text": [
            "Epoch 1/50\n",
            "1572/1572 [==============================] - 9s 4ms/step - loss: 1.3116 - accuracy: 0.5701\n",
            "1572/1572 [==============================] - 10s 5ms/step - loss: 1.3116 - accuracy: 0.5701 - val_loss: 1.2151 - val_accuracy: 0.6870\n",
            "Epoch 2/50\n",
            "1572/1572 [==============================] - 7s 4ms/step - loss: 0.7755 - accuracy: 0.8157\n",
            "1572/1572 [==============================] - 8s 5ms/step - loss: 0.7755 - accuracy: 0.8157 - val_loss: 0.9062 - val_accuracy: 0.7615\n",
            "Epoch 3/50\n",
            "1572/1572 [==============================] - 8s 5ms/step - loss: 0.5693 - accuracy: 0.8670\n",
            "1572/1572 [==============================] - 9s 6ms/step - loss: 0.5693 - accuracy: 0.8670 - val_loss: 0.7763 - val_accuracy: 0.7639\n",
            "Epoch 4/50\n",
            "1572/1572 [==============================] - 6s 4ms/step - loss: 0.5170 - accuracy: 0.8742\n",
            "1572/1572 [==============================] - 7s 5ms/step - loss: 0.5170 - accuracy: 0.8742 - val_loss: 0.6818 - val_accuracy: 0.7632\n",
            "Epoch 5/50\n",
            "1572/1572 [==============================] - 8s 5ms/step - loss: 0.4959 - accuracy: 0.8774\n",
            "1572/1572 [==============================] - 8s 5ms/step - loss: 0.4959 - accuracy: 0.8774 - val_loss: 0.6196 - val_accuracy: 0.7634\n",
            "Epoch 6/50\n",
            "1572/1572 [==============================] - 6s 4ms/step - loss: 0.4822 - accuracy: 0.8805\n",
            "1572/1572 [==============================] - 8s 5ms/step - loss: 0.4822 - accuracy: 0.8805 - val_loss: 0.5836 - val_accuracy: 0.7635\n",
            "Epoch 7/50\n",
            "1572/1572 [==============================] - 7s 5ms/step - loss: 0.4736 - accuracy: 0.8820\n",
            "1572/1572 [==============================] - 9s 5ms/step - loss: 0.4736 - accuracy: 0.8820 - val_loss: 0.5567 - val_accuracy: 0.7632\n",
            "Epoch 8/50\n",
            "1572/1572 [==============================] - 7s 5ms/step - loss: 0.4656 - accuracy: 0.8839\n",
            "1572/1572 [==============================] - 9s 5ms/step - loss: 0.4656 - accuracy: 0.8839 - val_loss: 0.5384 - val_accuracy: 0.7633\n",
            "Epoch 9/50\n",
            "1572/1572 [==============================] - 6s 4ms/step - loss: 0.4620 - accuracy: 0.8854\n",
            "1572/1572 [==============================] - 8s 5ms/step - loss: 0.4620 - accuracy: 0.8854 - val_loss: 0.5305 - val_accuracy: 0.7634\n",
            "Epoch 10/50\n",
            "1572/1572 [==============================] - 8s 5ms/step - loss: 0.4567 - accuracy: 0.8862\n",
            "1572/1572 [==============================] - 9s 6ms/step - loss: 0.4567 - accuracy: 0.8862 - val_loss: 0.5115 - val_accuracy: 0.7635\n",
            "Epoch 11/50\n",
            "1572/1572 [==============================] - 6s 4ms/step - loss: 0.4510 - accuracy: 0.8873\n",
            "1572/1572 [==============================] - 7s 5ms/step - loss: 0.4510 - accuracy: 0.8873 - val_loss: 0.5041 - val_accuracy: 0.7634\n",
            "Epoch 12/50\n",
            "1572/1572 [==============================] - 8s 5ms/step - loss: 0.4482 - accuracy: 0.8880\n",
            "1572/1572 [==============================] - 9s 5ms/step - loss: 0.4482 - accuracy: 0.8880 - val_loss: 0.4919 - val_accuracy: 0.7636\n",
            "Epoch 13/50\n",
            "1572/1572 [==============================] - 7s 4ms/step - loss: 0.4440 - accuracy: 0.8894\n",
            "1572/1572 [==============================] - 9s 6ms/step - loss: 0.4440 - accuracy: 0.8894 - val_loss: 0.4781 - val_accuracy: 0.7634\n",
            "Epoch 14/50\n",
            "1572/1572 [==============================] - 6s 4ms/step - loss: 0.4397 - accuracy: 0.8900\n",
            "1572/1572 [==============================] - 8s 5ms/step - loss: 0.4397 - accuracy: 0.8900 - val_loss: 0.4772 - val_accuracy: 0.7638\n",
            "Epoch 15/50\n",
            "1572/1572 [==============================] - 7s 5ms/step - loss: 0.4385 - accuracy: 0.8908\n",
            "1572/1572 [==============================] - 8s 5ms/step - loss: 0.4385 - accuracy: 0.8908 - val_loss: 0.4697 - val_accuracy: 0.7639\n",
            "Epoch 16/50\n",
            "1572/1572 [==============================] - 6s 4ms/step - loss: 0.4351 - accuracy: 0.8917\n",
            "1572/1572 [==============================] - 8s 5ms/step - loss: 0.4351 - accuracy: 0.8917 - val_loss: 0.4637 - val_accuracy: 0.7640\n",
            "Epoch 17/50\n",
            "1572/1572 [==============================] - 8s 5ms/step - loss: 0.4314 - accuracy: 0.8928\n",
            "1572/1572 [==============================] - 9s 6ms/step - loss: 0.4314 - accuracy: 0.8928 - val_loss: 0.4555 - val_accuracy: 0.7638\n",
            "Epoch 18/50\n",
            "1572/1572 [==============================] - 7s 4ms/step - loss: 0.4292 - accuracy: 0.8930\n",
            "1572/1572 [==============================] - 8s 5ms/step - loss: 0.4292 - accuracy: 0.8930 - val_loss: 0.4447 - val_accuracy: 0.7640\n",
            "Epoch 19/50\n",
            "1572/1572 [==============================] - 7s 4ms/step - loss: 0.4267 - accuracy: 0.8937\n",
            "1572/1572 [==============================] - 8s 5ms/step - loss: 0.4267 - accuracy: 0.8937 - val_loss: 0.4424 - val_accuracy: 0.7644\n",
            "Epoch 20/50\n",
            "1572/1572 [==============================] - 8s 5ms/step - loss: 0.4243 - accuracy: 0.8944\n",
            "1572/1572 [==============================] - 9s 6ms/step - loss: 0.4243 - accuracy: 0.8944 - val_loss: 0.4368 - val_accuracy: 0.7649\n",
            "Epoch 21/50\n",
            "1572/1572 [==============================] - 6s 4ms/step - loss: 0.4221 - accuracy: 0.8948\n",
            "1572/1572 [==============================] - 7s 5ms/step - loss: 0.4221 - accuracy: 0.8948 - val_loss: 0.4380 - val_accuracy: 0.7649\n",
            "Epoch 22/50\n",
            "1572/1572 [==============================] - 8s 5ms/step - loss: 0.4194 - accuracy: 0.8954\n",
            "1572/1572 [==============================] - 9s 5ms/step - loss: 0.4194 - accuracy: 0.8954 - val_loss: 0.4377 - val_accuracy: 0.7649\n",
            "Epoch 23/50\n",
            "1572/1572 [==============================] - 7s 4ms/step - loss: 0.4164 - accuracy: 0.8962\n",
            "1572/1572 [==============================] - 8s 5ms/step - loss: 0.4164 - accuracy: 0.8962 - val_loss: 0.4288 - val_accuracy: 0.7667\n",
            "Epoch 24/50\n",
            "1572/1572 [==============================] - 7s 4ms/step - loss: 0.4153 - accuracy: 0.8971\n",
            "1572/1572 [==============================] - 8s 5ms/step - loss: 0.4153 - accuracy: 0.8971 - val_loss: 0.4276 - val_accuracy: 0.7678\n",
            "Epoch 25/50\n",
            "1572/1572 [==============================] - 8s 5ms/step - loss: 0.4141 - accuracy: 0.8967\n",
            "1572/1572 [==============================] - 9s 5ms/step - loss: 0.4141 - accuracy: 0.8967 - val_loss: 0.4256 - val_accuracy: 0.7697\n",
            "Epoch 26/50\n",
            "1572/1572 [==============================] - 6s 4ms/step - loss: 0.4128 - accuracy: 0.8971\n",
            "1572/1572 [==============================] - 7s 5ms/step - loss: 0.4128 - accuracy: 0.8971 - val_loss: 0.4223 - val_accuracy: 0.7739\n",
            "Epoch 27/50\n",
            "1572/1572 [==============================] - 8s 5ms/step - loss: 0.4101 - accuracy: 0.8981\n",
            "1572/1572 [==============================] - 9s 5ms/step - loss: 0.4101 - accuracy: 0.8981 - val_loss: 0.4255 - val_accuracy: 0.7732\n",
            "Epoch 28/50\n",
            "1572/1572 [==============================] - 6s 4ms/step - loss: 0.4075 - accuracy: 0.8979\n",
            "1572/1572 [==============================] - 8s 5ms/step - loss: 0.4075 - accuracy: 0.8979 - val_loss: 0.4153 - val_accuracy: 0.7875\n",
            "Epoch 29/50\n",
            "1572/1572 [==============================] - 8s 5ms/step - loss: 0.4062 - accuracy: 0.8986\n",
            "1572/1572 [==============================] - 9s 6ms/step - loss: 0.4062 - accuracy: 0.8986 - val_loss: 0.4110 - val_accuracy: 0.8028\n",
            "Epoch 30/50\n",
            "1572/1572 [==============================] - 7s 5ms/step - loss: 0.4041 - accuracy: 0.8992\n",
            "1572/1572 [==============================] - 9s 5ms/step - loss: 0.4041 - accuracy: 0.8992 - val_loss: 0.4096 - val_accuracy: 0.8075\n",
            "Epoch 31/50\n",
            "1572/1572 [==============================] - 6s 4ms/step - loss: 0.4020 - accuracy: 0.9001\n",
            "1572/1572 [==============================] - 8s 5ms/step - loss: 0.4020 - accuracy: 0.9001 - val_loss: 0.4088 - val_accuracy: 0.8183\n",
            "Epoch 32/50\n",
            "1572/1572 [==============================] - 7s 5ms/step - loss: 0.4008 - accuracy: 0.9005\n",
            "1572/1572 [==============================] - 9s 6ms/step - loss: 0.4008 - accuracy: 0.9005 - val_loss: 0.4008 - val_accuracy: 0.8450\n",
            "Epoch 33/50\n",
            "1572/1572 [==============================] - 7s 4ms/step - loss: 0.3998 - accuracy: 0.9005\n",
            "1572/1572 [==============================] - 8s 5ms/step - loss: 0.3998 - accuracy: 0.9005 - val_loss: 0.4070 - val_accuracy: 0.8304\n",
            "Epoch 34/50\n",
            "1572/1572 [==============================] - 7s 5ms/step - loss: 0.3993 - accuracy: 0.9010\n",
            "1572/1572 [==============================] - 9s 5ms/step - loss: 0.3993 - accuracy: 0.9010 - val_loss: 0.4025 - val_accuracy: 0.8476\n",
            "Epoch 35/50\n",
            "1572/1572 [==============================] - 7s 5ms/step - loss: 0.3967 - accuracy: 0.9013\n",
            "1572/1572 [==============================] - 10s 6ms/step - loss: 0.3967 - accuracy: 0.9013 - val_loss: 0.3975 - val_accuracy: 0.8650\n",
            "Epoch 36/50\n",
            "1572/1572 [==============================] - 6s 4ms/step - loss: 0.3952 - accuracy: 0.9018\n",
            "1572/1572 [==============================] - 8s 5ms/step - loss: 0.3952 - accuracy: 0.9018 - val_loss: 0.3983 - val_accuracy: 0.8659\n",
            "Epoch 37/50\n",
            "1572/1572 [==============================] - 8s 5ms/step - loss: 0.3929 - accuracy: 0.9027\n",
            "1572/1572 [==============================] - 9s 5ms/step - loss: 0.3929 - accuracy: 0.9027 - val_loss: 0.3926 - val_accuracy: 0.8814\n",
            "Epoch 38/50\n",
            "1572/1572 [==============================] - 6s 4ms/step - loss: 0.3924 - accuracy: 0.9031\n",
            "1572/1572 [==============================] - 8s 5ms/step - loss: 0.3924 - accuracy: 0.9031 - val_loss: 0.3928 - val_accuracy: 0.8812\n",
            "Epoch 39/50\n",
            "1572/1572 [==============================] - 7s 5ms/step - loss: 0.3895 - accuracy: 0.9033\n",
            "1572/1572 [==============================] - 8s 5ms/step - loss: 0.3895 - accuracy: 0.9033 - val_loss: 0.3936 - val_accuracy: 0.8808\n",
            "Epoch 40/50\n",
            "1572/1572 [==============================] - 7s 5ms/step - loss: 0.3895 - accuracy: 0.9036\n",
            "1572/1572 [==============================] - 9s 6ms/step - loss: 0.3895 - accuracy: 0.9036 - val_loss: 0.3917 - val_accuracy: 0.8868\n",
            "Epoch 41/50\n",
            "1572/1572 [==============================] - 6s 4ms/step - loss: 0.3869 - accuracy: 0.9044\n",
            "1572/1572 [==============================] - 7s 5ms/step - loss: 0.3869 - accuracy: 0.9044 - val_loss: 0.3876 - val_accuracy: 0.8940\n",
            "Epoch 42/50\n",
            "1572/1572 [==============================] - 8s 5ms/step - loss: 0.3852 - accuracy: 0.9049\n",
            "1572/1572 [==============================] - 9s 5ms/step - loss: 0.3852 - accuracy: 0.9049 - val_loss: 0.3879 - val_accuracy: 0.8936\n",
            "Epoch 43/50\n",
            "1572/1572 [==============================] - 7s 4ms/step - loss: 0.3852 - accuracy: 0.9055\n",
            "1572/1572 [==============================] - 8s 5ms/step - loss: 0.3852 - accuracy: 0.9055 - val_loss: 0.3846 - val_accuracy: 0.9008\n",
            "Epoch 44/50\n",
            "1572/1572 [==============================] - 7s 5ms/step - loss: 0.3836 - accuracy: 0.9057\n",
            "1572/1572 [==============================] - 9s 6ms/step - loss: 0.3836 - accuracy: 0.9057 - val_loss: 0.3827 - val_accuracy: 0.9039\n",
            "Epoch 45/50\n",
            "1572/1572 [==============================] - 7s 4ms/step - loss: 0.3819 - accuracy: 0.9063\n",
            "1572/1572 [==============================] - 10s 6ms/step - loss: 0.3819 - accuracy: 0.9063 - val_loss: 0.3792 - val_accuracy: 0.9102\n",
            "Epoch 46/50\n",
            "1572/1572 [==============================] - 6s 4ms/step - loss: 0.3804 - accuracy: 0.9071\n",
            "1572/1572 [==============================] - 7s 5ms/step - loss: 0.3804 - accuracy: 0.9071 - val_loss: 0.3771 - val_accuracy: 0.9148\n",
            "Epoch 47/50\n",
            "1572/1572 [==============================] - 8s 5ms/step - loss: 0.3792 - accuracy: 0.9068\n",
            "1572/1572 [==============================] - 9s 6ms/step - loss: 0.3792 - accuracy: 0.9068 - val_loss: 0.3756 - val_accuracy: 0.9161\n",
            "Epoch 48/50\n",
            "1572/1572 [==============================] - 7s 4ms/step - loss: 0.3771 - accuracy: 0.9079\n",
            "1572/1572 [==============================] - 9s 6ms/step - loss: 0.3771 - accuracy: 0.9079 - val_loss: 0.3741 - val_accuracy: 0.9177\n",
            "Epoch 49/50\n",
            "1572/1572 [==============================] - 7s 4ms/step - loss: 0.3762 - accuracy: 0.9078\n",
            "1572/1572 [==============================] - 8s 5ms/step - loss: 0.3762 - accuracy: 0.9078 - val_loss: 0.3728 - val_accuracy: 0.9189\n",
            "Epoch 50/50\n",
            "1572/1572 [==============================] - 8s 5ms/step - loss: 0.3755 - accuracy: 0.9091\n",
            "1572/1572 [==============================] - 9s 6ms/step - loss: 0.3755 - accuracy: 0.9091 - val_loss: 0.3718 - val_accuracy: 0.9208\n"
          ]
        }
      ]
    },
    {
      "cell_type": "markdown",
      "source": [
        "#### Plot history"
      ],
      "metadata": {
        "id": "i7uKuPCWuyk7"
      }
    },
    {
      "cell_type": "code",
      "source": [
        "%%R\n",
        "plot(history)"
      ],
      "metadata": {
        "colab": {
          "base_uri": "https://localhost:8080/",
          "height": 497
        },
        "id": "gKcxDtO8u1hs",
        "outputId": "b67ebed0-1af7-446c-9f28-7ffa9a74e6ff"
      },
      "execution_count": 16,
      "outputs": [
        {
          "output_type": "display_data",
          "data": {
            "image/png": "[encoded data removed]"
          },
          "metadata": {}
        }
      ]
    },
    {
      "cell_type": "markdown",
      "source": [
        "### Evaluate the model: Test data (AOI 1)"
      ],
      "metadata": {
        "id": "rP9qkTUMu-WM"
      }
    },
    {
      "cell_type": "code",
      "source": [
        "%%R\n",
        "score <- model %>% evaluate(test_x, test_y, batch_size = 100)\n",
        "cat('Test loss:', score[[1]], '\\n')\n",
        "cat('Test accuracy:', score[[2]], '\\n')"
      ],
      "metadata": {
        "colab": {
          "base_uri": "https://localhost:8080/"
        },
        "id": "GbZls6Cku-cu",
        "outputId": "2e8e3277-52b1-4299-fdbb-5a5824be67f2"
      },
      "execution_count": 17,
      "outputs": [
        {
          "output_type": "stream",
          "name": "stdout",
          "text": [
            "490/490 [==============================] - 1s 3ms/step - loss: 0.3511 - accuracy: 0.9192\n",
            "490/490 [==============================] - 1s 3ms/step - loss: 0.3511 - accuracy: 0.9192\n",
            "Test loss: 0.3510923 \n",
            "Test accuracy: 0.9191958 \n"
          ]
        }
      ]
    },
    {
      "cell_type": "markdown",
      "source": [
        "### Prediction & confusion matrix - test data"
      ],
      "metadata": {
        "id": "P55t3VTmvK3I"
      }
    },
    {
      "cell_type": "code",
      "source": [
        "%%R\n",
        "class_test <- model %>% predict(test_x) %>%\n",
        "              k_argmax()\n"
      ],
      "metadata": {
        "colab": {
          "base_uri": "https://localhost:8080/"
        },
        "id": "0NokgYJdvLFV",
        "outputId": "3d5bff31-20bb-480c-f59e-6247ce1cb43a"
      },
      "execution_count": 18,
      "outputs": [
        {
          "output_type": "stream",
          "name": "stdout",
          "text": [
            "1532/1532 [==============================] - 3s 2ms/step\n",
            "1532/1532 [==============================] - 3s 2ms/step\n"
          ]
        }
      ]
    },
    {
      "cell_type": "code",
      "source": [
        "%%R\n",
        " test_pred<-as.matrix(class_test)"
      ],
      "metadata": {
        "id": "_JoXdfgvwYe6"
      },
      "execution_count": 19,
      "outputs": []
    },
    {
      "cell_type": "code",
      "source": [
        "%%R\n",
        "table(test_y,test_pred)"
      ],
      "metadata": {
        "colab": {
          "base_uri": "https://localhost:8080/"
        },
        "id": "8DUNMn8lL_Zl",
        "outputId": "219766cc-6cbb-47c5-a83e-9cdc6ec3b427"
      },
      "execution_count": 20,
      "outputs": [
        {
          "output_type": "stream",
          "name": "stdout",
          "text": [
            "      test_pred\n",
            "test_y     0     1     2     3     4\n",
            "     0  9181  1180   147    19     7\n",
            "     1   297 24964   174    91    58\n",
            "     2   114   235  2884    25     0\n",
            "     3    32   461    23  5930   194\n",
            "     4     0   287     0   615  2077\n"
          ]
        }
      ]
    },
    {
      "cell_type": "markdown",
      "source": [
        "### Test AOI 02\n"
      ],
      "metadata": {
        "id": "DDI-J14U9qmY"
      }
    },
    {
      "cell_type": "code",
      "source": [
        "%%R\n",
        "score_02 <- model %>% evaluate(test_02_x, test_02_y, batch_size = 100)\n",
        "cat('Test loss:', score_02[[1]], '\\n')\n",
        "cat('Test accuracy:', score_02[[2]], '\\n')"
      ],
      "metadata": {
        "colab": {
          "base_uri": "https://localhost:8080/"
        },
        "id": "LvsInVbn9lJF",
        "outputId": "4e1b2475-0b72-43fa-ac94-5f45eff62dc4"
      },
      "execution_count": 21,
      "outputs": [
        {
          "output_type": "stream",
          "name": "stdout",
          "text": [
            "429/429 [==============================] - 1s 3ms/step - loss: 2.6469 - accuracy: 0.4918\n",
            "429/429 [==============================] - 1s 3ms/step - loss: 2.6469 - accuracy: 0.4918\n",
            "Test loss: 2.646949 \n",
            "Test accuracy: 0.4918431 \n"
          ]
        }
      ]
    },
    {
      "cell_type": "markdown",
      "source": [
        "### Prediction at grid locations:\n",
        "\n",
        "## AOI-1"
      ],
      "metadata": {
        "id": "5nldd_5NMXbS"
      }
    },
    {
      "cell_type": "code",
      "source": [
        "%%R\n",
        "grid_01<-fread(\"/content/drive/MyDrive/Data/DSM_AOI/Image_Classification_Landsat9/Landsat_Subset/AOI_1/prediction_grid_data_01.csv\")\n",
        "grid.df_01<-grid_01[, 4:10]\n",
        "grid.xy_01<-grid_01[,1:2]\n",
        "glimpse(grid.df_01)"
      ],
      "metadata": {
        "colab": {
          "base_uri": "https://localhost:8080/"
        },
        "id": "9ahnY-ZcikuV",
        "outputId": "1ac551fe-1c21-45f3-94a7-47d50d0a8968"
      },
      "execution_count": 22,
      "outputs": [
        {
          "output_type": "stream",
          "name": "stdout",
          "text": [
            "Rows: 1,000,000\n",
            "Columns: 7\n",
            "$ B2  <int> 9289, 9333, 9526, 9635, 9532, 9615, 9646, 9694, 9854, 9894, 9720, …\n",
            "$ B3  <int> 10661, 10657, 10988, 11020, 10766, 10925, 11037, 10975, 11276, 112…\n",
            "$ B4  <int> 10019, 10261, 10927, 11013, 10420, 10522, 10951, 10864, 11087, 112…\n",
            "$ B5  <int> 18168, 17364, 16623, 16162, 16683, 17598, 16579, 16572, 16866, 160…\n",
            "$ B6  <int> 14338, 14709, 15744, 15363, 15173, 15571, 15894, 15761, 16444, 157…\n",
            "$ B7  <int> 11357, 11819, 13262, 12782, 12286, 12710, 13399, 12748, 14141, 137…\n",
            "$ dem <dbl> 9.827662, 14.767797, 2.985770, 2.595814, 2.571604, 8.822142, 3.505…\n"
          ]
        }
      ]
    },
    {
      "cell_type": "code",
      "source": [
        "%%R\n",
        "grid.df_01<- as.matrix(grid.df_01)\n",
        "dimnames(grid.df_01) <- NULL\n",
        "grid.df_01[, 1:7] = scale(grid.df_01[, 1:7])\n",
        "head(grid.df_01)"
      ],
      "metadata": {
        "colab": {
          "base_uri": "https://localhost:8080/"
        },
        "id": "9FmM2wJe-LTy",
        "outputId": "d9d9e64c-388b-4460-980e-2558d32a49f8"
      },
      "execution_count": 23,
      "outputs": [
        {
          "output_type": "stream",
          "name": "stdout",
          "text": [
            "         [,1]     [,2]      [,3]       [,4]     [,5]      [,6]       [,7]\n",
            "[1,] 1.049630 1.444750 0.7272056 1.07806114 0.812367 0.4437784  1.0278593\n",
            "[2,] 1.158816 1.435311 1.1307805 0.66959876 1.053896 0.8037357  2.7448460\n",
            "[3,] 1.637743 2.216350 2.2414451 0.29314276 1.727705 1.9280177 -1.3501001\n",
            "[4,] 1.908226 2.291858 2.3848643 0.05893735 1.479665 1.5540361 -1.4856330\n",
            "[5,] 1.652632 1.692511 1.3959391 0.32362503 1.355971 1.1675885 -1.4940474\n",
            "[6,] 1.858596 2.067693 1.5660409 0.78847960 1.615078 1.4979389  0.6783817\n"
          ]
        }
      ]
    },
    {
      "cell_type": "code",
      "source": [
        "%%R\n",
        "class_grid_01 <- model %>% predict(grid.df_01 ) %>%\n",
        "              k_argmax()"
      ],
      "metadata": {
        "colab": {
          "base_uri": "https://localhost:8080/"
        },
        "id": "d0zSs6nxMZUb",
        "outputId": "9ca5c342-ab44-4f5b-d14a-bc9cfe58e312"
      },
      "execution_count": 24,
      "outputs": [
        {
          "output_type": "stream",
          "name": "stdout",
          "text": [
            "31250/31250 [==============================] - 57s 2ms/step\n",
            "31250/31250 [==============================] - 57s 2ms/step\n"
          ]
        }
      ]
    },
    {
      "cell_type": "code",
      "source": [
        "%%R\n",
        "class_01<-as.matrix(class_grid_01)\n",
        "grid.xy_01= cbind(grid.xy_01, as.data.frame(class_01))\n",
        "colnames(grid.xy_01)[3]<-\"Class_ID\"\n",
        "head(grid.xy_01)\n"
      ],
      "metadata": {
        "id": "SUym-V3wZzny",
        "colab": {
          "base_uri": "https://localhost:8080/"
        },
        "outputId": "66c23dd3-25a3-4690-fd31-b2f0407ef8f2"
      },
      "execution_count": 25,
      "outputs": [
        {
          "output_type": "stream",
          "name": "stdout",
          "text": [
            "        x       y Class_ID\n",
            "1: 150930 2588550        1\n",
            "2: 150960 2588550        2\n",
            "3: 150990 2588550        2\n",
            "4: 151020 2588550        2\n",
            "5: 151050 2588550        2\n",
            "6: 151080 2588550        2\n"
          ]
        }
      ]
    },
    {
      "cell_type": "markdown",
      "source": [
        "### PredictionTest AOI-2"
      ],
      "metadata": {
        "id": "BVFCKHjwAknX"
      }
    },
    {
      "cell_type": "code",
      "source": [
        "%%R\n",
        "# Prediction AO-2\n",
        "grid_02<-fread(\"/content/drive/MyDrive/Data/DSM_AOI/Image_Classification_Landsat9/Landsat_Subset/AOI_1/prediction_grid_data_02.csv\")\n",
        "grid.df_02<-grid_02[, 4:10]\n",
        "grid.xy_02<-grid_02[,1:2]\n",
        "\n",
        "grid.df_02<- as.matrix(grid.df_02)\n",
        "dimnames(grid.df_02) <- NULL\n",
        "grid.df_02[, 1:7] = scale(grid.df_02[, 1:7])\n",
        "head(grid.df_02)\n",
        "\n",
        "# Prediction\n",
        "\n",
        "class_grid_02 <- model %>% predict(grid.df_02)  %>%\n",
        "              k_argmax()\n",
        "\n",
        "class_02<-as.matrix(class_grid_02)\n",
        "grid.xy_02= cbind(grid.xy_02, as.data.frame(class_02))\n",
        "colnames(grid.xy_02)[3]<-\"Class_ID\"\n",
        "head(grid.xy_02)"
      ],
      "metadata": {
        "colab": {
          "base_uri": "https://localhost:8080/"
        },
        "id": "qPbMRNAY9kDq",
        "outputId": "9dadff3f-7b37-43bc-8a7c-a2e2172ead6a"
      },
      "execution_count": 26,
      "outputs": [
        {
          "output_type": "stream",
          "name": "stdout",
          "text": [
            "31250/31250 [==============================] - 58s 2ms/step\n",
            "31250/31250 [==============================] - 58s 2ms/step\n",
            "        x       y Class_ID\n",
            "1: 150930 2558550        4\n",
            "2: 150960 2558550        4\n",
            "3: 150990 2558550        4\n",
            "4: 151020 2558550        4\n",
            "5: 151050 2558550        4\n",
            "6: 151080 2558550        4\n"
          ]
        }
      ]
    },
    {
      "cell_type": "code",
      "source": [
        "%%R\n",
        "levels(as.factor(grid.xy_02$Class_ID))"
      ],
      "metadata": {
        "colab": {
          "base_uri": "https://localhost:8080/"
        },
        "id": "TFR4Tc8ieeee",
        "outputId": "6b52a87a-3a31-4974-a2c8-e1ea3f842ee7"
      },
      "execution_count": 27,
      "outputs": [
        {
          "output_type": "stream",
          "name": "stdout",
          "text": [
            "[1] \"0\" \"1\" \"2\" \"3\" \"4\"\n"
          ]
        }
      ]
    },
    {
      "cell_type": "markdown",
      "source": [
        "### Convert to Raster"
      ],
      "metadata": {
        "id": "emvN_dC3FXIY"
      }
    },
    {
      "cell_type": "code",
      "source": [
        "\n",
        "%%R\n",
        "# AOI-1\n",
        "x1<-SpatialPointsDataFrame(as.data.frame(grid.xy_01)[, c(\"x\", \"y\")], data = grid.xy_01)\n",
        "r1 <- rasterFromXYZ(as.data.frame(x1)[, c(\"x\", \"y\", \"Class_ID\")])"
      ],
      "metadata": {
        "id": "3gDb2kHhFaTv"
      },
      "execution_count": 28,
      "outputs": []
    },
    {
      "cell_type": "code",
      "source": [
        "%%R\n",
        "# AOI-2\n",
        "x2<-SpatialPointsDataFrame(as.data.frame(grid.xy_02)[, c(\"x\", \"y\")], data = grid.xy_02)\n",
        "r2 <- rasterFromXYZ(as.data.frame(x2)[, c(\"x\", \"y\", \"Class_ID\")])"
      ],
      "metadata": {
        "id": "clsmazAvFjOC"
      },
      "execution_count": 29,
      "outputs": []
    },
    {
      "cell_type": "code",
      "source": [
        "%%R -w 750 -h 350 -u px\n",
        "\n",
        "# Create color palette\n",
        "myPalette <- colorRampPalette(c(\"red\",\"forestgreen\",\"orange\", \"blue\", \"sky blue\"))\n",
        "# Plot Map\n",
        "p1<-spplot(r1,\"Class_ID\", main=\"AOI-1: Supervised Image Classification-H20-R\" ,\n",
        "      colorkey = list(space=\"right\",tick.number=1,height=1, width=1.5,\n",
        "              labels = list(at = seq(0,3.75,length=5),cex=1.25,\n",
        "              lab = c(\"Homestead vegetation\" ,\"Cropland\", \"Bare soil/Developed \", \"Waterbody\",  \"Wet fallow\"))),\n",
        "              col.regions=myPalette,cut=4)\n",
        "\n",
        "# Plot Map\n",
        "p2<-spplot(r2,\"Class_ID\", main=\"AOI-2: Supervised Image Classification -H20-R\" ,\n",
        "      colorkey = list(space=\"right\",tick.number=1,height=1, width=1.5,\n",
        "              labels = list(at = seq(0,4,length=5),cex=1.25,\n",
        "              lab = c(\"Homestead vegetation\" ,\"Cropland\", \"Bare soil/Developed \", \"Waterbody\", \" Wet fallow\"))),\n",
        "              col.regions=myPalette,cut=4)\n",
        "\n",
        "\n",
        "grid.arrange(p1, p2, ncol=2)"
      ],
      "metadata": {
        "colab": {
          "base_uri": "https://localhost:8080/",
          "height": 367
        },
        "id": "uAMckMYoFwEr",
        "outputId": "a0da71e6-a9fb-46a9-9c70-082f0f00636d"
      },
      "execution_count": 30,
      "outputs": [
        {
          "output_type": "display_data",
          "data": {
            "image/png": "[encoded data removed]"
          },
          "metadata": {}
        }
      ]
    },
    {
      "cell_type": "code",
      "source": [
        "%%R\n",
        "writeRaster(r1, filename = \"/content/drive/MyDrive/Data/DSM_AOI/Image_Classification_Landsat9/Landsat_Subset/AOI_1/TF_predicted_class_aoi_1.tiff\", overwrite=T)\n",
        "writeRaster(r2, filename = \"/content/drive/MyDrive/Data/DSM_AOI/Image_Classification_Landsat9/Landsat_Subset/AOI_1/TF_predicted_class_aoi_2.tiff\", overwrite=T)\n",
        ""
      ],
      "metadata": {
        "id": "SpA4JEXD_CC6"
      },
      "execution_count": 31,
      "outputs": []
    }
  ]
}