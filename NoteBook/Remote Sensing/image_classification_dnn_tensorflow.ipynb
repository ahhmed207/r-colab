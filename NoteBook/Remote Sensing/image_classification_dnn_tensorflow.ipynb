{
  "nbformat": 4,
  "nbformat_minor": 0,
  "metadata": {
    "colab": {
      "provenance": [],
      "gpuType": "T4",
      "authorship_tag": "ABX9TyMJvLMubvP7sIgtgv0EnyC2",
      "include_colab_link": true
    },
    "kernelspec": {
      "name": "python3",
      "display_name": "Python 3"
    },
    "language_info": {
      "name": "python"
    },
    "accelerator": "GPU"
  },
  "cells": [
    {
      "cell_type": "markdown",
      "metadata": {
        "id": "view-in-github",
        "colab_type": "text"
      },
      "source": [
        "<a href=\"https://colab.research.google.com/github/zia207/r-colab/blob/main/NoteBook/Remote%20Sensing/image_classification_dnn_tensorflow.ipynb\" target=\"_parent\"><img src=\"https://colab.research.google.com/assets/colab-badge.svg\" alt=\"Open In Colab\"/></a>"
      ]
    },
    {
      "cell_type": "markdown",
      "source": [
        "# Deep Neural Network Supervised Image Classification with Keras/TensorFlow in R\n",
        "\n",
        "Zia Amed, University at Buffalo"
      ],
      "metadata": {
        "id": "W59D_SmZUKPR"
      }
    },
    {
      "cell_type": "markdown",
      "source": [
        "**Deep neural networks (DNNs)**, also known as neural networks or artificial neural networks, are machine learning models based on the structure and operation of neurons in the human brain. An artificial neural network is a network made up of multiple layers of connected nodes or neurons. Each layer is composed of an input layer, an output layer, and one or more layers of hidden nodes or neurons.\n",
        "\n",
        "A neural network with many hidden layers (more than one or two) is considered a deep neural network. Deep learning models can automatically learn hierarchical representations of data, making them suitable for complex tasks such as image recognition, natural language processing, and more.\n",
        "\n",
        "Deep neural networks have been highly successful in various fields, including computer vision, natural language processing, speech recognition, and reinforcement learning. They have revolutionized the field of artificial intelligence and continue to drive advances in machine learning research and applications."
      ],
      "metadata": {
        "id": "9_NYoUvGdB53"
      }
    },
    {
      "cell_type": "markdown",
      "source": [
        "Here are some key characteristics and components of a Deep Neural Network:\n",
        "\n",
        "1. **Neurons (Nodes):** Neurons are the basic building blocks of a neural network. Each neuron processes information by performing a weighted sum of its inputs, applying an activation function to the sum, and passing the result to the next layer. Neurons in the input layer represent the features of the data, while neurons in the output layer produce the network's predictions.\n",
        "\n",
        "2. **Layers:** A neural network is organized into layers, which are typically divided into three types:\n",
        "   - **Input Layer:** This is the first layer that receives the raw input data, such as images, text, or numerical features.\n",
        "   - **Hidden Layers:** These layers come between the input and output layers and are responsible for learning complex patterns and representations from the input data. Deep neural networks have multiple hidden layers, allowing them to model intricate relationships.\n",
        "   - **Output Layer:** The final layer produces the network's predictions or output values. The number of neurons in this layer depends on the nature of the task (e.g., regression, classification).\n",
        "\n",
        "3. **Weights and Biases:** Each connection between neurons has an associated weight and a bias term. These parameters are learned during the training process, allowing the network to adjust its behavior and make accurate predictions.\n",
        "\n",
        "4. **Activation Functions:** Activation functions introduce non-linearity to the network. Common activation functions include ReLU (Rectified Linear Unit), sigmoid, and tanh. They determine whether a neuron should be activated or not based on its input.\n",
        "\n",
        "5. **Forward Propagation:** During the forward pass, data flows through the network from the input layer to the output layer. Neurons in each layer compute their weighted sum and apply the activation function to produce their output, which becomes the input for the next layer.\n",
        "\n",
        "6. **Loss Function:** The loss function quantifies how well the network's predictions match the actual target values (labels) for a given set of inputs. The goal during training is to minimize this loss.\n",
        "\n",
        "7. **Backpropagation:** Backpropagation is the process of updating the network's weights and biases in the reverse direction, from the output layer back to the input layer. It uses the gradient of the loss function with respect to the network's parameters to adjust them in a way that reduces the loss.\n",
        "\n",
        "8. **Training:** Neural networks are trained using optimization algorithms like gradient descent. The training process involves iteratively adjusting the weights and biases to minimize the loss function on a labeled dataset.\n",
        "\n"
      ],
      "metadata": {
        "id": "2ZRH16ojdFs7"
      }
    },
    {
      "cell_type": "markdown",
      "source": [
        "This tutorial  you will learn how to implement [Deep Neural Network](https://en.wikipedia.org/wiki/Deep_learning) for [pixel based](https://gis.stackexchange.com/questions/237461/distinction-between-pixel-based-and-object-based-classification) [supervised classification ](https://articles.extension.org/pages/40214/whats-the-difference-between-a-supervised-and-unsupervised-image-classification) of [Sentinel-2 multispectral images](https://sentinel.esa.int/web/sentinel/missions/sentinel-2) using [keras](https://keras.rstudio.com/) package in [R](https://cloud.r-project.org/) in Google Colab with GPU support.\n",
        "\n",
        "[keras](https://keras.rstudio.com/) is a popular Python package for deep neural networks with multiple back ends, including [TensorFlow](https://www.tensorflow.org/), [Microsoft Cognitive Toolkit (CNTK)](https://docs.microsoft.com/en-us/cognitive-toolkit/), and [Theano](http://deeplearning.net/software/theano/). Two R packages allow you  to use Keras from R:  [keras](https://keras.rstudio.com/) and  [kerasR](https://github.com/statsmaths/kerasR).\n",
        "\n",
        "The **keras** package is able to provide a flexible and feature-rich API and can run both [CPU and GUP version of TensorFlow](https://www.tensorflow.org/install/install_windows) in both Windows and Linux. The default build of TensorFlow will use an NVIDIA® GPU if it is available and the appropriate drivers are installed, and otherwise fallback to using the CPU only.\n",
        "\n",
        "Note that on all platforms (except macOS) you must be running an NVIDIA® GPU with CUDA® Compute Capability 3.5 or higher. See the list of CUDA-enabled GPU cards. To enable TensorFlow to use a local NVIDIA® GPU, you can install the following:\n",
        "\n",
        "* [NVIDIA GUP](https://developer.nvidia.com/cuda-gpus): First, you must make sure weather your computer is running with [NVIDIA® GPU](https://developer.nvidia.com/cuda-gpus) or not. Follow the instruction as described  [here](http://nvidia.custhelp.com/app/answers/detail/a_id/2040/~/identifying-the-graphics-card-model-and-device-id-in-a-pc)\n",
        "\n",
        "* [CUDA Toolkit v11.8](https://developer.nvidia.com/cuda-90-download-archive?target_os=Windows&target_arch=x86_64&target_version=10&target_type=exelocal): If you have an NVIDIA® GPU in your system, you need to download and install [CUDA Toolkit  v9.0](https://developer.nvidia.com/cuda-90-download-archive?target_os=Windows&target_arch=x86_64&target_version=10&target_type=exelocal).\n",
        "\n",
        "* [cuDNN v8.6](https://developer.nvidia.com/cudnn): The download the zip file version [cuDNN v8.0](https://developer.nvidia.com/cudnn) for your CUDA Toolkit v9.0.You need to extract the zip file and add the location where you extracted it to your system PATH.  Detail installation steps can be found here [here](F:\\DeepLearning_tutorial\\Satellite_Image_Calssification\\h20_R_ImageCalssification\\keras_R\\Detail installation steps are described here).\n",
        "\n",
        "Detail installation steps of Keras back-end GPU or CUP version of Tensorflow can be found [here](https://tensorflow.rstudio.com/install/local_gpu).\n",
        "\n"
      ],
      "metadata": {
        "id": "h7NEyRzgeHFC"
      }
    },
    {
      "cell_type": "markdown",
      "source": [
        "### Install rpy2"
      ],
      "metadata": {
        "id": "ktIwpmD2UMkq"
      }
    },
    {
      "cell_type": "code",
      "execution_count": 1,
      "metadata": {
        "colab": {
          "base_uri": "https://localhost:8080/"
        },
        "id": "SJ7m1HzsKYRe",
        "outputId": "1e827388-1764-4bff-ddf9-5bc6ee1f7f68"
      },
      "outputs": [
        {
          "output_type": "stream",
          "name": "stdout",
          "text": [
            "Found existing installation: rpy2 3.4.2\n",
            "Uninstalling rpy2-3.4.2:\n",
            "  Successfully uninstalled rpy2-3.4.2\n",
            "Collecting rpy2==3.5.1\n",
            "  Downloading rpy2-3.5.1.tar.gz (201 kB)\n",
            "\u001b[2K     \u001b[90m━━━━━━━━━━━━━━━━━━━━━━━━━━━━━━━━━━━━━━━\u001b[0m \u001b[32m201.7/201.7 kB\u001b[0m \u001b[31m4.0 MB/s\u001b[0m eta \u001b[36m0:00:00\u001b[0m\n",
            "\u001b[?25h  Preparing metadata (setup.py) ... \u001b[?25l\u001b[?25hdone\n",
            "Requirement already satisfied: cffi>=1.10.0 in /usr/local/lib/python3.10/dist-packages (from rpy2==3.5.1) (1.15.1)\n",
            "Requirement already satisfied: jinja2 in /usr/local/lib/python3.10/dist-packages (from rpy2==3.5.1) (3.1.2)\n",
            "Requirement already satisfied: pytz in /usr/local/lib/python3.10/dist-packages (from rpy2==3.5.1) (2023.3.post1)\n",
            "Requirement already satisfied: tzlocal in /usr/local/lib/python3.10/dist-packages (from rpy2==3.5.1) (5.0.1)\n",
            "Requirement already satisfied: pycparser in /usr/local/lib/python3.10/dist-packages (from cffi>=1.10.0->rpy2==3.5.1) (2.21)\n",
            "Requirement already satisfied: MarkupSafe>=2.0 in /usr/local/lib/python3.10/dist-packages (from jinja2->rpy2==3.5.1) (2.1.3)\n",
            "Building wheels for collected packages: rpy2\n",
            "  Building wheel for rpy2 (setup.py) ... \u001b[?25l\u001b[?25hdone\n",
            "  Created wheel for rpy2: filename=rpy2-3.5.1-cp310-cp310-linux_x86_64.whl size=314929 sha256=13752fca2273d36722f0880672b44e57774503d8e02f4c2df97e440fb7648727\n",
            "  Stored in directory: /root/.cache/pip/wheels/73/a6/ff/4e75dd1ce1cfa2b9a670cbccf6a1e41c553199e9b25f05d953\n",
            "Successfully built rpy2\n",
            "Installing collected packages: rpy2\n",
            "Successfully installed rpy2-3.5.1\n"
          ]
        }
      ],
      "source": [
        "!pip uninstall rpy2 -y\n",
        "!pip install rpy2==3.5.1\n",
        "%load_ext rpy2.ipython"
      ]
    },
    {
      "cell_type": "markdown",
      "source": [
        "### Mount Google Drive"
      ],
      "metadata": {
        "id": "L3_rmNHTKzH_"
      }
    },
    {
      "cell_type": "code",
      "source": [
        "from google.colab import drive\n",
        "drive.mount('/content/drive')"
      ],
      "metadata": {
        "colab": {
          "base_uri": "https://localhost:8080/"
        },
        "id": "umIbZjGeKzSI",
        "outputId": "97b0193f-28a1-4f44-f6f1-243ef81c4436"
      },
      "execution_count": 2,
      "outputs": [
        {
          "output_type": "stream",
          "name": "stdout",
          "text": [
            "Mounted at /content/drive\n"
          ]
        }
      ]
    },
    {
      "cell_type": "markdown",
      "source": [
        "Install Required R Package"
      ],
      "metadata": {
        "id": "RxuRZclHK3PG"
      }
    },
    {
      "cell_type": "code",
      "source": [
        "%%R\n",
        "pkg <- c('tidyverse', 'raster', 'rgdal','terra','tidyterra', 'maptools', 'sf', 'classInt',\n",
        "         'RColorBrewer', 'tmap','tmaptools', 'gridExtra', 'devtools')\n",
        "new.packages <- pkg[!(pkg %in% installed.packages(lib='drive/My Drive/R/')[,\"Package\"])]\n",
        "if(length(new.packages)) install.packages(new.packages, lib='drive/My Drive/R/')"
      ],
      "metadata": {
        "id": "KSRxhtXcK3YS"
      },
      "execution_count": 3,
      "outputs": []
    },
    {
      "cell_type": "markdown",
      "source": [
        "### Install tensorflow and Keras"
      ],
      "metadata": {
        "id": "hGmYV4xvK4up"
      }
    },
    {
      "cell_type": "code",
      "source": [
        "%%R\n",
        "remotes::install_github(\"rstudio/tensorflow\", lib='drive/My Drive/R/')"
      ],
      "metadata": {
        "id": "O0YZntNjK42C"
      },
      "execution_count": null,
      "outputs": []
    },
    {
      "cell_type": "code",
      "source": [
        "%%R\n",
        "install.packages(\"keras\",lib='drive/My Drive/R/' )"
      ],
      "metadata": {
        "id": "kDjlMv2fP7BR",
        "colab": {
          "base_uri": "https://localhost:8080/"
        },
        "outputId": "d2f368e8-012b-4c65-e520-c168639b942b"
      },
      "execution_count": null,
      "outputs": [
        {
          "output_type": "stream",
          "name": "stderr",
          "text": [
            "UsageError: Cell magic `%%R` not found.\n"
          ]
        }
      ]
    },
    {
      "cell_type": "markdown",
      "source": [
        "### Load Library"
      ],
      "metadata": {
        "id": "XulZP82nLU03"
      }
    },
    {
      "cell_type": "code",
      "source": [
        "%%R\n",
        ".libPaths('drive/My Drive/R')\n",
        "library (terra)\n",
        "library (tidyterra)\n",
        "library(sf)\n",
        "library(raster)\n",
        "library(rgdal)\n",
        "library(luna)\n",
        "library(geodata)\n",
        "library(tidyverse)\n",
        "library(raster)\n",
        "library(RColorBrewer)\n",
        "library(RStoolbox)\n",
        "library(tmap)\n",
        "library(tmaptools)\n",
        "library(gridExtra)\n",
        "library(keras)\n",
        "library(tensorflow)"
      ],
      "metadata": {
        "id": "aJaQWinNLU8r"
      },
      "execution_count": null,
      "outputs": []
    },
    {
      "cell_type": "markdown",
      "source": [
        "### Test\n",
        "You can test if TensorFlow can use a local GPU by running the following:"
      ],
      "metadata": {
        "id": "UXnnN3OrRTYA"
      }
    },
    {
      "cell_type": "code",
      "source": [
        "%%R\n",
        "tensorflow::tf_gpu_configured()"
      ],
      "metadata": {
        "colab": {
          "base_uri": "https://localhost:8080/"
        },
        "id": "6AUsZ_S4RTfl",
        "outputId": "f6fe828e-66c2-49d9-ad10-4a8b2b94d0c4"
      },
      "execution_count": 4,
      "outputs": [
        {
          "output_type": "stream",
          "name": "stdout",
          "text": [
            "TensorFlow built with CUDA:  TRUE \n",
            "GPU device name:  [1] FALSE\n"
          ]
        }
      ]
    },
    {
      "cell_type": "markdown",
      "source": [
        "### Data\n",
        "\n",
        "In this lesson, we will use a sub-set of Landsat 9 satellite megapixel-based in the central part of the country. We will prepare them for pixel-based classification using machine learning algorithms. The images were already radiometrically and atmospherically corrected.\n",
        "\n",
        "We will train the a DNN model with four feature classes extracted from Google Earth imagery: (1) Home stage vegetation, (2) cropland, (3) Bare soil/Developed, and (4) water bodies."
      ],
      "metadata": {
        "id": "Y3cmxuXDhfQ_"
      }
    },
    {
      "cell_type": "code",
      "source": [
        "%%R\n",
        "point<-read_csv(\"/content/drive/MyDrive/Data/DSM_AOI/Image_Classification_Landsat9/Landsat_Subset/AOI_1/point_data.csv\")\n",
        "glimpse(point)"
      ],
      "metadata": {
        "colab": {
          "base_uri": "https://localhost:8080/"
        },
        "id": "j2ts1PchhdKj",
        "outputId": "0d065c3e-1554-4f3e-fa1e-8ff73a8ac210"
      },
      "execution_count": 42,
      "outputs": [
        {
          "output_type": "stream",
          "name": "stdout",
          "text": [
            "Rows: 20977 Columns: 10\n",
            "── Column specification ────────────────────────────────────────────────────────\n",
            "Delimiter: \",\"\n",
            "dbl (10): x, y, B2, B3, B4, B5, B6, B7, dem, Class_ID\n",
            "\n",
            "ℹ Use `spec()` to retrieve the full column specification for this data.\n",
            "ℹ Specify the column types or set `show_col_types = FALSE` to quiet this message.\n",
            "Rows: 20,977\n",
            "Columns: 10\n",
            "$ x        <dbl> 173760, 173730, 173700, 171030, 171060, 173850, 173340, 17139…\n",
            "$ y        <dbl> 2588160, 2588160, 2588160, 2576520, 2576520, 2587860, 2575950…\n",
            "$ B2       <dbl> 8863, 8791, 8508, 8534, 8835, 8529, 8776, 8562, 8538, 8593, 8…\n",
            "$ B3       <dbl> 9904, 9758, 9438, 9611, 10018, 9454, 9937, 9668, 9613, 9649, …\n",
            "$ B4       <dbl> 9637, 9469, 8978, 9084, 9654, 9023, 9558, 9182, 9080, 9121, 9…\n",
            "$ B5       <dbl> 15364, 15122, 15204, 16093, 13896, 14718, 16498, 16590, 16686…\n",
            "$ B6       <dbl> 13740, 12743, 12058, 13104, 11553, 12330, 14333, 13784, 13029…\n",
            "$ B7       <dbl> 11824, 10654, 9851, 10306, 9616, 10017, 11216, 10647, 10293, …\n",
            "$ dem      <dbl> 12.814396, 12.504545, 12.054958, 13.505932, 12.668021, 13.706…\n",
            "$ Class_ID <dbl> 0, 0, 0, 0, 0, 0, 0, 0, 0, 0, 0, 0, 0, 0, 0, 0, 0, 0, 0, 0, 0…\n"
          ]
        }
      ]
    },
    {
      "cell_type": "markdown",
      "source": [
        "### Create Dataframe"
      ],
      "metadata": {
        "id": "SgxzEzX2juDt"
      }
    },
    {
      "cell_type": "code",
      "source": [
        "%%R\n",
        "# training data\n",
        "point.df<-point[,3:10] %>%\n",
        "glimpse()"
      ],
      "metadata": {
        "colab": {
          "base_uri": "https://localhost:8080/"
        },
        "id": "xOXxCCp9nYwN",
        "outputId": "f1ebe420-245b-4dca-fd69-91b31aaa386f"
      },
      "execution_count": 43,
      "outputs": [
        {
          "output_type": "stream",
          "name": "stdout",
          "text": [
            "Rows: 20,977\n",
            "Columns: 8\n",
            "$ B2       <dbl> 8863, 8791, 8508, 8534, 8835, 8529, 8776, 8562, 8538, 8593, 8…\n",
            "$ B3       <dbl> 9904, 9758, 9438, 9611, 10018, 9454, 9937, 9668, 9613, 9649, …\n",
            "$ B4       <dbl> 9637, 9469, 8978, 9084, 9654, 9023, 9558, 9182, 9080, 9121, 9…\n",
            "$ B5       <dbl> 15364, 15122, 15204, 16093, 13896, 14718, 16498, 16590, 16686…\n",
            "$ B6       <dbl> 13740, 12743, 12058, 13104, 11553, 12330, 14333, 13784, 13029…\n",
            "$ B7       <dbl> 11824, 10654, 9851, 10306, 9616, 10017, 11216, 10647, 10293, …\n",
            "$ dem      <dbl> 12.814396, 12.504545, 12.054958, 13.505932, 12.668021, 13.706…\n",
            "$ Class_ID <dbl> 0, 0, 0, 0, 0, 0, 0, 0, 0, 0, 0, 0, 0, 0, 0, 0, 0, 0, 0, 0, 0…\n"
          ]
        }
      ]
    },
    {
      "cell_type": "code",
      "source": [
        "%%R\n",
        "grid<-read_csv(\"/content/drive/MyDrive/Data/DSM_AOI/Image_Classification_Landsat9/Landsat_Subset/AOI_1/prediction_grid_data.csv\")\n",
        "glimpse(grid)"
      ],
      "metadata": {
        "colab": {
          "base_uri": "https://localhost:8080/"
        },
        "id": "9ahnY-ZcikuV",
        "outputId": "e7eb1d3b-ab81-4eaf-e9f2-a69fe7429a0c"
      },
      "execution_count": 7,
      "outputs": [
        {
          "output_type": "stream",
          "name": "stdout",
          "text": [
            "Rows: 1000000 Columns: 10\n",
            "── Column specification ────────────────────────────────────────────────────────\n",
            "Delimiter: \",\"\n",
            "dbl (10): x, y, ID, B2, B3, B4, B5, B6, B7, dem\n",
            "\n",
            "ℹ Use `spec()` to retrieve the full column specification for this data.\n",
            "ℹ Specify the column types or set `show_col_types = FALSE` to quiet this message.\n",
            "Rows: 1,000,000\n",
            "Columns: 10\n",
            "$ x   <dbl> 150930, 150960, 150990, 151020, 151050, 151080, 151110, 151140, 15…\n",
            "$ y   <dbl> 2588550, 2588550, 2588550, 2588550, 2588550, 2588550, 2588550, 258…\n",
            "$ ID  <dbl> 1, 2, 3, 4, 5, 6, 7, 8, 9, 10, 11, 12, 13, 14, 15, 16, 17, 18, 19,…\n",
            "$ B2  <dbl> 9289, 9333, 9526, 9635, 9532, 9615, 9646, 9694, 9854, 9894, 9720, …\n",
            "$ B3  <dbl> 10661, 10657, 10988, 11020, 10766, 10925, 11037, 10975, 11276, 112…\n",
            "$ B4  <dbl> 10019, 10261, 10927, 11013, 10420, 10522, 10951, 10864, 11087, 112…\n",
            "$ B5  <dbl> 18168, 17364, 16623, 16162, 16683, 17598, 16579, 16572, 16866, 160…\n",
            "$ B6  <dbl> 14338, 14709, 15744, 15363, 15173, 15571, 15894, 15761, 16444, 157…\n",
            "$ B7  <dbl> 11357, 11819, 13262, 12782, 12286, 12710, 13399, 12748, 14141, 137…\n",
            "$ dem <dbl> 9.827662, 14.767797, 2.985770, 2.595814, 2.571604, 8.822142, 3.505…\n"
          ]
        }
      ]
    },
    {
      "cell_type": "code",
      "source": [
        "%%R\n",
        "grid.df<-grid[c(4:10)] %>%\n",
        "glimpse()\n",
        "\n",
        "grid.xy<-grid[c(3,1:2)]"
      ],
      "metadata": {
        "id": "ELkcWiybitR9",
        "colab": {
          "base_uri": "https://localhost:8080/"
        },
        "outputId": "6a97dd27-ffb4-4fe8-b396-0ab0ad91fcf2"
      },
      "execution_count": 44,
      "outputs": [
        {
          "output_type": "stream",
          "name": "stdout",
          "text": [
            "Rows: 1,000,000\n",
            "Columns: 7\n",
            "$ B2  <dbl> 9289, 9333, 9526, 9635, 9532, 9615, 9646, 9694, 9854, 9894, 9720, …\n",
            "$ B3  <dbl> 10661, 10657, 10988, 11020, 10766, 10925, 11037, 10975, 11276, 112…\n",
            "$ B4  <dbl> 10019, 10261, 10927, 11013, 10420, 10522, 10951, 10864, 11087, 112…\n",
            "$ B5  <dbl> 18168, 17364, 16623, 16162, 16683, 17598, 16579, 16572, 16866, 160…\n",
            "$ B6  <dbl> 14338, 14709, 15744, 15363, 15173, 15571, 15894, 15761, 16444, 157…\n",
            "$ B7  <dbl> 11357, 11819, 13262, 12782, 12286, 12710, 13399, 12748, 14141, 137…\n",
            "$ dem <dbl> 9.827662, 14.767797, 2.985770, 2.595814, 2.571604, 8.822142, 3.505…\n"
          ]
        }
      ]
    },
    {
      "cell_type": "markdown",
      "source": [
        "### Convert data as matrix"
      ],
      "metadata": {
        "id": "B4aWeocrsf68"
      }
    },
    {
      "cell_type": "code",
      "source": [
        "%%R\n",
        "point.df<- as.matrix(point.df)\n",
        "grid.df <- as.matrix(grid.df)"
      ],
      "metadata": {
        "id": "KCbyTA7JskO8"
      },
      "execution_count": 45,
      "outputs": []
    },
    {
      "cell_type": "markdown",
      "source": [
        "### Set  `dimnames` to `NULL`:"
      ],
      "metadata": {
        "id": "wkHkOfcassxN"
      }
    },
    {
      "cell_type": "code",
      "source": [
        "%%R\n",
        "dimnames(point.df) <- NULL\n",
        "dimnames(grid.df) <- NULL"
      ],
      "metadata": {
        "id": "-yyvDoTfswaA"
      },
      "execution_count": 46,
      "outputs": []
    },
    {
      "cell_type": "code",
      "source": [
        "%%R\n",
        "head(point.df)\n"
      ],
      "metadata": {
        "colab": {
          "base_uri": "https://localhost:8080/"
        },
        "id": "7SN53ancNngX",
        "outputId": "b04715a4-7e91-4801-c809-c27d4e31d67c"
      },
      "execution_count": 47,
      "outputs": [
        {
          "output_type": "stream",
          "name": "stdout",
          "text": [
            "     [,1]  [,2] [,3]  [,4]  [,5]  [,6]     [,7] [,8]\n",
            "[1,] 8863  9904 9637 15364 13740 11824 12.81440    0\n",
            "[2,] 8791  9758 9469 15122 12743 10654 12.50455    0\n",
            "[3,] 8508  9438 8978 15204 12058  9851 12.05496    0\n",
            "[4,] 8534  9611 9084 16093 13104 10306 13.50593    0\n",
            "[5,] 8835 10018 9654 13896 11553  9616 12.66802    0\n",
            "[6,] 8529  9454 9023 14718 12330 10017 13.70659    0\n"
          ]
        }
      ]
    },
    {
      "cell_type": "markdown",
      "source": [
        "### Standardize_the data: ((x-mean(x))/sd(x))"
      ],
      "metadata": {
        "id": "nvp-VC2eszcY"
      }
    },
    {
      "cell_type": "code",
      "source": [
        "%%R\n",
        "point.df[, 1:7] = scale(point.df[, 1:7])\n",
        "grid.df[, 1:7] = scale(grid.df[, 1:7])"
      ],
      "metadata": {
        "id": "WM-RgsQys4Gd"
      },
      "execution_count": 48,
      "outputs": []
    },
    {
      "cell_type": "markdown",
      "source": [
        "#### Split data  training and test"
      ],
      "metadata": {
        "id": "GwBaBHHjtS_2"
      }
    },
    {
      "cell_type": "code",
      "source": [
        "%%R\n",
        "##  Determine sample size\n",
        "ind <- sample(2, nrow(point.df), replace=TRUE, prob=c(0.80, 0.20))\n",
        "# Split the `Split data\n",
        "training <- point.df[ind==1, 1:7]\n",
        "test <- point.df[ind==2, 1:7]\n",
        "# Split the class attribute\n",
        "trainingtarget <- point.df[ind==1, 8]\n",
        "testtarget <- point.df[ind==2, 8]\n"
      ],
      "metadata": {
        "id": "21hEdfj6tVqT"
      },
      "execution_count": 49,
      "outputs": []
    },
    {
      "cell_type": "markdown",
      "source": [
        "### Hyperparameter flag"
      ],
      "metadata": {
        "id": "jUaBmZVDthmX"
      }
    },
    {
      "cell_type": "code",
      "source": [
        "%%R\n",
        "FLAGS <- flags(\n",
        "  flag_numeric('dropout_1', 0.2, 'First dropout'),\n",
        "  flag_numeric('dropout_2', 0.2, 'Second dropout'),\n",
        "  flag_numeric('dropout_3', 0.1, 'Third dropout'),\n",
        "  flag_numeric('dropout_4', 0.1, 'Forth dropout')\n",
        "  )"
      ],
      "metadata": {
        "id": "Cyl18v45tkX5"
      },
      "execution_count": 62,
      "outputs": []
    },
    {
      "cell_type": "markdown",
      "source": [
        "### Define model parameters with 4 hidden layers with 100 neurons"
      ],
      "metadata": {
        "id": "MZeeDKU8trMV"
      }
    },
    {
      "cell_type": "code",
      "source": [
        "%%R\n",
        "model <- keras_model_sequential()\n",
        "model %>%\n",
        "  # Imput layer\n",
        "  layer_dense(units = 200, activation = 'relu',\n",
        "              kernel_regularizer =regularizer_l1_l2(l1 = 0.00001, l2 = 0.00001),input_shape = c(7)) %>%\n",
        "  layer_dropout(rate = FLAGS$dropout_1,seed = 1) %>%\n",
        "  # Hidden layers\n",
        "  layer_dense(units = 200, activation = 'relu',\n",
        "              kernel_regularizer = regularizer_l1_l2(l1 = 0.00001, l2 = 0.00001)) %>%\n",
        "  layer_dropout(rate = FLAGS$dropout_2,seed = 1) %>%\n",
        "  layer_dense(units = 200, activation = 'relu',\n",
        "              kernel_regularizer = regularizer_l1_l2(l1 = 0.00001, l2 = 0.00001)) %>%\n",
        "  layer_dropout(rate = FLAGS$dropout_3,seed = 1) %>%\n",
        "  layer_dense(units = 200, activation = 'relu',\n",
        "              kernel_regularizer = regularizer_l1_l2(l1 = 0.0001, l2 = 0.00001)) %>%\n",
        "  layer_dropout(rate = FLAGS$dropout_4) %>%\n",
        "  # Output layer\n",
        "  layer_dense(units = 4, activation = 'softmax')\n",
        "\n"
      ],
      "metadata": {
        "id": "7UD8WwxltxJm"
      },
      "execution_count": 65,
      "outputs": []
    },
    {
      "cell_type": "code",
      "source": [
        "%%R\n",
        "summary(model)"
      ],
      "metadata": {
        "colab": {
          "base_uri": "https://localhost:8080/"
        },
        "id": "AYc160bJt9NE",
        "outputId": "1ffaa9d3-29c9-402b-a51b-180edd01560e"
      },
      "execution_count": 66,
      "outputs": [
        {
          "output_type": "stream",
          "name": "stdout",
          "text": [
            "Model: \"sequential_7\"\n",
            "________________________________________________________________________________\n",
            " Layer (type)                       Output Shape                    Param #     \n",
            "================================================================================\n",
            " dense_33 (Dense)                   (None, 200)                     1600        \n",
            " dropout_25 (Dropout)               (None, 200)                     0           \n",
            " dense_32 (Dense)                   (None, 200)                     40200       \n",
            " dropout_24 (Dropout)               (None, 200)                     0           \n",
            " dense_31 (Dense)                   (None, 200)                     40200       \n",
            " dropout_23 (Dropout)               (None, 200)                     0           \n",
            " dense_30 (Dense)                   (None, 200)                     40200       \n",
            " dropout_22 (Dropout)               (None, 200)                     0           \n",
            " dense_29 (Dense)                   (None, 4)                       804         \n",
            "================================================================================\n",
            "Total params: 123004 (480.48 KB)\n",
            "Trainable params: 123004 (480.48 KB)\n",
            "Non-trainable params: 0 (0.00 Byte)\n",
            "________________________________________________________________________________\n"
          ]
        }
      ]
    },
    {
      "cell_type": "markdown",
      "source": [
        "### Define an optimizer (Stochastic gradient descent optimizer)"
      ],
      "metadata": {
        "id": "GHfbwM-5uIKM"
      }
    },
    {
      "cell_type": "code",
      "source": [
        "%%R\n",
        "optimizer <- optimizer_sgd(learning_rate=0.01)"
      ],
      "metadata": {
        "id": "nccM_7vXuJ5s"
      },
      "execution_count": 114,
      "outputs": []
    },
    {
      "cell_type": "markdown",
      "source": [
        "### Compile the model:"
      ],
      "metadata": {
        "id": "qX0V7ybquPnT"
      }
    },
    {
      "cell_type": "code",
      "source": [
        "%%R\n",
        "model %>% compile(\n",
        "  loss = 'sparse_categorical_crossentropy',\n",
        "  optimizer = optimizer,\n",
        "  metrics = 'accuracy'\n",
        ")\n"
      ],
      "metadata": {
        "id": "maceA2iZuPvA"
      },
      "execution_count": 68,
      "outputs": []
    },
    {
      "cell_type": "markdown",
      "source": [
        "### Fit the model to the data"
      ],
      "metadata": {
        "id": "4BK5mv73uZQ7"
      }
    },
    {
      "cell_type": "code",
      "source": [
        "%%R\n",
        "history<-model %>% fit(\n",
        "  training, trainingtarget,\n",
        "  epochs = 50,\n",
        "  batch_size = 100,\n",
        "  shuffle = TRUE,\n",
        "  validation_split = 0.2\n",
        "  )"
      ],
      "metadata": {
        "id": "cmXg3N-8ucU4"
      },
      "execution_count": null,
      "outputs": []
    },
    {
      "cell_type": "markdown",
      "source": [
        "#### Plot history"
      ],
      "metadata": {
        "id": "i7uKuPCWuyk7"
      }
    },
    {
      "cell_type": "code",
      "source": [
        "%%R\n",
        "plot(history)"
      ],
      "metadata": {
        "colab": {
          "base_uri": "https://localhost:8080/",
          "height": 497
        },
        "id": "gKcxDtO8u1hs",
        "outputId": "7cb886bf-d1db-4b41-be14-d91358846828"
      },
      "execution_count": 70,
      "outputs": [
        {
          "output_type": "display_data",
          "data": {
            "image/png": "[encoded data removed]"
          },
          "metadata": {}
        }
      ]
    },
    {
      "cell_type": "markdown",
      "source": [
        "### Evaluate the model"
      ],
      "metadata": {
        "id": "rP9qkTUMu-WM"
      }
    },
    {
      "cell_type": "code",
      "source": [
        "%%R\n",
        "score <- model %>% evaluate(test, testtarget, batch_size = 100)\n",
        "cat('Test loss:', score[[1]], '\\n')\n",
        "cat('Test accuracy:', score[[2]], '\\n')"
      ],
      "metadata": {
        "colab": {
          "base_uri": "https://localhost:8080/"
        },
        "id": "GbZls6Cku-cu",
        "outputId": "de5a7b49-4dc0-4818-95d1-2ba0ca5eab34"
      },
      "execution_count": 71,
      "outputs": [
        {
          "output_type": "stream",
          "name": "stdout",
          "text": [
            "42/42 [==============================] - 0s 3ms/step - loss: 1.4316 - accuracy: 0.8718\n",
            "42/42 [==============================] - 0s 3ms/step - loss: 1.4316 - accuracy: 0.8718\n",
            "Test loss: 1.431639 \n",
            "Test accuracy: 0.8718317 \n"
          ]
        }
      ]
    },
    {
      "cell_type": "markdown",
      "source": [
        "### Prediction & confusion matrix - test data"
      ],
      "metadata": {
        "id": "P55t3VTmvK3I"
      }
    },
    {
      "cell_type": "code",
      "source": [
        "%%R\n",
        "class_test <- model %>% predict(test) %>%\n",
        "              k_argmax()\n"
      ],
      "metadata": {
        "colab": {
          "base_uri": "https://localhost:8080/"
        },
        "id": "0NokgYJdvLFV",
        "outputId": "a320e02f-8529-4d12-af9a-50e59c24ed64"
      },
      "execution_count": 72,
      "outputs": [
        {
          "output_type": "stream",
          "name": "stdout",
          "text": [
            "131/131 [==============================] - 0s 2ms/step\n",
            "131/131 [==============================] - 0s 2ms/step\n"
          ]
        }
      ]
    },
    {
      "cell_type": "code",
      "source": [
        "%%R\n",
        " test_pred<-as.matrix(class_test)"
      ],
      "metadata": {
        "id": "_JoXdfgvwYe6"
      },
      "execution_count": 73,
      "outputs": []
    },
    {
      "cell_type": "code",
      "source": [
        "%%R\n",
        "table(testtarget,test_pred)"
      ],
      "metadata": {
        "colab": {
          "base_uri": "https://localhost:8080/"
        },
        "id": "8DUNMn8lL_Zl",
        "outputId": "e74b2b71-0008-4e42-880d-a5b2b6ad23d7"
      },
      "execution_count": 74,
      "outputs": [
        {
          "output_type": "stream",
          "name": "stdout",
          "text": [
            "          test_pred\n",
            "testtarget    0    1\n",
            "         0  930  124\n",
            "         1   19 2716\n",
            "         2   25   71\n",
            "         3  113  184\n"
          ]
        }
      ]
    },
    {
      "cell_type": "markdown",
      "source": [
        "### Prediction at grid locations:"
      ],
      "metadata": {
        "id": "5nldd_5NMXbS"
      }
    },
    {
      "cell_type": "code",
      "source": [
        "%%R\n",
        "class_grid <- model %>% predict(grid.df) %>%\n",
        "              k_argmax()"
      ],
      "metadata": {
        "colab": {
          "base_uri": "https://localhost:8080/"
        },
        "id": "d0zSs6nxMZUb",
        "outputId": "c4410541-77c7-450f-9766-f35443683407"
      },
      "execution_count": 75,
      "outputs": [
        {
          "output_type": "stream",
          "name": "stdout",
          "text": [
            "31250/31250 [==============================] - 63s 2ms/step\n",
            "31250/31250 [==============================] - 63s 2ms/step\n"
          ]
        }
      ]
    },
    {
      "cell_type": "code",
      "source": [
        "%%R\n",
        "class_grid"
      ],
      "metadata": {
        "colab": {
          "base_uri": "https://localhost:8080/"
        },
        "id": "IW_r-B8-fsap",
        "outputId": "7914153f-c2f5-422a-f9cc-601e91b18017"
      },
      "execution_count": 113,
      "outputs": [
        {
          "output_type": "stream",
          "name": "stdout",
          "text": [
            "tf.Tensor([1 1 1 ... 1 1 1], shape=(1000000), dtype=int64)\n"
          ]
        }
      ]
    },
    {
      "cell_type": "code",
      "source": [
        "%%R\n",
        "class<-as.matrix(class_grid)\n",
        "new.grid<-cbind(x=grid.xy$x, y=grid.xy$y,Class_ID=class )\n",
        "colnames(new.grid)[3]<-\"Class_ID\"\n",
        "new.grid.na<-as.data.fram(na.omit(new.grid))\n",
        "\n"
      ],
      "metadata": {
        "colab": {
          "base_uri": "https://localhost:8080/"
        },
        "id": "SUym-V3wZzny",
        "outputId": "e9ed8abf-c5dc-4dac-a59a-bc0d37c0f971"
      },
      "execution_count": 82,
      "outputs": [
        {
          "output_type": "stream",
          "name": "stdout",
          "text": [
            "          x       y Class_ID\n",
            "[1,] 150930 2588550        1\n",
            "[2,] 150960 2588550        1\n",
            "[3,] 150990 2588550        1\n",
            "[4,] 151020 2588550        1\n",
            "[5,] 151050 2588550        1\n",
            "[6,] 151080 2588550        1\n"
          ]
        }
      ]
    },
    {
      "cell_type": "code",
      "source": [
        "%%R\n",
        "levels(as.factor(new.grid.na$Class_ID))"
      ],
      "metadata": {
        "colab": {
          "base_uri": "https://localhost:8080/"
        },
        "id": "TFR4Tc8ieeee",
        "outputId": "81db0927-d339-4827-c232-7ab39d6f251f"
      },
      "execution_count": 112,
      "outputs": [
        {
          "output_type": "stream",
          "name": "stdout",
          "text": [
            "[1] \"0\" \"1\"\n"
          ]
        }
      ]
    },
    {
      "cell_type": "code",
      "source": [
        "%%R\n",
        "ID<-read_csv(\"/content/drive/MyDrive/Data/DSM_AOI/Image_Classification_Landsat9/Landsat_Subset/AOI_1/landuse_id.csv\")\n",
        "ID"
      ],
      "metadata": {
        "colab": {
          "base_uri": "https://localhost:8080/"
        },
        "id": "TyLG31LBaxot",
        "outputId": "1a019e1d-749a-4029-e7f8-e920034c437f"
      },
      "execution_count": 84,
      "outputs": [
        {
          "output_type": "stream",
          "name": "stdout",
          "text": [
            "Rows: 4 Columns: 3\n",
            "── Column specification ────────────────────────────────────────────────────────\n",
            "Delimiter: \",\"\n",
            "chr (2): Class, Description\n",
            "dbl (1): Class_ID\n",
            "\n",
            "ℹ Use `spec()` to retrieve the full column specification for this data.\n",
            "ℹ Specify the column types or set `show_col_types = FALSE` to quiet this message.\n",
            "# A tibble: 4 × 3\n",
            "  Class_ID Class   Description         \n",
            "     <dbl> <chr>   <chr>               \n",
            "1        0 Class_1 Homestead vegetation\n",
            "2        2 Class_2 Cropland            \n",
            "3        3 Class_3 Bare soil/Developed \n",
            "4        4 Class_4 Water body          \n"
          ]
        }
      ]
    },
    {
      "cell_type": "markdown",
      "source": [
        "### Convert to raster"
      ],
      "metadata": {
        "id": "t0CDqpVzbYPf"
      }
    },
    {
      "cell_type": "code",
      "source": [
        "%%R\n",
        "x<-as.data.frame(new.grid.na)\n",
        "head(x)\n",
        "#x<-SpatialPointsDataFrame(new.grid.na[, c(\"x\", \"y\")], data = new.grid.na)\n",
        "r <- rasterFromXYZ(as.data.frame(x)[, c(\"x\", \"y\", \"Class_ID\")])\n"
      ],
      "metadata": {
        "colab": {
          "base_uri": "https://localhost:8080/",
          "height": 497
        },
        "id": "v3kZxnyfaxwy",
        "outputId": "29582f27-c2e2-4e38-fac0-aac93727d4c4"
      },
      "execution_count": 91,
      "outputs": [
        {
          "output_type": "display_data",
          "data": {
            "image/png": "[encoded data removed]"
          },
          "metadata": {}
        }
      ]
    },
    {
      "cell_type": "code",
      "source": [
        "%%R\n",
        "# Create color palette\n",
        "myPalette <- colorRampPalette(c(\"red\",\"forestgreen\",\"orange\", \"dodgerblue\"))\n",
        "# Plot Map\n",
        "LU<-spplot(r,\"Class_ID\", main=\"Supervised Image Classification: DNN keras-R\" ,\n",
        "      colorkey = list(space=\"right\",tick.number=1,height=1, width=1.5,\n",
        "              labels = list(at = seq(0,0.9,length=4),cex=1.0,\n",
        "              lab = c(\" Homestead vegetation\" ,\"Cropland\", \"Bare soil/Developed \", \"Waterbody\"))),\n",
        "              col.regions=myPalette,cut=3)\n",
        "LU"
      ],
      "metadata": {
        "colab": {
          "base_uri": "https://localhost:8080/",
          "height": 497
        },
        "id": "NVUHs2gYciYH",
        "outputId": "9b4aeffa-88eb-426d-8de4-505bded51a6b"
      },
      "execution_count": 103,
      "outputs": [
        {
          "output_type": "display_data",
          "data": {
            "image/png": "[encoded data removed]"
          },
          "metadata": {}
        }
      ]
    }
  ]
}