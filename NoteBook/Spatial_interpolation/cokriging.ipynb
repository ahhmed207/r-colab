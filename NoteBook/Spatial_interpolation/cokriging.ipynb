{
  "cells": [
    {
      "cell_type": "markdown",
      "metadata": {
        "id": "view-in-github",
        "colab_type": "text"
      },
      "source": [
        "<a href=\"https://colab.research.google.com/github/zia207/r-colab/blob/main/NoteBook/Spatial_interpolation/cokriging.ipynb\" target=\"_parent\"><img src=\"https://colab.research.google.com/assets/colab-badge.svg\" alt=\"Open In Colab\"/></a>"
      ]
    },
    {
      "cell_type": "markdown",
      "metadata": {
        "id": "VwdkYOf2qiYy"
      },
      "source": [
        "# Co-kriging in R\n",
        "\n",
        "Zia Ahmed, Unversity Buffalo"
      ]
    },
    {
      "cell_type": "markdown",
      "metadata": {
        "id": "bLY9PGR7rLMn"
      },
      "source": [
        "Co-Kriging (CK),  also known as Co-estimation or Co-regionalization, is a geostatistical technique that involves the addition of other observed variables (commonly referred to as co-variates, which are often related to the variables of interest) to enhance the accuracy of the kriging of the variables of interest. It is particularly valuable when you have two or more interrelated variables that exhibit spatial dependence, and you want to leverage the information from one variable to improve the estimation of another variable. Unlike regression and universal kriging, Co-Kriging does not require that the secondary information is available at all prediction locations. The co-variable may be measured at the same points as the target (co-located samples), at other points, or both.\n",
        "\n",
        "\n",
        "Here's a detailed explanation of Co-Kriging:\n",
        "\n",
        "**Components of Co-Kriging:**\n",
        "\n",
        "1. **Primary Variable (Z1):** This is the variable of primary interest, and you want to estimate its values at unsampled locations.\n",
        "\n",
        "2. **Secondary Variable(s) (Z2, Z3, ...):** These are one or more secondary variables that are measured at the same spatial locations as the primary variable. The secondary variables are used to provide additional information that can improve the estimation of the primary variable.\n",
        "\n",
        "**The Co-Kriging Process:**\n",
        "\n",
        "Co-Kriging extends the principles of Kriging to estimate the primary variable while taking into account the spatial relationships between the primary and secondary variables. The Co-Kriging estimation equation can be expressed as:\n",
        "\n",
        "Z1(u) = μ1 + λ1 * [Z2(u) - μ2] + λ2 * [Z3(u) - μ3] + ...\n",
        "\n",
        "Where:\n",
        "- Z1(u) is the estimated value of the primary variable at the unsampled location u.\n",
        "- μ1 is the global mean of the primary variable (Z1).\n",
        "- λ1, λ2, ... are the kriging weights assigned to the secondary variables (Z2, Z3, ...) at location u.\n",
        "- μ2, μ3, ... are the global means of the secondary variables (Z2, Z3, ...).\n",
        "\n",
        "**The Co-Kriging Variance:**\n",
        "\n",
        "Just like in traditional Kriging, Co-Kriging provides a kriging variance, which quantifies the uncertainty associated with the estimate of the primary variable at each unsampled location. Smaller kriging variances indicate more reliable estimates.\n",
        "\n",
        "**Steps in Co-Kriging:**\n",
        "\n",
        "1. **Data Preparation:** You start with a dataset that includes measurements of multiple variables (both primary and secondary) at various spatial locations.\n",
        "\n",
        "2. **Variogram Analysis:** Calculate and model variograms for all variables involved. Variograms are used to quantify the spatial autocorrelation or spatial dependence of each variable.\n",
        "\n",
        "3. **Cross-Variograms:** Calculate cross-variograms to quantify the spatial cross-correlation between the primary variable and each of the secondary variables. These cross-variograms help establish the relationships between the variables.  The cross-variogram is calculated to understand how changes in the secondary variable(s) relate to changes in the primary variable at different distances and directions.\n",
        "\n",
        "4. **Kriging Weights:** Determine the kriging weights for each variable, including the primary and secondary variables, using the cross-variograms and variograms. The weights are chosen to minimize the estimation error variance while ensuring the unbiasedness of the estimator.\n",
        "\n",
        "5. **Estimation:** Use the kriging weights to estimate the values of the primary variable at unsampled locations, while taking into account the information from the secondary variables.\n",
        "\n",
        "6. **Model Validation:** Validate the Co-Kriging model, including the adequacy of variogram models and the spatial relationships between variables.\n",
        "\n",
        "Co-Kriging is a powerful technique for improving the accuracy of spatial predictions when you have multiple correlated variables. It is used in various fields such as geology, environmental science, hydrogeology, and agriculture, where understanding the relationship between variables is essential for informed decision-making and accurate predictions."
      ]
    },
    {
      "cell_type": "markdown",
      "metadata": {
        "id": "kIYOSB7fsF8V"
      },
      "source": [
        "### Install rpy2"
      ]
    },
    {
      "cell_type": "code",
      "execution_count": 2,
      "metadata": {
        "colab": {
          "base_uri": "https://localhost:8080/",
          "height": 374
        },
        "id": "b-MpcXyTqSZ6",
        "outputId": "6fdcd5bf-91f0-45f1-da9e-bcd75e7654b4"
      },
      "outputs": [
        {
          "output_type": "stream",
          "name": "stdout",
          "text": [
            "Found existing installation: rpy2 3.5.1\n",
            "Uninstalling rpy2-3.5.1:\n",
            "  Successfully uninstalled rpy2-3.5.1\n",
            "Collecting rpy2==3.5.1\n",
            "  Using cached rpy2-3.5.1-cp310-cp310-linux_x86_64.whl\n",
            "Requirement already satisfied: cffi>=1.10.0 in /usr/local/lib/python3.10/dist-packages (from rpy2==3.5.1) (1.16.0)\n",
            "Requirement already satisfied: jinja2 in /usr/local/lib/python3.10/dist-packages (from rpy2==3.5.1) (3.1.2)\n",
            "Requirement already satisfied: pytz in /usr/local/lib/python3.10/dist-packages (from rpy2==3.5.1) (2023.3.post1)\n",
            "Requirement already satisfied: tzlocal in /usr/local/lib/python3.10/dist-packages (from rpy2==3.5.1) (5.1)\n",
            "Requirement already satisfied: pycparser in /usr/local/lib/python3.10/dist-packages (from cffi>=1.10.0->rpy2==3.5.1) (2.21)\n",
            "Requirement already satisfied: MarkupSafe>=2.0 in /usr/local/lib/python3.10/dist-packages (from jinja2->rpy2==3.5.1) (2.1.3)\n",
            "Installing collected packages: rpy2\n",
            "Successfully installed rpy2-3.5.1\n"
          ]
        },
        {
          "output_type": "display_data",
          "data": {
            "application/vnd.colab-display-data+json": {
              "pip_warning": {
                "packages": [
                  "_rinterface_cffi_api",
                  "rpy2"
                ]
              }
            }
          },
          "metadata": {}
        },
        {
          "output_type": "stream",
          "name": "stdout",
          "text": [
            "The rpy2.ipython extension is already loaded. To reload it, use:\n",
            "  %reload_ext rpy2.ipython\n"
          ]
        }
      ],
      "source": [
        "!pip uninstall rpy2 -y\n",
        "!pip install rpy2==3.5.1\n",
        "%load_ext rpy2.ipython"
      ]
    },
    {
      "cell_type": "markdown",
      "metadata": {
        "id": "oU-fYLjjsTYl"
      },
      "source": [
        "### Mount Google Drive"
      ]
    },
    {
      "cell_type": "code",
      "execution_count": 4,
      "metadata": {
        "colab": {
          "base_uri": "https://localhost:8080/"
        },
        "id": "TNUeHoQysXrk",
        "outputId": "893f8c70-8dab-4f30-a30c-bcc491b308d8"
      },
      "outputs": [
        {
          "output_type": "stream",
          "name": "stdout",
          "text": [
            "Mounted at /content/drive\n"
          ]
        }
      ],
      "source": [
        "from google.colab import drive\n",
        "drive.mount('/content/drive')"
      ]
    },
    {
      "cell_type": "markdown",
      "metadata": {
        "id": "6ZU4oBq1sapM"
      },
      "source": [
        "### Check and Install Required R Packages"
      ]
    },
    {
      "cell_type": "code",
      "execution_count": null,
      "metadata": {
        "id": "QtSkFthfsbGA"
      },
      "outputs": [],
      "source": [
        "%%R\n",
        "pkg <- c('tidyverse', 'raster', 'rgdal','terra','tidyterra', 'maptools', 'sf', 'classInt',\n",
        "         'RColorBrewer', 'tmap','tmaptools', 'gridExtra', 'devtools', 'data.table', 'gstat','Hmisc','corrplot',\n",
        "         'ggmap','ggpmisc', 'plyr','spatstat','dismo','fields', 'moments', 'car', 'Hmisc')\n",
        "new.packages <- pkg[!(pkg %in% installed.packages(lib='drive/My Drive/R/')[,\"Package\"])]\n",
        "if(length(new.packages)) install.packages(new.packages, lib='drive/My Drive/R/')"
      ]
    },
    {
      "cell_type": "markdown",
      "metadata": {
        "id": "1TfbYB1Fsl_q"
      },
      "source": [
        "### Load R Packages"
      ]
    },
    {
      "cell_type": "code",
      "execution_count": null,
      "metadata": {
        "id": "-rHg-BweskyQ"
      },
      "outputs": [],
      "source": [
        "%%R\n",
        "# set library path\n",
        ".libPaths('drive/My Drive/R')\n",
        "library (tidyverse)\n",
        "library (terra)\n",
        "library (tidyterra)\n",
        "library(raster)\n",
        "library(RColorBrewer)\n",
        "library(RStoolbox)\n",
        "library(gridExtra)\n",
        "library(latticeExtra)\n",
        "library(data.table)\n",
        "library(gstat)\n",
        "library(classInt)\n",
        "library(plyr)\n",
        "library(spatstat)\n",
        "library(dismo)\n",
        "library(fields)\n",
        "library(moments)\n",
        "library(car)\n",
        "library(ggpmisc)\n",
        "library(Hmisc)"
      ]
    },
    {
      "cell_type": "markdown",
      "metadata": {
        "id": "xfYcJY5osuOX"
      },
      "source": [
        "### Data\n",
        "\n",
        "The following data will be used in the exercise that can be found [here](https://github.com/zia207/r-colab/tree/main/Data/Spatial_interpolation).\n",
        "\n",
        "1. train_data.csv\n",
        "\n",
        "2. test_data.csv\n",
        "\n",
        "2. GP_STATE.shp\n",
        "\n",
        "3. GP_prediction_grid_data.csv"
      ]
    },
    {
      "cell_type": "code",
      "execution_count": null,
      "metadata": {
        "id": "pvUSj54es-QU"
      },
      "outputs": [],
      "source": [
        "%%R\n",
        "train<-read_csv('/content/drive/MyDrive/Data/Spatial_Interpolatiom/train_data.csv')\n",
        "test<-read_csv('/content/drive/MyDrive/Data/Spatial_Interpolatiom/test_data.csv')\n",
        "grid<-read_csv('/content/drive/MyDrive/Data/Spatial_Interpolatiom/GP_prediction_grid_data.csv')\n",
        "state<-shapefile(\"/content/drive/MyDrive/Data/Spatial_Interpolatiom/GP_STATE.shp\")"
      ]
    },
    {
      "cell_type": "markdown",
      "metadata": {
        "id": "Mv8rvfMlxIBX"
      },
      "source": [
        "#### Data Transformation\n",
        "\n",
        "First, we have to calculate appropriate transformation parameters using the **powerTransform()** function of the car package and then use this parameter to transform the data using the **bcPower()** function."
      ]
    },
    {
      "cell_type": "code",
      "execution_count": 11,
      "metadata": {
        "colab": {
          "base_uri": "https://localhost:8080/"
        },
        "id": "LJaPTrnJxbFz",
        "outputId": "5feb886f-7b84-4282-a305-e22e621def52"
      },
      "outputs": [
        {
          "output_type": "stream",
          "name": "stdout",
          "text": [
            "Estimated transformation parameter \n",
            "train$SOC \n",
            "0.2987656 \n"
          ]
        }
      ],
      "source": [
        "%%R\n",
        "# train data\n",
        "powerTransform(train$SOC)"
      ]
    },
    {
      "cell_type": "code",
      "execution_count": 12,
      "metadata": {
        "id": "oMYdxctIxhUU"
      },
      "outputs": [],
      "source": [
        "%%R\n",
        "# train data\n",
        "train$SOC.bc<-bcPower(train$SOC, 0.2987656 )"
      ]
    },
    {
      "cell_type": "code",
      "execution_count": 13,
      "metadata": {
        "colab": {
          "base_uri": "https://localhost:8080/"
        },
        "id": "dZNLwi5Hxu7H",
        "outputId": "2cd7ffa2-16f6-42ee-ec75-929adfd54185"
      },
      "outputs": [
        {
          "output_type": "stream",
          "name": "stdout",
          "text": [
            "Estimated transformation parameter \n",
            " test$SOC \n",
            "0.2506294 \n"
          ]
        }
      ],
      "source": [
        "%%R\n",
        "# test data\n",
        "powerTransform(test$SOC)"
      ]
    },
    {
      "cell_type": "code",
      "execution_count": 14,
      "metadata": {
        "id": "wNeXr433x3pp"
      },
      "outputs": [],
      "source": [
        "%%R\n",
        "# train data\n",
        "test$SOC.bc<-bcPower(test$SOC, 0.2506294 )"
      ]
    },
    {
      "cell_type": "markdown",
      "source": [
        "### **Correlation matrix**\n",
        "\n",
        "Before fitting a Co-Kriging model, we must explore the correlation between the target variable (SOC) and other environmental co-variate. Then we will select one variable showing the highest relationship with SOC for Co-kriging."
      ],
      "metadata": {
        "id": "ZrkRGqVqTJnR"
      }
    },
    {
      "cell_type": "code",
      "source": [
        "%%R\n",
        "df.cor <- train[, c(22, 9:17)] %>%\n",
        "glimpse()"
      ],
      "metadata": {
        "colab": {
          "base_uri": "https://localhost:8080/"
        },
        "id": "XqhPMT2S3Hjj",
        "outputId": "335134c6-3c1f-4c44-c8e1-62092228bc9b"
      },
      "execution_count": 22,
      "outputs": [
        {
          "output_type": "stream",
          "name": "stdout",
          "text": [
            "Rows: 368\n",
            "Columns: 10\n",
            "$ SOC.bc    <dbl> 0.3001346, 1.6333919, 1.4744771, 1.9313795, 2.3682870, 2.787…\n",
            "$ ELEV      <dbl> 2192.513, 2328.449, 2357.302, 2261.782, 2404.112, 2514.776, …\n",
            "$ Aspect    <dbl> 174.4923, 219.6880, 173.9527, 222.3785, 183.5729, 165.2028, …\n",
            "$ Slope     <dbl> 8.080985, 10.462741, 8.016197, 4.874323, 6.680480, 6.598982,…\n",
            "$ TPI       <dbl> -0.42157000, 0.55147684, -3.36669755, -1.44094825, 7.7656183…\n",
            "$ K_Factor  <dbl> 0.1391000, 0.1166667, 0.3617000, 0.2486000, 0.0590000, 0.235…\n",
            "$ MAP       <dbl> 442.9940, 508.8982, 415.5840, 410.5008, 568.7746, 530.7138, …\n",
            "$ MAT       <dbl> 9.092950, 7.075253, 8.799050, 8.162200, 6.890750, 7.413800, …\n",
            "$ NDVI      <dbl> 0.3517063, 0.5736231, 0.3411477, 0.3705533, 0.6434158, 0.537…\n",
            "$ Slit_Clay <dbl> 47.33000, 53.33738, 52.75300, 40.66200, 53.73600, 54.59200, …\n"
          ]
        }
      ]
    },
    {
      "cell_type": "code",
      "source": [
        "%%R\n",
        "# Corelation matrix\n",
        "cor.matrix <- rcorr(as.matrix(df.cor))\n",
        "cor.matrix"
      ],
      "metadata": {
        "id": "CVGPpvXmTJ1J",
        "colab": {
          "base_uri": "https://localhost:8080/"
        },
        "outputId": "91d645e0-ce34-433a-84ee-b94688348828"
      },
      "execution_count": 23,
      "outputs": [
        {
          "output_type": "stream",
          "name": "stdout",
          "text": [
            "          SOC.bc  ELEV Aspect Slope   TPI K_Factor   MAP   MAT  NDVI Slit_Clay\n",
            "SOC.bc      1.00  0.14   0.01  0.39  0.08    -0.08  0.52 -0.39  0.64      0.26\n",
            "ELEV        0.14  1.00   0.20  0.71  0.03    -0.58 -0.31 -0.81 -0.06     -0.54\n",
            "Aspect      0.01  0.20   1.00  0.27  0.02    -0.14  0.11 -0.15  0.06     -0.12\n",
            "Slope       0.39  0.71   0.27  1.00  0.03    -0.54  0.14 -0.66  0.33     -0.26\n",
            "TPI         0.08  0.03   0.02  0.03  1.00    -0.08  0.16 -0.04  0.09     -0.04\n",
            "K_Factor   -0.08 -0.58  -0.14 -0.54 -0.08     1.00  0.09  0.40 -0.09      0.59\n",
            "MAP         0.52 -0.31   0.11  0.14  0.16     0.09  1.00  0.05  0.82      0.48\n",
            "MAT        -0.39 -0.81  -0.15 -0.66 -0.04     0.40  0.05  1.00 -0.23      0.31\n",
            "NDVI        0.64 -0.06   0.06  0.33  0.09    -0.09  0.82 -0.23  1.00      0.33\n",
            "Slit_Clay   0.26 -0.54  -0.12 -0.26 -0.04     0.59  0.48  0.31  0.33      1.00\n",
            "\n",
            "n= 368 \n",
            "\n",
            "\n",
            "P\n",
            "          SOC.bc ELEV   Aspect Slope  TPI    K_Factor MAP    MAT    NDVI  \n",
            "SOC.bc           0.0058 0.9153 0.0000 0.1231 0.1192   0.0000 0.0000 0.0000\n",
            "ELEV      0.0058        0.0000 0.0000 0.5560 0.0000   0.0000 0.0000 0.2205\n",
            "Aspect    0.9153 0.0000        0.0000 0.7660 0.0085   0.0391 0.0035 0.2843\n",
            "Slope     0.0000 0.0000 0.0000        0.5057 0.0000   0.0091 0.0000 0.0000\n",
            "TPI       0.1231 0.5560 0.7660 0.5057        0.1205   0.0018 0.4489 0.0770\n",
            "K_Factor  0.1192 0.0000 0.0085 0.0000 0.1205          0.0871 0.0000 0.0865\n",
            "MAP       0.0000 0.0000 0.0391 0.0091 0.0018 0.0871          0.2989 0.0000\n",
            "MAT       0.0000 0.0000 0.0035 0.0000 0.4489 0.0000   0.2989        0.0000\n",
            "NDVI      0.0000 0.2205 0.2843 0.0000 0.0770 0.0865   0.0000 0.0000       \n",
            "Slit_Clay 0.0000 0.0000 0.0175 0.0000 0.4474 0.0000   0.0000 0.0000 0.0000\n",
            "          Slit_Clay\n",
            "SOC.bc    0.0000   \n",
            "ELEV      0.0000   \n",
            "Aspect    0.0175   \n",
            "Slope     0.0000   \n",
            "TPI       0.4474   \n",
            "K_Factor  0.0000   \n",
            "MAP       0.0000   \n",
            "MAT       0.0000   \n",
            "NDVI      0.0000   \n",
            "Slit_Clay          \n"
          ]
        }
      ]
    },
    {
      "cell_type": "markdown",
      "metadata": {
        "id": "7yQd38hKyESo"
      },
      "source": [
        "### Define x & y variables to coordinates"
      ]
    },
    {
      "cell_type": "code",
      "execution_count": 25,
      "metadata": {
        "id": "bvEjUqAeyP7Q"
      },
      "outputs": [],
      "source": [
        "%%R\n",
        "coordinates(train) = ~x+y\n",
        "coordinates(test) = ~x+y\n",
        "coordinates(grid) = ~x+y"
      ]
    },
    {
      "cell_type": "markdown",
      "source": [
        "## **Variogram Modeling of Co-regionalisation or Corss-Varoigram**\n",
        "\n",
        "If you look at the correlation analysis, you'll see that only the NDVI has the strongest correlation with the SOC (r=0.64 with a p=0.001). So, we'll use NDVI as a covariates for CK analysis. First, we will model the spatial structure of the SOC, the NDVI, and its covariance with the target variable (SOC), known as 'co-regionalization.'  It measures the spatial cross-correlation or spatial covariance between these two variables."
      ],
      "metadata": {
        "id": "tZqvokQh5c_5"
      }
    },
    {
      "cell_type": "markdown",
      "source": [
        "### 1. Varoigram of target variable (SOC)"
      ],
      "metadata": {
        "id": "6JqRenGTLhCt"
      }
    },
    {
      "cell_type": "code",
      "execution_count": 30,
      "metadata": {
        "id": "NLhF7hvKykHB"
      },
      "outputs": [],
      "source": [
        "%%R\n",
        "# Variogram\n",
        "v.soc<-variogram(SOC.bc~ 1, data = train, cloud=F)\n",
        "# Intial parameter set by eye esitmation\n",
        "m.soc<-vgm(1.5,\"Exp\",400000,0.5)\n",
        "# least square fit\n",
        "m.f.soc<-fit.variogram(v.soc, m.soc)\n",
        "p1<-plot(v.soc, pl=F, model=m.f.soc, main= \"Varogram of SOC\")"
      ]
    },
    {
      "cell_type": "markdown",
      "source": [
        "### 2. Variogram of Co-Variable (NDVI)"
      ],
      "metadata": {
        "id": "PEezQ7_i7dTT"
      }
    },
    {
      "cell_type": "code",
      "source": [
        "%%R\n",
        "# Variogram\n",
        "v.ndvi<-variogram(NDVI~ 1, data = train, cloud=F)\n",
        "# Intial parameter set by eye esitmation\n",
        "m.ndvi<-vgm(1.5,\"Exp\",40000,0.5)\n",
        "# least square fit\n",
        "m.f.ndvi<-fit.variogram(v.ndvi, m.ndvi)\n",
        "p2<-plot(v.ndvi, pl=F, model=m.f.ndvi, main=\"Variogram of NDVI\")"
      ],
      "metadata": {
        "id": "lTPZMt5p7owI"
      },
      "execution_count": 31,
      "outputs": []
    },
    {
      "cell_type": "code",
      "execution_count": 32,
      "metadata": {
        "colab": {
          "base_uri": "https://localhost:8080/",
          "height": 392
        },
        "id": "aWKDKgOXysLz",
        "outputId": "a9162474-3b77-4201-8d7d-82d957b65b46"
      },
      "outputs": [
        {
          "output_type": "display_data",
          "data": {
            "image/png": "[encoded data removed]"
          },
          "metadata": {}
        }
      ],
      "source": [
        "%%R -w 750 -h 375 -u px\n",
        "grid.arrange(p1, p2, ncol = 2)  # Multiplot\n"
      ]
    },
    {
      "cell_type": "markdown",
      "source": [
        "### 3. Cross-variogram\n",
        "\n",
        "To model Cross-Variogram, we must fit the models to both Direct and cross-varigram simultaneously with the same range but with different partial sill and nuggets.\n",
        "\n",
        "To model Cross-Varoigram, we must build A **gstat**  object sequentially, using **gstat** package. First, we build a **gstat** structure for the target (SOC) and covariates (NDVI). Then, we will fit variogram models to this **gstat** object."
      ],
      "metadata": {
        "id": "YzbFzmHrLt4S"
      }
    },
    {
      "cell_type": "code",
      "source": [
        "%%R\n",
        "g <- gstat(NULL, id = \"SOC\", form = SOC.bc ~ 1, data=train)\n",
        "g <- gstat(g, id = \"NDVI\", form = NDVI ~ 1, data=train)"
      ],
      "metadata": {
        "id": "Wncr-VmQL1nj"
      },
      "execution_count": 33,
      "outputs": []
    },
    {
      "cell_type": "markdown",
      "source": [
        "Display the two direct variograms and one cross-variogram:"
      ],
      "metadata": {
        "id": "xyJLYWjB96Gf"
      }
    },
    {
      "cell_type": "code",
      "source": [
        "%%R -w 600 -h 600 -u px\n",
        "v.cross <- variogram(g)\n",
        "plot(v.cross, pl=F)"
      ],
      "metadata": {
        "colab": {
          "base_uri": "https://localhost:8080/",
          "height": 617
        },
        "id": "Ogu8JqSBMH8N",
        "outputId": "d2d50a46-d05c-4bb2-8a4b-d2e939f745f8"
      },
      "execution_count": 38,
      "outputs": [
        {
          "output_type": "display_data",
          "data": {
            "image/png": "[encoded data removed]"
          },
          "metadata": {}
        }
      ]
    },
    {
      "cell_type": "markdown",
      "source": [
        "### 4. Fit variogram models"
      ],
      "metadata": {
        "id": "UOI7PVibKIdK"
      }
    },
    {
      "cell_type": "markdown",
      "source": [
        "We will add variogram models to the **gstat** object and fit them using the linear model of **co-regionalization**. These conditions are automatically met by fitting all the empirical models with one type model (using the fill. all = T argument)."
      ],
      "metadata": {
        "id": "k4UMJiSF-L38"
      }
    },
    {
      "cell_type": "code",
      "source": [
        "%%R\n",
        "g <- gstat(g, id = \"SOC\", model = m.f.soc, fill.all=T)\n",
        "g"
      ],
      "metadata": {
        "colab": {
          "base_uri": "https://localhost:8080/"
        },
        "id": "zHvo1tu0-xOZ",
        "outputId": "6e9b149a-b990-4c9b-af2e-5a23a21179ad"
      },
      "execution_count": 43,
      "outputs": [
        {
          "output_type": "stream",
          "name": "stdout",
          "text": [
            "data:\n",
            "SOC : formula = SOC.bc`~`1 ; data dim = 368 x 20\n",
            "NDVI : formula = NDVI`~`1 ; data dim = 368 x 20\n",
            "variograms:\n",
            "            model     psill    range\n",
            "SOC[1]        Nug 0.6381999     0.00\n",
            "SOC[2]        Exp 1.1538492 92541.58\n",
            "NDVI[1]       Nug 0.6381999     0.00\n",
            "NDVI[2]       Exp 1.1538492 92541.58\n",
            "SOC.NDVI[1]   Nug 0.6381999     0.00\n",
            "SOC.NDVI[2]   Exp 1.1538492 92541.58\n"
          ]
        }
      ]
    },
    {
      "cell_type": "markdown",
      "source": [
        "Combining the three variograms is necessary to ensure that they result in a co-regionalized positive definite system. To achieve this, the **fit.lmc** method is employed. This method involves the initial estimation, fitting all three variograms, and adjusting each partial sill (i.e., minimum squares) to the nearest value that results in the positive definite matrices."
      ],
      "metadata": {
        "id": "cI9LsImm_jba"
      }
    },
    {
      "cell_type": "code",
      "source": [
        "%%R\n",
        "g <- fit.lmc(v.cross, g,  fit.method=6, correct.diagonal=1.01)\n",
        "g"
      ],
      "metadata": {
        "colab": {
          "base_uri": "https://localhost:8080/"
        },
        "id": "ZgaTaAW2_4bh",
        "outputId": "5b4c3469-0d1b-402a-f5c2-16a0ce9f3e9b"
      },
      "execution_count": 45,
      "outputs": [
        {
          "output_type": "stream",
          "name": "stdout",
          "text": [
            "data:\n",
            "SOC : formula = SOC.bc`~`1 ; data dim = 368 x 20\n",
            "NDVI : formula = NDVI`~`1 ; data dim = 368 x 20\n",
            "variograms:\n",
            "            model        psill    range\n",
            "SOC[1]        Nug  0.574705864     0.00\n",
            "SOC[2]        Exp  1.285550941 92541.58\n",
            "NDVI[1]       Nug  0.001495489     0.00\n",
            "NDVI[2]       Exp  0.021926237 92541.58\n",
            "SOC.NDVI[1]   Nug -0.029026389     0.00\n",
            "SOC.NDVI[2]   Exp  0.153266759 92541.58\n"
          ]
        }
      ]
    },
    {
      "cell_type": "code",
      "source": [
        "%%R -w 600 -h 600 -u px\n",
        "plot(variogram(g), model=g$model)\n"
      ],
      "metadata": {
        "colab": {
          "base_uri": "https://localhost:8080/",
          "height": 617
        },
        "id": "GEWzEny5ADRq",
        "outputId": "a97e5bef-aee8-49d7-b5b7-3f4735ee75ad"
      },
      "execution_count": 46,
      "outputs": [
        {
          "output_type": "display_data",
          "data": {
            "image/png": "[encoded data removed]"
          },
          "metadata": {}
        }
      ]
    },
    {
      "cell_type": "markdown",
      "source": [
        "###  **CK Cross-validation**\n",
        "\n",
        "We have used the **krig.cv()** function for cross-validation of the univariate (OK) case, but for CK, we need to use **gstat.cv()** for the cross-validation of any gstat object. We don’t need to specify a model because it is already stored as part of a gstat object."
      ],
      "metadata": {
        "id": "wlLZ5Zr1DdfN"
      }
    },
    {
      "cell_type": "code",
      "source": [
        "%%R\n",
        "cv.ck <- gstat.cv(g)"
      ],
      "metadata": {
        "id": "g4Hz43e8EvTw"
      },
      "execution_count": null,
      "outputs": []
    },
    {
      "cell_type": "code",
      "source": [
        "%%R\n",
        "summary(cv.ck)"
      ],
      "metadata": {
        "colab": {
          "base_uri": "https://localhost:8080/"
        },
        "id": "PubsuSq7FL-X",
        "outputId": "d463c429-d323-4ce3-e4cf-3c0424f6622a"
      },
      "execution_count": 51,
      "outputs": [
        {
          "output_type": "stream",
          "name": "stdout",
          "text": [
            "Object of class SpatialPointsDataFrame\n",
            "Coordinates:\n",
            "       min        max\n",
            "x -1246454   95251.19\n",
            "y  1019863 2526240.55\n",
            "Is projected: NA \n",
            "proj4string : [NA]\n",
            "Number of points: 368\n",
            "Data attributes:\n",
            "    SOC.pred          SOC.var          observed         residual       \n",
            " Min.   :-0.2914   Min.   :0.6058   Min.   :-2.922   Min.   :-3.35379  \n",
            " 1st Qu.: 1.5254   1st Qu.:0.9454   1st Qu.: 1.241   1st Qu.:-0.62346  \n",
            " Median : 2.0433   Median :0.9933   Median : 2.074   Median :-0.07180  \n",
            " Mean   : 2.1260   Mean   :0.9825   Mean   : 2.126   Mean   : 0.00001  \n",
            " 3rd Qu.: 2.9066   3rd Qu.:1.0390   3rd Qu.: 3.062   3rd Qu.: 0.62582  \n",
            " Max.   : 4.0520   Max.   :1.1663   Max.   : 5.943   Max.   : 2.88058  \n",
            "     zscore               fold       \n",
            " Min.   :-3.403745   Min.   :  1.00  \n",
            " 1st Qu.:-0.626543   1st Qu.: 92.75  \n",
            " Median :-0.072627   Median :184.50  \n",
            " Mean   :-0.000026   Mean   :184.50  \n",
            " 3rd Qu.: 0.630739   3rd Qu.:276.25  \n",
            " Max.   : 2.879417   Max.   :368.00  \n"
          ]
        }
      ]
    },
    {
      "cell_type": "code",
      "source": [
        "%%R\n",
        "# ME\n",
        "mean(cv.ck$residual)\n",
        "# RMAE\n",
        "RMSE<-sqrt(mean(cv.ck$residual^2))\n",
        "RMSE\n"
      ],
      "metadata": {
        "colab": {
          "base_uri": "https://localhost:8080/"
        },
        "id": "NJi07kWiFheV",
        "outputId": "0188df81-7574-432e-e09a-2951afe0dbca"
      },
      "execution_count": 52,
      "outputs": [
        {
          "output_type": "stream",
          "name": "stdout",
          "text": [
            "[1] 1.029674\n"
          ]
        }
      ]
    },
    {
      "cell_type": "markdown",
      "metadata": {
        "id": "EHqngme561C6"
      },
      "source": [
        "### **CK validation with an test data set**\n",
        "\n",
        "**Krige()** function is only valid for univariate Kriging. In this case, we need to use the **predict()** function. The first argument to this function is the gstat object and the second argument is the prediction point data frame."
      ]
    },
    {
      "cell_type": "code",
      "execution_count": 53,
      "metadata": {
        "colab": {
          "base_uri": "https://localhost:8080/"
        },
        "id": "CieukBjN7B1o",
        "outputId": "2a62e1ef-64b7-4fa4-88b5-c04eba9b1ec5"
      },
      "outputs": [
        {
          "output_type": "stream",
          "name": "stdout",
          "text": [
            "Linear Model of Coregionalization found. Good.\n",
            "[using ordinary cokriging]\n",
            "Object of class SpatialPointsDataFrame\n",
            "Coordinates:\n",
            "       min        max\n",
            "x -1186067   70606.76\n",
            "y  1038971 2502087.41\n",
            "Is projected: NA \n",
            "proj4string : [NA]\n",
            "Number of points: 101\n",
            "Data attributes:\n",
            "    SOC.pred         SOC.var         NDVI.pred         NDVI.var       \n",
            " Min.   :0.3963   Min.   :0.7795   Min.   :0.1896   Min.   :0.004164  \n",
            " 1st Qu.:1.3431   1st Qu.:0.9621   1st Qu.:0.3215   1st Qu.:0.007364  \n",
            " Median :1.9011   Median :1.0503   Median :0.4086   Median :0.009020  \n",
            " Mean   :2.0496   Mean   :1.0522   Mean   :0.4253   Mean   :0.009028  \n",
            " 3rd Qu.:2.6242   3rd Qu.:1.1356   3rd Qu.:0.5167   3rd Qu.:0.010506  \n",
            " Max.   :3.9264   Max.   :1.4403   Max.   :0.7349   Max.   :0.015872  \n",
            "  cov.SOC.NDVI     \n",
            " Min.   :-0.01446  \n",
            " 1st Qu.: 0.00849  \n",
            " Median : 0.02105  \n",
            " Mean   : 0.02072  \n",
            " 3rd Qu.: 0.03170  \n",
            " Max.   : 0.06964  \n"
          ]
        }
      ],
      "source": [
        "%%R\n",
        "CK.test <- predict(g, test)\n",
        "summary(CK.test)"
      ]
    },
    {
      "cell_type": "code",
      "source": [
        "%%R\n",
        "# compute residuls\n",
        "test$residual <- CK.test$SOC.pred  - test$SOC.bc\n",
        "test$SOC.pred <- CK.test$SOC.pred"
      ],
      "metadata": {
        "id": "deGwJLjeGsvj"
      },
      "execution_count": 57,
      "outputs": []
    },
    {
      "cell_type": "code",
      "execution_count": 58,
      "metadata": {
        "colab": {
          "base_uri": "https://localhost:8080/"
        },
        "id": "tKMh4pur7wLL",
        "outputId": "7b3ee81f-4af6-43a6-ab5f-243d9aedc04a"
      },
      "outputs": [
        {
          "output_type": "stream",
          "name": "stdout",
          "text": [
            "[1] 1.03\n"
          ]
        }
      ],
      "source": [
        "%%R\n",
        "# Mean Error (ME)\n",
        "ME<-round(mean(test$residual),3)\n",
        "# Mean Absolute Error\n",
        "MAE<-round(mean(abs(test$residual)),3)\n",
        "# Root Mean Squre Error (RMSE)\n",
        "RMSE<-round(sqrt(mean(test$residual^2)),3)\n",
        "# Mean Squared Deviation Ratio (MSDR)\n",
        "MSDR<-mean(test$residual^2/test$SOC.var)\n",
        "RMSE"
      ]
    },
    {
      "cell_type": "code",
      "execution_count": 60,
      "metadata": {
        "colab": {
          "base_uri": "https://localhost:8080/",
          "height": 434
        },
        "id": "uOU1YwjK73g3",
        "outputId": "dd5953d0-7a6c-4429-8f17-07650a5cf566"
      },
      "outputs": [
        {
          "output_type": "stream",
          "name": "stdout",
          "text": [
            "`geom_smooth()` using formula = 'y ~ x'\n"
          ]
        },
        {
          "output_type": "display_data",
          "data": {
            "image/png": "[encoded data removed]"
          },
          "metadata": {}
        }
      ],
      "source": [
        "%%R -w 400 -h 400 -u px\n",
        "\n",
        "test.df<-as.data.frame(test)\n",
        "\n",
        "formula<-y~x\n",
        "\n",
        "ggplot(test.df, aes(SOC.bc,SOC.pred)) +\n",
        "  geom_point() +\n",
        "  geom_smooth(method = \"lm\")+\n",
        "  stat_poly_eq(use_label(c(\"eq\", \"adj.R2\")), formula = formula) +\n",
        "  ggtitle(\"CK Predicted vs Observed BoxCox-SOC at Test locations\") +\n",
        "  xlab(\"Observed\") + ylab(\"Predicted\") +\n",
        "  scale_x_continuous(limits=c(0,6), breaks=seq(0, 6, 1))+\n",
        "  scale_y_continuous(limits=c(0,6), breaks=seq(0, 6, 1)) +\n",
        "  theme(\n",
        "    panel.background = element_rect(fill = \"grey95\",colour = \"gray75\",size = 0.5, linetype = \"solid\"),\n",
        "    axis.line = element_line(colour = \"grey\"),\n",
        "    plot.title = element_text(size = 14, hjust = 0.5),\n",
        "    axis.title.x = element_text(size = 14),\n",
        "    axis.title.y = element_text(size = 14),\n",
        "    axis.text.x=element_text(size=13, colour=\"black\"),\n",
        "    axis.text.y=element_text(size=13,angle = 90,vjust = 0.5, hjust=0.5, colour='black'))"
      ]
    },
    {
      "cell_type": "markdown",
      "metadata": {
        "id": "XBbIXPJG5eLB"
      },
      "source": [
        "### **Co-Kriging prediction at grid locations**\n",
        "\n",
        "**Krige()** function is only valid for univariate Kriging. In this case, we need to use the **predict()** function. The first argument to this function is the gstat object and the second argument is the prediction point data frame."
      ]
    },
    {
      "cell_type": "code",
      "execution_count": 61,
      "metadata": {
        "colab": {
          "base_uri": "https://localhost:8080/"
        },
        "id": "bvUrzxF158V-",
        "outputId": "ddc46144-9134-4e3a-a0b1-dd5426f22fb0"
      },
      "outputs": [
        {
          "output_type": "stream",
          "name": "stdout",
          "text": [
            "Linear Model of Coregionalization found. Good.\n",
            "[using ordinary cokriging]\n"
          ]
        }
      ],
      "source": [
        "%%R\n",
        "CK <- predict(g, grid)"
      ]
    },
    {
      "cell_type": "code",
      "source": [
        "%%R\n",
        "summary(CK)"
      ],
      "metadata": {
        "colab": {
          "base_uri": "https://localhost:8080/"
        },
        "id": "vqF6wT-yIprc",
        "outputId": "e9f266c0-afe4-4fbf-dbe3-e4d55633be4d"
      },
      "execution_count": 62,
      "outputs": [
        {
          "output_type": "stream",
          "name": "stdout",
          "text": [
            "Object of class SpatialPointsDataFrame\n",
            "Coordinates:\n",
            "       min     max\n",
            "x -1245285  114715\n",
            "y  1003795 2533795\n",
            "Is projected: NA \n",
            "proj4string : [NA]\n",
            "Number of points: 10674\n",
            "Data attributes:\n",
            "    SOC.pred          SOC.var         NDVI.pred         NDVI.var       \n",
            " Min.   :-0.7209   Min.   :0.6478   Min.   :0.1355   Min.   :0.001725  \n",
            " 1st Qu.: 1.2651   1st Qu.:0.9130   1st Qu.:0.3061   1st Qu.:0.006549  \n",
            " Median : 1.9124   Median :1.0174   Median :0.4057   Median :0.008412  \n",
            " Mean   : 1.9804   Mean   :1.0380   Mean   :0.4157   Mean   :0.008767  \n",
            " 3rd Qu.: 2.6616   3rd Qu.:1.1354   3rd Qu.:0.5093   3rd Qu.:0.010521  \n",
            " Max.   : 4.6013   Max.   :1.6712   Max.   :0.7893   Max.   :0.019998  \n",
            "  cov.SOC.NDVI      \n",
            " Min.   :-0.032279  \n",
            " 1st Qu.: 0.002888  \n",
            " Median : 0.016347  \n",
            " Mean   : 0.018803  \n",
            " 3rd Qu.: 0.031461  \n",
            " Max.   : 0.099355  \n"
          ]
        }
      ]
    },
    {
      "cell_type": "markdown",
      "source": [
        "### Back transformation"
      ],
      "metadata": {
        "id": "l6Of97cEN_nV"
      }
    },
    {
      "cell_type": "code",
      "execution_count": 66,
      "metadata": {
        "id": "GURw4kzo6JIA"
      },
      "outputs": [],
      "source": [
        "%%R\n",
        "# Back transformation\n",
        "k1<-1/0.2987656\n",
        "CK$CK.pred <-((CK$SOC.pred *0.2987656+1)^k1)\n",
        "CK$CK.var <-((CK$SOC.var *0.2987656+1)^k1)\n"
      ]
    },
    {
      "cell_type": "code",
      "execution_count": 67,
      "metadata": {
        "colab": {
          "base_uri": "https://localhost:8080/",
          "height": 417
        },
        "id": "1PkOzOUS6eD3",
        "outputId": "f31b7249-0da6-4334-f799-d8a3d8aa4065"
      },
      "outputs": [
        {
          "output_type": "display_data",
          "data": {
            "image/png": "[encoded data removed]"
          },
          "metadata": {}
        }
      ],
      "source": [
        "%%R -w 700 -h 400 -u px\n",
        "\n",
        "CK.pred<-rasterFromXYZ(as.data.frame(CK)[, c(\"x\", \"y\", \"CK.pred\")])\n",
        "CK.var<-rasterFromXYZ(as.data.frame(CK)[, c(\"x\", \"y\", \"CK.var\")])\n",
        "\n",
        "# Predicted SOC\n",
        "p3<-ggR(CK.pred, geom_raster = TRUE) +\n",
        "scale_fill_gradientn(\"SOC\", colours = c(\"orange\", \"yellow\", \"green\",  \"sky blue\",\"blue\"))+\n",
        "  theme_bw()+\n",
        "    theme(axis.title.x=element_blank(),\n",
        "        axis.text.x=element_blank(),\n",
        "        axis.ticks.x=element_blank(),\n",
        "        axis.title.y=element_blank(),\n",
        "        axis.text.y=element_blank(),\n",
        "        axis.ticks.y=element_blank())+\n",
        "   ggtitle(\"CK Predicted SOC\")+\n",
        "   theme(plot.title = element_text(hjust = 0.5))\n",
        "\n",
        "# Error\n",
        "p4<-ggR(CK.var, geom_raster = TRUE) +\n",
        "scale_fill_gradientn(\"SOC\", colours = c(\"orange\", \"yellow\", \"green\",  \"sky blue\",\"blue\"))+\n",
        "  theme_bw()+\n",
        "    theme(axis.title.x=element_blank(),\n",
        "        axis.text.x=element_blank(),\n",
        "        axis.ticks.x=element_blank(),\n",
        "        axis.title.y=element_blank(),\n",
        "        axis.text.y=element_blank(),\n",
        "        axis.ticks.y=element_blank())+\n",
        "   ggtitle(\"CK Variance of SOC\")+\n",
        "   theme(plot.title = element_text(hjust = 0.5))\n",
        "\n",
        "grid.arrange(p3,p4, ncol = 2)  # Multiplot"
      ]
    },
    {
      "cell_type": "markdown",
      "metadata": {
        "id": "y3TgekWf8XE3"
      },
      "source": [
        "### Further Reading\n",
        "\n",
        "1. [Understanding cokriging](https://desktop.arcgis.com/en/arcmap/latest/extensions/geostatistical-analyst/understanding-cokriging.htm)\n",
        "\n",
        "2. [Co-kriging with the gstat package](https://www.css.cornell.edu/faculty/dgr2/_static/files/R_PDF/CoKrigeR.pdf)\n",
        "\n",
        "3. [Cokriging with Unequally Sampled Data](https://geostatisticslessons.com/lessons/cokrigingunequal)"
      ]
    }
  ],
  "metadata": {
    "colab": {
      "provenance": [],
      "authorship_tag": "ABX9TyMm4Mw26Z9Cj3+G1j5qNcX4",
      "include_colab_link": true
    },
    "kernelspec": {
      "display_name": "Python 3",
      "name": "python3"
    },
    "language_info": {
      "name": "python"
    }
  },
  "nbformat": 4,
  "nbformat_minor": 0
}