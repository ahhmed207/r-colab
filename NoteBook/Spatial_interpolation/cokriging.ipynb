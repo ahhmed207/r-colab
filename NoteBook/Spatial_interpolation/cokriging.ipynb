{
  "cells": [
    {
      "cell_type": "markdown",
      "metadata": {
        "id": "view-in-github",
        "colab_type": "text"
      },
      "source": [
        "<a href=\"https://colab.research.google.com/github/zia207/r-colab/blob/main/NoteBook/Spatial_interpolation/cokriging.ipynb\" target=\"_parent\"><img src=\"https://colab.research.google.com/assets/colab-badge.svg\" alt=\"Open In Colab\"/></a>"
      ]
    },
    {
      "cell_type": "markdown",
      "metadata": {
        "id": "VwdkYOf2qiYy"
      },
      "source": [
        "# **Co-kriging in R**\n",
        "\n",
        "Zia Ahmed, Unversity Buffalo"
      ]
    },
    {
      "cell_type": "markdown",
      "metadata": {
        "id": "bLY9PGR7rLMn"
      },
      "source": [
        "Co-Kriging (CK),  also known as Co-estimation or Co-regionalization, is a geostatistical technique that involves the addition of other observed variables (commonly referred to as co-variates, which are often related to the variables of interest) to enhance the accuracy of the kriging of the variables of interest. It is particularly valuable when you have two or more interrelated variables that exhibit spatial dependence, and you want to leverage the information from one variable to improve the estimation of another variable. Unlike regression and universal kriging, Co-Kriging does not require that the secondary information is available at all prediction locations. The co-variable may be measured at the same points as the target (co-located samples), at other points, or both.\n",
        "\n",
        "\n",
        "Here's a detailed explanation of Co-Kriging:\n",
        "\n",
        "**Components of Co-Kriging:**\n",
        "\n",
        "1. **Primary Variable (Z1):** This is the variable of primary interest, and you want to estimate its values at unsampled locations.\n",
        "\n",
        "2. **Secondary Variable(s) (Z2, Z3, ...):** These are one or more secondary variables that are measured at the same spatial locations as the primary variable. The secondary variables are used to provide additional information that can improve the estimation of the primary variable.\n",
        "\n",
        "**The Co-Kriging Process:**\n",
        "\n",
        "Co-Kriging extends the principles of Kriging to estimate the primary variable while taking into account the spatial relationships between the primary and secondary variables. The Co-Kriging estimation equation can be expressed as:\n",
        "\n",
        "Z1(u) = μ1 + λ1 * [Z2(u) - μ2] + λ2 * [Z3(u) - μ3] + ...\n",
        "\n",
        "Where:\n",
        "- Z1(u) is the estimated value of the primary variable at the unsampled location u.\n",
        "- μ1 is the global mean of the primary variable (Z1).\n",
        "- λ1, λ2, ... are the kriging weights assigned to the secondary variables (Z2, Z3, ...) at location u.\n",
        "- μ2, μ3, ... are the global means of the secondary variables (Z2, Z3, ...).\n",
        "\n",
        "**The Co-Kriging Variance:**\n",
        "\n",
        "Just like in traditional Kriging, Co-Kriging provides a kriging variance, which quantifies the uncertainty associated with the estimate of the primary variable at each unsampled location. Smaller kriging variances indicate more reliable estimates.\n",
        "\n",
        "**Steps in Co-Kriging:**\n",
        "\n",
        "1. **Data Preparation:** You start with a dataset that includes measurements of multiple variables (both primary and secondary) at various spatial locations.\n",
        "\n",
        "2. **Variogram Analysis:** Calculate and model variograms for all variables involved. Variograms are used to quantify the spatial autocorrelation or spatial dependence of each variable.\n",
        "\n",
        "3. **Cross-Variograms:** Calculate cross-variograms to quantify the spatial cross-correlation between the primary variable and each of the secondary variables. These cross-variograms help establish the relationships between the variables.  The cross-variogram is calculated to understand how changes in the secondary variable(s) relate to changes in the primary variable at different distances and directions.\n",
        "\n",
        "4. **Kriging Weights:** Determine the kriging weights for each variable, including the primary and secondary variables, using the cross-variograms and variograms. The weights are chosen to minimize the estimation error variance while ensuring the unbiasedness of the estimator.\n",
        "\n",
        "5. **Estimation:** Use the kriging weights to estimate the values of the primary variable at unsampled locations, while taking into account the information from the secondary variables.\n",
        "\n",
        "6. **Model Validation:** Validate the Co-Kriging model, including the adequacy of variogram models and the spatial relationships between variables.\n",
        "\n",
        "Co-Kriging is a powerful technique for improving the accuracy of spatial predictions when you have multiple correlated variables. It is used in various fields such as geology, environmental science, hydrogeology, and agriculture, where understanding the relationship between variables is essential for informed decision-making and accurate predictions."
      ]
    },
    {
      "cell_type": "markdown",
      "metadata": {
        "id": "kIYOSB7fsF8V"
      },
      "source": [
        "### Install rpy2"
      ]
    },
    {
      "cell_type": "code",
      "execution_count": 1,
      "metadata": {
        "colab": {
          "base_uri": "https://localhost:8080/"
        },
        "id": "b-MpcXyTqSZ6",
        "outputId": "6c5f1f77-4c94-4050-e983-177bb916b707"
      },
      "outputs": [
        {
          "output_type": "stream",
          "name": "stdout",
          "text": [
            "Found existing installation: rpy2 3.4.2\n",
            "Uninstalling rpy2-3.4.2:\n",
            "  Successfully uninstalled rpy2-3.4.2\n",
            "Collecting rpy2==3.5.1\n",
            "  Downloading rpy2-3.5.1.tar.gz (201 kB)\n",
            "\u001b[2K     \u001b[90m━━━━━━━━━━━━━━━━━━━━━━━━━━━━━━━━━━━━━━━━\u001b[0m \u001b[32m201.7/201.7 kB\u001b[0m \u001b[31m3.9 MB/s\u001b[0m eta \u001b[36m0:00:00\u001b[0m\n",
            "\u001b[?25h  Preparing metadata (setup.py) ... \u001b[?25l\u001b[?25hdone\n",
            "Requirement already satisfied: cffi>=1.10.0 in /usr/local/lib/python3.10/dist-packages (from rpy2==3.5.1) (1.16.0)\n",
            "Requirement already satisfied: jinja2 in /usr/local/lib/python3.10/dist-packages (from rpy2==3.5.1) (3.1.2)\n",
            "Requirement already satisfied: pytz in /usr/local/lib/python3.10/dist-packages (from rpy2==3.5.1) (2023.3.post1)\n",
            "Requirement already satisfied: tzlocal in /usr/local/lib/python3.10/dist-packages (from rpy2==3.5.1) (5.1)\n",
            "Requirement already satisfied: pycparser in /usr/local/lib/python3.10/dist-packages (from cffi>=1.10.0->rpy2==3.5.1) (2.21)\n",
            "Requirement already satisfied: MarkupSafe>=2.0 in /usr/local/lib/python3.10/dist-packages (from jinja2->rpy2==3.5.1) (2.1.3)\n",
            "Building wheels for collected packages: rpy2\n",
            "  Building wheel for rpy2 (setup.py) ... \u001b[?25l\u001b[?25hdone\n",
            "  Created wheel for rpy2: filename=rpy2-3.5.1-cp310-cp310-linux_x86_64.whl size=314929 sha256=1ad6df62655dc8e0672d00e3c3ab72fd62f7872e4e2aa758388f9de08371bcf5\n",
            "  Stored in directory: /root/.cache/pip/wheels/73/a6/ff/4e75dd1ce1cfa2b9a670cbccf6a1e41c553199e9b25f05d953\n",
            "Successfully built rpy2\n",
            "Installing collected packages: rpy2\n",
            "Successfully installed rpy2-3.5.1\n"
          ]
        }
      ],
      "source": [
        "!pip uninstall rpy2 -y\n",
        "!pip install rpy2==3.5.1\n",
        "%load_ext rpy2.ipython"
      ]
    },
    {
      "cell_type": "markdown",
      "metadata": {
        "id": "oU-fYLjjsTYl"
      },
      "source": [
        "### Mount Google Drive"
      ]
    },
    {
      "cell_type": "code",
      "execution_count": 2,
      "metadata": {
        "colab": {
          "base_uri": "https://localhost:8080/"
        },
        "id": "TNUeHoQysXrk",
        "outputId": "5673fd22-fde7-448b-822f-bcbc5f79871b"
      },
      "outputs": [
        {
          "output_type": "stream",
          "name": "stdout",
          "text": [
            "Mounted at /content/drive\n"
          ]
        }
      ],
      "source": [
        "from google.colab import drive\n",
        "drive.mount('/content/drive')"
      ]
    },
    {
      "cell_type": "markdown",
      "metadata": {
        "id": "6ZU4oBq1sapM"
      },
      "source": [
        "### Check and Install Required R Packages"
      ]
    },
    {
      "cell_type": "code",
      "execution_count": null,
      "metadata": {
        "id": "QtSkFthfsbGA"
      },
      "outputs": [],
      "source": [
        "%%R\n",
        "pkg <- c('tidyverse', 'tidymodels', 'raster', 'rgdal','terra','tidyterra', 'maptools', 'sf', 'classInt',\n",
        "         'RColorBrewer', 'tmap','tmaptools', 'gridExtra', 'devtools', 'data.table', 'gstat','Hmisc','corrplot',\n",
        "         'ggmap','ggpmisc', 'plyr','spatstat','dismo','fields', 'moments', 'car', 'Hmisc')\n",
        "new.packages <- pkg[!(pkg %in% installed.packages(lib='drive/My Drive/R/')[,\"Package\"])]\n",
        "if(length(new.packages)) install.packages(new.packages, lib='drive/My Drive/R/')"
      ]
    },
    {
      "cell_type": "markdown",
      "metadata": {
        "id": "1TfbYB1Fsl_q"
      },
      "source": [
        "### Load R Packages"
      ]
    },
    {
      "cell_type": "code",
      "execution_count": null,
      "metadata": {
        "id": "-rHg-BweskyQ"
      },
      "outputs": [],
      "source": [
        "%%R\n",
        "# set library path\n",
        ".libPaths('drive/My Drive/R')\n",
        "library (tidyverse)\n",
        "library (tidymodels)\n",
        "library (terra)\n",
        "library (tidyterra)\n",
        "library(raster)\n",
        "library(RColorBrewer)\n",
        "library(RStoolbox)\n",
        "library(gridExtra)\n",
        "library(latticeExtra)\n",
        "library(data.table)\n",
        "library(gstat)\n",
        "library(classInt)\n",
        "library(plyr)\n",
        "library(spatstat)\n",
        "library(dismo)\n",
        "library(fields)\n",
        "library(moments)\n",
        "library(car)\n",
        "library(ggpmisc)\n",
        "library(Hmisc)"
      ]
    },
    {
      "cell_type": "markdown",
      "metadata": {
        "id": "xfYcJY5osuOX"
      },
      "source": [
        "### Data\n",
        "\n",
        "The following data will be used in the exercise that can be found in my [Dropbox](https://www.dropbox.com/scl/fo/j7322sbo4gdqv8a2rfqry/h?rlkey=fmlnsu08lut4pxf0s4q1jm44a&dl=0) folder.\n",
        "\n",
        "1. GP_all_data.csv\n",
        "\n",
        "2. GP_prediction_grid_data.csv"
      ]
    },
    {
      "cell_type": "code",
      "execution_count": 9,
      "metadata": {
        "id": "pvUSj54es-QU",
        "colab": {
          "base_uri": "https://localhost:8080/"
        },
        "outputId": "b947db5e-81a1-405e-b8c7-f3f41ce17deb"
      },
      "outputs": [
        {
          "output_type": "stream",
          "name": "stdout",
          "text": [
            "Rows: 471 Columns: 21\n",
            "── Column specification ────────────────────────────────────────────────────────\n",
            "Delimiter: \",\"\n",
            "chr  (4): STATE, COUNTY, NLCD_DES, FRG_DES\n",
            "dbl (17): ID, STATE_ID, FIPS, x, y, SOC, ELEV, Aspect, Slope, TPI, K_Factor,...\n",
            "\n",
            "ℹ Use `spec()` to retrieve the full column specification for this data.\n",
            "ℹ Specify the column types or set `show_col_types = FALSE` to quiet this message.\n",
            "Rows: 10674 Columns: 13\n",
            "── Column specification ────────────────────────────────────────────────────────\n",
            "Delimiter: \",\"\n",
            "dbl (13): x, y, Aspect, ELEV, FRG, K_Factor, MAP, MAT, NDVI, NLCD, Silt_Clay...\n",
            "\n",
            "ℹ Use `spec()` to retrieve the full column specification for this data.\n",
            "ℹ Specify the column types or set `show_col_types = FALSE` to quiet this message.\n"
          ]
        }
      ],
      "source": [
        "%%R\n",
        "mf<-read_csv('/content/drive/MyDrive/R_Website/Spatial_Interpolation/Data/GP_all_data.csv')\n",
        "grid<-read_csv('/content/drive/MyDrive/R_Website/Spatial_Interpolation/Data/GP_prediction_grid_data.csv')"
      ]
    },
    {
      "cell_type": "markdown",
      "metadata": {
        "id": "Mv8rvfMlxIBX"
      },
      "source": [
        "#### Data Transformation\n",
        "\n",
        "First, we have to calculate appropriate transformation parameters using the **powerTransform()** function of the car package and then use this parameter to transform the data using the **bcPower()** function."
      ]
    },
    {
      "cell_type": "code",
      "execution_count": 10,
      "metadata": {
        "colab": {
          "base_uri": "https://localhost:8080/"
        },
        "id": "LJaPTrnJxbFz",
        "outputId": "508b14df-6e28-42e6-c588-a5299f8d9b75"
      },
      "outputs": [
        {
          "output_type": "stream",
          "name": "stdout",
          "text": [
            "   mf$SOC \n",
            "0.2905371 \n"
          ]
        }
      ],
      "source": [
        "%%R\n",
        "power<-powerTransform(mf$SOC)\n",
        "lambda<-power$lambda\n",
        "lambda"
      ]
    },
    {
      "cell_type": "code",
      "execution_count": 11,
      "metadata": {
        "id": "oMYdxctIxhUU"
      },
      "outputs": [],
      "source": [
        "%%R\n",
        "mf$SOC.bc<-bcPower(mf$SOC,lambda)"
      ]
    },
    {
      "cell_type": "code",
      "source": [
        "%%R\n",
        "glimpse(mf)"
      ],
      "metadata": {
        "colab": {
          "base_uri": "https://localhost:8080/"
        },
        "id": "cn7bjfFmo71O",
        "outputId": "70f26be5-111c-485d-af17-f22db566131d"
      },
      "execution_count": 13,
      "outputs": [
        {
          "output_type": "stream",
          "name": "stdout",
          "text": [
            "Rows: 471\n",
            "Columns: 22\n",
            "$ ID        <dbl> 466, 55, 51, 67, 449, 86, 82, 265, 68, 216, 75, 454, 35, 87,…\n",
            "$ STATE_ID  <dbl> 20, 35, 8, 35, 20, 35, 35, 35, 35, 35, 35, 20, 35, 35, 35, 5…\n",
            "$ STATE     <chr> \"Kansas\", \"New Mexico\", \"Colorado\", \"New Mexico\", \"Kansas\", …\n",
            "$ FIPS      <dbl> 20099, 35031, 8033, 35003, 20019, 35003, 35003, 35015, 35017…\n",
            "$ COUNTY    <chr> \"Labette County\", \"McKinley County\", \"Dolores County\", \"Catr…\n",
            "$ x         <dbl> 45935.33, -1137299.01, -1106344.79, -1145173.13, -19769.53, …\n",
            "$ y         <dbl> 1580239, 1446994, 1716869, 1281595, 1552489, 1322861, 123920…\n",
            "$ SOC       <dbl> 7.256, 4.594, 5.995, 11.220, 5.388, 1.619, 3.842, 10.276, 0.…\n",
            "$ ELEV      <dbl> 272.6797, 2261.7820, 2404.1121, 2281.4246, 277.6634, 2317.49…\n",
            "$ Aspect    <dbl> 185.0404, 222.3785, 183.5729, 173.1285, 168.1043, 193.8056, …\n",
            "$ Slope     <dbl> 1.429968, 4.874323, 6.680480, 7.745950, 2.923675, 2.635038, …\n",
            "$ TPI       <dbl> 1.0744587, -1.4409482, 7.7656183, -3.2823703, -0.4226714, -1…\n",
            "$ K_Factor  <dbl> 0.3255294, 0.2486000, 0.0590000, 0.2847475, 0.3750685, 0.249…\n",
            "$ MAP       <dbl> 1099.3408, 410.5008, 568.7746, 391.4978, 1013.7034, 368.2008…\n",
            "$ MAT       <dbl> 13.748117, 8.162200, 6.890750, 8.533788, 14.152466, 8.189600…\n",
            "$ NDVI      <dbl> 0.6943141, 0.3705533, 0.6434158, 0.3530265, 0.7292835, 0.283…\n",
            "$ Silt_Clay <dbl> 77.16470, 40.66200, 53.73600, 46.83738, 62.83973, 38.42100, …\n",
            "$ NLCD      <dbl> 7, 4, 4, 4, 6, 5, 4, 4, 5, 4, 4, 6, 4, 4, 4, 5, 4, 5, 4, 5, …\n",
            "$ FRG       <dbl> 1, 1, 1, 1, 1, 1, 1, 1, 1, 1, 1, 1, 1, 1, 1, 1, 1, 1, 1, 2, …\n",
            "$ NLCD_DES  <chr> \"Planted/Cultivated\", \"Forest\", \"Forest\", \"Forest\", \"Herbace…\n",
            "$ FRG_DES   <chr> \"Fire Regime Group I\", \"Fire Regime Group I\", \"Fire Regime G…\n",
            "$ SOC.bc    <dbl> 2.67966970, 1.91840312, 2.34938476, 3.50610617, 2.17252329, …\n"
          ]
        }
      ]
    },
    {
      "cell_type": "markdown",
      "source": [
        "### **Correlation matrix**\n",
        "\n",
        "Before fitting a Co-Kriging model, we must explore the correlation between the target variable (SOC) and other environmental co-variate. Then we will select one variable showing the highest relationship with SOC for Co-kriging."
      ],
      "metadata": {
        "id": "ZrkRGqVqTJnR"
      }
    },
    {
      "cell_type": "code",
      "source": [
        "%%R\n",
        "df.cor <- mf[, c(22, 9:17)] %>%\n",
        "glimpse()"
      ],
      "metadata": {
        "colab": {
          "base_uri": "https://localhost:8080/"
        },
        "id": "XqhPMT2S3Hjj",
        "outputId": "17ad4d2e-e60c-48d3-eae6-4ab7ba3ead15"
      },
      "execution_count": 14,
      "outputs": [
        {
          "output_type": "stream",
          "name": "stdout",
          "text": [
            "Rows: 471\n",
            "Columns: 10\n",
            "$ SOC.bc    <dbl> 2.67966970, 1.91840312, 2.34938476, 3.50610617, 2.17252329, …\n",
            "$ ELEV      <dbl> 272.6797, 2261.7820, 2404.1121, 2281.4246, 277.6634, 2317.49…\n",
            "$ Aspect    <dbl> 185.0404, 222.3785, 183.5729, 173.1285, 168.1043, 193.8056, …\n",
            "$ Slope     <dbl> 1.429968, 4.874323, 6.680480, 7.745950, 2.923675, 2.635038, …\n",
            "$ TPI       <dbl> 1.0744587, -1.4409482, 7.7656183, -3.2823703, -0.4226714, -1…\n",
            "$ K_Factor  <dbl> 0.3255294, 0.2486000, 0.0590000, 0.2847475, 0.3750685, 0.249…\n",
            "$ MAP       <dbl> 1099.3408, 410.5008, 568.7746, 391.4978, 1013.7034, 368.2008…\n",
            "$ MAT       <dbl> 13.748117, 8.162200, 6.890750, 8.533788, 14.152466, 8.189600…\n",
            "$ NDVI      <dbl> 0.6943141, 0.3705533, 0.6434158, 0.3530265, 0.7292835, 0.283…\n",
            "$ Silt_Clay <dbl> 77.16470, 40.66200, 53.73600, 46.83738, 62.83973, 38.42100, …\n"
          ]
        }
      ]
    },
    {
      "cell_type": "code",
      "source": [
        "%%R\n",
        "# Corelation matrix\n",
        "cor.matrix <- rcorr(as.matrix(df.cor))\n",
        "cor.matrix"
      ],
      "metadata": {
        "id": "CVGPpvXmTJ1J",
        "colab": {
          "base_uri": "https://localhost:8080/"
        },
        "outputId": "6278e5e8-58d7-40d7-9036-a6ef5141973f"
      },
      "execution_count": 15,
      "outputs": [
        {
          "output_type": "stream",
          "name": "stdout",
          "text": [
            "          SOC.bc  ELEV Aspect Slope   TPI K_Factor   MAP   MAT  NDVI Silt_Clay\n",
            "SOC.bc      1.00  0.11   0.07  0.36  0.04    -0.05  0.53 -0.34  0.63      0.29\n",
            "ELEV        0.11  1.00   0.22  0.70  0.00    -0.56 -0.31 -0.81 -0.07     -0.50\n",
            "Aspect      0.07  0.22   1.00  0.28  0.01    -0.12  0.13 -0.19  0.10     -0.08\n",
            "Slope       0.36  0.70   0.28  1.00 -0.01    -0.51  0.15 -0.64  0.31     -0.21\n",
            "TPI         0.04  0.00   0.01 -0.01  1.00    -0.03  0.15  0.01  0.08     -0.02\n",
            "K_Factor   -0.05 -0.56  -0.12 -0.51 -0.03     1.00  0.10  0.37 -0.07      0.59\n",
            "MAP         0.53 -0.31   0.13  0.15  0.15     0.10  1.00  0.06  0.81      0.47\n",
            "MAT        -0.34 -0.81  -0.19 -0.64  0.01     0.37  0.06  1.00 -0.21      0.29\n",
            "NDVI        0.63 -0.07   0.10  0.31  0.08    -0.07  0.81 -0.21  1.00      0.32\n",
            "Silt_Clay   0.29 -0.50  -0.08 -0.21 -0.02     0.59  0.47  0.29  0.32      1.00\n",
            "\n",
            "n= 471 \n",
            "\n",
            "\n",
            "P\n",
            "          SOC.bc ELEV   Aspect Slope  TPI    K_Factor MAP    MAT    NDVI  \n",
            "SOC.bc           0.0141 0.1355 0.0000 0.3490 0.2981   0.0000 0.0000 0.0000\n",
            "ELEV      0.0141        0.0000 0.0000 0.9422 0.0000   0.0000 0.0000 0.1445\n",
            "Aspect    0.1355 0.0000        0.0000 0.8037 0.0093   0.0034 0.0000 0.0342\n",
            "Slope     0.0000 0.0000 0.0000        0.7859 0.0000   0.0014 0.0000 0.0000\n",
            "TPI       0.3490 0.9422 0.8037 0.7859        0.4796   0.0013 0.8871 0.1033\n",
            "K_Factor  0.2981 0.0000 0.0093 0.0000 0.4796          0.0282 0.0000 0.1092\n",
            "MAP       0.0000 0.0000 0.0034 0.0014 0.0013 0.0282          0.1912 0.0000\n",
            "MAT       0.0000 0.0000 0.0000 0.0000 0.8871 0.0000   0.1912        0.0000\n",
            "NDVI      0.0000 0.1445 0.0342 0.0000 0.1033 0.1092   0.0000 0.0000       \n",
            "Silt_Clay 0.0000 0.0000 0.0673 0.0000 0.6182 0.0000   0.0000 0.0000 0.0000\n",
            "          Silt_Clay\n",
            "SOC.bc    0.0000   \n",
            "ELEV      0.0000   \n",
            "Aspect    0.0673   \n",
            "Slope     0.0000   \n",
            "TPI       0.6182   \n",
            "K_Factor  0.0000   \n",
            "MAP       0.0000   \n",
            "MAT       0.0000   \n",
            "NDVI      0.0000   \n",
            "Silt_Clay          \n"
          ]
        }
      ]
    },
    {
      "cell_type": "markdown",
      "source": [
        "### Data Split"
      ],
      "metadata": {
        "id": "NxTwwPr_pe6q"
      }
    },
    {
      "cell_type": "code",
      "source": [
        "%%R\n",
        "# Split data\n",
        "set.seed(1245)   # for reproducibility\n",
        "split <- initial_split(mf, prop = 0.8, strata = SOC.bc)\n",
        "train <- split %>% training()\n",
        "test <-  split %>% testing()"
      ],
      "metadata": {
        "id": "KGjrrS6NpfGq"
      },
      "execution_count": 16,
      "outputs": []
    },
    {
      "cell_type": "code",
      "source": [
        "%%R\n",
        "df.xy<-mf %>% dplyr::select(x, y, SOC, SOC.bc, NDVI)\n",
        "train.xy<-train %>% dplyr::select(x, y, SOC, SOC.bc, NDVI)\n",
        "test.xy<-test %>% dplyr::select(x, y, SOC, SOC.bc, NDVI)\n",
        "grid.xy<-grid %>% dplyr::select(x,y)"
      ],
      "metadata": {
        "id": "m7E6pWrrprNN"
      },
      "execution_count": 17,
      "outputs": []
    },
    {
      "cell_type": "markdown",
      "metadata": {
        "id": "7yQd38hKyESo"
      },
      "source": [
        "### Define x & y variables to coordinates"
      ]
    },
    {
      "cell_type": "code",
      "execution_count": 18,
      "metadata": {
        "id": "bvEjUqAeyP7Q"
      },
      "outputs": [],
      "source": [
        "%%R\n",
        "coordinates(train.xy) = ~x+y\n",
        "coordinates(test.xy) = ~x+y\n",
        "coordinates(grid.xy) = ~x+y"
      ]
    },
    {
      "cell_type": "markdown",
      "source": [
        "## **Variogram Modeling of Co-regionalisation or Corss-Varoigram**\n",
        "\n",
        "If you look at the correlation analysis, you'll see that only the NDVI has the strongest correlation with the SOC (r=0.64 with a p=0.001). So, we'll use NDVI as a covariates for CK analysis. First, we will model the spatial structure of the SOC, the NDVI, and its covariance with the target variable (SOC), known as 'co-regionalization.'  It measures the spatial cross-correlation or spatial covariance between these two variables."
      ],
      "metadata": {
        "id": "tZqvokQh5c_5"
      }
    },
    {
      "cell_type": "markdown",
      "source": [
        "### 1. Varoigram of target variable (SOC)"
      ],
      "metadata": {
        "id": "6JqRenGTLhCt"
      }
    },
    {
      "cell_type": "code",
      "execution_count": 19,
      "metadata": {
        "id": "NLhF7hvKykHB"
      },
      "outputs": [],
      "source": [
        "%%R\n",
        "# Variogram\n",
        "v.soc<-variogram(SOC.bc~ 1, data = train.xy, cloud=F)\n",
        "# Intial parameter set by eye esitmation\n",
        "m.soc<-vgm(1.5,\"Exp\",400000,0.5)\n",
        "# least square fit\n",
        "m.f.soc<-fit.variogram(v.soc, m.soc)\n",
        "p1<-plot(v.soc, pl=F, model=m.f.soc, main= \"Varogram of SOC\")"
      ]
    },
    {
      "cell_type": "markdown",
      "source": [
        "### 2. Variogram of Co-Variable (NDVI)"
      ],
      "metadata": {
        "id": "PEezQ7_i7dTT"
      }
    },
    {
      "cell_type": "code",
      "source": [
        "%%R\n",
        "# Variogram\n",
        "v.ndvi<-variogram(NDVI~ 1, data = train.xy, cloud=F)\n",
        "# Intial parameter set by eye esitmation\n",
        "m.ndvi<-vgm(1.5,\"Exp\",40000,0.5)\n",
        "# least square fit\n",
        "m.f.ndvi<-fit.variogram(v.ndvi, m.ndvi)\n",
        "p2<-plot(v.ndvi, pl=F, model=m.f.ndvi, main=\"Variogram of NDVI\")"
      ],
      "metadata": {
        "id": "lTPZMt5p7owI"
      },
      "execution_count": 20,
      "outputs": []
    },
    {
      "cell_type": "code",
      "execution_count": 21,
      "metadata": {
        "colab": {
          "base_uri": "https://localhost:8080/",
          "height": 392
        },
        "id": "aWKDKgOXysLz",
        "outputId": "4e622204-ba47-4030-9496-65389c5d8bed"
      },
      "outputs": [
        {
          "output_type": "display_data",
          "data": {
            "image/png": "[encoded data removed]"
          },
          "metadata": {}
        }
      ],
      "source": [
        "%%R -w 750 -h 375 -u px\n",
        "grid.arrange(p1, p2, ncol = 2)  # Multiplot\n"
      ]
    },
    {
      "cell_type": "markdown",
      "source": [
        "### 3. Cross-variogram\n",
        "\n",
        "To model Cross-Variogram, we must fit the models to both Direct and cross-varigram simultaneously with the same range but with different partial sill and nuggets.\n",
        "\n",
        "To model Cross-Varoigram, we must build A **gstat**  object sequentially, using **gstat** package. First, we build a **gstat** structure for the target (SOC) and covariates (NDVI). Then, we will fit variogram models to this **gstat** object."
      ],
      "metadata": {
        "id": "YzbFzmHrLt4S"
      }
    },
    {
      "cell_type": "code",
      "source": [
        "%%R\n",
        "g <- gstat(NULL, id = \"SOC\", form = SOC.bc ~ 1, data=train.xy)\n",
        "g <- gstat(g, id = \"NDVI\", form = NDVI ~ 1, data=train.xy)"
      ],
      "metadata": {
        "id": "Wncr-VmQL1nj"
      },
      "execution_count": 22,
      "outputs": []
    },
    {
      "cell_type": "markdown",
      "source": [
        "Display the two direct variograms and one cross-variogram:"
      ],
      "metadata": {
        "id": "xyJLYWjB96Gf"
      }
    },
    {
      "cell_type": "code",
      "source": [
        "%%R -w 600 -h 600 -u px\n",
        "v.cross <- variogram(g)\n",
        "plot(v.cross, pl=F)"
      ],
      "metadata": {
        "colab": {
          "base_uri": "https://localhost:8080/",
          "height": 617
        },
        "id": "Ogu8JqSBMH8N",
        "outputId": "b051c982-2ae5-4e38-ac87-c587ec33eabf"
      },
      "execution_count": 23,
      "outputs": [
        {
          "output_type": "display_data",
          "data": {
            "image/png": "[encoded data removed]"
          },
          "metadata": {}
        }
      ]
    },
    {
      "cell_type": "markdown",
      "source": [
        "### 4. Fit variogram models"
      ],
      "metadata": {
        "id": "UOI7PVibKIdK"
      }
    },
    {
      "cell_type": "markdown",
      "source": [
        "We will add variogram models to the **gstat** object and fit them using the linear model of **co-regionalization**. These conditions are automatically met by fitting all the empirical models with one type model (using the fill. all = T argument)."
      ],
      "metadata": {
        "id": "k4UMJiSF-L38"
      }
    },
    {
      "cell_type": "code",
      "source": [
        "%%R\n",
        "g <- gstat(g, id = \"SOC\", model = m.f.soc, fill.all=T)\n",
        "g"
      ],
      "metadata": {
        "colab": {
          "base_uri": "https://localhost:8080/"
        },
        "id": "zHvo1tu0-xOZ",
        "outputId": "ddda6407-e677-44aa-9b3e-54eb12362cda"
      },
      "execution_count": 24,
      "outputs": [
        {
          "output_type": "stream",
          "name": "stdout",
          "text": [
            "data:\n",
            "SOC : formula = SOC.bc`~`1 ; data dim = 375 x 3\n",
            "NDVI : formula = NDVI`~`1 ; data dim = 375 x 3\n",
            "variograms:\n",
            "            model     psill    range\n",
            "SOC[1]        Nug 0.5295042     0.00\n",
            "SOC[2]        Exp 1.2106243 76177.38\n",
            "NDVI[1]       Nug 0.5295042     0.00\n",
            "NDVI[2]       Exp 1.2106243 76177.38\n",
            "SOC.NDVI[1]   Nug 0.5295042     0.00\n",
            "SOC.NDVI[2]   Exp 1.2106243 76177.38\n"
          ]
        }
      ]
    },
    {
      "cell_type": "markdown",
      "source": [
        "Combining the three variograms is necessary to ensure that they result in a co-regionalized positive definite system. To achieve this, the **fit.lmc** method is employed. This method involves the initial estimation, fitting all three variograms, and adjusting each partial sill (i.e., minimum squares) to the nearest value that results in the positive definite matrices."
      ],
      "metadata": {
        "id": "cI9LsImm_jba"
      }
    },
    {
      "cell_type": "code",
      "source": [
        "%%R\n",
        "g <- fit.lmc(v.cross, g,  fit.method=6, correct.diagonal=1.01)\n",
        "g"
      ],
      "metadata": {
        "colab": {
          "base_uri": "https://localhost:8080/"
        },
        "id": "ZgaTaAW2_4bh",
        "outputId": "3e349e6d-4349-4f0c-b814-4e01b49d3e38"
      },
      "execution_count": 25,
      "outputs": [
        {
          "output_type": "stream",
          "name": "stdout",
          "text": [
            "data:\n",
            "SOC : formula = SOC.bc`~`1 ; data dim = 375 x 3\n",
            "NDVI : formula = NDVI`~`1 ; data dim = 375 x 3\n",
            "variograms:\n",
            "            model        psill    range\n",
            "SOC[1]        Nug  0.499030160     0.00\n",
            "SOC[2]        Exp  1.283384093 76177.38\n",
            "NDVI[1]       Nug  0.002960408     0.00\n",
            "NDVI[2]       Exp  0.022331550 76177.38\n",
            "SOC.NDVI[1]   Nug -0.038055533     0.00\n",
            "SOC.NDVI[2]   Exp  0.154810518 76177.38\n"
          ]
        }
      ]
    },
    {
      "cell_type": "code",
      "source": [
        "%%R -w 600 -h 600 -u px\n",
        "plot(variogram(g), model=g$model)\n"
      ],
      "metadata": {
        "colab": {
          "base_uri": "https://localhost:8080/",
          "height": 617
        },
        "id": "GEWzEny5ADRq",
        "outputId": "00139043-3c11-4e57-c6e5-4be4c5830072"
      },
      "execution_count": 26,
      "outputs": [
        {
          "output_type": "display_data",
          "data": {
            "image/png": "[encoded data removed]"
          },
          "metadata": {}
        }
      ]
    },
    {
      "cell_type": "markdown",
      "source": [
        "###  **CK Cross-validation**\n",
        "\n",
        "We have used the **krig.cv()** function for cross-validation of the univariate (OK) case, but for CK, we need to use **gstat.cv()** for the cross-validation of any gstat object. We don’t need to specify a model because it is already stored as part of a gstat object."
      ],
      "metadata": {
        "id": "wlLZ5Zr1DdfN"
      }
    },
    {
      "cell_type": "code",
      "source": [
        "%%R\n",
        "cv.ck <- gstat.cv(g)"
      ],
      "metadata": {
        "id": "g4Hz43e8EvTw"
      },
      "execution_count": null,
      "outputs": []
    },
    {
      "cell_type": "code",
      "source": [
        "%%R\n",
        "summary(cv.ck)"
      ],
      "metadata": {
        "colab": {
          "base_uri": "https://localhost:8080/"
        },
        "id": "PubsuSq7FL-X",
        "outputId": "34bbc439-0f12-4009-9520-3968d6c89576"
      },
      "execution_count": 28,
      "outputs": [
        {
          "output_type": "stream",
          "name": "stdout",
          "text": [
            "Object of class SpatialPointsDataFrame\n",
            "Coordinates:\n",
            "       min        max\n",
            "x -1246454   95251.19\n",
            "y  1038971 2518794.48\n",
            "Is projected: NA \n",
            "proj4string : [NA]\n",
            "Number of points: 375\n",
            "Data attributes:\n",
            "    SOC.pred          SOC.var          observed         residual        \n",
            " Min.   :-0.4774   Min.   :0.5126   Min.   :-2.979   Min.   :-3.500191  \n",
            " 1st Qu.: 1.3632   1st Qu.:0.9304   1st Qu.: 1.176   1st Qu.:-0.623198  \n",
            " Median : 1.9639   Median :0.9957   Median : 2.030   Median :-0.004896  \n",
            " Mean   : 2.0301   Mean   :0.9807   Mean   : 2.039   Mean   : 0.008844  \n",
            " 3rd Qu.: 2.7871   3rd Qu.:1.0545   3rd Qu.: 2.998   3rd Qu.: 0.658880  \n",
            " Max.   : 4.1406   Max.   :1.1920   Max.   : 5.846   Max.   : 3.059392  \n",
            "     zscore               fold      \n",
            " Min.   :-3.862787   Min.   :  1.0  \n",
            " 1st Qu.:-0.631007   1st Qu.: 94.5  \n",
            " Median :-0.004850   Median :188.0  \n",
            " Mean   : 0.004514   Mean   :188.0  \n",
            " 3rd Qu.: 0.679076   3rd Qu.:281.5  \n",
            " Max.   : 3.034823   Max.   :375.0  \n"
          ]
        }
      ]
    },
    {
      "cell_type": "code",
      "source": [
        "%%R\n",
        "# ME\n",
        "mean(cv.ck$residual)\n",
        "# RMAE\n",
        "RMSE<-sqrt(mean(cv.ck$residual^2))\n",
        "RMSE\n"
      ],
      "metadata": {
        "colab": {
          "base_uri": "https://localhost:8080/"
        },
        "id": "NJi07kWiFheV",
        "outputId": "577a4315-feba-4abc-affa-376a88118093"
      },
      "execution_count": 29,
      "outputs": [
        {
          "output_type": "stream",
          "name": "stdout",
          "text": [
            "[1] 1.024483\n"
          ]
        }
      ]
    },
    {
      "cell_type": "markdown",
      "metadata": {
        "id": "EHqngme561C6"
      },
      "source": [
        "### **CK validation with an test data set**\n",
        "\n",
        "**Krige()** function is only valid for univariate Kriging. In this case, we need to use the **predict()** function. The first argument to this function is the gstat object and the second argument is the prediction point data frame."
      ]
    },
    {
      "cell_type": "code",
      "execution_count": 30,
      "metadata": {
        "colab": {
          "base_uri": "https://localhost:8080/"
        },
        "id": "CieukBjN7B1o",
        "outputId": "f82463af-a4eb-45d3-f1bc-01ed469162fb"
      },
      "outputs": [
        {
          "output_type": "stream",
          "name": "stdout",
          "text": [
            "Linear Model of Coregionalization found. Good.\n",
            "[using ordinary cokriging]\n",
            "Object of class SpatialPointsDataFrame\n",
            "Coordinates:\n",
            "       min        max\n",
            "x -1219348   70606.76\n",
            "y  1019863 2526240.55\n",
            "Is projected: NA \n",
            "proj4string : [NA]\n",
            "Number of points: 96\n",
            "Data attributes:\n",
            "    SOC.pred           SOC.var         NDVI.pred         NDVI.var       \n",
            " Min.   :-0.03623   Min.   :0.7350   Min.   :0.1808   Min.   :0.006512  \n",
            " 1st Qu.: 1.31761   1st Qu.:0.9219   1st Qu.:0.3103   1st Qu.:0.009909  \n",
            " Median : 1.82922   Median :1.0231   Median :0.4039   Median :0.011702  \n",
            " Mean   : 1.96588   Mean   :1.0341   Mean   :0.4236   Mean   :0.011886  \n",
            " 3rd Qu.: 2.52655   3rd Qu.:1.1410   3rd Qu.:0.5134   3rd Qu.:0.013797  \n",
            " Max.   : 4.17236   Max.   :1.5500   Max.   :0.7274   Max.   :0.021106  \n",
            "  cov.SOC.NDVI      \n",
            " Min.   :-0.019106  \n",
            " 1st Qu.: 0.005678  \n",
            " Median : 0.018832  \n",
            " Mean   : 0.019875  \n",
            " 3rd Qu.: 0.033650  \n",
            " Max.   : 0.086268  \n"
          ]
        }
      ],
      "source": [
        "%%R\n",
        "CK.test <- predict(g, test.xy)\n",
        "summary(CK.test)"
      ]
    },
    {
      "cell_type": "code",
      "source": [
        "%%R\n",
        "# compute residuls\n",
        "test.xy$residual <- CK.test$SOC.pred  - test$SOC.bc\n",
        "test.xy$SOC.pred <- CK.test$SOC.pred"
      ],
      "metadata": {
        "id": "deGwJLjeGsvj"
      },
      "execution_count": 33,
      "outputs": []
    },
    {
      "cell_type": "code",
      "execution_count": 34,
      "metadata": {
        "colab": {
          "base_uri": "https://localhost:8080/"
        },
        "id": "tKMh4pur7wLL",
        "outputId": "d64c891b-5eb0-445d-9e93-2c9294a80cd2"
      },
      "outputs": [
        {
          "output_type": "stream",
          "name": "stdout",
          "text": [
            "[1] 1.084\n"
          ]
        }
      ],
      "source": [
        "%%R\n",
        "# Mean Error (ME)\n",
        "ME<-round(mean(test.xy$residual),3)\n",
        "# Mean Absolute Error\n",
        "MAE<-round(mean(abs(test.xy$residual)),3)\n",
        "# Root Mean Squre Error (RMSE)\n",
        "RMSE<-round(sqrt(mean(test.xy$residual^2)),3)\n",
        "RMSE"
      ]
    },
    {
      "cell_type": "code",
      "execution_count": 35,
      "metadata": {
        "colab": {
          "base_uri": "https://localhost:8080/",
          "height": 434
        },
        "id": "uOU1YwjK73g3",
        "outputId": "b4d30ef7-b4e6-40a2-9785-5f5ac22e2a64"
      },
      "outputs": [
        {
          "output_type": "stream",
          "name": "stdout",
          "text": [
            "`geom_smooth()` using formula = 'y ~ x'\n"
          ]
        },
        {
          "output_type": "display_data",
          "data": {
            "image/png": "[encoded data removed]"
          },
          "metadata": {}
        }
      ],
      "source": [
        "%%R -w 400 -h 400 -u px\n",
        "\n",
        "test.df<-as.data.frame(test.xy)\n",
        "\n",
        "formula<-y~x\n",
        "\n",
        "ggplot(test.df, aes(SOC.bc,SOC.pred)) +\n",
        "  geom_point() +\n",
        "  geom_smooth(method = \"lm\")+\n",
        "  stat_poly_eq(use_label(c(\"eq\", \"adj.R2\")), formula = formula) +\n",
        "  ggtitle(\"CK Predicted vs Observed BoxCox-SOC at Test locations\") +\n",
        "  xlab(\"Observed\") + ylab(\"Predicted\") +\n",
        "  scale_x_continuous(limits=c(0,6), breaks=seq(0, 6, 1))+\n",
        "  scale_y_continuous(limits=c(0,6), breaks=seq(0, 6, 1)) +\n",
        "  theme(\n",
        "    panel.background = element_rect(fill = \"grey95\",colour = \"gray75\",size = 0.5, linetype = \"solid\"),\n",
        "    axis.line = element_line(colour = \"grey\"),\n",
        "    plot.title = element_text(size = 14, hjust = 0.5),\n",
        "    axis.title.x = element_text(size = 14),\n",
        "    axis.title.y = element_text(size = 14),\n",
        "    axis.text.x=element_text(size=13, colour=\"black\"),\n",
        "    axis.text.y=element_text(size=13,angle = 90,vjust = 0.5, hjust=0.5, colour='black'))"
      ]
    },
    {
      "cell_type": "markdown",
      "metadata": {
        "id": "XBbIXPJG5eLB"
      },
      "source": [
        "### **Co-Kriging prediction at grid locations**\n",
        "\n",
        "**Krige()** function is only valid for univariate Kriging. In this case, we need to use the **predict()** function. The first argument to this function is the gstat object and the second argument is the prediction point data frame."
      ]
    },
    {
      "cell_type": "code",
      "execution_count": 37,
      "metadata": {
        "colab": {
          "base_uri": "https://localhost:8080/"
        },
        "id": "bvUrzxF158V-",
        "outputId": "d4d4f756-22a6-4063-ec17-9b423afb560e"
      },
      "outputs": [
        {
          "output_type": "stream",
          "name": "stdout",
          "text": [
            "Linear Model of Coregionalization found. Good.\n",
            "[using ordinary cokriging]\n"
          ]
        }
      ],
      "source": [
        "%%R\n",
        "CK <- predict(g, grid.xy)"
      ]
    },
    {
      "cell_type": "code",
      "source": [
        "%%R\n",
        "summary(CK)"
      ],
      "metadata": {
        "colab": {
          "base_uri": "https://localhost:8080/"
        },
        "id": "vqF6wT-yIprc",
        "outputId": "e9f266c0-afe4-4fbf-dbe3-e4d55633be4d"
      },
      "execution_count": null,
      "outputs": [
        {
          "output_type": "stream",
          "name": "stdout",
          "text": [
            "Object of class SpatialPointsDataFrame\n",
            "Coordinates:\n",
            "       min     max\n",
            "x -1245285  114715\n",
            "y  1003795 2533795\n",
            "Is projected: NA \n",
            "proj4string : [NA]\n",
            "Number of points: 10674\n",
            "Data attributes:\n",
            "    SOC.pred          SOC.var         NDVI.pred         NDVI.var       \n",
            " Min.   :-0.7209   Min.   :0.6478   Min.   :0.1355   Min.   :0.001725  \n",
            " 1st Qu.: 1.2651   1st Qu.:0.9130   1st Qu.:0.3061   1st Qu.:0.006549  \n",
            " Median : 1.9124   Median :1.0174   Median :0.4057   Median :0.008412  \n",
            " Mean   : 1.9804   Mean   :1.0380   Mean   :0.4157   Mean   :0.008767  \n",
            " 3rd Qu.: 2.6616   3rd Qu.:1.1354   3rd Qu.:0.5093   3rd Qu.:0.010521  \n",
            " Max.   : 4.6013   Max.   :1.6712   Max.   :0.7893   Max.   :0.019998  \n",
            "  cov.SOC.NDVI      \n",
            " Min.   :-0.032279  \n",
            " 1st Qu.: 0.002888  \n",
            " Median : 0.016347  \n",
            " Mean   : 0.018803  \n",
            " 3rd Qu.: 0.031461  \n",
            " Max.   : 0.099355  \n"
          ]
        }
      ]
    },
    {
      "cell_type": "markdown",
      "source": [
        "### Back transformation"
      ],
      "metadata": {
        "id": "l6Of97cEN_nV"
      }
    },
    {
      "cell_type": "code",
      "execution_count": 38,
      "metadata": {
        "id": "GURw4kzo6JIA"
      },
      "outputs": [],
      "source": [
        "%%R\n",
        "# Back transformation\n",
        "k<-1/lambda\n",
        "CK$CK.pred <-((CK$SOC.pred *lambda+1)^k)\n",
        "CK$CK.var <-((CK$SOC.var *lambda+1)^k)\n"
      ]
    },
    {
      "cell_type": "code",
      "execution_count": 39,
      "metadata": {
        "colab": {
          "base_uri": "https://localhost:8080/",
          "height": 417
        },
        "id": "1PkOzOUS6eD3",
        "outputId": "f56031ee-6215-41e7-d1af-ff050e725d2c"
      },
      "outputs": [
        {
          "output_type": "display_data",
          "data": {
            "image/png": "[encoded data removed]"
          },
          "metadata": {}
        }
      ],
      "source": [
        "%%R -w 700 -h 400 -u px\n",
        "\n",
        "CK.pred<-rasterFromXYZ(as.data.frame(CK)[, c(\"x\", \"y\", \"CK.pred\")])\n",
        "CK.var<-rasterFromXYZ(as.data.frame(CK)[, c(\"x\", \"y\", \"CK.var\")])\n",
        "\n",
        "# Predicted SOC\n",
        "p3<-ggR(CK.pred, geom_raster = TRUE) +\n",
        "scale_fill_gradientn(\"SOC\", colours = c(\"orange\", \"yellow\", \"green\",  \"sky blue\",\"blue\"))+\n",
        "  theme_bw()+\n",
        "    theme(axis.title.x=element_blank(),\n",
        "        axis.text.x=element_blank(),\n",
        "        axis.ticks.x=element_blank(),\n",
        "        axis.title.y=element_blank(),\n",
        "        axis.text.y=element_blank(),\n",
        "        axis.ticks.y=element_blank())+\n",
        "   ggtitle(\"CK Predicted SOC\")+\n",
        "   theme(plot.title = element_text(hjust = 0.5))\n",
        "\n",
        "# Error\n",
        "p4<-ggR(CK.var, geom_raster = TRUE) +\n",
        "scale_fill_gradientn(\"SOC\", colours = c(\"orange\", \"yellow\", \"green\",  \"sky blue\",\"blue\"))+\n",
        "  theme_bw()+\n",
        "    theme(axis.title.x=element_blank(),\n",
        "        axis.text.x=element_blank(),\n",
        "        axis.ticks.x=element_blank(),\n",
        "        axis.title.y=element_blank(),\n",
        "        axis.text.y=element_blank(),\n",
        "        axis.ticks.y=element_blank())+\n",
        "   ggtitle(\"CK Variance of SOC\")+\n",
        "   theme(plot.title = element_text(hjust = 0.5))\n",
        "\n",
        "grid.arrange(p3,p4, ncol = 2)  # Multiplot"
      ]
    },
    {
      "cell_type": "markdown",
      "metadata": {
        "id": "y3TgekWf8XE3"
      },
      "source": [
        "### Further Reading\n",
        "\n",
        "1. [Understanding cokriging](https://desktop.arcgis.com/en/arcmap/latest/extensions/geostatistical-analyst/understanding-cokriging.htm)\n",
        "\n",
        "2. [Co-kriging with the gstat package](https://www.css.cornell.edu/faculty/dgr2/_static/files/R_PDF/CoKrigeR.pdf)\n",
        "\n",
        "3. [Cokriging with Unequally Sampled Data](https://geostatisticslessons.com/lessons/cokrigingunequal)"
      ]
    }
  ],
  "metadata": {
    "colab": {
      "provenance": [],
      "authorship_tag": "ABX9TyOgpFq1WLpNk0wSuf96weTA",
      "include_colab_link": true
    },
    "kernelspec": {
      "display_name": "Python 3",
      "name": "python3"
    },
    "language_info": {
      "name": "python"
    }
  },
  "nbformat": 4,
  "nbformat_minor": 0
}