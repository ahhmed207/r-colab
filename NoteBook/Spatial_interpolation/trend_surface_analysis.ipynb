{
  "nbformat": 4,
  "nbformat_minor": 0,
  "metadata": {
    "colab": {
      "provenance": [],
      "authorship_tag": "ABX9TyPbwKNnih7YjjZz4EsXFTmH",
      "include_colab_link": true
    },
    "kernelspec": {
      "name": "python3",
      "display_name": "Python 3"
    },
    "language_info": {
      "name": "python"
    }
  },
  "cells": [
    {
      "cell_type": "markdown",
      "metadata": {
        "id": "view-in-github",
        "colab_type": "text"
      },
      "source": [
        "<a href=\"https://colab.research.google.com/github/zia207/r-colab/blob/main/NoteBook/Spatial_interpolation/trend_surface_analysis.ipynb\" target=\"_parent\"><img src=\"https://colab.research.google.com/assets/colab-badge.svg\" alt=\"Open In Colab\"/></a>"
      ]
    },
    {
      "cell_type": "markdown",
      "source": [
        "# Trend Surface Analysis\n",
        "\n",
        "Zia Ahmed, University at Buffalo"
      ],
      "metadata": {
        "id": "39CxVvPQ6cJQ"
      }
    },
    {
      "cell_type": "markdown",
      "source": [
        "Trend Surface Analysis (TSA) is a deterministic method used for spatial interpolation and modeling. It is particularly useful when you want to capture and describe the broad, systematic trends or patterns in a set of data points distributed across a geographic area. TSA fits a polynomial equation to the data points, allowing you to create a smooth surface that represents the general trend in the data.\n",
        "\n",
        "Here are the key aspects of Trend Surface Analysis:\n",
        "\n",
        "1. **Data Points**: TSA begins with a set of data points that represent measurements or observations across a geographic region. These data points can relate to various types of information, such as elevation, temperature, or any other variable that exhibits spatial variation.\n",
        "\n",
        "2. **Polynomial Equation**: The core of TSA is fitting a polynomial equation to the data points. The polynomial equation represents a mathematical surface that approximates the trend or pattern observed in the data.\n",
        "\n",
        "3. **Polynomial Degree**: The degree of the polynomial equation is a critical aspect of TSA. The choice of degree determines the complexity of the model and its ability to capture different types of trends.\n",
        "\n",
        " - **Cubic (Third-Degree) Polynomial**: A cubic equation adds terms for cubic trends, which can capture even more intricate spatial patterns.\n",
        "\n",
        "4. **Coefficient Estimation**: To perform TSA, you need to estimate the coefficients (a, b, c, etc.) of the polynomial equation that best fits the data points. This is often done through a process of regression or least-squares estimation, where the goal is to minimize the error between the predicted values from the polynomial equation and the actual data points.\n",
        "\n",
        "5. **Interpolation and Visualization**: Once you have determined the coefficients of the polynomial equation, you can use this equation to predict values at unmeasured locations within the geographic area. The result is a smooth, continuous surface that represents the general trend or pattern in the data. This surface can be visualized as a contour map, 3D surface, or other forms of spatial representation.\n",
        "\n",
        "6. **Advantages and Limitations**:\n",
        "   - Advantages of TSA include its simplicity, ability to capture and visualize general trends, and ease of interpretation.\n",
        "   - Limitations include the potential inability to capture complex localized variations, as it focuses on broad trends, and it may not provide measures of uncertainty or error associated with predictions.\n",
        "\n",
        "Trend Surface Analysis is commonly used in geology, geography, and various environmental sciences to model and understand large-scale spatial trends, such as elevation changes, temperature gradients, or population distribution. It's a valuable tool when you want to create a simple, smooth representation of data to identify overarching spatial patterns."
      ],
      "metadata": {
        "id": "RlNKLUWhIFev"
      }
    },
    {
      "cell_type": "markdown",
      "source": [
        "### Install rpy2"
      ],
      "metadata": {
        "id": "4hkKg_Gm7E2L"
      }
    },
    {
      "cell_type": "code",
      "execution_count": null,
      "metadata": {
        "colab": {
          "base_uri": "https://localhost:8080/"
        },
        "id": "r9EFotya6NQL",
        "outputId": "780dc91c-7068-469e-c682-799955941c69"
      },
      "outputs": [
        {
          "output_type": "stream",
          "name": "stdout",
          "text": [
            "Found existing installation: rpy2 3.4.2\n",
            "Uninstalling rpy2-3.4.2:\n",
            "  Successfully uninstalled rpy2-3.4.2\n",
            "Collecting rpy2==3.5.1\n",
            "  Downloading rpy2-3.5.1.tar.gz (201 kB)\n",
            "\u001b[2K     \u001b[90m━━━━━━━━━━━━━━━━━━━━━━━━━━━━━━━━━━━━━━━━\u001b[0m \u001b[32m201.7/201.7 kB\u001b[0m \u001b[31m4.4 MB/s\u001b[0m eta \u001b[36m0:00:00\u001b[0m\n",
            "\u001b[?25h  Preparing metadata (setup.py) ... \u001b[?25l\u001b[?25hdone\n",
            "Requirement already satisfied: cffi>=1.10.0 in /usr/local/lib/python3.10/dist-packages (from rpy2==3.5.1) (1.16.0)\n",
            "Requirement already satisfied: jinja2 in /usr/local/lib/python3.10/dist-packages (from rpy2==3.5.1) (3.1.2)\n",
            "Requirement already satisfied: pytz in /usr/local/lib/python3.10/dist-packages (from rpy2==3.5.1) (2023.3.post1)\n",
            "Requirement already satisfied: tzlocal in /usr/local/lib/python3.10/dist-packages (from rpy2==3.5.1) (5.1)\n",
            "Requirement already satisfied: pycparser in /usr/local/lib/python3.10/dist-packages (from cffi>=1.10.0->rpy2==3.5.1) (2.21)\n",
            "Requirement already satisfied: MarkupSafe>=2.0 in /usr/local/lib/python3.10/dist-packages (from jinja2->rpy2==3.5.1) (2.1.3)\n",
            "Building wheels for collected packages: rpy2\n",
            "  Building wheel for rpy2 (setup.py) ... \u001b[?25l\u001b[?25hdone\n",
            "  Created wheel for rpy2: filename=rpy2-3.5.1-cp310-cp310-linux_x86_64.whl size=314933 sha256=53fe5558a2f999e5ec6f7f3d6e73f7b4e8f24e54a02d951f59767284457e7787\n",
            "  Stored in directory: /root/.cache/pip/wheels/73/a6/ff/4e75dd1ce1cfa2b9a670cbccf6a1e41c553199e9b25f05d953\n",
            "Successfully built rpy2\n",
            "Installing collected packages: rpy2\n",
            "Successfully installed rpy2-3.5.1\n"
          ]
        }
      ],
      "source": [
        "!pip uninstall rpy2 -y\n",
        "!pip install rpy2==3.5.1\n",
        "%load_ext rpy2.ipython"
      ]
    },
    {
      "cell_type": "markdown",
      "source": [
        "### Mount Google Drive"
      ],
      "metadata": {
        "id": "LfAXyb8c7PvU"
      }
    },
    {
      "cell_type": "code",
      "source": [
        "from google.colab import drive\n",
        "drive.mount('/content/drive')"
      ],
      "metadata": {
        "colab": {
          "base_uri": "https://localhost:8080/"
        },
        "id": "l33h7Ky77UOP",
        "outputId": "c295024e-5dd6-4c2e-8d15-a43ee0b51c16"
      },
      "execution_count": null,
      "outputs": [
        {
          "output_type": "stream",
          "name": "stdout",
          "text": [
            "Mounted at /content/drive\n"
          ]
        }
      ]
    },
    {
      "cell_type": "markdown",
      "source": [
        "### Check and Install Required R Packages"
      ],
      "metadata": {
        "id": "YiqZhk-M7Xkg"
      }
    },
    {
      "cell_type": "code",
      "source": [
        "%%R\n",
        "pkg <- c('tidyverse', 'raster', 'rgdal','terra','tidyterra', 'maptools', 'sf', 'classInt',\n",
        "         'RColorBrewer', 'tmap','tmaptools', 'gridExtra', 'devtools', 'data.table', 'gstat','Hmisc','corrplot', 'ggmap','plyr')\n",
        "new.packages <- pkg[!(pkg %in% installed.packages(lib='drive/My Drive/R/')[,\"Package\"])]\n",
        "if(length(new.packages)) install.packages(new.packages, lib='drive/My Drive/R/')"
      ],
      "metadata": {
        "id": "yRRODj3J7h-w"
      },
      "execution_count": null,
      "outputs": []
    },
    {
      "cell_type": "markdown",
      "source": [
        "### Install 'spatstat','dismo', and 'fields'\n"
      ],
      "metadata": {
        "id": "rNoatLdX9-hE"
      }
    },
    {
      "cell_type": "code",
      "source": [
        "%%R\n",
        "install.packages(c('spatstat','dismo','fields'), lib='drive/My Drive/R/')"
      ],
      "metadata": {
        "id": "MgpiF5z69-pl"
      },
      "execution_count": null,
      "outputs": []
    },
    {
      "cell_type": "markdown",
      "source": [
        "### Load R Packages"
      ],
      "metadata": {
        "id": "BOStytG0CQSj"
      }
    },
    {
      "cell_type": "code",
      "source": [
        "%%R\n",
        "# set library path\n",
        ".libPaths('drive/My Drive/R')\n",
        "library (tidyverse)\n",
        "library (terra)\n",
        "library (tidyterra)\n",
        "library(raster)\n",
        "library(RColorBrewer)\n",
        "library(RStoolbox)\n",
        "library(gridExtra)\n",
        "library(latticeExtra)\n",
        "library(data.table)\n",
        "library(gstat)\n",
        "library(classInt)\n",
        "library(plyr)\n",
        "library(spatstat)\n",
        "library(dismo)\n",
        "library(fields)"
      ],
      "metadata": {
        "id": "_c1NO4BuCQaj"
      },
      "execution_count": null,
      "outputs": []
    },
    {
      "cell_type": "markdown",
      "source": [
        "### Data\n",
        "\n",
        "The following data will be used in the exercise that can be found [here](https://github.com/zia207/r-colab/tree/main/Data/Spatial_interpolation).\n",
        "\n",
        "1. train_data.csv\n",
        "\n",
        "2. GP_STATE.shp\n",
        "\n",
        "3. GP_prediction_grid_data.csv"
      ],
      "metadata": {
        "id": "3NMS2rBECn3s"
      }
    },
    {
      "cell_type": "code",
      "source": [
        "%%R\n",
        "train<-read_csv('/content/drive/MyDrive/Data/Spatial_Interpolatiom/train_data.csv')\n",
        "grid<-read_csv('/content/drive/MyDrive/Data/Spatial_Interpolatiom/GP_prediction_grid_data.csv')\n",
        "state<-shapefile(\"/content/drive/MyDrive/Data/Spatial_Interpolatiom/GP_STATE.shp\")"
      ],
      "metadata": {
        "colab": {
          "base_uri": "https://localhost:8080/"
        },
        "id": "Wiiyz3SpCoMu",
        "outputId": "df52d90e-ff6c-4046-8dcf-10054f6c310e"
      },
      "execution_count": null,
      "outputs": [
        {
          "output_type": "stream",
          "name": "stdout",
          "text": [
            "Rows: 368 Columns: 21\n",
            "── Column specification ────────────────────────────────────────────────────────\n",
            "Delimiter: \",\"\n",
            "chr  (4): STATE, COUNTY, NLCD_DES, FRG_DES\n",
            "dbl (17): ID, STATE_ID, FIPS, x, y, SOC, ELEV, Aspect, Slope, TPI, K_Factor,...\n",
            "\n",
            "ℹ Use `spec()` to retrieve the full column specification for this data.\n",
            "ℹ Specify the column types or set `show_col_types = FALSE` to quiet this message.\n",
            "Rows: 10674 Columns: 13\n",
            "── Column specification ────────────────────────────────────────────────────────\n",
            "Delimiter: \",\"\n",
            "dbl (13): x, y, Aspect, ELEV, FRG, K_Factor, MAP, MAT, NDVI, NLCD, Slit_Clay...\n",
            "\n",
            "ℹ Use `spec()` to retrieve the full column specification for this data.\n",
            "ℹ Specify the column types or set `show_col_types = FALSE` to quiet this message.\n"
          ]
        }
      ]
    },
    {
      "cell_type": "code",
      "source": [
        "%%R\n",
        "glimpse(train)"
      ],
      "metadata": {
        "colab": {
          "base_uri": "https://localhost:8080/"
        },
        "id": "9oeb-q9BGtqb",
        "outputId": "822cb096-b171-4f05-eb85-4428c7e250e9"
      },
      "execution_count": null,
      "outputs": [
        {
          "output_type": "stream",
          "name": "stdout",
          "text": [
            "Rows: 368\n",
            "Columns: 21\n",
            "$ ID        <dbl> 87, 52, 75, 55, 51, 77, 265, 82, 67, 188, 250, 224, 229, 164…\n",
            "$ STATE_ID  <dbl> 35, 8, 35, 35, 8, 35, 35, 35, 35, 8, 35, 35, 8, 8, 35, 8, 8,…\n",
            "$ STATE     <chr> \"New Mexico\", \"Colorado\", \"New Mexico\", \"New Mexico\", \"Color…\n",
            "$ FIPS      <dbl> 35003, 8033, 35003, 35031, 8033, 35006, 35015, 35003, 35003,…\n",
            "$ COUNTY    <chr> \"Catron County\", \"Dolores County\", \"Catron County\", \"McKinle…\n",
            "$ x         <dbl> -1116586.5, -1107341.6, -1128512.3, -1137299.0, -1106344.8, …\n",
            "$ y         <dbl> 1228025, 1699359, 1281006, 1446994, 1716869, 1419122, 105112…\n",
            "$ SOC       <dbl> 1.333, 3.782, 3.393, 4.594, 5.995, 7.596, 10.276, 3.842, 11.…\n",
            "$ ELEV      <dbl> 2192.513, 2328.449, 2357.302, 2261.782, 2404.112, 2514.776, …\n",
            "$ Aspect    <dbl> 174.4923, 219.6880, 173.9527, 222.3785, 183.5729, 165.2028, …\n",
            "$ Slope     <dbl> 8.080985, 10.462741, 8.016197, 4.874323, 6.680480, 6.598982,…\n",
            "$ TPI       <dbl> -0.42157000, 0.55147684, -3.36669755, -1.44094825, 7.7656183…\n",
            "$ K_Factor  <dbl> 0.1391000, 0.1166667, 0.3617000, 0.2486000, 0.0590000, 0.235…\n",
            "$ MAP       <dbl> 442.9940, 508.8982, 415.5840, 410.5008, 568.7746, 530.7138, …\n",
            "$ MAT       <dbl> 9.092950, 7.075253, 8.799050, 8.162200, 6.890750, 7.413800, …\n",
            "$ NDVI      <dbl> 0.3517063, 0.5736231, 0.3411477, 0.3705533, 0.6434158, 0.537…\n",
            "$ Slit_Clay <dbl> 47.33000, 53.33738, 52.75300, 40.66200, 53.73600, 54.59200, …\n",
            "$ NLCD      <dbl> 4, 4, 4, 4, 4, 4, 4, 4, 4, 4, 4, 4, 4, 4, 4, 4, 4, 4, 4, 4, …\n",
            "$ FRG       <dbl> 1, 1, 1, 1, 1, 1, 1, 1, 1, 3, 3, 3, 3, 3, 3, 3, 3, 3, 3, 3, …\n",
            "$ NLCD_DES  <chr> \"Forest\", \"Forest\", \"Forest\", \"Forest\", \"Forest\", \"Forest\", …\n",
            "$ FRG_DES   <chr> \"Fire Regime Group I\", \"Fire Regime Group I\", \"Fire Regime G…\n"
          ]
        }
      ]
    },
    {
      "cell_type": "markdown",
      "source": [
        "### Create prediction grid"
      ],
      "metadata": {
        "id": "FSs1Z6zlGCee"
      }
    },
    {
      "cell_type": "code",
      "source": [
        "%%R\n",
        "p.grid<-grid[,1:2]\n",
        "head(p.grid)"
      ],
      "metadata": {
        "colab": {
          "base_uri": "https://localhost:8080/"
        },
        "id": "BiBsIWnsF8n7",
        "outputId": "397ab612-3b7c-49bd-9f25-2010eedae117"
      },
      "execution_count": null,
      "outputs": [
        {
          "output_type": "stream",
          "name": "stdout",
          "text": [
            "# A tibble: 6 × 2\n",
            "         x       y\n",
            "     <dbl>   <dbl>\n",
            "1 -1185285 2533795\n",
            "2 -1175285 2533795\n",
            "3 -1165285 2533795\n",
            "4 -1155285 2533795\n",
            "5 -1145285 2533795\n",
            "6 -1135285 2533795\n"
          ]
        }
      ]
    },
    {
      "cell_type": "code",
      "source": [
        "%%R\n",
        "coordinates(train) = ~x+y\n",
        "coordinates(p.grid) = ~x+y\n",
        "gridded(p.grid) <- TRUE"
      ],
      "metadata": {
        "id": "a5MiesyEGhdx"
      },
      "execution_count": null,
      "outputs": []
    },
    {
      "cell_type": "markdown",
      "source": [
        "### Linear (First-Degree) Polynomial\n",
        "\n",
        "A linear equation, represented as Z(x, y) = a + bx + cy, captures a simple trend that may involve a constant (a), a linear trend in the x direction (b), and a linear trend in the y direction (c).\n",
        "\n",
        "We will use **krige()** function of **gstat** package without the geographic coordinates specified. It will perform ordinary or weighted least squares prediction:"
      ],
      "metadata": {
        "id": "AA_Il-66JBQn"
      }
    },
    {
      "cell_type": "code",
      "source": [
        "%%R\n",
        "trend_1st<-krige(SOC ~ x + y, train, p.grid)"
      ],
      "metadata": {
        "colab": {
          "base_uri": "https://localhost:8080/"
        },
        "id": "pTarupZlIEr7",
        "outputId": "9a67aca6-868a-44e9-eab1-ab6b8eb35a04"
      },
      "execution_count": null,
      "outputs": [
        {
          "output_type": "stream",
          "name": "stdout",
          "text": [
            "[ordinary or weighted least squares prediction]\n"
          ]
        }
      ]
    },
    {
      "cell_type": "code",
      "source": [
        "%%R\n",
        "summary(trend_1st)"
      ],
      "metadata": {
        "colab": {
          "base_uri": "https://localhost:8080/"
        },
        "id": "9JNhS0XRJqrV",
        "outputId": "ff5bce2a-6682-47ff-9bc0-2cee7063cdf7"
      },
      "execution_count": null,
      "outputs": [
        {
          "output_type": "stream",
          "name": "stdout",
          "text": [
            "Object of class SpatialPixelsDataFrame\n",
            "Coordinates:\n",
            "       min     max\n",
            "x -1250285  119715\n",
            "y   998795 2538795\n",
            "Is projected: NA \n",
            "proj4string : [NA]\n",
            "Number of points: 10674\n",
            "Grid attributes:\n",
            "  cellcentre.offset cellsize cells.dim\n",
            "x          -1245285    10000       137\n",
            "y           1003795    10000       154\n",
            "Data attributes:\n",
            "   var1.pred        var1.var    \n",
            " Min.   :2.814   Min.   :24.13  \n",
            " 1st Qu.:5.153   1st Qu.:24.17  \n",
            " Median :6.549   Median :24.24  \n",
            " Mean   :6.316   Mean   :24.26  \n",
            " 3rd Qu.:7.383   3rd Qu.:24.34  \n",
            " Max.   :9.251   Max.   :24.62  \n"
          ]
        }
      ]
    },
    {
      "cell_type": "code",
      "source": [
        "%%R -w 400 -h 400 -u px\n",
        "spplot(trend_1st ,\"var1.pred\",\n",
        "       main= \"Linear (First-Degree) Polynomial Trend Surface\")"
      ],
      "metadata": {
        "colab": {
          "base_uri": "https://localhost:8080/",
          "height": 417
        },
        "id": "AA4RYsFOJ3F0",
        "outputId": "1de98165-6dff-458b-8621-73cfdf5af4b6"
      },
      "execution_count": null,
      "outputs": [
        {
          "output_type": "display_data",
          "data": {
            "image/png": "[encoded data removed]"
          },
          "metadata": {}
        }
      ]
    },
    {
      "cell_type": "markdown",
      "source": [
        "### Quadratic (Second-Degree) Polynomial\n",
        "\n",
        " A quadratic equation, such as Z(x, y) = a + bx + cy + dx^2 + exy + fy^2, can model more complex trends, including curvatures."
      ],
      "metadata": {
        "id": "MOBqZfv5KYpj"
      }
    },
    {
      "cell_type": "code",
      "source": [
        "%%R\n",
        "trend_2nd<-krige(SOC ~ x + y + I(x*y) + I(x^2) + I(y^2), train, p.grid)\n",
        "summary(trend_2nd)"
      ],
      "metadata": {
        "colab": {
          "base_uri": "https://localhost:8080/"
        },
        "id": "_stwmPMnK29_",
        "outputId": "5e72b2b0-cf98-4cd9-eaa3-47b68e097c8c"
      },
      "execution_count": null,
      "outputs": [
        {
          "output_type": "stream",
          "name": "stdout",
          "text": [
            "[ordinary or weighted least squares prediction]\n",
            "Object of class SpatialPixelsDataFrame\n",
            "Coordinates:\n",
            "       min     max\n",
            "x -1250285  119715\n",
            "y   998795 2538795\n",
            "Is projected: NA \n",
            "proj4string : [NA]\n",
            "Number of points: 10674\n",
            "Grid attributes:\n",
            "  cellcentre.offset cellsize cells.dim\n",
            "x          -1245285    10000       137\n",
            "y           1003795    10000       154\n",
            "Data attributes:\n",
            "   var1.pred          var1.var    \n",
            " Min.   : 0.5955   Min.   :22.04  \n",
            " 1st Qu.: 5.1468   1st Qu.:22.09  \n",
            " Median : 6.1480   Median :22.17  \n",
            " Mean   : 6.2871   Mean   :22.28  \n",
            " 3rd Qu.: 7.7320   3rd Qu.:22.39  \n",
            " Max.   :12.1479   Max.   :23.67  \n"
          ]
        }
      ]
    },
    {
      "cell_type": "code",
      "source": [
        "%%R -w 400 -h 400 -u px\n",
        "spplot(trend_2nd ,\"var1.pred\",\n",
        "       main= \"Quadratic (Second-Degree) Polynomial trend Surface\")"
      ],
      "metadata": {
        "colab": {
          "base_uri": "https://localhost:8080/",
          "height": 417
        },
        "id": "QaFM6rL1LOGZ",
        "outputId": "9870afb1-89b9-40a2-cd32-6fe654f0c3b9"
      },
      "execution_count": null,
      "outputs": [
        {
          "output_type": "display_data",
          "data": {
            "image/png": "[encoded data removed]"
          },
          "metadata": {}
        }
      ]
    },
    {
      "cell_type": "markdown",
      "source": [
        "### Cubic (Third-Degree) Polynomial:\n",
        "A cubic equation adds terms for cubic trends, which can capture even more intricate spatial patterns."
      ],
      "metadata": {
        "id": "HHbBbPFZMYbP"
      }
    },
    {
      "cell_type": "code",
      "source": [
        "%%R\n",
        "trend_3rd<-krige(SOC ~ x+y + x*y+I(x^2)+I(y^2) + I(x^3)+I(x^2*y)+I(x*y^2)+I(y^3), train, p.grid)\n",
        "summary(trend_3rd)"
      ],
      "metadata": {
        "colab": {
          "base_uri": "https://localhost:8080/"
        },
        "id": "WK6yno4LNBN-",
        "outputId": "d0e9861f-fcd7-4e04-9693-9d751bf04dad"
      },
      "execution_count": null,
      "outputs": [
        {
          "output_type": "stream",
          "name": "stdout",
          "text": [
            "[ordinary or weighted least squares prediction]\n",
            "Object of class SpatialPixelsDataFrame\n",
            "Coordinates:\n",
            "       min     max\n",
            "x -1250285  119715\n",
            "y   998795 2538795\n",
            "Is projected: NA \n",
            "proj4string : [NA]\n",
            "Number of points: 10674\n",
            "Grid attributes:\n",
            "  cellcentre.offset cellsize cells.dim\n",
            "x          -1245285    10000       137\n",
            "y           1003795    10000       154\n",
            "Data attributes:\n",
            "   var1.pred         var1.var    \n",
            " Min.   :-1.178   Min.   :21.93  \n",
            " 1st Qu.: 5.289   1st Qu.:22.01  \n",
            " Median : 6.150   Median :22.12  \n",
            " Mean   : 6.345   Mean   :22.33  \n",
            " 3rd Qu.: 7.617   3rd Qu.:22.43  \n",
            " Max.   :13.402   Max.   :26.12  \n"
          ]
        }
      ]
    },
    {
      "cell_type": "code",
      "source": [
        "%%R -w 400 -h 400 -u px\n",
        "spplot(trend_3rd ,\"var1.pred\",\n",
        "       main= \"Cubic (Third-Degree) Polynomial trend Surface\")"
      ],
      "metadata": {
        "colab": {
          "base_uri": "https://localhost:8080/",
          "height": 417
        },
        "id": "AHBkAtDMNpDA",
        "outputId": "03e03c72-6d0e-4344-d3e9-da885a4908e2"
      },
      "execution_count": null,
      "outputs": [
        {
          "output_type": "display_data",
          "data": {
            "image/png": "[encoded data removed]"
          },
          "metadata": {}
        }
      ]
    },
    {
      "cell_type": "markdown",
      "source": [
        "### Further Reading\n",
        "\n",
        "1. [Deterministic methods for spatial interpolation](https://pro.arcgis.com/en/pro-app/latest/help/analysis/geostatistical-analyst/deterministic-methods-for-spatial-interpolation.htm)\n",
        "\n",
        "2. [Spatial Interpolation Methods](https://iri.columbia.edu/~rijaf/CDTUserGuide/html/interpolation_methods.html)\n",
        "\n",
        "3. [Chapter 14 Spatial Interpolation](https://mgimond.github.io/Spatial/spatial-interpolation.html#spatial-interpolation)"
      ],
      "metadata": {
        "id": "5QKlMGTxY9bs"
      }
    }
  ]
}