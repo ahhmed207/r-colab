{
  "cells": [
    {
      "cell_type": "markdown",
      "metadata": {
        "id": "view-in-github",
        "colab_type": "text"
      },
      "source": [
        "<a href=\"https://colab.research.google.com/github/zia207/r-colab/blob/main/NoteBook/Spatial_interpolation/universal_kriging.ipynb\" target=\"_parent\"><img src=\"https://colab.research.google.com/assets/colab-badge.svg\" alt=\"Open In Colab\"/></a>"
      ]
    },
    {
      "cell_type": "markdown",
      "metadata": {
        "id": "VwdkYOf2qiYy"
      },
      "source": [
        "# **Universal Kriging in R**\n",
        "\n",
        "Zia Ahmed, Unversity Buffalo"
      ]
    },
    {
      "cell_type": "markdown",
      "metadata": {
        "id": "bLY9PGR7rLMn"
      },
      "source": [
        "Universal Kriging (UK) is an extension of traditional Kriging that allows for the incorporation of a trend or deterministic function into the spatial interpolation process. Unlike ordinary Kriging, which assumes a constant mean across the entire dataset, Universal Kriging accounts for the presence of a systematic trend in the data. This trend can be linear, quadratic, logarithmic, or any other functional form that represents the underlying spatial pattern.\n",
        "\n",
        "Here's how Universal Kriging works:\n",
        "\n",
        "1. **Data Preparation:**\n",
        "   - You start with a dataset that includes measurements of a variable of interest at various spatial locations. Additionally, you have information about a trend or deterministic function that affects the variable's values across the study area.\n",
        "\n",
        "2. **Trend Analysis:**\n",
        "   - The first step in Universal Kriging is to analyze the trend in the data. This can be done through statistical methods or domain knowledge. The trend represents the systematic variation in the variable of interest that is not accounted for by spatial autocorrelation.\n",
        "\n",
        "3. **Detrending:**\n",
        "   - Subtract the trend component from the observed values to obtain detrended residuals. These residuals represent the spatially autocorrelated variation in the data after removing the deterministic trend.\n",
        "\n",
        "4. **Variogram Analysis:**\n",
        "   - Calculate and model the variogram of the detrended residuals. The variogram quantifies the spatial autocorrelation in the data, describing how the variance of the residuals changes with distance and direction.\n",
        "\n",
        "5. **Universal Kriging Estimation:**\n",
        "   - Universal Kriging estimates the variable of interest at unsampled locations by considering both the spatial autocorrelation (modeled through the variogram) and the trend information.\n",
        "   - The estimation equation in Universal Kriging takes the form:\n",
        "\n",
        "   Z(u)=μ(u)+∑λi[Z(xi)−μ(xi)]+T(u)\n",
        "\n",
        "Where:\n",
        "\n",
        "  * Z(u) is the estimated value at the unsampled location u.\n",
        "\n",
        "  * μ(u) represents the local mean or trend value at location u.\n",
        "\n",
        "  * i are the Kriging weights determined through variogram modeling.\n",
        "\n",
        "  * (xi) is the observed value at location xi.\n",
        "\n",
        "  * (xi) represents the local mean or trend value at location xi.\n",
        "\n",
        "  * T(u) represents the trend value at location u, which is known or estimated\n",
        "\n",
        "\n",
        "6. **Prediction Variance:**\n",
        "   - Universal Kriging provides not only the estimated values but also prediction variances. The prediction variance quantifies the uncertainty associated with the predictions, considering both the spatial variability (accounted for by the variogram) and the uncertainty in the trend estimation.\n",
        "\n",
        "Universal Kriging is particularly useful when there is a known or suspected trend in the data, such as elevation changes in topographic datasets or gradual variations in environmental variables. By incorporating both the spatial autocorrelation and the trend information, Universal Kriging provides more accurate and reliable estimates of the variable of interest across the study area."
      ]
    },
    {
      "cell_type": "markdown",
      "metadata": {
        "id": "kIYOSB7fsF8V"
      },
      "source": [
        "### Install rpy2"
      ]
    },
    {
      "cell_type": "code",
      "execution_count": 2,
      "metadata": {
        "colab": {
          "base_uri": "https://localhost:8080/"
        },
        "id": "b-MpcXyTqSZ6",
        "outputId": "35c3c14b-72e6-43d5-d9c1-021427a6aae1"
      },
      "outputs": [
        {
          "output_type": "stream",
          "name": "stdout",
          "text": [
            "Found existing installation: rpy2 3.4.2\n",
            "Uninstalling rpy2-3.4.2:\n",
            "  Successfully uninstalled rpy2-3.4.2\n",
            "Collecting rpy2==3.5.1\n",
            "  Downloading rpy2-3.5.1.tar.gz (201 kB)\n",
            "\u001b[2K     \u001b[90m━━━━━━━━━━━━━━━━━━━━━━━━━━━━━━━━━━━━━━━━\u001b[0m \u001b[32m201.7/201.7 kB\u001b[0m \u001b[31m4.5 MB/s\u001b[0m eta \u001b[36m0:00:00\u001b[0m\n",
            "\u001b[?25h  Preparing metadata (setup.py) ... \u001b[?25l\u001b[?25hdone\n",
            "Requirement already satisfied: cffi>=1.10.0 in /usr/local/lib/python3.10/dist-packages (from rpy2==3.5.1) (1.16.0)\n",
            "Requirement already satisfied: jinja2 in /usr/local/lib/python3.10/dist-packages (from rpy2==3.5.1) (3.1.2)\n",
            "Requirement already satisfied: pytz in /usr/local/lib/python3.10/dist-packages (from rpy2==3.5.1) (2023.3.post1)\n",
            "Requirement already satisfied: tzlocal in /usr/local/lib/python3.10/dist-packages (from rpy2==3.5.1) (5.1)\n",
            "Requirement already satisfied: pycparser in /usr/local/lib/python3.10/dist-packages (from cffi>=1.10.0->rpy2==3.5.1) (2.21)\n",
            "Requirement already satisfied: MarkupSafe>=2.0 in /usr/local/lib/python3.10/dist-packages (from jinja2->rpy2==3.5.1) (2.1.3)\n",
            "Building wheels for collected packages: rpy2\n",
            "  Building wheel for rpy2 (setup.py) ... \u001b[?25l\u001b[?25hdone\n",
            "  Created wheel for rpy2: filename=rpy2-3.5.1-cp310-cp310-linux_x86_64.whl size=314925 sha256=6980a2ceedb4b82abf1df9c60ff96131b804e23d5939d365ad9a6a015cef02c6\n",
            "  Stored in directory: /root/.cache/pip/wheels/73/a6/ff/4e75dd1ce1cfa2b9a670cbccf6a1e41c553199e9b25f05d953\n",
            "Successfully built rpy2\n",
            "Installing collected packages: rpy2\n",
            "Successfully installed rpy2-3.5.1\n"
          ]
        }
      ],
      "source": [
        "!pip uninstall rpy2 -y\n",
        "!pip install rpy2==3.5.1\n",
        "%load_ext rpy2.ipython"
      ]
    },
    {
      "cell_type": "markdown",
      "metadata": {
        "id": "oU-fYLjjsTYl"
      },
      "source": [
        "### Mount Google Drive"
      ]
    },
    {
      "cell_type": "code",
      "execution_count": 3,
      "metadata": {
        "colab": {
          "base_uri": "https://localhost:8080/"
        },
        "id": "TNUeHoQysXrk",
        "outputId": "ef523313-a486-4f9b-b04f-3eb758088801"
      },
      "outputs": [
        {
          "output_type": "stream",
          "name": "stdout",
          "text": [
            "Mounted at /content/drive\n"
          ]
        }
      ],
      "source": [
        "from google.colab import drive\n",
        "drive.mount('/content/drive')"
      ]
    },
    {
      "cell_type": "markdown",
      "metadata": {
        "id": "6ZU4oBq1sapM"
      },
      "source": [
        "### Check and Install Required R Packages"
      ]
    },
    {
      "cell_type": "code",
      "execution_count": null,
      "metadata": {
        "id": "QtSkFthfsbGA"
      },
      "outputs": [],
      "source": [
        "%%R\n",
        "pkg <- c('tidyverse', 'tidymodels','raster', 'rgdal','terra','tidyterra', 'maptools', 'sf', 'classInt',\n",
        "         'RColorBrewer', 'tmap','tmaptools', 'gridExtra', 'devtools', 'data.table', 'gstat','Hmisc','corrplot',\n",
        "         'ggmap','ggpmisc', 'plyr','spatstat','dismo','fields', 'moments', 'car')\n",
        "new.packages <- pkg[!(pkg %in% installed.packages(lib='drive/My Drive/R/')[,\"Package\"])]\n",
        "if(length(new.packages)) install.packages(new.packages, lib='drive/My Drive/R/')"
      ]
    },
    {
      "cell_type": "markdown",
      "metadata": {
        "id": "1TfbYB1Fsl_q"
      },
      "source": [
        "### Load R Packages"
      ]
    },
    {
      "cell_type": "code",
      "execution_count": null,
      "metadata": {
        "id": "-rHg-BweskyQ"
      },
      "outputs": [],
      "source": [
        "%%R\n",
        "# set library path\n",
        ".libPaths('drive/My Drive/R')\n",
        "library (tidyverse)\n",
        "library (tidymodels)\n",
        "library (terra)\n",
        "library (tidyterra)\n",
        "library(raster)\n",
        "library(RColorBrewer)\n",
        "library(RStoolbox)\n",
        "library(gridExtra)\n",
        "library(latticeExtra)\n",
        "library(data.table)\n",
        "library(gstat)\n",
        "library(classInt)\n",
        "library(plyr)\n",
        "library(spatstat)\n",
        "library(dismo)\n",
        "library(fields)\n",
        "library(moments)\n",
        "library(car)\n",
        "library(ggpmisc)"
      ]
    },
    {
      "cell_type": "markdown",
      "metadata": {
        "id": "xfYcJY5osuOX"
      },
      "source": [
        "### Data\n",
        "\n",
        "The following data will be used in the exercise that can be found in my [Dropbox](https://www.dropbox.com/scl/fo/j7322sbo4gdqv8a2rfqry/h?rlkey=fmlnsu08lut4pxf0s4q1jm44a&dl=0) folder.\n",
        "\n",
        "1. GP_all_data.csv\n",
        "\n",
        "2. GP_prediction_grid_data.csv"
      ]
    },
    {
      "cell_type": "code",
      "execution_count": 5,
      "metadata": {
        "colab": {
          "base_uri": "https://localhost:8080/"
        },
        "id": "pvUSj54es-QU",
        "outputId": "33fe3bf0-dc32-4429-897c-29c811589fab"
      },
      "outputs": [
        {
          "output_type": "stream",
          "name": "stdout",
          "text": [
            "Rows: 471 Columns: 21\n",
            "── Column specification ────────────────────────────────────────────────────────\n",
            "Delimiter: \",\"\n",
            "chr  (4): STATE, COUNTY, NLCD_DES, FRG_DES\n",
            "dbl (17): ID, STATE_ID, FIPS, x, y, SOC, ELEV, Aspect, Slope, TPI, K_Factor,...\n",
            "\n",
            "ℹ Use `spec()` to retrieve the full column specification for this data.\n",
            "ℹ Specify the column types or set `show_col_types = FALSE` to quiet this message.\n",
            "Rows: 10674 Columns: 13\n",
            "── Column specification ────────────────────────────────────────────────────────\n",
            "Delimiter: \",\"\n",
            "dbl (13): x, y, Aspect, ELEV, FRG, K_Factor, MAP, MAT, NDVI, NLCD, Silt_Clay...\n",
            "\n",
            "ℹ Use `spec()` to retrieve the full column specification for this data.\n",
            "ℹ Specify the column types or set `show_col_types = FALSE` to quiet this message.\n"
          ]
        }
      ],
      "source": [
        "%%R\n",
        "mf<-read_csv('/content/drive/MyDrive/R_Website/Spatial_Interpolation/Data/GP_all_data.csv')\n",
        "grid<-read_csv('/content/drive/MyDrive/R_Website/Spatial_Interpolation/Data/GP_prediction_grid_data.csv')"
      ]
    },
    {
      "cell_type": "markdown",
      "metadata": {
        "id": "Mv8rvfMlxIBX"
      },
      "source": [
        "#### Data Transformation\n",
        "\n",
        "First, we have to calculate appropriate transformation parameters using the **powerTransform()** function of the car package and then use this parameter to transform the data using the **bcPower()** function."
      ]
    },
    {
      "cell_type": "code",
      "execution_count": 6,
      "metadata": {
        "colab": {
          "base_uri": "https://localhost:8080/"
        },
        "id": "LJaPTrnJxbFz",
        "outputId": "b0f07d70-5588-4b58-cb09-dfb8da81c340"
      },
      "outputs": [
        {
          "output_type": "stream",
          "name": "stdout",
          "text": [
            "   mf$SOC \n",
            "0.2905371 \n"
          ]
        }
      ],
      "source": [
        "%%R\n",
        "power<-powerTransform(mf$SOC)\n",
        "lambda<-power$lambda\n",
        "lambda"
      ]
    },
    {
      "cell_type": "code",
      "execution_count": 7,
      "metadata": {
        "id": "oMYdxctIxhUU"
      },
      "outputs": [],
      "source": [
        "%%R\n",
        "mf$SOC.bc<-bcPower(mf$SOC,lambda)"
      ]
    },
    {
      "cell_type": "markdown",
      "source": [
        "### Split data"
      ],
      "metadata": {
        "id": "Ts-frGA3kl3U"
      }
    },
    {
      "cell_type": "code",
      "source": [
        "%%R\n",
        "# Split data\n",
        "set.seed(1245)   # for reproducibility\n",
        "split <- initial_split(mf, prop = 0.8, strata = SOC.bc)\n",
        "train <- split %>% training()\n",
        "test <-  split %>% testing()"
      ],
      "metadata": {
        "id": "e2xWiSOhkolq"
      },
      "execution_count": 8,
      "outputs": []
    },
    {
      "cell_type": "code",
      "source": [
        "%%R\n",
        "df.xy<-mf %>% dplyr::select(x, y, SOC, SOC.bc)\n",
        "train.xy<-train %>% dplyr::select(x, y, SOC, SOC.bc)\n",
        "test.xy<-test %>% dplyr::select(x, y, SOC, SOC.bc)\n",
        "grid.xy<-grid %>% dplyr::select(x,y)"
      ],
      "metadata": {
        "id": "oYgzf3Rik7r_"
      },
      "execution_count": 9,
      "outputs": []
    },
    {
      "cell_type": "markdown",
      "metadata": {
        "id": "7yQd38hKyESo"
      },
      "source": [
        "### Define x & y variables to coordinates"
      ]
    },
    {
      "cell_type": "code",
      "execution_count": 10,
      "metadata": {
        "id": "bvEjUqAeyP7Q"
      },
      "outputs": [],
      "source": [
        "%%R\n",
        "coordinates(train.xy) = ~x+y\n",
        "coordinates(test.xy) = ~x+y\n",
        "coordinates(grid.xy) = ~x+y"
      ]
    },
    {
      "cell_type": "markdown",
      "source": [
        "## **Trend Analysis**\n",
        "\n",
        "Trend Surface Analysis (TSA) is a deterministic method used for spatial interpolation and modeling. It is particularly useful when you want to capture and describe the broad, systematic trends or patterns in a set of data points distributed across a geographic area."
      ],
      "metadata": {
        "id": "gDXIW1mNGMix"
      }
    },
    {
      "cell_type": "markdown",
      "source": [
        "We will compute and visualize a first-order trend surface using the **krige()** function of the gstat package. First, we will fit a linear model using x and y coordinates as predictors.\n",
        "\n"
      ],
      "metadata": {
        "id": "UBjLfsD4Gsm4"
      }
    },
    {
      "cell_type": "code",
      "source": [
        "%%R\n",
        "trend.lm<-lm(SOC.bc~x+y, data=as.data.frame(df.xy))\n",
        "summary(trend.lm)"
      ],
      "metadata": {
        "colab": {
          "base_uri": "https://localhost:8080/"
        },
        "id": "7W3Kr8O7Gzzq",
        "outputId": "253eeb16-e801-44b1-daba-dc2d95fa2551"
      },
      "execution_count": 12,
      "outputs": [
        {
          "output_type": "stream",
          "name": "stdout",
          "text": [
            "\n",
            "Call:\n",
            "lm(formula = SOC.bc ~ x + y, data = as.data.frame(df.xy))\n",
            "\n",
            "Residuals:\n",
            "    Min      1Q  Median      3Q     Max \n",
            "-4.2936 -0.8183 -0.0773  0.8425  4.1452 \n",
            "\n",
            "Coefficients:\n",
            "             Estimate Std. Error t value Pr(>|t|)    \n",
            "(Intercept) 5.724e-01  3.176e-01   1.802   0.0721 .  \n",
            "x           7.134e-07  1.775e-07   4.018 6.83e-05 ***\n",
            "y           1.106e-06  1.646e-07   6.721 5.28e-11 ***\n",
            "---\n",
            "Signif. codes:  0 ‘***’ 0.001 ‘**’ 0.01 ‘*’ 0.05 ‘.’ 0.1 ‘ ’ 1\n",
            "\n",
            "Residual standard error: 1.298 on 468 degrees of freedom\n",
            "Multiple R-squared:  0.1082,\tAdjusted R-squared:  0.1044 \n",
            "F-statistic: 28.39 on 2 and 468 DF,  p-value: 2.315e-12\n",
            "\n"
          ]
        }
      ]
    },
    {
      "cell_type": "markdown",
      "source": [
        "It looks like x and y are significant, implying a significant trend of SOC in both the x and y directions. So have to detrend the data, or we have to use UK instead of OK.  "
      ],
      "metadata": {
        "id": "JuhF1B2PIYIH"
      }
    },
    {
      "cell_type": "code",
      "source": [
        "%%R\n",
        "trend<-krige(SOC.bc~x+y, train.xy, grid.xy, model=NULL)\n",
        "summary(trend)"
      ],
      "metadata": {
        "colab": {
          "base_uri": "https://localhost:8080/"
        },
        "id": "k0wN54JFJlC6",
        "outputId": "70fc946b-6b85-45fb-f378-9c261e6e3e3d"
      },
      "execution_count": 13,
      "outputs": [
        {
          "output_type": "stream",
          "name": "stdout",
          "text": [
            "[ordinary or weighted least squares prediction]\n",
            "Object of class SpatialPointsDataFrame\n",
            "Coordinates:\n",
            "       min     max\n",
            "x -1245285  114715\n",
            "y  1003795 2533795\n",
            "Is projected: NA \n",
            "proj4string : [NA]\n",
            "Number of points: 10674\n",
            "Data attributes:\n",
            "   var1.pred         var1.var    \n",
            " Min.   :0.8405   Min.   :1.647  \n",
            " 1st Qu.:1.6124   1st Qu.:1.650  \n",
            " Median :2.1003   Median :1.655  \n",
            " Mean   :1.9853   Mean   :1.656  \n",
            " 3rd Qu.:2.3475   3rd Qu.:1.661  \n",
            " Max.   :2.8547   Max.   :1.681  \n"
          ]
        }
      ]
    },
    {
      "cell_type": "code",
      "source": [
        "%%R -w 400 -h 375 -u px\n",
        "trend.r<-rasterFromXYZ(as.data.frame(trend)[, c(\"x\", \"y\", \"var1.pred\")])\n",
        "ggR(trend.r, geom_raster = TRUE) +\n",
        "scale_fill_gradientn(\"\", colours = c(\"orange\", \"yellow\", \"green\",  \"sky blue\",\"blue\"))+\n",
        "  theme_bw()+\n",
        "    theme(axis.title.x=element_blank(),\n",
        "        axis.text.x=element_blank(),\n",
        "        axis.ticks.x=element_blank(),\n",
        "        axis.title.y=element_blank(),\n",
        "        axis.text.y=element_blank(),\n",
        "        axis.ticks.y=element_blank())+\n",
        "   ggtitle(\"Global Trend of BoxCox-SOC\")+\n",
        "   theme(plot.title = element_text(hjust = 0.5))"
      ],
      "metadata": {
        "colab": {
          "base_uri": "https://localhost:8080/",
          "height": 392
        },
        "id": "mPHxrwYnJzfm",
        "outputId": "88816a68-cbf5-4a86-eb3b-edb3c320a398"
      },
      "execution_count": 14,
      "outputs": [
        {
          "output_type": "display_data",
          "data": {
            "image/png": "[encoded data removed]"
          },
          "metadata": {}
        }
      ]
    },
    {
      "cell_type": "markdown",
      "metadata": {
        "id": "lz_QtviPyYy5"
      },
      "source": [
        "## **Variogram Modeling**\n",
        "\n",
        "In the UK, the semivariances are derived from residuals, not from the original data, as the random element of the spatial structure is only applied to residuals. The residuals model parameters will typically differ significantly from the initial variogram model (usually: lower sill; shorter range) as the the global trend has taken out some of the variation.\n",
        "\n",
        "In gstat, we can compute residual varoigram directly, if we provide an appropriate model formula; you do not have to compute the residuals manually.\n",
        "\n",
        "We use the variogram method and specify the spatial dependence with the formula SOC.bc ~ x+y (as opposed to SOC.bc ~ 1 in the ordinary variogram). This has the same meaning as in the lm (linear regression) model specification: the SOC concentration is to be predicted using Ist order trend; then the residuals are to be modeled spatially."
      ]
    },
    {
      "cell_type": "markdown",
      "source": [
        "### Original Variogram"
      ],
      "metadata": {
        "id": "6JqRenGTLhCt"
      }
    },
    {
      "cell_type": "code",
      "execution_count": 35,
      "metadata": {
        "colab": {
          "base_uri": "https://localhost:8080/"
        },
        "id": "NLhF7hvKykHB",
        "outputId": "a9cf1236-8ba8-42ba-b038-1178ddb370d0"
      },
      "outputs": [
        {
          "output_type": "stream",
          "name": "stdout",
          "text": [
            "  model     psill    range\n",
            "1   Nug 0.5294554     0.00\n",
            "2   Exp 1.2106521 76169.68\n"
          ]
        }
      ],
      "source": [
        "%%R\n",
        "# Variogram\n",
        "v<-variogram(SOC.bc~ 1, data = train.xy, cloud=F)\n",
        "# Intial parameter set by eye esitmation\n",
        "m<-vgm(1.5,\"Exp\",40000,0.5)\n",
        "# least square fit\n",
        "m.f<-fit.variogram(v, m)\n",
        "m.f\n"
      ]
    },
    {
      "cell_type": "code",
      "execution_count": 36,
      "metadata": {
        "colab": {
          "base_uri": "https://localhost:8080/",
          "height": 392
        },
        "id": "aWKDKgOXysLz",
        "outputId": "e09dd85d-64a8-4d2e-c1bd-2d799b787262"
      },
      "outputs": [
        {
          "output_type": "display_data",
          "data": {
            "image/png": "[encoded data removed]"
          },
          "metadata": {}
        }
      ],
      "source": [
        "%%R -w 400 -h 375 -u px\n",
        "# Plot varigram and fitted model:\n",
        "plot(v.bc, pl=F,\n",
        "     model=m.f,\n",
        "     col=\"black\",\n",
        "     cex=0.9,\n",
        "     lwd=0.5,\n",
        "     lty=1,\n",
        "     pch=19,\n",
        "     main=\"Orginal Variogram of SOC\",\n",
        "     xlab=\"Distance (m)\",\n",
        "     ylab=\"Semivariance\")\n"
      ]
    },
    {
      "cell_type": "markdown",
      "source": [
        "### Residual Varigram"
      ],
      "metadata": {
        "id": "YzbFzmHrLt4S"
      }
    },
    {
      "cell_type": "code",
      "source": [
        "%%R\n",
        "# Variogram\n",
        "v.r<-variogram(SOC.bc~ x+y, data = train.xy, cloud=F)\n",
        "# Intial parameter set by eye esitmation\n",
        "m.r<-vgm(1.5,\"Exp\",40000,0.5)\n",
        "# least square fit\n",
        "m.f.r<-fit.variogram(v.r, m.r)\n",
        "m.f.r"
      ],
      "metadata": {
        "colab": {
          "base_uri": "https://localhost:8080/"
        },
        "id": "Wncr-VmQL1nj",
        "outputId": "69f9ee81-5690-4b3c-a854-b7f9ce02bb4d"
      },
      "execution_count": 37,
      "outputs": [
        {
          "output_type": "stream",
          "name": "stdout",
          "text": [
            "  model     psill    range\n",
            "1   Nug 0.5355865     0.00\n",
            "2   Exp 1.2056882 76855.21\n"
          ]
        }
      ]
    },
    {
      "cell_type": "code",
      "source": [
        "%%R -w 400 -h 375 -u px\n",
        "# Plot varigram and fitted model:\n",
        "plot(v.bc.r, pl=F,\n",
        "     model=vm.bc.r,\n",
        "     col=\"black\",\n",
        "     cex=0.9,\n",
        "     lwd=0.5,\n",
        "     lty=1,\n",
        "     pch=19,\n",
        "     main=\"Residuals Variogram of SOC\",\n",
        "     xlab=\"Distance (m)\",\n",
        "     ylab=\"Semivariance\")"
      ],
      "metadata": {
        "colab": {
          "base_uri": "https://localhost:8080/",
          "height": 392
        },
        "id": "Ogu8JqSBMH8N",
        "outputId": "19359424-0e54-4597-b151-46581d5725f6"
      },
      "execution_count": null,
      "outputs": [
        {
          "output_type": "display_data",
          "data": {
            "image/png": "[encoded data removed]"
          },
          "metadata": {}
        }
      ]
    },
    {
      "cell_type": "markdown",
      "metadata": {
        "id": "aXNKmBbQ0ZJH"
      },
      "source": [
        "## **K-fold Cross Validation**\n",
        "\n",
        "\n",
        "K-fold cross-validation is a widely used technique in machine learning and statistics to assess the performance and generalization of a predictive model. It involves dividing a dataset into K subsets or \"folds,\" using K-1 folds for training and the remaining fold for testing. This process is repeated K times, with each fold serving as the test set once. K-fold cross-validation helps to provide a more reliable estimate of a model's performance and its ability to generalize to new, unseen data."
      ]
    },
    {
      "cell_type": "markdown",
      "metadata": {
        "id": "WEY0XFxT0wsA"
      },
      "source": [
        "We will use **krige.cv()** to evaluate the model with k-fold cross validation. We will use formula SOC.bc ~ x+y as opposed to SOC.bc ~ 1 in the OK."
      ]
    },
    {
      "cell_type": "code",
      "execution_count": 38,
      "metadata": {
        "colab": {
          "base_uri": "https://localhost:8080/"
        },
        "id": "xKGAkrLj0Ygr",
        "outputId": "ee5b284f-d0f2-48b4-e53c-bc59731d32a9"
      },
      "outputs": [
        {
          "output_type": "stream",
          "name": "stdout",
          "text": [
            "  |======================================================================| 100%\n"
          ]
        }
      ],
      "source": [
        "%%R\n",
        "cv<-krige.cv(SOC.bc ~ x+y,\n",
        "         train.xy,              # data\n",
        "         model = m.f.r,      # fitted varigram model\n",
        "         nfold=10)           # five-fold cross validation"
      ]
    },
    {
      "cell_type": "code",
      "execution_count": 39,
      "metadata": {
        "colab": {
          "base_uri": "https://localhost:8080/"
        },
        "id": "wmKLH72K1Eyq",
        "outputId": "539fa86a-a55d-4493-e1d9-42cd2d1e7ae9"
      },
      "outputs": [
        {
          "output_type": "stream",
          "name": "stdout",
          "text": [
            "Object of class SpatialPointsDataFrame\n",
            "Coordinates:\n",
            "       min        max\n",
            "x -1246454   95251.19\n",
            "y  1038971 2518794.48\n",
            "Is projected: NA \n",
            "proj4string : [NA]\n",
            "Number of points: 375\n",
            "Data attributes:\n",
            "   var1.pred         var1.var         observed         residual        \n",
            " Min.   :-0.975   Min.   :0.8426   Min.   :-2.979   Min.   :-3.610097  \n",
            " 1st Qu.: 1.468   1st Qu.:1.0539   1st Qu.: 1.176   1st Qu.:-0.668418  \n",
            " Median : 2.059   Median :1.1392   Median : 2.030   Median :-0.017711  \n",
            " Mean   : 2.037   Mean   :1.1490   Mean   : 2.039   Mean   : 0.001698  \n",
            " 3rd Qu.: 2.661   3rd Qu.:1.2336   3rd Qu.: 2.998   3rd Qu.: 0.745375  \n",
            " Max.   : 4.314   Max.   :1.5593   Max.   : 5.846   Max.   : 3.008499  \n",
            "     zscore              fold       \n",
            " Min.   :-3.37965   Min.   : 1.000  \n",
            " 1st Qu.:-0.61010   1st Qu.: 3.000  \n",
            " Median :-0.01677   Median : 5.000  \n",
            " Mean   :-0.00131   Mean   : 5.437  \n",
            " 3rd Qu.: 0.69218   3rd Qu.: 8.000  \n",
            " Max.   : 2.99437   Max.   :10.000  \n"
          ]
        }
      ],
      "source": [
        "%%R\n",
        "summary(cv)"
      ]
    },
    {
      "cell_type": "markdown",
      "metadata": {
        "id": "NMoJWrO01SrI"
      },
      "source": [
        "### Residuals plot"
      ]
    },
    {
      "cell_type": "code",
      "execution_count": null,
      "metadata": {
        "colab": {
          "base_uri": "https://localhost:8080/",
          "height": 417
        },
        "id": "Mv_7VAIs1NCi",
        "outputId": "f1790dd3-2521-4213-da55-b7946f756e8e"
      },
      "outputs": [
        {
          "output_type": "display_data",
          "data": {
            "image/png": "[encoded data removed]"
          },
          "metadata": {}
        }
      ],
      "source": [
        "%%R -w 400 -h 400 -u px\n",
        "bubble(cv, zcol = \"residual\", maxsize = 2.0,  main = \"K-fold Cross-validation residuals\")"
      ]
    },
    {
      "cell_type": "markdown",
      "metadata": {
        "id": "ZIe45qje1kgx"
      },
      "source": [
        "### Evaluation Matrix"
      ]
    },
    {
      "cell_type": "code",
      "execution_count": 40,
      "metadata": {
        "id": "kJsaR4AF1eWp",
        "colab": {
          "base_uri": "https://localhost:8080/"
        },
        "outputId": "a2a912b4-18a1-402a-db64-b157cff5fcea"
      },
      "outputs": [
        {
          "output_type": "stream",
          "name": "stdout",
          "text": [
            "[1] 1.065\n"
          ]
        }
      ],
      "source": [
        "%%R\n",
        "# Mean Error (ME)\n",
        "ME<-round(mean(cv$residual),3)\n",
        "# Mean Absolute Error\n",
        "MAE<-round(mean(abs(cv$residual)),3)\n",
        "# Root Mean Squre Error (RMSE)\n",
        "RMSE<-round(sqrt(mean(cv$residual^2)),3)\n",
        "# Mean Squared Deviation Ratio (MSDR)\n",
        "MSDR<-mean(cv$residual^2/cv$var1.var)\n",
        "RMSE\n"
      ]
    },
    {
      "cell_type": "markdown",
      "metadata": {
        "id": "XXs8zXuY120J"
      },
      "source": [
        "### Plot Observed vs Predicted values"
      ]
    },
    {
      "cell_type": "code",
      "execution_count": 41,
      "metadata": {
        "colab": {
          "base_uri": "https://localhost:8080/",
          "height": 434
        },
        "id": "9kJOMc5c11uY",
        "outputId": "93a69de6-c446-4454-d0f0-8ba0612f08fc"
      },
      "outputs": [
        {
          "output_type": "stream",
          "name": "stdout",
          "text": [
            "`geom_smooth()` using formula = 'y ~ x'\n"
          ]
        },
        {
          "output_type": "display_data",
          "data": {
            "image/png": "[encoded data removed]"
          },
          "metadata": {}
        }
      ],
      "source": [
        "%%R -w 400 -h 400 -u px\n",
        "\n",
        "cv.df<-as.data.frame(cv)\n",
        "\n",
        "formula<-y~x\n",
        "\n",
        "ggplot(cv.df, aes(observed,var1.pred)) +\n",
        "  geom_point() +\n",
        "  geom_smooth(method = \"lm\")+\n",
        "  stat_poly_eq(use_label(c(\"eq\", \"adj.R2\")), formula = formula) +\n",
        "  ggtitle(\"CV Predicted vs Observed BoxCox-SOC\") +\n",
        "  xlab(\"Observed\") + ylab(\"Predicted\") +\n",
        "  scale_x_continuous(limits=c(0,6), breaks=seq(0, 6, 1))+\n",
        "  scale_y_continuous(limits=c(0,6), breaks=seq(0, 6, 1)) +\n",
        "  theme(\n",
        "    panel.background = element_rect(fill = \"grey95\",colour = \"gray75\",size = 0.5, linetype = \"solid\"),\n",
        "    axis.line = element_line(colour = \"grey\"),\n",
        "    plot.title = element_text(size = 14, hjust = 0.5),\n",
        "    axis.title.x = element_text(size = 14),\n",
        "    axis.title.y = element_text(size = 14),\n",
        "    axis.text.x=element_text(size=13, colour=\"black\"),\n",
        "    axis.text.y=element_text(size=13,angle = 90,vjust = 0.5, hjust=0.5, colour='black'))"
      ]
    },
    {
      "cell_type": "markdown",
      "metadata": {
        "id": "EHqngme561C6"
      },
      "source": [
        "## **Validation with an test Data Set**"
      ]
    },
    {
      "cell_type": "code",
      "execution_count": 42,
      "metadata": {
        "colab": {
          "base_uri": "https://localhost:8080/"
        },
        "id": "CieukBjN7B1o",
        "outputId": "4b8a11cc-c25a-4ca6-ed49-682e97f34aef"
      },
      "outputs": [
        {
          "output_type": "stream",
          "name": "stdout",
          "text": [
            "[using universal kriging]\n"
          ]
        }
      ],
      "source": [
        "%%R\n",
        "val<-krige(SOC.bc ~ x+y,\n",
        "         loc=train.xy,        # train data\n",
        "         newdata=test.xy,         # test data\n",
        "         model = m.f.r)"
      ]
    },
    {
      "cell_type": "code",
      "execution_count": null,
      "metadata": {
        "colab": {
          "base_uri": "https://localhost:8080/"
        },
        "id": "INySwW_v7Nr-",
        "outputId": "fbdb6edf-59f2-4955-e2b5-876487d18ecb"
      },
      "outputs": [
        {
          "output_type": "stream",
          "name": "stdout",
          "text": [
            "Object of class SpatialPointsDataFrame\n",
            "Coordinates:\n",
            "       min        max\n",
            "x -1186067   70606.76\n",
            "y  1038971 2502087.41\n",
            "Is projected: NA \n",
            "proj4string : [NA]\n",
            "Number of points: 101\n",
            "Data attributes:\n",
            "   var1.pred        var1.var     \n",
            " Min.   :0.203   Min.   :0.5069  \n",
            " 1st Qu.:1.437   1st Qu.:0.9860  \n",
            " Median :1.883   Median :1.1830  \n",
            " Mean   :2.051   Mean   :1.1203  \n",
            " 3rd Qu.:2.682   3rd Qu.:1.2837  \n",
            " Max.   :4.290   Max.   :1.4943  \n"
          ]
        }
      ],
      "source": [
        "%%R\n",
        "summary(val)"
      ]
    },
    {
      "cell_type": "markdown",
      "metadata": {
        "id": "NW3p-1KQ7hLi"
      },
      "source": [
        "###  Residuals"
      ]
    },
    {
      "cell_type": "code",
      "execution_count": 44,
      "metadata": {
        "colab": {
          "base_uri": "https://localhost:8080/",
          "height": 417
        },
        "id": "MJS1Rboe7YH6",
        "outputId": "b3c320be-0672-4bc3-8b00-dd3200ffe88e"
      },
      "outputs": [
        {
          "output_type": "display_data",
          "data": {
            "image/png": "[encoded data removed]"
          },
          "metadata": {}
        }
      ],
      "source": [
        "%%R -w 400 -h 400 -u px\n",
        "test.xy$SOC.pred<-val$var1.pred\n",
        "test.xy$SOC.var<-val$var1.var\n",
        "test.xy$residual<-(test.xy$SOC.bc-test.xy$SOC.pred)\n",
        "bubble(test.xy, zcol = \"residual\", maxsize = 2.0,  main = \"Residuals at Test Data\")"
      ]
    },
    {
      "cell_type": "code",
      "execution_count": 45,
      "metadata": {
        "colab": {
          "base_uri": "https://localhost:8080/"
        },
        "id": "tKMh4pur7wLL",
        "outputId": "5f0e9d12-9cc0-4066-a0c2-68e4863a698c"
      },
      "outputs": [
        {
          "output_type": "stream",
          "name": "stdout",
          "text": [
            "[1] 1.099\n"
          ]
        }
      ],
      "source": [
        "%%R\n",
        "# Mean Error (ME)\n",
        "ME<-round(mean(test.xy$residual),3)\n",
        "# Mean Absolute Error\n",
        "MAE<-round(mean(abs(test.xy$residual)),3)\n",
        "# Root Mean Squre Error (RMSE)\n",
        "RMSE<-round(sqrt(mean(test.xy$residual^2)),3)\n",
        "RMSE"
      ]
    },
    {
      "cell_type": "code",
      "execution_count": null,
      "metadata": {
        "colab": {
          "base_uri": "https://localhost:8080/",
          "height": 434
        },
        "id": "uOU1YwjK73g3",
        "outputId": "b103f2d6-ed28-4b14-85d3-5ce866ffc00c"
      },
      "outputs": [
        {
          "output_type": "stream",
          "name": "stdout",
          "text": [
            "`geom_smooth()` using formula = 'y ~ x'\n"
          ]
        },
        {
          "output_type": "display_data",
          "data": {
            "image/png": "[encoded data removed]"
          },
          "metadata": {}
        }
      ],
      "source": [
        "%%R -w 400 -h 400 -u px\n",
        "\n",
        "test.df<-as.data.frame(test.xy)\n",
        "\n",
        "formula<-y~x\n",
        "\n",
        "ggplot(test.df, aes(SOC.bc,SOC.pred)) +\n",
        "  geom_point() +\n",
        "  geom_smooth(method = \"lm\")+\n",
        "  stat_poly_eq(use_label(c(\"eq\", \"adj.R2\")), formula = formula) +\n",
        "  ggtitle(\"UK Predicted vs Observed BoxCox-SOC at Test locations\") +\n",
        "  xlab(\"Observed\") + ylab(\"Predicted\") +\n",
        "  scale_x_continuous(limits=c(0,6), breaks=seq(0, 6, 1))+\n",
        "  scale_y_continuous(limits=c(0,6), breaks=seq(0, 6, 1)) +\n",
        "  theme(\n",
        "    panel.background = element_rect(fill = \"grey95\",colour = \"gray75\",size = 0.5, linetype = \"solid\"),\n",
        "    axis.line = element_line(colour = \"grey\"),\n",
        "    plot.title = element_text(size = 14, hjust = 0.5),\n",
        "    axis.title.x = element_text(size = 14),\n",
        "    axis.title.y = element_text(size = 14),\n",
        "    axis.text.x=element_text(size=13, colour=\"black\"),\n",
        "    axis.text.y=element_text(size=13,angle = 90,vjust = 0.5, hjust=0.5, colour='black'))"
      ]
    },
    {
      "cell_type": "markdown",
      "metadata": {
        "id": "XBbIXPJG5eLB"
      },
      "source": [
        "## **UK Kriging Prediction**\n",
        "\n",
        "We can use the krige() function with one additional argument: **block**, which gives the block's dimensions as a list. For the usual case of a 2D block (surface area), this is a list of two dimensions (usually, but not necessarily the same). We will use formula SOC.bc ~ x+y as opposed to SOC.bc ~ 1 in the OK."
      ]
    },
    {
      "cell_type": "code",
      "execution_count": 46,
      "metadata": {
        "colab": {
          "base_uri": "https://localhost:8080/"
        },
        "id": "bvUrzxF158V-",
        "outputId": "abf9d170-e6c4-4b44-ae19-03e47d5b2a20"
      },
      "outputs": [
        {
          "output_type": "stream",
          "name": "stdout",
          "text": [
            "[using universal kriging]\n"
          ]
        }
      ],
      "source": [
        "%%R\n",
        "UK <- krige(SOC.bc ~ x+y,\n",
        "                 loc =  train.xy,\n",
        "                 newdata = grid.xy,\n",
        "                 model = m.f.r,\n",
        "                 block = c(50000, 50000)) # 50 km x 50 km"
      ]
    },
    {
      "cell_type": "markdown",
      "source": [
        "### Back transformation"
      ],
      "metadata": {
        "id": "l6Of97cEN_nV"
      }
    },
    {
      "cell_type": "code",
      "execution_count": 47,
      "metadata": {
        "id": "GURw4kzo6JIA"
      },
      "outputs": [],
      "source": [
        "%%R\n",
        "# Back transformation\n",
        "k<-1/lambda\n",
        "UK$UK.pred <-((UK$var1.pred *lambda+1)^k)\n",
        "UK$UK.var <-((UK$var1.var *lambda+1)^k)\n"
      ]
    },
    {
      "cell_type": "code",
      "execution_count": 48,
      "metadata": {
        "colab": {
          "base_uri": "https://localhost:8080/",
          "height": 417
        },
        "id": "1PkOzOUS6eD3",
        "outputId": "500ab0ea-1b5a-4340-df3b-ebcb949a9aa6"
      },
      "outputs": [
        {
          "output_type": "display_data",
          "data": {
            "image/png": "[encoded data removed]"
          },
          "metadata": {}
        }
      ],
      "source": [
        "%%R -w 700 -h 400 -u px\n",
        "\n",
        "UK.pred<-rasterFromXYZ(as.data.frame(UK)[, c(\"x\", \"y\", \"UK.pred\")])\n",
        "UK.var<-rasterFromXYZ(as.data.frame(UK)[, c(\"x\", \"y\", \"UK.var\")])\n",
        "\n",
        "# Predicted SOC\n",
        "p3<-ggR(UK.pred, geom_raster = TRUE) +\n",
        "scale_fill_gradientn(\"SOC\", colours = c(\"orange\", \"yellow\", \"green\",  \"sky blue\",\"blue\"))+\n",
        "  theme_bw()+\n",
        "    theme(axis.title.x=element_blank(),\n",
        "        axis.text.x=element_blank(),\n",
        "        axis.ticks.x=element_blank(),\n",
        "        axis.title.y=element_blank(),\n",
        "        axis.text.y=element_blank(),\n",
        "        axis.ticks.y=element_blank())+\n",
        "   ggtitle(\"UK Predicted SOC\")+\n",
        "   theme(plot.title = element_text(hjust = 0.5))\n",
        "\n",
        "# Error\n",
        "p4<-ggR(UK.var, geom_raster = TRUE) +\n",
        "scale_fill_gradientn(\"SOC\", colours = c(\"orange\", \"yellow\", \"green\",  \"sky blue\",\"blue\"))+\n",
        "  theme_bw()+\n",
        "    theme(axis.title.x=element_blank(),\n",
        "        axis.text.x=element_blank(),\n",
        "        axis.ticks.x=element_blank(),\n",
        "        axis.title.y=element_blank(),\n",
        "        axis.text.y=element_blank(),\n",
        "        axis.ticks.y=element_blank())+\n",
        "   ggtitle(\"UK Variance of SOC\")+\n",
        "   theme(plot.title = element_text(hjust = 0.5))\n",
        "\n",
        "grid.arrange(p3,p4, ncol = 2)  # Multiplot"
      ]
    },
    {
      "cell_type": "markdown",
      "metadata": {
        "id": "y3TgekWf8XE3"
      },
      "source": [
        "### Further Reading\n",
        "\n",
        "1. [Understanding universal kriging](https://pro.arcgis.com/en/pro-app/latest/help/analysis/geostatistical-analyst/understanding-universal-kriging.htm)\n",
        "\n",
        "2. [What You Need About Universal Kriging: A Complete Guide](https://giscourse.online/what-you-need-about-universal-kriging-a-complete-guide/)\n",
        "\n",
        "3. [Spatial interpolation in R](https://pages.cms.hu-berlin.de/EOL/gcg_quantitative-methods/Lab14_Kriging.html#Sample_variogram)"
      ]
    }
  ],
  "metadata": {
    "colab": {
      "provenance": [],
      "authorship_tag": "ABX9TyPVL3NMlpLTQS8vrSsY2hu9",
      "include_colab_link": true
    },
    "kernelspec": {
      "display_name": "Python 3",
      "name": "python3"
    },
    "language_info": {
      "name": "python"
    }
  },
  "nbformat": 4,
  "nbformat_minor": 0
}