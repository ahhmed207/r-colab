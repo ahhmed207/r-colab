{
  "cells": [
    {
      "cell_type": "markdown",
      "metadata": {
        "id": "view-in-github",
        "colab_type": "text"
      },
      "source": [
        "<a href=\"https://colab.research.google.com/github/zia207/r-colab/blob/main/NoteBook/Spatial_interpolation/universal_kriging.ipynb\" target=\"_parent\"><img src=\"https://colab.research.google.com/assets/colab-badge.svg\" alt=\"Open In Colab\"/></a>"
      ]
    },
    {
      "cell_type": "markdown",
      "metadata": {
        "id": "VwdkYOf2qiYy"
      },
      "source": [
        "# Universal Kriging in R\n",
        "\n",
        "Zia Ahmed, Unversity Buffalo"
      ]
    },
    {
      "cell_type": "markdown",
      "metadata": {
        "id": "bLY9PGR7rLMn"
      },
      "source": [
        "Universal Kriging (UK) is an extension of traditional Kriging that allows for the incorporation of a trend or deterministic function into the spatial interpolation process. Unlike ordinary Kriging, which assumes a constant mean across the entire dataset, Universal Kriging accounts for the presence of a systematic trend in the data. This trend can be linear, quadratic, logarithmic, or any other functional form that represents the underlying spatial pattern.\n",
        "\n",
        "Here's how Universal Kriging works:\n",
        "\n",
        "1. **Data Preparation:**\n",
        "   - You start with a dataset that includes measurements of a variable of interest at various spatial locations. Additionally, you have information about a trend or deterministic function that affects the variable's values across the study area.\n",
        "\n",
        "2. **Trend Analysis:**\n",
        "   - The first step in Universal Kriging is to analyze the trend in the data. This can be done through statistical methods or domain knowledge. The trend represents the systematic variation in the variable of interest that is not accounted for by spatial autocorrelation.\n",
        "\n",
        "3. **Detrending:**\n",
        "   - Subtract the trend component from the observed values to obtain detrended residuals. These residuals represent the spatially autocorrelated variation in the data after removing the deterministic trend.\n",
        "\n",
        "4. **Variogram Analysis:**\n",
        "   - Calculate and model the variogram of the detrended residuals. The variogram quantifies the spatial autocorrelation in the data, describing how the variance of the residuals changes with distance and direction.\n",
        "\n",
        "5. **Universal Kriging Estimation:**\n",
        "   - Universal Kriging estimates the variable of interest at unsampled locations by considering both the spatial autocorrelation (modeled through the variogram) and the trend information.\n",
        "   - The estimation equation in Universal Kriging takes the form:\n",
        "\n",
        "   Z(u)=μ(u)+∑λi[Z(xi)−μ(xi)]+T(u)\n",
        "\n",
        "Where:\n",
        "\n",
        "  * Z(u) is the estimated value at the unsampled location u.\n",
        "\n",
        "  * μ(u) represents the local mean or trend value at location u.\n",
        "\n",
        "  * i are the Kriging weights determined through variogram modeling.\n",
        "\n",
        "  * (xi) is the observed value at location xi.\n",
        "\n",
        "  * (xi) represents the local mean or trend value at location xi.\n",
        "\n",
        "  * T(u) represents the trend value at location u, which is known or estimated\n",
        "\n",
        "\n",
        "6. **Prediction Variance:**\n",
        "   - Universal Kriging provides not only the estimated values but also prediction variances. The prediction variance quantifies the uncertainty associated with the predictions, considering both the spatial variability (accounted for by the variogram) and the uncertainty in the trend estimation.\n",
        "\n",
        "Universal Kriging is particularly useful when there is a known or suspected trend in the data, such as elevation changes in topographic datasets or gradual variations in environmental variables. By incorporating both the spatial autocorrelation and the trend information, Universal Kriging provides more accurate and reliable estimates of the variable of interest across the study area."
      ]
    },
    {
      "cell_type": "markdown",
      "metadata": {
        "id": "kIYOSB7fsF8V"
      },
      "source": [
        "### Install rpy2"
      ]
    },
    {
      "cell_type": "code",
      "execution_count": null,
      "metadata": {
        "colab": {
          "base_uri": "https://localhost:8080/"
        },
        "id": "b-MpcXyTqSZ6",
        "outputId": "cd8f2d14-c33d-414d-c349-b87ab69e02cc"
      },
      "outputs": [
        {
          "output_type": "stream",
          "name": "stdout",
          "text": [
            "Found existing installation: rpy2 3.4.2\n",
            "Uninstalling rpy2-3.4.2:\n",
            "  Successfully uninstalled rpy2-3.4.2\n",
            "Collecting rpy2==3.5.1\n",
            "  Downloading rpy2-3.5.1.tar.gz (201 kB)\n",
            "\u001b[2K     \u001b[90m━━━━━━━━━━━━━━━━━━━━━━━━━━━━━━━━━━━━━━━━\u001b[0m \u001b[32m201.7/201.7 kB\u001b[0m \u001b[31m4.5 MB/s\u001b[0m eta \u001b[36m0:00:00\u001b[0m\n",
            "\u001b[?25h  Preparing metadata (setup.py) ... \u001b[?25l\u001b[?25hdone\n",
            "Requirement already satisfied: cffi>=1.10.0 in /usr/local/lib/python3.10/dist-packages (from rpy2==3.5.1) (1.16.0)\n",
            "Requirement already satisfied: jinja2 in /usr/local/lib/python3.10/dist-packages (from rpy2==3.5.1) (3.1.2)\n",
            "Requirement already satisfied: pytz in /usr/local/lib/python3.10/dist-packages (from rpy2==3.5.1) (2023.3.post1)\n",
            "Requirement already satisfied: tzlocal in /usr/local/lib/python3.10/dist-packages (from rpy2==3.5.1) (5.1)\n",
            "Requirement already satisfied: pycparser in /usr/local/lib/python3.10/dist-packages (from cffi>=1.10.0->rpy2==3.5.1) (2.21)\n",
            "Requirement already satisfied: MarkupSafe>=2.0 in /usr/local/lib/python3.10/dist-packages (from jinja2->rpy2==3.5.1) (2.1.3)\n",
            "Building wheels for collected packages: rpy2\n",
            "  Building wheel for rpy2 (setup.py) ... \u001b[?25l\u001b[?25hdone\n",
            "  Created wheel for rpy2: filename=rpy2-3.5.1-cp310-cp310-linux_x86_64.whl size=314930 sha256=64acf95c298bc9f870c547033a1241dd3330804abd4d7548d214dcb4af868e88\n",
            "  Stored in directory: /root/.cache/pip/wheels/73/a6/ff/4e75dd1ce1cfa2b9a670cbccf6a1e41c553199e9b25f05d953\n",
            "Successfully built rpy2\n",
            "Installing collected packages: rpy2\n",
            "Successfully installed rpy2-3.5.1\n"
          ]
        }
      ],
      "source": [
        "!pip uninstall rpy2 -y\n",
        "!pip install rpy2==3.5.1\n",
        "%load_ext rpy2.ipython"
      ]
    },
    {
      "cell_type": "markdown",
      "metadata": {
        "id": "oU-fYLjjsTYl"
      },
      "source": [
        "### Mount Google Drive"
      ]
    },
    {
      "cell_type": "code",
      "execution_count": null,
      "metadata": {
        "colab": {
          "base_uri": "https://localhost:8080/"
        },
        "id": "TNUeHoQysXrk",
        "outputId": "fa0f821f-5ada-484d-fb91-3ac34934e19b"
      },
      "outputs": [
        {
          "output_type": "stream",
          "name": "stdout",
          "text": [
            "Mounted at /content/drive\n"
          ]
        }
      ],
      "source": [
        "from google.colab import drive\n",
        "drive.mount('/content/drive')"
      ]
    },
    {
      "cell_type": "markdown",
      "metadata": {
        "id": "6ZU4oBq1sapM"
      },
      "source": [
        "### Check and Install Required R Packages"
      ]
    },
    {
      "cell_type": "code",
      "execution_count": null,
      "metadata": {
        "id": "QtSkFthfsbGA"
      },
      "outputs": [],
      "source": [
        "%%R\n",
        "pkg <- c('tidyverse', 'raster', 'rgdal','terra','tidyterra', 'maptools', 'sf', 'classInt',\n",
        "         'RColorBrewer', 'tmap','tmaptools', 'gridExtra', 'devtools', 'data.table', 'gstat','Hmisc','corrplot',\n",
        "         'ggmap','ggpmisc', 'plyr','spatstat','dismo','fields', 'moments', 'car')\n",
        "new.packages <- pkg[!(pkg %in% installed.packages(lib='drive/My Drive/R/')[,\"Package\"])]\n",
        "if(length(new.packages)) install.packages(new.packages, lib='drive/My Drive/R/')"
      ]
    },
    {
      "cell_type": "markdown",
      "metadata": {
        "id": "1TfbYB1Fsl_q"
      },
      "source": [
        "### Load R Packages"
      ]
    },
    {
      "cell_type": "code",
      "execution_count": null,
      "metadata": {
        "id": "-rHg-BweskyQ"
      },
      "outputs": [],
      "source": [
        "%%R\n",
        "# set library path\n",
        ".libPaths('drive/My Drive/R')\n",
        "library (tidyverse)\n",
        "library (terra)\n",
        "library (tidyterra)\n",
        "library(raster)\n",
        "library(RColorBrewer)\n",
        "library(RStoolbox)\n",
        "library(gridExtra)\n",
        "library(latticeExtra)\n",
        "library(data.table)\n",
        "library(gstat)\n",
        "library(classInt)\n",
        "library(plyr)\n",
        "library(spatstat)\n",
        "library(dismo)\n",
        "library(fields)\n",
        "library(moments)\n",
        "library(car)\n",
        "library(ggpmisc)"
      ]
    },
    {
      "cell_type": "markdown",
      "metadata": {
        "id": "xfYcJY5osuOX"
      },
      "source": [
        "### Data\n",
        "\n",
        "The following data will be used in the exercise that can be found [here](https://github.com/zia207/r-colab/tree/main/Data/Spatial_interpolation).\n",
        "\n",
        "1. train_data.csv\n",
        "\n",
        "2. test_data.csv\n",
        "\n",
        "2. GP_STATE.shp\n",
        "\n",
        "3. GP_prediction_grid_data.csv"
      ]
    },
    {
      "cell_type": "code",
      "execution_count": null,
      "metadata": {
        "colab": {
          "base_uri": "https://localhost:8080/"
        },
        "id": "pvUSj54es-QU",
        "outputId": "aead8460-5e23-4020-8394-9257d665d4ce"
      },
      "outputs": [
        {
          "output_type": "stream",
          "name": "stdout",
          "text": [
            "Rows: 368 Columns: 21\n",
            "── Column specification ────────────────────────────────────────────────────────\n",
            "Delimiter: \",\"\n",
            "chr  (4): STATE, COUNTY, NLCD_DES, FRG_DES\n",
            "dbl (17): ID, STATE_ID, FIPS, x, y, SOC, ELEV, Aspect, Slope, TPI, K_Factor,...\n",
            "\n",
            "ℹ Use `spec()` to retrieve the full column specification for this data.\n",
            "ℹ Specify the column types or set `show_col_types = FALSE` to quiet this message.\n",
            "Rows: 101 Columns: 21\n",
            "── Column specification ────────────────────────────────────────────────────────\n",
            "Delimiter: \",\"\n",
            "chr  (4): STATE, COUNTY, NLCD_DES, FRG_DES\n",
            "dbl (17): ID, STATE_ID, FIPS, x, y, SOC, ELEV, Aspect, Slope, TPI, K_Factor,...\n",
            "\n",
            "ℹ Use `spec()` to retrieve the full column specification for this data.\n",
            "ℹ Specify the column types or set `show_col_types = FALSE` to quiet this message.\n",
            "Rows: 10674 Columns: 13\n",
            "── Column specification ────────────────────────────────────────────────────────\n",
            "Delimiter: \",\"\n",
            "dbl (13): x, y, Aspect, ELEV, FRG, K_Factor, MAP, MAT, NDVI, NLCD, Slit_Clay...\n",
            "\n",
            "ℹ Use `spec()` to retrieve the full column specification for this data.\n",
            "ℹ Specify the column types or set `show_col_types = FALSE` to quiet this message.\n"
          ]
        }
      ],
      "source": [
        "%%R\n",
        "train<-read_csv('/content/drive/MyDrive/Data/Spatial_Interpolatiom/train_data.csv')\n",
        "test<-read_csv('/content/drive/MyDrive/Data/Spatial_Interpolatiom/test_data.csv')\n",
        "grid<-read_csv('/content/drive/MyDrive/Data/Spatial_Interpolatiom/GP_prediction_grid_data.csv')\n",
        "state<-shapefile(\"/content/drive/MyDrive/Data/Spatial_Interpolatiom/GP_STATE.shp\")"
      ]
    },
    {
      "cell_type": "markdown",
      "metadata": {
        "id": "Mv8rvfMlxIBX"
      },
      "source": [
        "#### Data Transformation\n",
        "\n",
        "First, we have to calculate appropriate transformation parameters using the **powerTransform()** function of the car package and then use this parameter to transform the data using the **bcPower()** function."
      ]
    },
    {
      "cell_type": "code",
      "execution_count": null,
      "metadata": {
        "colab": {
          "base_uri": "https://localhost:8080/"
        },
        "id": "LJaPTrnJxbFz",
        "outputId": "f359ddc0-70a7-4267-d1b5-f5dd1852793a"
      },
      "outputs": [
        {
          "output_type": "stream",
          "name": "stdout",
          "text": [
            "Estimated transformation parameter \n",
            "train$SOC \n",
            "0.2987656 \n"
          ]
        }
      ],
      "source": [
        "%%R\n",
        "# train data\n",
        "powerTransform(train$SOC)"
      ]
    },
    {
      "cell_type": "code",
      "execution_count": null,
      "metadata": {
        "id": "oMYdxctIxhUU"
      },
      "outputs": [],
      "source": [
        "%%R\n",
        "# train data\n",
        "train$SOC.bc<-bcPower(train$SOC, 0.2987656 )"
      ]
    },
    {
      "cell_type": "code",
      "execution_count": null,
      "metadata": {
        "colab": {
          "base_uri": "https://localhost:8080/"
        },
        "id": "dZNLwi5Hxu7H",
        "outputId": "e2510c55-51d0-457b-9000-f861cd095beb"
      },
      "outputs": [
        {
          "output_type": "stream",
          "name": "stdout",
          "text": [
            "Estimated transformation parameter \n",
            " test$SOC \n",
            "0.2506294 \n"
          ]
        }
      ],
      "source": [
        "%%R\n",
        "# test data\n",
        "powerTransform(test$SOC)"
      ]
    },
    {
      "cell_type": "code",
      "execution_count": null,
      "metadata": {
        "id": "wNeXr433x3pp"
      },
      "outputs": [],
      "source": [
        "%%R\n",
        "# train data\n",
        "test$SOC.bc<-bcPower(test$SOC, 0.2506294 )"
      ]
    },
    {
      "cell_type": "markdown",
      "metadata": {
        "id": "7yQd38hKyESo"
      },
      "source": [
        "### Define x & y variables to coordinates"
      ]
    },
    {
      "cell_type": "code",
      "execution_count": null,
      "metadata": {
        "id": "bvEjUqAeyP7Q"
      },
      "outputs": [],
      "source": [
        "%%R\n",
        "coordinates(train) = ~x+y\n",
        "coordinates(test) = ~x+y\n",
        "coordinates(grid) = ~x+y"
      ]
    },
    {
      "cell_type": "markdown",
      "source": [
        "## **Trend Analysis**\n",
        "\n",
        "Trend Surface Analysis (TSA) is a deterministic method used for spatial interpolation and modeling. It is particularly useful when you want to capture and describe the broad, systematic trends or patterns in a set of data points distributed across a geographic area."
      ],
      "metadata": {
        "id": "gDXIW1mNGMix"
      }
    },
    {
      "cell_type": "markdown",
      "source": [
        "We will compute and visualize a first-order trend surface using the **krige()** function of the gstat package. First, we will fit a linear model using x and y coordinates as predictors.\n",
        "\n"
      ],
      "metadata": {
        "id": "UBjLfsD4Gsm4"
      }
    },
    {
      "cell_type": "code",
      "source": [
        "%%R\n",
        "trend.lm<-lm(SOC.bc~x+y, data=as.data.frame(train))\n",
        "summary(trend.lm)"
      ],
      "metadata": {
        "colab": {
          "base_uri": "https://localhost:8080/"
        },
        "id": "7W3Kr8O7Gzzq",
        "outputId": "8aea94e5-dc47-4de8-c8fa-da964b83ef53"
      },
      "execution_count": null,
      "outputs": [
        {
          "output_type": "stream",
          "name": "stdout",
          "text": [
            "\n",
            "Call:\n",
            "lm(formula = SOC.bc ~ x + y, data = as.data.frame(train))\n",
            "\n",
            "Residuals:\n",
            "    Min      1Q  Median      3Q     Max \n",
            "-4.2055 -0.8513 -0.0931  0.8203  4.1465 \n",
            "\n",
            "Coefficients:\n",
            "             Estimate Std. Error t value Pr(>|t|)    \n",
            "(Intercept) 2.574e-01  3.617e-01   0.712  0.47713    \n",
            "x           6.365e-07  1.980e-07   3.215  0.00142 ** \n",
            "y           1.300e-06  1.870e-07   6.949  1.7e-11 ***\n",
            "---\n",
            "Signif. codes:  0 ‘***’ 0.001 ‘**’ 0.01 ‘*’ 0.05 ‘.’ 0.1 ‘ ’ 1\n",
            "\n",
            "Residual standard error: 1.289 on 365 degrees of freedom\n",
            "Multiple R-squared:  0.1326,\tAdjusted R-squared:  0.1279 \n",
            "F-statistic:  27.9 on 2 and 365 DF,  p-value: 5.304e-12\n",
            "\n"
          ]
        }
      ]
    },
    {
      "cell_type": "markdown",
      "source": [
        "It looks like x and y are significant, implying a significant trend of SOC in both the x and y directions. So have to detrend the data, or we have to use UK instead of OK.  "
      ],
      "metadata": {
        "id": "JuhF1B2PIYIH"
      }
    },
    {
      "cell_type": "code",
      "source": [
        "%%R\n",
        "trend<-krige(SOC.bc~x+y, train, grid, model=NULL)\n",
        "summary(trend)"
      ],
      "metadata": {
        "colab": {
          "base_uri": "https://localhost:8080/"
        },
        "id": "k0wN54JFJlC6",
        "outputId": "d07d009d-023d-4ea5-90d4-4cfd438271a4"
      },
      "execution_count": null,
      "outputs": [
        {
          "output_type": "stream",
          "name": "stdout",
          "text": [
            "[ordinary or weighted least squares prediction]\n",
            "Object of class SpatialPointsDataFrame\n",
            "Coordinates:\n",
            "       min     max\n",
            "x -1245285  114715\n",
            "y  1003795 2533795\n",
            "Is projected: NA \n",
            "proj4string : [NA]\n",
            "Number of points: 10674\n",
            "Data attributes:\n",
            "   var1.pred         var1.var    \n",
            " Min.   :0.7758   Min.   :1.665  \n",
            " 1st Qu.:1.6400   1st Qu.:1.669  \n",
            " Median :2.1879   Median :1.673  \n",
            " Mean   :2.0617   Mean   :1.675  \n",
            " 3rd Qu.:2.4630   3rd Qu.:1.680  \n",
            " Max.   :3.0683   Max.   :1.699  \n"
          ]
        }
      ]
    },
    {
      "cell_type": "code",
      "source": [
        "%%R -w 400 -h 375 -u px\n",
        "trend.r<-rasterFromXYZ(as.data.frame(trend)[, c(\"x\", \"y\", \"var1.pred\")])\n",
        "ggR(trend.r, geom_raster = TRUE) +\n",
        "scale_fill_gradientn(\"\", colours = c(\"orange\", \"yellow\", \"green\",  \"sky blue\",\"blue\"))+\n",
        "  theme_bw()+\n",
        "    theme(axis.title.x=element_blank(),\n",
        "        axis.text.x=element_blank(),\n",
        "        axis.ticks.x=element_blank(),\n",
        "        axis.title.y=element_blank(),\n",
        "        axis.text.y=element_blank(),\n",
        "        axis.ticks.y=element_blank())+\n",
        "   ggtitle(\"Global Trend of BoxCox-SOC\")+\n",
        "   theme(plot.title = element_text(hjust = 0.5))"
      ],
      "metadata": {
        "colab": {
          "base_uri": "https://localhost:8080/",
          "height": 392
        },
        "id": "mPHxrwYnJzfm",
        "outputId": "70008362-2e74-4a2e-b05f-533f702923c1"
      },
      "execution_count": null,
      "outputs": [
        {
          "output_type": "display_data",
          "data": {
            "image/png": "[encoded data removed]"
          },
          "metadata": {}
        }
      ]
    },
    {
      "cell_type": "markdown",
      "metadata": {
        "id": "lz_QtviPyYy5"
      },
      "source": [
        "## **Variogram Modeling**\n",
        "\n",
        "In the UK, the semivariances are derived from residuals, not from the original data, as the random element of the spatial structure is only applied to residuals. The residuals model parameters will typically differ significantly from the initial variogram model (usually: lower sill; shorter range) as the the global trend has taken out some of the variation.\n",
        "\n",
        "In gstat, we can compute residual varoigram directly, if we provide an appropriate model formula; you do not have to compute the residuals manually.\n",
        "\n",
        "We use the variogram method and specify the spatial dependence with the formula SOC.bc ~ x+y (as opposed to SOC.bc ~ 1 in the ordinary variogram). This has the same meaning as in the lm (linear regression) model specification: the SOC concentration is to be predicted using Ist order trend; then the residuals are to be modeled spatially."
      ]
    },
    {
      "cell_type": "markdown",
      "source": [
        "### Original Variogram"
      ],
      "metadata": {
        "id": "6JqRenGTLhCt"
      }
    },
    {
      "cell_type": "code",
      "execution_count": null,
      "metadata": {
        "colab": {
          "base_uri": "https://localhost:8080/"
        },
        "id": "NLhF7hvKykHB",
        "outputId": "87a1ae54-5134-435d-aa2c-c6a8954e69a1"
      },
      "outputs": [
        {
          "output_type": "stream",
          "name": "stdout",
          "text": [
            "  model    psill    range\n",
            "1   Exp 1.277030  25826.6\n",
            "2   Exp 1.010169 545255.5\n"
          ]
        }
      ],
      "source": [
        "%%R\n",
        "# Short range structure\n",
        "v.bc<-variogram(SOC.bc~ 1, data = train, cloud=F)\n",
        "# Add long range\n",
        "vm.bc<-fit.variogram(v.bc, vgm(1, \"Exp\", 65000, add.to=vgm(0.5, \"Exp\", 2000)))\n",
        "vm.bc"
      ]
    },
    {
      "cell_type": "code",
      "execution_count": null,
      "metadata": {
        "colab": {
          "base_uri": "https://localhost:8080/",
          "height": 392
        },
        "id": "aWKDKgOXysLz",
        "outputId": "ea14340b-9be9-4e94-9626-244b99404a18"
      },
      "outputs": [
        {
          "output_type": "display_data",
          "data": {
            "image/png": "[encoded data removed]"
          },
          "metadata": {}
        }
      ],
      "source": [
        "%%R -w 400 -h 375 -u px\n",
        "# Plot varigram and fitted model:\n",
        "plot(v.bc, pl=F,\n",
        "     model=vm.bc,\n",
        "     col=\"black\",\n",
        "     cex=0.9,\n",
        "     lwd=0.5,\n",
        "     lty=1,\n",
        "     pch=19,\n",
        "     main=\"Orginal Variogram of SOC\",\n",
        "     xlab=\"Distance (m)\",\n",
        "     ylab=\"Semivariance\")\n"
      ]
    },
    {
      "cell_type": "markdown",
      "source": [
        "### Residual Varigram"
      ],
      "metadata": {
        "id": "YzbFzmHrLt4S"
      }
    },
    {
      "cell_type": "code",
      "source": [
        "%%R\n",
        "# Short range structure\n",
        "v.bc.r<-variogram(SOC.bc~ x+y, data = train, cloud=F)\n",
        "# Add long range\n",
        "vm.bc.r<-fit.variogram(v.bc.r, vgm(1, \"Exp\", 65000, add.to=vgm(0.5, \"Exp\", 2000)))\n",
        "vm.bc.r"
      ],
      "metadata": {
        "colab": {
          "base_uri": "https://localhost:8080/"
        },
        "id": "Wncr-VmQL1nj",
        "outputId": "6f3ee725-d60b-4b34-c563-f38c202184f2"
      },
      "execution_count": null,
      "outputs": [
        {
          "output_type": "stream",
          "name": "stdout",
          "text": [
            "  model     psill     range\n",
            "1   Exp 1.2282174  24532.46\n",
            "2   Exp 0.7774639 322142.82\n"
          ]
        }
      ]
    },
    {
      "cell_type": "code",
      "source": [
        "%%R -w 400 -h 375 -u px\n",
        "# Plot varigram and fitted model:\n",
        "plot(v.bc.r, pl=F,\n",
        "     model=vm.bc.r,\n",
        "     col=\"black\",\n",
        "     cex=0.9,\n",
        "     lwd=0.5,\n",
        "     lty=1,\n",
        "     pch=19,\n",
        "     main=\"Residuals Variogram of SOC\",\n",
        "     xlab=\"Distance (m)\",\n",
        "     ylab=\"Semivariance\")"
      ],
      "metadata": {
        "colab": {
          "base_uri": "https://localhost:8080/",
          "height": 392
        },
        "id": "Ogu8JqSBMH8N",
        "outputId": "756d1615-3281-4f31-8adc-df25243fe6af"
      },
      "execution_count": null,
      "outputs": [
        {
          "output_type": "display_data",
          "data": {
            "image/png": "[encoded data removed]"
          },
          "metadata": {}
        }
      ]
    },
    {
      "cell_type": "markdown",
      "metadata": {
        "id": "aXNKmBbQ0ZJH"
      },
      "source": [
        "## **K-fold Cross Validation**\n",
        "\n",
        "\n",
        "K-fold cross-validation is a widely used technique in machine learning and statistics to assess the performance and generalization of a predictive model. It involves dividing a dataset into K subsets or \"folds,\" using K-1 folds for training and the remaining fold for testing. This process is repeated K times, with each fold serving as the test set once. K-fold cross-validation helps to provide a more reliable estimate of a model's performance and its ability to generalize to new, unseen data."
      ]
    },
    {
      "cell_type": "markdown",
      "metadata": {
        "id": "WEY0XFxT0wsA"
      },
      "source": [
        "We will use **krige.cv()** to evaluate the model with k-fold cross validation. We will use formula SOC.bc ~ x+y as opposed to SOC.bc ~ 1 in the OK."
      ]
    },
    {
      "cell_type": "code",
      "execution_count": null,
      "metadata": {
        "colab": {
          "base_uri": "https://localhost:8080/"
        },
        "id": "xKGAkrLj0Ygr",
        "outputId": "fc7699e8-0aef-4c77-a749-53dd25db144d"
      },
      "outputs": [
        {
          "output_type": "stream",
          "name": "stdout",
          "text": [
            "  |======================================================================| 100%\n"
          ]
        }
      ],
      "source": [
        "%%R\n",
        "cv<-krige.cv(SOC.bc ~ x+y,\n",
        "         train,              # data\n",
        "         model = vm.bc.r,      # fitted varigram model\n",
        "         nfold=10)           # five-fold cross validation"
      ]
    },
    {
      "cell_type": "code",
      "execution_count": null,
      "metadata": {
        "colab": {
          "base_uri": "https://localhost:8080/"
        },
        "id": "wmKLH72K1Eyq",
        "outputId": "a0170d33-840d-4cc2-f57a-7a49eea30ab2"
      },
      "outputs": [
        {
          "output_type": "stream",
          "name": "stdout",
          "text": [
            "Object of class SpatialPointsDataFrame\n",
            "Coordinates:\n",
            "       min        max\n",
            "x -1246454   95251.19\n",
            "y  1019863 2526240.55\n",
            "Is projected: NA \n",
            "proj4string : [NA]\n",
            "Number of points: 368\n",
            "Data attributes:\n",
            "   var1.pred         var1.var         observed         residual       \n",
            " Min.   :-1.266   Min.   :0.3428   Min.   :-2.922   Min.   :-3.22993  \n",
            " 1st Qu.: 1.538   1st Qu.:1.0169   1st Qu.: 1.241   1st Qu.:-0.77259  \n",
            " Median : 2.170   Median :1.1628   Median : 2.074   Median :-0.06252  \n",
            " Mean   : 2.148   Mean   :1.1347   Mean   : 2.126   Mean   :-0.02174  \n",
            " 3rd Qu.: 2.778   3rd Qu.:1.2913   3rd Qu.: 3.062   3rd Qu.: 0.70861  \n",
            " Max.   : 4.495   Max.   :1.6158   Max.   : 5.943   Max.   : 3.31060  \n",
            "     zscore              fold       \n",
            " Min.   :-3.20606   Min.   : 1.000  \n",
            " 1st Qu.:-0.75386   1st Qu.: 3.000  \n",
            " Median :-0.06168   Median : 6.000  \n",
            " Mean   :-0.01649   Mean   : 5.666  \n",
            " 3rd Qu.: 0.66264   3rd Qu.: 8.000  \n",
            " Max.   : 3.18915   Max.   :10.000  \n"
          ]
        }
      ],
      "source": [
        "%%R\n",
        "summary(cv)"
      ]
    },
    {
      "cell_type": "markdown",
      "metadata": {
        "id": "NMoJWrO01SrI"
      },
      "source": [
        "### Residuals plot"
      ]
    },
    {
      "cell_type": "code",
      "execution_count": null,
      "metadata": {
        "colab": {
          "base_uri": "https://localhost:8080/",
          "height": 417
        },
        "id": "Mv_7VAIs1NCi",
        "outputId": "0c804d75-8eea-4808-9c32-739231fe9e05"
      },
      "outputs": [
        {
          "output_type": "display_data",
          "data": {
            "image/png": "[encoded data removed]"
          },
          "metadata": {}
        }
      ],
      "source": [
        "%%R -w 400 -h 400 -u px\n",
        "bubble(cv, zcol = \"residual\", maxsize = 2.0,  main = \"K-fold Cross-validation residuals\")"
      ]
    },
    {
      "cell_type": "markdown",
      "metadata": {
        "id": "ZIe45qje1kgx"
      },
      "source": [
        "### Evaluation Matrix"
      ]
    },
    {
      "cell_type": "code",
      "execution_count": null,
      "metadata": {
        "id": "kJsaR4AF1eWp"
      },
      "outputs": [],
      "source": [
        "%%R\n",
        "# Mean Error (ME)\n",
        "ME<-round(mean(cv$residual),3)\n",
        "# Mean Absolute Error\n",
        "MAE<-round(mean(abs(cv$residual)),3)\n",
        "# Root Mean Squre Error (RMSE)\n",
        "RMSE<-round(sqrt(mean(cv$residual^2)),3)\n",
        "# Mean Squared Deviation Ratio (MSDR)\n",
        "MSDR<-mean(cv$residual^2/cv$var1.var)\n",
        "\n"
      ]
    },
    {
      "cell_type": "code",
      "execution_count": null,
      "metadata": {
        "colab": {
          "base_uri": "https://localhost:8080/"
        },
        "id": "eEIfeT_m1txJ",
        "outputId": "8d182973-f544-4a9f-ccdd-ffd96457183b"
      },
      "outputs": [
        {
          "output_type": "stream",
          "name": "stdout",
          "text": [
            "[1] 1.129\n"
          ]
        }
      ],
      "source": [
        "%%R\n",
        "RMSE"
      ]
    },
    {
      "cell_type": "markdown",
      "metadata": {
        "id": "XXs8zXuY120J"
      },
      "source": [
        "### Plot Observed vs Predicted values"
      ]
    },
    {
      "cell_type": "code",
      "execution_count": null,
      "metadata": {
        "colab": {
          "base_uri": "https://localhost:8080/",
          "height": 434
        },
        "id": "9kJOMc5c11uY",
        "outputId": "0d1109fa-1821-46f0-d207-bb4f5d7994e1"
      },
      "outputs": [
        {
          "output_type": "stream",
          "name": "stdout",
          "text": [
            "`geom_smooth()` using formula = 'y ~ x'\n"
          ]
        },
        {
          "output_type": "display_data",
          "data": {
            "image/png": "[encoded data removed]"
          },
          "metadata": {}
        }
      ],
      "source": [
        "%%R -w 400 -h 400 -u px\n",
        "\n",
        "cv.df<-as.data.frame(cv)\n",
        "\n",
        "formula<-y~x\n",
        "\n",
        "ggplot(cv.df, aes(observed,var1.pred)) +\n",
        "  geom_point() +\n",
        "  geom_smooth(method = \"lm\")+\n",
        "  stat_poly_eq(use_label(c(\"eq\", \"adj.R2\")), formula = formula) +\n",
        "  ggtitle(\"CV Predicted vs Observed BoxCox-SOC\") +\n",
        "  xlab(\"Observed\") + ylab(\"Predicted\") +\n",
        "  scale_x_continuous(limits=c(0,6), breaks=seq(0, 6, 1))+\n",
        "  scale_y_continuous(limits=c(0,6), breaks=seq(0, 6, 1)) +\n",
        "  theme(\n",
        "    panel.background = element_rect(fill = \"grey95\",colour = \"gray75\",size = 0.5, linetype = \"solid\"),\n",
        "    axis.line = element_line(colour = \"grey\"),\n",
        "    plot.title = element_text(size = 14, hjust = 0.5),\n",
        "    axis.title.x = element_text(size = 14),\n",
        "    axis.title.y = element_text(size = 14),\n",
        "    axis.text.x=element_text(size=13, colour=\"black\"),\n",
        "    axis.text.y=element_text(size=13,angle = 90,vjust = 0.5, hjust=0.5, colour='black'))"
      ]
    },
    {
      "cell_type": "markdown",
      "metadata": {
        "id": "EHqngme561C6"
      },
      "source": [
        "## **Validation with an test Data Set**"
      ]
    },
    {
      "cell_type": "code",
      "execution_count": null,
      "metadata": {
        "colab": {
          "base_uri": "https://localhost:8080/"
        },
        "id": "CieukBjN7B1o",
        "outputId": "df8aee68-6b98-477d-c495-a17473b8009c"
      },
      "outputs": [
        {
          "output_type": "stream",
          "name": "stdout",
          "text": [
            "[using universal kriging]\n"
          ]
        }
      ],
      "source": [
        "%%R\n",
        "val<-krige(SOC.bc ~ x+y,\n",
        "         loc=train,        # train data\n",
        "         newdata=test,         # test data\n",
        "         model = vm.bc.r)"
      ]
    },
    {
      "cell_type": "code",
      "execution_count": null,
      "metadata": {
        "colab": {
          "base_uri": "https://localhost:8080/"
        },
        "id": "INySwW_v7Nr-",
        "outputId": "fbdb6edf-59f2-4955-e2b5-876487d18ecb"
      },
      "outputs": [
        {
          "output_type": "stream",
          "name": "stdout",
          "text": [
            "Object of class SpatialPointsDataFrame\n",
            "Coordinates:\n",
            "       min        max\n",
            "x -1186067   70606.76\n",
            "y  1038971 2502087.41\n",
            "Is projected: NA \n",
            "proj4string : [NA]\n",
            "Number of points: 101\n",
            "Data attributes:\n",
            "   var1.pred        var1.var     \n",
            " Min.   :0.203   Min.   :0.5069  \n",
            " 1st Qu.:1.437   1st Qu.:0.9860  \n",
            " Median :1.883   Median :1.1830  \n",
            " Mean   :2.051   Mean   :1.1203  \n",
            " 3rd Qu.:2.682   3rd Qu.:1.2837  \n",
            " Max.   :4.290   Max.   :1.4943  \n"
          ]
        }
      ],
      "source": [
        "%%R\n",
        "summary(val)"
      ]
    },
    {
      "cell_type": "markdown",
      "metadata": {
        "id": "NW3p-1KQ7hLi"
      },
      "source": [
        "###  Residuals"
      ]
    },
    {
      "cell_type": "code",
      "execution_count": null,
      "metadata": {
        "colab": {
          "base_uri": "https://localhost:8080/",
          "height": 417
        },
        "id": "MJS1Rboe7YH6",
        "outputId": "6a5125fe-2af7-4298-a993-f009d0e0c568"
      },
      "outputs": [
        {
          "output_type": "display_data",
          "data": {
            "image/png": "[encoded data removed]"
          },
          "metadata": {}
        }
      ],
      "source": [
        "%%R -w 400 -h 400 -u px\n",
        "test$SOC.pred<-val$var1.pred\n",
        "test$SOC.var<-val$var1.var\n",
        "test$residual<-(test$SOC.bc-test$SOC.pred)\n",
        "bubble(test, zcol = \"residual\", maxsize = 2.0,  main = \"Residuals at Test Data\")"
      ]
    },
    {
      "cell_type": "code",
      "execution_count": null,
      "metadata": {
        "colab": {
          "base_uri": "https://localhost:8080/"
        },
        "id": "tKMh4pur7wLL",
        "outputId": "a4589d2a-3ca4-4066-91bf-2a816b1de6b1"
      },
      "outputs": [
        {
          "output_type": "stream",
          "name": "stdout",
          "text": [
            "[1] 1.071\n"
          ]
        }
      ],
      "source": [
        "%%R\n",
        "# Mean Error (ME)\n",
        "ME<-round(mean(test$residual),3)\n",
        "# Mean Absolute Error\n",
        "MAE<-round(mean(abs(test$residual)),3)\n",
        "# Root Mean Squre Error (RMSE)\n",
        "RMSE<-round(sqrt(mean(test$residual^2)),3)\n",
        "# Mean Squared Deviation Ratio (MSDR)\n",
        "MSDR<-mean(test$residual^2/test$SOC.var)\n",
        "RMSE"
      ]
    },
    {
      "cell_type": "code",
      "execution_count": null,
      "metadata": {
        "colab": {
          "base_uri": "https://localhost:8080/",
          "height": 434
        },
        "id": "uOU1YwjK73g3",
        "outputId": "bc2ced03-efbe-4b5a-b5f5-d65986ed22d5"
      },
      "outputs": [
        {
          "output_type": "stream",
          "name": "stdout",
          "text": [
            "`geom_smooth()` using formula = 'y ~ x'\n"
          ]
        },
        {
          "output_type": "display_data",
          "data": {
            "image/png": "[encoded data removed]"
          },
          "metadata": {}
        }
      ],
      "source": [
        "%%R -w 400 -h 400 -u px\n",
        "\n",
        "test.df<-as.data.frame(test)\n",
        "\n",
        "formula<-y~x\n",
        "\n",
        "ggplot(test.df, aes(SOC.bc,SOC.pred)) +\n",
        "  geom_point() +\n",
        "  geom_smooth(method = \"lm\")+\n",
        "  stat_poly_eq(use_label(c(\"eq\", \"adj.R2\")), formula = formula) +\n",
        "  ggtitle(\"Predicted vs Observed BoxCox-SOC at Test locations\") +\n",
        "  xlab(\"Observed\") + ylab(\"Predicted\") +\n",
        "  scale_x_continuous(limits=c(0,6), breaks=seq(0, 6, 1))+\n",
        "  scale_y_continuous(limits=c(0,6), breaks=seq(0, 6, 1)) +\n",
        "  theme(\n",
        "    panel.background = element_rect(fill = \"grey95\",colour = \"gray75\",size = 0.5, linetype = \"solid\"),\n",
        "    axis.line = element_line(colour = \"grey\"),\n",
        "    plot.title = element_text(size = 14, hjust = 0.5),\n",
        "    axis.title.x = element_text(size = 14),\n",
        "    axis.title.y = element_text(size = 14),\n",
        "    axis.text.x=element_text(size=13, colour=\"black\"),\n",
        "    axis.text.y=element_text(size=13,angle = 90,vjust = 0.5, hjust=0.5, colour='black'))"
      ]
    },
    {
      "cell_type": "markdown",
      "metadata": {
        "id": "XBbIXPJG5eLB"
      },
      "source": [
        "## **UK Kriging Prediction**\n",
        "\n",
        "We can use the krige() function with one additional argument: **block**, which gives the block's dimensions as a list. For the usual case of a 2D block (surface area), this is a list of two dimensions (usually, but not necessarily the same). We will use formula SOC.bc ~ x+y as opposed to SOC.bc ~ 1 in the OK."
      ]
    },
    {
      "cell_type": "code",
      "execution_count": null,
      "metadata": {
        "colab": {
          "base_uri": "https://localhost:8080/"
        },
        "id": "bvUrzxF158V-",
        "outputId": "052097f5-808f-4f01-e128-f91db332506d"
      },
      "outputs": [
        {
          "output_type": "stream",
          "name": "stdout",
          "text": [
            "[using universal kriging]\n"
          ]
        }
      ],
      "source": [
        "%%R\n",
        "UK <- krige(SOC.bc ~ x+y,\n",
        "                 loc =  train,\n",
        "                 newdata = grid,\n",
        "                 model = vm.bc.r,\n",
        "                 block = c(50000, 50000)) # 50 km x 50 km"
      ]
    },
    {
      "cell_type": "markdown",
      "source": [
        "### Back transformation"
      ],
      "metadata": {
        "id": "l6Of97cEN_nV"
      }
    },
    {
      "cell_type": "code",
      "execution_count": null,
      "metadata": {
        "id": "GURw4kzo6JIA"
      },
      "outputs": [],
      "source": [
        "%%R\n",
        "# Back transformation\n",
        "k1<-1/0.2987656\n",
        "UK$UK.pred <-((UK$var1.pred *0.2987656+1)^k1)\n",
        "UK$UK.var <-((UK$var1.var *0.2987656+1)^k1)\n"
      ]
    },
    {
      "cell_type": "code",
      "execution_count": null,
      "metadata": {
        "colab": {
          "base_uri": "https://localhost:8080/",
          "height": 417
        },
        "id": "1PkOzOUS6eD3",
        "outputId": "d83123fd-81a7-46b4-ce29-f8a5a1e77f02"
      },
      "outputs": [
        {
          "output_type": "display_data",
          "data": {
            "image/png": "[encoded data removed]"
          },
          "metadata": {}
        }
      ],
      "source": [
        "%%R -w 700 -h 400 -u px\n",
        "\n",
        "UK.pred<-rasterFromXYZ(as.data.frame(UK)[, c(\"x\", \"y\", \"UK.pred\")])\n",
        "UK.var<-rasterFromXYZ(as.data.frame(UK)[, c(\"x\", \"y\", \"UK.var\")])\n",
        "\n",
        "# Predicted SOC\n",
        "p3<-ggR(UK.pred, geom_raster = TRUE) +\n",
        "scale_fill_gradientn(\"SOC\", colours = c(\"orange\", \"yellow\", \"green\",  \"sky blue\",\"blue\"))+\n",
        "  theme_bw()+\n",
        "    theme(axis.title.x=element_blank(),\n",
        "        axis.text.x=element_blank(),\n",
        "        axis.ticks.x=element_blank(),\n",
        "        axis.title.y=element_blank(),\n",
        "        axis.text.y=element_blank(),\n",
        "        axis.ticks.y=element_blank())+\n",
        "   ggtitle(\"UK Predicted SOC\")+\n",
        "   theme(plot.title = element_text(hjust = 0.5))\n",
        "\n",
        "# Error\n",
        "p4<-ggR(UK.var, geom_raster = TRUE) +\n",
        "scale_fill_gradientn(\"SOC\", colours = c(\"orange\", \"yellow\", \"green\",  \"sky blue\",\"blue\"))+\n",
        "  theme_bw()+\n",
        "    theme(axis.title.x=element_blank(),\n",
        "        axis.text.x=element_blank(),\n",
        "        axis.ticks.x=element_blank(),\n",
        "        axis.title.y=element_blank(),\n",
        "        axis.text.y=element_blank(),\n",
        "        axis.ticks.y=element_blank())+\n",
        "   ggtitle(\"UK Variance of SOC\")+\n",
        "   theme(plot.title = element_text(hjust = 0.5))\n",
        "\n",
        "grid.arrange(p3,p4, ncol = 2)  # Multiplot"
      ]
    },
    {
      "cell_type": "markdown",
      "metadata": {
        "id": "y3TgekWf8XE3"
      },
      "source": [
        "### Further Reading\n",
        "\n",
        "1. [Understanding universal kriging](https://pro.arcgis.com/en/pro-app/latest/help/analysis/geostatistical-analyst/understanding-universal-kriging.htm)\n",
        "\n",
        "2. [What You Need About Universal Kriging: A Complete Guide](https://giscourse.online/what-you-need-about-universal-kriging-a-complete-guide/)\n",
        "\n",
        "3. [Spatial interpolation in R](https://pages.cms.hu-berlin.de/EOL/gcg_quantitative-methods/Lab14_Kriging.html#Sample_variogram)"
      ]
    }
  ],
  "metadata": {
    "colab": {
      "provenance": [],
      "authorship_tag": "ABX9TyPTkUoWFohBL6x/tlcEHSgz",
      "include_colab_link": true
    },
    "kernelspec": {
      "display_name": "Python 3",
      "name": "python3"
    },
    "language_info": {
      "name": "python"
    }
  },
  "nbformat": 4,
  "nbformat_minor": 0
}