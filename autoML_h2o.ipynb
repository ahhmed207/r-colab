{
  "nbformat": 4,
  "nbformat_minor": 0,
  "metadata": {
    "colab": {
      "provenance": [],
      "authorship_tag": "ABX9TyPIOrHc8E4aeX+Er4gNO6Hu",
      "include_colab_link": true
    },
    "kernelspec": {
      "name": "ir",
      "display_name": "R"
    },
    "language_info": {
      "name": "R"
    }
  },
  "cells": [
    {
      "cell_type": "markdown",
      "metadata": {
        "id": "view-in-github",
        "colab_type": "text"
      },
      "source": [
        "<a href=\"https://colab.research.google.com/github/zia207/r-colab/blob/main/autoML_h2o.ipynb\" target=\"_parent\"><img src=\"https://colab.research.google.com/assets/colab-badge.svg\" alt=\"Open In Colab\"/></a>"
      ]
    },
    {
      "cell_type": "markdown",
      "source": [
        "#  Automatic Machine Learning (AutoML) with H20"
      ],
      "metadata": {
        "id": "ug5LKfFU8Qq4"
      }
    },
    {
      "cell_type": "markdown",
      "source": [
        "In order for machine learning software to truly be accessible to non-experts, H2O have designed an easy-to-use interface which automates the process of training a large selection of candidate models. H2O's AutoML can also be a helpful tool for the advanced user, by providing a simple wrapper function that performs a large number of modeling-related tasks that would typically require many lines of code, and by freeing up their time to focus on other aspects of the data science pipeline tasks such as data-preprocessing, feature engineering and model deployment.\n",
        "\n",
        "H2O's AutoML can be used for automating the machine learning workflow, which includes automatic training and tuning of many models within a user-specified time-limit.\n",
        "\n",
        "H2O offers a number of model explainability methods that apply to AutoML objects (groups of models), as well as individual models (e.g. leader model). Explanations can be generated automatically with a single function call, providing a simple interface to exploring and explaining the AutoML models."
      ],
      "metadata": {
        "id": "Z8AKCA988buS"
      }
    },
    {
      "cell_type": "markdown",
      "source": [
        "#### Install h2o, tidymodels and Metrics"
      ],
      "metadata": {
        "id": "0uPtsm7g80aL"
      }
    },
    {
      "cell_type": "code",
      "source": [
        "install.packages(\"h2o\")\n",
        "install.packages(\"tidymodels\")\n",
        "install.packages(\"Metrics\")"
      ],
      "metadata": {
        "colab": {
          "base_uri": "https://localhost:8080/"
        },
        "id": "oJTATvcx8tZy",
        "outputId": "d47fd2c8-c8c5-42f8-fe9b-ac22cc5d02f7"
      },
      "execution_count": 1,
      "outputs": [
        {
          "output_type": "stream",
          "name": "stderr",
          "text": [
            "Installing package into ‘/usr/local/lib/R/site-library’\n",
            "(as ‘lib’ is unspecified)\n",
            "\n",
            "also installing the dependencies ‘bitops’, ‘RCurl’\n",
            "\n",
            "\n",
            "Installing package into ‘/usr/local/lib/R/site-library’\n",
            "(as ‘lib’ is unspecified)\n",
            "\n",
            "also installing the dependencies ‘shape’, ‘future.apply’, ‘numDeriv’, ‘progressr’, ‘SQUAREM’, ‘Rcpp’, ‘diagram’, ‘lava’, ‘listenv’, ‘parallelly’, ‘prodlim’, ‘future’, ‘warp’, ‘iterators’, ‘lhs’, ‘DiceDesign’, ‘patchwork’, ‘globals’, ‘clock’, ‘gower’, ‘ipred’, ‘timeDate’, ‘furrr’, ‘slider’, ‘foreach’, ‘GPfit’, ‘modelenv’, ‘dials’, ‘hardhat’, ‘infer’, ‘modeldata’, ‘parsnip’, ‘recipes’, ‘rsample’, ‘tune’, ‘workflows’, ‘workflowsets’, ‘yardstick’\n",
            "\n",
            "\n",
            "Installing package into ‘/usr/local/lib/R/site-library’\n",
            "(as ‘lib’ is unspecified)\n",
            "\n"
          ]
        }
      ]
    },
    {
      "cell_type": "markdown",
      "source": [
        "### Load Packages"
      ],
      "metadata": {
        "id": "fqpB8UOt9Fi5"
      }
    },
    {
      "cell_type": "code",
      "source": [
        "library(tidyverse)\n",
        "library(tidymodels)\n",
        "library(Metrics)"
      ],
      "metadata": {
        "id": "-dCxzZO69Fq8"
      },
      "execution_count": 14,
      "outputs": []
    },
    {
      "cell_type": "markdown",
      "source": [
        "#### Data"
      ],
      "metadata": {
        "id": "uJdW40159Gik"
      }
    },
    {
      "cell_type": "code",
      "source": [
        "urlfile = \"https://github.com//zia207/r-colab/raw/main/Data/USA/gp_soil_data_syn.csv\"\n",
        "mf<-read_csv(url(urlfile))\n",
        "#mf<-read_csv(\"/content/sample_data/gp_soil_data_syn.csv\")\n",
        "# Create a data-frame\n",
        "df<-mf %>% dplyr::select(SOC, DEM, Slope, TPI,MAT, MAP,NDVI, NLCD, FRG)%>%\n",
        "    glimpse()"
      ],
      "metadata": {
        "colab": {
          "base_uri": "https://localhost:8080/"
        },
        "id": "HlKb4RZ69Gq1",
        "outputId": "40c71955-ef6d-4585-ffbb-92afcf66d968"
      },
      "execution_count": 52,
      "outputs": [
        {
          "output_type": "stream",
          "name": "stderr",
          "text": [
            "\u001b[1mRows: \u001b[22m\u001b[34m1408\u001b[39m \u001b[1mColumns: \u001b[22m\u001b[34m10\u001b[39m\n",
            "\u001b[36m──\u001b[39m \u001b[1mColumn specification\u001b[22m \u001b[36m────────────────────────────────────────────────────────\u001b[39m\n",
            "\u001b[1mDelimiter:\u001b[22m \",\"\n",
            "\u001b[31mchr\u001b[39m (2): NLCD, FRG\n",
            "\u001b[32mdbl\u001b[39m (8): ID, SOC, DEM, Slope, TPI, MAP, MAT, NDVI\n",
            "\n",
            "\u001b[36mℹ\u001b[39m Use `spec()` to retrieve the full column specification for this data.\n",
            "\u001b[36mℹ\u001b[39m Specify the column types or set `show_col_types = FALSE` to quiet this message.\n"
          ]
        },
        {
          "output_type": "stream",
          "name": "stdout",
          "text": [
            "Rows: 1,408\n",
            "Columns: 9\n",
            "$ SOC   \u001b[3m\u001b[90m<dbl>\u001b[39m\u001b[23m 1.900, 2.644, 0.800, 0.736, 15.641, 8.818, 3.782, 6.641, 4.803, …\n",
            "$ DEM   \u001b[3m\u001b[90m<dbl>\u001b[39m\u001b[23m 2825.1111, 2535.1086, 1716.3300, 1649.8933, 2675.3113, 2581.4839…\n",
            "$ Slope \u001b[3m\u001b[90m<dbl>\u001b[39m\u001b[23m 18.981682, 14.182393, 1.585145, 9.399726, 12.569353, 6.358553, 1…\n",
            "$ TPI   \u001b[3m\u001b[90m<dbl>\u001b[39m\u001b[23m -0.91606224, -0.15259802, -0.39078590, -2.54008722, 7.40076303, …\n",
            "$ MAT   \u001b[3m\u001b[90m<dbl>\u001b[39m\u001b[23m 4.709227, 4.648000, 6.360833, 10.265385, 2.798550, 6.358550, 7.0…\n",
            "$ MAP   \u001b[3m\u001b[90m<dbl>\u001b[39m\u001b[23m 613.6979, 597.7912, 201.5091, 298.2608, 827.4680, 679.1392, 508.…\n",
            "$ NDVI  \u001b[3m\u001b[90m<dbl>\u001b[39m\u001b[23m 0.6845260, 0.7557631, 0.2215059, 0.2785148, 0.7337426, 0.7017139…\n",
            "$ NLCD  \u001b[3m\u001b[90m<chr>\u001b[39m\u001b[23m \"Forest\", \"Forest\", \"Shrubland\", \"Shrubland\", \"Forest\", \"Forest\"…\n",
            "$ FRG   \u001b[3m\u001b[90m<chr>\u001b[39m\u001b[23m \"Fire Regime Group IV\", \"Fire Regime Group IV\", \"Fire Regime Gro…\n"
          ]
        }
      ]
    },
    {
      "cell_type": "markdown",
      "source": [
        "### Data Preprocessing"
      ],
      "metadata": {
        "id": "PscpXjQx9cv0"
      }
    },
    {
      "cell_type": "markdown",
      "source": [
        "#### Convert to factor"
      ],
      "metadata": {
        "id": "DdfRIAOU9k1x"
      }
    },
    {
      "cell_type": "code",
      "source": [
        "df$NLCD <- as.factor(df$NLCD)\n",
        "df$FRG <- as.factor(df$FRG)"
      ],
      "metadata": {
        "id": "rW1O8HKE9tJ4"
      },
      "execution_count": 22,
      "outputs": []
    },
    {
      "cell_type": "markdown",
      "source": [
        "#### Data Split"
      ],
      "metadata": {
        "id": "rniICP-49olo"
      }
    },
    {
      "cell_type": "code",
      "source": [
        "set.seed(1245)   # for reproducibility\n",
        "split_01 <- initial_split(df, prop = 0.8, strata = SOC)\n",
        "train <- split_01 %>% training()\n",
        "test <-  split_01 %>% testing()"
      ],
      "metadata": {
        "id": "3BxXbYgM94N0"
      },
      "execution_count": 23,
      "outputs": []
    },
    {
      "cell_type": "markdown",
      "source": [
        "#### Data Scaling"
      ],
      "metadata": {
        "id": "VmcA62Gv-ATM"
      }
    },
    {
      "cell_type": "code",
      "source": [
        "train[-c(1, 8,9)] = scale(train[-c(1,8,9)])\n",
        "test[-c(1, 8,9)] = scale(test[-c(1,8,9)])"
      ],
      "metadata": {
        "id": "LZLLDpdb-AfM"
      },
      "execution_count": 24,
      "outputs": []
    },
    {
      "cell_type": "markdown",
      "source": [
        "### Import h20"
      ],
      "metadata": {
        "id": "hCMvq63y-TpX"
      }
    },
    {
      "cell_type": "code",
      "source": [
        "library(h2o)\n",
        "h2o.init()\n",
        "#disable progress bar for RMarkdown\n",
        "h2o.no_progress()\n",
        "# Optional: remove anything from previous session\n",
        "h2o.removeAll()"
      ],
      "metadata": {
        "colab": {
          "base_uri": "https://localhost:8080/"
        },
        "id": "zf-nuAYO-T1e",
        "outputId": "834aa67c-07eb-48d5-9b9b-91838b1851ba"
      },
      "execution_count": 25,
      "outputs": [
        {
          "output_type": "stream",
          "name": "stdout",
          "text": [
            " Connection successful!\n",
            "\n",
            "R is connected to the H2O cluster: \n",
            "    H2O cluster uptime:         3 hours 57 minutes \n",
            "    H2O cluster timezone:       Etc/UTC \n",
            "    H2O data parsing timezone:  UTC \n",
            "    H2O cluster version:        3.40.0.4 \n",
            "    H2O cluster version age:    2 months and 22 days \n",
            "    H2O cluster name:           H2O_started_from_R_root_yqz807 \n",
            "    H2O cluster total nodes:    1 \n",
            "    H2O cluster total memory:   3.04 GB \n",
            "    H2O cluster total cores:    2 \n",
            "    H2O cluster allowed cores:  2 \n",
            "    H2O cluster healthy:        TRUE \n",
            "    H2O Connection ip:          localhost \n",
            "    H2O Connection port:        54321 \n",
            "    H2O Connection proxy:       NA \n",
            "    H2O Internal Security:      FALSE \n",
            "    R Version:                  R version 4.3.1 (2023-06-16) \n",
            "\n"
          ]
        }
      ]
    },
    {
      "cell_type": "markdown",
      "source": [
        "### Import data to h2o cluster"
      ],
      "metadata": {
        "id": "0ow4hiK7-kBe"
      }
    },
    {
      "cell_type": "code",
      "source": [
        "h_df=as.h2o(df)\n",
        "h_train = as.h2o(train)\n",
        "h_test = as.h2o(test)"
      ],
      "metadata": {
        "id": "mqwDEASv-kKu"
      },
      "execution_count": 26,
      "outputs": []
    },
    {
      "cell_type": "code",
      "source": [
        "train.xy<- as.data.frame(h_train)\n",
        "test.xy<- as.data.frame(h_test)"
      ],
      "metadata": {
        "id": "ix2HZ7ib-rFI"
      },
      "execution_count": 27,
      "outputs": []
    },
    {
      "cell_type": "markdown",
      "source": [
        "#### Define response and predictors"
      ],
      "metadata": {
        "id": "DzM5tU9G-r5I"
      }
    },
    {
      "cell_type": "code",
      "source": [
        "y <- \"SOC\"\n",
        "x <- setdiff(names(h_df), y)"
      ],
      "metadata": {
        "id": "FX6js5EN-sBm"
      },
      "execution_count": 28,
      "outputs": []
    },
    {
      "cell_type": "markdown",
      "source": [
        "#### AutoML: Automatic Machine Learning\n",
        "\n",
        "The H2O AutoML interface is designed to have as few parameters as possible so that all the user needs to do is point to their dataset, identify the response column and optionally specify a time constraint or limit on the number of total models trained.\n",
        "\n",
        "In both the R and Python API, AutoML uses the same data-related arguments, `x`, `y`, `training_frame`, `validation_frame`, as the other H2O algorithms. Most of the time, all you'll need to do is specify the data arguments. You can then configure values for `max_runtime_secs` and/or `max_models` to set explicit time or number-of-model limits on your run.\n",
        "\n",
        "#### **Required Data Parameters**\n",
        "\n",
        "-   [y](https://docs.h2o.ai/h2o/latest-stable/h2o-docs/data-science/algo-params/y.html): This argument is the name (or index) of the response column.\n",
        "\n",
        "-   [training_frame](https://docs.h2o.ai/h2o/latest-stable/h2o-docs/data-science/algo-params/training_frame.html): Specifies the training set.\n",
        "\n",
        "#### **Required Stopping Parameters**\n",
        "\n",
        "One of the following stopping strategies (time or number-of-model based) must be specified. When both options are set, then the AutoML run will stop as soon as it hits one of either When both options are set, then the AutoML run will stop as soon as it hits either of these limits.\n",
        "\n",
        "-   [max_runtime_secs](https://docs.h2o.ai/h2o/latest-stable/h2o-docs/data-science/algo-params/max_runtime_secs.html): This argument specifies the maximum time that the AutoML process will run for. The default is 0 (no limit), but dynamically sets to 1 hour if none of `max_runtime_secs` and `max_models` are specified by the user.\n",
        "\n",
        "-   [max_models](https://docs.h2o.ai/h2o/latest-stable/h2o-docs/data-science/algo-params/max_models.html): Specify the maximum number of models to build in an AutoML run, excluding the Stacked Ensemble models. Defaults to `NULL/None`. Always set this parameter to ensure AutoML reproducibility: all models are then trained until convergence and none is constrained by a time budget."
      ],
      "metadata": {
        "id": "aZ7tBGvX-y7g"
      }
    },
    {
      "cell_type": "code",
      "source": [
        "df.aml <- h2o.automl(\n",
        "                  x= x,\n",
        "                  y = y,\n",
        "                  training_frame = h_df,\n",
        "                  nfolds=5,\n",
        "                  keep_cross_validation_predictions = TRUE,\n",
        "                  stopping_metric = \"RMSE\",\n",
        "                  stopping_tolerance = 0.001,\n",
        "                  stopping_rounds = 3,\n",
        "                  max_runtime_secs_per_model = 1,\n",
        "                  seed = 42,\n",
        "                  max_models = 100,\n",
        "                  project_name = \"AutoML_trainings\")\n",
        "df.aml"
      ],
      "metadata": {
        "colab": {
          "base_uri": "https://localhost:8080/",
          "height": 729
        },
        "id": "scsjxTyg-zDj",
        "outputId": "af303011-aaee-458f-874c-4322ae36c786"
      },
      "execution_count": 30,
      "outputs": [
        {
          "output_type": "stream",
          "name": "stdout",
          "text": [
            "\n",
            "00:50:25.849: Stopping tolerance set by the user is < 70% of the recommended default of 0.026650089544451302, so models may take a long time to converge or may not converge at all.\n",
            "00:51:39.75: Stopping tolerance set by the user is < 70% of the recommended default of 0.026650089544451302, so models may take a long time to converge or may not converge at all.\n",
            "00:51:39.76: New models will be added to existing leaderboard AutoML_trainings@@SOC (leaderboard frame=null) with already 2 models."
          ]
        },
        {
          "output_type": "display_data",
          "data": {
            "text/plain": [
              "AutoML Details\n",
              "==============\n",
              "Project Name: AutoML_trainings \n",
              "Leader Model ID: StackedEnsemble_BestOfFamily_1_AutoML_3_20230721_05139 \n",
              "Algorithm: stackedensemble \n",
              "\n",
              "Total Number of Models Trained: 104 \n",
              "Start Time: 2023-07-21 00:51:39 UTC \n",
              "End Time: 2023-07-21 00:57:13 UTC \n",
              "Duration: 334 s\n",
              "\n",
              "Leaderboard\n",
              "===========\n",
              "                                                 model_id     rmse      mse\n",
              "1  StackedEnsemble_BestOfFamily_1_AutoML_3_20230721_05139 1.592658 2.536559\n",
              "2     StackedEnsemble_AllModels_1_AutoML_3_20230721_05139 1.595023 2.544097\n",
              "3          XGBoost_grid_1_AutoML_3_20230721_05139_model_2 1.631660 2.662315\n",
              "4                           GBM_6_AutoML_3_20230721_05139 1.639635 2.688404\n",
              "5                           GBM_5_AutoML_3_20230721_05139 1.651592 2.727757\n",
              "6                       XGBoost_4_AutoML_3_20230721_05139 1.656736 2.744773\n",
              "7          XGBoost_grid_1_AutoML_3_20230721_05139_model_1 1.662426 2.763660\n",
              "8                           GBM_4_AutoML_3_20230721_05139 1.663405 2.766916\n",
              "9                           GBM_3_AutoML_3_20230721_05139 1.671804 2.794930\n",
              "10         XGBoost_grid_1_AutoML_3_20230721_05139_model_7 1.679421 2.820456\n",
              "         mae     rmsle mean_residual_deviance\n",
              "1  0.6796475 0.2539381               2.536559\n",
              "2  0.6811646 0.2473979               2.544097\n",
              "3  0.6659603 0.2637889               2.662315\n",
              "4  0.6956456 0.2591596               2.688404\n",
              "5  0.7193337 0.2624052               2.727757\n",
              "6  0.7046530 0.2615207               2.744773\n",
              "7  0.6088647 0.2537355               2.763660\n",
              "8  0.7529099 0.2688669               2.766916\n",
              "9  0.7652384 0.2690806               2.794930\n",
              "10 0.7123281 0.2691399               2.820456\n",
              "\n",
              "[104 rows x 6 columns] "
            ]
          },
          "metadata": {}
        }
      ]
    },
    {
      "cell_type": "markdown",
      "source": [
        "###   Leaderboard"
      ],
      "metadata": {
        "id": "OOtfGe25_QNM"
      }
    },
    {
      "cell_type": "code",
      "source": [
        "lb <- h2o.get_leaderboard(object = df.aml, extra_columns = \"ALL\")\n",
        "head(lb)\n"
      ],
      "metadata": {
        "colab": {
          "base_uri": "https://localhost:8080/",
          "height": 286
        },
        "id": "YKTo-ffs_QUx",
        "outputId": "b293ca32-434f-40fa-ac2b-47b67cf51129"
      },
      "execution_count": 39,
      "outputs": [
        {
          "output_type": "display_data",
          "data": {
            "text/html": [
              "<table class=\"dataframe\">\n",
              "<caption>A data.frame: 6 × 9</caption>\n",
              "<thead>\n",
              "\t<tr><th></th><th scope=col>model_id</th><th scope=col>rmse</th><th scope=col>mse</th><th scope=col>mae</th><th scope=col>rmsle</th><th scope=col>mean_residual_deviance</th><th scope=col>training_time_ms</th><th scope=col>predict_time_per_row_ms</th><th scope=col>algo</th></tr>\n",
              "\t<tr><th></th><th scope=col>&lt;chr&gt;</th><th scope=col>&lt;dbl&gt;</th><th scope=col>&lt;dbl&gt;</th><th scope=col>&lt;dbl&gt;</th><th scope=col>&lt;dbl&gt;</th><th scope=col>&lt;dbl&gt;</th><th scope=col>&lt;dbl&gt;</th><th scope=col>&lt;dbl&gt;</th><th scope=col>&lt;chr&gt;</th></tr>\n",
              "</thead>\n",
              "<tbody>\n",
              "\t<tr><th scope=row>1</th><td>StackedEnsemble_BestOfFamily_1_AutoML_3_20230721_05139</td><td>1.592658</td><td>2.536559</td><td>0.6796475</td><td>0.2539381</td><td>2.536559</td><td> 880</td><td>0.096140</td><td>StackedEnsemble</td></tr>\n",
              "\t<tr><th scope=row>2</th><td>StackedEnsemble_AllModels_1_AutoML_3_20230721_05139   </td><td>1.595023</td><td>2.544097</td><td>0.6811646</td><td>0.2473979</td><td>2.544097</td><td>3138</td><td>0.339030</td><td>StackedEnsemble</td></tr>\n",
              "\t<tr><th scope=row>3</th><td>XGBoost_grid_1_AutoML_3_20230721_05139_model_2        </td><td>1.631660</td><td>2.662315</td><td>0.6659603</td><td>0.2637889</td><td>2.662315</td><td> 176</td><td>0.006793</td><td>XGBoost        </td></tr>\n",
              "\t<tr><th scope=row>4</th><td>GBM_6_AutoML_3_20230721_05139                         </td><td>1.639635</td><td>2.688404</td><td>0.6956456</td><td>0.2591596</td><td>2.688404</td><td>1091</td><td>0.089640</td><td>GBM            </td></tr>\n",
              "\t<tr><th scope=row>5</th><td>GBM_5_AutoML_3_20230721_05139                         </td><td>1.651592</td><td>2.727757</td><td>0.7193337</td><td>0.2624052</td><td>2.727757</td><td>1717</td><td>0.124135</td><td>GBM            </td></tr>\n",
              "\t<tr><th scope=row>6</th><td>XGBoost_4_AutoML_3_20230721_05139                     </td><td>1.656736</td><td>2.744773</td><td>0.7046530</td><td>0.2615207</td><td>2.744773</td><td> 933</td><td>0.015534</td><td>XGBoost        </td></tr>\n",
              "</tbody>\n",
              "</table>\n"
            ],
            "text/markdown": "\nA data.frame: 6 × 9\n\n| <!--/--> | model_id &lt;chr&gt; | rmse &lt;dbl&gt; | mse &lt;dbl&gt; | mae &lt;dbl&gt; | rmsle &lt;dbl&gt; | mean_residual_deviance &lt;dbl&gt; | training_time_ms &lt;dbl&gt; | predict_time_per_row_ms &lt;dbl&gt; | algo &lt;chr&gt; |\n|---|---|---|---|---|---|---|---|---|---|\n| 1 | StackedEnsemble_BestOfFamily_1_AutoML_3_20230721_05139 | 1.592658 | 2.536559 | 0.6796475 | 0.2539381 | 2.536559 |  880 | 0.096140 | StackedEnsemble |\n| 2 | StackedEnsemble_AllModels_1_AutoML_3_20230721_05139    | 1.595023 | 2.544097 | 0.6811646 | 0.2473979 | 2.544097 | 3138 | 0.339030 | StackedEnsemble |\n| 3 | XGBoost_grid_1_AutoML_3_20230721_05139_model_2         | 1.631660 | 2.662315 | 0.6659603 | 0.2637889 | 2.662315 |  176 | 0.006793 | XGBoost         |\n| 4 | GBM_6_AutoML_3_20230721_05139                          | 1.639635 | 2.688404 | 0.6956456 | 0.2591596 | 2.688404 | 1091 | 0.089640 | GBM             |\n| 5 | GBM_5_AutoML_3_20230721_05139                          | 1.651592 | 2.727757 | 0.7193337 | 0.2624052 | 2.727757 | 1717 | 0.124135 | GBM             |\n| 6 | XGBoost_4_AutoML_3_20230721_05139                      | 1.656736 | 2.744773 | 0.7046530 | 0.2615207 | 2.744773 |  933 | 0.015534 | XGBoost         |\n\n",
            "text/latex": "A data.frame: 6 × 9\n\\begin{tabular}{r|lllllllll}\n  & model\\_id & rmse & mse & mae & rmsle & mean\\_residual\\_deviance & training\\_time\\_ms & predict\\_time\\_per\\_row\\_ms & algo\\\\\n  & <chr> & <dbl> & <dbl> & <dbl> & <dbl> & <dbl> & <dbl> & <dbl> & <chr>\\\\\n\\hline\n\t1 & StackedEnsemble\\_BestOfFamily\\_1\\_AutoML\\_3\\_20230721\\_05139 & 1.592658 & 2.536559 & 0.6796475 & 0.2539381 & 2.536559 &  880 & 0.096140 & StackedEnsemble\\\\\n\t2 & StackedEnsemble\\_AllModels\\_1\\_AutoML\\_3\\_20230721\\_05139    & 1.595023 & 2.544097 & 0.6811646 & 0.2473979 & 2.544097 & 3138 & 0.339030 & StackedEnsemble\\\\\n\t3 & XGBoost\\_grid\\_1\\_AutoML\\_3\\_20230721\\_05139\\_model\\_2         & 1.631660 & 2.662315 & 0.6659603 & 0.2637889 & 2.662315 &  176 & 0.006793 & XGBoost        \\\\\n\t4 & GBM\\_6\\_AutoML\\_3\\_20230721\\_05139                          & 1.639635 & 2.688404 & 0.6956456 & 0.2591596 & 2.688404 & 1091 & 0.089640 & GBM            \\\\\n\t5 & GBM\\_5\\_AutoML\\_3\\_20230721\\_05139                          & 1.651592 & 2.727757 & 0.7193337 & 0.2624052 & 2.727757 & 1717 & 0.124135 & GBM            \\\\\n\t6 & XGBoost\\_4\\_AutoML\\_3\\_20230721\\_05139                      & 1.656736 & 2.744773 & 0.7046530 & 0.2615207 & 2.744773 &  933 & 0.015534 & XGBoost        \\\\\n\\end{tabular}\n",
            "text/plain": [
              "  model_id                                               rmse     mse     \n",
              "1 StackedEnsemble_BestOfFamily_1_AutoML_3_20230721_05139 1.592658 2.536559\n",
              "2 StackedEnsemble_AllModels_1_AutoML_3_20230721_05139    1.595023 2.544097\n",
              "3 XGBoost_grid_1_AutoML_3_20230721_05139_model_2         1.631660 2.662315\n",
              "4 GBM_6_AutoML_3_20230721_05139                          1.639635 2.688404\n",
              "5 GBM_5_AutoML_3_20230721_05139                          1.651592 2.727757\n",
              "6 XGBoost_4_AutoML_3_20230721_05139                      1.656736 2.744773\n",
              "  mae       rmsle     mean_residual_deviance training_time_ms\n",
              "1 0.6796475 0.2539381 2.536559                880            \n",
              "2 0.6811646 0.2473979 2.544097               3138            \n",
              "3 0.6659603 0.2637889 2.662315                176            \n",
              "4 0.6956456 0.2591596 2.688404               1091            \n",
              "5 0.7193337 0.2624052 2.727757               1717            \n",
              "6 0.7046530 0.2615207 2.744773                933            \n",
              "  predict_time_per_row_ms algo           \n",
              "1 0.096140                StackedEnsemble\n",
              "2 0.339030                StackedEnsemble\n",
              "3 0.006793                XGBoost        \n",
              "4 0.089640                GBM            \n",
              "5 0.124135                GBM            \n",
              "6 0.015534                XGBoost        "
            ]
          },
          "metadata": {}
        }
      ]
    },
    {
      "cell_type": "markdown",
      "source": [
        "### The best model"
      ],
      "metadata": {
        "id": "zjdO-iugG54M"
      }
    },
    {
      "cell_type": "code",
      "source": [
        "best_ML<- h2o.get_best_model(df.aml, criterion = \"RMSE\" )\n",
        "best_ML"
      ],
      "metadata": {
        "colab": {
          "base_uri": "https://localhost:8080/",
          "height": 1000
        },
        "id": "n3E3IvFFHAUr",
        "outputId": "d4a2132c-5a34-410b-d8ce-daaff70567d2"
      },
      "execution_count": 40,
      "outputs": [
        {
          "output_type": "display_data",
          "data": {
            "text/plain": [
              "Model Details:\n",
              "==============\n",
              "\n",
              "H2ORegressionModel: stackedensemble\n",
              "Model ID:  StackedEnsemble_BestOfFamily_1_AutoML_3_20230721_05139 \n",
              "Model Summary for Stacked Ensemble: \n",
              "                                         key            value\n",
              "1                          Stacking strategy cross_validation\n",
              "2       Number of base models (used / total)              4/6\n",
              "3           # GBM base models (used / total)              1/1\n",
              "4       # XGBoost base models (used / total)              1/1\n",
              "5           # DRF base models (used / total)              1/2\n",
              "6  # DeepLearning base models (used / total)              0/1\n",
              "7           # GLM base models (used / total)              1/1\n",
              "8                      Metalearner algorithm              GLM\n",
              "9         Metalearner fold assignment scheme           Random\n",
              "10                        Metalearner nfolds                5\n",
              "11                   Metalearner fold_column               NA\n",
              "12        Custom metalearner hyperparameters             None\n",
              "\n",
              "\n",
              "H2ORegressionMetrics: stackedensemble\n",
              "** Reported on training data. **\n",
              "\n",
              "MSE:  0.02548263\n",
              "RMSE:  0.1596328\n",
              "MAE:  0.1120737\n",
              "RMSLE:  0.03555492\n",
              "Mean Residual Deviance :  0.02548263\n",
              "\n",
              "\n",
              "\n",
              "H2ORegressionMetrics: stackedensemble\n",
              "** Reported on cross-validation data. **\n",
              "** 5-fold cross-validation on training data (Metrics computed for combined holdout predictions) **\n",
              "\n",
              "MSE:  2.536559\n",
              "RMSE:  1.592658\n",
              "MAE:  0.6796475\n",
              "RMSLE:  0.2539381\n",
              "Mean Residual Deviance :  2.536559\n",
              "\n",
              "\n",
              "Cross-Validation Metrics Summary: \n",
              "                              mean          sd  cv_1_valid  cv_2_valid\n",
              "mae                       0.677896    0.115699    0.562791    0.640344\n",
              "mean_residual_deviance    2.515268    1.235584    1.482436    2.448014\n",
              "mse                       2.515268    1.235584    1.482436    2.448014\n",
              "null_deviance          7118.085400 1131.714200 8312.751000 6504.385300\n",
              "r2                        0.899449    0.044713    0.950052    0.895945\n",
              "residual_deviance       713.258540  369.613600  415.082060  673.203800\n",
              "rmse                      1.552853    0.360407    1.217553    1.564613\n",
              "rmsle                     0.253271    0.022831    0.263191    0.238420\n",
              "                        cv_3_valid  cv_4_valid  cv_5_valid\n",
              "mae                       0.871009    0.637986    0.677351\n",
              "mean_residual_deviance    4.615817    1.767410    2.262665\n",
              "mse                       4.615817    1.767410    2.262665\n",
              "null_deviance          7852.872000 5482.012000 7438.407000\n",
              "r2                        0.827959    0.908845    0.914444\n",
              "residual_deviance      1347.818600  496.642100  633.546200\n",
              "rmse                      2.148445    1.329440    1.504216\n",
              "rmsle                     0.288746    0.242544    0.233457"
            ]
          },
          "metadata": {}
        }
      ]
    },
    {
      "cell_type": "markdown",
      "source": [
        "### Prediction"
      ],
      "metadata": {
        "id": "_JKiNAPBHG03"
      }
    },
    {
      "cell_type": "code",
      "source": [
        "best.test<-as.data.frame(h2o.predict(object = best_ML, newdata = h_test))\n",
        "test.xy$Pred_SOC<-best.test$predict"
      ],
      "metadata": {
        "id": "FdbycpHeHG-c"
      },
      "execution_count": 45,
      "outputs": []
    },
    {
      "cell_type": "code",
      "source": [
        "RMSE<- Metrics::rmse(test.xy$SOC, test.xy$Pred_SOC)\n",
        "MAE<- Metrics::mae(test.xy$SOC, test.xy$Pred_SOC)\n",
        "\n",
        "# Print results\n",
        "paste0(\"RMSE: \", round(RMSE,2))\n",
        "paste0(\"MAE: \", round(MAE,2))\n"
      ],
      "metadata": {
        "colab": {
          "base_uri": "https://localhost:8080/",
          "height": 52
        },
        "id": "k8I8keMN_VQV",
        "outputId": "f0c4680d-78e0-4377-d368-b8d3f6f3a98c"
      },
      "execution_count": 50,
      "outputs": [
        {
          "output_type": "display_data",
          "data": {
            "text/html": [
              "'RMSE: 4.26'"
            ],
            "text/markdown": "'RMSE: 4.26'",
            "text/latex": "'RMSE: 4.26'",
            "text/plain": [
              "[1] \"RMSE: 4.26\""
            ]
          },
          "metadata": {}
        },
        {
          "output_type": "display_data",
          "data": {
            "text/html": [
              "'MAE: 3.03'"
            ],
            "text/markdown": "'MAE: 3.03'",
            "text/latex": "'MAE: 3.03'",
            "text/plain": [
              "[1] \"MAE: 3.03\""
            ]
          },
          "metadata": {}
        }
      ]
    },
    {
      "cell_type": "code",
      "source": [
        "\n",
        "ggplot(test.xy, aes(SOC,Pred_SOC)) +\n",
        "  geom_point() +\n",
        "  geom_smooth(method = \"lm\")+\n",
        "  ggtitle(\"Best-ML\") +\n",
        "  xlab(\"Observed\") + ylab(\"Predicted\") +\n",
        "  scale_x_continuous(limits=c(0,25), breaks=seq(0, 25, 5))+\n",
        "  scale_y_continuous(limits=c(0,25), breaks=seq(0, 25, 5)) +\n",
        "  # Flip the bars\n",
        "  theme(\n",
        "    panel.background = element_rect(fill = \"grey95\",colour = \"gray75\",size = 0.5, linetype = \"solid\"),\n",
        "    axis.line = element_line(colour = \"grey\"),\n",
        "    plot.title = element_text(size = 14, hjust = 0.5),\n",
        "    axis.title.x = element_text(size = 14),\n",
        "    axis.title.y = element_text(size = 14),\n",
        "    axis.text.x=element_text(size=13, colour=\"black\"),\n",
        "    axis.text.y=element_text(size=13,angle = 90,vjust = 0.5, hjust=0.5, colour='black'))"
      ],
      "metadata": {
        "colab": {
          "base_uri": "https://localhost:8080/",
          "height": 524
        },
        "id": "KaTQvxLVHMvG",
        "outputId": "f952b5ab-4c4b-4390-ab2e-caa7e0297b58"
      },
      "execution_count": 51,
      "outputs": [
        {
          "output_type": "stream",
          "name": "stderr",
          "text": [
            "\u001b[1m\u001b[22m`geom_smooth()` using formula = 'y ~ x'\n",
            "Warning message:\n",
            "“\u001b[1m\u001b[22mRemoved 1 rows containing non-finite values (`stat_smooth()`).”\n",
            "Warning message:\n",
            "“\u001b[1m\u001b[22mRemoved 1 rows containing missing values (`geom_point()`).”\n"
          ]
        },
        {
          "output_type": "display_data",
          "data": {
            "text/plain": [
              "plot without title"
            ],
            "image/png": "[encoded data removed]"
          },
          "metadata": {
            "image/png": {
              "width": 420,
              "height": 420
            }
          }
        }
      ]
    }
  ]
}