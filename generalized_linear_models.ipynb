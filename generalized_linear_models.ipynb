{
  "nbformat": 4,
  "nbformat_minor": 0,
  "metadata": {
    "colab": {
      "provenance": [],
      "gpuType": "T4",
      "authorship_tag": "ABX9TyOLbon5e5ylqNR29B5HtaGN",
      "include_colab_link": true
    },
    "kernelspec": {
      "name": "python3",
      "display_name": "Python 3"
    },
    "language_info": {
      "name": "python"
    },
    "accelerator": "GPU"
  },
  "cells": [
    {
      "cell_type": "markdown",
      "metadata": {
        "id": "view-in-github",
        "colab_type": "text"
      },
      "source": [
        "<a href=\"https://colab.research.google.com/github/zia207/r-colab/blob/main/generalized_linear_models.ipynb\" target=\"_parent\"><img src=\"https://colab.research.google.com/assets/colab-badge.svg\" alt=\"Open In Colab\"/></a>"
      ]
    },
    {
      "cell_type": "markdown",
      "source": [
        "# Generalized Linear Models\n",
        "\n",
        "By Zia Ahmed, University At Buffalo\n",
        "\n",
        "A generalized linear model (GLM) is a statistical framework that extends the traditional linear regression model to accommodate a broader range of response variables and model assumptions. The GLM allows for the response variable to follow a distribution other than the normal distribution, and allows for the relationship between the response variable and the predictor variables to be modeled using a nonlinear function.\n",
        "\n",
        "The GLM consists of three components:\n",
        "\n",
        "1.  The random component: specifies the distribution of the response variable (e.g., normal, Poisson, binomial, gamma, etc.). The distribution is chosen based on the nature of the response variable and the assumptions of the model.\n",
        "\n",
        "2.  The systematic component: specifies the linear predictor function that relates the predictor variables to the response variable. The predictor function is modeled using a combination of linear and nonlinear functions.\n",
        "\n",
        "3.  The link function: relates the expected value of the response variable to the linear predictor function. The link function can be used to transform the response variable to ensure that it follows the appropriate distribution for the model. For example, in logistic regression, which is used to model binary data, the link function is the logistic function, which maps the linear predictor to a probability between 0 and 1. In Poisson regression, which is used to model count data, the link function is the natural logarithm function, which maps the linear predictor to the mean of the Poisson distribution.\n",
        "\n",
        "The GLM is a flexible framework that can be used for a wide range of statistical applications, including regression analysis, classification, and survival analysis. It allows for the modeling of complex relationships between the response variable and the predictor variables, and can accommodate both continuous and discrete response variables.\n",
        "\n",
        "### Linear regression vs Generalized Linear Models\n",
        "\n",
        "1.  Linear regression assumes that the response variable is normally distributed, while GLMs allow for different distributions, such as binomial or Poisson.\n",
        "\n",
        "2.  Linear regression models the mean of the response variable as a linear function of the predictor variables, while GLMs model the relationship between the predictor variables and the response variable through a link function and a linear combination of the predictor variables.\n",
        "\n",
        "3.  Linear regression is used for continuous response variables, while GLMs can be used for both continuous and categorical response variables.\n",
        "\n",
        "4.  The assumptions of linear regression are more restrictive than those of GLMs, which makes GLMs more flexible and appropriate for a wider range of data."
      ],
      "metadata": {
        "id": "OY52m_L2yP0p"
      }
    },
    {
      "cell_type": "markdown",
      "source": [
        "In this exercise will fit GLM with:\n",
        "\n",
        "1. [GLM with Caret Package](#glm-with-caret-package)\n",
        "\n",
        "2. [GLM with tidymodel](#glm-with-tidymodel)\n",
        "\n",
        "3. [GLM-with-h2o](#glm-with-h2o)"
      ],
      "metadata": {
        "id": "9UZdwzAzvzrX"
      }
    },
    {
      "cell_type": "markdown",
      "source": [
        "## Run R-Code in Google Colab\n",
        "\n",
        "\n",
        "[Google Colab](https://colab.research.google.com/) is a cloud-based platform provided by Google for running and executing Python code. It is built on top of Jupyter Notebook and offers a free, convenient, and collaborative environment for data analysis, machine learning, and general-purpose Python programming. Colab allows you to create and share Jupyter notebooks that include code, text, images, and visualizations.\n",
        "\n",
        "Key features of Google Colab include:\n",
        "\n",
        "1.  **Free GPU and TPU Support:** Colab provides free access to a limited amount of GPU (Graphics Processing Unit) and TPU (Tensor Processing Unit) resources, which can significantly accelerate deep learning computations.\n",
        "\n",
        "2.  **Collaborative Editing:** Multiple users can collaborate in real-time on the same Colab notebook, making it useful for team projects or sharing knowledge.\n",
        "\n",
        "3.  **Google Drive Integration:** You can easily save and load files to and from your Google Drive, enabling seamless data storage and retrieval.\n",
        "\n",
        "4.  **Rich Text and Media Support:** Colab notebooks support rich media integration, allowing you to include images, videos, and other multimedia elements in your notebooks.\n",
        "\n",
        "5.  **Pre-installed Libraries:** Many popular Python libraries for data analysis, machine learning, and deep learning (e.g., NumPy, Pandas, TensorFlow, PyTorch) come pre-installed on Colab, reducing setup time.\n",
        "\n",
        "6.  **Easy Sharing:** Colab notebooks can be easily shared with others by generating a shareable link. It's a convenient way to showcase your work or collaborate with others.\n",
        "\n",
        "To get started with Google Colab, you can visit the official website at [**https://colab.research.google.com/**](https://colab.research.google.com/). You can either create a new notebook or open an existing one from your Google Drive. The notebooks run on virtual machines hosted by Google, and once you close the browser, the virtual machine and its contents are discarded, but your notebook will be automatically saved to your Google Drive.\n",
        "\n",
        "Keep in mind that the available resources, such as GPU and TPU quotas, may be limited for free users. Also, the specific features and limitations of Google Colab may evolve over time, so it's always a good idea to check the official website or documentation for the latest information.\n",
        "\n",
        "Although Google Colab is primarily designed for Python, it also supports R. You can run R code in a Colab notebook by creating an R runtime environment. Here's how you can set it up:\n",
        "\n",
        "1.  Open Google Colab in your web browser at https://colab.research.google.com/.\n",
        "\n",
        "2.  Click on the \"File\" menu and select \"New notebook\" to create a new notebook.\n",
        "\n",
        "3.  In the toolbar, click on the \"Runtime\" menu and select \"Change runtime type.\"\n",
        "\n",
        "4.  In the dialog box that appears, select \"R\" from the \"Runtime type\" dropdown.\n",
        "\n",
        "5.  Click on the \"Save\" button to apply the changes.\n",
        "\n",
        "Once you have set up the R runtime environment, you can start writing and executing R code in the notebook cells. To run a code cell, press Shift+Enter or click on the \"Play\" button next to the cell.\n",
        "\n",
        "You can install R packages in Colab by using the **install.packages()** function."
      ],
      "metadata": {
        "id": "FOK6d1BM45Zw"
      }
    },
    {
      "cell_type": "markdown",
      "source": [
        "### Install rpy2\n",
        "\n",
        "rpy2 is an interface to R running embedded in a Python process."
      ],
      "metadata": {
        "id": "Iady-vjHj36v"
      }
    },
    {
      "cell_type": "code",
      "source": [
        "!pip install rpy2==3.5.1"
      ],
      "metadata": {
        "id": "Tude9Sh0jxBf",
        "colab": {
          "base_uri": "https://localhost:8080/"
        },
        "outputId": "38d01cd0-bd08-4f7f-e602-b4c25b4d7cee"
      },
      "execution_count": 1,
      "outputs": [
        {
          "output_type": "stream",
          "name": "stdout",
          "text": [
            "Requirement already satisfied: rpy2==3.5.1 in /usr/local/lib/python3.10/dist-packages (3.5.1)\n",
            "Requirement already satisfied: cffi>=1.10.0 in /usr/local/lib/python3.10/dist-packages (from rpy2==3.5.1) (1.15.1)\n",
            "Requirement already satisfied: jinja2 in /usr/local/lib/python3.10/dist-packages (from rpy2==3.5.1) (3.1.2)\n",
            "Requirement already satisfied: pytz in /usr/local/lib/python3.10/dist-packages (from rpy2==3.5.1) (2022.7.1)\n",
            "Requirement already satisfied: tzlocal in /usr/local/lib/python3.10/dist-packages (from rpy2==3.5.1) (5.0.1)\n",
            "Requirement already satisfied: pycparser in /usr/local/lib/python3.10/dist-packages (from cffi>=1.10.0->rpy2==3.5.1) (2.21)\n",
            "Requirement already satisfied: MarkupSafe>=2.0 in /usr/local/lib/python3.10/dist-packages (from jinja2->rpy2==3.5.1) (2.1.3)\n"
          ]
        }
      ]
    },
    {
      "cell_type": "markdown",
      "source": [
        "## Activate R magic"
      ],
      "metadata": {
        "id": "TX6X9S6KkOUR"
      }
    },
    {
      "cell_type": "code",
      "source": [
        "%load_ext rpy2.ipython"
      ],
      "metadata": {
        "id": "Gm6T9jK6kOuj"
      },
      "execution_count": 2,
      "outputs": []
    },
    {
      "cell_type": "markdown",
      "source": [
        "### Data"
      ],
      "metadata": {
        "id": "5yZMA6jPzy8r"
      }
    },
    {
      "cell_type": "code",
      "source": [
        "%%R\n",
        "install.packages('tidyverse', repos='http://cran.rstudio.com/')"
      ],
      "metadata": {
        "id": "vrjd54OsBJPt"
      },
      "execution_count": null,
      "outputs": []
    },
    {
      "cell_type": "code",
      "execution_count": 6,
      "metadata": {
        "colab": {
          "base_uri": "https://localhost:8080/"
        },
        "id": "JcemTJe9yBJX",
        "outputId": "b2c9c160-a9c9-4b2e-e354-ab8df6c76716"
      },
      "outputs": [
        {
          "output_type": "stream",
          "name": "stderr",
          "text": [
            "WARNING:rpy2.rinterface_lib.callbacks:R[write to console]: ── Attaching packages ─────────────────────────────────────── tidyverse 1.3.1 ──\n",
            "\n",
            "WARNING:rpy2.rinterface_lib.callbacks:R[write to console]: ✔ ggplot2 3.4.2     ✔ purrr   1.0.1\n",
            "✔ tibble  3.2.1     ✔ dplyr   1.1.2\n",
            "✔ tidyr   1.3.0     ✔ stringr 1.5.0\n",
            "✔ readr   2.1.4     ✔ forcats 1.0.0\n",
            "\n",
            "WARNING:rpy2.rinterface_lib.callbacks:R[write to console]: ── Conflicts ────────────────────────────────────────── tidyverse_conflicts() ──\n",
            "✖ dplyr::filter() masks stats::filter()\n",
            "✖ dplyr::lag()    masks stats::lag()\n",
            "\n"
          ]
        },
        {
          "output_type": "stream",
          "name": "stdout",
          "text": [
            "Rows: 1408 Columns: 10\n",
            "── Column specification ────────────────────────────────────────────────────────\n",
            "Delimiter: \",\"\n",
            "chr (2): NLCD, FRG\n",
            "dbl (8): ID, SOC, DEM, Slope, TPI, MAP, MAT, NDVI\n",
            "\n",
            "ℹ Use `spec()` to retrieve the full column specification for this data.\n",
            "ℹ Specify the column types or set `show_col_types = FALSE` to quiet this message.\n",
            "Rows: 1,408\n",
            "Columns: 9\n",
            "$ SOC   <dbl> 1.900, 2.644, 0.800, 0.736, 15.641, 8.818, 3.782, 6.641, 4.803, …\n",
            "$ DEM   <dbl> 2825.1111, 2535.1086, 1716.3300, 1649.8933, 2675.3113, 2581.4839…\n",
            "$ Slope <dbl> 18.981682, 14.182393, 1.585145, 9.399726, 12.569353, 6.358553, 1…\n",
            "$ TPI   <dbl> -0.91606224, -0.15259802, -0.39078590, -2.54008722, 7.40076303, …\n",
            "$ MAT   <dbl> 4.709227, 4.648000, 6.360833, 10.265385, 2.798550, 6.358550, 7.0…\n",
            "$ MAP   <dbl> 613.6979, 597.7912, 201.5091, 298.2608, 827.4680, 679.1392, 508.…\n",
            "$ NDVI  <dbl> 0.6845260, 0.7557631, 0.2215059, 0.2785148, 0.7337426, 0.7017139…\n",
            "$ NLCD  <chr> \"Forest\", \"Forest\", \"Shrubland\", \"Shrubland\", \"Forest\", \"Forest\"…\n",
            "$ FRG   <chr> \"Fire Regime Group IV\", \"Fire Regime Group IV\", \"Fire Regime Gro…\n"
          ]
        }
      ],
      "source": [
        "%%R\n",
        "# load tidyverse\n",
        "library(tidyverse)\n",
        "# define data folder\n",
        "urlfile = \"https://github.com//zia207/r-colab/raw/main/Data/USA/gp_soil_data_syn.csv\"\n",
        "mf<-read_csv(url(urlfile))\n",
        "# Create a data-frame\n",
        "df<-mf %>% dplyr::select(SOC, DEM, Slope, TPI,MAT, MAP,NDVI, NLCD, FRG)%>%\n",
        "    glimpse()"
      ]
    },
    {
      "cell_type": "markdown",
      "source": [
        "## GLM with Caret Package"
      ],
      "metadata": {
        "id": "UvbSK6eAxCeM"
      }
    },
    {
      "cell_type": "markdown",
      "source": [
        "The Caret package (short for Classification And REgression Training) is a popular R package for machine learning. It provides a consistent interface to train and evaluate a wide range of machine learning models.The caret package in R provides a unified interface to train and tune machine learning models.\n",
        "\n",
        "Some of the key features of the Caret package include:\n",
        "\n",
        "1.  Data Preprocessing: It provides a comprehensive set of tools to preprocess the data, such as missing value imputation, feature scaling, feature selection, and data partitioning.\n",
        "\n",
        "2.  Model Training: It supports a wide range of machine learning algorithms for classification, regression, and survival analysis, including decision trees, random forests, support vector machines, gradient boosting, and neural networks.\n",
        "\n",
        "3.  Model Tuning: It provides tools for tuning the hyperparameters of the models using various techniques such as grid search, random search, and Bayesian optimization.\n",
        "\n",
        "4.  Model Evaluation: It provides tools for evaluating the performance of the models using various metrics such as accuracy, AUC, F1-score, and log-loss."
      ],
      "metadata": {
        "id": "KMYJt17SzAgg"
      }
    },
    {
      "cell_type": "code",
      "source": [
        "%%R\n",
        "# sudo apt-get update\n",
        "# sudo apt-get install r-cran-caret\n",
        "install.packages('caret', repos='http://cran.rstudio.com/')"
      ],
      "metadata": {
        "id": "ImXrPgcD1cjL"
      },
      "execution_count": null,
      "outputs": []
    },
    {
      "cell_type": "markdown",
      "source": [
        "#### Create Dummy Variables\n",
        "\n",
        "dummyVars() creates a full set of dummy variables (i.e. less than full rank parameterization)"
      ],
      "metadata": {
        "id": "L1GIts3NxNyL"
      }
    },
    {
      "cell_type": "code",
      "source": [
        "%%R\n",
        "library(caret)\n",
        "dummies <- dummyVars(SOC ~ ., data = df)\n",
        "dummies.df<-as.data.frame(predict(dummies, newdata = df))\n",
        "dummies.df$SOC<-df$SOC"
      ],
      "metadata": {
        "id": "SoqmDPQRxN9Y",
        "colab": {
          "base_uri": "https://localhost:8080/"
        },
        "outputId": "b870e0ee-17f7-4ae5-b7bc-f41ea4039d58"
      },
      "execution_count": 7,
      "outputs": [
        {
          "output_type": "stream",
          "name": "stderr",
          "text": [
            "WARNING:rpy2.rinterface_lib.callbacks:R[write to console]: Loading required package: lattice\n",
            "\n",
            "WARNING:rpy2.rinterface_lib.callbacks:R[write to console]: \n",
            "Attaching package: ‘caret’\n",
            "\n",
            "\n",
            "WARNING:rpy2.rinterface_lib.callbacks:R[write to console]: The following object is masked from ‘package:purrr’:\n",
            "\n",
            "    lift\n",
            "\n",
            "\n"
          ]
        }
      ]
    },
    {
      "cell_type": "markdown",
      "source": [
        "#### Data Splitting\n",
        "\n",
        "The function createDataPartition can be used to create balanced splits of the data"
      ],
      "metadata": {
        "id": "E0-Ep52Kxd4P"
      }
    },
    {
      "cell_type": "code",
      "source": [
        "%%R\n",
        "trainIndex <- createDataPartition(dummies.df$SOC, p = .80,\n",
        "                                  list = FALSE,\n",
        "                                  times = 1)\n",
        "df_train <- dummies.df[ trainIndex,]\n",
        "df_test  <- dummies.df[-trainIndex,]"
      ],
      "metadata": {
        "id": "OHqqjlyDxeBA"
      },
      "execution_count": 9,
      "outputs": []
    },
    {
      "cell_type": "code",
      "source": [
        "# Density plot all, train and test data\n",
        "%%R\n",
        "ggplot()+\n",
        "  geom_density(data = dummies.df, aes(SOC))+\n",
        "  geom_density(data = df_train, aes(SOC), color = \"green\")+\n",
        "  geom_density(data = df_test, aes(SOC), color = \"red\") +\n",
        "      xlab(\"Soil Organic Carbon (kg/g)\") +\n",
        "     ylab(\"Density\")"
      ],
      "metadata": {
        "colab": {
          "base_uri": "https://localhost:8080/",
          "height": 497
        },
        "id": "TMkGGXIexlqO",
        "outputId": "1c520eaa-1efc-49a7-9127-a737abdf48ef"
      },
      "execution_count": 10,
      "outputs": [
        {
          "output_type": "display_data",
          "data": {
            "image/png": "[encoded data removed]"
          },
          "metadata": {}
        }
      ]
    },
    {
      "cell_type": "markdown",
      "source": [
        "#### Set control prameters\n",
        "\n",
        "traincontrol() is is used for controlling the training process. It allows us to specify various options related to resampling, cross-validation, and model tuning during the training process."
      ],
      "metadata": {
        "id": "IPYJnHZ8xozE"
      }
    },
    {
      "cell_type": "code",
      "source": [
        "%%R\n",
        "set.seed(123)\n",
        "train.control <- trainControl(method = \"repeatedcv\",\n",
        "                              number = 10, repeats = 5,\n",
        "                              preProc = c(\"center\", \"scale\", \"nzv\"))"
      ],
      "metadata": {
        "id": "1W1mOvh5xtWJ"
      },
      "execution_count": 11,
      "outputs": []
    },
    {
      "cell_type": "markdown",
      "source": [
        "#### Train the model\n",
        "\n",
        "train() is used for training machine learning models. It provides a unified interface for a wide range of machine learning algorithms, making it easier to compare and evaluate different models on a given dataset. The train() function takes a formula and a dataset as input, and allows you to specify the type of model to train, as well as various tuning parameters and performance metrics. It uses a resampling method specified by trainControl() to estimate the performance of the model on new, unseen data, and returns a trained model object."
      ],
      "metadata": {
        "id": "Oowq7vUgxy97"
      }
    },
    {
      "cell_type": "code",
      "source": [
        "%%R\n",
        "model.glm <- train(SOC ~., data = df_train,\n",
        "                     method = \"glm\",\n",
        "                     trControl = train.control)"
      ],
      "metadata": {
        "id": "ZVFYvM4fxzHr"
      },
      "execution_count": 12,
      "outputs": []
    },
    {
      "cell_type": "code",
      "source": [
        "%%R\n",
        "print(model.glm)"
      ],
      "metadata": {
        "colab": {
          "base_uri": "https://localhost:8080/"
        },
        "id": "8sX0NPE2x8WN",
        "outputId": "46857c41-9ea9-42a8-93e1-476ae328d6f9"
      },
      "execution_count": 13,
      "outputs": [
        {
          "output_type": "stream",
          "name": "stdout",
          "text": [
            "Generalized Linear Model \n",
            "\n",
            "1127 samples\n",
            "  16 predictor\n",
            "\n",
            "No pre-processing\n",
            "Resampling: Cross-Validated (10 fold, repeated 5 times) \n",
            "Summary of sample sizes: 1014, 1015, 1014, 1015, 1014, 1014, ... \n",
            "Resampling results:\n",
            "\n",
            "  RMSE     Rsquared   MAE     \n",
            "  3.78864  0.3999673  2.710722\n",
            "\n"
          ]
        }
      ]
    },
    {
      "cell_type": "markdown",
      "source": [
        "#### Training Performance"
      ],
      "metadata": {
        "id": "GLEAeI4zyBDP"
      }
    },
    {
      "cell_type": "code",
      "source": [
        "%%R\n",
        "getTrainPerf(model.glm)"
      ],
      "metadata": {
        "colab": {
          "base_uri": "https://localhost:8080/"
        },
        "id": "o04feJ2ZyBVw",
        "outputId": "aa9e3e2f-f612-4029-a733-bd415c1472c4"
      },
      "execution_count": 14,
      "outputs": [
        {
          "output_type": "stream",
          "name": "stdout",
          "text": [
            "  TrainRMSE TrainRsquared TrainMAE method\n",
            "1   3.78864     0.3999673 2.710722    glm\n"
          ]
        }
      ]
    },
    {
      "cell_type": "markdown",
      "source": [
        "#### Prediction"
      ],
      "metadata": {
        "id": "SNehtz5ayGvU"
      }
    },
    {
      "cell_type": "code",
      "source": [
        "%%R\n",
        "df_test$Pred.SOC = predict(model.glm, df_test)"
      ],
      "metadata": {
        "id": "sIm_AxZfyG7S"
      },
      "execution_count": 15,
      "outputs": []
    },
    {
      "cell_type": "markdown",
      "source": [
        "### Prediction Performance"
      ],
      "metadata": {
        "id": "OmyXB_RdyS0v"
      }
    },
    {
      "cell_type": "code",
      "source": [
        "%%R\n",
        "install.packages(\"Metrics\", repos='http://cran.rstudio.com/')"
      ],
      "metadata": {
        "id": "9_wsoWhiCLNC"
      },
      "execution_count": null,
      "outputs": []
    },
    {
      "cell_type": "code",
      "source": [
        "%%R\n",
        "library(Metrics)\n",
        "RMSE<- Metrics::rmse(df_test$SOC, df_test$Pred.SOC)\n",
        "MAE<- Metrics::mae(df_test$SOC, df_test$Pred.SOC)\n",
        "\n",
        "# Print results\n",
        "paste0(\"RMSE: \", round(RMSE,2))"
      ],
      "metadata": {
        "colab": {
          "base_uri": "https://localhost:8080/"
        },
        "id": "vLMQwNNSyS8b",
        "outputId": "da823fb6-7c46-4c89-f63d-0c6b2ffb7a47"
      },
      "execution_count": 19,
      "outputs": [
        {
          "output_type": "stream",
          "name": "stdout",
          "text": [
            "[1] \"MAE: 2.96\"\n"
          ]
        }
      ]
    },
    {
      "cell_type": "code",
      "source": [
        "%%R\n",
        "paste0(\"MAE: \", round(MAE,2));"
      ],
      "metadata": {
        "colab": {
          "base_uri": "https://localhost:8080/"
        },
        "id": "WSBODGbl0jHs",
        "outputId": "cee8c2fa-3dbb-4d0a-d9bb-e12fe69b5d26"
      },
      "execution_count": 20,
      "outputs": [
        {
          "output_type": "stream",
          "name": "stdout",
          "text": [
            "[1] \"MAE: 2.96\"\n"
          ]
        }
      ]
    },
    {
      "cell_type": "markdown",
      "source": [
        "We can plot observed and predicted values with fitted regression line with ggplot2"
      ],
      "metadata": {
        "id": "Rba_wwAeyh3J"
      }
    },
    {
      "cell_type": "code",
      "source": [
        "%%R\n",
        "ggplot(df_test, aes(SOC,Pred.SOC)) +\n",
        "  geom_point() +\n",
        "  geom_smooth(method = \"lm\")+\n",
        "  ggtitle(\"Caret:Observed vs Predicted SOC \") +\n",
        "  xlab(\"Observed\") + ylab(\"Predicted\") +\n",
        "  scale_x_continuous(limits=c(0,25), breaks=seq(0, 25, 5))+\n",
        "  scale_y_continuous(limits=c(0,25), breaks=seq(0, 25, 5)) +\n",
        "  # Flip the bars\n",
        "  theme(\n",
        "    panel.background = element_rect(fill = \"grey95\",colour = \"gray75\",size = 0.5, linetype = \"solid\"),\n",
        "    axis.line = element_line(colour = \"grey\"),\n",
        "    plot.title = element_text(size = 14, hjust = 0.5),\n",
        "    axis.title.x = element_text(size = 14),\n",
        "    axis.title.y = element_text(size = 14),\n",
        "    axis.text.x=element_text(size=13, colour=\"black\"),\n",
        "    axis.text.y=element_text(size=13,angle = 90,vjust = 0.5, hjust=0.5, colour='black'))"
      ],
      "metadata": {
        "colab": {
          "base_uri": "https://localhost:8080/",
          "height": 514
        },
        "id": "ihp615Rvyi2O",
        "outputId": "4c3d8ace-55b2-4f07-afe0-aceba55be672"
      },
      "execution_count": 57,
      "outputs": [
        {
          "output_type": "stream",
          "name": "stdout",
          "text": [
            "`geom_smooth()` using formula = 'y ~ x'\n"
          ]
        },
        {
          "output_type": "display_data",
          "data": {
            "image/png": "[encoded data removed]"
          },
          "metadata": {}
        }
      ]
    },
    {
      "cell_type": "markdown",
      "source": [
        "### GLM with tidymodels"
      ],
      "metadata": {
        "id": "n1-xUTzPytUJ"
      }
    },
    {
      "cell_type": "markdown",
      "source": [
        "Tidymodels is a collection of R packages for modeling and machine learning using a tidyverse approach. The tidyverse is a set of R packages that share a common philosophy of data manipulation and visualization. Tidymodels extends this philosophy to modeling by providing a consistent set of functions for modeling, resampling, and tuning models.\n",
        "\n",
        "The core packages in tidymodels include:\n",
        "\n",
        "**parsnip**: A package for creating a consistent interface to different model types.\n",
        "\n",
        "**dials**: A package for tuning model hyperparameters using a tidy interface.\n",
        "\n",
        "**rsample**: A package for resampling data to estimate model performance.\n",
        "\n",
        "**recipes**: A package for preprocessing data in a tidy way.\n",
        "\n",
        "**infer**: A package for statistical inference using tidy data principles.\n",
        "\n",
        "These packages can be used together or separately to build and evaluate models using a tidy workflow. Tidymodels also integrates with other tidyverse packages like ggplot2 for visualization and purrr for functional programming.\n",
        "\n",
        "Overall, tidymodels provides a comprehensive framework for building, tuning, and evaluating machine learning models in R while following the principles of the tidyverse.\n",
        "\n",
        "The steps in most machine learning projects with tidy model are as follows:\n",
        "\n",
        "-   Loading necessary packages and data\n",
        "\n",
        "-   split data into train and test ({rsample})\n",
        "\n",
        "-   light preprocessing ({recipes})\n",
        "\n",
        "-   find the best hyperparameters by\n",
        "\n",
        "    -   creating crossvalidation folds ({rsample})\n",
        "\n",
        "    -   creating a model specification ({tune, parsnip, treesnip, dials})\n",
        "\n",
        "    -   creating a grid of values ({dials})\n",
        "\n",
        "    -   using a workflow to contain the model and formula ({workflows})\n",
        "\n",
        "    -   tune the model ({tune})\n",
        "\n",
        "    -   find the best model from tuning\n",
        "\n",
        "-   retrain on entire test data\n",
        "\n",
        "-   evaluate on test data ({yardstick})\n",
        "\n",
        "-   check residuals and model diagnostics"
      ],
      "metadata": {
        "id": "Yq2zoTjlyw5k"
      }
    },
    {
      "cell_type": "code",
      "source": [
        "%%R\n",
        "install.packages('tidymodels', repos='http://cran.rstudio.com/')"
      ],
      "metadata": {
        "id": "UGeIIEzF1O0Z"
      },
      "execution_count": null,
      "outputs": []
    },
    {
      "cell_type": "markdown",
      "source": [
        "### Split Data\n",
        "\n",
        "We use **rsample** package, install with **tidymodels**, to split data into training (70%) and test data (30%) set with Stratified Random Sampling. initial_split() creates a single binary split of the data into a training set and testing set.\n",
        "\n",
        "::: callout-note\n",
        "Stratified random sampling is a technique for selecting a representative sample from a population, where the sample is chosen in a way that ensures that certain subgroups within the population are adequately represented in the sample."
      ],
      "metadata": {
        "id": "NxRO1VMSy2h4"
      }
    },
    {
      "cell_type": "code",
      "source": [
        "%%R\n",
        "library(tidymodels)\n",
        "set.seed(1245)   # for reproducibility\n",
        "split <- initial_split(df, prop = 0.8, strata = SOC)\n",
        "train <- split %>% training()\n",
        "test <-  split %>% testing()\n",
        "\n",
        "# Density plot all, train and test data\n",
        "ggplot()+\n",
        "  geom_density(data = df, aes(SOC))+\n",
        "  geom_density(data = train, aes(SOC), color = \"green\")+\n",
        "  geom_density(data = test, aes(SOC), color = \"red\") +\n",
        "      xlab(\"Soil Organic Carbon (kg/g)\") +\n",
        "     ylab(\"Density\")"
      ],
      "metadata": {
        "colab": {
          "base_uri": "https://localhost:8080/",
          "height": 1000
        },
        "id": "G5rLsFRoy2sY",
        "outputId": "2c09f136-d9b6-46ee-c258-2cee7c25cd96"
      },
      "execution_count": 24,
      "outputs": [
        {
          "output_type": "stream",
          "name": "stderr",
          "text": [
            "WARNING:rpy2.rinterface_lib.callbacks:R[write to console]: ── Attaching packages ────────────────────────────────────── tidymodels 1.1.0 ──\n",
            "\n",
            "WARNING:rpy2.rinterface_lib.callbacks:R[write to console]: ✔ broom        1.0.5     ✔ rsample      1.1.1\n",
            "✔ dials        1.2.0     ✔ tune         1.1.1\n",
            "✔ infer        1.0.4     ✔ workflows    1.1.3\n",
            "✔ modeldata    1.1.0     ✔ workflowsets 1.0.1\n",
            "✔ parsnip      1.1.0     ✔ yardstick    1.2.0\n",
            "✔ recipes      1.0.6     \n",
            "\n",
            "WARNING:rpy2.rinterface_lib.callbacks:R[write to console]: ── Conflicts ───────────────────────────────────────── tidymodels_conflicts() ──\n",
            "✖ yardstick::accuracy()    masks Metrics::accuracy()\n",
            "✖ scales::discard()        masks purrr::discard()\n",
            "✖ dplyr::filter()          masks stats::filter()\n",
            "✖ recipes::fixed()         masks stringr::fixed()\n",
            "✖ dplyr::lag()             masks stats::lag()\n",
            "✖ caret::lift()            masks purrr::lift()\n",
            "✖ yardstick::mae()         masks Metrics::mae()\n",
            "✖ yardstick::mape()        masks Metrics::mape()\n",
            "✖ yardstick::mase()        masks Metrics::mase()\n",
            "✖ yardstick::precision()   masks Metrics::precision(), caret::precision()\n",
            "✖ yardstick::recall()      masks Metrics::recall(), caret::recall()\n",
            "✖ yardstick::rmse()        masks Metrics::rmse()\n",
            "✖ yardstick::sensitivity() masks caret::sensitivity()\n",
            "✖ yardstick::smape()       masks Metrics::smape()\n",
            "✖ yardstick::spec()        masks readr::spec()\n",
            "✖ yardstick::specificity() masks caret::specificity()\n",
            "✖ recipes::step()          masks stats::step()\n",
            "• Search for functions across packages at https://www.tidymodels.org/find/\n",
            "\n"
          ]
        },
        {
          "output_type": "display_data",
          "data": {
            "image/png": "[encoded data removed]"
          },
          "metadata": {}
        }
      ]
    },
    {
      "cell_type": "markdown",
      "source": [
        "### Create Recipe\n",
        "\n",
        "A recipe is a description of the steps to be applied to a data set in order to prepare it for data analysis. Before training the model, we can use a recipe to do some preprocessing required by the model."
      ],
      "metadata": {
        "id": "ZeB8EHnBy-oC"
      }
    },
    {
      "cell_type": "code",
      "source": [
        "%%R\n",
        "# Create a recipe\n",
        "glm_recipe <-\n",
        "  recipe(SOC ~ ., data = train) %>%\n",
        "  step_zv(all_predictors()) %>%\n",
        "  step_dummy(all_nominal()) %>%\n",
        "  step_normalize(all_numeric_predictors())"
      ],
      "metadata": {
        "id": "Z8qZCO1Dzlxq"
      },
      "execution_count": 25,
      "outputs": []
    },
    {
      "cell_type": "markdown",
      "source": [
        "### Build a model\n",
        "\n",
        "set_engine() is used to specify which package or system will be used to fit the model, along with any arguments specific to that software. We will use \"glm\" without any regularization parameters"
      ],
      "metadata": {
        "id": "qyzzvQztzpsD"
      }
    },
    {
      "cell_type": "code",
      "source": [
        "%%R\n",
        "glm_mod <-\n",
        "   linear_reg() %>%\n",
        "   set_engine(\"glm\")"
      ],
      "metadata": {
        "id": "cbfd1dIFzp2G"
      },
      "execution_count": 26,
      "outputs": []
    },
    {
      "cell_type": "markdown",
      "source": [
        "### Creatae a workflow\n",
        "\n",
        "A workflow is a container object that aggregates information required to fit and predict from a model. This information might be a recipe used in preprocessing, specified through add_recipe(), or the model specification to fit, specified through add_model()."
      ],
      "metadata": {
        "id": "v47Mt3Gxzvnc"
      }
    },
    {
      "cell_type": "code",
      "source": [
        "%%R\n",
        "glm_wflow <-\n",
        "  workflow() %>%\n",
        "  add_model(glm_mod) %>%\n",
        "  add_recipe(glm_recipe)"
      ],
      "metadata": {
        "id": "vtc7puu9z1BT"
      },
      "execution_count": 27,
      "outputs": []
    },
    {
      "cell_type": "markdown",
      "source": [
        "### Fit GLM model\n",
        "\n",
        "Now, there is a single function that can be used to prepare the recipe and train the model from the resulting predictors:"
      ],
      "metadata": {
        "id": "xtDwSD7kz3k2"
      }
    },
    {
      "cell_type": "code",
      "source": [
        "%%R\n",
        "glm_fit <-\n",
        "  glm_wflow %>%\n",
        "  fit(data = train)"
      ],
      "metadata": {
        "id": "imSpRB38z3uU"
      },
      "execution_count": 28,
      "outputs": []
    },
    {
      "cell_type": "markdown",
      "source": [
        "This object has the finalized recipe and fitted model objects inside. You may want to extract the model or recipe objects from the workflow. To do this, you can use the helper functions extract_fit_parsnip():"
      ],
      "metadata": {
        "id": "y-GFX7VYz-7_"
      }
    },
    {
      "cell_type": "code",
      "source": [
        "%%R\n",
        "glm_fit %>%\n",
        "  extract_fit_parsnip() %>%\n",
        "  tidy()"
      ],
      "metadata": {
        "colab": {
          "base_uri": "https://localhost:8080/"
        },
        "id": "Fmv41nBNz_NJ",
        "outputId": "5aaa44a0-98f8-4d89-e2d4-2a7ba87384ef"
      },
      "execution_count": 29,
      "outputs": [
        {
          "output_type": "stream",
          "name": "stdout",
          "text": [
            "# A tibble: 15 × 5\n",
            "   term                      estimate std.error statistic   p.value\n",
            "   <chr>                        <dbl>     <dbl>     <dbl>     <dbl>\n",
            " 1 (Intercept)                 6.06       0.116    52.3   7.22e-302\n",
            " 2 DEM                        -0.0532     0.295    -0.181 8.57e-  1\n",
            " 3 Slope                       0.594      0.197     3.01  2.70e-  3\n",
            " 4 TPI                         0.0886     0.123     0.717 4.73e-  1\n",
            " 5 MAT                        -0.900      0.222    -4.05  5.38e-  5\n",
            " 6 MAP                         0.850      0.186     4.57  5.35e-  6\n",
            " 7 NDVI                        1.56       0.224     6.97  5.52e- 12\n",
            " 8 NLCD_Herbaceous            -0.671      0.261    -2.57  1.04e-  2\n",
            " 9 NLCD_Planted.Cultivated    -0.832      0.235    -3.54  4.12e-  4\n",
            "10 NLCD_Shrubland             -0.335      0.231    -1.45  1.48e-  1\n",
            "11 FRG_Fire.Regime.Group.II    0.613      0.359     1.71  8.83e-  2\n",
            "12 FRG_Fire.Regime.Group.III  -0.0725     0.266    -0.272 7.85e-  1\n",
            "13 FRG_Fire.Regime.Group.IV   -0.0257     0.251    -0.103 9.18e-  1\n",
            "14 FRG_Fire.Regime.Group.V     0.0270     0.161     0.167 8.67e-  1\n",
            "15 FRG_Indeterminate.FRG      -0.0476     0.129    -0.369 7.12e-  1\n"
          ]
        }
      ]
    },
    {
      "cell_type": "markdown",
      "source": [
        "### Prediction"
      ],
      "metadata": {
        "id": "njRtbH_70FU4"
      }
    },
    {
      "cell_type": "code",
      "source": [
        "%%R\n",
        "test_df<-as.data.frame(test)\n",
        "test_df$GLM.SOC<-predict(glm_fit, new_data = test)\n"
      ],
      "metadata": {
        "id": "2e67yg6t0FeF"
      },
      "execution_count": 30,
      "outputs": []
    },
    {
      "cell_type": "code",
      "source": [
        "%%R\n",
        "GLM.RMSE<- Metrics::rmse(test_df$SOC, test_df$GLM.SOC$.pred)\n",
        "GLM.MAE<- Metrics::mae(test_df$SOC, test_df$GLM.SOC$.pred)\n"
      ],
      "metadata": {
        "id": "cJhmG-Mt2rS9"
      },
      "execution_count": 32,
      "outputs": []
    },
    {
      "cell_type": "code",
      "source": [
        "%%R\n",
        "paste0(\"GLM.RMSE: \", round(GLM.RMSE,2))"
      ],
      "metadata": {
        "colab": {
          "base_uri": "https://localhost:8080/"
        },
        "id": "XSKgm7vh2w0W",
        "outputId": "902bc24f-e10c-48a0-f8de-d7f8fed41458"
      },
      "execution_count": 33,
      "outputs": [
        {
          "output_type": "stream",
          "name": "stdout",
          "text": [
            "[1] \"GLM.RMSE: 3.82\"\n"
          ]
        }
      ]
    },
    {
      "cell_type": "code",
      "source": [
        "%%R\n",
        "paste0(\"GLM.MAE: \", round(GLM.MAE,2))"
      ],
      "metadata": {
        "colab": {
          "base_uri": "https://localhost:8080/"
        },
        "id": "JrGCLUuL2zNx",
        "outputId": "0d2ee739-47d5-4c3a-bbd9-af4364119bee"
      },
      "execution_count": 34,
      "outputs": [
        {
          "output_type": "stream",
          "name": "stdout",
          "text": [
            "[1] \"GLM.MAE: 2.72\"\n"
          ]
        }
      ]
    },
    {
      "cell_type": "markdown",
      "source": [
        "## GLM with h20"
      ],
      "metadata": {
        "id": "69Kwgfs56TLz"
      }
    },
    {
      "cell_type": "markdown",
      "source": [
        "The H2O package is an open-source software for data analysis and machine learning. It is designed to be fast, scalable, and easy to use. The package can be used in R, Python, and other programming languages, and it provides a variety of machine learning algorithms, including deep learning, gradient boosting, generalized linear models, and others.\n",
        "\n",
        "H2O is particularly well-suited for large datasets and can run on a single machine or a distributed cluster. It also offers automated machine learning (AutoML) capabilities, which can help users select the best algorithm and hyperparameters for their data.\n",
        "\n",
        "Some of the key features of the H2O package include:\n",
        "\n",
        "1.  Distributed computing: H2O can run on a cluster of machines and scale up to handle very large datasets. GPU acceleration: H2O supports GPU acceleration for certain algorithms, which can significantly speed up computation.\n",
        "\n",
        "2.  Automated machine learning: H2O's AutoML feature can automatically select the best algorithm and hyperparameters for a given dataset.\n",
        "\n",
        "3.  Interpretable machine learning: H2O provides tools for interpreting machine learning models and understanding their predictions.\n",
        "\n",
        "4.  Integration with popular programming languages: H2O can be used with R, Python, and other programming languages, making it accessible to a wide range of users.\n",
        "\n",
        "The h2o package provides an open-source implementation of GLM that is specifically designed for big data. To use the GLM function in h2o, you will need to first install and load the package in your R environment. Once the package is loaded, you can use the h2o.glm() function to fit a GLM model.\n",
        "\n",
        "#### Downloading & Installing H2O\n",
        "\n",
        "Detail instruction of downloading & installing H2O in R could be found [here](https://docs.h2o.ai/h2o/latest-stable/h2o-docs/downloading.html)\n",
        "\n",
        "Anyway, perform the following steps in R to install H2O. Copy and paste these commands one line at a time.\n",
        "\n",
        "1.  The following two commands remove any previously installed H2O packages for R.\n",
        "\n",
        "> if (\"package:h2o\" %in% search()) { detach(\"package:h2o\", unload=TRUE) }\n",
        "\n",
        "> if (\"h2o\" %in% rownames(installed.packages())) { remove.packages(\"h2o\") }\n",
        "\n",
        "2.  Next, download packages that H2O depends on\n",
        "\n",
        "> pkgs \\<- c(\"RCurl\",\"jsonlite\")\n",
        "\n",
        "> for (pkg in pkgs) { if (! (pkg %in% rownames(installed.packages()))) { install.packages(pkg) } }\n",
        "\n",
        "3.  Download and install the H2O package for R.\n",
        "\n",
        "> install.packages(\"h2o\", type=\"source\", repos=(c(\"http://h2o-release.s3.amazonaws.com/h2o/latest_stable_R\")))"
      ],
      "metadata": {
        "id": "NlyH4vW86W5O"
      }
    },
    {
      "cell_type": "code",
      "source": [
        "%%R\n",
        "pkgs <- c(\"RCurl\",\"jsonlite\")\n",
        "for (pkg in pkgs) {\n",
        "  if (! (pkg %in% rownames(installed.packages()))) { install.packages(pkg) }\n",
        "}"
      ],
      "metadata": {
        "id": "QPgl32HR3wi9"
      },
      "execution_count": null,
      "outputs": []
    },
    {
      "cell_type": "code",
      "source": [
        "%%R\n",
        "install.packages(\"h2o\", type=\"source\", repos=(c(\"http://h2o-release.s3.amazonaws.com/h2o/latest_stable_R\")))"
      ],
      "metadata": {
        "id": "d7scV7XuB7UX"
      },
      "execution_count": null,
      "outputs": []
    },
    {
      "cell_type": "code",
      "source": [],
      "metadata": {
        "id": "BzQ_o85U3vn9"
      },
      "execution_count": null,
      "outputs": []
    },
    {
      "cell_type": "markdown",
      "source": [
        "### Data"
      ],
      "metadata": {
        "id": "-wmAnZ346lwc"
      }
    },
    {
      "cell_type": "code",
      "source": [
        "%%R\n",
        "library(tidyverse)\n",
        "# define file from my github\n",
        "urlfile = \"https://github.com//zia207/r-colab/raw/main/Data/USA/gp_soil_data_syn.csv\"\n",
        "mf<-read_csv(url(urlfile))\n",
        "# Create a data-frame\n",
        "df<-mf %>% dplyr::select(SOC, DEM, Slope, TPI,MAT, MAP,NDVI, NLCD, FRG)%>%\n",
        "    glimpse()"
      ],
      "metadata": {
        "colab": {
          "base_uri": "https://localhost:8080/"
        },
        "id": "w0oE8ZuZ6TVn",
        "outputId": "bb41b142-5781-4ddd-9ca1-73b1f75bd60b"
      },
      "execution_count": 36,
      "outputs": [
        {
          "output_type": "stream",
          "name": "stdout",
          "text": [
            "Rows: 1408 Columns: 10\n",
            "── Column specification ────────────────────────────────────────────────────────\n",
            "Delimiter: \",\"\n",
            "chr (2): NLCD, FRG\n",
            "dbl (8): ID, SOC, DEM, Slope, TPI, MAP, MAT, NDVI\n",
            "\n",
            "ℹ Use `spec()` to retrieve the full column specification for this data.\n",
            "ℹ Specify the column types or set `show_col_types = FALSE` to quiet this message.\n",
            "Rows: 1,408\n",
            "Columns: 9\n",
            "$ SOC   <dbl> 1.900, 2.644, 0.800, 0.736, 15.641, 8.818, 3.782, 6.641, 4.803, …\n",
            "$ DEM   <dbl> 2825.1111, 2535.1086, 1716.3300, 1649.8933, 2675.3113, 2581.4839…\n",
            "$ Slope <dbl> 18.981682, 14.182393, 1.585145, 9.399726, 12.569353, 6.358553, 1…\n",
            "$ TPI   <dbl> -0.91606224, -0.15259802, -0.39078590, -2.54008722, 7.40076303, …\n",
            "$ MAT   <dbl> 4.709227, 4.648000, 6.360833, 10.265385, 2.798550, 6.358550, 7.0…\n",
            "$ MAP   <dbl> 613.6979, 597.7912, 201.5091, 298.2608, 827.4680, 679.1392, 508.…\n",
            "$ NDVI  <dbl> 0.6845260, 0.7557631, 0.2215059, 0.2785148, 0.7337426, 0.7017139…\n",
            "$ NLCD  <chr> \"Forest\", \"Forest\", \"Shrubland\", \"Shrubland\", \"Forest\", \"Forest\"…\n",
            "$ FRG   <chr> \"Fire Regime Group IV\", \"Fire Regime Group IV\", \"Fire Regime Gro…\n"
          ]
        }
      ]
    },
    {
      "cell_type": "markdown",
      "source": [
        "### Convert to factor"
      ],
      "metadata": {
        "id": "NjcCDqvS6qKq"
      }
    },
    {
      "cell_type": "code",
      "source": [
        "%%R\n",
        "df$NLCD <- as.factor(df$NLCD)\n",
        "df$FRG <- as.factor(df$FRG)"
      ],
      "metadata": {
        "id": "iGLE8WK26qTU"
      },
      "execution_count": 37,
      "outputs": []
    },
    {
      "cell_type": "markdown",
      "source": [
        "### Data split"
      ],
      "metadata": {
        "id": "IHjpEQ7W7IKU"
      }
    },
    {
      "cell_type": "code",
      "source": [
        "%%R\n",
        "library(tidymodels)\n",
        "set.seed(1245)   # for reproducibility\n",
        "split.df <- initial_split(df, prop = 0.8, strata = SOC)\n",
        "train.df <- split.df %>% training()\n",
        "test.df <-  split.df %>% testing()"
      ],
      "metadata": {
        "id": "QTM09pt87ITj"
      },
      "execution_count": 38,
      "outputs": []
    },
    {
      "cell_type": "markdown",
      "source": [
        "### Import h2o"
      ],
      "metadata": {
        "id": "Ab9C4Ub47Qo5"
      }
    },
    {
      "cell_type": "code",
      "source": [
        "%%R\n",
        "library(h2o)\n",
        "h2o.init()\n",
        "#disable progress bar for RMarkdown\n",
        "h2o.no_progress()\n",
        "# Optional: remove anything from previous session\n",
        "h2o.removeAll()"
      ],
      "metadata": {
        "colab": {
          "base_uri": "https://localhost:8080/"
        },
        "id": "Wgd1Yyh07Qzf",
        "outputId": "71544996-8e58-4aaf-b09e-eda444886681"
      },
      "execution_count": 43,
      "outputs": [
        {
          "output_type": "stream",
          "name": "stderr",
          "text": [
            "WARNING:rpy2.rinterface_lib.callbacks:R[write to console]: \n",
            "----------------------------------------------------------------------\n",
            "\n",
            "Your next step is to start H2O:\n",
            "    > h2o.init()\n",
            "\n",
            "For H2O package documentation, ask for help:\n",
            "    > ??h2o\n",
            "\n",
            "After starting H2O, you can use the Web UI at http://localhost:54321\n",
            "For more information visit https://docs.h2o.ai\n",
            "\n",
            "----------------------------------------------------------------------\n",
            "\n",
            "\n",
            "WARNING:rpy2.rinterface_lib.callbacks:R[write to console]: \n",
            "Attaching package: ‘h2o’\n",
            "\n",
            "\n",
            "WARNING:rpy2.rinterface_lib.callbacks:R[write to console]: The following objects are masked from ‘package:stats’:\n",
            "\n",
            "    cor, sd, var\n",
            "\n",
            "\n",
            "WARNING:rpy2.rinterface_lib.callbacks:R[write to console]: The following objects are masked from ‘package:base’:\n",
            "\n",
            "    &&, %*%, %in%, ||, apply, as.factor, as.numeric, colnames,\n",
            "    colnames<-, ifelse, is.character, is.factor, is.numeric, log,\n",
            "    log10, log1p, log2, round, signif, trunc\n",
            "\n",
            "\n"
          ]
        },
        {
          "output_type": "stream",
          "name": "stdout",
          "text": [
            "\n",
            "H2O is not running yet, starting it now...\n",
            "\n",
            "Note:  In case of errors look at the following log files:\n",
            "    /tmp/RtmpyUnB58/file39a245ac24b/h2o_UnknownUser_started_from_r.out\n",
            "    /tmp/RtmpyUnB58/file39a1461031c/h2o_UnknownUser_started_from_r.err\n",
            "\n",
            "\n",
            "Starting H2O JVM and connecting: ... Connection successful!\n",
            "\n",
            "R is connected to the H2O cluster: \n",
            "    H2O cluster uptime:         2 seconds 707 milliseconds \n",
            "    H2O cluster timezone:       Etc/UTC \n",
            "    H2O data parsing timezone:  UTC \n",
            "    H2O cluster version:        3.42.0.2 \n",
            "    H2O cluster version age:    4 hours and 59 minutes \n",
            "    H2O cluster name:           H2O_started_from_R_root_yqz807 \n",
            "    H2O cluster total nodes:    1 \n",
            "    H2O cluster total memory:   3.17 GB \n",
            "    H2O cluster total cores:    2 \n",
            "    H2O cluster allowed cores:  2 \n",
            "    H2O cluster healthy:        TRUE \n",
            "    H2O Connection ip:          localhost \n",
            "    H2O Connection port:        54321 \n",
            "    H2O Connection proxy:       NA \n",
            "    H2O Internal Security:      FALSE \n",
            "    R Version:                  R version 4.1.2 (2021-11-01) \n",
            "\n"
          ]
        }
      ]
    },
    {
      "cell_type": "markdown",
      "source": [
        "#### Import data to h2o cluster"
      ],
      "metadata": {
        "id": "PsNyG9N_7d8Q"
      }
    },
    {
      "cell_type": "code",
      "source": [
        "%%R\n",
        "h_df=as.h2o(df)\n",
        "h_train = as.h2o(train.df)\n",
        "h_test = as.h2o(test.df)"
      ],
      "metadata": {
        "id": "8ylVHjNd7eEE"
      },
      "execution_count": 44,
      "outputs": []
    },
    {
      "cell_type": "code",
      "source": [
        "%%R\n",
        "CV.xy<- as.data.frame(h_train)\n",
        "test.xy<- as.data.frame(h_test)"
      ],
      "metadata": {
        "id": "Axl-qwFd7jUA"
      },
      "execution_count": 45,
      "outputs": []
    },
    {
      "cell_type": "markdown",
      "source": [
        "### Define response and predictors"
      ],
      "metadata": {
        "id": "f1B08sTl7sWS"
      }
    },
    {
      "cell_type": "code",
      "source": [
        "%%R\n",
        "y <- \"SOC\"\n",
        "x <- setdiff(names(h_df), y)"
      ],
      "metadata": {
        "id": "xj3-yaLV7sgA"
      },
      "execution_count": 46,
      "outputs": []
    },
    {
      "cell_type": "markdown",
      "source": [
        "### Fit a GLM"
      ],
      "metadata": {
        "id": "WwRz7UQh73I5"
      }
    },
    {
      "cell_type": "code",
      "source": [
        "%%R\n",
        "glm_h2o <- h2o.glm(                    ## h2o.glm function\n",
        "  training_frame = h_train,            ## the H2O frame for training\n",
        "  # validation_frame = valid,          ## the H2O frame for validation (not required)\n",
        "  x=x,                                 ## the predictor columns, by column index\n",
        "  y=y,                                 ## the target index (what we are predicting)\n",
        "  model_id = \"GLM_MODEL_ID\",           ## name the model in H2O\n",
        "                                       ## not required, but helps use Flow\n",
        "  family = \"gaussian\",                 ## Family. Use binomial for classification with\n",
        "                                       ## logistic regression, others are for regression problems.\n",
        "                                       ## Must be one of: \"AUTO\", \"gaussian\", \"binomial\",\n",
        "                                       ## \"fractionalbinomial\", \"quasibinomial\", \"ordinal\",\n",
        "                                       ## \"multinomial\", \"poisson\", \"gamma\", \"tweedie\",\n",
        "                                       ## \"negativebinomial\".\n",
        "                                       ## Defaults to AUTO\n",
        "  compute_p_values = TRUE,             ## Logical. Request p-values computation, p-values\n",
        "                                       ## work only with IRLSM solver and no regularization\n",
        "                                       ## Defaults to FALSE.\n",
        "  nfolds = 10,                         ## umber of folds for K-fold cross-validation\n",
        "                                       ## (0 to disable or >= 2).\n",
        "                                       ## Defaults to 0.\n",
        "  keep_cross_validation_models = TRUE, ## logical. Whether to keep the cross-validation models.\n",
        "                                       ## Defaults to TRUE.\n",
        "  early_stopping = TRUE,               ## Logical. Stop early when there is no more relative\n",
        "                                       ## improvement on train or validation (if provided)\n",
        "                                       ## Defaults to TRUE.\n",
        "  stopping_rounds = 2,                 ## Early stopping based on convergence of stopping_metric.                                         ## Stop if simple moving average of length k\n",
        "                                       ## of the stopping_metric does not improve for\n",
        "                                       ## k:=stopping_rounds scoring events (0 to disable)\n",
        "                                       ## Defaults to 0.\n",
        "  stopping_metric = \"RMSE\",            ## Metric to use for early stopping\n",
        "  remove_collinear_columns = TRUE,     ## Logical. In case of linearly dependent columns,\n",
        "                                       ## remove some of the dependent columns Defaults to FALSE.\n",
        "   standardize = TRUE,                 ## Logical. Standardize numeric columns to have zero mean                                          ## and unit variance\n",
        "                                       ## Defaults to TRUE.\n",
        "  seed = 212)                          ## Set the random seed so that this can be\n",
        "                                       ## reproduced."
      ],
      "metadata": {
        "id": "V-jj_AWD73rk"
      },
      "execution_count": 47,
      "outputs": []
    },
    {
      "cell_type": "markdown",
      "source": [
        "### Coefficients table"
      ],
      "metadata": {
        "id": "08A4wZxy8GVR"
      }
    },
    {
      "cell_type": "code",
      "source": [
        "%%R\n",
        "glm_h2o@model$coefficients_table"
      ],
      "metadata": {
        "colab": {
          "base_uri": "https://localhost:8080/"
        },
        "id": "t9lFN-iQ8Ge0",
        "outputId": "f2165aff-ddc7-47f1-ebc1-7700b972c786"
      },
      "execution_count": 48,
      "outputs": [
        {
          "output_type": "stream",
          "name": "stdout",
          "text": [
            "Coefficients: glm coefficients\n",
            "                       names coefficients std_error   z_value  p_value\n",
            "1                  Intercept    -0.365883  1.765136 -0.207283 0.835827\n",
            "2    FRG.Fire Regime Group I     0.534452  1.447050  0.369339 0.711946\n",
            "3   FRG.Fire Regime Group II     1.759501  1.340118  1.312944 0.189473\n",
            "4  FRG.Fire Regime Group III     0.362598  1.349955  0.268600 0.788287\n",
            "5   FRG.Fire Regime Group IV     0.467249  1.350144  0.346073 0.729353\n",
            "6    FRG.Fire Regime Group V     0.673536  1.453193  0.463487 0.643106\n",
            "7      FRG.Indeterminate FRG     0.000000        NA        NA       NA\n",
            "8                NLCD.Forest     0.733379  0.506133  1.448984 0.147624\n",
            "9            NLCD.Herbaceous    -0.710060  0.401525 -1.768410 0.077267\n",
            "10   NLCD.Planted/Cultivated    -1.562316  0.546477 -2.858888 0.004331\n",
            "11            NLCD.Shrubland     0.000000        NA        NA       NA\n",
            "12                       DEM    -0.000081  0.000447 -0.180596 0.856718\n",
            "13                     Slope     0.115020  0.038255  3.006650 0.002701\n",
            "14                       TPI     0.021961  0.030608  0.717486 0.473225\n",
            "15                       MAT    -0.219361  0.054107 -4.054240 0.000054\n",
            "16                       MAP     0.005763  0.001260  4.573012 0.000005\n",
            "17                      NDVI    10.884941  1.562274  6.967369 0.000000\n",
            "   standardized_coefficients\n",
            "1                   5.256297\n",
            "2                   0.534452\n",
            "3                   1.759501\n",
            "4                   0.362598\n",
            "5                   0.467249\n",
            "6                   0.673536\n",
            "7                   0.000000\n",
            "8                   0.733379\n",
            "9                  -0.710060\n",
            "10                 -1.562316\n",
            "11                  0.000000\n",
            "12                 -0.053244\n",
            "13                  0.593587\n",
            "14                  0.088585\n",
            "15                 -0.900295\n",
            "16                  0.849533\n",
            "17                  1.561699\n"
          ]
        }
      ]
    },
    {
      "cell_type": "markdown",
      "source": [
        "### Retrieve a graphical plot of the standardized coefficient magnitudes"
      ],
      "metadata": {
        "id": "OhSAh21y8QQ-"
      }
    },
    {
      "cell_type": "code",
      "source": [
        "%%R\n",
        "h2o.std_coef_plot(glm_h2o)"
      ],
      "metadata": {
        "colab": {
          "base_uri": "https://localhost:8080/",
          "height": 497
        },
        "id": "Z_TwkyEh8QZY",
        "outputId": "0fd87a82-e1b5-47e9-b294-550c049fb02e"
      },
      "execution_count": 58,
      "outputs": [
        {
          "output_type": "display_data",
          "data": {
            "image/png": "[encoded data removed]"
          },
          "metadata": {}
        }
      ]
    },
    {
      "cell_type": "markdown",
      "source": [
        "### Model Performance"
      ],
      "metadata": {
        "id": "ii7pgDHi8cIN"
      }
    },
    {
      "cell_type": "code",
      "source": [
        "%%R\n",
        "# training\n",
        "h2o.performance(glm_h2o, h_train)"
      ],
      "metadata": {
        "colab": {
          "base_uri": "https://localhost:8080/"
        },
        "id": "jdodZIWx8cQ-",
        "outputId": "d4e5f0ea-2102-4263-f5a5-481d1181d4e4"
      },
      "execution_count": 50,
      "outputs": [
        {
          "output_type": "stream",
          "name": "stdout",
          "text": [
            "H2ORegressionMetrics: glm\n",
            "\n",
            "MSE:  14.58171\n",
            "RMSE:  3.8186\n",
            "MAE:  2.722561\n",
            "RMSLE:  0.536385\n",
            "Mean Residual Deviance :  14.58171\n",
            "R^2 :  0.4007246\n",
            "Null Deviance :6862.507\n",
            "Null D.o.F. :281\n",
            "Residual Deviance :4112.042\n",
            "Residual D.o.F. :267\n",
            "AIC :1587.976\n",
            "\n"
          ]
        }
      ]
    },
    {
      "cell_type": "code",
      "source": [
        "%%R\n",
        "# CV-performance\n",
        "h2o.performance(glm_h2o, xval=TRUE)"
      ],
      "metadata": {
        "colab": {
          "base_uri": "https://localhost:8080/"
        },
        "id": "2UFDlco34Ykk",
        "outputId": "3fa71dc6-aaeb-47f5-b3c1-5568343c0213"
      },
      "execution_count": 51,
      "outputs": [
        {
          "output_type": "stream",
          "name": "stdout",
          "text": [
            "H2ORegressionMetrics: glm\n",
            "** Reported on cross-validation data. **\n",
            "** 10-fold cross-validation on training data (Metrics computed for combined holdout predictions) **\n",
            "\n",
            "MSE:  15.38733\n",
            "RMSE:  3.922669\n",
            "MAE:  2.796341\n",
            "RMSLE:  0.536507\n",
            "Mean Residual Deviance :  15.38733\n",
            "R^2 :  0.3959658\n",
            "Null Deviance :28740.84\n",
            "Null D.o.F. :1125\n",
            "Residual Deviance :17326.14\n",
            "Residual D.o.F. :1111\n",
            "AIC :6305.421\n",
            "\n"
          ]
        }
      ]
    },
    {
      "cell_type": "code",
      "source": [
        "%%R\n",
        "# test performance\n",
        "h2o.performance(glm_h2o, h_test)"
      ],
      "metadata": {
        "colab": {
          "base_uri": "https://localhost:8080/"
        },
        "id": "vuXnrEuT4YuD",
        "outputId": "15b5521b-166f-48a9-8d9c-2b70ce9dc4d0"
      },
      "execution_count": 52,
      "outputs": [
        {
          "output_type": "stream",
          "name": "stdout",
          "text": [
            "H2ORegressionMetrics: glm\n",
            "\n",
            "MSE:  14.58171\n",
            "RMSE:  3.8186\n",
            "MAE:  2.722561\n",
            "RMSLE:  0.536385\n",
            "Mean Residual Deviance :  14.58171\n",
            "R^2 :  0.4007246\n",
            "Null Deviance :6862.507\n",
            "Null D.o.F. :281\n",
            "Residual Deviance :4112.042\n",
            "Residual D.o.F. :267\n",
            "AIC :1587.976\n",
            "\n"
          ]
        }
      ]
    },
    {
      "cell_type": "markdown",
      "source": [
        "### Prediction"
      ],
      "metadata": {
        "id": "qA7RmH8J8hLx"
      }
    },
    {
      "cell_type": "code",
      "source": [
        "%%R\n",
        "pred.glm <- as.data.frame(h2o.predict(object = glm_h2o, newdata = h_test))\n",
        "test_data<-as.data.frame(h_test)\n",
        "test_data$GLM_SOC<-pred.glm$predict"
      ],
      "metadata": {
        "id": "mneYlJpF8hXe"
      },
      "execution_count": 53,
      "outputs": []
    },
    {
      "cell_type": "code",
      "source": [
        "ggplot(test_data, aes(SOC,GLM_SOC)) +\n",
        "  geom_point() +\n",
        "  geom_smooth(method = \"lm\")+\n",
        "  #stat_poly_eq(use_label(c(\"eq\", \"adj.R2\")), formula = formula) +\n",
        "  ggtitle(\"H2O: Observed vs Predicted SOC \") +\n",
        "  xlab(\"Observed\") + ylab(\"Predicted\") +\n",
        "  scale_x_continuous(limits=c(0,25), breaks=seq(0, 25, 5))+\n",
        "  scale_y_continuous(limits=c(0,25), breaks=seq(0, 25, 5)) +\n",
        "  # Flip the bars\n",
        "  theme(\n",
        "    panel.background = element_rect(fill = \"grey95\",colour = \"gray75\",size = 0.5, linetype = \"solid\"),\n",
        "    axis.line = element_line(colour = \"grey\"),\n",
        "    plot.title = element_text(size = 14, hjust = 0.5),\n",
        "    axis.title.x = element_text(size = 14),\n",
        "    axis.title.y = element_text(size = 14),\n",
        "    axis.text.x=element_text(size=13, colour=\"black\"),\n",
        "    axis.text.y=element_text(size=13,angle = 90,vjust = 0.5, hjust=0.5, colour='black'))"
      ],
      "metadata": {
        "colab": {
          "base_uri": "https://localhost:8080/",
          "height": 576
        },
        "id": "HM5feaxc848a",
        "outputId": "a0d0ac5c-d953-420a-8174-3ae33e158bd3"
      },
      "execution_count": null,
      "outputs": [
        {
          "output_type": "stream",
          "name": "stderr",
          "text": [
            "Warning message:\n",
            "“\u001b[1m\u001b[22mThe `size` argument of `element_rect()` is deprecated as of ggplot2 3.4.0.\n",
            "\u001b[36mℹ\u001b[39m Please use the `linewidth` argument instead.”\n",
            "\u001b[1m\u001b[22m`geom_smooth()` using formula = 'y ~ x'\n",
            "Warning message:\n",
            "“\u001b[1m\u001b[22mRemoved 1 rows containing non-finite values (`stat_smooth()`).”\n",
            "Warning message:\n",
            "“\u001b[1m\u001b[22mRemoved 1 rows containing missing values (`geom_point()`).”\n"
          ]
        },
        {
          "output_type": "display_data",
          "data": {
            "text/plain": [
              "plot without title"
            ],
            "image/png": "[encoded data removed]"
          },
          "metadata": {
            "image/png": {
              "width": 420,
              "height": 420
            }
          }
        }
      ]
    }
  ]
}