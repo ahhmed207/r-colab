{
  "nbformat": 4,
  "nbformat_minor": 0,
  "metadata": {
    "colab": {
      "provenance": [],
      "authorship_tag": "ABX9TyPpRSWxWKf18/Hf84f5Xj7W",
      "include_colab_link": true
    },
    "kernelspec": {
      "name": "python3",
      "display_name": "Python 3"
    },
    "language_info": {
      "name": "python"
    }
  },
  "cells": [
    {
      "cell_type": "markdown",
      "metadata": {
        "id": "view-in-github",
        "colab_type": "text"
      },
      "source": [
        "<a href=\"https://colab.research.google.com/github/zia207/r-colab/blob/main/map_projection_coordinate_ref.ipynb\" target=\"_parent\"><img src=\"https://colab.research.google.com/assets/colab-badge.svg\" alt=\"Open In Colab\"/></a>"
      ]
    },
    {
      "cell_type": "markdown",
      "source": [
        "# Map Projection and Coordinate Reference Systems\n",
        "\n",
        "Zia Ahmed\n",
        "\n",
        "## Map Projection\n",
        "\n",
        "Map projection is a method used to represent the three-dimensional\n",
        "surface of the Earth on a two-dimensional map. Since the Earth is a\n",
        "spherical object, it is challenging to depict its curved surface\n",
        "accurately on a flat surface. This problem arises because representing\n",
        "the entire curved surface of the Earth on a flat map results in\n",
        "distortions in shape, size, distance, or direction.\n",
        "\n",
        "Various map projections are available, each designed to address\n",
        "different needs and minimize certain types of distortion. Here are some\n",
        "common types of map projections:\n",
        "\n",
        "**Mercator Projection**: Developed by Gerardus Mercator in the 16th century,\n",
        "this projection preserves straight lines, making it useful for marine\n",
        "navigation. However, it distorts the sizes of landmasses, with areas\n",
        "near the poles appearing significantly more significant than they are.\n",
        "\n",
        "**Robinson Projection**: This compromise projection attempts to balance\n",
        "distortions in size, shape, and distance across the entire map. It's\n",
        "commonly used for world maps.\n",
        "\n",
        "**Conic Projection**: This projection involves projecting the Earth's\n",
        "surface onto a cone and then unrolling the cone to form a flat map. It\n",
        "preserves shapes and distances well within the area of the cone but can\n",
        "have significant distortions as one moves away from that central area.\n",
        "\n",
        "**Cylindrical Projection**: This projection wraps the Earth's surface around\n",
        "a cylinder. Examples include the Mercator projection mentioned earlier\n",
        "and the Miller projection, which preserves relative size but distorts\n",
        "shapes.\n",
        "\n",
        "**Azimuthal Projection**: These projections project the Earth's surface onto\n",
        "a plane from a specific point on the Earth's surface. They preserve\n",
        "directionality but can have considerable distortions in other aspects.\n",
        "\n",
        "**Goode's Homolosine Projection**: This projection combines the sinusoidal\n",
        "and Mollweide projection to reduce size distortion in landmasses,\n",
        "although it sacrifices shape accuracy.\n",
        "\n",
        "The choice of map projection depends on the intended use of the map, the\n",
        "area being represented, and the extent to which certain distortions are\n",
        "acceptable. No single projection can perfectly represent the entire\n",
        "Earth without any distortions, and mapmakers must make trade-offs based\n",
        "on their specific needs.\n",
        "\n",
        "It's important to understand that map projections are just one aspect of\n",
        "cartography, and producing accurate and useful maps often involves other\n",
        "techniques, such as generalization, symbolization, and labeling.\n",
        "\n",
        "\n"
      ],
      "metadata": {
        "id": "u20jPHPtNNZ9"
      }
    },
    {
      "cell_type": "code",
      "source": [],
      "metadata": {
        "id": "q0KhwuSRQUJ1"
      },
      "execution_count": null,
      "outputs": []
    },
    {
      "cell_type": "markdown",
      "source": [
        "## Coordinate Reference Systems\n",
        "\n",
        "Coordinate Reference Systems (CRS) are used in cartography, geography,\n",
        "and GIS (Geographic Information Systems) to define the positions of\n",
        "points, lines, and areas on the Earth's surface. A CRS provides a\n",
        "framework for translating geographic locations, which are expressed as\n",
        "latitude and longitude or other coordinate values, into a specific\n",
        "location on a map or a two-dimensional plane.\n",
        "\n",
        "There are two main types of Coordinate Reference Systems:\n",
        "\n",
        "1.  Geographic Coordinate Systems (GCS): Geographic Coordinate Systems\n",
        "    use latitude and longitude to define locations on the Earth's\n",
        "    surface. Latitude measures the north-south position, while longitude\n",
        "    measures the east-west position. The coordinates are expressed in\n",
        "    degrees, minutes, and seconds or decimal degrees. Common GCS\n",
        "    examples include WGS 84 (World Geodetic System 1984) and NAD83\n",
        "    (North American Datum 1983).\n",
        "\n",
        "2.  Projected Coordinate Systems (PCS): Projected Coordinate Systems use\n",
        "    Cartesian coordinates (X, Y) to represent locations on a flat,\n",
        "    two-dimensional map. The projection converts the three-dimensional\n",
        "    geographic coordinates (latitude, longitude, and often elevation)\n",
        "    into these two-dimensional coordinates. Different map projections,\n",
        "    such as Mercator, Robinson, or UTM (Universal Transverse Mercator),\n",
        "    create projected coordinate systems.\n",
        "\n",
        "\n",
        "  \n",
        "\n",
        "CRS also involves datum, which defines the reference frame for the\n",
        "coordinate system. A datum consists of an origin point, orientation, and\n",
        "scale that serves as a starting point for the coordinates. Common datums\n",
        "include WGS 84, NAD27 (North American Datum 1927), and ED50 (European\n",
        "Datum 1950).\n",
        "\n",
        "To maintain accuracy in GIS and cartographic applications, it's\n",
        "essential to use the appropriate coordinate reference system and datum\n",
        "for the specific region or project. Choosing the wrong CRS can lead to\n",
        "distortions and inaccuracies when transforming between geographic\n",
        "locations and map coordinates.\n",
        "\n",
        "CRS is a fundamental aspect of spatial data management, as they allow\n",
        "for the integration of different data sources, analysis, and\n",
        "visualization of geographic information consistently and meaningfully.\n",
        "Understanding CRS is crucial for cartographers, GIS analysts, and anyone\n",
        "working with geographic data to ensure accurate spatial representation\n",
        "and analysis.\n",
        "\n"
      ],
      "metadata": {
        "id": "EQ_cTtbQQYVT"
      }
    },
    {
      "cell_type": "markdown",
      "source": [
        "\n",
        "## The World Geodetic system 84\n",
        "\n",
        "The World Geodetic System 1984 (WGS 84) is a global geodetic reference system developed and maintained by the United States Department of Defense (DoD). It is widely used as the standard coordinate reference system for the Earth's surface in various applications, including mapping, navigation, surveying, and GPS (Global Positioning System).\n",
        "\n",
        "WGS 84 is an Earth-centered, Earth-fixed coordinate system known as a geocentric coordinate system. It defines a three-dimensional model of the Earth, where the center of the Earth serves as the origin, and the X, Y, and Z axes are oriented with respect to the Earth's rotation and equator.\n",
        "\n",
        "The key features of WGS 84 include:\n",
        "\n",
        "1.  Ellipsoid: WGS 84 uses the WGS 84 ellipsoid, a mathematically defined surface approximating the shape of the Earth. It is an oblate spheroid, slightly flattened at the poles and bulging at the equator.\n",
        "\n",
        "2.  Datum: WGS 84 defines a specific datum, which includes the ellipsoid's size, shape, and orientation in relation to the Earth's center. The datum is a reference frame for measuring positions on the Earth's surface.\n",
        "\n",
        "3.  Coordinate Units: WGS 84 uses degrees of latitude and longitude to express geographic positions. Latitude measures the north-south position, and longitude measures the east-west position.\n",
        "\n",
        "4.  GPS Reference Frame: WGS 84 is the coordinate system used by the Global Positioning System (GPS). GPS receivers use WGS 84 to accurately determine the user's position on the Earth's surface.\n",
        "\n",
        "5.  Constantly Updated: The WGS 84 reference frame is continuously refined and updated to account for crustal movements, which can affect the Earth's shape and position. As such, newer versions of WGS 84 have been released, with slight adjustments to improve accuracy.\n",
        "\n",
        "The adoption of WGS 84 as a global standard has been instrumental in enabling accurate navigation, mapping, and geospatial data exchange across the world. It ensures consistency and interoperability among different mapping and navigation systems, making it possible to integrate data from various sources into a coherent spatial framework."
      ],
      "metadata": {
        "id": "2OjWLLiMZzxF"
      }
    },
    {
      "cell_type": "markdown",
      "source": [
        "### Install rpy2"
      ],
      "metadata": {
        "id": "ocKuW0KaQpHS"
      }
    },
    {
      "cell_type": "code",
      "execution_count": 1,
      "metadata": {
        "colab": {
          "base_uri": "https://localhost:8080/"
        },
        "id": "Fqyh1LTENEDl",
        "outputId": "5923ba59-0a07-43a1-ad80-904636a8daf9"
      },
      "outputs": [
        {
          "output_type": "stream",
          "name": "stdout",
          "text": [
            "Found existing installation: rpy2 3.5.1\n",
            "Uninstalling rpy2-3.5.1:\n",
            "  Successfully uninstalled rpy2-3.5.1\n",
            "Collecting rpy2==3.5.1\n",
            "  Using cached rpy2-3.5.1-cp310-cp310-linux_x86_64.whl\n",
            "Requirement already satisfied: cffi>=1.10.0 in /usr/local/lib/python3.10/dist-packages (from rpy2==3.5.1) (1.15.1)\n",
            "Requirement already satisfied: jinja2 in /usr/local/lib/python3.10/dist-packages (from rpy2==3.5.1) (3.1.2)\n",
            "Requirement already satisfied: pytz in /usr/local/lib/python3.10/dist-packages (from rpy2==3.5.1) (2022.7.1)\n",
            "Requirement already satisfied: tzlocal in /usr/local/lib/python3.10/dist-packages (from rpy2==3.5.1) (5.0.1)\n",
            "Requirement already satisfied: pycparser in /usr/local/lib/python3.10/dist-packages (from cffi>=1.10.0->rpy2==3.5.1) (2.21)\n",
            "Requirement already satisfied: MarkupSafe>=2.0 in /usr/local/lib/python3.10/dist-packages (from jinja2->rpy2==3.5.1) (2.1.3)\n",
            "Installing collected packages: rpy2\n",
            "Successfully installed rpy2-3.5.1\n"
          ]
        }
      ],
      "source": [
        "!pip uninstall rpy2 -y\n",
        "!pip install rpy2==3.5.1\n",
        "%load_ext rpy2.ipython"
      ]
    },
    {
      "cell_type": "markdown",
      "source": [
        "### Mount Google Drive"
      ],
      "metadata": {
        "id": "CJxlXzzfNpnM"
      }
    },
    {
      "cell_type": "code",
      "source": [
        "from google.colab import drive\n",
        "drive.mount('/content/drive')"
      ],
      "metadata": {
        "colab": {
          "base_uri": "https://localhost:8080/"
        },
        "id": "gBCeVXnfaCwl",
        "outputId": "ce0852ff-7311-4f8a-87ac-a4f49a9d437b"
      },
      "execution_count": 2,
      "outputs": [
        {
          "output_type": "stream",
          "name": "stdout",
          "text": [
            "Drive already mounted at /content/drive; to attempt to forcibly remount, call drive.mount(\"/content/drive\", force_remount=True).\n"
          ]
        }
      ]
    },
    {
      "cell_type": "markdown",
      "source": [
        "### Install Packages"
      ],
      "metadata": {
        "id": "T7ZrGz_maZK3"
      }
    },
    {
      "cell_type": "code",
      "source": [
        "%%R\n",
        "install.packages(c('rgdal','maptools', 'raster', 'sf ), lib='drive/My Drive/R/')"
      ],
      "metadata": {
        "id": "s8J7TePkaeuA"
      },
      "execution_count": null,
      "outputs": []
    },
    {
      "cell_type": "markdown",
      "source": [
        "### Load library"
      ],
      "metadata": {
        "id": "_N2NMPr1bHfM"
      }
    },
    {
      "cell_type": "code",
      "source": [
        "%%R\n",
        ".libPaths('drive/My Drive/R')\n",
        "library(raster)\n",
        "library (rgdal)\n",
        "library(sf)\n",
        "library(maptools)"
      ],
      "metadata": {
        "id": "hxrZ7jafbHm8"
      },
      "execution_count": null,
      "outputs": []
    },
    {
      "cell_type": "markdown",
      "source": [
        "## Vector Data\n",
        "\n",
        "We will use raj_district_GCS shape files to check, define projection. First,   we will  **st_read()** from sf package to load shape file from github using \"vsicurl\". Or you can  use read from  your gool drive using **shapefile()**"
      ],
      "metadata": {
        "id": "KVWUg1FCfpRF"
      }
    },
    {
      "cell_type": "code",
      "source": [
        "%%R\n",
        "# reading shape file with raster or rgdal package from google drive\n",
        "#dist.GCS<-rgdal::readOGR(\"/content/drive/MyDrive/Data/Bangladesh/Shapefiles/raj_district_GCS.shp\")\n",
        "dist.GCS<-raster::shapefile('/content/drive/MyDrive/Data/Bangladesh/Shapefiles/raj_district_GCS.shp')\n",
        "# Reading shape file  sf package from github\n",
        "dist.GCS.st = sf::st_read(\"/vsicurl/https://github.com//zia207/r-colab/raw/main/Data/Bangladesh//Shapefiles/raj_district_GCS.shp\")"
      ],
      "metadata": {
        "id": "9u8n7YRPfpzU"
      },
      "execution_count": 4,
      "outputs": []
    },
    {
      "cell_type": "markdown",
      "source": [
        "### Check Projection\n",
        "\n",
        "We can check current CRS of dist.CGS objects using proj4string() or st_crs() of sf pcakages function:"
      ],
      "metadata": {
        "id": "agSxsuhWlnUA"
      }
    },
    {
      "cell_type": "code",
      "source": [
        "%%R\n",
        "print(proj4string(dist.GCS))"
      ],
      "metadata": {
        "colab": {
          "base_uri": "https://localhost:8080/"
        },
        "id": "WeHlyoa_kNJd",
        "outputId": "77cdc711-a371-4769-845e-98c9837dc74a"
      },
      "execution_count": 6,
      "outputs": [
        {
          "output_type": "stream",
          "name": "stdout",
          "text": [
            "[1] NA\n"
          ]
        }
      ]
    },
    {
      "cell_type": "code",
      "source": [
        "%%R\n",
        "st_crs(dist.GCS)"
      ],
      "metadata": {
        "colab": {
          "base_uri": "https://localhost:8080/"
        },
        "id": "k57HYpd8mRQN",
        "outputId": "9f6f3e43-5b93-412e-d48a-e17766d4632c"
      },
      "execution_count": 8,
      "outputs": [
        {
          "output_type": "stream",
          "name": "stdout",
          "text": [
            "Coordinate Reference System: NA\n"
          ]
        }
      ]
    },
    {
      "cell_type": "markdown",
      "source": [
        "You notice that **.prj** file is not associated with this shape file."
      ],
      "metadata": {
        "id": "7jsi6ZtTmKLe"
      }
    },
    {
      "cell_type": "markdown",
      "source": [
        "We know that raj_district_GCS.shp  file is in geographic coordinate system. We can check it coordinates system with **summary()** function."
      ],
      "metadata": {
        "id": "hKG9w-uUm55u"
      }
    },
    {
      "cell_type": "code",
      "source": [
        "%%R\n",
        "summary(dist.GCS)"
      ],
      "metadata": {
        "colab": {
          "base_uri": "https://localhost:8080/"
        },
        "id": "YE3E3haNm73t",
        "outputId": "c627f128-d5e0-4cf9-c859-fd52c10b52d9"
      },
      "execution_count": 9,
      "outputs": [
        {
          "output_type": "stream",
          "name": "stdout",
          "text": [
            "Object of class SpatialPolygonsDataFrame\n",
            "Coordinates:\n",
            "       min      max\n",
            "x 88.00863 89.82498\n",
            "y 23.80807 25.27759\n",
            "Is projected: NA \n",
            "proj4string : [NA]\n",
            "Data attributes:\n",
            "   Shape_Leng      Shape_Area        ADM2_EN           ADM2_PCODE       \n",
            " Min.   :2.215   Min.   :0.08593   Length:8           Length:8          \n",
            " 1st Qu.:3.267   1st Qu.:0.16470   Class :character   Class :character  \n",
            " Median :3.479   Median :0.21462   Mode  :character   Mode  :character  \n",
            " Mean   :3.571   Mean   :0.20311                                        \n",
            " 3rd Qu.:3.769   3rd Qu.:0.23152                                        \n",
            " Max.   :5.098   Max.   :0.30773                                        \n",
            "   ADM2_REF          ADM2ALT1EN         ADM2ALT2EN          ADM1_EN         \n",
            " Length:8           Length:8           Length:8           Length:8          \n",
            " Class :character   Class :character   Class :character   Class :character  \n",
            " Mode  :character   Mode  :character   Mode  :character   Mode  :character  \n",
            "                                                                            \n",
            "                                                                            \n",
            "                                                                            \n",
            "  ADM1_PCODE          ADM0_EN           ADM0_PCODE            date          \n",
            " Length:8           Length:8           Length:8           Length:8          \n",
            " Class :character   Class :character   Class :character   Class :character  \n",
            " Mode  :character   Mode  :character   Mode  :character   Mode  :character  \n",
            "                                                                            \n",
            "                                                                            \n",
            "                                                                            \n",
            "   validOn            ValidTo         \n",
            " Length:8           Length:8          \n",
            " Class :character   Class :character  \n",
            " Mode  :character   Mode  :character  \n",
            "                                      \n",
            "                                      \n",
            "                                      \n"
          ]
        }
      ]
    },
    {
      "cell_type": "markdown",
      "source": [
        "### Define CRS\n",
        "\n",
        "You notice that county shape file read as **SpatialPolygonsDataFrame** in R, and it's x-coordinate is from  88.00863 to 89.82498 and y-cordinate  23.80807 to  25.27759 and CRS has not been be defined yet (**Is projected: NA and proj4string : \\[NA\\]**) and **.PRJ** file is missing. So you need to define its current CRS (**WGS 1984 or EPSG:4326**) before you do any further analyses like re-projection etc.\n",
        "\n",
        "We use either of following function to define it's CRS."
      ],
      "metadata": {
        "id": "Worwj7Z6nnFd"
      }
    },
    {
      "cell_type": "code",
      "source": [
        "%%R\n",
        "proj4string(dist.GCS) = CRS(\"+proj=longlat +ellps=WGS84\")\n",
        "# or\n",
        "#proj4string(dist.GCS) <- CRS(\"+init=epsg:4326\")\n"
      ],
      "metadata": {
        "id": "sRR5N9icoa8p"
      },
      "execution_count": 11,
      "outputs": []
    },
    {
      "cell_type": "code",
      "source": [],
      "metadata": {
        "id": "qjmUGFKaw85T"
      },
      "execution_count": null,
      "outputs": []
    },
    {
      "cell_type": "markdown",
      "source": [
        "A new CRS, **WGS 1984** has been assigned to the shape file. You can check it again with **st_crs()** functions.\n",
        "\n"
      ],
      "metadata": {
        "id": "NFpqk1Jeol3z"
      }
    },
    {
      "cell_type": "code",
      "source": [
        "%%R\n",
        "st_crs(dist.GCS)"
      ],
      "metadata": {
        "colab": {
          "base_uri": "https://localhost:8080/"
        },
        "id": "9yyqU_IOok-g",
        "outputId": "37bbd49a-bc3b-4544-f52d-44f232e4f35e"
      },
      "execution_count": 14,
      "outputs": [
        {
          "output_type": "stream",
          "name": "stdout",
          "text": [
            "Coordinate Reference System:\n",
            "  User input: +proj=longlat +ellps=WGS84 +no_defs \n",
            "  wkt:\n",
            "GEOGCRS[\"unknown\",\n",
            "    DATUM[\"Unknown based on WGS84 ellipsoid\",\n",
            "        ELLIPSOID[\"WGS 84\",6378137,298.257223563,\n",
            "            LENGTHUNIT[\"metre\",1],\n",
            "            ID[\"EPSG\",7030]]],\n",
            "    PRIMEM[\"Greenwich\",0,\n",
            "        ANGLEUNIT[\"degree\",0.0174532925199433],\n",
            "        ID[\"EPSG\",8901]],\n",
            "    CS[ellipsoidal,2],\n",
            "        AXIS[\"longitude\",east,\n",
            "            ORDER[1],\n",
            "            ANGLEUNIT[\"degree\",0.0174532925199433,\n",
            "                ID[\"EPSG\",9122]]],\n",
            "        AXIS[\"latitude\",north,\n",
            "            ORDER[2],\n",
            "            ANGLEUNIT[\"degree\",0.0174532925199433,\n",
            "                ID[\"EPSG\",9122]]]]\n"
          ]
        }
      ]
    },
    {
      "cell_type": "markdown",
      "source": [
        "However, you need to save the file to make it permanent. You can use either,  will use **writeOGR()** function of **rgdal** package or **shapefile()** function of raster package or **st_write()**  function  of sf  to save it. It is a good practice to write a file with it's current CRS. After running this function, you can see a file named **raj_district_GCS.prj** has created in your working directory."
      ],
      "metadata": {
        "id": "-bhX42oLrPsr"
      }
    },
    {
      "cell_type": "code",
      "source": [
        "%%R\n",
        "shapefile(\"/content/drive/MyDrive/Data/Bangladesh/Shapefiles/raj_district_GCS.shp\", overwrite=TRUE)"
      ],
      "metadata": {
        "colab": {
          "base_uri": "https://localhost:8080/"
        },
        "id": "fEaLlt7drUI5",
        "outputId": "09f1d5bd-4282-4de5-e2b2-b1deb347d7df"
      },
      "execution_count": 18,
      "outputs": [
        {
          "output_type": "stream",
          "name": "stdout",
          "text": [
            "class       : SpatialPolygonsDataFrame \n",
            "features    : 8 \n",
            "extent      : 88.00863, 89.82498, 23.80807, 25.27759  (xmin, xmax, ymin, ymax)\n",
            "crs         : +proj=longlat +ellps=WGS84 +no_defs \n",
            "variables   : 14\n",
            "names       :    Shape_Leng,      Shape_Area,   ADM2_EN, ADM2_PCODE, ADM2_REF, ADM2ALT1EN, ADM2ALT2EN,  ADM1_EN, ADM1_PCODE,    ADM0_EN, ADM0_PCODE,       date,    validOn, ValidTo \n",
            "min values  : 2.21495685732, 0.0859341926695,     Bogra,     BD5010,       NA,         NA,         NA, Rajshahi,       BD50, Bangladesh,         BD, 2015/01/01, 2020/11/13,      NA \n",
            "max values  : 5.09805191946,  0.307727590076, Sirajganj,     BD5088,       NA,         NA,         NA, Rajshahi,       BD50, Bangladesh,         BD, 2015/01/01, 2020/11/13,      NA \n"
          ]
        }
      ]
    },
    {
      "cell_type": "markdown",
      "source": [
        "### Reprojection\n",
        "\n",
        "The **spTransform** function provide transformation between datum(s) and conversion between projections (also known as projection and/or re-projection) from one specified coordinate reference system to another. For simple projection, when no **+datum** tags are used, datum projection does not occur. When datum transformation is required, the **+datum** tag should be present with a valid value both in the CRS of the object to be transformed, and in the target CRS. In general **+datum=** is to be preferred to **+ellps=**, because the datum always fixes the ellipsoid, but the ellipsoid never fixes the datum.\n",
        "\n",
        "We will transform the shape file to Bangladesh Transverse Mercator [(EPSG:9677)](https://epsg.io/9677)\n",
        "\n",
        "Projection parameter of Bangladesh Transverse Mercator\n",
        "\n",
        "> \"proj=tmerc +lat_0=0 +lon_0=90 +k=0.9996 +x_0=500000 +y_0=-2000000\"\n"
      ],
      "metadata": {
        "id": "jIEUtUj9w9qt"
      }
    },
    {
      "cell_type": "code",
      "source": [
        "%%R\n",
        "btm = CRS(\"+proj=tmerc +lat_0=0 +lon_0=90 +k=0.9996 +x_0=500000 +y_0=-2000000\")\n",
        "# define new projection\n",
        "dist.PROJ<- spTransform(dist.GCS,   # Input data\n",
        "\t\t          btm)\n",
        "summary(dist.PROJ)"
      ],
      "metadata": {
        "colab": {
          "base_uri": "https://localhost:8080/"
        },
        "id": "RwSSbEOExiB3",
        "outputId": "6bf69646-df62-4621-e704-ed9e94a3d4c3"
      },
      "execution_count": 30,
      "outputs": [
        {
          "output_type": "stream",
          "name": "stdout",
          "text": [
            "Object of class SpatialPolygonsDataFrame\n",
            "Coordinates:\n",
            "       min      max\n",
            "x 298487.8 482210.3\n",
            "y 633043.0 796039.8\n",
            "Is projected: TRUE \n",
            "proj4string :\n",
            "[+proj=tmerc +lat_0=0 +lon_0=90 +k=0.9996 +x_0=500000 +y_0=-2000000\n",
            "+datum=WGS84 +units=m +no_defs]\n",
            "Data attributes:\n",
            "   Shape_Leng      Shape_Area        ADM2_EN           ADM2_PCODE       \n",
            " Min.   :2.215   Min.   :0.08593   Length:8           Length:8          \n",
            " 1st Qu.:3.267   1st Qu.:0.16470   Class :character   Class :character  \n",
            " Median :3.479   Median :0.21462   Mode  :character   Mode  :character  \n",
            " Mean   :3.571   Mean   :0.20311                                        \n",
            " 3rd Qu.:3.769   3rd Qu.:0.23152                                        \n",
            " Max.   :5.098   Max.   :0.30773                                        \n",
            "   ADM2_REF          ADM2ALT1EN         ADM2ALT2EN          ADM1_EN         \n",
            " Length:8           Length:8           Length:8           Length:8          \n",
            " Class :character   Class :character   Class :character   Class :character  \n",
            " Mode  :character   Mode  :character   Mode  :character   Mode  :character  \n",
            "                                                                            \n",
            "                                                                            \n",
            "                                                                            \n",
            "  ADM1_PCODE          ADM0_EN           ADM0_PCODE            date          \n",
            " Length:8           Length:8           Length:8           Length:8          \n",
            " Class :character   Class :character   Class :character   Class :character  \n",
            " Mode  :character   Mode  :character   Mode  :character   Mode  :character  \n",
            "                                                                            \n",
            "                                                                            \n",
            "                                                                            \n",
            "   validOn            ValidTo         \n",
            " Length:8           Length:8          \n",
            " Class :character   Class :character  \n",
            " Mode  :character   Mode  :character  \n",
            "                                      \n",
            "                                      \n",
            "                                      \n"
          ]
        }
      ]
    },
    {
      "cell_type": "markdown",
      "source": [
        "We notice that x and y -coordinates converted from degree-decimal to meter and **Is projected: TRUE**."
      ],
      "metadata": {
        "id": "dUM-4wnfyavA"
      }
    },
    {
      "cell_type": "markdown",
      "source": [
        "Or we can also use st_transform to st object to  re-project the shape"
      ],
      "metadata": {
        "id": "oWPuifT0yDUa"
      }
    },
    {
      "cell_type": "code",
      "source": [
        "%%R\n",
        "dist.GCS.st = sf::st_read('/content/drive/MyDrive/Data/Bangladesh/Shapefiles/raj_district_GCS.shp')\n",
        "st_transform(dist.GCS.st, crs=btm)"
      ],
      "metadata": {
        "colab": {
          "base_uri": "https://localhost:8080/"
        },
        "id": "9ERd1z_syDff",
        "outputId": "08483d5e-04b7-41b9-f639-359d9f1def6d"
      },
      "execution_count": 24,
      "outputs": [
        {
          "output_type": "stream",
          "name": "stdout",
          "text": [
            "Reading layer `raj_district_GCS' from data source \n",
            "  `/content/drive/MyDrive/Data/Bangladesh/Shapefiles/raj_district_GCS.shp' \n",
            "  using driver `ESRI Shapefile'\n",
            "Simple feature collection with 8 features and 14 fields\n",
            "Geometry type: POLYGON\n",
            "Dimension:     XY\n",
            "Bounding box:  xmin: 88.00863 ymin: 23.80807 xmax: 89.82498 ymax: 25.27759\n",
            "Geodetic CRS:  GCS_unknown\n",
            "Simple feature collection with 8 features and 14 fields\n",
            "Geometry type: POLYGON\n",
            "Dimension:     XY\n",
            "Bounding box:  xmin: 298487.8 ymin: 633043 xmax: 482210.3 ymax: 796039.8\n",
            "Projected CRS: PROJCRS[\"unknown\",\n",
            "    BASEGEOGCRS[\"unknown\",\n",
            "        DATUM[\"World Geodetic System 1984\",\n",
            "            ELLIPSOID[\"WGS 84\",6378137,298.257223563,\n",
            "                LENGTHUNIT[\"metre\",1]],\n",
            "            ID[\"EPSG\",6326]],\n",
            "        PRIMEM[\"Greenwich\",0,\n",
            "            ANGLEUNIT[\"degree\",0.0174532925199433],\n",
            "            ID[\"EPSG\",8901]]],\n",
            "    CONVERSION[\"unknown\",\n",
            "        METHOD[\"Transverse Mercator\",\n",
            "            ID[\"EPSG\",9807]],\n",
            "        PARAMETER[\"Latitude of natural origin\",0,\n",
            "            ANGLEUNIT[\"degree\",0.0174532925199433],\n",
            "            ID[\"EPSG\",8801]],\n",
            "        PARAMETER[\"Longitude of natural origin\",90,\n",
            "            ANGLEUNIT[\"degree\",0.0174532925199433],\n",
            "            ID[\"EPSG\",8802]],\n",
            "        PARAMETER[\"Scale factor at natural origin\",0.9996,\n",
            "            SCALEUNIT[\"unity\",1],\n",
            "            ID[\"EPSG\",8805]],\n",
            "        PARAMETER[\"False easting\",500000,\n",
            "            LENGTHUNIT[\"metre\",1],\n",
            "            ID[\"EPSG\",8806]],\n",
            "        PARAMETER[\"False northing\",-2000000,\n",
            "            LENGTHUNIT[\"metre\",1],\n",
            "            ID[\"EPSG\",8807]]],\n",
            "    CS[Cartesian,2],\n",
            "        AXIS[\"(E)\",east,\n",
            "            ORDER[1],\n",
            "            LENGTHUNIT[\"metre\",1,\n",
            "                ID[\"EPSG\",9001]]],\n",
            "        AXIS[\"(N)\",north,\n",
            "            ORDER[2],\n",
            "            LENGTHUNIT[\"metre\",1,\n",
            "                ID[\"EPSG\",9001]]]]\n",
            "  Shape_Leng Shape_Area   ADM2_EN ADM2_PCODE ADM2_REF ADM2ALT1EN ADM2ALT2EN\n",
            "1   4.289236 0.26009774     Bogra     BD5010     <NA>       <NA>       <NA>\n",
            "2   2.214957 0.08593419 Joypurhat     BD5038     <NA>       <NA>       <NA>\n",
            "3   5.098052 0.30772759   Naogaon     BD5064     <NA>       <NA>       <NA>\n",
            "4   3.458987 0.16947264    Natore     BD5069     <NA>       <NA>       <NA>\n",
            "5   3.329448 0.15038568 Nawabganj     BD5070     <NA>       <NA>       <NA>\n",
            "6   3.078707 0.21210274     Pabna     BD5076     <NA>       <NA>       <NA>\n",
            "7   3.499923 0.21714336  Rajshahi     BD5081     <NA>       <NA>       <NA>\n",
            "8   3.596003 0.22199195 Sirajganj     BD5088     <NA>       <NA>       <NA>\n",
            "   ADM1_EN ADM1_PCODE    ADM0_EN ADM0_PCODE       date    validOn ValidTo\n",
            "1 Rajshahi       BD50 Bangladesh         BD 2015/01/01 2020/11/13    <NA>\n",
            "2 Rajshahi       BD50 Bangladesh         BD 2015/01/01 2020/11/13    <NA>\n",
            "3 Rajshahi       BD50 Bangladesh         BD 2015/01/01 2020/11/13    <NA>\n",
            "4 Rajshahi       BD50 Bangladesh         BD 2015/01/01 2020/11/13    <NA>\n",
            "5 Rajshahi       BD50 Bangladesh         BD 2015/01/01 2020/11/13    <NA>\n",
            "6 Rajshahi       BD50 Bangladesh         BD 2015/01/01 2020/11/13    <NA>\n",
            "7 Rajshahi       BD50 Bangladesh         BD 2015/01/01 2020/11/13    <NA>\n",
            "8 Rajshahi       BD50 Bangladesh         BD 2015/01/01 2020/11/13    <NA>\n",
            "                        geometry\n",
            "1 POLYGON ((471223 740323.9, ...\n",
            "2 POLYGON ((427404.6 774844.5...\n",
            "3 POLYGON ((391463.9 783652.8...\n",
            "4 POLYGON ((433065.3 716329.8...\n",
            "5 POLYGON ((348844.6 734617.2...\n",
            "6 POLYGON ((471684 655751.9, ...\n",
            "7 POLYGON ((348844.6 734617.2...\n",
            "8 POLYGON ((471223 740323.9, ...\n"
          ]
        }
      ]
    },
    {
      "cell_type": "markdown",
      "source": [
        "ow plot WWGS 1984 and BTM projected map site by site."
      ],
      "metadata": {
        "id": "g59IfqeQ0EU9"
      }
    },
    {
      "cell_type": "code",
      "source": [
        "%%R\n",
        "par(mfrow=c(1,2))\n",
        "plot(dist.GCS, main=\"WGS 1984\")\n",
        "plot(dist.PROJ, main=\"BTM\")\n",
        "par(mfrow=c(1,1))"
      ],
      "metadata": {
        "colab": {
          "base_uri": "https://localhost:8080/",
          "height": 497
        },
        "id": "QiaMqDYwya5L",
        "outputId": "55e0e9c1-bbe9-4a7b-de48-d0f82eb51407"
      },
      "execution_count": 27,
      "outputs": [
        {
          "output_type": "display_data",
          "data": {
            "image/png": "[encoded data removed]"
          },
          "metadata": {}
        }
      ]
    },
    {
      "cell_type": "markdown",
      "source": [
        "We can save (write) this file as an ESRI shape with **writeOGR()** or **shapefile()** or **st_write()** function for future use."
      ],
      "metadata": {
        "id": "B9CvX7K2zG74"
      }
    },
    {
      "cell_type": "code",
      "source": [
        "%%R\n",
        "shapefile(dist.PROJ, \"/content/drive/MyDrive/Data/Bangladesh/Shapefiles/raj_district_BUTM.shp\",overwrite=TRUE)"
      ],
      "metadata": {
        "id": "z3-I_d_nzHHC"
      },
      "execution_count": 29,
      "outputs": []
    },
    {
      "cell_type": "markdown",
      "source": [
        "## Raster Data\n",
        "\n",
        "In this exercise, we will use SRTM 90 digital Elevation Model New York State which was downloaded from [CGIAR-CSI](http://www.cgiar-csi.org/data/srtm-90m-digital-elevation-database-v4-1). We will re-project it from WSG84 coordinate to Albers Equal Area Conic NAD83 projection system. In R, you can re-project a single or multiple raster in a batch mode."
      ],
      "metadata": {
        "id": "wNPPB4LS2deo"
      }
    },
    {
      "cell_type": "markdown",
      "source": [
        "### Projection of a Single Raster\n",
        "\n",
        "First, we will re-project DEM raster data from WGS 1984 CRS to BUTM projection system. You can load DEM raster in R using **raster()** function of **raster** package. If you want to check raster attribute, just simple type r-object name of this raster or use **crs()** function."
      ],
      "metadata": {
        "id": "FUo_Agfm2sfh"
      }
    },
    {
      "cell_type": "code",
      "source": [
        "%%R\n",
        "DEM.GCS<-raster(\"/content/drive/MyDrive/Data/Bangladesh/Raster/raj_DEM_GCS.tif\")\n",
        "DEM.GCS\n",
        "# Or\n",
        "crs(DEM.GCS)"
      ],
      "metadata": {
        "colab": {
          "base_uri": "https://localhost:8080/"
        },
        "id": "p6c5zWh92zkx",
        "outputId": "7aede283-9d78-405d-bd37-1870e56af2f6"
      },
      "execution_count": 32,
      "outputs": [
        {
          "output_type": "stream",
          "name": "stdout",
          "text": [
            "Coordinate Reference System:\n",
            "Deprecated Proj.4 representation: +proj=longlat +datum=WGS84 +no_defs \n",
            "WKT2 2019 representation:\n",
            "GEOGCRS[\"unknown\",\n",
            "    DATUM[\"World Geodetic System 1984\",\n",
            "        ELLIPSOID[\"WGS 84\",6378137,298.257223563,\n",
            "            LENGTHUNIT[\"metre\",1]],\n",
            "        ID[\"EPSG\",6326]],\n",
            "    PRIMEM[\"Greenwich\",0,\n",
            "        ANGLEUNIT[\"degree\",0.0174532925199433],\n",
            "        ID[\"EPSG\",8901]],\n",
            "    CS[ellipsoidal,2],\n",
            "        AXIS[\"longitude\",east,\n",
            "            ORDER[1],\n",
            "            ANGLEUNIT[\"degree\",0.0174532925199433,\n",
            "                ID[\"EPSG\",9122]]],\n",
            "        AXIS[\"latitude\",north,\n",
            "            ORDER[2],\n",
            "            ANGLEUNIT[\"degree\",0.0174532925199433,\n",
            "                ID[\"EPSG\",9122]]]] \n"
          ]
        }
      ]
    },
    {
      "cell_type": "markdown",
      "source": [
        "You notice that CRS of this DEM has already been defined as **WGS 84**. Now, we will project from **WGS 84** to **BTM**. We will use **projectRaster()** function with proj.4 projection description of **Albers Equal Area Conic NAD83**. Be patient, it will take a while to project this DEM data."
      ],
      "metadata": {
        "id": "QL-QnC9k5O8b"
      }
    },
    {
      "cell_type": "code",
      "source": [
        "%%R\n",
        "DEM.PROJ<-projectRaster(DEM.GCS, crs=btm)\n",
        "DEM.PROJ"
      ],
      "metadata": {
        "colab": {
          "base_uri": "https://localhost:8080/"
        },
        "id": "fQolS0bk5YAk",
        "outputId": "29543fd7-2e9e-43bf-d467-4dc525c8e5f3"
      },
      "execution_count": 37,
      "outputs": [
        {
          "output_type": "stream",
          "name": "stdout",
          "text": [
            "class      : RasterLayer \n",
            "dimensions : 640, 783, 501120  (nrow, ncol, ncell)\n",
            "resolution : 241, 264  (x, y)\n",
            "extent     : 294912.3, 483615.3, 629891.1, 798851.1  (xmin, xmax, ymin, ymax)\n",
            "crs        : +proj=tmerc +lat_0=0 +lon_0=90 +k=0.9996 +x_0=500000 +y_0=-2000000 +datum=WGS84 +units=m +no_defs \n",
            "source     : memory\n",
            "names      : Band_1 \n",
            "values     : -7.961437, 52.49213  (min, max)\n",
            "\n"
          ]
        }
      ]
    },
    {
      "cell_type": "code",
      "source": [
        "%%R\n",
        "par(mfrow=c(1,2))\n",
        "plot(DEM.GCS, main=\"WGS 1984\")\n",
        "plot(DEM.PROJ, main=\"BTM\")\n",
        "par(mfrow=c(1,1))"
      ],
      "metadata": {
        "colab": {
          "base_uri": "https://localhost:8080/",
          "height": 497
        },
        "id": "z6yShdic5mWg",
        "outputId": "53de4f94-11a3-4f5f-dff3-6da125dbf424"
      },
      "execution_count": 38,
      "outputs": [
        {
          "output_type": "display_data",
          "data": {
            "image/png": "[encoded data removed]"
          },
          "metadata": {}
        }
      ]
    },
    {
      "cell_type": "markdown",
      "source": [
        "Now we will save this projected raster using **writeRaster()** function of raster package"
      ],
      "metadata": {
        "id": "5DtRhFNo6C9d"
      }
    },
    {
      "cell_type": "code",
      "source": [
        "%%R\n",
        "writeRaster(DEM.PROJ,                                                                  # Input raster\n",
        "            '/content/drive/MyDrive/Data/Bangladesh/Raster/raj_DEM_BTM.tif',        # output folder and output raster\n",
        "            \"GTiff\",                                                                   # output raster file extension\n",
        "             overwrite=TRUE)"
      ],
      "metadata": {
        "id": "Il3rTOQf6DIp"
      },
      "execution_count": 41,
      "outputs": []
    },
    {
      "cell_type": "markdown",
      "source": [
        "### Batch Projection of Multiple Raster\n",
        "\n",
        "In this exercise will project DEM raster of eight divisions in a loop. First, we will create a list of raster using **list.files()** function and then will create output raster using **gsub()** function"
      ],
      "metadata": {
        "id": "jaXowoox4GGe"
      }
    },
    {
      "cell_type": "code",
      "source": [
        "%%R\n",
        "DEM.input <- list.files(path= '/content/drive/MyDrive/Data/Bangladesh/Raster/BD_DEM',pattern='.tif$',full.names=T)\n",
        "DEM.input\n",
        "# Output raster names\n",
        "DEM.output <- gsub(\"\\\\.tif$\", \"_PROJ.tif\", DEM.input)\n",
        "DEM.output"
      ],
      "metadata": {
        "colab": {
          "base_uri": "https://localhost:8080/"
        },
        "id": "cg7xBPAV4Jjl",
        "outputId": "e152db2d-a2ea-4168-d339-8bb7acabff3f"
      },
      "execution_count": 34,
      "outputs": [
        {
          "output_type": "stream",
          "name": "stdout",
          "text": [
            " [1] \"/content/drive/MyDrive/Data/Bangladesh/Raster/BD_DEM/barisal_dem_PROJ_PROJ.tif\"    \n",
            " [2] \"/content/drive/MyDrive/Data/Bangladesh/Raster/BD_DEM/barisal_dem_PROJ.tif\"         \n",
            " [3] \"/content/drive/MyDrive/Data/Bangladesh/Raster/BD_DEM/chittagoang_dem_PROJ_PROJ.tif\"\n",
            " [4] \"/content/drive/MyDrive/Data/Bangladesh/Raster/BD_DEM/chittagoang_dem_PROJ.tif\"     \n",
            " [5] \"/content/drive/MyDrive/Data/Bangladesh/Raster/BD_DEM/dhaka_dem_PROJ_PROJ.tif\"      \n",
            " [6] \"/content/drive/MyDrive/Data/Bangladesh/Raster/BD_DEM/dhaka_dem_PROJ.tif\"           \n",
            " [7] \"/content/drive/MyDrive/Data/Bangladesh/Raster/BD_DEM/khulna_dem_PROJ_PROJ.tif\"     \n",
            " [8] \"/content/drive/MyDrive/Data/Bangladesh/Raster/BD_DEM/khulna_dem_PROJ.tif\"          \n",
            " [9] \"/content/drive/MyDrive/Data/Bangladesh/Raster/BD_DEM/mymenshingl_dem_PROJ_PROJ.tif\"\n",
            "[10] \"/content/drive/MyDrive/Data/Bangladesh/Raster/BD_DEM/mymenshingl_dem_PROJ.tif\"     \n",
            "[11] \"/content/drive/MyDrive/Data/Bangladesh/Raster/BD_DEM/rajshahi_dem_PROJ_PROJ.tif\"   \n",
            "[12] \"/content/drive/MyDrive/Data/Bangladesh/Raster/BD_DEM/rajshahi_dem_PROJ.tif\"        \n",
            "[13] \"/content/drive/MyDrive/Data/Bangladesh/Raster/BD_DEM/rangpur_dem_PROJ_PROJ.tif\"    \n",
            "[14] \"/content/drive/MyDrive/Data/Bangladesh/Raster/BD_DEM/rangpur_dem_PROJ.tif\"         \n",
            "[15] \"/content/drive/MyDrive/Data/Bangladesh/Raster/BD_DEM/sylhet_dem_PROJ_PROJ.tif\"     \n",
            "[16] \"/content/drive/MyDrive/Data/Bangladesh/Raster/BD_DEM/sylhet_dem_PROJ.tif\"          \n"
          ]
        }
      ]
    },
    {
      "cell_type": "markdown",
      "source": [
        "We will define proj.4 projection description of **BTM** as a mew projection and run **projectRaster()** function in a loop"
      ],
      "metadata": {
        "id": "Q-axRgh54_Yo"
      }
    },
    {
      "cell_type": "code",
      "source": [
        "%%R\n",
        "newproj <- \"+proj=tmerc +lat_0=0 +lon_0=90 +k=0.9996 +x_0=500000 +y_0=0 +datum=WGS84 +units=m +no_defs\"\n",
        "# Reprojection and write raster\n",
        "for (i in 1:8){\n",
        "    r <- raster(DEM.input[i])\n",
        "    PROJ <- projectRaster(r, crs=newproj, method = 'bilinear', filename = DEM.output[i], overwrite=TRUE)\n",
        "}"
      ],
      "metadata": {
        "id": "h54PL7gK5AbN"
      },
      "execution_count": 35,
      "outputs": []
    },
    {
      "cell_type": "markdown",
      "source": [
        "\n",
        "### Further Reading\n",
        "\n",
        "1. [Using map projections](https://cran.r-project.org/web/packages/oce/vignettes/D_map_projections.html)\n",
        "\n",
        "2. [Map Projections in R](https://michaelminn.net/tutorials/r-projections/index.html)\n",
        "\n",
        "3. [Variations on map projections in R](https://www.happykhan.com/posts/map-projections-in-r/ )"
      ],
      "metadata": {
        "id": "msuLrysq7Hdj"
      }
    }
  ]
}