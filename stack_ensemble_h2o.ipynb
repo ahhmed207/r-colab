{
  "nbformat": 4,
  "nbformat_minor": 0,
  "metadata": {
    "colab": {
      "provenance": [],
      "gpuType": "T4",
      "authorship_tag": "ABX9TyNQO6Sm/Y5/zqxIK7LV9SjS",
      "include_colab_link": true
    },
    "kernelspec": {
      "name": "ir",
      "display_name": "R"
    },
    "language_info": {
      "name": "R"
    },
    "accelerator": "GPU"
  },
  "cells": [
    {
      "cell_type": "markdown",
      "metadata": {
        "id": "view-in-github",
        "colab_type": "text"
      },
      "source": [
        "<a href=\"https://colab.research.google.com/github/zia207/r-colab/blob/main/stack_ensemble_h2o.ipynb\" target=\"_parent\"><img src=\"https://colab.research.google.com/assets/colab-badge.svg\" alt=\"Open In Colab\"/></a>"
      ]
    },
    {
      "cell_type": "markdown",
      "source": [
        "# Stack-Ensemble Model with H20\n",
        "\n",
        "H2O\\'s Stacked Ensemble method is a supervised ensemble machine learning algorithm that finds the optimal combination of a collection of prediction algorithms using a process called stacking. Like all supervised models in H2O, Stacked Ensemeble supports regression, binary classification, and multiclass classification.\n",
        "\n",
        "To create stacked ensembles with H2O in R, you can follow these general steps:\n",
        "\n",
        "1.   **Set up the Ensemble:** Specify a list of L base algorithms (with a specific set of model parameters) and specify a metalearning algorithm\n",
        "\n",
        "2.   **Grid Search**: Find the best base model for each L-base algorithms using hyperprameter grid search\n",
        "\n",
        "3.  **Train L-base models** : Perform k-fold cross-validation on each of these learners and collect the cross-validated predicted values from each of the L algorithms.\n",
        "\n",
        "4.   **Prediction**: The N cross-validated predicted values from each of the L algorithms can be combined to form a new N x L matrix. This matrix, along with the original response vector, is called the \\\"level-one\\\" data. (N = number of rows in the training set.\n",
        "\n",
        "5.  T**rain with the Metalearner**: Train the metalearning algorithm on the level-one data. The \\\"ensemble model\\\" consists of the L base learning models and the metalearning model, which can then be used to generate predictions on a test set.\n",
        "\n",
        "6.   **Predict with the stacked ensemble**: Once the stack ensemble is trained, you can use it to make predictions on new, unseen data.\n",
        "\n",
        "7.  **Shutdown the H2O cluster**: After you have finished using H2O, it's good practice to shut down the H2O cluster by running **`h2o.shutdown()`**.\n"
      ],
      "metadata": {
        "id": "-lNUT13vjnqE"
      }
    },
    {
      "cell_type": "markdown",
      "source": [
        "### Install h20, Tidymodesl and Metrics"
      ],
      "metadata": {
        "id": "dnGk9jUgjyCP"
      }
    },
    {
      "cell_type": "code",
      "execution_count": 3,
      "metadata": {
        "colab": {
          "base_uri": "https://localhost:8080/"
        },
        "id": "W66HtIxrjdZH",
        "outputId": "f858ad93-4529-42e4-87ee-725362796cf3"
      },
      "outputs": [
        {
          "output_type": "stream",
          "name": "stderr",
          "text": [
            "Installing package into ‘/usr/local/lib/R/site-library’\n",
            "(as ‘lib’ is unspecified)\n",
            "\n",
            "also installing the dependencies ‘bitops’, ‘RCurl’\n",
            "\n",
            "\n",
            "Installing package into ‘/usr/local/lib/R/site-library’\n",
            "(as ‘lib’ is unspecified)\n",
            "\n",
            "also installing the dependencies ‘shape’, ‘future.apply’, ‘numDeriv’, ‘progressr’, ‘SQUAREM’, ‘Rcpp’, ‘diagram’, ‘lava’, ‘listenv’, ‘parallelly’, ‘prodlim’, ‘future’, ‘warp’, ‘iterators’, ‘lhs’, ‘DiceDesign’, ‘patchwork’, ‘globals’, ‘clock’, ‘gower’, ‘ipred’, ‘timeDate’, ‘furrr’, ‘slider’, ‘foreach’, ‘GPfit’, ‘modelenv’, ‘dials’, ‘hardhat’, ‘infer’, ‘modeldata’, ‘parsnip’, ‘recipes’, ‘rsample’, ‘tune’, ‘workflows’, ‘workflowsets’, ‘yardstick’\n",
            "\n",
            "\n",
            "Installing package into ‘/usr/local/lib/R/site-library’\n",
            "(as ‘lib’ is unspecified)\n",
            "\n"
          ]
        }
      ],
      "source": [
        "install.packages(\"h2o\")\n",
        "install.packages(\"tidymodels\")\n",
        "install.packages(\"Metrics\")"
      ]
    },
    {
      "cell_type": "markdown",
      "source": [
        "### Load Packages"
      ],
      "metadata": {
        "id": "99f3OBtFn8UP"
      }
    },
    {
      "cell_type": "code",
      "source": [
        "library(tidyverse)\n",
        "library(tidymodels)\n",
        "library(Metrics)"
      ],
      "metadata": {
        "colab": {
          "base_uri": "https://localhost:8080/"
        },
        "id": "8qjCM-3Nn8dm",
        "outputId": "3b57fb91-11f1-45ee-d68c-1eeb9affc979"
      },
      "execution_count": 4,
      "outputs": [
        {
          "output_type": "stream",
          "name": "stderr",
          "text": [
            "── \u001b[1mAttaching packages\u001b[22m ────────────────────────────────────── tidymodels 1.1.0 ──\n",
            "\n",
            "\u001b[32m✔\u001b[39m \u001b[34mbroom       \u001b[39m 1.0.5     \u001b[32m✔\u001b[39m \u001b[34mrsample     \u001b[39m 1.1.1\n",
            "\u001b[32m✔\u001b[39m \u001b[34mdials       \u001b[39m 1.2.0     \u001b[32m✔\u001b[39m \u001b[34mtune        \u001b[39m 1.1.1\n",
            "\u001b[32m✔\u001b[39m \u001b[34minfer       \u001b[39m 1.0.4     \u001b[32m✔\u001b[39m \u001b[34mworkflows   \u001b[39m 1.1.3\n",
            "\u001b[32m✔\u001b[39m \u001b[34mmodeldata   \u001b[39m 1.1.0     \u001b[32m✔\u001b[39m \u001b[34mworkflowsets\u001b[39m 1.0.1\n",
            "\u001b[32m✔\u001b[39m \u001b[34mparsnip     \u001b[39m 1.1.0     \u001b[32m✔\u001b[39m \u001b[34myardstick   \u001b[39m 1.2.0\n",
            "\u001b[32m✔\u001b[39m \u001b[34mrecipes     \u001b[39m 1.0.6     \n",
            "\n",
            "── \u001b[1mConflicts\u001b[22m ───────────────────────────────────────── tidymodels_conflicts() ──\n",
            "\u001b[31m✖\u001b[39m \u001b[34mscales\u001b[39m::\u001b[32mdiscard()\u001b[39m masks \u001b[34mpurrr\u001b[39m::discard()\n",
            "\u001b[31m✖\u001b[39m \u001b[34mdplyr\u001b[39m::\u001b[32mfilter()\u001b[39m   masks \u001b[34mstats\u001b[39m::filter()\n",
            "\u001b[31m✖\u001b[39m \u001b[34mrecipes\u001b[39m::\u001b[32mfixed()\u001b[39m  masks \u001b[34mstringr\u001b[39m::fixed()\n",
            "\u001b[31m✖\u001b[39m \u001b[34mdplyr\u001b[39m::\u001b[32mlag()\u001b[39m      masks \u001b[34mstats\u001b[39m::lag()\n",
            "\u001b[31m✖\u001b[39m \u001b[34myardstick\u001b[39m::\u001b[32mspec()\u001b[39m masks \u001b[34mreadr\u001b[39m::spec()\n",
            "\u001b[31m✖\u001b[39m \u001b[34mrecipes\u001b[39m::\u001b[32mstep()\u001b[39m   masks \u001b[34mstats\u001b[39m::step()\n",
            "\u001b[34m•\u001b[39m Search for functions across packages at \u001b[32mhttps://www.tidymodels.org/find/\u001b[39m\n",
            "\n",
            "\n",
            "Attaching package: ‘Metrics’\n",
            "\n",
            "\n",
            "The following objects are masked from ‘package:yardstick’:\n",
            "\n",
            "    accuracy, mae, mape, mase, precision, recall, rmse, smape\n",
            "\n",
            "\n"
          ]
        }
      ]
    },
    {
      "cell_type": "markdown",
      "source": [
        "### Data"
      ],
      "metadata": {
        "id": "6mrRDSl_oH65"
      }
    },
    {
      "cell_type": "code",
      "source": [
        "# define file from my github\n",
        "urlfile = \"https://github.com//zia207/r-colab/raw/main/Data/USA/gp_soil_data_syn.csv\"\n",
        "mf<-read_csv(url(urlfile))\n",
        "# Create a data-frame\n",
        "df<-mf %>% dplyr::select(SOC, DEM, Slope, TPI,MAT, MAP,NDVI, NLCD, FRG)%>%\n",
        "    glimpse()"
      ],
      "metadata": {
        "colab": {
          "base_uri": "https://localhost:8080/"
        },
        "id": "PlPLgTKNoIGs",
        "outputId": "bda70246-d5c6-4261-8200-3423f694803f"
      },
      "execution_count": 5,
      "outputs": [
        {
          "output_type": "stream",
          "name": "stderr",
          "text": [
            "\u001b[1mRows: \u001b[22m\u001b[34m1408\u001b[39m \u001b[1mColumns: \u001b[22m\u001b[34m10\u001b[39m\n",
            "\u001b[36m──\u001b[39m \u001b[1mColumn specification\u001b[22m \u001b[36m────────────────────────────────────────────────────────\u001b[39m\n",
            "\u001b[1mDelimiter:\u001b[22m \",\"\n",
            "\u001b[31mchr\u001b[39m (2): NLCD, FRG\n",
            "\u001b[32mdbl\u001b[39m (8): ID, SOC, DEM, Slope, TPI, MAP, MAT, NDVI\n",
            "\n",
            "\u001b[36mℹ\u001b[39m Use `spec()` to retrieve the full column specification for this data.\n",
            "\u001b[36mℹ\u001b[39m Specify the column types or set `show_col_types = FALSE` to quiet this message.\n"
          ]
        },
        {
          "output_type": "stream",
          "name": "stdout",
          "text": [
            "Rows: 1,408\n",
            "Columns: 9\n",
            "$ SOC   \u001b[3m\u001b[90m<dbl>\u001b[39m\u001b[23m 1.900, 2.644, 0.800, 0.736, 15.641, 8.818, 3.782, 6.641, 4.803, …\n",
            "$ DEM   \u001b[3m\u001b[90m<dbl>\u001b[39m\u001b[23m 2825.1111, 2535.1086, 1716.3300, 1649.8933, 2675.3113, 2581.4839…\n",
            "$ Slope \u001b[3m\u001b[90m<dbl>\u001b[39m\u001b[23m 18.981682, 14.182393, 1.585145, 9.399726, 12.569353, 6.358553, 1…\n",
            "$ TPI   \u001b[3m\u001b[90m<dbl>\u001b[39m\u001b[23m -0.91606224, -0.15259802, -0.39078590, -2.54008722, 7.40076303, …\n",
            "$ MAT   \u001b[3m\u001b[90m<dbl>\u001b[39m\u001b[23m 4.709227, 4.648000, 6.360833, 10.265385, 2.798550, 6.358550, 7.0…\n",
            "$ MAP   \u001b[3m\u001b[90m<dbl>\u001b[39m\u001b[23m 613.6979, 597.7912, 201.5091, 298.2608, 827.4680, 679.1392, 508.…\n",
            "$ NDVI  \u001b[3m\u001b[90m<dbl>\u001b[39m\u001b[23m 0.6845260, 0.7557631, 0.2215059, 0.2785148, 0.7337426, 0.7017139…\n",
            "$ NLCD  \u001b[3m\u001b[90m<chr>\u001b[39m\u001b[23m \"Forest\", \"Forest\", \"Shrubland\", \"Shrubland\", \"Forest\", \"Forest\"…\n",
            "$ FRG   \u001b[3m\u001b[90m<chr>\u001b[39m\u001b[23m \"Fire Regime Group IV\", \"Fire Regime Group IV\", \"Fire Regime Gro…\n"
          ]
        }
      ]
    },
    {
      "cell_type": "markdown",
      "source": [
        "### Data Preprocessing"
      ],
      "metadata": {
        "id": "IQRmzXvrovem"
      }
    },
    {
      "cell_type": "markdown",
      "source": [
        "#### Convert to factor"
      ],
      "metadata": {
        "id": "Rexb4lAKodqN"
      }
    },
    {
      "cell_type": "code",
      "source": [
        "df$NLCD <- as.factor(df$NLCD)\n",
        "df$FRG <- as.factor(df$FRG)"
      ],
      "metadata": {
        "id": "Pcl7TMJVodzJ"
      },
      "execution_count": 6,
      "outputs": []
    },
    {
      "cell_type": "markdown",
      "source": [
        "#### Data Split"
      ],
      "metadata": {
        "id": "mKL1OQtEokVs"
      }
    },
    {
      "cell_type": "code",
      "source": [
        "set.seed(1245)   # for reproducibility\n",
        "split_01 <- initial_split(df, prop = 0.8, strata = SOC)\n",
        "train <- split_01 %>% training()\n",
        "test <-  split_01 %>% testing()"
      ],
      "metadata": {
        "id": "bsHc8ujsokcx"
      },
      "execution_count": 7,
      "outputs": []
    },
    {
      "cell_type": "markdown",
      "source": [
        "#### Scaling"
      ],
      "metadata": {
        "id": "hJY1Lxf3o_Sx"
      }
    },
    {
      "cell_type": "code",
      "source": [
        "train[-c(1, 8,9)] = scale(train[-c(1,8,9)])\n",
        "test[-c(1, 8,9)] = scale(test[-c(1,8,9)])"
      ],
      "metadata": {
        "id": "7c8bgcJSotHW"
      },
      "execution_count": 8,
      "outputs": []
    },
    {
      "cell_type": "markdown",
      "source": [
        "### Import h2o"
      ],
      "metadata": {
        "id": "aH6ofrhGpFub"
      }
    },
    {
      "cell_type": "code",
      "source": [
        "library(h2o)\n",
        "h2o.init()\n",
        "#disable progress bar for RMarkdown\n",
        "h2o.no_progress()\n",
        "# Optional: remove anything from previous session\n",
        "h2o.removeAll()"
      ],
      "metadata": {
        "colab": {
          "base_uri": "https://localhost:8080/"
        },
        "id": "LxbZ5vVGo97E",
        "outputId": "9728460b-53ba-4732-b968-4649c74c1d2c"
      },
      "execution_count": 9,
      "outputs": [
        {
          "output_type": "stream",
          "name": "stderr",
          "text": [
            "\n",
            "----------------------------------------------------------------------\n",
            "\n",
            "Your next step is to start H2O:\n",
            "    > h2o.init()\n",
            "\n",
            "For H2O package documentation, ask for help:\n",
            "    > ??h2o\n",
            "\n",
            "After starting H2O, you can use the Web UI at http://localhost:54321\n",
            "For more information visit https://docs.h2o.ai\n",
            "\n",
            "----------------------------------------------------------------------\n",
            "\n",
            "\n",
            "\n",
            "Attaching package: ‘h2o’\n",
            "\n",
            "\n",
            "The following objects are masked from ‘package:lubridate’:\n",
            "\n",
            "    day, hour, month, week, year\n",
            "\n",
            "\n",
            "The following objects are masked from ‘package:stats’:\n",
            "\n",
            "    cor, sd, var\n",
            "\n",
            "\n",
            "The following objects are masked from ‘package:base’:\n",
            "\n",
            "    &&, %*%, %in%, ||, apply, as.factor, as.numeric, colnames,\n",
            "    colnames<-, ifelse, is.character, is.factor, is.numeric, log,\n",
            "    log10, log1p, log2, round, signif, trunc\n",
            "\n",
            "\n"
          ]
        },
        {
          "output_type": "stream",
          "name": "stdout",
          "text": [
            "\n",
            "H2O is not running yet, starting it now...\n",
            "\n",
            "Note:  In case of errors look at the following log files:\n",
            "    /tmp/RtmpEfywVn/file3162987a622/h2o_UnknownUser_started_from_r.out\n",
            "    /tmp/RtmpEfywVn/file3162f6199b/h2o_UnknownUser_started_from_r.err\n",
            "\n",
            "\n",
            "Starting H2O JVM and connecting: ...... Connection successful!\n",
            "\n",
            "R is connected to the H2O cluster: \n",
            "    H2O cluster uptime:         3 seconds 616 milliseconds \n",
            "    H2O cluster timezone:       Etc/UTC \n",
            "    H2O data parsing timezone:  UTC \n",
            "    H2O cluster version:        3.40.0.4 \n",
            "    H2O cluster version age:    2 months and 22 days \n",
            "    H2O cluster name:           H2O_started_from_R_root_yqz807 \n",
            "    H2O cluster total nodes:    1 \n",
            "    H2O cluster total memory:   3.17 GB \n",
            "    H2O cluster total cores:    2 \n",
            "    H2O cluster allowed cores:  2 \n",
            "    H2O cluster healthy:        TRUE \n",
            "    H2O Connection ip:          localhost \n",
            "    H2O Connection port:        54321 \n",
            "    H2O Connection proxy:       NA \n",
            "    H2O Internal Security:      FALSE \n",
            "    R Version:                  R version 4.3.1 (2023-06-16) \n",
            "\n"
          ]
        }
      ]
    },
    {
      "cell_type": "markdown",
      "source": [
        "### Import data to h2o cluster"
      ],
      "metadata": {
        "id": "OTs-7M6upTD0"
      }
    },
    {
      "cell_type": "code",
      "source": [
        "h_df=as.h2o(df)\n",
        "h_train = as.h2o(train)\n",
        "h_test = as.h2o(test)"
      ],
      "metadata": {
        "id": "2c9Uy8dxpTL_"
      },
      "execution_count": 10,
      "outputs": []
    },
    {
      "cell_type": "code",
      "source": [
        "train.xy<- as.data.frame(h_train)\n",
        "test.xy<- as.data.frame(h_test)"
      ],
      "metadata": {
        "id": "zOgbacsmpdv4"
      },
      "execution_count": 11,
      "outputs": []
    },
    {
      "cell_type": "markdown",
      "source": [
        "### Define response and predictors"
      ],
      "metadata": {
        "id": "EPNkErcYpiLG"
      }
    },
    {
      "cell_type": "code",
      "source": [
        "y <- \"SOC\"\n",
        "x <- setdiff(names(h_df), y)"
      ],
      "metadata": {
        "id": "0vqDqO2LpiSg"
      },
      "execution_count": 12,
      "outputs": []
    },
    {
      "cell_type": "markdown",
      "source": [
        "### Train Base-Learners with Grid Search"
      ],
      "metadata": {
        "id": "rDmlftMGppVw"
      }
    },
    {
      "cell_type": "markdown",
      "source": [
        "1. Generalized Linear Models (GLM)"
      ],
      "metadata": {
        "id": "NswWX0PtpttC"
      }
    },
    {
      "cell_type": "code",
      "source": [
        "# GLM Hyperprameter\n",
        "glm_hyper_params <-list(\n",
        "             alpha = c(0,0.25,0.5,0.75,1),\n",
        "             lambda = c(1, 0.5, 0.1, 0.01, 0.001, 0.0001, 0.00001, 0))\n",
        "\n",
        "# GLM Hyperprameter Grid Search\n",
        "GLM_grid <- h2o.grid(\n",
        "                  algorithm=\"glm\",\n",
        "                  grid_id = \"glm_grid_IDs\",\n",
        "                  x= x,\n",
        "                  y = y,\n",
        "                  training_frame = h_train,\n",
        "                  #validation_frame = h_valid,\n",
        "                  standardize = TRUE,\n",
        "                  nfolds=5,\n",
        "                  keep_cross_validation_predictions = TRUE,\n",
        "                  hyper_params = glm_hyper_params,\n",
        "                  seed = 42)\n",
        "\n",
        "# Get GLM Grid parameters\n",
        "glm_get_grid <- h2o.getGrid(\"glm_grid_IDs\",sort_by=\"RMSE\",decreasing=FALSE)\n",
        "glm_get_grid@summary_table[1,]\n",
        "\n",
        "# Number of GLM models\n",
        "length(GLM_grid@model_ids)\n",
        "\n",
        "# The Best GLM Model\n",
        "best_GLM <- h2o.getModel(glm_get_grid@model_ids[[1]])\n",
        "summary(best_GLM)"
      ],
      "metadata": {
        "colab": {
          "base_uri": "https://localhost:8080/",
          "height": 1000
        },
        "id": "ovrZcB5Np_LS",
        "outputId": "6e40b700-ca5d-4b44-cc63-61b68ad7101a"
      },
      "execution_count": 13,
      "outputs": [
        {
          "output_type": "stream",
          "name": "stderr",
          "text": [
            "Warning message in h2o.getGrid(grid_id = grid_id):\n",
            "“Adding alpha array to hyperparameter runs slower with gridsearch. This is due to the fact that the algo has to run initialization for every alpha value. Setting the alpha array as a model parameter will skip the initialization and run faster overall.”\n",
            "Warning message in h2o.getGrid(\"glm_grid_IDs\", sort_by = \"RMSE\", decreasing = FALSE):\n",
            "“Adding alpha array to hyperparameter runs slower with gridsearch. This is due to the fact that the algo has to run initialization for every alpha value. Setting the alpha array as a model parameter will skip the initialization and run faster overall.”\n"
          ]
        },
        {
          "output_type": "display_data",
          "data": {
            "text/html": [
              "<table class=\"dataframe\">\n",
              "<caption>A H2OTable: 1 × 4</caption>\n",
              "<thead>\n",
              "\t<tr><th></th><th scope=col>alpha</th><th scope=col>lambda</th><th scope=col>model_ids</th><th scope=col>rmse</th></tr>\n",
              "\t<tr><th></th><th scope=col>&lt;chr&gt;</th><th scope=col>&lt;chr&gt;</th><th scope=col>&lt;chr&gt;</th><th scope=col>&lt;dbl&gt;</th></tr>\n",
              "</thead>\n",
              "<tbody>\n",
              "\t<tr><th scope=row>1</th><td>1.0</td><td>0.01</td><td>glm_grid_IDs_model_20</td><td>3.913585</td></tr>\n",
              "</tbody>\n",
              "</table>\n"
            ],
            "text/markdown": "\nA H2OTable: 1 × 4\n\n| <!--/--> | alpha &lt;chr&gt; | lambda &lt;chr&gt; | model_ids &lt;chr&gt; | rmse &lt;dbl&gt; |\n|---|---|---|---|---|\n| 1 | 1.0 | 0.01 | glm_grid_IDs_model_20 | 3.913585 |\n\n",
            "text/latex": "A H2OTable: 1 × 4\n\\begin{tabular}{r|llll}\n  & alpha & lambda & model\\_ids & rmse\\\\\n  & <chr> & <chr> & <chr> & <dbl>\\\\\n\\hline\n\t1 & 1.0 & 0.01 & glm\\_grid\\_IDs\\_model\\_20 & 3.913585\\\\\n\\end{tabular}\n",
            "text/plain": [
              "  alpha lambda model_ids             rmse    \n",
              "1 1.0   0.01   glm_grid_IDs_model_20 3.913585"
            ]
          },
          "metadata": {}
        },
        {
          "output_type": "display_data",
          "data": {
            "text/html": [
              "40"
            ],
            "text/markdown": "40",
            "text/latex": "40",
            "text/plain": [
              "[1] 40"
            ]
          },
          "metadata": {}
        },
        {
          "output_type": "stream",
          "name": "stdout",
          "text": [
            "Model Details:\n",
            "==============\n",
            "\n",
            "H2ORegressionModel: glm\n",
            "Model Key:  glm_grid_IDs_model_20 \n",
            "GLM Model: summary\n",
            "    family     link         regularization number_of_predictors_total\n",
            "1 gaussian identity Lasso (lambda = 0.01 )                         16\n",
            "  number_of_active_predictors number_of_iterations   training_frame\n",
            "1                          11                    1 train_sid_96fd_3\n",
            "\n",
            "H2ORegressionMetrics: glm\n",
            "** Reported on training data. **\n",
            "\n",
            "MSE:  14.92919\n",
            "RMSE:  3.863831\n",
            "MAE:  2.751655\n",
            "RMSLE:  0.5254711\n",
            "Mean Residual Deviance :  14.92919\n",
            "R^2 :  0.4139503\n",
            "Null Deviance :28684.03\n",
            "Null D.o.F. :1125\n",
            "Residual Deviance :16810.27\n",
            "Residual D.o.F. :1114\n",
            "AIC :6265.386\n",
            "\n",
            "\n",
            "\n",
            "H2ORegressionMetrics: glm\n",
            "** Reported on cross-validation data. **\n",
            "** 5-fold cross-validation on training data (Metrics computed for combined holdout predictions) **\n",
            "\n",
            "MSE:  15.31615\n",
            "RMSE:  3.913585\n",
            "MAE:  2.788419\n",
            "RMSLE:  0.5316645\n",
            "Mean Residual Deviance :  15.31615\n",
            "R^2 :  0.3987602\n",
            "Null Deviance :28740.54\n",
            "Null D.o.F. :1125\n",
            "Residual Deviance :17245.98\n",
            "Residual D.o.F. :1113\n",
            "AIC :6296.2\n",
            "\n",
            "\n",
            "Cross-Validation Metrics Summary: \n",
            "                              mean         sd  cv_1_valid  cv_2_valid\n",
            "mae                       2.789308   0.255133    2.855067    2.636146\n",
            "mean_residual_deviance   15.329986   2.983605   14.603878   13.805466\n",
            "mse                      15.329986   2.983605   14.603878   13.805466\n",
            "null_deviance          5748.108400 943.440400 4927.803000 5173.992700\n",
            "r2                        0.397071   0.055506    0.327227    0.396031\n",
            "residual_deviance      3449.196500 653.329160 3315.080300 3078.619000\n",
            "rmse                      3.900369   0.382600    3.821502    3.715571\n",
            "rmsle                     0.530569   0.042326    0.537976    0.560555\n",
            "                        cv_3_valid  cv_4_valid  cv_5_valid\n",
            "mae                       3.119908    2.451240    2.884181\n",
            "mean_residual_deviance   19.004612   11.598099   17.637875\n",
            "mse                      19.004612   11.598099   17.637875\n",
            "null_deviance          6981.654000 5113.271500 6543.821000\n",
            "r2                        0.384452    0.482404    0.395243\n",
            "residual_deviance      4257.033000 2644.366500 3950.883800\n",
            "rmse                      4.359428    3.405598    4.199747\n",
            "rmsle                     0.562172    0.458434    0.533705\n",
            "\n",
            "Scoring History: \n",
            "            timestamp   duration iterations negative_log_likelihood objective\n",
            "1 2023-07-21 02:19:13  0.000 sec          0             28684.03369  25.47428\n",
            "2 2023-07-21 02:19:13  0.004 sec          1                      NA        NA\n",
            "  training_rmse training_deviance training_mae training_r2\n",
            "1            NA                NA           NA          NA\n",
            "2       3.86383          14.92919      2.75165     0.41395\n",
            "\n",
            "Variable Importances: (Extract with `h2o.varimp`) \n",
            "=================================================\n",
            "\n",
            "Variable Importances: \n",
            "                    variable relative_importance scaled_importance percentage\n",
            "1                       NDVI            1.562609          1.000000   0.209677\n",
            "2   FRG.Fire Regime Group II            1.028139          0.657963   0.137960\n",
            "3                NLCD.Forest            0.971411          0.621660   0.130348\n",
            "4    NLCD.Planted/Cultivated            0.949343          0.607537   0.127386\n",
            "5                        MAP            0.853194          0.546006   0.114485\n",
            "6                        MAT            0.844094          0.540182   0.113264\n",
            "7                      Slope            0.600312          0.384173   0.080552\n",
            "8             NLCD.Shrubland            0.296651          0.189843   0.039806\n",
            "9            NLCD.Herbaceous            0.166346          0.106454   0.022321\n",
            "10 FRG.Fire Regime Group III            0.101744          0.065111   0.013652\n",
            "11                       TPI            0.078622          0.050315   0.010550\n",
            "12   FRG.Fire Regime Group I            0.000000          0.000000   0.000000\n",
            "13  FRG.Fire Regime Group IV            0.000000          0.000000   0.000000\n",
            "14   FRG.Fire Regime Group V            0.000000          0.000000   0.000000\n",
            "15     FRG.Indeterminate FRG            0.000000          0.000000   0.000000\n",
            "16                       DEM            0.000000          0.000000   0.000000\n"
          ]
        }
      ]
    },
    {
      "cell_type": "markdown",
      "source": [
        "2. Random Forest"
      ],
      "metadata": {
        "id": "qXVXKzjyqGQl"
      }
    },
    {
      "cell_type": "code",
      "source": [
        "# RF Hyper-parameters\n",
        "RF_hyper_params <-list(\n",
        "              ntrees  = seq(100, 5000, by = 100),\n",
        "              max_depth=c(10,20,30,40,50),\n",
        "              sample_rate=c(0.7, 0.8, 0.9, 1.0)\n",
        "              )\n",
        "\n",
        "# RF Hyper-parameters Search Criteria\n",
        "RF_search_criteria <- list(strategy = \"RandomDiscrete\",\n",
        "                        max_models = 100,\n",
        "                        max_runtime_secs = 100,\n",
        "                        stopping_tolerance = 0.001,\n",
        "                        stopping_rounds = 2,\n",
        "                        seed = 42)\n",
        "\n",
        "# RF Grid Search\n",
        "RF_grid <- h2o.grid(\n",
        "                  algorithm=\"randomForest\",\n",
        "                  grid_id = \"RF_grid_IDs\",\n",
        "                  x = x,\n",
        "                  y = y,\n",
        "                  training_frame = h_train,\n",
        "                  #validation_frame = h_valid,\n",
        "                  stopping_metric = \"RMSE\",\n",
        "                  #fold_assignment =\"Stratified\",\n",
        "                  nfolds=5,\n",
        "                  keep_cross_validation_predictions = TRUE,\n",
        "                  keep_cross_validation_models = TRUE,\n",
        "                  hyper_params = RF_hyper_params,\n",
        "                  search_criteria = RF_search_criteria,\n",
        "                  seed = 42)\n",
        "\n",
        "# Number RF models\n",
        "length(RF_grid@model_ids)\n",
        "\n",
        "# Get RF Grid parameters\n",
        "RF_get_grid <- h2o.getGrid(\"RF_grid_IDs\",\n",
        "                           sort_by=\"RMSE\",\n",
        "                           decreasing=F)\n",
        "# The Best RF model\n",
        "best_RF <- h2o.getModel(RF_get_grid@model_ids[[1]])\n",
        "best_RF"
      ],
      "metadata": {
        "colab": {
          "base_uri": "https://localhost:8080/",
          "height": 937
        },
        "id": "U2c1r4tkqGau",
        "outputId": "512964ed-ac03-4236-e9dc-7dab361ed726"
      },
      "execution_count": 14,
      "outputs": [
        {
          "output_type": "display_data",
          "data": {
            "text/html": [
              "4"
            ],
            "text/markdown": "4",
            "text/latex": "4",
            "text/plain": [
              "[1] 4"
            ]
          },
          "metadata": {}
        },
        {
          "output_type": "display_data",
          "data": {
            "text/plain": [
              "Model Details:\n",
              "==============\n",
              "\n",
              "H2ORegressionModel: drf\n",
              "Model ID:  RF_grid_IDs_model_2 \n",
              "Model Summary: \n",
              "  number_of_trees number_of_internal_trees model_size_in_bytes min_depth\n",
              "1             151                      151              991855        17\n",
              "  max_depth mean_depth min_leaves max_leaves mean_leaves\n",
              "1        27   20.94702        441        584   518.12585\n",
              "\n",
              "\n",
              "H2ORegressionMetrics: drf\n",
              "** Reported on training data. **\n",
              "** Metrics reported on Out-Of-Bag training samples **\n",
              "\n",
              "MSE:  NaN\n",
              "RMSE:  NaN\n",
              "MAE:  NaN\n",
              "RMSLE:  NaN\n",
              "Mean Residual Deviance :  NaN\n",
              "\n",
              "\n",
              "\n",
              "H2ORegressionMetrics: drf\n",
              "** Reported on cross-validation data. **\n",
              "** 5-fold cross-validation on training data (Metrics computed for combined holdout predictions) **\n",
              "\n",
              "MSE:  4.131365\n",
              "RMSE:  2.032576\n",
              "MAE:  0.9286309\n",
              "RMSLE:  0.299807\n",
              "Mean Residual Deviance :  4.131365\n",
              "\n",
              "\n",
              "Cross-Validation Metrics Summary: \n",
              "                           mean       sd cv_1_valid cv_2_valid cv_3_valid\n",
              "mae                    0.929322 0.163260   0.839322   0.825890   1.055624\n",
              "mean_residual_deviance 4.135667 1.773193   3.100674   2.549628   4.780259\n",
              "mse                    4.135667 1.773193   3.100674   2.549628   4.780259\n",
              "r2                     0.841050 0.047213   0.857158   0.888457   0.845170\n",
              "residual_deviance      4.135667 1.773193   3.100674   2.549628   4.780259\n",
              "rmse                   1.999367 0.415632   1.760873   1.596755   2.186380\n",
              "rmsle                  0.298804 0.030064   0.286926   0.320219   0.303187\n",
              "                       cv_4_valid cv_5_valid\n",
              "mae                      0.776325   1.149451\n",
              "mean_residual_deviance   3.304345   6.943429\n",
              "mse                      3.304345   6.943429\n",
              "r2                       0.852535   0.761928\n",
              "residual_deviance        3.304345   6.943429\n",
              "rmse                     1.817786   2.635039\n",
              "rmsle                    0.253768   0.329919"
            ]
          },
          "metadata": {}
        }
      ]
    },
    {
      "cell_type": "markdown",
      "source": [
        "3. Gradient Boosting Machine (GBM)"
      ],
      "metadata": {
        "id": "UAm33yetqqVt"
      }
    },
    {
      "cell_type": "code",
      "source": [
        "# GBM Hyper-parameters\n",
        "GBM_hyper_params = list( ntrees = c(100,500, 1000, 5000),\n",
        "                     max_depth = c(2,5,8),\n",
        "                     min_rows = c(8,10, 12),\n",
        "                     learn_rate = c(0.001,0.05,0.06),\n",
        "                     sample_rate = c(0.4,0.5,0.6, 0.7),\n",
        "                     col_sample_rate = c(0.4,0.5,0.6),\n",
        "                     col_sample_rate_per_tree = c(0.4,0.5,0.6))\n",
        "\n",
        "# GBM Hyper-parameters Search Criteria\n",
        "GBM_search_criteria <- list(strategy = \"RandomDiscrete\",\n",
        "                        max_models = 20,\n",
        "                        max_runtime_secs = 100,\n",
        "                        stopping_tolerance = 0.001,\n",
        "                        stopping_rounds = 2,\n",
        "                        seed = 42)\n",
        "\n",
        "# GBM Hyper-parameters Grid Search\n",
        "GBM_grid <- h2o.grid(\n",
        "                  algorithm=\"gbm\",\n",
        "                  grid_id = \"GBM_grid_ID\",\n",
        "                  x= x,\n",
        "                  y = y,\n",
        "                  training_frame = h_train,\n",
        "                  #validation_frame = h_valid,\n",
        "                  distribution =\"AUTO\",\n",
        "                  stopping_metric = \"RMSE\",\n",
        "                  #fold_assignment =\"Stratified\",\n",
        "                  nfolds=5,\n",
        "                  keep_cross_validation_predictions = TRUE,\n",
        "                  keep_cross_validation_models = TRUE,\n",
        "                  hyper_params = GBM_hyper_params,\n",
        "                  search_criteria = GBM_search_criteria,\n",
        "                  seed = 42)\n",
        "\n",
        "# Number GBM models\n",
        "length(GBM_grid@model_ids)\n",
        "\n",
        "# Get GBM Grid parameters\n",
        "GBM_get_grid <- h2o.getGrid(\"GBM_grid_ID\",\n",
        "                           sort_by=\"RMSE\",\n",
        "                           decreasing=F)\n",
        "#  the Best GBM Model\n",
        "best_GBM <- h2o.getModel(GBM_get_grid@model_ids[[1]])\n",
        "best_GBM"
      ],
      "metadata": {
        "colab": {
          "base_uri": "https://localhost:8080/",
          "height": 920
        },
        "id": "8jN_3Yq6qqfH",
        "outputId": "6575e12e-c6bf-438d-ad61-b690f8b077ef"
      },
      "execution_count": 15,
      "outputs": [
        {
          "output_type": "display_data",
          "data": {
            "text/html": [
              "4"
            ],
            "text/markdown": "4",
            "text/latex": "4",
            "text/plain": [
              "[1] 4"
            ]
          },
          "metadata": {}
        },
        {
          "output_type": "display_data",
          "data": {
            "text/plain": [
              "Model Details:\n",
              "==============\n",
              "\n",
              "H2ORegressionModel: gbm\n",
              "Model ID:  GBM_grid_ID_model_2 \n",
              "Model Summary: \n",
              "  number_of_trees number_of_internal_trees model_size_in_bytes min_depth\n",
              "1             273                      273               93355         8\n",
              "  max_depth mean_depth min_leaves max_leaves mean_leaves\n",
              "1         8    8.00000          9         36    22.43590\n",
              "\n",
              "\n",
              "H2ORegressionMetrics: gbm\n",
              "** Reported on training data. **\n",
              "\n",
              "MSE:  1.621173\n",
              "RMSE:  1.273253\n",
              "MAE:  0.8083403\n",
              "RMSLE:  0.2259199\n",
              "Mean Residual Deviance :  1.621173\n",
              "\n",
              "\n",
              "\n",
              "H2ORegressionMetrics: gbm\n",
              "** Reported on cross-validation data. **\n",
              "** 5-fold cross-validation on training data (Metrics computed for combined holdout predictions) **\n",
              "\n",
              "MSE:  4.858496\n",
              "RMSE:  2.2042\n",
              "MAE:  1.276915\n",
              "RMSLE:  0.3410892\n",
              "Mean Residual Deviance :  4.858496\n",
              "\n",
              "\n",
              "Cross-Validation Metrics Summary: \n",
              "                           mean       sd cv_1_valid cv_2_valid cv_3_valid\n",
              "mae                    1.277527 0.150975   1.228899   1.184375   1.497392\n",
              "mean_residual_deviance 4.863157 1.379857   3.720997   3.779623   5.983263\n",
              "mse                    4.863157 1.379857   3.720997   3.779623   5.983263\n",
              "r2                     0.811052 0.025273   0.828581   0.834647   0.806206\n",
              "residual_deviance      4.863157 1.379857   3.720997   3.779623   5.983263\n",
              "rmse                   2.188119 0.306782   1.928989   1.944125   2.446071\n",
              "rmsle                  0.340381 0.026762   0.351377   0.365074   0.358199\n",
              "                       cv_4_valid cv_5_valid\n",
              "mae                      1.118604   1.358364\n",
              "mean_residual_deviance   4.136956   6.694945\n",
              "mse                      4.136956   6.694945\n",
              "r2                       0.815377   0.770448\n",
              "residual_deviance        4.136956   6.694945\n",
              "rmse                     2.033951   2.587459\n",
              "rmsle                    0.299748   0.327509"
            ]
          },
          "metadata": {}
        }
      ]
    },
    {
      "cell_type": "markdown",
      "source": [
        "4. eXtreme Gradient Boosting (XGBoost)"
      ],
      "metadata": {
        "id": "WXlwwjCkrCjJ"
      }
    },
    {
      "cell_type": "code",
      "source": [
        "# hyper parameters\n",
        "XGBoost_hyper_params = list( ntrees = seq(50,500,50),\n",
        "                     max_depth = seq(1,120,1),\n",
        "                     min_rows = c(1,5,10,20,50,100),\n",
        "                     learn_rate = seq(0.001,0.01,0.001),\n",
        "                     sample_rate = seq(0.3,1,0.05),\n",
        "                     col_sample_rate = seq(0.3,1,0.05),\n",
        "                     col_sample_rate_per_tree = seq(0.3,1,0.05))\n",
        "\n",
        "# Search Criteria\n",
        "XGBoost_search_criteria <- list(strategy = \"RandomDiscrete\",\n",
        "                        max_models = 200,\n",
        "                        max_runtime_secs = 900,\n",
        "                        stopping_tolerance = 0.001,\n",
        "                        stopping_rounds = 2,\n",
        "                        seed = 1345767)\n",
        "# Gird Search\n",
        "XGBoost_grid <- h2o.grid(\n",
        "                  algorithm=\"xgboost\",\n",
        "                  grid_id = \"XGBoost_grid_ID\",\n",
        "                  x= x,\n",
        "                  y = y,\n",
        "                  training_frame = h_train,\n",
        "                  stopping_metric = \"rmse\",\n",
        "                  #fold_assignment =\"Stratified\",\n",
        "                  nfolds=10,\n",
        "                  keep_cross_validation_predictions = TRUE,\n",
        "                  keep_cross_validation_models = TRUE,\n",
        "                  hyper_params = XGBoost_hyper_params,\n",
        "                  search_criteria = XGBoost_search_criteria,\n",
        "                  seed = 42)\n",
        "\n",
        "# Number XGBoost models\n",
        "length(XGBoost_grid@model_ids)\n",
        "\n",
        "# Get XGBoost Grid parameters\n",
        "XGBoost_get_grid <- h2o.getGrid(\"XGBoost_grid_ID\",\n",
        "                           sort_by=\"RMSE\",\n",
        "                           decreasing=F)\n",
        "#  the Best XGBoost Model\n",
        "best_XGBoost <- h2o.getModel(XGBoost_get_grid@model_ids[[1]])\n",
        "best_XGBoost"
      ],
      "metadata": {
        "colab": {
          "base_uri": "https://localhost:8080/",
          "height": 1000
        },
        "id": "XjECmrKGrCrK",
        "outputId": "ac571c75-59c8-4132-c67a-2bd8ce0610df"
      },
      "execution_count": 16,
      "outputs": [
        {
          "output_type": "display_data",
          "data": {
            "text/html": [
              "40"
            ],
            "text/markdown": "40",
            "text/latex": "40",
            "text/plain": [
              "[1] 40"
            ]
          },
          "metadata": {}
        },
        {
          "output_type": "display_data",
          "data": {
            "text/plain": [
              "Model Details:\n",
              "==============\n",
              "\n",
              "H2ORegressionModel: xgboost\n",
              "Model ID:  XGBoost_grid_ID_model_28 \n",
              "Model Summary: \n",
              "  number_of_trees\n",
              "1             450\n",
              "\n",
              "\n",
              "H2ORegressionMetrics: xgboost\n",
              "** Reported on training data. **\n",
              "\n",
              "MSE:  1.16847\n",
              "RMSE:  1.080958\n",
              "MAE:  0.6325956\n",
              "RMSLE:  0.1018772\n",
              "Mean Residual Deviance :  1.16847\n",
              "\n",
              "\n",
              "\n",
              "H2ORegressionMetrics: xgboost\n",
              "** Reported on cross-validation data. **\n",
              "** 10-fold cross-validation on training data (Metrics computed for combined holdout predictions) **\n",
              "\n",
              "MSE:  4.515145\n",
              "RMSE:  2.124887\n",
              "MAE:  1.172908\n",
              "RMSLE:  0.2666398\n",
              "Mean Residual Deviance :  4.515145\n",
              "\n",
              "\n",
              "Cross-Validation Metrics Summary: \n",
              "                           mean       sd cv_1_valid cv_2_valid cv_3_valid\n",
              "mae                    1.171795 0.261801   1.048656   1.002419   1.716432\n",
              "mean_residual_deviance 4.503427 2.305783   3.612036   2.568831   8.180577\n",
              "mse                    4.503427 2.305783   3.612036   2.568831   8.180577\n",
              "r2                     0.826234 0.059529   0.813822   0.901299   0.771599\n",
              "residual_deviance      4.503427 2.305783   3.612036   2.568831   8.180577\n",
              "rmse                   2.062283 0.527482   1.900536   1.602757   2.860171\n",
              "rmsle                  0.262835 0.043316   0.260586   0.297886   0.299218\n",
              "                       cv_4_valid cv_5_valid cv_6_valid cv_7_valid cv_8_valid\n",
              "mae                      0.869109   1.341119   1.115346   1.100816   0.905320\n",
              "mean_residual_deviance   2.254322   7.377939   3.123938   3.221128   2.347588\n",
              "mse                      2.254322   7.377939   3.123938   3.221128   2.347588\n",
              "r2                       0.880561   0.736633   0.864477   0.831153   0.899999\n",
              "residual_deviance        2.254322   7.377939   3.123938   3.221128   2.347588\n",
              "rmse                     1.501440   2.716236   1.767467   1.794750   1.532184\n",
              "rmsle                    0.190570   0.331941   0.208183   0.253567   0.233349\n",
              "                       cv_9_valid cv_10_valid\n",
              "mae                      1.169720    1.449011\n",
              "mean_residual_deviance   5.013461    7.334451\n",
              "mse                      5.013461    7.334451\n",
              "r2                       0.805800    0.756994\n",
              "residual_deviance        5.013461    7.334451\n",
              "rmse                     2.239076    2.708219\n",
              "rmsle                    0.279236    0.273811"
            ]
          },
          "metadata": {}
        }
      ]
    },
    {
      "cell_type": "markdown",
      "source": [
        "5. Deep Neural Network (DNN)"
      ],
      "metadata": {
        "id": "cJIk8UaFskkQ"
      }
    },
    {
      "cell_type": "code",
      "source": [
        "# DNN Hyper-parameters\n",
        "DNN_hyper_params <- list(\n",
        "                     activation = c(\"Rectifier\",\n",
        "                                    \"Maxout\",\n",
        "                                    \"Tanh\",\n",
        "                                    \"RectifierWithDropout\",\n",
        "                                    \"MaxoutWithDropout\",\n",
        "                                    \"TanhWithDropout\"),\n",
        "                     hidden = list( c(50, 50, 50, 50),\n",
        "                                   c(100, 100, 100), c(200, 200, 200)),\n",
        "                     epochs = c(50, 100, 200, 500),\n",
        "                     l1 = c(0, 0.00001, 0.0001),\n",
        "                     l2 = c(0, 0.00001, 0.0001),\n",
        "                     rate = c(0, 01, 0.005, 0.001),\n",
        "                     rate_decay = c(0.5, 1.0, 1.5),\n",
        "                     rate_annealing = c(1e-5, 1e-6, 1e-5),\n",
        "                     rho = c(0.9, 0.95, 0.99, 0.999),\n",
        "                     epsilon = c(1e-06, 1e-08, 1e-09),\n",
        "                     momentum_start = c(0, 0.5),\n",
        "                     momentum_stable = c(0.99, 0.5, 0),\n",
        "                     regression_stop = c(1e-05, 1e-06,1e-07),\n",
        "                     input_dropout_ratio = c(0, 0.0001, 0.001),\n",
        "                     max_w2 = c(10, 100, 1000, 3.4028235e+38)\n",
        "                     )\n",
        "\n",
        "# DNN Hyper-parameters Search criteria\n",
        "DNN_search_criteria <- list(strategy = \"RandomDiscrete\",\n",
        "                        max_models = 100,\n",
        "                        max_runtime_secs = 100,\n",
        "                        stopping_tolerance = 0.001,\n",
        "                        stopping_rounds = 3,\n",
        "                        seed = 1345767)\n",
        "\n",
        "# DNN Hyper-parameters Grid Search\n",
        "DNN_grid <- h2o.grid(\n",
        "                  algorithm=\"deeplearning\",\n",
        "                  grid_id = \"DNN_grid_IDs\",\n",
        "                  x= x,\n",
        "                  y = y,\n",
        "                  standardize = TRUE,\n",
        "                  shuffle_training_data = TRUE,\n",
        "                  training_frame = h_train,\n",
        "                  #validation_frame = h_valid,\n",
        "                  distribution =\"AUTO\",\n",
        "                  stopping_metric = \"RMSE\",\n",
        "                  nfolds= 5,\n",
        "                  keep_cross_validation_predictions = TRUE,\n",
        "                  keep_cross_validation_models = TRUE,\n",
        "                  hyper_params = DNN_hyper_params,\n",
        "                  search_criteria = DNN_search_criteria,\n",
        "                  seed = 42)\n",
        "\n",
        "# Number DNN models\n",
        "length(DNN_grid@model_ids)\n",
        "\n",
        "# Get DNN Grid parameters\n",
        "DNN_get_grid <- h2o.getGrid(\"DNN_grid_IDs\",\n",
        "                           sort_by=\"RMSE\",\n",
        "                           decreasing=F)\n",
        "#The Best DNN model\n",
        "best_DNN <- h2o.getModel(DNN_get_grid@model_ids[[1]])\n",
        "best_DNN"
      ],
      "metadata": {
        "colab": {
          "base_uri": "https://localhost:8080/",
          "height": 1000
        },
        "id": "pKQJvP7BsrIo",
        "outputId": "2af7fcc5-92f9-4fb5-89fd-0b02800dbf3e"
      },
      "execution_count": 17,
      "outputs": [
        {
          "output_type": "display_data",
          "data": {
            "text/html": [
              "3"
            ],
            "text/markdown": "3",
            "text/latex": "3",
            "text/plain": [
              "[1] 3"
            ]
          },
          "metadata": {}
        },
        {
          "output_type": "display_data",
          "data": {
            "text/plain": [
              "Model Details:\n",
              "==============\n",
              "\n",
              "H2ORegressionModel: deeplearning\n",
              "Model ID:  DNN_grid_IDs_model_1 \n",
              "Status of Neuron Layers: predicting SOC, regression, gaussian distribution, Quadratic loss, 22,201 weights/biases, 268.5 KB, 26,965 training samples, mini-batch size 1\n",
              "  layer units        type dropout       l1       l2 mean_rate rate_rms momentum\n",
              "1     1    18       Input  0.10 %       NA       NA        NA       NA       NA\n",
              "2     2   100 TanhDropout 50.00 % 0.000100 0.000010  0.109958 0.306117 0.000000\n",
              "3     3   100 TanhDropout 50.00 % 0.000100 0.000010  0.005655 0.005809 0.000000\n",
              "4     4   100 TanhDropout 50.00 % 0.000100 0.000010  0.010240 0.026693 0.000000\n",
              "5     5     1      Linear      NA 0.000100 0.000010  0.000360 0.000117 0.000000\n",
              "  mean_weight weight_rms mean_bias bias_rms\n",
              "1          NA         NA        NA       NA\n",
              "2    0.000699   0.136715  0.002333 0.057540\n",
              "3    0.000533   0.100516 -0.015051 0.124785\n",
              "4    0.001179   0.096350  0.003299 0.049581\n",
              "5   -0.012108   0.116676 -0.004180 0.000000\n",
              "\n",
              "\n",
              "H2ORegressionMetrics: deeplearning\n",
              "** Reported on training data. **\n",
              "** Metrics reported on full training frame **\n",
              "\n",
              "MSE:  24.06364\n",
              "RMSE:  4.905471\n",
              "MAE:  3.148048\n",
              "RMSLE:  0.5803495\n",
              "Mean Residual Deviance :  24.06364\n",
              "\n",
              "\n",
              "\n",
              "H2ORegressionMetrics: deeplearning\n",
              "** Reported on cross-validation data. **\n",
              "** 5-fold cross-validation on training data (Metrics computed for combined holdout predictions) **\n",
              "\n",
              "MSE:  21.84572\n",
              "RMSE:  4.673941\n",
              "MAE:  3.04102\n",
              "RMSLE:  0.5609241\n",
              "Mean Residual Deviance :  21.84572\n",
              "\n",
              "\n",
              "Cross-Validation Metrics Summary: \n",
              "                            mean       sd cv_1_valid cv_2_valid cv_3_valid\n",
              "mae                     3.042085 0.251743   2.826339   2.913959   3.420655\n",
              "mean_residual_deviance 21.856674 5.202587  17.301508  16.593967  27.776220\n",
              "mse                    21.856674 5.202587  17.301508  16.593967  27.776220\n",
              "r2                      0.145801 0.088992   0.202953   0.274038   0.100345\n",
              "residual_deviance      21.856674 5.202587  17.301508  16.593967  27.776220\n",
              "rmse                    4.648612 0.555748   4.159508   4.073569   5.270315\n",
              "rmsle                   0.560622 0.026134   0.537825   0.588956   0.585466\n",
              "                       cv_4_valid cv_5_valid\n",
              "mae                      2.872063   3.177411\n",
              "mean_residual_deviance  20.874754  26.736921\n",
              "mse                     20.874754  26.736921\n",
              "r2                       0.068409   0.083261\n",
              "residual_deviance       20.874754  26.736921\n",
              "rmse                     4.568890   5.170776\n",
              "rmsle                    0.532575   0.558287"
            ]
          },
          "metadata": {}
        }
      ]
    },
    {
      "cell_type": "markdown",
      "source": [
        "### Stack-Ensemble Model: The Best of Families"
      ],
      "metadata": {
        "id": "uHD6AboYs67R"
      }
    },
    {
      "cell_type": "code",
      "source": [
        "# rf-parameters\n",
        "rf_params <-   list(\n",
        "                    ntrees = 2000,\n",
        "                    max_depth =25,\n",
        "                    sample_rate = 0.8,\n",
        "                    stopping_tolerance = 0.001,\n",
        "                    stopping_rounds = 3,\n",
        "                    stopping_metric = \"RMSE\")\n",
        "\n",
        "\n",
        "stack_best <-h2o.stackedEnsemble(\n",
        "                               model_id = \"stack_RF_ID\",\n",
        "                               x= x,\n",
        "                               y = y,\n",
        "                               training_frame = h_train,\n",
        "                               #validation_frame = h_valid,\n",
        "                               base_models = list(best_GLM,\n",
        "                                                  best_RF,\n",
        "                                                  best_GBM,\n",
        "                                                  best_XGBoost,\n",
        "                                                  best_DNN\n",
        "                                                  ),\n",
        "                               metalearner_algorithm = \"drf\",\n",
        "                               metalearner_params = rf_params,\n",
        "                               metalearner_nfolds = 5,\n",
        "                               seed = 42\n",
        "                               )\n",
        "stack_best"
      ],
      "metadata": {
        "colab": {
          "base_uri": "https://localhost:8080/",
          "height": 1000
        },
        "id": "ZSwg8N2Vs-QP",
        "outputId": "d6e29323-bacf-4839-a6af-e9706c870351"
      },
      "execution_count": 18,
      "outputs": [
        {
          "output_type": "display_data",
          "data": {
            "text/plain": [
              "Model Details:\n",
              "==============\n",
              "\n",
              "H2ORegressionModel: stackedensemble\n",
              "Model ID:  stack_RF_ID \n",
              "Model Summary for Stacked Ensemble: \n",
              "                                         key\n",
              "1                          Stacking strategy\n",
              "2       Number of base models (used / total)\n",
              "3           # GBM base models (used / total)\n",
              "4       # XGBoost base models (used / total)\n",
              "5           # GLM base models (used / total)\n",
              "6           # DRF base models (used / total)\n",
              "7  # DeepLearning base models (used / total)\n",
              "8                      Metalearner algorithm\n",
              "9         Metalearner fold assignment scheme\n",
              "10                        Metalearner nfolds\n",
              "11                   Metalearner fold_column\n",
              "12        Custom metalearner hyperparameters\n",
              "                                                                                                                                                                  value\n",
              "1                                                                                                                                                      cross_validation\n",
              "2                                                                                                                                                                   5/5\n",
              "3                                                                                                                                                                   1/1\n",
              "4                                                                                                                                                                   1/1\n",
              "5                                                                                                                                                                   1/1\n",
              "6                                                                                                                                                                   1/1\n",
              "7                                                                                                                                                                   1/1\n",
              "8                                                                                                                                                                   DRF\n",
              "9                                                                                                                                                                Random\n",
              "10                                                                                                                                                                    5\n",
              "11                                                                                                                                                                   NA\n",
              "12 {\\n  \"ntrees\": [2000],\\n  \"max_depth\": [25],\\n  \"sample_rate\": [0.8],\\n  \"stopping_tolerance\": [0.001],\\n  \"stopping_rounds\": [3],\\n  \"stopping_metric\": [\"RMSE\"]\\n}\n",
              "\n",
              "\n",
              "H2ORegressionMetrics: stackedensemble\n",
              "** Reported on training data. **\n",
              "\n",
              "MSE:  0.5576984\n",
              "RMSE:  0.7467921\n",
              "MAE:  0.4596624\n",
              "RMSLE:  0.1129774\n",
              "Mean Residual Deviance :  0.5576984\n",
              "\n",
              "\n",
              "\n",
              "H2ORegressionMetrics: stackedensemble\n",
              "** Reported on cross-validation data. **\n",
              "** 5-fold cross-validation on training data (Metrics computed for combined holdout predictions) **\n",
              "\n",
              "MSE:  4.344865\n",
              "RMSE:  2.084434\n",
              "MAE:  1.144824\n",
              "RMSLE:  0.2955848\n",
              "Mean Residual Deviance :  4.344865\n",
              "\n",
              "\n",
              "Cross-Validation Metrics Summary: \n",
              "                           mean       sd cv_1_valid cv_2_valid cv_3_valid\n",
              "mae                    1.143788 0.167894   1.049764   1.038238   1.211058\n",
              "mean_residual_deviance 4.359623 1.863585   3.283460   2.858197   4.635140\n",
              "mse                    4.359623 1.863585   3.283460   2.858197   4.635140\n",
              "r2                     0.831810 0.050912   0.848737   0.874958   0.849871\n",
              "residual_deviance      4.359623 1.863585   3.283460   2.858197   4.635140\n",
              "rmse                   2.054483 0.416413   1.812032   1.690620   2.152937\n",
              "rmsle                  0.293985 0.032992   0.279302   0.307044   0.281493\n",
              "                       cv_4_valid cv_5_valid\n",
              "mae                      1.010573   1.409307\n",
              "mean_residual_deviance   3.541684   7.479631\n",
              "mse                      3.541684   7.479631\n",
              "r2                       0.841943   0.743543\n",
              "residual_deviance        3.541684   7.479631\n",
              "rmse                     1.881936   2.734891\n",
              "rmsle                    0.257961   0.344125"
            ]
          },
          "metadata": {}
        }
      ]
    },
    {
      "cell_type": "markdown",
      "source": [
        "#### Prediction"
      ],
      "metadata": {
        "id": "aeCfqIb_6XVr"
      }
    },
    {
      "cell_type": "code",
      "source": [
        "stack.test.best<-as.data.frame(h2o.predict(object = stack_best, newdata = h_test))\n",
        "test.xy$Stack_SOC_best<-stack.test.best$predict"
      ],
      "metadata": {
        "id": "Rx4LoCNh6XeX"
      },
      "execution_count": 19,
      "outputs": []
    },
    {
      "cell_type": "code",
      "source": [
        "RMSE.best<- Metrics::rmse(test.xy$SOC, test.xy$Stack_SOC_best)\n",
        "MAE.best<- Metrics::mae(test.xy$SOC, test.xy$Stack_SOC_best)\n",
        "\n",
        "# Print results\n",
        "paste0(\"RMSE: \", round(RMSE.best,2))\n",
        "paste0(\"MAE: \", round(MAE.best,2))"
      ],
      "metadata": {
        "colab": {
          "base_uri": "https://localhost:8080/",
          "height": 52
        },
        "id": "nkvgrfbgGVl7",
        "outputId": "f0b892ac-ff7f-4a4b-8b93-0cf43e4b083c"
      },
      "execution_count": 20,
      "outputs": [
        {
          "output_type": "display_data",
          "data": {
            "text/html": [
              "'RMSE: 2.99'"
            ],
            "text/markdown": "'RMSE: 2.99'",
            "text/latex": "'RMSE: 2.99'",
            "text/plain": [
              "[1] \"RMSE: 2.99\""
            ]
          },
          "metadata": {}
        },
        {
          "output_type": "display_data",
          "data": {
            "text/html": [
              "'MAE: 2.1'"
            ],
            "text/markdown": "'MAE: 2.1'",
            "text/latex": "'MAE: 2.1'",
            "text/plain": [
              "[1] \"MAE: 2.1\""
            ]
          },
          "metadata": {}
        }
      ]
    },
    {
      "cell_type": "code",
      "source": [
        "ggplot(test.xy, aes(SOC,Stack_SOC_best)) +\n",
        "  geom_point() +\n",
        "  geom_smooth(method = \"lm\")+\n",
        "  ggtitle(\"Stack-Ensemble: The Best of Family\") +\n",
        "  xlab(\"Observed\") + ylab(\"Predicted\") +\n",
        "  scale_x_continuous(limits=c(0,25), breaks=seq(0, 25, 5))+\n",
        "  scale_y_continuous(limits=c(0,25), breaks=seq(0, 25, 5)) +\n",
        "  # Flip the bars\n",
        "  theme(\n",
        "    panel.background = element_rect(fill = \"grey95\",colour = \"gray75\",size = 0.5, linetype = \"solid\"),\n",
        "    axis.line = element_line(colour = \"grey\"),\n",
        "    plot.title = element_text(size = 14, hjust = 0.5),\n",
        "    axis.title.x = element_text(size = 14),\n",
        "    axis.title.y = element_text(size = 14),\n",
        "    axis.text.x=element_text(size=13, colour=\"black\"),\n",
        "    axis.text.y=element_text(size=13,angle = 90,vjust = 0.5, hjust=0.5, colour='black'))"
      ],
      "metadata": {
        "colab": {
          "base_uri": "https://localhost:8080/",
          "height": 576
        },
        "id": "DVYEKi3c6dND",
        "outputId": "41166917-c480-44c9-875f-386eec2609a5"
      },
      "execution_count": 21,
      "outputs": [
        {
          "output_type": "stream",
          "name": "stderr",
          "text": [
            "Warning message:\n",
            "“\u001b[1m\u001b[22mThe `size` argument of `element_rect()` is deprecated as of ggplot2 3.4.0.\n",
            "\u001b[36mℹ\u001b[39m Please use the `linewidth` argument instead.”\n",
            "\u001b[1m\u001b[22m`geom_smooth()` using formula = 'y ~ x'\n",
            "Warning message:\n",
            "“\u001b[1m\u001b[22mRemoved 1 rows containing non-finite values (`stat_smooth()`).”\n",
            "Warning message:\n",
            "“\u001b[1m\u001b[22mRemoved 1 rows containing missing values (`geom_point()`).”\n"
          ]
        },
        {
          "output_type": "display_data",
          "data": {
            "text/plain": [
              "plot without title"
            ],
            "image/png": "[encoded data removed]"
          },
          "metadata": {
            "image/png": {
              "width": 420,
              "height": 420
            }
          }
        }
      ]
    },
    {
      "cell_type": "markdown",
      "source": [
        "### Stack-Ensemble Model - All Models"
      ],
      "metadata": {
        "id": "PNYWW4MX6i0L"
      }
    },
    {
      "cell_type": "code",
      "source": [
        "all_01 = append(GLM_grid@model_ids, RF_grid@model_ids)\n",
        "all_02<-append(all_01, XGBoost_grid@model_ids)\n",
        "all_03<-append(all_02,DNN_grid@model_ids)\n",
        "all_04<-append(all_03,GBM_grid@model_ids)\n",
        "length(all_04)"
      ],
      "metadata": {
        "colab": {
          "base_uri": "https://localhost:8080/",
          "height": 34
        },
        "id": "GRXk6oGU6i8R",
        "outputId": "a854ab34-c669-4943-dc1e-dc29c81c2a55"
      },
      "execution_count": 22,
      "outputs": [
        {
          "output_type": "display_data",
          "data": {
            "text/html": [
              "91"
            ],
            "text/markdown": "91",
            "text/latex": "91",
            "text/plain": [
              "[1] 91"
            ]
          },
          "metadata": {}
        }
      ]
    },
    {
      "cell_type": "code",
      "source": [
        "stack_all<- h2o.stackedEnsemble(\n",
        "                               model_id = \"stack_Model_ALL_IDs\",\n",
        "                               x= x,\n",
        "                               y = y,\n",
        "                               training_frame = h_train,\n",
        "                               base_models = all_04,\n",
        "                               metalearner_algorithm = \"drf\",\n",
        "                               metalearner_nfolds = 5,\n",
        "                               metalearner_params = rf_params,\n",
        "                               keep_levelone_frame = TRUE,\n",
        "                               seed=123)\n",
        "stack_all"
      ],
      "metadata": {
        "colab": {
          "base_uri": "https://localhost:8080/",
          "height": 1000
        },
        "id": "rCGJkqzC7H_S",
        "outputId": "b22512c7-aa27-462b-b36b-74c26f81376a"
      },
      "execution_count": 23,
      "outputs": [
        {
          "output_type": "display_data",
          "data": {
            "text/plain": [
              "Model Details:\n",
              "==============\n",
              "\n",
              "H2ORegressionModel: stackedensemble\n",
              "Model ID:  stack_Model_ALL_IDs \n",
              "Model Summary for Stacked Ensemble: \n",
              "                                         key\n",
              "1                          Stacking strategy\n",
              "2       Number of base models (used / total)\n",
              "3           # GBM base models (used / total)\n",
              "4       # XGBoost base models (used / total)\n",
              "5           # GLM base models (used / total)\n",
              "6           # DRF base models (used / total)\n",
              "7  # DeepLearning base models (used / total)\n",
              "8                      Metalearner algorithm\n",
              "9         Metalearner fold assignment scheme\n",
              "10                        Metalearner nfolds\n",
              "11                   Metalearner fold_column\n",
              "12        Custom metalearner hyperparameters\n",
              "                                                                                                                                                                  value\n",
              "1                                                                                                                                                      cross_validation\n",
              "2                                                                                                                                                                 91/91\n",
              "3                                                                                                                                                                   4/4\n",
              "4                                                                                                                                                                 40/40\n",
              "5                                                                                                                                                                 40/40\n",
              "6                                                                                                                                                                   4/4\n",
              "7                                                                                                                                                                   3/3\n",
              "8                                                                                                                                                                   DRF\n",
              "9                                                                                                                                                                Random\n",
              "10                                                                                                                                                                    5\n",
              "11                                                                                                                                                                   NA\n",
              "12 {\\n  \"ntrees\": [2000],\\n  \"max_depth\": [25],\\n  \"sample_rate\": [0.8],\\n  \"stopping_tolerance\": [0.001],\\n  \"stopping_rounds\": [3],\\n  \"stopping_metric\": [\"RMSE\"]\\n}\n",
              "\n",
              "\n",
              "H2ORegressionMetrics: stackedensemble\n",
              "** Reported on training data. **\n",
              "\n",
              "MSE:  0.392212\n",
              "RMSE:  0.6262683\n",
              "MAE:  0.3902316\n",
              "RMSLE:  0.08739038\n",
              "Mean Residual Deviance :  0.392212\n",
              "\n",
              "\n",
              "\n",
              "H2ORegressionMetrics: stackedensemble\n",
              "** Reported on cross-validation data. **\n",
              "** 5-fold cross-validation on training data (Metrics computed for combined holdout predictions) **\n",
              "\n",
              "MSE:  3.186193\n",
              "RMSE:  1.784991\n",
              "MAE:  0.8623539\n",
              "RMSLE:  0.2456302\n",
              "Mean Residual Deviance :  3.186193\n",
              "\n",
              "\n",
              "Cross-Validation Metrics Summary: \n",
              "                           mean       sd cv_1_valid cv_2_valid cv_3_valid\n",
              "mae                    0.857911 0.122070   0.794150   0.719603   0.883585\n",
              "mean_residual_deviance 3.190141 1.199642   2.081751   2.743938   2.853415\n",
              "mse                    3.190141 1.199642   2.081751   2.743938   2.853415\n",
              "r2                     0.873618 0.050709   0.910322   0.900051   0.899272\n",
              "residual_deviance      3.190141 1.199642   2.081751   2.743938   2.853415\n",
              "rmse                   1.763790 0.314615   1.442827   1.656484   1.689205\n",
              "rmsle                  0.245444 0.016436   0.253106   0.247529   0.222826\n",
              "                       cv_4_valid cv_5_valid\n",
              "mae                      0.845629   1.046589\n",
              "mean_residual_deviance   3.034205   5.237393\n",
              "mse                      3.034205   5.237393\n",
              "r2                       0.871883   0.786563\n",
              "residual_deviance        3.034205   5.237393\n",
              "rmse                     1.741897   2.288535\n",
              "rmsle                    0.237332   0.266425"
            ]
          },
          "metadata": {}
        }
      ]
    },
    {
      "cell_type": "markdown",
      "source": [
        "##### Prediction"
      ],
      "metadata": {
        "id": "2j3xyhCw7UZl"
      }
    },
    {
      "cell_type": "code",
      "source": [
        "stack.test.all<-as.data.frame(h2o.predict(object = stack_all, newdata = h_test))\n",
        "test.xy$Stack_SOC_all<-stack.test.all$predict"
      ],
      "metadata": {
        "id": "Opt7Mr7Q7Uld"
      },
      "execution_count": 24,
      "outputs": []
    },
    {
      "cell_type": "code",
      "source": [
        "RMSE.all<- Metrics::rmse(test.xy$SOC, test.xy$Stack_SOC_all)\n",
        "MAE.all<- Metrics::mae(test.xy$SOC, test.xy$Stack_SOC_all)\n",
        "\n",
        "# Print results\n",
        "paste0(\"RMSE: \", round(RMSE.all,2))\n",
        "paste0(\"MAE: \", round(MAE.all,2))"
      ],
      "metadata": {
        "colab": {
          "base_uri": "https://localhost:8080/",
          "height": 52
        },
        "id": "AiGbmPujF59B",
        "outputId": "d2f7b3e5-a1e2-4cb9-9453-49f1c567659a"
      },
      "execution_count": 25,
      "outputs": [
        {
          "output_type": "display_data",
          "data": {
            "text/html": [
              "'RMSE: 3.1'"
            ],
            "text/markdown": "'RMSE: 3.1'",
            "text/latex": "'RMSE: 3.1'",
            "text/plain": [
              "[1] \"RMSE: 3.1\""
            ]
          },
          "metadata": {}
        },
        {
          "output_type": "display_data",
          "data": {
            "text/html": [
              "'MAE: 2.15'"
            ],
            "text/markdown": "'MAE: 2.15'",
            "text/latex": "'MAE: 2.15'",
            "text/plain": [
              "[1] \"MAE: 2.15\""
            ]
          },
          "metadata": {}
        }
      ]
    },
    {
      "cell_type": "code",
      "source": [
        "\n",
        "ggplot(test.xy, aes(SOC,Stack_SOC_all)) +\n",
        "  geom_point() +\n",
        "  geom_smooth(method = \"lm\")+\n",
        "  ggtitle(\"Stack-Ensemble: All Models\") +\n",
        "  xlab(\"Observed\") + ylab(\"Predicted\") +\n",
        "  scale_x_continuous(limits=c(0,25), breaks=seq(0, 25, 5))+\n",
        "  scale_y_continuous(limits=c(0,25), breaks=seq(0, 25, 5)) +\n",
        "  # Flip the bars\n",
        "  theme(\n",
        "    panel.background = element_rect(fill = \"grey95\",colour = \"gray75\",size = 0.5, linetype = \"solid\"),\n",
        "    axis.line = element_line(colour = \"grey\"),\n",
        "    plot.title = element_text(size = 14, hjust = 0.5),\n",
        "    axis.title.x = element_text(size = 14),\n",
        "    axis.title.y = element_text(size = 14),\n",
        "    axis.text.x=element_text(size=13, colour=\"black\"),\n",
        "    axis.text.y=element_text(size=13,angle = 90,vjust = 0.5, hjust=0.5, colour='black'))"
      ],
      "metadata": {
        "colab": {
          "base_uri": "https://localhost:8080/",
          "height": 524
        },
        "id": "bMhRkqwT7cvU",
        "outputId": "8eac015a-7f39-4c9c-e826-e19ea33f182b"
      },
      "execution_count": 26,
      "outputs": [
        {
          "output_type": "stream",
          "name": "stderr",
          "text": [
            "\u001b[1m\u001b[22m`geom_smooth()` using formula = 'y ~ x'\n",
            "Warning message:\n",
            "“\u001b[1m\u001b[22mRemoved 1 rows containing non-finite values (`stat_smooth()`).”\n",
            "Warning message:\n",
            "“\u001b[1m\u001b[22mRemoved 1 rows containing missing values (`geom_point()`).”\n"
          ]
        },
        {
          "output_type": "display_data",
          "data": {
            "text/plain": [
              "plot without title"
            ],
            "image/png": "[encoded data removed]"
          },
          "metadata": {
            "image/png": {
              "width": 420,
              "height": 420
            }
          }
        }
      ]
    },
    {
      "cell_type": "markdown",
      "source": [
        "#"
      ],
      "metadata": {
        "id": "PXB5AOmTpzZP"
      }
    }
  ]
}