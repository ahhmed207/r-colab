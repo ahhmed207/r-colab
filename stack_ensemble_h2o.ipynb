{
  "nbformat": 4,
  "nbformat_minor": 0,
  "metadata": {
    "colab": {
      "provenance": [],
      "gpuType": "T4",
      "authorship_tag": "ABX9TyPfq4aUk0Tx1R7LTSVYwanq",
      "include_colab_link": true
    },
    "kernelspec": {
      "name": "ir",
      "display_name": "R"
    },
    "language_info": {
      "name": "R"
    },
    "accelerator": "GPU"
  },
  "cells": [
    {
      "cell_type": "markdown",
      "metadata": {
        "id": "view-in-github",
        "colab_type": "text"
      },
      "source": [
        "<a href=\"https://colab.research.google.com/github/zia207/r-colab/blob/main/stack_ensemble_h2o.ipynb\" target=\"_parent\"><img src=\"https://colab.research.google.com/assets/colab-badge.svg\" alt=\"Open In Colab\"/></a>"
      ]
    },
    {
      "cell_type": "markdown",
      "source": [
        "# Stack-Ensemble Model with H20\n",
        "\n",
        "H2O\\'s Stacked Ensemble method is a supervised ensemble machine learning algorithm that finds the optimal combination of a collection of prediction algorithms using a process called stacking. Like all supervised models in H2O, Stacked Ensemeble supports regression, binary classification, and multiclass classification.\n",
        "\n",
        "To create stacked ensembles with H2O in R, you can follow these general steps:\n",
        "\n",
        "1.   **Set up the Ensemble:** Specify a list of L base algorithms (with a specific set of model parameters) and specify a metalearning algorithm\n",
        "\n",
        "2.   **Grid Search**: Find the best base model for each L-base algorithms using hyperprameter grid search\n",
        "\n",
        "3.  **Train L-base models** : Perform k-fold cross-validation on each of these learners and collect the cross-validated predicted values from each of the L algorithms.\n",
        "\n",
        "4.   **Prediction**: The N cross-validated predicted values from each of the L algorithms can be combined to form a new N x L matrix. This matrix, along with the original response vector, is called the \\\"level-one\\\" data. (N = number of rows in the training set.\n",
        "\n",
        "5.  T**rain with the Metalearner**: Train the metalearning algorithm on the level-one data. The \\\"ensemble model\\\" consists of the L base learning models and the metalearning model, which can then be used to generate predictions on a test set.\n",
        "\n",
        "6.   **Predict with the stacked ensemble**: Once the stack ensemble is trained, you can use it to make predictions on new, unseen data.\n",
        "\n",
        "7.  **Shutdown the H2O cluster**: After you have finished using H2O, it's good practice to shut down the H2O cluster by running **`h2o.shutdown()`**.\n"
      ],
      "metadata": {
        "id": "-lNUT13vjnqE"
      }
    },
    {
      "cell_type": "markdown",
      "source": [
        "### Install h20, Tidymodesl and Metrics"
      ],
      "metadata": {
        "id": "dnGk9jUgjyCP"
      }
    },
    {
      "cell_type": "code",
      "execution_count": 5,
      "metadata": {
        "colab": {
          "base_uri": "https://localhost:8080/"
        },
        "id": "W66HtIxrjdZH",
        "outputId": "a1cb4238-40b1-4bcd-9281-29ea4a0311a0"
      },
      "outputs": [
        {
          "output_type": "stream",
          "name": "stderr",
          "text": [
            "Installing package into ‘/usr/local/lib/R/site-library’\n",
            "(as ‘lib’ is unspecified)\n",
            "\n",
            "also installing the dependencies ‘bitops’, ‘RCurl’\n",
            "\n",
            "\n",
            "Installing package into ‘/usr/local/lib/R/site-library’\n",
            "(as ‘lib’ is unspecified)\n",
            "\n",
            "also installing the dependencies ‘shape’, ‘future.apply’, ‘numDeriv’, ‘progressr’, ‘SQUAREM’, ‘Rcpp’, ‘diagram’, ‘lava’, ‘listenv’, ‘parallelly’, ‘prodlim’, ‘future’, ‘warp’, ‘iterators’, ‘lhs’, ‘DiceDesign’, ‘patchwork’, ‘globals’, ‘clock’, ‘gower’, ‘ipred’, ‘timeDate’, ‘furrr’, ‘slider’, ‘foreach’, ‘GPfit’, ‘modelenv’, ‘dials’, ‘hardhat’, ‘infer’, ‘modeldata’, ‘parsnip’, ‘recipes’, ‘rsample’, ‘tune’, ‘workflows’, ‘workflowsets’, ‘yardstick’\n",
            "\n",
            "\n",
            "Installing package into ‘/usr/local/lib/R/site-library’\n",
            "(as ‘lib’ is unspecified)\n",
            "\n"
          ]
        }
      ],
      "source": [
        "install.packages(\"h2o\")\n",
        "install.packages(\"tidymodels\")\n",
        "install.packages(\"Metrics\")"
      ]
    },
    {
      "cell_type": "markdown",
      "source": [
        "### Load Packages"
      ],
      "metadata": {
        "id": "99f3OBtFn8UP"
      }
    },
    {
      "cell_type": "code",
      "source": [
        "library(tidyverse)\n",
        "library(tidymodels)\n",
        "library(Metrics)"
      ],
      "metadata": {
        "colab": {
          "base_uri": "https://localhost:8080/"
        },
        "id": "8qjCM-3Nn8dm",
        "outputId": "45785343-787f-4722-a0cb-244c8b0153f6"
      },
      "execution_count": 3,
      "outputs": [
        {
          "output_type": "stream",
          "name": "stderr",
          "text": [
            "── \u001b[1mAttaching core tidyverse packages\u001b[22m ──────────────────────── tidyverse 2.0.0 ──\n",
            "\u001b[32m✔\u001b[39m \u001b[34mdplyr    \u001b[39m 1.1.2     \u001b[32m✔\u001b[39m \u001b[34mreadr    \u001b[39m 2.1.4\n",
            "\u001b[32m✔\u001b[39m \u001b[34mforcats  \u001b[39m 1.0.0     \u001b[32m✔\u001b[39m \u001b[34mstringr  \u001b[39m 1.5.0\n",
            "\u001b[32m✔\u001b[39m \u001b[34mggplot2  \u001b[39m 3.4.2     \u001b[32m✔\u001b[39m \u001b[34mtibble   \u001b[39m 3.2.1\n",
            "\u001b[32m✔\u001b[39m \u001b[34mlubridate\u001b[39m 1.9.2     \u001b[32m✔\u001b[39m \u001b[34mtidyr    \u001b[39m 1.3.0\n",
            "\u001b[32m✔\u001b[39m \u001b[34mpurrr    \u001b[39m 1.0.1     \n",
            "── \u001b[1mConflicts\u001b[22m ────────────────────────────────────────── tidyverse_conflicts() ──\n",
            "\u001b[31m✖\u001b[39m \u001b[34mdplyr\u001b[39m::\u001b[32mfilter()\u001b[39m masks \u001b[34mstats\u001b[39m::filter()\n",
            "\u001b[31m✖\u001b[39m \u001b[34mdplyr\u001b[39m::\u001b[32mlag()\u001b[39m    masks \u001b[34mstats\u001b[39m::lag()\n",
            "\u001b[36mℹ\u001b[39m Use the conflicted package (\u001b[3m\u001b[34m<http://conflicted.r-lib.org/>\u001b[39m\u001b[23m) to force all conflicts to become errors\n",
            "── \u001b[1mAttaching packages\u001b[22m ────────────────────────────────────── tidymodels 1.1.0 ──\n",
            "\n",
            "\u001b[32m✔\u001b[39m \u001b[34mbroom       \u001b[39m 1.0.5     \u001b[32m✔\u001b[39m \u001b[34mrsample     \u001b[39m 1.1.1\n",
            "\u001b[32m✔\u001b[39m \u001b[34mdials       \u001b[39m 1.2.0     \u001b[32m✔\u001b[39m \u001b[34mtune        \u001b[39m 1.1.1\n",
            "\u001b[32m✔\u001b[39m \u001b[34minfer       \u001b[39m 1.0.4     \u001b[32m✔\u001b[39m \u001b[34mworkflows   \u001b[39m 1.1.3\n",
            "\u001b[32m✔\u001b[39m \u001b[34mmodeldata   \u001b[39m 1.1.0     \u001b[32m✔\u001b[39m \u001b[34mworkflowsets\u001b[39m 1.0.1\n",
            "\u001b[32m✔\u001b[39m \u001b[34mparsnip     \u001b[39m 1.1.0     \u001b[32m✔\u001b[39m \u001b[34myardstick   \u001b[39m 1.2.0\n",
            "\u001b[32m✔\u001b[39m \u001b[34mrecipes     \u001b[39m 1.0.6     \n",
            "\n",
            "── \u001b[1mConflicts\u001b[22m ───────────────────────────────────────── tidymodels_conflicts() ──\n",
            "\u001b[31m✖\u001b[39m \u001b[34mscales\u001b[39m::\u001b[32mdiscard()\u001b[39m masks \u001b[34mpurrr\u001b[39m::discard()\n",
            "\u001b[31m✖\u001b[39m \u001b[34mdplyr\u001b[39m::\u001b[32mfilter()\u001b[39m   masks \u001b[34mstats\u001b[39m::filter()\n",
            "\u001b[31m✖\u001b[39m \u001b[34mrecipes\u001b[39m::\u001b[32mfixed()\u001b[39m  masks \u001b[34mstringr\u001b[39m::fixed()\n",
            "\u001b[31m✖\u001b[39m \u001b[34mdplyr\u001b[39m::\u001b[32mlag()\u001b[39m      masks \u001b[34mstats\u001b[39m::lag()\n",
            "\u001b[31m✖\u001b[39m \u001b[34myardstick\u001b[39m::\u001b[32mspec()\u001b[39m masks \u001b[34mreadr\u001b[39m::spec()\n",
            "\u001b[31m✖\u001b[39m \u001b[34mrecipes\u001b[39m::\u001b[32mstep()\u001b[39m   masks \u001b[34mstats\u001b[39m::step()\n",
            "\u001b[34m•\u001b[39m Learn how to get started at \u001b[32mhttps://www.tidymodels.org/start/\u001b[39m\n",
            "\n",
            "\n",
            "Attaching package: ‘Metrics’\n",
            "\n",
            "\n",
            "The following objects are masked from ‘package:yardstick’:\n",
            "\n",
            "    accuracy, mae, mape, mase, precision, recall, rmse, smape\n",
            "\n",
            "\n"
          ]
        }
      ]
    },
    {
      "cell_type": "markdown",
      "source": [
        "### Data"
      ],
      "metadata": {
        "id": "6mrRDSl_oH65"
      }
    },
    {
      "cell_type": "code",
      "source": [
        "mf<-read_csv(\"/content/sample_data/gp_soil_data_syn.csv\")\n",
        "# Create a data-frame\n",
        "df<-mf %>% dplyr::select(SOC, DEM, Slope, TPI,MAT, MAP,NDVI, NLCD, FRG)%>%\n",
        "    glimpse()"
      ],
      "metadata": {
        "colab": {
          "base_uri": "https://localhost:8080/"
        },
        "id": "PlPLgTKNoIGs",
        "outputId": "51b5d994-3b95-4318-95f0-6ea5f4dcfbd2"
      },
      "execution_count": 4,
      "outputs": [
        {
          "output_type": "stream",
          "name": "stderr",
          "text": [
            "\u001b[1mRows: \u001b[22m\u001b[34m1408\u001b[39m \u001b[1mColumns: \u001b[22m\u001b[34m10\u001b[39m\n",
            "\u001b[36m──\u001b[39m \u001b[1mColumn specification\u001b[22m \u001b[36m────────────────────────────────────────────────────────\u001b[39m\n",
            "\u001b[1mDelimiter:\u001b[22m \",\"\n",
            "\u001b[31mchr\u001b[39m (2): NLCD, FRG\n",
            "\u001b[32mdbl\u001b[39m (8): ID, SOC, DEM, Slope, TPI, MAP, MAT, NDVI\n",
            "\n",
            "\u001b[36mℹ\u001b[39m Use `spec()` to retrieve the full column specification for this data.\n",
            "\u001b[36mℹ\u001b[39m Specify the column types or set `show_col_types = FALSE` to quiet this message.\n"
          ]
        },
        {
          "output_type": "stream",
          "name": "stdout",
          "text": [
            "Rows: 1,408\n",
            "Columns: 9\n",
            "$ SOC   \u001b[3m\u001b[90m<dbl>\u001b[39m\u001b[23m 1.900, 2.644, 0.800, 0.736, 15.641, 8.818, 3.782, 6.641, 4.803, …\n",
            "$ DEM   \u001b[3m\u001b[90m<dbl>\u001b[39m\u001b[23m 2825.1111, 2535.1086, 1716.3300, 1649.8933, 2675.3113, 2581.4839…\n",
            "$ Slope \u001b[3m\u001b[90m<dbl>\u001b[39m\u001b[23m 18.981682, 14.182393, 1.585145, 9.399726, 12.569353, 6.358553, 1…\n",
            "$ TPI   \u001b[3m\u001b[90m<dbl>\u001b[39m\u001b[23m -0.91606224, -0.15259802, -0.39078590, -2.54008722, 7.40076303, …\n",
            "$ MAT   \u001b[3m\u001b[90m<dbl>\u001b[39m\u001b[23m 4.709227, 4.648000, 6.360833, 10.265385, 2.798550, 6.358550, 7.0…\n",
            "$ MAP   \u001b[3m\u001b[90m<dbl>\u001b[39m\u001b[23m 613.6979, 597.7912, 201.5091, 298.2608, 827.4680, 679.1392, 508.…\n",
            "$ NDVI  \u001b[3m\u001b[90m<dbl>\u001b[39m\u001b[23m 0.6845260, 0.7557631, 0.2215059, 0.2785148, 0.7337426, 0.7017139…\n",
            "$ NLCD  \u001b[3m\u001b[90m<chr>\u001b[39m\u001b[23m \"Forest\", \"Forest\", \"Shrubland\", \"Shrubland\", \"Forest\", \"Forest\"…\n",
            "$ FRG   \u001b[3m\u001b[90m<chr>\u001b[39m\u001b[23m \"Fire Regime Group IV\", \"Fire Regime Group IV\", \"Fire Regime Gro…\n"
          ]
        }
      ]
    },
    {
      "cell_type": "markdown",
      "source": [
        "### Data Preprocessing"
      ],
      "metadata": {
        "id": "IQRmzXvrovem"
      }
    },
    {
      "cell_type": "markdown",
      "source": [
        "#### Convert to factor"
      ],
      "metadata": {
        "id": "Rexb4lAKodqN"
      }
    },
    {
      "cell_type": "code",
      "source": [
        "df$NLCD <- as.factor(df$NLCD)\n",
        "df$FRG <- as.factor(df$FRG)"
      ],
      "metadata": {
        "id": "Pcl7TMJVodzJ"
      },
      "execution_count": 5,
      "outputs": []
    },
    {
      "cell_type": "markdown",
      "source": [
        "#### Data Split"
      ],
      "metadata": {
        "id": "mKL1OQtEokVs"
      }
    },
    {
      "cell_type": "code",
      "source": [
        "set.seed(1245)   # for reproducibility\n",
        "split_01 <- initial_split(df, prop = 0.8, strata = SOC)\n",
        "train <- split_01 %>% training()\n",
        "test <-  split_01 %>% testing()"
      ],
      "metadata": {
        "id": "bsHc8ujsokcx"
      },
      "execution_count": 6,
      "outputs": []
    },
    {
      "cell_type": "markdown",
      "source": [
        "#### Scaling"
      ],
      "metadata": {
        "id": "hJY1Lxf3o_Sx"
      }
    },
    {
      "cell_type": "code",
      "source": [
        "train[-c(1, 8,9)] = scale(train[-c(1,8,9)])\n",
        "test[-c(1, 8,9)] = scale(test[-c(1,8,9)])"
      ],
      "metadata": {
        "id": "7c8bgcJSotHW"
      },
      "execution_count": 7,
      "outputs": []
    },
    {
      "cell_type": "markdown",
      "source": [
        "### Import h2o"
      ],
      "metadata": {
        "id": "aH6ofrhGpFub"
      }
    },
    {
      "cell_type": "code",
      "source": [
        "library(h2o)\n",
        "h2o.init()\n",
        "#disable progress bar for RMarkdown\n",
        "h2o.no_progress()\n",
        "# Optional: remove anything from previous session\n",
        "h2o.removeAll()"
      ],
      "metadata": {
        "colab": {
          "base_uri": "https://localhost:8080/"
        },
        "id": "LxbZ5vVGo97E",
        "outputId": "1e811e65-876a-4381-913c-31488bd0351a"
      },
      "execution_count": 8,
      "outputs": [
        {
          "output_type": "stream",
          "name": "stderr",
          "text": [
            "\n",
            "----------------------------------------------------------------------\n",
            "\n",
            "Your next step is to start H2O:\n",
            "    > h2o.init()\n",
            "\n",
            "For H2O package documentation, ask for help:\n",
            "    > ??h2o\n",
            "\n",
            "After starting H2O, you can use the Web UI at http://localhost:54321\n",
            "For more information visit https://docs.h2o.ai\n",
            "\n",
            "----------------------------------------------------------------------\n",
            "\n",
            "\n",
            "\n",
            "Attaching package: ‘h2o’\n",
            "\n",
            "\n",
            "The following objects are masked from ‘package:lubridate’:\n",
            "\n",
            "    day, hour, month, week, year\n",
            "\n",
            "\n",
            "The following objects are masked from ‘package:stats’:\n",
            "\n",
            "    cor, sd, var\n",
            "\n",
            "\n",
            "The following objects are masked from ‘package:base’:\n",
            "\n",
            "    &&, %*%, %in%, ||, apply, as.factor, as.numeric, colnames,\n",
            "    colnames<-, ifelse, is.character, is.factor, is.numeric, log,\n",
            "    log10, log1p, log2, round, signif, trunc\n",
            "\n",
            "\n"
          ]
        },
        {
          "output_type": "stream",
          "name": "stdout",
          "text": [
            " Connection successful!\n",
            "\n",
            "R is connected to the H2O cluster: \n",
            "    H2O cluster uptime:         34 minutes 4 seconds \n",
            "    H2O cluster timezone:       Etc/UTC \n",
            "    H2O data parsing timezone:  UTC \n",
            "    H2O cluster version:        3.40.0.4 \n",
            "    H2O cluster version age:    2 months and 22 days \n",
            "    H2O cluster name:           H2O_started_from_R_root_yqz807 \n",
            "    H2O cluster total nodes:    1 \n",
            "    H2O cluster total memory:   1.46 GB \n",
            "    H2O cluster total cores:    2 \n",
            "    H2O cluster allowed cores:  2 \n",
            "    H2O cluster healthy:        TRUE \n",
            "    H2O Connection ip:          localhost \n",
            "    H2O Connection port:        54321 \n",
            "    H2O Connection proxy:       NA \n",
            "    H2O Internal Security:      FALSE \n",
            "    R Version:                  R version 4.3.1 (2023-06-16) \n",
            "\n"
          ]
        }
      ]
    },
    {
      "cell_type": "markdown",
      "source": [
        "### Import data to h2o cluster"
      ],
      "metadata": {
        "id": "OTs-7M6upTD0"
      }
    },
    {
      "cell_type": "code",
      "source": [
        "h_df=as.h2o(df)\n",
        "h_train = as.h2o(train)\n",
        "h_test = as.h2o(test)"
      ],
      "metadata": {
        "id": "2c9Uy8dxpTL_"
      },
      "execution_count": 9,
      "outputs": []
    },
    {
      "cell_type": "code",
      "source": [
        "train.xy<- as.data.frame(h_train)\n",
        "test.xy<- as.data.frame(h_test)"
      ],
      "metadata": {
        "id": "zOgbacsmpdv4"
      },
      "execution_count": 10,
      "outputs": []
    },
    {
      "cell_type": "markdown",
      "source": [
        "### Define response and predictors"
      ],
      "metadata": {
        "id": "EPNkErcYpiLG"
      }
    },
    {
      "cell_type": "code",
      "source": [
        "y <- \"SOC\"\n",
        "x <- setdiff(names(h_df), y)"
      ],
      "metadata": {
        "id": "0vqDqO2LpiSg"
      },
      "execution_count": 11,
      "outputs": []
    },
    {
      "cell_type": "markdown",
      "source": [
        "### Train Base-Learners with Grid Search"
      ],
      "metadata": {
        "id": "rDmlftMGppVw"
      }
    },
    {
      "cell_type": "markdown",
      "source": [
        "1. Generalized Linear Models (GLM)"
      ],
      "metadata": {
        "id": "NswWX0PtpttC"
      }
    },
    {
      "cell_type": "code",
      "source": [
        "# GLM Hyperprameter\n",
        "glm_hyper_params <-list(\n",
        "             alpha = c(0,0.25,0.5,0.75,1),\n",
        "             lambda = c(1, 0.5, 0.1, 0.01, 0.001, 0.0001, 0.00001, 0))\n",
        "\n",
        "# GLM Hyperprameter Grid Search\n",
        "GLM_grid <- h2o.grid(\n",
        "                  algorithm=\"glm\",\n",
        "                  grid_id = \"glm_grid_IDs\",\n",
        "                  x= x,\n",
        "                  y = y,\n",
        "                  training_frame = h_train,\n",
        "                  #validation_frame = h_valid,\n",
        "                  standardize = TRUE,\n",
        "                  nfolds=5,\n",
        "                  keep_cross_validation_predictions = TRUE,\n",
        "                  hyper_params = glm_hyper_params,\n",
        "                  seed = 42)\n",
        "\n",
        "# Get GLM Grid parameters\n",
        "glm_get_grid <- h2o.getGrid(\"glm_grid_IDs\",sort_by=\"RMSE\",decreasing=FALSE)\n",
        "glm_get_grid@summary_table[1,]\n",
        "\n",
        "# Number of GLM models\n",
        "length(GLM_grid@model_ids)\n",
        "\n",
        "# The Best GLM Model\n",
        "best_GLM <- h2o.getModel(glm_get_grid@model_ids[[1]])\n",
        "summary(best_GLM)"
      ],
      "metadata": {
        "colab": {
          "base_uri": "https://localhost:8080/",
          "height": 1000
        },
        "id": "ovrZcB5Np_LS",
        "outputId": "2e8bf6ad-1c2a-40a3-cad6-17cb2ec05fea"
      },
      "execution_count": 12,
      "outputs": [
        {
          "output_type": "stream",
          "name": "stderr",
          "text": [
            "Warning message in h2o.getGrid(grid_id = grid_id):\n",
            "“Adding alpha array to hyperparameter runs slower with gridsearch. This is due to the fact that the algo has to run initialization for every alpha value. Setting the alpha array as a model parameter will skip the initialization and run faster overall.”\n",
            "Warning message in h2o.getGrid(\"glm_grid_IDs\", sort_by = \"RMSE\", decreasing = FALSE):\n",
            "“Adding alpha array to hyperparameter runs slower with gridsearch. This is due to the fact that the algo has to run initialization for every alpha value. Setting the alpha array as a model parameter will skip the initialization and run faster overall.”\n"
          ]
        },
        {
          "output_type": "display_data",
          "data": {
            "text/html": [
              "<table class=\"dataframe\">\n",
              "<caption>A H2OTable: 1 × 4</caption>\n",
              "<thead>\n",
              "\t<tr><th></th><th scope=col>alpha</th><th scope=col>lambda</th><th scope=col>model_ids</th><th scope=col>rmse</th></tr>\n",
              "\t<tr><th></th><th scope=col>&lt;chr&gt;</th><th scope=col>&lt;chr&gt;</th><th scope=col>&lt;chr&gt;</th><th scope=col>&lt;dbl&gt;</th></tr>\n",
              "</thead>\n",
              "<tbody>\n",
              "\t<tr><th scope=row>1</th><td>1.0</td><td>0.01</td><td>glm_grid_IDs_model_20</td><td>3.913585</td></tr>\n",
              "</tbody>\n",
              "</table>\n"
            ],
            "text/markdown": "\nA H2OTable: 1 × 4\n\n| <!--/--> | alpha &lt;chr&gt; | lambda &lt;chr&gt; | model_ids &lt;chr&gt; | rmse &lt;dbl&gt; |\n|---|---|---|---|---|\n| 1 | 1.0 | 0.01 | glm_grid_IDs_model_20 | 3.913585 |\n\n",
            "text/latex": "A H2OTable: 1 × 4\n\\begin{tabular}{r|llll}\n  & alpha & lambda & model\\_ids & rmse\\\\\n  & <chr> & <chr> & <chr> & <dbl>\\\\\n\\hline\n\t1 & 1.0 & 0.01 & glm\\_grid\\_IDs\\_model\\_20 & 3.913585\\\\\n\\end{tabular}\n",
            "text/plain": [
              "  alpha lambda model_ids             rmse    \n",
              "1 1.0   0.01   glm_grid_IDs_model_20 3.913585"
            ]
          },
          "metadata": {}
        },
        {
          "output_type": "display_data",
          "data": {
            "text/html": [
              "40"
            ],
            "text/markdown": "40",
            "text/latex": "40",
            "text/plain": [
              "[1] 40"
            ]
          },
          "metadata": {}
        },
        {
          "output_type": "stream",
          "name": "stdout",
          "text": [
            "Model Details:\n",
            "==============\n",
            "\n",
            "H2ORegressionModel: glm\n",
            "Model Key:  glm_grid_IDs_model_20 \n",
            "GLM Model: summary\n",
            "    family     link         regularization number_of_predictors_total\n",
            "1 gaussian identity Lasso (lambda = 0.01 )                         16\n",
            "  number_of_active_predictors number_of_iterations   training_frame\n",
            "1                          11                    1 train_sid_ab4d_3\n",
            "\n",
            "H2ORegressionMetrics: glm\n",
            "** Reported on training data. **\n",
            "\n",
            "MSE:  14.92919\n",
            "RMSE:  3.863831\n",
            "MAE:  2.751655\n",
            "RMSLE:  0.5254711\n",
            "Mean Residual Deviance :  14.92919\n",
            "R^2 :  0.4139503\n",
            "Null Deviance :28684.03\n",
            "Null D.o.F. :1125\n",
            "Residual Deviance :16810.27\n",
            "Residual D.o.F. :1114\n",
            "AIC :6265.386\n",
            "\n",
            "\n",
            "\n",
            "H2ORegressionMetrics: glm\n",
            "** Reported on cross-validation data. **\n",
            "** 5-fold cross-validation on training data (Metrics computed for combined holdout predictions) **\n",
            "\n",
            "MSE:  15.31615\n",
            "RMSE:  3.913585\n",
            "MAE:  2.788419\n",
            "RMSLE:  0.5316645\n",
            "Mean Residual Deviance :  15.31615\n",
            "R^2 :  0.3987602\n",
            "Null Deviance :28740.54\n",
            "Null D.o.F. :1125\n",
            "Residual Deviance :17245.98\n",
            "Residual D.o.F. :1113\n",
            "AIC :6296.2\n",
            "\n",
            "\n",
            "Cross-Validation Metrics Summary: \n",
            "                              mean         sd  cv_1_valid  cv_2_valid\n",
            "mae                       2.789308   0.255133    2.855067    2.636146\n",
            "mean_residual_deviance   15.329986   2.983605   14.603878   13.805466\n",
            "mse                      15.329986   2.983605   14.603878   13.805466\n",
            "null_deviance          5748.108400 943.440400 4927.803000 5173.992700\n",
            "r2                        0.397071   0.055506    0.327227    0.396031\n",
            "residual_deviance      3449.196500 653.329160 3315.080300 3078.619000\n",
            "rmse                      3.900369   0.382600    3.821502    3.715571\n",
            "rmsle                     0.530569   0.042326    0.537976    0.560555\n",
            "                        cv_3_valid  cv_4_valid  cv_5_valid\n",
            "mae                       3.119908    2.451240    2.884181\n",
            "mean_residual_deviance   19.004612   11.598099   17.637875\n",
            "mse                      19.004612   11.598099   17.637875\n",
            "null_deviance          6981.654000 5113.271500 6543.821000\n",
            "r2                        0.384452    0.482404    0.395243\n",
            "residual_deviance      4257.033000 2644.366500 3950.883800\n",
            "rmse                      4.359428    3.405598    4.199747\n",
            "rmsle                     0.562172    0.458434    0.533705\n",
            "\n",
            "Scoring History: \n",
            "            timestamp   duration iterations negative_log_likelihood objective\n",
            "1 2023-07-20 19:26:28  0.000 sec          0             28684.03369  25.47428\n",
            "2 2023-07-20 19:26:28  0.003 sec          1                      NA        NA\n",
            "  training_rmse training_deviance training_mae training_r2\n",
            "1            NA                NA           NA          NA\n",
            "2       3.86383          14.92919      2.75165     0.41395\n",
            "\n",
            "Variable Importances: (Extract with `h2o.varimp`) \n",
            "=================================================\n",
            "\n",
            "Variable Importances: \n",
            "                    variable relative_importance scaled_importance percentage\n",
            "1                       NDVI            1.562609          1.000000   0.209677\n",
            "2   FRG.Fire Regime Group II            1.028139          0.657963   0.137960\n",
            "3                NLCD.Forest            0.971411          0.621660   0.130348\n",
            "4    NLCD.Planted/Cultivated            0.949343          0.607537   0.127386\n",
            "5                        MAP            0.853194          0.546006   0.114485\n",
            "6                        MAT            0.844094          0.540182   0.113264\n",
            "7                      Slope            0.600312          0.384173   0.080552\n",
            "8             NLCD.Shrubland            0.296651          0.189843   0.039806\n",
            "9            NLCD.Herbaceous            0.166346          0.106454   0.022321\n",
            "10 FRG.Fire Regime Group III            0.101744          0.065111   0.013652\n",
            "11                       TPI            0.078622          0.050315   0.010550\n",
            "12   FRG.Fire Regime Group I            0.000000          0.000000   0.000000\n",
            "13  FRG.Fire Regime Group IV            0.000000          0.000000   0.000000\n",
            "14   FRG.Fire Regime Group V            0.000000          0.000000   0.000000\n",
            "15     FRG.Indeterminate FRG            0.000000          0.000000   0.000000\n",
            "16                       DEM            0.000000          0.000000   0.000000\n"
          ]
        }
      ]
    },
    {
      "cell_type": "markdown",
      "source": [
        "2. Random Forest"
      ],
      "metadata": {
        "id": "qXVXKzjyqGQl"
      }
    },
    {
      "cell_type": "code",
      "source": [
        "# RF Hyper-parameters\n",
        "RF_hyper_params <-list(\n",
        "              ntrees  = seq(100, 5000, by = 100),\n",
        "              max_depth=c(10,20,30,40,50),\n",
        "              sample_rate=c(0.7, 0.8, 0.9, 1.0)\n",
        "              )\n",
        "\n",
        "# RF Hyper-parameters Search Criteria\n",
        "RF_search_criteria <- list(strategy = \"RandomDiscrete\",\n",
        "                        max_models = 100,\n",
        "                        max_runtime_secs = 100,\n",
        "                        stopping_tolerance = 0.001,\n",
        "                        stopping_rounds = 2,\n",
        "                        seed = 42)\n",
        "\n",
        "# RF Grid Search\n",
        "RF_grid <- h2o.grid(\n",
        "                  algorithm=\"randomForest\",\n",
        "                  grid_id = \"RF_grid_IDs\",\n",
        "                  x = x,\n",
        "                  y = y,\n",
        "                  training_frame = h_train,\n",
        "                  #validation_frame = h_valid,\n",
        "                  stopping_metric = \"RMSE\",\n",
        "                  #fold_assignment =\"Stratified\",\n",
        "                  nfolds=5,\n",
        "                  keep_cross_validation_predictions = TRUE,\n",
        "                  keep_cross_validation_models = TRUE,\n",
        "                  hyper_params = RF_hyper_params,\n",
        "                  search_criteria = RF_search_criteria,\n",
        "                  seed = 42)\n",
        "\n",
        "# Number RF models\n",
        "length(RF_grid@model_ids)\n",
        "\n",
        "# Get RF Grid parameters\n",
        "RF_get_grid <- h2o.getGrid(\"RF_grid_IDs\",\n",
        "                           sort_by=\"RMSE\",\n",
        "                           decreasing=F)\n",
        "# The Best RF model\n",
        "best_RF <- h2o.getModel(RF_get_grid@model_ids[[1]])\n",
        "best_RF"
      ],
      "metadata": {
        "colab": {
          "base_uri": "https://localhost:8080/",
          "height": 937
        },
        "id": "U2c1r4tkqGau",
        "outputId": "818f23e8-8c50-4fa0-dbd8-0877b0d9e666"
      },
      "execution_count": 13,
      "outputs": [
        {
          "output_type": "display_data",
          "data": {
            "text/html": [
              "4"
            ],
            "text/markdown": "4",
            "text/latex": "4",
            "text/plain": [
              "[1] 4"
            ]
          },
          "metadata": {}
        },
        {
          "output_type": "display_data",
          "data": {
            "text/plain": [
              "Model Details:\n",
              "==============\n",
              "\n",
              "H2ORegressionModel: drf\n",
              "Model ID:  RF_grid_IDs_model_2 \n",
              "Model Summary: \n",
              "  number_of_trees number_of_internal_trees model_size_in_bytes min_depth\n",
              "1             279                      279             1835175        17\n",
              "  max_depth mean_depth min_leaves max_leaves mean_leaves\n",
              "1        28   21.10394        441        584   518.86020\n",
              "\n",
              "\n",
              "H2ORegressionMetrics: drf\n",
              "** Reported on training data. **\n",
              "** Metrics reported on Out-Of-Bag training samples **\n",
              "\n",
              "MSE:  NaN\n",
              "RMSE:  NaN\n",
              "MAE:  NaN\n",
              "RMSLE:  NaN\n",
              "Mean Residual Deviance :  NaN\n",
              "\n",
              "\n",
              "\n",
              "H2ORegressionMetrics: drf\n",
              "** Reported on cross-validation data. **\n",
              "** 5-fold cross-validation on training data (Metrics computed for combined holdout predictions) **\n",
              "\n",
              "MSE:  4.116629\n",
              "RMSE:  2.028948\n",
              "MAE:  0.9291221\n",
              "RMSLE:  0.2994067\n",
              "Mean Residual Deviance :  4.116629\n",
              "\n",
              "\n",
              "Cross-Validation Metrics Summary: \n",
              "                           mean       sd cv_1_valid cv_2_valid cv_3_valid\n",
              "mae                    0.929840 0.163236   0.837595   0.835407   1.047725\n",
              "mean_residual_deviance 4.121204 1.807535   3.068281   2.567709   4.714187\n",
              "mse                    4.121204 1.807535   3.068281   2.567709   4.714187\n",
              "r2                     0.841707 0.048532   0.858650   0.887666   0.847310\n",
              "residual_deviance      4.121204 1.807535   3.068281   2.567709   4.714187\n",
              "rmse                   1.994710 0.421803   1.751651   1.602407   2.171218\n",
              "rmsle                  0.298292 0.031489   0.287107   0.320222   0.303235\n",
              "                       cv_4_valid cv_5_valid\n",
              "mae                      0.773325   1.155146\n",
              "mean_residual_deviance   3.234757   7.021086\n",
              "mse                      3.234757   7.021086\n",
              "r2                       0.855640   0.759265\n",
              "residual_deviance        3.234757   7.021086\n",
              "rmse                     1.798543   2.649733\n",
              "rmsle                    0.250369   0.330529"
            ]
          },
          "metadata": {}
        }
      ]
    },
    {
      "cell_type": "markdown",
      "source": [
        "3. Gradient Boosting Machine (GBM)"
      ],
      "metadata": {
        "id": "UAm33yetqqVt"
      }
    },
    {
      "cell_type": "code",
      "source": [
        "# GBM Hyper-parameters\n",
        "GBM_hyper_params = list( ntrees = c(100,500, 1000, 5000),\n",
        "                     max_depth = c(2,5,8),\n",
        "                     min_rows = c(8,10, 12),\n",
        "                     learn_rate = c(0.001,0.05,0.06),\n",
        "                     sample_rate = c(0.4,0.5,0.6, 0.7),\n",
        "                     col_sample_rate = c(0.4,0.5,0.6),\n",
        "                     col_sample_rate_per_tree = c(0.4,0.5,0.6))\n",
        "\n",
        "# GBM Hyper-parameters Search Criteria\n",
        "GBM_search_criteria <- list(strategy = \"RandomDiscrete\",\n",
        "                        max_models = 20,\n",
        "                        max_runtime_secs = 100,\n",
        "                        stopping_tolerance = 0.001,\n",
        "                        stopping_rounds = 2,\n",
        "                        seed = 42)\n",
        "\n",
        "# GBM Hyper-parameters Grid Search\n",
        "GBM_grid <- h2o.grid(\n",
        "                  algorithm=\"gbm\",\n",
        "                  grid_id = \"GBM_grid_ID\",\n",
        "                  x= x,\n",
        "                  y = y,\n",
        "                  training_frame = h_train,\n",
        "                  #validation_frame = h_valid,\n",
        "                  distribution =\"AUTO\",\n",
        "                  stopping_metric = \"RMSE\",\n",
        "                  #fold_assignment =\"Stratified\",\n",
        "                  nfolds=5,\n",
        "                  keep_cross_validation_predictions = TRUE,\n",
        "                  keep_cross_validation_models = TRUE,\n",
        "                  hyper_params = GBM_hyper_params,\n",
        "                  search_criteria = GBM_search_criteria,\n",
        "                  seed = 42)\n",
        "\n",
        "# Number GBM models\n",
        "length(GBM_grid@model_ids)\n",
        "\n",
        "# Get GBM Grid parameters\n",
        "GBM_get_grid <- h2o.getGrid(\"GBM_grid_ID\",\n",
        "                           sort_by=\"RMSE\",\n",
        "                           decreasing=F)\n",
        "#  the Best GBM Model\n",
        "best_GBM <- h2o.getModel(GBM_get_grid@model_ids[[1]])\n",
        "best_GBM"
      ],
      "metadata": {
        "colab": {
          "base_uri": "https://localhost:8080/",
          "height": 920
        },
        "id": "8jN_3Yq6qqfH",
        "outputId": "eaeebaf4-d8e7-4a93-c85a-7371336176f2"
      },
      "execution_count": 14,
      "outputs": [
        {
          "output_type": "display_data",
          "data": {
            "text/html": [
              "5"
            ],
            "text/markdown": "5",
            "text/latex": "5",
            "text/plain": [
              "[1] 5"
            ]
          },
          "metadata": {}
        },
        {
          "output_type": "display_data",
          "data": {
            "text/plain": [
              "Model Details:\n",
              "==============\n",
              "\n",
              "H2ORegressionModel: gbm\n",
              "Model ID:  GBM_grid_ID_model_2 \n",
              "Model Summary: \n",
              "  number_of_trees number_of_internal_trees model_size_in_bytes min_depth\n",
              "1             500                      500              173839         8\n",
              "  max_depth mean_depth min_leaves max_leaves mean_leaves\n",
              "1         8    8.00000          9         38    22.87000\n",
              "\n",
              "\n",
              "H2ORegressionMetrics: gbm\n",
              "** Reported on training data. **\n",
              "\n",
              "MSE:  0.659616\n",
              "RMSE:  0.8121675\n",
              "MAE:  0.4922951\n",
              "RMSLE:  0.1576149\n",
              "Mean Residual Deviance :  0.659616\n",
              "\n",
              "\n",
              "\n",
              "H2ORegressionMetrics: gbm\n",
              "** Reported on cross-validation data. **\n",
              "** 5-fold cross-validation on training data (Metrics computed for combined holdout predictions) **\n",
              "\n",
              "MSE:  4.825547\n",
              "RMSE:  2.196713\n",
              "MAE:  1.266027\n",
              "RMSLE:  0.3403216\n",
              "Mean Residual Deviance :  4.825547\n",
              "\n",
              "\n",
              "Cross-Validation Metrics Summary: \n",
              "                           mean       sd cv_1_valid cv_2_valid cv_3_valid\n",
              "mae                    1.266569 0.156106   1.219713   1.145380   1.490787\n",
              "mean_residual_deviance 4.830063 1.404197   3.676374   3.681342   5.960697\n",
              "mse                    4.830063 1.404197   3.676374   3.681342   5.960697\n",
              "r2                     0.812469 0.026627   0.830636   0.838947   0.806937\n",
              "residual_deviance      4.830063 1.404197   3.676374   3.681342   5.960697\n",
              "rmse                   2.179787 0.313434   1.917387   1.918682   2.441454\n",
              "rmsle                  0.339653 0.025719   0.355902   0.358243   0.356866\n",
              "                       cv_4_valid cv_5_valid\n",
              "mae                      1.118604   1.358364\n",
              "mean_residual_deviance   4.136956   6.694945\n",
              "mse                      4.136956   6.694945\n",
              "r2                       0.815377   0.770448\n",
              "residual_deviance        4.136956   6.694945\n",
              "rmse                     2.033951   2.587459\n",
              "rmsle                    0.299748   0.327509"
            ]
          },
          "metadata": {}
        }
      ]
    },
    {
      "cell_type": "markdown",
      "source": [
        "4. eXtreme Gradient Boosting (XGBoost)"
      ],
      "metadata": {
        "id": "WXlwwjCkrCjJ"
      }
    },
    {
      "cell_type": "code",
      "source": [
        "# hyper parameters\n",
        "XGBoost_hyper_params = list( ntrees = seq(50,500,50),\n",
        "                     max_depth = seq(1,120,1),\n",
        "                     min_rows = c(1,5,10,20,50,100),\n",
        "                     learn_rate = seq(0.001,0.01,0.001),\n",
        "                     sample_rate = seq(0.3,1,0.05),\n",
        "                     col_sample_rate = seq(0.3,1,0.05),\n",
        "                     col_sample_rate_per_tree = seq(0.3,1,0.05))\n",
        "\n",
        "# Search Criteria\n",
        "XGBoost_search_criteria <- list(strategy = \"RandomDiscrete\",\n",
        "                        max_models = 200,\n",
        "                        max_runtime_secs = 900,\n",
        "                        stopping_tolerance = 0.001,\n",
        "                        stopping_rounds = 2,\n",
        "                        seed = 1345767)\n",
        "# Gird Search\n",
        "XGBoost_grid <- h2o.grid(\n",
        "                  algorithm=\"xgboost\",\n",
        "                  grid_id = \"XGBoost_grid_ID\",\n",
        "                  x= x,\n",
        "                  y = y,\n",
        "                  training_frame = h_train,\n",
        "                  stopping_metric = \"rmse\",\n",
        "                  #fold_assignment =\"Stratified\",\n",
        "                  nfolds=10,\n",
        "                  keep_cross_validation_predictions = TRUE,\n",
        "                  keep_cross_validation_models = TRUE,\n",
        "                  hyper_params = XGBoost_hyper_params,\n",
        "                  search_criteria = XGBoost_search_criteria,\n",
        "                  seed = 42)\n",
        "\n",
        "# Number XGBoost models\n",
        "length(XGBoost_grid@model_ids)\n",
        "\n",
        "# Get XGBoost Grid parameters\n",
        "XGBoost_get_grid <- h2o.getGrid(\"XGBoost_grid_ID\",\n",
        "                           sort_by=\"RMSE\",\n",
        "                           decreasing=F)\n",
        "#  the Best XGBoost Model\n",
        "best_XGBoost <- h2o.getModel(XGBoost_get_grid@model_ids[[1]])\n",
        "best_XGBoost"
      ],
      "metadata": {
        "colab": {
          "base_uri": "https://localhost:8080/",
          "height": 1000
        },
        "id": "XjECmrKGrCrK",
        "outputId": "7f8e66a2-b9d4-4c8c-8c64-db5e56cc0df5"
      },
      "execution_count": 16,
      "outputs": [
        {
          "output_type": "display_data",
          "data": {
            "text/html": [
              "39"
            ],
            "text/markdown": "39",
            "text/latex": "39",
            "text/plain": [
              "[1] 39"
            ]
          },
          "metadata": {}
        },
        {
          "output_type": "display_data",
          "data": {
            "text/plain": [
              "Model Details:\n",
              "==============\n",
              "\n",
              "H2ORegressionModel: xgboost\n",
              "Model ID:  XGBoost_grid_ID_model_28 \n",
              "Model Summary: \n",
              "  number_of_trees\n",
              "1             450\n",
              "\n",
              "\n",
              "H2ORegressionMetrics: xgboost\n",
              "** Reported on training data. **\n",
              "\n",
              "MSE:  1.16847\n",
              "RMSE:  1.080958\n",
              "MAE:  0.6325956\n",
              "RMSLE:  0.1018772\n",
              "Mean Residual Deviance :  1.16847\n",
              "\n",
              "\n",
              "\n",
              "H2ORegressionMetrics: xgboost\n",
              "** Reported on cross-validation data. **\n",
              "** 10-fold cross-validation on training data (Metrics computed for combined holdout predictions) **\n",
              "\n",
              "MSE:  4.515145\n",
              "RMSE:  2.124887\n",
              "MAE:  1.172908\n",
              "RMSLE:  0.2666398\n",
              "Mean Residual Deviance :  4.515145\n",
              "\n",
              "\n",
              "Cross-Validation Metrics Summary: \n",
              "                           mean       sd cv_1_valid cv_2_valid cv_3_valid\n",
              "mae                    1.171795 0.261801   1.048656   1.002419   1.716432\n",
              "mean_residual_deviance 4.503427 2.305783   3.612036   2.568831   8.180577\n",
              "mse                    4.503427 2.305783   3.612036   2.568831   8.180577\n",
              "r2                     0.826234 0.059529   0.813822   0.901299   0.771599\n",
              "residual_deviance      4.503427 2.305783   3.612036   2.568831   8.180577\n",
              "rmse                   2.062283 0.527482   1.900536   1.602757   2.860171\n",
              "rmsle                  0.262835 0.043316   0.260586   0.297886   0.299218\n",
              "                       cv_4_valid cv_5_valid cv_6_valid cv_7_valid cv_8_valid\n",
              "mae                      0.869109   1.341119   1.115346   1.100816   0.905320\n",
              "mean_residual_deviance   2.254322   7.377939   3.123938   3.221128   2.347588\n",
              "mse                      2.254322   7.377939   3.123938   3.221128   2.347588\n",
              "r2                       0.880561   0.736633   0.864477   0.831153   0.899999\n",
              "residual_deviance        2.254322   7.377939   3.123938   3.221128   2.347588\n",
              "rmse                     1.501440   2.716236   1.767467   1.794750   1.532184\n",
              "rmsle                    0.190570   0.331941   0.208183   0.253567   0.233349\n",
              "                       cv_9_valid cv_10_valid\n",
              "mae                      1.169720    1.449011\n",
              "mean_residual_deviance   5.013461    7.334451\n",
              "mse                      5.013461    7.334451\n",
              "r2                       0.805800    0.756994\n",
              "residual_deviance        5.013461    7.334451\n",
              "rmse                     2.239076    2.708219\n",
              "rmsle                    0.279236    0.273811"
            ]
          },
          "metadata": {}
        }
      ]
    },
    {
      "cell_type": "markdown",
      "source": [
        "5. Deep Neural Network (DNN)"
      ],
      "metadata": {
        "id": "cJIk8UaFskkQ"
      }
    },
    {
      "cell_type": "code",
      "source": [
        "# DNN Hyper-parameters\n",
        "DNN_hyper_params <- list(\n",
        "                     activation = c(\"Rectifier\",\n",
        "                                    \"Maxout\",\n",
        "                                    \"Tanh\",\n",
        "                                    \"RectifierWithDropout\",\n",
        "                                    \"MaxoutWithDropout\",\n",
        "                                    \"TanhWithDropout\"),\n",
        "                     hidden = list( c(50, 50, 50, 50),\n",
        "                                   c(100, 100, 100), c(200, 200, 200)),\n",
        "                     epochs = c(50, 100, 200, 500),\n",
        "                     l1 = c(0, 0.00001, 0.0001),\n",
        "                     l2 = c(0, 0.00001, 0.0001),\n",
        "                     rate = c(0, 01, 0.005, 0.001),\n",
        "                     rate_decay = c(0.5, 1.0, 1.5),\n",
        "                     rate_annealing = c(1e-5, 1e-6, 1e-5),\n",
        "                     rho = c(0.9, 0.95, 0.99, 0.999),\n",
        "                     epsilon = c(1e-06, 1e-08, 1e-09),\n",
        "                     momentum_start = c(0, 0.5),\n",
        "                     momentum_stable = c(0.99, 0.5, 0),\n",
        "                     regression_stop = c(1e-05, 1e-06,1e-07),\n",
        "                     input_dropout_ratio = c(0, 0.0001, 0.001),\n",
        "                     max_w2 = c(10, 100, 1000, 3.4028235e+38)\n",
        "                     )\n",
        "\n",
        "# DNN Hyper-parameters Search criteria\n",
        "DNN_search_criteria <- list(strategy = \"RandomDiscrete\",\n",
        "                        max_models = 100,\n",
        "                        max_runtime_secs = 100,\n",
        "                        stopping_tolerance = 0.001,\n",
        "                        stopping_rounds = 3,\n",
        "                        seed = 1345767)\n",
        "\n",
        "# DNN Hyper-parameters Grid Search\n",
        "DNN_grid <- h2o.grid(\n",
        "                  algorithm=\"deeplearning\",\n",
        "                  grid_id = \"DNN_grid_IDs\",\n",
        "                  x= x,\n",
        "                  y = y,\n",
        "                  standardize = TRUE,\n",
        "                  shuffle_training_data = TRUE,\n",
        "                  training_frame = h_train,\n",
        "                  #validation_frame = h_valid,\n",
        "                  distribution =\"AUTO\",\n",
        "                  stopping_metric = \"RMSE\",\n",
        "                  nfolds= 5,\n",
        "                  keep_cross_validation_predictions = TRUE,\n",
        "                  keep_cross_validation_models = TRUE,\n",
        "                  hyper_params = DNN_hyper_params,\n",
        "                  search_criteria = DNN_search_criteria,\n",
        "                  seed = 42)\n",
        "\n",
        "# Number DNN models\n",
        "length(DNN_grid@model_ids)\n",
        "\n",
        "# Get DNN Grid parameters\n",
        "DNN_get_grid <- h2o.getGrid(\"DNN_grid_IDs\",\n",
        "                           sort_by=\"RMSE\",\n",
        "                           decreasing=F)\n",
        "#The Best DNN model\n",
        "best_DNN <- h2o.getModel(DNN_get_grid@model_ids[[1]])\n",
        "best_DNN"
      ],
      "metadata": {
        "colab": {
          "base_uri": "https://localhost:8080/",
          "height": 1000
        },
        "id": "pKQJvP7BsrIo",
        "outputId": "162b309b-e174-4975-c75b-efdbb59987a0"
      },
      "execution_count": 17,
      "outputs": [
        {
          "output_type": "display_data",
          "data": {
            "text/html": [
              "3"
            ],
            "text/markdown": "3",
            "text/latex": "3",
            "text/plain": [
              "[1] 3"
            ]
          },
          "metadata": {}
        },
        {
          "output_type": "display_data",
          "data": {
            "text/plain": [
              "Model Details:\n",
              "==============\n",
              "\n",
              "H2ORegressionModel: deeplearning\n",
              "Model ID:  DNN_grid_IDs_model_3 \n",
              "Status of Neuron Layers: predicting SOC, regression, gaussian distribution, Quadratic loss, 22,201 weights/biases, 268.4 KB, 5,907 training samples, mini-batch size 1\n",
              "  layer units   type dropout       l1       l2 mean_rate rate_rms momentum\n",
              "1     1    18  Input  0.01 %       NA       NA        NA       NA       NA\n",
              "2     2   100   Tanh  0.00 % 0.000100 0.000100  0.119056 0.313768 0.000000\n",
              "3     3   100   Tanh  0.00 % 0.000100 0.000100  0.044643 0.037435 0.000000\n",
              "4     4   100   Tanh  0.00 % 0.000100 0.000100  0.067329 0.131441 0.000000\n",
              "5     5     1 Linear      NA 0.000100 0.000100  0.002716 0.003534 0.000000\n",
              "  mean_weight weight_rms mean_bias bias_rms\n",
              "1          NA         NA        NA       NA\n",
              "2   -0.000240   0.126686 -0.000747 0.023537\n",
              "3    0.000490   0.094781 -0.004765 0.031683\n",
              "4    0.001115   0.093151 -0.000306 0.013157\n",
              "5   -0.012945   0.125941 -0.012012 0.000000\n",
              "\n",
              "\n",
              "H2ORegressionMetrics: deeplearning\n",
              "** Reported on training data. **\n",
              "** Metrics reported on full training frame **\n",
              "\n",
              "MSE:  25.44407\n",
              "RMSE:  5.044211\n",
              "MAE:  3.508261\n",
              "RMSLE:  0.6674037\n",
              "Mean Residual Deviance :  25.44407\n",
              "\n",
              "\n",
              "\n",
              "H2ORegressionMetrics: deeplearning\n",
              "** Reported on cross-validation data. **\n",
              "** 5-fold cross-validation on training data (Metrics computed for combined holdout predictions) **\n",
              "\n",
              "MSE:  31.10288\n",
              "RMSE:  5.576995\n",
              "MAE:  3.78597\n",
              "RMSLE:  0.7798495\n",
              "Mean Residual Deviance :  31.10288\n",
              "\n",
              "\n",
              "Cross-Validation Metrics Summary: \n",
              "                            mean        sd cv_1_valid cv_2_valid cv_3_valid\n",
              "mae                     3.789191  0.645852   3.136592   4.296440   4.641911\n",
              "mean_residual_deviance 31.170010 11.287027  19.427986  38.094254  46.897934\n",
              "mse                    31.170010 11.287027  19.427986  38.094254  46.897934\n",
              "r2                     -0.215965  0.350770   0.104990  -0.666569  -0.518996\n",
              "residual_deviance      31.170010 11.287027  19.427986  38.094254  46.897934\n",
              "rmse                    5.510742  1.001083   4.407719   6.172054   6.848206\n",
              "rmsle                   0.762406  0.188805   0.606232   1.005839   0.925246\n",
              "                       cv_4_valid cv_5_valid\n",
              "mae                      3.498744   3.372269\n",
              "mean_residual_deviance  22.809391  28.620485\n",
              "mse                     22.809391  28.620485\n",
              "r2                      -0.017930   0.018678\n",
              "residual_deviance       22.809391  28.620485\n",
              "rmse                     4.775918   5.349812\n",
              "rmsle                    0.661310   0.613401"
            ]
          },
          "metadata": {}
        }
      ]
    },
    {
      "cell_type": "markdown",
      "source": [
        "### Stack-Ensemble Model: The Best of Families"
      ],
      "metadata": {
        "id": "uHD6AboYs67R"
      }
    },
    {
      "cell_type": "code",
      "source": [
        "# rf-parameters\n",
        "rf_params <-   list(\n",
        "                    ntrees = 2000,\n",
        "                    max_depth =25,\n",
        "                    sample_rate = 0.8,\n",
        "                    stopping_tolerance = 0.001,\n",
        "                    stopping_rounds = 3,\n",
        "                    stopping_metric = \"RMSE\")\n",
        "\n",
        "\n",
        "stack_best <-h2o.stackedEnsemble(\n",
        "                               model_id = \"stack_RF_ID\",\n",
        "                               x= x,\n",
        "                               y = y,\n",
        "                               training_frame = h_train,\n",
        "                               #validation_frame = h_valid,\n",
        "                               base_models = list(best_GLM,\n",
        "                                                  best_RF,\n",
        "                                                  best_GBM,\n",
        "                                                  best_XGBoost,\n",
        "                                                  best_DNN\n",
        "                                                  ),\n",
        "                               metalearner_algorithm = \"drf\",\n",
        "                               metalearner_params = rf_params,\n",
        "                               metalearner_nfolds = 5,\n",
        "                               seed = 42\n",
        "                               )\n",
        "stack_best"
      ],
      "metadata": {
        "colab": {
          "base_uri": "https://localhost:8080/",
          "height": 1000
        },
        "id": "ZSwg8N2Vs-QP",
        "outputId": "a33fad6d-56fb-43f9-ba8b-27d12ac3aec6"
      },
      "execution_count": 21,
      "outputs": [
        {
          "output_type": "display_data",
          "data": {
            "text/plain": [
              "Model Details:\n",
              "==============\n",
              "\n",
              "H2ORegressionModel: stackedensemble\n",
              "Model ID:  stack_RF_ID \n",
              "Model Summary for Stacked Ensemble: \n",
              "                                         key\n",
              "1                          Stacking strategy\n",
              "2       Number of base models (used / total)\n",
              "3           # GBM base models (used / total)\n",
              "4       # XGBoost base models (used / total)\n",
              "5           # GLM base models (used / total)\n",
              "6           # DRF base models (used / total)\n",
              "7  # DeepLearning base models (used / total)\n",
              "8                      Metalearner algorithm\n",
              "9         Metalearner fold assignment scheme\n",
              "10                        Metalearner nfolds\n",
              "11                   Metalearner fold_column\n",
              "12        Custom metalearner hyperparameters\n",
              "                                                                                                                                                                  value\n",
              "1                                                                                                                                                      cross_validation\n",
              "2                                                                                                                                                                   5/5\n",
              "3                                                                                                                                                                   1/1\n",
              "4                                                                                                                                                                   1/1\n",
              "5                                                                                                                                                                   1/1\n",
              "6                                                                                                                                                                   1/1\n",
              "7                                                                                                                                                                   1/1\n",
              "8                                                                                                                                                                   DRF\n",
              "9                                                                                                                                                                Random\n",
              "10                                                                                                                                                                    5\n",
              "11                                                                                                                                                                   NA\n",
              "12 {\\n  \"ntrees\": [2000],\\n  \"max_depth\": [25],\\n  \"sample_rate\": [0.8],\\n  \"stopping_tolerance\": [0.001],\\n  \"stopping_rounds\": [3],\\n  \"stopping_metric\": [\"RMSE\"]\\n}\n",
              "\n",
              "\n",
              "H2ORegressionMetrics: stackedensemble\n",
              "** Reported on training data. **\n",
              "\n",
              "MSE:  0.3696339\n",
              "RMSE:  0.6079753\n",
              "MAE:  0.3718332\n",
              "RMSLE:  0.09241875\n",
              "Mean Residual Deviance :  0.3696339\n",
              "\n",
              "\n",
              "\n",
              "H2ORegressionMetrics: stackedensemble\n",
              "** Reported on cross-validation data. **\n",
              "** 5-fold cross-validation on training data (Metrics computed for combined holdout predictions) **\n",
              "\n",
              "MSE:  4.038846\n",
              "RMSE:  2.009688\n",
              "MAE:  1.085714\n",
              "RMSLE:  0.287314\n",
              "Mean Residual Deviance :  4.038846\n",
              "\n",
              "\n",
              "Cross-Validation Metrics Summary: \n",
              "                           mean       sd cv_1_valid cv_2_valid cv_3_valid\n",
              "mae                    1.094986 0.156728   1.096372   0.933045   1.245690\n",
              "mean_residual_deviance 4.120229 1.696469   3.321492   2.284930   4.873519\n",
              "mse                    4.120229 1.696469   3.321492   2.284930   4.873519\n",
              "r2                     0.841288 0.045815   0.846985   0.900038   0.842150\n",
              "residual_deviance      4.120229 1.696469   3.321492   2.284930   4.873519\n",
              "rmse                   1.996440 0.409964   1.822496   1.511598   2.207605\n",
              "rmsle                  0.288763 0.019394   0.270874   0.290302   0.293629\n",
              "                       cv_4_valid cv_5_valid\n",
              "mae                      0.942961   1.256864\n",
              "mean_residual_deviance   3.452860   6.668345\n",
              "mse                      3.452860   6.668345\n",
              "r2                       0.845907   0.771360\n",
              "residual_deviance        3.452860   6.668345\n",
              "rmse                     1.858187   2.582314\n",
              "rmsle                    0.271132   0.317876"
            ]
          },
          "metadata": {}
        }
      ]
    },
    {
      "cell_type": "markdown",
      "source": [
        "#### Prediction"
      ],
      "metadata": {
        "id": "aeCfqIb_6XVr"
      }
    },
    {
      "cell_type": "code",
      "source": [
        "stack.test.best<-as.data.frame(h2o.predict(object = stack_best, newdata = h_test))\n",
        "test.xy$Stack_SOC_best<-stack.test.best$predict"
      ],
      "metadata": {
        "id": "Rx4LoCNh6XeX"
      },
      "execution_count": 22,
      "outputs": []
    },
    {
      "cell_type": "code",
      "source": [
        "ggplot(test.xy, aes(SOC,Stack_SOC_best)) +\n",
        "  geom_point() +\n",
        "  geom_smooth(method = \"lm\")+\n",
        "  ggtitle(\"Stack-Ensemble: The Best of Family\") +\n",
        "  xlab(\"Observed\") + ylab(\"Predicted\") +\n",
        "  scale_x_continuous(limits=c(0,25), breaks=seq(0, 25, 5))+\n",
        "  scale_y_continuous(limits=c(0,25), breaks=seq(0, 25, 5)) +\n",
        "  # Flip the bars\n",
        "  theme(\n",
        "    panel.background = element_rect(fill = \"grey95\",colour = \"gray75\",size = 0.5, linetype = \"solid\"),\n",
        "    axis.line = element_line(colour = \"grey\"),\n",
        "    plot.title = element_text(size = 14, hjust = 0.5),\n",
        "    axis.title.x = element_text(size = 14),\n",
        "    axis.title.y = element_text(size = 14),\n",
        "    axis.text.x=element_text(size=13, colour=\"black\"),\n",
        "    axis.text.y=element_text(size=13,angle = 90,vjust = 0.5, hjust=0.5, colour='black'))"
      ],
      "metadata": {
        "colab": {
          "base_uri": "https://localhost:8080/",
          "height": 576
        },
        "id": "DVYEKi3c6dND",
        "outputId": "605df256-921a-4bdc-b770-09fb62b69bc8"
      },
      "execution_count": 23,
      "outputs": [
        {
          "output_type": "stream",
          "name": "stderr",
          "text": [
            "Warning message:\n",
            "“\u001b[1m\u001b[22mThe `size` argument of `element_rect()` is deprecated as of ggplot2 3.4.0.\n",
            "\u001b[36mℹ\u001b[39m Please use the `linewidth` argument instead.”\n",
            "\u001b[1m\u001b[22m`geom_smooth()` using formula = 'y ~ x'\n",
            "Warning message:\n",
            "“\u001b[1m\u001b[22mRemoved 1 rows containing non-finite values (`stat_smooth()`).”\n",
            "Warning message:\n",
            "“\u001b[1m\u001b[22mRemoved 1 rows containing missing values (`geom_point()`).”\n"
          ]
        },
        {
          "output_type": "display_data",
          "data": {
            "text/plain": [
              "plot without title"
            ],
            "image/png": "[encoded data removed]"
          },
          "metadata": {
            "image/png": {
              "width": 420,
              "height": 420
            }
          }
        }
      ]
    },
    {
      "cell_type": "markdown",
      "source": [
        "### Stack-Ensemble Model - All Models"
      ],
      "metadata": {
        "id": "PNYWW4MX6i0L"
      }
    },
    {
      "cell_type": "code",
      "source": [
        "all_01 = append(GLM_grid@model_ids, RF_grid@model_ids)\n",
        "all_02<-append(all_01, XGBoost_grid@model_ids)\n",
        "all_03<-append(all_02,DNN_grid@model_ids)\n",
        "all_04<-append(all_03,GBM_grid@model_ids)\n",
        "length(all_04)"
      ],
      "metadata": {
        "colab": {
          "base_uri": "https://localhost:8080/",
          "height": 34
        },
        "id": "GRXk6oGU6i8R",
        "outputId": "17b75080-8e38-40b8-905b-f1faf7b6bdf2"
      },
      "execution_count": 24,
      "outputs": [
        {
          "output_type": "display_data",
          "data": {
            "text/html": [
              "91"
            ],
            "text/markdown": "91",
            "text/latex": "91",
            "text/plain": [
              "[1] 91"
            ]
          },
          "metadata": {}
        }
      ]
    },
    {
      "cell_type": "code",
      "source": [
        "stack_all<- h2o.stackedEnsemble(\n",
        "                               model_id = \"stack_Model_ALL_IDs\",\n",
        "                               x= x,\n",
        "                               y = y,\n",
        "                               training_frame = h_train,\n",
        "                               base_models = all_03,\n",
        "                               metalearner_algorithm = \"drf\",\n",
        "                               metalearner_nfolds = 5,\n",
        "                               metalearner_params = rf_params,\n",
        "                               keep_levelone_frame = TRUE,\n",
        "                               seed=123)\n",
        "stack_all"
      ],
      "metadata": {
        "colab": {
          "base_uri": "https://localhost:8080/",
          "height": 1000
        },
        "id": "rCGJkqzC7H_S",
        "outputId": "e17cab6a-ce03-449a-d776-a0b2ae92ac72"
      },
      "execution_count": 26,
      "outputs": [
        {
          "output_type": "display_data",
          "data": {
            "text/plain": [
              "Model Details:\n",
              "==============\n",
              "\n",
              "H2ORegressionModel: stackedensemble\n",
              "Model ID:  stack_Model_ALL_IDs \n",
              "Model Summary for Stacked Ensemble: \n",
              "                                         key\n",
              "1                          Stacking strategy\n",
              "2       Number of base models (used / total)\n",
              "3       # XGBoost base models (used / total)\n",
              "4           # GLM base models (used / total)\n",
              "5           # DRF base models (used / total)\n",
              "6  # DeepLearning base models (used / total)\n",
              "7                      Metalearner algorithm\n",
              "8         Metalearner fold assignment scheme\n",
              "9                         Metalearner nfolds\n",
              "10                   Metalearner fold_column\n",
              "11        Custom metalearner hyperparameters\n",
              "                                                                                                                                                                  value\n",
              "1                                                                                                                                                      cross_validation\n",
              "2                                                                                                                                                                 86/86\n",
              "3                                                                                                                                                                 39/39\n",
              "4                                                                                                                                                                 40/40\n",
              "5                                                                                                                                                                   4/4\n",
              "6                                                                                                                                                                   3/3\n",
              "7                                                                                                                                                                   DRF\n",
              "8                                                                                                                                                                Random\n",
              "9                                                                                                                                                                     5\n",
              "10                                                                                                                                                                   NA\n",
              "11 {\\n  \"ntrees\": [2000],\\n  \"max_depth\": [25],\\n  \"sample_rate\": [0.8],\\n  \"stopping_tolerance\": [0.001],\\n  \"stopping_rounds\": [3],\\n  \"stopping_metric\": [\"RMSE\"]\\n}\n",
              "\n",
              "\n",
              "H2ORegressionMetrics: stackedensemble\n",
              "** Reported on training data. **\n",
              "\n",
              "MSE:  0.5066372\n",
              "RMSE:  0.7117845\n",
              "MAE:  0.4485031\n",
              "RMSLE:  0.09033183\n",
              "Mean Residual Deviance :  0.5066372\n",
              "\n",
              "\n",
              "\n",
              "H2ORegressionMetrics: stackedensemble\n",
              "** Reported on cross-validation data. **\n",
              "** 5-fold cross-validation on training data (Metrics computed for combined holdout predictions) **\n",
              "\n",
              "MSE:  3.29126\n",
              "RMSE:  1.814183\n",
              "MAE:  0.900406\n",
              "RMSLE:  0.2460413\n",
              "Mean Residual Deviance :  3.29126\n",
              "\n",
              "\n",
              "Cross-Validation Metrics Summary: \n",
              "                           mean       sd cv_1_valid cv_2_valid cv_3_valid\n",
              "mae                    0.895702 0.063108   0.873056   0.837044   0.893224\n",
              "mean_residual_deviance 3.294894 1.047211   2.360006   3.049841   2.745125\n",
              "mse                    3.294894 1.047211   2.360006   3.049841   2.745125\n",
              "r2                     0.869303 0.045196   0.898335   0.888908   0.903094\n",
              "residual_deviance      3.294894 1.047211   2.360006   3.049841   2.745125\n",
              "rmse                   1.798759 0.272394   1.536231   1.746379   1.656842\n",
              "rmsle                  0.245974 0.014423   0.254242   0.256380   0.221274\n",
              "                       cv_4_valid cv_5_valid\n",
              "mae                      0.872551   1.002636\n",
              "mean_residual_deviance   3.250256   5.069239\n",
              "mse                      3.250256   5.069239\n",
              "r2                       0.862761   0.793416\n",
              "residual_deviance        3.250256   5.069239\n",
              "rmse                     1.802847   2.251497\n",
              "rmsle                    0.245298   0.252678"
            ]
          },
          "metadata": {}
        }
      ]
    },
    {
      "cell_type": "markdown",
      "source": [
        "##### Prediction"
      ],
      "metadata": {
        "id": "2j3xyhCw7UZl"
      }
    },
    {
      "cell_type": "code",
      "source": [
        "stack.test.all<-as.data.frame(h2o.predict(object = stack_all, newdata = h_test))\n",
        "test.xy$Stack_SOC_all<-stack.test.all$predict"
      ],
      "metadata": {
        "id": "Opt7Mr7Q7Uld"
      },
      "execution_count": 27,
      "outputs": []
    },
    {
      "cell_type": "code",
      "source": [
        "\n",
        "ggplot(test.xy, aes(SOC,Stack_SOC_all)) +\n",
        "  geom_point() +\n",
        "  geom_smooth(method = \"lm\")+\n",
        "  ggtitle(\"Stack-Ensemble: All Models\") +\n",
        "  xlab(\"Observed\") + ylab(\"Predicted\") +\n",
        "  scale_x_continuous(limits=c(0,25), breaks=seq(0, 25, 5))+\n",
        "  scale_y_continuous(limits=c(0,25), breaks=seq(0, 25, 5)) +\n",
        "  # Flip the bars\n",
        "  theme(\n",
        "    panel.background = element_rect(fill = \"grey95\",colour = \"gray75\",size = 0.5, linetype = \"solid\"),\n",
        "    axis.line = element_line(colour = \"grey\"),\n",
        "    plot.title = element_text(size = 14, hjust = 0.5),\n",
        "    axis.title.x = element_text(size = 14),\n",
        "    axis.title.y = element_text(size = 14),\n",
        "    axis.text.x=element_text(size=13, colour=\"black\"),\n",
        "    axis.text.y=element_text(size=13,angle = 90,vjust = 0.5, hjust=0.5, colour='black'))"
      ],
      "metadata": {
        "colab": {
          "base_uri": "https://localhost:8080/",
          "height": 524
        },
        "id": "bMhRkqwT7cvU",
        "outputId": "0891a5f7-cb55-4f2d-f10b-b7b5459834b7"
      },
      "execution_count": 28,
      "outputs": [
        {
          "output_type": "stream",
          "name": "stderr",
          "text": [
            "\u001b[1m\u001b[22m`geom_smooth()` using formula = 'y ~ x'\n",
            "Warning message:\n",
            "“\u001b[1m\u001b[22mRemoved 1 rows containing non-finite values (`stat_smooth()`).”\n",
            "Warning message:\n",
            "“\u001b[1m\u001b[22mRemoved 1 rows containing missing values (`geom_point()`).”\n"
          ]
        },
        {
          "output_type": "display_data",
          "data": {
            "text/plain": [
              "plot without title"
            ],
            "image/png": "[encoded data removed]"
          },
          "metadata": {
            "image/png": {
              "width": 420,
              "height": 420
            }
          }
        }
      ]
    },
    {
      "cell_type": "markdown",
      "source": [
        "#"
      ],
      "metadata": {
        "id": "PXB5AOmTpzZP"
      }
    }
  ]
}