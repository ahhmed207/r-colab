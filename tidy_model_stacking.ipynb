{
  "nbformat": 4,
  "nbformat_minor": 0,
  "metadata": {
    "colab": {
      "provenance": [],
      "authorship_tag": "ABX9TyO/ozPs6+zWY5QgyOA8/2J0",
      "include_colab_link": true
    },
    "kernelspec": {
      "name": "ir",
      "display_name": "R"
    },
    "language_info": {
      "name": "R"
    }
  },
  "cells": [
    {
      "cell_type": "markdown",
      "metadata": {
        "id": "view-in-github",
        "colab_type": "text"
      },
      "source": [
        "<a href=\"https://colab.research.google.com/github/zia207/r-colab/blob/main/tidy_model_stacking.ipynb\" target=\"_parent\"><img src=\"https://colab.research.google.com/assets/colab-badge.svg\" alt=\"Open In Colab\"/></a>"
      ]
    },
    {
      "cell_type": "markdown",
      "source": [
        "# Tidymodel Stacking with R"
      ],
      "metadata": {
        "id": "K0cwxtm0Qq4S"
      }
    },
    {
      "cell_type": "markdown",
      "source": [
        "[**stacks**](https://stacks.tidymodels.org/index.html) is an R package for model stacking that aligns with the tidy models. Model stacking is an ensembling method that combines the outputs of many models and combines them to generate a new model---an ensemble in this package that generates predictions informed by each of its members.\n",
        "\n",
        "The process goes something like this:\n",
        "\n",
        "1.  Define candidate ensemble members using functionality from [rsample](https://rsample.tidymodels.org/), [parsnip](https://parsnip.tidymodels.org/), [workflows](https://workflows.tidymodels.org/), [recipes](https://recipes.tidymodels.org/), and [tune](https://tune.tidymodels.org/).\n",
        "\n",
        "2.  Initialize a `data_stack` object with [`stacks()`](https://stacks.tidymodels.org/reference/stacks.html)\n",
        "\n",
        "3.  Iteratively add candidate ensemble members (base models) to the `data_stack` with [`add_candidates()`](https://stacks.tidymodels.org/reference/add_candidates.html)\n",
        "\n",
        "4.  Evaluate how to combine their predictions with [`blend_predictions()`](https://stacks.tidymodels.org/reference/blend_predictions.html)\n",
        "\n",
        "5.  Fit candidate ensemble members with non-zero stacking coefficients with [`fit_members()`](https://stacks.tidymodels.org/reference/fit_members.html)\n",
        "\n",
        "6.  Predict on new data with [`predict()`](https://rdrr.io/r/stats/predict.html)\n",
        "\n"
      ],
      "metadata": {
        "id": "TaHv1fXXRSFU"
      }
    },
    {
      "cell_type": "markdown",
      "source": [
        "### Install Packages"
      ],
      "metadata": {
        "id": "DsjzFUDIU9dj"
      }
    },
    {
      "cell_type": "code",
      "execution_count": 1,
      "metadata": {
        "colab": {
          "base_uri": "https://localhost:8080/"
        },
        "id": "0r6fgzYpQmwq",
        "outputId": "ca74b55b-1095-4c70-864e-3a96f871ea55"
      },
      "outputs": [
        {
          "output_type": "stream",
          "name": "stderr",
          "text": [
            "Installing package into ‘/usr/local/lib/R/site-library’\n",
            "(as ‘lib’ is unspecified)\n",
            "\n",
            "also installing the dependencies ‘shape’, ‘future.apply’, ‘numDeriv’, ‘progressr’, ‘SQUAREM’, ‘Rcpp’, ‘diagram’, ‘lava’, ‘listenv’, ‘parallelly’, ‘prodlim’, ‘future’, ‘warp’, ‘iterators’, ‘lhs’, ‘DiceDesign’, ‘patchwork’, ‘globals’, ‘clock’, ‘gower’, ‘ipred’, ‘timeDate’, ‘furrr’, ‘slider’, ‘foreach’, ‘GPfit’, ‘modelenv’, ‘dials’, ‘hardhat’, ‘infer’, ‘modeldata’, ‘parsnip’, ‘recipes’, ‘rsample’, ‘tune’, ‘workflows’, ‘workflowsets’, ‘yardstick’\n",
            "\n",
            "\n",
            "Installing package into ‘/usr/local/lib/R/site-library’\n",
            "(as ‘lib’ is unspecified)\n",
            "\n",
            "also installing the dependencies ‘lobstr’, ‘RcppEigen’, ‘butcher’, ‘glmnet’\n",
            "\n",
            "\n"
          ]
        }
      ],
      "source": [
        "install.packages(\"tidymodels\")\n",
        "install.packages(\"stacks\")"
      ]
    },
    {
      "cell_type": "markdown",
      "source": [
        "#### Load Packages"
      ],
      "metadata": {
        "id": "3r2X-ilBVBKj"
      }
    },
    {
      "cell_type": "code",
      "source": [
        "library(tidymodels)\n",
        "library(tidyverse)\n",
        "library(stacks)"
      ],
      "metadata": {
        "colab": {
          "base_uri": "https://localhost:8080/"
        },
        "id": "YIV_dq6AU8Ew",
        "outputId": "dc26b8ba-848b-4f65-be14-cb2fae30549f"
      },
      "execution_count": 2,
      "outputs": [
        {
          "output_type": "stream",
          "name": "stderr",
          "text": [
            "── \u001b[1mAttaching packages\u001b[22m ────────────────────────────────────── tidymodels 1.1.0 ──\n",
            "\n",
            "\u001b[32m✔\u001b[39m \u001b[34mbroom       \u001b[39m 1.0.5     \u001b[32m✔\u001b[39m \u001b[34mrecipes     \u001b[39m 1.0.6\n",
            "\u001b[32m✔\u001b[39m \u001b[34mdials       \u001b[39m 1.2.0     \u001b[32m✔\u001b[39m \u001b[34mrsample     \u001b[39m 1.1.1\n",
            "\u001b[32m✔\u001b[39m \u001b[34mdplyr       \u001b[39m 1.1.2     \u001b[32m✔\u001b[39m \u001b[34mtibble      \u001b[39m 3.2.1\n",
            "\u001b[32m✔\u001b[39m \u001b[34mggplot2     \u001b[39m 3.4.2     \u001b[32m✔\u001b[39m \u001b[34mtidyr       \u001b[39m 1.3.0\n",
            "\u001b[32m✔\u001b[39m \u001b[34minfer       \u001b[39m 1.0.4     \u001b[32m✔\u001b[39m \u001b[34mtune        \u001b[39m 1.1.1\n",
            "\u001b[32m✔\u001b[39m \u001b[34mmodeldata   \u001b[39m 1.1.0     \u001b[32m✔\u001b[39m \u001b[34mworkflows   \u001b[39m 1.1.3\n",
            "\u001b[32m✔\u001b[39m \u001b[34mparsnip     \u001b[39m 1.1.0     \u001b[32m✔\u001b[39m \u001b[34mworkflowsets\u001b[39m 1.0.1\n",
            "\u001b[32m✔\u001b[39m \u001b[34mpurrr       \u001b[39m 1.0.1     \u001b[32m✔\u001b[39m \u001b[34myardstick   \u001b[39m 1.2.0\n",
            "\n",
            "── \u001b[1mConflicts\u001b[22m ───────────────────────────────────────── tidymodels_conflicts() ──\n",
            "\u001b[31m✖\u001b[39m \u001b[34mpurrr\u001b[39m::\u001b[32mdiscard()\u001b[39m masks \u001b[34mscales\u001b[39m::discard()\n",
            "\u001b[31m✖\u001b[39m \u001b[34mdplyr\u001b[39m::\u001b[32mfilter()\u001b[39m  masks \u001b[34mstats\u001b[39m::filter()\n",
            "\u001b[31m✖\u001b[39m \u001b[34mdplyr\u001b[39m::\u001b[32mlag()\u001b[39m     masks \u001b[34mstats\u001b[39m::lag()\n",
            "\u001b[31m✖\u001b[39m \u001b[34mrecipes\u001b[39m::\u001b[32mstep()\u001b[39m  masks \u001b[34mstats\u001b[39m::step()\n",
            "\u001b[34m•\u001b[39m Learn how to get started at \u001b[32mhttps://www.tidymodels.org/start/\u001b[39m\n",
            "\n",
            "── \u001b[1mAttaching core tidyverse packages\u001b[22m ──────────────────────── tidyverse 2.0.0 ──\n",
            "\u001b[32m✔\u001b[39m \u001b[34mforcats  \u001b[39m 1.0.0     \u001b[32m✔\u001b[39m \u001b[34mreadr    \u001b[39m 2.1.4\n",
            "\u001b[32m✔\u001b[39m \u001b[34mlubridate\u001b[39m 1.9.2     \u001b[32m✔\u001b[39m \u001b[34mstringr  \u001b[39m 1.5.0\n",
            "── \u001b[1mConflicts\u001b[22m ────────────────────────────────────────── tidyverse_conflicts() ──\n",
            "\u001b[31m✖\u001b[39m \u001b[34mreadr\u001b[39m::\u001b[32mcol_factor()\u001b[39m masks \u001b[34mscales\u001b[39m::col_factor()\n",
            "\u001b[31m✖\u001b[39m \u001b[34mpurrr\u001b[39m::\u001b[32mdiscard()\u001b[39m    masks \u001b[34mscales\u001b[39m::discard()\n",
            "\u001b[31m✖\u001b[39m \u001b[34mdplyr\u001b[39m::\u001b[32mfilter()\u001b[39m     masks \u001b[34mstats\u001b[39m::filter()\n",
            "\u001b[31m✖\u001b[39m \u001b[34mstringr\u001b[39m::\u001b[32mfixed()\u001b[39m    masks \u001b[34mrecipes\u001b[39m::fixed()\n",
            "\u001b[31m✖\u001b[39m \u001b[34mdplyr\u001b[39m::\u001b[32mlag()\u001b[39m        masks \u001b[34mstats\u001b[39m::lag()\n",
            "\u001b[31m✖\u001b[39m \u001b[34mreadr\u001b[39m::\u001b[32mspec()\u001b[39m       masks \u001b[34myardstick\u001b[39m::spec()\n",
            "\u001b[36mℹ\u001b[39m Use the conflicted package (\u001b[3m\u001b[34m<http://conflicted.r-lib.org/>\u001b[39m\u001b[23m) to force all conflicts to become errors\n"
          ]
        }
      ]
    },
    {
      "cell_type": "markdown",
      "source": [
        "Data"
      ],
      "metadata": {
        "id": "p3izCJsRWgsV"
      }
    },
    {
      "cell_type": "code",
      "source": [
        "#mf<-read_csv(\"/content/sample_data/gp_soil_data_syn.csv\")\n",
        "# define file from my github\n",
        "urlfile = \"https://github.com//zia207/r-colab/raw/main/Data/USA/gp_soil_data_syn.csv\"\n",
        "mf<-read_csv(url(urlfile))\n",
        "# Create a data-frame\n",
        "df<-mf %>% dplyr::select(SOC, DEM, Slope, TPI,MAT, MAP,NDVI, NLCD, FRG)%>%\n",
        "    glimpse()"
      ],
      "metadata": {
        "colab": {
          "base_uri": "https://localhost:8080/"
        },
        "id": "s7M8Cx-kWg7e",
        "outputId": "620abc3e-b83b-47c0-af3f-b6f68522682a"
      },
      "execution_count": 3,
      "outputs": [
        {
          "output_type": "stream",
          "name": "stderr",
          "text": [
            "\u001b[1mRows: \u001b[22m\u001b[34m1408\u001b[39m \u001b[1mColumns: \u001b[22m\u001b[34m10\u001b[39m\n",
            "\u001b[36m──\u001b[39m \u001b[1mColumn specification\u001b[22m \u001b[36m────────────────────────────────────────────────────────\u001b[39m\n",
            "\u001b[1mDelimiter:\u001b[22m \",\"\n",
            "\u001b[31mchr\u001b[39m (2): NLCD, FRG\n",
            "\u001b[32mdbl\u001b[39m (8): ID, SOC, DEM, Slope, TPI, MAP, MAT, NDVI\n",
            "\n",
            "\u001b[36mℹ\u001b[39m Use `spec()` to retrieve the full column specification for this data.\n",
            "\u001b[36mℹ\u001b[39m Specify the column types or set `show_col_types = FALSE` to quiet this message.\n"
          ]
        },
        {
          "output_type": "stream",
          "name": "stdout",
          "text": [
            "Rows: 1,408\n",
            "Columns: 9\n",
            "$ SOC   \u001b[3m\u001b[90m<dbl>\u001b[39m\u001b[23m 1.900, 2.644, 0.800, 0.736, 15.641, 8.818, 3.782, 6.641, 4.803, …\n",
            "$ DEM   \u001b[3m\u001b[90m<dbl>\u001b[39m\u001b[23m 2825.1111, 2535.1086, 1716.3300, 1649.8933, 2675.3113, 2581.4839…\n",
            "$ Slope \u001b[3m\u001b[90m<dbl>\u001b[39m\u001b[23m 18.981682, 14.182393, 1.585145, 9.399726, 12.569353, 6.358553, 1…\n",
            "$ TPI   \u001b[3m\u001b[90m<dbl>\u001b[39m\u001b[23m -0.91606224, -0.15259802, -0.39078590, -2.54008722, 7.40076303, …\n",
            "$ MAT   \u001b[3m\u001b[90m<dbl>\u001b[39m\u001b[23m 4.709227, 4.648000, 6.360833, 10.265385, 2.798550, 6.358550, 7.0…\n",
            "$ MAP   \u001b[3m\u001b[90m<dbl>\u001b[39m\u001b[23m 613.6979, 597.7912, 201.5091, 298.2608, 827.4680, 679.1392, 508.…\n",
            "$ NDVI  \u001b[3m\u001b[90m<dbl>\u001b[39m\u001b[23m 0.6845260, 0.7557631, 0.2215059, 0.2785148, 0.7337426, 0.7017139…\n",
            "$ NLCD  \u001b[3m\u001b[90m<chr>\u001b[39m\u001b[23m \"Forest\", \"Forest\", \"Shrubland\", \"Shrubland\", \"Forest\", \"Forest\"…\n",
            "$ FRG   \u001b[3m\u001b[90m<chr>\u001b[39m\u001b[23m \"Fire Regime Group IV\", \"Fire Regime Group IV\", \"Fire Regime Gro…\n"
          ]
        }
      ]
    },
    {
      "cell_type": "markdown",
      "source": [
        "### Split data"
      ],
      "metadata": {
        "id": "1qN6w20RXDSE"
      }
    },
    {
      "cell_type": "code",
      "source": [
        "set.seed(1245)   # for reproducibility\n",
        "split <- initial_split(df, prop = 0.8, strata = SOC)\n",
        "train <- split %>% training()\n",
        "test <-  split %>% testing()\n",
        "\n",
        "# Set 10 fold cross-validation data set\n",
        "set.seed(136)\n",
        "cv_folds <- vfold_cv(train, v = 5)"
      ],
      "metadata": {
        "id": "tk9kNJpBXDeC"
      },
      "execution_count": 4,
      "outputs": []
    },
    {
      "cell_type": "markdown",
      "source": [
        "### The basic recipe used in all models"
      ],
      "metadata": {
        "id": "x679KKvhXHKL"
      }
    },
    {
      "cell_type": "code",
      "source": [
        "soc_rec <-\n",
        "  recipe(SOC ~ ., data = train) %>%\n",
        "  step_zv(all_predictors()) %>%\n",
        "  step_dummy(all_nominal()) %>%\n",
        "  step_normalize(all_numeric_predictors())"
      ],
      "metadata": {
        "id": "JV8owhGjXHUA"
      },
      "execution_count": 5,
      "outputs": []
    },
    {
      "cell_type": "markdown",
      "source": [
        "### Basic workflow"
      ],
      "metadata": {
        "id": "ilzhuT8MXT2c"
      }
    },
    {
      "cell_type": "code",
      "source": [
        "soc_wf <-\n",
        "  workflow() %>%\n",
        "  add_recipe(soc_rec)"
      ],
      "metadata": {
        "id": "vtWH9crpXUC3"
      },
      "execution_count": 6,
      "outputs": []
    },
    {
      "cell_type": "markdown",
      "source": [
        "### Control Rapper Function\n",
        "\n",
        "Supply these light wrappers as the control argument in a tune::tune_grid(), tune::tune_bayes(), or tune::fit_resamples() call to return the needed elements for use in a data stack. These functions will return the appropriate control grid to ensure that assessment set predictions and information on model specifications and preprocessors is supplied in the resampling results object!\n",
        "\n",
        "To integrate stack settings with your existing control settings, note that these functions call the appropriate ⁠tune::control_*⁠ function with the arguments ⁠save_pred = TRUE, save_workflow = TRUE⁠."
      ],
      "metadata": {
        "id": "AmvjMcbiXdag"
      }
    },
    {
      "cell_type": "code",
      "source": [
        "ctrl_grid <- control_stack_grid()\n",
        "ctrl_res <- control_stack_resamples()"
      ],
      "metadata": {
        "id": "cZnRjaiYXdj0"
      },
      "execution_count": 7,
      "outputs": []
    },
    {
      "cell_type": "markdown",
      "source": [
        "### Base-Models\n",
        "\n",
        "We will use five regression models to create a stacked ensemble model:"
      ],
      "metadata": {
        "id": "O0CHScssXm8p"
      }
    },
    {
      "cell_type": "markdown",
      "source": [
        "1. GLM - Regularization Regression\n",
        "\n",
        "Generalized Linear Models (GLMs) with regularization, often referred to as regularized regression, are extensions of the traditional linear regression that add regularization terms to the cost function. Regularization helps prevent overfitting and can improve the model's generalization performance by discouraging overly complex models.\n",
        "\n",
        "In traditional linear regression, the objective is to minimize the sum of squared errors (SSE) between the predicted values and the actual target values. However, in regularized regression, an additional penalty term is added to the cost function. There are two common types of regularization used in regularized regression:"
      ],
      "metadata": {
        "id": "nkSq2JadX1x_"
      }
    },
    {
      "cell_type": "code",
      "source": [
        "# Model Specification\n",
        "glm_spec <-\n",
        "  linear_reg(\n",
        "   penalty = tune(),\n",
        "   mixture=tune(),\n",
        "  ) %>%\n",
        "  set_mode(\"regression\") %>%\n",
        "  set_engine(\"glmnet\")\n",
        "\n",
        "# Workflow\n",
        "glm_wflow <-\n",
        "  soc_wf %>%\n",
        "  add_model(glm_spec)\n",
        "\n",
        "# Recipe\n",
        "set.seed(1)\n",
        "glm_res <-\n",
        "  tune_grid(\n",
        "    object = glm_wflow,\n",
        "    resamples = cv_folds,\n",
        "    grid = 20,\n",
        "    control = ctrl_grid\n",
        "  )"
      ],
      "metadata": {
        "id": "aqYiGjyRXnEw"
      },
      "execution_count": 8,
      "outputs": []
    },
    {
      "cell_type": "markdown",
      "source": [
        "2. Fandom Forest\n",
        "\n",
        "We will use the ranger package to build random forest models. ranger is a fast and efficient implementation of random forest algorithms, known for its speed and scalability. The tidymodels provides a comprehensive framework for building, tuning, and evaluating random forest model while following the principles of the tidyverse."
      ],
      "metadata": {
        "id": "YY1ak2POYHvA"
      }
    },
    {
      "cell_type": "code",
      "source": [
        "install.packages(\"ranger\")"
      ],
      "metadata": {
        "colab": {
          "base_uri": "https://localhost:8080/"
        },
        "id": "BrrlhgW8YTS7",
        "outputId": "6c76412f-0480-4da5-950d-275d62e66695"
      },
      "execution_count": 9,
      "outputs": [
        {
          "output_type": "stream",
          "name": "stderr",
          "text": [
            "Installing package into ‘/usr/local/lib/R/site-library’\n",
            "(as ‘lib’ is unspecified)\n",
            "\n"
          ]
        }
      ]
    },
    {
      "cell_type": "code",
      "source": [
        "# Model Specification\n",
        "rf_spec <-\n",
        "  rand_forest(\n",
        "    mtry = tune(),\n",
        "    min_n = tune(),\n",
        "    trees = 500\n",
        "  ) %>%\n",
        "  set_mode(\"regression\") %>%\n",
        "  set_engine(\"ranger\")\n",
        "\n",
        "# Workflow\n",
        "rf_wflow <-\n",
        "  soc_wf %>%\n",
        "  add_model(rf_spec)\n",
        "\n",
        "# Recipe\n",
        "set.seed(1)\n",
        "rf_res <-\n",
        "  tune_grid(\n",
        "    object = rf_wflow,\n",
        "    resamples = cv_folds,\n",
        "    grid = 20,\n",
        "    control = ctrl_grid\n",
        "  )"
      ],
      "metadata": {
        "colab": {
          "base_uri": "https://localhost:8080/"
        },
        "id": "izGTYFGCYN0X",
        "outputId": "334ca3d9-526f-4be9-a0b7-5307a6aec525"
      },
      "execution_count": 10,
      "outputs": [
        {
          "output_type": "stream",
          "name": "stderr",
          "text": [
            "\u001b[34mi\u001b[39m \u001b[30mCreating pre-processing data to finalize unknown parameter: mtry\u001b[39m\n",
            "\n"
          ]
        }
      ]
    },
    {
      "cell_type": "markdown",
      "source": [
        "3. Light GBM\n",
        "\n",
        "The tidymodels provides a comprehensive framework for building, tuning, and evaluating LightGBM model while following the principles of the tidyverse.\n",
        "\n",
        "Parsnip could not support an implementation for boost_tree regression model specifications using the lightgbm engine. The parsnip extension package \"bonsai\" implements support for this specification. We need to install it and load to continue."
      ],
      "metadata": {
        "id": "1a88OKv6ZMtm"
      }
    },
    {
      "cell_type": "code",
      "source": [
        "install.packages(\"lightgbm\")\n",
        "install.packages(\"bonsai\")\n"
      ],
      "metadata": {
        "colab": {
          "base_uri": "https://localhost:8080/"
        },
        "id": "3rrigSkMZM2g",
        "outputId": "5eeb20ed-42a4-4957-decd-700c6d741159"
      },
      "execution_count": 11,
      "outputs": [
        {
          "output_type": "stream",
          "name": "stderr",
          "text": [
            "Installing package into ‘/usr/local/lib/R/site-library’\n",
            "(as ‘lib’ is unspecified)\n",
            "\n",
            "Installing package into ‘/usr/local/lib/R/site-library’\n",
            "(as ‘lib’ is unspecified)\n",
            "\n"
          ]
        }
      ]
    },
    {
      "cell_type": "code",
      "source": [
        "# Model Specification\n",
        "lightgbm_spec<-\n",
        "  boost_tree(\n",
        "    mtry = tune(),\n",
        "    trees = 500,\n",
        "    min_n = tune(),\n",
        "    tree_depth = tune(),\n",
        "    loss_reduction = tune(),\n",
        "    learn_rate = tune(),\n",
        "    sample_size = 0.75\n",
        "  ) %>%\n",
        "  set_mode(\"regression\") %>%\n",
        "  set_engine(\"lightgbm\")\n",
        "\n",
        "# Workflow\n",
        "library(bonsai)\n",
        "lightgbm_wflow <-\n",
        "  soc_wf %>%\n",
        "  add_model(lightgbm_spec)\n",
        "\n",
        "# Recipe\n",
        "set.seed(1)\n",
        "lightgbm_res <-\n",
        "  tune_grid(\n",
        "    object = lightgbm_wflow,\n",
        "    resamples = cv_folds,\n",
        "    grid = 20,\n",
        "    control = ctrl_grid\n",
        "  )"
      ],
      "metadata": {
        "colab": {
          "base_uri": "https://localhost:8080/"
        },
        "id": "3BNEt0ctZwgt",
        "outputId": "6ee0868b-0230-4d84-a9fc-ff923e51e7e9"
      },
      "execution_count": 12,
      "outputs": [
        {
          "output_type": "stream",
          "name": "stderr",
          "text": [
            "\u001b[34mi\u001b[39m \u001b[30mCreating pre-processing data to finalize unknown parameter: mtry\u001b[39m\n",
            "\n"
          ]
        }
      ]
    },
    {
      "cell_type": "markdown",
      "source": [
        "4. Cubist\n",
        "\n",
        "Cubist is a rule-based regression and classification model that combines decision trees with linear models to capture complex relationships in the data.\n",
        "\n",
        "**rules** is a **parsnip** extension package with model definitions for rule-based models, including:\n",
        "\n",
        "**cubist** models that have discrete rule sets that contain linear models with an ensemble method similar to boosting\n",
        "\n",
        "**classification rules** where a ruleset is derived from an initial tree fit\n",
        "\n",
        "**rule-fit** models that begin with rules extracted from a tree ensemble which are then added to a regularized linear or logistic regression."
      ],
      "metadata": {
        "id": "q1QDjrtpZmkn"
      }
    },
    {
      "cell_type": "code",
      "source": [
        "install.packages(\"rules\")\n",
        "install.packages(\"Cubist\")"
      ],
      "metadata": {
        "colab": {
          "base_uri": "https://localhost:8080/"
        },
        "id": "n0z_Cx-FZmuQ",
        "outputId": "3368043a-3437-431d-ec68-d5ac4a312a95"
      },
      "execution_count": 13,
      "outputs": [
        {
          "output_type": "stream",
          "name": "stderr",
          "text": [
            "Installing package into ‘/usr/local/lib/R/site-library’\n",
            "(as ‘lib’ is unspecified)\n",
            "\n",
            "Installing package into ‘/usr/local/lib/R/site-library’\n",
            "(as ‘lib’ is unspecified)\n",
            "\n",
            "also installing the dependencies ‘plyr’, ‘reshape2’\n",
            "\n",
            "\n"
          ]
        }
      ]
    },
    {
      "cell_type": "code",
      "source": [
        "# Model Specification\n",
        "cubist_spec <-\n",
        "  cubist_rules(\n",
        "    committees = tune(),\n",
        "    neighbors = tune(),\n",
        "    max_rules = tune()\n",
        "  )\n",
        "\n",
        "# Workflow\n",
        "library(rules)\n",
        "cubist_wflow <-\n",
        "  soc_wf %>%\n",
        "  add_model(cubist_spec)\n",
        "\n",
        "# Recipe\n",
        "set.seed(1)\n",
        "cubist_res <-\n",
        "  tune_grid(\n",
        "    object = cubist_wflow,\n",
        "    resamples = cv_folds,\n",
        "    grid = 20,\n",
        "    control = ctrl_grid\n",
        "  )"
      ],
      "metadata": {
        "id": "w-0vvUpoZ0Mg",
        "colab": {
          "base_uri": "https://localhost:8080/"
        },
        "outputId": "5f8daaa0-27d2-4f90-c84a-645f1a3df5cd"
      },
      "execution_count": 14,
      "outputs": [
        {
          "output_type": "stream",
          "name": "stderr",
          "text": [
            "\n",
            "Attaching package: ‘rules’\n",
            "\n",
            "\n",
            "The following object is masked from ‘package:dials’:\n",
            "\n",
            "    max_rules\n",
            "\n",
            "\n"
          ]
        }
      ]
    },
    {
      "cell_type": "markdown",
      "source": [
        "\n",
        "5. Support Vector Machine Regression\n",
        "\n",
        "A Support Vector Machine (SVM) is a powerful supervised learning algorithm used for classification and regression tasks. SVMs are particularly effective when working with high-dimensional data and can handle both linear and non-linear relationships between variables.\n",
        "\n",
        "The main idea behind SVM is to find an optimal hyperplane that separates data points of different classes with the largest possible margin. In other words, SVM tries to create a decision boundary that maximally separates the classes in the feature space. The data points that lie closest to the decision boundary are called support vectors."
      ],
      "metadata": {
        "id": "gp28y9e7aN2z"
      }
    },
    {
      "cell_type": "code",
      "source": [
        "install.packages(\"kernlab\")"
      ],
      "metadata": {
        "colab": {
          "base_uri": "https://localhost:8080/"
        },
        "id": "Y6juZVA4aOB6",
        "outputId": "2f56d8fa-6019-4efe-b85d-12bb3d0123fd"
      },
      "execution_count": 15,
      "outputs": [
        {
          "output_type": "stream",
          "name": "stderr",
          "text": [
            "Installing package into ‘/usr/local/lib/R/site-library’\n",
            "(as ‘lib’ is unspecified)\n",
            "\n"
          ]
        }
      ]
    },
    {
      "cell_type": "code",
      "source": [
        "# Model Specification\n",
        "svm_spec <-\n",
        "  svm_rbf(\n",
        "    cost = tune(),\n",
        "    rbf_sigma = tune()\n",
        "  ) %>%\n",
        "  set_engine(\"kernlab\") %>%\n",
        "  set_mode(\"regression\")\n",
        "\n",
        "# add it to a workflow\n",
        "svm_wflow <-\n",
        "  soc_wf %>%\n",
        "  add_model(svm_spec)\n",
        "\n",
        "# tune cost and rbf_sigma and fit to the 5-fold cv\n",
        "set.seed(1)\n",
        "svm_res <-\n",
        "  tune_grid(\n",
        "    svm_wflow,\n",
        "    resamples = cv_folds,\n",
        "    grid = 20,\n",
        "    control = ctrl_grid\n",
        "  )"
      ],
      "metadata": {
        "id": "CloPavtVacRb"
      },
      "execution_count": 16,
      "outputs": []
    },
    {
      "cell_type": "markdown",
      "source": [
        "6. Neural Network\n",
        "\n",
        "A Neural Network (NN) is a type of artificial intelligence model inspired by the structure and functioning of the human brain. It is a powerful machine learning algorithm that can learn complex patterns and relationships in data to perform tasks such as classification, regression, pattern recognition, and more."
      ],
      "metadata": {
        "id": "vFWlyKDiacqa"
      }
    },
    {
      "cell_type": "code",
      "source": [
        "install.packages(\"nnet\")"
      ],
      "metadata": {
        "id": "5ueOWLfJczKz"
      },
      "execution_count": null,
      "outputs": []
    },
    {
      "cell_type": "code",
      "source": [
        "# Model Specification\n",
        "nnet_spec <-\n",
        "  mlp(\n",
        "    hidden_units = tune(),\n",
        "    penalty = tune(),\n",
        "    epochs = tune()\n",
        "  ) %>%\n",
        "  set_mode(\"regression\") %>%\n",
        "  set_engine(\"nnet\")\n",
        "\n",
        "nnet_wflow <-\n",
        "  soc_wf %>%\n",
        "  add_model(nnet_spec)\n",
        "\n",
        "nnet_res <-\n",
        "  tune_grid(\n",
        "    object = nnet_wflow,\n",
        "    resamples = cv_folds,\n",
        "    grid = 20,\n",
        "    control = ctrl_grid\n",
        "  )"
      ],
      "metadata": {
        "id": "EaG17isXczYD"
      },
      "execution_count": 17,
      "outputs": []
    },
    {
      "cell_type": "markdown",
      "source": [
        "### Fitting all base models\n",
        "\n",
        "We will use a simple function called **finalizer()** from [here](https://www.hfshr.xyz/posts/2020-11-30-model-stacking/) that selects the best model, updates the workflow, fits the final model with the best parameters and pulls out the metrics."
      ],
      "metadata": {
        "id": "4fQRcZgQf_83"
      }
    },
    {
      "cell_type": "code",
      "source": [
        "finalizer <- function(tuned, wkflow, split, model) {\n",
        "  best_mod <- tuned %>%\n",
        "    select_best(\"rmse\")\n",
        "\n",
        "  final_wf <- wkflow %>%\n",
        "    finalize_workflow(best_mod)\n",
        "\n",
        "  final_fit <-\n",
        "    final_wf %>%\n",
        "    last_fit(split)\n",
        "\n",
        "  final_fit %>%\n",
        "    collect_metrics() %>%\n",
        "    mutate(model = model)\n",
        "}"
      ],
      "metadata": {
        "id": "HZ_AVKWXgAED"
      },
      "execution_count": 18,
      "outputs": []
    },
    {
      "cell_type": "markdown",
      "source": [
        "We have fitted 100 models, 20 models for each type (glm, random forest, lightgbm,cubist, and neural net). We can do a quick check of how well each of these models performed using finalize() function:"
      ],
      "metadata": {
        "id": "SVqUKj6SgUXj"
      }
    },
    {
      "cell_type": "code",
      "source": [
        "bind_rows(\n",
        "  finalizer(glm_res, glm_wflow, split, \"glm\"),\n",
        "  finalizer(rf_res, rf_wflow, split, \"rf\"),\n",
        "  finalizer(lightgbm_res, lightgbm_wflow, split, \"lightgbm\"),\n",
        "  finalizer(cubist_res, cubist_wflow, split, \"cubist\"),\n",
        "  finalizer(svm_res, svm_wflow, split, \"svm\"),\n",
        "  finalizer(nnet_res, nnet_wflow, split, \"nnet\"),\n",
        ") %>%\n",
        "  select(model, .metric, .estimate) %>%\n",
        "  pivot_wider(names_from = .metric, values_from = .estimate) %>%\n",
        "  arrange(rmse)"
      ],
      "metadata": {
        "colab": {
          "base_uri": "https://localhost:8080/",
          "height": 286
        },
        "id": "NVKtHrqJgVhp",
        "outputId": "b2d82448-a2d3-409c-9225-e39e0c35175d"
      },
      "execution_count": 19,
      "outputs": [
        {
          "output_type": "display_data",
          "data": {
            "text/html": [
              "<table class=\"dataframe\">\n",
              "<caption>A tibble: 6 × 3</caption>\n",
              "<thead>\n",
              "\t<tr><th scope=col>model</th><th scope=col>rmse</th><th scope=col>rsq</th></tr>\n",
              "\t<tr><th scope=col>&lt;chr&gt;</th><th scope=col>&lt;dbl&gt;</th><th scope=col>&lt;dbl&gt;</th></tr>\n",
              "</thead>\n",
              "<tbody>\n",
              "\t<tr><td>cubist  </td><td>1.234798</td><td>0.9383153</td></tr>\n",
              "\t<tr><td>rf      </td><td>1.404758</td><td>0.9231817</td></tr>\n",
              "\t<tr><td>lightgbm</td><td>2.816980</td><td>0.6807098</td></tr>\n",
              "\t<tr><td>svm     </td><td>3.354953</td><td>0.5473223</td></tr>\n",
              "\t<tr><td>glm     </td><td>3.821363</td><td>0.4055985</td></tr>\n",
              "\t<tr><td>nnet    </td><td>4.369892</td><td>0.4095491</td></tr>\n",
              "</tbody>\n",
              "</table>\n"
            ],
            "text/markdown": "\nA tibble: 6 × 3\n\n| model &lt;chr&gt; | rmse &lt;dbl&gt; | rsq &lt;dbl&gt; |\n|---|---|---|\n| cubist   | 1.234798 | 0.9383153 |\n| rf       | 1.404758 | 0.9231817 |\n| lightgbm | 2.816980 | 0.6807098 |\n| svm      | 3.354953 | 0.5473223 |\n| glm      | 3.821363 | 0.4055985 |\n| nnet     | 4.369892 | 0.4095491 |\n\n",
            "text/latex": "A tibble: 6 × 3\n\\begin{tabular}{lll}\n model & rmse & rsq\\\\\n <chr> & <dbl> & <dbl>\\\\\n\\hline\n\t cubist   & 1.234798 & 0.9383153\\\\\n\t rf       & 1.404758 & 0.9231817\\\\\n\t lightgbm & 2.816980 & 0.6807098\\\\\n\t svm      & 3.354953 & 0.5473223\\\\\n\t glm      & 3.821363 & 0.4055985\\\\\n\t nnet     & 4.369892 & 0.4095491\\\\\n\\end{tabular}\n",
            "text/plain": [
              "  model    rmse     rsq      \n",
              "1 cubist   1.234798 0.9383153\n",
              "2 rf       1.404758 0.9231817\n",
              "3 lightgbm 2.816980 0.6807098\n",
              "4 svm      3.354953 0.5473223\n",
              "5 glm      3.821363 0.4055985\n",
              "6 nnet     4.369892 0.4095491"
            ]
          },
          "metadata": {}
        }
      ]
    },
    {
      "cell_type": "markdown",
      "source": [
        "We can see that the cubist model has the best performance, followed by the rf."
      ],
      "metadata": {
        "id": "FYs8s3wygddd"
      }
    },
    {
      "cell_type": "markdown",
      "source": [
        "### Stack Ensemble Model\n",
        "\n",
        "First, we start by initialising the stack with `stacks()` then add each candidate model with `add_candidates()`. Next we evaluate the candidate models with `blend_predictions()`, before finally training the non-zero members on the training data with `fit_members()`."
      ],
      "metadata": {
        "id": "yxSukXQcgeUz"
      }
    },
    {
      "cell_type": "code",
      "source": [
        "soc_stack <-\n",
        "  # initialize the stack\n",
        "  stacks() %>%\n",
        "  # add each of the models\n",
        "  add_candidates(glm_res) %>%\n",
        "  add_candidates(rf_res) %>%\n",
        "  add_candidates(lightgbm_res) %>%\n",
        "  add_candidates(cubist_res) %>%\n",
        "  add_candidates(svm_res) %>%\n",
        "  add_candidates(nnet_res) %>%\n",
        "  blend_predictions(penalty = range(c(0.5, 5),levels=50, mixture = 0), metric = metric_set(rmse)) %>% # evaluate candidate models\n",
        "  fit_members() # fit non zero stacking coefficients"
      ],
      "metadata": {
        "id": "f0lXhcHugqNm"
      },
      "execution_count": 20,
      "outputs": []
    },
    {
      "cell_type": "code",
      "source": [
        "soc_stack"
      ],
      "metadata": {
        "colab": {
          "base_uri": "https://localhost:8080/",
          "height": 399
        },
        "id": "v9gHpa_EgtZ2",
        "outputId": "7bb93a2d-4ac5-4b2b-b5fa-e18bd5eb0488"
      },
      "execution_count": 21,
      "outputs": [
        {
          "output_type": "stream",
          "name": "stderr",
          "text": [
            "── A stacked ensemble model ─────────────────────────────────────\n",
            "\n",
            "\n",
            "Out of 120 possible candidate members, the ensemble retained 8.\n",
            "\n",
            "Penalty: \u001b[34m0\u001b[39m.\n",
            "\n",
            "Mixture: \u001b[34m1\u001b[39m.\n",
            "\n",
            "\n",
            "The 8 highest weighted members are:\n"
          ]
        },
        {
          "output_type": "display_data",
          "data": {
            "text/plain": [
              "\u001b[90m# A tibble: 8 × 3\u001b[39m\n",
              "  member            type          weight\n",
              "  \u001b[3m\u001b[90m<chr>\u001b[39m\u001b[23m             \u001b[3m\u001b[90m<chr>\u001b[39m\u001b[23m          \u001b[3m\u001b[90m<dbl>\u001b[39m\u001b[23m\n",
              "\u001b[90m1\u001b[39m svm_res_1_09      svm_rbf      0.843  \n",
              "\u001b[90m2\u001b[39m lightgbm_res_1_16 boost_tree   0.475  \n",
              "\u001b[90m3\u001b[39m cubist_res_1_15   cubist_rules 0.439  \n",
              "\u001b[90m4\u001b[39m rf_res_1_05       rand_forest  0.322  \n",
              "\u001b[90m5\u001b[39m cubist_res_1_03   cubist_rules 0.276  \n",
              "\u001b[90m6\u001b[39m lightgbm_res_1_07 boost_tree   0.115  \n",
              "\u001b[90m7\u001b[39m lightgbm_res_1_14 boost_tree   0.009\u001b[4m7\u001b[24m\u001b[4m1\u001b[24m\n",
              "\u001b[90m8\u001b[39m nnet_res_1_01     mlp          0.004\u001b[4m1\u001b[24m\u001b[4m5\u001b[24m"
            ]
          },
          "metadata": {}
        }
      ]
    },
    {
      "cell_type": "code",
      "source": [
        "install.packages(\"see\")\n",
        "library(see) # for nice theme\n",
        "autoplot(soc_stack, type = \"weights\") +\n",
        "  theme_lucid()"
      ],
      "metadata": {
        "colab": {
          "base_uri": "https://localhost:8080/",
          "height": 541
        },
        "id": "9sP-KCd8gyyr",
        "outputId": "6d62204a-8c87-4698-8d21-99f8e9832c1d"
      },
      "execution_count": 22,
      "outputs": [
        {
          "output_type": "stream",
          "name": "stderr",
          "text": [
            "Installing package into ‘/usr/local/lib/R/site-library’\n",
            "(as ‘lib’ is unspecified)\n",
            "\n",
            "also installing the dependencies ‘bayestestR’, ‘correlation’, ‘datawizard’, ‘effectsize’, ‘insight’, ‘modelbased’, ‘parameters’, ‘performance’\n",
            "\n",
            "\n"
          ]
        },
        {
          "output_type": "display_data",
          "data": {
            "text/plain": [
              "plot without title"
            ],
            "image/png": "[encoded data removed]"
          },
          "metadata": {
            "image/png": {
              "width": 420,
              "height": 420
            }
          }
        }
      ]
    },
    {
      "cell_type": "markdown",
      "source": [
        "### Prediction"
      ],
      "metadata": {
        "id": "uHnYp6vVg85Z"
      }
    },
    {
      "cell_type": "markdown",
      "source": [
        "### Stack Ensemble"
      ],
      "metadata": {
        "id": "QjBX5HvKhBT5"
      }
    },
    {
      "cell_type": "code",
      "source": [
        "reg_metrics <- metric_set(rmse, rsq)\n",
        "# get predictions with stack\n",
        "soc_pred <- predict(soc_stack, test) %>%\n",
        "  bind_cols(test)"
      ],
      "metadata": {
        "id": "0Tydssd3g8DZ"
      },
      "execution_count": 23,
      "outputs": []
    },
    {
      "cell_type": "code",
      "source": [
        "ggplot(soc_pred, aes(x = SOC, y = .pred)) +\n",
        "  geom_point(alpha = 0.4) +\n",
        "  coord_obs_pred() +\n",
        "  labs(x = \"Observed\", y = \"Predicted\") +\n",
        "  geom_abline(linetype = \"dashed\") +\n",
        "  theme_lucid()"
      ],
      "metadata": {
        "colab": {
          "base_uri": "https://localhost:8080/",
          "height": 437
        },
        "id": "r1BLBT4vhqGb",
        "outputId": "6a87be07-8239-4e6d-ad0a-623623f73033"
      },
      "execution_count": 24,
      "outputs": [
        {
          "output_type": "display_data",
          "data": {
            "text/plain": [
              "plot without title"
            ],
            "image/png": "[encoded data removed]"
          },
          "metadata": {
            "image/png": {
              "width": 420,
              "height": 420
            }
          }
        }
      ]
    },
    {
      "cell_type": "markdown",
      "source": [
        "#### All candidate member models"
      ],
      "metadata": {
        "id": "EChcJ--phx-d"
      }
    },
    {
      "cell_type": "code",
      "source": [
        "member_preds <-\n",
        "  test %>%\n",
        "  select(SOC) %>%\n",
        "  bind_cols(\n",
        "    predict(\n",
        "      soc_stack,\n",
        "      test,\n",
        "      members = TRUE\n",
        "    )\n",
        "  )"
      ],
      "metadata": {
        "id": "CLgjGt6IhxGp"
      },
      "execution_count": 25,
      "outputs": []
    },
    {
      "cell_type": "markdown",
      "source": [
        "### Model Performances"
      ],
      "metadata": {
        "id": "eSb1g5k4iEoU"
      }
    },
    {
      "cell_type": "markdown",
      "source": [
        "#### RMSE"
      ],
      "metadata": {
        "id": "QDxc6eE2h_wV"
      }
    },
    {
      "cell_type": "code",
      "source": [
        "colnames(member_preds) %>%\n",
        "  map_dfr(\n",
        "    .f = rmse,\n",
        "    truth = SOC,\n",
        "    data = member_preds\n",
        "  ) %>%\n",
        "  mutate(member = colnames(member_preds))"
      ],
      "metadata": {
        "colab": {
          "base_uri": "https://localhost:8080/",
          "height": 412
        },
        "id": "alzonVXlh6fw",
        "outputId": "5cd3cba1-f031-43c9-e1c2-b383e03f293d"
      },
      "execution_count": 26,
      "outputs": [
        {
          "output_type": "display_data",
          "data": {
            "text/html": [
              "<table class=\"dataframe\">\n",
              "<caption>A tibble: 10 × 4</caption>\n",
              "<thead>\n",
              "\t<tr><th scope=col>.metric</th><th scope=col>.estimator</th><th scope=col>.estimate</th><th scope=col>member</th></tr>\n",
              "\t<tr><th scope=col>&lt;chr&gt;</th><th scope=col>&lt;chr&gt;</th><th scope=col>&lt;dbl&gt;</th><th scope=col>&lt;chr&gt;</th></tr>\n",
              "</thead>\n",
              "<tbody>\n",
              "\t<tr><td>rmse</td><td>standard</td><td>0.000000</td><td>SOC              </td></tr>\n",
              "\t<tr><td>rmse</td><td>standard</td><td>1.203960</td><td>.pred            </td></tr>\n",
              "\t<tr><td>rmse</td><td>standard</td><td>1.377167</td><td>rf_res_1_05      </td></tr>\n",
              "\t<tr><td>rmse</td><td>standard</td><td>4.933058</td><td>lightgbm_res_1_16</td></tr>\n",
              "\t<tr><td>rmse</td><td>standard</td><td>4.933064</td><td>lightgbm_res_1_07</td></tr>\n",
              "\t<tr><td>rmse</td><td>standard</td><td>4.933065</td><td>lightgbm_res_1_14</td></tr>\n",
              "\t<tr><td>rmse</td><td>standard</td><td>1.447072</td><td>cubist_res_1_03  </td></tr>\n",
              "\t<tr><td>rmse</td><td>standard</td><td>1.257495</td><td>cubist_res_1_15  </td></tr>\n",
              "\t<tr><td>rmse</td><td>standard</td><td>5.152214</td><td>svm_res_1_09     </td></tr>\n",
              "\t<tr><td>rmse</td><td>standard</td><td>4.238998</td><td>nnet_res_1_01    </td></tr>\n",
              "</tbody>\n",
              "</table>\n"
            ],
            "text/markdown": "\nA tibble: 10 × 4\n\n| .metric &lt;chr&gt; | .estimator &lt;chr&gt; | .estimate &lt;dbl&gt; | member &lt;chr&gt; |\n|---|---|---|---|\n| rmse | standard | 0.000000 | SOC               |\n| rmse | standard | 1.203960 | .pred             |\n| rmse | standard | 1.377167 | rf_res_1_05       |\n| rmse | standard | 4.933058 | lightgbm_res_1_16 |\n| rmse | standard | 4.933064 | lightgbm_res_1_07 |\n| rmse | standard | 4.933065 | lightgbm_res_1_14 |\n| rmse | standard | 1.447072 | cubist_res_1_03   |\n| rmse | standard | 1.257495 | cubist_res_1_15   |\n| rmse | standard | 5.152214 | svm_res_1_09      |\n| rmse | standard | 4.238998 | nnet_res_1_01     |\n\n",
            "text/latex": "A tibble: 10 × 4\n\\begin{tabular}{llll}\n .metric & .estimator & .estimate & member\\\\\n <chr> & <chr> & <dbl> & <chr>\\\\\n\\hline\n\t rmse & standard & 0.000000 & SOC              \\\\\n\t rmse & standard & 1.203960 & .pred            \\\\\n\t rmse & standard & 1.377167 & rf\\_res\\_1\\_05      \\\\\n\t rmse & standard & 4.933058 & lightgbm\\_res\\_1\\_16\\\\\n\t rmse & standard & 4.933064 & lightgbm\\_res\\_1\\_07\\\\\n\t rmse & standard & 4.933065 & lightgbm\\_res\\_1\\_14\\\\\n\t rmse & standard & 1.447072 & cubist\\_res\\_1\\_03  \\\\\n\t rmse & standard & 1.257495 & cubist\\_res\\_1\\_15  \\\\\n\t rmse & standard & 5.152214 & svm\\_res\\_1\\_09     \\\\\n\t rmse & standard & 4.238998 & nnet\\_res\\_1\\_01    \\\\\n\\end{tabular}\n",
            "text/plain": [
              "   .metric .estimator .estimate member           \n",
              "1  rmse    standard   0.000000  SOC              \n",
              "2  rmse    standard   1.203960  .pred            \n",
              "3  rmse    standard   1.377167  rf_res_1_05      \n",
              "4  rmse    standard   4.933058  lightgbm_res_1_16\n",
              "5  rmse    standard   4.933064  lightgbm_res_1_07\n",
              "6  rmse    standard   4.933065  lightgbm_res_1_14\n",
              "7  rmse    standard   1.447072  cubist_res_1_03  \n",
              "8  rmse    standard   1.257495  cubist_res_1_15  \n",
              "9  rmse    standard   5.152214  svm_res_1_09     \n",
              "10 rmse    standard   4.238998  nnet_res_1_01    "
            ]
          },
          "metadata": {}
        }
      ]
    },
    {
      "cell_type": "markdown",
      "source": [
        "#### R2"
      ],
      "metadata": {
        "id": "FbeLnCBtiNeg"
      }
    },
    {
      "cell_type": "code",
      "source": [
        "colnames(member_preds) %>%\n",
        "  map_dfr(\n",
        "    .f = rsq,\n",
        "    truth = SOC,\n",
        "    data = member_preds\n",
        "  ) %>%\n",
        "  mutate(member = colnames(member_preds))"
      ],
      "metadata": {
        "colab": {
          "base_uri": "https://localhost:8080/",
          "height": 412
        },
        "id": "8_dINOXGiNpS",
        "outputId": "aa221ca7-660a-4c43-8a24-f36f81e237f1"
      },
      "execution_count": 27,
      "outputs": [
        {
          "output_type": "display_data",
          "data": {
            "text/html": [
              "<table class=\"dataframe\">\n",
              "<caption>A tibble: 10 × 4</caption>\n",
              "<thead>\n",
              "\t<tr><th scope=col>.metric</th><th scope=col>.estimator</th><th scope=col>.estimate</th><th scope=col>member</th></tr>\n",
              "\t<tr><th scope=col>&lt;chr&gt;</th><th scope=col>&lt;chr&gt;</th><th scope=col>&lt;dbl&gt;</th><th scope=col>&lt;chr&gt;</th></tr>\n",
              "</thead>\n",
              "<tbody>\n",
              "\t<tr><td>rsq</td><td>standard</td><td>1.0000000</td><td>SOC              </td></tr>\n",
              "\t<tr><td>rsq</td><td>standard</td><td>0.9406209</td><td>.pred            </td></tr>\n",
              "\t<tr><td>rsq</td><td>standard</td><td>0.9269256</td><td>rf_res_1_05      </td></tr>\n",
              "\t<tr><td>rsq</td><td>standard</td><td>0.5411062</td><td>lightgbm_res_1_16</td></tr>\n",
              "\t<tr><td>rsq</td><td>standard</td><td>0.5032946</td><td>lightgbm_res_1_07</td></tr>\n",
              "\t<tr><td>rsq</td><td>standard</td><td>0.4839412</td><td>lightgbm_res_1_14</td></tr>\n",
              "\t<tr><td>rsq</td><td>standard</td><td>0.9162996</td><td>cubist_res_1_03  </td></tr>\n",
              "\t<tr><td>rsq</td><td>standard</td><td>0.9353263</td><td>cubist_res_1_15  </td></tr>\n",
              "\t<tr><td>rsq</td><td>standard</td><td>0.3795743</td><td>svm_res_1_09     </td></tr>\n",
              "\t<tr><td>rsq</td><td>standard</td><td>0.3977558</td><td>nnet_res_1_01    </td></tr>\n",
              "</tbody>\n",
              "</table>\n"
            ],
            "text/markdown": "\nA tibble: 10 × 4\n\n| .metric &lt;chr&gt; | .estimator &lt;chr&gt; | .estimate &lt;dbl&gt; | member &lt;chr&gt; |\n|---|---|---|---|\n| rsq | standard | 1.0000000 | SOC               |\n| rsq | standard | 0.9406209 | .pred             |\n| rsq | standard | 0.9269256 | rf_res_1_05       |\n| rsq | standard | 0.5411062 | lightgbm_res_1_16 |\n| rsq | standard | 0.5032946 | lightgbm_res_1_07 |\n| rsq | standard | 0.4839412 | lightgbm_res_1_14 |\n| rsq | standard | 0.9162996 | cubist_res_1_03   |\n| rsq | standard | 0.9353263 | cubist_res_1_15   |\n| rsq | standard | 0.3795743 | svm_res_1_09      |\n| rsq | standard | 0.3977558 | nnet_res_1_01     |\n\n",
            "text/latex": "A tibble: 10 × 4\n\\begin{tabular}{llll}\n .metric & .estimator & .estimate & member\\\\\n <chr> & <chr> & <dbl> & <chr>\\\\\n\\hline\n\t rsq & standard & 1.0000000 & SOC              \\\\\n\t rsq & standard & 0.9406209 & .pred            \\\\\n\t rsq & standard & 0.9269256 & rf\\_res\\_1\\_05      \\\\\n\t rsq & standard & 0.5411062 & lightgbm\\_res\\_1\\_16\\\\\n\t rsq & standard & 0.5032946 & lightgbm\\_res\\_1\\_07\\\\\n\t rsq & standard & 0.4839412 & lightgbm\\_res\\_1\\_14\\\\\n\t rsq & standard & 0.9162996 & cubist\\_res\\_1\\_03  \\\\\n\t rsq & standard & 0.9353263 & cubist\\_res\\_1\\_15  \\\\\n\t rsq & standard & 0.3795743 & svm\\_res\\_1\\_09     \\\\\n\t rsq & standard & 0.3977558 & nnet\\_res\\_1\\_01    \\\\\n\\end{tabular}\n",
            "text/plain": [
              "   .metric .estimator .estimate member           \n",
              "1  rsq     standard   1.0000000 SOC              \n",
              "2  rsq     standard   0.9406209 .pred            \n",
              "3  rsq     standard   0.9269256 rf_res_1_05      \n",
              "4  rsq     standard   0.5411062 lightgbm_res_1_16\n",
              "5  rsq     standard   0.5032946 lightgbm_res_1_07\n",
              "6  rsq     standard   0.4839412 lightgbm_res_1_14\n",
              "7  rsq     standard   0.9162996 cubist_res_1_03  \n",
              "8  rsq     standard   0.9353263 cubist_res_1_15  \n",
              "9  rsq     standard   0.3795743 svm_res_1_09     \n",
              "10 rsq     standard   0.3977558 nnet_res_1_01    "
            ]
          },
          "metadata": {}
        }
      ]
    }
  ]
}