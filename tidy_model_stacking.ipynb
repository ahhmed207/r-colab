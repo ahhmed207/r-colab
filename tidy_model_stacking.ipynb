{
  "nbformat": 4,
  "nbformat_minor": 0,
  "metadata": {
    "colab": {
      "provenance": [],
      "gpuType": "T4",
      "authorship_tag": "ABX9TyNeT3zKzFjnbFoSoZb0FrS0",
      "include_colab_link": true
    },
    "kernelspec": {
      "name": "ir",
      "display_name": "R"
    },
    "language_info": {
      "name": "R"
    },
    "accelerator": "GPU"
  },
  "cells": [
    {
      "cell_type": "markdown",
      "metadata": {
        "id": "view-in-github",
        "colab_type": "text"
      },
      "source": [
        "<a href=\"https://colab.research.google.com/github/zia207/r-colab/blob/main/tidy_model_stacking.ipynb\" target=\"_parent\"><img src=\"https://colab.research.google.com/assets/colab-badge.svg\" alt=\"Open In Colab\"/></a>"
      ]
    },
    {
      "cell_type": "markdown",
      "source": [
        "# Tidymodel Stacking with R\n",
        "\n",
        "Zia Ahmed, University at Buffalo"
      ],
      "metadata": {
        "id": "K0cwxtm0Qq4S"
      }
    },
    {
      "cell_type": "markdown",
      "source": [
        "[**stacks**](https://stacks.tidymodels.org/index.html) is an R package for model stacking that aligns with the tidy models. Model stacking is an ensembling method that combines the outputs of many models and combines them to generate a new model---an ensemble in this package that generates predictions informed by each of its members.\n",
        "\n",
        "The process goes something like this:\n",
        "\n",
        "1.  Define candidate ensemble members using functionality from [rsample](https://rsample.tidymodels.org/), [parsnip](https://parsnip.tidymodels.org/), [workflows](https://workflows.tidymodels.org/), [recipes](https://recipes.tidymodels.org/), and [tune](https://tune.tidymodels.org/).\n",
        "\n",
        "2.  Initialize a `data_stack` object with [`stacks()`](https://stacks.tidymodels.org/reference/stacks.html)\n",
        "\n",
        "3.  Iteratively add candidate ensemble members (base models) to the `data_stack` with [`add_candidates()`](https://stacks.tidymodels.org/reference/add_candidates.html)\n",
        "\n",
        "4.  Evaluate how to combine their predictions with [`blend_predictions()`](https://stacks.tidymodels.org/reference/blend_predictions.html)\n",
        "\n",
        "5.  Fit candidate ensemble members with non-zero stacking coefficients with [`fit_members()`](https://stacks.tidymodels.org/reference/fit_members.html)\n",
        "\n",
        "6.  Predict on new data with [`predict()`](https://rdrr.io/r/stats/predict.html)\n",
        "\n"
      ],
      "metadata": {
        "id": "TaHv1fXXRSFU"
      }
    },
    {
      "cell_type": "markdown",
      "source": [
        "### Install Packages"
      ],
      "metadata": {
        "id": "DsjzFUDIU9dj"
      }
    },
    {
      "cell_type": "code",
      "source": [
        "load_libs <- c(\"tidyverse\", \"googledrive\", \"tidymodels\",\"stacks\")\n",
        "\n",
        "install_libs <- load_libs[!load_libs %in% installed.packages()]\n",
        "for(libs in install_libs) install.packages(libs, dependences = TRUE)\n",
        "sapply(load_libs, require, character = TRUE)"
      ],
      "metadata": {
        "colab": {
          "base_uri": "https://localhost:8080/",
          "height": 173
        },
        "id": "oi4kzmlExtuV",
        "outputId": "7efa7648-efde-4435-8b30-776e40178b57"
      },
      "execution_count": 16,
      "outputs": [
        {
          "output_type": "stream",
          "name": "stderr",
          "text": [
            "Installing package into ‘/usr/local/lib/R/site-library’\n",
            "(as ‘lib’ is unspecified)\n",
            "\n",
            "also installing the dependencies ‘RcppEigen’, ‘glmnet’\n",
            "\n",
            "\n",
            "Loading required package: stacks\n",
            "\n"
          ]
        },
        {
          "output_type": "display_data",
          "data": {
            "text/html": [
              "<style>\n",
              ".dl-inline {width: auto; margin:0; padding: 0}\n",
              ".dl-inline>dt, .dl-inline>dd {float: none; width: auto; display: inline-block}\n",
              ".dl-inline>dt::after {content: \":\\0020\"; padding-right: .5ex}\n",
              ".dl-inline>dt:not(:first-of-type) {padding-left: .5ex}\n",
              "</style><dl class=dl-inline><dt>tidyverse</dt><dd>TRUE</dd><dt>googledrive</dt><dd>TRUE</dd><dt>tidymodels</dt><dd>TRUE</dd><dt>stacks</dt><dd>TRUE</dd></dl>\n"
            ],
            "text/markdown": "tidyverse\n:   TRUEgoogledrive\n:   TRUEtidymodels\n:   TRUEstacks\n:   TRUE\n\n",
            "text/latex": "\\begin{description*}\n\\item[tidyverse] TRUE\n\\item[googledrive] TRUE\n\\item[tidymodels] TRUE\n\\item[stacks] TRUE\n\\end{description*}\n",
            "text/plain": [
              "  tidyverse googledrive  tidymodels      stacks \n",
              "       TRUE        TRUE        TRUE        TRUE "
            ]
          },
          "metadata": {}
        }
      ]
    },
    {
      "cell_type": "markdown",
      "source": [
        "### Data"
      ],
      "metadata": {
        "id": "p3izCJsRWgsV"
      }
    },
    {
      "cell_type": "code",
      "source": [
        "#mf<-read_csv(\"/content/sample_data/gp_soil_data_syn.csv\")\n",
        "# define file from my github\n",
        "library(tidyverse)\n",
        "urlfile = \"https://github.com//zia207/r-colab/raw/main/Data/USA/gp_soil_data_syn.csv\"\n",
        "mf<-read_csv(url(urlfile))\n",
        "# Create a data-frame\n",
        "df<-mf %>% dplyr::select(SOC, DEM, Slope, TPI,MAT, MAP,NDVI, NLCD, FRG)%>%\n",
        "    glimpse()"
      ],
      "metadata": {
        "colab": {
          "base_uri": "https://localhost:8080/"
        },
        "id": "s7M8Cx-kWg7e",
        "outputId": "772ad55a-0ed7-4a8e-8a64-25a0e6fe59f6"
      },
      "execution_count": 17,
      "outputs": [
        {
          "output_type": "stream",
          "name": "stderr",
          "text": [
            "\u001b[1mRows: \u001b[22m\u001b[34m1408\u001b[39m \u001b[1mColumns: \u001b[22m\u001b[34m10\u001b[39m\n",
            "\u001b[36m──\u001b[39m \u001b[1mColumn specification\u001b[22m \u001b[36m────────────────────────────────────────────────────────\u001b[39m\n",
            "\u001b[1mDelimiter:\u001b[22m \",\"\n",
            "\u001b[31mchr\u001b[39m (2): NLCD, FRG\n",
            "\u001b[32mdbl\u001b[39m (8): ID, SOC, DEM, Slope, TPI, MAP, MAT, NDVI\n",
            "\n",
            "\u001b[36mℹ\u001b[39m Use `spec()` to retrieve the full column specification for this data.\n",
            "\u001b[36mℹ\u001b[39m Specify the column types or set `show_col_types = FALSE` to quiet this message.\n"
          ]
        },
        {
          "output_type": "stream",
          "name": "stdout",
          "text": [
            "Rows: 1,408\n",
            "Columns: 9\n",
            "$ SOC   \u001b[3m\u001b[90m<dbl>\u001b[39m\u001b[23m 1.900, 2.644, 0.800, 0.736, 15.641, 8.818, 3.782, 6.641, 4.803, …\n",
            "$ DEM   \u001b[3m\u001b[90m<dbl>\u001b[39m\u001b[23m 2825.1111, 2535.1086, 1716.3300, 1649.8933, 2675.3113, 2581.4839…\n",
            "$ Slope \u001b[3m\u001b[90m<dbl>\u001b[39m\u001b[23m 18.981682, 14.182393, 1.585145, 9.399726, 12.569353, 6.358553, 1…\n",
            "$ TPI   \u001b[3m\u001b[90m<dbl>\u001b[39m\u001b[23m -0.91606224, -0.15259802, -0.39078590, -2.54008722, 7.40076303, …\n",
            "$ MAT   \u001b[3m\u001b[90m<dbl>\u001b[39m\u001b[23m 4.709227, 4.648000, 6.360833, 10.265385, 2.798550, 6.358550, 7.0…\n",
            "$ MAP   \u001b[3m\u001b[90m<dbl>\u001b[39m\u001b[23m 613.6979, 597.7912, 201.5091, 298.2608, 827.4680, 679.1392, 508.…\n",
            "$ NDVI  \u001b[3m\u001b[90m<dbl>\u001b[39m\u001b[23m 0.6845260, 0.7557631, 0.2215059, 0.2785148, 0.7337426, 0.7017139…\n",
            "$ NLCD  \u001b[3m\u001b[90m<chr>\u001b[39m\u001b[23m \"Forest\", \"Forest\", \"Shrubland\", \"Shrubland\", \"Forest\", \"Forest\"…\n",
            "$ FRG   \u001b[3m\u001b[90m<chr>\u001b[39m\u001b[23m \"Fire Regime Group IV\", \"Fire Regime Group IV\", \"Fire Regime Gro…\n"
          ]
        }
      ]
    },
    {
      "cell_type": "markdown",
      "source": [
        "### Split data"
      ],
      "metadata": {
        "id": "1qN6w20RXDSE"
      }
    },
    {
      "cell_type": "code",
      "source": [
        "library(tidymodels)\n",
        "set.seed(1245)   # for reproducibility\n",
        "split <- rsample::initial_split(df, prop = 0.8, strata = SOC)\n",
        "train <- split %>% training()\n",
        "test <-  split %>% testing()\n",
        "\n",
        "# Set 10 fold cross-validation data set\n",
        "set.seed(136)\n",
        "cv_folds <- vfold_cv(train, v = 5)"
      ],
      "metadata": {
        "id": "tk9kNJpBXDeC"
      },
      "execution_count": 18,
      "outputs": []
    },
    {
      "cell_type": "markdown",
      "source": [
        "### The basic recipe used in all models"
      ],
      "metadata": {
        "id": "x679KKvhXHKL"
      }
    },
    {
      "cell_type": "code",
      "source": [
        "soc_rec <-\n",
        "  recipe(SOC ~ ., data = train) %>%\n",
        "  step_zv(all_predictors()) %>%\n",
        "  step_dummy(all_nominal()) %>%\n",
        "  step_normalize(all_numeric_predictors())"
      ],
      "metadata": {
        "id": "JV8owhGjXHUA"
      },
      "execution_count": 19,
      "outputs": []
    },
    {
      "cell_type": "markdown",
      "source": [
        "### Basic workflow"
      ],
      "metadata": {
        "id": "ilzhuT8MXT2c"
      }
    },
    {
      "cell_type": "code",
      "source": [
        "soc_wf <-\n",
        "  workflow() %>%\n",
        "  add_recipe(soc_rec)"
      ],
      "metadata": {
        "id": "vtWH9crpXUC3"
      },
      "execution_count": 20,
      "outputs": []
    },
    {
      "cell_type": "markdown",
      "source": [
        "### Control Rapper Function\n",
        "\n",
        "Supply these light wrappers as the control argument in a tune::tune_grid(), tune::tune_bayes(), or tune::fit_resamples() call to return the needed elements for use in a data stack. These functions will return the appropriate control grid to ensure that assessment set predictions and information on model specifications and preprocessors is supplied in the resampling results object!\n",
        "\n",
        "To integrate stack settings with your existing control settings, note that these functions call the appropriate ⁠tune::control_*⁠ function with the arguments ⁠save_pred = TRUE, save_workflow = TRUE⁠."
      ],
      "metadata": {
        "id": "AmvjMcbiXdag"
      }
    },
    {
      "cell_type": "code",
      "source": [
        "ctrl_grid <- control_stack_grid()\n",
        "ctrl_res <- control_stack_resamples()"
      ],
      "metadata": {
        "id": "cZnRjaiYXdj0"
      },
      "execution_count": 21,
      "outputs": []
    },
    {
      "cell_type": "markdown",
      "source": [
        "### Base-Models\n",
        "\n",
        "We will use five regression models to create a stacked ensemble model:"
      ],
      "metadata": {
        "id": "O0CHScssXm8p"
      }
    },
    {
      "cell_type": "markdown",
      "source": [
        "1. GLM - Regularization Regression\n",
        "\n",
        "Generalized Linear Models (GLMs) with regularization, often referred to as regularized regression, are extensions of the traditional linear regression that add regularization terms to the cost function. Regularization helps prevent overfitting and can improve the model's generalization performance by discouraging overly complex models.\n",
        "\n",
        "In traditional linear regression, the objective is to minimize the sum of squared errors (SSE) between the predicted values and the actual target values. However, in regularized regression, an additional penalty term is added to the cost function. There are two common types of regularization used in regularized regression:"
      ],
      "metadata": {
        "id": "nkSq2JadX1x_"
      }
    },
    {
      "cell_type": "code",
      "source": [
        "# Model Specification\n",
        "glm_spec <-\n",
        "  linear_reg(\n",
        "   penalty = tune(),\n",
        "   mixture=tune(),\n",
        "  ) %>%\n",
        "  set_mode(\"regression\") %>%\n",
        "  set_engine(\"glmnet\")\n",
        "\n",
        "# Workflow\n",
        "glm_wflow <-\n",
        "  soc_wf %>%\n",
        "  add_model(glm_spec)\n",
        "\n",
        "# Recipe\n",
        "set.seed(1)\n",
        "glm_res <-\n",
        "  tune_grid(\n",
        "    object = glm_wflow,\n",
        "    resamples = cv_folds,\n",
        "    grid = 20,\n",
        "    control = ctrl_grid\n",
        "  )"
      ],
      "metadata": {
        "id": "aqYiGjyRXnEw"
      },
      "execution_count": 22,
      "outputs": []
    },
    {
      "cell_type": "markdown",
      "source": [
        "2. Fandom Forest\n",
        "\n",
        "We will use the ranger package to build random forest models. ranger is a fast and efficient implementation of random forest algorithms, known for its speed and scalability. The tidymodels provides a comprehensive framework for building, tuning, and evaluating random forest model while following the principles of the tidyverse."
      ],
      "metadata": {
        "id": "YY1ak2POYHvA"
      }
    },
    {
      "cell_type": "code",
      "source": [
        "install.packages(\"ranger\")"
      ],
      "metadata": {
        "colab": {
          "base_uri": "https://localhost:8080/"
        },
        "id": "BrrlhgW8YTS7",
        "outputId": "2bd71f12-c892-460c-94e3-419c22f4819b"
      },
      "execution_count": 24,
      "outputs": [
        {
          "output_type": "stream",
          "name": "stderr",
          "text": [
            "Installing package into ‘/usr/local/lib/R/site-library’\n",
            "(as ‘lib’ is unspecified)\n",
            "\n"
          ]
        }
      ]
    },
    {
      "cell_type": "code",
      "source": [
        "# Model Specification\n",
        "rf_spec <-\n",
        "  rand_forest(\n",
        "    mtry = tune(),\n",
        "    min_n = tune(),\n",
        "    trees = 500\n",
        "  ) %>%\n",
        "  set_mode(\"regression\") %>%\n",
        "  set_engine(\"ranger\")\n",
        "\n",
        "# Workflow\n",
        "rf_wflow <-\n",
        "  soc_wf %>%\n",
        "  add_model(rf_spec)\n",
        "\n",
        "# Recipe\n",
        "set.seed(1)\n",
        "rf_res <-\n",
        "  tune_grid(\n",
        "    object = rf_wflow,\n",
        "    resamples = cv_folds,\n",
        "    grid = 20,\n",
        "    control = ctrl_grid\n",
        "  )"
      ],
      "metadata": {
        "colab": {
          "base_uri": "https://localhost:8080/"
        },
        "id": "izGTYFGCYN0X",
        "outputId": "8619b8af-2c69-421c-b87a-ddfe0ac30e0c"
      },
      "execution_count": 25,
      "outputs": [
        {
          "output_type": "stream",
          "name": "stderr",
          "text": [
            "\u001b[34mi\u001b[39m \u001b[30mCreating pre-processing data to finalize unknown parameter: mtry\u001b[39m\n",
            "\n"
          ]
        }
      ]
    },
    {
      "cell_type": "markdown",
      "source": [
        "3. Light GBM\n",
        "\n",
        "The tidymodels provides a comprehensive framework for building, tuning, and evaluating LightGBM model while following the principles of the tidyverse.\n",
        "\n",
        "Parsnip could not support an implementation for boost_tree regression model specifications using the lightgbm engine. The parsnip extension package \"bonsai\" implements support for this specification. We need to install it and load to continue."
      ],
      "metadata": {
        "id": "1a88OKv6ZMtm"
      }
    },
    {
      "cell_type": "code",
      "source": [
        "install.packages(\"lightgbm\")\n",
        "install.packages(\"bonsai\")\n"
      ],
      "metadata": {
        "colab": {
          "base_uri": "https://localhost:8080/"
        },
        "id": "3rrigSkMZM2g",
        "outputId": "1414819f-436d-493f-ae52-f1961445318a"
      },
      "execution_count": 26,
      "outputs": [
        {
          "output_type": "stream",
          "name": "stderr",
          "text": [
            "Installing package into ‘/usr/local/lib/R/site-library’\n",
            "(as ‘lib’ is unspecified)\n",
            "\n",
            "Installing package into ‘/usr/local/lib/R/site-library’\n",
            "(as ‘lib’ is unspecified)\n",
            "\n"
          ]
        }
      ]
    },
    {
      "cell_type": "code",
      "source": [
        "# Model Specification\n",
        "lightgbm_spec<-\n",
        "  boost_tree(\n",
        "    mtry = tune(),\n",
        "    trees = 500,\n",
        "    min_n = tune(),\n",
        "    tree_depth = tune(),\n",
        "    loss_reduction = tune(),\n",
        "    learn_rate = tune(),\n",
        "    sample_size = 0.75\n",
        "  ) %>%\n",
        "  set_mode(\"regression\") %>%\n",
        "  set_engine(\"lightgbm\")\n",
        "\n",
        "# Workflow\n",
        "library(bonsai)\n",
        "lightgbm_wflow <-\n",
        "  soc_wf %>%\n",
        "  add_model(lightgbm_spec)\n",
        "\n",
        "# Recipe\n",
        "set.seed(1)\n",
        "lightgbm_res <-\n",
        "  tune_grid(\n",
        "    object = lightgbm_wflow,\n",
        "    resamples = cv_folds,\n",
        "    grid = 20,\n",
        "    control = ctrl_grid\n",
        "  )"
      ],
      "metadata": {
        "colab": {
          "base_uri": "https://localhost:8080/"
        },
        "id": "3BNEt0ctZwgt",
        "outputId": "c6c52e95-a2b7-4db8-ffe0-ee072f330f25"
      },
      "execution_count": 27,
      "outputs": [
        {
          "output_type": "stream",
          "name": "stderr",
          "text": [
            "\u001b[34mi\u001b[39m \u001b[30mCreating pre-processing data to finalize unknown parameter: mtry\u001b[39m\n",
            "\n"
          ]
        }
      ]
    },
    {
      "cell_type": "markdown",
      "source": [
        "4. Cubist\n",
        "\n",
        "Cubist is a rule-based regression and classification model that combines decision trees with linear models to capture complex relationships in the data.\n",
        "\n",
        "**rules** is a **parsnip** extension package with model definitions for rule-based models, including:\n",
        "\n",
        "**cubist** models that have discrete rule sets that contain linear models with an ensemble method similar to boosting\n",
        "\n",
        "**classification rules** where a ruleset is derived from an initial tree fit\n",
        "\n",
        "**rule-fit** models that begin with rules extracted from a tree ensemble which are then added to a regularized linear or logistic regression."
      ],
      "metadata": {
        "id": "q1QDjrtpZmkn"
      }
    },
    {
      "cell_type": "code",
      "source": [
        "install.packages(\"rules\")\n",
        "install.packages(\"Cubist\")"
      ],
      "metadata": {
        "colab": {
          "base_uri": "https://localhost:8080/"
        },
        "id": "n0z_Cx-FZmuQ",
        "outputId": "3a92e5e2-add6-4ce8-f57e-fef9c1548046"
      },
      "execution_count": 28,
      "outputs": [
        {
          "output_type": "stream",
          "name": "stderr",
          "text": [
            "Installing package into ‘/usr/local/lib/R/site-library’\n",
            "(as ‘lib’ is unspecified)\n",
            "\n",
            "Installing package into ‘/usr/local/lib/R/site-library’\n",
            "(as ‘lib’ is unspecified)\n",
            "\n",
            "also installing the dependencies ‘plyr’, ‘reshape2’\n",
            "\n",
            "\n"
          ]
        }
      ]
    },
    {
      "cell_type": "code",
      "source": [
        "# Model Specification\n",
        "cubist_spec <-\n",
        "  cubist_rules(\n",
        "    committees = tune(),\n",
        "    neighbors = tune(),\n",
        "    max_rules = tune()\n",
        "  )\n",
        "\n",
        "# Workflow\n",
        "library(rules)\n",
        "cubist_wflow <-\n",
        "  soc_wf %>%\n",
        "  add_model(cubist_spec)\n",
        "\n",
        "# Recipe\n",
        "set.seed(1)\n",
        "cubist_res <-\n",
        "  tune_grid(\n",
        "    object = cubist_wflow,\n",
        "    resamples = cv_folds,\n",
        "    grid = 20,\n",
        "    control = ctrl_grid\n",
        "  )"
      ],
      "metadata": {
        "id": "w-0vvUpoZ0Mg",
        "colab": {
          "base_uri": "https://localhost:8080/"
        },
        "outputId": "68ec72b2-fbd2-4843-b819-18ffe9d2f99c"
      },
      "execution_count": 29,
      "outputs": [
        {
          "output_type": "stream",
          "name": "stderr",
          "text": [
            "\n",
            "Attaching package: ‘rules’\n",
            "\n",
            "\n",
            "The following object is masked from ‘package:dials’:\n",
            "\n",
            "    max_rules\n",
            "\n",
            "\n"
          ]
        }
      ]
    },
    {
      "cell_type": "markdown",
      "source": [
        "\n",
        "5. Support Vector Machine Regression\n",
        "\n",
        "A Support Vector Machine (SVM) is a powerful supervised learning algorithm used for classification and regression tasks. SVMs are particularly effective when working with high-dimensional data and can handle both linear and non-linear relationships between variables.\n",
        "\n",
        "The main idea behind SVM is to find an optimal hyperplane that separates data points of different classes with the largest possible margin. In other words, SVM tries to create a decision boundary that maximally separates the classes in the feature space. The data points that lie closest to the decision boundary are called support vectors."
      ],
      "metadata": {
        "id": "gp28y9e7aN2z"
      }
    },
    {
      "cell_type": "code",
      "source": [
        "install.packages(\"kernlab\")"
      ],
      "metadata": {
        "colab": {
          "base_uri": "https://localhost:8080/"
        },
        "id": "Y6juZVA4aOB6",
        "outputId": "3e8e1639-3790-413f-eff9-851b0704228d"
      },
      "execution_count": 30,
      "outputs": [
        {
          "output_type": "stream",
          "name": "stderr",
          "text": [
            "Installing package into ‘/usr/local/lib/R/site-library’\n",
            "(as ‘lib’ is unspecified)\n",
            "\n"
          ]
        }
      ]
    },
    {
      "cell_type": "code",
      "source": [
        "# Model Specification\n",
        "svm_spec <-\n",
        "  svm_rbf(\n",
        "    cost = tune(),\n",
        "    rbf_sigma = tune()\n",
        "  ) %>%\n",
        "  set_engine(\"kernlab\") %>%\n",
        "  set_mode(\"regression\")\n",
        "\n",
        "# add it to a workflow\n",
        "svm_wflow <-\n",
        "  soc_wf %>%\n",
        "  add_model(svm_spec)\n",
        "\n",
        "# tune cost and rbf_sigma and fit to the 5-fold cv\n",
        "set.seed(1)\n",
        "svm_res <-\n",
        "  tune_grid(\n",
        "    svm_wflow,\n",
        "    resamples = cv_folds,\n",
        "    grid = 20,\n",
        "    control = ctrl_grid\n",
        "  )"
      ],
      "metadata": {
        "id": "CloPavtVacRb"
      },
      "execution_count": 31,
      "outputs": []
    },
    {
      "cell_type": "markdown",
      "source": [
        "6. Neural Network\n",
        "\n",
        "A Neural Network (NN) is a type of artificial intelligence model inspired by the structure and functioning of the human brain. It is a powerful machine learning algorithm that can learn complex patterns and relationships in data to perform tasks such as classification, regression, pattern recognition, and more."
      ],
      "metadata": {
        "id": "vFWlyKDiacqa"
      }
    },
    {
      "cell_type": "code",
      "source": [
        "# Model Specification\n",
        "nnet_spec <-\n",
        "  mlp(\n",
        "    hidden_units = tune(),\n",
        "    penalty = tune(),\n",
        "    epochs = tune()\n",
        "  ) %>%\n",
        "  set_mode(\"regression\") %>%\n",
        "  set_engine(\"nnet\")\n",
        "\n",
        "nnet_wflow <-\n",
        "  soc_wf %>%\n",
        "  add_model(nnet_spec)\n",
        "\n",
        "nnet_res <-\n",
        "  tune_grid(\n",
        "    object = nnet_wflow,\n",
        "    resamples = cv_folds,\n",
        "    grid = 20,\n",
        "    control = ctrl_grid\n",
        "  )"
      ],
      "metadata": {
        "id": "EaG17isXczYD"
      },
      "execution_count": 36,
      "outputs": []
    },
    {
      "cell_type": "markdown",
      "source": [
        "### Fitting all base models\n",
        "\n",
        "We will use a simple function called **finalizer()** from [here](https://www.hfshr.xyz/posts/2020-11-30-model-stacking/) that selects the best model, updates the workflow, fits the final model with the best parameters and pulls out the metrics."
      ],
      "metadata": {
        "id": "4fQRcZgQf_83"
      }
    },
    {
      "cell_type": "code",
      "source": [
        "finalizer <- function(tuned, wkflow, split, model) {\n",
        "  best_mod <- tuned %>%\n",
        "    select_best(\"rmse\")\n",
        "\n",
        "  final_wf <- wkflow %>%\n",
        "    finalize_workflow(best_mod)\n",
        "\n",
        "  final_fit <-\n",
        "    final_wf %>%\n",
        "    last_fit(split)\n",
        "\n",
        "  final_fit %>%\n",
        "    collect_metrics() %>%\n",
        "    mutate(model = model)\n",
        "}"
      ],
      "metadata": {
        "id": "HZ_AVKWXgAED"
      },
      "execution_count": 37,
      "outputs": []
    },
    {
      "cell_type": "markdown",
      "source": [
        "We have fitted 100 models, 20 models for each type (glm, random forest, lightgbm,cubist, and neural net). We can do a quick check of how well each of these models performed using finalize() function:"
      ],
      "metadata": {
        "id": "SVqUKj6SgUXj"
      }
    },
    {
      "cell_type": "code",
      "source": [
        "bind_rows(\n",
        "  finalizer(glm_res, glm_wflow, split, \"glm\"),\n",
        "  finalizer(rf_res, rf_wflow, split, \"rf\"),\n",
        "  finalizer(lightgbm_res, lightgbm_wflow, split, \"lightgbm\"),\n",
        "  finalizer(cubist_res, cubist_wflow, split, \"cubist\"),\n",
        "  finalizer(svm_res, svm_wflow, split, \"svm\"),\n",
        "  finalizer(nnet_res, nnet_wflow, split, \"nnet\"),\n",
        ") %>%\n",
        "  select(model, .metric, .estimate) %>%\n",
        "  pivot_wider(names_from = .metric, values_from = .estimate) %>%\n",
        "  arrange(rmse)"
      ],
      "metadata": {
        "colab": {
          "base_uri": "https://localhost:8080/",
          "height": 286
        },
        "id": "NVKtHrqJgVhp",
        "outputId": "f37676ee-3740-4f58-b62b-3bafe068e744"
      },
      "execution_count": 38,
      "outputs": [
        {
          "output_type": "display_data",
          "data": {
            "text/html": [
              "<table class=\"dataframe\">\n",
              "<caption>A tibble: 6 × 3</caption>\n",
              "<thead>\n",
              "\t<tr><th scope=col>model</th><th scope=col>rmse</th><th scope=col>rsq</th></tr>\n",
              "\t<tr><th scope=col>&lt;chr&gt;</th><th scope=col>&lt;dbl&gt;</th><th scope=col>&lt;dbl&gt;</th></tr>\n",
              "</thead>\n",
              "<tbody>\n",
              "\t<tr><td>cubist  </td><td>1.234798</td><td>0.9383153</td></tr>\n",
              "\t<tr><td>rf      </td><td>1.354275</td><td>0.9291115</td></tr>\n",
              "\t<tr><td>lightgbm</td><td>2.805455</td><td>0.6838528</td></tr>\n",
              "\t<tr><td>svm     </td><td>3.354953</td><td>0.5473223</td></tr>\n",
              "\t<tr><td>nnet    </td><td>3.518807</td><td>0.5124617</td></tr>\n",
              "\t<tr><td>glm     </td><td>3.821363</td><td>0.4055985</td></tr>\n",
              "</tbody>\n",
              "</table>\n"
            ],
            "text/markdown": "\nA tibble: 6 × 3\n\n| model &lt;chr&gt; | rmse &lt;dbl&gt; | rsq &lt;dbl&gt; |\n|---|---|---|\n| cubist   | 1.234798 | 0.9383153 |\n| rf       | 1.354275 | 0.9291115 |\n| lightgbm | 2.805455 | 0.6838528 |\n| svm      | 3.354953 | 0.5473223 |\n| nnet     | 3.518807 | 0.5124617 |\n| glm      | 3.821363 | 0.4055985 |\n\n",
            "text/latex": "A tibble: 6 × 3\n\\begin{tabular}{lll}\n model & rmse & rsq\\\\\n <chr> & <dbl> & <dbl>\\\\\n\\hline\n\t cubist   & 1.234798 & 0.9383153\\\\\n\t rf       & 1.354275 & 0.9291115\\\\\n\t lightgbm & 2.805455 & 0.6838528\\\\\n\t svm      & 3.354953 & 0.5473223\\\\\n\t nnet     & 3.518807 & 0.5124617\\\\\n\t glm      & 3.821363 & 0.4055985\\\\\n\\end{tabular}\n",
            "text/plain": [
              "  model    rmse     rsq      \n",
              "1 cubist   1.234798 0.9383153\n",
              "2 rf       1.354275 0.9291115\n",
              "3 lightgbm 2.805455 0.6838528\n",
              "4 svm      3.354953 0.5473223\n",
              "5 nnet     3.518807 0.5124617\n",
              "6 glm      3.821363 0.4055985"
            ]
          },
          "metadata": {}
        }
      ]
    },
    {
      "cell_type": "markdown",
      "source": [
        "We can see that the cubist model has the best performance, followed by the rf."
      ],
      "metadata": {
        "id": "FYs8s3wygddd"
      }
    },
    {
      "cell_type": "markdown",
      "source": [
        "### Stack Ensemble Model\n",
        "\n",
        "First, we start by initialising the stack with `stacks()` then add each candidate model with `add_candidates()`. Next we evaluate the candidate models with `blend_predictions()`, before finally training the non-zero members on the training data with `fit_members()`."
      ],
      "metadata": {
        "id": "yxSukXQcgeUz"
      }
    },
    {
      "cell_type": "code",
      "source": [
        "soc_stack <-\n",
        "  # initialize the stack\n",
        "  stacks() %>%\n",
        "  # add each of the models\n",
        "  add_candidates(glm_res) %>%\n",
        "  add_candidates(rf_res) %>%\n",
        "  add_candidates(lightgbm_res) %>%\n",
        "  add_candidates(cubist_res) %>%\n",
        "  add_candidates(svm_res) %>%\n",
        "  add_candidates(nnet_res) %>%\n",
        "  blend_predictions(penalty = range(c(0.5, 5),levels=50, mixture = 0), metric = metric_set(rmse)) %>% # evaluate candidate models\n",
        "  fit_members() # fit non zero stacking coefficients"
      ],
      "metadata": {
        "id": "f0lXhcHugqNm"
      },
      "execution_count": 39,
      "outputs": []
    },
    {
      "cell_type": "code",
      "source": [
        "soc_stack"
      ],
      "metadata": {
        "colab": {
          "base_uri": "https://localhost:8080/",
          "height": 382
        },
        "id": "v9gHpa_EgtZ2",
        "outputId": "2da392f4-79e1-47ea-a83c-b1d7c1a0584d"
      },
      "execution_count": 40,
      "outputs": [
        {
          "output_type": "stream",
          "name": "stderr",
          "text": [
            "── A stacked ensemble model ─────────────────────────────────────\n",
            "\n",
            "\n",
            "Out of 120 possible candidate members, the ensemble retained 7.\n",
            "\n",
            "Penalty: \u001b[34m0\u001b[39m.\n",
            "\n",
            "Mixture: \u001b[34m1\u001b[39m.\n",
            "\n",
            "\n",
            "The 7 highest weighted members are:\n"
          ]
        },
        {
          "output_type": "display_data",
          "data": {
            "text/plain": [
              "\u001b[90m# A tibble: 7 × 3\u001b[39m\n",
              "  member            type          weight\n",
              "  \u001b[3m\u001b[90m<chr>\u001b[39m\u001b[23m             \u001b[3m\u001b[90m<chr>\u001b[39m\u001b[23m          \u001b[3m\u001b[90m<dbl>\u001b[39m\u001b[23m\n",
              "\u001b[90m1\u001b[39m svm_res_1_09      svm_rbf      0.558  \n",
              "\u001b[90m2\u001b[39m cubist_res_1_15   cubist_rules 0.435  \n",
              "\u001b[90m3\u001b[39m lightgbm_res_1_16 boost_tree   0.402  \n",
              "\u001b[90m4\u001b[39m rf_res_1_05       rand_forest  0.320  \n",
              "\u001b[90m5\u001b[39m cubist_res_1_03   cubist_rules 0.287  \n",
              "\u001b[90m6\u001b[39m lightgbm_res_1_07 boost_tree   0.111  \n",
              "\u001b[90m7\u001b[39m lightgbm_res_1_14 boost_tree   0.009\u001b[4m2\u001b[24m\u001b[4m9\u001b[24m"
            ]
          },
          "metadata": {}
        }
      ]
    },
    {
      "cell_type": "code",
      "source": [
        "install.packages(\"see\")\n",
        "library(see) # for nice theme\n",
        "autoplot(soc_stack, type = \"weights\") +\n",
        "  theme_lucid()"
      ],
      "metadata": {
        "colab": {
          "base_uri": "https://localhost:8080/",
          "height": 541
        },
        "id": "9sP-KCd8gyyr",
        "outputId": "4dcf1690-7a89-48b9-aa75-3edaceb46ce4"
      },
      "execution_count": 41,
      "outputs": [
        {
          "output_type": "stream",
          "name": "stderr",
          "text": [
            "Installing package into ‘/usr/local/lib/R/site-library’\n",
            "(as ‘lib’ is unspecified)\n",
            "\n",
            "also installing the dependencies ‘bayestestR’, ‘correlation’, ‘datawizard’, ‘effectsize’, ‘insight’, ‘modelbased’, ‘parameters’, ‘performance’\n",
            "\n",
            "\n"
          ]
        },
        {
          "output_type": "display_data",
          "data": {
            "text/plain": [
              "plot without title"
            ],
            "image/png": "[encoded data removed]"
          },
          "metadata": {
            "image/png": {
              "width": 420,
              "height": 420
            }
          }
        }
      ]
    },
    {
      "cell_type": "markdown",
      "source": [
        "### Prediction"
      ],
      "metadata": {
        "id": "uHnYp6vVg85Z"
      }
    },
    {
      "cell_type": "markdown",
      "source": [
        "### Stack Ensemble"
      ],
      "metadata": {
        "id": "QjBX5HvKhBT5"
      }
    },
    {
      "cell_type": "code",
      "source": [
        "reg_metrics <- metric_set(rmse, rsq)\n",
        "# get predictions with stack\n",
        "soc_pred <- predict(soc_stack, test) %>%\n",
        "  bind_cols(test)"
      ],
      "metadata": {
        "id": "0Tydssd3g8DZ"
      },
      "execution_count": 42,
      "outputs": []
    },
    {
      "cell_type": "code",
      "source": [
        "ggplot(soc_pred, aes(x = SOC, y = .pred)) +\n",
        "  geom_point(alpha = 0.4) +\n",
        "  coord_obs_pred() +\n",
        "  labs(x = \"Observed\", y = \"Predicted\") +\n",
        "  geom_abline(linetype = \"dashed\") +\n",
        "  theme_lucid()"
      ],
      "metadata": {
        "colab": {
          "base_uri": "https://localhost:8080/",
          "height": 437
        },
        "id": "r1BLBT4vhqGb",
        "outputId": "cb69507f-a99f-4b10-87f5-95d4c437e405"
      },
      "execution_count": 43,
      "outputs": [
        {
          "output_type": "display_data",
          "data": {
            "text/plain": [
              "plot without title"
            ],
            "image/png": "[encoded data removed]"
          },
          "metadata": {
            "image/png": {
              "width": 420,
              "height": 420
            }
          }
        }
      ]
    },
    {
      "cell_type": "markdown",
      "source": [
        "#### All candidate member models"
      ],
      "metadata": {
        "id": "EChcJ--phx-d"
      }
    },
    {
      "cell_type": "code",
      "source": [
        "member_preds <-\n",
        "  test %>%\n",
        "  select(SOC) %>%\n",
        "  bind_cols(\n",
        "    predict(\n",
        "      soc_stack,\n",
        "      test,\n",
        "      members = TRUE\n",
        "    )\n",
        "  )"
      ],
      "metadata": {
        "id": "CLgjGt6IhxGp"
      },
      "execution_count": 44,
      "outputs": []
    },
    {
      "cell_type": "markdown",
      "source": [
        "### Model Performances"
      ],
      "metadata": {
        "id": "eSb1g5k4iEoU"
      }
    },
    {
      "cell_type": "markdown",
      "source": [
        "#### RMSE"
      ],
      "metadata": {
        "id": "QDxc6eE2h_wV"
      }
    },
    {
      "cell_type": "code",
      "source": [
        "colnames(member_preds) %>%\n",
        "  map_dfr(\n",
        "    .f = rmse,\n",
        "    truth = SOC,\n",
        "    data = member_preds\n",
        "  ) %>%\n",
        "  mutate(member = colnames(member_preds))"
      ],
      "metadata": {
        "colab": {
          "base_uri": "https://localhost:8080/",
          "height": 380
        },
        "id": "alzonVXlh6fw",
        "outputId": "01400a93-0f52-4699-a087-15b13660e478"
      },
      "execution_count": 45,
      "outputs": [
        {
          "output_type": "display_data",
          "data": {
            "text/html": [
              "<table class=\"dataframe\">\n",
              "<caption>A tibble: 9 × 4</caption>\n",
              "<thead>\n",
              "\t<tr><th scope=col>.metric</th><th scope=col>.estimator</th><th scope=col>.estimate</th><th scope=col>member</th></tr>\n",
              "\t<tr><th scope=col>&lt;chr&gt;</th><th scope=col>&lt;chr&gt;</th><th scope=col>&lt;dbl&gt;</th><th scope=col>&lt;chr&gt;</th></tr>\n",
              "</thead>\n",
              "<tbody>\n",
              "\t<tr><td>rmse</td><td>standard</td><td>0.000000</td><td>SOC              </td></tr>\n",
              "\t<tr><td>rmse</td><td>standard</td><td>1.199469</td><td>.pred            </td></tr>\n",
              "\t<tr><td>rmse</td><td>standard</td><td>1.368566</td><td>rf_res_1_05      </td></tr>\n",
              "\t<tr><td>rmse</td><td>standard</td><td>4.933058</td><td>lightgbm_res_1_16</td></tr>\n",
              "\t<tr><td>rmse</td><td>standard</td><td>4.933064</td><td>lightgbm_res_1_07</td></tr>\n",
              "\t<tr><td>rmse</td><td>standard</td><td>4.933065</td><td>lightgbm_res_1_14</td></tr>\n",
              "\t<tr><td>rmse</td><td>standard</td><td>1.447072</td><td>cubist_res_1_03  </td></tr>\n",
              "\t<tr><td>rmse</td><td>standard</td><td>1.257495</td><td>cubist_res_1_15  </td></tr>\n",
              "\t<tr><td>rmse</td><td>standard</td><td>5.152214</td><td>svm_res_1_09     </td></tr>\n",
              "</tbody>\n",
              "</table>\n"
            ],
            "text/markdown": "\nA tibble: 9 × 4\n\n| .metric &lt;chr&gt; | .estimator &lt;chr&gt; | .estimate &lt;dbl&gt; | member &lt;chr&gt; |\n|---|---|---|---|\n| rmse | standard | 0.000000 | SOC               |\n| rmse | standard | 1.199469 | .pred             |\n| rmse | standard | 1.368566 | rf_res_1_05       |\n| rmse | standard | 4.933058 | lightgbm_res_1_16 |\n| rmse | standard | 4.933064 | lightgbm_res_1_07 |\n| rmse | standard | 4.933065 | lightgbm_res_1_14 |\n| rmse | standard | 1.447072 | cubist_res_1_03   |\n| rmse | standard | 1.257495 | cubist_res_1_15   |\n| rmse | standard | 5.152214 | svm_res_1_09      |\n\n",
            "text/latex": "A tibble: 9 × 4\n\\begin{tabular}{llll}\n .metric & .estimator & .estimate & member\\\\\n <chr> & <chr> & <dbl> & <chr>\\\\\n\\hline\n\t rmse & standard & 0.000000 & SOC              \\\\\n\t rmse & standard & 1.199469 & .pred            \\\\\n\t rmse & standard & 1.368566 & rf\\_res\\_1\\_05      \\\\\n\t rmse & standard & 4.933058 & lightgbm\\_res\\_1\\_16\\\\\n\t rmse & standard & 4.933064 & lightgbm\\_res\\_1\\_07\\\\\n\t rmse & standard & 4.933065 & lightgbm\\_res\\_1\\_14\\\\\n\t rmse & standard & 1.447072 & cubist\\_res\\_1\\_03  \\\\\n\t rmse & standard & 1.257495 & cubist\\_res\\_1\\_15  \\\\\n\t rmse & standard & 5.152214 & svm\\_res\\_1\\_09     \\\\\n\\end{tabular}\n",
            "text/plain": [
              "  .metric .estimator .estimate member           \n",
              "1 rmse    standard   0.000000  SOC              \n",
              "2 rmse    standard   1.199469  .pred            \n",
              "3 rmse    standard   1.368566  rf_res_1_05      \n",
              "4 rmse    standard   4.933058  lightgbm_res_1_16\n",
              "5 rmse    standard   4.933064  lightgbm_res_1_07\n",
              "6 rmse    standard   4.933065  lightgbm_res_1_14\n",
              "7 rmse    standard   1.447072  cubist_res_1_03  \n",
              "8 rmse    standard   1.257495  cubist_res_1_15  \n",
              "9 rmse    standard   5.152214  svm_res_1_09     "
            ]
          },
          "metadata": {}
        }
      ]
    },
    {
      "cell_type": "markdown",
      "source": [
        "#### R2"
      ],
      "metadata": {
        "id": "FbeLnCBtiNeg"
      }
    },
    {
      "cell_type": "code",
      "source": [
        "colnames(member_preds) %>%\n",
        "  map_dfr(\n",
        "    .f = rsq,\n",
        "    truth = SOC,\n",
        "    data = member_preds\n",
        "  ) %>%\n",
        "  mutate(member = colnames(member_preds))"
      ],
      "metadata": {
        "colab": {
          "base_uri": "https://localhost:8080/",
          "height": 380
        },
        "id": "8_dINOXGiNpS",
        "outputId": "95ecd85b-0f8d-4090-b0f3-150910b6b104"
      },
      "execution_count": 46,
      "outputs": [
        {
          "output_type": "display_data",
          "data": {
            "text/html": [
              "<table class=\"dataframe\">\n",
              "<caption>A tibble: 9 × 4</caption>\n",
              "<thead>\n",
              "\t<tr><th scope=col>.metric</th><th scope=col>.estimator</th><th scope=col>.estimate</th><th scope=col>member</th></tr>\n",
              "\t<tr><th scope=col>&lt;chr&gt;</th><th scope=col>&lt;chr&gt;</th><th scope=col>&lt;dbl&gt;</th><th scope=col>&lt;chr&gt;</th></tr>\n",
              "</thead>\n",
              "<tbody>\n",
              "\t<tr><td>rsq</td><td>standard</td><td>1.0000000</td><td>SOC              </td></tr>\n",
              "\t<tr><td>rsq</td><td>standard</td><td>0.9410609</td><td>.pred            </td></tr>\n",
              "\t<tr><td>rsq</td><td>standard</td><td>0.9274908</td><td>rf_res_1_05      </td></tr>\n",
              "\t<tr><td>rsq</td><td>standard</td><td>0.5442074</td><td>lightgbm_res_1_16</td></tr>\n",
              "\t<tr><td>rsq</td><td>standard</td><td>0.5044056</td><td>lightgbm_res_1_07</td></tr>\n",
              "\t<tr><td>rsq</td><td>standard</td><td>0.4862248</td><td>lightgbm_res_1_14</td></tr>\n",
              "\t<tr><td>rsq</td><td>standard</td><td>0.9162996</td><td>cubist_res_1_03  </td></tr>\n",
              "\t<tr><td>rsq</td><td>standard</td><td>0.9353263</td><td>cubist_res_1_15  </td></tr>\n",
              "\t<tr><td>rsq</td><td>standard</td><td>0.3795743</td><td>svm_res_1_09     </td></tr>\n",
              "</tbody>\n",
              "</table>\n"
            ],
            "text/markdown": "\nA tibble: 9 × 4\n\n| .metric &lt;chr&gt; | .estimator &lt;chr&gt; | .estimate &lt;dbl&gt; | member &lt;chr&gt; |\n|---|---|---|---|\n| rsq | standard | 1.0000000 | SOC               |\n| rsq | standard | 0.9410609 | .pred             |\n| rsq | standard | 0.9274908 | rf_res_1_05       |\n| rsq | standard | 0.5442074 | lightgbm_res_1_16 |\n| rsq | standard | 0.5044056 | lightgbm_res_1_07 |\n| rsq | standard | 0.4862248 | lightgbm_res_1_14 |\n| rsq | standard | 0.9162996 | cubist_res_1_03   |\n| rsq | standard | 0.9353263 | cubist_res_1_15   |\n| rsq | standard | 0.3795743 | svm_res_1_09      |\n\n",
            "text/latex": "A tibble: 9 × 4\n\\begin{tabular}{llll}\n .metric & .estimator & .estimate & member\\\\\n <chr> & <chr> & <dbl> & <chr>\\\\\n\\hline\n\t rsq & standard & 1.0000000 & SOC              \\\\\n\t rsq & standard & 0.9410609 & .pred            \\\\\n\t rsq & standard & 0.9274908 & rf\\_res\\_1\\_05      \\\\\n\t rsq & standard & 0.5442074 & lightgbm\\_res\\_1\\_16\\\\\n\t rsq & standard & 0.5044056 & lightgbm\\_res\\_1\\_07\\\\\n\t rsq & standard & 0.4862248 & lightgbm\\_res\\_1\\_14\\\\\n\t rsq & standard & 0.9162996 & cubist\\_res\\_1\\_03  \\\\\n\t rsq & standard & 0.9353263 & cubist\\_res\\_1\\_15  \\\\\n\t rsq & standard & 0.3795743 & svm\\_res\\_1\\_09     \\\\\n\\end{tabular}\n",
            "text/plain": [
              "  .metric .estimator .estimate member           \n",
              "1 rsq     standard   1.0000000 SOC              \n",
              "2 rsq     standard   0.9410609 .pred            \n",
              "3 rsq     standard   0.9274908 rf_res_1_05      \n",
              "4 rsq     standard   0.5442074 lightgbm_res_1_16\n",
              "5 rsq     standard   0.5044056 lightgbm_res_1_07\n",
              "6 rsq     standard   0.4862248 lightgbm_res_1_14\n",
              "7 rsq     standard   0.9162996 cubist_res_1_03  \n",
              "8 rsq     standard   0.9353263 cubist_res_1_15  \n",
              "9 rsq     standard   0.3795743 svm_res_1_09     "
            ]
          },
          "metadata": {}
        }
      ]
    }
  ]
}